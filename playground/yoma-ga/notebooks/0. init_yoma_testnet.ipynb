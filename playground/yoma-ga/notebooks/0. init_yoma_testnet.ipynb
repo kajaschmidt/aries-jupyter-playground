{
 "cells": [
  {
   "cell_type": "markdown",
   "id": "51255172",
   "metadata": {},
   "source": [
    "# Initialising Your Agent as an Issuing Authority\n",
    "\n",
    "This template walks you through the basic steps you need to take to configure your agent as an issuing authority on the Sovrin StagingNet. If using a different network you will need to update this template. The steps include:\n",
    "\n",
    "* Writing your DID to the Sovrin StagingNet\n",
    "* Accepting the Transaction Author Agreement\n",
    "* Authoring schema to the ledger\n",
    "* Authoring credential definitions for the schema this agent intends to issue\n",
    "* Persisting Identifiers for use throughout the playground.\n",
    "\n",
    "It is recommended that this initialisation notebook be run **once**. If you are following the default docker-compose services then your agents wallet storage will be persisted in a postgres database as long as you run `./manage stop` rather than `./manage down`. \n",
    "\n"
   ]
  },
  {
   "cell_type": "markdown",
   "id": "fe407773",
   "metadata": {},
   "source": [
    "### Imports"
   ]
  },
  {
   "cell_type": "code",
   "execution_count": 1,
   "id": "857c725a",
   "metadata": {},
   "outputs": [],
   "source": [
    "from aries_cloudcontroller import AriesAgentController\n",
    "import os\n",
    "from termcolor import colored"
   ]
  },
  {
   "cell_type": "markdown",
   "id": "df0bdf37",
   "metadata": {},
   "source": [
    "### Initialise the Agent Controller"
   ]
  },
  {
   "cell_type": "code",
   "execution_count": 2,
   "id": "4e687d65",
   "metadata": {},
   "outputs": [
    {
     "name": "stdout",
     "output_type": "stream",
     "text": [
      "Initialising a controller with admin api at http://yoma-ga-agent:3021 and an api key of adminApiKey\n"
     ]
    }
   ],
   "source": [
    "api_key = os.getenv(\"ACAPY_ADMIN_API_KEY\")\n",
    "admin_url = os.getenv(\"ADMIN_URL\")\n",
    "\n",
    "print(f\"Initialising a controller with admin api at {admin_url} and an api key of {api_key}\")\n",
    "agent_controller = AriesAgentController(admin_url,api_key)"
   ]
  },
  {
   "cell_type": "markdown",
   "id": "29efb04f",
   "metadata": {},
   "source": [
    "## Write DID to the Public Ledger\n",
    "\n",
    "Note: if defined a ACAPY_WALLET_SEED value for your agent then this function will return a DID, but this DID still needs to be written to the ledger. If you did not define a seed you will need to create a DID first."
   ]
  },
  {
   "cell_type": "code",
   "execution_count": 3,
   "id": "2838ed0d",
   "metadata": {},
   "outputs": [],
   "source": [
    "public_did_response = await agent_controller.wallet.get_public_did()"
   ]
  },
  {
   "cell_type": "code",
   "execution_count": 4,
   "id": "74adc2c2",
   "metadata": {},
   "outputs": [
    {
     "name": "stdout",
     "output_type": "stream",
     "text": [
      "public did set\n",
      "DID {'did': '4BwXwbtFg2nV2UnYeNbH4W', 'verkey': '2joKsR2CNMsNyGPsDT86uirUd36VQXPvWVFgwRddRewj', 'posture': 'public'}\n"
     ]
    }
   ],
   "source": [
    "import requests\n",
    "import json \n",
    "if public_did_response[\"result\"]:\n",
    "    print(\"public did set\")\n",
    "    did_obj = public_did_response[\"result\"]\n",
    "else:\n",
    "    create_did_response = await agent_controller.wallet.create_did()\n",
    "    did_obj = create_did_response['result']\n",
    "    # write new DID to Yoma Testnet\n",
    "    url = 'http://testnet.didx.xyz/register'\n",
    "\n",
    "    #payload sovrin stagingnet\n",
    "    # payload = {\"network\":\"stagingnet\",\"did\": did_obj[\"did\"],\"verkey\":did_obj[\"verkey\"],\"paymentaddr\":\"\"}\n",
    "\n",
    "    #payload yoma testnet from did\n",
    "    payload = {\"did\": did_obj[\"did\"], \"seed\": \"null\", \"verkey\": did_obj[\"verkey\"]}\n",
    "\n",
    "    #payload yoma testnet from seed\n",
    "    # payload = {\\\"seed\\\":\\\"${INDY_WALLET_SEED}\\\", \\\"role\\\":\\\"TRUST_ANCHOR\\\", \\\"alias\\\":\\\"${AGENT_NAME}\n",
    "\n",
    "    # \"curl -d '{\\\"seed\\\":\\\"${INDY_WALLET_SEED}\\\", \\\"role\\\":\\\"TRUST_ANCHOR\\\", \\\"alias\\\":\\\"${AGENT_NAME}\\\"}' -X POST ${LEDGER_URL}/register; \\\n",
    "\n",
    "    # Adding empty header as parameters are being sent in payload\n",
    "    headers = {}\n",
    "\n",
    "    r = requests.post(url, data=json.dumps(payload), headers=headers)\n",
    "    print(r.json())\n",
    "    print(\"DID\", did_obj)"
   ]
  },
  {
   "cell_type": "code",
   "execution_count": null,
   "id": "419b96d4",
   "metadata": {},
   "outputs": [],
   "source": [
    "# create_did_response = await agent_controller.wallet.create_did()\n",
    "# did_obj = create_did_response['result']\n",
    "# print(did_obj)"
   ]
  },
  {
   "cell_type": "code",
   "execution_count": null,
   "id": "0ddacb43",
   "metadata": {},
   "outputs": [],
   "source": []
  },
  {
   "cell_type": "markdown",
   "id": "9533188a",
   "metadata": {},
   "source": [
    "## Accept Transaction Author Agreement\n",
    "\n",
    "Although the Sovrin StagingNet is permissionless, before DID's have the authority to write to the ledger they must accept something called a transaction author agreement by signing it using the DID they have on the ledger.\n",
    "\n",
    "As a global public ledger, the Sovrin Ledger and all its participants are subject to privacy and data protection regulations such as the EU General Data Protection Regulation (GDPR). These regulations require that the participants be explicit about responsibilities for Personal Data.\n",
    "\n",
    "To clarify these responsibilities and provide protection for all parties, the Sovrin Governance Framework Working Group developed an agreement between Transaction Authors and the Sovrin Foundation. The TAA can be found at Sovrin.org. It ensures that users are aware of and consent to the fact that all data written to the Sovrin Ledger cannot be removed, even if the original author of the transaction requests its removal.\n",
    "\n",
    "The TAA outlines the policies that users must follow when interacting with the Sovrin Ledger. When a user’s client software is preparing a transaction for submission to the network, it must include a demonstration that the user had the opportunity to review the current TAA and accept it. This is done by including some additional fields in the ledger write transaction: \n",
    "\n",
    "* A hash of the agreement\n",
    "* A date when the agreement was accepted, and\n",
    "* A string indicating the user interaction that was followed to obtain the acceptance.\n",
    "\n",
    "The Indy client API used by Sovrin has been extended to allow users to review current and past agreements and to indicate acceptance through an approved user interaction pattern. - source: https://sovrin.org/preparing-for-the-sovrin-transaction-author-agreement/\n",
    "\n",
    "For more details on TAA please read more at the following links:\n",
    "* [Preparing for the Sovrin Transaction Author Agreement](https://sovrin.org/preparing-for-the-sovrin-transaction-author-agreement/)\n",
    "* [How the recent approval of the Sovrin Governance Framework v2 affects Transaction Authors\n",
    "](https://sovrin.org/how-the-recent-approval-of-the-sovrin-governance-framework-v2-affects-transaction-authors/)\n",
    "* [TAA v2](https://github.com/sovrin-foundation/sovrin/blob/master/TAA/TAA.md)\n",
    "* [TAA Acceptance Mechanism List (AML)](https://github.com/sovrin-foundation/sovrin/blob/master/TAA/AML.md)"
   ]
  },
  {
   "cell_type": "code",
   "execution_count": 5,
   "id": "1646bf7b",
   "metadata": {},
   "outputs": [
    {
     "name": "stdout",
     "output_type": "stream",
     "text": [
      "{'result': {'aml_record': {'aml': {'at_submission': 'The agreement was reviewed by the user and accepted at the time of submission of this transaction.', 'for_session': 'The agreement was reviewed by the user and accepted at some point in the user’s session prior to submission.', 'on_file': 'An authorized person accepted the agreement, and such acceptance is on file with the user’s organization.', 'product_eula': 'The agreement was included in the software product’s terms and conditions as part of a license to the end user.', 'service_agreement': 'The agreement was included in the terms and conditions the user accepted as part of contracting a service.', 'wallet_agreement': 'The agreement was reviewed by the user and this affirmation was persisted in the user’s wallet for use during submission.'}, 'amlContext': 'http://aml-context-descr', 'version': '1.0'}, 'taa_record': {'digest': '251e2c7f2fbd23cb2c70d9ef8e66d7bbc6a84ebafcb85f3d39b8f197b5041ee7', 'ratification_ts': 1597654073, 'text': 'TAA Goes *Here*\\n\\n- got it', 'version': '1.1'}, 'taa_required': True, 'taa_accepted': None}}\n"
     ]
    },
    {
     "data": {
      "text/plain": [
       "{}"
      ]
     },
     "execution_count": 5,
     "metadata": {},
     "output_type": "execute_result"
    }
   ],
   "source": [
    "taa_response = await agent_controller.ledger.get_taa()\n",
    "print(taa_response)\n",
    "TAA = taa_response['result']['taa_record']\n",
    "TAA['mechanism'] = \"service_agreement\"\n",
    "await agent_controller.ledger.accept_taa(TAA)"
   ]
  },
  {
   "cell_type": "markdown",
   "id": "35438bc8",
   "metadata": {},
   "source": [
    "## Assign Agent Public DID if Not Set\n",
    "\n",
    "Will only be ran if ACAPY_WALLET_SEED not initially set."
   ]
  },
  {
   "cell_type": "code",
   "execution_count": 6,
   "id": "80096267",
   "metadata": {},
   "outputs": [
    {
     "name": "stdout",
     "output_type": "stream",
     "text": [
      "Successfully intialised agent with Public DID :  4BwXwbtFg2nV2UnYeNbH4W\n"
     ]
    }
   ],
   "source": [
    "if did_obj[\"posture\"] != \"public\":\n",
    "    response = await agent_controller.wallet.assign_public_did(did_obj[\"did\"])\n",
    "print(\"Successfully intialised agent with Public DID : \", did_obj[\"did\"])"
   ]
  },
  {
   "cell_type": "markdown",
   "id": "718037f4",
   "metadata": {},
   "source": [
    "## Writing Schema\n",
    "\n",
    "Write as many schema to the ledger as you like. Be sure to store each schema_id, you will need these when it comes to authoring credential defintition transactions and issuing credentials against this schema.\n",
    "\n",
    "Uncomment and copy the below cell as many times as you need. Be sure to update any arugments surrounded by <> with your own details."
   ]
  },
  {
   "cell_type": "code",
   "execution_count": 8,
   "id": "de34d9fb",
   "metadata": {},
   "outputs": [],
   "source": [
    "# # Define you schema name - must be unique on the ledger\n",
    "# schema_name = \"Yoma Youth Member Badge\"\n",
    "# # Can version the schema if you wish to update it\n",
    "# schema_version = \"0.0.1\"\n",
    "# # Define any list of attributes you wish to include in your schema\n",
    "# attributes = [\"Organisation\", \"Firstname\", \"Surname\", \"Date\"]\n",
    "\n",
    "\n",
    "\n",
    "# response = await agent_controller.schema.write_schema(schema_name, attributes, schema_version)\n",
    "# schema_id = response[\"schema_id\"]"
   ]
  },
  {
   "cell_type": "code",
   "execution_count": 11,
   "id": "c6f116a3",
   "metadata": {},
   "outputs": [],
   "source": [
    "schema_id = \"4BwXwbtFg2nV2UnYeNbH4W:2:Yoma Youth Member Badge:0.0.1\""
   ]
  },
  {
   "cell_type": "markdown",
   "id": "027f99d9",
   "metadata": {},
   "source": [
    "## Writing Credential Definitions\n",
    "\n",
    "For all schema you intend to issue credentials against your agent must author a credential definition transaction to the public ledger. This specifies the public cryptographic material your agent will use to sign all credentials issued against a specific schema. \n",
    "\n",
    "Again uncomment and copy this cell as often as you need. Remebering to update the arguments in <> to specify your schema identifiers. Store each credential definition identifier in a unique variable."
   ]
  },
  {
   "cell_type": "code",
   "execution_count": 9,
   "id": "66c766f0",
   "metadata": {},
   "outputs": [],
   "source": [
    "# Tag and group specific credential definitions\n",
    "tag = \"default\"\n",
    "\n",
    "# Make Cred Def support revocation. Credentials issued using this definition will be able to be revoked.\n",
    "# Note: ACAPY_TAILS_SERVER_BASE_URL env var must be properly configured\n",
    "support_revocation = True\n",
    "\n",
    "cred_def_response = await agent_controller.definitions.write_cred_def(schema_id, tag, support_revocation)\n",
    "cred_def_id = cred_def_response[\"credential_definition_id\"]"
   ]
  },
  {
   "cell_type": "markdown",
   "id": "8b2dcd66",
   "metadata": {},
   "source": [
    "## Persist Identifiers for use throughout other business logic notebooks associated with this agent\n",
    "\n",
    "The schema_id and cred_def_id value pairs are required whenever issuing credentials, and also can be used to constrain acceptable proof requests. In a real application these values might be stored in environment variables or most likely in a database. For notebooks we have found it easier to store as string values in a cell and then load these values into the jupyter store so that they can be fetched across multiple notebooks.\n",
    "\n",
    "As such you are recommended to print out each of the schema and cred def identifiers used by your agent and copy them across to your **main** business logic notebook where you should store them in a variable and save them to the jupyter store. Remember, you should only be running this notebook once so having this logic in here will not be useful.\n"
   ]
  },
  {
   "cell_type": "code",
   "execution_count": 12,
   "id": "b0f0bd85",
   "metadata": {},
   "outputs": [
    {
     "name": "stdout",
     "output_type": "stream",
     "text": [
      "schema_id='4BwXwbtFg2nV2UnYeNbH4W:2:Yoma Youth Member Badge:0.0.1'\n",
      "cred_def_id='4BwXwbtFg2nV2UnYeNbH4W:3:CL:255:default'\n"
     ]
    }
   ],
   "source": [
    "print(f\"schema_id='{schema_id}'\")\n",
    "print(f\"cred_def_id='{cred_def_id}'\")"
   ]
  },
  {
   "cell_type": "markdown",
   "id": "b893ebd1",
   "metadata": {},
   "source": [
    "## Terminate Controller\n"
   ]
  },
  {
   "cell_type": "code",
   "execution_count": 13,
   "id": "1ceb2861",
   "metadata": {},
   "outputs": [],
   "source": [
    "await agent_controller.terminate()"
   ]
  },
  {
   "cell_type": "code",
   "execution_count": null,
   "id": "6be93170",
   "metadata": {},
   "outputs": [],
   "source": []
  }
 ],
 "metadata": {
  "kernelspec": {
   "display_name": "Python 3",
   "language": "python",
   "name": "python3"
  },
  "language_info": {
   "codemirror_mode": {
    "name": "ipython",
    "version": 3
   },
   "file_extension": ".py",
   "mimetype": "text/x-python",
   "name": "python",
   "nbconvert_exporter": "python",
   "pygments_lexer": "ipython3",
   "version": "3.7.6"
  }
 },
 "nbformat": 4,
 "nbformat_minor": 5
}
