{
 "cells": [
  {
   "cell_type": "markdown",
   "id": "bc6d426a",
   "metadata": {},
   "source": [
    "# ACA-Py & ACC-Py Basic Template\n",
    "\n",
    "## Copy this template into the root folder of your notebook workspace to get started"
   ]
  },
  {
   "cell_type": "markdown",
   "id": "8cd956c3",
   "metadata": {},
   "source": [
    "### Imports"
   ]
  },
  {
   "cell_type": "code",
   "execution_count": 2,
   "id": "ec104a70",
   "metadata": {},
   "outputs": [],
   "source": [
    "from aries_cloudcontroller import AriesAgentController\n",
    "import os\n",
    "import asyncio\n",
    "import nest_asyncio\n",
    "from termcolor import colored\n",
    "\n",
    "nest_asyncio.apply()"
   ]
  },
  {
   "cell_type": "markdown",
   "id": "2339e4a2",
   "metadata": {},
   "source": [
    "### Initialise the Agent Controller"
   ]
  },
  {
   "cell_type": "code",
   "execution_count": 3,
   "id": "92afdadd",
   "metadata": {},
   "outputs": [
    {
     "name": "stdout",
     "output_type": "stream",
     "text": [
      "Initialising a controller with admin api at http://yoma-ga-agent:3021 and an api key of adminApiKey\n"
     ]
    }
   ],
   "source": [
    "api_key = os.getenv(\"ACAPY_ADMIN_API_KEY\")\n",
    "admin_url = os.getenv(\"ADMIN_URL\")\n",
    "\n",
    "print(f\"Initialising a controller with admin api at {admin_url} and an api key of {api_key}\")\n",
    "agent_controller = AriesAgentController(admin_url,api_key)"
   ]
  },
  {
   "cell_type": "markdown",
   "id": "9ddbfe7c",
   "metadata": {},
   "source": [
    "### Start a Webhook Server"
   ]
  },
  {
   "cell_type": "code",
   "execution_count": 4,
   "id": "b6ffbcc0",
   "metadata": {},
   "outputs": [
    {
     "name": "stdout",
     "output_type": "stream",
     "text": [
      "Listening for webhooks from agent at http://0.0.0.0:3010\n"
     ]
    }
   ],
   "source": [
    "webhook_port = int(os.getenv(\"WEBHOOK_PORT\"))\n",
    "webhook_host = \"0.0.0.0\"\n",
    "\n",
    "await agent_controller.init_webhook_server(webhook_host, webhook_port)\n",
    "\n",
    "print(f\"Listening for webhooks from agent at http://{webhook_host}:{webhook_port}\")"
   ]
  },
  {
   "cell_type": "markdown",
   "id": "f0bd5fc9",
   "metadata": {},
   "source": [
    "## Store Issuing Schema and Cred Def Identifiers\n",
    "\n",
    "If you intend for this agent to issue credentials you should first initialise your agent as an issuer and author the relevant identifiers to the public ledger. The issuer_initialisation recipe notebook can be duplicated and used as a starting point.\n",
    "\n",
    "Once schema and cred def identifiers are created copy across and store in variables as illustrated in the cell below. Be sure to use unique names for each variable."
   ]
  },
  {
   "cell_type": "code",
   "execution_count": 5,
   "id": "19676b28",
   "metadata": {},
   "outputs": [],
   "source": [
    "# schema_id='5Q1Zz9foMeAA8Q7mrmzCfZ:2:Aries ACA ACC Jupyter Playground Demo Participation:0.0.1'\n",
    "# cred_def_id='5Q1Zz9foMeAA8Q7mrmzCfZ:3:CL:8:default'\n",
    "\n",
    "schema_id='4BwXwbtFg2nV2UnYeNbH4W:2:Yoma Youth Member Badge:0.0.1'\n",
    "cred_def_id='4BwXwbtFg2nV2UnYeNbH4W:3:CL:255:default'\n",
    "\n",
    "\n",
    "# %store schema_id\n",
    "# %store <cred_def_id>"
   ]
  },
  {
   "cell_type": "markdown",
   "id": "b569c448",
   "metadata": {},
   "source": [
    "## Create Multi-Use Invite\n",
    "\n",
    "Before you can issue a credential you must first establish a connection across which the credential will be issued to a holder. (see recipes/connection)"
   ]
  },
  {
   "cell_type": "code",
   "execution_count": 6,
   "id": "d7c086b8",
   "metadata": {},
   "outputs": [
    {
     "name": "stdout",
     "output_type": "stream",
     "text": [
      "opp6Lh4trQKjK1Aui87jbrF4D3ES3qJBErHFpjoAULE\n"
     ]
    }
   ],
   "source": [
    "# Alias for invited connection\n",
    "alias = \"Participant\"\n",
    "auto_accept = \"true\"\n",
    "# Use public DID?\n",
    "public = \"false\"\n",
    "# Should this invitation be usable by multiple invitees?\n",
    "multi_use = \"true\"\n",
    "\n",
    "multi_use_invite_response = await agent_controller.connections.create_invitation(alias, auto_accept, public, multi_use)\n",
    "# Is equivalent to above. Arguments are optionally\n",
    "# invitation_response = await agent_controller.connections.create_invitation()\n",
    "\n",
    "\n",
    "multi_use_invititation_key = multi_use_invite_response[\"invitation\"][\"recipientKeys\"][0]\n",
    "\n",
    "print(multi_use_invititation_key)"
   ]
  },
  {
   "cell_type": "code",
   "execution_count": 11,
   "id": "de8608eb",
   "metadata": {},
   "outputs": [
    {
     "name": "stdout",
     "output_type": "stream",
     "text": [
      "https://02fcb9c5e926.ngrok.io?c_i=eyJAdHlwZSI6ICJkaWQ6c292OkJ6Q2JzTlloTXJqSGlxWkRUVUFTSGc7c3BlYy9jb25uZWN0aW9ucy8xLjAvaW52aXRhdGlvbiIsICJAaWQiOiAiYmQyMjViMDAtOTU0My00NmMxLWFjOTMtNjRkNjNkMmRkZWE2IiwgInJlY2lwaWVudEtleXMiOiBbIm9wcDZMaDR0clFLaksxQXVpODdqYnJGNEQzRVMzcUpCRXJIRnBqb0FVTEUiXSwgImxhYmVsIjogIllPTUEgR0EiLCAic2VydmljZUVuZHBvaW50IjogImh0dHBzOi8vMDJmY2I5YzVlOTI2Lm5ncm9rLmlvIn0=\n"
     ]
    }
   ],
   "source": [
    "print(multi_use_invite_response[\"invitation_url\"])"
   ]
  },
  {
   "cell_type": "markdown",
   "id": "80480ffe",
   "metadata": {},
   "source": [
    "## Register Agent Event Listeners\n",
    "\n",
    "You can see some examples within the webhook_listeners recipe. Copy any relevant cells across and fill in additional logic as needed."
   ]
  },
  {
   "cell_type": "code",
   "execution_count": 7,
   "id": "fbf677a1",
   "metadata": {},
   "outputs": [
    {
     "name": "stdin",
     "output_type": "stream",
     "text": [
      "What is your name? Lohan\n",
      "What is your surname? Spies\n"
     ]
    }
   ],
   "source": [
    "Firstname = input(\"What is your name?\")\n",
    "Surname = input(\"What is your surname?\")"
   ]
  },
  {
   "cell_type": "code",
   "execution_count": 12,
   "id": "3a622c5a",
   "metadata": {},
   "outputs": [],
   "source": [
    "listeners = []"
   ]
  },
  {
   "cell_type": "code",
   "execution_count": 13,
   "id": "55e07343",
   "metadata": {},
   "outputs": [],
   "source": [
    "import time\n",
    "\n",
    "## YOUR LISTENERS HERE\n",
    "# Receive connection messages\n",
    "def connections_handler(payload):\n",
    "    state = payload['state']\n",
    "    connection_id = payload[\"connection_id\"]\n",
    "    their_role = payload[\"their_role\"]\n",
    "    routing_state = payload[\"routing_state\"]\n",
    "    \n",
    "    print(\"----------------------------------------------------------\")\n",
    "    print(\"Connection Webhook Event Received\")\n",
    "    print(\"Connection ID : \", connection_id)\n",
    "    print(\"State : \", state)\n",
    "    print(\"Routing State : \", routing_state)\n",
    "    print(\"Their Role : \", their_role)\n",
    "    print(\"----------------------------------------------------------\")\n",
    "    \n",
    "    print(payload)\n",
    "    loop = asyncio.get_event_loop()\n",
    "\n",
    "    if state == \"response\":\n",
    "        time.sleep(2)\n",
    "        loop.run_until_complete(agent_controller.messaging.trust_ping(connection_id))\n",
    "        \n",
    "    if state == \"active\":\n",
    "        # Your business logic\n",
    "        invitation_key = payload[\"invitation_key\"]\n",
    "        their_lablel = payload[\"their_label\"]\n",
    "        print(invitation_key)\n",
    "        if invitation_key == multi_use_invititation_key:\n",
    "            event_name = \"Yoma Youth Member Badge\"\n",
    "            issue_date= date.today().isoformat()\n",
    "            credential_attributes = [\n",
    "                {\"name\": \"Organisation\", \"value\": \"Yoma\"},\n",
    "                {\"name\": \"Firstname\", \"value\": Firstname},\n",
    "                {\"name\": \"Surname\", \"value\": Surname},\n",
    "                {\"name\": \"Date\", \"value\": issue_date}\n",
    "            ]\n",
    "            \n",
    "            # Do you want the ACA-Py instance to trace it's processes (for testing/timing analysis)\n",
    "            trace = False\n",
    "            comment = \"\"\n",
    "            # Remove credential record after issued?\n",
    "            auto_remove = True\n",
    "\n",
    "            # Change <schema_id> and <cred_def_id> to correct pair. Cred_def_id must identify a definition to which your agent has corresponding private issuing key.\n",
    "            loop.run_until_complete(agent_controller.issuer.send_credential(connection_id, schema_id, cred_def_id, credential_attributes, comment, auto_remove, trace))\n",
    "        print(colored(\"Connection ID: {0} is now active.\".format(connection_id), \"green\", attrs=[\"bold\"]))\n",
    "\n",
    "connection_listener = {\n",
    "    \"handler\": connections_handler,\n",
    "    \"topic\": \"connections\"\n",
    "}\n",
    "\n",
    "listeners.append(connection_listener)"
   ]
  },
  {
   "cell_type": "code",
   "execution_count": 14,
   "id": "294a97df",
   "metadata": {},
   "outputs": [],
   "source": [
    "from datetime import date\n",
    "\n",
    "def issuer_handler(payload):\n",
    "    connection_id = payload['connection_id']\n",
    "    exchange_id = payload['credential_exchange_id']\n",
    "    state = payload['state']\n",
    "    role = payload['role']\n",
    "    print(\"\\n---------------------------------------------------\\n\")\n",
    "    print(\"Handle Issue Credential Webhook\")\n",
    "    print(f\"Connection ID : {connection_id}\")\n",
    "    print(f\"Credential exchange ID : {exchange_id}\")\n",
    "    print(\"Agent Protocol Role : \", role)\n",
    "    print(\"Protocol State : \", state )\n",
    "    print(\"\\n---------------------------------------------------\\n\")\n",
    "    loop = asyncio.get_event_loop()\n",
    "    if state == \"proposal_received\":\n",
    "        print(f'Proposal Comment : {payload[\"credential_proposal_dict\"][\"comment\"]}')\n",
    "        proposed_cred_def_id = payload[\"credential_proposal_dict\"][\"cred_def_id\"]\n",
    "        proposed_schema_id = payload[\"credential_proposal_dict\"][\"schema_id\"]\n",
    "        \n",
    "        if proposed_cred_def_id == cred_def_id and proposed_schema_id == schema_id:\n",
    "            for attribute in payload[\"credential_proposal_dict\"][\"credential_proposal\"][\"attributes\"]:\n",
    "                if attribute[\"name\"] == \"Firstname\":\n",
    "                    participant = attribute[\"value\"]\n",
    "                elif attribute[\"name\"] == \"Surname\":\n",
    "                    description = attribute[\"value\"]\n",
    "                    description += \"\\n Thanks for being a valued Yoma member!\"\n",
    "\n",
    "\n",
    "            event_name = \"Yoma Youth Member Badge\"\n",
    "            issue_date= date.today().isoformat()\n",
    "            credential_attributes = [\n",
    "                {\"name\": \"Organisation\", \"value\": \"Yoma\"},\n",
    "                {\"name\": \"Firstname\", \"value\": Firstname},\n",
    "                {\"name\": \"Surname\", \"value\": Surname},\n",
    "                {\"name\": \"Date\", \"value\": issue_date}\n",
    "            ]\n",
    "\n",
    "            print(credential_attributes)\n",
    "\n",
    "            # Do you want the ACA-Py instance to trace it's processes (for testing/timing analysis)\n",
    "            trace = False\n",
    "            comment = \"\"\n",
    "            # Remove credential record after issued?\n",
    "            auto_remove = True\n",
    "\n",
    "            # Change <schema_id> and <cred_def_id> to correct pair. Cred_def_id must identify a definition to which your agent has corresponding private issuing key.\n",
    "            loop.run_until_complete(agent_controller.issuer.send_credential(connection_id, schema_id, cred_def_id, credential_attributes, comment, auto_remove, trace))\n",
    "        else:\n",
    "            explaination = \"You have not referenced the correct schema and credential definitions\"\n",
    "            loop.run_until_complete(agent_controller.issuer.send_problem_report(exchange_id, explaination))\n",
    "        \n",
    "    \n",
    "    elif state == \"offer_sent\":\n",
    "        proposal = payload[\"credential_proposal_dict\"]\n",
    "        attributes = proposal['credential_proposal']['attributes']\n",
    "\n",
    "        print(f\"Offering credential with attributes  : {attributes}\")\n",
    "        ## YOUR LOGIC HERE\n",
    "    elif state == \"request_received\":\n",
    "        print(\"Request for credential received\")\n",
    "        ## YOUR LOGIC HERE\n",
    "    elif state == \"credential_sent\":\n",
    "        print(\"Credential Sent\")\n",
    "        ## YOUR LOGIC HERE\n",
    "    \n",
    "issuer_listener = {\n",
    "    \"topic\": \"issue_credential\",\n",
    "    \"handler\": issuer_handler\n",
    "}\n",
    "\n",
    "listeners.append(issuer_listener)"
   ]
  },
  {
   "cell_type": "code",
   "execution_count": 15,
   "id": "f8d58735",
   "metadata": {},
   "outputs": [],
   "source": [
    "agent_controller.register_listeners(listeners)"
   ]
  },
  {
   "cell_type": "markdown",
   "id": "7b133cb0",
   "metadata": {},
   "source": [
    "## Share Invitation Object with External Agent"
   ]
  },
  {
   "cell_type": "code",
   "execution_count": 17,
   "id": "5c5ec2a5",
   "metadata": {},
   "outputs": [
    {
     "name": "stdout",
     "output_type": "stream",
     "text": [
      "{'@type': 'did:sov:BzCbsNYhMrjHiqZDTUASHg;spec/connections/1.0/invitation', '@id': 'bd225b00-9543-46c1-ac93-64d63d2ddea6', 'recipientKeys': ['opp6Lh4trQKjK1Aui87jbrF4D3ES3qJBErHFpjoAULE'], 'label': 'YOMA GA', 'serviceEndpoint': 'https://02fcb9c5e926.ngrok.io'}\n"
     ]
    }
   ],
   "source": [
    "invitation = multi_use_invite_response[\"invitation\"]\n",
    "## Copy this output\n",
    "print(invitation)"
   ]
  },
  {
   "cell_type": "markdown",
   "id": "a5a4ed85",
   "metadata": {},
   "source": [
    "## Display Invite as QR Code\n",
    "\n",
    "This is useful if you wish to issue a credential to a mobile wallet."
   ]
  },
  {
   "cell_type": "code",
   "execution_count": 18,
   "id": "e579574e",
   "metadata": {},
   "outputs": [
    {
     "data": {
      "image/png": "[encoded data removed]",
      "text/plain": [
       "<qrcode.image.pil.PilImage at 0x7f3ee8d5f550>"
      ]
     },
     "execution_count": 18,
     "metadata": {},
     "output_type": "execute_result"
    },
    {
     "name": "stdout",
     "output_type": "stream",
     "text": [
      "----------------------------------------------------------\n",
      "Connection Webhook Event Received\n",
      "Connection ID :  6deedd4b-c956-468a-9d98-c25a8c1e992c\n",
      "State :  invitation\n",
      "Routing State :  none\n",
      "Their Role :  invitee\n",
      "----------------------------------------------------------\n",
      "{'connection_id': '6deedd4b-c956-468a-9d98-c25a8c1e992c', 'updated_at': '2021-06-17 15:58:30.237941Z', 'rfc23_state': 'invitation-sent', 'routing_state': 'none', 'invitation_mode': 'once', 'created_at': '2021-06-17 15:58:30.237941Z', 'invitation_key': 'opp6Lh4trQKjK1Aui87jbrF4D3ES3qJBErHFpjoAULE', 'accept': 'auto', 'state': 'invitation', 'their_role': 'invitee', 'my_did': '6HdBjttLop2TmL1iZKVcbQ'}\n",
      "----------------------------------------------------------\n",
      "Connection Webhook Event Received\n",
      "Connection ID :  6deedd4b-c956-468a-9d98-c25a8c1e992c\n",
      "State :  request\n",
      "Routing State :  none\n",
      "Their Role :  invitee\n",
      "----------------------------------------------------------\n",
      "{'their_label': 'Lohan’s iPhone', 'connection_id': '6deedd4b-c956-468a-9d98-c25a8c1e992c', 'updated_at': '2021-06-17 15:58:30.262577Z', 'rfc23_state': 'request-received', 'routing_state': 'none', 'invitation_mode': 'once', 'created_at': '2021-06-17 15:58:30.237941Z', 'invitation_key': 'opp6Lh4trQKjK1Aui87jbrF4D3ES3qJBErHFpjoAULE', 'accept': 'auto', 'their_did': 'VXdpivUyRnP6de5VSwMVhG', 'state': 'request', 'their_role': 'invitee', 'my_did': '6HdBjttLop2TmL1iZKVcbQ'}\n",
      "----------------------------------------------------------\n",
      "Connection Webhook Event Received\n",
      "Connection ID :  6deedd4b-c956-468a-9d98-c25a8c1e992c\n",
      "State :  response\n",
      "Routing State :  none\n",
      "Their Role :  invitee\n",
      "----------------------------------------------------------\n",
      "{'their_label': 'Lohan’s iPhone', 'connection_id': '6deedd4b-c956-468a-9d98-c25a8c1e992c', 'updated_at': '2021-06-17 15:58:30.289037Z', 'rfc23_state': 'response-sent', 'routing_state': 'none', 'invitation_mode': 'once', 'created_at': '2021-06-17 15:58:30.237941Z', 'invitation_key': 'opp6Lh4trQKjK1Aui87jbrF4D3ES3qJBErHFpjoAULE', 'accept': 'auto', 'their_did': 'VXdpivUyRnP6de5VSwMVhG', 'state': 'response', 'their_role': 'invitee', 'my_did': '6HdBjttLop2TmL1iZKVcbQ'}\n",
      "----------------------------------------------------------\n",
      "Connection Webhook Event Received\n",
      "Connection ID :  6deedd4b-c956-468a-9d98-c25a8c1e992c\n",
      "State :  active\n",
      "Routing State :  none\n",
      "Their Role :  invitee\n",
      "----------------------------------------------------------\n",
      "{'their_label': 'Lohan’s iPhone', 'connection_id': '6deedd4b-c956-468a-9d98-c25a8c1e992c', 'updated_at': '2021-06-17 15:58:34.609289Z', 'rfc23_state': 'completed', 'routing_state': 'none', 'invitation_mode': 'once', 'created_at': '2021-06-17 15:58:30.237941Z', 'invitation_key': 'opp6Lh4trQKjK1Aui87jbrF4D3ES3qJBErHFpjoAULE', 'accept': 'auto', 'their_did': 'VXdpivUyRnP6de5VSwMVhG', 'state': 'active', 'their_role': 'invitee', 'my_did': '6HdBjttLop2TmL1iZKVcbQ'}\n",
      "opp6Lh4trQKjK1Aui87jbrF4D3ES3qJBErHFpjoAULE\n",
      "\n",
      "---------------------------------------------------\n",
      "\n",
      "Handle Issue Credential Webhook\n",
      "Connection ID : 6deedd4b-c956-468a-9d98-c25a8c1e992c\n",
      "Credential exchange ID : 898a1ffe-9957-4783-8d96-9b8790693b9c\n",
      "Agent Protocol Role :  issuer\n",
      "Protocol State :  offer_sent\n",
      "\n",
      "---------------------------------------------------\n",
      "\n",
      "Offering credential with attributes  : [{'name': 'Organisation', 'value': 'Yoma'}, {'name': 'Firstname', 'value': 'Lohan'}, {'name': 'Surname', 'value': 'Spies'}, {'name': 'Date', 'value': '2021-06-17'}]\n",
      "\u001b[1m\u001b[32mConnection ID: 6deedd4b-c956-468a-9d98-c25a8c1e992c is now active.\u001b[0m\n",
      "\n",
      "---------------------------------------------------\n",
      "\n",
      "Handle Issue Credential Webhook\n",
      "Connection ID : 6deedd4b-c956-468a-9d98-c25a8c1e992c\n",
      "Credential exchange ID : 898a1ffe-9957-4783-8d96-9b8790693b9c\n",
      "Agent Protocol Role :  issuer\n",
      "Protocol State :  request_received\n",
      "\n",
      "---------------------------------------------------\n",
      "\n",
      "Request for credential received\n",
      "\n",
      "---------------------------------------------------\n",
      "\n",
      "Handle Issue Credential Webhook\n",
      "Connection ID : 6deedd4b-c956-468a-9d98-c25a8c1e992c\n",
      "Credential exchange ID : 898a1ffe-9957-4783-8d96-9b8790693b9c\n",
      "Agent Protocol Role :  issuer\n",
      "Protocol State :  credential_issued\n",
      "\n",
      "---------------------------------------------------\n",
      "\n"
     ]
    }
   ],
   "source": [
    "import qrcode\n",
    "# Link for connection invitation\n",
    "invitation_url = multi_use_invite_response[\"invitation_url\"]\n",
    "# Creating an instance of qrcode\n",
    "qr = qrcode.QRCode(\n",
    "        version=1,\n",
    "        box_size=5,\n",
    "        border=5)\n",
    "qr.add_data(invitation_url)\n",
    "qr.make(fit=True)\n",
    "img = qr.make_image(fill='black', back_color='white')\n",
    "img"
   ]
  },
  {
   "cell_type": "markdown",
   "id": "c64cffed",
   "metadata": {},
   "source": [
    "## Terminate Controller\n",
    "\n",
    "Whenever you have finished with this notebook, be sure to terminate the controller. This is especially important if your business logic runs across multiple notebooks."
   ]
  },
  {
   "cell_type": "code",
   "execution_count": 14,
   "id": "07638723",
   "metadata": {},
   "outputs": [],
   "source": [
    "await agent_controller.terminate()"
   ]
  },
  {
   "cell_type": "code",
   "execution_count": null,
   "id": "ae4d530b",
   "metadata": {},
   "outputs": [],
   "source": []
  }
 ],
 "metadata": {
  "kernelspec": {
   "display_name": "Python 3",
   "language": "python",
   "name": "python3"
  },
  "language_info": {
   "codemirror_mode": {
    "name": "ipython",
    "version": 3
   },
   "file_extension": ".py",
   "mimetype": "text/x-python",
   "name": "python",
   "nbconvert_exporter": "python",
   "pygments_lexer": "ipython3",
   "version": "3.7.6"
  }
 },
 "nbformat": 4,
 "nbformat_minor": 5
}
