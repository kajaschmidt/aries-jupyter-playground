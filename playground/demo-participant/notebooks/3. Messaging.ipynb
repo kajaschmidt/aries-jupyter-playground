{
 "cells": [
  {
   "cell_type": "markdown",
   "id": "c39a5507",
   "metadata": {},
   "source": [
    "# Messaging\n"
   ]
  },
  {
   "cell_type": "markdown",
   "id": "153a5cf7",
   "metadata": {},
   "source": [
    "### Imports"
   ]
  },
  {
   "cell_type": "code",
   "execution_count": 1,
   "id": "107c9303",
   "metadata": {},
   "outputs": [],
   "source": [
    "from aries_cloudcontroller import AriesAgentController\n",
    "import os\n",
    "from termcolor import colored\n",
    "import asyncio\n",
    "\n",
    "\n",
    "from libs.messaging_service import MessagingService"
   ]
  },
  {
   "cell_type": "markdown",
   "id": "4d05ff86",
   "metadata": {},
   "source": [
    "### Initialise the Agent Controller"
   ]
  },
  {
   "cell_type": "code",
   "execution_count": 2,
   "id": "cca27d7f",
   "metadata": {},
   "outputs": [
    {
     "name": "stdout",
     "output_type": "stream",
     "text": [
      "Initialising a controller with admin api at http://demo-participant-agent:3021 and an api key of adminApiKey\n"
     ]
    }
   ],
   "source": [
    "api_key = os.getenv(\"ACAPY_ADMIN_API_KEY\")\n",
    "admin_url = os.getenv(\"ADMIN_URL\")\n",
    "\n",
    "print(f\"Initialising a controller with admin api at {admin_url} and an api key of {api_key}\")\n",
    "agent_controller = AriesAgentController(admin_url,api_key)"
   ]
  },
  {
   "cell_type": "markdown",
   "id": "7e269194",
   "metadata": {},
   "source": [
    "### Start a Webhook Server"
   ]
  },
  {
   "cell_type": "code",
   "execution_count": 3,
   "id": "7ca7a019",
   "metadata": {},
   "outputs": [
    {
     "name": "stdout",
     "output_type": "stream",
     "text": [
      "Listening for webhooks from agent at http://0.0.0.0:3010\n"
     ]
    }
   ],
   "source": [
    "webhook_port = int(os.getenv(\"WEBHOOK_PORT\"))\n",
    "webhook_host = \"0.0.0.0\"\n",
    "\n",
    "await agent_controller.init_webhook_server(webhook_host, webhook_port)\n",
    "\n",
    "print(f\"Listening for webhooks from agent at http://{webhook_host}:{webhook_port}\")"
   ]
  },
  {
   "cell_type": "markdown",
   "id": "ed461a67",
   "metadata": {},
   "source": [
    "## Instatiate Messaging Service"
   ]
  },
  {
   "cell_type": "code",
   "execution_count": 4,
   "id": "86df0c6d",
   "metadata": {},
   "outputs": [],
   "source": [
    "messaging_service = MessagingService(agent_controller)"
   ]
  },
  {
   "cell_type": "markdown",
   "id": "b28e97fb",
   "metadata": {},
   "source": [
    "## Optional - Configure a Default Mediator (You only need to do this Once)\n",
    "\n",
    "We have hosted an ACA agent in open mediation mode. Accept this connection and request mediation from it and it should grant your request. If you set this as your default mediation all future invites will have serviceEndpoints pointing to this agent which will then forward messages on to your endpoint."
   ]
  },
  {
   "cell_type": "code",
   "execution_count": 16,
   "id": "4897f5ce",
   "metadata": {},
   "outputs": [
    {
     "data": {
      "text/plain": [
       "{'mediator_terms': [],\n",
       " 'endpoint': 'http://139.162.224.50:6666',\n",
       " 'recipient_terms': [],\n",
       " 'state': 'granted',\n",
       " 'updated_at': '2021-06-08 07:35:54.139601Z',\n",
       " 'created_at': '2021-06-08 07:35:53.645188Z',\n",
       " 'mediation_id': 'b5ffd5f3-f846-43a9-a7dd-98b610fbccf8',\n",
       " 'role': 'client',\n",
       " 'connection_id': '930dd81d-afc4-45d0-a6da-e231ac3d9b78',\n",
       " 'routing_keys': ['BQKTbHwJap7Su9ZtkBJgqnHEAQt4ysjygBkAEjEngMfp']}"
      ]
     },
     "execution_count": 16,
     "metadata": {},
     "output_type": "execute_result"
    }
   ],
   "source": [
    "## If this returns a mediator then you do not need to run this again.\n",
    "await agent_controller.mediation.get_default_mediator()"
   ]
  },
  {
   "cell_type": "code",
   "execution_count": 9,
   "id": "3a7fcbad",
   "metadata": {},
   "outputs": [],
   "source": [
    "mediator_invite = {'@type': 'did:sov:BzCbsNYhMrjHiqZDTUASHg;spec/connections/1.0/invitation', '@id': 'bb47c3ea-ab9a-4ef4-984d-409cb4909956', 'recipientKeys': ['HkwRkbCGEXn4LviXNen5f8kqQ1WxVRpQQGxaQG7PuSZD'], 'serviceEndpoint': 'http://139.162.224.50:6666', 'label': 'HGF_ACA_Playground_Mediator'}"
   ]
  },
  {
   "cell_type": "code",
   "execution_count": 10,
   "id": "fa136735",
   "metadata": {},
   "outputs": [],
   "source": [
    "invitation_response = await agent_controller.connections.receive_invitation(mediator_invite)"
   ]
  },
  {
   "cell_type": "code",
   "execution_count": 13,
   "id": "d1411c9f",
   "metadata": {},
   "outputs": [],
   "source": [
    "connection_id = invitation_response[\"connection_id\"]\n",
    "### check state of connection\n",
    "connection = await agent_controller.connections.get_connection(connection_id)\n",
    "\n",
    "# Let's check for the state\n",
    "if connection['state'] != 'active':\n",
    "    print(\"No active connection. \\n Please go back and ensure you have established an active connection\")    \n",
    "else:\n",
    "    ## request mediation\n",
    "    mediation_req = await agent_controller.mediation.request_mediation(connection_id)\n",
    "    "
   ]
  },
  {
   "cell_type": "code",
   "execution_count": 14,
   "id": "8845d66e",
   "metadata": {},
   "outputs": [
    {
     "name": "stdout",
     "output_type": "stream",
     "text": [
      "State : granted\n"
     ]
    }
   ],
   "source": [
    "### To have a look at the mediation records and we should see our mediation in there\n",
    "records_response = await agent_controller.mediation.get_mediation_record_by_id(mediation_req[\"mediation_id\"])\n",
    "print(f\"State : {records_response['state']}\")"
   ]
  },
  {
   "cell_type": "code",
   "execution_count": 15,
   "id": "2d1f486d",
   "metadata": {},
   "outputs": [
    {
     "name": "stdout",
     "output_type": "stream",
     "text": [
      "{'mediator_terms': [], 'endpoint': 'http://139.162.224.50:6666', 'recipient_terms': [], 'state': 'granted', 'updated_at': '2021-06-08 07:35:54.139601Z', 'created_at': '2021-06-08 07:35:53.645188Z', 'mediation_id': 'b5ffd5f3-f846-43a9-a7dd-98b610fbccf8', 'role': 'client', 'connection_id': '930dd81d-afc4-45d0-a6da-e231ac3d9b78', 'routing_keys': ['BQKTbHwJap7Su9ZtkBJgqnHEAQt4ysjygBkAEjEngMfp']}\n"
     ]
    }
   ],
   "source": [
    "default_mediation_res = await agent_controller.mediation.set_default_mediator(records_response['mediation_id'])\n",
    "print(default_mediation_res)"
   ]
  },
  {
   "cell_type": "markdown",
   "id": "4cd6b4cb",
   "metadata": {},
   "source": [
    "## Load Contacts from File\n",
    "\n",
    "You will need to have saved them to file first. This is how you can persist state.\n",
    "\n",
    "If you want to message these contacts you just loaded you will need to access their connection id's. Probably the easiest way is to just copy them.\n",
    "\n"
   ]
  },
  {
   "cell_type": "code",
   "execution_count": null,
   "id": "fd8a2f6d",
   "metadata": {},
   "outputs": [],
   "source": [
    "messaging_service.load_from_file()"
   ]
  },
  {
   "cell_type": "markdown",
   "id": "3553a1f4",
   "metadata": {},
   "source": [
    "## Add Contact"
   ]
  },
  {
   "cell_type": "markdown",
   "id": "fb2795a0",
   "metadata": {},
   "source": [
    "### Either from Invitation Shared"
   ]
  },
  {
   "cell_type": "code",
   "execution_count": 32,
   "id": "02b95f97",
   "metadata": {},
   "outputs": [],
   "source": [
    "invitation = {\"@type\": \"did:sov:BzCbsNYhMrjHiqZDTUASHg;spec/connections/1.0/invitation\", \"@id\": \"77eb2de5-f588-4c56-a3a8-40d6dd36fcdb\", \"label\": \"Hyperledger Global Forum\", \"serviceEndpoint\": \"https://073df57eb62d.ngrok.io\", \"recipientKeys\": [\"5xzLTBet1fXQR8Vmdyt4VtiSE7CxVLpjWsXVJJXa7HUY\"]}\n"
   ]
  },
  {
   "cell_type": "code",
   "execution_count": 33,
   "id": "1eda03a3",
   "metadata": {},
   "outputs": [
    {
     "name": "stdout",
     "output_type": "stream",
     "text": [
      "Contact with ID dbc1b539-5d6e-4a73-9eb8-e758f2b7d6ff and alias HLGF added\n",
      "\u001b[1m\u001b[32mConnection with ID: dbc1b539-5d6e-4a73-9eb8-e758f2b7d6ff is now active.\u001b[0m\n",
      "Contact HLGF Added\n"
     ]
    }
   ],
   "source": [
    "new_contact_id = messaging_service.accept_contact_invitation(invitation, \"HLGF\")"
   ]
  },
  {
   "cell_type": "markdown",
   "id": "4f53f995",
   "metadata": {},
   "source": [
    "### Or by Creating and Sharing an Invite"
   ]
  },
  {
   "cell_type": "code",
   "execution_count": 17,
   "id": "113c7e7b",
   "metadata": {},
   "outputs": [
    {
     "name": "stdout",
     "output_type": "stream",
     "text": [
      "Contact with ID 638257e4-3241-4d72-a51c-c376a0f87a5b and alias HLGF added\n",
      "----------------------------------------------------------------------------------------------------\n",
      "\n",
      "Share this invite object with another entity you wish to add as a contact under alias HLGF\n",
      "\n",
      "{\"@type\": \"did:sov:BzCbsNYhMrjHiqZDTUASHg;spec/connections/1.0/invitation\", \"@id\": \"79690dce-73e8-40fe-943d-212771bfce94\", \"recipientKeys\": [\"GjM12SGxGiyN4TJ3XLda8AjNUPSxsS8byDnfN4Uvpv5H\"], \"serviceEndpoint\": \"http://139.162.224.50:6666\", \"routingKeys\": [\"BQKTbHwJap7Su9ZtkBJgqnHEAQt4ysjygBkAEjEngMfp\"], \"label\": \"<Label YOUR Agent>\"}\n",
      "\n",
      "\n",
      "----------------------------------------------------------------------------------------------------\n",
      "\u001b[1m\u001b[32mConnection with ID: 638257e4-3241-4d72-a51c-c376a0f87a5b is now active.\u001b[0m\n",
      "Contact HLGF Added\n",
      "Message received from connection 638257e4-3241-4d72-a51c-c376a0f87a5b with alias HLGF\n"
     ]
    }
   ],
   "source": [
    "alias = \"HLGF\"\n",
    "response = messaging_service.new_contact_invite(alias)\n",
    "\n",
    "# If you want to display as Q.R for example\n",
    "invitation = response[\"invitation\"]\n",
    "\n",
    "new_contact_id = response[\"connection_id\"]"
   ]
  },
  {
   "cell_type": "markdown",
   "id": "51eb9d54",
   "metadata": {},
   "source": [
    "## Send Message to Contact by Connection ID"
   ]
  },
  {
   "cell_type": "code",
   "execution_count": 35,
   "id": "689ed2c7",
   "metadata": {},
   "outputs": [
    {
     "name": "stdout",
     "output_type": "stream",
     "text": [
      "Message received from connection dbc1b539-5d6e-4a73-9eb8-e758f2b7d6ff with alias HLGF\n",
      "Message received from connection dbc1b539-5d6e-4a73-9eb8-e758f2b7d6ff with alias HLGF\n"
     ]
    }
   ],
   "source": [
    "some_arbitrary_sized_message = \"Hey how are you, want to grab a coffee?\"\n",
    "messaging_service.send_message(new_contact_id, some_arbitrary_sized_message)"
   ]
  },
  {
   "cell_type": "markdown",
   "id": "ddb34e10",
   "metadata": {},
   "source": [
    "## Display Inbox for Contact"
   ]
  },
  {
   "cell_type": "code",
   "execution_count": 36,
   "id": "6f15f0a4",
   "metadata": {},
   "outputs": [
    {
     "name": "stdout",
     "output_type": "stream",
     "text": [
      "----------------------------------------------------------------------------------------------------\n",
      "Inbox for Contact HLGF\n",
      "----------------------------------------------------------------------------------------------------\n",
      "Connection ID : dbc1b539-5d6e-4a73-9eb8-e758f2b7d6ff \n",
      "Agent Label : Hyperledger Global Forum \n",
      "Total Messages : 4\n",
      "----------------------------------------------------------------------------------------------------\n",
      "Received                                                                              Sent\n",
      "----------------------------------------------------------------------------------------------------\n",
      "Tue Jun  8 07:55:46 2021\n",
      "                                                            Hey how are you, want to grab a coffee? \n",
      "--------------------------------------------------\n",
      "Tue Jun  8 07:55:49 2021\n",
      "                                                            Hey how are you, want to grab a coffee? \n",
      "--------------------------------------------------\n",
      "Tue Jun  8 07:55:53 2021\n",
      "Hello \n",
      "--------------------------------------------------\n",
      "Tue Jun  8 08:00:56 2021\n",
      "Hey, I just reloaded my state. Hope I can still send \n",
      "you messages! \n",
      "--------------------------------------------------\n"
     ]
    }
   ],
   "source": [
    "messaging_service.display_inbox_for_contact(new_contact_id)"
   ]
  },
  {
   "cell_type": "markdown",
   "id": "6316e61e",
   "metadata": {},
   "source": [
    "## Get Contacts"
   ]
  },
  {
   "cell_type": "code",
   "execution_count": null,
   "id": "41e128bd",
   "metadata": {},
   "outputs": [],
   "source": [
    "messaging_service.view_inbox(show_inactive=True)"
   ]
  },
  {
   "cell_type": "code",
   "execution_count": null,
   "id": "fa58dcbc",
   "metadata": {},
   "outputs": [],
   "source": [
    "response = messaging_service.get_contacts()\n",
    "for contact in response:\n",
    "    print(f\"{contact.alias} : {contact.connection_id}\")\n",
    "    print(contact.is_active.done())\n",
    "    print(contact.__dict__)"
   ]
  },
  {
   "cell_type": "markdown",
   "id": "145b281a",
   "metadata": {},
   "source": [
    "## Save Contacts\n",
    "\n",
    "If you restart this notebook kernal, or need to stop and restart the docker images all contacts and inbox information will be lost. Use the save_to_file function to persist this data in a file."
   ]
  },
  {
   "cell_type": "code",
   "execution_count": null,
   "id": "ddb9f9f3",
   "metadata": {},
   "outputs": [],
   "source": [
    "messaging_service.save_to_file()"
   ]
  },
  {
   "cell_type": "markdown",
   "id": "911a4532",
   "metadata": {},
   "source": [
    "## Terminate Controller\n",
    "\n",
    "Whenever you have finished with this notebook, be sure to terminate the controller. This is especially important if your business logic runs across multiple notebooks."
   ]
  },
  {
   "cell_type": "code",
   "execution_count": null,
   "id": "5fc58acf",
   "metadata": {},
   "outputs": [],
   "source": [
    "await agent_controller.terminate()"
   ]
  },
  {
   "cell_type": "code",
   "execution_count": null,
   "id": "98e3dc50",
   "metadata": {},
   "outputs": [],
   "source": []
  }
 ],
 "metadata": {
  "kernelspec": {
   "display_name": "Python 3",
   "language": "python",
   "name": "python3"
  },
  "language_info": {
   "codemirror_mode": {
    "name": "ipython",
    "version": 3
   },
   "file_extension": ".py",
   "mimetype": "text/x-python",
   "name": "python",
   "nbconvert_exporter": "python",
   "pygments_lexer": "ipython3",
   "version": "3.7.6"
  }
 },
 "nbformat": 4,
 "nbformat_minor": 5
}
