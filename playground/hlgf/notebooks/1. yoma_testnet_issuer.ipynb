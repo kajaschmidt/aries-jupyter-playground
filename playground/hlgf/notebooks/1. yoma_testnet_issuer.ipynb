{
 "cells": [
  {
   "cell_type": "markdown",
   "id": "e38413c5",
   "metadata": {},
   "source": [
    "# ACA-Py & ACC-Py Basic Template\n",
    "\n",
    "## Copy this template into the root folder of your notebook workspace to get started"
   ]
  },
  {
   "cell_type": "markdown",
   "id": "0bc97432",
   "metadata": {},
   "source": [
    "### Imports"
   ]
  },
  {
   "cell_type": "code",
   "execution_count": 1,
   "id": "57cf622d",
   "metadata": {},
   "outputs": [],
   "source": [
    "from aries_cloudcontroller import AriesAgentController\n",
    "import os\n",
    "import asyncio\n",
    "import nest_asyncio\n",
    "from termcolor import colored\n",
    "\n",
    "nest_asyncio.apply()"
   ]
  },
  {
   "cell_type": "markdown",
   "id": "7588be9a",
   "metadata": {},
   "source": [
    "### Initialise the Agent Controller"
   ]
  },
  {
   "cell_type": "code",
   "execution_count": 2,
   "id": "578e5fe5",
   "metadata": {},
   "outputs": [
    {
     "name": "stdout",
     "output_type": "stream",
     "text": [
      "Initialising a controller with admin api at http://hlgf-agent:3021 and an api key of adminApiKey\n"
     ]
    }
   ],
   "source": [
    "api_key = os.getenv(\"ACAPY_ADMIN_API_KEY\")\n",
    "admin_url = os.getenv(\"ADMIN_URL\")\n",
    "\n",
    "print(f\"Initialising a controller with admin api at {admin_url} and an api key of {api_key}\")\n",
    "agent_controller = AriesAgentController(admin_url,api_key)"
   ]
  },
  {
   "cell_type": "markdown",
   "id": "d7f88179",
   "metadata": {},
   "source": [
    "### Start a Webhook Server"
   ]
  },
  {
   "cell_type": "code",
   "execution_count": 3,
   "id": "9e646d19",
   "metadata": {},
   "outputs": [
    {
     "name": "stdout",
     "output_type": "stream",
     "text": [
      "Listening for webhooks from agent at http://0.0.0.0:3010\n"
     ]
    }
   ],
   "source": [
    "webhook_port = int(os.getenv(\"WEBHOOK_PORT\"))\n",
    "webhook_host = \"0.0.0.0\"\n",
    "\n",
    "await agent_controller.init_webhook_server(webhook_host, webhook_port)\n",
    "\n",
    "print(f\"Listening for webhooks from agent at http://{webhook_host}:{webhook_port}\")"
   ]
  },
  {
   "cell_type": "markdown",
   "id": "bbbb9543",
   "metadata": {},
   "source": [
    "## Store Issuing Schema and Cred Def Identifiers\n",
    "\n",
    "If you intend for this agent to issue credentials you should first initialise your agent as an issuer and author the relevant identifiers to the public ledger. The issuer_initialisation recipe notebook can be duplicated and used as a starting point.\n",
    "\n",
    "Once schema and cred def identifiers are created copy across and store in variables as illustrated in the cell below. Be sure to use unique names for each variable."
   ]
  },
  {
   "cell_type": "code",
   "execution_count": 4,
   "id": "f31b69a8",
   "metadata": {},
   "outputs": [],
   "source": [
    "# schema_id='5Q1Zz9foMeAA8Q7mrmzCfZ:2:Aries ACA ACC Jupyter Playground Demo Participation:0.0.1'\n",
    "# cred_def_id='5Q1Zz9foMeAA8Q7mrmzCfZ:3:CL:8:default'\n",
    "\n",
    "schema_id='5Q1Zz9foMeAA8Q7mrmzCfZ:2:Yoma Youth Member Badge:0.0.1'\n",
    "cred_def_id='5Q1Zz9foMeAA8Q7mrmzCfZ:3:CL:11:default'\n",
    "\n",
    "# %store schema_id\n",
    "# %store <cred_def_id>"
   ]
  },
  {
   "cell_type": "markdown",
   "id": "17391696",
   "metadata": {},
   "source": [
    "## Create Multi-Use Invite\n",
    "\n",
    "Before you can issue a credential you must first establish a connection across which the credential will be issued to a holder. (see recipes/connection)"
   ]
  },
  {
   "cell_type": "code",
   "execution_count": 5,
   "id": "0526e350",
   "metadata": {},
   "outputs": [
    {
     "name": "stdout",
     "output_type": "stream",
     "text": [
      "GAY3wg4RppF3oVdHzYZ3pTKCFZezq6sWG1c2qkw8zD9T\n"
     ]
    }
   ],
   "source": [
    "# Alias for invited connection\n",
    "alias = \"Participant\"\n",
    "auto_accept = \"true\"\n",
    "# Use public DID?\n",
    "public = \"false\"\n",
    "# Should this invitation be usable by multiple invitees?\n",
    "multi_use = \"true\"\n",
    "\n",
    "multi_use_invite_response = await agent_controller.connections.create_invitation(alias, auto_accept, public, multi_use)\n",
    "# Is equivalent to above. Arguments are optionally\n",
    "# invitation_response = await agent_controller.connections.create_invitation()\n",
    "\n",
    "\n",
    "multi_use_invititation_key = multi_use_invite_response[\"invitation\"][\"recipientKeys\"][0]\n",
    "\n",
    "print(multi_use_invititation_key)"
   ]
  },
  {
   "cell_type": "markdown",
   "id": "2036c762",
   "metadata": {},
   "source": [
    "## Register Agent Event Listeners\n",
    "\n",
    "You can see some examples within the webhook_listeners recipe. Copy any relevant cells across and fill in additional logic as needed."
   ]
  },
  {
   "cell_type": "code",
   "execution_count": 7,
   "id": "4333206c",
   "metadata": {},
   "outputs": [
    {
     "name": "stdin",
     "output_type": "stream",
     "text": [
      "What is your name? Lohan\n",
      "What is your surname? Spies\n"
     ]
    }
   ],
   "source": [
    "Firstname = input(\"What is your name?\")\n",
    "Surname = input(\"What is your surname?\")"
   ]
  },
  {
   "cell_type": "code",
   "execution_count": 8,
   "id": "5489c8f9",
   "metadata": {},
   "outputs": [],
   "source": [
    "listeners = []"
   ]
  },
  {
   "cell_type": "code",
   "execution_count": 9,
   "id": "b8ccd08a",
   "metadata": {},
   "outputs": [],
   "source": [
    "import time\n",
    "\n",
    "## YOUR LISTENERS HERE\n",
    "# Receive connection messages\n",
    "def connections_handler(payload):\n",
    "    state = payload['state']\n",
    "    connection_id = payload[\"connection_id\"]\n",
    "    their_role = payload[\"their_role\"]\n",
    "    routing_state = payload[\"routing_state\"]\n",
    "    \n",
    "    print(\"----------------------------------------------------------\")\n",
    "    print(\"Connection Webhook Event Received\")\n",
    "    print(\"Connection ID : \", connection_id)\n",
    "    print(\"State : \", state)\n",
    "    print(\"Routing State : \", routing_state)\n",
    "    print(\"Their Role : \", their_role)\n",
    "    print(\"----------------------------------------------------------\")\n",
    "    \n",
    "    print(payload)\n",
    "    loop = asyncio.get_event_loop()\n",
    "\n",
    "    if state == \"response\":\n",
    "        time.sleep(2)\n",
    "        loop.run_until_complete(agent_controller.messaging.trust_ping(connection_id))\n",
    "        \n",
    "    if state == \"active\":\n",
    "        # Your business logic\n",
    "        invitation_key = payload[\"invitation_key\"]\n",
    "        their_lablel = payload[\"their_label\"]\n",
    "        print(invitation_key)\n",
    "        if invitation_key == multi_use_invititation_key:\n",
    "            event_name = \"Yoma Youth Member Badge\"\n",
    "            issue_date= date.today().isoformat()\n",
    "            credential_attributes = [\n",
    "                {\"name\": \"Organisation\", \"value\": \"Yoma\"},\n",
    "                {\"name\": \"Firstname\", \"value\": Firstname},\n",
    "                {\"name\": \"Surname\", \"value\": Surname},\n",
    "                {\"name\": \"Date\", \"value\": issue_date}\n",
    "            ]\n",
    "            \n",
    "            # Do you want the ACA-Py instance to trace it's processes (for testing/timing analysis)\n",
    "            trace = False\n",
    "            comment = \"\"\n",
    "            # Remove credential record after issued?\n",
    "            auto_remove = True\n",
    "\n",
    "            # Change <schema_id> and <cred_def_id> to correct pair. Cred_def_id must identify a definition to which your agent has corresponding private issuing key.\n",
    "            loop.run_until_complete(agent_controller.issuer.send_credential(connection_id, schema_id, cred_def_id, credential_attributes, comment, auto_remove, trace))\n",
    "        print(colored(\"Connection ID: {0} is now active.\".format(connection_id), \"green\", attrs=[\"bold\"]))\n",
    "\n",
    "connection_listener = {\n",
    "    \"handler\": connections_handler,\n",
    "    \"topic\": \"connections\"\n",
    "}\n",
    "\n",
    "listeners.append(connection_listener)"
   ]
  },
  {
   "cell_type": "code",
   "execution_count": 10,
   "id": "b20fc19c",
   "metadata": {},
   "outputs": [],
   "source": [
    "from datetime import date\n",
    "\n",
    "def issuer_handler(payload):\n",
    "    connection_id = payload['connection_id']\n",
    "    exchange_id = payload['credential_exchange_id']\n",
    "    state = payload['state']\n",
    "    role = payload['role']\n",
    "    print(\"\\n---------------------------------------------------\\n\")\n",
    "    print(\"Handle Issue Credential Webhook\")\n",
    "    print(f\"Connection ID : {connection_id}\")\n",
    "    print(f\"Credential exchange ID : {exchange_id}\")\n",
    "    print(\"Agent Protocol Role : \", role)\n",
    "    print(\"Protocol State : \", state )\n",
    "    print(\"\\n---------------------------------------------------\\n\")\n",
    "    loop = asyncio.get_event_loop()\n",
    "    if state == \"proposal_received\":\n",
    "        print(f'Proposal Comment : {payload[\"credential_proposal_dict\"][\"comment\"]}')\n",
    "        proposed_cred_def_id = payload[\"credential_proposal_dict\"][\"cred_def_id\"]\n",
    "        proposed_schema_id = payload[\"credential_proposal_dict\"][\"schema_id\"]\n",
    "        \n",
    "        if proposed_cred_def_id == cred_def_id and proposed_schema_id == schema_id:\n",
    "            for attribute in payload[\"credential_proposal_dict\"][\"credential_proposal\"][\"attributes\"]:\n",
    "                if attribute[\"name\"] == \"Firstname\":\n",
    "                    participant = attribute[\"value\"]\n",
    "                elif attribute[\"name\"] == \"Surname\":\n",
    "                    description = attribute[\"value\"]\n",
    "                    description += \"\\n Thanks for being a valued Yoma member!\"\n",
    "\n",
    "\n",
    "            event_name = \"Yoma Youth Member Badge\"\n",
    "            issue_date= date.today().isoformat()\n",
    "            credential_attributes = [\n",
    "                {\"name\": \"Organisation\", \"value\": \"Yoma\"},\n",
    "                {\"name\": \"Firstname\", \"value\": Firstname},\n",
    "                {\"name\": \"Surname\", \"value\": Surname},\n",
    "                {\"name\": \"Date\", \"value\": issue_date}\n",
    "            ]\n",
    "\n",
    "            print(credential_attributes)\n",
    "\n",
    "            # Do you want the ACA-Py instance to trace it's processes (for testing/timing analysis)\n",
    "            trace = False\n",
    "            comment = \"\"\n",
    "            # Remove credential record after issued?\n",
    "            auto_remove = True\n",
    "\n",
    "            # Change <schema_id> and <cred_def_id> to correct pair. Cred_def_id must identify a definition to which your agent has corresponding private issuing key.\n",
    "            loop.run_until_complete(agent_controller.issuer.send_credential(connection_id, schema_id, cred_def_id, credential_attributes, comment, auto_remove, trace))\n",
    "        else:\n",
    "            explaination = \"You have not referenced the correct schema and credential definitions\"\n",
    "            loop.run_until_complete(agent_controller.issuer.send_problem_report(exchange_id, explaination))\n",
    "        \n",
    "    \n",
    "    elif state == \"offer_sent\":\n",
    "        proposal = payload[\"credential_proposal_dict\"]\n",
    "        attributes = proposal['credential_proposal']['attributes']\n",
    "\n",
    "        print(f\"Offering credential with attributes  : {attributes}\")\n",
    "        ## YOUR LOGIC HERE\n",
    "    elif state == \"request_received\":\n",
    "        print(\"Request for credential received\")\n",
    "        ## YOUR LOGIC HERE\n",
    "    elif state == \"credential_sent\":\n",
    "        print(\"Credential Sent\")\n",
    "        ## YOUR LOGIC HERE\n",
    "    \n",
    "issuer_listener = {\n",
    "    \"topic\": \"issue_credential\",\n",
    "    \"handler\": issuer_handler\n",
    "}\n",
    "\n",
    "listeners.append(issuer_listener)"
   ]
  },
  {
   "cell_type": "code",
   "execution_count": 11,
   "id": "0a541a73",
   "metadata": {},
   "outputs": [],
   "source": [
    "agent_controller.register_listeners(listeners)"
   ]
  },
  {
   "cell_type": "markdown",
   "id": "fede3e5e",
   "metadata": {},
   "source": [
    "## Share Invitation Object with External Agent"
   ]
  },
  {
   "cell_type": "code",
   "execution_count": 12,
   "id": "6c5ccb85",
   "metadata": {},
   "outputs": [
    {
     "name": "stdout",
     "output_type": "stream",
     "text": [
      "{'@type': 'did:sov:BzCbsNYhMrjHiqZDTUASHg;spec/connections/1.0/invitation', '@id': '47f6d682-e968-4f0e-95d8-65a2f3075b97', 'serviceEndpoint': 'https://30727803d37e.ngrok.io', 'label': 'Yoma VON TestNet', 'recipientKeys': ['GAY3wg4RppF3oVdHzYZ3pTKCFZezq6sWG1c2qkw8zD9T']}\n"
     ]
    }
   ],
   "source": [
    "invitation = multi_use_invite_response[\"invitation\"]\n",
    "## Copy this output\n",
    "print(invitation)"
   ]
  },
  {
   "cell_type": "markdown",
   "id": "15a4322a",
   "metadata": {},
   "source": [
    "## Display Invite as QR Code\n",
    "\n",
    "This is useful if you wish to issue a credential to a mobile wallet."
   ]
  },
  {
   "cell_type": "code",
   "execution_count": 13,
   "id": "6e9031dc",
   "metadata": {},
   "outputs": [
    {
     "data": {
      "image/png": "[encoded data removed]",
      "text/plain": [
       "<qrcode.image.pil.PilImage at 0x7f890c1532b0>"
      ]
     },
     "execution_count": 13,
     "metadata": {},
     "output_type": "execute_result"
    },
    {
     "name": "stdout",
     "output_type": "stream",
     "text": [
      "----------------------------------------------------------\n",
      "Connection Webhook Event Received\n",
      "Connection ID :  76dc0512-32c1-4b29-a20d-05f7b6c7d9f6\n",
      "State :  invitation\n",
      "Routing State :  none\n",
      "Their Role :  invitee\n",
      "----------------------------------------------------------\n",
      "{'my_did': 'NeyowTnxLNuEYBhLH9UGQJ', 'invitation_mode': 'once', 'connection_id': '76dc0512-32c1-4b29-a20d-05f7b6c7d9f6', 'created_at': '2021-06-15 19:23:44.916490Z', 'rfc23_state': 'invitation-sent', 'updated_at': '2021-06-15 19:23:44.916490Z', 'accept': 'auto', 'their_role': 'invitee', 'routing_state': 'none', 'state': 'invitation', 'invitation_key': 'GAY3wg4RppF3oVdHzYZ3pTKCFZezq6sWG1c2qkw8zD9T'}\n",
      "----------------------------------------------------------\n",
      "Connection Webhook Event Received\n",
      "Connection ID :  76dc0512-32c1-4b29-a20d-05f7b6c7d9f6\n",
      "State :  request\n",
      "Routing State :  none\n",
      "Their Role :  invitee\n",
      "----------------------------------------------------------\n",
      "{'my_did': 'NeyowTnxLNuEYBhLH9UGQJ', 'invitation_mode': 'once', 'their_did': 'MHQprvpk47rYAr4hbKYkzE', 'connection_id': '76dc0512-32c1-4b29-a20d-05f7b6c7d9f6', 'created_at': '2021-06-15 19:23:44.916490Z', 'rfc23_state': 'request-received', 'updated_at': '2021-06-15 19:23:44.938712Z', 'accept': 'auto', 'their_role': 'invitee', 'routing_state': 'none', 'their_label': 'Lohan’s iPhone', 'state': 'request', 'invitation_key': 'GAY3wg4RppF3oVdHzYZ3pTKCFZezq6sWG1c2qkw8zD9T'}\n",
      "----------------------------------------------------------\n",
      "Connection Webhook Event Received\n",
      "Connection ID :  76dc0512-32c1-4b29-a20d-05f7b6c7d9f6\n",
      "State :  response\n",
      "Routing State :  none\n",
      "Their Role :  invitee\n",
      "----------------------------------------------------------\n",
      "{'my_did': 'NeyowTnxLNuEYBhLH9UGQJ', 'invitation_mode': 'once', 'their_did': 'MHQprvpk47rYAr4hbKYkzE', 'connection_id': '76dc0512-32c1-4b29-a20d-05f7b6c7d9f6', 'created_at': '2021-06-15 19:23:44.916490Z', 'rfc23_state': 'response-sent', 'updated_at': '2021-06-15 19:23:44.960958Z', 'accept': 'auto', 'their_role': 'invitee', 'routing_state': 'none', 'their_label': 'Lohan’s iPhone', 'state': 'response', 'invitation_key': 'GAY3wg4RppF3oVdHzYZ3pTKCFZezq6sWG1c2qkw8zD9T'}\n",
      "----------------------------------------------------------\n",
      "Connection Webhook Event Received\n",
      "Connection ID :  76dc0512-32c1-4b29-a20d-05f7b6c7d9f6\n",
      "State :  active\n",
      "Routing State :  none\n",
      "Their Role :  invitee\n",
      "----------------------------------------------------------\n",
      "{'my_did': 'NeyowTnxLNuEYBhLH9UGQJ', 'invitation_mode': 'once', 'their_did': 'MHQprvpk47rYAr4hbKYkzE', 'connection_id': '76dc0512-32c1-4b29-a20d-05f7b6c7d9f6', 'created_at': '2021-06-15 19:23:44.916490Z', 'rfc23_state': 'completed', 'updated_at': '2021-06-15 19:23:50.522033Z', 'accept': 'auto', 'their_role': 'invitee', 'routing_state': 'none', 'their_label': 'Lohan’s iPhone', 'state': 'active', 'invitation_key': 'GAY3wg4RppF3oVdHzYZ3pTKCFZezq6sWG1c2qkw8zD9T'}\n",
      "GAY3wg4RppF3oVdHzYZ3pTKCFZezq6sWG1c2qkw8zD9T\n",
      "\n",
      "---------------------------------------------------\n",
      "\n",
      "Handle Issue Credential Webhook\n",
      "Connection ID : 76dc0512-32c1-4b29-a20d-05f7b6c7d9f6\n",
      "Credential exchange ID : 7c6872c3-e15e-4870-b2fd-3005b14ddfb3\n",
      "Agent Protocol Role :  issuer\n",
      "Protocol State :  offer_sent\n",
      "\n",
      "---------------------------------------------------\n",
      "\n",
      "Offering credential with attributes  : [{'name': 'Organisation', 'value': 'Yoma'}, {'name': 'Firstname', 'value': 'Lohan'}, {'name': 'Surname', 'value': 'Spies'}, {'name': 'Date', 'value': '2021-06-15'}]\n",
      "\u001B[1m\u001B[32mConnection ID: 76dc0512-32c1-4b29-a20d-05f7b6c7d9f6 is now active.\u001B[0m\n",
      "\n",
      "---------------------------------------------------\n",
      "\n",
      "Handle Issue Credential Webhook\n",
      "Connection ID : 76dc0512-32c1-4b29-a20d-05f7b6c7d9f6\n",
      "Credential exchange ID : 7c6872c3-e15e-4870-b2fd-3005b14ddfb3\n",
      "Agent Protocol Role :  issuer\n",
      "Protocol State :  request_received\n",
      "\n",
      "---------------------------------------------------\n",
      "\n",
      "Request for credential received\n",
      "\n",
      "---------------------------------------------------\n",
      "\n",
      "Handle Issue Credential Webhook\n",
      "Connection ID : 76dc0512-32c1-4b29-a20d-05f7b6c7d9f6\n",
      "Credential exchange ID : 7c6872c3-e15e-4870-b2fd-3005b14ddfb3\n",
      "Agent Protocol Role :  issuer\n",
      "Protocol State :  credential_issued\n",
      "\n",
      "---------------------------------------------------\n",
      "\n"
     ]
    }
   ],
   "source": [
    "import qrcode\n",
    "# Link for connection invitation\n",
    "invitation_url = multi_use_invite_response[\"invitation_url\"]\n",
    "# Creating an instance of qrcode\n",
    "qr = qrcode.QRCode(\n",
    "        version=1,\n",
    "        box_size=5,\n",
    "        border=5)\n",
    "qr.add_data(invitation_url)\n",
    "qr.make(fit=True)\n",
    "img = qr.make_image(fill='black', back_color='white')\n",
    "img"
   ]
  },
  {
   "cell_type": "markdown",
   "id": "afeab299",
   "metadata": {},
   "source": [
    "## Terminate Controller\n",
    "\n",
    "Whenever you have finished with this notebook, be sure to terminate the controller. This is especially important if your business logic runs across multiple notebooks."
   ]
  },
  {
   "cell_type": "code",
   "execution_count": 14,
   "id": "028eece5",
   "metadata": {},
   "outputs": [],
   "source": [
    "await agent_controller.terminate()"
   ]
  },
  {
   "cell_type": "code",
   "execution_count": null,
   "id": "7e26a439",
   "metadata": {},
   "outputs": [],
   "source": []
  }
 ],
 "metadata": {
  "kernelspec": {
   "display_name": "Python 3",
   "language": "python",
   "name": "python3"
  },
  "language_info": {
   "codemirror_mode": {
    "name": "ipython",
    "version": 3
   },
   "file_extension": ".py",
   "mimetype": "text/x-python",
   "name": "python",
   "nbconvert_exporter": "python",
   "pygments_lexer": "ipython3",
   "version": "3.8.5"
  }
 },
 "nbformat": 4,
 "nbformat_minor": 5
}