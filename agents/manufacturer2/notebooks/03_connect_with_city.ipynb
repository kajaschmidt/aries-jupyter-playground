{
 "cells": [
  {
   "cell_type": "markdown",
   "id": "a47848e3",
   "metadata": {},
   "source": [
    "# PETs/TETs – Hyperledger Aries / PySyft – Manufacturer 2 (Holder) 💼"
   ]
  },
  {
   "cell_type": "code",
   "execution_count": 1,
   "id": "98d3bcdc",
   "metadata": {},
   "outputs": [
    {
     "data": {
      "application/javascript": [
       "document.title = '💼 Manufacturer2 Agent'\n"
      ],
      "text/plain": [
       "<IPython.core.display.Javascript object>"
      ]
     },
     "metadata": {},
     "output_type": "display_data"
    }
   ],
   "source": [
    "%%javascript\n",
    "document.title = '💼 Manufacturer2 Agent'"
   ]
  },
  {
   "cell_type": "markdown",
   "id": "387fab6f",
   "metadata": {},
   "source": [
    "## PART 3: Connect with City to Analyze Data\n",
    "\n",
    "**What:** -\n",
    "\n",
    "**Why:** -\n",
    "\n",
    "**How:** <br>\n",
    "\n",
    "\n",
    "**Accompanying Agents and Notebooks:**\n",
    "* City 🏙️️: `03_connect_with_manufacturers.ipynb`"
   ]
  },
  {
   "cell_type": "markdown",
   "id": "746b02ea",
   "metadata": {
    "pycharm": {
     "name": "#%% md\n"
    }
   },
   "source": [
    "---\n",
    "\n",
    "### 0 - Setup\n",
    "#### 0.1 - Imports"
   ]
  },
  {
   "cell_type": "code",
   "execution_count": 2,
   "id": "4743e7ef",
   "metadata": {
    "pycharm": {
     "name": "#%%\n"
    }
   },
   "outputs": [],
   "source": [
    "import libs.helpers as helpers\n",
    "import os\n",
    "import syft as sy\n",
    "import time\n",
    "import torch\n",
    "\n",
    "from aries_cloudcontroller import AriesAgentController\n",
    "from libs.agent_connection_manager import CredentialHolder\n",
    "from pprintpp import pprint\n",
    "from termcolor import colored\n",
    "from sympc.session import Session\n",
    "from sympc.session import SessionManager\n",
    "from sympc.tensor import MPCTensor"
   ]
  },
  {
   "cell_type": "markdown",
   "id": "ff963a64",
   "metadata": {
    "pycharm": {
     "name": "#%% md\n"
    }
   },
   "source": [
    "#### 0.2 – Variables"
   ]
  },
  {
   "cell_type": "code",
   "execution_count": 3,
   "id": "a1b3017a",
   "metadata": {
    "pycharm": {
     "name": "#%%\n"
    }
   },
   "outputs": [],
   "source": [
    "# Get relevant details from .env file\n",
    "api_key = os.getenv(\"ACAPY_ADMIN_API_KEY\")\n",
    "admin_url = os.getenv(\"ADMIN_URL\")\n",
    "webhook_port = int(os.getenv(\"WEBHOOK_PORT\"))\n",
    "webhook_host = \"0.0.0.0\""
   ]
  },
  {
   "cell_type": "markdown",
   "id": "4f433c83",
   "metadata": {
    "pycharm": {
     "name": "#%% md\n"
    }
   },
   "source": [
    "---\n",
    "\n",
    "<a id=1></a>\n",
    "\n",
    "### 1 – Initiate Manufacturer2 Agent\n",
    "#### 1.1 – Init ACA-PY agent controller"
   ]
  },
  {
   "cell_type": "code",
   "execution_count": 4,
   "id": "229de136",
   "metadata": {},
   "outputs": [
    {
     "name": "stdout",
     "output_type": "stream",
     "text": [
      "Initialising a controller with admin api at http://manufacturer2-agent:3021 and an api key of adminApiKey\n"
     ]
    }
   ],
   "source": [
    "# Setup\n",
    "agent_controller = AriesAgentController(admin_url,api_key)\n",
    "print(f\"Initialising a controller with admin api at {admin_url} and an api key of {api_key}\")"
   ]
  },
  {
   "cell_type": "markdown",
   "id": "39534dcc",
   "metadata": {},
   "source": [
    "#### 1.2 – Start Webhook Server to enable communication with other agents\n",
    "@todo: is communication with other agents, or with other docker containers?"
   ]
  },
  {
   "cell_type": "code",
   "execution_count": 5,
   "id": "608b7660",
   "metadata": {},
   "outputs": [
    {
     "name": "stdout",
     "output_type": "stream",
     "text": [
      "Listening for webhooks from agent at http://0.0.0.0:3010\n"
     ]
    }
   ],
   "source": [
    "# Listen on webhook server\n",
    "await agent_controller.init_webhook_server(webhook_host, webhook_port)\n",
    "print(f\"Listening for webhooks from agent at http://{webhook_host}:{webhook_port}\")"
   ]
  },
  {
   "cell_type": "markdown",
   "id": "fe7b5829",
   "metadata": {},
   "source": [
    "#### 1.3 – Init ACM issuing authority"
   ]
  },
  {
   "cell_type": "code",
   "execution_count": 6,
   "id": "85be516a",
   "metadata": {
    "collapsed": false,
    "jupyter": {
     "outputs_hidden": false
    },
    "pycharm": {
     "name": "#%%\n"
    }
   },
   "outputs": [
    {
     "name": "stdout",
     "output_type": "stream",
     "text": [
      "\u001B[1m\u001B[32mSuccessfully initiated AgentConnectionManager for a(n) Holder ACA-PY agent\u001B[0m\n"
     ]
    },
    {
     "data": {
      "text/plain": [
       "{'results': [{'referent': 'M2-isManufacturer-VC',\n",
       "   'attrs': {'manufacturerCountry': 'Germany',\n",
       "    'manufacturerName': 'undisclosedManufacturer2',\n",
       "    'manufacturerCity': 'Braunschweig',\n",
       "    'isManufacturer': 'TRUE'},\n",
       "   'schema_id': 'XvWddwCGryjykggMo3vHrv:2:certify-manufacturer:0.0.1',\n",
       "   'cred_def_id': 'XvWddwCGryjykggMo3vHrv:3:CL:251651:default',\n",
       "   'rev_reg_id': None,\n",
       "   'cred_rev_id': None}]}"
      ]
     },
     "execution_count": 6,
     "metadata": {},
     "output_type": "execute_result"
    }
   ],
   "source": [
    "# The CredentialHolder registers relevant webhook servers and event listeners\n",
    "manufacturer2_agent = CredentialHolder(agent_controller)\n",
    "\n",
    "# Verify if Manufacturer already has a VC\n",
    "# (if there are manufacturer credentials, there is no need to execute the notebook)\n",
    "manufacturer2_agent.get_credentials()"
   ]
  },
  {
   "cell_type": "markdown",
   "id": "3abd7b0a",
   "metadata": {},
   "source": [
    "---\n",
    "\n",
    "<a id=2></a>\n",
    "\n",
    "### 2 – Establish a connection with the City agent 🏙️\n",
    "A connection with the credential issuer (i.e., the authority agent) must be established before a VC can be received. In this scenario, the Manufacturer2 requests a connection with the Authority to be certified as an official city agency. Thus, the Manufacturer2 agent sends an invitation to the Authority. In real life, the invitation can be shared via video call, phone call, or E-Mail. In this PoC, this is represented by copy and pasting the invitation into the manufacturers' notebooks.\n",
    "\n",
    "#### 2.1 Join invitation of City agent 🏙️\n",
    "Copy and paste the multi-use invitation of the city agent, and establish a connection with them."
   ]
  },
  {
   "cell_type": "code",
   "execution_count": 7,
   "id": "934997bd",
   "metadata": {},
   "outputs": [
    {
     "name": "stdout",
     "output_type": "stream",
     "text": [
      "\u001B[1m\u001B[35mPlease enter invitation received by external agent:\u001B[0m\n"
     ]
    },
    {
     "name": "stdin",
     "output_type": "stream",
     "text": [
      "\u001B[35mInvitation: \u001B[0m {     '@id': 'ac1eee2e-c63e-4415-a8a7-7ce5b434ea0f',     '@type': 'did:sov:BzCbsNYhMrjHiqZDTUASHg;spec/connections/1.0/invitation',     'label': 'City-Agency',     'recipientKeys': ['9wRd53Mahf746UnxEJgTDnyyRwYogTWEnxRFUSAj1LFA'],     'serviceEndpoint': 'https://0a6f916f7909.ngrok.io', }\n"
     ]
    },
    {
     "name": "stdout",
     "output_type": "stream",
     "text": [
      "\n",
      "---------------------------------------------------------------------\n",
      "\u001B[1mConnection Webhook Event Received: Connections Handler\u001B[0m\n",
      "Connection ID :  e8141e1d-bb54-4ea8-8c15-10984a00ea02\n",
      "State :  \u001B[34minvitation (invitation-received)\u001B[0m\n",
      "Routing State : none\n",
      "Connection with :  City-Agency\n",
      "Their Role :  inviter\n",
      "---------------------------------------------------------------------\n",
      "\n",
      "---------------------------------------------------------------------\n",
      "\u001B[1mConnection Webhook Event Received: Connections Handler\u001B[0m\n",
      "Connection ID :  e8141e1d-bb54-4ea8-8c15-10984a00ea02\n",
      "State :  \u001B[34mrequest (request-sent)\u001B[0m\n",
      "Routing State : none\n",
      "Connection with :  City-Agency\n",
      "Their Role :  inviter\n",
      "---------------------------------------------------------------------\n",
      "\n",
      "---------------------------------------------------------------------\n",
      "\u001B[1mConnection Webhook Event Received: Connections Handler\u001B[0m\n",
      "Connection ID :  e8141e1d-bb54-4ea8-8c15-10984a00ea02\n",
      "State :  \u001B[34mresponse (response-received)\u001B[0m\n",
      "Routing State : none\n",
      "Connection with :  City-Agency\n",
      "Their Role :  inviter\n",
      "---------------------------------------------------------------------\n",
      "\n",
      "---------------------------------------------------------------------\n",
      "\u001B[1mConnection Webhook Event Received: Connections Handler\u001B[0m\n",
      "Connection ID :  e8141e1d-bb54-4ea8-8c15-10984a00ea02\n",
      "State :  \u001B[34mactive (completed)\u001B[0m\n",
      "Routing State : none\n",
      "Connection with :  City-Agency\n",
      "Their Role :  inviter\n",
      "---------------------------------------------------------------------\n",
      "\u001B[1m\u001B[32m\n",
      "Connection ID: e8141e1d-bb54-4ea8-8c15-10984a00ea02 is now active\u001B[0m\n",
      "\n",
      "---------------------------------------------------------------------\n",
      "\u001B[1mConnection Webhook Event Received: Present-Proof Handler\u001B[0m\n",
      "Connection ID :  e8141e1d-bb54-4ea8-8c15-10984a00ea02\n",
      "Presentation Exchange ID :  8d1001f7-98ce-4284-b008-b928920ce26d\n",
      "Protocol State :  \u001B[34mrequest_received\u001B[0m\n",
      "Agent Role :  prover\n",
      "Initiator :  external\n",
      "---------------------------------------------------------------------\n",
      "\u001B[1mObtained Proof Request : \u001B[0m\n",
      "{\n",
      "    'name': 'isManufacturer Proof Request',\n",
      "    'non_revoked': {'to': 1629369989},\n",
      "    'nonce': '720396394702717720966381',\n",
      "    'requested_attributes': {\n",
      "        '0_isManufacturer_uuid': {\n",
      "            'name': 'isManufacturer',\n",
      "            'restrictions': [\n",
      "                {\n",
      "                    'schema_id': 'XvWddwCGryjykggMo3vHrv:2:certify-manufacturer:0.0.1',\n",
      "                },\n",
      "            ],\n",
      "        },\n",
      "    },\n",
      "    'requested_predicates': {},\n",
      "    'version': '1.0',\n",
      "}\n"
     ]
    }
   ],
   "source": [
    "# Variables\n",
    "alias = \"undisclosedM2\"\n",
    "auto_accept = True\n",
    "label = None\n",
    "\n",
    "# Receive connection invitation\n",
    "connection_id = manufacturer2_agent.receive_connection_invitation(alias=alias, auto_accept=auto_accept, label=label)"
   ]
  },
  {
   "cell_type": "markdown",
   "id": "ff7d88bc",
   "metadata": {},
   "source": [
    "<div style=\"font-size: 25px\"><center><b>Break Point 2/3/4</b></center></div>\n",
    "<div style=\"font-size: 50px\"><center>💼 ➡️ 💼 / 💼 / 🏙️ </center></div><br>\n",
    "<center><b>Please proceed to the remaining Manufacturers. <br> If you have established a connection between the City and all Manufacturers, proceed to the City Notebook's Step 2.3</b></center>\n",
    "\n",
    "---"
   ]
  },
  {
   "cell_type": "markdown",
   "id": "01fd9585",
   "metadata": {},
   "source": [
    "### 3 – Create Presentation to Send Proof Presentation\n",
    "\n",
    "#### 3.1 – Create presentation that satisfies requirements of proof request\n",
    "Before you can present a presentation, you must identify the presentation record which you wish to respond to with a presentation. To do so, the `prepare_presentation()` function runs through the following steps: \n",
    "1. Get all proof requests that were sent through `connection_id`\n",
    "2. Get the most recent `presentation_exchange_id` and the corresponding `proof_request` from (1)\n",
    "3. Get the restrictions the City agent defined in `proof_request` from (2)\n",
    "4. Compare all VCs the Manufacturer2 agent has stored, and find (if available) a VC that satisfies the restrictions from (3)\n",
    "5. Return a presentation dictionary from a VC from (4) that satisfies all requirements. Generally, a presentation consists of three classes of attributes: <br>\n",
    "a. `requested_attributes`: Attributes that were signed by an issuer and have been revealed in the presentation process <br>\n",
    "b. `self_attested_attributes`: Attributes that the prover has self attested to in the presentation object. <br>\n",
    "c. `requested_predicates` (predicate proofs): Attribute values that have been proven to meet some statement. (TODO: Show how you can parse this information)"
   ]
  },
  {
   "cell_type": "code",
   "execution_count": 8,
   "id": "74829bde",
   "metadata": {},
   "outputs": [
    {
     "name": "stdout",
     "output_type": "stream",
     "text": [
      "\u001B[34m> Found proof_request with presentation_exchange_id 8d1001f7-98ce-4284-b008-b928920ce26d\u001B[0m\n",
      "\u001B[34m> Restrictions for a suitable proof: {'isManufacturer': {'requirements': {'schema_id': 'XvWddwCGryjykggMo3vHrv:2:certify-manufacturer:0.0.1'}, 'request_attr_name': '0_isManufacturer_uuid'}}\u001B[0m\n",
      "\u001B[34m> Attribute request for 'isManufacturer' can be satisfied by Credential with VC 'M2-isManufacturer-VC'\u001B[0m\n",
      "\u001B[34m> Generate the proof presentation\u001B[0m\n"
     ]
    },
    {
     "data": {
      "text/plain": [
       "{'requested_predicates': {},\n",
       " 'requested_attributes': {'0_isManufacturer_uuid': {'cred_id': 'M2-isManufacturer-VC',\n",
       "   'revealed': True}},\n",
       " 'self_attested_attributes': {}}"
      ]
     },
     "execution_count": 8,
     "metadata": {},
     "output_type": "execute_result"
    }
   ],
   "source": [
    "presentation, presentation_exchange_id = manufacturer2_agent.prepare_presentation(connection_id)\n",
    "presentation"
   ]
  },
  {
   "cell_type": "markdown",
   "id": "23f8a7f7",
   "metadata": {},
   "source": [
    "#### 3.2 – Send Presentation\n",
    "\n",
    "Send the presentation to the recipient of `presentation_exchange_id`"
   ]
  },
  {
   "cell_type": "code",
   "execution_count": 9,
   "id": "bb18ef3f",
   "metadata": {},
   "outputs": [
    {
     "name": "stdout",
     "output_type": "stream",
     "text": [
      "\n",
      "---------------------------------------------------------------------\n",
      "\u001B[1mConnection Webhook Event Received: Present-Proof Handler\u001B[0m\n",
      "Connection ID :  e8141e1d-bb54-4ea8-8c15-10984a00ea02\n",
      "Presentation Exchange ID :  8d1001f7-98ce-4284-b008-b928920ce26d\n",
      "Protocol State :  \u001B[34mpresentation_sent\u001B[0m\n",
      "Agent Role :  prover\n",
      "Initiator :  external\n",
      "---------------------------------------------------------------------\n",
      "\n",
      "---------------------------------------------------------------------\n",
      "\u001B[1mConnection Webhook Event Received: Present-Proof Handler\u001B[0m\n",
      "Connection ID :  e8141e1d-bb54-4ea8-8c15-10984a00ea02\n",
      "Presentation Exchange ID :  8d1001f7-98ce-4284-b008-b928920ce26d\n",
      "Protocol State :  \u001B[34mpresentation_acked\u001B[0m\n",
      "Agent Role :  prover\n",
      "Initiator :  external\n",
      "---------------------------------------------------------------------\n",
      "\u001B[1m\u001B[32m\n",
      "Presentation Exchange ID: {pei} is acknowledged by Relying Party\u001B[0m\n"
     ]
    }
   ],
   "source": [
    "manufacturer2_agent.send_proof_presentation(presentation_exchange_id, presentation)"
   ]
  },
  {
   "cell_type": "markdown",
   "id": "5170763a",
   "metadata": {},
   "source": [
    "<div style=\"font-size: 25px\"><center><b>Break Point 6/7/8</b></center></div>\n",
    "<div style=\"font-size: 50px\"><center>💼 ➡️ 💼 / 💼 / 🏙️ </center></div><br>\n",
    "<center><b>Please proceed to the remaining Manufacturers and run all cells between Steps 3 and 4.1 <br> If you have sent proof presentations from all manufacturers, proceed to the City Notebook's Step 3.3 </b></center>\n"
   ]
  },
  {
   "cell_type": "markdown",
   "id": "3b671bf2",
   "metadata": {},
   "source": [
    "---\n",
    "\n",
    "### 4 – Do Data Science\n",
    "\n",
    "#### 4.1 – Establish a Duet Connection: Send Duet invitation\n",
    "Duet is a package that allows you to exchange encrypted data and run privacy-preserving arithmetic operations on them (e.g., through homomorphic encryption or secure multiparty computation)."
   ]
  },
  {
   "cell_type": "code",
   "execution_count": 12,
   "id": "ab0eb30c",
   "metadata": {},
   "outputs": [
    {
     "name": "stdout",
     "output_type": "stream",
     "text": [
      "🎤  🎸  ♪♪♪ Starting Duet ♫♫♫  🎻  🎹\n",
      "\n",
      "♫♫♫ >\u001B[93m DISCLAIMER\u001B[0m: \u001B[1mDuet is an experimental feature currently in beta.\n",
      "♫♫♫ > Use at your own risk.\n",
      "\u001B[0m\n",
      "\u001B[1m\n",
      "    > ❤️ \u001B[91mLove\u001B[0m \u001B[92mDuet\u001B[0m? \u001B[93mPlease\u001B[0m \u001B[94mconsider\u001B[0m \u001B[95msupporting\u001B[0m \u001B[91mour\u001B[0m \u001B[93mcommunity!\u001B[0m\n",
      "    > https://github.com/sponsors/OpenMined\u001B[1m\n",
      "\n",
      "♫♫♫ > Punching through firewall to OpenGrid Network Node at:\n",
      "♫♫♫ > http://ec2-18-218-7-180.us-east-2.compute.amazonaws.com:5000\n",
      "♫♫♫ >\n",
      "♫♫♫ > ...waiting for response from OpenGrid Network... \n",
      "♫♫♫ > \u001B[92mDONE!\u001B[0m\n",
      "♫♫♫ > Duet Server ID: \u001B[1m9dd6874a4fd57d968bf8809c1b316699\u001B[0m\n",
      "\n",
      "♫♫♫ > \u001B[95mSTEP 1:\u001B[0m Send the following code to your Duet Partner!\n",
      "\n",
      "import syft as sy\n",
      "duet = sy.duet(\"\u001B[1m9dd6874a4fd57d968bf8809c1b316699\u001B[0m\")\n",
      "\n",
      "♫♫♫ > \u001B[95mSTEP 2:\u001B[0m Ask your partner for their Client ID and enter it below!\n"
     ]
    },
    {
     "name": "stderr",
     "output_type": "stream",
     "text": [
      "ERROR:root:Internal Python error in the inspect module.\n",
      "Below is the traceback from this internal error.\n",
      "\n"
     ]
    },
    {
     "name": "stdout",
     "output_type": "stream",
     "text": [
      "Traceback (most recent call last):\n",
      "  File \"/opt/conda/lib/python3.9/site-packages/IPython/core/interactiveshell.py\", line 3441, in run_code\n",
      "    exec(code_obj, self.user_global_ns, self.user_ns)\n",
      "  File \"/tmp/ipykernel_15/4227218017.py\", line 2, in <module>\n",
      "    duet = sy.duet()\n",
      "  File \"/opt/conda/lib/python3.9/site-packages/syft/grid/duet/__init__.py\", line 167, in duet\n",
      "    return launch_duet(\n",
      "  File \"/opt/conda/lib/python3.9/site-packages/syft/grid/duet/__init__.py\", line 217, in launch_duet\n",
      "    target_id = credential_exchanger.run(credential=signaling_client.duet_id)\n",
      "  File \"/opt/conda/lib/python3.9/site-packages/syft/grid/duet/exchange_ids.py\", line 40, in run\n",
      "    return self._server_exchange(credential=self.credential)\n",
      "  File \"/opt/conda/lib/python3.9/site-packages/syft/grid/duet/exchange_ids.py\", line 74, in _server_exchange\n",
      "    client_id = input(\"♫♫♫ > Duet Partner's Client ID: \")  # nosec\n",
      "  File \"/opt/conda/lib/python3.9/site-packages/ipykernel/kernelbase.py\", line 981, in raw_input\n",
      "    return self._input_request(\n",
      "  File \"/opt/conda/lib/python3.9/site-packages/ipykernel/kernelbase.py\", line 1026, in _input_request\n",
      "    raise KeyboardInterrupt(\"Interrupted by user\") from None\n",
      "KeyboardInterrupt: Interrupted by user\n",
      "\n",
      "During handling of the above exception, another exception occurred:\n",
      "\n",
      "Traceback (most recent call last):\n",
      "  File \"/opt/conda/lib/python3.9/site-packages/IPython/core/interactiveshell.py\", line 2061, in showtraceback\n",
      "    stb = value._render_traceback_()\n",
      "AttributeError: 'KeyboardInterrupt' object has no attribute '_render_traceback_'\n",
      "\n",
      "During handling of the above exception, another exception occurred:\n",
      "\n",
      "Traceback (most recent call last):\n",
      "  File \"/opt/conda/lib/python3.9/site-packages/IPython/core/ultratb.py\", line 1101, in get_records\n",
      "    return _fixed_getinnerframes(etb, number_of_lines_of_context, tb_offset)\n",
      "  File \"/opt/conda/lib/python3.9/site-packages/IPython/core/ultratb.py\", line 248, in wrapped\n",
      "    return f(*args, **kwargs)\n",
      "  File \"/opt/conda/lib/python3.9/site-packages/IPython/core/ultratb.py\", line 281, in _fixed_getinnerframes\n",
      "    records = fix_frame_records_filenames(inspect.getinnerframes(etb, context))\n",
      "  File \"/opt/conda/lib/python3.9/inspect.py\", line 1541, in getinnerframes\n",
      "    frameinfo = (tb.tb_frame,) + getframeinfo(tb, context)\n",
      "  File \"/opt/conda/lib/python3.9/inspect.py\", line 1499, in getframeinfo\n",
      "    filename = getsourcefile(frame) or getfile(frame)\n",
      "  File \"/opt/conda/lib/python3.9/inspect.py\", line 709, in getsourcefile\n",
      "    if getattr(getmodule(object, filename), '__loader__', None) is not None:\n",
      "  File \"/opt/conda/lib/python3.9/inspect.py\", line 745, in getmodule\n",
      "    for modname, module in sys.modules.copy().items():\n",
      "KeyboardInterrupt\n"
     ]
    },
    {
     "ename": "TypeError",
     "evalue": "object of type 'NoneType' has no len()",
     "output_type": "error",
     "traceback": [
      "\u001B[0;31m---------------------------------------------------------------------------\u001B[0m",
      "\u001B[0;31mKeyboardInterrupt\u001B[0m                         Traceback (most recent call last)",
      "    \u001B[0;31m[... skipping hidden 1 frame]\u001B[0m\n",
      "\u001B[0;32m/tmp/ipykernel_15/4227218017.py\u001B[0m in \u001B[0;36m<module>\u001B[0;34m\u001B[0m\n\u001B[1;32m      1\u001B[0m \u001B[0;31m# Initiate duet server\u001B[0m\u001B[0;34m\u001B[0m\u001B[0;34m\u001B[0m\u001B[0;34m\u001B[0m\u001B[0m\n\u001B[0;32m----> 2\u001B[0;31m \u001B[0mduet\u001B[0m \u001B[0;34m=\u001B[0m \u001B[0msy\u001B[0m\u001B[0;34m.\u001B[0m\u001B[0mduet\u001B[0m\u001B[0;34m(\u001B[0m\u001B[0;34m)\u001B[0m\u001B[0;34m\u001B[0m\u001B[0;34m\u001B[0m\u001B[0m\n\u001B[0m",
      "\u001B[0;32m/opt/conda/lib/python3.9/site-packages/syft/grid/duet/__init__.py\u001B[0m in \u001B[0;36mduet\u001B[0;34m(target_id, logging, network_url, loopback, db_path)\u001B[0m\n\u001B[1;32m    166\u001B[0m     \u001B[0;32melse\u001B[0m\u001B[0;34m:\u001B[0m\u001B[0;34m\u001B[0m\u001B[0;34m\u001B[0m\u001B[0m\n\u001B[0;32m--> 167\u001B[0;31m         return launch_duet(\n\u001B[0m\u001B[1;32m    168\u001B[0m             \u001B[0mlogging\u001B[0m\u001B[0;34m=\u001B[0m\u001B[0mlogging\u001B[0m\u001B[0;34m,\u001B[0m \u001B[0mnetwork_url\u001B[0m\u001B[0;34m=\u001B[0m\u001B[0mnetwork_url\u001B[0m\u001B[0;34m,\u001B[0m \u001B[0mloopback\u001B[0m\u001B[0;34m=\u001B[0m\u001B[0mloopback\u001B[0m\u001B[0;34m,\u001B[0m \u001B[0mdb_path\u001B[0m\u001B[0;34m=\u001B[0m\u001B[0mdb_path\u001B[0m\u001B[0;34m\u001B[0m\u001B[0;34m\u001B[0m\u001B[0m\n",
      "\u001B[0;32m/opt/conda/lib/python3.9/site-packages/syft/grid/duet/__init__.py\u001B[0m in \u001B[0;36mlaunch_duet\u001B[0;34m(logging, network_url, loopback, credential_exchanger, db_path)\u001B[0m\n\u001B[1;32m    216\u001B[0m         \u001B[0mcredential_exchanger\u001B[0m \u001B[0;34m=\u001B[0m \u001B[0mOpenGridTokenFileExchanger\u001B[0m\u001B[0;34m(\u001B[0m\u001B[0;34m)\u001B[0m\u001B[0;34m\u001B[0m\u001B[0;34m\u001B[0m\u001B[0m\n\u001B[0;32m--> 217\u001B[0;31m     \u001B[0mtarget_id\u001B[0m \u001B[0;34m=\u001B[0m \u001B[0mcredential_exchanger\u001B[0m\u001B[0;34m.\u001B[0m\u001B[0mrun\u001B[0m\u001B[0;34m(\u001B[0m\u001B[0mcredential\u001B[0m\u001B[0;34m=\u001B[0m\u001B[0msignaling_client\u001B[0m\u001B[0;34m.\u001B[0m\u001B[0mduet_id\u001B[0m\u001B[0;34m)\u001B[0m\u001B[0;34m\u001B[0m\u001B[0;34m\u001B[0m\u001B[0m\n\u001B[0m\u001B[1;32m    218\u001B[0m \u001B[0;34m\u001B[0m\u001B[0m\n",
      "\u001B[0;32m/opt/conda/lib/python3.9/site-packages/syft/grid/duet/exchange_ids.py\u001B[0m in \u001B[0;36mrun\u001B[0;34m(self, credential)\u001B[0m\n\u001B[1;32m     39\u001B[0m         \u001B[0;32melse\u001B[0m\u001B[0;34m:\u001B[0m\u001B[0;34m\u001B[0m\u001B[0;34m\u001B[0m\u001B[0m\n\u001B[0;32m---> 40\u001B[0;31m             \u001B[0;32mreturn\u001B[0m \u001B[0mself\u001B[0m\u001B[0;34m.\u001B[0m\u001B[0m_server_exchange\u001B[0m\u001B[0;34m(\u001B[0m\u001B[0mcredential\u001B[0m\u001B[0;34m=\u001B[0m\u001B[0mself\u001B[0m\u001B[0;34m.\u001B[0m\u001B[0mcredential\u001B[0m\u001B[0;34m)\u001B[0m\u001B[0;34m\u001B[0m\u001B[0;34m\u001B[0m\u001B[0m\n\u001B[0m\u001B[1;32m     41\u001B[0m \u001B[0;34m\u001B[0m\u001B[0m\n",
      "\u001B[0;32m/opt/conda/lib/python3.9/site-packages/syft/grid/duet/exchange_ids.py\u001B[0m in \u001B[0;36m_server_exchange\u001B[0;34m(self, credential)\u001B[0m\n\u001B[1;32m     73\u001B[0m         \u001B[0;32mwhile\u001B[0m \u001B[0;32mTrue\u001B[0m\u001B[0;34m:\u001B[0m\u001B[0;34m\u001B[0m\u001B[0;34m\u001B[0m\u001B[0m\n\u001B[0;32m---> 74\u001B[0;31m             \u001B[0mclient_id\u001B[0m \u001B[0;34m=\u001B[0m \u001B[0minput\u001B[0m\u001B[0;34m(\u001B[0m\u001B[0;34m\"♫♫♫ > Duet Partner's Client ID: \"\u001B[0m\u001B[0;34m)\u001B[0m  \u001B[0;31m# nosec\u001B[0m\u001B[0;34m\u001B[0m\u001B[0;34m\u001B[0m\u001B[0m\n\u001B[0m\u001B[1;32m     75\u001B[0m             \u001B[0;32mif\u001B[0m \u001B[0mlen\u001B[0m\u001B[0;34m(\u001B[0m\u001B[0mclient_id\u001B[0m\u001B[0;34m)\u001B[0m \u001B[0;34m==\u001B[0m \u001B[0;36m32\u001B[0m\u001B[0;34m:\u001B[0m\u001B[0;34m\u001B[0m\u001B[0;34m\u001B[0m\u001B[0m\n",
      "\u001B[0;32m/opt/conda/lib/python3.9/site-packages/ipykernel/kernelbase.py\u001B[0m in \u001B[0;36mraw_input\u001B[0;34m(self, prompt)\u001B[0m\n\u001B[1;32m    980\u001B[0m             )\n\u001B[0;32m--> 981\u001B[0;31m         return self._input_request(\n\u001B[0m\u001B[1;32m    982\u001B[0m             \u001B[0mstr\u001B[0m\u001B[0;34m(\u001B[0m\u001B[0mprompt\u001B[0m\u001B[0;34m)\u001B[0m\u001B[0;34m,\u001B[0m\u001B[0;34m\u001B[0m\u001B[0;34m\u001B[0m\u001B[0m\n",
      "\u001B[0;32m/opt/conda/lib/python3.9/site-packages/ipykernel/kernelbase.py\u001B[0m in \u001B[0;36m_input_request\u001B[0;34m(self, prompt, ident, parent, password)\u001B[0m\n\u001B[1;32m   1025\u001B[0m                 \u001B[0;31m# re-raise KeyboardInterrupt, to truncate traceback\u001B[0m\u001B[0;34m\u001B[0m\u001B[0;34m\u001B[0m\u001B[0;34m\u001B[0m\u001B[0m\n\u001B[0;32m-> 1026\u001B[0;31m                 \u001B[0;32mraise\u001B[0m \u001B[0mKeyboardInterrupt\u001B[0m\u001B[0;34m(\u001B[0m\u001B[0;34m\"Interrupted by user\"\u001B[0m\u001B[0;34m)\u001B[0m \u001B[0;32mfrom\u001B[0m \u001B[0;32mNone\u001B[0m\u001B[0;34m\u001B[0m\u001B[0;34m\u001B[0m\u001B[0m\n\u001B[0m\u001B[1;32m   1027\u001B[0m             \u001B[0;32mexcept\u001B[0m \u001B[0mException\u001B[0m\u001B[0;34m:\u001B[0m\u001B[0;34m\u001B[0m\u001B[0;34m\u001B[0m\u001B[0m\n",
      "\u001B[0;31mKeyboardInterrupt\u001B[0m: Interrupted by user",
      "\nDuring handling of the above exception, another exception occurred:\n",
      "\u001B[0;31mAttributeError\u001B[0m                            Traceback (most recent call last)",
      "\u001B[0;32m/opt/conda/lib/python3.9/site-packages/IPython/core/interactiveshell.py\u001B[0m in \u001B[0;36mshowtraceback\u001B[0;34m(self, exc_tuple, filename, tb_offset, exception_only, running_compiled_code)\u001B[0m\n\u001B[1;32m   2060\u001B[0m                         \u001B[0;31m# in the engines. This should return a list of strings.\u001B[0m\u001B[0;34m\u001B[0m\u001B[0;34m\u001B[0m\u001B[0;34m\u001B[0m\u001B[0m\n\u001B[0;32m-> 2061\u001B[0;31m                         \u001B[0mstb\u001B[0m \u001B[0;34m=\u001B[0m \u001B[0mvalue\u001B[0m\u001B[0;34m.\u001B[0m\u001B[0m_render_traceback_\u001B[0m\u001B[0;34m(\u001B[0m\u001B[0;34m)\u001B[0m\u001B[0;34m\u001B[0m\u001B[0;34m\u001B[0m\u001B[0m\n\u001B[0m\u001B[1;32m   2062\u001B[0m                     \u001B[0;32mexcept\u001B[0m \u001B[0mException\u001B[0m\u001B[0;34m:\u001B[0m\u001B[0;34m\u001B[0m\u001B[0;34m\u001B[0m\u001B[0m\n",
      "\u001B[0;31mAttributeError\u001B[0m: 'KeyboardInterrupt' object has no attribute '_render_traceback_'",
      "\nDuring handling of the above exception, another exception occurred:\n",
      "\u001B[0;31mTypeError\u001B[0m                                 Traceback (most recent call last)",
      "    \u001B[0;31m[... skipping hidden 1 frame]\u001B[0m\n",
      "\u001B[0;32m/opt/conda/lib/python3.9/site-packages/IPython/core/interactiveshell.py\u001B[0m in \u001B[0;36mshowtraceback\u001B[0;34m(self, exc_tuple, filename, tb_offset, exception_only, running_compiled_code)\u001B[0m\n\u001B[1;32m   2061\u001B[0m                         \u001B[0mstb\u001B[0m \u001B[0;34m=\u001B[0m \u001B[0mvalue\u001B[0m\u001B[0;34m.\u001B[0m\u001B[0m_render_traceback_\u001B[0m\u001B[0;34m(\u001B[0m\u001B[0;34m)\u001B[0m\u001B[0;34m\u001B[0m\u001B[0;34m\u001B[0m\u001B[0m\n\u001B[1;32m   2062\u001B[0m                     \u001B[0;32mexcept\u001B[0m \u001B[0mException\u001B[0m\u001B[0;34m:\u001B[0m\u001B[0;34m\u001B[0m\u001B[0;34m\u001B[0m\u001B[0m\n\u001B[0;32m-> 2063\u001B[0;31m                         stb = self.InteractiveTB.structured_traceback(etype,\n\u001B[0m\u001B[1;32m   2064\u001B[0m                                             value, tb, tb_offset=tb_offset)\n\u001B[1;32m   2065\u001B[0m \u001B[0;34m\u001B[0m\u001B[0m\n",
      "\u001B[0;32m/opt/conda/lib/python3.9/site-packages/IPython/core/ultratb.py\u001B[0m in \u001B[0;36mstructured_traceback\u001B[0;34m(self, etype, value, tb, tb_offset, number_of_lines_of_context)\u001B[0m\n\u001B[1;32m   1365\u001B[0m         \u001B[0;32melse\u001B[0m\u001B[0;34m:\u001B[0m\u001B[0;34m\u001B[0m\u001B[0;34m\u001B[0m\u001B[0m\n\u001B[1;32m   1366\u001B[0m             \u001B[0mself\u001B[0m\u001B[0;34m.\u001B[0m\u001B[0mtb\u001B[0m \u001B[0;34m=\u001B[0m \u001B[0mtb\u001B[0m\u001B[0;34m\u001B[0m\u001B[0;34m\u001B[0m\u001B[0m\n\u001B[0;32m-> 1367\u001B[0;31m         return FormattedTB.structured_traceback(\n\u001B[0m\u001B[1;32m   1368\u001B[0m             self, etype, value, tb, tb_offset, number_of_lines_of_context)\n\u001B[1;32m   1369\u001B[0m \u001B[0;34m\u001B[0m\u001B[0m\n",
      "\u001B[0;32m/opt/conda/lib/python3.9/site-packages/IPython/core/ultratb.py\u001B[0m in \u001B[0;36mstructured_traceback\u001B[0;34m(self, etype, value, tb, tb_offset, number_of_lines_of_context)\u001B[0m\n\u001B[1;32m   1265\u001B[0m         \u001B[0;32mif\u001B[0m \u001B[0mmode\u001B[0m \u001B[0;32min\u001B[0m \u001B[0mself\u001B[0m\u001B[0;34m.\u001B[0m\u001B[0mverbose_modes\u001B[0m\u001B[0;34m:\u001B[0m\u001B[0;34m\u001B[0m\u001B[0;34m\u001B[0m\u001B[0m\n\u001B[1;32m   1266\u001B[0m             \u001B[0;31m# Verbose modes need a full traceback\u001B[0m\u001B[0;34m\u001B[0m\u001B[0;34m\u001B[0m\u001B[0;34m\u001B[0m\u001B[0m\n\u001B[0;32m-> 1267\u001B[0;31m             return VerboseTB.structured_traceback(\n\u001B[0m\u001B[1;32m   1268\u001B[0m                 \u001B[0mself\u001B[0m\u001B[0;34m,\u001B[0m \u001B[0metype\u001B[0m\u001B[0;34m,\u001B[0m \u001B[0mvalue\u001B[0m\u001B[0;34m,\u001B[0m \u001B[0mtb\u001B[0m\u001B[0;34m,\u001B[0m \u001B[0mtb_offset\u001B[0m\u001B[0;34m,\u001B[0m \u001B[0mnumber_of_lines_of_context\u001B[0m\u001B[0;34m\u001B[0m\u001B[0;34m\u001B[0m\u001B[0m\n\u001B[1;32m   1269\u001B[0m             )\n",
      "\u001B[0;32m/opt/conda/lib/python3.9/site-packages/IPython/core/ultratb.py\u001B[0m in \u001B[0;36mstructured_traceback\u001B[0;34m(self, etype, evalue, etb, tb_offset, number_of_lines_of_context)\u001B[0m\n\u001B[1;32m   1122\u001B[0m         \u001B[0;34m\"\"\"Return a nice text document describing the traceback.\"\"\"\u001B[0m\u001B[0;34m\u001B[0m\u001B[0;34m\u001B[0m\u001B[0m\n\u001B[1;32m   1123\u001B[0m \u001B[0;34m\u001B[0m\u001B[0m\n\u001B[0;32m-> 1124\u001B[0;31m         formatted_exception = self.format_exception_as_a_whole(etype, evalue, etb, number_of_lines_of_context,\n\u001B[0m\u001B[1;32m   1125\u001B[0m                                                                tb_offset)\n\u001B[1;32m   1126\u001B[0m \u001B[0;34m\u001B[0m\u001B[0m\n",
      "\u001B[0;32m/opt/conda/lib/python3.9/site-packages/IPython/core/ultratb.py\u001B[0m in \u001B[0;36mformat_exception_as_a_whole\u001B[0;34m(self, etype, evalue, etb, number_of_lines_of_context, tb_offset)\u001B[0m\n\u001B[1;32m   1080\u001B[0m \u001B[0;34m\u001B[0m\u001B[0m\n\u001B[1;32m   1081\u001B[0m \u001B[0;34m\u001B[0m\u001B[0m\n\u001B[0;32m-> 1082\u001B[0;31m         \u001B[0mlast_unique\u001B[0m\u001B[0;34m,\u001B[0m \u001B[0mrecursion_repeat\u001B[0m \u001B[0;34m=\u001B[0m \u001B[0mfind_recursion\u001B[0m\u001B[0;34m(\u001B[0m\u001B[0morig_etype\u001B[0m\u001B[0;34m,\u001B[0m \u001B[0mevalue\u001B[0m\u001B[0;34m,\u001B[0m \u001B[0mrecords\u001B[0m\u001B[0;34m)\u001B[0m\u001B[0;34m\u001B[0m\u001B[0;34m\u001B[0m\u001B[0m\n\u001B[0m\u001B[1;32m   1083\u001B[0m \u001B[0;34m\u001B[0m\u001B[0m\n\u001B[1;32m   1084\u001B[0m         \u001B[0mframes\u001B[0m \u001B[0;34m=\u001B[0m \u001B[0mself\u001B[0m\u001B[0;34m.\u001B[0m\u001B[0mformat_records\u001B[0m\u001B[0;34m(\u001B[0m\u001B[0mrecords\u001B[0m\u001B[0;34m,\u001B[0m \u001B[0mlast_unique\u001B[0m\u001B[0;34m,\u001B[0m \u001B[0mrecursion_repeat\u001B[0m\u001B[0;34m)\u001B[0m\u001B[0;34m\u001B[0m\u001B[0;34m\u001B[0m\u001B[0m\n",
      "\u001B[0;32m/opt/conda/lib/python3.9/site-packages/IPython/core/ultratb.py\u001B[0m in \u001B[0;36mfind_recursion\u001B[0;34m(etype, value, records)\u001B[0m\n\u001B[1;32m    380\u001B[0m     \u001B[0;31m# first frame (from in to out) that looks different.\u001B[0m\u001B[0;34m\u001B[0m\u001B[0;34m\u001B[0m\u001B[0;34m\u001B[0m\u001B[0m\n\u001B[1;32m    381\u001B[0m     \u001B[0;32mif\u001B[0m \u001B[0;32mnot\u001B[0m \u001B[0mis_recursion_error\u001B[0m\u001B[0;34m(\u001B[0m\u001B[0metype\u001B[0m\u001B[0;34m,\u001B[0m \u001B[0mvalue\u001B[0m\u001B[0;34m,\u001B[0m \u001B[0mrecords\u001B[0m\u001B[0;34m)\u001B[0m\u001B[0;34m:\u001B[0m\u001B[0;34m\u001B[0m\u001B[0;34m\u001B[0m\u001B[0m\n\u001B[0;32m--> 382\u001B[0;31m         \u001B[0;32mreturn\u001B[0m \u001B[0mlen\u001B[0m\u001B[0;34m(\u001B[0m\u001B[0mrecords\u001B[0m\u001B[0;34m)\u001B[0m\u001B[0;34m,\u001B[0m \u001B[0;36m0\u001B[0m\u001B[0;34m\u001B[0m\u001B[0;34m\u001B[0m\u001B[0m\n\u001B[0m\u001B[1;32m    383\u001B[0m \u001B[0;34m\u001B[0m\u001B[0m\n\u001B[1;32m    384\u001B[0m     \u001B[0;31m# Select filename, lineno, func_name to track frames with\u001B[0m\u001B[0;34m\u001B[0m\u001B[0;34m\u001B[0m\u001B[0;34m\u001B[0m\u001B[0m\n",
      "\u001B[0;31mTypeError\u001B[0m: object of type 'NoneType' has no len()"
     ]
    }
   ],
   "source": [
    "# Set up connection_id to use for duet connection\n",
    "manufacturer2_agent.set_duet_config(connection_id=connection_id)\n",
    "\n",
    "# Create duet invitation for city agent\n",
    "duet = sy.launch_duet(credential_exchanger=manufacturer2_agent)"
   ]
  },
  {
   "cell_type": "markdown",
   "id": "1f670dca",
   "metadata": {
    "pycharm": {
     "name": "#%% md\n"
    }
   },
   "source": [
    "## 2 - Secure Multi-Party Computation"
   ]
  },
  {
   "cell_type": "code",
   "execution_count": null,
   "id": "e418e418",
   "metadata": {},
   "outputs": [],
   "source": [
    "# Step 8: test there is no data in the server atm\n",
    "duet_m1.store.pandas"
   ]
  },
  {
   "cell_type": "code",
   "execution_count": null,
   "id": "63fc8bc0",
   "metadata": {},
   "outputs": [],
   "source": [
    "age_data = th.tensor([50,23,72,83])\n",
    "age_data = age_data.tag(\"test_data_age\")\n",
    "age_data = age_data.describe(\"description for age_data\")\n",
    "age_data_pointer = age_data.send(duet_m1, pointable=True)"
   ]
  },
  {
   "cell_type": "code",
   "execution_count": null,
   "id": "9f19137c",
   "metadata": {},
   "outputs": [],
   "source": [
    "duet_m1.store"
   ]
  },
  {
   "cell_type": "code",
   "execution_count": null,
   "id": "d44c4b41",
   "metadata": {},
   "outputs": [],
   "source": [
    "duet_m1.store.pandas"
   ]
  },
  {
   "cell_type": "code",
   "execution_count": null,
   "id": "bcf0e366",
   "metadata": {},
   "outputs": [],
   "source": [
    "duet_m1.id"
   ]
  },
  {
   "cell_type": "code",
   "execution_count": null,
   "id": "5b6e8226",
   "metadata": {},
   "outputs": [],
   "source": [
    "duet_m1.name"
   ]
  },
  {
   "cell_type": "code",
   "execution_count": null,
   "id": "9bf59df7",
   "metadata": {},
   "outputs": [],
   "source": [
    "duet_m1.target_id"
   ]
  },
  {
   "cell_type": "code",
   "execution_count": null,
   "id": "c465d5f0",
   "metadata": {},
   "outputs": [],
   "source": [
    "duet_m1.network_id"
   ]
  },
  {
   "cell_type": "code",
   "execution_count": null,
   "id": "06d4bdc2",
   "metadata": {},
   "outputs": [],
   "source": [
    "#duet_city.store.pandas"
   ]
  },
  {
   "cell_type": "code",
   "execution_count": null,
   "id": "cf53e3c4",
   "metadata": {},
   "outputs": [],
   "source": [
    "# Step 9: Publish secret data\n",
    "\n",
    "x = torch.tensor([50,60,77]) # define torch\n",
    "x.send(duet_m1, pointable=True, tags=[\"TEST_#1_from_m1_to_ds\"], description=\"Dummy data\") # send torch to duet_m1\n",
    "\n",
    "x = torch.tensor([[1,2], [3,4]])\n",
    "x.send(duet_m1, pointable=True, tags=[\"TEST_#2_from_m1_to_ds\"], description=\"Test to multiply matrices\")"
   ]
  },
  {
   "cell_type": "code",
   "execution_count": null,
   "id": "2134e605",
   "metadata": {
    "collapsed": false,
    "jupyter": {
     "outputs_hidden": false
    },
    "pycharm": {
     "name": "#%%\n"
    }
   },
   "outputs": [],
   "source": [
    "# Step 10: verify that data was uploaded to the store\n",
    "duet_m1.store.pandas"
   ]
  },
  {
   "cell_type": "code",
   "execution_count": null,
   "id": "65ae859b",
   "metadata": {
    "collapsed": false,
    "jupyter": {
     "outputs_hidden": false
    },
    "pycharm": {
     "name": "#%%\n"
    }
   },
   "outputs": [],
   "source": [
    "# Step 11: Authorize the requests ds can make\n",
    "duet_m1.requests.add_handler(action=\"accept\")"
   ]
  },
  {
   "cell_type": "code",
   "execution_count": null,
   "id": "293493c8",
   "metadata": {
    "collapsed": false,
    "jupyter": {
     "outputs_hidden": false
    },
    "pycharm": {
     "name": "#%%\n"
    }
   },
   "outputs": [],
   "source": [
    "# Step 11: Authorize the requests ds can make\n",
    "duet_city.requests.add_handler(action=\"accept\")"
   ]
  },
  {
   "cell_type": "code",
   "execution_count": null,
   "id": "51b93fd8",
   "metadata": {},
   "outputs": [],
   "source": []
  },
  {
   "cell_type": "code",
   "execution_count": null,
   "id": "a6a31ec8",
   "metadata": {},
   "outputs": [],
   "source": []
  },
  {
   "cell_type": "markdown",
   "id": "ecc96151",
   "metadata": {},
   "source": [
    "## Terminate Controller\n",
    "\n",
    "Whenever you have finished with this notebook, be sure to terminate the controller. This is especially important if your business logic runs across multiple notebooks."
   ]
  },
  {
   "cell_type": "code",
   "execution_count": 9,
   "id": "f5620102",
   "metadata": {},
   "outputs": [],
   "source": [
    "await agent_controller.terminate()"
   ]
  },
  {
   "cell_type": "code",
   "execution_count": null,
   "id": "9930f4aa",
   "metadata": {},
   "outputs": [],
   "source": []
  }
 ],
 "metadata": {
  "kernelspec": {
   "display_name": "Python 3 (ipykernel)",
   "language": "python",
   "name": "python3"
  },
  "language_info": {
   "codemirror_mode": {
    "name": "ipython",
    "version": 3
   },
   "file_extension": ".py",
   "mimetype": "text/x-python",
   "name": "python",
   "nbconvert_exporter": "python",
   "pygments_lexer": "ipython3",
   "version": "3.9.5"
  }
 },
 "nbformat": 4,
 "nbformat_minor": 5
}