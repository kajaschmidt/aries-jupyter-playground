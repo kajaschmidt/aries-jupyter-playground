{
 "cells": [
  {
   "cell_type": "markdown",
   "id": "5c9953f8",
   "metadata": {},
   "source": [
    "# PETs/TETs – Hyperledger Aries – Manufacturer 2 (Holder) 💼"
   ]
  },
  {
   "cell_type": "code",
   "execution_count": 1,
   "id": "3d5a4e21",
   "metadata": {},
   "outputs": [
    {
     "data": {
      "application/javascript": [
       "document.title ='💼 Manufacturer2 Agent'\n"
      ],
      "text/plain": [
       "<IPython.core.display.Javascript object>"
      ]
     },
     "metadata": {},
     "output_type": "display_data"
    }
   ],
   "source": [
    "%%javascript\n",
    "document.title ='💼 Manufacturer2 Agent'"
   ]
  },
  {
   "cell_type": "markdown",
   "id": "04bf666d",
   "metadata": {},
   "source": [
    "## PART 2: Issue a VC to the Manufacturer Agents\n",
    "\n",
    "**What:** Receive and store verifiable credential (VC) from the authority agent (i.e., the issuing authority)\n",
    "\n",
    "**Why:** To prove that the agent is a manufacturer to relying parties (e.g., the city agent)\n",
    "\n",
    "**How:** <br>\n",
    "1. [Initiate Manufacturer's AgentCommunicationManager (ACM)](#1)\n",
    "2. [Connect with the Authority agent](#2)\n",
    "3. [Request VC](#3)\n",
    "\n",
    "\n",
    "**Accompanying Agents and Notebooks:** \n",
    "* Authority 🏛️: `02_issue_VC_manufacturers.ipynb`"
   ]
  },
  {
   "cell_type": "markdown",
   "id": "d05375b4",
   "metadata": {},
   "source": [
    "---\n",
    "\n",
    "### 0 - Setup\n",
    "#### 0.1 - Imports"
   ]
  },
  {
   "cell_type": "code",
   "execution_count": 2,
   "id": "426c58a1",
   "metadata": {
    "collapsed": false,
    "jupyter": {
     "outputs_hidden": false
    },
    "pycharm": {
     "name": "#%%\n"
    }
   },
   "outputs": [],
   "source": [
    "from aries_cloudcontroller import AriesAgentController\n",
    "import libs.helpers as helpers\n",
    "from libs.agent_connection_manager import CredentialHolder\n",
    "import os\n",
    "from termcolor import colored"
   ]
  },
  {
   "cell_type": "markdown",
   "id": "df3f7d77",
   "metadata": {},
   "source": [
    "#### 0.2 – Variables"
   ]
  },
  {
   "cell_type": "code",
   "execution_count": 3,
   "id": "43b1a7f8",
   "metadata": {
    "collapsed": false,
    "jupyter": {
     "outputs_hidden": false
    },
    "pycharm": {
     "name": "#%%\n"
    }
   },
   "outputs": [],
   "source": [
    "# Get relevant details from .env file\n",
    "api_key = os.getenv(\"ACAPY_ADMIN_API_KEY\")\n",
    "admin_url = os.getenv(\"ADMIN_URL\")\n",
    "webhook_port = int(os.getenv(\"WEBHOOK_PORT\"))\n",
    "webhook_host = \"0.0.0.0\""
   ]
  },
  {
   "cell_type": "markdown",
   "id": "972d1bb6",
   "metadata": {},
   "source": [
    "--- \n",
    "\n",
    "<a id=1></a>\n",
    "\n",
    "### 1 – Initiate Manufacturer2 Agent\n",
    "#### 1.1 – Init ACA-PY agent controller"
   ]
  },
  {
   "cell_type": "code",
   "execution_count": 4,
   "id": "997fec60",
   "metadata": {
    "collapsed": false,
    "jupyter": {
     "outputs_hidden": false
    },
    "pycharm": {
     "name": "#%%\n"
    }
   },
   "outputs": [
    {
     "name": "stdout",
     "output_type": "stream",
     "text": [
      "Initialising a controller with admin api at http://manufacturer2-agent:3021 and an api key of adminApiKey\n"
     ]
    }
   ],
   "source": [
    "# Setup\n",
    "agent_controller = AriesAgentController(admin_url,api_key)\n",
    "print(f\"Initialising a controller with admin api at {admin_url} and an api key of {api_key}\")"
   ]
  },
  {
   "cell_type": "markdown",
   "id": "646ffd92",
   "metadata": {},
   "source": [
    "#### 1.2 – Start Webhook Server to enable communication with other agents\n",
    "@todo: is communication with other agents, or with other docker containers?"
   ]
  },
  {
   "cell_type": "code",
   "execution_count": 5,
   "id": "7ce9c2b7",
   "metadata": {
    "collapsed": false,
    "jupyter": {
     "outputs_hidden": false
    },
    "pycharm": {
     "name": "#%%\n"
    }
   },
   "outputs": [
    {
     "name": "stdout",
     "output_type": "stream",
     "text": [
      "Listening for webhooks from agent at http://0.0.0.0:3010\n"
     ]
    }
   ],
   "source": [
    "# Listen on webhook server\n",
    "await agent_controller.init_webhook_server(webhook_host, webhook_port)\n",
    "print(f\"Listening for webhooks from agent at http://{webhook_host}:{webhook_port}\")"
   ]
  },
  {
   "cell_type": "markdown",
   "id": "fde5cbbd",
   "metadata": {},
   "source": [
    "#### 1.3 – Init ACM issuing authority"
   ]
  },
  {
   "cell_type": "code",
   "execution_count": 6,
   "id": "34201c83",
   "metadata": {
    "collapsed": false,
    "jupyter": {
     "outputs_hidden": false
    },
    "pycharm": {
     "name": "#%%\n"
    }
   },
   "outputs": [
    {
     "name": "stdout",
     "output_type": "stream",
     "text": [
      "\u001b[1m\u001b[32mSuccessfully initiated AgentConnectionManager for a(n) Holder ACA-PY agent\u001b[0m\n"
     ]
    },
    {
     "data": {
      "text/plain": [
       "{'results': [{'referent': 'M2-isManufacturer',\n",
       "   'attrs': {'manufacturerCountry': 'Germany',\n",
       "    'isManufacturer': 'TRUE',\n",
       "    'manufacturerCity': 'Braunschweig',\n",
       "    'manufacturerName': 'undisclosedManufacturer2'},\n",
       "   'schema_id': 'au8Y1rjsZyz9jbpr3Lk54:2:certify-manufacturer:0.0.1',\n",
       "   'cred_def_id': 'au8Y1rjsZyz9jbpr3Lk54:3:CL:250893:default',\n",
       "   'rev_reg_id': None,\n",
       "   'cred_rev_id': None}]}"
      ]
     },
     "execution_count": 6,
     "metadata": {},
     "output_type": "execute_result"
    }
   ],
   "source": [
    "# The CredentialHolder registers relevant webhook servers and event listeners\n",
    "manufacturer2_agent = CredentialHolder(agent_controller)\n",
    "\n",
    "# Verify if Manufacturer already has a VC \n",
    "# (if there are manufacturer credentials, there is no need to execute the notebook)\n",
    "manufacturer2_agent.get_credentials()"
   ]
  },
  {
   "cell_type": "markdown",
   "id": "bebd11c2",
   "metadata": {},
   "source": [
    "---\n",
    "\n",
    "<a id=2></a>\n",
    "\n",
    "### 2 – Establish a connection with the Authority agent\n",
    "A connection with the credential issuer (i.e., the authority agent) must be established before a VC can be received. In this scenario, the Manufacturer2 requests a connection with the Authority to be certified as an official city agency. Thus, the Manufacturer2 agent sends an invitation to the Authority. In real life, the invitation can be shared via video call, phone call, or E-Mail. In this PoC, this is represented by copy and pasting the invitation into the manufacturers' notebooks.\n",
    "\n",
    "#### 2.1 Create invitation to Authority agent\n",
    "\n",
    "\n",
    "Several state changes of the connection between the Manufacturer agent, the inviter (A), and the authority agent, the invitee (B),  are required before successfully establishing a connection: \n",
    "\n",
    "| Step | State | Agent | Description | Function/Prompt/Variable |\n",
    "| --- | --- | --- | --- | --- |\n",
    "| 1 | invitation-sent | A | A sent an invitation to B | `create_connection_invitation()`\n",
    "| 2 | invitation-received | B | B receives the invitation of A | Prompt: Paste invitation from A |\n",
    "| 3 | request-sent | B | B sends B connection request | Prompt: Accept invitation OR `auto_accept=True` |\n",
    "| 4 | request-received | A | A receives the connection request from B | Prompt: Accept invitation request response OR `auto_accept=True` |\n",
    "| 5 | response-sent | A | A sends B response to B | - |\n",
    "| 6 | response-received | B | B receives the response from A | - |\n",
    "| 7 | active (completed) | A | B pings A to finalize connection | Prompt: Trust ping OR `auto_ping=True` |"
   ]
  },
  {
   "cell_type": "code",
   "execution_count": 7,
   "id": "705ba5f6",
   "metadata": {},
   "outputs": [
    {
     "name": "stdout",
     "output_type": "stream",
     "text": [
      "\u001b[1m\u001b[35mPlease enter invitation received by external agent.\u001b[0m\n"
     ]
    },
    {
     "name": "stdin",
     "output_type": "stream",
     "text": [
      "\u001b[35mInvitation: \u001b[0m {     '@id': '12b33815-23af-4ae7-b568-cae018164c4e',     '@type': 'did:sov:BzCbsNYhMrjHiqZDTUASHg;spec/connections/1.0/invitation',     'label': 'City',     'recipientKeys': ['8MddCUstTXLgCra7DMZ9kcQqVxwErsZmig3hukCgJXFQ'],     'serviceEndpoint': 'https://d5030c9e1fc9.ngrok.io', }\n"
     ]
    },
    {
     "name": "stdout",
     "output_type": "stream",
     "text": [
      "INIT CONNECTION  5543b4d3-a652-4083-ba01-5f7e2f66d877\n",
      "Auto accept:  True  Auto ping:  True\n",
      "\n",
      "---------------------------------------------------------------------\n",
      "\u001b[1mConnection Webhook Event Received\u001b[0m\n",
      "Connection ID :  5543b4d3-a652-4083-ba01-5f7e2f66d877\n",
      "State :  \u001b[34minvitation (invitation-received)\u001b[0m\n",
      "Routing State : none\n",
      "Connection with :  City\n",
      "Their Role :  inviter\n",
      "---------------------------------------------------------------------\n",
      "\n",
      "---------------------------------------------------------------------\n",
      "\u001b[1mConnection Webhook Event Received\u001b[0m\n",
      "Connection ID :  5543b4d3-a652-4083-ba01-5f7e2f66d877\n",
      "State :  \u001b[34mrequest (request-sent)\u001b[0m\n",
      "Routing State : none\n",
      "Connection with :  City\n",
      "Their Role :  inviter\n",
      "---------------------------------------------------------------------\n",
      "\n",
      "---------------------------------------------------------------------\n",
      "\u001b[1mConnection Webhook Event Received\u001b[0m\n",
      "Connection ID :  5543b4d3-a652-4083-ba01-5f7e2f66d877\n",
      "State :  \u001b[34mresponse (response-received)\u001b[0m\n",
      "Routing State : none\n",
      "Connection with :  City\n",
      "Their Role :  inviter\n",
      "---------------------------------------------------------------------\n",
      "\n",
      "---------------------------------------------------------------------\n",
      "\u001b[1mConnection Webhook Event Received\u001b[0m\n",
      "Connection ID :  5543b4d3-a652-4083-ba01-5f7e2f66d877\n",
      "State :  \u001b[34mactive (completed)\u001b[0m\n",
      "Routing State : none\n",
      "Connection with :  City\n",
      "Their Role :  inviter\n",
      "---------------------------------------------------------------------\n",
      "\u001b[1m\u001b[32mConnection ID: 5543b4d3-a652-4083-ba01-5f7e2f66d877 is now active.\u001b[0m\n"
     ]
    }
   ],
   "source": [
    "# Setup for connection with Authority agent\n",
    "alias = None\n",
    "auto_accept = True # Accept response of Authority agent right away\n",
    "auto_ping = True\n",
    "public = False # Do not use public DID\n",
    "multi_use = False # Invitation is only for one invitee\n",
    "\n",
    "connection_id = manufacturer1_agent.create_connection_invitation(alias=alias, auto_accept=auto_accept, public=public, multi_use=multi_use, auto_ping=auto_ping)"
   ]
  },
  {
   "cell_type": "markdown",
   "id": "0e3e10b5",
   "metadata": {},
   "source": [
    "<div style=\"font-size: 25px\"><center><b>Break Point 5</b></center></div>\n",
    "<div style=\"font-size: 50px\"><center>💼 ➡️ 🏛</center></div><br>\n",
    "<center>Please switch to the Authority agent 🏛: Please paste the invitation in Step 4.1 when prompted. If auto_accept is set to False, enter \"yes\" when prompted before proceeding.</center>\n",
    "\n",
    "---\n",
    "\n",
    "<a id=3></a>\n",
    "### 3 – Request VC from `Authority` agent\n",
    "#### 3.1 – Message `Authority` with request"
   ]
  },
  {
   "cell_type": "code",
   "execution_count": 9,
   "id": "b29a4518",
   "metadata": {},
   "outputs": [
    {
     "name": "stdout",
     "output_type": "stream",
     "text": [
      "\u001b[1m\u001b[35m\n",
      "Request VC from offer\u001b[0m\n"
     ]
    },
    {
     "name": "stdin",
     "output_type": "stream",
     "text": [
      "\u001b[35mRequest VC [yes/no]\u001b[0m yes\n"
     ]
    },
    {
     "name": "stdout",
     "output_type": "stream",
     "text": [
      "\n",
      "---------------------------------------------------------------------\n",
      "\u001b[1mHandle Issue Credential Webhook\u001b[0m\n",
      "Connection ID : c294ac0b-f0e2-4538-8241-96a5ebbcdf3d\n",
      "Credential exchange ID : 8128cd23-8a72-4be8-a5c2-d2f00ed9a844\n",
      "Agent Protocol Role :  holder\n",
      "Protocol State :  \u001b[34mrequest_sent\u001b[0m\n",
      "---------------------------------------------------------------------\n",
      "REQUEST SENT\n",
      "\n",
      "---------------------------------------------------------------------\n",
      "\u001b[1mHandle Issue Credential Webhook\u001b[0m\n",
      "Connection ID : c294ac0b-f0e2-4538-8241-96a5ebbcdf3d\n",
      "Credential exchange ID : 8128cd23-8a72-4be8-a5c2-d2f00ed9a844\n",
      "Agent Protocol Role :  holder\n",
      "Protocol State :  \u001b[34mcredential_received\u001b[0m\n",
      "---------------------------------------------------------------------\n",
      "\u001b[31m\n",
      "Credential 8128cd23-8a72-4be8-a5c2-d2f00ed9a844 is not stored in wallet.\u001b[0m\n",
      "\u001b[1m\u001b[35m\n",
      "Do you want to store the VC with ID 8128cd23-8a72-4be8-a5c2-d2f00ed9a844?\u001b[0m\n"
     ]
    },
    {
     "name": "stdin",
     "output_type": "stream",
     "text": [
      "\u001b[35mStore VC:  [yes/no]\u001b[0m yes\n"
     ]
    },
    {
     "name": "stdout",
     "output_type": "stream",
     "text": [
      "\u001b[1m\u001b[35m\n",
      "Please provide a referent (Credential ID) for VC\u001b[0m\n",
      "\u001b[35m(The referent acts as the identifier for retrieving the raw credential from the wallet)\u001b[0m\n"
     ]
    },
    {
     "name": "stdin",
     "output_type": "stream",
     "text": [
      "\u001b[35mReferent: \u001b[0m M2-isManufacturer\n"
     ]
    },
    {
     "name": "stdout",
     "output_type": "stream",
     "text": [
      "\n",
      "---------------------------------------------------------------------\n",
      "\u001b[1mHandle Issue Credential Webhook\u001b[0m\n",
      "Connection ID : c294ac0b-f0e2-4538-8241-96a5ebbcdf3d\n",
      "Credential exchange ID : 8128cd23-8a72-4be8-a5c2-d2f00ed9a844\n",
      "Agent Protocol Role :  holder\n",
      "Protocol State :  \u001b[34mcredential_acked\u001b[0m\n",
      "---------------------------------------------------------------------\n",
      "\u001b[1m\n",
      "Received Credential :\u001b[0m\n",
      "{\n",
      "    'attrs': {\n",
      "        'isManufacturer': 'TRUE',\n",
      "        'manufacturerCity': 'Braunschweig',\n",
      "        'manufacturerCountry': 'Germany',\n",
      "        'manufacturerName': 'undisclosedManufacturer2',\n",
      "    },\n",
      "    'cred_def_id': 'au8Y1rjsZyz9jbpr3Lk54:3:CL:250893:default',\n",
      "    'referent': 'M2-isManufacturer',\n",
      "    'schema_id': 'au8Y1rjsZyz9jbpr3Lk54:2:certify-manufacturer:0.0.1',\n",
      "}\n",
      "\u001b[1m\u001b[32m\n",
      "Successfully stored credential (Credential ID: M2-isManufacturer)\u001b[0m\n"
     ]
    }
   ],
   "source": [
    "# Get schema_id of manufacturer_schema to find the correct credential_exchange_id\n",
    "identifiers = helpers.get_identifiers()\n",
    "schema_id = identifiers[\"manufacturer_schema_identifiers\"][\"schema_id\"]\n",
    "\n",
    "# Variables\n",
    "auto_request = False # Authomatically requests VC when offer is found\n",
    "auto_store = False # Automatically stores VC if issued by Authority\n",
    "\n",
    "# Request VC\n",
    "manufacturer2_agent.request_vc(connection_id, schema_id, auto_request, auto_store)"
   ]
  },
  {
   "cell_type": "markdown",
   "id": "194dc997",
   "metadata": {},
   "source": [
    "#### 3.3 – Verify that VC was stored in wallet"
   ]
  },
  {
   "cell_type": "code",
   "execution_count": 10,
   "id": "2d3d614e",
   "metadata": {},
   "outputs": [
    {
     "data": {
      "text/plain": [
       "{'results': [{'referent': 'M2-isManufacturer',\n",
       "   'attrs': {'manufacturerCountry': 'Germany',\n",
       "    'manufacturerCity': 'Braunschweig',\n",
       "    'isManufacturer': 'TRUE',\n",
       "    'manufacturerName': 'undisclosedManufacturer2'},\n",
       "   'schema_id': 'au8Y1rjsZyz9jbpr3Lk54:2:certify-manufacturer:0.0.1',\n",
       "   'cred_def_id': 'au8Y1rjsZyz9jbpr3Lk54:3:CL:250893:default',\n",
       "   'rev_reg_id': None,\n",
       "   'cred_rev_id': None}]}"
      ]
     },
     "execution_count": 10,
     "metadata": {},
     "output_type": "execute_result"
    }
   ],
   "source": [
    "manufacturer2_agent.get_credentials()"
   ]
  },
  {
   "cell_type": "markdown",
   "id": "e304d4ae",
   "metadata": {},
   "source": [
    "--- \n",
    "\n",
    "### 4 – Terminate Controller\n",
    "\n",
    "Whenever you have finished with this notebook, be sure to terminate the controller. This is especially important if your business logic runs across multiple notebooks."
   ]
  },
  {
   "cell_type": "code",
   "execution_count": 11,
   "id": "bfab0138",
   "metadata": {},
   "outputs": [],
   "source": [
    "await agent_controller.terminate()"
   ]
  },
  {
   "cell_type": "markdown",
   "id": "33aed7c3",
   "metadata": {},
   "source": [
    "<div style=\"font-size: 25px\"><center><b>Break Point 7</b></center></div>\n",
    "<div style=\"font-size: 50px\"><center>💼 ➡️ 💼</center></div><br>\n",
    "<center><b>Please switch to the Manufacturer3 agent: Run the 02_get_manufacturer3_VC.ipynb notebook until Break Point 8</b></center>\n",
    "\n",
    "---\n",
    "\n",
    "## 🔥🔥🔥 You can close this notebook now 🔥🔥🔥"
   ]
  },
  {
   "cell_type": "code",
   "execution_count": null,
   "id": "ddf47b3f",
   "metadata": {},
   "outputs": [],
   "source": []
  }
 ],
 "metadata": {
  "kernelspec": {
   "display_name": "Python 3 (ipykernel)",
   "language": "python",
   "name": "python3"
  },
  "language_info": {
   "codemirror_mode": {
    "name": "ipython",
    "version": 3
   },
   "file_extension": ".py",
   "mimetype": "text/x-python",
   "name": "python",
   "nbconvert_exporter": "python",
   "pygments_lexer": "ipython3",
   "version": "3.9.5"
  }
 },
 "nbformat": 4,
 "nbformat_minor": 5
}
