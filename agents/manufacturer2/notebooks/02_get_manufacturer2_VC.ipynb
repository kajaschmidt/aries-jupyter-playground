{
 "cells": [
  {
   "cell_type": "markdown",
   "id": "e7d8b3a3",
   "metadata": {},
   "source": [
    "# PETs/TETs – Hyperledger Aries – Manufacturer 2 (Holder) 🚛"
   ]
  },
  {
   "cell_type": "code",
   "execution_count": 3,
   "id": "ad24f41c",
   "metadata": {},
   "outputs": [
    {
     "data": {
      "application/javascript": [
       "document.title ='🚛 Manufacturer2'\n"
      ],
      "text/plain": [
       "<IPython.core.display.Javascript object>"
      ]
     },
     "metadata": {},
     "output_type": "display_data"
    }
   ],
   "source": [
    "%%javascript\n",
    "document.title ='🚛 Manufacturer2'"
   ]
  },
  {
   "cell_type": "markdown",
   "id": "6361c5bf",
   "metadata": {},
   "source": [
    "## PART 2: Issue a VC to the Manufacturer Agents\n",
    "\n",
    "**What:** Receive and store verifiable credential (VC) from the authority agent (i.e., the issuing authority)\n",
    "\n",
    "**Why:** To prove that the agent is a manufacturer to relying parties (e.g., the city agent)\n",
    "\n",
    "**How:** <br>\n",
    "1. [Initiate Manufacturer's AgentCommunicationManager (ACM)](#1)\n",
    "2. [Connect with the Authority agent](#2)\n",
    "3. [Request VC](#3)\n",
    "\n",
    "\n",
    "**Accompanying Agents and Notebooks:** \n",
    "* Authority 🏛️: `02_issue_VC_manufacturers.ipynb`"
   ]
  },
  {
   "cell_type": "markdown",
   "id": "e320999d",
   "metadata": {},
   "source": [
    "---\n",
    "\n",
    "### 0 - Setup\n",
    "#### 0.1 - Imports"
   ]
  },
  {
   "cell_type": "code",
   "execution_count": 4,
   "id": "91164ebf",
   "metadata": {
    "collapsed": false,
    "jupyter": {
     "outputs_hidden": false
    },
    "pycharm": {
     "name": "#%%\n"
    }
   },
   "outputs": [],
   "source": [
    "import os\n",
    "\n",
    "from aries_cloudcontroller import AriesAgentController\n",
    "\n",
    "import libs.helpers as helpers\n",
    "from libs.agent_connection_manager import CredentialHolder"
   ]
  },
  {
   "cell_type": "markdown",
   "id": "fc006f71",
   "metadata": {},
   "source": [
    "#### 0.2 – Variables"
   ]
  },
  {
   "cell_type": "code",
   "execution_count": 5,
   "id": "a83636f9",
   "metadata": {
    "collapsed": false,
    "jupyter": {
     "outputs_hidden": false
    },
    "pycharm": {
     "name": "#%%\n"
    }
   },
   "outputs": [],
   "source": [
    "# Get relevant details from .env file\n",
    "api_key = os.getenv(\"ACAPY_ADMIN_API_KEY\")\n",
    "admin_url = os.getenv(\"ADMIN_URL\")\n",
    "webhook_port = int(os.getenv(\"WEBHOOK_PORT\"))\n",
    "webhook_host = \"0.0.0.0\""
   ]
  },
  {
   "cell_type": "markdown",
   "id": "3e56d538",
   "metadata": {},
   "source": [
    "--- \n",
    "\n",
    "<a id=1></a>\n",
    "\n",
    "### 1 – Initiate Manufacturer2 Agent\n",
    "#### 1.1 – Init ACA-PY agent controller"
   ]
  },
  {
   "cell_type": "code",
   "execution_count": 6,
   "id": "02be9637",
   "metadata": {
    "collapsed": false,
    "jupyter": {
     "outputs_hidden": false
    },
    "pycharm": {
     "name": "#%%\n"
    }
   },
   "outputs": [
    {
     "name": "stdout",
     "output_type": "stream",
     "text": [
      "Initialising a controller with admin api at http://manufacturer2-agent:3021 and an api key of adminApiKey\n"
     ]
    }
   ],
   "source": [
    "# Setup\n",
    "agent_controller = AriesAgentController(admin_url,api_key)\n",
    "print(f\"Initialising a controller with admin api at {admin_url} and an api key of {api_key}\")"
   ]
  },
  {
   "cell_type": "markdown",
   "id": "baf5cba5",
   "metadata": {},
   "source": [
    "#### 1.2 – Start Webhook Server to enable communication with other agents\n",
    "@todo: is communication with other agents, or with other docker containers?"
   ]
  },
  {
   "cell_type": "code",
   "execution_count": 7,
   "id": "f5e9c3e9",
   "metadata": {
    "collapsed": false,
    "jupyter": {
     "outputs_hidden": false
    },
    "pycharm": {
     "name": "#%%\n"
    }
   },
   "outputs": [
    {
     "name": "stdout",
     "output_type": "stream",
     "text": [
      "Listening for webhooks from agent at http://0.0.0.0:3010\n"
     ]
    }
   ],
   "source": [
    "# Listen on webhook server\n",
    "await agent_controller.init_webhook_server(webhook_host, webhook_port)\n",
    "print(f\"Listening for webhooks from agent at http://{webhook_host}:{webhook_port}\")"
   ]
  },
  {
   "cell_type": "markdown",
   "id": "8c8b700b",
   "metadata": {},
   "source": [
    "#### 1.3 – Init ACM issuing authority"
   ]
  },
  {
   "cell_type": "code",
   "execution_count": 8,
   "id": "bea92f18",
   "metadata": {
    "collapsed": false,
    "jupyter": {
     "outputs_hidden": false
    },
    "pycharm": {
     "name": "#%%\n"
    }
   },
   "outputs": [
    {
     "name": "stdout",
     "output_type": "stream",
     "text": [
      "\u001B[1m\u001B[32mSuccessfully initiated AgentConnectionManager for a(n) Holder ACA-PY agent\u001B[0m\n"
     ]
    },
    {
     "data": {
      "text/plain": [
       "{'results': []}"
      ]
     },
     "execution_count": 8,
     "metadata": {},
     "output_type": "execute_result"
    }
   ],
   "source": [
    "# The CredentialHolder registers relevant webhook servers and event listeners\n",
    "manufacturer2_agent = CredentialHolder(agent_controller)\n",
    "\n",
    "# Verify if Manufacturer already has a VC \n",
    "# (if there are manufacturer credentials, there is no need to execute the notebook)\n",
    "manufacturer2_agent.get_credentials()"
   ]
  },
  {
   "cell_type": "markdown",
   "id": "ef0b8217",
   "metadata": {},
   "source": [
    "---\n",
    "\n",
    "<a id=2></a>\n",
    "\n",
    "### 2 – Establish a connection with the Authority agent\n",
    "A connection with the credential issuer (i.e., the authority agent) must be established before a VC can be received. In this scenario, the Manufacturer2 requests a connection with the Authority to be certified as an official city agency. Thus, the Manufacturer2 agent sends an invitation to the Authority. In real life, the invitation can be shared via video call, phone call, or E-Mail. In this PoC, this is represented by copy and pasting the invitation into the manufacturers' notebooks.\n",
    "\n",
    "#### 2.1 Create invitation to Authority agent\n",
    "\n",
    "\n",
    "Several state changes of the connection between the Manufacturer agent, the inviter (A), and the authority agent, the invitee (B),  are required before successfully establishing a connection: \n",
    "\n",
    "| Step | State | Agent | Description | Function/Prompt/Variable |\n",
    "| --- | --- | --- | --- | --- |\n",
    "| 1 | invitation-sent | A | A sent an invitation to B | `create_connection_invitation()`\n",
    "| 2 | invitation-received | B | B receives the invitation of A | Prompt: Paste invitation from A |\n",
    "| 3 | request-sent | B | B sends B connection request | Prompt: Accept invitation OR `auto_accept=True` |\n",
    "| 4 | request-received | A | A receives the connection request from B | Prompt: Accept invitation request response OR `auto_accept=True` |\n",
    "| 5 | response-sent | A | A sends B response to B | - |\n",
    "| 6 | response-received | B | B receives the response from A | - |\n",
    "| 7 | active (completed) | A | B pings A to finalize connection | Prompt: Trust ping OR `auto_ping=True` |"
   ]
  },
  {
   "cell_type": "code",
   "execution_count": 9,
   "id": "83bc9702",
   "metadata": {},
   "outputs": [
    {
     "name": "stdout",
     "output_type": "stream",
     "text": [
      "\u001B[1m\u001B[35m\n",
      "Copy & paste invitation and share with external agent(s):\u001B[0m\n",
      "{\n",
      "    '@id': 'ba96b808-778f-47c5-912f-54503946929f',\n",
      "    '@type': 'did:sov:BzCbsNYhMrjHiqZDTUASHg;spec/connections/1.0/invitation',\n",
      "    'label': 'AnonymousAgent2',\n",
      "    'recipientKeys': ['9AUYUUcBouJm8zvsk3oHxstnHEx7uynNPiBvP4U3Rvde'],\n",
      "    'serviceEndpoint': 'https://7ae3-80-134-223-153.ngrok.io',\n",
      "}\n",
      "\n",
      "---------------------------------------------------------------------\n",
      "\u001B[1mConnection Webhook Event Received: Connections Handler\u001B[0m\n",
      "Connection ID :  5d1eeb63-b09f-4417-ab31-e016a3caea20\n",
      "State :  \u001B[34minvitation (invitation-sent)\u001B[0m\n",
      "Routing State : none\n",
      "Their Role :  invitee\n",
      "---------------------------------------------------------------------\n",
      "\n",
      "---------------------------------------------------------------------\n",
      "\u001B[1mConnection Webhook Event Received: Connections Handler\u001B[0m\n",
      "Connection ID :  5d1eeb63-b09f-4417-ab31-e016a3caea20\n",
      "State :  \u001B[34mrequest (request-received)\u001B[0m\n",
      "Routing State : none\n",
      "Connection with :  Governance-Authority\n",
      "Their Role :  invitee\n",
      "---------------------------------------------------------------------\n",
      "\n",
      "---------------------------------------------------------------------\n",
      "\u001B[1mConnection Webhook Event Received: Connections Handler\u001B[0m\n",
      "Connection ID :  5d1eeb63-b09f-4417-ab31-e016a3caea20\n",
      "State :  \u001B[34mresponse (response-sent)\u001B[0m\n",
      "Routing State : none\n",
      "Connection with :  Governance-Authority\n",
      "Their Role :  invitee\n",
      "---------------------------------------------------------------------\n",
      "\n",
      "---------------------------------------------------------------------\n",
      "\u001B[1mConnection Webhook Event Received: Connections Handler\u001B[0m\n",
      "Connection ID :  5d1eeb63-b09f-4417-ab31-e016a3caea20\n",
      "State :  \u001B[34mactive (completed)\u001B[0m\n",
      "Routing State : none\n",
      "Connection with :  Governance-Authority\n",
      "Their Role :  invitee\n",
      "---------------------------------------------------------------------\n",
      "\u001B[1m\u001B[32m\n",
      "Connection ID: 5d1eeb63-b09f-4417-ab31-e016a3caea20 is now active\u001B[0m\n",
      "\n",
      "---------------------------------------------------------------------\n",
      "\u001B[1mHandle Issue Credential Webhook: Issue Credential Handler\u001B[0m\n",
      "Connection ID : 5d1eeb63-b09f-4417-ab31-e016a3caea20\n",
      "Credential exchange ID : 28754ced-7e61-4f08-b6b2-a6ecab106cb2\n",
      "Agent Protocol Role :  holder\n",
      "Protocol State :  \u001B[34moffer_received\u001B[0m\n",
      "---------------------------------------------------------------------\n",
      "\u001B[1m\n",
      "Proposed Credential : \u001B[0m\n",
      "{\n",
      "    '@type': 'did:sov:BzCbsNYhMrjHiqZDTUASHg;spec/issue-credential/1.0/credential-preview',\n",
      "    'attributes': [\n",
      "        {'name': 'manufacturerName', 'value': 'truckManufacturer'},\n",
      "        {'name': 'manufacturerCity', 'value': 'City2'},\n",
      "        {'name': 'manufacturerCountry', 'value': 'DE'},\n",
      "        {'name': 'isManufacturer', 'value': 'TRUE'},\n",
      "    ],\n",
      "}\n"
     ]
    }
   ],
   "source": [
    "# Setup for connection with Authority agent\n",
    "alias = None\n",
    "auto_accept = True # Accept response of Authority agent right away\n",
    "auto_ping = True\n",
    "public = False # Do not use public DID\n",
    "multi_use = False # Invitation is only for one invitee\n",
    "\n",
    "connection_id = manufacturer2_agent.create_connection_invitation(alias=alias, auto_accept=auto_accept, public=public, multi_use=multi_use, auto_ping=auto_ping)"
   ]
  },
  {
   "cell_type": "markdown",
   "id": "aeab1504",
   "metadata": {},
   "source": [
    "<div style=\"font-size: 25px\"><center><b>Break Point 5</b></center></div>\n",
    "<div style=\"font-size: 50px\"><center>🚛 ➡️ 🏛</center></div><br>\n",
    "<center>Please switch to the Authority agent 🏛: Please paste the invitation in Step 4.1 when prompted. If auto_accept is set to False, enter \"yes\" when prompted before proceeding.</center>\n",
    "\n",
    "---\n",
    "\n",
    "Proceed after Break Point 6\n",
    "<a id=3></a>\n",
    "### 3 – Request VC from `Authority` agent\n",
    "#### 3.1 – Message `Authority` with request"
   ]
  },
  {
   "cell_type": "code",
   "execution_count": 10,
   "id": "59a95417",
   "metadata": {},
   "outputs": [
    {
     "name": "stdout",
     "output_type": "stream",
     "text": [
      "\u001B[34mGet stored identifiers dictionary to access schema information 💾\u001B[0m\n",
      "\n",
      "---------------------------------------------------------------------\n",
      "\u001B[1mHandle Issue Credential Webhook: Issue Credential Handler\u001B[0m\n",
      "Connection ID : 5d1eeb63-b09f-4417-ab31-e016a3caea20\n",
      "Credential exchange ID : 28754ced-7e61-4f08-b6b2-a6ecab106cb2\n",
      "Agent Protocol Role :  holder\n",
      "Protocol State :  \u001B[34mrequest_sent\u001B[0m\n",
      "---------------------------------------------------------------------\n",
      "\n",
      "---------------------------------------------------------------------\n",
      "\u001B[1mHandle Issue Credential Webhook: Issue Credential Handler\u001B[0m\n",
      "Connection ID : 5d1eeb63-b09f-4417-ab31-e016a3caea20\n",
      "Credential exchange ID : 28754ced-7e61-4f08-b6b2-a6ecab106cb2\n",
      "Agent Protocol Role :  holder\n",
      "Protocol State :  \u001B[34mcredential_received\u001B[0m\n",
      "---------------------------------------------------------------------\n",
      "\u001B[31m\n",
      "Credential 28754ced-7e61-4f08-b6b2-a6ecab106cb2 is not stored in wallet.\u001B[0m\n",
      "\u001B[1m\u001B[35m\n",
      "Please provide a referent (like an ID) for the VC\u001B[0m\n",
      "\u001B[35m(The referent acts as the identifier for retrieving the raw credential from the wallet)\u001B[0m\n"
     ]
    },
    {
     "name": "stdin",
     "output_type": "stream",
     "text": [
      "\u001B[35mReferent: \u001B[0m yes\n"
     ]
    },
    {
     "name": "stdout",
     "output_type": "stream",
     "text": [
      "\n",
      "---------------------------------------------------------------------\n",
      "\u001B[1mHandle Issue Credential Webhook: Issue Credential Handler\u001B[0m\n",
      "Connection ID : 5d1eeb63-b09f-4417-ab31-e016a3caea20\n",
      "Credential exchange ID : 28754ced-7e61-4f08-b6b2-a6ecab106cb2\n",
      "Agent Protocol Role :  holder\n",
      "Protocol State :  \u001B[34mcredential_acked\u001B[0m\n",
      "---------------------------------------------------------------------\n",
      "\u001B[1m\n",
      "Received Credential :\u001B[0m\n",
      "{\n",
      "    'attrs': {\n",
      "        'isManufacturer': 'TRUE',\n",
      "        'manufacturerCity': 'City2',\n",
      "        'manufacturerCountry': 'DE',\n",
      "        'manufacturerName': 'truckManufacturer',\n",
      "    },\n",
      "    'cred_def_id': 'h95exdvAfiE4zrFdJtK6X:3:CL:253012:default',\n",
      "    'referent': 'yes',\n",
      "    'schema_id': 'h95exdvAfiE4zrFdJtK6X:2:certify-manufacturer:0.0.1',\n",
      "}\n",
      "\u001B[1m\u001B[32mSuccessfully stored credential with Referent yes\u001B[0m\n"
     ]
    }
   ],
   "source": [
    "# Get schema_id of manufacturer_schema to find the correct credential_exchange_id\n",
    "identifiers = helpers.get_identifiers()\n",
    "schema_id = identifiers[\"manufacturer_schema_identifiers\"][\"schema_id\"]\n",
    "\n",
    "# Variables\n",
    "auto_request = True # Authomatically requests VC when offer is found\n",
    "auto_store = True # Automatically stores VC if issued by Authority\n",
    "\n",
    "# Request VC\n",
    "manufacturer2_agent.request_vc(connection_id, schema_id, auto_request, auto_store)"
   ]
  },
  {
   "cell_type": "markdown",
   "id": "adce43bb",
   "metadata": {},
   "source": [
    "#### 3.3 – Verify that VC was stored in wallet"
   ]
  },
  {
   "cell_type": "code",
   "execution_count": 11,
   "id": "53f67307",
   "metadata": {},
   "outputs": [
    {
     "data": {
      "text/plain": [
       "{'results': [{'referent': 'yes',\n",
       "   'attrs': {'isManufacturer': 'TRUE',\n",
       "    'manufacturerCity': 'City2',\n",
       "    'manufacturerCountry': 'DE',\n",
       "    'manufacturerName': 'truckManufacturer'},\n",
       "   'schema_id': 'h95exdvAfiE4zrFdJtK6X:2:certify-manufacturer:0.0.1',\n",
       "   'cred_def_id': 'h95exdvAfiE4zrFdJtK6X:3:CL:253012:default',\n",
       "   'rev_reg_id': None,\n",
       "   'cred_rev_id': None}]}"
      ]
     },
     "execution_count": 11,
     "metadata": {},
     "output_type": "execute_result"
    }
   ],
   "source": [
    "manufacturer2_agent.get_credentials()"
   ]
  },
  {
   "cell_type": "markdown",
   "id": "992a2ca3",
   "metadata": {},
   "source": [
    "--- \n",
    "\n",
    "### 4 – Terminate Controller\n",
    "\n",
    "Whenever you have finished with this notebook, be sure to terminate the controller. This is especially important if your business logic runs across multiple notebooks."
   ]
  },
  {
   "cell_type": "code",
   "execution_count": 12,
   "id": "c7fd3c95",
   "metadata": {},
   "outputs": [],
   "source": [
    "await agent_controller.terminate()"
   ]
  },
  {
   "cell_type": "markdown",
   "id": "9afaaff0",
   "metadata": {},
   "source": [
    "<div style=\"font-size: 25px\"><center><b>Break Point 7</b></center></div>\n",
    "<div style=\"font-size: 50px\"><center>🚛 ➡️ 🛵</center></div><br>\n",
    "<center><b>Please switch to the Manufacturer3 agent: Run the 02_get_manufacturer3_VC.ipynb notebook until Break Point 8</b></center>\n",
    "\n",
    "---\n",
    "\n",
    "## 🔥🔥🔥 You can close this notebook now 🔥🔥🔥"
   ]
  },
  {
   "cell_type": "code",
   "execution_count": null,
   "id": "9289ce5f",
   "metadata": {},
   "outputs": [],
   "source": []
  }
 ],
 "metadata": {
  "kernelspec": {
   "display_name": "Python 3 (ipykernel)",
   "language": "python",
   "name": "python3"
  },
  "language_info": {
   "codemirror_mode": {
    "name": "ipython",
    "version": 3
   },
   "file_extension": ".py",
   "mimetype": "text/x-python",
   "name": "python",
   "nbconvert_exporter": "python",
   "pygments_lexer": "ipython3",
   "version": "3.9.5"
  }
 },
 "nbformat": 4,
 "nbformat_minor": 5
}