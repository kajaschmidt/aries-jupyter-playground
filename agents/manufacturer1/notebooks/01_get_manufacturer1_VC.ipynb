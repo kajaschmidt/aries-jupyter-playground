{
 "cells": [
  {
   "cell_type": "markdown",
   "id": "b42f106b",
   "metadata": {},
   "source": [
    "# Request VC from Authority\n",
    "\n",
    "This notebook is used in combination with notebook `01_issue_VC_city.ipynb` (see Authority agent). Break points indicate when to switch notebooks."
   ]
  },
  {
   "cell_type": "code",
   "execution_count": 6,
   "id": "4fa8302e",
   "metadata": {},
   "outputs": [
    {
     "data": {
      "application/javascript": [
       "document.title='Manufacturer1 Agent'\n"
      ],
      "text/plain": [
       "<IPython.core.display.Javascript object>"
      ]
     },
     "metadata": {},
     "output_type": "display_data"
    }
   ],
   "source": [
    "%%javascript\n",
    "document.title='Manufacturer1 Agent'"
   ]
  },
  {
   "cell_type": "markdown",
   "id": "8254f7a0",
   "metadata": {},
   "source": [
    "#### Imports"
   ]
  },
  {
   "cell_type": "code",
   "execution_count": 7,
   "id": "d8839497",
   "metadata": {},
   "outputs": [
    {
     "name": "stdout",
     "output_type": "stream",
     "text": [
      "IPython autoawait is `on`, and set to use `asyncio`\n"
     ]
    }
   ],
   "source": [
    "%autoawait \n",
    "from aries_cloudcontroller import AriesAgentController\n",
    "import asyncio\n",
    "import os\n",
    "from pprintpp import pprint\n",
    "from termcolor import colored"
   ]
  },
  {
   "cell_type": "markdown",
   "id": "f6c78fb4",
   "metadata": {},
   "source": [
    "#### Initialize `Manufacturer1` Agent Controller"
   ]
  },
  {
   "cell_type": "code",
   "execution_count": 8,
   "id": "bd858ba6",
   "metadata": {},
   "outputs": [
    {
     "name": "stdout",
     "output_type": "stream",
     "text": [
      "Initialising a controller with admin api at http://manufacturer1-agent:3021 and an api key of adminApiKey\n"
     ]
    }
   ],
   "source": [
    "api_key = os.getenv(\"ACAPY_ADMIN_API_KEY\")\n",
    "admin_url = os.getenv(\"ADMIN_URL\")\n",
    "\n",
    "print(f\"Initialising a controller with admin api at {admin_url} and an api key of {api_key}\")\n",
    "agent_controller = AriesAgentController(admin_url,api_key)"
   ]
  },
  {
   "cell_type": "markdown",
   "id": "d35ed1f5",
   "metadata": {},
   "source": [
    "## 1 – Init Webhook Server and register Event Listeners for it\n",
    "#### 1.1 – Start webhook server\n",
    "Start a webhook server to be able to communicate with other agents"
   ]
  },
  {
   "cell_type": "code",
   "execution_count": 9,
   "id": "1fa04df2",
   "metadata": {},
   "outputs": [
    {
     "name": "stdout",
     "output_type": "stream",
     "text": [
      "Listening for webhooks from agent at http://0.0.0.0:3010\n"
     ]
    }
   ],
   "source": [
    "# Setup\n",
    "webhook_port = int(os.getenv(\"WEBHOOK_PORT\"))\n",
    "webhook_host = \"0.0.0.0\"\n",
    "\n",
    "# Listen on webhook server\n",
    "await agent_controller.init_webhook_server(webhook_host, webhook_port)\n",
    "print(f\"Listening for webhooks from agent at http://{webhook_host}:{webhook_port}\")"
   ]
  },
  {
   "cell_type": "markdown",
   "id": "e44e1d65",
   "metadata": {},
   "source": [
    "#### 1.2 – Define listeners\n",
    "Define listeners that are triggered when something happens on the webhook server"
   ]
  },
  {
   "cell_type": "code",
   "execution_count": 10,
   "id": "b4bcd439",
   "metadata": {},
   "outputs": [],
   "source": [
    "# Receive connection messages\n",
    "def connections_handler(payload):\n",
    "    state = payload['state']\n",
    "    connection_id = payload[\"connection_id\"]\n",
    "    their_role = payload[\"their_role\"]\n",
    "    routing_state = payload[\"routing_state\"]\n",
    "    \n",
    "    print(\"----------------------------------------------------------\")\n",
    "    print(\"Connection Webhook Event Received\")\n",
    "    print(\"Connection ID : \", connection_id)\n",
    "    print(\"State : \", state)\n",
    "    print(\"Routing State : \", routing_state)\n",
    "    print(\"Their Role : \", their_role)\n",
    "    print(\"----------------------------------------------------------\")\n",
    "\n",
    "    if state == \"invitation\":\n",
    "        # Your business logic\n",
    "        print(\"invitation\")\n",
    "    elif state == \"request\":\n",
    "        # Your business logic\n",
    "        print(\"request\")\n",
    "\n",
    "    elif state == \"response\":\n",
    "        # Your business logic\n",
    "        print(\"response\")\n",
    "    elif state == \"active\":\n",
    "        # Your business logic\n",
    "        print(colored(\"Connection ID: {0} is now active.\".format(connection_id), \"green\", attrs=[\"bold\"]))\n",
    "\n",
    "        \n",
    "## YOUR LISTENERS HERE\n",
    "def holder_handler(payload):\n",
    "    connection_id = payload['connection_id']\n",
    "    exchange_id = payload['credential_exchange_id']\n",
    "    state = payload['state']\n",
    "    role = payload['role']\n",
    "    print(\"\\n---------------------------------------------------\\n\")\n",
    "    print(\"Handle Issue Credential Webhook\")\n",
    "    print(f\"Connection ID : {connection_id}\")\n",
    "    print(f\"Credential exchange ID : {exchange_id}\")\n",
    "    print(\"Agent Protocol Role : \", role)\n",
    "    print(\"Protocol State : \", state )\n",
    "    print(\"\\n---------------------------------------------------\\n\")\n",
    "    print(\"Handle Credential Webhook Payload\")\n",
    "    \n",
    "    if state == \"offer_received\":\n",
    "        print(\"Credential Offer Recieved\")\n",
    "        proposal = payload[\"credential_proposal_dict\"]\n",
    "        print(\"The proposal dictionary is likely how you would understand and display a credential offer in your application\")\n",
    "        print(\"\\n\", proposal)\n",
    "        print(\"\\n This includes the set of attributes you are being offered\")\n",
    "        attributes = proposal['credential_proposal']['attributes']\n",
    "        print(attributes)\n",
    "        ## YOUR LOGIC HERE\n",
    "    elif state == \"request_sent\":\n",
    "        print(\"\\nA credential request object contains the commitment to the agents master secret using the nonce from the offer\")\n",
    "        ## YOUR LOGIC HERE\n",
    "    elif state == \"credential_received\":\n",
    "        print(\"Received Credential\")\n",
    "        ## YOUR LOGIC HERE\n",
    "    elif state == \"credential_acked\":\n",
    "        ## YOUR LOGIC HERE\n",
    "        credential = payload[\"credential\"]\n",
    "        print(\"Credential Stored\\n\")\n",
    "        print(credential)\n",
    "        \n",
    "        print(\"\\nThe referent acts as the identifier for retrieving the raw credential from the wallet\")\n",
    "        # Note: You would probably save this in your application database\n",
    "        credential_referent = credential[\"referent\"]\n",
    "        print(\"Referent\", credential_referent)\n",
    "        \n",
    "        \n",
    "def messages_handler(payload):\n",
    "    connection_id = payload[\"connection_id\"]\n",
    "    agent_controller.messaging.send_message(connection_id, \"This is a response from Bob\")\n",
    "    print(\"Handle message\", connection_id)\n",
    "    pprint(payload)"
   ]
  },
  {
   "cell_type": "code",
   "execution_count": 11,
   "id": "f82299d3",
   "metadata": {},
   "outputs": [],
   "source": [
    "# Init listener list \n",
    "listeners = []\n",
    "\n",
    "# Add listeners defined in previous cell\n",
    "connection_listener = {\"handler\": connections_handler, \"topic\": \"connections\"}\n",
    "listeners.append(connection_listener)\n",
    "\n",
    "holder_listener = {\"topic\": \"issue_credential\", \"handler\": holder_handler}\n",
    "listeners.append(holder_listener)\n",
    "\n",
    "message_listener = {\"handler\": messages_handler, \"topic\": \"basicmessages\"}\n",
    "listeners.append(message_listener)"
   ]
  },
  {
   "cell_type": "markdown",
   "id": "08dbc023",
   "metadata": {},
   "source": [
    "#### 1.3 – Register listeners with `agent_controller`"
   ]
  },
  {
   "cell_type": "code",
   "execution_count": 12,
   "id": "c5ed3073",
   "metadata": {},
   "outputs": [],
   "source": [
    "#loop = asyncio.get_event_loop()\n",
    "#loop.create_task(agent_controller.listen_webhooks())\n",
    "\n",
    "agent_controller.register_listeners(listeners)"
   ]
  },
  {
   "cell_type": "markdown",
   "id": "7f0221a2",
   "metadata": {},
   "source": [
    "## 2 – Establish a connection with Authority agent\n",
    "A connection with the credential issuer (i.e., the authority agent) must be establieshed before a VC can be received. In this scenario, the agent requests a connection with the Authority to be certified as an official city agency. Thus, the city agent sends an invitation to the Authority.\n",
    "\n",
    "### 2.1 Create invitation to Authority agent"
   ]
  },
  {
   "cell_type": "code",
   "execution_count": 13,
   "id": "e2fbb606",
   "metadata": {},
   "outputs": [
    {
     "name": "stdout",
     "output_type": "stream",
     "text": [
      "----------------------------------------------------------\n",
      "Connection Webhook Event Received\n",
      "Connection ID :  5747fa45-dd4c-4542-9699-1d0e2b557c3d\n",
      "State :  invitation\n",
      "Routing State :  none\n",
      "Their Role :  invitee\n",
      "----------------------------------------------------------\n",
      "invitation\n"
     ]
    }
   ],
   "source": [
    "# Setup for connection with Authority agent\n",
    "alias = None\n",
    "auto_accept = \"true\" # Accept response of Authority agent right away\n",
    "public = \"false\" # Do not use public DID\n",
    "multi_use = \"false\" # Invitation is only for one invitee\n",
    "\n",
    "# Await response\n",
    "invitation_response = await agent_controller.connections.create_invitation(alias, auto_accept, public, multi_use,)\n",
    "\n",
    "# Keep connection_id to use it in other protocols (e.g., messaging)\n",
    "connection_id = invitation_response[\"connection_id\"]"
   ]
  },
  {
   "cell_type": "markdown",
   "id": "d5b80337",
   "metadata": {},
   "source": [
    "### 2.2 – Send invitation with Authority\n",
    "Sharing the invitation can be done via e.g., phone, zoom, E-Mail or QR-code. In this scenario, please copy and paste the invitation into `01_issue_VC_city.ipynb` of the Authority agent (see Step 2.1)"
   ]
  },
  {
   "cell_type": "code",
   "execution_count": 14,
   "id": "05bb9d2c",
   "metadata": {},
   "outputs": [
    {
     "name": "stdout",
     "output_type": "stream",
     "text": [
      "Copy the following dict and past it into the Authority agency\n",
      "{\n",
      "    '@id': '96858149-90aa-430a-9413-f040d0f88da9',\n",
      "    '@type': 'did:sov:BzCbsNYhMrjHiqZDTUASHg;spec/connections/1.0/invitation',\n",
      "    'label': 'Manufacturer1',\n",
      "    'recipientKeys': ['2YKxmwVqURYm7rUqrHX5M5F33fWGHgJvjXBMrTP7Neh4'],\n",
      "    'serviceEndpoint': 'http://510450e76bb6.ngrok.io',\n",
      "}\n",
      "----------------------------------------------------------\n",
      "Connection Webhook Event Received\n",
      "Connection ID :  5747fa45-dd4c-4542-9699-1d0e2b557c3d\n",
      "State :  request\n",
      "Routing State :  none\n",
      "Their Role :  invitee\n",
      "----------------------------------------------------------\n",
      "request\n",
      "----------------------------------------------------------\n",
      "Connection Webhook Event Received\n",
      "Connection ID :  5747fa45-dd4c-4542-9699-1d0e2b557c3d\n",
      "State :  response\n",
      "Routing State :  none\n",
      "Their Role :  invitee\n",
      "----------------------------------------------------------\n",
      "response\n"
     ]
    }
   ],
   "source": [
    "# Get and print invitation\n",
    "invitation = invitation_response[\"invitation\"]\n",
    "print(\"Copy the following dict and past it into the Authority agency\")\n",
    "pprint(invitation)"
   ]
  },
  {
   "cell_type": "markdown",
   "id": "2ca77f53",
   "metadata": {},
   "source": [
    "**BREAK POINT:** Please switch to agent `Authority`, open `01_issue_VC_city.ipynb`, and continue with Step 2\n",
    "\n",
    "---\n",
    "\n",
    "### 2.3 – Sent trust ping to establish and activate connection"
   ]
  },
  {
   "cell_type": "code",
   "execution_count": 15,
   "id": "e9109b6d",
   "metadata": {},
   "outputs": [
    {
     "data": {
      "text/plain": [
       "{'thread_id': '22809a1f-a229-42e9-9c1b-f827cca74ee4'}"
      ]
     },
     "execution_count": 15,
     "metadata": {},
     "output_type": "execute_result"
    },
    {
     "name": "stdout",
     "output_type": "stream",
     "text": [
      "----------------------------------------------------------\n",
      "Connection Webhook Event Received\n",
      "Connection ID :  5747fa45-dd4c-4542-9699-1d0e2b557c3d\n",
      "State :  active\n",
      "Routing State :  none\n",
      "Their Role :  invitee\n",
      "----------------------------------------------------------\n",
      "\u001b[1m\u001b[32mConnection ID: 5747fa45-dd4c-4542-9699-1d0e2b557c3d is now active.\u001b[0m\n"
     ]
    }
   ],
   "source": [
    "await agent_controller.messaging.trust_ping(connection_id, \"send trust ping\")"
   ]
  },
  {
   "cell_type": "markdown",
   "id": "d5f6f4d1",
   "metadata": {},
   "source": [
    "## 3 – Request VC from `Authority` agent\n",
    "### 3.1 – Message `Authority` to request a VC"
   ]
  },
  {
   "cell_type": "code",
   "execution_count": 16,
   "id": "719d6e10",
   "metadata": {},
   "outputs": [
    {
     "data": {
      "text/plain": [
       "{}"
      ]
     },
     "execution_count": 16,
     "metadata": {},
     "output_type": "execute_result"
    },
    {
     "name": "stderr",
     "output_type": "stream",
     "text": [
      "/tmp/ipykernel_32/3503404827.py:75: RuntimeWarning: coroutine 'MessagingController.send_message' was never awaited\n",
      "  agent_controller.messaging.send_message(connection_id, \"This is a response from Bob\")\n",
      "RuntimeWarning: Enable tracemalloc to get the object allocation traceback\n"
     ]
    },
    {
     "name": "stdout",
     "output_type": "stream",
     "text": [
      "Handle message 5747fa45-dd4c-4542-9699-1d0e2b557c3d\n",
      "{\n",
      "    'connection_id': '5747fa45-dd4c-4542-9699-1d0e2b557c3d',\n",
      "    'content': 'Hello Manufacturer1. Plase provide me with the following information: manufacturerName, manufacturerCountry, ManufacturerCity.',\n",
      "    'message_id': '8c67e67d-92b2-4212-9479-9a683318d5fd',\n",
      "    'sent_time': '2021-08-05 07:43:01.542779Z',\n",
      "    'state': 'received',\n",
      "}\n"
     ]
    }
   ],
   "source": [
    "basic_message = \"Hello Authority agent\"\n",
    "await agent_controller.messaging.send_message(connection_id, basic_message)"
   ]
  },
  {
   "cell_type": "markdown",
   "id": "eb11dab4",
   "metadata": {},
   "source": [
    "**BREAK POINT:** Go to Step 3 in the `01_issue_VC_city.ipynb` notebook of the `Authority` agent.\n",
    "\n",
    "---"
   ]
  },
  {
   "cell_type": "markdown",
   "id": "eb72f48d",
   "metadata": {},
   "source": [
    "### 3.1 – Provide `Authority` with the relevant information to issue a VC"
   ]
  },
  {
   "cell_type": "code",
   "execution_count": 17,
   "id": "a90439bd",
   "metadata": {},
   "outputs": [
    {
     "data": {
      "text/plain": [
       "{}"
      ]
     },
     "execution_count": 17,
     "metadata": {},
     "output_type": "execute_result"
    },
    {
     "name": "stdout",
     "output_type": "stream",
     "text": [
      "\n",
      "---------------------------------------------------\n",
      "\n",
      "Handle Issue Credential Webhook\n",
      "Connection ID : 5747fa45-dd4c-4542-9699-1d0e2b557c3d\n",
      "Credential exchange ID : 74787e10-ff7d-4d3d-b7ff-efdad5478ac8\n",
      "Agent Protocol Role :  holder\n",
      "Protocol State :  offer_received\n",
      "\n",
      "---------------------------------------------------\n",
      "\n",
      "Handle Credential Webhook Payload\n",
      "Credential Offer Recieved\n",
      "The proposal dictionary is likely how you would understand and display a credential offer in your application\n",
      "\n",
      " {'@type': 'did:sov:BzCbsNYhMrjHiqZDTUASHg;spec/issue-credential/1.0/propose-credential', '@id': '8daf5f9f-8ea5-4230-8873-5d5658d5118a', 'schema_id': 'BQmsjXtsjzzmTtdwQg5Ftn:2:certify-manufacturer:0.0.1', 'credential_proposal': {'@type': 'did:sov:BzCbsNYhMrjHiqZDTUASHg;spec/issue-credential/1.0/credential-preview', 'attributes': [{'name': 'manufacturerName', 'value': 'M1'}, {'name': 'manufacturerCity', 'value': 'Munich'}, {'name': 'manufacturerCountry', 'value': 'DE'}, {'name': 'isManufacturer', 'value': 'TRUE'}]}, 'comment': 'Issuing VC that Manufacturer1 is a manufacturer', 'cred_def_id': 'PvCigHE6ZGaR27buqP8Vv1:3:CL:239761:default'}\n",
      "\n",
      " This includes the set of attributes you are being offered\n",
      "[{'name': 'manufacturerName', 'value': 'M1'}, {'name': 'manufacturerCity', 'value': 'Munich'}, {'name': 'manufacturerCountry', 'value': 'DE'}, {'name': 'isManufacturer', 'value': 'TRUE'}]\n"
     ]
    }
   ],
   "source": [
    "basic_message = '{\"manufacturerName\": \"M1\", \"manufacturerCountry\": \"DE\", \"manufacturerCity\": \"Munich\"}'\n",
    "await agent_controller.messaging.send_message(connection_id, basic_message)"
   ]
  },
  {
   "cell_type": "markdown",
   "id": "d2266402",
   "metadata": {},
   "source": [
    "**BREAK POINT:** Return to step \n",
    "\n",
    "---\n",
    "\n",
    "\n",
    "### 3.2 – Request VC from `Authority`'s Offer\n",
    "\n",
    "Note: Your agent will automatically respond if ACAPY_AUTO_RESPOND_CREDENTIAL_OFFER=true flag is set in .env file of agent. Default is false.\n",
    "\n",
    "To respond to an offer you must identify the offer using the credential_exchange_id generated for it. This is available from within the issue-credential holder handler. You could add custom logic in this loop `elif state == \"request\":` to handle this.\n",
    "\n",
    "However, we will fetch the credential exchange records and **assume** this agent only has one record. Customise accordingly."
   ]
  },
  {
   "cell_type": "code",
   "execution_count": 18,
   "id": "cbe847c4",
   "metadata": {},
   "outputs": [],
   "source": [
    "# Setup arguments for response\n",
    "thread_id=None\n",
    "state = \"offer_received\"\n",
    "role = \"prover\"\n",
    "\n",
    "\n",
    "records_response = await agent_controller.issuer.get_records(connection_id=connection_id,state=state)\n",
    "record = records_response[\"results\"][0]\n",
    "record_id = record[\"credential_exchange_id\"]"
   ]
  },
  {
   "cell_type": "code",
   "execution_count": 19,
   "id": "7ce830a5",
   "metadata": {},
   "outputs": [
    {
     "name": "stdout",
     "output_type": "stream",
     "text": [
      "\n",
      "---------------------------------------------------\n",
      "\n",
      "Handle Issue Credential Webhook\n",
      "Connection ID : 5747fa45-dd4c-4542-9699-1d0e2b557c3d\n",
      "Credential exchange ID : 74787e10-ff7d-4d3d-b7ff-efdad5478ac8\n",
      "Agent Protocol Role :  holder\n",
      "Protocol State :  request_sent\n",
      "\n",
      "---------------------------------------------------\n",
      "\n",
      "Handle Credential Webhook Payload\n",
      "\n",
      "A credential request object contains the commitment to the agents master secret using the nonce from the offer\n"
     ]
    },
    {
     "data": {
      "text/plain": [
       "{'credential_offer': {'schema_id': 'BQmsjXtsjzzmTtdwQg5Ftn:2:certify-manufacturer:0.0.1',\n",
       "  'cred_def_id': 'PvCigHE6ZGaR27buqP8Vv1:3:CL:239761:default',\n",
       "  'nonce': '948059702927265396772848',\n",
       "  'key_correctness_proof': {'c': '86319410443488943421993359023426746458524377849221420726963806195446328615560',\n",
       "   'xz_cap': '996528990976631814622629102787822108822939334611686499189262522713181140955982115978238435275983321230518010680630295374622293450645563793703678314797087353371476964064673718053967613775402616021800606413249614438876913203959928187745147166225905361314666986171901719964293342152190244745994858799725762207858870162254879487483525747442839553391918938165552309875016318054627094838764547982063942153901726256448519535648077274329863813622103432323640406664639161459811922810093279779188018147662009865742871886520265973160477998051105820444521333324256147931943756263662744119442318629563195063193858838146295749537249007567565972034349470329868672078039599978526806339732272803444713356386761',\n",
       "   'xr_cap': [['manufacturername',\n",
       "     '1709160077821102651811135754681752611514718646177365025232703741389462883024912210939030528279705406137390604499585733508955234661124413765748761695456809901734505341122589836329788628513441406445936086711903557821783811483896070776409271339635871101174443971424624586473505060916471112793802612796098669690330110757362154010955108691446141966277811549860035683771814147657607425469599995228731236217798975686532144991857990282867817135102805963555608899038114929217656433450757344354205818298068144399891569900368412291861911511758156966823263635425944510991271456943472116554398287741249671549137245376265137649998743386241403073803980786683751533769550417411151119260474491749551290978626479'],\n",
       "    ['master_secret',\n",
       "     '1986298761955309632387032542034468395399510585043953496567861375038841953122126345860658721069396348745751374634487747849291300232956807559970035224970485879080946761204879651930711315881504481777110682862601311628608745208614382453309175608132938846721507765985430000418462406170450890857607110845107677777136481138708132986615925168776430279535242595030428841363678889332838791191210963468773781432657181237593145623884655214197932177931923386937972604426054961750368127319747126464602315417617416459135435276193673523429029364754861444510579603229197611233330243029160726915159374490889258709219008530623954388028216409005843460270049765468655367637304595557962634436667845832511856737165447'],\n",
       "    ['manufacturercountry',\n",
       "     '753331747780075987554921621141443679972701211664954487890592094931030971033245715214196759202071503379121632665768127987406914658242010750113158526956423085002928166318372205739453149963283780783074035435268772136181088605949801247472402563335892575942104442042669465206193489974019280220202048748139503127264767581965041083972773563802609516175400670415116445096015667527435941325401539285869641430899273582303793528412913884611519497821626916009398043292785008171127671816817825942300815216773328994147825680665322100793701798525406875680152567176896708167202470300306391201853231350446763244331035361992854474842551712786310912415873893558050215740441078069867992216251885135033730448625042'],\n",
       "    ['ismanufacturer',\n",
       "     '573819760351309707207842862133217382822948934581866001618731908754333353999466945572474728891805310433140660037495195067917780350307763631118869473942828905501138787480167289705654846267064497497929603244740890509574710217051527408389742065263493199325030422229250118875807018944577181536807686217425198423980914455012970714999221021507539604694235959549433141967014898385412036375939557587337238364880090850338940335633177330577194094362406173415756429974649229941327920772034647681746699298424123302424940811484516462852208905258848781927364996260632848630925208309744254912973149948848288793915754580435192849643855110781545992068082753701517077937668910943457726578703618190678346222911951'],\n",
       "    ['manufacturercity',\n",
       "     '110468245346329349518417817099551498748499448758217098988986565573346716181680037623165102359432393185328521290685635713497892118639936892874036317926510301533460418753738578844238873942698922505031109887120653754661470158059653068590007045241771909983367691621920522906173863149988023303358791191217553816017577735200112956598489018936877539835378733841301145586314346543283126756037858657113918971859097355562798632871921891826361386857484860993900481983898116790488210814489396698747505669965324456216860456007548970177839143683847942970187724755568861168255399032289464977964958057349633536875970757287558413221986301369835518770510469748551454578604309364778534142959689519836927419469057']]}},\n",
       " 'credential_exchange_id': '74787e10-ff7d-4d3d-b7ff-efdad5478ac8',\n",
       " 'trace': False,\n",
       " 'state': 'request_sent',\n",
       " 'credential_request_metadata': {'master_secret_blinding_data': {'v_prime': '26289961473911423445151097055657868754604953752989618138075117538048420571425273289130207690809708503634816743982708135172369654672188217282454849361423843612900014102830319714987519154454886545767417050026451192780381790918720211693335826181175352786098473843094372454559471034918753443870885797162119208472874558076846861136376893234035298753371392585997442500703301650957052693642333838032572453885977130515988748179111889529392671720525702950267443047945537963649106590309362637066270489043786689248940499935083504448370790290706838080224055370193376210367548210322272369642263732949203783135153333642405488535076586587512151977567293251',\n",
       "   'vr_prime': None},\n",
       "  'nonce': '544582216610926975081174',\n",
       "  'master_secret_name': 'manufacturer1_Name'},\n",
       " 'schema_id': 'BQmsjXtsjzzmTtdwQg5Ftn:2:certify-manufacturer:0.0.1',\n",
       " 'initiator': 'external',\n",
       " 'thread_id': '663daa27-93f3-4148-a473-f4c76298c459',\n",
       " 'updated_at': '2021-08-05 07:43:40.143309Z',\n",
       " 'credential_proposal_dict': {'@type': 'did:sov:BzCbsNYhMrjHiqZDTUASHg;spec/issue-credential/1.0/propose-credential',\n",
       "  '@id': '8daf5f9f-8ea5-4230-8873-5d5658d5118a',\n",
       "  'schema_id': 'BQmsjXtsjzzmTtdwQg5Ftn:2:certify-manufacturer:0.0.1',\n",
       "  'credential_proposal': {'@type': 'did:sov:BzCbsNYhMrjHiqZDTUASHg;spec/issue-credential/1.0/credential-preview',\n",
       "   'attributes': [{'name': 'manufacturerName', 'value': 'M1'},\n",
       "    {'name': 'manufacturerCity', 'value': 'Munich'},\n",
       "    {'name': 'manufacturerCountry', 'value': 'DE'},\n",
       "    {'name': 'isManufacturer', 'value': 'TRUE'}]},\n",
       "  'comment': 'Issuing VC that Manufacturer1 is a manufacturer',\n",
       "  'cred_def_id': 'PvCigHE6ZGaR27buqP8Vv1:3:CL:239761:default'},\n",
       " 'credential_definition_id': 'PvCigHE6ZGaR27buqP8Vv1:3:CL:239761:default',\n",
       " 'role': 'holder',\n",
       " 'connection_id': '5747fa45-dd4c-4542-9699-1d0e2b557c3d',\n",
       " 'auto_issue': False,\n",
       " 'credential_request': {'prover_did': 'QGr99Di1cNopdo8SLKnnCY',\n",
       "  'cred_def_id': 'PvCigHE6ZGaR27buqP8Vv1:3:CL:239761:default',\n",
       "  'blinded_ms': {'u': '7277200581656477255002116401857320331003774643512217628312918868065621284713391968833867204516401016271321525314359051535453765921968791448195735518892805306562049452272126950342718849017751913030013684167746034585889441464895723383419660030298831508766634212032012112268885382059163155445107295419612974646602606202565390815124751943446082761105558098727762472659111464176355682297592195439908750713352533106305870209786688854622292441892588679082502134108729651909727405720902091004954410373652144220906089776805686958651986352550771555293430941382169744081771030104262332957793510947489393012373724296016330511927',\n",
       "   'ur': None,\n",
       "   'hidden_attributes': ['master_secret'],\n",
       "   'committed_attributes': {}},\n",
       "  'blinded_ms_correctness_proof': {'c': '102565807562708965986485803139091772304920696134057038890166080598107987769767',\n",
       "   'v_dash_cap': '2696451129364231628979887854033872760917260216155262073016980881850978863514899708747200691048534762218065776184594163866971055600114519564871879333232902465023815763795885855970460652104878595332411604935774543751000149851843563768450865722160707997035875761792498347595311517413945009727680157538503554687321173028342018209809536302717267069868552153969713092684855489810567130617067512478144898439897025202324945523586762254695475035334322673098233032472940401127492502289180833896209625003141930709120860108506732548038015085533150081812017388557097528713759641667228371125963863382884093091029194008624684228026867009278628897596345551505098054761953808572294266751096280222919364863934400972680808698849099573216',\n",
       "   'm_caps': {'master_secret': '17621551092621781218693596076991050441180372489013483607771926204235304366636990707138702554952721883582580542654269668477559753616634399708079886798173380277280530147831069417844'},\n",
       "   'r_caps': {}},\n",
       "  'nonce': '544582216610926975081174'},\n",
       " 'created_at': '2021-08-05 07:43:31.885146Z',\n",
       " 'auto_offer': False,\n",
       " 'auto_remove': False}"
      ]
     },
     "execution_count": 19,
     "metadata": {},
     "output_type": "execute_result"
    },
    {
     "name": "stdout",
     "output_type": "stream",
     "text": [
      "\n",
      "---------------------------------------------------\n",
      "\n",
      "Handle Issue Credential Webhook\n",
      "Connection ID : 5747fa45-dd4c-4542-9699-1d0e2b557c3d\n",
      "Credential exchange ID : 74787e10-ff7d-4d3d-b7ff-efdad5478ac8\n",
      "Agent Protocol Role :  holder\n",
      "Protocol State :  credential_received\n",
      "\n",
      "---------------------------------------------------\n",
      "\n",
      "Handle Credential Webhook Payload\n",
      "Received Credential\n"
     ]
    }
   ],
   "source": [
    "# Send request for VC\n",
    "await agent_controller.issuer.send_request_for_record(record_id)"
   ]
  },
  {
   "cell_type": "markdown",
   "id": "97adf463",
   "metadata": {},
   "source": [
    "### 3.3 – Store received VC in wallet\n",
    "\n",
    "This will be done automatically if the ACAPY_AUTO_STORE_CREDENTIAL=true flag is set in the .env file for this agent. Default is false.\n",
    "\n",
    "Again you could handle this in your holder handler function in the `elif state == \"credential_received\":` loop."
   ]
  },
  {
   "cell_type": "code",
   "execution_count": 20,
   "id": "440f2af8",
   "metadata": {},
   "outputs": [
    {
     "name": "stdout",
     "output_type": "stream",
     "text": [
      "\n",
      "---------------------------------------------------\n",
      "\n",
      "Handle Issue Credential Webhook\n",
      "Connection ID : 5747fa45-dd4c-4542-9699-1d0e2b557c3d\n",
      "Credential exchange ID : 74787e10-ff7d-4d3d-b7ff-efdad5478ac8\n",
      "Agent Protocol Role :  holder\n",
      "Protocol State :  credential_acked\n",
      "\n",
      "---------------------------------------------------\n",
      "\n",
      "Handle Credential Webhook Payload\n",
      "Credential Stored\n",
      "\n",
      "{'referent': 'M1-isManufacturer-VC', 'attrs': {'manufacturerName': 'M1', 'isManufacturer': 'TRUE', 'manufacturerCountry': 'DE', 'manufacturerCity': 'Munich'}, 'schema_id': 'BQmsjXtsjzzmTtdwQg5Ftn:2:certify-manufacturer:0.0.1', 'cred_def_id': 'PvCigHE6ZGaR27buqP8Vv1:3:CL:239761:default'}\n",
      "\n",
      "The referent acts as the identifier for retrieving the raw credential from the wallet\n",
      "Referent M1-isManufacturer-VC\n"
     ]
    }
   ],
   "source": [
    "credential_id = \"M1-isManufacturer-VC\"\n",
    "store_cred_response = await agent_controller.issuer.store_credential(record_id, credential_id)"
   ]
  },
  {
   "cell_type": "markdown",
   "id": "6f10667a",
   "metadata": {},
   "source": [
    "## Terminate Controller\n",
    "\n",
    "Whenever you have finished with this notebook, be sure to terminate the controller. This is especially important if your business logic runs across multiple notebooks."
   ]
  },
  {
   "cell_type": "code",
   "execution_count": 21,
   "id": "9bc0fbe8",
   "metadata": {},
   "outputs": [],
   "source": [
    "await agent_controller.terminate()"
   ]
  },
  {
   "cell_type": "code",
   "execution_count": null,
   "id": "c6a658b5",
   "metadata": {},
   "outputs": [],
   "source": []
  }
 ],
 "metadata": {
  "kernelspec": {
   "display_name": "Python 3 (ipykernel)",
   "language": "python",
   "name": "python3"
  },
  "language_info": {
   "codemirror_mode": {
    "name": "ipython",
    "version": 3
   },
   "file_extension": ".py",
   "mimetype": "text/x-python",
   "name": "python",
   "nbconvert_exporter": "python",
   "pygments_lexer": "ipython3",
   "version": "3.9.5"
  }
 },
 "nbformat": 4,
 "nbformat_minor": 5
}
