{
 "cells": [
  {
   "cell_type": "markdown",
   "id": "7f83786a",
   "metadata": {},
   "source": [
    "# Request VC from Authority\n",
    "\n",
    "This notebook is used in combination with notebook `01_issue_VC_city.ipynb` (see Authority agent). Break points indicate when to switch notebooks."
   ]
  },
  {
   "cell_type": "code",
   "execution_count": 1,
   "id": "b0e8514c",
   "metadata": {},
   "outputs": [
    {
     "data": {
      "application/javascript": [
       "document.title='Manufacturer1 Agent'\n"
      ],
      "text/plain": [
       "<IPython.core.display.Javascript object>"
      ]
     },
     "metadata": {},
     "output_type": "display_data"
    }
   ],
   "source": [
    "%%javascript\n",
    "document.title='Manufacturer1 Agent'"
   ]
  },
  {
   "cell_type": "markdown",
   "id": "fbd1228c",
   "metadata": {},
   "source": [
    "#### Imports"
   ]
  },
  {
   "cell_type": "code",
   "execution_count": 2,
   "id": "c6940153",
   "metadata": {},
   "outputs": [
    {
     "name": "stdout",
     "output_type": "stream",
     "text": [
      "IPython autoawait is `on`, and set to use `asyncio`\n"
     ]
    }
   ],
   "source": [
    "%autoawait \n",
    "from aries_cloudcontroller import AriesAgentController\n",
    "import os\n",
    "from pprintpp import pprint\n",
    "from termcolor import colored"
   ]
  },
  {
   "cell_type": "markdown",
   "id": "a0daed7c",
   "metadata": {},
   "source": [
    "#### Initialize `Manufacturer1` Agent Controller"
   ]
  },
  {
   "cell_type": "code",
   "execution_count": 3,
   "id": "1ce4c028",
   "metadata": {},
   "outputs": [
    {
     "name": "stdout",
     "output_type": "stream",
     "text": [
      "Initialising a controller with admin api at http://manufacturer1-agent:3021 and an api key of adminApiKey\n"
     ]
    }
   ],
   "source": [
    "api_key = os.getenv(\"ACAPY_ADMIN_API_KEY\")\n",
    "admin_url = os.getenv(\"ADMIN_URL\")\n",
    "\n",
    "print(f\"Initialising a controller with admin api at {admin_url} and an api key of {api_key}\")\n",
    "agent_controller = AriesAgentController(admin_url,api_key)"
   ]
  },
  {
   "cell_type": "markdown",
   "id": "d2de447d",
   "metadata": {},
   "source": [
    "## 1 – Init Webhook Server and register Event Listeners for it\n",
    "#### 1.1 – Start webhook server\n",
    "Start a webhook server to be able to communicate with other agents"
   ]
  },
  {
   "cell_type": "code",
   "execution_count": 4,
   "id": "555ccc09",
   "metadata": {},
   "outputs": [
    {
     "name": "stdout",
     "output_type": "stream",
     "text": [
      "Listening for webhooks from agent at http://0.0.0.0:3010\n"
     ]
    }
   ],
   "source": [
    "# Setup\n",
    "webhook_port = int(os.getenv(\"WEBHOOK_PORT\"))\n",
    "webhook_host = \"0.0.0.0\"\n",
    "\n",
    "# Listen on webhook server\n",
    "await agent_controller.init_webhook_server(webhook_host, webhook_port)\n",
    "print(f\"Listening for webhooks from agent at http://{webhook_host}:{webhook_port}\")"
   ]
  },
  {
   "cell_type": "markdown",
   "id": "c334763e",
   "metadata": {},
   "source": [
    "#### 1.2 – Define listeners\n",
    "Define listeners that are triggered when something happens on the webhook server"
   ]
  },
  {
   "cell_type": "code",
   "execution_count": 5,
   "id": "735d178d",
   "metadata": {},
   "outputs": [],
   "source": [
    "# Receive connection messages\n",
    "def connections_handler(payload):\n",
    "    state = payload['state']\n",
    "    connection_id = payload[\"connection_id\"]\n",
    "    their_role = payload[\"their_role\"]\n",
    "    routing_state = payload[\"routing_state\"]\n",
    "    rfc_state = payload[\"rfc23_state\"]\n",
    "    \n",
    "    print(\"----------------------------------------------------------\")\n",
    "    print(\"Connection Webhook Event Received\")\n",
    "    print(\"Connection ID : \", connection_id)\n",
    "    print(\"State : \", state)\n",
    "    print(\"Routing State : {routing} ({rfc})\".format(routing=routing_state, rfc=rfc_state))\n",
    "    if 'their_label' in payload: \n",
    "        print(f\"Connection with : \", payload['their_label'])\n",
    "    print(\"Their Role : \", their_role)\n",
    "    print(\"----------------------------------------------------------\")\n",
    "\n",
    "    if state == \"invitation\":\n",
    "        # Your business logic\n",
    "        print(\"invitation\")\n",
    "    elif state == \"request\":\n",
    "        # Your business logic\n",
    "        print(\"request\")\n",
    "\n",
    "    elif state == \"response\":\n",
    "        # Your business logic\n",
    "        print(\"response\")\n",
    "    elif state == \"active\":\n",
    "        # Your business logic\n",
    "        print(colored(\"Connection ID: {0} is now active.\".format(connection_id), \"green\", attrs=[\"bold\"]))\n",
    "\n",
    "        \n",
    "## YOUR LISTENERS HERE\n",
    "def holder_handler(payload):\n",
    "    connection_id = payload['connection_id']\n",
    "    exchange_id = payload['credential_exchange_id']\n",
    "    state = payload['state']\n",
    "    role = payload['role']\n",
    "    print(\"\\n---------------------------------------------------\\n\")\n",
    "    print(\"Handle Issue Credential Webhook\")\n",
    "    print(f\"Connection ID : {connection_id}\")\n",
    "    print(f\"Credential exchange ID : {exchange_id}\")\n",
    "    print(\"Agent Protocol Role : \", role)\n",
    "    print(\"Protocol State : \", state )\n",
    "    print(\"\\n---------------------------------------------------\\n\")\n",
    "    print(\"Handle Credential Webhook Payload\")\n",
    "    \n",
    "    if state == \"offer_received\":\n",
    "        print(\"Credential Offer Recieved\")\n",
    "        proposal = payload[\"credential_proposal_dict\"]\n",
    "        print(\"The proposal dictionary is likely how you would understand and display a credential offer in your application\")\n",
    "        print(\"\\n\", proposal)\n",
    "        print(\"\\n This includes the set of attributes you are being offered\")\n",
    "        attributes = proposal['credential_proposal']['attributes']\n",
    "        print(attributes)\n",
    "        ## YOUR LOGIC HERE\n",
    "    elif state == \"request_sent\":\n",
    "        print(\"\\nA credential request object contains the commitment to the agents master secret using the nonce from the offer\")\n",
    "        ## YOUR LOGIC HERE\n",
    "    elif state == \"credential_received\":\n",
    "        print(\"Received Credential\")\n",
    "        ## YOUR LOGIC HERE\n",
    "    elif state == \"credential_acked\":\n",
    "        ## YOUR LOGIC HERE\n",
    "        credential = payload[\"credential\"]\n",
    "        print(\"Credential Stored\\n\")\n",
    "        print(credential)\n",
    "        \n",
    "        print(\"\\nThe referent acts as the identifier for retrieving the raw credential from the wallet\")\n",
    "        # Note: You would probably save this in your application database\n",
    "        credential_referent = credential[\"referent\"]\n",
    "        print(\"Referent\", credential_referent)\n",
    "        \n",
    "        \n",
    "def messages_handler(payload):\n",
    "    connection_id = payload[\"connection_id\"]\n",
    "    agent_controller.messaging.send_message(connection_id, \"This is a response from Bob\")\n",
    "    print(\"Handle message\", connection_id)\n",
    "    pprint(payload)"
   ]
  },
  {
   "cell_type": "code",
   "execution_count": 6,
   "id": "bca921a4",
   "metadata": {},
   "outputs": [],
   "source": [
    "# Init listener list \n",
    "listeners = []\n",
    "\n",
    "# Add listeners defined in previous cell\n",
    "connection_listener = {\"handler\": connections_handler, \"topic\": \"connections\"}\n",
    "listeners.append(connection_listener)\n",
    "\n",
    "holder_listener = {\"topic\": \"issue_credential\", \"handler\": holder_handler}\n",
    "listeners.append(holder_listener)\n",
    "\n",
    "message_listener = {\"handler\": messages_handler, \"topic\": \"basicmessages\"}\n",
    "listeners.append(message_listener)"
   ]
  },
  {
   "cell_type": "markdown",
   "id": "1a67d912",
   "metadata": {},
   "source": [
    "#### 1.3 – Register listeners with `agent_controller`"
   ]
  },
  {
   "cell_type": "code",
   "execution_count": 7,
   "id": "91bc928a",
   "metadata": {},
   "outputs": [],
   "source": [
    "agent_controller.register_listeners(listeners)"
   ]
  },
  {
   "cell_type": "markdown",
   "id": "b466a35d",
   "metadata": {},
   "source": [
    "## 2 – Establish a connection with Authority agent\n",
    "A connection with the credential issuer (i.e., the authority agent) must be establieshed before a VC can be received. In this scenario, the agent requests a connection with the Authority to be certified as an official city agency. Thus, the city agent sends an invitation to the Authority.\n",
    "\n",
    "### 2.1 Create invitation to Authority agent"
   ]
  },
  {
   "cell_type": "code",
   "execution_count": 8,
   "id": "700a68f4",
   "metadata": {},
   "outputs": [
    {
     "name": "stdout",
     "output_type": "stream",
     "text": [
      "----------------------------------------------------------\n",
      "Connection Webhook Event Received\n",
      "Connection ID :  32200c7f-0fea-4c78-ae7b-57f4ad9217b0\n",
      "State :  invitation\n",
      "Routing State :  none\n",
      "Their Role :  invitee\n",
      "----------------------------------------------------------\n",
      "invitation\n"
     ]
    }
   ],
   "source": [
    "# Setup for connection with Authority agent\n",
    "alias = None\n",
    "auto_accept = \"true\" # Accept response of Authority agent right away\n",
    "public = \"false\" # Do not use public DID\n",
    "multi_use = \"false\" # Invitation is only for one invitee\n",
    "\n",
    "# Await response\n",
    "invitation_response = await agent_controller.connections.create_invitation(alias, auto_accept, public, multi_use,)\n",
    "\n",
    "# Keep connection_id to use it in other protocols (e.g., messaging)\n",
    "connection_id = invitation_response[\"connection_id\"]"
   ]
  },
  {
   "cell_type": "markdown",
   "id": "760dcf50",
   "metadata": {},
   "source": [
    "### 2.2 – Send invitation with Authority\n",
    "Sharing the invitation can be done via e.g., phone, zoom, E-Mail or QR-code. In this scenario, please copy and paste the invitation into `01_issue_VC_city.ipynb` of the Authority agent (see Step 2.1)"
   ]
  },
  {
   "cell_type": "code",
   "execution_count": 9,
   "id": "37bdf059",
   "metadata": {},
   "outputs": [
    {
     "name": "stdout",
     "output_type": "stream",
     "text": [
      "Copy the following dict and past it into the Authority agency\n",
      "{\n",
      "    '@id': '149a1be3-e17d-44d5-92f4-b40ddb629649',\n",
      "    '@type': 'did:sov:BzCbsNYhMrjHiqZDTUASHg;spec/connections/1.0/invitation',\n",
      "    'label': 'Manufacturer1',\n",
      "    'recipientKeys': ['8x5QM4KWByjUVdqbdTBdv2a1zABkH6uC4j9Ab9yhX2ng'],\n",
      "    'serviceEndpoint': 'https://c1b8e3f90d1a.ngrok.io',\n",
      "}\n",
      "----------------------------------------------------------\n",
      "Connection Webhook Event Received\n",
      "Connection ID :  32200c7f-0fea-4c78-ae7b-57f4ad9217b0\n",
      "State :  request\n",
      "Routing State :  none\n",
      "Their Role :  invitee\n",
      "----------------------------------------------------------\n",
      "request\n",
      "----------------------------------------------------------\n",
      "Connection Webhook Event Received\n",
      "Connection ID :  32200c7f-0fea-4c78-ae7b-57f4ad9217b0\n",
      "State :  response\n",
      "Routing State :  none\n",
      "Their Role :  invitee\n",
      "----------------------------------------------------------\n",
      "response\n"
     ]
    }
   ],
   "source": [
    "# Get and print invitation\n",
    "invitation = invitation_response[\"invitation\"]\n",
    "print(\"Copy the following dict and past it into the Authority agency\")\n",
    "pprint(invitation)"
   ]
  },
  {
   "cell_type": "markdown",
   "id": "a41a133f",
   "metadata": {},
   "source": [
    "**BREAK POINT:** Please switch to agent `Authority`, open `01_issue_VC_city.ipynb`, and continue with Step 2\n",
    "\n",
    "---\n",
    "\n",
    "### 2.3 – Sent trust ping to establish and activate connection"
   ]
  },
  {
   "cell_type": "code",
   "execution_count": 10,
   "id": "7eeecf22",
   "metadata": {},
   "outputs": [
    {
     "data": {
      "text/plain": [
       "{'thread_id': '3f3efe05-98d2-4c2f-8861-e9c0ddb1cee2'}"
      ]
     },
     "execution_count": 10,
     "metadata": {},
     "output_type": "execute_result"
    },
    {
     "name": "stdout",
     "output_type": "stream",
     "text": [
      "----------------------------------------------------------\n",
      "Connection Webhook Event Received\n",
      "Connection ID :  32200c7f-0fea-4c78-ae7b-57f4ad9217b0\n",
      "State :  active\n",
      "Routing State :  none\n",
      "Their Role :  invitee\n",
      "----------------------------------------------------------\n",
      "\u001b[1m\u001b[32mConnection ID: 32200c7f-0fea-4c78-ae7b-57f4ad9217b0 is now active.\u001b[0m\n"
     ]
    }
   ],
   "source": [
    "await agent_controller.messaging.trust_ping(connection_id, \"send trust ping\")"
   ]
  },
  {
   "cell_type": "markdown",
   "id": "6d27ce9e",
   "metadata": {},
   "source": [
    "## 3 – Request VC from `Authority` agent\n",
    "### 3.1 – Message `Authority` to request a VC"
   ]
  },
  {
   "cell_type": "code",
   "execution_count": 11,
   "id": "cb4eca83",
   "metadata": {},
   "outputs": [
    {
     "data": {
      "text/plain": [
       "{}"
      ]
     },
     "execution_count": 11,
     "metadata": {},
     "output_type": "execute_result"
    },
    {
     "name": "stderr",
     "output_type": "stream",
     "text": [
      "/tmp/ipykernel_16/3503404827.py:75: RuntimeWarning: coroutine 'MessagingController.send_message' was never awaited\n",
      "  agent_controller.messaging.send_message(connection_id, \"This is a response from Bob\")\n",
      "RuntimeWarning: Enable tracemalloc to get the object allocation traceback\n"
     ]
    },
    {
     "name": "stdout",
     "output_type": "stream",
     "text": [
      "Handle message 32200c7f-0fea-4c78-ae7b-57f4ad9217b0\n",
      "{\n",
      "    'connection_id': '32200c7f-0fea-4c78-ae7b-57f4ad9217b0',\n",
      "    'content': 'Hello Manufacturer1. Plase provide me with the following information: manufacturerName, manufacturerCountry, ManufacturerCity.',\n",
      "    'message_id': '364af965-e994-4e76-b7d7-419ff01c0dca',\n",
      "    'sent_time': '2021-08-09 14:21:52.649646Z',\n",
      "    'state': 'received',\n",
      "}\n"
     ]
    }
   ],
   "source": [
    "basic_message = \"Hello Authority agent\"\n",
    "await agent_controller.messaging.send_message(connection_id, basic_message)"
   ]
  },
  {
   "cell_type": "markdown",
   "id": "96b3c48b",
   "metadata": {},
   "source": [
    "**BREAK POINT:** Go to Step 3 in the `01_issue_VC_city.ipynb` notebook of the `Authority` agent.\n",
    "\n",
    "---"
   ]
  },
  {
   "cell_type": "markdown",
   "id": "b6b05d8a",
   "metadata": {},
   "source": [
    "### 3.1 – Provide `Authority` with the relevant information to issue a VC"
   ]
  },
  {
   "cell_type": "code",
   "execution_count": 13,
   "id": "f14eae1c",
   "metadata": {},
   "outputs": [
    {
     "data": {
      "text/plain": [
       "{}"
      ]
     },
     "execution_count": 13,
     "metadata": {},
     "output_type": "execute_result"
    },
    {
     "name": "stdout",
     "output_type": "stream",
     "text": [
      "\n",
      "---------------------------------------------------\n",
      "\n",
      "Handle Issue Credential Webhook\n",
      "Connection ID : 32200c7f-0fea-4c78-ae7b-57f4ad9217b0\n",
      "Credential exchange ID : c6afd888-d0a8-40d6-b6d7-46a965da1ace\n",
      "Agent Protocol Role :  holder\n",
      "Protocol State :  offer_received\n",
      "\n",
      "---------------------------------------------------\n",
      "\n",
      "Handle Credential Webhook Payload\n",
      "Credential Offer Recieved\n",
      "The proposal dictionary is likely how you would understand and display a credential offer in your application\n",
      "\n",
      " {'@type': 'did:sov:BzCbsNYhMrjHiqZDTUASHg;spec/issue-credential/1.0/propose-credential', '@id': 'caff43b9-fe3f-47a9-abb9-587db387e522', 'schema_id': 'MTXSc4YD8wixyM9ekZbmMC:2:certify-manufacturer:0.0.1', 'cred_def_id': 'MTXSc4YD8wixyM9ekZbmMC:3:CL:246687:default', 'credential_proposal': {'@type': 'did:sov:BzCbsNYhMrjHiqZDTUASHg;spec/issue-credential/1.0/credential-preview', 'attributes': [{'name': 'manufacturerName', 'value': 'undisclosedName1'}, {'name': 'manufacturerCity', 'value': 'Munich'}, {'name': 'manufacturerCountry', 'value': 'DE'}, {'name': 'isManufacturer', 'value': 'TRUE'}]}, 'comment': 'Issuing VC that Manufacturer1 is a manufacturer'}\n",
      "\n",
      " This includes the set of attributes you are being offered\n",
      "[{'name': 'manufacturerName', 'value': 'undisclosedName1'}, {'name': 'manufacturerCity', 'value': 'Munich'}, {'name': 'manufacturerCountry', 'value': 'DE'}, {'name': 'isManufacturer', 'value': 'TRUE'}]\n"
     ]
    }
   ],
   "source": [
    "basic_message = '{\"manufacturerName\": \"undisclosedName1\", \"manufacturerCountry\": \"DE\", \"manufacturerCity\": \"Munich\"}'\n",
    "await agent_controller.messaging.send_message(connection_id, basic_message)"
   ]
  },
  {
   "cell_type": "markdown",
   "id": "c7a77182",
   "metadata": {},
   "source": [
    "**BREAK POINT:** Return to step \n",
    "\n",
    "---\n",
    "\n",
    "\n",
    "### 3.2 – Request VC from `Authority`'s Offer\n",
    "\n",
    "Note: Your agent will automatically respond if ACAPY_AUTO_RESPOND_CREDENTIAL_OFFER=true flag is set in .env file of agent. Default is false.\n",
    "\n",
    "To respond to an offer you must identify the offer using the credential_exchange_id generated for it. This is available from within the issue-credential holder handler. You could add custom logic in this loop `elif state == \"request\":` to handle this.\n",
    "\n",
    "However, we will fetch the credential exchange records and **assume** this agent only has one record. Customise accordingly."
   ]
  },
  {
   "cell_type": "code",
   "execution_count": 14,
   "id": "afc46fc4",
   "metadata": {},
   "outputs": [],
   "source": [
    "# Setup arguments for response\n",
    "thread_id = None\n",
    "state = \"offer_received\"\n",
    "role = \"prover\"\n",
    "\n",
    "records_response = await agent_controller.issuer.get_records(connection_id=connection_id,state=state)\n",
    "record = records_response[\"results\"][0]\n",
    "record_id = record[\"credential_exchange_id\"]"
   ]
  },
  {
   "cell_type": "code",
   "execution_count": 15,
   "id": "a8619455",
   "metadata": {},
   "outputs": [
    {
     "name": "stdout",
     "output_type": "stream",
     "text": [
      "\n",
      "---------------------------------------------------\n",
      "\n",
      "Handle Issue Credential Webhook\n",
      "Connection ID : 32200c7f-0fea-4c78-ae7b-57f4ad9217b0\n",
      "Credential exchange ID : c6afd888-d0a8-40d6-b6d7-46a965da1ace\n",
      "Agent Protocol Role :  holder\n",
      "Protocol State :  request_sent\n",
      "\n",
      "---------------------------------------------------\n",
      "\n",
      "Handle Credential Webhook Payload\n",
      "\n",
      "A credential request object contains the commitment to the agents master secret using the nonce from the offer\n"
     ]
    },
    {
     "data": {
      "text/plain": [
       "{'thread_id': '3ab9d568-7182-412c-9374-3b06b1e64fb1',\n",
       " 'credential_offer': {'schema_id': 'MTXSc4YD8wixyM9ekZbmMC:2:certify-manufacturer:0.0.1',\n",
       "  'cred_def_id': 'MTXSc4YD8wixyM9ekZbmMC:3:CL:246687:default',\n",
       "  'nonce': '1192624921435078486547423',\n",
       "  'key_correctness_proof': {'c': '49818264144256857504040919915346497502971057683517596656866241068070837044558',\n",
       "   'xz_cap': '1043258602390978547780576881941827126930257997684630157382635680732702336633257776074798754836300249864774391281421530206990127229422463021718422401225449963191034467077650601972787004467479889018279201419195284163321101056827112503311503227134565997010007992133396623207333495610369382516100964319510158858972111696531021012894808374807650994578163319708463801223232352986942413070635332676848522947912213963286854182044194958455783492485885889605445478800718858301627188301940995157869606188445890981976027687189991900329734037932415699198882711470676497053905499708388380997823139212494294975875744264841103846330785930170540895394204389685494489193317156830701924085233006983055643578720589',\n",
       "   'xr_cap': [['manufacturername',\n",
       "     '631385175543825947667589314426965475574370190264203137151867571768008539333994366808972781164007988821782937422404248737130829756291760255921392034009156940824674643624375981765339020264463262030911619799860888443025572442212304515814260792042699507948330559942670247206973050907687256164789094407232890894604656236894787125975153590093663624934399308683670886475499966539474487302497672921272864539530935755773881905918665640999859641555937283594173046011982412746247377349383959239983837909264820691034727065992067599572072512592620309979010651377704731506622654370825034679438069979264320980423623490990957737657287895352244218070283088672602524385620859054887681440166094137267934725551299'],\n",
       "    ['manufacturercountry',\n",
       "     '901368200662847671222177831889837346169110936063460408263099470885628812066833725179061024168533533612536384093287458574941078436631992102669536930633504771213305999158136705329852297161387407017940344205102441372840730386688054926529219842008368658764068317942359128125409900827886473122439863605804828446088421604468874266207436228357830687437514550108648890054498698335350418169383205654476475690697328089561830799454669975964155964224604214083610289047567794411501049918744064787579799407671278367085662423631508631048480142401776175250102008495701008955582011755882827128590125166175861732288183721493107139957013751671080462764624675199061735612593937039383298121243814609968160942844632'],\n",
       "    ['master_secret',\n",
       "     '722794618780837004684045287688775140655000952766534844269036594182539100478477827076011611850235330876559478068378852412534014541268256527013449930946192973911462252301721394040408701569617903487295886471623791937850404848270936544774154483062162863006330393092433213680385138945311313120274807412529496109251759928453055047876526778740193740695729344168917229092913431626868177773268728378956692666217502650947100781359663979505636682441546900743932549416547966947777009842323049242181832449354624064835828855241657725256374084724930877571953852843566401179275142394931259598958825177338212279921777515841067223398910753560452236522007818835258270427579539828546983511396749609625524559797126'],\n",
       "    ['ismanufacturer',\n",
       "     '1095446691517553709944282705904812499090921315412745946806106116331191180238105282040131743644611714236076768988926100299483092133573182651451368575862963205380556371606387692020936749956164942629043927214729963999942561979208768819562720409898596803763442159928986095997040377584953327188832092033201412480081314408909919144024022844826994964292611842891013668827076007113571267619239218836022942291607968969707606001147498924896221145011393175452752128609894366520348500827741462227455169849103496683386504530259196698458831752522318401163294443656708160649178175712008614947099232047408333040884220013060722466584869638800972128740812287049810386899535990586905710914854794858389465502931757'],\n",
       "    ['manufacturercity',\n",
       "     '746693551655120469764984849073434303284134337931518957123930828610970679715143721615176427654794443097865204549064696515732244938432028243360219903762323782195568502436359948078240796778697565371668745613876303161412251252133853292175714389190472790719294737526245367815833915422749559629359446464561769853213540312898850241032623250930346573834397894347475065121983814651302923308909966458937839278035384698977065067391222999304537182014643586880121485069411667550832942687160741468900125669482409949289188590772937491149009651687996366000238302898861091050762195733578973204450216798722875711003783624048295737890023420575128748040027654984136474013195788626299867572322562750290306217440455']]}},\n",
       " 'schema_id': 'MTXSc4YD8wixyM9ekZbmMC:2:certify-manufacturer:0.0.1',\n",
       " 'created_at': '2021-08-09 14:22:48.485874Z',\n",
       " 'trace': False,\n",
       " 'state': 'request_sent',\n",
       " 'auto_offer': False,\n",
       " 'auto_issue': False,\n",
       " 'role': 'holder',\n",
       " 'credential_exchange_id': 'c6afd888-d0a8-40d6-b6d7-46a965da1ace',\n",
       " 'initiator': 'external',\n",
       " 'updated_at': '2021-08-09 14:22:52.146759Z',\n",
       " 'credential_request_metadata': {'master_secret_blinding_data': {'v_prime': '2062796047862997147242846618768881555949520757657453254240058465665714172117568979661608329258361601903414552971528443946470167323908025101145800275495629150706790559045155173526573310167239951543591770931658187686749193289211653678419299991665477003284997142718260807379021946852852087027623272609828469455259326128914805787950144135172962361459394866430376725701883917781804117850674696124433768341191731269736742657584216926112243558126621053981461786308817827552526856418104464856403104308352604730159695590143248443204589252928791804682333749308662970317657073717117013593658687911107934113291809791501305060446892348919104838837589351',\n",
       "   'vr_prime': None},\n",
       "  'nonce': '672899597213222561690146',\n",
       "  'master_secret_name': 'manufacturer1_Name'},\n",
       " 'credential_request': {'prover_did': '931iB4BeSzcM32HUoZArnh',\n",
       "  'cred_def_id': 'MTXSc4YD8wixyM9ekZbmMC:3:CL:246687:default',\n",
       "  'blinded_ms': {'u': '57143625773881101274231150063638870232756363858516066157338201806044132509206150031833299929683382414380584882133999987741152173732535222619951304332040989742090264592006308889511029304023633658323636675187650140477386569251152895541329821824728121115253599663289960593493528585893278031662975302888812609562206724075056815038504137795542894426412378323120580141588923165424088596584374810126695017665421279562588920986874042524480268922035539806172269191166619447835938988758791706806647430843310852578171392470720345774537091440353912515745372854795004385740518640501720483017054128533241297783383443442250248228124',\n",
       "   'ur': None,\n",
       "   'hidden_attributes': ['master_secret'],\n",
       "   'committed_attributes': {}},\n",
       "  'blinded_ms_correctness_proof': {'c': '68605535390169373413033778165681440456514515872381006037823758686114684353120',\n",
       "   'v_dash_cap': '141519227264366367463657299278199863184655704798144596900951986462317769571509085364141109233628409954396198197161472530986939670411843903403868169928976593563039113503386163122356267650343509432657769623744975941226169064927811378690659690728627038434374474103863517003804663071217027208563207335540549414808205515727089347149137413637184954176219883301190190590074413155983641685773218173945653057106875750196453263413639469239792968312055133963097818021081823124728497256335599222649106261330045314209249203823338815060882522951420085255183692627194443346257908234127114235504295493562954771964760980933620994752909266623659992960401915693944016732646616322170690997212226890412074070922406072494324375695077970788',\n",
       "   'm_caps': {'master_secret': '19916415174904016375457406665403972226575888252787031755984094762514413292194910408020798094222329518323437331351801342191642965595054743375764602963851425499608530662817519105900'},\n",
       "   'r_caps': {}},\n",
       "  'nonce': '672899597213222561690146'},\n",
       " 'auto_remove': False,\n",
       " 'connection_id': '32200c7f-0fea-4c78-ae7b-57f4ad9217b0',\n",
       " 'credential_definition_id': 'MTXSc4YD8wixyM9ekZbmMC:3:CL:246687:default',\n",
       " 'credential_proposal_dict': {'@type': 'did:sov:BzCbsNYhMrjHiqZDTUASHg;spec/issue-credential/1.0/propose-credential',\n",
       "  '@id': 'caff43b9-fe3f-47a9-abb9-587db387e522',\n",
       "  'schema_id': 'MTXSc4YD8wixyM9ekZbmMC:2:certify-manufacturer:0.0.1',\n",
       "  'cred_def_id': 'MTXSc4YD8wixyM9ekZbmMC:3:CL:246687:default',\n",
       "  'credential_proposal': {'@type': 'did:sov:BzCbsNYhMrjHiqZDTUASHg;spec/issue-credential/1.0/credential-preview',\n",
       "   'attributes': [{'name': 'manufacturerName', 'value': 'undisclosedName1'},\n",
       "    {'name': 'manufacturerCity', 'value': 'Munich'},\n",
       "    {'name': 'manufacturerCountry', 'value': 'DE'},\n",
       "    {'name': 'isManufacturer', 'value': 'TRUE'}]},\n",
       "  'comment': 'Issuing VC that Manufacturer1 is a manufacturer'}}"
      ]
     },
     "execution_count": 15,
     "metadata": {},
     "output_type": "execute_result"
    },
    {
     "name": "stdout",
     "output_type": "stream",
     "text": [
      "\n",
      "---------------------------------------------------\n",
      "\n",
      "Handle Issue Credential Webhook\n",
      "Connection ID : 32200c7f-0fea-4c78-ae7b-57f4ad9217b0\n",
      "Credential exchange ID : c6afd888-d0a8-40d6-b6d7-46a965da1ace\n",
      "Agent Protocol Role :  holder\n",
      "Protocol State :  credential_received\n",
      "\n",
      "---------------------------------------------------\n",
      "\n",
      "Handle Credential Webhook Payload\n",
      "Received Credential\n"
     ]
    }
   ],
   "source": [
    "# Send request for VC\n",
    "await agent_controller.issuer.send_request_for_record(record_id)"
   ]
  },
  {
   "cell_type": "markdown",
   "id": "54340059",
   "metadata": {},
   "source": [
    "### 3.3 – Store received VC in wallet\n",
    "\n",
    "This will be done automatically if the ACAPY_AUTO_STORE_CREDENTIAL=true flag is set in the .env file for this agent. Default is false.\n",
    "\n",
    "Again you could handle this in your holder handler function in the `elif state == \"credential_received\":` loop."
   ]
  },
  {
   "cell_type": "code",
   "execution_count": 16,
   "id": "3bdcb973",
   "metadata": {},
   "outputs": [
    {
     "name": "stdout",
     "output_type": "stream",
     "text": [
      "\n",
      "---------------------------------------------------\n",
      "\n",
      "Handle Issue Credential Webhook\n",
      "Connection ID : 32200c7f-0fea-4c78-ae7b-57f4ad9217b0\n",
      "Credential exchange ID : c6afd888-d0a8-40d6-b6d7-46a965da1ace\n",
      "Agent Protocol Role :  holder\n",
      "Protocol State :  credential_acked\n",
      "\n",
      "---------------------------------------------------\n",
      "\n",
      "Handle Credential Webhook Payload\n",
      "Credential Stored\n",
      "\n",
      "{'referent': 'M1-isManufacturer-VC', 'attrs': {'isManufacturer': 'TRUE', 'manufacturerCountry': 'DE', 'manufacturerName': 'undisclosedName1', 'manufacturerCity': 'Munich'}, 'schema_id': 'MTXSc4YD8wixyM9ekZbmMC:2:certify-manufacturer:0.0.1', 'cred_def_id': 'MTXSc4YD8wixyM9ekZbmMC:3:CL:246687:default'}\n",
      "\n",
      "The referent acts as the identifier for retrieving the raw credential from the wallet\n",
      "Referent M1-isManufacturer-VC\n"
     ]
    }
   ],
   "source": [
    "credential_id = \"M1-isManufacturer-VC\"\n",
    "store_cred_response = await agent_controller.issuer.store_credential(record_id, credential_id)"
   ]
  },
  {
   "cell_type": "markdown",
   "id": "816d7264",
   "metadata": {},
   "source": [
    "## Terminate Controller\n",
    "\n",
    "Whenever you have finished with this notebook, be sure to terminate the controller. This is especially important if your business logic runs across multiple notebooks."
   ]
  },
  {
   "cell_type": "code",
   "execution_count": 17,
   "id": "a5b6da3c",
   "metadata": {},
   "outputs": [],
   "source": [
    "await agent_controller.terminate()"
   ]
  },
  {
   "cell_type": "code",
   "execution_count": null,
   "id": "bf202b9f",
   "metadata": {},
   "outputs": [],
   "source": []
  }
 ],
 "metadata": {
  "kernelspec": {
   "display_name": "Python 3 (ipykernel)",
   "language": "python",
   "name": "python3"
  },
  "language_info": {
   "codemirror_mode": {
    "name": "ipython",
    "version": 3
   },
   "file_extension": ".py",
   "mimetype": "text/x-python",
   "name": "python",
   "nbconvert_exporter": "python",
   "pygments_lexer": "ipython3",
   "version": "3.9.5"
  }
 },
 "nbformat": 4,
 "nbformat_minor": 5
}
