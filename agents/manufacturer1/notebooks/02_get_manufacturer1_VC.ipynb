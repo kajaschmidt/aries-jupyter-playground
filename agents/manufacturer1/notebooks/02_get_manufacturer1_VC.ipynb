{
 "cells": [
  {
   "cell_type": "markdown",
   "id": "5ade5c89",
   "metadata": {},
   "source": [
    "# Request VC from Authority\n",
    "\n",
    "This notebook is used in combination with notebook `01_issue_VC_city.ipynb` (see Authority agent). Break points indicate when to switch notebooks."
   ]
  },
  {
   "cell_type": "code",
   "execution_count": 1,
   "id": "8f98eaad",
   "metadata": {},
   "outputs": [
    {
     "data": {
      "application/javascript": [
       "document.title ='Manufacturer1 Agent'\n"
      ],
      "text/plain": [
       "<IPython.core.display.Javascript object>"
      ]
     },
     "metadata": {},
     "output_type": "display_data"
    }
   ],
   "source": [
    "%%javascript\n",
    "document.title ='Manufacturer1 Agent'"
   ]
  },
  {
   "cell_type": "markdown",
   "id": "1ed4e49a",
   "metadata": {},
   "source": [
    "#### Imports"
   ]
  },
  {
   "cell_type": "code",
   "execution_count": 2,
   "id": "71d81c1d",
   "metadata": {},
   "outputs": [
    {
     "name": "stdout",
     "output_type": "stream",
     "text": [
      "IPython autoawait is `on`, and set to use `asyncio`\n"
     ]
    }
   ],
   "source": [
    "%autoawait \n",
    "from aries_cloudcontroller import AriesAgentController\n",
    "from libs.connection_service import ConnectionService\n",
    "import libs.functions as fnc\n",
    "import os\n",
    "from pprintpp import pprint\n",
    "from termcolor import colored"
   ]
  },
  {
   "cell_type": "markdown",
   "id": "f2b7dfb1",
   "metadata": {},
   "source": [
    "#### Initialize `Manufacturer1` Agent Controller"
   ]
  },
  {
   "cell_type": "code",
   "execution_count": 3,
   "id": "0d165ed6",
   "metadata": {},
   "outputs": [
    {
     "name": "stdout",
     "output_type": "stream",
     "text": [
      "Initialising a controller with admin api at http://manufacturer1-agent:3021 and an api key of adminApiKey\n"
     ]
    }
   ],
   "source": [
    "api_key = os.getenv(\"ACAPY_ADMIN_API_KEY\")\n",
    "admin_url = os.getenv(\"ADMIN_URL\")\n",
    "\n",
    "print(f\"Initialising a controller with admin api at {admin_url} and an api key of {api_key}\")\n",
    "agent_controller = AriesAgentController(admin_url,api_key)"
   ]
  },
  {
   "cell_type": "markdown",
   "id": "f32c777a",
   "metadata": {},
   "source": [
    "## 1 – Init Webhook Server and register Event Listeners for it\n",
    "#### 1.1 – Start webhook server\n",
    "Start a webhook server to be able to communicate with other agents"
   ]
  },
  {
   "cell_type": "code",
   "execution_count": 4,
   "id": "e244d97e",
   "metadata": {},
   "outputs": [
    {
     "name": "stdout",
     "output_type": "stream",
     "text": [
      "Listening for webhooks from agent at http://0.0.0.0:3010\n"
     ]
    }
   ],
   "source": [
    "# Setup\n",
    "webhook_port = int(os.getenv(\"WEBHOOK_PORT\"))\n",
    "webhook_host = \"0.0.0.0\"\n",
    "\n",
    "# Listen on webhook server\n",
    "await agent_controller.init_webhook_server(webhook_host, webhook_port)\n",
    "print(f\"Listening for webhooks from agent at http://{webhook_host}:{webhook_port}\")"
   ]
  },
  {
   "cell_type": "code",
   "execution_count": 5,
   "id": "4c799c1e",
   "metadata": {},
   "outputs": [
    {
     "name": "stdout",
     "output_type": "stream",
     "text": [
      "\u001b[1mInit ConnectionService:\u001b[0m\n",
      "* Defines and registers agent listeners for prover:  ['connections', 'basicmessages', 'present_proof']\n",
      "* Stores initiated connections\n",
      "* Allows to easily create and accept connection invitations\n",
      "* Facilitates process of issuing, verifying, or proving verifiable credentials\n"
     ]
    }
   ],
   "source": [
    "connections = ConnectionService(agent_controller, role=\"prover\")"
   ]
  },
  {
   "cell_type": "code",
   "execution_count": 6,
   "id": "19766a7d",
   "metadata": {},
   "outputs": [
    {
     "data": {
      "text/plain": [
       "{'results': []}"
      ]
     },
     "execution_count": 6,
     "metadata": {},
     "output_type": "execute_result"
    }
   ],
   "source": [
    "# Check if Manufacturer already has a VC\n",
    "connections.get_credentials()"
   ]
  },
  {
   "cell_type": "markdown",
   "id": "90f8c4fe",
   "metadata": {},
   "source": [
    "#### 1.2 – Define listeners\n",
    "Define listeners that are triggered when something happens on the webhook server"
   ]
  },
  {
   "cell_type": "markdown",
   "id": "45228023",
   "metadata": {},
   "source": [
    "#### 1.3 – Register listeners with `agent_controller`"
   ]
  },
  {
   "cell_type": "markdown",
   "id": "9d38478d",
   "metadata": {},
   "source": [
    "## 2 – Establish a connection with Authority agent\n",
    "A connection with the credential issuer (i.e., the authority agent) must be establieshed before a VC can be received. In this scenario, the agent requests a connection with the Authority to be certified as an official city agency. Thus, the city agent sends an invitation to the Authority.\n",
    "\n",
    "### 2.1 Create invitation to Authority agent"
   ]
  },
  {
   "cell_type": "code",
   "execution_count": 7,
   "id": "37fad0ff",
   "metadata": {},
   "outputs": [
    {
     "name": "stdout",
     "output_type": "stream",
     "text": [
      "\n",
      "---------------------------------------------------------------------\n",
      "\u001b[1mConnection Webhook Event Received\u001b[0m\n",
      "Connection ID :  0801e8a4-fbe7-412b-9b09-cf553c1d8686\n",
      "State :  \u001b[33minvitation (invitation-sent)\u001b[0m\n",
      "Routing State : none\n",
      "Their Role :  invitee\n",
      "---------------------------------------------------------------------\n",
      "\u001b[1m\u001b[34m\n",
      "Copy & paste invitation and share with external agent:\u001b[0m\n",
      "{\n",
      "    '@id': '68c1a20a-bea6-4e7b-9e49-58b845200170',\n",
      "    '@type': 'did:sov:BzCbsNYhMrjHiqZDTUASHg;spec/connections/1.0/invitation',\n",
      "    'label': 'Manufacturer1',\n",
      "    'recipientKeys': ['7Zhz1XoAWj4nmZUTw6PyjhAcsN3Eqk6JRisaA6TkQqrY'],\n",
      "    'serviceEndpoint': 'https://e2120909fb85.ngrok.io',\n",
      "}\n",
      "\n",
      "\n",
      "\n",
      "---------------------------------------------------------------------\n",
      "\u001b[1mConnection Webhook Event Received\u001b[0m\n",
      "Connection ID :  0801e8a4-fbe7-412b-9b09-cf553c1d8686\n",
      "State :  \u001b[33mrequest (request-received)\u001b[0m\n",
      "Routing State : none\n",
      "Connection with :  Authority\n",
      "Their Role :  invitee\n",
      "---------------------------------------------------------------------\n"
     ]
    },
    {
     "name": "stdin",
     "output_type": "stream",
     "text": [
      "\u001b[34mSend trust ping to finalize connection? [yes/no]\u001b[0m yes\n"
     ]
    },
    {
     "name": "stdout",
     "output_type": "stream",
     "text": [
      "\n",
      "---------------------------------------------------------------------\n",
      "\u001b[1mConnection Webhook Event Received\u001b[0m\n",
      "Connection ID :  0801e8a4-fbe7-412b-9b09-cf553c1d8686\n",
      "State :  \u001b[33mresponse (response-sent)\u001b[0m\n",
      "Routing State : none\n",
      "Connection with :  Authority\n",
      "Their Role :  invitee\n",
      "---------------------------------------------------------------------\n",
      "\n",
      "---------------------------------------------------------------------\n",
      "\u001b[1mConnection Webhook Event Received\u001b[0m\n",
      "Connection ID :  0801e8a4-fbe7-412b-9b09-cf553c1d8686\n",
      "State :  \u001b[33mactive (completed)\u001b[0m\n",
      "Routing State : none\n",
      "Connection with :  Authority\n",
      "Their Role :  invitee\n",
      "---------------------------------------------------------------------\n",
      "\u001b[1m\u001b[32mConnection ID: 0801e8a4-fbe7-412b-9b09-cf553c1d8686 is now active.\u001b[0m\n"
     ]
    }
   ],
   "source": [
    "# Setup for connection with Authority agent\n",
    "alias = None\n",
    "auto_accept = \"true\" # Accept response of Authority agent right away\n",
    "public = \"false\" # Do not use public DID\n",
    "multi_use = \"false\" # Invitation is only for one invitee\n",
    "\n",
    "connection_id = connections.create_connection_invitation(alias=alias, auto_accept=auto_accept, public=public, multi_use=multi_use)"
   ]
  },
  {
   "cell_type": "markdown",
   "id": "e378f082",
   "metadata": {},
   "source": [
    "**BREAK POINT:** Please switch to agent `Authority`, open `01_issue_VC_city.ipynb`, and continue with Step 2\n",
    "\n",
    "---\n",
    "\n",
    "### 2.3 – Sent trust ping to establish and activate connection"
   ]
  },
  {
   "cell_type": "markdown",
   "id": "02763d55",
   "metadata": {},
   "source": [
    "## 3 – Request VC from `Authority` agent\n",
    "### 3.1 – Message `Authority` to request a VC"
   ]
  },
  {
   "cell_type": "code",
   "execution_count": null,
   "id": "7ef3aed9",
   "metadata": {},
   "outputs": [],
   "source": [
    "connections.send_message(connection_id, \"testing connection\")"
   ]
  },
  {
   "cell_type": "code",
   "execution_count": null,
   "id": "85ac4c6c",
   "metadata": {},
   "outputs": [],
   "source": [
    "basic_message = \"Hello Authority agent\"\n",
    "await agent_controller.messaging.send_message(connection_id, basic_message)"
   ]
  },
  {
   "cell_type": "markdown",
   "id": "9601d6bb",
   "metadata": {},
   "source": [
    "**BREAK POINT:** Go to Step 3 in the `01_issue_VC_city.ipynb` notebook of the `Authority` agent.\n",
    "\n",
    "---"
   ]
  },
  {
   "cell_type": "markdown",
   "id": "c398b51b",
   "metadata": {},
   "source": [
    "### 3.1 – Provide `Authority` with the relevant information to issue a VC"
   ]
  },
  {
   "cell_type": "code",
   "execution_count": null,
   "id": "eeb16089",
   "metadata": {},
   "outputs": [],
   "source": [
    "basic_message = '{\"manufacturerName\": \"undisclosedName1\", \"manufacturerCountry\": \"DE\", \"manufacturerCity\": \"Munich\"}'\n",
    "await agent_controller.messaging.send_message(connection_id, basic_message)"
   ]
  },
  {
   "cell_type": "markdown",
   "id": "b553f350",
   "metadata": {},
   "source": [
    "**BREAK POINT:** Return to step \n",
    "\n",
    "---\n",
    "\n",
    "\n",
    "### 3.2 – Request VC from `Authority`'s Offer\n",
    "\n",
    "Note: Your agent will automatically respond if ACAPY_AUTO_RESPOND_CREDENTIAL_OFFER=true flag is set in .env file of agent. Default is false.\n",
    "\n",
    "To respond to an offer you must identify the offer using the credential_exchange_id generated for it. This is available from within the issue-credential holder handler. You could add custom logic in this loop `elif state == \"request\":` to handle this.\n",
    "\n",
    "However, we will fetch the credential exchange records and **assume** this agent only has one record. Customise accordingly."
   ]
  },
  {
   "cell_type": "code",
   "execution_count": 8,
   "id": "8db37187",
   "metadata": {},
   "outputs": [
    {
     "data": {
      "text/plain": [
       "'PGtDVMGGbrfYNFjcN85Sxk:2:certify-manufacturer:0.0.1'"
      ]
     },
     "execution_count": 8,
     "metadata": {},
     "output_type": "execute_result"
    }
   ],
   "source": [
    "identifiers = fnc.get_identifiers()\n",
    "schema_id = identifiers[\"manufacturer_schema_identifiers\"][\"schema_id\"]\n",
    "schema_id"
   ]
  },
  {
   "cell_type": "code",
   "execution_count": 9,
   "id": "b70d1f7f",
   "metadata": {},
   "outputs": [
    {
     "name": "stdout",
     "output_type": "stream",
     "text": [
      "Found record for PGtDVMGGbrfYNFjcN85Sxk:2:certify-manufacturer:0.0.1 at state offer_received\n",
      "await_record:\n",
      "{\n",
      "    'auto_issue': False,\n",
      "    'auto_offer': False,\n",
      "    'auto_remove': False,\n",
      "    'connection_id': '0801e8a4-fbe7-412b-9b09-cf553c1d8686',\n",
      "    'created_at': '2021-08-12 07:54:21.966606Z',\n",
      "    'credential_definition_id': 'PGtDVMGGbrfYNFjcN85Sxk:3:CL:248873:default',\n",
      "    'credential_exchange_id': 'efd23003-b6a0-4dd7-a49e-e63700f8ddf4',\n",
      "    'credential_offer': {\n",
      "        'cred_def_id': 'PGtDVMGGbrfYNFjcN85Sxk:3:CL:248873:default',\n",
      "        'key_correctness_proof': {\n",
      "            'c': '37154411101356200017909389431505652102339810726196636894041130256688831214919',\n",
      "            'xr_cap': [\n",
      "                [\n",
      "                    'manufacturername',\n",
      "                    '71655634361958521159057467334391925265340901118642222580134575706454389603797275385706717190234504391435434071887606550604112526544421354899355315965393246903011589988309885621289084390397368103684941510210096740874279515533797331508393288310091770690804264729030282849063799071937655217079084315235600149986589729979470301585989793241753350310464453060542327235646642767955301155067369674313548906521431006493365017051006769780035919272879959338129762096121738634809692987324465476479954225026921094556559260785179631160190866171215190451093456466262280065075800492722404919269244711557835559738995803117384639176787275642930785728134903781326989615602265800079692747566138590611777794899228',\n",
      "                ],\n",
      "                [\n",
      "                    'manufacturercity',\n",
      "                    '495765150496460660446250070213222861782406626451162064203586883611918110573808220696245741590092003561016074935160646031333609519575727224540130884181887224685009699178242271569658922441034856975480795764371546494110813724457336173288976544524126429793987091066451740250168264006156652151245576929199284192834742110456833292426106546697391682878096844894987320921376462830398919666827194084155916676475528321442860833920213518937011445918852929711738036675122171965612850302409339776198357820222196970759528717027327442211952159689262750763764335871466136390919349804881589436395350083392284717786431789455738470594717654137232481763189976062098803724720909863721178771581751079312010187718502',\n",
      "                ],\n",
      "                [\n",
      "                    'master_secret',\n",
      "                    '885557359200685365769924293632897699577718094606437250437922739896036599543149005582891248877635766265330791603630467554433621148166321042275243184036146305854565547742142000514730594813469604871698678595426262349413759297049352171628735013488327142730428637336823264763206903190873220886700069756477047118490451608433416380863030532134231167028877537907414439594763152386282651559956864684675887009133272311813867480315257054317425671855529976082959472777849214747838014596870401403156885063848746042840333367579789497064621095367309544449879512856018105720792705192246448109736191586412623647790887850555054666731207247300353198492168159249750958552682562277033105833595686241038028404420054',\n",
      "                ],\n",
      "                [\n",
      "                    'ismanufacturer',\n",
      "                    '809685602335634815945588723344349752465008276175985913596680087766852692774638217351967692387189112121385770426759899467082207618224723159568743210088750532264452453832855169836395290875448252158856435299061667676102612404539548997700482764116137879751290068825805183134057622704344500323927356190541662797529151940305230834213359544017172110610141340162850710247264159020910949397376035969105743280278843511865627181803939749184609836102037638745852339550962059875691007827133186879302314077383336615258655291950777193964726556306326184610705599077981041578187974331354496417947793490602440248795576898989775798781225617927940462267872609561235789162181130370065509370842820059628335849155203',\n",
      "                ],\n",
      "                [\n",
      "                    'manufacturercountry',\n",
      "                    '556611491197672129867036538636564005881422824579433374288402605307664140087868592945798368177553347054555740933474674334065846961152384218901929035622267080741853588508483088663345224165718492958015976674369500340577876715417403030099866029125372549559205639096705750842321399560478873661424327248323382042473694036616940098893113872179295749346528781446764487195094970271491256584494788340862917037803585222885327381396772835989412386511482489513836516418988406640090396838179906683120146303298999284019356517303789086414875794653042797047312207986831630030574066824524478308257428411812382425891387327508966905783756953589497429453123887265169996842466314672744298096102197024646196631791634',\n",
      "                ],\n",
      "            ],\n",
      "            'xz_cap': '370913970764681887907588102023680349263668439888082355617845063002868929646536668926658664516406958609662231843167063705343975763905743194856398333941332885685727268746524545377245347569646072589323886060349407939986827766969993676028782871103632839479420742508518603307775853024929427149569751748612666339861416146339632570463300553896750395305893187300623661257805686339992312247288988346823410044393672362490726860343054979125069941157589774947720063729775205466444673126889879737103253992105479728853161385247487166816839352687736904473066196552894252073008966545947078141663893240999508140387005499977746433186286252920593192416151366771623354916738678354103441706381447315817323490018224',\n",
      "        },\n",
      "        'nonce': '957768749337614962747198',\n",
      "        'schema_id': 'PGtDVMGGbrfYNFjcN85Sxk:2:certify-manufacturer:0.0.1',\n",
      "    },\n",
      "    'credential_proposal_dict': {\n",
      "        '@id': '2b7dafc6-aa03-4ef0-b222-797f280be38e',\n",
      "        '@type': 'did:sov:BzCbsNYhMrjHiqZDTUASHg;spec/issue-credential/1.0/propose-credential',\n",
      "        'comment': 'Issuing VC that Manufacturer1 is a manufacturer',\n",
      "        'cred_def_id': 'PGtDVMGGbrfYNFjcN85Sxk:3:CL:248873:default',\n",
      "        'credential_proposal': {\n",
      "            '@type': 'did:sov:BzCbsNYhMrjHiqZDTUASHg;spec/issue-credential/1.0/credential-preview',\n",
      "            'attributes': [\n",
      "                {'name': 'isManufacturer', 'value': 'TRUE'},\n",
      "                {\n",
      "                    'name': 'manufacturerName',\n",
      "                    'value': 'undisclosedManufacturer1',\n",
      "                },\n",
      "                {'name': 'manufacturerCity', 'value': 'Berlin'},\n",
      "                {'name': 'manufacturerCountry', 'value': 'Germany'},\n",
      "            ],\n",
      "        },\n",
      "        'schema_id': 'PGtDVMGGbrfYNFjcN85Sxk:2:certify-manufacturer:0.0.1',\n",
      "    },\n",
      "    'credential_request': {\n",
      "        'blinded_ms': {\n",
      "            'committed_attributes': {},\n",
      "            'hidden_attributes': ['master_secret'],\n",
      "            'u': '89031721836505065965491519545414849212620730235997081619603828948827649168594966478709541271681735335723872100219934045763982306453691239626968934266235939037902076269870617467149310242833745370603218549511732105008232572095661194825080847443509930211822349998613268272287247253016057455615964222299106341075232519121742966926507571530715885477608685011244327114425446303997881699144030593400412916819002180716223508983475480310614843560977430511578823946559457646384490640013290008814616458918770449727537080768783291973428907254141259407660957730952828887142417126811267163548671440391311069054262659465401867236190',\n",
      "            'ur': None,\n",
      "        },\n",
      "        'blinded_ms_correctness_proof': {\n",
      "            'c': '35657264833730499270235966252545142369460017936656349403856754663968000565811',\n",
      "            'm_caps': {\n",
      "                'master_secret': '17887547879516842701809255360324516115049090568014302665959822292750599131320114842556315134438442194722384168005481876925328012554826643704732533245043121752611972372830384944446',\n",
      "            },\n",
      "            'r_caps': {},\n",
      "            'v_dash_cap': '806631392564334421030808534707315594249745653356722969659546057914527835821720880378162285136449361175476628336985601999554248212284631794010998453167364124794186018111632528929048073702226855904249211935572366150886764113228010020570768545819366297095620859367522154374502316875720923799913302926508109088167980021556527555496333598258157992245630757420563507219412351208350033828065426303041260281615123118038150090680656905307742025801779179537620249615729746305170150821714778553219875003131711654402934464636827355125866904002282658656801636460234053586768327536123750003673813712312773132637986750414775827898004315379046050301180021311985133476331775916536135553598795049064465253674176525554292032290234441653',\n",
      "        },\n",
      "        'cred_def_id': 'PGtDVMGGbrfYNFjcN85Sxk:3:CL:248873:default',\n",
      "        'nonce': '424828190637978731879655',\n",
      "        'prover_did': '4jrhL6bEHugErhu3gVdBig',\n",
      "    },\n",
      "    'credential_request_metadata': {\n",
      "        'master_secret_blinding_data': {\n",
      "            'v_prime': '22621796605142016589832187165037384759577928870859401342899010508862309153064949522989116844752953509554179642296184454099063318787323609093110359788462219873126247745728864282345269128798910822520309080770735540473354505969826985039871425725167018726233759653778069028011144840579059066353715773246015604507059651932678112221539109619284439575338624418316714596614829946067786705484980164351986986470450499262380019606559366772631492805342818913947716815210811523996974415337299733575293773094390374142657783173286427304366738077340683958908824331979916788306486757849008100588596250712154087859309723417567677502769756677746903403318163852',\n",
      "            'vr_prime': None,\n",
      "        },\n",
      "        'master_secret_name': 'manufacturer1_Name',\n",
      "        'nonce': '424828190637978731879655',\n",
      "    },\n",
      "    'initiator': 'external',\n",
      "    'role': 'holder',\n",
      "    'schema_id': 'PGtDVMGGbrfYNFjcN85Sxk:2:certify-manufacturer:0.0.1',\n",
      "    'state': 'request_sent',\n",
      "    'thread_id': '37892381-7862-45c7-917d-0d15f71f7fbc',\n",
      "    'trace': False,\n",
      "    'updated_at': '2021-08-12 07:55:39.930362Z',\n",
      "}\n",
      "credentials:\n",
      "{'results': []}\n",
      "\u001b[1m\u001b[31mCredential efd23003-b6a0-4dd7-a49e-e63700f8ddf4 is not stored in wallet.\u001b[0m\n"
     ]
    },
    {
     "name": "stdin",
     "output_type": "stream",
     "text": [
      "\u001b[34mDo you want to store the VC with ID efd23003-b6a0-4dd7-a49e-e63700f8ddf4 [yes/no]\u001b[0m y\n",
      "\u001b[34mPlease provide a Credential ID for VC with Record ID efd23003-b6a0-4dd7-a49e-e63700f8ddf4\u001b[0m M1-isManufacturer-VC\n"
     ]
    },
    {
     "name": "stdout",
     "output_type": "stream",
     "text": [
      "store_cred_response\n",
      "{\n",
      "    'auto_issue': False,\n",
      "    'auto_offer': False,\n",
      "    'auto_remove': False,\n",
      "    'connection_id': '0801e8a4-fbe7-412b-9b09-cf553c1d8686',\n",
      "    'created_at': '2021-08-12 07:54:21.966606Z',\n",
      "    'credential': {\n",
      "        'attrs': {\n",
      "            'isManufacturer': 'TRUE',\n",
      "            'manufacturerCity': 'Berlin',\n",
      "            'manufacturerCountry': 'Germany',\n",
      "            'manufacturerName': 'undisclosedManufacturer1',\n",
      "        },\n",
      "        'cred_def_id': 'PGtDVMGGbrfYNFjcN85Sxk:3:CL:248873:default',\n",
      "        'referent': 'M1-isManufacturer-VC',\n",
      "        'schema_id': 'PGtDVMGGbrfYNFjcN85Sxk:2:certify-manufacturer:0.0.1',\n",
      "    },\n",
      "    'credential_definition_id': 'PGtDVMGGbrfYNFjcN85Sxk:3:CL:248873:default',\n",
      "    'credential_exchange_id': 'efd23003-b6a0-4dd7-a49e-e63700f8ddf4',\n",
      "    'credential_id': 'M1-isManufacturer-VC',\n",
      "    'credential_offer': {\n",
      "        'cred_def_id': 'PGtDVMGGbrfYNFjcN85Sxk:3:CL:248873:default',\n",
      "        'key_correctness_proof': {\n",
      "            'c': '37154411101356200017909389431505652102339810726196636894041130256688831214919',\n",
      "            'xr_cap': [\n",
      "                [\n",
      "                    'manufacturername',\n",
      "                    '71655634361958521159057467334391925265340901118642222580134575706454389603797275385706717190234504391435434071887606550604112526544421354899355315965393246903011589988309885621289084390397368103684941510210096740874279515533797331508393288310091770690804264729030282849063799071937655217079084315235600149986589729979470301585989793241753350310464453060542327235646642767955301155067369674313548906521431006493365017051006769780035919272879959338129762096121738634809692987324465476479954225026921094556559260785179631160190866171215190451093456466262280065075800492722404919269244711557835559738995803117384639176787275642930785728134903781326989615602265800079692747566138590611777794899228',\n",
      "                ],\n",
      "                [\n",
      "                    'manufacturercity',\n",
      "                    '495765150496460660446250070213222861782406626451162064203586883611918110573808220696245741590092003561016074935160646031333609519575727224540130884181887224685009699178242271569658922441034856975480795764371546494110813724457336173288976544524126429793987091066451740250168264006156652151245576929199284192834742110456833292426106546697391682878096844894987320921376462830398919666827194084155916676475528321442860833920213518937011445918852929711738036675122171965612850302409339776198357820222196970759528717027327442211952159689262750763764335871466136390919349804881589436395350083392284717786431789455738470594717654137232481763189976062098803724720909863721178771581751079312010187718502',\n",
      "                ],\n",
      "                [\n",
      "                    'master_secret',\n",
      "                    '885557359200685365769924293632897699577718094606437250437922739896036599543149005582891248877635766265330791603630467554433621148166321042275243184036146305854565547742142000514730594813469604871698678595426262349413759297049352171628735013488327142730428637336823264763206903190873220886700069756477047118490451608433416380863030532134231167028877537907414439594763152386282651559956864684675887009133272311813867480315257054317425671855529976082959472777849214747838014596870401403156885063848746042840333367579789497064621095367309544449879512856018105720792705192246448109736191586412623647790887850555054666731207247300353198492168159249750958552682562277033105833595686241038028404420054',\n",
      "                ],\n",
      "                [\n",
      "                    'ismanufacturer',\n",
      "                    '809685602335634815945588723344349752465008276175985913596680087766852692774638217351967692387189112121385770426759899467082207618224723159568743210088750532264452453832855169836395290875448252158856435299061667676102612404539548997700482764116137879751290068825805183134057622704344500323927356190541662797529151940305230834213359544017172110610141340162850710247264159020910949397376035969105743280278843511865627181803939749184609836102037638745852339550962059875691007827133186879302314077383336615258655291950777193964726556306326184610705599077981041578187974331354496417947793490602440248795576898989775798781225617927940462267872609561235789162181130370065509370842820059628335849155203',\n",
      "                ],\n",
      "                [\n",
      "                    'manufacturercountry',\n",
      "                    '556611491197672129867036538636564005881422824579433374288402605307664140087868592945798368177553347054555740933474674334065846961152384218901929035622267080741853588508483088663345224165718492958015976674369500340577876715417403030099866029125372549559205639096705750842321399560478873661424327248323382042473694036616940098893113872179295749346528781446764487195094970271491256584494788340862917037803585222885327381396772835989412386511482489513836516418988406640090396838179906683120146303298999284019356517303789086414875794653042797047312207986831630030574066824524478308257428411812382425891387327508966905783756953589497429453123887265169996842466314672744298096102197024646196631791634',\n",
      "                ],\n",
      "            ],\n",
      "            'xz_cap': '370913970764681887907588102023680349263668439888082355617845063002868929646536668926658664516406958609662231843167063705343975763905743194856398333941332885685727268746524545377245347569646072589323886060349407939986827766969993676028782871103632839479420742508518603307775853024929427149569751748612666339861416146339632570463300553896750395305893187300623661257805686339992312247288988346823410044393672362490726860343054979125069941157589774947720063729775205466444673126889879737103253992105479728853161385247487166816839352687736904473066196552894252073008966545947078141663893240999508140387005499977746433186286252920593192416151366771623354916738678354103441706381447315817323490018224',\n",
      "        },\n",
      "        'nonce': '957768749337614962747198',\n",
      "        'schema_id': 'PGtDVMGGbrfYNFjcN85Sxk:2:certify-manufacturer:0.0.1',\n",
      "    },\n",
      "    'credential_proposal_dict': {\n",
      "        '@id': '2b7dafc6-aa03-4ef0-b222-797f280be38e',\n",
      "        '@type': 'did:sov:BzCbsNYhMrjHiqZDTUASHg;spec/issue-credential/1.0/propose-credential',\n",
      "        'comment': 'Issuing VC that Manufacturer1 is a manufacturer',\n",
      "        'cred_def_id': 'PGtDVMGGbrfYNFjcN85Sxk:3:CL:248873:default',\n",
      "        'credential_proposal': {\n",
      "            '@type': 'did:sov:BzCbsNYhMrjHiqZDTUASHg;spec/issue-credential/1.0/credential-preview',\n",
      "            'attributes': [\n",
      "                {'name': 'isManufacturer', 'value': 'TRUE'},\n",
      "                {\n",
      "                    'name': 'manufacturerName',\n",
      "                    'value': 'undisclosedManufacturer1',\n",
      "                },\n",
      "                {'name': 'manufacturerCity', 'value': 'Berlin'},\n",
      "                {'name': 'manufacturerCountry', 'value': 'Germany'},\n",
      "            ],\n",
      "        },\n",
      "        'schema_id': 'PGtDVMGGbrfYNFjcN85Sxk:2:certify-manufacturer:0.0.1',\n",
      "    },\n",
      "    'credential_request': {\n",
      "        'blinded_ms': {\n",
      "            'committed_attributes': {},\n",
      "            'hidden_attributes': ['master_secret'],\n",
      "            'u': '89031721836505065965491519545414849212620730235997081619603828948827649168594966478709541271681735335723872100219934045763982306453691239626968934266235939037902076269870617467149310242833745370603218549511732105008232572095661194825080847443509930211822349998613268272287247253016057455615964222299106341075232519121742966926507571530715885477608685011244327114425446303997881699144030593400412916819002180716223508983475480310614843560977430511578823946559457646384490640013290008814616458918770449727537080768783291973428907254141259407660957730952828887142417126811267163548671440391311069054262659465401867236190',\n",
      "            'ur': None,\n",
      "        },\n",
      "        'blinded_ms_correctness_proof': {\n",
      "            'c': '35657264833730499270235966252545142369460017936656349403856754663968000565811',\n",
      "            'm_caps': {\n",
      "                'master_secret': '17887547879516842701809255360324516115049090568014302665959822292750599131320114842556315134438442194722384168005481876925328012554826643704732533245043121752611972372830384944446',\n",
      "            },\n",
      "            'r_caps': {},\n",
      "            'v_dash_cap': '806631392564334421030808534707315594249745653356722969659546057914527835821720880378162285136449361175476628336985601999554248212284631794010998453167364124794186018111632528929048073702226855904249211935572366150886764113228010020570768545819366297095620859367522154374502316875720923799913302926508109088167980021556527555496333598258157992245630757420563507219412351208350033828065426303041260281615123118038150090680656905307742025801779179537620249615729746305170150821714778553219875003131711654402934464636827355125866904002282658656801636460234053586768327536123750003673813712312773132637986750414775827898004315379046050301180021311985133476331775916536135553598795049064465253674176525554292032290234441653',\n",
      "        },\n",
      "        'cred_def_id': 'PGtDVMGGbrfYNFjcN85Sxk:3:CL:248873:default',\n",
      "        'nonce': '424828190637978731879655',\n",
      "        'prover_did': '4jrhL6bEHugErhu3gVdBig',\n",
      "    },\n",
      "    'credential_request_metadata': {\n",
      "        'master_secret_blinding_data': {\n",
      "            'v_prime': '22621796605142016589832187165037384759577928870859401342899010508862309153064949522989116844752953509554179642296184454099063318787323609093110359788462219873126247745728864282345269128798910822520309080770735540473354505969826985039871425725167018726233759653778069028011144840579059066353715773246015604507059651932678112221539109619284439575338624418316714596614829946067786705484980164351986986470450499262380019606559366772631492805342818913947716815210811523996974415337299733575293773094390374142657783173286427304366738077340683958908824331979916788306486757849008100588596250712154087859309723417567677502769756677746903403318163852',\n",
      "            'vr_prime': None,\n",
      "        },\n",
      "        'master_secret_name': 'manufacturer1_Name',\n",
      "        'nonce': '424828190637978731879655',\n",
      "    },\n",
      "    'initiator': 'external',\n",
      "    'raw_credential': {\n",
      "        'cred_def_id': 'PGtDVMGGbrfYNFjcN85Sxk:3:CL:248873:default',\n",
      "        'schema_id': 'PGtDVMGGbrfYNFjcN85Sxk:2:certify-manufacturer:0.0.1',\n",
      "        'signature': {\n",
      "            'p_credential': {\n",
      "                'a': '7842825581292281783773398614789520812075874460218788032605413155575969542104724582641911397278443223709918928575180395571506491005440552993821806054483406504427370351103131645182558647858059655796413217413996767996372726200056424153120169953466936454990921452731985563204323574969718647981233861497354883873569571959354746412086815873077188031955627148089244248846002251115634019770621696467413814907232238308073399474445884477687143441067963769823479207967876350199683715195962059140845593375563963943695842975772988231618207642053035638628654823487667344625578274340387352039665028951004983584451093862691167697276',\n",
      "                'e': '259344723055062059907025491480697571938277889515152306249728583105665800713306759149981690559193987143012367913206299323899696942213235956742929731848328930954930243741720453963927',\n",
      "                'm_2': '109106108654997688556682971370589007227084025714885866725713567614999574670908',\n",
      "                'v': '6025765127401640264430052458243499698284509188957956879316175978071785143772117129630689791538897579324370404347890523477414301132394048950186763292534684288954561987768873995535127331139282169789347783467068685896764190358111727574892962137521166274768154609101099627185597839222445861158866536735260168012225474517516328478549844579818204630210400428866470676872878593392178956310406630686745271828844502424141472460467128163443475362441966292468795446752982564832829773558576811754359758923837232488873680448224061833693740968726885927825848332286840026225823713689965617398179125727303359523813461131542761415306138104472557919400362094630516096308415554484113932649526242584553917374638311830449270657823629526235953141565896570498617623141243883380460788275712524322541663886135920111372347571861635038904781241600',\n",
      "            },\n",
      "            'r_credential': None,\n",
      "        },\n",
      "        'signature_correctness_proof': {\n",
      "            'c': '108788932104905689924229261086698829479729928908693736160968184561695955918472',\n",
      "            'se': '7465047900604544797496683907525157839620049158945315449787560304588333261854555012903983673006684041480231910752869773335017648153768098376375529025987740915420219980314038622183991063810927902961384478442011708680821886228611138142541037422082493585064940312742416444498244283689546727596408813275213901854229852342036090062228608644977997983402977617122277265786827823919729929895267134389315587082917628722660051741522018833216923158805494762513213747951720707826432520184512453894585810654852681005856895041548526030779478795723947944581885424913178283642946995275675660324641245424857474602520879631393011452896',\n",
      "        },\n",
      "        'values': {\n",
      "            'isManufacturer': {\n",
      "                'encoded': '101276561079705913907459647512048005855328137776566494081283796781441440993409',\n",
      "                'raw': 'TRUE',\n",
      "            },\n",
      "            'manufacturerCity': {\n",
      "                'encoded': '98973614994334412834746452342022642572375417941715466854634190934274154192370',\n",
      "                'raw': 'Berlin',\n",
      "            },\n",
      "            'manufacturerCountry': {\n",
      "                'encoded': '58283514206635827169997757728186036920590512723947218972217019568001186467587',\n",
      "                'raw': 'Germany',\n",
      "            },\n",
      "            'manufacturerName': {\n",
      "                'encoded': '6992469301379690695347382668794767991975952237205625388932800722522662183692',\n",
      "                'raw': 'undisclosedManufacturer1',\n",
      "            },\n",
      "        },\n",
      "    },\n",
      "    'role': 'holder',\n",
      "    'schema_id': 'PGtDVMGGbrfYNFjcN85Sxk:2:certify-manufacturer:0.0.1',\n",
      "    'state': 'credential_acked',\n",
      "    'thread_id': '37892381-7862-45c7-917d-0d15f71f7fbc',\n",
      "    'trace': False,\n",
      "    'updated_at': '2021-08-12 07:56:02.766246Z',\n",
      "}\n"
     ]
    }
   ],
   "source": [
    "connections.request_vc(connection_id, schema_id)"
   ]
  },
  {
   "cell_type": "markdown",
   "id": "71d6440f",
   "metadata": {},
   "source": [
    "### 3.3 – Store received VC in wallet\n",
    "\n",
    "This will be done automatically if the ACAPY_AUTO_STORE_CREDENTIAL=true flag is set in the .env file for this agent. Default is false.\n",
    "\n",
    "Again you could handle this in your holder handler function in the `elif state == \"credential_received\":` loop."
   ]
  },
  {
   "cell_type": "code",
   "execution_count": 13,
   "id": "bfc316ac",
   "metadata": {},
   "outputs": [
    {
     "data": {
      "text/plain": [
       "{'results': [{'referent': 'M1-isManufacturer-VC',\n",
       "   'attrs': {'manufacturerCity': 'Berlin',\n",
       "    'manufacturerCountry': 'Germany',\n",
       "    'manufacturerName': 'undisclosedManufacturer1',\n",
       "    'isManufacturer': 'TRUE'},\n",
       "   'schema_id': 'PGtDVMGGbrfYNFjcN85Sxk:2:certify-manufacturer:0.0.1',\n",
       "   'cred_def_id': 'PGtDVMGGbrfYNFjcN85Sxk:3:CL:248873:default',\n",
       "   'rev_reg_id': None,\n",
       "   'cred_rev_id': None}]}"
      ]
     },
     "execution_count": 13,
     "metadata": {},
     "output_type": "execute_result"
    }
   ],
   "source": [
    "connections.get_credentials()"
   ]
  },
  {
   "cell_type": "markdown",
   "id": "26c1cf33",
   "metadata": {},
   "source": [
    "## Terminate Controller\n",
    "\n",
    "Whenever you have finished with this notebook, be sure to terminate the controller. This is especially important if your business logic runs across multiple notebooks."
   ]
  },
  {
   "cell_type": "code",
   "execution_count": 14,
   "id": "07bc51aa",
   "metadata": {},
   "outputs": [],
   "source": [
    "await agent_controller.terminate()"
   ]
  },
  {
   "cell_type": "code",
   "execution_count": null,
   "id": "a9085a40",
   "metadata": {},
   "outputs": [],
   "source": []
  }
 ],
 "metadata": {
  "kernelspec": {
   "display_name": "Python 3 (ipykernel)",
   "language": "python",
   "name": "python3"
  },
  "language_info": {
   "codemirror_mode": {
    "name": "ipython",
    "version": 3
   },
   "file_extension": ".py",
   "mimetype": "text/x-python",
   "name": "python",
   "nbconvert_exporter": "python",
   "pygments_lexer": "ipython3",
   "version": "3.9.5"
  }
 },
 "nbformat": 4,
 "nbformat_minor": 5
}
