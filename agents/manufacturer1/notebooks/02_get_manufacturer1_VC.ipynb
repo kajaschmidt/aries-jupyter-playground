{
 "cells": [
  {
   "cell_type": "markdown",
   "id": "e0c1bbef",
   "metadata": {},
   "source": [
    "# Request VC from Authority\n",
    "\n",
    "This notebook is used in combination with notebook `01_issue_VC_city.ipynb` (see Authority agent). Break points indicate when to switch notebooks."
   ]
  },
  {
   "cell_type": "code",
   "execution_count": 1,
   "id": "28f8fcc2",
   "metadata": {},
   "outputs": [
    {
     "data": {
      "application/javascript": [
       "document.title ='Manufacturer1 Agent'\n"
      ],
      "text/plain": [
       "<IPython.core.display.Javascript object>"
      ]
     },
     "metadata": {},
     "output_type": "display_data"
    }
   ],
   "source": [
    "%%javascript\n",
    "document.title ='Manufacturer1 Agent'"
   ]
  },
  {
   "cell_type": "markdown",
   "id": "591476dd",
   "metadata": {},
   "source": [
    "#### Imports"
   ]
  },
  {
   "cell_type": "code",
   "execution_count": 2,
   "id": "5ac4789b",
   "metadata": {},
   "outputs": [],
   "source": [
    "#%autoawait \n",
    "from aries_cloudcontroller import AriesAgentController\n",
    "from libs.connection_service import ConnectionService\n",
    "import libs.functions as fnc\n",
    "import os\n",
    "#from pprintpp import pprint\n",
    "#from termcolor import colored"
   ]
  },
  {
   "cell_type": "markdown",
   "id": "a42aa208",
   "metadata": {},
   "source": [
    "#### Initialize `Manufacturer1` Agent Controller"
   ]
  },
  {
   "cell_type": "code",
   "execution_count": 3,
   "id": "a6a4a817",
   "metadata": {},
   "outputs": [],
   "source": [
    "# Get relevant details from .env file\n",
    "api_key = os.getenv(\"ACAPY_ADMIN_API_KEY\")\n",
    "admin_url = os.getenv(\"ADMIN_URL\")\n",
    "webhook_port = int(os.getenv(\"WEBHOOK_PORT\"))\n",
    "webhook_host = \"0.0.0.0\""
   ]
  },
  {
   "cell_type": "code",
   "execution_count": 4,
   "id": "bc3f5476",
   "metadata": {},
   "outputs": [
    {
     "name": "stdout",
     "output_type": "stream",
     "text": [
      "Initialising a controller with admin api at http://manufacturer1-agent:3021 and an api key of adminApiKey\n",
      "Listening for webhooks from agent at http://0.0.0.0:3010\n"
     ]
    }
   ],
   "source": [
    "# Setup\n",
    "print(f\"Initialising a controller with admin api at {admin_url} and an api key of {api_key}\")\n",
    "agent_controller = AriesAgentController(admin_url,api_key)\n",
    "\n",
    "# Listen on webhook server\n",
    "await agent_controller.init_webhook_server(webhook_host, webhook_port)\n",
    "print(f\"Listening for webhooks from agent at http://{webhook_host}:{webhook_port}\")"
   ]
  },
  {
   "cell_type": "code",
   "execution_count": 5,
   "id": "6fc83e63",
   "metadata": {},
   "outputs": [
    {
     "name": "stdout",
     "output_type": "stream",
     "text": [
      "\u001b[1m\u001b[32mSuccessfully initiated connection handler for holder ACA-PY agent\u001b[0m\n"
     ]
    }
   ],
   "source": [
    "connections = ConnectionService(agent_controller, role=\"holder\")"
   ]
  },
  {
   "cell_type": "markdown",
   "id": "720535f5",
   "metadata": {},
   "source": [
    "## 1 – Init Webhook Server and register Event Listeners for it\n",
    "#### 1.1 – Start webhook server\n",
    "Start a webhook server to be able to communicate with other agents"
   ]
  },
  {
   "cell_type": "code",
   "execution_count": null,
   "id": "279e7984",
   "metadata": {},
   "outputs": [],
   "source": [
    "# Check if Manufacturer already has a VC\n",
    "connections.get_credentials()"
   ]
  },
  {
   "cell_type": "markdown",
   "id": "a6eea048",
   "metadata": {},
   "source": [
    "#### 1.2 – Define listeners\n",
    "Define listeners that are triggered when something happens on the webhook server"
   ]
  },
  {
   "cell_type": "markdown",
   "id": "bbc05ed1",
   "metadata": {},
   "source": [
    "#### 1.3 – Register listeners with `agent_controller`"
   ]
  },
  {
   "cell_type": "markdown",
   "id": "4f0e206d",
   "metadata": {},
   "source": [
    "## 2 – Establish a connection with Authority agent\n",
    "A connection with the credential issuer (i.e., the authority agent) must be establieshed before a VC can be received. In this scenario, the agent requests a connection with the Authority to be certified as an official city agency. Thus, the city agent sends an invitation to the Authority.\n",
    "\n",
    "### 2.1 Create invitation to Authority agent"
   ]
  },
  {
   "cell_type": "code",
   "execution_count": null,
   "id": "091122a5",
   "metadata": {},
   "outputs": [],
   "source": [
    "# Setup for connection with Authority agent\n",
    "alias = None\n",
    "auto_accept = \"true\" # Accept response of Authority agent right away\n",
    "public = \"false\" # Do not use public DID\n",
    "multi_use = \"false\" # Invitation is only for one invitee\n",
    "\n",
    "connection_id = connections.create_connection_invitation(alias=alias, auto_accept=auto_accept, public=public, multi_use=multi_use)"
   ]
  },
  {
   "cell_type": "markdown",
   "id": "82334cf5",
   "metadata": {},
   "source": [
    "**BREAK POINT:** Please switch to agent `Authority`, open `01_issue_VC_city.ipynb`, and continue with Step 2\n",
    "\n",
    "---\n",
    "\n",
    "### 2.3 – Sent trust ping to establish and activate connection"
   ]
  },
  {
   "cell_type": "markdown",
   "id": "ed73f356",
   "metadata": {},
   "source": [
    "## 3 – Request VC from `Authority` agent\n",
    "### 3.1 – Message `Authority` to request a VC"
   ]
  },
  {
   "cell_type": "code",
   "execution_count": null,
   "id": "d3cc2cd8",
   "metadata": {},
   "outputs": [],
   "source": [
    "connections.send_message(connection_id, \"testing connection\")"
   ]
  },
  {
   "cell_type": "code",
   "execution_count": null,
   "id": "31b8d02e",
   "metadata": {},
   "outputs": [],
   "source": [
    "basic_message = \"Hello Authority agent\"\n",
    "await agent_controller.messaging.send_message(connection_id, basic_message)"
   ]
  },
  {
   "cell_type": "markdown",
   "id": "a2820f20",
   "metadata": {},
   "source": [
    "**BREAK POINT:** Go to Step 3 in the `01_issue_VC_city.ipynb` notebook of the `Authority` agent.\n",
    "\n",
    "---"
   ]
  },
  {
   "cell_type": "markdown",
   "id": "67c80382",
   "metadata": {},
   "source": [
    "### 3.1 – Provide `Authority` with the relevant information to issue a VC"
   ]
  },
  {
   "cell_type": "code",
   "execution_count": null,
   "id": "0615abc0",
   "metadata": {},
   "outputs": [],
   "source": [
    "basic_message = '{\"manufacturerName\": \"undisclosedName1\", \"manufacturerCountry\": \"DE\", \"manufacturerCity\": \"Munich\"}'\n",
    "await agent_controller.messaging.send_message(connection_id, basic_message)"
   ]
  },
  {
   "cell_type": "markdown",
   "id": "d64dc762",
   "metadata": {},
   "source": [
    "**BREAK POINT:** Return to step \n",
    "\n",
    "---\n",
    "\n",
    "\n",
    "### 3.2 – Request VC from `Authority`'s Offer\n",
    "\n",
    "Note: Your agent will automatically respond if ACAPY_AUTO_RESPOND_CREDENTIAL_OFFER=true flag is set in .env file of agent. Default is false.\n",
    "\n",
    "To respond to an offer you must identify the offer using the credential_exchange_id generated for it. This is available from within the issue-credential holder handler. You could add custom logic in this loop `elif state == \"request\":` to handle this.\n",
    "\n",
    "However, we will fetch the credential exchange records and **assume** this agent only has one record. Customise accordingly."
   ]
  },
  {
   "cell_type": "code",
   "execution_count": null,
   "id": "7e427e89",
   "metadata": {},
   "outputs": [],
   "source": [
    "identifiers = fnc.get_identifiers()\n",
    "schema_id = identifiers[\"manufacturer_schema_identifiers\"][\"schema_id\"]\n",
    "schema_id"
   ]
  },
  {
   "cell_type": "code",
   "execution_count": null,
   "id": "cc9fe3ed",
   "metadata": {},
   "outputs": [],
   "source": [
    "connections.request_vc(connection_id, schema_id)"
   ]
  },
  {
   "cell_type": "markdown",
   "id": "11c4f56a",
   "metadata": {},
   "source": [
    "### 3.3 – Store received VC in wallet\n",
    "\n",
    "This will be done automatically if the ACAPY_AUTO_STORE_CREDENTIAL=true flag is set in the .env file for this agent. Default is false.\n",
    "\n",
    "Again you could handle this in your holder handler function in the `elif state == \"credential_received\":` loop."
   ]
  },
  {
   "cell_type": "code",
   "execution_count": null,
   "id": "491d9d43",
   "metadata": {},
   "outputs": [],
   "source": [
    "connections.get_credentials()"
   ]
  },
  {
   "cell_type": "markdown",
   "id": "40368800",
   "metadata": {},
   "source": [
    "## Terminate Controller\n",
    "\n",
    "Whenever you have finished with this notebook, be sure to terminate the controller. This is especially important if your business logic runs across multiple notebooks."
   ]
  },
  {
   "cell_type": "code",
   "execution_count": null,
   "id": "2956fb83",
   "metadata": {},
   "outputs": [],
   "source": [
    "await agent_controller.terminate()"
   ]
  },
  {
   "cell_type": "code",
   "execution_count": null,
   "id": "b791cf58",
   "metadata": {},
   "outputs": [],
   "source": []
  }
 ],
 "metadata": {
  "kernelspec": {
   "display_name": "Python 3 (ipykernel)",
   "language": "python",
   "name": "python3"
  },
  "language_info": {
   "codemirror_mode": {
    "name": "ipython",
    "version": 3
   },
   "file_extension": ".py",
   "mimetype": "text/x-python",
   "name": "python",
   "nbconvert_exporter": "python",
   "pygments_lexer": "ipython3",
   "version": "3.9.5"
  }
 },
 "nbformat": 4,
 "nbformat_minor": 5
}
