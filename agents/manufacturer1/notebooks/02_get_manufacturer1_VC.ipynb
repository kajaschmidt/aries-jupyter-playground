{
 "cells": [
  {
   "cell_type": "markdown",
   "id": "8fe2099f",
   "metadata": {},
   "source": [
    "# PETs/TETs – Hyperledger Aries – Manufacturer 1 (Holder) 💼"
   ]
  },
  {
   "cell_type": "code",
   "execution_count": 1,
   "id": "b37530b4",
   "metadata": {},
   "outputs": [
    {
     "data": {
      "application/javascript": [
       "document.title ='💼 Manufacturer1 Agent'\n"
      ],
      "text/plain": [
       "<IPython.core.display.Javascript object>"
      ]
     },
     "metadata": {},
     "output_type": "display_data"
    }
   ],
   "source": [
    "%%javascript\n",
    "document.title ='💼 Manufacturer1 Agent'"
   ]
  },
  {
   "cell_type": "markdown",
   "id": "1c7315c8",
   "metadata": {},
   "source": [
    "## PART 2: Issue a VC to the Manufacturer Agents\n",
    "\n",
    "**What:** Receive and store verifiable credential (VC) from the authority agent (i.e., the issuing authority)\n",
    "\n",
    "**Why:** To prove that the agent is a manufacturer to relying parties (e.g., the city agent)\n",
    "\n",
    "**How:** <br>\n",
    "1. [Initiate Manufacturer's AgentCommunicationManager (ACM)](#1)\n",
    "2. [Connect with the Authority agent](#2)\n",
    "3. [Request VC](#3)\n",
    "\n",
    "\n",
    "**Accompanying Agents and Notebooks:** \n",
    "* Authority 🏛️: `02_issue_VC_manufacturers.ipynb`"
   ]
  },
  {
   "cell_type": "markdown",
   "id": "fdecdd6b",
   "metadata": {},
   "source": [
    "---\n",
    "\n",
    "### 0 - Setup\n",
    "#### 0.1 - Imports"
   ]
  },
  {
   "cell_type": "code",
   "execution_count": 2,
   "id": "c494cd7f",
   "metadata": {
    "collapsed": false,
    "jupyter": {
     "outputs_hidden": false
    },
    "pycharm": {
     "name": "#%%\n"
    }
   },
   "outputs": [],
   "source": [
    "from aries_cloudcontroller import AriesAgentController\n",
    "import libs.helpers as helpers\n",
    "from libs.agent_connection_manager import CredentialHolder\n",
    "import os\n",
    "from termcolor import colored"
   ]
  },
  {
   "cell_type": "markdown",
   "id": "a4276d87",
   "metadata": {},
   "source": [
    "#### 0.2 – Variables"
   ]
  },
  {
   "cell_type": "code",
   "execution_count": 3,
   "id": "1187a16e",
   "metadata": {
    "collapsed": false,
    "jupyter": {
     "outputs_hidden": false
    },
    "pycharm": {
     "name": "#%%\n"
    }
   },
   "outputs": [],
   "source": [
    "# Get relevant details from .env file\n",
    "api_key = os.getenv(\"ACAPY_ADMIN_API_KEY\")\n",
    "admin_url = os.getenv(\"ADMIN_URL\")\n",
    "webhook_port = int(os.getenv(\"WEBHOOK_PORT\"))\n",
    "webhook_host = \"0.0.0.0\""
   ]
  },
  {
   "cell_type": "markdown",
   "id": "b72ec883",
   "metadata": {},
   "source": [
    "--- \n",
    "\n",
    "<a id=1></a>\n",
    "\n",
    "### 1 – Initiate Manufacturer1 Agent\n",
    "#### 1.1 – Init ACA-PY agent controller"
   ]
  },
  {
   "cell_type": "code",
   "execution_count": 4,
   "id": "902ee9c6",
   "metadata": {
    "collapsed": false,
    "jupyter": {
     "outputs_hidden": false
    },
    "pycharm": {
     "name": "#%%\n"
    }
   },
   "outputs": [
    {
     "name": "stdout",
     "output_type": "stream",
     "text": [
      "Initialising a controller with admin api at http://manufacturer1-agent:3021 and an api key of adminApiKey\n"
     ]
    }
   ],
   "source": [
    "# Setup\n",
    "agent_controller = AriesAgentController(admin_url,api_key)\n",
    "print(f\"Initialising a controller with admin api at {admin_url} and an api key of {api_key}\")"
   ]
  },
  {
   "cell_type": "markdown",
   "id": "8a4c5ff5",
   "metadata": {},
   "source": [
    "#### 1.2 – Start Webhook Server to enable communication with other agents\n",
    "@todo: is communication with other agents, or with other docker containers?"
   ]
  },
  {
   "cell_type": "code",
   "execution_count": 5,
   "id": "b87aa181",
   "metadata": {
    "collapsed": false,
    "jupyter": {
     "outputs_hidden": false
    },
    "pycharm": {
     "name": "#%%\n"
    }
   },
   "outputs": [
    {
     "name": "stdout",
     "output_type": "stream",
     "text": [
      "Listening for webhooks from agent at http://0.0.0.0:3010\n"
     ]
    }
   ],
   "source": [
    "# Listen on webhook server\n",
    "await agent_controller.init_webhook_server(webhook_host, webhook_port)\n",
    "print(f\"Listening for webhooks from agent at http://{webhook_host}:{webhook_port}\")"
   ]
  },
  {
   "cell_type": "markdown",
   "id": "6082ca5c",
   "metadata": {},
   "source": [
    "#### 1.3 – Init ACM issuing authority"
   ]
  },
  {
   "cell_type": "code",
   "execution_count": 6,
   "id": "3b256fc0",
   "metadata": {
    "collapsed": false,
    "jupyter": {
     "outputs_hidden": false
    },
    "pycharm": {
     "name": "#%%\n"
    }
   },
   "outputs": [
    {
     "name": "stdout",
     "output_type": "stream",
     "text": [
      "\u001b[1m\u001b[32mSuccessfully initiated AgentConnectionManager for a(n) Holder ACA-PY agent\u001b[0m\n"
     ]
    },
    {
     "data": {
      "text/plain": [
       "{'results': [{'referent': 'M1-isManufacturer',\n",
       "   'attrs': {'manufacturerName': 'Manufacturer1',\n",
       "    'manufacturerCountry': 'Germany',\n",
       "    'manufacturerCity': 'Berlin',\n",
       "    'isManufacturer': 'TRUE'},\n",
       "   'schema_id': 'XvWddwCGryjykggMo3vHrv:2:certify-manufacturer:0.0.1',\n",
       "   'cred_def_id': 'XvWddwCGryjykggMo3vHrv:3:CL:251651:default',\n",
       "   'rev_reg_id': None,\n",
       "   'cred_rev_id': None}]}"
      ]
     },
     "execution_count": 6,
     "metadata": {},
     "output_type": "execute_result"
    }
   ],
   "source": [
    "# The CredentialHolder registers relevant webhook servers and event listeners\n",
    "manufacturer1_agent = CredentialHolder(agent_controller)\n",
    "\n",
    "# Verify if Manufacturer already has a VC \n",
    "# (if there are manufacturer credentials, there is no need to execute the notebook)\n",
    "manufacturer1_agent.get_credentials()"
   ]
  },
  {
   "cell_type": "markdown",
   "id": "ef2c2520",
   "metadata": {},
   "source": [
    "---\n",
    "\n",
    "<a id=2></a>\n",
    "\n",
    "### 2 – Establish a connection with the Authority agent\n",
    "A connection with the credential issuer (i.e., the authority agent) must be established before a VC can be received. In this scenario, the manufacturer1 requests a connection with the Authority to be certified as an official city agency. Thus, the manufacturer1 agent sends an invitation to the Authority. In real life, the invitation can be shared via video call, phone call, or E-Mail. In this PoC, this is represented by copy and pasting the invitation into the manufacturers' notebooks.\n",
    "\n",
    "#### 2.1 Create invitation to Authority agent\n",
    "\n",
    "\n",
    "Several state changes of the connection between the Manufacturer agent, the inviter (A), and the authority agent, the invitee (B),  are required before successfully establishing a connection: \n",
    "\n",
    "| Step | State | Agent | Description | Function/Prompt/Variable |\n",
    "| --- | --- | --- | --- | --- |\n",
    "| 1 | invitation-sent | A | A sent an invitation to B | `create_connection_invitation()`\n",
    "| 2 | invitation-received | B | B receives the invitation of A | Prompt: Paste invitation from A |\n",
    "| 3 | request-sent | B | B sends B connection request | Prompt: Accept invitation OR `auto_accept=True` |\n",
    "| 4 | request-received | A | A receives the connection request from B | Prompt: Accept invitation request response OR `auto_accept=True` |\n",
    "| 5 | response-sent | A | A sends B response to B | - |\n",
    "| 6 | response-received | B | B receives the response from A | - |\n",
    "| 7 | active (completed) | A | B pings A to finalize connection | Prompt: Trust ping OR `auto_ping=True` |"
   ]
  },
  {
   "cell_type": "code",
   "execution_count": 7,
   "id": "20136f7e",
   "metadata": {},
   "outputs": [
    {
     "name": "stdout",
     "output_type": "stream",
     "text": [
      "\u001b[1m\u001b[35m\n",
      "Copy & paste invitation and share with external agent(s):\u001b[0m\n",
      "{\n",
      "    '@id': '5a3169ff-ec76-42df-be04-7dcc2b999fcb',\n",
      "    '@type': 'did:sov:BzCbsNYhMrjHiqZDTUASHg;spec/connections/1.0/invitation',\n",
      "    'label': 'AnonymousAgent1',\n",
      "    'recipientKeys': ['Fn6AFAEPneWVTtEFSTmv3HNEhgViR1HBCwRZCAnv2FJA'],\n",
      "    'serviceEndpoint': 'https://9836c7735cd3.ngrok.io',\n",
      "}\n",
      "\n",
      "---------------------------------------------------------------------\n",
      "\u001b[1mConnection Webhook Event Received: Connections Handler\u001b[0m\n",
      "Connection ID :  9e11ed64-7229-4bc5-afa2-878be7fed82b\n",
      "State :  \u001b[34minvitation (invitation-sent)\u001b[0m\n",
      "Routing State : none\n",
      "Their Role :  invitee\n",
      "---------------------------------------------------------------------\n",
      "\n",
      "---------------------------------------------------------------------\n",
      "\u001b[1mConnection Webhook Event Received: Connections Handler\u001b[0m\n",
      "Connection ID :  9e11ed64-7229-4bc5-afa2-878be7fed82b\n",
      "State :  \u001b[34mrequest (request-received)\u001b[0m\n",
      "Routing State : none\n",
      "Connection with :  Governance-Authority\n",
      "Their Role :  invitee\n",
      "---------------------------------------------------------------------\n",
      "\n",
      "---------------------------------------------------------------------\n",
      "\u001b[1mConnection Webhook Event Received: Connections Handler\u001b[0m\n",
      "Connection ID :  9e11ed64-7229-4bc5-afa2-878be7fed82b\n",
      "State :  \u001b[34mresponse (response-sent)\u001b[0m\n",
      "Routing State : none\n",
      "Connection with :  Governance-Authority\n",
      "Their Role :  invitee\n",
      "---------------------------------------------------------------------\n",
      "\n",
      "---------------------------------------------------------------------\n",
      "\u001b[1mConnection Webhook Event Received: Connections Handler\u001b[0m\n",
      "Connection ID :  9e11ed64-7229-4bc5-afa2-878be7fed82b\n",
      "State :  \u001b[34mactive (completed)\u001b[0m\n",
      "Routing State : none\n",
      "Connection with :  Governance-Authority\n",
      "Their Role :  invitee\n",
      "---------------------------------------------------------------------\n",
      "\u001b[1m\u001b[32m\n",
      "Connection ID: 9e11ed64-7229-4bc5-afa2-878be7fed82b is now active\u001b[0m\n"
     ]
    }
   ],
   "source": [
    "# Setup for connection with Authority agent\n",
    "alias = None\n",
    "auto_accept = True # Accept response of Authority agent right away\n",
    "auto_ping = True\n",
    "public = False # Do not use public DID\n",
    "multi_use = False # Invitation is only for one invitee\n",
    "\n",
    "connection_id = manufacturer1_agent.create_connection_invitation(alias=alias, auto_accept=auto_accept, public=public, multi_use=multi_use, auto_ping=auto_ping)"
   ]
  },
  {
   "cell_type": "markdown",
   "id": "9f6a7340",
   "metadata": {},
   "source": [
    "<div style=\"font-size: 25px\"><center><b>Break Point 1</b></center></div>\n",
    "<div style=\"font-size: 50px\"><center>💼 ➡️ 🏛</center></div><br>\n",
    "<center>Please switch to the Authority agent 🏛: open 02_issue_VC_manufacturers.ipynb, and run all cells until Break Point 2. Please paste the invitation in Step 2.1 when prompted. If auto_accept is set to False, enter \"yes\" when prompted before proceeding.</center>\n",
    "\n",
    "---\n",
    "\n",
    "<a id=3></a>\n",
    "### 3 – Request VC from `Authority` agent\n",
    "#### 3.1 – Message `Authority` with request"
   ]
  },
  {
   "cell_type": "code",
   "execution_count": 8,
   "id": "895566c7",
   "metadata": {},
   "outputs": [
    {
     "name": "stdout",
     "output_type": "stream",
     "text": [
      "Sent message via Connection ID 9e11ed64-7229-4bc5-afa2-878be7fed82b\n",
      "Sent message via Connection ID 9e11ed64-7229-4bc5-afa2-878be7fed82b\n",
      "\n",
      "---------------------------------------------------------------------\n",
      "\u001b[1mHandle Issue Credential Webhook: Issue Credential Handler\u001b[0m\n",
      "Connection ID : 9e11ed64-7229-4bc5-afa2-878be7fed82b\n",
      "Credential exchange ID : b4f59784-f727-4a51-bea8-1779ce525c60\n",
      "Agent Protocol Role :  holder\n",
      "Protocol State :  \u001b[34moffer_received\u001b[0m\n",
      "---------------------------------------------------------------------\n",
      "\u001b[1m\n",
      "Proposed Credential : \u001b[0m\n",
      "{\n",
      "    '@type': 'did:sov:BzCbsNYhMrjHiqZDTUASHg;spec/issue-credential/1.0/credential-preview',\n",
      "    'attributes': [\n",
      "        {'name': 'manufacturerCountry', 'value': 'Germany'},\n",
      "        {'name': 'manufacturerCity', 'value': 'Berlin'},\n",
      "        {'name': 'manufacturerName', 'value': 'Manufacturer1'},\n",
      "        {'name': 'isManufacturer', 'value': 'TRUE'},\n",
      "    ],\n",
      "}\n"
     ]
    }
   ],
   "source": [
    "# Contact authority agent\n",
    "basic_message = \"Hello Authority. I would like to be certified as a manufacturer.\"\n",
    "manufacturer1_agent.send_message(connection_id, basic_message)\n",
    "\n",
    "# Send authority agent the relevant information\n",
    "basic_message = '{\"manufacturerName\": \"undisclosedName1\", \"manufacturerCountry\": \"DE\", \"manufacturerCity\": \"Berlin\"}'\n",
    "manufacturer1_agent.send_message(connection_id, basic_message)"
   ]
  },
  {
   "cell_type": "markdown",
   "id": "1258876d",
   "metadata": {},
   "source": [
    "<div style=\"font-size: 25px\"><center><b>Break Point 3</b></center></div>\n",
    "<div style=\"font-size: 50px\"><center>💼 ➡️ 🏛</center></div><br>\n",
    "<center><b>Please switch to the Authority agent 🏛: Proceed with Step 3</b></center>\n",
    "\n",
    "\n",
    "#### 3.2 – Respond to Authority's VC offer\n",
    "\n",
    "The following `request_vc()` function wraps multiple functionalities. First, the offer of the Authority agent must be identified using a credential_exchange_id generated for it. Then, Manufacturer1 can respond to the offer. The detailed steps and state changes are presented in the table below, whereby I is the Issuer (i.e., the Authority agent) and H is the Holder (i.e., the Manufacturer agent)\n",
    "\n",
    "| Step | State | Role | Description | Function/Prompt/Variable |\n",
    "| --- | --- | --- | --- | --- |\n",
    "| 1 | offer_sent | I | I sends I VC offer with personalized information to H| `offer_vc()` |\n",
    "| 2 | offer_received | H | H receives offer made by I | - |\n",
    "| 3 | request_sent | H | Request VC offer | `request_vc()` AND (Prompt: request VC OR `auto_request=True`) |\n",
    "| 4 | request_received | I | M1's request to get VC was received | - |\n",
    "| 5 | credential_issued | I | Automatic response to issue credential | - |\n",
    "| 6 | credential_received | H| H receives VC and is asked to store it | Prompt: Store VC OR `auto_store=True`\n",
    "| 7 | credential_acked | I / H | Credential was issued and stored | - |"
   ]
  },
  {
   "cell_type": "code",
   "execution_count": 9,
   "id": "892bffe1",
   "metadata": {},
   "outputs": [
    {
     "name": "stdout",
     "output_type": "stream",
     "text": [
      "\u001b[34mGet stored identifiers dictionary to access schema information 💾\u001b[0m\n",
      "\u001b[1m\u001b[35m\n",
      "Request VC from offer\u001b[0m\n"
     ]
    },
    {
     "name": "stdin",
     "output_type": "stream",
     "text": [
      "\u001b[35mRequest VC [yes/no]\u001b[0m yes\n"
     ]
    },
    {
     "name": "stdout",
     "output_type": "stream",
     "text": [
      "\n",
      "---------------------------------------------------------------------\n",
      "\u001b[1mHandle Issue Credential Webhook: Issue Credential Handler\u001b[0m\n",
      "Connection ID : 9e11ed64-7229-4bc5-afa2-878be7fed82b\n",
      "Credential exchange ID : b4f59784-f727-4a51-bea8-1779ce525c60\n",
      "Agent Protocol Role :  holder\n",
      "Protocol State :  \u001b[34mrequest_sent\u001b[0m\n",
      "---------------------------------------------------------------------\n",
      "\n",
      "---------------------------------------------------------------------\n",
      "\u001b[1mHandle Issue Credential Webhook: Issue Credential Handler\u001b[0m\n",
      "Connection ID : 9e11ed64-7229-4bc5-afa2-878be7fed82b\n",
      "Credential exchange ID : b4f59784-f727-4a51-bea8-1779ce525c60\n",
      "Agent Protocol Role :  holder\n",
      "Protocol State :  \u001b[34mcredential_received\u001b[0m\n",
      "---------------------------------------------------------------------\n",
      "\u001b[31m\n",
      "Credential b4f59784-f727-4a51-bea8-1779ce525c60 is not stored in wallet.\u001b[0m\n",
      "\u001b[1m\u001b[35m\n",
      "Do you want to store the VC with ID b4f59784-f727-4a51-bea8-1779ce525c60?\u001b[0m\n"
     ]
    },
    {
     "name": "stdin",
     "output_type": "stream",
     "text": [
      "\u001b[35mStore VC:  [yes/no]\u001b[0m yes\n"
     ]
    },
    {
     "name": "stdout",
     "output_type": "stream",
     "text": [
      "\u001b[1m\u001b[35m\n",
      "Please provide a referent (Credential ID) for VC\u001b[0m\n",
      "\u001b[35m(The referent acts as the identifier for retrieving the raw credential from the wallet)\u001b[0m\n"
     ]
    },
    {
     "name": "stdin",
     "output_type": "stream",
     "text": [
      "\u001b[35mReferent: \u001b[0m M1-isManufacturer-VC\n"
     ]
    },
    {
     "name": "stdout",
     "output_type": "stream",
     "text": [
      "\u001b[1m\u001b[32m\n",
      "Successfully stored credential (Credential ID: M1-isManufacturer-VC)\u001b[0m\n",
      "\n",
      "---------------------------------------------------------------------\n",
      "\u001b[1mHandle Issue Credential Webhook: Issue Credential Handler\u001b[0m\n",
      "Connection ID : 9e11ed64-7229-4bc5-afa2-878be7fed82b\n",
      "Credential exchange ID : b4f59784-f727-4a51-bea8-1779ce525c60\n",
      "Agent Protocol Role :  holder\n",
      "Protocol State :  \u001b[34mcredential_acked\u001b[0m\n",
      "---------------------------------------------------------------------\n",
      "\u001b[1m\n",
      "Received Credential :\u001b[0m\n",
      "{\n",
      "    'attrs': {\n",
      "        'isManufacturer': 'TRUE',\n",
      "        'manufacturerCity': 'Berlin',\n",
      "        'manufacturerCountry': 'Germany',\n",
      "        'manufacturerName': 'Manufacturer1',\n",
      "    },\n",
      "    'cred_def_id': 'XvWddwCGryjykggMo3vHrv:3:CL:251651:default',\n",
      "    'referent': 'M1-isManufacturer-VC',\n",
      "    'schema_id': 'XvWddwCGryjykggMo3vHrv:2:certify-manufacturer:0.0.1',\n",
      "}\n"
     ]
    }
   ],
   "source": [
    "# Get schema_id of manufacturer_schema to find the correct credential_exchange_id\n",
    "identifiers = helpers.get_identifiers()\n",
    "schema_id = identifiers[\"manufacturer_schema_identifiers\"][\"schema_id\"]\n",
    "\n",
    "# Variables\n",
    "auto_request = False # Authomatically requests VC when offer is found\n",
    "auto_store = False # Automatically stores VC if issued by Authority\n",
    "\n",
    "# Request VC\n",
    "manufacturer1_agent.request_vc(connection_id, schema_id, auto_request, auto_store)"
   ]
  },
  {
   "cell_type": "markdown",
   "id": "d316ac55",
   "metadata": {},
   "source": [
    "#### 3.3 – Verify that VC was stored in wallet"
   ]
  },
  {
   "cell_type": "code",
   "execution_count": 10,
   "id": "45b89c9c",
   "metadata": {},
   "outputs": [
    {
     "data": {
      "text/plain": [
       "{'results': [{'referent': 'M1-isManufacturer',\n",
       "   'attrs': {'manufacturerCountry': 'Germany',\n",
       "    'isManufacturer': 'TRUE',\n",
       "    'manufacturerCity': 'Berlin',\n",
       "    'manufacturerName': 'Manufacturer1'},\n",
       "   'schema_id': 'XvWddwCGryjykggMo3vHrv:2:certify-manufacturer:0.0.1',\n",
       "   'cred_def_id': 'XvWddwCGryjykggMo3vHrv:3:CL:251651:default',\n",
       "   'rev_reg_id': None,\n",
       "   'cred_rev_id': None},\n",
       "  {'referent': 'M1-isManufacturer-VC',\n",
       "   'attrs': {'manufacturerCity': 'Berlin',\n",
       "    'manufacturerName': 'Manufacturer1',\n",
       "    'manufacturerCountry': 'Germany',\n",
       "    'isManufacturer': 'TRUE'},\n",
       "   'schema_id': 'XvWddwCGryjykggMo3vHrv:2:certify-manufacturer:0.0.1',\n",
       "   'cred_def_id': 'XvWddwCGryjykggMo3vHrv:3:CL:251651:default',\n",
       "   'rev_reg_id': None,\n",
       "   'cred_rev_id': None}]}"
      ]
     },
     "execution_count": 10,
     "metadata": {},
     "output_type": "execute_result"
    }
   ],
   "source": [
    "manufacturer1_agent.get_credentials()"
   ]
  },
  {
   "cell_type": "markdown",
   "id": "ec4c8f70",
   "metadata": {},
   "source": [
    "--- \n",
    "\n",
    "### 4 – Terminate Controller\n",
    "\n",
    "Whenever you have finished with this notebook, be sure to terminate the controller. This is especially important if your business logic runs across multiple notebooks."
   ]
  },
  {
   "cell_type": "code",
   "execution_count": 11,
   "id": "a0767172",
   "metadata": {},
   "outputs": [],
   "source": [
    "await agent_controller.terminate()"
   ]
  },
  {
   "cell_type": "markdown",
   "id": "1902e410",
   "metadata": {},
   "source": [
    "<div style=\"font-size: 25px\"><center><b>Break Point 4</b></center></div>\n",
    "<div style=\"font-size: 50px\"><center>💼 ➡️ 💼</center></div><br>\n",
    "<center><b>Please switch to the Manufacturer2 agent 💼: run the 02_get_manufacturer2_VC.ipynb notebook until Break Point 5.</b></center>\n",
    "\n",
    "---\n",
    "\n",
    "## 🔥🔥🔥 You can close this notebook now 🔥🔥🔥"
   ]
  },
  {
   "cell_type": "code",
   "execution_count": null,
   "id": "c4620bce",
   "metadata": {},
   "outputs": [],
   "source": []
  }
 ],
 "metadata": {
  "kernelspec": {
   "display_name": "Python 3 (ipykernel)",
   "language": "python",
   "name": "python3"
  },
  "language_info": {
   "codemirror_mode": {
    "name": "ipython",
    "version": 3
   },
   "file_extension": ".py",
   "mimetype": "text/x-python",
   "name": "python",
   "nbconvert_exporter": "python",
   "pygments_lexer": "ipython3",
   "version": "3.9.5"
  }
 },
 "nbformat": 4,
 "nbformat_minor": 5
}
