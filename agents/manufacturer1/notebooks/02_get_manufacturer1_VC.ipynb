{
 "cells": [
  {
   "cell_type": "markdown",
   "id": "01d6d72a",
   "metadata": {},
   "source": [
    "# Request VC from Authority\n",
    "\n",
    "This notebook is used in combination with notebook `01_issue_VC_city.ipynb` (see Authority agent). Break points indicate when to switch notebooks."
   ]
  },
  {
   "cell_type": "code",
   "execution_count": 1,
   "id": "1f354370",
   "metadata": {},
   "outputs": [
    {
     "data": {
      "application/javascript": [
       "document.title ='Manufacturer1 Agent'\n"
      ],
      "text/plain": [
       "<IPython.core.display.Javascript object>"
      ]
     },
     "metadata": {},
     "output_type": "display_data"
    }
   ],
   "source": [
    "%%javascript\n",
    "document.title ='Manufacturer1 Agent'"
   ]
  },
  {
   "cell_type": "markdown",
   "id": "dc493a27",
   "metadata": {},
   "source": [
    "#### Imports"
   ]
  },
  {
   "cell_type": "code",
   "execution_count": 2,
   "id": "c0d6281c",
   "metadata": {},
   "outputs": [
    {
     "name": "stdout",
     "output_type": "stream",
     "text": [
      "IPython autoawait is `on`, and set to use `asyncio`\n"
     ]
    }
   ],
   "source": [
    "%autoawait \n",
    "from aries_cloudcontroller import AriesAgentController\n",
    "from libs.connection_service import ConnectionService\n",
    "import os\n",
    "from pprintpp import pprint\n",
    "from termcolor import colored"
   ]
  },
  {
   "cell_type": "markdown",
   "id": "0121472c",
   "metadata": {},
   "source": [
    "#### Initialize `Manufacturer1` Agent Controller"
   ]
  },
  {
   "cell_type": "code",
   "execution_count": 3,
   "id": "ca36228b",
   "metadata": {},
   "outputs": [
    {
     "name": "stdout",
     "output_type": "stream",
     "text": [
      "Initialising a controller with admin api at http://manufacturer1-agent:3021 and an api key of adminApiKey\n"
     ]
    }
   ],
   "source": [
    "api_key = os.getenv(\"ACAPY_ADMIN_API_KEY\")\n",
    "admin_url = os.getenv(\"ADMIN_URL\")\n",
    "\n",
    "print(f\"Initialising a controller with admin api at {admin_url} and an api key of {api_key}\")\n",
    "agent_controller = AriesAgentController(admin_url,api_key)"
   ]
  },
  {
   "cell_type": "markdown",
   "id": "d15d6e7b",
   "metadata": {},
   "source": [
    "## 1 – Init Webhook Server and register Event Listeners for it\n",
    "#### 1.1 – Start webhook server\n",
    "Start a webhook server to be able to communicate with other agents"
   ]
  },
  {
   "cell_type": "code",
   "execution_count": 4,
   "id": "2a6059c9",
   "metadata": {},
   "outputs": [
    {
     "name": "stdout",
     "output_type": "stream",
     "text": [
      "Listening for webhooks from agent at http://0.0.0.0:3010\n"
     ]
    }
   ],
   "source": [
    "# Setup\n",
    "webhook_port = int(os.getenv(\"WEBHOOK_PORT\"))\n",
    "webhook_host = \"0.0.0.0\"\n",
    "\n",
    "# Listen on webhook server\n",
    "await agent_controller.init_webhook_server(webhook_host, webhook_port)\n",
    "print(f\"Listening for webhooks from agent at http://{webhook_host}:{webhook_port}\")"
   ]
  },
  {
   "cell_type": "code",
   "execution_count": 5,
   "id": "aa250efe",
   "metadata": {},
   "outputs": [
    {
     "name": "stdout",
     "output_type": "stream",
     "text": [
      "\u001b[1mInitiate ConnectionService:\u001b[0m\n",
      "* Defines and registers agent listeners:  ['connections', 'prover_proof', 'verifier_proof', 'issue_credential', 'basicmessages']\n",
      "* Stores initiated connections\n",
      "* Allows to easily create and accept connection invitations\n",
      "* Facilitates process of issuing and verifying verifiable credentials\n"
     ]
    }
   ],
   "source": [
    "connections = ConnectionService(agent_controller)"
   ]
  },
  {
   "cell_type": "markdown",
   "id": "32ed5198",
   "metadata": {},
   "source": [
    "#### 1.2 – Define listeners\n",
    "Define listeners that are triggered when something happens on the webhook server"
   ]
  },
  {
   "cell_type": "markdown",
   "id": "172a0704",
   "metadata": {},
   "source": [
    "#### 1.3 – Register listeners with `agent_controller`"
   ]
  },
  {
   "cell_type": "markdown",
   "id": "2a1ff93d",
   "metadata": {},
   "source": [
    "## 2 – Establish a connection with Authority agent\n",
    "A connection with the credential issuer (i.e., the authority agent) must be establieshed before a VC can be received. In this scenario, the agent requests a connection with the Authority to be certified as an official city agency. Thus, the city agent sends an invitation to the Authority.\n",
    "\n",
    "### 2.1 Create invitation to Authority agent"
   ]
  },
  {
   "cell_type": "code",
   "execution_count": null,
   "id": "0a63026a",
   "metadata": {},
   "outputs": [
    {
     "name": "stdout",
     "output_type": "stream",
     "text": [
      "\n",
      "---------------------------------------------------------------------\n",
      "\u001b[1mConnection Webhook Event Received\u001b[0m\n",
      "Connection ID :  b1605852-2329-4e12-93e7-38d13566130a\n",
      "State :  \u001b[33minvitation (invitation-sent)\u001b[0m\n",
      "Routing State : none\n",
      "Their Role :  invitee\n",
      "---------------------------------------------------------------------\n",
      "\u001b[1m\u001b[34m\n",
      "Copy & paste invitation and share with external agent:\u001b[0m\n",
      "{\n",
      "    '@id': '920bfd1d-7f55-474b-a507-ed25c3fa02d8',\n",
      "    '@type': 'did:sov:BzCbsNYhMrjHiqZDTUASHg;spec/connections/1.0/invitation',\n",
      "    'label': 'Manufacturer1',\n",
      "    'recipientKeys': ['8bCzypyFTgzehzvpvbiR6DHLyox1z92PKFNDQW4512F7'],\n",
      "    'serviceEndpoint': 'http://bb082e6e29a4.ngrok.io',\n",
      "}\n",
      "\n",
      "\n"
     ]
    }
   ],
   "source": [
    "# Setup for connection with Authority agent\n",
    "alias = None\n",
    "auto_accept = \"true\" # Accept response of Authority agent right away\n",
    "public = \"false\" # Do not use public DID\n",
    "multi_use = \"false\" # Invitation is only for one invitee\n",
    "\n",
    "connection_id = connections.create_connection_invitation(alias=alias, auto_accept=auto_accept, public=public, multi_use=multi_use)"
   ]
  },
  {
   "cell_type": "markdown",
   "id": "874ba242",
   "metadata": {},
   "source": [
    "**BREAK POINT:** Please switch to agent `Authority`, open `01_issue_VC_city.ipynb`, and continue with Step 2\n",
    "\n",
    "---\n",
    "\n",
    "### 2.3 – Sent trust ping to establish and activate connection"
   ]
  },
  {
   "cell_type": "code",
   "execution_count": null,
   "id": "52cc4204",
   "metadata": {},
   "outputs": [],
   "source": [
    "connection_id"
   ]
  },
  {
   "cell_type": "markdown",
   "id": "18578ac8",
   "metadata": {},
   "source": [
    "## 3 – Request VC from `Authority` agent\n",
    "### 3.1 – Message `Authority` to request a VC"
   ]
  },
  {
   "cell_type": "code",
   "execution_count": 7,
   "id": "aead3029",
   "metadata": {},
   "outputs": [
    {
     "name": "stdout",
     "output_type": "stream",
     "text": [
      "supposedly sent message {}\n"
     ]
    }
   ],
   "source": [
    "connections.send_message(connection_id, \"testing connection\")"
   ]
  },
  {
   "cell_type": "code",
   "execution_count": null,
   "id": "85096761",
   "metadata": {},
   "outputs": [],
   "source": [
    "basic_message = \"Hello Authority agent\"\n",
    "await agent_controller.messaging.send_message(connection_id, basic_message)"
   ]
  },
  {
   "cell_type": "markdown",
   "id": "8cffcec0",
   "metadata": {},
   "source": [
    "**BREAK POINT:** Go to Step 3 in the `01_issue_VC_city.ipynb` notebook of the `Authority` agent.\n",
    "\n",
    "---"
   ]
  },
  {
   "cell_type": "markdown",
   "id": "073360d6",
   "metadata": {},
   "source": [
    "### 3.1 – Provide `Authority` with the relevant information to issue a VC"
   ]
  },
  {
   "cell_type": "code",
   "execution_count": null,
   "id": "139bcf82",
   "metadata": {},
   "outputs": [],
   "source": [
    "basic_message = '{\"manufacturerName\": \"undisclosedName1\", \"manufacturerCountry\": \"DE\", \"manufacturerCity\": \"Munich\"}'\n",
    "await agent_controller.messaging.send_message(connection_id, basic_message)"
   ]
  },
  {
   "cell_type": "markdown",
   "id": "0964d959",
   "metadata": {},
   "source": [
    "**BREAK POINT:** Return to step \n",
    "\n",
    "---\n",
    "\n",
    "\n",
    "### 3.2 – Request VC from `Authority`'s Offer\n",
    "\n",
    "Note: Your agent will automatically respond if ACAPY_AUTO_RESPOND_CREDENTIAL_OFFER=true flag is set in .env file of agent. Default is false.\n",
    "\n",
    "To respond to an offer you must identify the offer using the credential_exchange_id generated for it. This is available from within the issue-credential holder handler. You could add custom logic in this loop `elif state == \"request\":` to handle this.\n",
    "\n",
    "However, we will fetch the credential exchange records and **assume** this agent only has one record. Customise accordingly."
   ]
  },
  {
   "cell_type": "code",
   "execution_count": 9,
   "id": "10dd373a",
   "metadata": {},
   "outputs": [
    {
     "name": "stderr",
     "output_type": "stream",
     "text": [
      "ERROR:__name__:Error during GET /issue-credential/records: 422, message='Unprocessable Entity', url=URL('http://manufacturer1-agent:3021/issue-credential/records?connection_id=0060d0ce-24dd-4cb1-b501-9cd89f26b14b&thread_id=offer_received')\n"
     ]
    },
    {
     "ename": "ClientResponseError",
     "evalue": "422, message='Unprocessable Entity', url=URL('http://manufacturer1-agent:3021/issue-credential/records?connection_id=0060d0ce-24dd-4cb1-b501-9cd89f26b14b&thread_id=offer_received')",
     "output_type": "error",
     "traceback": [
      "\u001b[0;31m---------------------------------------------------------------------------\u001b[0m",
      "\u001b[0;31mClientResponseError\u001b[0m                       Traceback (most recent call last)",
      "\u001b[0;32m/tmp/ipykernel_237/1440671875.py\u001b[0m in \u001b[0;36m<module>\u001b[0;34m\u001b[0m\n\u001b[1;32m      4\u001b[0m \u001b[0mrole\u001b[0m \u001b[0;34m=\u001b[0m \u001b[0;34m\"prover\"\u001b[0m\u001b[0;34m\u001b[0m\u001b[0;34m\u001b[0m\u001b[0m\n\u001b[1;32m      5\u001b[0m \u001b[0;34m\u001b[0m\u001b[0m\n\u001b[0;32m----> 6\u001b[0;31m \u001b[0mrecords_response\u001b[0m \u001b[0;34m=\u001b[0m \u001b[0;32mawait\u001b[0m \u001b[0magent_controller\u001b[0m\u001b[0;34m.\u001b[0m\u001b[0missuer\u001b[0m\u001b[0;34m.\u001b[0m\u001b[0mget_records\u001b[0m\u001b[0;34m(\u001b[0m\u001b[0mconnection_id\u001b[0m\u001b[0;34m,\u001b[0m\u001b[0mstate\u001b[0m\u001b[0;34m)\u001b[0m\u001b[0;34m\u001b[0m\u001b[0;34m\u001b[0m\u001b[0m\n\u001b[0m",
      "\u001b[0;32m/opt/conda/lib/python3.9/site-packages/aries_cloudcontroller/controllers/issuer.py\u001b[0m in \u001b[0;36mget_records\u001b[0;34m(self, connection_id, thread_id, state, role)\u001b[0m\n\u001b[1;32m     44\u001b[0m             \u001b[0mparams\u001b[0m\u001b[0;34m[\u001b[0m\u001b[0;34m\"role\"\u001b[0m\u001b[0;34m]\u001b[0m \u001b[0;34m=\u001b[0m \u001b[0mrole\u001b[0m\u001b[0;34m\u001b[0m\u001b[0;34m\u001b[0m\u001b[0m\n\u001b[1;32m     45\u001b[0m \u001b[0;34m\u001b[0m\u001b[0m\n\u001b[0;32m---> 46\u001b[0;31m         \u001b[0;32mreturn\u001b[0m \u001b[0;32mawait\u001b[0m \u001b[0mself\u001b[0m\u001b[0;34m.\u001b[0m\u001b[0madmin_GET\u001b[0m\u001b[0;34m(\u001b[0m\u001b[0;34mf\"{self.base_url}/records\"\u001b[0m\u001b[0;34m,\u001b[0m \u001b[0mparams\u001b[0m\u001b[0;34m=\u001b[0m\u001b[0mparams\u001b[0m\u001b[0;34m)\u001b[0m\u001b[0;34m\u001b[0m\u001b[0;34m\u001b[0m\u001b[0m\n\u001b[0m\u001b[1;32m     47\u001b[0m \u001b[0;34m\u001b[0m\u001b[0m\n\u001b[1;32m     48\u001b[0m     \u001b[0;32masync\u001b[0m \u001b[0;32mdef\u001b[0m \u001b[0mget_record_by_id\u001b[0m\u001b[0;34m(\u001b[0m\u001b[0mself\u001b[0m\u001b[0;34m,\u001b[0m \u001b[0mcred_ex_id\u001b[0m\u001b[0;34m)\u001b[0m\u001b[0;34m:\u001b[0m\u001b[0;34m\u001b[0m\u001b[0;34m\u001b[0m\u001b[0m\n",
      "\u001b[0;32m/opt/conda/lib/python3.9/site-packages/aries_cloudcontroller/controllers/base.py\u001b[0m in \u001b[0;36madmin_GET\u001b[0;34m(self, path, text, params)\u001b[0m\n\u001b[1;32m     55\u001b[0m         \u001b[0;32mtry\u001b[0m\u001b[0;34m:\u001b[0m\u001b[0;34m\u001b[0m\u001b[0;34m\u001b[0m\u001b[0m\n\u001b[1;32m     56\u001b[0m             \u001b[0mLOGGER\u001b[0m\u001b[0;34m.\u001b[0m\u001b[0mdebug\u001b[0m\u001b[0;34m(\u001b[0m\u001b[0;34m\"Controller GET %s request to Agent\"\u001b[0m\u001b[0;34m,\u001b[0m \u001b[0mpath\u001b[0m\u001b[0;34m)\u001b[0m\u001b[0;34m\u001b[0m\u001b[0;34m\u001b[0m\u001b[0m\n\u001b[0;32m---> 57\u001b[0;31m             \u001b[0mresponse\u001b[0m \u001b[0;34m=\u001b[0m \u001b[0;32mawait\u001b[0m \u001b[0mself\u001b[0m\u001b[0;34m.\u001b[0m\u001b[0madmin_request\u001b[0m\u001b[0;34m(\u001b[0m\u001b[0;34m\"GET\"\u001b[0m\u001b[0;34m,\u001b[0m \u001b[0mpath\u001b[0m\u001b[0;34m,\u001b[0m \u001b[0;32mNone\u001b[0m\u001b[0;34m,\u001b[0m \u001b[0mtext\u001b[0m\u001b[0;34m,\u001b[0m \u001b[0mparams\u001b[0m\u001b[0;34m)\u001b[0m\u001b[0;34m\u001b[0m\u001b[0;34m\u001b[0m\u001b[0m\n\u001b[0m\u001b[1;32m     58\u001b[0m             LOGGER.debug(\n\u001b[1;32m     59\u001b[0m                 \u001b[0;34m\"Response from GET %s received: \\n%s\"\u001b[0m\u001b[0;34m,\u001b[0m\u001b[0;34m\u001b[0m\u001b[0;34m\u001b[0m\u001b[0m\n",
      "\u001b[0;32m/opt/conda/lib/python3.9/site-packages/aries_cloudcontroller/controllers/base.py\u001b[0m in \u001b[0;36madmin_request\u001b[0;34m(self, method, path, json_data, text, params, data)\u001b[0m\n\u001b[1;32m     41\u001b[0m             \u001b[0mmethod\u001b[0m\u001b[0;34m,\u001b[0m \u001b[0mself\u001b[0m\u001b[0;34m.\u001b[0m\u001b[0madmin_url\u001b[0m \u001b[0;34m+\u001b[0m \u001b[0mpath\u001b[0m\u001b[0;34m,\u001b[0m \u001b[0mjson\u001b[0m\u001b[0;34m=\u001b[0m\u001b[0mjson_data\u001b[0m\u001b[0;34m,\u001b[0m \u001b[0mparams\u001b[0m\u001b[0;34m=\u001b[0m\u001b[0mparams\u001b[0m\u001b[0;34m,\u001b[0m \u001b[0mdata\u001b[0m\u001b[0;34m=\u001b[0m\u001b[0mdata\u001b[0m\u001b[0;34m\u001b[0m\u001b[0;34m\u001b[0m\u001b[0m\n\u001b[1;32m     42\u001b[0m         ) as resp:\n\u001b[0;32m---> 43\u001b[0;31m             \u001b[0mresp\u001b[0m\u001b[0;34m.\u001b[0m\u001b[0mraise_for_status\u001b[0m\u001b[0;34m(\u001b[0m\u001b[0;34m)\u001b[0m\u001b[0;34m\u001b[0m\u001b[0;34m\u001b[0m\u001b[0m\n\u001b[0m\u001b[1;32m     44\u001b[0m             \u001b[0mresp_text\u001b[0m \u001b[0;34m=\u001b[0m \u001b[0;32mawait\u001b[0m \u001b[0mresp\u001b[0m\u001b[0;34m.\u001b[0m\u001b[0mtext\u001b[0m\u001b[0;34m(\u001b[0m\u001b[0;34m)\u001b[0m\u001b[0;34m\u001b[0m\u001b[0;34m\u001b[0m\u001b[0m\n\u001b[1;32m     45\u001b[0m             \u001b[0;32mif\u001b[0m \u001b[0;32mnot\u001b[0m \u001b[0mresp_text\u001b[0m \u001b[0;32mand\u001b[0m \u001b[0;32mnot\u001b[0m \u001b[0mtext\u001b[0m\u001b[0;34m:\u001b[0m\u001b[0;34m\u001b[0m\u001b[0;34m\u001b[0m\u001b[0m\n",
      "\u001b[0;32m/opt/conda/lib/python3.9/site-packages/aiohttp/client_reqrep.py\u001b[0m in \u001b[0;36mraise_for_status\u001b[0;34m(self)\u001b[0m\n\u001b[1;32m    998\u001b[0m             \u001b[0;32massert\u001b[0m \u001b[0mself\u001b[0m\u001b[0;34m.\u001b[0m\u001b[0mreason\u001b[0m \u001b[0;32mis\u001b[0m \u001b[0;32mnot\u001b[0m \u001b[0;32mNone\u001b[0m\u001b[0;34m\u001b[0m\u001b[0;34m\u001b[0m\u001b[0m\n\u001b[1;32m    999\u001b[0m             \u001b[0mself\u001b[0m\u001b[0;34m.\u001b[0m\u001b[0mrelease\u001b[0m\u001b[0;34m(\u001b[0m\u001b[0;34m)\u001b[0m\u001b[0;34m\u001b[0m\u001b[0;34m\u001b[0m\u001b[0m\n\u001b[0;32m-> 1000\u001b[0;31m             raise ClientResponseError(\n\u001b[0m\u001b[1;32m   1001\u001b[0m                 \u001b[0mself\u001b[0m\u001b[0;34m.\u001b[0m\u001b[0mrequest_info\u001b[0m\u001b[0;34m,\u001b[0m\u001b[0;34m\u001b[0m\u001b[0;34m\u001b[0m\u001b[0m\n\u001b[1;32m   1002\u001b[0m                 \u001b[0mself\u001b[0m\u001b[0;34m.\u001b[0m\u001b[0mhistory\u001b[0m\u001b[0;34m,\u001b[0m\u001b[0;34m\u001b[0m\u001b[0;34m\u001b[0m\u001b[0m\n",
      "\u001b[0;31mClientResponseError\u001b[0m: 422, message='Unprocessable Entity', url=URL('http://manufacturer1-agent:3021/issue-credential/records?connection_id=0060d0ce-24dd-4cb1-b501-9cd89f26b14b&thread_id=offer_received')"
     ]
    }
   ],
   "source": [
    "# Setup arguments for response\n",
    "thread_id = None\n",
    "state = \"offer_received\"\n",
    "role = \"prover\"\n",
    "\n",
    "records_response = await agent_controller.issuer.get_records(connection_id,state)"
   ]
  },
  {
   "cell_type": "code",
   "execution_count": null,
   "id": "f7ad4a61",
   "metadata": {},
   "outputs": [],
   "source": [
    "record = records_response[\"results\"][0]\n",
    "record_id = record[\"credential_exchange_id\"]"
   ]
  },
  {
   "cell_type": "code",
   "execution_count": null,
   "id": "6ca60b91",
   "metadata": {},
   "outputs": [],
   "source": []
  },
  {
   "cell_type": "code",
   "execution_count": null,
   "id": "a2ed1f4f",
   "metadata": {},
   "outputs": [],
   "source": [
    "# Send request for VC\n",
    "await agent_controller.issuer.send_request_for_record(record_id)"
   ]
  },
  {
   "cell_type": "markdown",
   "id": "2256c64b",
   "metadata": {},
   "source": [
    "### 3.3 – Store received VC in wallet\n",
    "\n",
    "This will be done automatically if the ACAPY_AUTO_STORE_CREDENTIAL=true flag is set in the .env file for this agent. Default is false.\n",
    "\n",
    "Again you could handle this in your holder handler function in the `elif state == \"credential_received\":` loop."
   ]
  },
  {
   "cell_type": "code",
   "execution_count": null,
   "id": "0d93192d",
   "metadata": {},
   "outputs": [],
   "source": [
    "credential_id = \"M1-isManufacturer-VC\"\n",
    "store_cred_response = await agent_controller.issuer.store_credential(record_id, credential_id)"
   ]
  },
  {
   "cell_type": "markdown",
   "id": "d027691f",
   "metadata": {},
   "source": [
    "## Terminate Controller\n",
    "\n",
    "Whenever you have finished with this notebook, be sure to terminate the controller. This is especially important if your business logic runs across multiple notebooks."
   ]
  },
  {
   "cell_type": "code",
   "execution_count": null,
   "id": "808640f6",
   "metadata": {},
   "outputs": [],
   "source": [
    "await agent_controller.terminate()"
   ]
  },
  {
   "cell_type": "code",
   "execution_count": null,
   "id": "1be83fc3",
   "metadata": {},
   "outputs": [],
   "source": []
  }
 ],
 "metadata": {
  "kernelspec": {
   "display_name": "Python 3 (ipykernel)",
   "language": "python",
   "name": "python3"
  },
  "language_info": {
   "codemirror_mode": {
    "name": "ipython",
    "version": 3
   },
   "file_extension": ".py",
   "mimetype": "text/x-python",
   "name": "python",
   "nbconvert_exporter": "python",
   "pygments_lexer": "ipython3",
   "version": "3.9.5"
  }
 },
 "nbformat": 4,
 "nbformat_minor": 5
}
