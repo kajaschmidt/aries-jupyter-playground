{
 "cells": [
  {
   "cell_type": "markdown",
   "id": "91acd1c8",
   "metadata": {},
   "source": [
    "# PETs/TETs – Hyperledger Aries / PySyft – Manufacturer 1 (Holder) 💼"
   ]
  },
  {
   "cell_type": "code",
   "execution_count": 1,
   "id": "5df4b132",
   "metadata": {},
   "outputs": [
    {
     "data": {
      "application/javascript": [
       "document.title = '💼 Manufacturer1 Agent'\n"
      ],
      "text/plain": [
       "<IPython.core.display.Javascript object>"
      ]
     },
     "metadata": {},
     "output_type": "display_data"
    }
   ],
   "source": [
    "%%javascript\n",
    "document.title = '💼 Manufacturer1 Agent'"
   ]
  },
  {
   "cell_type": "markdown",
   "id": "0154f8c4",
   "metadata": {},
   "source": [
    "## PART 3: Connect with City to Analyze Data\n",
    "\n",
    "**What:** -\n",
    "\n",
    "**Why:** -\n",
    "\n",
    "**How:** <br>\n",
    "\n",
    "\n",
    "**Accompanying Agents and Notebooks:**\n",
    "* City 🏙️️: `03_connect_with_manufacturer1.ipynb`"
   ]
  },
  {
   "cell_type": "markdown",
   "id": "fd07cb22",
   "metadata": {
    "pycharm": {
     "name": "#%% md\n"
    }
   },
   "source": [
    "---\n",
    "\n",
    "### 0 - Setup\n",
    "#### 0.1 - Imports"
   ]
  },
  {
   "cell_type": "code",
   "execution_count": 2,
   "id": "427f5af3",
   "metadata": {
    "pycharm": {
     "name": "#%%\n"
    }
   },
   "outputs": [],
   "source": [
    "import libs.helpers as helpers\n",
    "import os\n",
    "import syft as sy\n",
    "import time\n",
    "#import torch\n",
    "\n",
    "from aries_cloudcontroller import AriesAgentController\n",
    "from libs.agent_connection_manager import CredentialHolder\n",
    "from pprintpp import pprint\n",
    "from termcolor import colored\n",
    "#from sympc.session import Session\n",
    "#from sympc.session import SessionManager\n",
    "#from sympc.tensor import MPCTensor"
   ]
  },
  {
   "cell_type": "markdown",
   "id": "4aba1303",
   "metadata": {
    "pycharm": {
     "name": "#%% md\n"
    }
   },
   "source": [
    "#### 0.2 – Variables"
   ]
  },
  {
   "cell_type": "code",
   "execution_count": 3,
   "id": "335bd2d6",
   "metadata": {
    "pycharm": {
     "name": "#%%\n"
    }
   },
   "outputs": [],
   "source": [
    "# Get relevant details from .env file\n",
    "api_key = os.getenv(\"ACAPY_ADMIN_API_KEY\")\n",
    "admin_url = os.getenv(\"ADMIN_URL\")\n",
    "webhook_port = int(os.getenv(\"WEBHOOK_PORT\"))\n",
    "webhook_host = \"0.0.0.0\""
   ]
  },
  {
   "cell_type": "markdown",
   "id": "646b3fe5",
   "metadata": {
    "pycharm": {
     "name": "#%% md\n"
    }
   },
   "source": [
    "---\n",
    "\n",
    "<a id=1></a>\n",
    "\n",
    "### 1 – Initiate Manufacturer1 Agent\n",
    "#### 1.1 – Init ACA-PY agent controller"
   ]
  },
  {
   "cell_type": "code",
   "execution_count": 4,
   "id": "6ad2af8e",
   "metadata": {},
   "outputs": [
    {
     "name": "stdout",
     "output_type": "stream",
     "text": [
      "Initialising a controller with admin api at http://manufacturer1-agent:3021 and an api key of adminApiKey\n"
     ]
    }
   ],
   "source": [
    "# Setup\n",
    "agent_controller = AriesAgentController(admin_url,api_key)\n",
    "print(f\"Initialising a controller with admin api at {admin_url} and an api key of {api_key}\")"
   ]
  },
  {
   "cell_type": "markdown",
   "id": "80620bbc",
   "metadata": {},
   "source": [
    "#### 1.2 – Start Webhook Server to enable communication with other agents\n",
    "@todo: is communication with other agents, or with other docker containers?"
   ]
  },
  {
   "cell_type": "code",
   "execution_count": 5,
   "id": "6dbc63c6",
   "metadata": {},
   "outputs": [
    {
     "name": "stdout",
     "output_type": "stream",
     "text": [
      "Listening for webhooks from agent at http://0.0.0.0:3010\n"
     ]
    }
   ],
   "source": [
    "# Listen on webhook server\n",
    "await agent_controller.init_webhook_server(webhook_host, webhook_port)\n",
    "print(f\"Listening for webhooks from agent at http://{webhook_host}:{webhook_port}\")"
   ]
  },
  {
   "cell_type": "markdown",
   "id": "34830c35",
   "metadata": {},
   "source": [
    "#### 1.3 – Init ACM issuing authority"
   ]
  },
  {
   "cell_type": "code",
   "execution_count": 6,
   "id": "604d6778",
   "metadata": {
    "collapsed": false,
    "jupyter": {
     "outputs_hidden": false
    },
    "pycharm": {
     "name": "#%%\n"
    }
   },
   "outputs": [
    {
     "name": "stdout",
     "output_type": "stream",
     "text": [
      "\u001b[1m\u001b[32mSuccessfully initiated AgentConnectionManager for a(n) Holder ACA-PY agent\u001b[0m\n"
     ]
    },
    {
     "data": {
      "text/plain": [
       "{'results': []}"
      ]
     },
     "execution_count": 6,
     "metadata": {},
     "output_type": "execute_result"
    }
   ],
   "source": [
    "# The CredentialHolder registers relevant webhook servers and event listeners\n",
    "manufacturer1_agent = CredentialHolder(agent_controller)\n",
    "\n",
    "# Verify if Manufacturer already has a VC\n",
    "# (if there are manufacturer credentials, there is no need to execute the notebook)\n",
    "manufacturer1_agent.get_credentials()"
   ]
  },
  {
   "cell_type": "markdown",
   "id": "fc810247",
   "metadata": {},
   "source": [
    "---\n",
    "\n",
    "<a id=2></a>\n",
    "\n",
    "### 2 – Establish a connection with the City agent 🏙️\n",
    "A connection with the credential issuer (i.e., the authority agent) must be established before a VC can be received. In this scenario, the manufacturer1 requests a connection with the Authority to be certified as an official city agency. Thus, the manufacturer1 agent sends an invitation to the Authority. In real life, the invitation can be shared via video call, phone call, or E-Mail. In this PoC, this is represented by copy and pasting the invitation into the manufacturers' notebooks.\n",
    "\n",
    "#### 2.1 Join invitation of City agent 🏙️\n",
    "Copy and paste the multi-use invitation of the city agent, and establish a connection with them."
   ]
  },
  {
   "cell_type": "code",
   "execution_count": 7,
   "id": "446dfd06",
   "metadata": {},
   "outputs": [
    {
     "name": "stdout",
     "output_type": "stream",
     "text": [
      "\u001b[1m\u001b[35mPlease enter invitation received by external agent:\u001b[0m\n"
     ]
    },
    {
     "name": "stdin",
     "output_type": "stream",
     "text": [
      "\u001b[35mInvitation: \u001b[0m {     '@id': '9af4fea0-bdad-4347-86b8-dded8d7e40b4',     '@type': 'did:sov:BzCbsNYhMrjHiqZDTUASHg;spec/connections/1.0/invitation',     'label': 'City-Agency',     'recipientKeys': ['7RfyewcANKFrDt9wcyAzB3P8ZqPJqtE5sDXNytoU37uQ'],     'serviceEndpoint': 'https://8ebfe0a36d9c.ngrok.io', }\n"
     ]
    },
    {
     "name": "stdout",
     "output_type": "stream",
     "text": [
      "\n",
      "---------------------------------------------------------------------\n",
      "\u001b[1mConnection Webhook Event Received: Connections Handler\u001b[0m\n",
      "Connection ID :  9cefe23d-3c17-4fcb-a425-403b325c2040\n",
      "State :  \u001b[34minvitation (invitation-received)\u001b[0m\n",
      "Routing State : none\n",
      "Connection with :  City-Agency\n",
      "Their Role :  inviter\n",
      "---------------------------------------------------------------------\n",
      "\n",
      "---------------------------------------------------------------------\n",
      "\u001b[1mConnection Webhook Event Received: Connections Handler\u001b[0m\n",
      "Connection ID :  9cefe23d-3c17-4fcb-a425-403b325c2040\n",
      "State :  \u001b[34mrequest (request-sent)\u001b[0m\n",
      "Routing State : none\n",
      "Connection with :  City-Agency\n",
      "Their Role :  inviter\n",
      "---------------------------------------------------------------------\n",
      "\n",
      "---------------------------------------------------------------------\n",
      "\u001b[1mConnection Webhook Event Received: Connections Handler\u001b[0m\n",
      "Connection ID :  9cefe23d-3c17-4fcb-a425-403b325c2040\n",
      "State :  \u001b[34mresponse (response-received)\u001b[0m\n",
      "Routing State : none\n",
      "Connection with :  City-Agency\n",
      "Their Role :  inviter\n",
      "---------------------------------------------------------------------\n",
      "\n",
      "---------------------------------------------------------------------\n",
      "\u001b[1mConnection Webhook Event Received: Connections Handler\u001b[0m\n",
      "Connection ID :  9cefe23d-3c17-4fcb-a425-403b325c2040\n",
      "State :  \u001b[34mactive (completed)\u001b[0m\n",
      "Routing State : none\n",
      "Connection with :  City-Agency\n",
      "Their Role :  inviter\n",
      "---------------------------------------------------------------------\n",
      "\u001b[1m\u001b[32m\n",
      "Connection ID: 9cefe23d-3c17-4fcb-a425-403b325c2040 is now active\u001b[0m\n"
     ]
    }
   ],
   "source": [
    "# Variables\n",
    "alias = \"undisclosedM1\"\n",
    "auto_accept = True\n",
    "\n",
    "# Receive connection invitation\n",
    "connection_id = manufacturer1_agent.receive_connection_invitation(alias=alias, auto_accept=auto_accept)"
   ]
  },
  {
   "cell_type": "code",
   "execution_count": 11,
   "id": "b2caefdd",
   "metadata": {},
   "outputs": [
    {
     "data": {
      "text/html": [
       "<div>\n",
       "<style scoped>\n",
       "    .dataframe tbody tr th:only-of-type {\n",
       "        vertical-align: middle;\n",
       "    }\n",
       "\n",
       "    .dataframe tbody tr th {\n",
       "        vertical-align: top;\n",
       "    }\n",
       "\n",
       "    .dataframe thead th {\n",
       "        text-align: right;\n",
       "    }\n",
       "</style>\n",
       "<table border=\"1\" class=\"dataframe\">\n",
       "  <thead>\n",
       "    <tr style=\"text-align: right;\">\n",
       "      <th></th>\n",
       "    </tr>\n",
       "  </thead>\n",
       "  <tbody>\n",
       "  </tbody>\n",
       "</table>\n",
       "</div>"
      ],
      "text/plain": [
       "Empty DataFrame\n",
       "Columns: []\n",
       "Index: []"
      ]
     },
     "execution_count": 11,
     "metadata": {},
     "output_type": "execute_result"
    }
   ],
   "source": [
    "duet.store.pandas"
   ]
  },
  {
   "cell_type": "markdown",
   "id": "58c407db",
   "metadata": {},
   "source": [
    "<div style=\"font-size: 25px\"><center><b>Break Point 2/3/4</b></center></div>\n",
    "<div style=\"font-size: 50px\"><center>💼 ➡️ 💼 / 💼 / 🏙️ </center></div><br>\n",
    "<center><b>Please proceed to the remaining Manufacturers. <br> If you have established a connection between the City and all Manufacturers, proceed to the City Notebook's Step 2.3</b></center>\n",
    "\n",
    "---"
   ]
  },
  {
   "cell_type": "markdown",
   "id": "22a8f1f9",
   "metadata": {},
   "source": [
    "### 3 – Create Presentation to Send Proof Presentation\n",
    "\n",
    "#### 3.1 – Create presentation that satisfies requirements of proof request\n",
    "Before you can present a presentation, you must identify the presentation record which you wish to respond to with a presentation. To do so, the `prepare_presentation()` function runs through the following steps: \n",
    "1. Get all proof requests that were sent through `connection_id`\n",
    "2. Get the most recent `presentation_exchange_id` and the corresponding `proof_request` from (1)\n",
    "3. Get the restrictions the City agent defined in `proof_request` from (2)\n",
    "4. Compare all VCs the Manufacturer1 agent has stored, and find (if available) a VC that satisfies the restrictions from (3)\n",
    "5. Return a presentation dictionary from a VC from (4) that satisfies all requirements. Generally, a presentation consists of three classes of attributes: <br>\n",
    "a. `requested_attributes`: Attributes that were signed by an issuer and have been revealed in the presentation process <br>\n",
    "b. `self_attested_attributes`: Attributes that the prover has self attested to in the presentation object. <br>\n",
    "c. `requested_predicates` (predicate proofs): Attribute values that have been proven to meet some statement. (TODO: Show how you can parse this information)"
   ]
  },
  {
   "cell_type": "code",
   "execution_count": null,
   "id": "07e5a7b8",
   "metadata": {},
   "outputs": [],
   "source": [
    "presentation, presentation_exchange_id = manufacturer1_agent.prepare_presentation(connection_id)\n",
    "presentation"
   ]
  },
  {
   "cell_type": "markdown",
   "id": "67ea3316",
   "metadata": {},
   "source": [
    "#### 3.2 – Send Presentation\n",
    "\n",
    "Send the presentation to the recipient of `presentation_exchange_id`"
   ]
  },
  {
   "cell_type": "code",
   "execution_count": null,
   "id": "27116f0b",
   "metadata": {},
   "outputs": [],
   "source": [
    "manufacturer1_agent.send_proof_presentation(presentation_exchange_id, presentation)"
   ]
  },
  {
   "cell_type": "markdown",
   "id": "529cde9e",
   "metadata": {},
   "source": [
    "<div style=\"font-size: 25px\"><center><b>Break Point 6/7/8</b></center></div>\n",
    "<div style=\"font-size: 50px\"><center>💼 ➡️ 💼 / 💼 / 🏙️ </center></div><br>\n",
    "<center><b>Please proceed to the remaining Manufacturers and run all cells between Steps 3 and 4.1 <br> If you have sent proof presentations from all manufacturers, proceed to the City Notebook's Step 3.3 </b></center>\n"
   ]
  },
  {
   "cell_type": "markdown",
   "id": "0ceead8c",
   "metadata": {},
   "source": [
    "---\n",
    "\n",
    "### 4 – Do Data Science\n",
    "\n",
    "#### 4.1 – Establish a Duet Connection: Send Duet invitation\n",
    "Duet is a package that allows you to exchange encrypted data and run privacy-preserving arithmetic operations on them (e.g., through homomorphic encryption or secure multiparty computation)."
   ]
  },
  {
   "cell_type": "code",
   "execution_count": 10,
   "id": "00ae00f8",
   "metadata": {},
   "outputs": [
    {
     "name": "stdout",
     "output_type": "stream",
     "text": [
      "🎤  🎸  ♪♪♪ Starting Duet ♫♫♫  🎻  🎹\n",
      "\n",
      "♫♫♫ >\u001b[93m DISCLAIMER\u001b[0m: \u001b[1mDuet is an experimental feature currently in beta.\n",
      "♫♫♫ > Use at your own risk.\n",
      "\u001b[0m\n",
      "\u001b[1m\n",
      "    > ❤️ \u001b[91mLove\u001b[0m \u001b[92mDuet\u001b[0m? \u001b[93mPlease\u001b[0m \u001b[94mconsider\u001b[0m \u001b[95msupporting\u001b[0m \u001b[91mour\u001b[0m \u001b[93mcommunity!\u001b[0m\n",
      "    > https://github.com/sponsors/OpenMined\u001b[1m\n",
      "\n",
      "♫♫♫ > Punching through firewall to OpenGrid Network Node at:\n",
      "♫♫♫ > http://ec2-18-218-7-180.us-east-2.compute.amazonaws.com:5000\n",
      "♫♫♫ >\n",
      "♫♫♫ > ...waiting for response from OpenGrid Network... \n",
      "♫♫♫ > \u001b[92mDONE!\u001b[0m\n",
      "\u001b[34mReset duet token config\u001b[0m\n",
      "\u001b[32mSet token config\u001b[0m\n",
      "\n",
      "♫♫♫ > \u001b[1mSTEP 1:\u001b[0m Sending Duet Token 281d18d324eeb20c81398f886c96a67a\n",
      "♫♫♫ > to Duet Partner City-Agency via Connection ID 9cefe23d-3c17-4fcb-a425-403b325c2040\n",
      "\n",
      "♫♫♫ >  \u001b[1mSTEP 2:\u001b[0m Awaiting Duet Token from Duet Partner...\n",
      "RECEIVED A MESSAGE!\n",
      "Duet Token : d953c327141f7f65eeb99127e36f592c\n",
      "\u001b[32mSet duet token partner as future\u001b[0m\n",
      "\n",
      "♫♫♫ >  \u001b[1m\u001b[32mDONE!\u001b[0m Partner's Duet Token: d953c327141f7f65eeb99127e36f592c\n",
      "♫♫♫ > Connecting...\n",
      "\n",
      "♫♫♫ > \u001b[92mCONNECTED!\u001b[0m\n",
      "\n",
      "♫♫♫ > DUET LIVE STATUS  *  Objects: 0  Requests: 0   Messages: 2  Request Handlers: 0                                \r"
     ]
    }
   ],
   "source": [
    "# Set up connection_id to use for duet connection\n",
    "manufacturer1_agent.set_duet_config(connection_id=connection_id)\n",
    "\n",
    "# Create duet invitation for city agent\n",
    "duet = sy.launch_duet(credential_exchanger=manufacturer1_agent)"
   ]
  },
  {
   "cell_type": "markdown",
   "id": "0b3eb822",
   "metadata": {
    "pycharm": {
     "name": "#%% md\n"
    }
   },
   "source": [
    "## 2 - Secure Multi-Party Computation"
   ]
  },
  {
   "cell_type": "code",
   "execution_count": null,
   "id": "771c5812",
   "metadata": {},
   "outputs": [],
   "source": [
    "# Step 8: test there is no data in the server atm\n",
    "duet_m1.store.pandas"
   ]
  },
  {
   "cell_type": "code",
   "execution_count": null,
   "id": "bd9c83fb",
   "metadata": {},
   "outputs": [],
   "source": [
    "age_data = th.tensor([50,23,72,83])\n",
    "age_data = age_data.tag(\"test_data_age\")\n",
    "age_data = age_data.describe(\"description for age_data\")\n",
    "age_data_pointer = age_data.send(duet_m1, pointable=True)"
   ]
  },
  {
   "cell_type": "code",
   "execution_count": null,
   "id": "4c9acc57",
   "metadata": {},
   "outputs": [],
   "source": [
    "duet_m1.store"
   ]
  },
  {
   "cell_type": "code",
   "execution_count": null,
   "id": "3f4a4ea2",
   "metadata": {},
   "outputs": [],
   "source": [
    "duet_m1.store.pandas"
   ]
  },
  {
   "cell_type": "code",
   "execution_count": null,
   "id": "e9e71bbd",
   "metadata": {},
   "outputs": [],
   "source": [
    "duet_m1.id"
   ]
  },
  {
   "cell_type": "code",
   "execution_count": null,
   "id": "297034e5",
   "metadata": {},
   "outputs": [],
   "source": [
    "duet_m1.name"
   ]
  },
  {
   "cell_type": "code",
   "execution_count": null,
   "id": "974eda6b",
   "metadata": {},
   "outputs": [],
   "source": [
    "duet_m1.target_id"
   ]
  },
  {
   "cell_type": "code",
   "execution_count": null,
   "id": "680c3cbf",
   "metadata": {},
   "outputs": [],
   "source": [
    "duet_m1.network_id"
   ]
  },
  {
   "cell_type": "code",
   "execution_count": null,
   "id": "f9da08bf",
   "metadata": {},
   "outputs": [],
   "source": [
    "#duet_city.store.pandas"
   ]
  },
  {
   "cell_type": "code",
   "execution_count": null,
   "id": "9b6d35f3",
   "metadata": {},
   "outputs": [],
   "source": [
    "# Step 9: Publish secret data\n",
    "\n",
    "x = torch.tensor([50,60,77]) # define torch\n",
    "x.send(duet_m1, pointable=True, tags=[\"TEST_#1_from_m1_to_ds\"], description=\"Dummy data\") # send torch to duet_m1\n",
    "\n",
    "x = torch.tensor([[1,2], [3,4]])\n",
    "x.send(duet_m1, pointable=True, tags=[\"TEST_#2_from_m1_to_ds\"], description=\"Test to multiply matrices\")"
   ]
  },
  {
   "cell_type": "code",
   "execution_count": null,
   "id": "5660f1f1",
   "metadata": {
    "collapsed": false,
    "jupyter": {
     "outputs_hidden": false
    },
    "pycharm": {
     "name": "#%%\n"
    }
   },
   "outputs": [],
   "source": [
    "# Step 10: verify that data was uploaded to the store\n",
    "duet_m1.store.pandas"
   ]
  },
  {
   "cell_type": "code",
   "execution_count": null,
   "id": "dbe165c4",
   "metadata": {
    "collapsed": false,
    "jupyter": {
     "outputs_hidden": false
    },
    "pycharm": {
     "name": "#%%\n"
    }
   },
   "outputs": [],
   "source": [
    "# Step 11: Authorize the requests ds can make\n",
    "duet_m1.requests.add_handler(action=\"accept\")"
   ]
  },
  {
   "cell_type": "code",
   "execution_count": null,
   "id": "f71f6c2d",
   "metadata": {
    "collapsed": false,
    "jupyter": {
     "outputs_hidden": false
    },
    "pycharm": {
     "name": "#%%\n"
    }
   },
   "outputs": [],
   "source": [
    "# Step 11: Authorize the requests ds can make\n",
    "duet_city.requests.add_handler(action=\"accept\")"
   ]
  },
  {
   "cell_type": "code",
   "execution_count": null,
   "id": "bc08a3bb",
   "metadata": {},
   "outputs": [],
   "source": []
  },
  {
   "cell_type": "code",
   "execution_count": null,
   "id": "f4544e5b",
   "metadata": {},
   "outputs": [],
   "source": []
  },
  {
   "cell_type": "markdown",
   "id": "6abb3650",
   "metadata": {},
   "source": [
    "## Terminate Controller\n",
    "\n",
    "Whenever you have finished with this notebook, be sure to terminate the controller. This is especially important if your business logic runs across multiple notebooks."
   ]
  },
  {
   "cell_type": "code",
   "execution_count": null,
   "id": "3c348732",
   "metadata": {},
   "outputs": [],
   "source": [
    "await agent_controller.terminate()"
   ]
  },
  {
   "cell_type": "code",
   "execution_count": null,
   "id": "042c1a38",
   "metadata": {},
   "outputs": [],
   "source": []
  }
 ],
 "metadata": {
  "kernelspec": {
   "display_name": "Python 3 (ipykernel)",
   "language": "python",
   "name": "python3"
  },
  "language_info": {
   "codemirror_mode": {
    "name": "ipython",
    "version": 3
   },
   "file_extension": ".py",
   "mimetype": "text/x-python",
   "name": "python",
   "nbconvert_exporter": "python",
   "pygments_lexer": "ipython3",
   "version": "3.9.5"
  }
 },
 "nbformat": 4,
 "nbformat_minor": 5
}
