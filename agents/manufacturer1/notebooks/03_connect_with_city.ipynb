{
 "cells": [
  {
   "cell_type": "markdown",
   "id": "5954e741",
   "metadata": {},
   "source": [
    "# PETs/TETs – Hyperledger Aries / PySyft – Manufacturer 1 (Holder) 🚗"
   ]
  },
  {
   "cell_type": "code",
   "execution_count": 1,
   "id": "e199003f",
   "metadata": {},
   "outputs": [
    {
     "data": {
      "application/javascript": [
       "document.title = '🚗 Manufacturer1'\n"
      ],
      "text/plain": [
       "<IPython.core.display.Javascript object>"
      ]
     },
     "metadata": {},
     "output_type": "display_data"
    }
   ],
   "source": [
    "%%javascript\n",
    "document.title = '🚗 Manufacturer1'"
   ]
  },
  {
   "cell_type": "markdown",
   "id": "96eb46ae",
   "metadata": {},
   "source": [
    "## PART 3: Connect with City to Analyze Data\n",
    "\n",
    "**What:** Share encrypted data with City agent in a trust- and privacy-preserving manner\n",
    "\n",
    "**Why:** Share data with City agent (e.g., to obtain funds)\n",
    "\n",
    "**How:** <br>\n",
    "1. [Initiate Manufacturer's AgentCommunicationManager (ACM)](#1)\n",
    "2. [Connect anonymously with the City agent via a multi-use SSI invitation](#2)\n",
    "3. [Prove Manufacturer1 Agent is a certified manufacturer via VCs](#3)\n",
    "4. [Establish anonymous Duet Connection to share encrypted data](#4)\n",
    "\n",
    "**Accompanying Agents and Notebooks:**\n",
    "* City 🏙️️: `03_connect_with_manufacturer1.ipynb`\n",
    "* Optional – Manufacturer2 🚛: `03_connect_with_city.ipynb`\n",
    "* Optional – Manufacturer3 🛵: `03_connect_with_city.ipynb`"
   ]
  },
  {
   "cell_type": "markdown",
   "id": "9275f93a",
   "metadata": {
    "pycharm": {
     "name": "#%% md\n"
    }
   },
   "source": [
    "---\n",
    "\n",
    "### 0 - Setup\n",
    "#### 0.1 - Imports"
   ]
  },
  {
   "cell_type": "code",
   "execution_count": 2,
   "id": "70a97199",
   "metadata": {
    "pycharm": {
     "name": "#%%\n"
    }
   },
   "outputs": [],
   "source": [
    "import os\n",
    "\n",
    "import numpy as np\n",
    "import pandas as pd\n",
    "import syft as sy\n",
    "import torch\n",
    "from aries_cloudcontroller import AriesAgentController\n",
    "\n",
    "from libs.agent_connection_manager import CredentialHolder"
   ]
  },
  {
   "cell_type": "markdown",
   "id": "aca5e61f",
   "metadata": {
    "pycharm": {
     "name": "#%% md\n"
    }
   },
   "source": [
    "#### 0.2 – Variables"
   ]
  },
  {
   "cell_type": "code",
   "execution_count": 3,
   "id": "db6a66bb",
   "metadata": {
    "pycharm": {
     "name": "#%%\n"
    }
   },
   "outputs": [],
   "source": [
    "# Get relevant details from .env file\n",
    "api_key = os.getenv(\"ACAPY_ADMIN_API_KEY\")\n",
    "admin_url = os.getenv(\"ADMIN_URL\")\n",
    "webhook_port = int(os.getenv(\"WEBHOOK_PORT\"))\n",
    "webhook_host = \"0.0.0.0\""
   ]
  },
  {
   "cell_type": "markdown",
   "id": "70496dd9",
   "metadata": {
    "pycharm": {
     "name": "#%% md\n"
    }
   },
   "source": [
    "---\n",
    "\n",
    "<a id=1></a>\n",
    "\n",
    "### 1 – Initiate Manufacturer1 Agent\n",
    "#### 1.1 – Init ACA-PY agent controller"
   ]
  },
  {
   "cell_type": "code",
   "execution_count": 4,
   "id": "016e2927",
   "metadata": {},
   "outputs": [
    {
     "name": "stdout",
     "output_type": "stream",
     "text": [
      "Initialising a controller with admin api at http://manufacturer1-agent:3021 and an api key of adminApiKey\n"
     ]
    }
   ],
   "source": [
    "# Setup\n",
    "agent_controller = AriesAgentController(admin_url,api_key)\n",
    "print(f\"Initialising a controller with admin api at {admin_url} and an api key of {api_key}\")"
   ]
  },
  {
   "cell_type": "markdown",
   "id": "bb7a2bc6",
   "metadata": {},
   "source": [
    "#### 1.2 – Start Webhook Server to enable communication with other agents\n",
    "@todo: is communication with other agents, or with other docker containers?"
   ]
  },
  {
   "cell_type": "code",
   "execution_count": 5,
   "id": "583be92b",
   "metadata": {},
   "outputs": [
    {
     "name": "stdout",
     "output_type": "stream",
     "text": [
      "Listening for webhooks from agent at http://0.0.0.0:3010\n"
     ]
    }
   ],
   "source": [
    "# Listen on webhook server\n",
    "await agent_controller.init_webhook_server(webhook_host, webhook_port)\n",
    "print(f\"Listening for webhooks from agent at http://{webhook_host}:{webhook_port}\")"
   ]
  },
  {
   "cell_type": "markdown",
   "id": "59cef782",
   "metadata": {},
   "source": [
    "#### 1.3 – Init ACM Credential Holder"
   ]
  },
  {
   "cell_type": "code",
   "execution_count": 7,
   "id": "a2883828",
   "metadata": {
    "collapsed": false,
    "jupyter": {
     "outputs_hidden": false
    },
    "pycharm": {
     "name": "#%%\n"
    }
   },
   "outputs": [
    {
     "name": "stdout",
     "output_type": "stream",
     "text": [
      "\u001b[1m\u001b[32mSuccessfully initiated AgentConnectionManager for a(n) Holder ACA-PY agent\u001b[0m\n"
     ]
    },
    {
     "data": {
      "text/plain": [
       "{'results': [{'referent': 'isManufacturer-VC',\n",
       "   'attrs': {'manufacturerCountry': 'DE',\n",
       "    'manufacturerName': 'Manufacturer1',\n",
       "    'isManufacturer': 'TRUE',\n",
       "    'manufacturerCity': 'Berlin'},\n",
       "   'schema_id': 'TYi8HEnJGmhSPXrURy5Yps:2:certify-manufacturer:0.0.1',\n",
       "   'cred_def_id': 'TYi8HEnJGmhSPXrURy5Yps:3:CL:108774:default',\n",
       "   'rev_reg_id': None,\n",
       "   'cred_rev_id': None}]}"
      ]
     },
     "execution_count": 7,
     "metadata": {},
     "output_type": "execute_result"
    }
   ],
   "source": [
    "# The CredentialHolder registers relevant webhook servers and event listeners\n",
    "manufacturer1_agent = CredentialHolder(agent_controller)\n",
    "\n",
    "# Verify if Manufacturer already has a VC\n",
    "# (if there are manufacturer credentials, there is no need to execute the notebook)\n",
    "manufacturer1_agent.get_credentials()"
   ]
  },
  {
   "cell_type": "markdown",
   "id": "d3c86f54",
   "metadata": {},
   "source": [
    "---\n",
    "\n",
    "<a id=2></a>\n",
    "\n",
    "### 2 – Establish a connection with the City agent 🏙️\n",
    "A connection with the credential issuer (i.e., the authority agent) must be established before a VC can be received. In this scenario, the manufacturer1 requests a connection with the Authority to be certified as an official city agency. Thus, the manufacturer1 agent sends an invitation to the Authority. In real life, the invitation can be shared via video call, phone call, or E-Mail. In this PoC, this is represented by copy and pasting the invitation into the manufacturers' notebooks.\n",
    "\n",
    "#### 2.1 Join invitation of City agent 🏙️\n",
    "Copy and paste the multi-use invitation of the city agent, and establish a connection with them."
   ]
  },
  {
   "cell_type": "code",
   "execution_count": 8,
   "id": "1be832cf",
   "metadata": {},
   "outputs": [
    {
     "name": "stdout",
     "output_type": "stream",
     "text": [
      "\u001b[1m\u001b[35mPlease enter invitation received by external agent:\u001b[0m\n"
     ]
    },
    {
     "name": "stdin",
     "output_type": "stream",
     "text": [
      "\u001b[35mInvitation: \u001b[0m {     '@id': '066cdb24-e986-4ecc-abdd-25185e203528',     '@type': 'did:sov:BzCbsNYhMrjHiqZDTUASHg;spec/connections/1.0/invitation',     'label': 'City-Agency',     'recipientKeys': ['c7xwR6tuKMSrVStE6iCxjR5y52H8mntdAPwcda2jgwG'],     'serviceEndpoint': 'http://a1f0-80-134-219-30.ngrok.io', }\n"
     ]
    },
    {
     "name": "stdout",
     "output_type": "stream",
     "text": [
      "\n",
      "---------------------------------------------------------------------\n",
      "\u001b[1mConnection Webhook Event Received: Connections Handler\u001b[0m\n",
      "Connection ID :  efd65e77-cbd2-414d-839b-3a998fd7f342\n",
      "State :  \u001b[34minvitation (invitation-received)\u001b[0m\n",
      "Routing State : none\n",
      "Connection with :  City-Agency\n",
      "Their Role :  inviter\n",
      "---------------------------------------------------------------------\n",
      "\n",
      "---------------------------------------------------------------------\n",
      "\u001b[1mConnection Webhook Event Received: Connections Handler\u001b[0m\n",
      "Connection ID :  efd65e77-cbd2-414d-839b-3a998fd7f342\n",
      "State :  \u001b[34minvitation (invitation-received)\u001b[0m\n",
      "Routing State : none\n",
      "Connection with :  City-Agency\n",
      "Their Role :  inviter\n",
      "---------------------------------------------------------------------\n",
      "\n",
      "---------------------------------------------------------------------\n",
      "\u001b[1mConnection Webhook Event Received: Connections Handler\u001b[0m\n",
      "Connection ID :  efd65e77-cbd2-414d-839b-3a998fd7f342\n",
      "State :  \u001b[34mrequest (request-sent)\u001b[0m\n",
      "Routing State : none\n",
      "Connection with :  City-Agency\n",
      "Their Role :  inviter\n",
      "---------------------------------------------------------------------\n",
      "\n",
      "---------------------------------------------------------------------\n",
      "\u001b[1mConnection Webhook Event Received: Connections Handler\u001b[0m\n",
      "Connection ID :  efd65e77-cbd2-414d-839b-3a998fd7f342\n",
      "State :  \u001b[34mrequest (request-sent)\u001b[0m\n",
      "Routing State : none\n",
      "Connection with :  City-Agency\n",
      "Their Role :  inviter\n",
      "---------------------------------------------------------------------\n",
      "\n",
      "---------------------------------------------------------------------\n",
      "\u001b[1mConnection Webhook Event Received: Connections Handler\u001b[0m\n",
      "Connection ID :  efd65e77-cbd2-414d-839b-3a998fd7f342\n",
      "State :  \u001b[34mresponse (response-received)\u001b[0m\n",
      "Routing State : none\n",
      "Connection with :  City-Agency\n",
      "Their Role :  inviter\n",
      "---------------------------------------------------------------------\n",
      "\n",
      "---------------------------------------------------------------------\n",
      "\u001b[1mConnection Webhook Event Received: Connections Handler\u001b[0m\n",
      "Connection ID :  efd65e77-cbd2-414d-839b-3a998fd7f342\n",
      "State :  \u001b[34mresponse (response-received)\u001b[0m\n",
      "Routing State : none\n",
      "Connection with :  City-Agency\n",
      "Their Role :  inviter\n",
      "---------------------------------------------------------------------\n",
      "\n",
      "---------------------------------------------------------------------\n",
      "\u001b[1mConnection Webhook Event Received: Connections Handler\u001b[0m\n",
      "Connection ID :  efd65e77-cbd2-414d-839b-3a998fd7f342\n",
      "State :  \u001b[34mactive (completed)\u001b[0m\n",
      "Routing State : none\n",
      "Connection with :  City-Agency\n",
      "Their Role :  inviter\n",
      "---------------------------------------------------------------------\n",
      "\u001b[1m\u001b[32m\n",
      "Connection ID: efd65e77-cbd2-414d-839b-3a998fd7f342 is now active\u001b[0m\n",
      "\n",
      "---------------------------------------------------------------------\n",
      "\u001b[1mConnection Webhook Event Received: Connections Handler\u001b[0m\n",
      "Connection ID :  efd65e77-cbd2-414d-839b-3a998fd7f342\n",
      "State :  \u001b[34mactive (completed)\u001b[0m\n",
      "Routing State : none\n",
      "Connection with :  City-Agency\n",
      "Their Role :  inviter\n",
      "---------------------------------------------------------------------\n",
      "\u001b[1m\u001b[32m\n",
      "Connection ID: efd65e77-cbd2-414d-839b-3a998fd7f342 is now active\u001b[0m\n"
     ]
    }
   ],
   "source": [
    "# Variables\n",
    "alias = \"undisclosedM1\"\n",
    "auto_accept = True\n",
    "\n",
    "# Receive connection invitation\n",
    "connection_id = manufacturer1_agent.receive_connection_invitation(alias=alias, auto_accept=auto_accept)"
   ]
  },
  {
   "cell_type": "markdown",
   "id": "0b4a0f1b",
   "metadata": {},
   "source": [
    "<div style=\"font-size: 25px\"><center><b>Break Point 2 / 3 / 4</b></center></div>\n",
    "<div style=\"font-size: 50px\"><center>🚗 ➡️ 🚛 / 🛵 / 🏙️ </center></div><br>\n",
    "<center><b>Please proceed to the remaining Manufacturers. <br> If you have established a connection between the City and all Manufacturers, proceed to the City Notebook's Step 2.2</b></center>\n",
    "\n",
    "---\n",
    "\n",
    "<a id=3></a>\n",
    "### 3 – Create Presentation to Send Proof Presentation\n",
    "\n",
    "#### 3.1 – Create presentation that satisfies requirements of proof request\n",
    "Before you can present a presentation, you must identify the presentation record which you wish to respond to with a presentation. To do so, the `prepare_presentation()` function runs through the following steps: \n",
    "1. Get all proof requests that were sent through `connection_id`\n",
    "2. Get the most recent `presentation_exchange_id` and the corresponding `proof_request` from (1)\n",
    "3. Get the restrictions the City agent defined in `proof_request` from (2)\n",
    "4. Compare all VCs the Manufacturer1 agent has stored, and find (if available) a VC that satisfies the restrictions from (3)\n",
    "5. Return a presentation dictionary from a VC from (4) that satisfies all requirements. Generally, a presentation consists of three classes of attributes: <br>\n",
    "a. `requested_attributes`: Attributes that were signed by an issuer and have been revealed in the presentation process <br>\n",
    "b. `self_attested_attributes`: Attributes that the prover has self attested to in the presentation object. <br>\n",
    "c. `requested_predicates` (predicate proofs): Attribute values that have been proven to meet some statement. (TODO: Show how you can parse this information)"
   ]
  },
  {
   "cell_type": "code",
   "execution_count": 8,
   "id": "56ad4972",
   "metadata": {},
   "outputs": [
    {
     "name": "stdout",
     "output_type": "stream",
     "text": [
      "\u001b[34m> Found proof_request with presentation_exchange_id 990d95d6-0842-4291-b1c5-40fafc0ef0c4\u001b[0m\n",
      "\u001b[34m> Restrictions for a suitable proof: {'isManufacturer': {'requirements': {'schema_id': 'AkvQpXzutUhSeeiuZbVcbq:2:certify-manufacturer:0.0.1'}, 'request_attr_name': '0_isManufacturer_uuid'}}\u001b[0m\n",
      "\u001b[34m> Attribute request for 'isManufacturer' can be satisfied by Credential with VC 'isManufacturer-VC-M1'\u001b[0m\n",
      "\u001b[34m> Generate the proof presentation : \u001b[0m\n",
      "{\n",
      "    'requested_attributes': {\n",
      "        '0_isManufacturer_uuid': {\n",
      "            'cred_id': 'isManufacturer-VC-M1',\n",
      "            'revealed': True,\n",
      "        },\n",
      "    },\n",
      "    'requested_predicates': {},\n",
      "    'self_attested_attributes': {},\n",
      "}\n"
     ]
    }
   ],
   "source": [
    "presentation, presentation_exchange_id = manufacturer1_agent.prepare_presentation(connection_id)"
   ]
  },
  {
   "cell_type": "markdown",
   "id": "6192dbf5",
   "metadata": {},
   "source": [
    "#### 3.2 – Send Presentation\n",
    "\n",
    "Overall, the proof-presentation procedure has six steps. **R** represents the Relying Party (here the City agent), and **H** the Holder (i.e., the manufacturers).\n",
    "\n",
    "| Step | Status | Agent | Description | Function |\n",
    "| --- | --- | --- | --- | --- |\n",
    "| 1 | `request_sent` |  R | R requests a proof defined in `manufacturer_proof_request` | `send_proof_request()` |\n",
    "| 2 | `request_received` | H | H receives a proof request from R | - |\n",
    "| 3 | `presentation-sent` | H | H sends proof presentation to R | `send_proof_presentation()` |\n",
    "| 4 | `presentation-received` | R  | R receives presentation from H | - |\n",
    "| 5 | `verified` | R | R verifies presentation received from H | `verify_proof_presentation()` |\n",
    "| 6 | `presentation_acked` | H | H knows, that R verified the presentation | - |\n",
    "\n",
    "\n",
    "Now, send the presentation to the recipient of `presentation_exchange_id`. "
   ]
  },
  {
   "cell_type": "code",
   "execution_count": 9,
   "id": "986ab73d",
   "metadata": {},
   "outputs": [
    {
     "name": "stdout",
     "output_type": "stream",
     "text": [
      "\n",
      "---------------------------------------------------------------------\n",
      "\u001b[1mConnection Webhook Event Received: Present-Proof Handler\u001b[0m\n",
      "Connection ID :  44156100-fe2b-4a1d-b1bc-d218706906df\n",
      "Presentation Exchange ID :  990d95d6-0842-4291-b1c5-40fafc0ef0c4\n",
      "Protocol State :  \u001b[34mpresentation_sent\u001b[0m\n",
      "Agent Role :  prover\n",
      "Initiator :  external\n",
      "---------------------------------------------------------------------\n",
      "\n",
      "---------------------------------------------------------------------\n",
      "\u001b[1mConnection Webhook Event Received: Present-Proof Handler\u001b[0m\n",
      "Connection ID :  44156100-fe2b-4a1d-b1bc-d218706906df\n",
      "Presentation Exchange ID :  990d95d6-0842-4291-b1c5-40fafc0ef0c4\n",
      "Protocol State :  \u001b[34mpresentation_acked\u001b[0m\n",
      "Agent Role :  prover\n",
      "Initiator :  external\n",
      "---------------------------------------------------------------------\n",
      "\u001b[1m\u001b[32m\n",
      "Presentation Exchange ID: 990d95d6-0842-4291-b1c5-40fafc0ef0c4 is acknowledged by Relying Party\u001b[0m\n"
     ]
    }
   ],
   "source": [
    "manufacturer1_agent.send_proof_presentation(presentation_exchange_id, presentation)"
   ]
  },
  {
   "cell_type": "markdown",
   "id": "f6965763",
   "metadata": {},
   "source": [
    "<div style=\"font-size: 25px\"><center><b>Break Point 6 / 7 / 8</b></center></div>\n",
    "<div style=\"font-size: 50px\"><center>🚗 ➡️ 🚛 / 🛵 / 🏙️ </center></div><br>\n",
    "<center><b>Please proceed to the remaining Manufacturers and run all cells between Steps 3 and 4.1 <br> If you have sent proof presentations from all manufacturers, proceed to the City Notebook's Step 3.3 </b></center>\n",
    "\n",
    "\n",
    "---\n",
    "<a id=4></a>\n",
    "### 4 – Do Data Science\n",
    "Assuming that the City agent will acknowledge the proofs and deem them to be correct, proceed by inviting the City agent to a Duet Connection.\n",
    "\n",
    "\n",
    "#### 4.1 – Establish a Duet Connection with City Agent: Send Duet invitation\n",
    "Duet is a package that allows you to exchange encrypted data and run privacy-preserving arithmetic operations on them (e.g., through homomorphic encryption or secure multiparty computation)."
   ]
  },
  {
   "cell_type": "code",
   "execution_count": 10,
   "id": "dd6cab90",
   "metadata": {},
   "outputs": [
    {
     "name": "stdout",
     "output_type": "stream",
     "text": [
      "🎤  🎸  ♪♪♪ Starting Duet ♫♫♫  🎻  🎹\n",
      "\n",
      "♫♫♫ >\u001b[93m DISCLAIMER\u001b[0m: \u001b[1mDuet is an experimental feature currently in beta.\n",
      "♫♫♫ > Use at your own risk.\n",
      "\u001b[0m\n",
      "\u001b[1m\n",
      "    > ❤️ \u001b[91mLove\u001b[0m \u001b[92mDuet\u001b[0m? \u001b[93mPlease\u001b[0m \u001b[94mconsider\u001b[0m \u001b[95msupporting\u001b[0m \u001b[91mour\u001b[0m \u001b[93mcommunity!\u001b[0m\n",
      "    > https://github.com/sponsors/OpenMined\u001b[1m\n",
      "\n",
      "♫♫♫ > Punching through firewall to OpenGrid Network Node at:\n",
      "♫♫♫ > http://ec2-18-218-7-180.us-east-2.compute.amazonaws.com:5000\n",
      "♫♫♫ >\n",
      "♫♫♫ > ...waiting for response from OpenGrid Network... \n",
      "♫♫♫ > \u001b[92mDONE!\u001b[0m\n",
      "\n",
      "♫♫♫ > \u001b[1mSTEP 1:\u001b[0m Sending Duet Token 72913fd12c47f2a260843fd10ec4605e\n",
      "♫♫♫ > to Duet Partner City-Agency\n",
      "♫♫♫ > via Connection ID 44156100-fe2b-4a1d-b1bc-d218706906df\n",
      "\u001b[1m\u001b[32m♫♫♫ > Done!\u001b[0m\n",
      "\n",
      "♫♫♫ > \u001b[1mSTEP 2:\u001b[0m Awaiting Duet Token from Duet Partner...\n",
      "\n",
      "♫♫♫ > \u001b[1m\u001b[32mDONE!\u001b[0m Partner's Duet Token: d2d262a9be0f4fb8e856ae19a561ecba\n",
      "♫♫♫ > Connecting...\n",
      "\n",
      "♫♫♫ > \u001b[92mCONNECTED!\u001b[0m\n",
      "\n",
      "♫♫♫ > DUET LIVE STATUS  -  Objects: 1  Requests: 0   Messages: 23  Request Handlers: 1                                \r"
     ]
    }
   ],
   "source": [
    "# Set up connection_id to use for duet connection\n",
    "manufacturer1_agent._update_connection(connection_id=connection_id, is_duet_connection=True, reset_duet=True)\n",
    "\n",
    "# Create duet invitation for city agent\n",
    "duet = sy.launch_duet(credential_exchanger=manufacturer1_agent)"
   ]
  },
  {
   "cell_type": "markdown",
   "id": "cb0bdbde",
   "metadata": {
    "pycharm": {
     "name": "#%% md\n"
    }
   },
   "source": [
    "#### 4.2 - Load data to duet store"
   ]
  },
  {
   "cell_type": "code",
   "execution_count": 11,
   "id": "b0d2017d",
   "metadata": {},
   "outputs": [
    {
     "name": "stdout",
     "output_type": "stream",
     "text": [
      "♫♫♫ > DUET LIVE STATUS  -  Objects: 0  Requests: 0   Messages: 2  Request Handlers: 0                                \r"
     ]
    },
    {
     "data": {
      "text/html": [
       "<div>\n",
       "<style scoped>\n",
       "    .dataframe tbody tr th:only-of-type {\n",
       "        vertical-align: middle;\n",
       "    }\n",
       "\n",
       "    .dataframe tbody tr th {\n",
       "        vertical-align: top;\n",
       "    }\n",
       "\n",
       "    .dataframe thead th {\n",
       "        text-align: right;\n",
       "    }\n",
       "</style>\n",
       "<table border=\"1\" class=\"dataframe\">\n",
       "  <thead>\n",
       "    <tr style=\"text-align: right;\">\n",
       "      <th></th>\n",
       "    </tr>\n",
       "  </thead>\n",
       "  <tbody>\n",
       "  </tbody>\n",
       "</table>\n",
       "</div>"
      ],
      "text/plain": [
       "Empty DataFrame\n",
       "Columns: []\n",
       "Index: []"
      ]
     },
     "execution_count": 11,
     "metadata": {},
     "output_type": "execute_result"
    }
   ],
   "source": [
    "# Verify data store of duet\n",
    "duet.store.pandas  # There should only be an MPC session statement by the City agent"
   ]
  },
  {
   "cell_type": "markdown",
   "id": "54ae7f13",
   "metadata": {
    "pycharm": {
     "name": "#%% md\n"
    }
   },
   "source": [
    "Process data before loading it to the duet store. We take a synthetically created dataset of CO2 emission per trip across the City Agent's City (in this case Berlin, Germany)."
   ]
  },
  {
   "cell_type": "code",
   "execution_count": 12,
   "id": "a018f604",
   "metadata": {},
   "outputs": [
    {
     "data": {
      "text/html": [
       "<div>\n",
       "<style scoped>\n",
       "    .dataframe tbody tr th:only-of-type {\n",
       "        vertical-align: middle;\n",
       "    }\n",
       "\n",
       "    .dataframe tbody tr th {\n",
       "        vertical-align: top;\n",
       "    }\n",
       "\n",
       "    .dataframe thead th {\n",
       "        text-align: right;\n",
       "    }\n",
       "</style>\n",
       "<table border=\"1\" class=\"dataframe\">\n",
       "  <thead>\n",
       "    <tr style=\"text-align: right;\">\n",
       "      <th></th>\n",
       "      <th>zipcode</th>\n",
       "    </tr>\n",
       "  </thead>\n",
       "  <tbody>\n",
       "    <tr>\n",
       "      <th>0</th>\n",
       "      <td>10115</td>\n",
       "    </tr>\n",
       "    <tr>\n",
       "      <th>1</th>\n",
       "      <td>10117</td>\n",
       "    </tr>\n",
       "    <tr>\n",
       "      <th>2</th>\n",
       "      <td>10119</td>\n",
       "    </tr>\n",
       "    <tr>\n",
       "      <th>3</th>\n",
       "      <td>10178</td>\n",
       "    </tr>\n",
       "    <tr>\n",
       "      <th>4</th>\n",
       "      <td>10179</td>\n",
       "    </tr>\n",
       "  </tbody>\n",
       "</table>\n",
       "</div>"
      ],
      "text/plain": [
       "   zipcode\n",
       "0    10115\n",
       "1    10117\n",
       "2    10119\n",
       "3    10178\n",
       "4    10179"
      ]
     },
     "execution_count": 12,
     "metadata": {},
     "output_type": "execute_result"
    }
   ],
   "source": [
    "# Get zipcode data (zipcode data from https://daten.odis-berlin.de/de/dataset/plz/)\n",
    "df_zipcode = pd.read_csv(\"data/geo/berlin_zipcodes.csv\").rename(columns={\"plz\":\"zipcode\"})\n",
    "valid_zipcodes = list(df_zipcode.zipcode)\n",
    "df_zipcode.head()"
   ]
  },
  {
   "cell_type": "code",
   "execution_count": 13,
   "id": "58f1bcd8",
   "metadata": {
    "collapsed": false,
    "jupyter": {
     "outputs_hidden": false
    },
    "pycharm": {
     "name": "#%%\n"
    }
   },
   "outputs": [
    {
     "data": {
      "text/html": [
       "<div>\n",
       "<style scoped>\n",
       "    .dataframe tbody tr th:only-of-type {\n",
       "        vertical-align: middle;\n",
       "    }\n",
       "\n",
       "    .dataframe tbody tr th {\n",
       "        vertical-align: top;\n",
       "    }\n",
       "\n",
       "    .dataframe thead th {\n",
       "        text-align: right;\n",
       "    }\n",
       "</style>\n",
       "<table border=\"1\" class=\"dataframe\">\n",
       "  <thead>\n",
       "    <tr style=\"text-align: right;\">\n",
       "      <th></th>\n",
       "      <th>i</th>\n",
       "      <th>vehicle_id</th>\n",
       "      <th>manufacturer_id</th>\n",
       "      <th>zipcode</th>\n",
       "      <th>timestamp</th>\n",
       "      <th>latlon</th>\n",
       "      <th>dist</th>\n",
       "      <th>seconds</th>\n",
       "      <th>co2_grams</th>\n",
       "      <th>total_dist</th>\n",
       "      <th>total_seconds</th>\n",
       "      <th>total_co2_grams</th>\n",
       "      <th>timestamp_tripstart</th>\n",
       "      <th>avg_kmperhour</th>\n",
       "      <th>avg_co2perkm</th>\n",
       "      <th>trip_id</th>\n",
       "      <th>hour</th>\n",
       "    </tr>\n",
       "  </thead>\n",
       "  <tbody>\n",
       "    <tr>\n",
       "      <th>272</th>\n",
       "      <td>0</td>\n",
       "      <td>V59200848</td>\n",
       "      <td>V00274</td>\n",
       "      <td>12526</td>\n",
       "      <td>2021-08-19 16:01:26</td>\n",
       "      <td>(52.4009205, 13.5599037)</td>\n",
       "      <td>0.00</td>\n",
       "      <td>0.0</td>\n",
       "      <td>0.00</td>\n",
       "      <td>0.00</td>\n",
       "      <td>0.0</td>\n",
       "      <td>0.0</td>\n",
       "      <td>2021-08-19 16:01:26</td>\n",
       "      <td>0.00</td>\n",
       "      <td>0.000000</td>\n",
       "      <td>9</td>\n",
       "      <td>16</td>\n",
       "    </tr>\n",
       "    <tr>\n",
       "      <th>273</th>\n",
       "      <td>1</td>\n",
       "      <td>V59200848</td>\n",
       "      <td>V00274</td>\n",
       "      <td>12526</td>\n",
       "      <td>2021-08-19 16:01:28</td>\n",
       "      <td>(52.4010016, 13.5602275)</td>\n",
       "      <td>0.02</td>\n",
       "      <td>2.0</td>\n",
       "      <td>2.32</td>\n",
       "      <td>0.02</td>\n",
       "      <td>2.0</td>\n",
       "      <td>2.0</td>\n",
       "      <td>2021-08-19 16:01:26</td>\n",
       "      <td>36.00</td>\n",
       "      <td>100.000000</td>\n",
       "      <td>9</td>\n",
       "      <td>16</td>\n",
       "    </tr>\n",
       "    <tr>\n",
       "      <th>274</th>\n",
       "      <td>2</td>\n",
       "      <td>V59200848</td>\n",
       "      <td>V00274</td>\n",
       "      <td>12526</td>\n",
       "      <td>2021-08-19 16:01:31</td>\n",
       "      <td>(52.4010917, 13.5606267)</td>\n",
       "      <td>0.03</td>\n",
       "      <td>3.0</td>\n",
       "      <td>2.79</td>\n",
       "      <td>0.05</td>\n",
       "      <td>5.0</td>\n",
       "      <td>5.0</td>\n",
       "      <td>2021-08-19 16:01:26</td>\n",
       "      <td>36.00</td>\n",
       "      <td>100.000000</td>\n",
       "      <td>9</td>\n",
       "      <td>16</td>\n",
       "    </tr>\n",
       "    <tr>\n",
       "      <th>275</th>\n",
       "      <td>3</td>\n",
       "      <td>V59200848</td>\n",
       "      <td>V00274</td>\n",
       "      <td>12526</td>\n",
       "      <td>2021-08-19 16:01:34</td>\n",
       "      <td>(52.4011486, 13.5609296)</td>\n",
       "      <td>0.02</td>\n",
       "      <td>3.0</td>\n",
       "      <td>1.40</td>\n",
       "      <td>0.07</td>\n",
       "      <td>8.0</td>\n",
       "      <td>6.0</td>\n",
       "      <td>2021-08-19 16:01:26</td>\n",
       "      <td>31.50</td>\n",
       "      <td>85.714286</td>\n",
       "      <td>9</td>\n",
       "      <td>16</td>\n",
       "    </tr>\n",
       "    <tr>\n",
       "      <th>276</th>\n",
       "      <td>4</td>\n",
       "      <td>V59200848</td>\n",
       "      <td>V00274</td>\n",
       "      <td>12526</td>\n",
       "      <td>2021-08-19 16:01:42</td>\n",
       "      <td>(52.4012444, 13.56144)</td>\n",
       "      <td>0.04</td>\n",
       "      <td>8.0</td>\n",
       "      <td>2.24</td>\n",
       "      <td>0.11</td>\n",
       "      <td>16.0</td>\n",
       "      <td>8.0</td>\n",
       "      <td>2021-08-19 16:01:26</td>\n",
       "      <td>24.75</td>\n",
       "      <td>72.727273</td>\n",
       "      <td>9</td>\n",
       "      <td>16</td>\n",
       "    </tr>\n",
       "  </tbody>\n",
       "</table>\n",
       "</div>"
      ],
      "text/plain": [
       "     i vehicle_id manufacturer_id  zipcode            timestamp  \\\n",
       "272  0  V59200848          V00274    12526  2021-08-19 16:01:26   \n",
       "273  1  V59200848          V00274    12526  2021-08-19 16:01:28   \n",
       "274  2  V59200848          V00274    12526  2021-08-19 16:01:31   \n",
       "275  3  V59200848          V00274    12526  2021-08-19 16:01:34   \n",
       "276  4  V59200848          V00274    12526  2021-08-19 16:01:42   \n",
       "\n",
       "                       latlon  dist  seconds  co2_grams  total_dist  \\\n",
       "272  (52.4009205, 13.5599037)  0.00      0.0       0.00        0.00   \n",
       "273  (52.4010016, 13.5602275)  0.02      2.0       2.32        0.02   \n",
       "274  (52.4010917, 13.5606267)  0.03      3.0       2.79        0.05   \n",
       "275  (52.4011486, 13.5609296)  0.02      3.0       1.40        0.07   \n",
       "276    (52.4012444, 13.56144)  0.04      8.0       2.24        0.11   \n",
       "\n",
       "     total_seconds  total_co2_grams  timestamp_tripstart  avg_kmperhour  \\\n",
       "272            0.0              0.0  2021-08-19 16:01:26           0.00   \n",
       "273            2.0              2.0  2021-08-19 16:01:26          36.00   \n",
       "274            5.0              5.0  2021-08-19 16:01:26          36.00   \n",
       "275            8.0              6.0  2021-08-19 16:01:26          31.50   \n",
       "276           16.0              8.0  2021-08-19 16:01:26          24.75   \n",
       "\n",
       "     avg_co2perkm  trip_id  hour  \n",
       "272      0.000000        9    16  \n",
       "273    100.000000        9    16  \n",
       "274    100.000000        9    16  \n",
       "275     85.714286        9    16  \n",
       "276     72.727273        9    16  "
      ]
     },
     "execution_count": 13,
     "metadata": {},
     "output_type": "execute_result"
    }
   ],
   "source": [
    "# Get trip data\n",
    "df_co2 = pd.read_csv(\"data/trips/data.csv\", index_col=0)\n",
    "df_co2 = df_co2[df_co2.zipcode.isin(valid_zipcodes)]\n",
    "df_co2[\"hour\"] = df_co2.timestamp.apply(lambda x: int(x[11:13]))\n",
    "df_co2.head()"
   ]
  },
  {
   "cell_type": "markdown",
   "id": "120cc65e",
   "metadata": {
    "pycharm": {
     "name": "#%% md\n"
    }
   },
   "source": [
    "The trip data is then grouped by zipcode to sum the CO2 emission per hour per zipcode.\n"
   ]
  },
  {
   "cell_type": "code",
   "execution_count": 14,
   "id": "abf803bb",
   "metadata": {
    "collapsed": false,
    "jupyter": {
     "outputs_hidden": false
    },
    "pycharm": {
     "name": "#%%\n"
    }
   },
   "outputs": [
    {
     "name": "stdout",
     "output_type": "stream",
     "text": [
      "(194, 24)\n"
     ]
    },
    {
     "data": {
      "text/html": [
       "<div>\n",
       "<style scoped>\n",
       "    .dataframe tbody tr th:only-of-type {\n",
       "        vertical-align: middle;\n",
       "    }\n",
       "\n",
       "    .dataframe tbody tr th {\n",
       "        vertical-align: top;\n",
       "    }\n",
       "\n",
       "    .dataframe thead th {\n",
       "        text-align: right;\n",
       "    }\n",
       "</style>\n",
       "<table border=\"1\" class=\"dataframe\">\n",
       "  <thead>\n",
       "    <tr style=\"text-align: right;\">\n",
       "      <th></th>\n",
       "      <th>0</th>\n",
       "      <th>1</th>\n",
       "      <th>2</th>\n",
       "      <th>3</th>\n",
       "      <th>4</th>\n",
       "      <th>5</th>\n",
       "      <th>6</th>\n",
       "      <th>7</th>\n",
       "      <th>8</th>\n",
       "      <th>9</th>\n",
       "      <th>...</th>\n",
       "      <th>14</th>\n",
       "      <th>15</th>\n",
       "      <th>16</th>\n",
       "      <th>17</th>\n",
       "      <th>18</th>\n",
       "      <th>19</th>\n",
       "      <th>20</th>\n",
       "      <th>21</th>\n",
       "      <th>22</th>\n",
       "      <th>23</th>\n",
       "    </tr>\n",
       "    <tr>\n",
       "      <th>zipcode</th>\n",
       "      <th></th>\n",
       "      <th></th>\n",
       "      <th></th>\n",
       "      <th></th>\n",
       "      <th></th>\n",
       "      <th></th>\n",
       "      <th></th>\n",
       "      <th></th>\n",
       "      <th></th>\n",
       "      <th></th>\n",
       "      <th></th>\n",
       "      <th></th>\n",
       "      <th></th>\n",
       "      <th></th>\n",
       "      <th></th>\n",
       "      <th></th>\n",
       "      <th></th>\n",
       "      <th></th>\n",
       "      <th></th>\n",
       "      <th></th>\n",
       "      <th></th>\n",
       "    </tr>\n",
       "  </thead>\n",
       "  <tbody>\n",
       "    <tr>\n",
       "      <th>10115</th>\n",
       "      <td>0.00</td>\n",
       "      <td>0.00</td>\n",
       "      <td>0.00</td>\n",
       "      <td>0.00</td>\n",
       "      <td>32.11</td>\n",
       "      <td>180.91</td>\n",
       "      <td>52.06</td>\n",
       "      <td>0.0</td>\n",
       "      <td>0.00</td>\n",
       "      <td>29.27</td>\n",
       "      <td>...</td>\n",
       "      <td>139.53</td>\n",
       "      <td>81.63</td>\n",
       "      <td>10.25</td>\n",
       "      <td>14.47</td>\n",
       "      <td>0.0</td>\n",
       "      <td>78.69</td>\n",
       "      <td>0.0</td>\n",
       "      <td>31.13</td>\n",
       "      <td>193.50</td>\n",
       "      <td>0.0</td>\n",
       "    </tr>\n",
       "    <tr>\n",
       "      <th>10117</th>\n",
       "      <td>132.39</td>\n",
       "      <td>139.56</td>\n",
       "      <td>100.55</td>\n",
       "      <td>0.00</td>\n",
       "      <td>0.00</td>\n",
       "      <td>126.41</td>\n",
       "      <td>41.93</td>\n",
       "      <td>0.0</td>\n",
       "      <td>0.00</td>\n",
       "      <td>35.91</td>\n",
       "      <td>...</td>\n",
       "      <td>152.02</td>\n",
       "      <td>157.09</td>\n",
       "      <td>0.00</td>\n",
       "      <td>0.00</td>\n",
       "      <td>0.0</td>\n",
       "      <td>0.00</td>\n",
       "      <td>0.0</td>\n",
       "      <td>51.08</td>\n",
       "      <td>231.85</td>\n",
       "      <td>0.0</td>\n",
       "    </tr>\n",
       "    <tr>\n",
       "      <th>10119</th>\n",
       "      <td>0.00</td>\n",
       "      <td>0.00</td>\n",
       "      <td>0.00</td>\n",
       "      <td>25.33</td>\n",
       "      <td>84.33</td>\n",
       "      <td>0.00</td>\n",
       "      <td>115.71</td>\n",
       "      <td>0.0</td>\n",
       "      <td>0.00</td>\n",
       "      <td>0.00</td>\n",
       "      <td>...</td>\n",
       "      <td>0.00</td>\n",
       "      <td>0.00</td>\n",
       "      <td>0.00</td>\n",
       "      <td>0.00</td>\n",
       "      <td>0.0</td>\n",
       "      <td>0.00</td>\n",
       "      <td>0.0</td>\n",
       "      <td>113.66</td>\n",
       "      <td>0.00</td>\n",
       "      <td>0.0</td>\n",
       "    </tr>\n",
       "    <tr>\n",
       "      <th>10178</th>\n",
       "      <td>128.01</td>\n",
       "      <td>0.00</td>\n",
       "      <td>0.00</td>\n",
       "      <td>0.00</td>\n",
       "      <td>0.00</td>\n",
       "      <td>0.00</td>\n",
       "      <td>206.24</td>\n",
       "      <td>0.0</td>\n",
       "      <td>150.54</td>\n",
       "      <td>0.00</td>\n",
       "      <td>...</td>\n",
       "      <td>104.09</td>\n",
       "      <td>0.00</td>\n",
       "      <td>0.00</td>\n",
       "      <td>0.00</td>\n",
       "      <td>0.0</td>\n",
       "      <td>0.00</td>\n",
       "      <td>0.0</td>\n",
       "      <td>0.00</td>\n",
       "      <td>19.73</td>\n",
       "      <td>0.0</td>\n",
       "    </tr>\n",
       "    <tr>\n",
       "      <th>10179</th>\n",
       "      <td>80.95</td>\n",
       "      <td>0.00</td>\n",
       "      <td>0.00</td>\n",
       "      <td>0.00</td>\n",
       "      <td>0.00</td>\n",
       "      <td>0.00</td>\n",
       "      <td>1.14</td>\n",
       "      <td>0.0</td>\n",
       "      <td>59.05</td>\n",
       "      <td>67.82</td>\n",
       "      <td>...</td>\n",
       "      <td>72.76</td>\n",
       "      <td>33.82</td>\n",
       "      <td>0.00</td>\n",
       "      <td>0.00</td>\n",
       "      <td>0.0</td>\n",
       "      <td>0.00</td>\n",
       "      <td>0.0</td>\n",
       "      <td>0.00</td>\n",
       "      <td>103.85</td>\n",
       "      <td>0.0</td>\n",
       "    </tr>\n",
       "  </tbody>\n",
       "</table>\n",
       "<p>5 rows × 24 columns</p>\n",
       "</div>"
      ],
      "text/plain": [
       "             0       1       2      3      4       5       6    7       8   \\\n",
       "zipcode                                                                      \n",
       "10115      0.00    0.00    0.00   0.00  32.11  180.91   52.06  0.0    0.00   \n",
       "10117    132.39  139.56  100.55   0.00   0.00  126.41   41.93  0.0    0.00   \n",
       "10119      0.00    0.00    0.00  25.33  84.33    0.00  115.71  0.0    0.00   \n",
       "10178    128.01    0.00    0.00   0.00   0.00    0.00  206.24  0.0  150.54   \n",
       "10179     80.95    0.00    0.00   0.00   0.00    0.00    1.14  0.0   59.05   \n",
       "\n",
       "            9   ...      14      15     16     17   18     19   20      21  \\\n",
       "zipcode         ...                                                          \n",
       "10115    29.27  ...  139.53   81.63  10.25  14.47  0.0  78.69  0.0   31.13   \n",
       "10117    35.91  ...  152.02  157.09   0.00   0.00  0.0   0.00  0.0   51.08   \n",
       "10119     0.00  ...    0.00    0.00   0.00   0.00  0.0   0.00  0.0  113.66   \n",
       "10178     0.00  ...  104.09    0.00   0.00   0.00  0.0   0.00  0.0    0.00   \n",
       "10179    67.82  ...   72.76   33.82   0.00   0.00  0.0   0.00  0.0    0.00   \n",
       "\n",
       "             22   23  \n",
       "zipcode               \n",
       "10115    193.50  0.0  \n",
       "10117    231.85  0.0  \n",
       "10119      0.00  0.0  \n",
       "10178     19.73  0.0  \n",
       "10179    103.85  0.0  \n",
       "\n",
       "[5 rows x 24 columns]"
      ]
     },
     "execution_count": 14,
     "metadata": {},
     "output_type": "execute_result"
    }
   ],
   "source": [
    "# Get hourly co2\n",
    "df_hourly_co2 = df_co2[[\"zipcode\", \"hour\",\"co2_grams\"]].groupby([\"zipcode\", \"hour\"]).sum().reset_index()\n",
    "df_hourly_co2 = df_hourly_co2.pivot(index=[\"zipcode\"], columns=[\"hour\"])[\"co2_grams\"].replace(np.nan, 0)\n",
    "\n",
    "# Get matrix that of shape (4085,25)\n",
    "df_hourly_zipcode = df_zipcode.set_index(\"zipcode\").reindex(columns=list(range(0,24))).replace(np.nan,0)#.reset_index()\n",
    "\n",
    "# Merge dataframes together\n",
    "df = df_hourly_zipcode.add(df_hourly_co2, fill_value=0)\n",
    "print(df.shape)\n",
    "df.head()"
   ]
  },
  {
   "cell_type": "markdown",
   "id": "9d8cc39e",
   "metadata": {
    "pycharm": {
     "name": "#%% md\n"
    }
   },
   "source": [
    "Then, convert the dataset to a tensor, and upload the tensor with shape (194 x 24) to the duet data store"
   ]
  },
  {
   "cell_type": "code",
   "execution_count": 15,
   "id": "2d4fe7b3",
   "metadata": {},
   "outputs": [
    {
     "data": {
      "text/html": [
       "<div>\n",
       "<style scoped>\n",
       "    .dataframe tbody tr th:only-of-type {\n",
       "        vertical-align: middle;\n",
       "    }\n",
       "\n",
       "    .dataframe tbody tr th {\n",
       "        vertical-align: top;\n",
       "    }\n",
       "\n",
       "    .dataframe thead th {\n",
       "        text-align: right;\n",
       "    }\n",
       "</style>\n",
       "<table border=\"1\" class=\"dataframe\">\n",
       "  <thead>\n",
       "    <tr style=\"text-align: right;\">\n",
       "      <th></th>\n",
       "      <th>ID</th>\n",
       "      <th>Tags</th>\n",
       "      <th>Description</th>\n",
       "      <th>object_type</th>\n",
       "    </tr>\n",
       "  </thead>\n",
       "  <tbody>\n",
       "    <tr>\n",
       "      <th>0</th>\n",
       "      <td>&lt;UID: 31c39ec7e0dd48bb94fe71b30ebb4aa9&gt;</td>\n",
       "      <td>[hourly-co2-per-zip_2021-08-19]</td>\n",
       "      <td>Total CO2 per Zipcode per Hour on August 19, 2...</td>\n",
       "      <td>&lt;class 'torch.Tensor'&gt;</td>\n",
       "    </tr>\n",
       "  </tbody>\n",
       "</table>\n",
       "</div>"
      ],
      "text/plain": [
       "                                        ID                             Tags  \\\n",
       "0  <UID: 31c39ec7e0dd48bb94fe71b30ebb4aa9>  [hourly-co2-per-zip_2021-08-19]   \n",
       "\n",
       "                                         Description             object_type  \n",
       "0  Total CO2 per Zipcode per Hour on August 19, 2...  <class 'torch.Tensor'>  "
      ]
     },
     "execution_count": 15,
     "metadata": {},
     "output_type": "execute_result"
    }
   ],
   "source": [
    "# Configure tensor\n",
    "hourly_co2_torch = torch.tensor(df.values)\n",
    "hourly_co2_torch = hourly_co2_torch.tag(\"hourly-co2-per-zip_2021-08-19\")\n",
    "hourly_co2_torch = hourly_co2_torch.describe(\"Total CO2 per Zipcode per Hour on August 19, 2021. Shape: zipcode (10115-14199) x hour (0-23) = 4085 x 24\")\n",
    "\n",
    "# Load tensor to datastore\n",
    "hourly_co2_torch_pointer = hourly_co2_torch.send(duet, pointable=True)\n",
    "\n",
    "# Verify datastore\n",
    "duet.store.pandas"
   ]
  },
  {
   "cell_type": "markdown",
   "id": "1f645cae",
   "metadata": {
    "pycharm": {
     "name": "#%% md\n"
    }
   },
   "source": [
    "#### 4.3 – Authorize City agent to `.reconstruct()` the data\n",
    "Authorize the city agent to reconstruct the data once it is shared and joined with other manufacutrers' data."
   ]
  },
  {
   "cell_type": "code",
   "execution_count": 16,
   "id": "457e12c9",
   "metadata": {
    "collapsed": false,
    "jupyter": {
     "outputs_hidden": false
    },
    "pycharm": {
     "name": "#%%\n"
    }
   },
   "outputs": [
    {
     "name": "stderr",
     "output_type": "stream",
     "text": [
      "[2021-11-27T15:56:06.065127+0000][CRITICAL][logger]][41] 'sympc'\n",
      "ERROR:asyncio:Exception in callback AsyncIOEventEmitter._emit_run.<locals>._callback(<Task finishe...rror('sympc')>) at /opt/conda/lib/python3.9/site-packages/pyee/_asyncio.py:57\n",
      "handle: <Handle AsyncIOEventEmitter._emit_run.<locals>._callback(<Task finishe...rror('sympc')>) at /opt/conda/lib/python3.9/site-packages/pyee/_asyncio.py:57>\n",
      "Traceback (most recent call last):\n",
      "  File \"/opt/conda/lib/python3.9/asyncio/events.py\", line 80, in _run\n",
      "    self._context.run(self._callback, *self._args)\n",
      "  File \"/opt/conda/lib/python3.9/site-packages/pyee/_asyncio.py\", line 64, in _callback\n",
      "    self.emit(\"error\", exc)\n",
      "  File \"/opt/conda/lib/python3.9/site-packages/pyee/_base.py\", line 118, in emit\n",
      "    self._emit_handle_potential_error(event, args[0] if args else None)\n",
      "  File \"/opt/conda/lib/python3.9/site-packages/pyee/_base.py\", line 88, in _emit_handle_potential_error\n",
      "    raise error\n",
      "  File \"/opt/conda/lib/python3.9/asyncio/tasks.py\", line 256, in __step\n",
      "    result = coro.send(None)\n",
      "  File \"/opt/conda/lib/python3.9/site-packages/syft/grid/connections/webrtc.py\", line 233, in on_message\n",
      "    await self.consumer(msg=message)\n",
      "  File \"/opt/conda/lib/python3.9/site-packages/syft/grid/connections/webrtc.py\", line 449, in consumer\n",
      "    traceback_and_raise(e)\n",
      "  File \"/opt/conda/lib/python3.9/site-packages/syft/logger.py\", line 61, in traceback_and_raise\n",
      "    raise e\n",
      "  File \"/opt/conda/lib/python3.9/site-packages/syft/grid/connections/webrtc.py\", line 417, in consumer\n",
      "    _msg = _deserialize(blob=msg, from_bytes=True)\n",
      "  File \"/opt/conda/lib/python3.9/site-packages/syft/core/common/serde/deserialize.py\", line 89, in _deserialize\n",
      "    res = _proto2object(proto=blob)\n",
      "  File \"/opt/conda/lib/python3.9/site-packages/syft/core/common/message.py\", line 183, in _proto2object\n",
      "    _deserialize(blob=proto.message, from_bytes=True), SyftMessage\n",
      "  File \"/opt/conda/lib/python3.9/site-packages/syft/core/common/serde/deserialize.py\", line 89, in _deserialize\n",
      "    res = _proto2object(proto=blob)\n",
      "  File \"/opt/conda/lib/python3.9/site-packages/syft/core/node/common/action/save_object_action.py\", line 59, in _proto2object\n",
      "    obj = _deserialize(blob=proto.obj)\n",
      "  File \"/opt/conda/lib/python3.9/site-packages/syft/core/common/serde/deserialize.py\", line 89, in _deserialize\n",
      "    res = _proto2object(proto=blob)\n",
      "  File \"/opt/conda/lib/python3.9/site-packages/syft/core/store/storeable_object.py\", line 173, in _proto2object\n",
      "    data_type = index_syft_by_module_name(fully_qualified_name=proto.data_type)\n",
      "  File \"/opt/conda/lib/python3.9/site-packages/syft/util.py\", line 123, in index_syft_by_module_name\n",
      "    return index_modules(a_dict=globals()[\"syft\"], keys=attr_list[1:])\n",
      "  File \"/opt/conda/lib/python3.9/site-packages/syft/util.py\", line 87, in index_modules\n",
      "    return index_modules(a_dict=a_dict.__dict__[keys[0]], keys=keys[1:])\n",
      "  File \"/opt/conda/lib/python3.9/site-packages/syft/util.py\", line 87, in index_modules\n",
      "    return index_modules(a_dict=a_dict.__dict__[keys[0]], keys=keys[1:])\n",
      "KeyError: 'sympc'\n",
      "[2021-11-27T15:56:06.186430+0000][CRITICAL][logger]][41] Path sympc.session.Session not present in the AST.\n",
      "[2021-11-27T15:56:06.188684+0000][CRITICAL][logger]][41] Path sympc.session.Session not present in the AST.\n",
      "ERROR:asyncio:Exception in callback AsyncIOEventEmitter._emit_run.<locals>._callback(<Task finishe...in the AST.')>) at /opt/conda/lib/python3.9/site-packages/pyee/_asyncio.py:57\n",
      "handle: <Handle AsyncIOEventEmitter._emit_run.<locals>._callback(<Task finishe...in the AST.')>) at /opt/conda/lib/python3.9/site-packages/pyee/_asyncio.py:57>\n",
      "Traceback (most recent call last):\n",
      "  File \"/opt/conda/lib/python3.9/asyncio/events.py\", line 80, in _run\n",
      "    self._context.run(self._callback, *self._args)\n",
      "  File \"/opt/conda/lib/python3.9/site-packages/pyee/_asyncio.py\", line 64, in _callback\n",
      "    self.emit(\"error\", exc)\n",
      "  File \"/opt/conda/lib/python3.9/site-packages/pyee/_base.py\", line 118, in emit\n",
      "    self._emit_handle_potential_error(event, args[0] if args else None)\n",
      "  File \"/opt/conda/lib/python3.9/site-packages/pyee/_base.py\", line 88, in _emit_handle_potential_error\n",
      "    raise error\n",
      "  File \"/opt/conda/lib/python3.9/asyncio/tasks.py\", line 256, in __step\n",
      "    result = coro.send(None)\n",
      "  File \"/opt/conda/lib/python3.9/site-packages/syft/grid/connections/webrtc.py\", line 233, in on_message\n",
      "    await self.consumer(msg=message)\n",
      "  File \"/opt/conda/lib/python3.9/site-packages/syft/grid/connections/webrtc.py\", line 449, in consumer\n",
      "    traceback_and_raise(e)\n",
      "  File \"/opt/conda/lib/python3.9/site-packages/syft/logger.py\", line 61, in traceback_and_raise\n",
      "    raise e\n",
      "  File \"/opt/conda/lib/python3.9/site-packages/syft/grid/connections/webrtc.py\", line 417, in consumer\n",
      "    _msg = _deserialize(blob=msg, from_bytes=True)\n",
      "  File \"/opt/conda/lib/python3.9/site-packages/syft/core/common/serde/deserialize.py\", line 89, in _deserialize\n",
      "    res = _proto2object(proto=blob)\n",
      "  File \"/opt/conda/lib/python3.9/site-packages/syft/core/common/message.py\", line 183, in _proto2object\n",
      "    _deserialize(blob=proto.message, from_bytes=True), SyftMessage\n",
      "  File \"/opt/conda/lib/python3.9/site-packages/syft/core/common/serde/deserialize.py\", line 89, in _deserialize\n",
      "    res = _proto2object(proto=blob)\n",
      "  File \"/opt/conda/lib/python3.9/site-packages/syft/core/node/common/action/run_class_method_action.py\", line 289, in _proto2object\n",
      "    _self=_deserialize(blob=proto._self),\n",
      "  File \"/opt/conda/lib/python3.9/site-packages/syft/core/common/serde/deserialize.py\", line 89, in _deserialize\n",
      "    res = _proto2object(proto=blob)\n",
      "  File \"/opt/conda/lib/python3.9/site-packages/syft/core/pointer/pointer.py\", line 335, in _proto2object\n",
      "    points_to_type = sy.lib_ast.query(proto.points_to_object_with_path)\n",
      "  File \"/opt/conda/lib/python3.9/site-packages/syft/ast/attribute.py\", line 161, in query\n",
      "    traceback_and_raise(\n",
      "  File \"/opt/conda/lib/python3.9/site-packages/syft/logger.py\", line 61, in traceback_and_raise\n",
      "    raise e\n",
      "ValueError: Path sympc.session.Session not present in the AST.\n",
      "[2021-11-27T15:56:06.298631+0000][CRITICAL][logger]][41] <class 'syft.core.store.store_memory.MemoryStore'> __delitem__ error <UID: 3e761393802646f7b59d8616f4be6f14>.\n",
      "[2021-11-27T15:57:16.554596+0000][CRITICAL][logger]][41] Path sympc.session.Session not present in the AST.\n",
      "[2021-11-27T15:57:16.563683+0000][CRITICAL][logger]][41] Path sympc.session.Session not present in the AST.\n",
      "ERROR:asyncio:Exception in callback AsyncIOEventEmitter._emit_run.<locals>._callback(<Task finishe...in the AST.')>) at /opt/conda/lib/python3.9/site-packages/pyee/_asyncio.py:57\n",
      "handle: <Handle AsyncIOEventEmitter._emit_run.<locals>._callback(<Task finishe...in the AST.')>) at /opt/conda/lib/python3.9/site-packages/pyee/_asyncio.py:57>\n",
      "Traceback (most recent call last):\n",
      "  File \"/opt/conda/lib/python3.9/asyncio/events.py\", line 80, in _run\n",
      "    self._context.run(self._callback, *self._args)\n",
      "  File \"/opt/conda/lib/python3.9/site-packages/pyee/_asyncio.py\", line 64, in _callback\n",
      "    self.emit(\"error\", exc)\n",
      "  File \"/opt/conda/lib/python3.9/site-packages/pyee/_base.py\", line 118, in emit\n",
      "    self._emit_handle_potential_error(event, args[0] if args else None)\n",
      "  File \"/opt/conda/lib/python3.9/site-packages/pyee/_base.py\", line 88, in _emit_handle_potential_error\n",
      "    raise error\n",
      "  File \"/opt/conda/lib/python3.9/asyncio/tasks.py\", line 256, in __step\n",
      "    result = coro.send(None)\n",
      "  File \"/opt/conda/lib/python3.9/site-packages/syft/grid/connections/webrtc.py\", line 233, in on_message\n",
      "    await self.consumer(msg=message)\n",
      "  File \"/opt/conda/lib/python3.9/site-packages/syft/grid/connections/webrtc.py\", line 449, in consumer\n",
      "    traceback_and_raise(e)\n",
      "  File \"/opt/conda/lib/python3.9/site-packages/syft/logger.py\", line 61, in traceback_and_raise\n",
      "    raise e\n",
      "  File \"/opt/conda/lib/python3.9/site-packages/syft/grid/connections/webrtc.py\", line 417, in consumer\n",
      "    _msg = _deserialize(blob=msg, from_bytes=True)\n",
      "  File \"/opt/conda/lib/python3.9/site-packages/syft/core/common/serde/deserialize.py\", line 89, in _deserialize\n",
      "    res = _proto2object(proto=blob)\n",
      "  File \"/opt/conda/lib/python3.9/site-packages/syft/core/common/message.py\", line 183, in _proto2object\n",
      "    _deserialize(blob=proto.message, from_bytes=True), SyftMessage\n",
      "  File \"/opt/conda/lib/python3.9/site-packages/syft/core/common/serde/deserialize.py\", line 89, in _deserialize\n",
      "    res = _proto2object(proto=blob)\n",
      "  File \"/opt/conda/lib/python3.9/site-packages/syft/core/node/common/action/run_class_method_action.py\", line 289, in _proto2object\n",
      "    _self=_deserialize(blob=proto._self),\n",
      "  File \"/opt/conda/lib/python3.9/site-packages/syft/core/common/serde/deserialize.py\", line 89, in _deserialize\n",
      "    res = _proto2object(proto=blob)\n",
      "  File \"/opt/conda/lib/python3.9/site-packages/syft/core/pointer/pointer.py\", line 335, in _proto2object\n",
      "    points_to_type = sy.lib_ast.query(proto.points_to_object_with_path)\n",
      "  File \"/opt/conda/lib/python3.9/site-packages/syft/ast/attribute.py\", line 161, in query\n",
      "    traceback_and_raise(\n",
      "  File \"/opt/conda/lib/python3.9/site-packages/syft/logger.py\", line 61, in traceback_and_raise\n",
      "    raise e\n",
      "ValueError: Path sympc.session.Session not present in the AST.\n",
      "[2021-11-27T15:57:16.655884+0000][CRITICAL][logger]][41] Path ReplicatedSharedTensorShareTensorUnion not present in the AST.\n",
      "[2021-11-27T15:57:16.657385+0000][CRITICAL][logger]][41] Path ReplicatedSharedTensorShareTensorUnion not present in the AST.\n",
      "ERROR:asyncio:Exception in callback AsyncIOEventEmitter._emit_run.<locals>._callback(<Task finishe...in the AST.')>) at /opt/conda/lib/python3.9/site-packages/pyee/_asyncio.py:57\n",
      "handle: <Handle AsyncIOEventEmitter._emit_run.<locals>._callback(<Task finishe...in the AST.')>) at /opt/conda/lib/python3.9/site-packages/pyee/_asyncio.py:57>\n",
      "Traceback (most recent call last):\n",
      "  File \"/opt/conda/lib/python3.9/asyncio/events.py\", line 80, in _run\n",
      "    self._context.run(self._callback, *self._args)\n",
      "  File \"/opt/conda/lib/python3.9/site-packages/pyee/_asyncio.py\", line 64, in _callback\n",
      "    self.emit(\"error\", exc)\n",
      "  File \"/opt/conda/lib/python3.9/site-packages/pyee/_base.py\", line 118, in emit\n",
      "    self._emit_handle_potential_error(event, args[0] if args else None)\n",
      "  File \"/opt/conda/lib/python3.9/site-packages/pyee/_base.py\", line 88, in _emit_handle_potential_error\n",
      "    raise error\n",
      "  File \"/opt/conda/lib/python3.9/asyncio/tasks.py\", line 256, in __step\n",
      "    result = coro.send(None)\n",
      "  File \"/opt/conda/lib/python3.9/site-packages/syft/grid/connections/webrtc.py\", line 233, in on_message\n",
      "    await self.consumer(msg=message)\n",
      "  File \"/opt/conda/lib/python3.9/site-packages/syft/grid/connections/webrtc.py\", line 449, in consumer\n",
      "    traceback_and_raise(e)\n",
      "  File \"/opt/conda/lib/python3.9/site-packages/syft/logger.py\", line 61, in traceback_and_raise\n",
      "    raise e\n",
      "  File \"/opt/conda/lib/python3.9/site-packages/syft/grid/connections/webrtc.py\", line 417, in consumer\n",
      "    _msg = _deserialize(blob=msg, from_bytes=True)\n",
      "  File \"/opt/conda/lib/python3.9/site-packages/syft/core/common/serde/deserialize.py\", line 89, in _deserialize\n",
      "    res = _proto2object(proto=blob)\n",
      "  File \"/opt/conda/lib/python3.9/site-packages/syft/core/common/message.py\", line 183, in _proto2object\n",
      "    _deserialize(blob=proto.message, from_bytes=True), SyftMessage\n",
      "  File \"/opt/conda/lib/python3.9/site-packages/syft/core/common/serde/deserialize.py\", line 89, in _deserialize\n",
      "    res = _proto2object(proto=blob)\n",
      "  File \"/opt/conda/lib/python3.9/site-packages/syft/core/node/common/action/run_class_method_action.py\", line 289, in _proto2object\n",
      "    _self=_deserialize(blob=proto._self),\n",
      "  File \"/opt/conda/lib/python3.9/site-packages/syft/core/common/serde/deserialize.py\", line 89, in _deserialize\n",
      "    res = _proto2object(proto=blob)\n",
      "  File \"/opt/conda/lib/python3.9/site-packages/syft/core/pointer/pointer.py\", line 335, in _proto2object\n",
      "    points_to_type = sy.lib_ast.query(proto.points_to_object_with_path)\n",
      "  File \"/opt/conda/lib/python3.9/site-packages/syft/ast/attribute.py\", line 159, in query\n",
      "    return self.attrs[_path[0]].query(path=_path[1:])\n",
      "  File \"/opt/conda/lib/python3.9/site-packages/syft/ast/attribute.py\", line 159, in query\n",
      "    return self.attrs[_path[0]].query(path=_path[1:])\n",
      "  File \"/opt/conda/lib/python3.9/site-packages/syft/ast/attribute.py\", line 159, in query\n",
      "    return self.attrs[_path[0]].query(path=_path[1:])\n",
      "  [Previous line repeated 1 more time]\n",
      "  File \"/opt/conda/lib/python3.9/site-packages/syft/ast/attribute.py\", line 161, in query\n",
      "    traceback_and_raise(\n",
      "  File \"/opt/conda/lib/python3.9/site-packages/syft/logger.py\", line 61, in traceback_and_raise\n",
      "    raise e\n",
      "ValueError: Path ReplicatedSharedTensorShareTensorUnion not present in the AST.\n",
      "[2021-11-27T15:57:16.672432+0000][CRITICAL][logger]][41] <class 'syft.core.store.store_memory.MemoryStore'> __delitem__ error <UID: e3d11e46f9664bde9838f58a33063841>.\n",
      "[2021-11-27T15:57:16.726532+0000][CRITICAL][logger]][41] Path sympc.session.Session not present in the AST.\n",
      "[2021-11-27T15:57:16.727932+0000][CRITICAL][logger]][41] Path sympc.session.Session not present in the AST.\n",
      "ERROR:asyncio:Exception in callback AsyncIOEventEmitter._emit_run.<locals>._callback(<Task finishe...in the AST.')>) at /opt/conda/lib/python3.9/site-packages/pyee/_asyncio.py:57\n",
      "handle: <Handle AsyncIOEventEmitter._emit_run.<locals>._callback(<Task finishe...in the AST.')>) at /opt/conda/lib/python3.9/site-packages/pyee/_asyncio.py:57>\n",
      "Traceback (most recent call last):\n",
      "  File \"/opt/conda/lib/python3.9/asyncio/events.py\", line 80, in _run\n",
      "    self._context.run(self._callback, *self._args)\n",
      "  File \"/opt/conda/lib/python3.9/site-packages/pyee/_asyncio.py\", line 64, in _callback\n",
      "    self.emit(\"error\", exc)\n",
      "  File \"/opt/conda/lib/python3.9/site-packages/pyee/_base.py\", line 118, in emit\n",
      "    self._emit_handle_potential_error(event, args[0] if args else None)\n",
      "  File \"/opt/conda/lib/python3.9/site-packages/pyee/_base.py\", line 88, in _emit_handle_potential_error\n",
      "    raise error\n",
      "  File \"/opt/conda/lib/python3.9/asyncio/tasks.py\", line 256, in __step\n",
      "    result = coro.send(None)\n",
      "  File \"/opt/conda/lib/python3.9/site-packages/syft/grid/connections/webrtc.py\", line 233, in on_message\n",
      "    await self.consumer(msg=message)\n",
      "  File \"/opt/conda/lib/python3.9/site-packages/syft/grid/connections/webrtc.py\", line 449, in consumer\n",
      "    traceback_and_raise(e)\n",
      "  File \"/opt/conda/lib/python3.9/site-packages/syft/logger.py\", line 61, in traceback_and_raise\n",
      "    raise e\n",
      "  File \"/opt/conda/lib/python3.9/site-packages/syft/grid/connections/webrtc.py\", line 417, in consumer\n",
      "    _msg = _deserialize(blob=msg, from_bytes=True)\n",
      "  File \"/opt/conda/lib/python3.9/site-packages/syft/core/common/serde/deserialize.py\", line 89, in _deserialize\n",
      "    res = _proto2object(proto=blob)\n",
      "  File \"/opt/conda/lib/python3.9/site-packages/syft/core/common/message.py\", line 183, in _proto2object\n",
      "    _deserialize(blob=proto.message, from_bytes=True), SyftMessage\n",
      "  File \"/opt/conda/lib/python3.9/site-packages/syft/core/common/serde/deserialize.py\", line 89, in _deserialize\n",
      "    res = _proto2object(proto=blob)\n",
      "  File \"/opt/conda/lib/python3.9/site-packages/syft/core/node/common/action/run_class_method_action.py\", line 289, in _proto2object\n",
      "    _self=_deserialize(blob=proto._self),\n",
      "  File \"/opt/conda/lib/python3.9/site-packages/syft/core/common/serde/deserialize.py\", line 89, in _deserialize\n",
      "    res = _proto2object(proto=blob)\n",
      "  File \"/opt/conda/lib/python3.9/site-packages/syft/core/pointer/pointer.py\", line 335, in _proto2object\n",
      "    points_to_type = sy.lib_ast.query(proto.points_to_object_with_path)\n",
      "  File \"/opt/conda/lib/python3.9/site-packages/syft/ast/attribute.py\", line 161, in query\n",
      "    traceback_and_raise(\n",
      "  File \"/opt/conda/lib/python3.9/site-packages/syft/logger.py\", line 61, in traceback_and_raise\n",
      "    raise e\n",
      "ValueError: Path sympc.session.Session not present in the AST.\n",
      "[2021-11-27T15:57:16.773562+0000][CRITICAL][logger]][41] Path sympc.session.Session not present in the AST.\n",
      "[2021-11-27T15:57:16.782093+0000][CRITICAL][logger]][41] Path sympc.session.Session not present in the AST.\n",
      "ERROR:asyncio:Exception in callback AsyncIOEventEmitter._emit_run.<locals>._callback(<Task finishe...in the AST.')>) at /opt/conda/lib/python3.9/site-packages/pyee/_asyncio.py:57\n",
      "handle: <Handle AsyncIOEventEmitter._emit_run.<locals>._callback(<Task finishe...in the AST.')>) at /opt/conda/lib/python3.9/site-packages/pyee/_asyncio.py:57>\n",
      "Traceback (most recent call last):\n",
      "  File \"/opt/conda/lib/python3.9/asyncio/events.py\", line 80, in _run\n",
      "    self._context.run(self._callback, *self._args)\n",
      "  File \"/opt/conda/lib/python3.9/site-packages/pyee/_asyncio.py\", line 64, in _callback\n",
      "    self.emit(\"error\", exc)\n",
      "  File \"/opt/conda/lib/python3.9/site-packages/pyee/_base.py\", line 118, in emit\n",
      "    self._emit_handle_potential_error(event, args[0] if args else None)\n",
      "  File \"/opt/conda/lib/python3.9/site-packages/pyee/_base.py\", line 88, in _emit_handle_potential_error\n",
      "    raise error\n",
      "  File \"/opt/conda/lib/python3.9/asyncio/tasks.py\", line 256, in __step\n",
      "    result = coro.send(None)\n",
      "  File \"/opt/conda/lib/python3.9/site-packages/syft/grid/connections/webrtc.py\", line 233, in on_message\n",
      "    await self.consumer(msg=message)\n",
      "  File \"/opt/conda/lib/python3.9/site-packages/syft/grid/connections/webrtc.py\", line 449, in consumer\n",
      "    traceback_and_raise(e)\n",
      "  File \"/opt/conda/lib/python3.9/site-packages/syft/logger.py\", line 61, in traceback_and_raise\n",
      "    raise e\n",
      "  File \"/opt/conda/lib/python3.9/site-packages/syft/grid/connections/webrtc.py\", line 417, in consumer\n",
      "    _msg = _deserialize(blob=msg, from_bytes=True)\n",
      "  File \"/opt/conda/lib/python3.9/site-packages/syft/core/common/serde/deserialize.py\", line 89, in _deserialize\n",
      "    res = _proto2object(proto=blob)\n",
      "  File \"/opt/conda/lib/python3.9/site-packages/syft/core/common/message.py\", line 183, in _proto2object\n",
      "    _deserialize(blob=proto.message, from_bytes=True), SyftMessage\n",
      "  File \"/opt/conda/lib/python3.9/site-packages/syft/core/common/serde/deserialize.py\", line 89, in _deserialize\n",
      "    res = _proto2object(proto=blob)\n",
      "  File \"/opt/conda/lib/python3.9/site-packages/syft/core/node/common/action/run_class_method_action.py\", line 289, in _proto2object\n",
      "    _self=_deserialize(blob=proto._self),\n",
      "  File \"/opt/conda/lib/python3.9/site-packages/syft/core/common/serde/deserialize.py\", line 89, in _deserialize\n",
      "    res = _proto2object(proto=blob)\n",
      "  File \"/opt/conda/lib/python3.9/site-packages/syft/core/pointer/pointer.py\", line 335, in _proto2object\n",
      "    points_to_type = sy.lib_ast.query(proto.points_to_object_with_path)\n",
      "  File \"/opt/conda/lib/python3.9/site-packages/syft/ast/attribute.py\", line 161, in query\n",
      "    traceback_and_raise(\n",
      "  File \"/opt/conda/lib/python3.9/site-packages/syft/logger.py\", line 61, in traceback_and_raise\n",
      "    raise e\n",
      "ValueError: Path sympc.session.Session not present in the AST.\n",
      "[2021-11-27T15:57:52.415654+0000][CRITICAL][logger]][41] Path ReplicatedSharedTensorShareTensorUnion not present in the AST.\n",
      "[2021-11-27T15:57:52.419454+0000][CRITICAL][logger]][41] Path ReplicatedSharedTensorShareTensorUnion not present in the AST.\n",
      "ERROR:asyncio:Exception in callback AsyncIOEventEmitter._emit_run.<locals>._callback(<Task finishe...in the AST.')>) at /opt/conda/lib/python3.9/site-packages/pyee/_asyncio.py:57\n",
      "handle: <Handle AsyncIOEventEmitter._emit_run.<locals>._callback(<Task finishe...in the AST.')>) at /opt/conda/lib/python3.9/site-packages/pyee/_asyncio.py:57>\n",
      "Traceback (most recent call last):\n",
      "  File \"/opt/conda/lib/python3.9/asyncio/events.py\", line 80, in _run\n",
      "    self._context.run(self._callback, *self._args)\n",
      "  File \"/opt/conda/lib/python3.9/site-packages/pyee/_asyncio.py\", line 64, in _callback\n",
      "    self.emit(\"error\", exc)\n",
      "  File \"/opt/conda/lib/python3.9/site-packages/pyee/_base.py\", line 118, in emit\n",
      "    self._emit_handle_potential_error(event, args[0] if args else None)\n",
      "  File \"/opt/conda/lib/python3.9/site-packages/pyee/_base.py\", line 88, in _emit_handle_potential_error\n",
      "    raise error\n",
      "  File \"/opt/conda/lib/python3.9/asyncio/tasks.py\", line 256, in __step\n",
      "    result = coro.send(None)\n",
      "  File \"/opt/conda/lib/python3.9/site-packages/syft/grid/connections/webrtc.py\", line 233, in on_message\n",
      "    await self.consumer(msg=message)\n",
      "  File \"/opt/conda/lib/python3.9/site-packages/syft/grid/connections/webrtc.py\", line 449, in consumer\n",
      "    traceback_and_raise(e)\n",
      "  File \"/opt/conda/lib/python3.9/site-packages/syft/logger.py\", line 61, in traceback_and_raise\n",
      "    raise e\n",
      "  File \"/opt/conda/lib/python3.9/site-packages/syft/grid/connections/webrtc.py\", line 417, in consumer\n",
      "    _msg = _deserialize(blob=msg, from_bytes=True)\n",
      "  File \"/opt/conda/lib/python3.9/site-packages/syft/core/common/serde/deserialize.py\", line 89, in _deserialize\n",
      "    res = _proto2object(proto=blob)\n",
      "  File \"/opt/conda/lib/python3.9/site-packages/syft/core/common/message.py\", line 183, in _proto2object\n",
      "    _deserialize(blob=proto.message, from_bytes=True), SyftMessage\n",
      "  File \"/opt/conda/lib/python3.9/site-packages/syft/core/common/serde/deserialize.py\", line 89, in _deserialize\n",
      "    res = _proto2object(proto=blob)\n",
      "  File \"/opt/conda/lib/python3.9/site-packages/syft/core/node/common/action/run_class_method_action.py\", line 290, in _proto2object\n",
      "    args=list(map(lambda x: _deserialize(blob=x), proto.args)),\n",
      "  File \"/opt/conda/lib/python3.9/site-packages/syft/core/node/common/action/run_class_method_action.py\", line 290, in <lambda>\n",
      "    args=list(map(lambda x: _deserialize(blob=x), proto.args)),\n",
      "  File \"/opt/conda/lib/python3.9/site-packages/syft/core/common/serde/deserialize.py\", line 89, in _deserialize\n",
      "    res = _proto2object(proto=blob)\n",
      "  File \"/opt/conda/lib/python3.9/site-packages/syft/core/pointer/pointer.py\", line 335, in _proto2object\n",
      "    points_to_type = sy.lib_ast.query(proto.points_to_object_with_path)\n",
      "  File \"/opt/conda/lib/python3.9/site-packages/syft/ast/attribute.py\", line 159, in query\n",
      "    return self.attrs[_path[0]].query(path=_path[1:])\n",
      "  File \"/opt/conda/lib/python3.9/site-packages/syft/ast/attribute.py\", line 159, in query\n",
      "    return self.attrs[_path[0]].query(path=_path[1:])\n",
      "  File \"/opt/conda/lib/python3.9/site-packages/syft/ast/attribute.py\", line 159, in query\n",
      "    return self.attrs[_path[0]].query(path=_path[1:])\n",
      "  [Previous line repeated 1 more time]\n",
      "  File \"/opt/conda/lib/python3.9/site-packages/syft/ast/attribute.py\", line 161, in query\n",
      "    traceback_and_raise(\n",
      "  File \"/opt/conda/lib/python3.9/site-packages/syft/logger.py\", line 61, in traceback_and_raise\n",
      "    raise e\n",
      "ValueError: Path ReplicatedSharedTensorShareTensorUnion not present in the AST.\n",
      "[2021-11-27T15:57:52.558678+0000][CRITICAL][logger]][41] Path ReplicatedSharedTensorShareTensorUnion not present in the AST.\n",
      "[2021-11-27T15:57:52.582166+0000][CRITICAL][logger]][41] Path ReplicatedSharedTensorShareTensorUnion not present in the AST.\n",
      "ERROR:asyncio:Exception in callback AsyncIOEventEmitter._emit_run.<locals>._callback(<Task finishe...in the AST.')>) at /opt/conda/lib/python3.9/site-packages/pyee/_asyncio.py:57\n",
      "handle: <Handle AsyncIOEventEmitter._emit_run.<locals>._callback(<Task finishe...in the AST.')>) at /opt/conda/lib/python3.9/site-packages/pyee/_asyncio.py:57>\n",
      "Traceback (most recent call last):\n",
      "  File \"/opt/conda/lib/python3.9/asyncio/events.py\", line 80, in _run\n",
      "    self._context.run(self._callback, *self._args)\n",
      "  File \"/opt/conda/lib/python3.9/site-packages/pyee/_asyncio.py\", line 64, in _callback\n",
      "    self.emit(\"error\", exc)\n",
      "  File \"/opt/conda/lib/python3.9/site-packages/pyee/_base.py\", line 118, in emit\n",
      "    self._emit_handle_potential_error(event, args[0] if args else None)\n",
      "  File \"/opt/conda/lib/python3.9/site-packages/pyee/_base.py\", line 88, in _emit_handle_potential_error\n",
      "    raise error\n",
      "  File \"/opt/conda/lib/python3.9/asyncio/tasks.py\", line 256, in __step\n",
      "    result = coro.send(None)\n",
      "  File \"/opt/conda/lib/python3.9/site-packages/syft/grid/connections/webrtc.py\", line 233, in on_message\n",
      "    await self.consumer(msg=message)\n",
      "  File \"/opt/conda/lib/python3.9/site-packages/syft/grid/connections/webrtc.py\", line 449, in consumer\n",
      "    traceback_and_raise(e)\n",
      "  File \"/opt/conda/lib/python3.9/site-packages/syft/logger.py\", line 61, in traceback_and_raise\n",
      "    raise e\n",
      "  File \"/opt/conda/lib/python3.9/site-packages/syft/grid/connections/webrtc.py\", line 417, in consumer\n",
      "    _msg = _deserialize(blob=msg, from_bytes=True)\n",
      "  File \"/opt/conda/lib/python3.9/site-packages/syft/core/common/serde/deserialize.py\", line 89, in _deserialize\n",
      "    res = _proto2object(proto=blob)\n",
      "  File \"/opt/conda/lib/python3.9/site-packages/syft/core/common/message.py\", line 183, in _proto2object\n",
      "    _deserialize(blob=proto.message, from_bytes=True), SyftMessage\n",
      "  File \"/opt/conda/lib/python3.9/site-packages/syft/core/common/serde/deserialize.py\", line 89, in _deserialize\n",
      "    res = _proto2object(proto=blob)\n",
      "  File \"/opt/conda/lib/python3.9/site-packages/syft/core/node/common/action/run_class_method_action.py\", line 290, in _proto2object\n",
      "    args=list(map(lambda x: _deserialize(blob=x), proto.args)),\n",
      "  File \"/opt/conda/lib/python3.9/site-packages/syft/core/node/common/action/run_class_method_action.py\", line 290, in <lambda>\n",
      "    args=list(map(lambda x: _deserialize(blob=x), proto.args)),\n",
      "  File \"/opt/conda/lib/python3.9/site-packages/syft/core/common/serde/deserialize.py\", line 89, in _deserialize\n",
      "    res = _proto2object(proto=blob)\n",
      "  File \"/opt/conda/lib/python3.9/site-packages/syft/core/pointer/pointer.py\", line 335, in _proto2object\n",
      "    points_to_type = sy.lib_ast.query(proto.points_to_object_with_path)\n",
      "  File \"/opt/conda/lib/python3.9/site-packages/syft/ast/attribute.py\", line 159, in query\n",
      "    return self.attrs[_path[0]].query(path=_path[1:])\n",
      "  File \"/opt/conda/lib/python3.9/site-packages/syft/ast/attribute.py\", line 159, in query\n",
      "    return self.attrs[_path[0]].query(path=_path[1:])\n",
      "  File \"/opt/conda/lib/python3.9/site-packages/syft/ast/attribute.py\", line 159, in query\n",
      "    return self.attrs[_path[0]].query(path=_path[1:])\n",
      "  [Previous line repeated 1 more time]\n",
      "  File \"/opt/conda/lib/python3.9/site-packages/syft/ast/attribute.py\", line 161, in query\n",
      "    traceback_and_raise(\n",
      "  File \"/opt/conda/lib/python3.9/site-packages/syft/logger.py\", line 61, in traceback_and_raise\n",
      "    raise e\n",
      "ValueError: Path ReplicatedSharedTensorShareTensorUnion not present in the AST.\n",
      "[2021-11-27T15:57:52.589289+0000][CRITICAL][logger]][41] <class 'syft.core.store.store_memory.MemoryStore'> __delitem__ error <UID: dac12fa35f3641daa7168d09de49c9b9>.\n",
      "[2021-11-27T15:57:52.612501+0000][CRITICAL][logger]][41] <class 'syft.core.store.store_memory.MemoryStore'> __getitem__ error <UID: cee1b397d088499aacfc366797baccd2> <UID: cee1b397d088499aacfc366797baccd2>\n",
      "[2021-11-27T15:57:52.622614+0000][CRITICAL][logger]][41] <UID: cee1b397d088499aacfc366797baccd2>\n",
      "[2021-11-27T15:57:52.626228+0000][CRITICAL][logger]][41] <UID: cee1b397d088499aacfc366797baccd2>\n",
      "[2021-11-27T15:57:52.626901+0000][CRITICAL][logger]][41] <UID: cee1b397d088499aacfc366797baccd2>\n",
      "ERROR:asyncio:Exception in callback AsyncIOEventEmitter._emit_run.<locals>._callback(<Task finishe...66797baccd2>)>) at /opt/conda/lib/python3.9/site-packages/pyee/_asyncio.py:57\n",
      "handle: <Handle AsyncIOEventEmitter._emit_run.<locals>._callback(<Task finishe...66797baccd2>)>) at /opt/conda/lib/python3.9/site-packages/pyee/_asyncio.py:57>\n",
      "Traceback (most recent call last):\n",
      "  File \"/opt/conda/lib/python3.9/asyncio/events.py\", line 80, in _run\n",
      "    self._context.run(self._callback, *self._args)\n",
      "  File \"/opt/conda/lib/python3.9/site-packages/pyee/_asyncio.py\", line 64, in _callback\n",
      "    self.emit(\"error\", exc)\n",
      "  File \"/opt/conda/lib/python3.9/site-packages/pyee/_base.py\", line 118, in emit\n",
      "    self._emit_handle_potential_error(event, args[0] if args else None)\n",
      "  File \"/opt/conda/lib/python3.9/site-packages/pyee/_base.py\", line 88, in _emit_handle_potential_error\n",
      "    raise error\n",
      "  File \"/opt/conda/lib/python3.9/asyncio/tasks.py\", line 256, in __step\n",
      "    result = coro.send(None)\n",
      "  File \"/opt/conda/lib/python3.9/site-packages/syft/grid/connections/webrtc.py\", line 233, in on_message\n",
      "    await self.consumer(msg=message)\n",
      "  File \"/opt/conda/lib/python3.9/site-packages/syft/grid/connections/webrtc.py\", line 449, in consumer\n",
      "    traceback_and_raise(e)\n",
      "  File \"/opt/conda/lib/python3.9/site-packages/syft/logger.py\", line 61, in traceback_and_raise\n",
      "    raise e\n",
      "  File \"/opt/conda/lib/python3.9/site-packages/syft/grid/connections/webrtc.py\", line 434, in consumer\n",
      "    self.recv_immediate_msg_without_reply(msg=_msg)\n",
      "  File \"/opt/conda/lib/python3.9/site-packages/syft/grid/connections/webrtc.py\", line 490, in recv_immediate_msg_without_reply\n",
      "    traceback_and_raise(e)\n",
      "  File \"/opt/conda/lib/python3.9/site-packages/syft/logger.py\", line 61, in traceback_and_raise\n",
      "    raise e\n",
      "  File \"/opt/conda/lib/python3.9/site-packages/syft/grid/connections/webrtc.py\", line 485, in recv_immediate_msg_without_reply\n",
      "    self.node.recv_immediate_msg_without_reply(msg=msg)\n",
      "  File \"/opt/conda/lib/python3.9/site-packages/syft/core/node/common/node.py\", line 399, in recv_immediate_msg_without_reply\n",
      "    self.process_message(msg=msg, router=self.immediate_msg_without_reply_router)\n",
      "  File \"/opt/conda/lib/python3.9/site-packages/syft/core/node/common/node.py\", line 481, in process_message\n",
      "    result = service.process(\n",
      "  File \"/opt/conda/lib/python3.9/site-packages/syft/core/node/domain/service/request_message.py\", line 222, in process\n",
      "    msg.object_tags.extend(node.store[msg.object_id]._tags)\n",
      "  File \"/opt/conda/lib/python3.9/site-packages/syft/core/store/store_memory.py\", line 66, in __getitem__\n",
      "    traceback_and_raise(e)\n",
      "  File \"/opt/conda/lib/python3.9/site-packages/syft/logger.py\", line 61, in traceback_and_raise\n",
      "    raise e\n",
      "  File \"/opt/conda/lib/python3.9/site-packages/syft/core/store/store_memory.py\", line 63, in __getitem__\n",
      "    return self._objects[key]\n",
      "KeyError: <UID: cee1b397d088499aacfc366797baccd2>\n",
      "[2021-11-27T15:57:52.720652+0000][CRITICAL][logger]][41] <class 'syft.core.store.store_memory.MemoryStore'> __getitem__ error <UID: cee1b397d088499aacfc366797baccd2> <UID: cee1b397d088499aacfc366797baccd2>\n",
      "[2021-11-27T15:57:52.724622+0000][CRITICAL][logger]][41] <UID: cee1b397d088499aacfc366797baccd2>\n",
      "[2021-11-27T15:57:52.733629+0000][CRITICAL][logger]][41] Unable to Get Object with ID <UID: cee1b397d088499aacfc366797baccd2> from store. Possible dangling Pointer. <UID: cee1b397d088499aacfc366797baccd2>\n",
      "[2021-11-27T15:57:52.758800+0000][CRITICAL][logger]][41] Unable to Get Object with ID <UID: cee1b397d088499aacfc366797baccd2> from store. Possible dangling Pointer. <UID: cee1b397d088499aacfc366797baccd2>\n",
      "ERROR:asyncio:Exception in callback Transaction.__retry()\n",
      "handle: <TimerHandle when=41508.740552757 Transaction.__retry()>\n",
      "Traceback (most recent call last):\n",
      "  File \"/opt/conda/lib/python3.9/asyncio/events.py\", line 80, in _run\n",
      "    self._context.run(self._callback, *self._args)\n",
      "  File \"/opt/conda/lib/python3.9/site-packages/aioice/stun.py\", line 306, in __retry\n",
      "    self.__future.set_exception(TransactionTimeout())\n",
      "  File \"/opt/conda/lib/python3.9/asyncio/futures.py\", line 270, in set_exception\n",
      "    raise exceptions.InvalidStateError(f'{self._state}: {self!r}')\n",
      "asyncio.exceptions.InvalidStateError: FINISHED: <Future finished result=(Message(messa...\\x00\\x13\\xf5'), ('172.25.0.5', 36360))>\n"
     ]
    },
    {
     "name": "stdout",
     "output_type": "stream",
     "text": [
      "♫♫♫ > DUET LIVE STATUS  -  Objects: 1  Requests: 0   Messages: 23  Request Handlers: 1                                \r"
     ]
    },
    {
     "name": "stderr",
     "output_type": "stream",
     "text": [
      "IOStream.flush timed out\n",
      "IOStream.flush timed out\n",
      "IOStream.flush timed out\n",
      "IOStream.flush timed out\n",
      "ERROR:asyncio:Exception in callback Transaction.__retry()\n",
      "handle: <TimerHandle when=64377.979424557 Transaction.__retry()>\n",
      "Traceback (most recent call last):\n",
      "  File \"/opt/conda/lib/python3.9/asyncio/events.py\", line 80, in _run\n",
      "    self._context.run(self._callback, *self._args)\n",
      "  File \"/opt/conda/lib/python3.9/site-packages/aioice/stun.py\", line 306, in __retry\n",
      "    self.__future.set_exception(TransactionTimeout())\n",
      "  File \"/opt/conda/lib/python3.9/asyncio/futures.py\", line 270, in set_exception\n",
      "    raise exceptions.InvalidStateError(f'{self._state}: {self!r}')\n",
      "asyncio.exceptions.InvalidStateError: FINISHED: <Future finished result=(Message(messa...Po\\x11,T\\xe1'), ('172.25.0.5', 36360))>\n"
     ]
    }
   ],
   "source": [
    "duet.requests.add_handler(\n",
    "    #name=\"reconstruct\",\n",
    "    action=\"accept\"\n",
    ")"
   ]
  },
  {
   "cell_type": "markdown",
   "id": "55196503",
   "metadata": {},
   "source": [
    "---\n",
    "\n",
    "### 5 – Terminate Controller\n",
    "\n",
    "Whenever you have finished with this notebook, be sure to terminate the controller. This is especially important if your business logic runs across multiple notebooks.\n",
    "(Note: the terminating the controller will not terminate the Duet session)."
   ]
  },
  {
   "cell_type": "code",
   "execution_count": null,
   "id": "061b48ed",
   "metadata": {},
   "outputs": [],
   "source": [
    "await agent_controller.terminate()"
   ]
  },
  {
   "cell_type": "markdown",
   "id": "e58f34d7",
   "metadata": {
    "pycharm": {
     "name": "#%% md\n"
    }
   },
   "source": [
    "---\n",
    "\n",
    "<div style=\"font-size: 25px\"><center><b>Break Point 10 / 11 / 12</b></center></div>\n",
    "<div style=\"font-size: 50px\"><center>🚗 ➡️ 🚛 / 🛵 / 🏙️ </center></div><br>\n",
    "<center><b>Please proceed to the remaining Manufacturers and run all cells between Steps 4.2 and 4.3 <br> If you have uploaded all data to the manufacturers' datastored, proceed to the City agent Step 4.2</b></center>\n",
    "\n",
    "## 🔥🔥🔥 You can close this notebook now 🔥🔥🔥"
   ]
  },
  {
   "cell_type": "code",
   "execution_count": null,
   "id": "3974d966",
   "metadata": {
    "collapsed": false,
    "jupyter": {
     "outputs_hidden": false
    },
    "pycharm": {
     "name": "#%%\n"
    }
   },
   "outputs": [],
   "source": []
  }
 ],
 "metadata": {
  "kernelspec": {
   "display_name": "Python 3 (ipykernel)",
   "language": "python",
   "name": "python3"
  },
  "language_info": {
   "codemirror_mode": {
    "name": "ipython",
    "version": 3
   },
   "file_extension": ".py",
   "mimetype": "text/x-python",
   "name": "python",
   "nbconvert_exporter": "python",
   "pygments_lexer": "ipython3",
   "version": "3.9.5"
  }
 },
 "nbformat": 4,
 "nbformat_minor": 5
}
