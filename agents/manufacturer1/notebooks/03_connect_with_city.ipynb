{
 "cells": [
  {
   "cell_type": "markdown",
   "id": "bd50d08a",
   "metadata": {},
   "source": [
    "# PETs/TETs – Hyperledger Aries / PySyft – Manufacturer 1 (Holder) 💼"
   ]
  },
  {
   "cell_type": "code",
   "execution_count": 1,
   "id": "c3743fc4",
   "metadata": {},
   "outputs": [
    {
     "data": {
      "application/javascript": [
       "document.title = '💼 Manufacturer1 Agent'\n"
      ],
      "text/plain": [
       "<IPython.core.display.Javascript object>"
      ]
     },
     "metadata": {},
     "output_type": "display_data"
    }
   ],
   "source": [
    "%%javascript\n",
    "document.title = '💼 Manufacturer1 Agent'"
   ]
  },
  {
   "cell_type": "markdown",
   "id": "8dedd1f7",
   "metadata": {},
   "source": [
    "## PART 3: Connect with City to Analyze Data\n",
    "\n",
    "**What:** -\n",
    "\n",
    "**Why:** -\n",
    "\n",
    "**How:** <br>\n",
    "\n",
    "\n",
    "**Accompanying Agents and Notebooks:**\n",
    "* City 🏙️️: `03_connect_with_manufacturer1.ipynb`"
   ]
  },
  {
   "cell_type": "markdown",
   "id": "566f80a4",
   "metadata": {
    "pycharm": {
     "name": "#%% md\n"
    }
   },
   "source": [
    "---\n",
    "\n",
    "### 0 - Setup\n",
    "#### 0.1 - Imports"
   ]
  },
  {
   "cell_type": "code",
   "execution_count": 2,
   "id": "11bd9095",
   "metadata": {
    "pycharm": {
     "name": "#%%\n"
    }
   },
   "outputs": [],
   "source": [
    "import libs.helpers as helpers\n",
    "import os\n",
    "import syft as sy\n",
    "import time\n",
    "import torch\n",
    "import sympc\n",
    "\n",
    "from aries_cloudcontroller import AriesAgentController\n",
    "from libs.agent_connection_manager import CredentialHolder\n",
    "from pprintpp import pprint\n",
    "from termcolor import colored\n",
    "from sympc.session import Session\n",
    "from sympc.session import SessionManager\n",
    "from sympc.tensor import MPCTensor"
   ]
  },
  {
   "cell_type": "markdown",
   "id": "37e3cda1",
   "metadata": {
    "pycharm": {
     "name": "#%% md\n"
    }
   },
   "source": [
    "#### 0.2 – Variables"
   ]
  },
  {
   "cell_type": "code",
   "execution_count": 3,
   "id": "a0ea24fc",
   "metadata": {
    "pycharm": {
     "name": "#%%\n"
    }
   },
   "outputs": [],
   "source": [
    "# Get relevant details from .env file\n",
    "api_key = os.getenv(\"ACAPY_ADMIN_API_KEY\")\n",
    "admin_url = os.getenv(\"ADMIN_URL\")\n",
    "webhook_port = int(os.getenv(\"WEBHOOK_PORT\"))\n",
    "webhook_host = \"0.0.0.0\""
   ]
  },
  {
   "cell_type": "markdown",
   "id": "e28f9e8e",
   "metadata": {
    "pycharm": {
     "name": "#%% md\n"
    }
   },
   "source": [
    "---\n",
    "\n",
    "<a id=1></a>\n",
    "\n",
    "### 1 – Initiate Manufacturer1 Agent\n",
    "#### 1.1 – Init ACA-PY agent controller"
   ]
  },
  {
   "cell_type": "code",
   "execution_count": 4,
   "id": "3f08af1f",
   "metadata": {},
   "outputs": [
    {
     "name": "stdout",
     "output_type": "stream",
     "text": [
      "Initialising a controller with admin api at http://manufacturer1-agent:3021 and an api key of adminApiKey\n"
     ]
    }
   ],
   "source": [
    "# Setup\n",
    "agent_controller = AriesAgentController(admin_url,api_key)\n",
    "print(f\"Initialising a controller with admin api at {admin_url} and an api key of {api_key}\")"
   ]
  },
  {
   "cell_type": "markdown",
   "id": "b42efebe",
   "metadata": {},
   "source": [
    "#### 1.2 – Start Webhook Server to enable communication with other agents\n",
    "@todo: is communication with other agents, or with other docker containers?"
   ]
  },
  {
   "cell_type": "code",
   "execution_count": 5,
   "id": "11288df7",
   "metadata": {},
   "outputs": [
    {
     "name": "stdout",
     "output_type": "stream",
     "text": [
      "Listening for webhooks from agent at http://0.0.0.0:3010\n"
     ]
    }
   ],
   "source": [
    "# Listen on webhook server\n",
    "await agent_controller.init_webhook_server(webhook_host, webhook_port)\n",
    "print(f\"Listening for webhooks from agent at http://{webhook_host}:{webhook_port}\")"
   ]
  },
  {
   "cell_type": "markdown",
   "id": "91f534af",
   "metadata": {},
   "source": [
    "#### 1.3 – Init ACM issuing authority"
   ]
  },
  {
   "cell_type": "code",
   "execution_count": 6,
   "id": "01ad2c0d",
   "metadata": {
    "collapsed": false,
    "jupyter": {
     "outputs_hidden": false
    },
    "pycharm": {
     "name": "#%%\n"
    }
   },
   "outputs": [
    {
     "name": "stdout",
     "output_type": "stream",
     "text": [
      "\u001B[1m\u001B[32mSuccessfully initiated AgentConnectionManager for a(n) Holder ACA-PY agent\u001B[0m\n"
     ]
    },
    {
     "data": {
      "text/plain": [
       "{'results': []}"
      ]
     },
     "execution_count": 6,
     "metadata": {},
     "output_type": "execute_result"
    }
   ],
   "source": [
    "# The CredentialHolder registers relevant webhook servers and event listeners\n",
    "manufacturer1_agent = CredentialHolder(agent_controller)\n",
    "\n",
    "# Verify if Manufacturer already has a VC\n",
    "# (if there are manufacturer credentials, there is no need to execute the notebook)\n",
    "manufacturer1_agent.get_credentials()"
   ]
  },
  {
   "cell_type": "markdown",
   "id": "5605e1e5",
   "metadata": {},
   "source": [
    "---\n",
    "\n",
    "<a id=2></a>\n",
    "\n",
    "### 2 – Establish a connection with the City agent 🏙️\n",
    "A connection with the credential issuer (i.e., the authority agent) must be established before a VC can be received. In this scenario, the manufacturer1 requests a connection with the Authority to be certified as an official city agency. Thus, the manufacturer1 agent sends an invitation to the Authority. In real life, the invitation can be shared via video call, phone call, or E-Mail. In this PoC, this is represented by copy and pasting the invitation into the manufacturers' notebooks.\n",
    "\n",
    "#### 2.1 Join invitation of City agent 🏙️\n",
    "Copy and paste the multi-use invitation of the city agent, and establish a connection with them."
   ]
  },
  {
   "cell_type": "code",
   "execution_count": 7,
   "id": "47f40e12",
   "metadata": {},
   "outputs": [
    {
     "name": "stdout",
     "output_type": "stream",
     "text": [
      "\u001B[1m\u001B[35mPlease enter invitation received by external agent:\u001B[0m\n"
     ]
    },
    {
     "name": "stdin",
     "output_type": "stream",
     "text": [
      "\u001B[35mInvitation: \u001B[0m {     '@id': '83c7c09f-a422-4983-9348-b1e123f1fe7d',     '@type': 'did:sov:BzCbsNYhMrjHiqZDTUASHg;spec/connections/1.0/invitation',     'label': 'City-Agency',     'recipientKeys': ['GjWMfWa7fNjSL5MLjPYBaPmmpTAZ8cMqQwpxyPxBg5Rz'],     'serviceEndpoint': 'https://09fc-193-9-114-179.ngrok.io', }\n"
     ]
    },
    {
     "name": "stdout",
     "output_type": "stream",
     "text": [
      "\n",
      "---------------------------------------------------------------------\n",
      "\u001B[1mConnection Webhook Event Received: Connections Handler\u001B[0m\n",
      "Connection ID :  bff477eb-11e6-4b0c-84b4-f890ac1e7733\n",
      "State :  \u001B[34minvitation (invitation-received)\u001B[0m\n",
      "Routing State : none\n",
      "Connection with :  City-Agency\n",
      "Their Role :  inviter\n",
      "---------------------------------------------------------------------\n",
      "\n",
      "---------------------------------------------------------------------\n",
      "\u001B[1mConnection Webhook Event Received: Connections Handler\u001B[0m\n",
      "Connection ID :  bff477eb-11e6-4b0c-84b4-f890ac1e7733\n",
      "State :  \u001B[34mrequest (request-sent)\u001B[0m\n",
      "Routing State : none\n",
      "Connection with :  City-Agency\n",
      "Their Role :  inviter\n",
      "---------------------------------------------------------------------\n",
      "\n",
      "---------------------------------------------------------------------\n",
      "\u001B[1mConnection Webhook Event Received: Connections Handler\u001B[0m\n",
      "Connection ID :  bff477eb-11e6-4b0c-84b4-f890ac1e7733\n",
      "State :  \u001B[34mresponse (response-received)\u001B[0m\n",
      "Routing State : none\n",
      "Connection with :  City-Agency\n",
      "Their Role :  inviter\n",
      "---------------------------------------------------------------------\n",
      "\n",
      "---------------------------------------------------------------------\n",
      "\u001B[1mConnection Webhook Event Received: Connections Handler\u001B[0m\n",
      "Connection ID :  bff477eb-11e6-4b0c-84b4-f890ac1e7733\n",
      "State :  \u001B[34mactive (completed)\u001B[0m\n",
      "Routing State : none\n",
      "Connection with :  City-Agency\n",
      "Their Role :  inviter\n",
      "---------------------------------------------------------------------\n",
      "\u001B[1m\u001B[32m\n",
      "Connection ID: bff477eb-11e6-4b0c-84b4-f890ac1e7733 is now active\u001B[0m\n"
     ]
    }
   ],
   "source": [
    "# Variables\n",
    "alias = \"undisclosedM1\"\n",
    "auto_accept = True\n",
    "\n",
    "# Receive connection invitation\n",
    "connection_id = manufacturer1_agent.receive_connection_invitation(alias=alias, auto_accept=auto_accept)"
   ]
  },
  {
   "cell_type": "markdown",
   "id": "733b6b31",
   "metadata": {},
   "source": [
    "<div style=\"font-size: 25px\"><center><b>Break Point 2/3/4</b></center></div>\n",
    "<div style=\"font-size: 50px\"><center>💼 ➡️ 💼 / 💼 / 🏙️ </center></div><br>\n",
    "<center><b>Please proceed to the remaining Manufacturers. <br> If you have established a connection between the City and all Manufacturers, proceed to the City Notebook's Step 2.3</b></center>\n",
    "\n",
    "---"
   ]
  },
  {
   "cell_type": "markdown",
   "id": "0f346dbb",
   "metadata": {},
   "source": [
    "### 3 – Create Presentation to Send Proof Presentation\n",
    "\n",
    "#### 3.1 – Create presentation that satisfies requirements of proof request\n",
    "Before you can present a presentation, you must identify the presentation record which you wish to respond to with a presentation. To do so, the `prepare_presentation()` function runs through the following steps: \n",
    "1. Get all proof requests that were sent through `connection_id`\n",
    "2. Get the most recent `presentation_exchange_id` and the corresponding `proof_request` from (1)\n",
    "3. Get the restrictions the City agent defined in `proof_request` from (2)\n",
    "4. Compare all VCs the Manufacturer1 agent has stored, and find (if available) a VC that satisfies the restrictions from (3)\n",
    "5. Return a presentation dictionary from a VC from (4) that satisfies all requirements. Generally, a presentation consists of three classes of attributes: <br>\n",
    "a. `requested_attributes`: Attributes that were signed by an issuer and have been revealed in the presentation process <br>\n",
    "b. `self_attested_attributes`: Attributes that the prover has self attested to in the presentation object. <br>\n",
    "c. `requested_predicates` (predicate proofs): Attribute values that have been proven to meet some statement. (TODO: Show how you can parse this information)"
   ]
  },
  {
   "cell_type": "code",
   "execution_count": null,
   "id": "eda9bb73",
   "metadata": {},
   "outputs": [],
   "source": [
    "presentation, presentation_exchange_id = manufacturer1_agent.prepare_presentation(connection_id)"
   ]
  },
  {
   "cell_type": "markdown",
   "id": "b2c9632f",
   "metadata": {},
   "source": [
    "#### 3.2 – Send Presentation\n",
    "\n",
    "Send the presentation to the recipient of `presentation_exchange_id`"
   ]
  },
  {
   "cell_type": "code",
   "execution_count": null,
   "id": "5afcd679",
   "metadata": {},
   "outputs": [],
   "source": [
    "manufacturer1_agent.send_proof_presentation(presentation_exchange_id, presentation)"
   ]
  },
  {
   "cell_type": "markdown",
   "id": "3c62ce34",
   "metadata": {},
   "source": [
    "<div style=\"font-size: 25px\"><center><b>Break Point 6/7/8</b></center></div>\n",
    "<div style=\"font-size: 50px\"><center>💼 ➡️ 💼 / 💼 / 🏙️ </center></div><br>\n",
    "<center><b>Please proceed to the remaining Manufacturers and run all cells between Steps 3 and 4.1 <br> If you have sent proof presentations from all manufacturers, proceed to the City Notebook's Step 3.3 </b></center>\n"
   ]
  },
  {
   "cell_type": "markdown",
   "id": "6b5f2c91",
   "metadata": {},
   "source": [
    "---\n",
    "\n",
    "### 4 – Do Data Science\n",
    "\n",
    "#### 4.1 – Establish a Duet Connection: Send Duet invitation\n",
    "Duet is a package that allows you to exchange encrypted data and run privacy-preserving arithmetic operations on them (e.g., through homomorphic encryption or secure multiparty computation)."
   ]
  },
  {
   "cell_type": "code",
   "execution_count": 8,
   "id": "a91db7d5",
   "metadata": {},
   "outputs": [
    {
     "name": "stdout",
     "output_type": "stream",
     "text": [
      "🎤  🎸  ♪♪♪ Starting Duet ♫♫♫  🎻  🎹\n",
      "\n",
      "♫♫♫ >\u001B[93m DISCLAIMER\u001B[0m: \u001B[1mDuet is an experimental feature currently in beta.\n",
      "♫♫♫ > Use at your own risk.\n",
      "\u001B[0m\n",
      "\u001B[1m\n",
      "    > ❤️ \u001B[91mLove\u001B[0m \u001B[92mDuet\u001B[0m? \u001B[93mPlease\u001B[0m \u001B[94mconsider\u001B[0m \u001B[95msupporting\u001B[0m \u001B[91mour\u001B[0m \u001B[93mcommunity!\u001B[0m\n",
      "    > https://github.com/sponsors/OpenMined\u001B[1m\n",
      "\n",
      "♫♫♫ > Punching through firewall to OpenGrid Network Node at:\n",
      "♫♫♫ > http://ec2-18-218-7-180.us-east-2.compute.amazonaws.com:5000\n",
      "♫♫♫ >\n",
      "♫♫♫ > ...waiting for response from OpenGrid Network... \n",
      "♫♫♫ > \u001B[92mDONE!\u001B[0m\n",
      "\n",
      "♫♫♫ > \u001B[1mSTEP 1:\u001B[0m Sending Duet Token 3c19d7f967d8e2b5f9e66a8eee3c3c0c\n",
      "♫♫♫ > to Duet Partner City-Agency\n",
      "♫♫♫ > via Connection ID bff477eb-11e6-4b0c-84b4-f890ac1e7733\n",
      "\u001B[1m\u001B[32m♫♫♫ > Done!\u001B[0m\n",
      "\n",
      "♫♫♫ > \u001B[1mSTEP 2:\u001B[0m Awaiting Duet Token from Duet Partner...\n",
      "\n",
      "♫♫♫ > \u001B[1m\u001B[32mDONE!\u001B[0m Partner's Duet Token: 1736525906a45a956af050987815ecac\n",
      "♫♫♫ > Connecting...\n",
      "\n",
      "♫♫♫ > \u001B[92mCONNECTED!\u001B[0m\n",
      "\n",
      "10389 DUET LIVE STATUS  -  Objects: 1  Requests: 0   Messages: 9  Request Handlers: 0                                \n",
      "275 10390\n",
      "276 10391\n",
      "277 10392\n",
      "278 10393\n",
      "279 10394\n",
      "280 10395\n",
      "281 10396\n",
      "282 10397\n",
      "283 10398\n",
      "284 10399\n",
      "♫♫♫ > DUET LIVE STATUS  -  Objects: 1  Requests: 0   Messages: 9  Request Handlers: 0                                \n",
      "557 10672\n",
      "558 10673\n",
      "559 10674\n",
      "560 10675\n",
      "561 10676\n",
      "562 10677\n",
      "563 10678\n",
      "564 10679\n",
      "565 10680\n",
      "566 10681\n",
      "567 10682\n",
      "568 10683\n",
      "569 10684\n",
      "570 10685\n",
      "571 10686\n",
      "572 10687\n",
      "573 10688\n",
      "574 10689\n",
      "575 10690\n",
      "576 10691\n",
      "577 10692\n",
      "578 10693\n",
      "579 10694\n",
      "580 10695\n",
      "581 10696\n",
      "582 10697\n",
      "583 10698\n",
      "584 10699\n",
      "585 10700\n",
      "586 10701\n",
      "587 10702\n",
      "588 10703\n",
      "589 10704\n",
      "590 10705\n",
      "591 10706\n",
      "592 10707\n",
      "593 10708\n",
      "594 10709\n",
      "595 10710\n",
      "596 10711\n",
      "597 10712\n",
      "598 10713\n",
      "599 10714\n",
      "600 10715\n",
      "601 10716\n",
      "602 10717\n",
      "603 10718\n",
      "604 10719\n",
      "605 10720\n",
      "606 10721\n",
      "607 10722\n",
      "608 10723\n",
      "609 10724\n",
      "610 10725\n",
      "611 10726\n",
      "612 10727\n",
      "613 10728\n",
      "614 10729\n",
      "615 10730\n",
      "616 10731\n",
      "617 10732\n",
      "618 10733\n",
      "619 10734\n",
      "620 10735\n",
      "621 10736\n",
      "622 10737\n",
      "623 10738\n",
      "624 10739\n",
      "625 10740\n",
      "626 10741\n",
      "627 10742\n",
      "628 10743\n",
      "629 10744\n",
      "630 10745\n",
      "631 10746\n",
      "632 10747\n",
      "633 10748\n",
      "634 10749\n",
      "635 10750\n",
      "636 10751\n",
      "637 10752\n",
      "638 10753\n",
      "639 10754\n",
      "640 10755\n",
      "641 10756\n",
      "642 10757\n",
      "643 10758\n",
      "644 10759\n",
      "645 10760\n",
      "646 10761\n",
      "647 10762\n",
      "11598 DUET LIVE STATUS  *  Objects: 1  Requests: 0   Messages: 9  Request Handlers: 0                                \n",
      "1484 11599\n",
      "1485 11600\n",
      "1486 11601\n",
      "1487 11602\n",
      "1488 11603\n",
      "1489 11604\n",
      "1490 11605\n",
      "1491 11606\n",
      "1492 11607\n",
      "1493 11608\n",
      "1494 11609\n",
      "1495 11610\n",
      "1496 11611\n",
      "1497 11612\n",
      "1498 11613\n",
      "1499 11614\n",
      "1500 11615\n",
      "1501 11616\n",
      "1916 12031 LIVE STATUS  *  Objects: 1  Requests: 0   Messages: 9  Request Handlers: 0                                \n",
      "1917 12032\n",
      "1918 12033\n",
      "1919 12034\n",
      "1920 12035\n",
      "1921 12036\n",
      "1922 12037\n",
      "1923 12038\n",
      "1924 12039\n",
      "1925 12040\n",
      "1926 12041\n",
      "1927 12042\n",
      "1928 12043\n",
      "1929 12044\n",
      "1930 12045\n",
      "1931 12046\n",
      "1932 12047\n",
      "1933 12048\n",
      "1934 12049\n",
      "1935 12050\n",
      "1936 12051\n",
      "1937 12052\n",
      "1938 12053\n",
      "1939 12054\n",
      "1940 12055\n",
      "1941 12056\n",
      "1942 12057\n",
      "1943 12058\n",
      "1944 12059\n",
      "1945 12060\n",
      "1946 12061\n",
      "1947 12062\n",
      "1948 12063\n",
      "1949 12064\n",
      "1950 12065\n",
      "1951 12066\n",
      "1952 12067\n",
      "1953 12068\n",
      "1954 12069\n",
      "1955 12070\n",
      "1956 12071\n",
      "1957 12072\n",
      "1958 12073\n",
      "1959 12074\n",
      "1960 12075\n",
      "1961 12076\n",
      "1962 12077\n",
      "1963 12078\n",
      "1964 12079\n",
      "1965 12080\n",
      "1966 12081\n",
      "1967 12082\n",
      "1968 12083\n",
      "1969 12084\n",
      "1970 12085\n",
      "1971 12086\n",
      "1972 12087\n",
      "1973 12088\n",
      "1974 12089\n",
      "1975 12090\n",
      "1976 12091\n",
      "1977 12092\n",
      "1978 12093\n",
      "1979 12094\n",
      "1980 12095\n",
      "1981 12096\n",
      "1982 12097\n",
      "1983 12098\n",
      "1984 12099\n",
      "1985 12100\n",
      "1986 12101\n",
      "1987 12102\n",
      "1988 12103\n",
      "1989 12104\n",
      "1990 12105\n",
      "1991 12106\n",
      "1992 12107\n",
      "1993 12108\n",
      "1994 12109\n",
      "1995 12110\n",
      "1996 12111\n",
      "1997 12112\n",
      "1998 12113\n",
      "1999 12114\n",
      "2000 12115\n",
      "2001 12116\n",
      "2002 12117\n",
      "2003 12118\n",
      "2004 12119\n",
      "2005 12120\n",
      "2006 12121\n",
      "2007 12122\n",
      "2008 12123\n",
      "2009 12124\n",
      "2010 12125\n",
      "2011 12126\n",
      "2012 12127\n",
      "2013 12128\n",
      "2014 12129\n",
      "2015 12130\n",
      "12668 DUET LIVE STATUS  -  Objects: 1  Requests: 0   Messages: 9  Request Handlers: 0                                \n",
      "2554 12669\n",
      "2555 12670\n",
      "2556 12671\n",
      "2557 12672\n",
      "3147 13262 LIVE STATUS  -  Objects: 1  Requests: 0   Messages: 9  Request Handlers: 0                                \n",
      "3148 13263\n",
      "3149 13264\n",
      "3150 13265\n",
      "3151 13266\n",
      "3152 13267\n",
      "3153 13268\n",
      "3154 13269\n",
      "3155 13270\n",
      "3156 13271\n",
      "3157 13272\n",
      "3158 13273\n",
      "3159 13274\n",
      "3160 13275\n",
      "3161 13276\n",
      "3162 13277\n",
      "3163 13278\n",
      "3164 13279\n",
      "3165 13280\n",
      "3166 13281\n",
      "3167 13282\n",
      "3168 13283\n",
      "3169 13284\n",
      "3170 13285\n",
      "3171 13286\n",
      "3172 13287\n",
      "3173 13288\n",
      "3174 13289\n",
      "3175 13290\n",
      "3176 13291\n",
      "3177 13292\n",
      "3178 13293\n",
      "3179 13294\n",
      "3180 13295\n",
      "3181 13296\n",
      "♫♫♫ > DUET LIVE STATUS  *  Objects: 3  Requests: 0   Messages: 17  Request Handlers: 1                                \r"
     ]
    }
   ],
   "source": [
    "# Set up connection_id to use for duet connection\n",
    "manufacturer1_agent._update_connection(connection_id=connection_id, is_duet_connection=True, reset_duet=True)\n",
    "\n",
    "# Create duet invitation for city agent\n",
    "duet = sy.launch_duet(credential_exchanger=manufacturer1_agent)"
   ]
  },
  {
   "cell_type": "markdown",
   "id": "19d79580",
   "metadata": {
    "pycharm": {
     "name": "#%% md\n"
    }
   },
   "source": [
    "#### 4.2 - Load data to duet store"
   ]
  },
  {
   "cell_type": "code",
   "execution_count": 9,
   "id": "a61645dd",
   "metadata": {},
   "outputs": [
    {
     "name": "stdout",
     "output_type": "stream",
     "text": [
      "♫♫♫ > DUET LIVE STATUS  *  Objects: 0  Requests: 0   Messages: 2  Request Handlers: 0                                \r"
     ]
    },
    {
     "data": {
      "text/html": [
       "<div>\n",
       "<style scoped>\n",
       "    .dataframe tbody tr th:only-of-type {\n",
       "        vertical-align: middle;\n",
       "    }\n",
       "\n",
       "    .dataframe tbody tr th {\n",
       "        vertical-align: top;\n",
       "    }\n",
       "\n",
       "    .dataframe thead th {\n",
       "        text-align: right;\n",
       "    }\n",
       "</style>\n",
       "<table border=\"1\" class=\"dataframe\">\n",
       "  <thead>\n",
       "    <tr style=\"text-align: right;\">\n",
       "      <th></th>\n",
       "    </tr>\n",
       "  </thead>\n",
       "  <tbody>\n",
       "  </tbody>\n",
       "</table>\n",
       "</div>"
      ],
      "text/plain": [
       "Empty DataFrame\n",
       "Columns: []\n",
       "Index: []"
      ]
     },
     "execution_count": 9,
     "metadata": {},
     "output_type": "execute_result"
    }
   ],
   "source": [
    "# Step 8: test there is no data in the server atm\n",
    "duet.store.pandas"
   ]
  },
  {
   "cell_type": "code",
   "execution_count": 10,
   "id": "b959b99a",
   "metadata": {},
   "outputs": [],
   "source": [
    "#age_data = torch.tensor([50,23,72,83])\n",
    "#age_data = age_data.tag(\"test_data_age\")\n",
    "#age_data = age_data.describe(\"description for age_data\")\n",
    "#age_data_pointer = age_data.send(duet, pointable=True)"
   ]
  },
  {
   "cell_type": "code",
   "execution_count": 11,
   "id": "8f905a69",
   "metadata": {},
   "outputs": [],
   "source": [
    "import pandas as pd\n",
    "import numpy as np"
   ]
  },
  {
   "cell_type": "code",
   "execution_count": 27,
   "id": "1910d14c",
   "metadata": {},
   "outputs": [
    {
     "data": {
      "text/html": [
       "<div>\n",
       "<style scoped>\n",
       "    .dataframe tbody tr th:only-of-type {\n",
       "        vertical-align: middle;\n",
       "    }\n",
       "\n",
       "    .dataframe tbody tr th {\n",
       "        vertical-align: top;\n",
       "    }\n",
       "\n",
       "    .dataframe thead th {\n",
       "        text-align: right;\n",
       "    }\n",
       "</style>\n",
       "<table border=\"1\" class=\"dataframe\">\n",
       "  <thead>\n",
       "    <tr style=\"text-align: right;\">\n",
       "      <th></th>\n",
       "      <th>i</th>\n",
       "      <th>vehicle_id</th>\n",
       "      <th>manufacturer_id</th>\n",
       "      <th>zipcode</th>\n",
       "      <th>timestamp</th>\n",
       "      <th>latlon</th>\n",
       "      <th>dist</th>\n",
       "      <th>seconds</th>\n",
       "      <th>co2_grams</th>\n",
       "      <th>total_dist</th>\n",
       "      <th>total_seconds</th>\n",
       "      <th>total_co2_grams</th>\n",
       "      <th>timestamp_tripstart</th>\n",
       "      <th>avg_kmperhour</th>\n",
       "      <th>avg_co2perkm</th>\n",
       "      <th>trip_id</th>\n",
       "    </tr>\n",
       "  </thead>\n",
       "  <tbody>\n",
       "    <tr>\n",
       "      <th>0</th>\n",
       "      <td>0</td>\n",
       "      <td>V38924682</td>\n",
       "      <td>V88337</td>\n",
       "      <td>14195</td>\n",
       "      <td>2021-08-19 07:21:42</td>\n",
       "      <td>(52.461766, 13.2364254)</td>\n",
       "      <td>0.00</td>\n",
       "      <td>0.0</td>\n",
       "      <td>0.00</td>\n",
       "      <td>0.00</td>\n",
       "      <td>0.0</td>\n",
       "      <td>0.0</td>\n",
       "      <td>2021-08-19 07:21:42</td>\n",
       "      <td>0.000000</td>\n",
       "      <td>0.000000</td>\n",
       "      <td>1</td>\n",
       "    </tr>\n",
       "    <tr>\n",
       "      <th>1</th>\n",
       "      <td>1</td>\n",
       "      <td>V38924682</td>\n",
       "      <td>V88337</td>\n",
       "      <td>14195</td>\n",
       "      <td>2021-08-19 07:21:54</td>\n",
       "      <td>(52.4607628, 13.2387575)</td>\n",
       "      <td>0.19</td>\n",
       "      <td>12.0</td>\n",
       "      <td>17.48</td>\n",
       "      <td>0.19</td>\n",
       "      <td>12.0</td>\n",
       "      <td>17.0</td>\n",
       "      <td>2021-08-19 07:21:42</td>\n",
       "      <td>57.000000</td>\n",
       "      <td>89.473684</td>\n",
       "      <td>1</td>\n",
       "    </tr>\n",
       "    <tr>\n",
       "      <th>2</th>\n",
       "      <td>2</td>\n",
       "      <td>V38924682</td>\n",
       "      <td>V88337</td>\n",
       "      <td>14195</td>\n",
       "      <td>2021-08-19 07:21:59</td>\n",
       "      <td>(52.4604334, 13.2393669)</td>\n",
       "      <td>0.06</td>\n",
       "      <td>5.0</td>\n",
       "      <td>5.22</td>\n",
       "      <td>0.25</td>\n",
       "      <td>17.0</td>\n",
       "      <td>22.0</td>\n",
       "      <td>2021-08-19 07:21:42</td>\n",
       "      <td>52.941176</td>\n",
       "      <td>88.000000</td>\n",
       "      <td>1</td>\n",
       "    </tr>\n",
       "    <tr>\n",
       "      <th>3</th>\n",
       "      <td>3</td>\n",
       "      <td>V38924682</td>\n",
       "      <td>V88337</td>\n",
       "      <td>14195</td>\n",
       "      <td>2021-08-19 07:22:13</td>\n",
       "      <td>(52.4592834, 13.2412835)</td>\n",
       "      <td>0.18</td>\n",
       "      <td>14.0</td>\n",
       "      <td>15.84</td>\n",
       "      <td>0.43</td>\n",
       "      <td>31.0</td>\n",
       "      <td>38.0</td>\n",
       "      <td>2021-08-19 07:21:42</td>\n",
       "      <td>49.935484</td>\n",
       "      <td>88.372093</td>\n",
       "      <td>1</td>\n",
       "    </tr>\n",
       "    <tr>\n",
       "      <th>4</th>\n",
       "      <td>4</td>\n",
       "      <td>V38924682</td>\n",
       "      <td>V88337</td>\n",
       "      <td>14195</td>\n",
       "      <td>2021-08-19 07:22:29</td>\n",
       "      <td>(52.4583943, 13.2432964)</td>\n",
       "      <td>0.17</td>\n",
       "      <td>16.0</td>\n",
       "      <td>13.94</td>\n",
       "      <td>0.60</td>\n",
       "      <td>47.0</td>\n",
       "      <td>52.0</td>\n",
       "      <td>2021-08-19 07:21:42</td>\n",
       "      <td>45.957447</td>\n",
       "      <td>86.666667</td>\n",
       "      <td>1</td>\n",
       "    </tr>\n",
       "  </tbody>\n",
       "</table>\n",
       "</div>"
      ],
      "text/plain": [
       "   i vehicle_id manufacturer_id  zipcode            timestamp  \\\n",
       "0  0  V38924682          V88337    14195  2021-08-19 07:21:42   \n",
       "1  1  V38924682          V88337    14195  2021-08-19 07:21:54   \n",
       "2  2  V38924682          V88337    14195  2021-08-19 07:21:59   \n",
       "3  3  V38924682          V88337    14195  2021-08-19 07:22:13   \n",
       "4  4  V38924682          V88337    14195  2021-08-19 07:22:29   \n",
       "\n",
       "                     latlon  dist  seconds  co2_grams  total_dist  \\\n",
       "0   (52.461766, 13.2364254)  0.00      0.0       0.00        0.00   \n",
       "1  (52.4607628, 13.2387575)  0.19     12.0      17.48        0.19   \n",
       "2  (52.4604334, 13.2393669)  0.06      5.0       5.22        0.25   \n",
       "3  (52.4592834, 13.2412835)  0.18     14.0      15.84        0.43   \n",
       "4  (52.4583943, 13.2432964)  0.17     16.0      13.94        0.60   \n",
       "\n",
       "   total_seconds  total_co2_grams  timestamp_tripstart  avg_kmperhour  \\\n",
       "0            0.0              0.0  2021-08-19 07:21:42       0.000000   \n",
       "1           12.0             17.0  2021-08-19 07:21:42      57.000000   \n",
       "2           17.0             22.0  2021-08-19 07:21:42      52.941176   \n",
       "3           31.0             38.0  2021-08-19 07:21:42      49.935484   \n",
       "4           47.0             52.0  2021-08-19 07:21:42      45.957447   \n",
       "\n",
       "   avg_co2perkm  trip_id  \n",
       "0      0.000000        1  \n",
       "1     89.473684        1  \n",
       "2     88.000000        1  \n",
       "3     88.372093        1  \n",
       "4     86.666667        1  "
      ]
     },
     "execution_count": 27,
     "metadata": {},
     "output_type": "execute_result"
    }
   ],
   "source": [
    "# Get dataframe and get hour of every entry from timestamp (zipcode data from https://daten.odis-berlin.de/de/dataset/plz/)\n",
    "df_zipcode = pd.read_csv(\"data/berlin_zipcodes.csv\").rename(columns={\"pls\":\"zipcode\"})\n",
    "df = pd.read_csv(\"data/data.csv\", index_col=0)\n",
    "df[\"hour\"] = df.timestamp.apply(lambda x: int(x[11:13]))\n",
    "df.head()"
   ]
  },
  {
   "cell_type": "code",
   "execution_count": 137,
   "id": "9b4f1d8e",
   "metadata": {},
   "outputs": [
    {
     "name": "stdout",
     "output_type": "stream",
     "text": [
      "(4085, 2)\n"
     ]
    },
    {
     "data": {
      "text/html": [
       "<div>\n",
       "<style scoped>\n",
       "    .dataframe tbody tr th:only-of-type {\n",
       "        vertical-align: middle;\n",
       "    }\n",
       "\n",
       "    .dataframe tbody tr th {\n",
       "        vertical-align: top;\n",
       "    }\n",
       "\n",
       "    .dataframe thead th {\n",
       "        text-align: right;\n",
       "    }\n",
       "</style>\n",
       "<table border=\"1\" class=\"dataframe\">\n",
       "  <thead>\n",
       "    <tr style=\"text-align: right;\">\n",
       "      <th></th>\n",
       "      <th>zipcode</th>\n",
       "      <th>co2_grams</th>\n",
       "    </tr>\n",
       "  </thead>\n",
       "  <tbody>\n",
       "    <tr>\n",
       "      <th>0</th>\n",
       "      <td>10115</td>\n",
       "      <td>0.0</td>\n",
       "    </tr>\n",
       "    <tr>\n",
       "      <th>1</th>\n",
       "      <td>10116</td>\n",
       "      <td>0.0</td>\n",
       "    </tr>\n",
       "    <tr>\n",
       "      <th>2</th>\n",
       "      <td>10117</td>\n",
       "      <td>0.0</td>\n",
       "    </tr>\n",
       "    <tr>\n",
       "      <th>3</th>\n",
       "      <td>10118</td>\n",
       "      <td>0.0</td>\n",
       "    </tr>\n",
       "    <tr>\n",
       "      <th>4</th>\n",
       "      <td>10119</td>\n",
       "      <td>0.0</td>\n",
       "    </tr>\n",
       "  </tbody>\n",
       "</table>\n",
       "</div>"
      ],
      "text/plain": [
       "   zipcode  co2_grams\n",
       "0    10115        0.0\n",
       "1    10116        0.0\n",
       "2    10117        0.0\n",
       "3    10118        0.0\n",
       "4    10119        0.0"
      ]
     },
     "execution_count": 137,
     "metadata": {},
     "output_type": "execute_result"
    }
   ],
   "source": [
    "# Group entries by zipcode #and hour, and sum up the co2 emmitted\n",
    "# Goal: give the city a CO2 emission per zipcode on August 19th\n",
    "df_co2 = df.groupby([\"zipcode\"]).sum()[[\"co2_grams\"]].reset_index()\n",
    "\n",
    "# Berlin Zipcodes range between 10115 and 14199 (see https://en.wikipedia.org/wiki/List_of_postal_codes_in_Germany)\n",
    "# Thus, we create a default tensor that ranges between 10115 (with index = 0) and 14199 (with index = 4084)\n",
    "df_co2_per_zipcode = pd.merge(df_zipcodes, df_co2, on=[\"zipcode\"], how=\"outer\").replace(np.nan, 0)\n",
    "print(df_co2_per_zipcode.shape)\n",
    "df_co2_per_zipcode.head()"
   ]
  },
  {
   "cell_type": "code",
   "execution_count": 75,
   "id": "f9370553",
   "metadata": {},
   "outputs": [],
   "source": [
    "#  Upload daily tensor\n",
    "co2_per_zip = df_co2_per_zipcode[\"co2_grams\"].tolist()\n",
    "co2_torch = torch.tensor(co2_per_zip)\n",
    "co2_torch = co2_torch.tag(\"co2-per-zip_2021-08-19\")\n",
    "co2_torch = co2_torch.describe(\"Total CO2 per Zipcode on August 19, 2021\")\n",
    "co2_torch_pointer = co2_torch.send(duet, pointable=True)"
   ]
  },
  {
   "cell_type": "code",
   "execution_count": 144,
   "id": "5b8478af",
   "metadata": {},
   "outputs": [
    {
     "name": "stdout",
     "output_type": "stream",
     "text": [
      "(4085, 24)\n"
     ]
    },
    {
     "data": {
      "text/html": [
       "<div>\n",
       "<style scoped>\n",
       "    .dataframe tbody tr th:only-of-type {\n",
       "        vertical-align: middle;\n",
       "    }\n",
       "\n",
       "    .dataframe tbody tr th {\n",
       "        vertical-align: top;\n",
       "    }\n",
       "\n",
       "    .dataframe thead th {\n",
       "        text-align: right;\n",
       "    }\n",
       "</style>\n",
       "<table border=\"1\" class=\"dataframe\">\n",
       "  <thead>\n",
       "    <tr style=\"text-align: right;\">\n",
       "      <th></th>\n",
       "      <th>0</th>\n",
       "      <th>1</th>\n",
       "      <th>2</th>\n",
       "      <th>3</th>\n",
       "      <th>4</th>\n",
       "      <th>5</th>\n",
       "      <th>6</th>\n",
       "      <th>7</th>\n",
       "      <th>8</th>\n",
       "      <th>9</th>\n",
       "      <th>...</th>\n",
       "      <th>14</th>\n",
       "      <th>15</th>\n",
       "      <th>16</th>\n",
       "      <th>17</th>\n",
       "      <th>18</th>\n",
       "      <th>19</th>\n",
       "      <th>20</th>\n",
       "      <th>21</th>\n",
       "      <th>22</th>\n",
       "      <th>23</th>\n",
       "    </tr>\n",
       "    <tr>\n",
       "      <th>zipcode</th>\n",
       "      <th></th>\n",
       "      <th></th>\n",
       "      <th></th>\n",
       "      <th></th>\n",
       "      <th></th>\n",
       "      <th></th>\n",
       "      <th></th>\n",
       "      <th></th>\n",
       "      <th></th>\n",
       "      <th></th>\n",
       "      <th></th>\n",
       "      <th></th>\n",
       "      <th></th>\n",
       "      <th></th>\n",
       "      <th></th>\n",
       "      <th></th>\n",
       "      <th></th>\n",
       "      <th></th>\n",
       "      <th></th>\n",
       "      <th></th>\n",
       "      <th></th>\n",
       "    </tr>\n",
       "  </thead>\n",
       "  <tbody>\n",
       "    <tr>\n",
       "      <th>10115</th>\n",
       "      <td>0.0</td>\n",
       "      <td>0.0</td>\n",
       "      <td>0.0</td>\n",
       "      <td>0.0</td>\n",
       "      <td>0.0</td>\n",
       "      <td>0.0</td>\n",
       "      <td>0.0</td>\n",
       "      <td>0.0</td>\n",
       "      <td>0.0</td>\n",
       "      <td>0.0</td>\n",
       "      <td>...</td>\n",
       "      <td>0.0</td>\n",
       "      <td>0.0</td>\n",
       "      <td>0.0</td>\n",
       "      <td>0.0</td>\n",
       "      <td>0.0</td>\n",
       "      <td>0.0</td>\n",
       "      <td>0.0</td>\n",
       "      <td>0.0</td>\n",
       "      <td>0.0</td>\n",
       "      <td>0.0</td>\n",
       "    </tr>\n",
       "    <tr>\n",
       "      <th>10116</th>\n",
       "      <td>0.0</td>\n",
       "      <td>0.0</td>\n",
       "      <td>0.0</td>\n",
       "      <td>0.0</td>\n",
       "      <td>0.0</td>\n",
       "      <td>0.0</td>\n",
       "      <td>0.0</td>\n",
       "      <td>0.0</td>\n",
       "      <td>0.0</td>\n",
       "      <td>0.0</td>\n",
       "      <td>...</td>\n",
       "      <td>0.0</td>\n",
       "      <td>0.0</td>\n",
       "      <td>0.0</td>\n",
       "      <td>0.0</td>\n",
       "      <td>0.0</td>\n",
       "      <td>0.0</td>\n",
       "      <td>0.0</td>\n",
       "      <td>0.0</td>\n",
       "      <td>0.0</td>\n",
       "      <td>0.0</td>\n",
       "    </tr>\n",
       "    <tr>\n",
       "      <th>10117</th>\n",
       "      <td>0.0</td>\n",
       "      <td>0.0</td>\n",
       "      <td>0.0</td>\n",
       "      <td>0.0</td>\n",
       "      <td>0.0</td>\n",
       "      <td>0.0</td>\n",
       "      <td>0.0</td>\n",
       "      <td>0.0</td>\n",
       "      <td>0.0</td>\n",
       "      <td>0.0</td>\n",
       "      <td>...</td>\n",
       "      <td>0.0</td>\n",
       "      <td>0.0</td>\n",
       "      <td>0.0</td>\n",
       "      <td>0.0</td>\n",
       "      <td>0.0</td>\n",
       "      <td>0.0</td>\n",
       "      <td>0.0</td>\n",
       "      <td>0.0</td>\n",
       "      <td>0.0</td>\n",
       "      <td>0.0</td>\n",
       "    </tr>\n",
       "    <tr>\n",
       "      <th>10118</th>\n",
       "      <td>0.0</td>\n",
       "      <td>0.0</td>\n",
       "      <td>0.0</td>\n",
       "      <td>0.0</td>\n",
       "      <td>0.0</td>\n",
       "      <td>0.0</td>\n",
       "      <td>0.0</td>\n",
       "      <td>0.0</td>\n",
       "      <td>0.0</td>\n",
       "      <td>0.0</td>\n",
       "      <td>...</td>\n",
       "      <td>0.0</td>\n",
       "      <td>0.0</td>\n",
       "      <td>0.0</td>\n",
       "      <td>0.0</td>\n",
       "      <td>0.0</td>\n",
       "      <td>0.0</td>\n",
       "      <td>0.0</td>\n",
       "      <td>0.0</td>\n",
       "      <td>0.0</td>\n",
       "      <td>0.0</td>\n",
       "    </tr>\n",
       "    <tr>\n",
       "      <th>10119</th>\n",
       "      <td>0.0</td>\n",
       "      <td>0.0</td>\n",
       "      <td>0.0</td>\n",
       "      <td>0.0</td>\n",
       "      <td>0.0</td>\n",
       "      <td>0.0</td>\n",
       "      <td>0.0</td>\n",
       "      <td>0.0</td>\n",
       "      <td>0.0</td>\n",
       "      <td>0.0</td>\n",
       "      <td>...</td>\n",
       "      <td>0.0</td>\n",
       "      <td>0.0</td>\n",
       "      <td>0.0</td>\n",
       "      <td>0.0</td>\n",
       "      <td>0.0</td>\n",
       "      <td>0.0</td>\n",
       "      <td>0.0</td>\n",
       "      <td>0.0</td>\n",
       "      <td>0.0</td>\n",
       "      <td>0.0</td>\n",
       "    </tr>\n",
       "  </tbody>\n",
       "</table>\n",
       "<p>5 rows × 24 columns</p>\n",
       "</div>"
      ],
      "text/plain": [
       "          0    1    2    3    4    5    6    7    8    9   ...   14   15   16  \\\n",
       "zipcode                                                    ...                  \n",
       "10115    0.0  0.0  0.0  0.0  0.0  0.0  0.0  0.0  0.0  0.0  ...  0.0  0.0  0.0   \n",
       "10116    0.0  0.0  0.0  0.0  0.0  0.0  0.0  0.0  0.0  0.0  ...  0.0  0.0  0.0   \n",
       "10117    0.0  0.0  0.0  0.0  0.0  0.0  0.0  0.0  0.0  0.0  ...  0.0  0.0  0.0   \n",
       "10118    0.0  0.0  0.0  0.0  0.0  0.0  0.0  0.0  0.0  0.0  ...  0.0  0.0  0.0   \n",
       "10119    0.0  0.0  0.0  0.0  0.0  0.0  0.0  0.0  0.0  0.0  ...  0.0  0.0  0.0   \n",
       "\n",
       "          17   18   19   20   21   22   23  \n",
       "zipcode                                     \n",
       "10115    0.0  0.0  0.0  0.0  0.0  0.0  0.0  \n",
       "10116    0.0  0.0  0.0  0.0  0.0  0.0  0.0  \n",
       "10117    0.0  0.0  0.0  0.0  0.0  0.0  0.0  \n",
       "10118    0.0  0.0  0.0  0.0  0.0  0.0  0.0  \n",
       "10119    0.0  0.0  0.0  0.0  0.0  0.0  0.0  \n",
       "\n",
       "[5 rows x 24 columns]"
      ]
     },
     "execution_count": 144,
     "metadata": {},
     "output_type": "execute_result"
    }
   ],
   "source": [
    "# Get hourly co2 \n",
    "df_hourly_co2 = df[[\"zipcode\", \"hour\",\"co2_grams\"]].groupby([\"zipcode\", \"hour\"]).sum().reset_index()\n",
    "df_hourly_co2 = df_hourly_co2.pivot(index=[\"zipcode\"], columns=[\"hour\"])[\"co2_grams\"].replace(np.nan, 0)\n",
    "\n",
    "# Get matrix that of shape (4085,25)\n",
    "df_hourly_zipcode = df_zipcodes.set_index(\"zipcode\").reindex(columns=list(range(0,24))).replace(np.nan,0)#.reset_index()\n",
    "\n",
    "# Add matrix-shaped pandas\n",
    "df_hourly_co2_per_zipcode = df_hourly_zipcode.add(df_hourly_co2, fill_value=0)\n",
    "print(df_hourly_co2_per_zipcode.shape)\n",
    "df_hourly_co2_per_zipcode.head()"
   ]
  },
  {
   "cell_type": "code",
   "execution_count": 146,
   "id": "039929e7",
   "metadata": {},
   "outputs": [],
   "source": [
    "hourly_co2_torch = torch.tensor(df_hourly_co2_per_zipcode.values)\n",
    "hourly_co2_torch = hourly_co2_torch.tag(\"hourly-co2-per-zip_2021-08-19\")\n",
    "hourly_co2_torch = hourly_co2_torch.describe(\"Total CO2 per Zipcode per Hour on August 19, 2021. Shape: zipcode (10115-14199) x hour (0-23) = 4085 x 24\")\n",
    "hourly_co2_torch_pointer = hourly_co2_torch.send(duet, pointable=True)"
   ]
  },
  {
   "cell_type": "code",
   "execution_count": 147,
   "id": "223d5c83",
   "metadata": {},
   "outputs": [
    {
     "data": {
      "text/html": [
       "<div>\n",
       "<style scoped>\n",
       "    .dataframe tbody tr th:only-of-type {\n",
       "        vertical-align: middle;\n",
       "    }\n",
       "\n",
       "    .dataframe tbody tr th {\n",
       "        vertical-align: top;\n",
       "    }\n",
       "\n",
       "    .dataframe thead th {\n",
       "        text-align: right;\n",
       "    }\n",
       "</style>\n",
       "<table border=\"1\" class=\"dataframe\">\n",
       "  <thead>\n",
       "    <tr style=\"text-align: right;\">\n",
       "      <th></th>\n",
       "      <th>ID</th>\n",
       "      <th>Tags</th>\n",
       "      <th>Description</th>\n",
       "      <th>object_type</th>\n",
       "    </tr>\n",
       "  </thead>\n",
       "  <tbody>\n",
       "    <tr>\n",
       "      <th>0</th>\n",
       "      <td>&lt;UID: fc8e7f182b53441397768ee006326736&gt;</td>\n",
       "      <td>[]</td>\n",
       "      <td></td>\n",
       "      <td>&lt;class 'sympc.session.session.Session'&gt;</td>\n",
       "    </tr>\n",
       "    <tr>\n",
       "      <th>1</th>\n",
       "      <td>&lt;UID: 12f6c5fa27794d99a1e9e935b1562b4e&gt;</td>\n",
       "      <td>[co2-per-zip_2021-08-19]</td>\n",
       "      <td>Total CO2 per Zipcode on August 19, 2021</td>\n",
       "      <td>&lt;class 'torch.Tensor'&gt;</td>\n",
       "    </tr>\n",
       "    <tr>\n",
       "      <th>2</th>\n",
       "      <td>&lt;UID: 3faf1f075cec4f35abee8c4688b19650&gt;</td>\n",
       "      <td>[hourly-co2-per-zip_2021-08-19]</td>\n",
       "      <td>Total CO2 per Zipcode per Hour on August 19, 2...</td>\n",
       "      <td>&lt;class 'torch.Tensor'&gt;</td>\n",
       "    </tr>\n",
       "  </tbody>\n",
       "</table>\n",
       "</div>"
      ],
      "text/plain": [
       "                                        ID                             Tags  \\\n",
       "0  <UID: fc8e7f182b53441397768ee006326736>                               []   \n",
       "1  <UID: 12f6c5fa27794d99a1e9e935b1562b4e>         [co2-per-zip_2021-08-19]   \n",
       "2  <UID: 3faf1f075cec4f35abee8c4688b19650>  [hourly-co2-per-zip_2021-08-19]   \n",
       "\n",
       "                                         Description  \\\n",
       "0                                                      \n",
       "1           Total CO2 per Zipcode on August 19, 2021   \n",
       "2  Total CO2 per Zipcode per Hour on August 19, 2...   \n",
       "\n",
       "                               object_type  \n",
       "0  <class 'sympc.session.session.Session'>  \n",
       "1                   <class 'torch.Tensor'>  \n",
       "2                   <class 'torch.Tensor'>  "
      ]
     },
     "execution_count": 147,
     "metadata": {},
     "output_type": "execute_result"
    }
   ],
   "source": [
    "duet.store.pandas"
   ]
  },
  {
   "cell_type": "code",
   "execution_count": 78,
   "id": "6c3dabf0",
   "metadata": {
    "collapsed": false,
    "jupyter": {
     "outputs_hidden": false
    },
    "pycharm": {
     "name": "#%%\n"
    }
   },
   "outputs": [],
   "source": [
    "# Step 11: Authorize the requests ds can make\n",
    "duet.requests.add_handler(action=\"accept\")"
   ]
  },
  {
   "cell_type": "markdown",
   "id": "387e8b88",
   "metadata": {},
   "source": [
    "## Terminate Controller\n",
    "\n",
    "Whenever you have finished with this notebook, be sure to terminate the controller. This is especially important if your business logic runs across multiple notebooks."
   ]
  },
  {
   "cell_type": "code",
   "execution_count": null,
   "id": "b294e2fc",
   "metadata": {},
   "outputs": [],
   "source": [
    "await agent_controller.terminate()"
   ]
  },
  {
   "cell_type": "code",
   "execution_count": null,
   "id": "f45dae4d",
   "metadata": {},
   "outputs": [],
   "source": []
  }
 ],
 "metadata": {
  "kernelspec": {
   "display_name": "Python 3 (ipykernel)",
   "language": "python",
   "name": "python3"
  },
  "language_info": {
   "codemirror_mode": {
    "name": "ipython",
    "version": 3
   },
   "file_extension": ".py",
   "mimetype": "text/x-python",
   "name": "python",
   "nbconvert_exporter": "python",
   "pygments_lexer": "ipython3",
   "version": "3.9.5"
  }
 },
 "nbformat": 4,
 "nbformat_minor": 5
}