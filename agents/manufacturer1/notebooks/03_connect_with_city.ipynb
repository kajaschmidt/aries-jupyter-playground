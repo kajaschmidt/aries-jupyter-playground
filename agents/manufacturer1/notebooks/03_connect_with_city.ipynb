{
 "cells": [
  {
   "cell_type": "markdown",
   "id": "1e02eaaa",
   "metadata": {},
   "source": [
    "# Connect with `City` Agent for remote SMC"
   ]
  },
  {
   "cell_type": "code",
   "execution_count": 1,
   "id": "a84da784",
   "metadata": {},
   "outputs": [
    {
     "data": {
      "application/javascript": [
       "document.title=\"Manufacturer1 Agent\"\n"
      ],
      "text/plain": [
       "<IPython.core.display.Javascript object>"
      ]
     },
     "metadata": {},
     "output_type": "display_data"
    }
   ],
   "source": [
    "%%javascript\n",
    "document.title=\"Manufacturer1 Agent\""
   ]
  },
  {
   "cell_type": "markdown",
   "id": "9e7e6f3f",
   "metadata": {},
   "source": [
    "### Imports"
   ]
  },
  {
   "cell_type": "code",
   "execution_count": 13,
   "id": "d814c93a",
   "metadata": {},
   "outputs": [],
   "source": [
    "from aries_cloudcontroller import AriesAgentController\n",
    "import os\n",
    "from termcolor import colored\n",
    "from pprintpp import pprint"
   ]
  },
  {
   "cell_type": "markdown",
   "id": "2e4e77a3",
   "metadata": {},
   "source": [
    "### Initialise the Agent Controller"
   ]
  },
  {
   "cell_type": "code",
   "execution_count": 3,
   "id": "3a8877da",
   "metadata": {},
   "outputs": [
    {
     "name": "stdout",
     "output_type": "stream",
     "text": [
      "Initialising a controller with admin api at http://manufacturer1-agent:3021 and an api key of adminApiKey\n"
     ]
    }
   ],
   "source": [
    "api_key = os.getenv(\"ACAPY_ADMIN_API_KEY\")\n",
    "admin_url = os.getenv(\"ADMIN_URL\")\n",
    "\n",
    "print(f\"Initialising a controller with admin api at {admin_url} and an api key of {api_key}\")\n",
    "agent_controller = AriesAgentController(admin_url,api_key)"
   ]
  },
  {
   "cell_type": "markdown",
   "id": "f79c55fc",
   "metadata": {},
   "source": [
    "### Start a Webhook Server"
   ]
  },
  {
   "cell_type": "code",
   "execution_count": 4,
   "id": "e408e74f",
   "metadata": {},
   "outputs": [
    {
     "name": "stdout",
     "output_type": "stream",
     "text": [
      "Listening for webhooks from agent at http://0.0.0.0:3010\n"
     ]
    }
   ],
   "source": [
    "webhook_port = int(os.getenv(\"WEBHOOK_PORT\"))\n",
    "webhook_host = \"0.0.0.0\"\n",
    "\n",
    "await agent_controller.init_webhook_server(webhook_host, webhook_port)\n",
    "\n",
    "print(f\"Listening for webhooks from agent at http://{webhook_host}:{webhook_port}\")"
   ]
  },
  {
   "cell_type": "markdown",
   "id": "cbe3dfa1",
   "metadata": {},
   "source": [
    "## Register Agent Event Listeners\n",
    "\n",
    "You can see some examples within the webhook_listeners recipe. Copy any relevant cells across and customise as needed."
   ]
  },
  {
   "cell_type": "code",
   "execution_count": 5,
   "id": "1f7262c4",
   "metadata": {},
   "outputs": [],
   "source": [
    "listeners = []\n",
    "\n",
    "# Receive connection messages\n",
    "def connections_handler(payload):\n",
    "    state = payload['state']\n",
    "    connection_id = payload[\"connection_id\"]\n",
    "    their_role = payload[\"their_role\"]\n",
    "    routing_state = payload[\"routing_state\"]\n",
    "    \n",
    "    print(\"----------------------------------------------------------\")\n",
    "    print(\"Connection Webhook Event Received\")\n",
    "    print(\"Connection ID : \", connection_id)\n",
    "    print(\"State : \", state)\n",
    "    print(\"Routing State : \", routing_state)\n",
    "    print(\"Their Role : \", their_role)\n",
    "    print(\"----------------------------------------------------------\")\n",
    "\n",
    "    if state == \"invitation\":\n",
    "        # Your business logic\n",
    "        print(\"invitation\")\n",
    "    elif state == \"request\":\n",
    "        # Your business logic\n",
    "        print(\"request\")\n",
    "\n",
    "    elif state == \"response\":\n",
    "        # Your business logic\n",
    "        print(\"response\")\n",
    "    elif state == \"active\":\n",
    "        # Your business logic\n",
    "        print(colored(\"Connection ID: {0} is now active.\".format(connection_id), \"green\", attrs=[\"bold\"]))\n",
    "\n",
    "\n",
    "\n",
    "connection_listener = {\n",
    "    \"handler\": connections_handler,\n",
    "    \"topic\": \"connections\"\n",
    "}\n",
    "\n",
    "listeners.append(connection_listener)\n",
    "\n",
    "\n",
    "def prover_proof_handler(payload):\n",
    "    role = payload[\"role\"]\n",
    "    connection_id = payload[\"connection_id\"]\n",
    "    pres_ex_id = payload[\"presentation_exchange_id\"]\n",
    "    state = payload[\"state\"]\n",
    "    print(\"\\n---------------------------------------------------------------------\\n\")\n",
    "    print(\"Handle present-proof\")\n",
    "    print(\"Connection ID : \", connection_id)\n",
    "    print(\"Presentation Exchange ID : \", pres_ex_id)\n",
    "    print(\"Protocol State : \", state)\n",
    "    print(\"Agent Role : \", role)\n",
    "    print(\"Initiator : \", payload[\"initiator\"])\n",
    "    print(\"\\n---------------------------------------------------------------------\\n\")\n",
    "    \n",
    "    \n",
    "    if state == \"request_received\":\n",
    "        presentation_request = payload[\"presentation_request\"]\n",
    "        print(\"Recieved Presentation Request\\n\")\n",
    "        print(\"\\nRequested Attributes - Note the restrictions. These limit the credentials we could respond with\\n\")\n",
    "        print(presentation_request[\"requested_attributes\"])\n",
    "    elif state == \"presentation_sent\":\n",
    "        print(\"Presentation sent\\n\")\n",
    "        \n",
    "    elif state == \"presentation_acked\":\n",
    "        print(\"Presentation has been acknowledged by the Issuer\")\n",
    "        \n",
    "prover_listener = {\n",
    "    \"topic\": \"present_proof\",\n",
    "    \"handler\": prover_proof_handler\n",
    "}\n",
    "\n",
    "listeners.append(prover_listener)\n",
    "\n",
    "\n",
    "agent_controller.register_listeners(listeners)"
   ]
  },
  {
   "cell_type": "markdown",
   "id": "a9bf2b14",
   "metadata": {},
   "source": [
    "## Accept Invitation\n",
    "\n",
    "Copy an invitation object from another agent playing the role inviter (see the inviter_template recipe)"
   ]
  },
  {
   "cell_type": "code",
   "execution_count": 6,
   "id": "5f7ee8ab",
   "metadata": {},
   "outputs": [],
   "source": [
    "invitation = {\n",
    "    '@id': '808061b1-42a3-495b-b8c8-c9c15e9c6e05',\n",
    "    '@type': 'did:sov:BzCbsNYhMrjHiqZDTUASHg;spec/connections/1.0/invitation',\n",
    "    'label': 'City',\n",
    "    'recipientKeys': ['3XPvTHWspTMf1wWWtsaFeviaEPaejD5c1Z3XRwRys5bA'],\n",
    "    'serviceEndpoint': 'https://54a5a5d5a57e.ngrok.io',\n",
    "}"
   ]
  },
  {
   "cell_type": "code",
   "execution_count": 7,
   "id": "3d48364b",
   "metadata": {},
   "outputs": [
    {
     "name": "stdout",
     "output_type": "stream",
     "text": [
      "----------------------------------------------------------\n",
      "Connection Webhook Event Received\n",
      "Connection ID :  34d38d37-2418-4e1f-ad08-e103030a15a6\n",
      "State :  invitation\n",
      "Routing State :  none\n",
      "Their Role :  inviter\n",
      "----------------------------------------------------------\n",
      "invitation\n",
      "----------------------------------------------------------\n",
      "Connection Webhook Event Received\n",
      "Connection ID :  34d38d37-2418-4e1f-ad08-e103030a15a6\n",
      "State :  request\n",
      "Routing State :  none\n",
      "Their Role :  inviter\n",
      "----------------------------------------------------------\n",
      "request\n",
      "----------------------------------------------------------\n",
      "Connection Webhook Event Received\n",
      "Connection ID :  34d38d37-2418-4e1f-ad08-e103030a15a6\n",
      "State :  response\n",
      "Routing State :  none\n",
      "Their Role :  inviter\n",
      "----------------------------------------------------------\n",
      "response\n",
      "----------------------------------------------------------\n",
      "Connection Webhook Event Received\n",
      "Connection ID :  34d38d37-2418-4e1f-ad08-e103030a15a6\n",
      "State :  active\n",
      "Routing State :  none\n",
      "Their Role :  inviter\n",
      "----------------------------------------------------------\n",
      "\u001b[1m\u001b[32mConnection ID: 34d38d37-2418-4e1f-ad08-e103030a15a6 is now active.\u001b[0m\n",
      "\n",
      "---------------------------------------------------------------------\n",
      "\n",
      "Handle present-proof\n",
      "Connection ID :  34d38d37-2418-4e1f-ad08-e103030a15a6\n",
      "Presentation Exchange ID :  e2ad02fb-8bbe-4468-baae-3c0f89549a38\n",
      "Protocol State :  request_received\n",
      "Agent Role :  prover\n",
      "Initiator :  external\n",
      "\n",
      "---------------------------------------------------------------------\n",
      "\n",
      "Recieved Presentation Request\n",
      "\n",
      "\n",
      "Requested Attributes - Note the restrictions. These limit the credentials we could respond with\n",
      "\n",
      "{'0_isManufacturer_uuid': {'restrictions': [{'schema_id': 'BQmsjXtsjzzmTtdwQg5Ftn:2:certify-manufacturer:0.0.1', 'issuer_did': 'KxYXF6vfTXMoBNg2uGt79g'}], 'name': 'isManufacturer'}}\n"
     ]
    }
   ],
   "source": [
    "auto_accept=\"true\"\n",
    "alias=None\n",
    "\n",
    "invite_response = await agent_controller.connections.receive_invitation(invitation, alias, auto_accept)\n",
    "connection_id = invite_response[\"connection_id\"]"
   ]
  },
  {
   "cell_type": "markdown",
   "id": "9137ffbb",
   "metadata": {},
   "source": [
    "## Optional: Send Proposal\n",
    "\n",
    "Propose a presentation to a verifier"
   ]
  },
  {
   "cell_type": "code",
   "execution_count": null,
   "id": "96c91767",
   "metadata": {},
   "outputs": [],
   "source": [
    "# TODO: Example proposal object below\n",
    "\n",
    "# proposal_object = {\n",
    "#   \"auto_present\": true,\n",
    "#   \"comment\": \"string\",\n",
    "#   \"connection_id\": \"3fa85f64-5717-4562-b3fc-2c963f66afa6\",\n",
    "#   \"presentation_proposal\": {\n",
    "#     \"@type\": \"did:sov:BzCbsNYhMrjHiqZDTUASHg;spec/present-proof/1.0/presentation-preview\",\n",
    "#     \"attributes\": [\n",
    "#       {\n",
    "#         \"cred_def_id\": \"WgWxqztrNooG92RXvxSTWv:3:CL:20:tag\",\n",
    "#         \"mime-type\": \"image/jpeg\",\n",
    "#         \"name\": \"favourite_drink\",\n",
    "#         \"referent\": \"0\",\n",
    "#         \"value\": \"martini\"\n",
    "#       }\n",
    "#     ],\n",
    "#     \"predicates\": [\n",
    "#       {\n",
    "#         \"cred_def_id\": \"WgWxqztrNooG92RXvxSTWv:3:CL:20:tag\",\n",
    "#         \"name\": \"high_score\",\n",
    "#         \"predicate\": \">=\",\n",
    "#         \"threshold\": 0\n",
    "#       }\n",
    "#     ]\n",
    "#   },\n",
    "#   \"trace\": false\n",
    "# }\n",
    "\n",
    "# proposal_response = await agent_controller.proofs.send_proposal(proposal_object)"
   ]
  },
  {
   "cell_type": "markdown",
   "id": "5805d046",
   "metadata": {},
   "source": [
    "## Fetch Presentation Records\n",
    "\n",
    "Before you can present a presentation, you must identify the presentation record which you wish to respond to with a presentation. This could also be done through the present_proof listeners which have access to a presentation record in the payload."
   ]
  },
  {
   "cell_type": "code",
   "execution_count": 8,
   "id": "d448a74a",
   "metadata": {},
   "outputs": [],
   "source": [
    "# Optional Query parameters\n",
    "verifier_connection_id = connection_id\n",
    "thread_id=None\n",
    "state = \"request_received\"\n",
    "role = \"prover\"\n",
    "\n",
    "proof_records_response = await agent_controller.proofs.get_records(verifier_connection_id, thread_id, state, role)\n",
    "\n",
    "# We fetch the first record from the response. You may want to customise this further\n",
    "presentation_record = proof_records_response[\"results\"][0]\n",
    "presentation_exchange_id = presentation_record[\"presentation_exchange_id\"]"
   ]
  },
  {
   "cell_type": "code",
   "execution_count": 14,
   "id": "cc78e643",
   "metadata": {},
   "outputs": [
    {
     "name": "stdout",
     "output_type": "stream",
     "text": [
      "{\n",
      "    'connection_id': '34d38d37-2418-4e1f-ad08-e103030a15a6',\n",
      "    'created_at': '2021-08-05 07:47:08.469712Z',\n",
      "    'initiator': 'external',\n",
      "    'presentation_exchange_id': 'e2ad02fb-8bbe-4468-baae-3c0f89549a38',\n",
      "    'presentation_request': {\n",
      "        'name': 'Name of Proof Request',\n",
      "        'non_revoked': {'to': 1628149482},\n",
      "        'nonce': '471517040101429148699515',\n",
      "        'requested_attributes': {\n",
      "            '0_isManufacturer_uuid': {\n",
      "                'name': 'isManufacturer',\n",
      "                'restrictions': [\n",
      "                    {\n",
      "                        'issuer_did': 'KxYXF6vfTXMoBNg2uGt79g',\n",
      "                        'schema_id': 'BQmsjXtsjzzmTtdwQg5Ftn:2:certify-manufacturer:0.0.1',\n",
      "                    },\n",
      "                ],\n",
      "            },\n",
      "        },\n",
      "        'requested_predicates': {},\n",
      "        'version': '1.0',\n",
      "    },\n",
      "    'presentation_request_dict': {\n",
      "        '@id': '83bbb9db-0e62-42a3-aabe-9ec961154850',\n",
      "        '@type': 'did:sov:BzCbsNYhMrjHiqZDTUASHg;spec/present-proof/1.0/request-presentation',\n",
      "        'comment': '<some optional comment>',\n",
      "        'request_presentations~attach': [\n",
      "            {\n",
      "                '@id': 'libindy-request-presentation-0',\n",
      "                'data': {\n",
      "                    'base64': 'eyJuYW1lIjogIk5hbWUgb2YgUHJvb2YgUmVxdWVzdCIsICJ2ZXJzaW9uIjogIjEuMCIsICJyZXF1ZXN0ZWRfYXR0cmlidXRlcyI6IHsiMF9pc01hbnVmYWN0dXJlcl91dWlkIjogeyJuYW1lIjogImlzTWFudWZhY3R1cmVyIiwgInJlc3RyaWN0aW9ucyI6IFt7InNjaGVtYV9pZCI6ICJCUW1zalh0c2p6em1UdGR3UWc1RnRuOjI6Y2VydGlmeS1tYW51ZmFjdHVyZXI6MC4wLjEiLCAiaXNzdWVyX2RpZCI6ICJLeFlYRjZ2ZlRYTW9CTmcydUd0NzlnIn1dfX0sICJyZXF1ZXN0ZWRfcHJlZGljYXRlcyI6IHt9LCAibm9uX3Jldm9rZWQiOiB7InRvIjogMTYyODE0OTQ4Mn0sICJub25jZSI6ICI0NzE1MTcwNDAxMDE0MjkxNDg2OTk1MTUifQ==',\n",
      "                },\n",
      "                'mime-type': 'application/json',\n",
      "            },\n",
      "        ],\n",
      "    },\n",
      "    'role': 'prover',\n",
      "    'state': 'request_received',\n",
      "    'thread_id': '83bbb9db-0e62-42a3-aabe-9ec961154850',\n",
      "    'trace': False,\n",
      "    'updated_at': '2021-08-05 07:47:08.469712Z',\n",
      "}\n"
     ]
    }
   ],
   "source": [
    "pprint(presentation_record)"
   ]
  },
  {
   "cell_type": "markdown",
   "id": "6e3656eb",
   "metadata": {},
   "source": [
    "## Search For Available Credentials to Construct Presentation From\n",
    "\n",
    "The presentation record can be used to query your agents wallet and return all credentials that could be used to construct valid presentation"
   ]
  },
  {
   "cell_type": "code",
   "execution_count": 16,
   "id": "347c0e14",
   "metadata": {},
   "outputs": [
    {
     "name": "stdout",
     "output_type": "stream",
     "text": [
      "Credentials stored that could be used to satisfy the request. In some situations you applications may have a choice which credential to reveal\n",
      "\n",
      "\n",
      "Generate the proof\n",
      "{'requested_predicates': {}, 'requested_attributes': {}, 'self_attested_attributes': {}}\n"
     ]
    }
   ],
   "source": [
    "# select credentials to provide for the proof\n",
    "credentials = await agent_controller.proofs.get_presentation_credentials(presentation_exchange_id)\n",
    "print(\"Credentials stored that could be used to satisfy the request. In some situations you applications may have a choice which credential to reveal\\n\")\n",
    "\n",
    "attribute_by_reft = {}\n",
    "revealed = {}\n",
    "self_attested = {}\n",
    "predicates = {}\n",
    "\n",
    "\n",
    "# Note we are working on a friendlier api to abstract this away\n",
    "\n",
    "if credentials:\n",
    "    for credential in credentials:\n",
    "\n",
    "        for attribute_reft in credential[\"presentation_referents\"]:\n",
    "            if attribute_reft not in attribute_by_reft:\n",
    "                attribute_by_reft[attribute_reft] = credential\n",
    "\n",
    "for (key, value) in attribute_by_reft.items():\n",
    "    print(f\"Attribute {presentation_record['presentation_request']['requested_attributes'][key]} can be satisfied by Credential with Referent -- {value['cred_info']['referent']}\")\n",
    "                \n",
    "for attribute_reft in presentation_record[\"presentation_request\"][\"requested_attributes\"]:\n",
    "    if attribute_reft in attribute_by_reft:\n",
    "        revealed[attribute_reft] = {\n",
    "            \"cred_id\": attribute_by_reft[attribute_reft][\"cred_info\"][\n",
    "                \"referent\"\n",
    "            ],\n",
    "            \"revealed\": True,\n",
    "        }\n",
    "\n",
    "\n",
    "print(\"\\nGenerate the proof\")\n",
    "presentation = {\n",
    "    \"requested_predicates\": predicates,\n",
    "    \"requested_attributes\": revealed,\n",
    "    \"self_attested_attributes\": self_attested,\n",
    "}\n",
    "print(presentation)"
   ]
  },
  {
   "cell_type": "markdown",
   "id": "03fe8a19",
   "metadata": {},
   "source": [
    "## Send Presentation\n",
    "\n",
    "A presentation is sent in represent to a presentation record that has previously been created."
   ]
  },
  {
   "cell_type": "code",
   "execution_count": 17,
   "id": "5178e909",
   "metadata": {},
   "outputs": [
    {
     "name": "stderr",
     "output_type": "stream",
     "text": [
      "WARNING:aries_cloudcontroller.aries_webhook_server:Handling webhooks failed! KeyError('state') occurred when trying to handle this topic: present_proof\n",
      "WARNING:aries_cloudcontroller.aries_webhook_server:Receiving webhooks failed! KeyError('state') occurred.\n",
      "ERROR:aiohttp.server:Error handling request\n",
      "Traceback (most recent call last):\n",
      "  File \"/opt/conda/lib/python3.9/site-packages/aiohttp/web_protocol.py\", line 422, in _handle_request\n",
      "    resp = await self._request_handler(request)\n",
      "  File \"/opt/conda/lib/python3.9/site-packages/aiohttp/web_app.py\", line 499, in _handle\n",
      "    resp = await handler(request)\n",
      "  File \"/opt/conda/lib/python3.9/site-packages/aries_cloudcontroller/aries_webhook_server.py\", line 85, in _receive_webhook\n",
      "    await self._handle_webhook(wallet_id, topic, payload)\n",
      "  File \"/opt/conda/lib/python3.9/site-packages/aries_cloudcontroller/aries_webhook_server.py\", line 108, in _handle_webhook\n",
      "    pub.sendMessage(pub_topic_path, payload=payload)\n",
      "  File \"/opt/conda/lib/python3.9/site-packages/pubsub/core/publisher.py\", line 216, in sendMessage\n",
      "    topicObj.publish(**msgData)\n",
      "  File \"/opt/conda/lib/python3.9/site-packages/pubsub/core/topicobj.py\", line 452, in publish\n",
      "    self.__sendMessage(msgData, topicObj, msgDataSubset)\n",
      "  File \"/opt/conda/lib/python3.9/site-packages/pubsub/core/topicobj.py\", line 482, in __sendMessage\n",
      "    listener(data, self, allData)\n",
      "  File \"/opt/conda/lib/python3.9/site-packages/pubsub/core/listener.py\", line 237, in __call__\n",
      "    cb(**kwargs)\n",
      "  File \"/tmp/ipykernel_57/3809062041.py\", line 46, in prover_proof_handler\n",
      "    state = payload[\"state\"]\n",
      "KeyError: 'state'\n",
      "ERROR:__name__:Error during POST /present-proof/records/43d8ab93-4798-4994-a24f-8546c6b46bd2/send-presentation: 400, message='Error when constructing proof: Error: Invalid structure. Caused by: Requested Credentials validation failed: `self_attested_attributes` and `requested_attributes` and `requested_predicates` are empty. CommonInvalidStructure.', url=URL('http://manufacturer1-agent:3021/present-proof/records/43d8ab93-4798-4994-a24f-8546c6b46bd2/send-presentation')\n"
     ]
    },
    {
     "ename": "ClientResponseError",
     "evalue": "400, message='Error when constructing proof: Error: Invalid structure. Caused by: Requested Credentials validation failed: `self_attested_attributes` and `requested_attributes` and `requested_predicates` are empty. CommonInvalidStructure.', url=URL('http://manufacturer1-agent:3021/present-proof/records/43d8ab93-4798-4994-a24f-8546c6b46bd2/send-presentation')",
     "output_type": "error",
     "traceback": [
      "\u001b[0;31m---------------------------------------------------------------------------\u001b[0m",
      "\u001b[0;31mClientResponseError\u001b[0m                       Traceback (most recent call last)",
      "\u001b[0;32m/tmp/ipykernel_57/4092959227.py\u001b[0m in \u001b[0;36m<module>\u001b[0;34m\u001b[0m\n\u001b[0;32m----> 1\u001b[0;31m \u001b[0mpresentation_response\u001b[0m \u001b[0;34m=\u001b[0m \u001b[0;32mawait\u001b[0m \u001b[0magent_controller\u001b[0m\u001b[0;34m.\u001b[0m\u001b[0mproofs\u001b[0m\u001b[0;34m.\u001b[0m\u001b[0msend_presentation\u001b[0m\u001b[0;34m(\u001b[0m\u001b[0mpresentation_exchange_id\u001b[0m\u001b[0;34m,\u001b[0m \u001b[0mpresentation\u001b[0m\u001b[0;34m)\u001b[0m\u001b[0;34m\u001b[0m\u001b[0;34m\u001b[0m\u001b[0m\n\u001b[0m",
      "\u001b[0;32m/opt/conda/lib/python3.9/site-packages/aries_cloudcontroller/controllers/proof.py\u001b[0m in \u001b[0;36msend_presentation\u001b[0;34m(self, pres_ex_id, request)\u001b[0m\n\u001b[1;32m     90\u001b[0m     \u001b[0;31m# Sends a proof presentation\u001b[0m\u001b[0;34m\u001b[0m\u001b[0;34m\u001b[0m\u001b[0;34m\u001b[0m\u001b[0m\n\u001b[1;32m     91\u001b[0m     \u001b[0;32masync\u001b[0m \u001b[0;32mdef\u001b[0m \u001b[0msend_presentation\u001b[0m\u001b[0;34m(\u001b[0m\u001b[0mself\u001b[0m\u001b[0;34m,\u001b[0m \u001b[0mpres_ex_id\u001b[0m\u001b[0;34m,\u001b[0m \u001b[0mrequest\u001b[0m\u001b[0;34m)\u001b[0m\u001b[0;34m:\u001b[0m\u001b[0;34m\u001b[0m\u001b[0;34m\u001b[0m\u001b[0m\n\u001b[0;32m---> 92\u001b[0;31m         return await self.admin_POST(\n\u001b[0m\u001b[1;32m     93\u001b[0m             \u001b[0;34mf\"{self.base_url}/records/{pres_ex_id}/send-presentation\"\u001b[0m\u001b[0;34m,\u001b[0m \u001b[0mjson_data\u001b[0m\u001b[0;34m=\u001b[0m\u001b[0mrequest\u001b[0m\u001b[0;34m\u001b[0m\u001b[0;34m\u001b[0m\u001b[0m\n\u001b[1;32m     94\u001b[0m         )\n",
      "\u001b[0;32m/opt/conda/lib/python3.9/site-packages/aries_cloudcontroller/controllers/base.py\u001b[0m in \u001b[0;36madmin_POST\u001b[0;34m(self, path, json_data, text, params, data)\u001b[0m\n\u001b[1;32m     75\u001b[0m                 \u001b[0;34m(\u001b[0m\u001b[0;34m\" with data: \\n{}\"\u001b[0m\u001b[0;34m.\u001b[0m\u001b[0mformat\u001b[0m\u001b[0;34m(\u001b[0m\u001b[0mrepr_json\u001b[0m\u001b[0;34m(\u001b[0m\u001b[0mjson_data\u001b[0m\u001b[0;34m)\u001b[0m\u001b[0;34m)\u001b[0m \u001b[0;32mif\u001b[0m \u001b[0mjson_data\u001b[0m \u001b[0;32melse\u001b[0m \u001b[0;34m\"\"\u001b[0m\u001b[0;34m)\u001b[0m\u001b[0;34m,\u001b[0m\u001b[0;34m\u001b[0m\u001b[0;34m\u001b[0m\u001b[0m\n\u001b[1;32m     76\u001b[0m             )\n\u001b[0;32m---> 77\u001b[0;31m             response = await self.admin_request(\n\u001b[0m\u001b[1;32m     78\u001b[0m                 \u001b[0;34m\"POST\"\u001b[0m\u001b[0;34m,\u001b[0m \u001b[0mpath\u001b[0m\u001b[0;34m,\u001b[0m \u001b[0mjson_data\u001b[0m\u001b[0;34m,\u001b[0m \u001b[0mtext\u001b[0m\u001b[0;34m,\u001b[0m \u001b[0mparams\u001b[0m\u001b[0;34m,\u001b[0m \u001b[0mdata\u001b[0m\u001b[0;34m\u001b[0m\u001b[0;34m\u001b[0m\u001b[0m\n\u001b[1;32m     79\u001b[0m             )\n",
      "\u001b[0;32m/opt/conda/lib/python3.9/site-packages/aries_cloudcontroller/controllers/base.py\u001b[0m in \u001b[0;36madmin_request\u001b[0;34m(self, method, path, json_data, text, params, data)\u001b[0m\n\u001b[1;32m     41\u001b[0m             \u001b[0mmethod\u001b[0m\u001b[0;34m,\u001b[0m \u001b[0mself\u001b[0m\u001b[0;34m.\u001b[0m\u001b[0madmin_url\u001b[0m \u001b[0;34m+\u001b[0m \u001b[0mpath\u001b[0m\u001b[0;34m,\u001b[0m \u001b[0mjson\u001b[0m\u001b[0;34m=\u001b[0m\u001b[0mjson_data\u001b[0m\u001b[0;34m,\u001b[0m \u001b[0mparams\u001b[0m\u001b[0;34m=\u001b[0m\u001b[0mparams\u001b[0m\u001b[0;34m,\u001b[0m \u001b[0mdata\u001b[0m\u001b[0;34m=\u001b[0m\u001b[0mdata\u001b[0m\u001b[0;34m\u001b[0m\u001b[0;34m\u001b[0m\u001b[0m\n\u001b[1;32m     42\u001b[0m         ) as resp:\n\u001b[0;32m---> 43\u001b[0;31m             \u001b[0mresp\u001b[0m\u001b[0;34m.\u001b[0m\u001b[0mraise_for_status\u001b[0m\u001b[0;34m(\u001b[0m\u001b[0;34m)\u001b[0m\u001b[0;34m\u001b[0m\u001b[0;34m\u001b[0m\u001b[0m\n\u001b[0m\u001b[1;32m     44\u001b[0m             \u001b[0mresp_text\u001b[0m \u001b[0;34m=\u001b[0m \u001b[0;32mawait\u001b[0m \u001b[0mresp\u001b[0m\u001b[0;34m.\u001b[0m\u001b[0mtext\u001b[0m\u001b[0;34m(\u001b[0m\u001b[0;34m)\u001b[0m\u001b[0;34m\u001b[0m\u001b[0;34m\u001b[0m\u001b[0m\n\u001b[1;32m     45\u001b[0m             \u001b[0;32mif\u001b[0m \u001b[0;32mnot\u001b[0m \u001b[0mresp_text\u001b[0m \u001b[0;32mand\u001b[0m \u001b[0;32mnot\u001b[0m \u001b[0mtext\u001b[0m\u001b[0;34m:\u001b[0m\u001b[0;34m\u001b[0m\u001b[0;34m\u001b[0m\u001b[0m\n",
      "\u001b[0;32m/opt/conda/lib/python3.9/site-packages/aiohttp/client_reqrep.py\u001b[0m in \u001b[0;36mraise_for_status\u001b[0;34m(self)\u001b[0m\n\u001b[1;32m    998\u001b[0m             \u001b[0;32massert\u001b[0m \u001b[0mself\u001b[0m\u001b[0;34m.\u001b[0m\u001b[0mreason\u001b[0m \u001b[0;32mis\u001b[0m \u001b[0;32mnot\u001b[0m \u001b[0;32mNone\u001b[0m\u001b[0;34m\u001b[0m\u001b[0;34m\u001b[0m\u001b[0m\n\u001b[1;32m    999\u001b[0m             \u001b[0mself\u001b[0m\u001b[0;34m.\u001b[0m\u001b[0mrelease\u001b[0m\u001b[0;34m(\u001b[0m\u001b[0;34m)\u001b[0m\u001b[0;34m\u001b[0m\u001b[0;34m\u001b[0m\u001b[0m\n\u001b[0;32m-> 1000\u001b[0;31m             raise ClientResponseError(\n\u001b[0m\u001b[1;32m   1001\u001b[0m                 \u001b[0mself\u001b[0m\u001b[0;34m.\u001b[0m\u001b[0mrequest_info\u001b[0m\u001b[0;34m,\u001b[0m\u001b[0;34m\u001b[0m\u001b[0;34m\u001b[0m\u001b[0m\n\u001b[1;32m   1002\u001b[0m                 \u001b[0mself\u001b[0m\u001b[0;34m.\u001b[0m\u001b[0mhistory\u001b[0m\u001b[0;34m,\u001b[0m\u001b[0;34m\u001b[0m\u001b[0;34m\u001b[0m\u001b[0m\n",
      "\u001b[0;31mClientResponseError\u001b[0m: 400, message='Error when constructing proof: Error: Invalid structure. Caused by: Requested Credentials validation failed: `self_attested_attributes` and `requested_attributes` and `requested_predicates` are empty. CommonInvalidStructure.', url=URL('http://manufacturer1-agent:3021/present-proof/records/43d8ab93-4798-4994-a24f-8546c6b46bd2/send-presentation')"
     ]
    },
    {
     "name": "stderr",
     "output_type": "stream",
     "text": [
      "WARNING:aries_cloudcontroller.aries_webhook_server:Handling webhooks failed! KeyError('state') occurred when trying to handle this topic: present_proof\n",
      "WARNING:aries_cloudcontroller.aries_webhook_server:Receiving webhooks failed! KeyError('state') occurred.\n",
      "ERROR:aiohttp.server:Error handling request\n",
      "Traceback (most recent call last):\n",
      "  File \"/opt/conda/lib/python3.9/site-packages/aiohttp/web_protocol.py\", line 422, in _handle_request\n",
      "    resp = await self._request_handler(request)\n",
      "  File \"/opt/conda/lib/python3.9/site-packages/aiohttp/web_app.py\", line 499, in _handle\n",
      "    resp = await handler(request)\n",
      "  File \"/opt/conda/lib/python3.9/site-packages/aries_cloudcontroller/aries_webhook_server.py\", line 85, in _receive_webhook\n",
      "    await self._handle_webhook(wallet_id, topic, payload)\n",
      "  File \"/opt/conda/lib/python3.9/site-packages/aries_cloudcontroller/aries_webhook_server.py\", line 108, in _handle_webhook\n",
      "    pub.sendMessage(pub_topic_path, payload=payload)\n",
      "  File \"/opt/conda/lib/python3.9/site-packages/pubsub/core/publisher.py\", line 216, in sendMessage\n",
      "    topicObj.publish(**msgData)\n",
      "  File \"/opt/conda/lib/python3.9/site-packages/pubsub/core/topicobj.py\", line 452, in publish\n",
      "    self.__sendMessage(msgData, topicObj, msgDataSubset)\n",
      "  File \"/opt/conda/lib/python3.9/site-packages/pubsub/core/topicobj.py\", line 482, in __sendMessage\n",
      "    listener(data, self, allData)\n",
      "  File \"/opt/conda/lib/python3.9/site-packages/pubsub/core/listener.py\", line 237, in __call__\n",
      "    cb(**kwargs)\n",
      "  File \"/tmp/ipykernel_57/3809062041.py\", line 46, in prover_proof_handler\n",
      "    state = payload[\"state\"]\n",
      "KeyError: 'state'\n",
      "WARNING:aries_cloudcontroller.aries_webhook_server:Handling webhooks failed! KeyError('state') occurred when trying to handle this topic: present_proof\n",
      "WARNING:aries_cloudcontroller.aries_webhook_server:Receiving webhooks failed! KeyError('state') occurred.\n",
      "ERROR:aiohttp.server:Error handling request\n",
      "Traceback (most recent call last):\n",
      "  File \"/opt/conda/lib/python3.9/site-packages/aiohttp/web_protocol.py\", line 422, in _handle_request\n",
      "    resp = await self._request_handler(request)\n",
      "  File \"/opt/conda/lib/python3.9/site-packages/aiohttp/web_app.py\", line 499, in _handle\n",
      "    resp = await handler(request)\n",
      "  File \"/opt/conda/lib/python3.9/site-packages/aries_cloudcontroller/aries_webhook_server.py\", line 85, in _receive_webhook\n",
      "    await self._handle_webhook(wallet_id, topic, payload)\n",
      "  File \"/opt/conda/lib/python3.9/site-packages/aries_cloudcontroller/aries_webhook_server.py\", line 108, in _handle_webhook\n",
      "    pub.sendMessage(pub_topic_path, payload=payload)\n",
      "  File \"/opt/conda/lib/python3.9/site-packages/pubsub/core/publisher.py\", line 216, in sendMessage\n",
      "    topicObj.publish(**msgData)\n",
      "  File \"/opt/conda/lib/python3.9/site-packages/pubsub/core/topicobj.py\", line 452, in publish\n",
      "    self.__sendMessage(msgData, topicObj, msgDataSubset)\n",
      "  File \"/opt/conda/lib/python3.9/site-packages/pubsub/core/topicobj.py\", line 482, in __sendMessage\n",
      "    listener(data, self, allData)\n",
      "  File \"/opt/conda/lib/python3.9/site-packages/pubsub/core/listener.py\", line 237, in __call__\n",
      "    cb(**kwargs)\n",
      "  File \"/tmp/ipykernel_57/3809062041.py\", line 46, in prover_proof_handler\n",
      "    state = payload[\"state\"]\n",
      "KeyError: 'state'\n",
      "WARNING:aries_cloudcontroller.aries_webhook_server:Handling webhooks failed! KeyError('state') occurred when trying to handle this topic: present_proof\n",
      "WARNING:aries_cloudcontroller.aries_webhook_server:Receiving webhooks failed! KeyError('state') occurred.\n",
      "ERROR:aiohttp.server:Error handling request\n",
      "Traceback (most recent call last):\n",
      "  File \"/opt/conda/lib/python3.9/site-packages/aiohttp/web_protocol.py\", line 422, in _handle_request\n",
      "    resp = await self._request_handler(request)\n",
      "  File \"/opt/conda/lib/python3.9/site-packages/aiohttp/web_app.py\", line 499, in _handle\n",
      "    resp = await handler(request)\n",
      "  File \"/opt/conda/lib/python3.9/site-packages/aries_cloudcontroller/aries_webhook_server.py\", line 85, in _receive_webhook\n",
      "    await self._handle_webhook(wallet_id, topic, payload)\n",
      "  File \"/opt/conda/lib/python3.9/site-packages/aries_cloudcontroller/aries_webhook_server.py\", line 108, in _handle_webhook\n",
      "    pub.sendMessage(pub_topic_path, payload=payload)\n",
      "  File \"/opt/conda/lib/python3.9/site-packages/pubsub/core/publisher.py\", line 216, in sendMessage\n",
      "    topicObj.publish(**msgData)\n",
      "  File \"/opt/conda/lib/python3.9/site-packages/pubsub/core/topicobj.py\", line 452, in publish\n",
      "    self.__sendMessage(msgData, topicObj, msgDataSubset)\n",
      "  File \"/opt/conda/lib/python3.9/site-packages/pubsub/core/topicobj.py\", line 482, in __sendMessage\n",
      "    listener(data, self, allData)\n",
      "  File \"/opt/conda/lib/python3.9/site-packages/pubsub/core/listener.py\", line 237, in __call__\n",
      "    cb(**kwargs)\n",
      "  File \"/tmp/ipykernel_57/3809062041.py\", line 46, in prover_proof_handler\n",
      "    state = payload[\"state\"]\n",
      "KeyError: 'state'\n",
      "WARNING:aries_cloudcontroller.aries_webhook_server:Handling webhooks failed! KeyError('state') occurred when trying to handle this topic: present_proof\n",
      "WARNING:aries_cloudcontroller.aries_webhook_server:Receiving webhooks failed! KeyError('state') occurred.\n",
      "ERROR:aiohttp.server:Error handling request\n",
      "Traceback (most recent call last):\n",
      "  File \"/opt/conda/lib/python3.9/site-packages/aiohttp/web_protocol.py\", line 422, in _handle_request\n",
      "    resp = await self._request_handler(request)\n",
      "  File \"/opt/conda/lib/python3.9/site-packages/aiohttp/web_app.py\", line 499, in _handle\n",
      "    resp = await handler(request)\n",
      "  File \"/opt/conda/lib/python3.9/site-packages/aries_cloudcontroller/aries_webhook_server.py\", line 85, in _receive_webhook\n",
      "    await self._handle_webhook(wallet_id, topic, payload)\n",
      "  File \"/opt/conda/lib/python3.9/site-packages/aries_cloudcontroller/aries_webhook_server.py\", line 108, in _handle_webhook\n",
      "    pub.sendMessage(pub_topic_path, payload=payload)\n",
      "  File \"/opt/conda/lib/python3.9/site-packages/pubsub/core/publisher.py\", line 216, in sendMessage\n",
      "    topicObj.publish(**msgData)\n",
      "  File \"/opt/conda/lib/python3.9/site-packages/pubsub/core/topicobj.py\", line 452, in publish\n",
      "    self.__sendMessage(msgData, topicObj, msgDataSubset)\n",
      "  File \"/opt/conda/lib/python3.9/site-packages/pubsub/core/topicobj.py\", line 482, in __sendMessage\n",
      "    listener(data, self, allData)\n",
      "  File \"/opt/conda/lib/python3.9/site-packages/pubsub/core/listener.py\", line 237, in __call__\n",
      "    cb(**kwargs)\n",
      "  File \"/tmp/ipykernel_57/3809062041.py\", line 46, in prover_proof_handler\n",
      "    state = payload[\"state\"]\n",
      "KeyError: 'state'\n"
     ]
    }
   ],
   "source": [
    "presentation_response = await agent_controller.proofs.send_presentation(presentation_exchange_id, presentation)"
   ]
  },
  {
   "cell_type": "markdown",
   "id": "6735987f",
   "metadata": {},
   "source": [
    "## Your Own Business Logic\n",
    "\n",
    "Now you should have an established, active connection you can write any custom logic you want to engage with protocols with the connection"
   ]
  },
  {
   "cell_type": "code",
   "execution_count": null,
   "id": "41060eb7",
   "metadata": {},
   "outputs": [],
   "source": [
    "## Custom Logic"
   ]
  },
  {
   "cell_type": "code",
   "execution_count": null,
   "id": "f77d8e25",
   "metadata": {},
   "outputs": [],
   "source": []
  },
  {
   "cell_type": "code",
   "execution_count": null,
   "id": "f5c520dd",
   "metadata": {},
   "outputs": [],
   "source": []
  },
  {
   "cell_type": "markdown",
   "id": "07eff6bf",
   "metadata": {},
   "source": [
    "## Terminate Controller\n",
    "\n",
    "Whenever you have finished with this notebook, be sure to terminate the controller. This is especially important if your business logic runs across multiple notebooks."
   ]
  },
  {
   "cell_type": "code",
   "execution_count": null,
   "id": "b00f0ab1",
   "metadata": {},
   "outputs": [],
   "source": [
    "await agent_controller.terminate()"
   ]
  }
 ],
 "metadata": {
  "kernelspec": {
   "display_name": "Python 3 (ipykernel)",
   "language": "python",
   "name": "python3"
  },
  "language_info": {
   "codemirror_mode": {
    "name": "ipython",
    "version": 3
   },
   "file_extension": ".py",
   "mimetype": "text/x-python",
   "name": "python",
   "nbconvert_exporter": "python",
   "pygments_lexer": "ipython3",
   "version": "3.9.5"
  }
 },
 "nbformat": 4,
 "nbformat_minor": 5
}
