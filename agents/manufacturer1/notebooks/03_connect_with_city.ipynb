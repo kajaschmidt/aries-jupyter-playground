{
 "cells": [
  {
   "cell_type": "markdown",
   "id": "e573f928",
   "metadata": {},
   "source": [
    "# PETs/TETs – Hyperledger Aries – Manufacturer 1 (Holder) 💼"
   ]
  },
  {
   "cell_type": "code",
   "execution_count": 1,
   "id": "552c1065",
   "metadata": {},
   "outputs": [
    {
     "data": {
      "application/javascript": [
       "document.title ='💼 Manufacturer1 Agent'\n"
      ],
      "text/plain": [
       "<IPython.core.display.Javascript object>"
      ]
     },
     "metadata": {},
     "output_type": "display_data"
    }
   ],
   "source": [
    "%%javascript\n",
    "document.title ='💼 Manufacturer1 Agent'"
   ]
  },
  {
   "cell_type": "markdown",
   "id": "71257398",
   "metadata": {},
   "source": [
    "## PART 3: Connect with City to Analyze Data\n",
    "\n",
    "**What:** -\n",
    "\n",
    "**Why:** -\n",
    "\n",
    "**How:** <br>\n",
    "\n",
    "\n",
    "**Accompanying Agents and Notebooks:**\n",
    "* City 🏙️️: `03_connect_with_manufacturer1.ipynb`"
   ]
  },
  {
   "cell_type": "markdown",
   "id": "66aff91b",
   "metadata": {
    "pycharm": {
     "name": "#%% md\n"
    }
   },
   "source": [
    "---\n",
    "\n",
    "### 0 - Setup\n",
    "#### 0.1 - Imports"
   ]
  },
  {
   "cell_type": "code",
   "execution_count": 2,
   "id": "530767cc",
   "metadata": {
    "pycharm": {
     "name": "#%%\n"
    }
   },
   "outputs": [],
   "source": [
    "from aries_cloudcontroller import AriesAgentController\n",
    "import libs.helpers as helpers\n",
    "from libs.agent_connection_manager import CredentialHolder\n",
    "import os\n",
    "from termcolor import colored"
   ]
  },
  {
   "cell_type": "markdown",
   "id": "7d1fa37b",
   "metadata": {
    "pycharm": {
     "name": "#%% md\n"
    }
   },
   "source": [
    "#### 0.2 – Variables"
   ]
  },
  {
   "cell_type": "code",
   "execution_count": 3,
   "id": "150f65ee",
   "metadata": {
    "pycharm": {
     "name": "#%%\n"
    }
   },
   "outputs": [],
   "source": [
    "# Get relevant details from .env file\n",
    "api_key = os.getenv(\"ACAPY_ADMIN_API_KEY\")\n",
    "admin_url = os.getenv(\"ADMIN_URL\")\n",
    "webhook_port = int(os.getenv(\"WEBHOOK_PORT\"))\n",
    "webhook_host = \"0.0.0.0\""
   ]
  },
  {
   "cell_type": "markdown",
   "id": "380abd91",
   "metadata": {
    "pycharm": {
     "name": "#%% md\n"
    }
   },
   "source": [
    "---\n",
    "\n",
    "<a id=1></a>\n",
    "\n",
    "### 1 – Initiate Manufacturer1 Agent\n",
    "#### 1.1 – Init ACA-PY agent controller"
   ]
  },
  {
   "cell_type": "code",
   "execution_count": 4,
   "id": "2b693dca",
   "metadata": {},
   "outputs": [
    {
     "name": "stdout",
     "output_type": "stream",
     "text": [
      "Initialising a controller with admin api at http://manufacturer1-agent:3021 and an api key of adminApiKey\n"
     ]
    }
   ],
   "source": [
    "# Setup\n",
    "agent_controller = AriesAgentController(admin_url,api_key)\n",
    "print(f\"Initialising a controller with admin api at {admin_url} and an api key of {api_key}\")"
   ]
  },
  {
   "cell_type": "markdown",
   "id": "f7cf58f3",
   "metadata": {},
   "source": [
    "#### 1.2 – Start Webhook Server to enable communication with other agents\n",
    "@todo: is communication with other agents, or with other docker containers?"
   ]
  },
  {
   "cell_type": "code",
   "execution_count": 5,
   "id": "aaaf674f",
   "metadata": {},
   "outputs": [
    {
     "name": "stdout",
     "output_type": "stream",
     "text": [
      "Listening for webhooks from agent at http://0.0.0.0:3010\n"
     ]
    }
   ],
   "source": [
    "# Listen on webhook server\n",
    "await agent_controller.init_webhook_server(webhook_host, webhook_port)\n",
    "print(f\"Listening for webhooks from agent at http://{webhook_host}:{webhook_port}\")"
   ]
  },
  {
   "cell_type": "markdown",
   "id": "919ba008",
   "metadata": {},
   "source": [
    "#### 1.3 – Init ACM issuing authority"
   ]
  },
  {
   "cell_type": "code",
   "execution_count": 6,
   "id": "269d8c09",
   "metadata": {
    "collapsed": false,
    "jupyter": {
     "outputs_hidden": false
    },
    "pycharm": {
     "name": "#%%\n"
    }
   },
   "outputs": [
    {
     "name": "stdout",
     "output_type": "stream",
     "text": [
      "\u001b[1m\u001b[32mSuccessfully initiated AgentConnectionManager for a(n) Holder ACA-PY agent\u001b[0m\n"
     ]
    },
    {
     "data": {
      "text/plain": [
       "{'results': [{'referent': 'M1-isManufacturer',\n",
       "   'attrs': {'manufacturerName': 'undisclosedManufacturer1',\n",
       "    'manufacturerCountry': 'Germany',\n",
       "    'manufacturerCity': 'Berlin',\n",
       "    'isManufacturer': 'TRUE'},\n",
       "   'schema_id': 'au8Y1rjsZyz9jbpr3Lk54:2:certify-manufacturer:0.0.1',\n",
       "   'cred_def_id': 'au8Y1rjsZyz9jbpr3Lk54:3:CL:250893:default',\n",
       "   'rev_reg_id': None,\n",
       "   'cred_rev_id': None}]}"
      ]
     },
     "execution_count": 6,
     "metadata": {},
     "output_type": "execute_result"
    }
   ],
   "source": [
    "# The CredentialHolder registers relevant webhook servers and event listeners\n",
    "manufacturer1_agent = CredentialHolder(agent_controller)\n",
    "\n",
    "# Verify if Manufacturer already has a VC\n",
    "# (if there are manufacturer credentials, there is no need to execute the notebook)\n",
    "manufacturer1_agent.get_credentials()"
   ]
  },
  {
   "cell_type": "markdown",
   "id": "fd19e665",
   "metadata": {},
   "source": [
    "---\n",
    "\n",
    "<a id=2></a>\n",
    "\n",
    "### 2 – Establish a connection with the City agent 🏙️\n",
    "A connection with the credential issuer (i.e., the authority agent) must be established before a VC can be received. In this scenario, the manufacturer1 requests a connection with the Authority to be certified as an official city agency. Thus, the manufacturer1 agent sends an invitation to the Authority. In real life, the invitation can be shared via video call, phone call, or E-Mail. In this PoC, this is represented by copy and pasting the invitation into the manufacturers' notebooks.\n",
    "\n",
    "#### 2.1 Join invitation of City agent 🏙️\n",
    "Copy and paste the multi-use invitation of the city agent, and establish a connection with them."
   ]
  },
  {
   "cell_type": "code",
   "execution_count": 9,
   "id": "ec570c01",
   "metadata": {},
   "outputs": [
    {
     "name": "stdout",
     "output_type": "stream",
     "text": [
      "\u001b[1m\u001b[35mPlease enter invitation received by external agent.\u001b[0m\n"
     ]
    },
    {
     "name": "stdin",
     "output_type": "stream",
     "text": [
      "\u001b[35mInvitation: \u001b[0m {     '@id': '71dff343-d2ca-46e4-82bf-c04774941664',     '@type': 'did:sov:BzCbsNYhMrjHiqZDTUASHg;spec/connections/1.0/invitation',     'label': 'City',     'recipientKeys': ['CBUT7cYooo3F39f7P3LgdqZABppWcjHKCdP25z5wJNmN'],     'serviceEndpoint': 'https://898696e3e9e9.ngrok.io', }\n"
     ]
    },
    {
     "name": "stdout",
     "output_type": "stream",
     "text": [
      "\n",
      "---------------------------------------------------------------------\n",
      "\u001b[1mConnection Webhook Event Received\u001b[0m\n",
      "Connection ID :  cb4d720f-5648-4181-b1dc-a4535218743a\n",
      "State :  \u001b[34minvitation (invitation-received)\u001b[0m\n",
      "Routing State : none\n",
      "Connection with :  City\n",
      "Their Role :  inviter\n",
      "---------------------------------------------------------------------\n"
     ]
    },
    {
     "name": "stdin",
     "output_type": "stream",
     "text": [
      "\u001b[35mAccept invitation cb4d720f-5648-4181-b1dc-a4535218743a? [yes/no]\u001b[0m yes\n"
     ]
    },
    {
     "name": "stdout",
     "output_type": "stream",
     "text": [
      "\n",
      "---------------------------------------------------------------------\n",
      "\u001b[1mConnection Webhook Event Received\u001b[0m\n",
      "Connection ID :  cb4d720f-5648-4181-b1dc-a4535218743a\n",
      "State :  \u001b[34mrequest (request-sent)\u001b[0m\n",
      "Routing State : none\n",
      "Connection with :  City\n",
      "Their Role :  inviter\n",
      "---------------------------------------------------------------------\n",
      "\n",
      "---------------------------------------------------------------------\n",
      "\u001b[1mConnection Webhook Event Received\u001b[0m\n",
      "Connection ID :  cb4d720f-5648-4181-b1dc-a4535218743a\n",
      "State :  \u001b[34mresponse (response-received)\u001b[0m\n",
      "Routing State : none\n",
      "Connection with :  City\n",
      "Their Role :  inviter\n",
      "---------------------------------------------------------------------\n",
      "\n",
      "---------------------------------------------------------------------\n",
      "\u001b[1mConnection Webhook Event Received\u001b[0m\n",
      "Connection ID :  cb4d720f-5648-4181-b1dc-a4535218743a\n",
      "State :  \u001b[34mactive (completed)\u001b[0m\n",
      "Routing State : none\n",
      "Connection with :  City\n",
      "Their Role :  inviter\n",
      "---------------------------------------------------------------------\n",
      "\u001b[1m\u001b[32m\n",
      "Connection ID: cb4d720f-5648-4181-b1dc-a4535218743a is now active.\u001b[0m\n"
     ]
    }
   ],
   "source": [
    "# Variables\n",
    "alias = \"undisclosedM1\"\n",
    "auto_accept = True\n",
    "label = None\n",
    "\n",
    "# Receive connection invitation\n",
    "connection_id = manufacturer1_agent.receive_connection_invitation(alias=alias, auto_accept=auto_accept, label=label)"
   ]
  },
  {
   "cell_type": "markdown",
   "id": "b94ac1d2",
   "metadata": {},
   "source": [
    "<div style=\"font-size: 25px\"><center><b>Break Point 2/3/4</b></center></div>\n",
    "<div style=\"font-size: 50px\"><center>💼 ➡️ 💼 / 💼 / 🏙️ </center></div><br>\n",
    "<center><b>Please proceed to the remaining Manufacturers. <br> If you have established a connection between the City and all Manufacturers, proceed to the City Notebook's Step 2.3</b></center>\n",
    "\n",
    "---"
   ]
  },
  {
   "cell_type": "markdown",
   "id": "b6ebaa59",
   "metadata": {},
   "source": [
    "### 3 – Fetch Presentation Records\n",
    "\n",
    "Before you can present a presentation, you must identify the presentation record which you wish to respond to with a presentation. This could also be done through the present_proof listeners which have access to a presentation record in the payload."
   ]
  },
  {
   "cell_type": "code",
   "execution_count": null,
   "id": "ef01023c",
   "metadata": {},
   "outputs": [],
   "source": [
    "# Step 2\n",
    "\n",
    "# Optional Query parameters\n",
    "verifier_connection_id = connection_id\n",
    "thread_id = None\n",
    "state = \"request_received\"\n",
    "role = \"prover\"\n",
    "\n",
    "proof_records_response = await agent_controller.proofs.get_records(verifier_connection_id, thread_id, state, role)\n",
    "pprint(proof_records_response)"
   ]
  },
  {
   "cell_type": "code",
   "execution_count": null,
   "id": "5d211622",
   "metadata": {},
   "outputs": [],
   "source": [
    "# Fetch records from response that were sent via connection_id\n",
    "presentation_records = [r for r in proof_records_response[\"results\"] if (r[\"connection_id\"] == connection_id) is True] \n",
    "\n",
    "# Process only the first record:\n",
    "presentation_record = presentation_records[0]\n",
    "presentation_exchange_id = presentation_record[\"presentation_exchange_id\"]"
   ]
  },
  {
   "cell_type": "markdown",
   "id": "9f8ba5db",
   "metadata": {},
   "source": [
    "## Search For Available Credentials to Construct Presentation From\n",
    "\n",
    "The presentation record can be used to query your agents wallet and return all credentials that could be used to construct valid presentation"
   ]
  },
  {
   "cell_type": "code",
   "execution_count": null,
   "id": "edfd27d2",
   "metadata": {},
   "outputs": [],
   "source": [
    "def get_proof_request_requirements(presentation_record):\n",
    "    \"\"\"\n",
    "    Returns dictionary with {<required-attribute>: <restrictions-of-attribute>} from presentation record\n",
    "    \"\"\"\n",
    "    # Setup\n",
    "    restrictions = {}\n",
    "    presentation_request = presentation_record[\"presentation_request\"]\n",
    "    \n",
    "    # Get required attributes and requirements for the individual attributes\n",
    "    for attr_key, attr_val in presentation_request[\"requested_attributes\"].items():\n",
    "        restrictions[attr_val[\"name\"]] = {}\n",
    "        restrictions[attr_val[\"name\"]][\"requirements\"] = attr_val[\"restrictions\"][0] \n",
    "        restrictions[attr_val[\"name\"]][\"request_attr_name\"] = attr_key\n",
    "        \n",
    "    return restrictions\n",
    "\n",
    "\n",
    "def get_suitable_credentials(credentials_all, requirements):\n",
    "    \"\"\"\n",
    "    Finds credentials in credentials_all that satisfy the requirements provided by the relying party.\n",
    "    Returns dictionary with: {<attribute-name>: <suitable-credential>}, where the suitable-credential satisfies all requirements \n",
    "    \"\"\"\n",
    "    # Setup\n",
    "    relevant_credentials = {}\n",
    "    revealed = {}\n",
    "    credentials = credentials_all[\"results\"]\n",
    "    \n",
    "    # Iterate through attribute name and attribute requirements of relying party\n",
    "    for name, conditions in requirements.items():\n",
    "        \n",
    "        req = conditions[\"requirements\"]\n",
    "        req_name = conditions[\"request_attr_name\"]\n",
    "        \n",
    "        # Break if the required attribute name is not in any credential, or if all requirements (e.g., schema_id) are not within one credential\n",
    "        if (any(name in cred[\"attrs\"] for cred in credentials) is False) or (any(r in cred.keys() for r in req for cred in credentials) is False):\n",
    "            continue\n",
    "\n",
    "        # Iterate through credentials\n",
    "        for cred in credentials:\n",
    "\n",
    "            # Verify if requirement value (r_val) and credential value (cred[r_key]) match for required attribute (r_key)\n",
    "            for r_key, r_val in req.items():\n",
    "                try:\n",
    "                    # Append cred to relevant_credentials if all requirements match\n",
    "                    if (cred[r_key] == r_val) is True:\n",
    "                        relevant_credentials[name] = cred\n",
    "                        print(f\"Attribute request for '{name}' can be satisfied by Credential with Referent -- {cred['referent']}\")\n",
    "                        revealed[req_name] = {\"cred_id\": cred[\"referent\"], \"revealed\": True}\n",
    "                except:\n",
    "                    pass\n",
    "\n",
    "    return relevant_credentials, revealed"
   ]
  },
  {
   "cell_type": "code",
   "execution_count": null,
   "id": "301ba5a8",
   "metadata": {},
   "outputs": [],
   "source": [
    "# Get requirements of proof request\n",
    "proof_attribute_requirements = get_proof_request_requirements(presentation_record)\n",
    "\n",
    "# Verify all credentials of M1 and verify if they satisfy the requirements defined in proof_attribute_requirements\n",
    "credentials = await agent_controller.credentials.get_all()\n",
    "suitable_credentials, revealed = get_suitable_credentials(credentials, proof_attribute_requirements)\n",
    "#pprint(credentials)\n",
    "pprint(revealed)"
   ]
  },
  {
   "cell_type": "code",
   "execution_count": null,
   "id": "d1459804",
   "metadata": {},
   "outputs": [],
   "source": [
    "# select credentials to provide for the proof\n",
    "#credentials = await agent_controller.proofs.get_presentation_credentials(presentation_exchange_id)\n",
    "#print(\"Credentials stored that could be used to satisfy the request. In some situations you applications may have a choice which credential to reveal\\n\")\n",
    "\n",
    "#attribute_by_reft = {}\n",
    "#revealed = {}\n",
    "#self_attested = {}\n",
    "#predicates = {}"
   ]
  },
  {
   "cell_type": "code",
   "execution_count": null,
   "id": "fabe1111",
   "metadata": {},
   "outputs": [],
   "source": [
    "predicates = {}\n",
    "self_attested = {}\n"
   ]
  },
  {
   "cell_type": "code",
   "execution_count": null,
   "id": "47cbacb6",
   "metadata": {},
   "outputs": [],
   "source": [
    "# Note we are working on a friendlier api to abstract this away\n",
    "\n",
    "print(\"\\nGenerate the proof\")\n",
    "presentation = {\n",
    "    \"requested_predicates\": predicates,\n",
    "    \"requested_attributes\": revealed,\n",
    "    \"self_attested_attributes\": self_attested,\n",
    "}\n",
    "print(presentation)"
   ]
  },
  {
   "cell_type": "markdown",
   "id": "9ae78b9a",
   "metadata": {},
   "source": [
    "## Send Presentation\n",
    "\n",
    "A presentation is sent in represent to a presentation record that has previously been created."
   ]
  },
  {
   "cell_type": "code",
   "execution_count": null,
   "id": "0cff4e63",
   "metadata": {},
   "outputs": [],
   "source": [
    "presentation_response = await agent_controller.proofs.send_presentation(presentation_exchange_id, presentation)"
   ]
  },
  {
   "cell_type": "markdown",
   "id": "bdb9028d",
   "metadata": {},
   "source": [
    "## Your Own Business Logic\n",
    "\n",
    "Now you should have an established, active connection you can write any custom logic you want to engage with protocols with the connection"
   ]
  },
  {
   "cell_type": "code",
   "execution_count": null,
   "id": "87894338",
   "metadata": {},
   "outputs": [],
   "source": [
    "# Imports\n",
    "import torch as th\n",
    "import syft as sy\n",
    "\n",
    "from sympc.session import Session\n",
    "from sympc.session import SessionManager\n",
    "from sympc.tensor import MPCTensor"
   ]
  },
  {
   "cell_type": "code",
   "execution_count": null,
   "id": "693a6389",
   "metadata": {},
   "outputs": [],
   "source": [
    "# Copy and paste client_id and ping the city!"
   ]
  },
  {
   "cell_type": "code",
   "execution_count": null,
   "id": "604bbbe3",
   "metadata": {},
   "outputs": [],
   "source": [
    "# Step 3: Create duet server\n",
    "duet_m1 = sy.duet()"
   ]
  },
  {
   "cell_type": "markdown",
   "id": "b3b3a904",
   "metadata": {
    "pycharm": {
     "name": "#%% md\n"
    }
   },
   "source": [
    "## 2 - Secure Multi-Party Computation"
   ]
  },
  {
   "cell_type": "code",
   "execution_count": null,
   "id": "85356ccd",
   "metadata": {},
   "outputs": [],
   "source": [
    "from IPython.core.debugger import set_trace"
   ]
  },
  {
   "cell_type": "code",
   "execution_count": null,
   "id": "4525eb50",
   "metadata": {},
   "outputs": [],
   "source": [
    "# Step 8: test there is no data in the server atm\n",
    "duet_m1.store.pandas"
   ]
  },
  {
   "cell_type": "code",
   "execution_count": null,
   "id": "7e40c7de",
   "metadata": {},
   "outputs": [],
   "source": [
    "age_data = th.tensor([50,23,72,83])\n",
    "age_data = age_data.tag(\"test_data_age\")\n",
    "age_data = age_data.describe(\"description for age_data\")\n",
    "age_data_pointer = age_data.send(duet_m1, pointable=True)"
   ]
  },
  {
   "cell_type": "code",
   "execution_count": null,
   "id": "447e8ae2",
   "metadata": {},
   "outputs": [],
   "source": [
    "duet_m1.store"
   ]
  },
  {
   "cell_type": "code",
   "execution_count": null,
   "id": "cc7f7277",
   "metadata": {},
   "outputs": [],
   "source": [
    "duet_m1.store.pandas"
   ]
  },
  {
   "cell_type": "code",
   "execution_count": null,
   "id": "a97e09b3",
   "metadata": {},
   "outputs": [],
   "source": [
    "duet_m1.id"
   ]
  },
  {
   "cell_type": "code",
   "execution_count": null,
   "id": "85c25664",
   "metadata": {},
   "outputs": [],
   "source": [
    "duet_m1.name"
   ]
  },
  {
   "cell_type": "code",
   "execution_count": null,
   "id": "3bdfa689",
   "metadata": {},
   "outputs": [],
   "source": [
    "duet_m1.target_id"
   ]
  },
  {
   "cell_type": "code",
   "execution_count": null,
   "id": "951c4d57",
   "metadata": {},
   "outputs": [],
   "source": [
    "duet_m1.network_id"
   ]
  },
  {
   "cell_type": "code",
   "execution_count": null,
   "id": "006910c1",
   "metadata": {},
   "outputs": [],
   "source": [
    "#duet_city.store.pandas"
   ]
  },
  {
   "cell_type": "code",
   "execution_count": null,
   "id": "76f4483f",
   "metadata": {},
   "outputs": [],
   "source": [
    "# Step 9: Publish secret data\n",
    "\n",
    "x = torch.tensor([50,60,77]) # define torch\n",
    "x.send(duet_m1, pointable=True, tags=[\"TEST_#1_from_m1_to_ds\"], description=\"Dummy data\") # send torch to duet_m1\n",
    "\n",
    "x = torch.tensor([[1,2], [3,4]])\n",
    "x.send(duet_m1, pointable=True, tags=[\"TEST_#2_from_m1_to_ds\"], description=\"Test to multiply matrices\")"
   ]
  },
  {
   "cell_type": "code",
   "execution_count": null,
   "id": "25a12e60",
   "metadata": {
    "collapsed": false,
    "jupyter": {
     "outputs_hidden": false
    },
    "pycharm": {
     "name": "#%%\n"
    }
   },
   "outputs": [],
   "source": [
    "# Step 10: verify that data was uploaded to the store\n",
    "duet_m1.store.pandas"
   ]
  },
  {
   "cell_type": "code",
   "execution_count": null,
   "id": "4b55a37b",
   "metadata": {
    "collapsed": false,
    "jupyter": {
     "outputs_hidden": false
    },
    "pycharm": {
     "name": "#%%\n"
    }
   },
   "outputs": [],
   "source": [
    "# Step 11: Authorize the requests ds can make\n",
    "duet_m1.requests.add_handler(action=\"accept\")"
   ]
  },
  {
   "cell_type": "code",
   "execution_count": null,
   "id": "fd82943a",
   "metadata": {
    "collapsed": false,
    "jupyter": {
     "outputs_hidden": false
    },
    "pycharm": {
     "name": "#%%\n"
    }
   },
   "outputs": [],
   "source": [
    "# Step 11: Authorize the requests ds can make\n",
    "duet_city.requests.add_handler(action=\"accept\")"
   ]
  },
  {
   "cell_type": "code",
   "execution_count": null,
   "id": "7fb697fb",
   "metadata": {},
   "outputs": [],
   "source": []
  },
  {
   "cell_type": "code",
   "execution_count": null,
   "id": "c5b6f3e5",
   "metadata": {},
   "outputs": [],
   "source": []
  },
  {
   "cell_type": "markdown",
   "id": "61a596de",
   "metadata": {},
   "source": [
    "## Terminate Controller\n",
    "\n",
    "Whenever you have finished with this notebook, be sure to terminate the controller. This is especially important if your business logic runs across multiple notebooks."
   ]
  },
  {
   "cell_type": "code",
   "execution_count": null,
   "id": "3cba1bca",
   "metadata": {},
   "outputs": [],
   "source": [
    "await agent_controller.terminate()"
   ]
  },
  {
   "cell_type": "code",
   "execution_count": null,
   "id": "eceb93c8",
   "metadata": {},
   "outputs": [],
   "source": []
  }
 ],
 "metadata": {
  "kernelspec": {
   "display_name": "Python 3 (ipykernel)",
   "language": "python",
   "name": "python3"
  },
  "language_info": {
   "codemirror_mode": {
    "name": "ipython",
    "version": 3
   },
   "file_extension": ".py",
   "mimetype": "text/x-python",
   "name": "python",
   "nbconvert_exporter": "python",
   "pygments_lexer": "ipython3",
   "version": "3.9.5"
  }
 },
 "nbformat": 4,
 "nbformat_minor": 5
}
