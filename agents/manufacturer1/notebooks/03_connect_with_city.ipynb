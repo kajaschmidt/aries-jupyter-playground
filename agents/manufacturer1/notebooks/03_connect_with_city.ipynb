{
 "cells": [
  {
   "cell_type": "markdown",
   "id": "3a07ed75",
   "metadata": {},
   "source": [
    "# PART 3: Connect with `City` Agent for remote SMC"
   ]
  },
  {
   "cell_type": "code",
   "execution_count": 1,
   "id": "a697e1ce",
   "metadata": {},
   "outputs": [
    {
     "data": {
      "application/javascript": [
       "document.title=\"Manufacturer1 Agent\"\n"
      ],
      "text/plain": [
       "<IPython.core.display.Javascript object>"
      ]
     },
     "metadata": {},
     "output_type": "display_data"
    }
   ],
   "source": [
    "%%javascript\n",
    "document.title=\"Manufacturer1 Agent\""
   ]
  },
  {
   "cell_type": "markdown",
   "id": "ffa1843a",
   "metadata": {},
   "source": [
    "### Imports"
   ]
  },
  {
   "cell_type": "code",
   "execution_count": 2,
   "id": "fcbe4dd3",
   "metadata": {},
   "outputs": [],
   "source": [
    "from aries_cloudcontroller import AriesAgentController\n",
    "import os\n",
    "from termcolor import colored\n",
    "from pprintpp import pprint"
   ]
  },
  {
   "cell_type": "markdown",
   "id": "52afb60f",
   "metadata": {},
   "source": [
    "### Initialise the Agent Controller"
   ]
  },
  {
   "cell_type": "code",
   "execution_count": 3,
   "id": "efc5ae5f",
   "metadata": {},
   "outputs": [
    {
     "name": "stdout",
     "output_type": "stream",
     "text": [
      "Initialising a controller with admin api at http://manufacturer1-agent:3021 and an api key of adminApiKey\n"
     ]
    }
   ],
   "source": [
    "api_key = os.getenv(\"ACAPY_ADMIN_API_KEY\")\n",
    "admin_url = os.getenv(\"ADMIN_URL\")\n",
    "\n",
    "print(f\"Initialising a controller with admin api at {admin_url} and an api key of {api_key}\")\n",
    "agent_controller = AriesAgentController(admin_url,api_key)"
   ]
  },
  {
   "cell_type": "code",
   "execution_count": 4,
   "id": "ef7b9efa",
   "metadata": {},
   "outputs": [
    {
     "name": "stdout",
     "output_type": "stream",
     "text": [
      "Credential M1-isManufacturer-VC already in wallet. Please proceed.\n"
     ]
    }
   ],
   "source": [
    "# Verify if VC \"M1-isManufacturer-VC\" already exists in wallet\n",
    "vc = \"M1-isManufacturer-VC\"\n",
    "credentials = await agent_controller.credentials.get_all()\n",
    "if any(result[\"referent\"] == vc for result in credentials[\"results\"]):\n",
    "    print(\"Credential {vc} already in wallet. Please proceed.\".format(vc=vc))\n",
    "else:\n",
    "    print(\"Execute notebooks 01 to issue a VC to M1!\")"
   ]
  },
  {
   "cell_type": "markdown",
   "id": "d621f706",
   "metadata": {},
   "source": [
    "### Start a Webhook Server"
   ]
  },
  {
   "cell_type": "code",
   "execution_count": 5,
   "id": "eaf5d6be",
   "metadata": {},
   "outputs": [
    {
     "name": "stdout",
     "output_type": "stream",
     "text": [
      "Listening for webhooks from agent at http://0.0.0.0:3010\n"
     ]
    }
   ],
   "source": [
    "webhook_port = int(os.getenv(\"WEBHOOK_PORT\"))\n",
    "webhook_host = \"0.0.0.0\"\n",
    "\n",
    "await agent_controller.init_webhook_server(webhook_host, webhook_port)\n",
    "\n",
    "print(f\"Listening for webhooks from agent at http://{webhook_host}:{webhook_port}\")"
   ]
  },
  {
   "cell_type": "markdown",
   "id": "11375d6f",
   "metadata": {},
   "source": [
    "## Register Agent Event Listeners\n",
    "\n",
    "You can see some examples within the webhook_listeners recipe. Copy any relevant cells across and customise as needed."
   ]
  },
  {
   "cell_type": "code",
   "execution_count": 6,
   "id": "6ef73f9a",
   "metadata": {},
   "outputs": [],
   "source": [
    "listeners = []\n",
    "\n",
    "# Receive connection messages\n",
    "def connections_handler(payload):\n",
    "    state = payload['state']\n",
    "    connection_id = payload[\"connection_id\"]\n",
    "    their_role = payload[\"their_role\"]\n",
    "    routing_state = payload[\"routing_state\"]\n",
    "    rfc_state = payload[\"rfc23_state\"]\n",
    "    \n",
    "    print(\"----------------------------------------------------------\")\n",
    "    print(\"Connection Webhook Event Received\")\n",
    "    print(\"Connection ID : \", connection_id)\n",
    "    print(\"State : \", state)\n",
    "    print(\"Routing State : {routing} ({rfc})\".format(routing=routing_state, rfc=rfc_state))\n",
    "    if 'their_label' in payload: \n",
    "        print(f\"Connection with : \", payload['their_label'])\n",
    "    print(\"Their Role : \", their_role)\n",
    "    print(\"----------------------------------------------------------\")\n",
    "\n",
    "    if state == \"invitation\":\n",
    "        # Your business logic\n",
    "        print(\"invitation\")\n",
    "    elif state == \"request\":\n",
    "        # Your business logic\n",
    "        print(\"request\")\n",
    "\n",
    "    elif state == \"response\":\n",
    "        # Your business logic\n",
    "        print(\"response\")\n",
    "    elif state == \"active\":\n",
    "        # Your business logic\n",
    "        print(colored(\"Connection ID: {0} is now active.\".format(connection_id), \"green\", attrs=[\"bold\"]))\n",
    "\n",
    "\n",
    "def prover_proof_handler(payload):\n",
    "    role = payload[\"role\"]\n",
    "    connection_id = payload[\"connection_id\"]\n",
    "    pres_ex_id = payload[\"presentation_exchange_id\"]\n",
    "    state = payload[\"state\"]\n",
    "    print(\"\\n---------------------------------------------------------------------\\n\")\n",
    "    print(\"Handle present-proof\")\n",
    "    print(\"Connection ID : \", connection_id)\n",
    "    print(\"Presentation Exchange ID : \", pres_ex_id)\n",
    "    print(\"Protocol State : \", state)\n",
    "    print(\"Agent Role : \", role)\n",
    "    print(\"Initiator : \", payload[\"initiator\"])\n",
    "    print(\"\\n---------------------------------------------------------------------\\n\")\n",
    "    \n",
    "    \n",
    "    if state == \"request_received\":\n",
    "        presentation_request = payload[\"presentation_request\"]\n",
    "        print(\"Recieved Presentation Request\\n\")\n",
    "        print(\"\\nRequested Attributes - Note the restrictions. These limit the credentials we could respond with\\n\")\n",
    "        print(presentation_request[\"requested_attributes\"])\n",
    "    elif state == \"presentation_sent\":\n",
    "        print(\"Presentation sent\\n\")\n",
    "        \n",
    "    elif state == \"presentation_acked\":\n",
    "        print(\"Presentation has been acknowledged by the Issuer\")\n",
    "        \n",
    "        \n",
    "connection_listener = {\"handler\": connections_handler, \"topic\": \"connections\"}\n",
    "listeners.append(connection_listener)\n",
    "\n",
    "prover_listener = {\"topic\": \"present_proof\", \"handler\": prover_proof_handler}\n",
    "listeners.append(prover_listener)\n",
    "\n",
    "agent_controller.register_listeners(listeners)"
   ]
  },
  {
   "cell_type": "markdown",
   "id": "4dde199a",
   "metadata": {},
   "source": [
    "## Accept Invitation\n",
    "\n",
    "Copy an invitation object from another agent playing the role inviter (see the inviter_template recipe)"
   ]
  },
  {
   "cell_type": "code",
   "execution_count": 7,
   "id": "ff49f010",
   "metadata": {},
   "outputs": [],
   "source": [
    "invitation = {\n",
    "    '@id': '4b978b6d-8381-406e-bbe8-c7182ebe0dc8',\n",
    "    '@type': 'did:sov:BzCbsNYhMrjHiqZDTUASHg;spec/connections/1.0/invitation',\n",
    "    'label': 'City',\n",
    "    'recipientKeys': ['842s8grD4E1x59xDyS3dnF8YwMqRFMXML5zW2KvakbZb'],\n",
    "    'serviceEndpoint': 'https://80a67f24c0cb.ngrok.io',\n",
    "}"
   ]
  },
  {
   "cell_type": "code",
   "execution_count": 8,
   "id": "2691fac4",
   "metadata": {},
   "outputs": [
    {
     "name": "stdout",
     "output_type": "stream",
     "text": [
      "----------------------------------------------------------\n",
      "Connection Webhook Event Received\n",
      "Connection ID :  3a0a85a8-3d25-4242-91f3-79bba07f79f0\n",
      "State :  invitation\n",
      "Routing State : none (invitation-received)\n",
      "Connection with :  City\n",
      "Their Role :  inviter\n",
      "----------------------------------------------------------\n",
      "invitation\n",
      "----------------------------------------------------------\n",
      "Connection Webhook Event Received\n",
      "Connection ID :  3a0a85a8-3d25-4242-91f3-79bba07f79f0\n",
      "State :  request\n",
      "Routing State : none (request-sent)\n",
      "Connection with :  City\n",
      "Their Role :  inviter\n",
      "----------------------------------------------------------\n",
      "request\n",
      "----------------------------------------------------------\n",
      "Connection Webhook Event Received\n",
      "Connection ID :  3a0a85a8-3d25-4242-91f3-79bba07f79f0\n",
      "State :  response\n",
      "Routing State : none (response-received)\n",
      "Connection with :  City\n",
      "Their Role :  inviter\n",
      "----------------------------------------------------------\n",
      "response\n",
      "----------------------------------------------------------\n",
      "Connection Webhook Event Received\n",
      "Connection ID :  3a0a85a8-3d25-4242-91f3-79bba07f79f0\n",
      "State :  active\n",
      "Routing State : none (completed)\n",
      "Connection with :  City\n",
      "Their Role :  inviter\n",
      "----------------------------------------------------------\n",
      "\u001b[1m\u001b[32mConnection ID: 3a0a85a8-3d25-4242-91f3-79bba07f79f0 is now active.\u001b[0m\n",
      "\n",
      "---------------------------------------------------------------------\n",
      "\n",
      "Handle present-proof\n",
      "Connection ID :  3a0a85a8-3d25-4242-91f3-79bba07f79f0\n",
      "Presentation Exchange ID :  a9bf341e-da74-4d21-a734-d986ff484359\n",
      "Protocol State :  request_received\n",
      "Agent Role :  prover\n",
      "Initiator :  external\n",
      "\n",
      "---------------------------------------------------------------------\n",
      "\n",
      "Recieved Presentation Request\n",
      "\n",
      "\n",
      "Requested Attributes - Note the restrictions. These limit the credentials we could respond with\n",
      "\n",
      "{'0_isManufacturer_uuid': {'restrictions': [{'schema_id': 'MTXSc4YD8wixyM9ekZbmMC:2:certify-manufacturer:0.0.1'}], 'name': 'isManufacturer'}}\n"
     ]
    }
   ],
   "source": [
    "auto_accept=\"true\"\n",
    "alias=None\n",
    "\n",
    "invite_response = await agent_controller.connections.receive_invitation(invitation, alias, auto_accept)\n",
    "connection_id = invite_response[\"connection_id\"]"
   ]
  },
  {
   "cell_type": "markdown",
   "id": "244a31f2",
   "metadata": {},
   "source": [
    "## Optional: Send Proposal\n",
    "\n",
    "Propose a presentation to a verifier"
   ]
  },
  {
   "cell_type": "code",
   "execution_count": null,
   "id": "8fd265b0",
   "metadata": {},
   "outputs": [],
   "source": [
    "# TODO: Example proposal object below\n",
    "\n",
    "# proposal_object = {\n",
    "#   \"auto_present\": true,\n",
    "#   \"comment\": \"string\",\n",
    "#   \"connection_id\": \"3fa85f64-5717-4562-b3fc-2c963f66afa6\",\n",
    "#   \"presentation_proposal\": {\n",
    "#     \"@type\": \"did:sov:BzCbsNYhMrjHiqZDTUASHg;spec/present-proof/1.0/presentation-preview\",\n",
    "#     \"attributes\": [\n",
    "#       {\n",
    "#         \"cred_def_id\": \"WgWxqztrNooG92RXvxSTWv:3:CL:20:tag\",\n",
    "#         \"mime-type\": \"image/jpeg\",\n",
    "#         \"name\": \"favourite_drink\",\n",
    "#         \"referent\": \"0\",\n",
    "#         \"value\": \"martini\"\n",
    "#       }\n",
    "#     ],\n",
    "#     \"predicates\": [\n",
    "#       {\n",
    "#         \"cred_def_id\": \"WgWxqztrNooG92RXvxSTWv:3:CL:20:tag\",\n",
    "#         \"name\": \"high_score\",\n",
    "#         \"predicate\": \">=\",\n",
    "#         \"threshold\": 0\n",
    "#       }\n",
    "#     ]\n",
    "#   },\n",
    "#   \"trace\": false\n",
    "# }\n",
    "\n",
    "# proposal_response = await agent_controller.proofs.send_proposal(proposal_object)"
   ]
  },
  {
   "cell_type": "markdown",
   "id": "5a180254",
   "metadata": {},
   "source": [
    "## Fetch Presentation Records\n",
    "\n",
    "Before you can present a presentation, you must identify the presentation record which you wish to respond to with a presentation. This could also be done through the present_proof listeners which have access to a presentation record in the payload."
   ]
  },
  {
   "cell_type": "code",
   "execution_count": 9,
   "id": "8fbcef9d",
   "metadata": {},
   "outputs": [
    {
     "name": "stdout",
     "output_type": "stream",
     "text": [
      "{\n",
      "    'results': [\n",
      "        {\n",
      "            'connection_id': '3a0a85a8-3d25-4242-91f3-79bba07f79f0',\n",
      "            'created_at': '2021-08-09 14:48:06.324610Z',\n",
      "            'initiator': 'external',\n",
      "            'presentation_exchange_id': 'a9bf341e-da74-4d21-a734-d986ff484359',\n",
      "            'presentation_request': {\n",
      "                'name': 'isManufacturer Proof Request',\n",
      "                'non_revoked': {'to': 1628520443},\n",
      "                'nonce': '544370537991510495111363',\n",
      "                'requested_attributes': {\n",
      "                    '0_isManufacturer_uuid': {\n",
      "                        'name': 'isManufacturer',\n",
      "                        'restrictions': [\n",
      "                            {\n",
      "                                'schema_id': 'MTXSc4YD8wixyM9ekZbmMC:2:certify-manufacturer:0.0.1',\n",
      "                            },\n",
      "                        ],\n",
      "                    },\n",
      "                },\n",
      "                'requested_predicates': {},\n",
      "                'version': '1.0',\n",
      "            },\n",
      "            'presentation_request_dict': {\n",
      "                '@id': 'e28a0f01-0b8e-49bb-983d-157f00b485aa',\n",
      "                '@type': 'did:sov:BzCbsNYhMrjHiqZDTUASHg;spec/present-proof/1.0/request-presentation',\n",
      "                'comment': 'Please prove that you are an agent who is a certified manufacturer',\n",
      "                'request_presentations~attach': [\n",
      "                    {\n",
      "                        '@id': 'libindy-request-presentation-0',\n",
      "                        'data': {\n",
      "                            'base64': 'eyJuYW1lIjogImlzTWFudWZhY3R1cmVyIFByb29mIFJlcXVlc3QiLCAidmVyc2lvbiI6ICIxLjAiLCAicmVxdWVzdGVkX2F0dHJpYnV0ZXMiOiB7IjBfaXNNYW51ZmFjdHVyZXJfdXVpZCI6IHsibmFtZSI6ICJpc01hbnVmYWN0dXJlciIsICJyZXN0cmljdGlvbnMiOiBbeyJzY2hlbWFfaWQiOiAiTVRYU2M0WUQ4d2l4eU05ZWtaYm1NQzoyOmNlcnRpZnktbWFudWZhY3R1cmVyOjAuMC4xIn1dfX0sICJyZXF1ZXN0ZWRfcHJlZGljYXRlcyI6IHt9LCAibm9uX3Jldm9rZWQiOiB7InRvIjogMTYyODUyMDQ0M30sICJub25jZSI6ICI1NDQzNzA1Mzc5OTE1MTA0OTUxMTEzNjMifQ==',\n",
      "                        },\n",
      "                        'mime-type': 'application/json',\n",
      "                    },\n",
      "                ],\n",
      "                '~trace': {\n",
      "                    'full_thread': True,\n",
      "                    'target': 'log',\n",
      "                    'trace_reports': [],\n",
      "                },\n",
      "            },\n",
      "            'role': 'prover',\n",
      "            'state': 'request_received',\n",
      "            'thread_id': 'e28a0f01-0b8e-49bb-983d-157f00b485aa',\n",
      "            'trace': True,\n",
      "            'updated_at': '2021-08-09 14:48:06.324610Z',\n",
      "        },\n",
      "    ],\n",
      "}\n"
     ]
    }
   ],
   "source": [
    "# Step 2\n",
    "\n",
    "# Optional Query parameters\n",
    "verifier_connection_id = connection_id\n",
    "thread_id = None\n",
    "state = \"request_received\"\n",
    "role = \"prover\"\n",
    "\n",
    "proof_records_response = await agent_controller.proofs.get_records(verifier_connection_id, thread_id, state, role)\n",
    "pprint(proof_records_response)"
   ]
  },
  {
   "cell_type": "code",
   "execution_count": 10,
   "id": "d6f1ac64",
   "metadata": {},
   "outputs": [],
   "source": [
    "# Fetch records from response that were sent via connection_id\n",
    "presentation_records = [r for r in proof_records_response[\"results\"] if (r[\"connection_id\"] == connection_id) is True] \n",
    "\n",
    "# Process only the first record:\n",
    "presentation_record = presentation_records[0]\n",
    "presentation_exchange_id = presentation_record[\"presentation_exchange_id\"]"
   ]
  },
  {
   "cell_type": "markdown",
   "id": "7d129b9e",
   "metadata": {},
   "source": [
    "## Search For Available Credentials to Construct Presentation From\n",
    "\n",
    "The presentation record can be used to query your agents wallet and return all credentials that could be used to construct valid presentation"
   ]
  },
  {
   "cell_type": "code",
   "execution_count": 11,
   "id": "31048e87",
   "metadata": {},
   "outputs": [],
   "source": [
    "def get_proof_request_requirements(presentation_record):\n",
    "    \"\"\"\n",
    "    Returns dictionary with {<required-attribute>: <restrictions-of-attribute>} from presentation record\n",
    "    \"\"\"\n",
    "    # Setup\n",
    "    restrictions = {}\n",
    "    presentation_request = presentation_record[\"presentation_request\"]\n",
    "    \n",
    "    # Get required attributes and requirements for the individual attributes\n",
    "    for attr_key, attr_val in presentation_request[\"requested_attributes\"].items():\n",
    "        restrictions[attr_val[\"name\"]] = {}\n",
    "        restrictions[attr_val[\"name\"]][\"requirements\"] = attr_val[\"restrictions\"][0] \n",
    "        restrictions[attr_val[\"name\"]][\"request_attr_name\"] = attr_key\n",
    "        \n",
    "    return restrictions\n",
    "\n",
    "\n",
    "def get_suitable_credentials(credentials_all, requirements):\n",
    "    \"\"\"\n",
    "    Finds credentials in credentials_all that satisfy the requirements provided by the relying party.\n",
    "    Returns dictionary with: {<attribute-name>: <suitable-credential>}, where the suitable-credential satisfies all requirements \n",
    "    \"\"\"\n",
    "    # Setup\n",
    "    relevant_credentials = {}\n",
    "    revealed = {}\n",
    "    credentials = credentials_all[\"results\"]\n",
    "    \n",
    "    # Iterate through attribute name and attribute requirements of relying party\n",
    "    for name, conditions in requirements.items():\n",
    "        \n",
    "        req = conditions[\"requirements\"]\n",
    "        req_name = conditions[\"request_attr_name\"]\n",
    "        \n",
    "        # Break if the required attribute name is not in any credential, or if all requirements (e.g., schema_id) are not within one credential\n",
    "        if (any(name in cred[\"attrs\"] for cred in credentials) is False) or (any(r in cred.keys() for r in req for cred in credentials) is False):\n",
    "            continue\n",
    "\n",
    "        # Iterate through credentials\n",
    "        for cred in credentials:\n",
    "\n",
    "            # Verify if requirement value (r_val) and credential value (cred[r_key]) match for required attribute (r_key)\n",
    "            for r_key, r_val in req.items():\n",
    "                try:\n",
    "                    # Append cred to relevant_credentials if all requirements match\n",
    "                    if (cred[r_key] == r_val) is True:\n",
    "                        relevant_credentials[name] = cred\n",
    "                        print(f\"Attribute request for '{name}' can be satisfied by Credential with Referent -- {cred['referent']}\")\n",
    "                        revealed[req_name] = {\"cred_id\": cred[\"referent\"], \"revealed\": True}\n",
    "                except:\n",
    "                    pass\n",
    "\n",
    "    return relevant_credentials, revealed"
   ]
  },
  {
   "cell_type": "code",
   "execution_count": 12,
   "id": "bba53e0e",
   "metadata": {},
   "outputs": [
    {
     "name": "stdout",
     "output_type": "stream",
     "text": [
      "Attribute request for 'isManufacturer' can be satisfied by Credential with Referent -- M1-isManufacturer-VC\n",
      "{\n",
      "    '0_isManufacturer_uuid': {\n",
      "        'cred_id': 'M1-isManufacturer-VC',\n",
      "        'revealed': True,\n",
      "    },\n",
      "}\n"
     ]
    }
   ],
   "source": [
    "# Get requirements of proof request\n",
    "proof_attribute_requirements = get_proof_request_requirements(presentation_record)\n",
    "\n",
    "# Verify all credentials of M1 and verify if they satisfy the requirements defined in proof_attribute_requirements\n",
    "credentials = await agent_controller.credentials.get_all()\n",
    "suitable_credentials, revealed = get_suitable_credentials(credentials, proof_attribute_requirements)\n",
    "#pprint(credentials)\n",
    "pprint(revealed)"
   ]
  },
  {
   "cell_type": "code",
   "execution_count": 40,
   "id": "b379a09e",
   "metadata": {},
   "outputs": [],
   "source": [
    "# select credentials to provide for the proof\n",
    "#credentials = await agent_controller.proofs.get_presentation_credentials(presentation_exchange_id)\n",
    "#print(\"Credentials stored that could be used to satisfy the request. In some situations you applications may have a choice which credential to reveal\\n\")\n",
    "\n",
    "#attribute_by_reft = {}\n",
    "#revealed = {}\n",
    "#self_attested = {}\n",
    "#predicates = {}"
   ]
  },
  {
   "cell_type": "code",
   "execution_count": 13,
   "id": "f8c3b375",
   "metadata": {},
   "outputs": [],
   "source": [
    "predicates = {}\n",
    "self_attested = {}\n"
   ]
  },
  {
   "cell_type": "code",
   "execution_count": 14,
   "id": "61e77842",
   "metadata": {},
   "outputs": [
    {
     "name": "stdout",
     "output_type": "stream",
     "text": [
      "\n",
      "Generate the proof\n",
      "{'requested_predicates': {}, 'requested_attributes': {'0_isManufacturer_uuid': {'cred_id': 'M1-isManufacturer-VC', 'revealed': True}}, 'self_attested_attributes': {}}\n"
     ]
    }
   ],
   "source": [
    "# Note we are working on a friendlier api to abstract this away\n",
    "\n",
    "print(\"\\nGenerate the proof\")\n",
    "presentation = {\n",
    "    \"requested_predicates\": predicates,\n",
    "    \"requested_attributes\": revealed,\n",
    "    \"self_attested_attributes\": self_attested,\n",
    "}\n",
    "print(presentation)"
   ]
  },
  {
   "cell_type": "markdown",
   "id": "f64ba293",
   "metadata": {},
   "source": [
    "## Send Presentation\n",
    "\n",
    "A presentation is sent in represent to a presentation record that has previously been created."
   ]
  },
  {
   "cell_type": "code",
   "execution_count": 15,
   "id": "61483c0e",
   "metadata": {},
   "outputs": [
    {
     "name": "stdout",
     "output_type": "stream",
     "text": [
      "\n",
      "---------------------------------------------------------------------\n",
      "\n",
      "Handle present-proof\n",
      "Connection ID :  3a0a85a8-3d25-4242-91f3-79bba07f79f0\n",
      "Presentation Exchange ID :  a9bf341e-da74-4d21-a734-d986ff484359\n",
      "Protocol State :  presentation_sent\n",
      "Agent Role :  prover\n",
      "Initiator :  external\n",
      "\n",
      "---------------------------------------------------------------------\n",
      "\n",
      "Presentation sent\n",
      "\n",
      "\n",
      "---------------------------------------------------------------------\n",
      "\n",
      "Handle present-proof\n",
      "Connection ID :  3a0a85a8-3d25-4242-91f3-79bba07f79f0\n",
      "Presentation Exchange ID :  a9bf341e-da74-4d21-a734-d986ff484359\n",
      "Protocol State :  presentation_acked\n",
      "Agent Role :  prover\n",
      "Initiator :  external\n",
      "\n",
      "---------------------------------------------------------------------\n",
      "\n",
      "Presentation has been acknowledged by the Issuer\n"
     ]
    }
   ],
   "source": [
    "presentation_response = await agent_controller.proofs.send_presentation(presentation_exchange_id, presentation)"
   ]
  },
  {
   "cell_type": "markdown",
   "id": "bd3d48a1",
   "metadata": {},
   "source": [
    "## Your Own Business Logic\n",
    "\n",
    "Now you should have an established, active connection you can write any custom logic you want to engage with protocols with the connection"
   ]
  },
  {
   "cell_type": "code",
   "execution_count": 1,
   "id": "3fea614f",
   "metadata": {},
   "outputs": [],
   "source": [
    "# Imports\n",
    "import torch\n",
    "import syft as sy\n",
    "\n",
    "from sympc.session import Session\n",
    "from sympc.session import SessionManager\n",
    "from sympc.tensor import MPCTensor"
   ]
  },
  {
   "cell_type": "code",
   "execution_count": 2,
   "id": "a6feb82b",
   "metadata": {},
   "outputs": [
    {
     "name": "stdout",
     "output_type": "stream",
     "text": [
      "🎤  🎸  ♪♪♪ Joining Duet ♫♫♫  🎻  🎹\n",
      "\n",
      "♫♫♫ >\u001b[93m DISCLAIMER\u001b[0m: \u001b[1mDuet is an experimental feature currently in beta.\n",
      "♫♫♫ > Use at your own risk.\n",
      "\u001b[0m\n",
      "\u001b[1m\n",
      "    > ❤️ \u001b[91mLove\u001b[0m \u001b[92mDuet\u001b[0m? \u001b[93mPlease\u001b[0m \u001b[94mconsider\u001b[0m \u001b[95msupporting\u001b[0m \u001b[91mour\u001b[0m \u001b[93mcommunity!\u001b[0m\n",
      "    > https://github.com/sponsors/OpenMined\u001b[1m\n",
      "\n",
      "♫♫♫ > Punching through firewall to OpenGrid Network Node at:\n",
      "♫♫♫ > http://ec2-18-218-7-180.us-east-2.compute.amazonaws.com:5000\n",
      "♫♫♫ >\n",
      "♫♫♫ > ...waiting for response from OpenGrid Network... \n",
      "♫♫♫ > \u001b[92mDONE!\u001b[0m\n",
      "\n",
      "♫♫♫ > \u001b[95mSTEP 1:\u001b[0m Send the following Duet Client ID to your duet partner!\n",
      "♫♫♫ > Duet Client ID: \u001b[1mff29b1c96f3d59db8d163ae3a61299ad\u001b[0m\n",
      "\n",
      "♫♫♫ > ...waiting for partner to connect...\n",
      "\n",
      "♫♫♫ > \u001b[92mCONNECTED!\u001b[0m\n"
     ]
    }
   ],
   "source": [
    "# Step 2: Join duet of DS\n",
    "duet_city = sy.duet(\"c119db5cdf423888d5a631b1f568b720\")"
   ]
  },
  {
   "cell_type": "code",
   "execution_count": null,
   "id": "37a81b40",
   "metadata": {},
   "outputs": [],
   "source": [
    "# Copy and paste client_id and ping the city!"
   ]
  },
  {
   "cell_type": "code",
   "execution_count": 3,
   "id": "ba106fa0",
   "metadata": {},
   "outputs": [
    {
     "name": "stdout",
     "output_type": "stream",
     "text": [
      "🎤  🎸  ♪♪♪ Starting Duet ♫♫♫  🎻  🎹\n",
      "\n",
      "♫♫♫ >\u001b[93m DISCLAIMER\u001b[0m: \u001b[1mDuet is an experimental feature currently in beta.\n",
      "♫♫♫ > Use at your own risk.\n",
      "\u001b[0m\n",
      "\u001b[1m\n",
      "    > ❤️ \u001b[91mLove\u001b[0m \u001b[92mDuet\u001b[0m? \u001b[93mPlease\u001b[0m \u001b[94mconsider\u001b[0m \u001b[95msupporting\u001b[0m \u001b[91mour\u001b[0m \u001b[93mcommunity!\u001b[0m\n",
      "    > https://github.com/sponsors/OpenMined\u001b[1m\n",
      "\n",
      "♫♫♫ > Punching through firewall to OpenGrid Network Node at:\n",
      "♫♫♫ > http://ec2-18-218-7-180.us-east-2.compute.amazonaws.com:5000\n",
      "♫♫♫ >\n",
      "♫♫♫ > ...waiting for response from OpenGrid Network... \n",
      "♫♫♫ > \u001b[92mDONE!\u001b[0m\n",
      "♫♫♫ > Duet Server ID: \u001b[1mbf2a7a2d63c30294c9bfa5c61ea9be9e\u001b[0m\n",
      "\n",
      "♫♫♫ > \u001b[95mSTEP 1:\u001b[0m Send the following code to your Duet Partner!\n",
      "\n",
      "import syft as sy\n",
      "duet = sy.duet(\"\u001b[1mbf2a7a2d63c30294c9bfa5c61ea9be9e\u001b[0m\")\n",
      "\n",
      "♫♫♫ > \u001b[95mSTEP 2:\u001b[0m Ask your partner for their Client ID and enter it below!\n"
     ]
    },
    {
     "name": "stdin",
     "output_type": "stream",
     "text": [
      "♫♫♫ > Duet Partner's Client ID:  5f521eaa1db551edb939fda2fba098f2\n"
     ]
    },
    {
     "name": "stdout",
     "output_type": "stream",
     "text": [
      "\n",
      "♫♫♫ > Connecting...\n",
      "\n",
      "♫♫♫ > \u001b[92mCONNECTED!\u001b[0m\n",
      "\n",
      "♫♫♫ > DUET LIVE STATUS  -  Objects: 2  Requests: 0   Messages: 5  Request Handlers: 1                                \r"
     ]
    }
   ],
   "source": [
    "# Step 3: Create duet server\n",
    "duet_m1 = sy.launch_duet()"
   ]
  },
  {
   "cell_type": "markdown",
   "id": "609e1f64",
   "metadata": {
    "pycharm": {
     "name": "#%% md\n"
    }
   },
   "source": [
    "## 2 - Secure Multi-Party Computation"
   ]
  },
  {
   "cell_type": "code",
   "execution_count": 4,
   "id": "a0d69f30",
   "metadata": {},
   "outputs": [
    {
     "data": {
      "text/html": [
       "<div>\n",
       "<style scoped>\n",
       "    .dataframe tbody tr th:only-of-type {\n",
       "        vertical-align: middle;\n",
       "    }\n",
       "\n",
       "    .dataframe tbody tr th {\n",
       "        vertical-align: top;\n",
       "    }\n",
       "\n",
       "    .dataframe thead th {\n",
       "        text-align: right;\n",
       "    }\n",
       "</style>\n",
       "<table border=\"1\" class=\"dataframe\">\n",
       "  <thead>\n",
       "    <tr style=\"text-align: right;\">\n",
       "      <th></th>\n",
       "    </tr>\n",
       "  </thead>\n",
       "  <tbody>\n",
       "  </tbody>\n",
       "</table>\n",
       "</div>"
      ],
      "text/plain": [
       "Empty DataFrame\n",
       "Columns: []\n",
       "Index: []"
      ]
     },
     "execution_count": 4,
     "metadata": {},
     "output_type": "execute_result"
    }
   ],
   "source": [
    "# Step 8: test there is no data in the server atm\n",
    "duet_m1.store.pandas"
   ]
  },
  {
   "cell_type": "code",
   "execution_count": 5,
   "id": "877fdf7f",
   "metadata": {},
   "outputs": [
    {
     "data": {
      "text/plain": [
       "<syft.proxy.torch.TensorPointer at 0x7ff3056f86a0>"
      ]
     },
     "execution_count": 5,
     "metadata": {},
     "output_type": "execute_result"
    }
   ],
   "source": [
    "# Step 9: Publish secret data\n",
    "\n",
    "x = torch.tensor([50,60,77]) # define torch\n",
    "x.send(duet_m1, pointable=True, tags=[\"TEST_#1_from_m1_to_ds\"], description=\"Dummy data\") # send torch to duet_m1\n",
    "\n",
    "x = torch.tensor([[1,2], [3,4]])\n",
    "x.send(duet_m1, pointable=True, tags=[\"TEST_#2_from_m1_to_ds\"], description=\"Test to multiply matrices\")"
   ]
  },
  {
   "cell_type": "code",
   "execution_count": 6,
   "id": "43b96c68",
   "metadata": {
    "collapsed": false,
    "jupyter": {
     "outputs_hidden": false
    },
    "pycharm": {
     "name": "#%%\n"
    }
   },
   "outputs": [
    {
     "data": {
      "text/html": [
       "<div>\n",
       "<style scoped>\n",
       "    .dataframe tbody tr th:only-of-type {\n",
       "        vertical-align: middle;\n",
       "    }\n",
       "\n",
       "    .dataframe tbody tr th {\n",
       "        vertical-align: top;\n",
       "    }\n",
       "\n",
       "    .dataframe thead th {\n",
       "        text-align: right;\n",
       "    }\n",
       "</style>\n",
       "<table border=\"1\" class=\"dataframe\">\n",
       "  <thead>\n",
       "    <tr style=\"text-align: right;\">\n",
       "      <th></th>\n",
       "      <th>ID</th>\n",
       "      <th>Tags</th>\n",
       "      <th>Description</th>\n",
       "      <th>object_type</th>\n",
       "    </tr>\n",
       "  </thead>\n",
       "  <tbody>\n",
       "    <tr>\n",
       "      <th>0</th>\n",
       "      <td>&lt;UID: 469ba9871941459a8ae3de1b03713a0b&gt;</td>\n",
       "      <td>[TEST_#1_from_m1_to_ds]</td>\n",
       "      <td>Dummy data</td>\n",
       "      <td>&lt;class 'torch.Tensor'&gt;</td>\n",
       "    </tr>\n",
       "    <tr>\n",
       "      <th>1</th>\n",
       "      <td>&lt;UID: f3f54225fc324bc18f4b59e7cce481d6&gt;</td>\n",
       "      <td>[TEST_#2_from_m1_to_ds]</td>\n",
       "      <td>Test to multiply matrices</td>\n",
       "      <td>&lt;class 'torch.Tensor'&gt;</td>\n",
       "    </tr>\n",
       "  </tbody>\n",
       "</table>\n",
       "</div>"
      ],
      "text/plain": [
       "                                        ID                     Tags  \\\n",
       "0  <UID: 469ba9871941459a8ae3de1b03713a0b>  [TEST_#1_from_m1_to_ds]   \n",
       "1  <UID: f3f54225fc324bc18f4b59e7cce481d6>  [TEST_#2_from_m1_to_ds]   \n",
       "\n",
       "                 Description             object_type  \n",
       "0                 Dummy data  <class 'torch.Tensor'>  \n",
       "1  Test to multiply matrices  <class 'torch.Tensor'>  "
      ]
     },
     "execution_count": 6,
     "metadata": {},
     "output_type": "execute_result"
    }
   ],
   "source": [
    "# Step 10: verify that data was uploaded to the store\n",
    "duet_m1.store.pandas"
   ]
  },
  {
   "cell_type": "code",
   "execution_count": 7,
   "id": "705d64c5",
   "metadata": {
    "collapsed": false,
    "jupyter": {
     "outputs_hidden": false
    },
    "pycharm": {
     "name": "#%%\n"
    }
   },
   "outputs": [],
   "source": [
    "# Step 11: Authorize the requests ds can make\n",
    "duet_m1.requests.add_handler(action=\"accept\")"
   ]
  },
  {
   "cell_type": "code",
   "execution_count": null,
   "id": "4dfaa084",
   "metadata": {
    "collapsed": false,
    "jupyter": {
     "outputs_hidden": false
    },
    "pycharm": {
     "name": "#%%\n"
    }
   },
   "outputs": [],
   "source": []
  },
  {
   "cell_type": "code",
   "execution_count": null,
   "id": "1ecff900",
   "metadata": {},
   "outputs": [],
   "source": []
  },
  {
   "cell_type": "code",
   "execution_count": null,
   "id": "cf58fad2",
   "metadata": {},
   "outputs": [],
   "source": []
  },
  {
   "cell_type": "markdown",
   "id": "af8051a9",
   "metadata": {},
   "source": [
    "## Terminate Controller\n",
    "\n",
    "Whenever you have finished with this notebook, be sure to terminate the controller. This is especially important if your business logic runs across multiple notebooks."
   ]
  },
  {
   "cell_type": "code",
   "execution_count": null,
   "id": "b3e14beb",
   "metadata": {},
   "outputs": [],
   "source": [
    "await agent_controller.terminate()"
   ]
  },
  {
   "cell_type": "code",
   "execution_count": null,
   "id": "931be70d",
   "metadata": {},
   "outputs": [],
   "source": []
  }
 ],
 "metadata": {
  "kernelspec": {
   "display_name": "Python 3 (ipykernel)",
   "language": "python",
   "name": "python3"
  },
  "language_info": {
   "codemirror_mode": {
    "name": "ipython",
    "version": 3
   },
   "file_extension": ".py",
   "mimetype": "text/x-python",
   "name": "python",
   "nbconvert_exporter": "python",
   "pygments_lexer": "ipython3",
   "version": "3.9.5"
  }
 },
 "nbformat": 4,
 "nbformat_minor": 5
}
