{
 "cells": [
  {
   "cell_type": "markdown",
   "id": "34dfe504",
   "metadata": {},
   "source": [
    "# PART 3: Connect with `City` Agent for remote SMC"
   ]
  },
  {
   "cell_type": "code",
   "execution_count": 1,
   "id": "0a0df6a7",
   "metadata": {},
   "outputs": [
    {
     "data": {
      "application/javascript": [
       "document.title=\"Manufacturer1 Agent\"\n"
      ],
      "text/plain": [
       "<IPython.core.display.Javascript object>"
      ]
     },
     "metadata": {},
     "output_type": "display_data"
    }
   ],
   "source": [
    "%%javascript\n",
    "document.title=\"Manufacturer1 Agent\""
   ]
  },
  {
   "cell_type": "markdown",
   "id": "92e03263",
   "metadata": {},
   "source": [
    "### Imports"
   ]
  },
  {
   "cell_type": "code",
   "execution_count": 3,
   "id": "02873d3b",
   "metadata": {},
   "outputs": [],
   "source": [
    "from aries_cloudcontroller import AriesAgentController\n",
    "import os\n",
    "from termcolor import colored\n",
    "from pprintpp import pprint\n",
    "import libs.functions as fnc"
   ]
  },
  {
   "cell_type": "markdown",
   "id": "cade7a42",
   "metadata": {},
   "source": [
    "### Initialise the Agent Controller"
   ]
  },
  {
   "cell_type": "code",
   "execution_count": 4,
   "id": "77c1a266",
   "metadata": {},
   "outputs": [
    {
     "name": "stdout",
     "output_type": "stream",
     "text": [
      "Initialising a controller with admin api at http://manufacturer1-agent:3021 and an api key of adminApiKey\n"
     ]
    }
   ],
   "source": [
    "api_key = os.getenv(\"ACAPY_ADMIN_API_KEY\")\n",
    "admin_url = os.getenv(\"ADMIN_URL\")\n",
    "webhook_port = int(os.getenv(\"WEBHOOK_PORT\"))\n",
    "webhook_host = \"0.0.0.0\""
   ]
  },
  {
   "cell_type": "markdown",
   "id": "ea3e53dc",
   "metadata": {},
   "source": [
    "### Start a Webhook Server"
   ]
  },
  {
   "cell_type": "code",
   "execution_count": 6,
   "id": "c298f269",
   "metadata": {},
   "outputs": [
    {
     "name": "stdout",
     "output_type": "stream",
     "text": [
      "Listening for webhooks from agent at http://0.0.0.0:3010\n"
     ]
    }
   ],
   "source": [
    "agent_controller = AriesAgentController(admin_url,api_key)\n",
    "print(f\"Initialising a controller with admin api at {admin_url} and an api key of {api_key}\")\n",
    "\n",
    "await agent_controller.init_webhook_server(webhook_host, webhook_port)\n",
    "print(f\"Listening for webhooks from agent at http://{webhook_host}:{webhook_port}\")"
   ]
  },
  {
   "cell_type": "code",
   "execution_count": 5,
   "id": "9b7f634f",
   "metadata": {},
   "outputs": [
    {
     "name": "stdout",
     "output_type": "stream",
     "text": [
      "Execute notebooks 00 and 02 to issue a VC to M1!\n"
     ]
    }
   ],
   "source": [
    "# Verify if VC \"M1-isManufacturer-VC\" already exists in wallet\n",
    "vc = \"M1-isManufacturer-VC\"\n",
    "fnc.is_vc_in_wallet(agent_controller, vc)"
   ]
  },
  {
   "cell_type": "markdown",
   "id": "3216b9e5",
   "metadata": {},
   "source": [
    "## Register Agent Event Listeners\n",
    "\n",
    "You can see some examples within the webhook_listeners recipe. Copy any relevant cells across and customise as needed."
   ]
  },
  {
   "cell_type": "code",
   "execution_count": 7,
   "id": "202b9d58",
   "metadata": {},
   "outputs": [],
   "source": [
    "listeners = []\n",
    "     \n",
    "connection_listener = {\"handler\": fnc.connections_handler, \"topic\": \"connections\"}\n",
    "listeners.append(connection_listener)\n",
    "\n",
    "prover_listener = {\"topic\": \"present_proof\", \"handler\": fnc.prover_proof_handler}\n",
    "listeners.append(prover_listener)\n",
    "\n",
    "agent_controller.register_listeners(listeners)"
   ]
  },
  {
   "cell_type": "markdown",
   "id": "727ad4ce",
   "metadata": {},
   "source": [
    "## Accept Invitation\n",
    "\n",
    "Copy an invitation object from another agent playing the role inviter (see the inviter_template recipe)"
   ]
  },
  {
   "cell_type": "code",
   "execution_count": 11,
   "id": "da7c6ee1",
   "metadata": {},
   "outputs": [
    {
     "name": "stdin",
     "output_type": "stream",
     "text": [
      "Please enter invitation from external agent:  {     '@id': 'e279caf3-433a-4707-bc57-65a42c9cfd94',     '@type': 'did:sov:BzCbsNYhMrjHiqZDTUASHg;spec/connections/1.0/invitation',     'label': 'City',     'recipientKeys': ['5h9MaLbBUhs16dK3N4rR5bqNKCK4RXDLDsMeZ81RxDAU'],     'serviceEndpoint': 'https://45cdcbf290ad.ngrok.io', }\n"
     ]
    }
   ],
   "source": [
    "invitation = input(\"Please enter invitation from external agent: \")"
   ]
  },
  {
   "cell_type": "code",
   "execution_count": 10,
   "id": "f2b94357",
   "metadata": {},
   "outputs": [
    {
     "name": "stdout",
     "output_type": "stream",
     "text": [
      "----------------------------------------------------------\n",
      "Connection Webhook Event Received\n",
      "Connection ID :  78ce40f6-9b44-4350-b4b8-aee9f0217996\n",
      "State :  invitation\n",
      "Routing State : none (invitation-received)\n",
      "Connection with :  City\n",
      "Their Role :  inviter\n",
      "----------------------------------------------------------\n",
      "invitation\n",
      "----------------------------------------------------------\n",
      "Connection Webhook Event Received\n",
      "Connection ID :  78ce40f6-9b44-4350-b4b8-aee9f0217996\n",
      "State :  request\n",
      "Routing State : none (request-sent)\n",
      "Connection with :  City\n",
      "Their Role :  inviter\n",
      "----------------------------------------------------------\n",
      "request\n",
      "----------------------------------------------------------\n",
      "Connection Webhook Event Received\n",
      "Connection ID :  78ce40f6-9b44-4350-b4b8-aee9f0217996\n",
      "State :  response\n",
      "Routing State : none (response-received)\n",
      "Connection with :  City\n",
      "Their Role :  inviter\n",
      "----------------------------------------------------------\n",
      "response\n",
      "----------------------------------------------------------\n",
      "Connection Webhook Event Received\n",
      "Connection ID :  78ce40f6-9b44-4350-b4b8-aee9f0217996\n",
      "State :  active\n",
      "Routing State : none (completed)\n",
      "Connection with :  City\n",
      "Their Role :  inviter\n",
      "----------------------------------------------------------\n",
      "\u001b[1m\u001b[32mConnection ID: 78ce40f6-9b44-4350-b4b8-aee9f0217996 is now active.\u001b[0m\n"
     ]
    }
   ],
   "source": [
    "auto_accept=\"true\"\n",
    "alias=None\n",
    "\n",
    "invite_response = await agent_controller.connections.receive_invitation(invitation, alias, auto_accept)\n",
    "connection_id = invite_response[\"connection_id\"]"
   ]
  },
  {
   "cell_type": "markdown",
   "id": "aa7584f6",
   "metadata": {},
   "source": [
    "## Optional: Send Proposal\n",
    "\n",
    "Propose a presentation to a verifier"
   ]
  },
  {
   "cell_type": "code",
   "execution_count": null,
   "id": "df7d598e",
   "metadata": {},
   "outputs": [],
   "source": [
    "# TODO: Example proposal object below\n",
    "\n",
    "# proposal_object = {\n",
    "#   \"auto_present\": true,\n",
    "#   \"comment\": \"string\",\n",
    "#   \"connection_id\": \"3fa85f64-5717-4562-b3fc-2c963f66afa6\",\n",
    "#   \"presentation_proposal\": {\n",
    "#     \"@type\": \"did:sov:BzCbsNYhMrjHiqZDTUASHg;spec/present-proof/1.0/presentation-preview\",\n",
    "#     \"attributes\": [\n",
    "#       {\n",
    "#         \"cred_def_id\": \"WgWxqztrNooG92RXvxSTWv:3:CL:20:tag\",\n",
    "#         \"mime-type\": \"image/jpeg\",\n",
    "#         \"name\": \"favourite_drink\",\n",
    "#         \"referent\": \"0\",\n",
    "#         \"value\": \"martini\"\n",
    "#       }\n",
    "#     ],\n",
    "#     \"predicates\": [\n",
    "#       {\n",
    "#         \"cred_def_id\": \"WgWxqztrNooG92RXvxSTWv:3:CL:20:tag\",\n",
    "#         \"name\": \"high_score\",\n",
    "#         \"predicate\": \">=\",\n",
    "#         \"threshold\": 0\n",
    "#       }\n",
    "#     ]\n",
    "#   },\n",
    "#   \"trace\": false\n",
    "# }\n",
    "\n",
    "# proposal_response = await agent_controller.proofs.send_proposal(proposal_object)"
   ]
  },
  {
   "cell_type": "markdown",
   "id": "10ae8c10",
   "metadata": {},
   "source": [
    "## Fetch Presentation Records\n",
    "\n",
    "Before you can present a presentation, you must identify the presentation record which you wish to respond to with a presentation. This could also be done through the present_proof listeners which have access to a presentation record in the payload."
   ]
  },
  {
   "cell_type": "code",
   "execution_count": null,
   "id": "623b1d3e",
   "metadata": {},
   "outputs": [],
   "source": [
    "# Step 2\n",
    "\n",
    "# Optional Query parameters\n",
    "verifier_connection_id = connection_id\n",
    "thread_id = None\n",
    "state = \"request_received\"\n",
    "role = \"prover\"\n",
    "\n",
    "proof_records_response = await agent_controller.proofs.get_records(verifier_connection_id, thread_id, state, role)\n",
    "pprint(proof_records_response)"
   ]
  },
  {
   "cell_type": "code",
   "execution_count": null,
   "id": "13c2c497",
   "metadata": {},
   "outputs": [],
   "source": [
    "# Fetch records from response that were sent via connection_id\n",
    "presentation_records = [r for r in proof_records_response[\"results\"] if (r[\"connection_id\"] == connection_id) is True] \n",
    "\n",
    "# Process only the first record:\n",
    "presentation_record = presentation_records[0]\n",
    "presentation_exchange_id = presentation_record[\"presentation_exchange_id\"]"
   ]
  },
  {
   "cell_type": "markdown",
   "id": "ee48142d",
   "metadata": {},
   "source": [
    "## Search For Available Credentials to Construct Presentation From\n",
    "\n",
    "The presentation record can be used to query your agents wallet and return all credentials that could be used to construct valid presentation"
   ]
  },
  {
   "cell_type": "code",
   "execution_count": null,
   "id": "5045c4a6",
   "metadata": {},
   "outputs": [],
   "source": [
    "def get_proof_request_requirements(presentation_record):\n",
    "    \"\"\"\n",
    "    Returns dictionary with {<required-attribute>: <restrictions-of-attribute>} from presentation record\n",
    "    \"\"\"\n",
    "    # Setup\n",
    "    restrictions = {}\n",
    "    presentation_request = presentation_record[\"presentation_request\"]\n",
    "    \n",
    "    # Get required attributes and requirements for the individual attributes\n",
    "    for attr_key, attr_val in presentation_request[\"requested_attributes\"].items():\n",
    "        restrictions[attr_val[\"name\"]] = {}\n",
    "        restrictions[attr_val[\"name\"]][\"requirements\"] = attr_val[\"restrictions\"][0] \n",
    "        restrictions[attr_val[\"name\"]][\"request_attr_name\"] = attr_key\n",
    "        \n",
    "    return restrictions\n",
    "\n",
    "\n",
    "def get_suitable_credentials(credentials_all, requirements):\n",
    "    \"\"\"\n",
    "    Finds credentials in credentials_all that satisfy the requirements provided by the relying party.\n",
    "    Returns dictionary with: {<attribute-name>: <suitable-credential>}, where the suitable-credential satisfies all requirements \n",
    "    \"\"\"\n",
    "    # Setup\n",
    "    relevant_credentials = {}\n",
    "    revealed = {}\n",
    "    credentials = credentials_all[\"results\"]\n",
    "    \n",
    "    # Iterate through attribute name and attribute requirements of relying party\n",
    "    for name, conditions in requirements.items():\n",
    "        \n",
    "        req = conditions[\"requirements\"]\n",
    "        req_name = conditions[\"request_attr_name\"]\n",
    "        \n",
    "        # Break if the required attribute name is not in any credential, or if all requirements (e.g., schema_id) are not within one credential\n",
    "        if (any(name in cred[\"attrs\"] for cred in credentials) is False) or (any(r in cred.keys() for r in req for cred in credentials) is False):\n",
    "            continue\n",
    "\n",
    "        # Iterate through credentials\n",
    "        for cred in credentials:\n",
    "\n",
    "            # Verify if requirement value (r_val) and credential value (cred[r_key]) match for required attribute (r_key)\n",
    "            for r_key, r_val in req.items():\n",
    "                try:\n",
    "                    # Append cred to relevant_credentials if all requirements match\n",
    "                    if (cred[r_key] == r_val) is True:\n",
    "                        relevant_credentials[name] = cred\n",
    "                        print(f\"Attribute request for '{name}' can be satisfied by Credential with Referent -- {cred['referent']}\")\n",
    "                        revealed[req_name] = {\"cred_id\": cred[\"referent\"], \"revealed\": True}\n",
    "                except:\n",
    "                    pass\n",
    "\n",
    "    return relevant_credentials, revealed"
   ]
  },
  {
   "cell_type": "code",
   "execution_count": null,
   "id": "182eba38",
   "metadata": {},
   "outputs": [],
   "source": [
    "# Get requirements of proof request\n",
    "proof_attribute_requirements = get_proof_request_requirements(presentation_record)\n",
    "\n",
    "# Verify all credentials of M1 and verify if they satisfy the requirements defined in proof_attribute_requirements\n",
    "credentials = await agent_controller.credentials.get_all()\n",
    "suitable_credentials, revealed = get_suitable_credentials(credentials, proof_attribute_requirements)\n",
    "#pprint(credentials)\n",
    "pprint(revealed)"
   ]
  },
  {
   "cell_type": "code",
   "execution_count": null,
   "id": "d9768c8f",
   "metadata": {},
   "outputs": [],
   "source": [
    "# select credentials to provide for the proof\n",
    "#credentials = await agent_controller.proofs.get_presentation_credentials(presentation_exchange_id)\n",
    "#print(\"Credentials stored that could be used to satisfy the request. In some situations you applications may have a choice which credential to reveal\\n\")\n",
    "\n",
    "#attribute_by_reft = {}\n",
    "#revealed = {}\n",
    "#self_attested = {}\n",
    "#predicates = {}"
   ]
  },
  {
   "cell_type": "code",
   "execution_count": null,
   "id": "e86f6a79",
   "metadata": {},
   "outputs": [],
   "source": [
    "predicates = {}\n",
    "self_attested = {}\n"
   ]
  },
  {
   "cell_type": "code",
   "execution_count": null,
   "id": "57b07877",
   "metadata": {},
   "outputs": [],
   "source": [
    "# Note we are working on a friendlier api to abstract this away\n",
    "\n",
    "print(\"\\nGenerate the proof\")\n",
    "presentation = {\n",
    "    \"requested_predicates\": predicates,\n",
    "    \"requested_attributes\": revealed,\n",
    "    \"self_attested_attributes\": self_attested,\n",
    "}\n",
    "print(presentation)"
   ]
  },
  {
   "cell_type": "markdown",
   "id": "19b00f19",
   "metadata": {},
   "source": [
    "## Send Presentation\n",
    "\n",
    "A presentation is sent in represent to a presentation record that has previously been created."
   ]
  },
  {
   "cell_type": "code",
   "execution_count": null,
   "id": "c292d70d",
   "metadata": {},
   "outputs": [],
   "source": [
    "presentation_response = await agent_controller.proofs.send_presentation(presentation_exchange_id, presentation)"
   ]
  },
  {
   "cell_type": "markdown",
   "id": "421d85e9",
   "metadata": {},
   "source": [
    "## Your Own Business Logic\n",
    "\n",
    "Now you should have an established, active connection you can write any custom logic you want to engage with protocols with the connection"
   ]
  },
  {
   "cell_type": "code",
   "execution_count": 6,
   "id": "bb38b26d",
   "metadata": {},
   "outputs": [
    {
     "name": "stdout",
     "output_type": "stream",
     "text": [
      "__init___: register primitive generatorRequests: 0   Messages: 7  Request Handlers: 0                                \n",
      "__init___: register generator\n",
      "__init___: register primitive store add\n",
      "__init___: register add\n",
      "__init___: register primitive store get\n",
      "__init___: register get\n",
      "__init___: register primitive generator\n",
      "__init___: register generator\n",
      "__init___: register primitive store add\n",
      "__init___: register add\n",
      "__init___: register primitive store get\n",
      "__init___: register get\n",
      "__init___: register primitive generator\n",
      "__init___: register generator\n",
      "__init___: register primitive store add\n",
      "__init___: register add\n",
      "__init___: register primitive store get\n",
      "__init___: register get\n",
      "__init___: register primitive generator\n",
      "__init___: register generator\n",
      "__init___: register primitive store add\n",
      "__init___: register add\n",
      "__init___: register primitive store get\n",
      "__init___: register get\n",
      "__init___: register primitive generator\n",
      "__init___: register generator\n",
      "__init___: register primitive generator\n",
      "__init___: register generator\n",
      "__init___: register primitive generator\n",
      "__init___: register generator\n",
      "__init___: register primitive store add\n",
      "__init___: register add\n",
      "__init___: register primitive store add\n",
      "__init___: register add\n",
      "__init___: register primitive store get\n",
      "__init___: register get\n",
      "__init___: register primitive store get\n",
      "__init___: register get\n",
      "♫♫♫ > DUET LIVE STATUS  -  Objects: 0  Requests: 0   Messages: 7  Request Handlers: 0                                \r"
     ]
    }
   ],
   "source": [
    "# Imports\n",
    "import torch as th\n",
    "import syft as sy\n",
    "\n",
    "from sympc.session import Session\n",
    "from sympc.session import SessionManager\n",
    "from sympc.tensor import MPCTensor"
   ]
  },
  {
   "cell_type": "code",
   "execution_count": 2,
   "id": "cc1b3b5c",
   "metadata": {},
   "outputs": [],
   "source": [
    "# Copy and paste client_id and ping the city!"
   ]
  },
  {
   "cell_type": "code",
   "execution_count": 7,
   "id": "28ca56d5",
   "metadata": {},
   "outputs": [
    {
     "name": "stdout",
     "output_type": "stream",
     "text": [
      "\n",
      "♫♫♫ >\u001b[93m DISCLAIMER\u001b[0m: \u001b[1mDuet is an experimental feature currently in beta.\n",
      "♫♫♫ > Use at your own risk.\n",
      "\u001b[0m\n",
      "\u001b[1m\n",
      "    > ❤️ \u001b[91mLove\u001b[0m \u001b[92mDuet\u001b[0m? \u001b[93mPlease\u001b[0m \u001b[94mconsider\u001b[0m \u001b[95msupporting\u001b[0m \u001b[91mour\u001b[0m \u001b[93mcommunity!\u001b[0m\n",
      "    > https://github.com/sponsors/OpenMined\u001b[1m\n",
      "\n",
      "♫♫♫ > Punching through firewall to OpenGrid Network Node at:\n",
      "♫♫♫ > http://ec2-18-218-7-180.us-east-2.compute.amazonaws.com:5000\n",
      "♫♫♫ >\n",
      "♫♫♫ > ...waiting for response from OpenGrid Network... \n",
      "♫♫♫ > \u001b[92mDONE!\u001b[0m\n",
      "♫♫♫ > Duet Server ID: \u001b[1m86a6992e42ce977bbe6e9bf698d25a72\u001b[0m\n",
      "\n",
      "♫♫♫ > \u001b[95mSTEP 1:\u001b[0m Send the following code to your Duet Partner!\n",
      "\n",
      "import syft as sy\n",
      "duet = sy.duet(\"\u001b[1m86a6992e42ce977bbe6e9bf698d25a72\u001b[0m\")\n",
      "\n",
      "♫♫♫ > \u001b[95mSTEP 2:\u001b[0m Ask your partner for their Client ID and enter it below!\n"
     ]
    },
    {
     "name": "stdin",
     "output_type": "stream",
     "text": [
      "♫♫♫ > Duet Partner's Client ID:  4a55d85bf23402d200453e73320cf022\n"
     ]
    },
    {
     "name": "stdout",
     "output_type": "stream",
     "text": [
      "\n",
      "♫♫♫ > Connecting...\n",
      "\n",
      "♫♫♫ > DUET LIVE STATUS  *  Objects: 0  Requests: 0   Messages: 2  Request Handlers: 0                                CryptoStore: Initialize store\n",
      "♫♫♫ > DUET LIVE STATUS  *  Objects: 3  Requests: 0   Messages: 20  Request Handlers: 0                                \r"
     ]
    }
   ],
   "source": [
    "# Step 3: Create duet server\n",
    "duet_m1 = sy.duet()"
   ]
  },
  {
   "cell_type": "markdown",
   "id": "cff37e87",
   "metadata": {
    "pycharm": {
     "name": "#%% md\n"
    }
   },
   "source": [
    "## 2 - Secure Multi-Party Computation"
   ]
  },
  {
   "cell_type": "code",
   "execution_count": null,
   "id": "bf582c55",
   "metadata": {},
   "outputs": [],
   "source": [
    "from IPython.core.debugger import set_trace"
   ]
  },
  {
   "cell_type": "code",
   "execution_count": 8,
   "id": "05917159",
   "metadata": {},
   "outputs": [
    {
     "data": {
      "text/html": [
       "<div>\n",
       "<style scoped>\n",
       "    .dataframe tbody tr th:only-of-type {\n",
       "        vertical-align: middle;\n",
       "    }\n",
       "\n",
       "    .dataframe tbody tr th {\n",
       "        vertical-align: top;\n",
       "    }\n",
       "\n",
       "    .dataframe thead th {\n",
       "        text-align: right;\n",
       "    }\n",
       "</style>\n",
       "<table border=\"1\" class=\"dataframe\">\n",
       "  <thead>\n",
       "    <tr style=\"text-align: right;\">\n",
       "      <th></th>\n",
       "    </tr>\n",
       "  </thead>\n",
       "  <tbody>\n",
       "  </tbody>\n",
       "</table>\n",
       "</div>"
      ],
      "text/plain": [
       "Empty DataFrame\n",
       "Columns: []\n",
       "Index: []"
      ]
     },
     "execution_count": 8,
     "metadata": {},
     "output_type": "execute_result"
    },
    {
     "name": "stdout",
     "output_type": "stream",
     "text": [
      "♫♫♫ > DUET LIVE STATUS  -  Objects: 0  Requests: 0   Messages: 1  Request Handlers: 0                                \r"
     ]
    }
   ],
   "source": [
    "# Step 8: test there is no data in the server atm\n",
    "duet_m1.store.pandas"
   ]
  },
  {
   "cell_type": "code",
   "execution_count": 9,
   "id": "78ef1dea",
   "metadata": {},
   "outputs": [],
   "source": [
    "age_data = th.tensor([50,23,72,83])\n",
    "age_data = age_data.tag(\"test_data_age\")\n",
    "age_data = age_data.describe(\"description for age_data\")\n",
    "age_data_pointer = age_data.send(duet_m1, pointable=True)"
   ]
  },
  {
   "cell_type": "code",
   "execution_count": 10,
   "id": "fac7c273",
   "metadata": {},
   "outputs": [
    {
     "data": {
      "text/plain": [
       "[<syft.proxy.sympc.session.SessionPointer object at 0x7f410d915250>, <syft.proxy.torch.TensorPointer object at 0x7f410d915430>]"
      ]
     },
     "execution_count": 10,
     "metadata": {},
     "output_type": "execute_result"
    },
    {
     "name": "stdout",
     "output_type": "stream",
     "text": [
      "♫♫♫ > DUET LIVE STATUS  -  Objects: 2  Requests: 0   Messages: 12  Request Handlers: 0                                \r"
     ]
    }
   ],
   "source": [
    "duet_m1.store"
   ]
  },
  {
   "cell_type": "code",
   "execution_count": 11,
   "id": "170e2f7a",
   "metadata": {},
   "outputs": [
    {
     "data": {
      "text/html": [
       "<div>\n",
       "<style scoped>\n",
       "    .dataframe tbody tr th:only-of-type {\n",
       "        vertical-align: middle;\n",
       "    }\n",
       "\n",
       "    .dataframe tbody tr th {\n",
       "        vertical-align: top;\n",
       "    }\n",
       "\n",
       "    .dataframe thead th {\n",
       "        text-align: right;\n",
       "    }\n",
       "</style>\n",
       "<table border=\"1\" class=\"dataframe\">\n",
       "  <thead>\n",
       "    <tr style=\"text-align: right;\">\n",
       "      <th></th>\n",
       "      <th>ID</th>\n",
       "      <th>Tags</th>\n",
       "      <th>Description</th>\n",
       "      <th>object_type</th>\n",
       "    </tr>\n",
       "  </thead>\n",
       "  <tbody>\n",
       "    <tr>\n",
       "      <th>0</th>\n",
       "      <td>&lt;UID: df707aa82e434c1b8a3b6b203f0afa8c&gt;</td>\n",
       "      <td>[]</td>\n",
       "      <td></td>\n",
       "      <td>&lt;class 'sympc.session.session.Session'&gt;</td>\n",
       "    </tr>\n",
       "    <tr>\n",
       "      <th>1</th>\n",
       "      <td>&lt;UID: 850a970ea3cd408196d64225862d6103&gt;</td>\n",
       "      <td>[test_data_age]</td>\n",
       "      <td>description for age_data</td>\n",
       "      <td>&lt;class 'torch.Tensor'&gt;</td>\n",
       "    </tr>\n",
       "  </tbody>\n",
       "</table>\n",
       "</div>"
      ],
      "text/plain": [
       "                                        ID             Tags  \\\n",
       "0  <UID: df707aa82e434c1b8a3b6b203f0afa8c>               []   \n",
       "1  <UID: 850a970ea3cd408196d64225862d6103>  [test_data_age]   \n",
       "\n",
       "                Description                              object_type  \n",
       "0                            <class 'sympc.session.session.Session'>  \n",
       "1  description for age_data                   <class 'torch.Tensor'>  "
      ]
     },
     "execution_count": 11,
     "metadata": {},
     "output_type": "execute_result"
    }
   ],
   "source": [
    "duet_m1.store.pandas"
   ]
  },
  {
   "cell_type": "code",
   "execution_count": null,
   "id": "5320d436",
   "metadata": {},
   "outputs": [],
   "source": [
    "duet_m1.id"
   ]
  },
  {
   "cell_type": "code",
   "execution_count": null,
   "id": "713caefe",
   "metadata": {},
   "outputs": [],
   "source": [
    "duet_m1.name"
   ]
  },
  {
   "cell_type": "code",
   "execution_count": null,
   "id": "2646ebb6",
   "metadata": {},
   "outputs": [],
   "source": [
    "duet_m1.target_id"
   ]
  },
  {
   "cell_type": "code",
   "execution_count": null,
   "id": "9b997aa4",
   "metadata": {},
   "outputs": [],
   "source": [
    "duet_m1.network_id"
   ]
  },
  {
   "cell_type": "code",
   "execution_count": null,
   "id": "9a124683",
   "metadata": {},
   "outputs": [],
   "source": [
    "#duet_city.store.pandas"
   ]
  },
  {
   "cell_type": "code",
   "execution_count": null,
   "id": "b1b9856c",
   "metadata": {},
   "outputs": [],
   "source": [
    "# Step 9: Publish secret data\n",
    "\n",
    "x = torch.tensor([50,60,77]) # define torch\n",
    "x.send(duet_m1, pointable=True, tags=[\"TEST_#1_from_m1_to_ds\"], description=\"Dummy data\") # send torch to duet_m1\n",
    "\n",
    "x = torch.tensor([[1,2], [3,4]])\n",
    "x.send(duet_m1, pointable=True, tags=[\"TEST_#2_from_m1_to_ds\"], description=\"Test to multiply matrices\")"
   ]
  },
  {
   "cell_type": "code",
   "execution_count": null,
   "id": "ea2e916e",
   "metadata": {
    "collapsed": false,
    "jupyter": {
     "outputs_hidden": false
    },
    "pycharm": {
     "name": "#%%\n"
    }
   },
   "outputs": [],
   "source": [
    "# Step 10: verify that data was uploaded to the store\n",
    "duet_m1.store.pandas"
   ]
  },
  {
   "cell_type": "code",
   "execution_count": null,
   "id": "696ea26c",
   "metadata": {
    "collapsed": false,
    "jupyter": {
     "outputs_hidden": false
    },
    "pycharm": {
     "name": "#%%\n"
    }
   },
   "outputs": [],
   "source": [
    "# Step 11: Authorize the requests ds can make\n",
    "duet_m1.requests.add_handler(action=\"accept\")"
   ]
  },
  {
   "cell_type": "code",
   "execution_count": null,
   "id": "70fbedc0",
   "metadata": {
    "collapsed": false,
    "jupyter": {
     "outputs_hidden": false
    },
    "pycharm": {
     "name": "#%%\n"
    }
   },
   "outputs": [],
   "source": [
    "# Step 11: Authorize the requests ds can make\n",
    "duet_city.requests.add_handler(action=\"accept\")"
   ]
  },
  {
   "cell_type": "code",
   "execution_count": null,
   "id": "3a595370",
   "metadata": {},
   "outputs": [],
   "source": []
  },
  {
   "cell_type": "code",
   "execution_count": null,
   "id": "0f0ce2d6",
   "metadata": {},
   "outputs": [],
   "source": []
  },
  {
   "cell_type": "markdown",
   "id": "832c8dae",
   "metadata": {},
   "source": [
    "## Terminate Controller\n",
    "\n",
    "Whenever you have finished with this notebook, be sure to terminate the controller. This is especially important if your business logic runs across multiple notebooks."
   ]
  },
  {
   "cell_type": "code",
   "execution_count": null,
   "id": "8f00c8f1",
   "metadata": {},
   "outputs": [],
   "source": [
    "await agent_controller.terminate()"
   ]
  },
  {
   "cell_type": "code",
   "execution_count": null,
   "id": "89aa7cf8",
   "metadata": {},
   "outputs": [],
   "source": []
  }
 ],
 "metadata": {
  "kernelspec": {
   "display_name": "Python 3 (ipykernel)",
   "language": "python",
   "name": "python3"
  },
  "language_info": {
   "codemirror_mode": {
    "name": "ipython",
    "version": 3
   },
   "file_extension": ".py",
   "mimetype": "text/x-python",
   "name": "python",
   "nbconvert_exporter": "python",
   "pygments_lexer": "ipython3",
   "version": "3.9.5"
  }
 },
 "nbformat": 4,
 "nbformat_minor": 5
}
