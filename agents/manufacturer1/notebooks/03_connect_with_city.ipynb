{
 "cells": [
  {
   "cell_type": "markdown",
   "id": "a1a84ac4",
   "metadata": {},
   "source": [
    "# PART 3: Connect with `City` Agent for remote SMC"
   ]
  },
  {
   "cell_type": "code",
   "execution_count": null,
   "id": "7046f95a",
   "metadata": {},
   "outputs": [],
   "source": [
    "%%javascript\n",
    "document.title=\"Manufacturer1 Agent\""
   ]
  },
  {
   "cell_type": "markdown",
   "id": "100937e7",
   "metadata": {},
   "source": [
    "### Imports"
   ]
  },
  {
   "cell_type": "code",
   "execution_count": null,
   "id": "f90067ee",
   "metadata": {},
   "outputs": [],
   "source": [
    "from aries_cloudcontroller import AriesAgentController\n",
    "import os\n",
    "#from termcolor import colored\n",
    "#from pprintpp import pprint\n",
    "import libs.functions as fnc"
   ]
  },
  {
   "cell_type": "markdown",
   "id": "6d0db2f5",
   "metadata": {},
   "source": [
    "### Initialise the Agent Controller"
   ]
  },
  {
   "cell_type": "code",
   "execution_count": null,
   "id": "a8dfe560",
   "metadata": {},
   "outputs": [],
   "source": [
    "api_key = os.getenv(\"ACAPY_ADMIN_API_KEY\")\n",
    "admin_url = os.getenv(\"ADMIN_URL\")\n",
    "webhook_port = int(os.getenv(\"WEBHOOK_PORT\"))\n",
    "webhook_host = \"0.0.0.0\""
   ]
  },
  {
   "cell_type": "markdown",
   "id": "71ad20ca",
   "metadata": {},
   "source": [
    "### Start a Webhook Server"
   ]
  },
  {
   "cell_type": "code",
   "execution_count": null,
   "id": "51005cce",
   "metadata": {},
   "outputs": [],
   "source": [
    "agent_controller = AriesAgentController(admin_url,api_key)\n",
    "print(f\"Initialising an ACA-PY controller with admin api at {admin_url} and an api key of {api_key}\")\n",
    "\n",
    "await agent_controller.init_webhook_server(webhook_host, webhook_port)\n",
    "print(f\"Listening for webhooks from agent at http://{webhook_host}:{webhook_port}\")"
   ]
  },
  {
   "cell_type": "code",
   "execution_count": null,
   "id": "129f3d7b",
   "metadata": {},
   "outputs": [],
   "source": [
    "# Verify if VC \"M1-isManufacturer-VC\" already exists in wallet\n",
    "#vc = \"M1-isManufacturer-VC\"\n",
    "#fnc.is_vc_in_wallet(agent_controller, vc)"
   ]
  },
  {
   "cell_type": "markdown",
   "id": "88b8b709",
   "metadata": {},
   "source": [
    "## Register Agent Event Listeners\n",
    "\n",
    "You can see some examples within the webhook_listeners recipe. Copy any relevant cells across and customise as needed."
   ]
  },
  {
   "cell_type": "code",
   "execution_count": null,
   "id": "791045f1",
   "metadata": {},
   "outputs": [],
   "source": [
    "listeners = []\n",
    "     \n",
    "connection_listener = {\"handler\": fnc.connections_handler, \"topic\": \"connections\"}\n",
    "listeners.append(connection_listener)\n",
    "\n",
    "prover_listener = {\"topic\": \"present_proof\", \"handler\": fnc.prover_proof_handler}\n",
    "listeners.append(prover_listener)\n",
    "\n",
    "agent_controller.register_listeners(listeners)"
   ]
  },
  {
   "cell_type": "markdown",
   "id": "58a696c6",
   "metadata": {},
   "source": [
    "## Accept Invitation\n",
    "\n",
    "Copy an invitation object from another agent playing the role inviter (see the inviter_template recipe)"
   ]
  },
  {
   "cell_type": "code",
   "execution_count": null,
   "id": "2034469e",
   "metadata": {},
   "outputs": [],
   "source": [
    "invitation = input(\"Please enter invitation from external agent: \")"
   ]
  },
  {
   "cell_type": "code",
   "execution_count": null,
   "id": "921f60d8",
   "metadata": {},
   "outputs": [],
   "source": [
    "auto_accept=\"true\"\n",
    "alias=None\n",
    "\n",
    "invite_response = await agent_controller.connections.receive_invitation(invitation, alias, auto_accept)\n",
    "connection_id = invite_response[\"connection_id\"]"
   ]
  },
  {
   "cell_type": "markdown",
   "id": "ee09d51b",
   "metadata": {},
   "source": [
    "## Optional: Send Proposal\n",
    "\n",
    "Propose a presentation to a verifier"
   ]
  },
  {
   "cell_type": "code",
   "execution_count": null,
   "id": "86c8e2b3",
   "metadata": {},
   "outputs": [],
   "source": [
    "# TODO: Example proposal object below\n",
    "\n",
    "# proposal_object = {\n",
    "#   \"auto_present\": true,\n",
    "#   \"comment\": \"string\",\n",
    "#   \"connection_id\": \"3fa85f64-5717-4562-b3fc-2c963f66afa6\",\n",
    "#   \"presentation_proposal\": {\n",
    "#     \"@type\": \"did:sov:BzCbsNYhMrjHiqZDTUASHg;spec/present-proof/1.0/presentation-preview\",\n",
    "#     \"attributes\": [\n",
    "#       {\n",
    "#         \"cred_def_id\": \"WgWxqztrNooG92RXvxSTWv:3:CL:20:tag\",\n",
    "#         \"mime-type\": \"image/jpeg\",\n",
    "#         \"name\": \"favourite_drink\",\n",
    "#         \"referent\": \"0\",\n",
    "#         \"value\": \"martini\"\n",
    "#       }\n",
    "#     ],\n",
    "#     \"predicates\": [\n",
    "#       {\n",
    "#         \"cred_def_id\": \"WgWxqztrNooG92RXvxSTWv:3:CL:20:tag\",\n",
    "#         \"name\": \"high_score\",\n",
    "#         \"predicate\": \">=\",\n",
    "#         \"threshold\": 0\n",
    "#       }\n",
    "#     ]\n",
    "#   },\n",
    "#   \"trace\": false\n",
    "# }\n",
    "\n",
    "# proposal_response = await agent_controller.proofs.send_proposal(proposal_object)"
   ]
  },
  {
   "cell_type": "markdown",
   "id": "d8b3eaaf",
   "metadata": {},
   "source": [
    "## Fetch Presentation Records\n",
    "\n",
    "Before you can present a presentation, you must identify the presentation record which you wish to respond to with a presentation. This could also be done through the present_proof listeners which have access to a presentation record in the payload."
   ]
  },
  {
   "cell_type": "code",
   "execution_count": null,
   "id": "f9652a4e",
   "metadata": {},
   "outputs": [],
   "source": [
    "# Step 2\n",
    "\n",
    "# Optional Query parameters\n",
    "verifier_connection_id = connection_id\n",
    "thread_id = None\n",
    "state = \"request_received\"\n",
    "role = \"prover\"\n",
    "\n",
    "proof_records_response = await agent_controller.proofs.get_records(verifier_connection_id, thread_id, state, role)\n",
    "pprint(proof_records_response)"
   ]
  },
  {
   "cell_type": "code",
   "execution_count": null,
   "id": "14cf78b2",
   "metadata": {},
   "outputs": [],
   "source": [
    "# Fetch records from response that were sent via connection_id\n",
    "presentation_records = [r for r in proof_records_response[\"results\"] if (r[\"connection_id\"] == connection_id) is True] \n",
    "\n",
    "# Process only the first record:\n",
    "presentation_record = presentation_records[0]\n",
    "presentation_exchange_id = presentation_record[\"presentation_exchange_id\"]"
   ]
  },
  {
   "cell_type": "markdown",
   "id": "a8a92a9d",
   "metadata": {},
   "source": [
    "## Search For Available Credentials to Construct Presentation From\n",
    "\n",
    "The presentation record can be used to query your agents wallet and return all credentials that could be used to construct valid presentation"
   ]
  },
  {
   "cell_type": "code",
   "execution_count": null,
   "id": "caef6be6",
   "metadata": {},
   "outputs": [],
   "source": [
    "def get_proof_request_requirements(presentation_record):\n",
    "    \"\"\"\n",
    "    Returns dictionary with {<required-attribute>: <restrictions-of-attribute>} from presentation record\n",
    "    \"\"\"\n",
    "    # Setup\n",
    "    restrictions = {}\n",
    "    presentation_request = presentation_record[\"presentation_request\"]\n",
    "    \n",
    "    # Get required attributes and requirements for the individual attributes\n",
    "    for attr_key, attr_val in presentation_request[\"requested_attributes\"].items():\n",
    "        restrictions[attr_val[\"name\"]] = {}\n",
    "        restrictions[attr_val[\"name\"]][\"requirements\"] = attr_val[\"restrictions\"][0] \n",
    "        restrictions[attr_val[\"name\"]][\"request_attr_name\"] = attr_key\n",
    "        \n",
    "    return restrictions\n",
    "\n",
    "\n",
    "def get_suitable_credentials(credentials_all, requirements):\n",
    "    \"\"\"\n",
    "    Finds credentials in credentials_all that satisfy the requirements provided by the relying party.\n",
    "    Returns dictionary with: {<attribute-name>: <suitable-credential>}, where the suitable-credential satisfies all requirements \n",
    "    \"\"\"\n",
    "    # Setup\n",
    "    relevant_credentials = {}\n",
    "    revealed = {}\n",
    "    credentials = credentials_all[\"results\"]\n",
    "    \n",
    "    # Iterate through attribute name and attribute requirements of relying party\n",
    "    for name, conditions in requirements.items():\n",
    "        \n",
    "        req = conditions[\"requirements\"]\n",
    "        req_name = conditions[\"request_attr_name\"]\n",
    "        \n",
    "        # Break if the required attribute name is not in any credential, or if all requirements (e.g., schema_id) are not within one credential\n",
    "        if (any(name in cred[\"attrs\"] for cred in credentials) is False) or (any(r in cred.keys() for r in req for cred in credentials) is False):\n",
    "            continue\n",
    "\n",
    "        # Iterate through credentials\n",
    "        for cred in credentials:\n",
    "\n",
    "            # Verify if requirement value (r_val) and credential value (cred[r_key]) match for required attribute (r_key)\n",
    "            for r_key, r_val in req.items():\n",
    "                try:\n",
    "                    # Append cred to relevant_credentials if all requirements match\n",
    "                    if (cred[r_key] == r_val) is True:\n",
    "                        relevant_credentials[name] = cred\n",
    "                        print(f\"Attribute request for '{name}' can be satisfied by Credential with Referent -- {cred['referent']}\")\n",
    "                        revealed[req_name] = {\"cred_id\": cred[\"referent\"], \"revealed\": True}\n",
    "                except:\n",
    "                    pass\n",
    "\n",
    "    return relevant_credentials, revealed"
   ]
  },
  {
   "cell_type": "code",
   "execution_count": null,
   "id": "10cb2b41",
   "metadata": {},
   "outputs": [],
   "source": [
    "# Get requirements of proof request\n",
    "proof_attribute_requirements = get_proof_request_requirements(presentation_record)\n",
    "\n",
    "# Verify all credentials of M1 and verify if they satisfy the requirements defined in proof_attribute_requirements\n",
    "credentials = await agent_controller.credentials.get_all()\n",
    "suitable_credentials, revealed = get_suitable_credentials(credentials, proof_attribute_requirements)\n",
    "#pprint(credentials)\n",
    "pprint(revealed)"
   ]
  },
  {
   "cell_type": "code",
   "execution_count": null,
   "id": "46b57aaa",
   "metadata": {},
   "outputs": [],
   "source": [
    "# select credentials to provide for the proof\n",
    "#credentials = await agent_controller.proofs.get_presentation_credentials(presentation_exchange_id)\n",
    "#print(\"Credentials stored that could be used to satisfy the request. In some situations you applications may have a choice which credential to reveal\\n\")\n",
    "\n",
    "#attribute_by_reft = {}\n",
    "#revealed = {}\n",
    "#self_attested = {}\n",
    "#predicates = {}"
   ]
  },
  {
   "cell_type": "code",
   "execution_count": null,
   "id": "d9d627ad",
   "metadata": {},
   "outputs": [],
   "source": [
    "predicates = {}\n",
    "self_attested = {}\n"
   ]
  },
  {
   "cell_type": "code",
   "execution_count": null,
   "id": "78856cbf",
   "metadata": {},
   "outputs": [],
   "source": [
    "# Note we are working on a friendlier api to abstract this away\n",
    "\n",
    "print(\"\\nGenerate the proof\")\n",
    "presentation = {\n",
    "    \"requested_predicates\": predicates,\n",
    "    \"requested_attributes\": revealed,\n",
    "    \"self_attested_attributes\": self_attested,\n",
    "}\n",
    "print(presentation)"
   ]
  },
  {
   "cell_type": "markdown",
   "id": "48fd5b41",
   "metadata": {},
   "source": [
    "## Send Presentation\n",
    "\n",
    "A presentation is sent in represent to a presentation record that has previously been created."
   ]
  },
  {
   "cell_type": "code",
   "execution_count": null,
   "id": "0d2a7b7d",
   "metadata": {},
   "outputs": [],
   "source": [
    "presentation_response = await agent_controller.proofs.send_presentation(presentation_exchange_id, presentation)"
   ]
  },
  {
   "cell_type": "markdown",
   "id": "9328975b",
   "metadata": {},
   "source": [
    "## Your Own Business Logic\n",
    "\n",
    "Now you should have an established, active connection you can write any custom logic you want to engage with protocols with the connection"
   ]
  },
  {
   "cell_type": "code",
   "execution_count": null,
   "id": "e0eb45ad",
   "metadata": {},
   "outputs": [],
   "source": [
    "# Imports\n",
    "import torch as th\n",
    "import syft as sy\n",
    "\n",
    "from sympc.session import Session\n",
    "from sympc.session import SessionManager\n",
    "from sympc.tensor import MPCTensor"
   ]
  },
  {
   "cell_type": "code",
   "execution_count": null,
   "id": "a09d907f",
   "metadata": {},
   "outputs": [],
   "source": [
    "# Copy and paste client_id and ping the city!"
   ]
  },
  {
   "cell_type": "code",
   "execution_count": null,
   "id": "2b1ee97f",
   "metadata": {},
   "outputs": [],
   "source": [
    "# Step 3: Create duet server\n",
    "duet_m1 = sy.duet()"
   ]
  },
  {
   "cell_type": "markdown",
   "id": "47576d2a",
   "metadata": {
    "pycharm": {
     "name": "#%% md\n"
    }
   },
   "source": [
    "## 2 - Secure Multi-Party Computation"
   ]
  },
  {
   "cell_type": "code",
   "execution_count": null,
   "id": "d619d92b",
   "metadata": {},
   "outputs": [],
   "source": [
    "from IPython.core.debugger import set_trace"
   ]
  },
  {
   "cell_type": "code",
   "execution_count": null,
   "id": "abc59ee2",
   "metadata": {},
   "outputs": [],
   "source": [
    "# Step 8: test there is no data in the server atm\n",
    "duet_m1.store.pandas"
   ]
  },
  {
   "cell_type": "code",
   "execution_count": null,
   "id": "6755b708",
   "metadata": {},
   "outputs": [],
   "source": [
    "age_data = th.tensor([50,23,72,83])\n",
    "age_data = age_data.tag(\"test_data_age\")\n",
    "age_data = age_data.describe(\"description for age_data\")\n",
    "age_data_pointer = age_data.send(duet_m1, pointable=True)"
   ]
  },
  {
   "cell_type": "code",
   "execution_count": null,
   "id": "3dbf156e",
   "metadata": {},
   "outputs": [],
   "source": [
    "duet_m1.store"
   ]
  },
  {
   "cell_type": "code",
   "execution_count": null,
   "id": "bb0dd9a6",
   "metadata": {},
   "outputs": [],
   "source": [
    "duet_m1.store.pandas"
   ]
  },
  {
   "cell_type": "code",
   "execution_count": null,
   "id": "b4986a92",
   "metadata": {},
   "outputs": [],
   "source": [
    "duet_m1.id"
   ]
  },
  {
   "cell_type": "code",
   "execution_count": null,
   "id": "c7ee34b5",
   "metadata": {},
   "outputs": [],
   "source": [
    "duet_m1.name"
   ]
  },
  {
   "cell_type": "code",
   "execution_count": null,
   "id": "011fd265",
   "metadata": {},
   "outputs": [],
   "source": [
    "duet_m1.target_id"
   ]
  },
  {
   "cell_type": "code",
   "execution_count": null,
   "id": "b46c9663",
   "metadata": {},
   "outputs": [],
   "source": [
    "duet_m1.network_id"
   ]
  },
  {
   "cell_type": "code",
   "execution_count": null,
   "id": "d1a23e42",
   "metadata": {},
   "outputs": [],
   "source": [
    "#duet_city.store.pandas"
   ]
  },
  {
   "cell_type": "code",
   "execution_count": null,
   "id": "c7b414f5",
   "metadata": {},
   "outputs": [],
   "source": [
    "# Step 9: Publish secret data\n",
    "\n",
    "x = torch.tensor([50,60,77]) # define torch\n",
    "x.send(duet_m1, pointable=True, tags=[\"TEST_#1_from_m1_to_ds\"], description=\"Dummy data\") # send torch to duet_m1\n",
    "\n",
    "x = torch.tensor([[1,2], [3,4]])\n",
    "x.send(duet_m1, pointable=True, tags=[\"TEST_#2_from_m1_to_ds\"], description=\"Test to multiply matrices\")"
   ]
  },
  {
   "cell_type": "code",
   "execution_count": null,
   "id": "cbe8e3c2",
   "metadata": {
    "collapsed": false,
    "jupyter": {
     "outputs_hidden": false
    },
    "pycharm": {
     "name": "#%%\n"
    }
   },
   "outputs": [],
   "source": [
    "# Step 10: verify that data was uploaded to the store\n",
    "duet_m1.store.pandas"
   ]
  },
  {
   "cell_type": "code",
   "execution_count": null,
   "id": "9824499a",
   "metadata": {
    "collapsed": false,
    "jupyter": {
     "outputs_hidden": false
    },
    "pycharm": {
     "name": "#%%\n"
    }
   },
   "outputs": [],
   "source": [
    "# Step 11: Authorize the requests ds can make\n",
    "duet_m1.requests.add_handler(action=\"accept\")"
   ]
  },
  {
   "cell_type": "code",
   "execution_count": null,
   "id": "0fd9e636",
   "metadata": {
    "collapsed": false,
    "jupyter": {
     "outputs_hidden": false
    },
    "pycharm": {
     "name": "#%%\n"
    }
   },
   "outputs": [],
   "source": [
    "# Step 11: Authorize the requests ds can make\n",
    "duet_city.requests.add_handler(action=\"accept\")"
   ]
  },
  {
   "cell_type": "code",
   "execution_count": null,
   "id": "9ed542ce",
   "metadata": {},
   "outputs": [],
   "source": []
  },
  {
   "cell_type": "code",
   "execution_count": null,
   "id": "acc5bdd9",
   "metadata": {},
   "outputs": [],
   "source": []
  },
  {
   "cell_type": "markdown",
   "id": "339c9f5b",
   "metadata": {},
   "source": [
    "## Terminate Controller\n",
    "\n",
    "Whenever you have finished with this notebook, be sure to terminate the controller. This is especially important if your business logic runs across multiple notebooks."
   ]
  },
  {
   "cell_type": "code",
   "execution_count": null,
   "id": "13f402c8",
   "metadata": {},
   "outputs": [],
   "source": [
    "await agent_controller.terminate()"
   ]
  },
  {
   "cell_type": "code",
   "execution_count": null,
   "id": "d268093f",
   "metadata": {},
   "outputs": [],
   "source": []
  }
 ],
 "metadata": {
  "kernelspec": {
   "display_name": "Python 3 (ipykernel)",
   "language": "python",
   "name": "python3"
  },
  "language_info": {
   "codemirror_mode": {
    "name": "ipython",
    "version": 3
   },
   "file_extension": ".py",
   "mimetype": "text/x-python",
   "name": "python",
   "nbconvert_exporter": "python",
   "pygments_lexer": "ipython3",
   "version": "3.9.5"
  }
 },
 "nbformat": 4,
 "nbformat_minor": 5
}
