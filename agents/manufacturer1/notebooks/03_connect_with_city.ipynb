{
 "cells": [
  {
   "cell_type": "markdown",
   "id": "1d862152",
   "metadata": {},
   "source": [
    "# PART 3: Connect with `City` Agent for remote SMC"
   ]
  },
  {
   "cell_type": "code",
   "execution_count": 3,
   "id": "003c8169",
   "metadata": {},
   "outputs": [
    {
     "data": {
      "application/javascript": [
       "document.title=\"Manufacturer1 Agent\"\n"
      ],
      "text/plain": [
       "<IPython.core.display.Javascript object>"
      ]
     },
     "metadata": {},
     "output_type": "display_data"
    }
   ],
   "source": [
    "%%javascript\n",
    "document.title=\"Manufacturer1 Agent\""
   ]
  },
  {
   "cell_type": "markdown",
   "id": "0bd14310",
   "metadata": {},
   "source": [
    "### Imports"
   ]
  },
  {
   "cell_type": "code",
   "execution_count": 4,
   "id": "33ffb005",
   "metadata": {},
   "outputs": [],
   "source": [
    "from aries_cloudcontroller import AriesAgentController\n",
    "import os\n",
    "from termcolor import colored\n",
    "from pprintpp import pprint"
   ]
  },
  {
   "cell_type": "markdown",
   "id": "36dd6998",
   "metadata": {},
   "source": [
    "### Initialise the Agent Controller"
   ]
  },
  {
   "cell_type": "code",
   "execution_count": 5,
   "id": "3e439d0b",
   "metadata": {},
   "outputs": [
    {
     "name": "stdout",
     "output_type": "stream",
     "text": [
      "Initialising a controller with admin api at http://manufacturer1-agent:3021 and an api key of adminApiKey\n"
     ]
    }
   ],
   "source": [
    "api_key = os.getenv(\"ACAPY_ADMIN_API_KEY\")\n",
    "admin_url = os.getenv(\"ADMIN_URL\")\n",
    "\n",
    "print(f\"Initialising a controller with admin api at {admin_url} and an api key of {api_key}\")\n",
    "agent_controller = AriesAgentController(admin_url,api_key)"
   ]
  },
  {
   "cell_type": "code",
   "execution_count": 6,
   "id": "d76a5583",
   "metadata": {},
   "outputs": [
    {
     "name": "stdout",
     "output_type": "stream",
     "text": [
      "Credential M1-isManufacturer-VC already in wallet. Please proceed.\n"
     ]
    }
   ],
   "source": [
    "# Verify if VC \"M1-isManufacturer-VC\" already exists in wallet\n",
    "vc = \"M1-isManufacturer-VC\"\n",
    "credentials = await agent_controller.credentials.get_all()\n",
    "if any(result[\"referent\"] == vc for result in credentials[\"results\"]):\n",
    "    print(\"Credential {vc} already in wallet. Please proceed.\".format(vc=vc))\n",
    "else:\n",
    "    print(\"Execute notebooks 01 to issue a VC to M1!\")"
   ]
  },
  {
   "cell_type": "markdown",
   "id": "1a59a0f4",
   "metadata": {},
   "source": [
    "### Start a Webhook Server"
   ]
  },
  {
   "cell_type": "code",
   "execution_count": 7,
   "id": "7f936291",
   "metadata": {},
   "outputs": [
    {
     "name": "stdout",
     "output_type": "stream",
     "text": [
      "Listening for webhooks from agent at http://0.0.0.0:3010\n"
     ]
    }
   ],
   "source": [
    "webhook_port = int(os.getenv(\"WEBHOOK_PORT\"))\n",
    "webhook_host = \"0.0.0.0\"\n",
    "\n",
    "await agent_controller.init_webhook_server(webhook_host, webhook_port)\n",
    "\n",
    "print(f\"Listening for webhooks from agent at http://{webhook_host}:{webhook_port}\")"
   ]
  },
  {
   "cell_type": "markdown",
   "id": "44f04487",
   "metadata": {},
   "source": [
    "## Register Agent Event Listeners\n",
    "\n",
    "You can see some examples within the webhook_listeners recipe. Copy any relevant cells across and customise as needed."
   ]
  },
  {
   "cell_type": "code",
   "execution_count": 6,
   "id": "a66bba72",
   "metadata": {},
   "outputs": [],
   "source": [
    "listeners = []\n",
    "\n",
    "# Receive connection messages\n",
    "def connections_handler(payload):\n",
    "    state = payload['state']\n",
    "    connection_id = payload[\"connection_id\"]\n",
    "    their_role = payload[\"their_role\"]\n",
    "    routing_state = payload[\"routing_state\"]\n",
    "    rfc_state = payload[\"rfc23_state\"]\n",
    "    \n",
    "    print(\"----------------------------------------------------------\")\n",
    "    print(\"Connection Webhook Event Received\")\n",
    "    print(\"Connection ID : \", connection_id)\n",
    "    print(\"State : \", state)\n",
    "    print(\"Routing State : {routing} ({rfc})\".format(routing=routing_state, rfc=rfc_state))\n",
    "    if 'their_label' in payload: \n",
    "        print(f\"Connection with : \", payload['their_label'])\n",
    "    print(\"Their Role : \", their_role)\n",
    "    print(\"----------------------------------------------------------\")\n",
    "\n",
    "    if state == \"invitation\":\n",
    "        # Your business logic\n",
    "        print(\"invitation\")\n",
    "    elif state == \"request\":\n",
    "        # Your business logic\n",
    "        print(\"request\")\n",
    "\n",
    "    elif state == \"response\":\n",
    "        # Your business logic\n",
    "        print(\"response\")\n",
    "    elif state == \"active\":\n",
    "        # Your business logic\n",
    "        print(colored(\"Connection ID: {0} is now active.\".format(connection_id), \"green\", attrs=[\"bold\"]))\n",
    "\n",
    "\n",
    "def prover_proof_handler(payload):\n",
    "    role = payload[\"role\"]\n",
    "    connection_id = payload[\"connection_id\"]\n",
    "    pres_ex_id = payload[\"presentation_exchange_id\"]\n",
    "    state = payload[\"state\"]\n",
    "    print(\"\\n---------------------------------------------------------------------\\n\")\n",
    "    print(\"Handle present-proof\")\n",
    "    print(\"Connection ID : \", connection_id)\n",
    "    print(\"Presentation Exchange ID : \", pres_ex_id)\n",
    "    print(\"Protocol State : \", state)\n",
    "    print(\"Agent Role : \", role)\n",
    "    print(\"Initiator : \", payload[\"initiator\"])\n",
    "    print(\"\\n---------------------------------------------------------------------\\n\")\n",
    "    \n",
    "    \n",
    "    if state == \"request_received\":\n",
    "        presentation_request = payload[\"presentation_request\"]\n",
    "        print(\"Recieved Presentation Request\\n\")\n",
    "        print(\"\\nRequested Attributes - Note the restrictions. These limit the credentials we could respond with\\n\")\n",
    "        print(presentation_request[\"requested_attributes\"])\n",
    "    elif state == \"presentation_sent\":\n",
    "        print(\"Presentation sent\\n\")\n",
    "        \n",
    "    elif state == \"presentation_acked\":\n",
    "        print(\"Presentation has been acknowledged by the Issuer\")\n",
    "        \n",
    "        \n",
    "connection_listener = {\"handler\": connections_handler, \"topic\": \"connections\"}\n",
    "listeners.append(connection_listener)\n",
    "\n",
    "prover_listener = {\"topic\": \"present_proof\", \"handler\": prover_proof_handler}\n",
    "listeners.append(prover_listener)\n",
    "\n",
    "agent_controller.register_listeners(listeners)"
   ]
  },
  {
   "cell_type": "markdown",
   "id": "df4d1845",
   "metadata": {},
   "source": [
    "## Accept Invitation\n",
    "\n",
    "Copy an invitation object from another agent playing the role inviter (see the inviter_template recipe)"
   ]
  },
  {
   "cell_type": "code",
   "execution_count": 8,
   "id": "e9c6743b",
   "metadata": {},
   "outputs": [],
   "source": [
    "invitation = {\n",
    "    '@id': 'ef311c96-d2c3-495a-8a42-1f88984f2a9c',\n",
    "    '@type': 'did:sov:BzCbsNYhMrjHiqZDTUASHg;spec/connections/1.0/invitation',\n",
    "    'label': 'City',\n",
    "    'recipientKeys': ['DGQxsLtJ3q7jWJP2mzQK5AWhTqr6yE5ddVkc1v5Nsctq'],\n",
    "    'serviceEndpoint': 'https://45c4ba2baaed.ngrok.io',\n",
    "}"
   ]
  },
  {
   "cell_type": "code",
   "execution_count": 9,
   "id": "1bcd1c94",
   "metadata": {},
   "outputs": [
    {
     "name": "stdout",
     "output_type": "stream",
     "text": [
      "----------------------------------------------------------\n",
      "Connection Webhook Event Received\n",
      "Connection ID :  992ea5a9-7382-4c2a-b102-7fb4a51faeaf\n",
      "State :  invitation\n",
      "Routing State : none (invitation-received)\n",
      "Connection with :  City\n",
      "Their Role :  inviter\n",
      "----------------------------------------------------------\n",
      "invitation\n",
      "----------------------------------------------------------\n",
      "Connection Webhook Event Received\n",
      "Connection ID :  992ea5a9-7382-4c2a-b102-7fb4a51faeaf\n",
      "State :  request\n",
      "Routing State : none (request-sent)\n",
      "Connection with :  City\n",
      "Their Role :  inviter\n",
      "----------------------------------------------------------\n",
      "request\n",
      "----------------------------------------------------------\n",
      "Connection Webhook Event Received\n",
      "Connection ID :  992ea5a9-7382-4c2a-b102-7fb4a51faeaf\n",
      "State :  response\n",
      "Routing State : none (response-received)\n",
      "Connection with :  City\n",
      "Their Role :  inviter\n",
      "----------------------------------------------------------\n",
      "response\n",
      "----------------------------------------------------------\n",
      "Connection Webhook Event Received\n",
      "Connection ID :  992ea5a9-7382-4c2a-b102-7fb4a51faeaf\n",
      "State :  active\n",
      "Routing State : none (completed)\n",
      "Connection with :  City\n",
      "Their Role :  inviter\n",
      "----------------------------------------------------------\n",
      "\u001b[1m\u001b[32mConnection ID: 992ea5a9-7382-4c2a-b102-7fb4a51faeaf is now active.\u001b[0m\n",
      "\n",
      "---------------------------------------------------------------------\n",
      "\n",
      "Handle present-proof\n",
      "Connection ID :  992ea5a9-7382-4c2a-b102-7fb4a51faeaf\n",
      "Presentation Exchange ID :  9728d1c8-29ff-437b-8fd7-8f21dffcdd92\n",
      "Protocol State :  request_received\n",
      "Agent Role :  prover\n",
      "Initiator :  external\n",
      "\n",
      "---------------------------------------------------------------------\n",
      "\n",
      "Recieved Presentation Request\n",
      "\n",
      "\n",
      "Requested Attributes - Note the restrictions. These limit the credentials we could respond with\n",
      "\n",
      "{'0_isManufacturer_uuid': {'name': 'isManufacturer', 'restrictions': [{'schema_id': 'MTXSc4YD8wixyM9ekZbmMC:2:certify-manufacturer:0.0.1'}]}}\n"
     ]
    }
   ],
   "source": [
    "auto_accept=\"true\"\n",
    "alias=None\n",
    "\n",
    "invite_response = await agent_controller.connections.receive_invitation(invitation, alias, auto_accept)\n",
    "connection_id = invite_response[\"connection_id\"]"
   ]
  },
  {
   "cell_type": "markdown",
   "id": "ff58a39a",
   "metadata": {},
   "source": [
    "## Optional: Send Proposal\n",
    "\n",
    "Propose a presentation to a verifier"
   ]
  },
  {
   "cell_type": "code",
   "execution_count": null,
   "id": "6292db18",
   "metadata": {},
   "outputs": [],
   "source": [
    "# TODO: Example proposal object below\n",
    "\n",
    "# proposal_object = {\n",
    "#   \"auto_present\": true,\n",
    "#   \"comment\": \"string\",\n",
    "#   \"connection_id\": \"3fa85f64-5717-4562-b3fc-2c963f66afa6\",\n",
    "#   \"presentation_proposal\": {\n",
    "#     \"@type\": \"did:sov:BzCbsNYhMrjHiqZDTUASHg;spec/present-proof/1.0/presentation-preview\",\n",
    "#     \"attributes\": [\n",
    "#       {\n",
    "#         \"cred_def_id\": \"WgWxqztrNooG92RXvxSTWv:3:CL:20:tag\",\n",
    "#         \"mime-type\": \"image/jpeg\",\n",
    "#         \"name\": \"favourite_drink\",\n",
    "#         \"referent\": \"0\",\n",
    "#         \"value\": \"martini\"\n",
    "#       }\n",
    "#     ],\n",
    "#     \"predicates\": [\n",
    "#       {\n",
    "#         \"cred_def_id\": \"WgWxqztrNooG92RXvxSTWv:3:CL:20:tag\",\n",
    "#         \"name\": \"high_score\",\n",
    "#         \"predicate\": \">=\",\n",
    "#         \"threshold\": 0\n",
    "#       }\n",
    "#     ]\n",
    "#   },\n",
    "#   \"trace\": false\n",
    "# }\n",
    "\n",
    "# proposal_response = await agent_controller.proofs.send_proposal(proposal_object)"
   ]
  },
  {
   "cell_type": "markdown",
   "id": "a30903dd",
   "metadata": {},
   "source": [
    "## Fetch Presentation Records\n",
    "\n",
    "Before you can present a presentation, you must identify the presentation record which you wish to respond to with a presentation. This could also be done through the present_proof listeners which have access to a presentation record in the payload."
   ]
  },
  {
   "cell_type": "code",
   "execution_count": 10,
   "id": "0f2dcf1d",
   "metadata": {},
   "outputs": [
    {
     "name": "stdout",
     "output_type": "stream",
     "text": [
      "{\n",
      "    'results': [\n",
      "        {\n",
      "            'connection_id': '992ea5a9-7382-4c2a-b102-7fb4a51faeaf',\n",
      "            'created_at': '2021-08-10 09:01:02.121714Z',\n",
      "            'initiator': 'external',\n",
      "            'presentation_exchange_id': '9728d1c8-29ff-437b-8fd7-8f21dffcdd92',\n",
      "            'presentation_request': {\n",
      "                'name': 'isManufacturer Proof Request',\n",
      "                'non_revoked': {'to': 1628586025},\n",
      "                'nonce': '924037072991337116006702',\n",
      "                'requested_attributes': {\n",
      "                    '0_isManufacturer_uuid': {\n",
      "                        'name': 'isManufacturer',\n",
      "                        'restrictions': [\n",
      "                            {\n",
      "                                'schema_id': 'MTXSc4YD8wixyM9ekZbmMC:2:certify-manufacturer:0.0.1',\n",
      "                            },\n",
      "                        ],\n",
      "                    },\n",
      "                },\n",
      "                'requested_predicates': {},\n",
      "                'version': '1.0',\n",
      "            },\n",
      "            'presentation_request_dict': {\n",
      "                '@id': '04cfd6a5-d920-4e22-a889-667eaafb75ed',\n",
      "                '@type': 'did:sov:BzCbsNYhMrjHiqZDTUASHg;spec/present-proof/1.0/request-presentation',\n",
      "                'comment': 'Please prove that you are an agent who is a certified manufacturer',\n",
      "                'request_presentations~attach': [\n",
      "                    {\n",
      "                        '@id': 'libindy-request-presentation-0',\n",
      "                        'data': {\n",
      "                            'base64': 'eyJuYW1lIjogImlzTWFudWZhY3R1cmVyIFByb29mIFJlcXVlc3QiLCAidmVyc2lvbiI6ICIxLjAiLCAicmVxdWVzdGVkX2F0dHJpYnV0ZXMiOiB7IjBfaXNNYW51ZmFjdHVyZXJfdXVpZCI6IHsibmFtZSI6ICJpc01hbnVmYWN0dXJlciIsICJyZXN0cmljdGlvbnMiOiBbeyJzY2hlbWFfaWQiOiAiTVRYU2M0WUQ4d2l4eU05ZWtaYm1NQzoyOmNlcnRpZnktbWFudWZhY3R1cmVyOjAuMC4xIn1dfX0sICJyZXF1ZXN0ZWRfcHJlZGljYXRlcyI6IHt9LCAibm9uX3Jldm9rZWQiOiB7InRvIjogMTYyODU4NjAyNX0sICJub25jZSI6ICI5MjQwMzcwNzI5OTEzMzcxMTYwMDY3MDIifQ==',\n",
      "                        },\n",
      "                        'mime-type': 'application/json',\n",
      "                    },\n",
      "                ],\n",
      "                '~trace': {\n",
      "                    'full_thread': True,\n",
      "                    'target': 'log',\n",
      "                    'trace_reports': [],\n",
      "                },\n",
      "            },\n",
      "            'role': 'prover',\n",
      "            'state': 'request_received',\n",
      "            'thread_id': '04cfd6a5-d920-4e22-a889-667eaafb75ed',\n",
      "            'trace': True,\n",
      "            'updated_at': '2021-08-10 09:01:02.121714Z',\n",
      "        },\n",
      "    ],\n",
      "}\n"
     ]
    }
   ],
   "source": [
    "# Step 2\n",
    "\n",
    "# Optional Query parameters\n",
    "verifier_connection_id = connection_id\n",
    "thread_id = None\n",
    "state = \"request_received\"\n",
    "role = \"prover\"\n",
    "\n",
    "proof_records_response = await agent_controller.proofs.get_records(verifier_connection_id, thread_id, state, role)\n",
    "pprint(proof_records_response)"
   ]
  },
  {
   "cell_type": "code",
   "execution_count": 11,
   "id": "4c883548",
   "metadata": {},
   "outputs": [],
   "source": [
    "# Fetch records from response that were sent via connection_id\n",
    "presentation_records = [r for r in proof_records_response[\"results\"] if (r[\"connection_id\"] == connection_id) is True] \n",
    "\n",
    "# Process only the first record:\n",
    "presentation_record = presentation_records[0]\n",
    "presentation_exchange_id = presentation_record[\"presentation_exchange_id\"]"
   ]
  },
  {
   "cell_type": "markdown",
   "id": "e2d89fa1",
   "metadata": {},
   "source": [
    "## Search For Available Credentials to Construct Presentation From\n",
    "\n",
    "The presentation record can be used to query your agents wallet and return all credentials that could be used to construct valid presentation"
   ]
  },
  {
   "cell_type": "code",
   "execution_count": 12,
   "id": "388ec2c3",
   "metadata": {},
   "outputs": [],
   "source": [
    "def get_proof_request_requirements(presentation_record):\n",
    "    \"\"\"\n",
    "    Returns dictionary with {<required-attribute>: <restrictions-of-attribute>} from presentation record\n",
    "    \"\"\"\n",
    "    # Setup\n",
    "    restrictions = {}\n",
    "    presentation_request = presentation_record[\"presentation_request\"]\n",
    "    \n",
    "    # Get required attributes and requirements for the individual attributes\n",
    "    for attr_key, attr_val in presentation_request[\"requested_attributes\"].items():\n",
    "        restrictions[attr_val[\"name\"]] = {}\n",
    "        restrictions[attr_val[\"name\"]][\"requirements\"] = attr_val[\"restrictions\"][0] \n",
    "        restrictions[attr_val[\"name\"]][\"request_attr_name\"] = attr_key\n",
    "        \n",
    "    return restrictions\n",
    "\n",
    "\n",
    "def get_suitable_credentials(credentials_all, requirements):\n",
    "    \"\"\"\n",
    "    Finds credentials in credentials_all that satisfy the requirements provided by the relying party.\n",
    "    Returns dictionary with: {<attribute-name>: <suitable-credential>}, where the suitable-credential satisfies all requirements \n",
    "    \"\"\"\n",
    "    # Setup\n",
    "    relevant_credentials = {}\n",
    "    revealed = {}\n",
    "    credentials = credentials_all[\"results\"]\n",
    "    \n",
    "    # Iterate through attribute name and attribute requirements of relying party\n",
    "    for name, conditions in requirements.items():\n",
    "        \n",
    "        req = conditions[\"requirements\"]\n",
    "        req_name = conditions[\"request_attr_name\"]\n",
    "        \n",
    "        # Break if the required attribute name is not in any credential, or if all requirements (e.g., schema_id) are not within one credential\n",
    "        if (any(name in cred[\"attrs\"] for cred in credentials) is False) or (any(r in cred.keys() for r in req for cred in credentials) is False):\n",
    "            continue\n",
    "\n",
    "        # Iterate through credentials\n",
    "        for cred in credentials:\n",
    "\n",
    "            # Verify if requirement value (r_val) and credential value (cred[r_key]) match for required attribute (r_key)\n",
    "            for r_key, r_val in req.items():\n",
    "                try:\n",
    "                    # Append cred to relevant_credentials if all requirements match\n",
    "                    if (cred[r_key] == r_val) is True:\n",
    "                        relevant_credentials[name] = cred\n",
    "                        print(f\"Attribute request for '{name}' can be satisfied by Credential with Referent -- {cred['referent']}\")\n",
    "                        revealed[req_name] = {\"cred_id\": cred[\"referent\"], \"revealed\": True}\n",
    "                except:\n",
    "                    pass\n",
    "\n",
    "    return relevant_credentials, revealed"
   ]
  },
  {
   "cell_type": "code",
   "execution_count": 13,
   "id": "4511a3c0",
   "metadata": {},
   "outputs": [
    {
     "name": "stdout",
     "output_type": "stream",
     "text": [
      "Attribute request for 'isManufacturer' can be satisfied by Credential with Referent -- M1-isManufacturer-VC\n",
      "{\n",
      "    '0_isManufacturer_uuid': {\n",
      "        'cred_id': 'M1-isManufacturer-VC',\n",
      "        'revealed': True,\n",
      "    },\n",
      "}\n"
     ]
    }
   ],
   "source": [
    "# Get requirements of proof request\n",
    "proof_attribute_requirements = get_proof_request_requirements(presentation_record)\n",
    "\n",
    "# Verify all credentials of M1 and verify if they satisfy the requirements defined in proof_attribute_requirements\n",
    "credentials = await agent_controller.credentials.get_all()\n",
    "suitable_credentials, revealed = get_suitable_credentials(credentials, proof_attribute_requirements)\n",
    "#pprint(credentials)\n",
    "pprint(revealed)"
   ]
  },
  {
   "cell_type": "code",
   "execution_count": 40,
   "id": "91460b25",
   "metadata": {},
   "outputs": [],
   "source": [
    "# select credentials to provide for the proof\n",
    "#credentials = await agent_controller.proofs.get_presentation_credentials(presentation_exchange_id)\n",
    "#print(\"Credentials stored that could be used to satisfy the request. In some situations you applications may have a choice which credential to reveal\\n\")\n",
    "\n",
    "#attribute_by_reft = {}\n",
    "#revealed = {}\n",
    "#self_attested = {}\n",
    "#predicates = {}"
   ]
  },
  {
   "cell_type": "code",
   "execution_count": 14,
   "id": "de3ec127",
   "metadata": {},
   "outputs": [],
   "source": [
    "predicates = {}\n",
    "self_attested = {}\n"
   ]
  },
  {
   "cell_type": "code",
   "execution_count": 15,
   "id": "ee9bc637",
   "metadata": {},
   "outputs": [
    {
     "name": "stdout",
     "output_type": "stream",
     "text": [
      "\n",
      "Generate the proof\n",
      "{'requested_predicates': {}, 'requested_attributes': {'0_isManufacturer_uuid': {'cred_id': 'M1-isManufacturer-VC', 'revealed': True}}, 'self_attested_attributes': {}}\n"
     ]
    }
   ],
   "source": [
    "# Note we are working on a friendlier api to abstract this away\n",
    "\n",
    "print(\"\\nGenerate the proof\")\n",
    "presentation = {\n",
    "    \"requested_predicates\": predicates,\n",
    "    \"requested_attributes\": revealed,\n",
    "    \"self_attested_attributes\": self_attested,\n",
    "}\n",
    "print(presentation)"
   ]
  },
  {
   "cell_type": "markdown",
   "id": "de433bcd",
   "metadata": {},
   "source": [
    "## Send Presentation\n",
    "\n",
    "A presentation is sent in represent to a presentation record that has previously been created."
   ]
  },
  {
   "cell_type": "code",
   "execution_count": 16,
   "id": "6fafd564",
   "metadata": {},
   "outputs": [
    {
     "name": "stdout",
     "output_type": "stream",
     "text": [
      "\n",
      "---------------------------------------------------------------------\n",
      "\n",
      "Handle present-proof\n",
      "Connection ID :  992ea5a9-7382-4c2a-b102-7fb4a51faeaf\n",
      "Presentation Exchange ID :  9728d1c8-29ff-437b-8fd7-8f21dffcdd92\n",
      "Protocol State :  presentation_sent\n",
      "Agent Role :  prover\n",
      "Initiator :  external\n",
      "\n",
      "---------------------------------------------------------------------\n",
      "\n",
      "Presentation sent\n",
      "\n",
      "\n",
      "---------------------------------------------------------------------\n",
      "\n",
      "Handle present-proof\n",
      "Connection ID :  992ea5a9-7382-4c2a-b102-7fb4a51faeaf\n",
      "Presentation Exchange ID :  9728d1c8-29ff-437b-8fd7-8f21dffcdd92\n",
      "Protocol State :  presentation_acked\n",
      "Agent Role :  prover\n",
      "Initiator :  external\n",
      "\n",
      "---------------------------------------------------------------------\n",
      "\n",
      "Presentation has been acknowledged by the Issuer\n"
     ]
    }
   ],
   "source": [
    "presentation_response = await agent_controller.proofs.send_presentation(presentation_exchange_id, presentation)"
   ]
  },
  {
   "cell_type": "markdown",
   "id": "dcfa84ee",
   "metadata": {},
   "source": [
    "## Your Own Business Logic\n",
    "\n",
    "Now you should have an established, active connection you can write any custom logic you want to engage with protocols with the connection"
   ]
  },
  {
   "cell_type": "code",
   "execution_count": 1,
   "id": "fe4fa67a",
   "metadata": {},
   "outputs": [],
   "source": [
    "# Imports\n",
    "import torch as th\n",
    "import syft as sy\n",
    "\n",
    "#from sympc.session import Session\n",
    "#from sympc.session import SessionManager\n",
    "#from sympc.tensor import MPCTensor"
   ]
  },
  {
   "cell_type": "code",
   "execution_count": 2,
   "id": "6f514c54",
   "metadata": {},
   "outputs": [],
   "source": [
    "sy.VERBOSE = True"
   ]
  },
  {
   "cell_type": "code",
   "execution_count": 3,
   "id": "c7cd728a",
   "metadata": {},
   "outputs": [],
   "source": [
    "# Step 2: Join duet of DS\n",
    "#duet_city = sy.duet(\"cbeb0fa4e181a272a55df58bfc9f5585\")"
   ]
  },
  {
   "cell_type": "code",
   "execution_count": null,
   "id": "9eba41f9",
   "metadata": {},
   "outputs": [],
   "source": [
    "# Copy and paste client_id and ping the city!"
   ]
  },
  {
   "cell_type": "code",
   "execution_count": 4,
   "id": "09d8be67",
   "metadata": {},
   "outputs": [
    {
     "name": "stdout",
     "output_type": "stream",
     "text": [
      "🎤  🎸  ♪♪♪ Starting Duet ♫♫♫  🎻  🎹\n",
      "\n",
      "♫♫♫ >\u001b[93m DISCLAIMER\u001b[0m: \u001b[1mDuet is an experimental feature currently in beta.\n",
      "♫♫♫ > Use at your own risk.\n",
      "\u001b[0m\n",
      "\u001b[1m\n",
      "    > ❤️ \u001b[91mLove\u001b[0m \u001b[92mDuet\u001b[0m? \u001b[93mPlease\u001b[0m \u001b[94mconsider\u001b[0m \u001b[95msupporting\u001b[0m \u001b[91mour\u001b[0m \u001b[93mcommunity!\u001b[0m\n",
      "    > https://github.com/sponsors/OpenMined\u001b[1m\n",
      "\n",
      "♫♫♫ > Punching through firewall to OpenGrid Network Node at:\n",
      "♫♫♫ > http://ec2-18-218-7-180.us-east-2.compute.amazonaws.com:5000\n",
      "♫♫♫ >\n",
      "♫♫♫ > ...waiting for response from OpenGrid Network... \n",
      "♫♫♫ > \u001b[92mDONE!\u001b[0m\n",
      "\n",
      "♫♫♫ > \u001b[95mSTEP 1:\u001b[0m Send the following code to your Duet Partner!\n",
      "\n",
      "import syft as sy\n",
      "duet = sy.join_duet(loopback=True)\n",
      "\n",
      "♫♫♫ > Connecting...\n",
      "\n",
      "♫♫♫ > \u001b[92mCONNECTED!\u001b[0m\n",
      "\n",
      "♫♫♫ > DUET LIVE STATUS  *  Objects: 1  Requests: 0   Messages: 5  Request Handlers: 0                                \r"
     ]
    }
   ],
   "source": [
    "# Step 3: Create duet server\n",
    "duet_m1 = sy.launch_duet(loopback=True)"
   ]
  },
  {
   "cell_type": "markdown",
   "id": "c62e7e9b",
   "metadata": {
    "pycharm": {
     "name": "#%% md\n"
    }
   },
   "source": [
    "## 2 - Secure Multi-Party Computation"
   ]
  },
  {
   "cell_type": "code",
   "execution_count": 5,
   "id": "9b111d95",
   "metadata": {},
   "outputs": [
    {
     "name": "stdout",
     "output_type": "stream",
     "text": [
      "\r",
      "♫♫♫ > DUET LIVE STATUS  *  Objects: 0  Requests: 0   Messages: 0  Request Handlers: 0                                \r"
     ]
    }
   ],
   "source": [
    "from IPython.core.debugger import set_trace"
   ]
  },
  {
   "cell_type": "code",
   "execution_count": 6,
   "id": "df01ba55",
   "metadata": {},
   "outputs": [
    {
     "data": {
      "text/html": [
       "<div>\n",
       "<style scoped>\n",
       "    .dataframe tbody tr th:only-of-type {\n",
       "        vertical-align: middle;\n",
       "    }\n",
       "\n",
       "    .dataframe tbody tr th {\n",
       "        vertical-align: top;\n",
       "    }\n",
       "\n",
       "    .dataframe thead th {\n",
       "        text-align: right;\n",
       "    }\n",
       "</style>\n",
       "<table border=\"1\" class=\"dataframe\">\n",
       "  <thead>\n",
       "    <tr style=\"text-align: right;\">\n",
       "      <th></th>\n",
       "    </tr>\n",
       "  </thead>\n",
       "  <tbody>\n",
       "  </tbody>\n",
       "</table>\n",
       "</div>"
      ],
      "text/plain": [
       "Empty DataFrame\n",
       "Columns: []\n",
       "Index: []"
      ]
     },
     "execution_count": 6,
     "metadata": {},
     "output_type": "execute_result"
    }
   ],
   "source": [
    "# Step 8: test there is no data in the server atm\n",
    "duet_m1.store.pandas"
   ]
  },
  {
   "cell_type": "code",
   "execution_count": 7,
   "id": "2c901112",
   "metadata": {},
   "outputs": [],
   "source": [
    "age_data = th.tensor([50,23,72,83])\n",
    "age_data = age_data.tag(\"test_data_age\")\n",
    "age_data = age_data.describe(\"description for age_data\")\n",
    "age_data_pointer = age_data.send(duet_m1, pointable=True)"
   ]
  },
  {
   "cell_type": "code",
   "execution_count": 8,
   "id": "0d17ee6c",
   "metadata": {},
   "outputs": [
    {
     "name": "stdout",
     "output_type": "stream",
     "text": [
      "\r",
      "♫♫♫ > DUET LIVE STATUS  *  Objects: 1  Requests: 0   Messages: 2  Request Handlers: 0                                \r"
     ]
    },
    {
     "data": {
      "text/plain": [
       "[<syft.proxy.torch.TensorPointer object at 0x7fd83abcf640>]"
      ]
     },
     "execution_count": 8,
     "metadata": {},
     "output_type": "execute_result"
    }
   ],
   "source": [
    "duet_m1.store"
   ]
  },
  {
   "cell_type": "code",
   "execution_count": 9,
   "id": "e3ac3083",
   "metadata": {},
   "outputs": [
    {
     "data": {
      "text/html": [
       "<div>\n",
       "<style scoped>\n",
       "    .dataframe tbody tr th:only-of-type {\n",
       "        vertical-align: middle;\n",
       "    }\n",
       "\n",
       "    .dataframe tbody tr th {\n",
       "        vertical-align: top;\n",
       "    }\n",
       "\n",
       "    .dataframe thead th {\n",
       "        text-align: right;\n",
       "    }\n",
       "</style>\n",
       "<table border=\"1\" class=\"dataframe\">\n",
       "  <thead>\n",
       "    <tr style=\"text-align: right;\">\n",
       "      <th></th>\n",
       "      <th>ID</th>\n",
       "      <th>Tags</th>\n",
       "      <th>Description</th>\n",
       "      <th>object_type</th>\n",
       "    </tr>\n",
       "  </thead>\n",
       "  <tbody>\n",
       "    <tr>\n",
       "      <th>0</th>\n",
       "      <td>&lt;UID: 5f0b7083bf31407da1896880b94d7abd&gt;</td>\n",
       "      <td>[test_data_age]</td>\n",
       "      <td>description for age_data</td>\n",
       "      <td>&lt;class 'torch.Tensor'&gt;</td>\n",
       "    </tr>\n",
       "  </tbody>\n",
       "</table>\n",
       "</div>"
      ],
      "text/plain": [
       "                                        ID             Tags  \\\n",
       "0  <UID: 5f0b7083bf31407da1896880b94d7abd>  [test_data_age]   \n",
       "\n",
       "                Description             object_type  \n",
       "0  description for age_data  <class 'torch.Tensor'>  "
      ]
     },
     "execution_count": 9,
     "metadata": {},
     "output_type": "execute_result"
    }
   ],
   "source": [
    "duet_m1.store.pandas"
   ]
  },
  {
   "cell_type": "code",
   "execution_count": 7,
   "id": "0cd38313",
   "metadata": {},
   "outputs": [
    {
     "data": {
      "text/plain": [
       "<UID: fe060559684447b397a0b144d6413e7c>"
      ]
     },
     "execution_count": 7,
     "metadata": {},
     "output_type": "execute_result"
    }
   ],
   "source": [
    "duet_m1.id"
   ]
  },
  {
   "cell_type": "code",
   "execution_count": 8,
   "id": "209f1ff9",
   "metadata": {},
   "outputs": [
    {
     "data": {
      "text/plain": [
       "'Launcher Client'"
      ]
     },
     "execution_count": 8,
     "metadata": {},
     "output_type": "execute_result"
    }
   ],
   "source": [
    "duet_m1.name"
   ]
  },
  {
   "cell_type": "code",
   "execution_count": 9,
   "id": "483587f2",
   "metadata": {},
   "outputs": [
    {
     "data": {
      "text/plain": [
       "<SpecificLocation: fe060559684447b397a0b144d6413e7c>"
      ]
     },
     "execution_count": 9,
     "metadata": {},
     "output_type": "execute_result"
    }
   ],
   "source": [
    "duet_m1.target_id"
   ]
  },
  {
   "cell_type": "code",
   "execution_count": 10,
   "id": "acf49839",
   "metadata": {},
   "outputs": [],
   "source": [
    "duet_m1.network_id"
   ]
  },
  {
   "cell_type": "code",
   "execution_count": 6,
   "id": "89d0f35d",
   "metadata": {},
   "outputs": [],
   "source": [
    "#duet_city.store.pandas"
   ]
  },
  {
   "cell_type": "code",
   "execution_count": 16,
   "id": "7f3e2101",
   "metadata": {},
   "outputs": [
    {
     "ename": "NameError",
     "evalue": "name 'torch' is not defined",
     "output_type": "error",
     "traceback": [
      "\u001b[0;31m---------------------------------------------------------------------------\u001b[0m",
      "\u001b[0;31mNameError\u001b[0m                                 Traceback (most recent call last)",
      "\u001b[0;32m/tmp/ipykernel_16/2025779802.py\u001b[0m in \u001b[0;36m<module>\u001b[0;34m\u001b[0m\n\u001b[1;32m      1\u001b[0m \u001b[0;31m# Step 9: Publish secret data\u001b[0m\u001b[0;34m\u001b[0m\u001b[0;34m\u001b[0m\u001b[0;34m\u001b[0m\u001b[0m\n\u001b[1;32m      2\u001b[0m \u001b[0;34m\u001b[0m\u001b[0m\n\u001b[0;32m----> 3\u001b[0;31m \u001b[0mx\u001b[0m \u001b[0;34m=\u001b[0m \u001b[0mtorch\u001b[0m\u001b[0;34m.\u001b[0m\u001b[0mtensor\u001b[0m\u001b[0;34m(\u001b[0m\u001b[0;34m[\u001b[0m\u001b[0;36m50\u001b[0m\u001b[0;34m,\u001b[0m\u001b[0;36m60\u001b[0m\u001b[0;34m,\u001b[0m\u001b[0;36m77\u001b[0m\u001b[0;34m]\u001b[0m\u001b[0;34m)\u001b[0m \u001b[0;31m# define torch\u001b[0m\u001b[0;34m\u001b[0m\u001b[0;34m\u001b[0m\u001b[0m\n\u001b[0m\u001b[1;32m      4\u001b[0m \u001b[0mx\u001b[0m\u001b[0;34m.\u001b[0m\u001b[0msend\u001b[0m\u001b[0;34m(\u001b[0m\u001b[0mduet_m1\u001b[0m\u001b[0;34m,\u001b[0m \u001b[0mpointable\u001b[0m\u001b[0;34m=\u001b[0m\u001b[0;32mTrue\u001b[0m\u001b[0;34m,\u001b[0m \u001b[0mtags\u001b[0m\u001b[0;34m=\u001b[0m\u001b[0;34m[\u001b[0m\u001b[0;34m\"TEST_#1_from_m1_to_ds\"\u001b[0m\u001b[0;34m]\u001b[0m\u001b[0;34m,\u001b[0m \u001b[0mdescription\u001b[0m\u001b[0;34m=\u001b[0m\u001b[0;34m\"Dummy data\"\u001b[0m\u001b[0;34m)\u001b[0m \u001b[0;31m# send torch to duet_m1\u001b[0m\u001b[0;34m\u001b[0m\u001b[0;34m\u001b[0m\u001b[0m\n\u001b[1;32m      5\u001b[0m \u001b[0;34m\u001b[0m\u001b[0m\n",
      "\u001b[0;31mNameError\u001b[0m: name 'torch' is not defined"
     ]
    }
   ],
   "source": [
    "# Step 9: Publish secret data\n",
    "\n",
    "x = torch.tensor([50,60,77]) # define torch\n",
    "x.send(duet_m1, pointable=True, tags=[\"TEST_#1_from_m1_to_ds\"], description=\"Dummy data\") # send torch to duet_m1\n",
    "\n",
    "x = torch.tensor([[1,2], [3,4]])\n",
    "x.send(duet_m1, pointable=True, tags=[\"TEST_#2_from_m1_to_ds\"], description=\"Test to multiply matrices\")"
   ]
  },
  {
   "cell_type": "code",
   "execution_count": 11,
   "id": "514b2560",
   "metadata": {
    "jupyter": {
     "outputs_hidden": false
    },
    "pycharm": {
     "name": "#%%\n"
    }
   },
   "outputs": [
    {
     "data": {
      "text/html": [
       "<div>\n",
       "<style scoped>\n",
       "    .dataframe tbody tr th:only-of-type {\n",
       "        vertical-align: middle;\n",
       "    }\n",
       "\n",
       "    .dataframe tbody tr th {\n",
       "        vertical-align: top;\n",
       "    }\n",
       "\n",
       "    .dataframe thead th {\n",
       "        text-align: right;\n",
       "    }\n",
       "</style>\n",
       "<table border=\"1\" class=\"dataframe\">\n",
       "  <thead>\n",
       "    <tr style=\"text-align: right;\">\n",
       "      <th></th>\n",
       "      <th>ID</th>\n",
       "      <th>Tags</th>\n",
       "      <th>Description</th>\n",
       "      <th>object_type</th>\n",
       "    </tr>\n",
       "  </thead>\n",
       "  <tbody>\n",
       "    <tr>\n",
       "      <th>0</th>\n",
       "      <td>&lt;UID: 67d96afe7a794893b0989cec5267bf95&gt;</td>\n",
       "      <td>[TEST_#1_from_m1_to_ds]</td>\n",
       "      <td>Dummy data</td>\n",
       "      <td>&lt;class 'torch.Tensor'&gt;</td>\n",
       "    </tr>\n",
       "    <tr>\n",
       "      <th>1</th>\n",
       "      <td>&lt;UID: a44f0d8e7c134c4e93941717115e4827&gt;</td>\n",
       "      <td>[TEST_#2_from_m1_to_ds]</td>\n",
       "      <td>Test to multiply matrices</td>\n",
       "      <td>&lt;class 'torch.Tensor'&gt;</td>\n",
       "    </tr>\n",
       "  </tbody>\n",
       "</table>\n",
       "</div>"
      ],
      "text/plain": [
       "                                        ID                     Tags  \\\n",
       "0  <UID: 67d96afe7a794893b0989cec5267bf95>  [TEST_#1_from_m1_to_ds]   \n",
       "1  <UID: a44f0d8e7c134c4e93941717115e4827>  [TEST_#2_from_m1_to_ds]   \n",
       "\n",
       "                 Description             object_type  \n",
       "0                 Dummy data  <class 'torch.Tensor'>  \n",
       "1  Test to multiply matrices  <class 'torch.Tensor'>  "
      ]
     },
     "execution_count": 11,
     "metadata": {},
     "output_type": "execute_result"
    }
   ],
   "source": [
    "# Step 10: verify that data was uploaded to the store\n",
    "duet_m1.store.pandas"
   ]
  },
  {
   "cell_type": "code",
   "execution_count": 8,
   "id": "3e9f8736",
   "metadata": {
    "jupyter": {
     "outputs_hidden": false
    },
    "pycharm": {
     "name": "#%%\n"
    }
   },
   "outputs": [],
   "source": [
    "# Step 11: Authorize the requests ds can make\n",
    "duet_m1.requests.add_handler(action=\"accept\")"
   ]
  },
  {
   "cell_type": "code",
   "execution_count": 13,
   "id": "7dfd3d2e",
   "metadata": {
    "jupyter": {
     "outputs_hidden": false
    },
    "pycharm": {
     "name": "#%%\n"
    }
   },
   "outputs": [],
   "source": [
    "# Step 11: Authorize the requests ds can make\n",
    "duet_city.requests.add_handler(action=\"accept\")"
   ]
  },
  {
   "cell_type": "code",
   "execution_count": null,
   "id": "227febb4",
   "metadata": {},
   "outputs": [],
   "source": []
  },
  {
   "cell_type": "code",
   "execution_count": null,
   "id": "aec50d09",
   "metadata": {},
   "outputs": [],
   "source": []
  },
  {
   "cell_type": "markdown",
   "id": "d882eb62",
   "metadata": {},
   "source": [
    "## Terminate Controller\n",
    "\n",
    "Whenever you have finished with this notebook, be sure to terminate the controller. This is especially important if your business logic runs across multiple notebooks."
   ]
  },
  {
   "cell_type": "code",
   "execution_count": null,
   "id": "57b761f5",
   "metadata": {},
   "outputs": [],
   "source": [
    "await agent_controller.terminate()"
   ]
  },
  {
   "cell_type": "code",
   "execution_count": null,
   "id": "e62e4d3a",
   "metadata": {},
   "outputs": [],
   "source": []
  }
 ],
 "metadata": {
  "kernelspec": {
   "display_name": "Python 3",
   "language": "python",
   "name": "python3"
  },
  "language_info": {
   "codemirror_mode": {
    "name": "ipython",
    "version": 3
   },
   "file_extension": ".py",
   "mimetype": "text/x-python",
   "name": "python",
   "nbconvert_exporter": "python",
   "pygments_lexer": "ipython3",
   "version": "3.9.1"
  }
 },
 "nbformat": 4,
 "nbformat_minor": 5
}
