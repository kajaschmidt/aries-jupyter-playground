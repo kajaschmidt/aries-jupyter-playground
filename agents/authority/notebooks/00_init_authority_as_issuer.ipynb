{
 "cells": [
  {
   "cell_type": "markdown",
   "id": "b9b590ac",
   "metadata": {},
   "source": [
    "# Initialize Authority Agent as an Issuing Authority\n",
    "\n",
    "**Warning:** Run notebook only once after running `./manage start`. Before running it again, execute `./manage down` to delete the postgres databases. Otherwise, the storage will persist in the postgres database.\n",
    "\n",
    "This notebook initializes the authority agent as an issuing authority on the Sovrin StagingNet. The purpose is to enable the authority to certify that manufacturer1, manufacturer2, manufacturer3 are manufacturers. The notebook consists of **??** steps:\n",
    "\n",
    "1. Initialize authority agent and write DID to Sovrin StagingNet\n",
    "2. Author schema to certify an agent is a city or a manufacturer (or use existing schema)\n",
    "3. Store identifiers of schema and VC definition to access it in notebooks of other agents"
   ]
  },
  {
   "cell_type": "code",
   "execution_count": 1,
   "id": "09db4056",
   "metadata": {},
   "outputs": [
    {
     "data": {
      "application/javascript": [
       "document.title='Authority Agent'\n"
      ],
      "text/plain": [
       "<IPython.core.display.Javascript object>"
      ]
     },
     "metadata": {},
     "output_type": "display_data"
    }
   ],
   "source": [
    "%%javascript\n",
    "document.title='Authority Agent'"
   ]
  },
  {
   "cell_type": "markdown",
   "id": "f5a11350",
   "metadata": {
    "pycharm": {
     "name": "#%% md\n"
    }
   },
   "source": [
    "#### Imports"
   ]
  },
  {
   "cell_type": "code",
   "execution_count": 2,
   "id": "a95bb285",
   "metadata": {},
   "outputs": [],
   "source": [
    "from aries_cloudcontroller import AriesAgentController\n",
    "import json \n",
    "import os\n",
    "from pprintpp import pprint\n",
    "import requests\n",
    "from termcolor import colored"
   ]
  },
  {
   "cell_type": "markdown",
   "id": "10ce14a1",
   "metadata": {},
   "source": [
    "#### Init agent controller of Authority"
   ]
  },
  {
   "cell_type": "code",
   "execution_count": 3,
   "id": "4c98286a",
   "metadata": {},
   "outputs": [
    {
     "name": "stdout",
     "output_type": "stream",
     "text": [
      "Initialising a controller with admin api at http://authority-agent:3021 and an api key of adminApiKey\n"
     ]
    }
   ],
   "source": [
    "api_key = os.getenv(\"ACAPY_ADMIN_API_KEY\")\n",
    "admin_url = os.getenv(\"ADMIN_URL\")\n",
    "\n",
    "print(f\"Initialising a controller with admin api at {admin_url} and an api key of {api_key}\")\n",
    "agent_controller = AriesAgentController(admin_url,api_key)"
   ]
  },
  {
   "cell_type": "markdown",
   "id": "50825990",
   "metadata": {},
   "source": [
    "## 1 - Initialize Authority agent with a DID and scheme-authoring rights\n",
    "\n",
    "Note: if defined a ACAPY_WALLET_SEED value for your agent then this function will return a DID, but this DID still needs to be written to the ledger. If you did not define a seed you will need to create a DID first.\n",
    "### 1.1 - Get DID"
   ]
  },
  {
   "cell_type": "code",
   "execution_count": 4,
   "id": "de006596",
   "metadata": {},
   "outputs": [
    {
     "name": "stdout",
     "output_type": "stream",
     "text": [
      "{\n",
      "    'did': 'PvCigHE6ZGaR27buqP8Vv1',\n",
      "    'key_type': 'ed25519',\n",
      "    'method': 'sov',\n",
      "    'posture': 'wallet_only',\n",
      "    'verkey': 'DVThRgmwDdSQzqzKS9GdfL72pQR7ayrLHTBdLgAfzFgM',\n",
      "}\n"
     ]
    }
   ],
   "source": [
    "# Await public_did_response\n",
    "public_did_response = await agent_controller.wallet.get_public_did()\n",
    "\n",
    "# Use existing DID, or create a new one\n",
    "if public_did_response[\"result\"]:\n",
    "    did_obj = public_did_response[\"result\"]\n",
    "else:\n",
    "    create_did_response = await agent_controller.wallet.create_did()\n",
    "    did_obj = create_did_response['result']\n",
    "pprint(did_obj)"
   ]
  },
  {
   "cell_type": "markdown",
   "id": "cb593cb1",
   "metadata": {},
   "source": [
    "### 1.2 - Write DID to Sovrin StagingNet"
   ]
  },
  {
   "cell_type": "code",
   "execution_count": 5,
   "id": "ec7eb6a5",
   "metadata": {},
   "outputs": [
    {
     "name": "stdout",
     "output_type": "stream",
     "text": [
      "{\n",
      "    'body': '{\"statusCode\": 200, \"PvCigHE6ZGaR27buqP8Vv1\": {\"status\": \"Success\", \"statusCode\": 200, \"reason\": \"Successfully wrote NYM identified by PvCigHE6ZGaR27buqP8Vv1 to the ledger with role ENDORSER\"}}',\n",
      "    'headers': {'Access-Control-Allow-Origin': '*'},\n",
      "    'statusCode': 200,\n",
      "}\n"
     ]
    }
   ],
   "source": [
    "# Variables\n",
    "url = 'https://selfserve.sovrin.org/nym'\n",
    "payload = {\"network\":\"stagingnet\",\"did\": did_obj[\"did\"],\"verkey\":did_obj[\"verkey\"],\"paymentaddr\":\"\"}\n",
    "headers = {} # Empty header, because payload includes all information\n",
    "\n",
    "# Send request\n",
    "r = requests.post(url, data=json.dumps(payload), headers=headers)\n",
    "pprint(r.json())"
   ]
  },
  {
   "cell_type": "markdown",
   "id": "52effda7",
   "metadata": {},
   "source": [
    "### 1.3 – Accept Transaction Author Agreement (TAA)\n",
    "\n",
    "Although the Sovrin StagingNet is permissionless, before DID's have the authority to write to the ledger they must accept something called a transaction author agreement by signing it using the DID they have on the ledger.\n",
    "\n",
    "As a global public ledger, the Sovrin Ledger and all its participants are subject to privacy and data protection regulations such as the EU General Data Protection Regulation (GDPR). These regulations require that the participants be explicit about responsibilities for Personal Data.\n",
    "\n",
    "To clarify these responsibilities and provide protection for all parties, the Sovrin Governance Framework Working Group developed an agreement between Transaction Authors and the Sovrin Foundation. The TAA can be found at Sovrin.org. It ensures that users are aware of and consent to the fact that all data written to the Sovrin Ledger cannot be removed, even if the original author of the transaction requests its removal.\n",
    "\n",
    "The TAA outlines the policies that users must follow when interacting with the Sovrin Ledger. When a user’s client software is preparing a transaction for submission to the network, it must include a demonstration that the user had the opportunity to review the current TAA and accept it. This is done by including some additional fields in the ledger write transaction: \n",
    "\n",
    "* A hash of the agreement\n",
    "* A date when the agreement was accepted, and\n",
    "* A string indicating the user interaction that was followed to obtain the acceptance.\n",
    "\n",
    "The Indy client API used by Sovrin has been extended to allow users to review current and past agreements and to indicate acceptance through an approved user interaction pattern. - source: https://sovrin.org/preparing-for-the-sovrin-transaction-author-agreement/\n",
    "\n",
    "For more details on TAA please read more at the following links:\n",
    "* [Preparing for the Sovrin Transaction Author Agreement](https://sovrin.org/preparing-for-the-sovrin-transaction-author-agreement/)\n",
    "* [How the recent approval of the Sovrin Governance Framework v2 affects Transaction Authors\n",
    "](https://sovrin.org/how-the-recent-approval-of-the-sovrin-governance-framework-v2-affects-transaction-authors/)\n",
    "* [TAA v2](https://github.com/sovrin-foundation/sovrin/blob/master/TAA/TAA.md)\n",
    "* [TAA Acceptance Mechanism List (AML)](https://github.com/sovrin-foundation/sovrin/blob/master/TAA/AML.md)"
   ]
  },
  {
   "cell_type": "code",
   "execution_count": 6,
   "id": "bfc52c86",
   "metadata": {},
   "outputs": [
    {
     "data": {
      "text/plain": [
       "{}"
      ]
     },
     "execution_count": 6,
     "metadata": {},
     "output_type": "execute_result"
    }
   ],
   "source": [
    "# Get TAA\n",
    "taa_response = await agent_controller.ledger.get_taa()\n",
    "TAA = taa_response['result']['taa_record']\n",
    "\n",
    "# Accept TAA\n",
    "TAA['mechanism'] = \"service_agreement\"\n",
    "await agent_controller.ledger.accept_taa(TAA)"
   ]
  },
  {
   "cell_type": "markdown",
   "id": "d3a98f48",
   "metadata": {},
   "source": [
    "### 1.4 – Assign Authority with a public DID (if `ACAPY_WALLET_SEED` is not set in `agents/authority/.env`)"
   ]
  },
  {
   "cell_type": "code",
   "execution_count": 7,
   "id": "c163fa6d",
   "metadata": {},
   "outputs": [
    {
     "name": "stdout",
     "output_type": "stream",
     "text": [
      "Successfully intialised agent with Public DID: PvCigHE6ZGaR27buqP8Vv1\n"
     ]
    }
   ],
   "source": [
    "if did_obj[\"posture\"] != \"public\":\n",
    "    response = await agent_controller.wallet.assign_public_did(did_obj[\"did\"])\n",
    "print(\"Successfully intialised agent with Public DID: {d}\".format(d=did_obj[\"did\"]))"
   ]
  },
  {
   "cell_type": "markdown",
   "id": "fdadf1ff",
   "metadata": {},
   "source": [
    "## 2 – Write VC schema to certify city-status (schema A) and manufacturer-status (schema B)\n",
    "\n",
    "Set `issue_city_schema = True` and/or `issue_manufacturer_schema = True` if you want to issue a new (or update) schema A and/or schema B"
   ]
  },
  {
   "cell_type": "code",
   "execution_count": 8,
   "id": "a3fcf802",
   "metadata": {},
   "outputs": [],
   "source": [
    "issue_city_schema = False\n",
    "issue_manufacturer_schema = False"
   ]
  },
  {
   "cell_type": "markdown",
   "id": "36d5419f",
   "metadata": {},
   "source": [
    "### 2.1 – Schema A: VCs for Cities\n",
    "#### 2.1.1 – Define schema"
   ]
  },
  {
   "cell_type": "code",
   "execution_count": 9,
   "id": "870126e8",
   "metadata": {},
   "outputs": [],
   "source": [
    "if issue_city_schema is True:\n",
    "    # Define a unique schema name on the ledger, version the schema (to be able to update it), and define attributes in the schema\n",
    "    schema_name = \"certify-city-agency\"\n",
    "    schema_version = \"0.0.1\"\n",
    "    attributes = [\"city\", \"country\", \"isCityAgency\"]\n",
    "\n",
    "    # Write schema to ledger and await response\n",
    "    response = await agent_controller.schema.write_schema(schema_name, attributes, schema_version)\n",
    "    schema_city_id = response[\"schema_id\"]\n",
    "    print(\"Successfuly issued schema\")\n",
    "    print(\"Replace schema_city_id in else condition with {d}\".format(d=schema_city_id))\n",
    "\n",
    "else:\n",
    "    schema_city_id = 'BQmsjXtsjzzmTtdwQg5Ftn:2:certify-city-agency:0.0.1'  # UPDATE IF NEW SCHEMA IS ISSUED"
   ]
  },
  {
   "cell_type": "markdown",
   "id": "3d399610",
   "metadata": {},
   "source": [
    "#### 2.1.2 – Author VC definition transaction to the public ledger\n",
    "Author a verifiable credential definition transaction to the public ledger to specify the public cryptographic material the Authority agent uses to sign all VCs issued against schema A"
   ]
  },
  {
   "cell_type": "code",
   "execution_count": 10,
   "id": "c10d918d",
   "metadata": {},
   "outputs": [],
   "source": [
    "# Tag and group specific credential definitions\n",
    "tag = \"default\"\n",
    "\n",
    "# Make Cred Def support revocation. Credentials issued using this definition will be able to be revoked.\n",
    "# Note: ACAPY_TAILS_SERVER_BASE_URL env var must be properly configured\n",
    "support_revocation = False\n",
    "\n",
    "cred_def_city_response = await agent_controller.definitions.write_cred_def(schema_city_id, tag, support_revocation)\n",
    "cred_def_city_id = cred_def_city_response[\"credential_definition_id\"]"
   ]
  },
  {
   "cell_type": "markdown",
   "id": "c3048286",
   "metadata": {},
   "source": [
    "#### 2.1.3 – Store identifiers in dictionary"
   ]
  },
  {
   "cell_type": "code",
   "execution_count": 11,
   "id": "27bde44a",
   "metadata": {},
   "outputs": [],
   "source": [
    "city_identifiers = {\"schema_id\": schema_city_id, \"cred_def\": cred_def_city_id}"
   ]
  },
  {
   "cell_type": "markdown",
   "id": "5fc90a96",
   "metadata": {},
   "source": [
    "### 2.2 – Schema B: VCs for Manufacturers\n",
    "#### 2.2.1 – Define schema"
   ]
  },
  {
   "cell_type": "code",
   "execution_count": 12,
   "id": "adea7077",
   "metadata": {},
   "outputs": [],
   "source": [
    "if issue_manufacturer_schema is True:\n",
    "    # Define a unique schema name on the ledger, version the schema (to be able to update it), and define attributes in the schema\n",
    "    schema_name = \"certify-manufacturer\"\n",
    "    schema_version = \"0.0.1\"\n",
    "    attributes = [\"manufacturerName\", \"manufacturerCountry\", \"manufacturerCity\", \"isManufacturer\"]\n",
    "\n",
    "    # Write schema to ledger and await response\n",
    "    response = await agent_controller.schema.write_schema(schema_name, attributes, schema_version)\n",
    "    schema_manufacturer_id = response[\"schema_id\"]\n",
    "    print(\"Successfuly issued schema\")\n",
    "    print(\"Replace schema_manufacturer_id in else condition with {d}\".format(d=schema_manufacturer_id))\n",
    "          \n",
    "else:\n",
    "    schema_manufacturer_id = 'BQmsjXtsjzzmTtdwQg5Ftn:2:certify-manufacturer:0.0.1' # UPDATE IF NEW SCHEMA IS ISSUED"
   ]
  },
  {
   "cell_type": "markdown",
   "id": "d2539aa0",
   "metadata": {},
   "source": [
    "#### 2.2.2 – Author VC definition transaction to the public ledger\n",
    "Author a verifiable credential definition transaction to the public ledger to specify the public cryptographic material the Authority agent uses to sign all VCs issued against schema B"
   ]
  },
  {
   "cell_type": "code",
   "execution_count": 13,
   "id": "f7dbdbd3",
   "metadata": {},
   "outputs": [],
   "source": [
    "# Tag and group specific credential definitions\n",
    "tag = \"default\"\n",
    "\n",
    "# Make Cred Def support revocation. Credentials issued using this definition will be able to be revoked.\n",
    "# Note: ACAPY_TAILS_SERVER_BASE_URL env var must be properly configured\n",
    "support_revocation = False\n",
    "\n",
    "cred_def_manufacturer_response = await agent_controller.definitions.write_cred_def(schema_manufacturer_id, tag, support_revocation)\n",
    "cred_def_manufacturer_id = cred_def_manufacturer_response[\"credential_definition_id\"]"
   ]
  },
  {
   "cell_type": "markdown",
   "id": "a16d375b",
   "metadata": {},
   "source": [
    "#### 2.2.3 – Store identifiers in dictionary"
   ]
  },
  {
   "cell_type": "code",
   "execution_count": 14,
   "id": "c88345db",
   "metadata": {},
   "outputs": [],
   "source": [
    "manufacturer_identifiers = {\"schema_id\": schema_manufacturer_id, \"cred_def\": cred_def_manufacturer_id}"
   ]
  },
  {
   "cell_type": "markdown",
   "id": "45e72619",
   "metadata": {},
   "source": [
    "## 3 – Store identifiers for use throughout other agents' notebooks\n",
    "\n",
    "The IDs of the schema and VC definitions are required whenever the Authority agent issues credentials or constrains acceptable proof requests. For notebooks, it is easier to store the value pair as a string in a cell, and load them into the jupyter store. In real applications, the values should be stored in environment variables or a database.\n",
    "\n",
    "Thus, the identifiers are printed and copied across the main business logic notebooks and stored as variables. This process only needs to be repeated when you ran `./manage.sh start` for the first time, or executed `./manage.sh down` (instead of `./manage.sh stop`).  "
   ]
  },
  {
   "cell_type": "code",
   "execution_count": 15,
   "id": "6e934e37",
   "metadata": {},
   "outputs": [
    {
     "name": "stdout",
     "output_type": "stream",
     "text": [
      "{\n",
      "    'city_schema_identifiers': {\n",
      "        'cred_def': 'PvCigHE6ZGaR27buqP8Vv1:3:CL:239757:default',\n",
      "        'schema_id': 'BQmsjXtsjzzmTtdwQg5Ftn:2:certify-city-agency:0.0.1',\n",
      "    },\n",
      "    'manufacturer_schema_identifiers': {\n",
      "        'cred_def': 'PvCigHE6ZGaR27buqP8Vv1:3:CL:239761:default',\n",
      "        'schema_id': 'BQmsjXtsjzzmTtdwQg5Ftn:2:certify-manufacturer:0.0.1',\n",
      "    },\n",
      "}\n"
     ]
    }
   ],
   "source": [
    "identifiers = {\"city_schema_identifiers\": city_identifiers, \"manufacturer_schema_identifiers\": manufacturer_identifiers}\n",
    "pprint(identifiers)"
   ]
  },
  {
   "cell_type": "code",
   "execution_count": 16,
   "id": "6840f840",
   "metadata": {},
   "outputs": [
    {
     "name": "stdout",
     "output_type": "stream",
     "text": [
      "Stored 'schema_city_id' (str)\n",
      "Stored 'cred_def_city_id' (str)\n",
      "Stored 'schema_manufacturer_id' (str)\n",
      "Stored 'cred_def_manufacturer_id' (str)\n"
     ]
    }
   ],
   "source": [
    "# Store variables in jupyter store\n",
    "%store schema_city_id\n",
    "%store cred_def_city_id\n",
    "%store schema_manufacturer_id\n",
    "%store cred_def_manufacturer_id"
   ]
  },
  {
   "cell_type": "markdown",
   "id": "e5585645",
   "metadata": {},
   "source": [
    "## 4 – Terminate Controller\n"
   ]
  },
  {
   "cell_type": "code",
   "execution_count": 17,
   "id": "b28194a0",
   "metadata": {},
   "outputs": [],
   "source": [
    "await agent_controller.terminate()"
   ]
  },
  {
   "cell_type": "code",
   "execution_count": null,
   "id": "d890bea0",
   "metadata": {},
   "outputs": [],
   "source": []
  }
 ],
 "metadata": {
  "kernelspec": {
   "display_name": "Python 3 (ipykernel)",
   "language": "python",
   "name": "python3"
  },
  "language_info": {
   "codemirror_mode": {
    "name": "ipython",
    "version": 3
   },
   "file_extension": ".py",
   "mimetype": "text/x-python",
   "name": "python",
   "nbconvert_exporter": "python",
   "pygments_lexer": "ipython3",
   "version": "3.9.5"
  }
 },
 "nbformat": 4,
 "nbformat_minor": 5
}