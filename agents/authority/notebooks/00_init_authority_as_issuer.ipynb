{
 "cells": [
  {
   "cell_type": "markdown",
   "id": "c7272e21",
   "metadata": {},
   "source": [
    "# PART 0: Initialize Authority Agent as an Issuing Authority\n",
    "\n",
    "**Warning:** Run notebook only once after running `./manage start`. Before running it again, execute `./manage down` to delete the postgres databases. Otherwise, the storage will persist in the postgres database.\n",
    "\n",
    "This notebook initializes the authority agent as an issuing authority on the Sovrin StagingNet. The purpose is to enable the authority to certify that manufacturer1, manufacturer2, manufacturer3 are manufacturers. The notebook consists of **??** steps:\n",
    "\n",
    "1. Initialize authority agent and write DID to Sovrin StagingNet\n",
    "2. Author schema to certify an agent is a city or a manufacturer (or use existing schema)\n",
    "3. Store identifiers of Schema 1nd VC definition to access it in notebooks of other agents"
   ]
  },
  {
   "cell_type": "code",
   "execution_count": 1,
   "id": "1025aee9",
   "metadata": {},
   "outputs": [
    {
     "data": {
      "application/javascript": [
       "document.title='Authority Agent'\n"
      ],
      "text/plain": [
       "<IPython.core.display.Javascript object>"
      ]
     },
     "metadata": {},
     "output_type": "display_data"
    }
   ],
   "source": [
    "%%javascript\n",
    "document.title='Authority Agent'"
   ]
  },
  {
   "cell_type": "markdown",
   "id": "2deba069",
   "metadata": {
    "pycharm": {
     "name": "#%% md\n"
    }
   },
   "source": [
    "#### Imports"
   ]
  },
  {
   "cell_type": "code",
   "execution_count": 2,
   "id": "d2d15f51",
   "metadata": {},
   "outputs": [],
   "source": [
    "from aries_cloudcontroller import AriesAgentController\n",
    "import json\n",
    "import libs.functions as fnc\n",
    "import os\n",
    "from pprintpp import pprint\n",
    "from termcolor import colored"
   ]
  },
  {
   "cell_type": "markdown",
   "id": "3f7648ae",
   "metadata": {},
   "source": [
    "#### Variables\n",
    "\n",
    "Set `issue_city_schema = True` and/or `issue_manufacturer_schema = True` if you want to issue a new (or update) Schema 1 and/or Schema 2"
   ]
  },
  {
   "cell_type": "code",
   "execution_count": 3,
   "id": "599c3f30",
   "metadata": {
    "collapsed": false,
    "jupyter": {
     "outputs_hidden": false
    },
    "pycharm": {
     "name": "#%%\n"
    }
   },
   "outputs": [],
   "source": [
    "issue_city_schema = True\n",
    "issue_manufacturer_schema = True"
   ]
  },
  {
   "cell_type": "markdown",
   "id": "de6b50c8",
   "metadata": {},
   "source": [
    "#### Init agent controller of Authority"
   ]
  },
  {
   "cell_type": "code",
   "execution_count": 4,
   "id": "07f84178",
   "metadata": {},
   "outputs": [
    {
     "name": "stdout",
     "output_type": "stream",
     "text": [
      "Initialising a controller with admin api at http://authority-agent:3021 and an api key of adminApiKey\n"
     ]
    }
   ],
   "source": [
    "api_key = os.getenv(\"ACAPY_ADMIN_API_KEY\")\n",
    "admin_url = os.getenv(\"ADMIN_URL\")\n",
    "\n",
    "agent_controller = AriesAgentController(admin_url,api_key)\n",
    "print(f\"Initialising a controller with admin api at {admin_url} and an api key of {api_key}\")"
   ]
  },
  {
   "cell_type": "markdown",
   "id": "ed2c5cb0",
   "metadata": {},
   "source": [
    "## 1 - Initialize Authority agent with a DID and scheme-authoring rights\n",
    "\n",
    "Note: if defined a ACAPY_WALLET_SEED value for your agent then this function will return a DID, but this DID still needs to be written to the ledger. If you did not define a seed you will need to create a DID first.\n",
    "### 1.1 - Get DID"
   ]
  },
  {
   "cell_type": "code",
   "execution_count": 5,
   "id": "600e9051",
   "metadata": {},
   "outputs": [
    {
     "name": "stdout",
     "output_type": "stream",
     "text": [
      "\u001b[1m\u001b[32mSuccessfully got public DID\u001b[0m\n",
      "{\n",
      "    'did': 'XnKQj3iXVNpBBtFcArtxw2',\n",
      "    'key_type': 'ed25519',\n",
      "    'method': 'sov',\n",
      "    'posture': 'posted',\n",
      "    'verkey': 'Hn4QLxMFRXpAMCn91RoLuFLu1gEFbjPBDYhmdsmkQN2t',\n",
      "}\n"
     ]
    }
   ],
   "source": [
    "did_obj = await fnc.get_public_did(agent_controller)\n",
    "authority_did = did_obj[\"did\"]"
   ]
  },
  {
   "cell_type": "markdown",
   "id": "c3c0103e",
   "metadata": {},
   "source": [
    "### 1.2 - Write DID to Sovrin StagingNet"
   ]
  },
  {
   "cell_type": "code",
   "execution_count": 6,
   "id": "7571ca0e",
   "metadata": {},
   "outputs": [
    {
     "name": "stdout",
     "output_type": "stream",
     "text": [
      "Status :  \u001b[1m\u001b[32m200\u001b[0m\n",
      "Reason :  NYM XnKQj3iXVNpBBtFcArtxw2 already exists on the ledger.\n"
     ]
    }
   ],
   "source": [
    "fnc.write_did_to_ledger(did_obj)"
   ]
  },
  {
   "cell_type": "markdown",
   "id": "131ec64c",
   "metadata": {},
   "source": [
    "### 1.3 – Accept Transaction Author Agreement (TAA)\n",
    "\n",
    "Although the Sovrin StagingNet is permissionless, before DID's have the authority to write to the ledger they must accept something called a transaction author agreement by signing it using the DID they have on the ledger.\n",
    "\n",
    "As a global public ledger, the Sovrin Ledger and all its participants are subject to privacy and data protection regulations such as the EU General Data Protection Regulation (GDPR). These regulations require that the participants be explicit about responsibilities for Personal Data.\n",
    "\n",
    "To clarify these responsibilities and provide protection for all parties, the Sovrin Governance Framework Working Group developed an agreement between Transaction Authors and the Sovrin Foundation. The TAA can be found at Sovrin.org. It ensures that users are aware of and consent to the fact that all data written to the Sovrin Ledger cannot be removed, even if the original author of the transaction requests its removal.\n",
    "\n",
    "The TAA outlines the policies that users must follow when interacting with the Sovrin Ledger. When a user’s client software is preparing a transaction for submission to the network, it must include a demonstration that the user had the opportunity to review the current TAA and accept it. This is done by including some additional fields in the ledger write transaction: \n",
    "\n",
    "* A hash of the agreement\n",
    "* A date when the agreement was accepted, and\n",
    "* A string indicating the user interaction that was followed to obtain the acceptance.\n",
    "\n",
    "The Indy client API used by Sovrin has been extended to allow users to review current and past agreements and to indicate acceptance through an approved user interaction pattern. - source: https://sovrin.org/preparing-for-the-sovrin-transaction-author-agreement/\n",
    "\n",
    "For more details on TAA please read more at the following links:\n",
    "* [Preparing for the Sovrin Transaction Author Agreement](https://sovrin.org/preparing-for-the-sovrin-transaction-author-agreement/)\n",
    "* [How the recent approval of the Sovrin Governance Framework v2 affects Transaction Authors\n",
    "](https://sovrin.org/how-the-recent-approval-of-the-sovrin-governance-framework-v2-affects-transaction-authors/)\n",
    "* [TAA v2](https://github.com/sovrin-foundation/sovrin/blob/master/TAA/TAA.md)\n",
    "* [TAA Acceptance Mechanism List (AML)](https://github.com/sovrin-foundation/sovrin/blob/master/TAA/AML.md)"
   ]
  },
  {
   "cell_type": "code",
   "execution_count": 7,
   "id": "5b46a372",
   "metadata": {},
   "outputs": [
    {
     "name": "stdout",
     "output_type": "stream",
     "text": [
      "\u001b[1m\u001b[32mSuccessfully signed TAA agreement\u001b[0m\n"
     ]
    }
   ],
   "source": [
    "await fnc.accept_taa_agreement(agent_controller)"
   ]
  },
  {
   "cell_type": "markdown",
   "id": "ab853341",
   "metadata": {},
   "source": [
    "### 1.4 – Assign Authority with a public DID (if `ACAPY_WALLET_SEED` is not set in `agents/authority/.env`)"
   ]
  },
  {
   "cell_type": "code",
   "execution_count": 8,
   "id": "17c9c31d",
   "metadata": {},
   "outputs": [
    {
     "name": "stdout",
     "output_type": "stream",
     "text": [
      "\u001b[1m\u001b[32mSuccessfully intialised agent with Public DID: XnKQj3iXVNpBBtFcArtxw2\u001b[0m\n"
     ]
    }
   ],
   "source": [
    "if did_obj[\"posture\"] != \"public\":\n",
    "    response = await agent_controller.wallet.assign_public_did(did_obj[\"did\"])\n",
    "    print(colored(\"Successfully intialised agent with Public DID: {d}\".format(d=did_obj[\"did\"]), \"green\", attrs=[\"bold\"]))\n",
    "else:\n",
    "    print(\"Agent already has Public DID: {d}\".format(d=did_obj[\"did\"]))"
   ]
  },
  {
   "cell_type": "markdown",
   "id": "94dd0147",
   "metadata": {},
   "source": [
    "## 2 – Write VC schema to certify city-status (Schema 1) and manufacturer-status (Schema 2)\n"
   ]
  },
  {
   "cell_type": "markdown",
   "id": "7b1a4079",
   "metadata": {},
   "source": [
    "### 2.1 – Schema 1: VCs for Cities\n",
    "#### 2.1.1 – Define schema"
   ]
  },
  {
   "cell_type": "code",
   "execution_count": 9,
   "id": "643cf01f",
   "metadata": {},
   "outputs": [
    {
     "name": "stdout",
     "output_type": "stream",
     "text": [
      "\u001b[1m\u001b[32mSuccessfully wrote certify-city-agency schema:\u001b[0m\n",
      "{\n",
      "    'schema': {\n",
      "        'attrNames': ['isCityAgency', 'city', 'country'],\n",
      "        'id': 'XnKQj3iXVNpBBtFcArtxw2:2:certify-city-agency:0.0.1',\n",
      "        'name': 'certify-city-agency',\n",
      "        'seqNo': 248532,\n",
      "        'ver': '1.0',\n",
      "        'version': '0.0.1',\n",
      "    },\n",
      "    'schema_id': 'XnKQj3iXVNpBBtFcArtxw2:2:certify-city-agency:0.0.1',\n",
      "}\n"
     ]
    }
   ],
   "source": [
    "if issue_city_schema is True:\n",
    "    # Define a unique schema name on the ledger, version the schema (to be able to update it), and define attributes in the schema\n",
    "    schema_name = \"certify-city-agency\"\n",
    "    schema_version = \"0.0.1\"\n",
    "    attributes = [\"city\", \"country\", \"isCityAgency\"]\n",
    "\n",
    "    # Write schema to ledger and await response\n",
    "    schema_city_id = await fnc.write_schema(agent_controller, schema_name, schema_version, attributes)\n",
    "\n",
    "else:\n",
    "    # Else get stored variable\n",
    "    schema_city_id = fnc.get_identifiers()[\"city_schema_identifiers\"][\"schema_id\"]"
   ]
  },
  {
   "cell_type": "markdown",
   "id": "dc104bf7",
   "metadata": {},
   "source": [
    "#### 2.1.2 – Author VC definition transaction to the public ledger\n",
    "Author a verifiable credential definition transaction to the public ledger to specify the public cryptographic material the Authority agent uses to sign all VCs issued against Schema 1"
   ]
  },
  {
   "cell_type": "code",
   "execution_count": 10,
   "id": "f340cff4",
   "metadata": {},
   "outputs": [],
   "source": [
    "# Tag and group specific credential definitions\n",
    "tag = \"default\"\n",
    "\n",
    "# Make Cred Def support revocation. Credentials issued using this definition will be able to be revoked.\n",
    "# Note: ACAPY_TAILS_SERVER_BASE_URL env var must be properly configured\n",
    "support_revocation = False\n",
    "\n",
    "#TODO: is this where BBS+ needs to be specified?\n",
    "cred_def_city_response = await agent_controller.definitions.write_cred_def(schema_city_id, tag, support_revocation)\n",
    "cred_def_city_id = cred_def_city_response[\"credential_definition_id\"]"
   ]
  },
  {
   "cell_type": "markdown",
   "id": "d6e0a07d",
   "metadata": {},
   "source": [
    "#### 2.1.3 – Store identifiers in dictionary"
   ]
  },
  {
   "cell_type": "code",
   "execution_count": 11,
   "id": "92869a38",
   "metadata": {},
   "outputs": [],
   "source": [
    "city_identifiers = {\"schema_id\": schema_city_id, \"cred_def\": cred_def_city_id}"
   ]
  },
  {
   "cell_type": "markdown",
   "id": "c37fdc71",
   "metadata": {},
   "source": [
    "### 2.2 – Schema 2: VCs for Manufacturers\n",
    "#### 2.2.1 – Define schema"
   ]
  },
  {
   "cell_type": "code",
   "execution_count": 12,
   "id": "799b7963",
   "metadata": {},
   "outputs": [
    {
     "name": "stdout",
     "output_type": "stream",
     "text": [
      "\u001b[1m\u001b[32mSuccessfully wrote certify-manufacturer schema:\u001b[0m\n",
      "{\n",
      "    'schema': {\n",
      "        'attrNames': [\n",
      "            'manufacturerCountry',\n",
      "            'manufacturerName',\n",
      "            'isManufacturer',\n",
      "            'manufacturerCity',\n",
      "        ],\n",
      "        'id': 'XnKQj3iXVNpBBtFcArtxw2:2:certify-manufacturer:0.0.1',\n",
      "        'name': 'certify-manufacturer',\n",
      "        'seqNo': 248534,\n",
      "        'ver': '1.0',\n",
      "        'version': '0.0.1',\n",
      "    },\n",
      "    'schema_id': 'XnKQj3iXVNpBBtFcArtxw2:2:certify-manufacturer:0.0.1',\n",
      "}\n"
     ]
    }
   ],
   "source": [
    "if issue_manufacturer_schema is True:\n",
    "    # Define a unique schema name on the ledger, version the schema (to be able to update it), and define attributes in the schema\n",
    "    schema_name = \"certify-manufacturer\"\n",
    "    schema_version = \"0.0.1\"\n",
    "    attributes = [\"manufacturerName\", \"manufacturerCountry\", \"manufacturerCity\", \"isManufacturer\"]\n",
    "\n",
    "    # Write schema to ledger and await response\n",
    "    schema_manufacturer_id = await fnc.write_schema(agent_controller, schema_name, schema_version, attributes)\n",
    "          \n",
    "else:\n",
    "    schema_manufacturer_id = fnc.get_identifiers()[\"manufacturer_schema_identifiers\"][\"schema_id\"]"
   ]
  },
  {
   "cell_type": "markdown",
   "id": "1d1568ca",
   "metadata": {},
   "source": [
    "#### 2.2.2 – Author VC definition transaction to the public ledger\n",
    "Author a verifiable credential definition transaction to the public ledger to specify the public cryptographic material the Authority agent uses to sign all VCs issued against Schema 2"
   ]
  },
  {
   "cell_type": "code",
   "execution_count": 13,
   "id": "ada6bb54",
   "metadata": {},
   "outputs": [],
   "source": [
    "tag = \"default\" # Tag and group specific credential definitions\n",
    "# Make Cred Def support revocation. Credentials issued using this definition will be able to be revoked.\n",
    "# (Needs proper ACAPY_TRAILS_SERVER_BASE_URL env var configuration)\n",
    "support_revocation = False\n",
    "\n",
    "cred_def_manufacturer_response = await agent_controller.definitions.write_cred_def(schema_manufacturer_id, tag, support_revocation)\n",
    "cred_def_manufacturer_id = cred_def_manufacturer_response[\"credential_definition_id\"]"
   ]
  },
  {
   "cell_type": "markdown",
   "id": "03b1cdf0",
   "metadata": {},
   "source": [
    "#### 2.2.3 – Store identifiers in dictionary"
   ]
  },
  {
   "cell_type": "code",
   "execution_count": 14,
   "id": "e74caff2",
   "metadata": {},
   "outputs": [],
   "source": [
    "manufacturer_identifiers = {\"schema_id\": schema_manufacturer_id, \"cred_def\": cred_def_manufacturer_id}"
   ]
  },
  {
   "cell_type": "markdown",
   "id": "46b14e95",
   "metadata": {},
   "source": [
    "## 3 – Store identifiers for use throughout other agents' notebooks\n",
    "\n",
    "The IDs of the Schema 1nd VC definitions are required whenever the Authority agent issues credentials or constrains acceptable proof requests. For notebooks, it is easier to store the value pair as a string in a cell, and load them into the jupyter store. In real applications, the values should be stored in environment variables or a database.\n",
    "\n",
    "Thus, the identifiers are printed and copied across the main business logic notebooks and stored as variables. This process only needs to be repeated when you ran `./manage.sh start` for the first time, or executed `./manage.sh down` (instead of `./manage.sh stop`).  "
   ]
  },
  {
   "cell_type": "code",
   "execution_count": 15,
   "id": "96fc2b6b",
   "metadata": {},
   "outputs": [
    {
     "name": "stdout",
     "output_type": "stream",
     "text": [
      "\u001b[1m\u001b[32mSuccessfully stored identifiers dictionary in libs/identifiers.json.\u001b[0m (Will be needed in other notebooks and by other agents.)\n",
      "{\n",
      "    'authority_did': 'XnKQj3iXVNpBBtFcArtxw2',\n",
      "    'city_schema_identifiers': {\n",
      "        'cred_def': 'XnKQj3iXVNpBBtFcArtxw2:3:CL:248532:default',\n",
      "        'schema_id': 'XnKQj3iXVNpBBtFcArtxw2:2:certify-city-agency:0.0.1',\n",
      "    },\n",
      "    'manufacturer_schema_identifiers': {\n",
      "        'cred_def': 'XnKQj3iXVNpBBtFcArtxw2:3:CL:248534:default',\n",
      "        'schema_id': 'XnKQj3iXVNpBBtFcArtxw2:2:certify-manufacturer:0.0.1',\n",
      "    },\n",
      "}\n"
     ]
    }
   ],
   "source": [
    "identifiers = {\"city_schema_identifiers\": city_identifiers, \"manufacturer_schema_identifiers\": manufacturer_identifiers, \"authority_did\": authority_did}\n",
    "fnc.store_identifiers(dict(identifiers))"
   ]
  },
  {
   "cell_type": "markdown",
   "id": "e5639ec4",
   "metadata": {},
   "source": [
    "## 4 – Terminate Controller\n"
   ]
  },
  {
   "cell_type": "code",
   "execution_count": 16,
   "id": "46ec221d",
   "metadata": {},
   "outputs": [],
   "source": [
    "await agent_controller.terminate()"
   ]
  },
  {
   "cell_type": "code",
   "execution_count": null,
   "id": "2eed8d83",
   "metadata": {},
   "outputs": [],
   "source": []
  }
 ],
 "metadata": {
  "kernelspec": {
   "display_name": "Python 3 (ipykernel)",
   "language": "python",
   "name": "python3"
  },
  "language_info": {
   "codemirror_mode": {
    "name": "ipython",
    "version": 3
   },
   "file_extension": ".py",
   "mimetype": "text/x-python",
   "name": "python",
   "nbconvert_exporter": "python",
   "pygments_lexer": "ipython3",
   "version": "3.9.5"
  }
 },
 "nbformat": 4,
 "nbformat_minor": 5
}
