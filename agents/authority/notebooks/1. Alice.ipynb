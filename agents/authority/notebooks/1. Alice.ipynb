{
 "cells": [
  {
   "cell_type": "markdown",
   "id": "776c19d9",
   "metadata": {},
   "source": [
    "# ACA-Py & ACC-Py Basic Template\n",
    "\n",
    "## Copy this template into the root folder of your notebook workspace to get started"
   ]
  },
  {
   "cell_type": "markdown",
   "id": "69869712",
   "metadata": {},
   "source": [
    "### Imports"
   ]
  },
  {
   "cell_type": "code",
   "execution_count": 14,
   "id": "6afc43fe",
   "metadata": {},
   "outputs": [],
   "source": [
    "from aries_cloudcontroller import AriesAgentController\n",
    "import os\n",
    "import time\n",
    "from termcolor import colored"
   ]
  },
  {
   "cell_type": "markdown",
   "id": "5c5b2270",
   "metadata": {},
   "source": [
    "### Initialise the Agent Controller"
   ]
  },
  {
   "cell_type": "code",
   "execution_count": 2,
   "id": "1314ac33",
   "metadata": {},
   "outputs": [
    {
     "name": "stdout",
     "output_type": "stream",
     "text": [
      "Initialising a controller with admin api at http://alice-agent:3021 and an api key of alicesSecretApiKey\n"
     ]
    }
   ],
   "source": [
    "api_key = os.getenv(\"ACAPY_ADMIN_API_KEY\")\n",
    "admin_url = os.getenv(\"ADMIN_URL\")\n",
    "\n",
    "print(f\"Initialising a controller with admin api at {admin_url} and an api key of {api_key}\")\n",
    "agent_controller = AriesAgentController(admin_url,api_key)"
   ]
  },
  {
   "cell_type": "markdown",
   "id": "b179048e",
   "metadata": {},
   "source": [
    "### Start a Webhook Server"
   ]
  },
  {
   "cell_type": "code",
   "execution_count": 3,
   "id": "b2eb6390",
   "metadata": {},
   "outputs": [
    {
     "name": "stdout",
     "output_type": "stream",
     "text": [
      "Listening for webhooks from agent at http://0.0.0.0:3010\n"
     ]
    }
   ],
   "source": [
    "webhook_port = int(os.getenv(\"WEBHOOK_PORT\"))\n",
    "webhook_host = \"0.0.0.0\"\n",
    "\n",
    "await agent_controller.init_webhook_server(webhook_host, webhook_port)\n",
    "\n",
    "print(f\"Listening for webhooks from agent at http://{webhook_host}:{webhook_port}\")"
   ]
  },
  {
   "cell_type": "markdown",
   "id": "05847b70",
   "metadata": {},
   "source": [
    "## Register Agent Event Listeners\n",
    "\n",
    "You can see some examples within the webhook_listeners recipe. Copy any relevant cells across and customise as needed."
   ]
  },
  {
   "cell_type": "code",
   "execution_count": 5,
   "id": "53849470",
   "metadata": {},
   "outputs": [],
   "source": [
    "listeners = []\n",
    "\n",
    "# Receive connection messages\n",
    "def connections_handler(payload):\n",
    "    state = payload['state']\n",
    "    connection_id = payload[\"connection_id\"]\n",
    "    their_role = payload[\"their_role\"]\n",
    "    routing_state = payload[\"routing_state\"]\n",
    "    \n",
    "    print(\"----------------------------------------------------------\")\n",
    "    print(\"Connection Webhook Event Received\")\n",
    "    print(\"Connection ID : \", connection_id)\n",
    "    print(\"State : \", state)\n",
    "    print(\"Routing State : \", routing_state)\n",
    "    print(\"Their Role : \", their_role)\n",
    "    print(\"----------------------------------------------------------\")\n",
    "\n",
    "    if state == \"invitation\":\n",
    "        # Your business logic\n",
    "        print(\"invitation\")\n",
    "    elif state == \"request\":\n",
    "        # Your business logic\n",
    "        print(\"request\")\n",
    "\n",
    "    elif state == \"response\":\n",
    "        # Your business logic\n",
    "        print(\"response\")\n",
    "    elif state == \"active\":\n",
    "        # Your business logic\n",
    "        print(colored(\"Connection ID: {0} is now active.\".format(connection_id), \"green\", attrs=[\"bold\"]))\n",
    "\n",
    "\n",
    "\n",
    "connection_listener = {\n",
    "    \"handler\": connections_handler,\n",
    "    \"topic\": \"connections\"\n",
    "}\n",
    "\n",
    "listeners.append(connection_listener)\n",
    "\n",
    "def issuer_handler(payload):\n",
    "    connection_id = payload['connection_id']\n",
    "    exchange_id = payload['credential_exchange_id']\n",
    "    state = payload['state']\n",
    "    role = payload['role']\n",
    "    print(\"\\n---------------------------------------------------\\n\")\n",
    "    print(\"Handle Issue Credential Webhook\")\n",
    "    print(f\"Connection ID : {connection_id}\")\n",
    "    print(f\"Credential exchange ID : {exchange_id}\")\n",
    "    print(\"Agent Protocol Role : \", role)\n",
    "    print(\"Protocol State : \", state )\n",
    "    print(\"\\n---------------------------------------------------\\n\")\n",
    "    \n",
    "    \n",
    "    if state == \"offer_sent\":\n",
    "        proposal = payload[\"credential_proposal_dict\"]\n",
    "        attributes = proposal['credential_proposal']['attributes']\n",
    "        print(f\"Offering : \\n {attributes}\")\n",
    "        ## YOUR LOGIC HERE\n",
    "    elif state == \"request_received\":\n",
    "        print(\"Request for credential received\")\n",
    "        ## YOUR LOGIC HERE\n",
    "    elif state == \"credential_sent\":\n",
    "        print(\"Credential Sent\")\n",
    "        ## YOUR LOGIC HERE\n",
    "    \n",
    "issuer_listener = {\n",
    "    \"topic\": \"issue_credential\",\n",
    "    \"handler\": issuer_handler\n",
    "}\n",
    "\n",
    "listeners.append(issuer_listener)\n",
    "\n",
    "\n",
    "def verifier_proof_handler(payload):\n",
    "    role = payload[\"role\"]\n",
    "    connection_id = payload[\"connection_id\"]\n",
    "    pres_ex_id = payload[\"presentation_exchange_id\"]\n",
    "    state = payload[\"state\"]\n",
    "    print(\"\\n---------------------------------------------------------------------\\n\")\n",
    "    print(\"Handle present-proof\")\n",
    "    print(\"Connection ID : \", connection_id)\n",
    "    print(\"Presentation Exchange ID : \", pres_ex_id)\n",
    "    print(\"Protocol State : \", state)\n",
    "    print(\"Agent Role : \", role)\n",
    "    print(\"Initiator : \", payload[\"initiator\"])\n",
    "    print(\"\\n---------------------------------------------------------------------\\n\")\n",
    "    \n",
    "\n",
    "    if state == \"request_sent\":\n",
    "        print(\"Presentation Request\\n\")\n",
    "        print(payload[\"presentation_request\"])\n",
    "        print(\"\\nThe presentation request is encoded in base64 and packaged into a DIDComm Message\\n\")\n",
    "        print(payload[\"presentation_request_dict\"])\n",
    "        print(\"\\nNote the type defines the protocol present-proof and the message request-presentation\\n\")\n",
    "        print(payload[\"presentation_request_dict\"][\"@type\"])\n",
    "    elif state == \"presentation_received\":\n",
    "        print(\"Presentation Received\")\n",
    "    else:\n",
    "        print(f\"Presentation Verified? {payload['verified']} \\n\")\n",
    "        \n",
    "verifier_listener = {\n",
    "    \"topic\": \"present_proof\",\n",
    "    \"handler\": verifier_proof_handler\n",
    "}\n",
    "\n",
    "listeners.append(verifier_listener)\n",
    "\n",
    "agent_controller.register_listeners(listeners)"
   ]
  },
  {
   "cell_type": "markdown",
   "id": "29e7da15",
   "metadata": {},
   "source": [
    "## Store Schema and Cred Def ID's"
   ]
  },
  {
   "cell_type": "code",
   "execution_count": 6,
   "id": "ad5c2efc",
   "metadata": {},
   "outputs": [],
   "source": [
    "schema_id=\"J1y6c8mp32uBxVHkRiLM71:2:aca-acc-jupyter-plyaground:0.0.1\"\n",
    "cred_def_id=\"J1y6c8mp32uBxVHkRiLM71:3:CL:216776:default\""
   ]
  },
  {
   "cell_type": "markdown",
   "id": "e6f9247b",
   "metadata": {},
   "source": [
    "## Accept Invitation\n",
    "\n",
    "Copy an invitation object from another agent playing the role inviter (see the inviter_template recipe)"
   ]
  },
  {
   "cell_type": "code",
   "execution_count": 8,
   "id": "9faeed21",
   "metadata": {},
   "outputs": [],
   "source": [
    "invitation = {'@type': 'did:sov:BzCbsNYhMrjHiqZDTUASHg;spec/connections/1.0/invitation', '@id': 'e743b38b-fab7-4315-92a7-1b7b6cab0f95', 'recipientKeys': ['36CZQj9EpiGbPG926PU7GrnApdqJgpGE91dKQHWHEzZS'], 'serviceEndpoint': 'https://588d5381c2e8.ngrok.io', 'label': 'Bob'}\n"
   ]
  },
  {
   "cell_type": "code",
   "execution_count": 9,
   "id": "174a5cb5",
   "metadata": {},
   "outputs": [
    {
     "name": "stdout",
     "output_type": "stream",
     "text": [
      "----------------------------------------------------------\n",
      "Connection Webhook Event Received\n",
      "Connection ID :  48a27664-2266-4382-9001-ced139060721\n",
      "State :  invitation\n",
      "Routing State :  none\n",
      "Their Role :  inviter\n",
      "----------------------------------------------------------\n",
      "invitation\n"
     ]
    }
   ],
   "source": [
    "auto_accept=\"false\"\n",
    "alias=None\n",
    "\n",
    "invite_response = await agent_controller.connections.receive_invitation(invitation, alias, auto_accept)\n",
    "connection_id = invite_response[\"connection_id\"]"
   ]
  },
  {
   "cell_type": "code",
   "execution_count": 10,
   "id": "a199813d",
   "metadata": {},
   "outputs": [
    {
     "name": "stdout",
     "output_type": "stream",
     "text": [
      "----------------------------------------------------------\n",
      "Connection Webhook Event Received\n",
      "Connection ID :  48a27664-2266-4382-9001-ced139060721\n",
      "State :  request\n",
      "Routing State :  none\n",
      "Their Role :  inviter\n",
      "----------------------------------------------------------\n",
      "request\n",
      "----------------------------------------------------------\n",
      "Connection Webhook Event Received\n",
      "Connection ID :  48a27664-2266-4382-9001-ced139060721\n",
      "State :  response\n",
      "Routing State :  none\n",
      "Their Role :  inviter\n",
      "----------------------------------------------------------\n",
      "response\n",
      "----------------------------------------------------------\n",
      "Connection Webhook Event Received\n",
      "Connection ID :  48a27664-2266-4382-9001-ced139060721\n",
      "State :  active\n",
      "Routing State :  none\n",
      "Their Role :  inviter\n",
      "----------------------------------------------------------\n",
      "\u001b[1m\u001b[32mConnection ID: 48a27664-2266-4382-9001-ced139060721 is now active.\u001b[0m\n"
     ]
    }
   ],
   "source": [
    "# Label for the connection\n",
    "my_label = None\n",
    "# Endpoint you expect to recieve messages at\n",
    "my_endpoint = None\n",
    "\n",
    "accept_response = await agent_controller.connections.accept_invitation(connection_id, my_label, my_endpoint)"
   ]
  },
  {
   "cell_type": "markdown",
   "id": "5aacb749",
   "metadata": {},
   "source": [
    "## Populate Credential Attributes\n",
    "\n",
    "Before you can issue a credential, you must define the values that will be issued in this credential. The attribute names **MUST** match those in the schem identified by the <schema_id> value.\n",
    "\n",
    "Make sure to change all code enclosed with <>.\n"
   ]
  },
  {
   "cell_type": "code",
   "execution_count": 11,
   "id": "4e1ad552",
   "metadata": {},
   "outputs": [
    {
     "name": "stdin",
     "output_type": "stream",
     "text": [
      "Whatever you want. This can be any string. Including a serialized JSON, or a base64 encoded image:  sOME DATA\n"
     ]
    },
    {
     "name": "stdout",
     "output_type": "stream",
     "text": [
      "[{'name': 'example', 'value': 'sOME DATA'}]\n"
     ]
    }
   ],
   "source": [
    "example=input(\"Whatever you want. This can be any string. Including a serialized JSON, or a base64 encoded image: \")\n",
    "credential_attributes = [\n",
    "    {\"name\": \"example\", \"value\": example},\n",
    "]\n",
    "print(credential_attributes)"
   ]
  },
  {
   "cell_type": "markdown",
   "id": "f8f853ef",
   "metadata": {},
   "source": [
    "## Send Credential\n",
    "\n",
    "This is the easiest way to issue a credential because it automates the rest of the protocol steps. \n",
    "\n",
    "Note: The `connection_id` must be in the active state before a credential can be sent."
   ]
  },
  {
   "cell_type": "code",
   "execution_count": 12,
   "id": "dff3252d",
   "metadata": {},
   "outputs": [
    {
     "name": "stdout",
     "output_type": "stream",
     "text": [
      "\n",
      "---------------------------------------------------\n",
      "\n",
      "Handle Issue Credential Webhook\n",
      "Connection ID : 48a27664-2266-4382-9001-ced139060721\n",
      "Credential exchange ID : 05efd17c-dab7-4ae4-b232-9a392db07f7f\n",
      "Agent Protocol Role :  issuer\n",
      "Protocol State :  offer_sent\n",
      "\n",
      "---------------------------------------------------\n",
      "\n",
      "Offering : \n",
      " [{'name': 'example', 'value': 'sOME DATA'}]\n",
      "\n",
      "---------------------------------------------------\n",
      "\n",
      "Handle Issue Credential Webhook\n",
      "Connection ID : 48a27664-2266-4382-9001-ced139060721\n",
      "Credential exchange ID : 05efd17c-dab7-4ae4-b232-9a392db07f7f\n",
      "Agent Protocol Role :  issuer\n",
      "Protocol State :  request_received\n",
      "\n",
      "---------------------------------------------------\n",
      "\n",
      "Request for credential received\n",
      "\n",
      "---------------------------------------------------\n",
      "\n",
      "Handle Issue Credential Webhook\n",
      "Connection ID : 48a27664-2266-4382-9001-ced139060721\n",
      "Credential exchange ID : 05efd17c-dab7-4ae4-b232-9a392db07f7f\n",
      "Agent Protocol Role :  issuer\n",
      "Protocol State :  credential_issued\n",
      "\n",
      "---------------------------------------------------\n",
      "\n"
     ]
    }
   ],
   "source": [
    "# Do you want the ACA-Py instance to trace it's processes (for testing/timing analysis)\n",
    "trace = False\n",
    "comment = \"\"\n",
    "# Remove credential record after issued?\n",
    "auto_remove = True\n",
    "\n",
    "# Change <schema_id> and <cred_def_id> to correct pair. Cred_def_id must identify a definition to which your agent has corresponding private issuing key.\n",
    "send_cred_response = await agent_controller.issuer.send_credential(connection_id, schema_id, cred_def_id, credential_attributes, comment, auto_remove, trace)\n",
    "\n",
    "# Note last three args are optional.\n",
    "# await agent_controller.issuer.send_credential(connection_id, <schema_id>, <cred_def_id, credential_attributes)"
   ]
  },
  {
   "cell_type": "markdown",
   "id": "6a584a94",
   "metadata": {},
   "source": [
    "## Now Request Proof of Credential Issued\n"
   ]
  },
  {
   "cell_type": "code",
   "execution_count": 23,
   "id": "01197150",
   "metadata": {},
   "outputs": [],
   "source": [
    "# We add a constraint that the attribute must originate from this schema\n",
    "\n",
    "# trusted_issuer_did = \"<SOME ISSUER DID ON INDY NETWORK>\"\n",
    "\n",
    "# cred_def_id = \"<SOME CRED DEF>\"\n",
    "\n",
    "# Define the list of attributes and restrictions under which each attribute was issued that a prover must satisfy with a presentation\n",
    "# NOTE: if identifying a schema or credential definition then the attribute name must be contained within the corresponding schema.\n",
    "req_attrs = [\n",
    "    {\"name\": \"example\", \"restrictions\": [{\"schema_id\": schema_id, \"cred_def_id\": cred_def_id}]},\n",
    "]\n",
    "\n",
    "# We could extend this to request the name attribute aswell if we wanted.\n",
    "\n",
    "\n",
    "indy_proof_request = {\n",
    "    \"name\": \"Proof of Data Owner\",\n",
    "    \"version\": \"1.0\",\n",
    "    \"requested_attributes\": {\n",
    "        # They generally follow this uuid pattern. Unique identifier for attribute within context of this proof request\n",
    "        # Note that req_attr['name'] gets the attribute name of each object. E.g. domain and name in this case\n",
    "        f\"0_{req_attr['name']}_uuid\":\n",
    "        req_attr for req_attr in req_attrs\n",
    "    },\n",
    "    # Predicates allow us to specify range proofs or set membership on attributes. For example greater than 10.\n",
    "    # We will ignore these for now.\n",
    "    \"requested_predicates\": {\n",
    "#         f\"0_{req_pred['name']}_GE_uuid\":\n",
    "#         req_pred for req_pred in req_preds\n",
    "    },\n",
    "    # You can also request the entire proof request be non-revoked\n",
    "#     \"non_revoked\":  {\"to\": int(time.time())}\n",
    "}"
   ]
  },
  {
   "cell_type": "code",
   "execution_count": 24,
   "id": "18514237",
   "metadata": {},
   "outputs": [
    {
     "name": "stdout",
     "output_type": "stream",
     "text": [
      "\n",
      "---------------------------------------------------------------------\n",
      "\n",
      "Handle present-proof\n",
      "Connection ID :  48a27664-2266-4382-9001-ced139060721\n",
      "Presentation Exchange ID :  edc84101-5d86-4e8a-a0a1-6a7cb2127675\n",
      "Protocol State :  request_sent\n",
      "Agent Role :  verifier\n",
      "Initiator :  self\n",
      "\n",
      "---------------------------------------------------------------------\n",
      "\n",
      "Presentation Request\n",
      "\n",
      "{'name': 'Proof of Data Owner', 'version': '1.0', 'requested_attributes': {'0_example_uuid': {'name': 'example', 'restrictions': [{'schema_id': 'J1y6c8mp32uBxVHkRiLM71:2:aca-acc-jupyter-plyaground:0.0.1', 'cred_def_id': 'J1y6c8mp32uBxVHkRiLM71:3:CL:216776:default'}]}}, 'requested_predicates': {}, 'nonce': '43448558002334650989233'}\n",
      "\n",
      "The presentation request is encoded in base64 and packaged into a DIDComm Message\n",
      "\n",
      "{'@type': 'did:sov:BzCbsNYhMrjHiqZDTUASHg;spec/present-proof/1.0/request-presentation', '@id': 'bb9dc7d4-4a59-4e5f-80c7-fca8eac74eba', 'request_presentations~attach': [{'@id': 'libindy-request-presentation-0', 'mime-type': 'application/json', 'data': {'base64': 'eyJuYW1lIjogIlByb29mIG9mIERhdGEgT3duZXIiLCAidmVyc2lvbiI6ICIxLjAiLCAicmVxdWVzdGVkX2F0dHJpYnV0ZXMiOiB7IjBfZXhhbXBsZV91dWlkIjogeyJuYW1lIjogImV4YW1wbGUiLCAicmVzdHJpY3Rpb25zIjogW3sic2NoZW1hX2lkIjogIkoxeTZjOG1wMzJ1QnhWSGtSaUxNNzE6MjphY2EtYWNjLWp1cHl0ZXItcGx5YWdyb3VuZDowLjAuMSIsICJjcmVkX2RlZl9pZCI6ICJKMXk2YzhtcDMydUJ4VkhrUmlMTTcxOjM6Q0w6MjE2Nzc2OmRlZmF1bHQifV19fSwgInJlcXVlc3RlZF9wcmVkaWNhdGVzIjoge30sICJub25jZSI6ICI0MzQ0ODU1ODAwMjMzNDY1MDk4OTIzMyJ9'}}], 'comment': 'Some optional comment'}\n",
      "\n",
      "Note the type defines the protocol present-proof and the message request-presentation\n",
      "\n",
      "did:sov:BzCbsNYhMrjHiqZDTUASHg;spec/present-proof/1.0/request-presentation\n",
      "\n",
      "---------------------------------------------------\n",
      "\n",
      "Handle Issue Credential Webhook\n",
      "Connection ID : 48a27664-2266-4382-9001-ced139060721\n",
      "Credential exchange ID : 05efd17c-dab7-4ae4-b232-9a392db07f7f\n",
      "Agent Protocol Role :  issuer\n",
      "Protocol State :  credential_acked\n",
      "\n",
      "---------------------------------------------------\n",
      "\n",
      "\n",
      "---------------------------------------------------------------------\n",
      "\n",
      "Handle present-proof\n",
      "Connection ID :  48a27664-2266-4382-9001-ced139060721\n",
      "Presentation Exchange ID :  edc84101-5d86-4e8a-a0a1-6a7cb2127675\n",
      "Protocol State :  presentation_received\n",
      "Agent Role :  verifier\n",
      "Initiator :  self\n",
      "\n",
      "---------------------------------------------------------------------\n",
      "\n",
      "Presentation Received\n"
     ]
    }
   ],
   "source": [
    "proof_request = {\n",
    "    \"comment\": \"Some optional comment\",\n",
    "    \"connection_id\": connection_id,\n",
    "    \"proof_request\": indy_proof_request,\n",
    "    # Do you want your agent to trace this request (for debugging)\n",
    "    \"trace\": False\n",
    "}\n",
    "\n",
    "proof_request_response = await agent_controller.proofs.send_request(proof_request)"
   ]
  },
  {
   "cell_type": "markdown",
   "id": "7d62d3a1",
   "metadata": {},
   "source": [
    "## Get Presentation Exchange Record\n",
    "\n",
    "This record keeps track of the current state of the presentation protocol, which must be in the `presentation_received` state before the presentation can be verified.\n",
    "\n",
    "Note: This could also happen in the webhook logic."
   ]
  },
  {
   "cell_type": "code",
   "execution_count": 26,
   "id": "275d5f3c",
   "metadata": {},
   "outputs": [],
   "source": [
    "presentation_exchange_id = proof_request_response[\"presentation_exchange_id\"]"
   ]
  },
  {
   "cell_type": "markdown",
   "id": "b6509207",
   "metadata": {},
   "source": [
    "## Verify Presentation\n",
    "\n",
    "Only if it is in the right state. \n",
    "\n",
    "Note: Verifying a presentation moves the state to `verified` regardless of whether the presentation request has been satisfied. To check this you must refer to the `verified` property on the response."
   ]
  },
  {
   "cell_type": "code",
   "execution_count": 27,
   "id": "fb87b776",
   "metadata": {},
   "outputs": [
    {
     "name": "stdout",
     "output_type": "stream",
     "text": [
      "\n",
      "---------------------------------------------------------------------\n",
      "\n",
      "Handle present-proof\n",
      "Connection ID :  48a27664-2266-4382-9001-ced139060721\n",
      "Presentation Exchange ID :  edc84101-5d86-4e8a-a0a1-6a7cb2127675\n",
      "Protocol State :  verified\n",
      "Agent Role :  verifier\n",
      "Initiator :  self\n",
      "\n",
      "---------------------------------------------------------------------\n",
      "\n",
      "Presentation Verified? true \n",
      "\n"
     ]
    }
   ],
   "source": [
    "verified_response = await agent_controller.proofs.verify_presentation(presentation_exchange_id)\n",
    "\n",
    "verified = verified_response[\"verified\"]"
   ]
  },
  {
   "cell_type": "markdown",
   "id": "c6c07422",
   "metadata": {
    "tags": []
   },
   "source": [
    "## Parsing Disclosed Attribute Values from Presentation\n",
    "\n",
    "A presentation object contains three classes of attributes. \n",
    "* Revealed Attributes: Attributes that were signed by an issuer and have been revealed in the presentation process\n",
    "* Self Attested Attributes: Attributes that the prover has self attested to in the presentation object.\n",
    "* Predicate proofs: Attribute values that have been proven to meet some statement. (TODO: Show how you can parse this information)"
   ]
  },
  {
   "cell_type": "markdown",
   "id": "d6cc83be",
   "metadata": {},
   "source": [
    "### Parse Revealed Attributes"
   ]
  },
  {
   "cell_type": "code",
   "execution_count": 32,
   "id": "53970f93",
   "metadata": {},
   "outputs": [
    {
     "name": "stdout",
     "output_type": "stream",
     "text": [
      "\n",
      "Attribute :  {'sub_proof_index': 0, 'raw': 'sOME DATA', 'encoded': '54601064853684362018060759795266104659214728646083330886433293175925246179662'}\n",
      "Attribute Name :  Raw Value\n",
      "example   :  sOME DATA\n"
     ]
    }
   ],
   "source": [
    "for (name, val) in verified_response['presentation']['requested_proof']['revealed_attrs'].items():\n",
    "    ## This is the actual data that you want. It's a little hidden\n",
    "    print(\"\\nAttribute : \", val)\n",
    "    \n",
    "    attr_name = verified_response[\"presentation_request\"][\"requested_attributes\"][name][\"name\"]\n",
    "    print(\"Attribute Name :  Raw Value\")\n",
    "    print(f\"{attr_name}   :  {val['raw']}\")"
   ]
  },
  {
   "cell_type": "markdown",
   "id": "24e119a0",
   "metadata": {},
   "source": [
    "## Terminate Controller\n",
    "\n",
    "Whenever you have finished with this notebook, be sure to terminate the controller. This is especially important if your business logic runs across multiple notebooks."
   ]
  },
  {
   "cell_type": "code",
   "execution_count": null,
   "id": "7d88721e",
   "metadata": {},
   "outputs": [],
   "source": [
    "await agent_controller.terminate()"
   ]
  },
  {
   "cell_type": "code",
   "execution_count": null,
   "id": "12d87d7e",
   "metadata": {},
   "outputs": [],
   "source": []
  }
 ],
 "metadata": {
  "kernelspec": {
   "display_name": "Python 3",
   "language": "python",
   "name": "python3"
  },
  "language_info": {
   "codemirror_mode": {
    "name": "ipython",
    "version": 3
   },
   "file_extension": ".py",
   "mimetype": "text/x-python",
   "name": "python",
   "nbconvert_exporter": "python",
   "pygments_lexer": "ipython3",
   "version": "3.7.6"
  }
 },
 "nbformat": 4,
 "nbformat_minor": 5
}
