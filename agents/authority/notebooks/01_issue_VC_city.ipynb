{
 "cells": [
  {
   "cell_type": "markdown",
   "id": "4779799c",
   "metadata": {},
   "source": [
    "# Issue a VC to the City Agent"
   ]
  },
  {
   "cell_type": "code",
   "execution_count": 1,
   "id": "58d0d9c8",
   "metadata": {},
   "outputs": [
    {
     "data": {
      "application/javascript": [
       "document.title='Authority Agent'\n"
      ],
      "text/plain": [
       "<IPython.core.display.Javascript object>"
      ]
     },
     "metadata": {},
     "output_type": "display_data"
    }
   ],
   "source": [
    "%%javascript\n",
    "document.title='Authority Agent'"
   ]
  },
  {
   "cell_type": "markdown",
   "id": "0e6145be",
   "metadata": {},
   "source": [
    "#### Imports"
   ]
  },
  {
   "cell_type": "code",
   "execution_count": 2,
   "id": "8e8ac0f5",
   "metadata": {},
   "outputs": [
    {
     "name": "stdout",
     "output_type": "stream",
     "text": [
      "IPython autoawait is `on`, and set to use `asyncio`\n"
     ]
    }
   ],
   "source": [
    "# autowait: allows futures and coroutines in the REPL to be awaited\n",
    "%autoawait \n",
    "from aries_cloudcontroller import AriesAgentController\n",
    "import asyncio\n",
    "import os\n",
    "from pprintpp import pprint\n",
    "from termcolor import colored"
   ]
  },
  {
   "cell_type": "markdown",
   "id": "7239f8ab",
   "metadata": {},
   "source": [
    "#### Get schema and cred def identifiers defined in `00_init_authority_as_issuingAuthority.ipynb`"
   ]
  },
  {
   "cell_type": "code",
   "execution_count": 3,
   "id": "f106981e",
   "metadata": {},
   "outputs": [
    {
     "name": "stdout",
     "output_type": "stream",
     "text": [
      "--- LOAD VARIABLES FROM JUPYTERLAB STORE ---\n",
      "schema_city_id: BQmsjXtsjzzmTtdwQg5Ftn:2:certify-city-agency:0.0.1\n",
      "cred_def_city_id: BQmsjXtsjzzmTtdwQg5Ftn:3:CL:239757:default\n",
      "schema_manufacturer_id: BQmsjXtsjzzmTtdwQg5Ftn:2:certify-manufacturer:0.0.1\n",
      "cred_def_manufacturer_id: BQmsjXtsjzzmTtdwQg5Ftn:3:CL:239761:default\n"
     ]
    }
   ],
   "source": [
    "# If the identifiers are not stored for some reason\n",
    "try:\n",
    "    # Load variables – assuming they have been written to the store in a previous notebook\n",
    "    print(\"--- LOAD VARIABLES FROM JUPYTERLAB STORE ---\")\n",
    "    \n",
    "    %store -r schema_city_id\n",
    "    %store -r cred_def_city_id\n",
    "    %store -r schema_manufacturer_id\n",
    "    %store -r cred_def_manufacturer_id\n",
    "    \n",
    "    print(f\"schema_city_id: {schema_city_id}\")\n",
    "    print(f\"cred_def_city_id: {cred_def_city_id}\")\n",
    "    print(f\"schema_manufacturer_id: {schema_manufacturer_id}\")\n",
    "    print(f\"cred_def_manufacturer_id: {cred_def_manufacturer_id}\")\n",
    "    \n",
    "except Exception as e:\n",
    "    \n",
    "    print(\"--- DEFINE VARIABLES FROM MANUALLY COPIED identifiers DICT ---\")\n",
    "    \n",
    "    # Copy an updated version if necessary\n",
    "    identifiers = {\n",
    "        'city_schema_identifiers': {\n",
    "            'cred_def': 'BQmsjXtsjzzmTtdwQg5Ftn:3:CL:239757:default',\n",
    "            'schema_id': 'BQmsjXtsjzzmTtdwQg5Ftn:2:certify-city-agency:0.0.1',\n",
    "        },\n",
    "        'manufacturer_schema_identifiers': {\n",
    "            'cred_def': 'BQmsjXtsjzzmTtdwQg5Ftn:3:CL:239761:default',\n",
    "            'schema_id': 'BQmsjXtsjzzmTtdwQg5Ftn:2:certify-manufacturer:0.0.1',\n",
    "        },\n",
    "    }\n",
    "\n",
    "    # Get city schema identifiers\n",
    "    schema_city_id = identifiers[\"city_schema_identifiers\"][\"schema_id\"]\n",
    "    cred_def_city_id = identifiers[\"city_schema_identifiers\"][\"cred_def\"]\n",
    "\n",
    "    # Get manufacturer schema identifiers\n",
    "    schema_manufacturer_id = identifiers[\"manufacturer_schema_identifiers\"][\"schema_id\"]\n",
    "    cred_def_manufacturer_id = identifiers[\"manufacturer_schema_identifiers\"][\"cred_def\"]\n",
    "\n",
    "    # Load variables to Jupyter store\n",
    "    %store schema_city_id\n",
    "    %store cred_def_city_id\n",
    "    %store schema_manufacturer_id\n",
    "    %store cred_def_manufacturer_id"
   ]
  },
  {
   "cell_type": "markdown",
   "id": "e8f92cc4",
   "metadata": {},
   "source": [
    "#### Init agent controller of Authority"
   ]
  },
  {
   "cell_type": "code",
   "execution_count": 4,
   "id": "d1afdd26",
   "metadata": {},
   "outputs": [
    {
     "name": "stdout",
     "output_type": "stream",
     "text": [
      "Initialising a controller with admin api at http://authority-agent:3021 and an api key of adminApiKey\n"
     ]
    }
   ],
   "source": [
    "api_key = os.getenv(\"ACAPY_ADMIN_API_KEY\")\n",
    "admin_url = os.getenv(\"ADMIN_URL\")\n",
    "\n",
    "print(f\"Initialising a controller with admin api at {admin_url} and an api key of {api_key}\")\n",
    "agent_controller = AriesAgentController(admin_url,api_key)"
   ]
  },
  {
   "cell_type": "markdown",
   "id": "b80f78a0",
   "metadata": {},
   "source": [
    "## 1 – Init Webhook Server and register Event Listeners for it\n",
    "#### 1.1 – Start webhook server\n",
    "Start a webhook server to be able to communicate with other agents"
   ]
  },
  {
   "cell_type": "code",
   "execution_count": 5,
   "id": "47263ca7",
   "metadata": {},
   "outputs": [
    {
     "name": "stderr",
     "output_type": "stream",
     "text": [
      "Listening webhooks failed! OSError(98, \"error while attempting to bind on address ('0.0.0.0', 3010): address already in use\") occurred.\n",
      "Listening webhooks failed! OSError(98, \"error while attempting to bind on address ('0.0.0.0', 3010): address already in use\") occurred.\n"
     ]
    },
    {
     "ename": "Exception",
     "evalue": "OSError(98, \"error while attempting to bind on address ('0.0.0.0', 3010): address already in use\")",
     "output_type": "error",
     "traceback": [
      "\u001b[0;31m---------------------------------------------------------------------------\u001b[0m",
      "\u001b[0;31mOSError\u001b[0m                                   Traceback (most recent call last)",
      "\u001b[0;32m/opt/conda/lib/python3.9/site-packages/aries_cloudcontroller/aries_controller.py\u001b[0m in \u001b[0;36minit_webhook_server\u001b[0;34m(self, webhook_host, webhook_port, webhook_base)\u001b[0m\n\u001b[1;32m     63\u001b[0m             )\n\u001b[0;32m---> 64\u001b[0;31m             \u001b[0;32mawait\u001b[0m \u001b[0mself\u001b[0m\u001b[0;34m.\u001b[0m\u001b[0mwebhook_server\u001b[0m\u001b[0;34m.\u001b[0m\u001b[0mlisten_webhooks\u001b[0m\u001b[0;34m(\u001b[0m\u001b[0;34m)\u001b[0m\u001b[0;34m\u001b[0m\u001b[0;34m\u001b[0m\u001b[0m\n\u001b[0m\u001b[1;32m     65\u001b[0m             logger.info(\n",
      "\u001b[0;32m/opt/conda/lib/python3.9/site-packages/aries_cloudcontroller/aries_webhook_server.py\u001b[0m in \u001b[0;36mlisten_webhooks\u001b[0;34m(self)\u001b[0m\n\u001b[1;32m     55\u001b[0m             )\n\u001b[0;32m---> 56\u001b[0;31m             \u001b[0;32mawait\u001b[0m \u001b[0mself\u001b[0m\u001b[0;34m.\u001b[0m\u001b[0mwebhook_site\u001b[0m\u001b[0;34m.\u001b[0m\u001b[0mstart\u001b[0m\u001b[0;34m(\u001b[0m\u001b[0;34m)\u001b[0m\u001b[0;34m\u001b[0m\u001b[0;34m\u001b[0m\u001b[0m\n\u001b[0m\u001b[1;32m     57\u001b[0m             logger.info(\n",
      "\u001b[0;32m/opt/conda/lib/python3.9/site-packages/aiohttp/web_runner.py\u001b[0m in \u001b[0;36mstart\u001b[0;34m(self)\u001b[0m\n\u001b[1;32m    120\u001b[0m         \u001b[0;32massert\u001b[0m \u001b[0mserver\u001b[0m \u001b[0;32mis\u001b[0m \u001b[0;32mnot\u001b[0m \u001b[0;32mNone\u001b[0m\u001b[0;34m\u001b[0m\u001b[0;34m\u001b[0m\u001b[0m\n\u001b[0;32m--> 121\u001b[0;31m         self._server = await loop.create_server(\n\u001b[0m\u001b[1;32m    122\u001b[0m             \u001b[0mserver\u001b[0m\u001b[0;34m,\u001b[0m\u001b[0;34m\u001b[0m\u001b[0;34m\u001b[0m\u001b[0m\n",
      "\u001b[0;32m/opt/conda/lib/python3.9/asyncio/base_events.py\u001b[0m in \u001b[0;36mcreate_server\u001b[0;34m(self, protocol_factory, host, port, family, flags, sock, backlog, ssl, reuse_address, reuse_port, ssl_handshake_timeout, start_serving)\u001b[0m\n\u001b[1;32m   1493\u001b[0m                     \u001b[0;32mexcept\u001b[0m \u001b[0mOSError\u001b[0m \u001b[0;32mas\u001b[0m \u001b[0merr\u001b[0m\u001b[0;34m:\u001b[0m\u001b[0;34m\u001b[0m\u001b[0;34m\u001b[0m\u001b[0m\n\u001b[0;32m-> 1494\u001b[0;31m                         raise OSError(err.errno, 'error while attempting '\n\u001b[0m\u001b[1;32m   1495\u001b[0m                                       \u001b[0;34m'to bind on address %r: %s'\u001b[0m\u001b[0;34m\u001b[0m\u001b[0;34m\u001b[0m\u001b[0m\n",
      "\u001b[0;31mOSError\u001b[0m: [Errno 98] error while attempting to bind on address ('0.0.0.0', 3010): address already in use",
      "\nDuring handling of the above exception, another exception occurred:\n",
      "\u001b[0;31mException\u001b[0m                                 Traceback (most recent call last)",
      "\u001b[0;32m/tmp/ipykernel_67/1955642660.py\u001b[0m in \u001b[0;36m<module>\u001b[0;34m\u001b[0m\n\u001b[1;32m      4\u001b[0m \u001b[0;34m\u001b[0m\u001b[0m\n\u001b[1;32m      5\u001b[0m \u001b[0;31m# Listen on webhook server\u001b[0m\u001b[0;34m\u001b[0m\u001b[0;34m\u001b[0m\u001b[0;34m\u001b[0m\u001b[0m\n\u001b[0;32m----> 6\u001b[0;31m \u001b[0;32mawait\u001b[0m \u001b[0magent_controller\u001b[0m\u001b[0;34m.\u001b[0m\u001b[0minit_webhook_server\u001b[0m\u001b[0;34m(\u001b[0m\u001b[0mwebhook_host\u001b[0m\u001b[0;34m,\u001b[0m \u001b[0mwebhook_port\u001b[0m\u001b[0;34m)\u001b[0m\u001b[0;34m\u001b[0m\u001b[0;34m\u001b[0m\u001b[0m\n\u001b[0m\u001b[1;32m      7\u001b[0m \u001b[0mprint\u001b[0m\u001b[0;34m(\u001b[0m\u001b[0;34mf\"Listening for webhooks from agent at http://{webhook_host}:{webhook_port}\"\u001b[0m\u001b[0;34m)\u001b[0m\u001b[0;34m\u001b[0m\u001b[0;34m\u001b[0m\u001b[0m\n",
      "\u001b[0;32m/opt/conda/lib/python3.9/site-packages/aries_cloudcontroller/aries_controller.py\u001b[0m in \u001b[0;36minit_webhook_server\u001b[0;34m(self, webhook_host, webhook_port, webhook_base)\u001b[0m\n\u001b[1;32m     68\u001b[0m         \u001b[0;32mexcept\u001b[0m \u001b[0mException\u001b[0m \u001b[0;32mas\u001b[0m \u001b[0mexc\u001b[0m\u001b[0;34m:\u001b[0m\u001b[0;34m\u001b[0m\u001b[0;34m\u001b[0m\u001b[0m\n\u001b[1;32m     69\u001b[0m             \u001b[0mlogger\u001b[0m\u001b[0;34m.\u001b[0m\u001b[0merror\u001b[0m\u001b[0;34m(\u001b[0m\u001b[0;34mf\"Listening webhooks failed! {exc!r} occurred.\"\u001b[0m\u001b[0;34m)\u001b[0m\u001b[0;34m\u001b[0m\u001b[0;34m\u001b[0m\u001b[0m\n\u001b[0;32m---> 70\u001b[0;31m             \u001b[0;32mraise\u001b[0m \u001b[0mException\u001b[0m\u001b[0;34m(\u001b[0m\u001b[0;34mf\"{exc!r}\"\u001b[0m\u001b[0;34m)\u001b[0m\u001b[0;34m\u001b[0m\u001b[0;34m\u001b[0m\u001b[0m\n\u001b[0m",
      "\u001b[0;31mException\u001b[0m: OSError(98, \"error while attempting to bind on address ('0.0.0.0', 3010): address already in use\")"
     ]
    }
   ],
   "source": [
    "# Setup\n",
    "webhook_port = int(os.getenv(\"WEBHOOK_PORT\"))\n",
    "webhook_host = \"0.0.0.0\"\n",
    "\n",
    "# Listen on webhook server\n",
    "await agent_controller.init_webhook_server(webhook_host, webhook_port)\n",
    "print(f\"Listening for webhooks from agent at http://{webhook_host}:{webhook_port}\")"
   ]
  },
  {
   "cell_type": "markdown",
   "id": "8ca7bdd9",
   "metadata": {},
   "source": [
    "#### 1.2 – Define listeners\n",
    "Define listeners that are triggered when something happens on the webhook server"
   ]
  },
  {
   "cell_type": "code",
   "execution_count": 6,
   "id": "9650adbf",
   "metadata": {},
   "outputs": [],
   "source": [
    "# Receive connection messages\n",
    "def connections_handler(payload):\n",
    "    state = payload['state']\n",
    "    connection_id = payload[\"connection_id\"]\n",
    "    their_role = payload[\"their_role\"]\n",
    "    routing_state = payload[\"routing_state\"]\n",
    "    \n",
    "    print(\"----------------------------------------------------------\")\n",
    "    print(\"Connection Webhook Event Received\")\n",
    "    print(\"Connection ID : \", connection_id)\n",
    "    print(\"State : \", state)\n",
    "    print(\"Routing State : \", routing_state)\n",
    "    print(\"Their Role : \", their_role)\n",
    "    print(\"----------------------------------------------------------\")\n",
    "\n",
    "    if state == \"invitation\":\n",
    "        # Your business logic\n",
    "        print(\"invitation\")\n",
    "    elif state == \"request\":\n",
    "        # Your business logic\n",
    "        print(\"request\")\n",
    "\n",
    "    elif state == \"response\":\n",
    "        # Your business logic\n",
    "        print(\"response\")\n",
    "    elif state == \"active\":\n",
    "        # Your business logic\n",
    "        print(colored(\"Connection ID: {0} is now active.\".format(connection_id), \"green\", attrs=[\"bold\"]))\n",
    "\n",
    "\n",
    "def issuer_handler(payload):\n",
    "    connection_id = payload['connection_id']\n",
    "    exchange_id = payload['credential_exchange_id']\n",
    "    state = payload['state']\n",
    "    role = payload['role']\n",
    "    print(\"\\n---------------------------------------------------\\n\")\n",
    "    print(\"Handle Issue Credential Webhook\")\n",
    "    print(f\"Connection ID : {connection_id}\")\n",
    "    print(f\"Credential exchange ID : {exchange_id}\")\n",
    "    print(\"Agent Protocol Role : \", role)\n",
    "    print(\"Protocol State : \", state )\n",
    "    print(\"\\n---------------------------------------------------\\n\")\n",
    "    \n",
    "    \n",
    "    if state == \"offer_sent\":\n",
    "        proposal = payload[\"credential_proposal_dict\"]\n",
    "        attributes = proposal['credential_proposal']['attributes']\n",
    "        print(f\"Offering : \\n {attributes}\")\n",
    "        ## YOUR LOGIC HERE\n",
    "    elif state == \"request_received\":\n",
    "        print(\"Request for credential received\")\n",
    "        ## YOUR LOGIC HERE\n",
    "    elif state == \"credential_sent\":\n",
    "        print(\"Credential Sent\")\n",
    "        ## YOUR LOGIC HERE\n",
    "        \n",
    "        \n",
    "def messages_handler(payload):\n",
    "    connection_id = payload[\"connection_id\"]\n",
    "    print(\"Handle message\", connection_id)\n",
    "    pprint(payload)"
   ]
  },
  {
   "cell_type": "code",
   "execution_count": 7,
   "id": "71c72def",
   "metadata": {},
   "outputs": [],
   "source": [
    "# Init listeners list\n",
    "listeners = []\n",
    "        \n",
    "# Add listeners defined in previous cell\n",
    "connection_listener = {\"handler\": connections_handler, \"topic\": \"connections\"}\n",
    "listeners.append(connection_listener)\n",
    "\n",
    "issuer_listener = {\"handler\": issuer_handler, \"topic\": \"issue_credential\"}\n",
    "listeners.append(issuer_listener)\n",
    "\n",
    "message_listener = {\"handler\": messages_handler, \"topic\": \"basicmessages\"}\n",
    "listeners.append(message_listener)"
   ]
  },
  {
   "cell_type": "markdown",
   "id": "88fd48a1",
   "metadata": {},
   "source": [
    "#### 1.3 – Register listeners with `agent_controller`"
   ]
  },
  {
   "cell_type": "code",
   "execution_count": 8,
   "id": "0eb6b357",
   "metadata": {},
   "outputs": [],
   "source": [
    "#loop = asyncio.get_event_loop()\n",
    "#loop.create_task(agent_controller.listen_webhooks())\n",
    "\n",
    "agent_controller.register_listeners(listeners)"
   ]
  },
  {
   "cell_type": "markdown",
   "id": "faaf9483",
   "metadata": {},
   "source": [
    "**BREAK POINT:** Please switch to agent `City`, open `01_get_city_VC.ipynb`, and start executing the notebook\n",
    "\n",
    "---\n",
    "\n",
    "## 2 – Establish connection with `Cit`y agent\n",
    "Establish connection with the`City` agent. In this scenario, the `City` sends an invitation to connect with the Authority. \n",
    "\n",
    "### 2.1 – Receive invitation from `City` agent\n",
    "Copy the invitation from Step 2.2 in the City's `01_get_city_VC.ipynb` notebook into the following cell. "
   ]
  },
  {
   "cell_type": "code",
   "execution_count": 2,
   "id": "93abac57",
   "metadata": {},
   "outputs": [
    {
     "ename": "NameError",
     "evalue": "name 'agent_controller' is not defined",
     "output_type": "error",
     "traceback": [
      "\u001b[0;31m---------------------------------------------------------------------------\u001b[0m",
      "\u001b[0;31mNameError\u001b[0m                                 Traceback (most recent call last)",
      "\u001b[0;32m/tmp/ipykernel_30/2454827271.py\u001b[0m in \u001b[0;36m<module>\u001b[0;34m\u001b[0m\n\u001b[1;32m      8\u001b[0m \u001b[0;34m\u001b[0m\u001b[0m\n\u001b[1;32m      9\u001b[0m \u001b[0;31m# Receive invitation and store the connection_id for further protocols (e.g., issuing VCs)\u001b[0m\u001b[0;34m\u001b[0m\u001b[0;34m\u001b[0m\u001b[0;34m\u001b[0m\u001b[0m\n\u001b[0;32m---> 10\u001b[0;31m \u001b[0minvite_response\u001b[0m \u001b[0;34m=\u001b[0m \u001b[0;32mawait\u001b[0m \u001b[0magent_controller\u001b[0m\u001b[0;34m.\u001b[0m\u001b[0mconnections\u001b[0m\u001b[0;34m.\u001b[0m\u001b[0mreceive_invitation\u001b[0m\u001b[0;34m(\u001b[0m\u001b[0minvitation\u001b[0m\u001b[0;34m,\u001b[0m \u001b[0malias\u001b[0m\u001b[0;34m=\u001b[0m\u001b[0;32mNone\u001b[0m\u001b[0;34m,\u001b[0m \u001b[0mauto_accept\u001b[0m\u001b[0;34m=\u001b[0m\u001b[0;32mFalse\u001b[0m\u001b[0;34m)\u001b[0m\u001b[0;34m\u001b[0m\u001b[0;34m\u001b[0m\u001b[0m\n\u001b[0m\u001b[1;32m     11\u001b[0m \u001b[0mconnection_id\u001b[0m \u001b[0;34m=\u001b[0m \u001b[0minvite_response\u001b[0m\u001b[0;34m[\u001b[0m\u001b[0;34m\"connection_id\"\u001b[0m\u001b[0;34m]\u001b[0m\u001b[0;34m\u001b[0m\u001b[0;34m\u001b[0m\u001b[0m\n",
      "\u001b[0;31mNameError\u001b[0m: name 'agent_controller' is not defined"
     ]
    }
   ],
   "source": [
    "invitation = {\n",
    "    '@id': '0fafd2e6-fc18-4747-832e-3974ae49d70c',\n",
    "    '@type': 'did:sov:BzCbsNYhMrjHiqZDTUASHg;spec/connections/1.0/invitation',\n",
    "    'label': 'Manufacturer1',\n",
    "    'recipientKeys': ['Cba2p7TNGYeuv1CEfkMMHJaa613aXAKXSzHxT25AV4tW'],\n",
    "    'serviceEndpoint': 'https://c09dd01757a2.ngrok.io',\n",
    "}\n",
    "\n",
    "# Receive invitation and store the connection_id for further protocols (e.g., issuing VCs)\n",
    "invite_response = await agent_controller.connections.receive_invitation(invitation, alias=None, auto_accept=False)\n",
    "connection_id = invite_response[\"connection_id\"]"
   ]
  },
  {
   "cell_type": "markdown",
   "id": "2634ec28",
   "metadata": {},
   "source": [
    "### 2.2 – Accept invitation"
   ]
  },
  {
   "cell_type": "code",
   "execution_count": 10,
   "id": "e744ffa7",
   "metadata": {},
   "outputs": [
    {
     "name": "stdout",
     "output_type": "stream",
     "text": [
      "----------------------------------------------------------\n",
      "Connection Webhook Event Received\n",
      "Connection ID :  0b5250e4-f16a-4ffb-b861-174f054c12f6\n",
      "State :  request\n",
      "Routing State :  none\n",
      "Their Role :  inviter\n",
      "----------------------------------------------------------\n",
      "request\n",
      "----------------------------------------------------------\n",
      "Connection Webhook Event Received\n",
      "Connection ID :  0b5250e4-f16a-4ffb-b861-174f054c12f6\n",
      "State :  response\n",
      "Routing State :  none\n",
      "Their Role :  inviter\n",
      "----------------------------------------------------------\n",
      "response\n",
      "----------------------------------------------------------\n",
      "Connection Webhook Event Received\n",
      "Connection ID :  0b5250e4-f16a-4ffb-b861-174f054c12f6\n",
      "State :  active\n",
      "Routing State :  none\n",
      "Their Role :  inviter\n",
      "----------------------------------------------------------\n",
      "\u001b[1m\u001b[32mConnection ID: 0b5250e4-f16a-4ffb-b861-174f054c12f6 is now active.\u001b[0m\n",
      "Handle message 0b5250e4-f16a-4ffb-b861-174f054c12f6\n",
      "{\n",
      "    'connection_id': '0b5250e4-f16a-4ffb-b861-174f054c12f6',\n",
      "    'content': 'Hello Authority agent',\n",
      "    'message_id': '117dd7fd-b05b-4c5a-ad2c-6da6fd0c7499',\n",
      "    'sent_time': '2021-08-04 10:03:32.722649Z',\n",
      "    'state': 'received',\n",
      "}\n"
     ]
    }
   ],
   "source": [
    "# Label for the connection\n",
    "my_label = \"City Agent <> Authority Agent\" # Label for connection\n",
    "my_endpoint = None # Endpoint you expect to recieve messages at\n",
    "\n",
    "# Accept response\n",
    "accept_response = await agent_controller.connections.accept_invitation(connection_id, my_label, my_endpoint)"
   ]
  },
  {
   "cell_type": "markdown",
   "id": "73c430a2",
   "metadata": {},
   "source": [
    "**BREAK POINT:** Please proceed to step 2.3 in the `01_get_city_VC.ipynb` notebook of the `City` agent\n",
    "\n",
    "---"
   ]
  },
  {
   "cell_type": "markdown",
   "id": "4c3a4dcd",
   "metadata": {},
   "source": [
    "## 3 – Get info from `City` agent and issue a VC\n",
    "### 3.1 – Greet `City` to open connection in this cell\n",
    "The response with the relevant City information will be displayed in the following cell."
   ]
  },
  {
   "cell_type": "code",
   "execution_count": 6,
   "id": "f3e7ae31",
   "metadata": {},
   "outputs": [
    {
     "ename": "NameError",
     "evalue": "name 'connection_id' is not defined",
     "output_type": "error",
     "traceback": [
      "\u001b[0;31m---------------------------------------------------------------------------\u001b[0m",
      "\u001b[0;31mNameError\u001b[0m                                 Traceback (most recent call last)",
      "\u001b[0;32m/tmp/ipykernel_67/3616494856.py\u001b[0m in \u001b[0;36m<module>\u001b[0;34m\u001b[0m\n\u001b[1;32m      1\u001b[0m \u001b[0mbasic_message\u001b[0m \u001b[0;34m=\u001b[0m \u001b[0;34m\"Hello City. Please provide me your city and country.\"\u001b[0m\u001b[0;34m\u001b[0m\u001b[0;34m\u001b[0m\u001b[0m\n\u001b[0;32m----> 2\u001b[0;31m \u001b[0;32mawait\u001b[0m \u001b[0magent_controller\u001b[0m\u001b[0;34m.\u001b[0m\u001b[0mmessaging\u001b[0m\u001b[0;34m.\u001b[0m\u001b[0msend_message\u001b[0m\u001b[0;34m(\u001b[0m\u001b[0mconnection_id\u001b[0m\u001b[0;34m,\u001b[0m \u001b[0mbasic_message\u001b[0m\u001b[0;34m)\u001b[0m\u001b[0;34m\u001b[0m\u001b[0;34m\u001b[0m\u001b[0m\n\u001b[0m",
      "\u001b[0;31mNameError\u001b[0m: name 'connection_id' is not defined"
     ]
    }
   ],
   "source": [
    "basic_message = \"Hello City. Please provide me your city and country.\"\n",
    "await agent_controller.messaging.send_message(connection_id, basic_message)"
   ]
  },
  {
   "cell_type": "markdown",
   "id": "0d3a3012",
   "metadata": {},
   "source": [
    "### 3.2 – Populate VC Attributes\n",
    "\n",
    "Define the values that will be issued in the VC. The attributes match the attributes defined in the city-agent-scheme."
   ]
  },
  {
   "cell_type": "code",
   "execution_count": 12,
   "id": "0cbfbbc1",
   "metadata": {},
   "outputs": [
    {
     "name": "stdin",
     "output_type": "stream",
     "text": [
      "Please enter the value for `city`:  Berlin\n",
      "Please enter the value for `country`:  DE\n",
      "Please enter the value for `isCityAgency` TRUE\n"
     ]
    },
    {
     "name": "stdout",
     "output_type": "stream",
     "text": [
      "[{'name': 'city', 'value': 'Berlin'}, {'name': 'country', 'value': 'DE'}, {'name': 'isCityAgency', 'value': 'TRUE'}]\n"
     ]
    }
   ],
   "source": [
    "attributes = [\"city\", \"country\", \"isCityAgency\"]\n",
    "\n",
    "city=input(\"Please enter the value for `city`: \")\n",
    "country=input(\"Please enter the value for `country`: \")\n",
    "isCityAgency=input(\"Please enter the value for `isCityAgency`\")\n",
    "credential_attributes = [\n",
    "    {\"name\": \"city\", \"value\": city},\n",
    "    {\"name\": \"country\", \"value\": country},\n",
    "    {\"name\": \"isCityAgency\", \"value\": isCityAgency}\n",
    "]\n",
    "print(credential_attributes)"
   ]
  },
  {
   "cell_type": "markdown",
   "id": "9cafdc5e",
   "metadata": {},
   "source": [
    "### 3.3 – Offer VC to `City` agent"
   ]
  },
  {
   "cell_type": "code",
   "execution_count": 13,
   "id": "997e0800",
   "metadata": {},
   "outputs": [
    {
     "name": "stdout",
     "output_type": "stream",
     "text": [
      "\n",
      "---------------------------------------------------\n",
      "\n",
      "Handle Issue Credential Webhook\n",
      "Connection ID : 0b5250e4-f16a-4ffb-b861-174f054c12f6\n",
      "Credential exchange ID : 2fd021b3-fef5-42b5-93e9-9e08be9094cf\n",
      "Agent Protocol Role :  issuer\n",
      "Protocol State :  offer_sent\n",
      "\n",
      "---------------------------------------------------\n",
      "\n",
      "Offering : \n",
      " [{'name': 'city', 'value': 'Berlin'}, {'name': 'country', 'value': 'DE'}, {'name': 'isCityAgency', 'value': 'TRUE'}]\n",
      "\n",
      "---------------------------------------------------\n",
      "\n",
      "Handle Issue Credential Webhook\n",
      "Connection ID : 0b5250e4-f16a-4ffb-b861-174f054c12f6\n",
      "Credential exchange ID : 2fd021b3-fef5-42b5-93e9-9e08be9094cf\n",
      "Agent Protocol Role :  issuer\n",
      "Protocol State :  request_received\n",
      "\n",
      "---------------------------------------------------\n",
      "\n",
      "Request for credential received\n",
      "\n",
      "---------------------------------------------------\n",
      "\n",
      "Handle Issue Credential Webhook\n",
      "Connection ID : 0b5250e4-f16a-4ffb-b861-174f054c12f6\n",
      "Credential exchange ID : 2fd021b3-fef5-42b5-93e9-9e08be9094cf\n",
      "Agent Protocol Role :  issuer\n",
      "Protocol State :  credential_issued\n",
      "\n",
      "---------------------------------------------------\n",
      "\n"
     ]
    },
    {
     "name": "stderr",
     "output_type": "stream",
     "text": [
      "WARNING:aries_cloudcontroller.aries_webhook_server:Handling webhooks failed! KeyError('state') occurred when trying to handle this topic: issue_credential\n",
      "WARNING:aries_cloudcontroller.aries_webhook_server:Receiving webhooks failed! KeyError('state') occurred.\n",
      "ERROR:aiohttp.server:Error handling request\n",
      "Traceback (most recent call last):\n",
      "  File \"/opt/conda/lib/python3.9/site-packages/aiohttp/web_protocol.py\", line 422, in _handle_request\n",
      "    resp = await self._request_handler(request)\n",
      "  File \"/opt/conda/lib/python3.9/site-packages/aiohttp/web_app.py\", line 499, in _handle\n",
      "    resp = await handler(request)\n",
      "  File \"/opt/conda/lib/python3.9/site-packages/aries_cloudcontroller/aries_webhook_server.py\", line 85, in _receive_webhook\n",
      "    await self._handle_webhook(wallet_id, topic, payload)\n",
      "  File \"/opt/conda/lib/python3.9/site-packages/aries_cloudcontroller/aries_webhook_server.py\", line 108, in _handle_webhook\n",
      "    pub.sendMessage(pub_topic_path, payload=payload)\n",
      "  File \"/opt/conda/lib/python3.9/site-packages/pubsub/core/publisher.py\", line 216, in sendMessage\n",
      "    topicObj.publish(**msgData)\n",
      "  File \"/opt/conda/lib/python3.9/site-packages/pubsub/core/topicobj.py\", line 452, in publish\n",
      "    self.__sendMessage(msgData, topicObj, msgDataSubset)\n",
      "  File \"/opt/conda/lib/python3.9/site-packages/pubsub/core/topicobj.py\", line 482, in __sendMessage\n",
      "    listener(data, self, allData)\n",
      "  File \"/opt/conda/lib/python3.9/site-packages/pubsub/core/listener.py\", line 237, in __call__\n",
      "    cb(**kwargs)\n",
      "  File \"/tmp/ipykernel_58/2987779986.py\", line 34, in issuer_handler\n",
      "    state = payload['state']\n",
      "KeyError: 'state'\n",
      "WARNING:aries_cloudcontroller.aries_webhook_server:Handling webhooks failed! KeyError('state') occurred when trying to handle this topic: issue_credential\n",
      "WARNING:aries_cloudcontroller.aries_webhook_server:Receiving webhooks failed! KeyError('state') occurred.\n",
      "ERROR:aiohttp.server:Error handling request\n",
      "Traceback (most recent call last):\n",
      "  File \"/opt/conda/lib/python3.9/site-packages/aiohttp/web_protocol.py\", line 422, in _handle_request\n",
      "    resp = await self._request_handler(request)\n",
      "  File \"/opt/conda/lib/python3.9/site-packages/aiohttp/web_app.py\", line 499, in _handle\n",
      "    resp = await handler(request)\n",
      "  File \"/opt/conda/lib/python3.9/site-packages/aries_cloudcontroller/aries_webhook_server.py\", line 85, in _receive_webhook\n",
      "    await self._handle_webhook(wallet_id, topic, payload)\n",
      "  File \"/opt/conda/lib/python3.9/site-packages/aries_cloudcontroller/aries_webhook_server.py\", line 108, in _handle_webhook\n",
      "    pub.sendMessage(pub_topic_path, payload=payload)\n",
      "  File \"/opt/conda/lib/python3.9/site-packages/pubsub/core/publisher.py\", line 216, in sendMessage\n",
      "    topicObj.publish(**msgData)\n",
      "  File \"/opt/conda/lib/python3.9/site-packages/pubsub/core/topicobj.py\", line 452, in publish\n",
      "    self.__sendMessage(msgData, topicObj, msgDataSubset)\n",
      "  File \"/opt/conda/lib/python3.9/site-packages/pubsub/core/topicobj.py\", line 482, in __sendMessage\n",
      "    listener(data, self, allData)\n",
      "  File \"/opt/conda/lib/python3.9/site-packages/pubsub/core/listener.py\", line 237, in __call__\n",
      "    cb(**kwargs)\n",
      "  File \"/tmp/ipykernel_58/2987779986.py\", line 34, in issuer_handler\n",
      "    state = payload['state']\n",
      "KeyError: 'state'\n",
      "WARNING:aries_cloudcontroller.aries_webhook_server:Handling webhooks failed! KeyError('state') occurred when trying to handle this topic: issue_credential\n",
      "WARNING:aries_cloudcontroller.aries_webhook_server:Receiving webhooks failed! KeyError('state') occurred.\n",
      "ERROR:aiohttp.server:Error handling request\n",
      "Traceback (most recent call last):\n",
      "  File \"/opt/conda/lib/python3.9/site-packages/aiohttp/web_protocol.py\", line 422, in _handle_request\n",
      "    resp = await self._request_handler(request)\n",
      "  File \"/opt/conda/lib/python3.9/site-packages/aiohttp/web_app.py\", line 499, in _handle\n",
      "    resp = await handler(request)\n",
      "  File \"/opt/conda/lib/python3.9/site-packages/aries_cloudcontroller/aries_webhook_server.py\", line 85, in _receive_webhook\n",
      "    await self._handle_webhook(wallet_id, topic, payload)\n",
      "  File \"/opt/conda/lib/python3.9/site-packages/aries_cloudcontroller/aries_webhook_server.py\", line 108, in _handle_webhook\n",
      "    pub.sendMessage(pub_topic_path, payload=payload)\n",
      "  File \"/opt/conda/lib/python3.9/site-packages/pubsub/core/publisher.py\", line 216, in sendMessage\n",
      "    topicObj.publish(**msgData)\n",
      "  File \"/opt/conda/lib/python3.9/site-packages/pubsub/core/topicobj.py\", line 452, in publish\n",
      "    self.__sendMessage(msgData, topicObj, msgDataSubset)\n",
      "  File \"/opt/conda/lib/python3.9/site-packages/pubsub/core/topicobj.py\", line 482, in __sendMessage\n",
      "    listener(data, self, allData)\n",
      "  File \"/opt/conda/lib/python3.9/site-packages/pubsub/core/listener.py\", line 237, in __call__\n",
      "    cb(**kwargs)\n",
      "  File \"/tmp/ipykernel_58/2987779986.py\", line 34, in issuer_handler\n",
      "    state = payload['state']\n",
      "KeyError: 'state'\n",
      "WARNING:aries_cloudcontroller.aries_webhook_server:Handling webhooks failed! KeyError('state') occurred when trying to handle this topic: issue_credential\n",
      "WARNING:aries_cloudcontroller.aries_webhook_server:Receiving webhooks failed! KeyError('state') occurred.\n",
      "ERROR:aiohttp.server:Error handling request\n",
      "Traceback (most recent call last):\n",
      "  File \"/opt/conda/lib/python3.9/site-packages/aiohttp/web_protocol.py\", line 422, in _handle_request\n",
      "    resp = await self._request_handler(request)\n",
      "  File \"/opt/conda/lib/python3.9/site-packages/aiohttp/web_app.py\", line 499, in _handle\n",
      "    resp = await handler(request)\n",
      "  File \"/opt/conda/lib/python3.9/site-packages/aries_cloudcontroller/aries_webhook_server.py\", line 85, in _receive_webhook\n",
      "    await self._handle_webhook(wallet_id, topic, payload)\n",
      "  File \"/opt/conda/lib/python3.9/site-packages/aries_cloudcontroller/aries_webhook_server.py\", line 108, in _handle_webhook\n",
      "    pub.sendMessage(pub_topic_path, payload=payload)\n",
      "  File \"/opt/conda/lib/python3.9/site-packages/pubsub/core/publisher.py\", line 216, in sendMessage\n",
      "    topicObj.publish(**msgData)\n",
      "  File \"/opt/conda/lib/python3.9/site-packages/pubsub/core/topicobj.py\", line 452, in publish\n",
      "    self.__sendMessage(msgData, topicObj, msgDataSubset)\n",
      "  File \"/opt/conda/lib/python3.9/site-packages/pubsub/core/topicobj.py\", line 482, in __sendMessage\n",
      "    listener(data, self, allData)\n",
      "  File \"/opt/conda/lib/python3.9/site-packages/pubsub/core/listener.py\", line 237, in __call__\n",
      "    cb(**kwargs)\n",
      "  File \"/tmp/ipykernel_58/2987779986.py\", line 34, in issuer_handler\n",
      "    state = payload['state']\n",
      "KeyError: 'state'\n",
      "WARNING:aries_cloudcontroller.aries_webhook_server:Handling webhooks failed! KeyError('state') occurred when trying to handle this topic: issue_credential\n",
      "WARNING:aries_cloudcontroller.aries_webhook_server:Receiving webhooks failed! KeyError('state') occurred.\n",
      "ERROR:aiohttp.server:Error handling request\n",
      "Traceback (most recent call last):\n",
      "  File \"/opt/conda/lib/python3.9/site-packages/aiohttp/web_protocol.py\", line 422, in _handle_request\n",
      "    resp = await self._request_handler(request)\n",
      "  File \"/opt/conda/lib/python3.9/site-packages/aiohttp/web_app.py\", line 499, in _handle\n",
      "    resp = await handler(request)\n",
      "  File \"/opt/conda/lib/python3.9/site-packages/aries_cloudcontroller/aries_webhook_server.py\", line 85, in _receive_webhook\n",
      "    await self._handle_webhook(wallet_id, topic, payload)\n",
      "  File \"/opt/conda/lib/python3.9/site-packages/aries_cloudcontroller/aries_webhook_server.py\", line 108, in _handle_webhook\n",
      "    pub.sendMessage(pub_topic_path, payload=payload)\n",
      "  File \"/opt/conda/lib/python3.9/site-packages/pubsub/core/publisher.py\", line 216, in sendMessage\n",
      "    topicObj.publish(**msgData)\n",
      "  File \"/opt/conda/lib/python3.9/site-packages/pubsub/core/topicobj.py\", line 452, in publish\n",
      "    self.__sendMessage(msgData, topicObj, msgDataSubset)\n",
      "  File \"/opt/conda/lib/python3.9/site-packages/pubsub/core/topicobj.py\", line 482, in __sendMessage\n",
      "    listener(data, self, allData)\n",
      "  File \"/opt/conda/lib/python3.9/site-packages/pubsub/core/listener.py\", line 237, in __call__\n",
      "    cb(**kwargs)\n",
      "  File \"/tmp/ipykernel_58/2987779986.py\", line 34, in issuer_handler\n",
      "    state = payload['state']\n",
      "KeyError: 'state'\n"
     ]
    }
   ],
   "source": [
    "# MAKE VC ZKP-able! SEE https://github.com/hyperledger/aries-cloudagent-python/blob/main/JsonLdCredentials.md\n",
    "trace = False # Don't trace ACA-PY instance\n",
    "comment = \"Issuing VC that City is an agency\"\n",
    "auto_remove = True # Remove credential record after issued?\n",
    "\n",
    "# Cred_def_id must identify a definition to which your agent has corresponding private issuing key.\n",
    "send_cred_response = await agent_controller.issuer.send_credential(connection_id, schema_city_id, cred_def_city_id, credential_attributes, comment, auto_remove, trace)"
   ]
  },
  {
   "cell_type": "markdown",
   "id": "fa4cc9a0",
   "metadata": {},
   "source": [
    "**BREAK POINT:** Proceed to `City` Agent, Step 3.2 \n",
    "\n",
    "---"
   ]
  },
  {
   "cell_type": "markdown",
   "id": "b7db66f0",
   "metadata": {},
   "source": [
    "## Terminate Controller\n",
    "\n",
    "Whenever you have finished with this notebook, be sure to terminate the controller. This is especially important if your business logic runs across multiple notebooks."
   ]
  },
  {
   "cell_type": "code",
   "execution_count": 1,
   "id": "a9ca8ed8",
   "metadata": {},
   "outputs": [
    {
     "ename": "NameError",
     "evalue": "name 'agent_controller' is not defined",
     "output_type": "error",
     "traceback": [
      "\u001b[0;31m---------------------------------------------------------------------------\u001b[0m",
      "\u001b[0;31mNameError\u001b[0m                                 Traceback (most recent call last)",
      "\u001b[0;32m/tmp/ipykernel_30/2886623932.py\u001b[0m in \u001b[0;36m<module>\u001b[0;34m\u001b[0m\n\u001b[0;32m----> 1\u001b[0;31m \u001b[0;32mawait\u001b[0m \u001b[0magent_controller\u001b[0m\u001b[0;34m.\u001b[0m\u001b[0mterminate\u001b[0m\u001b[0;34m(\u001b[0m\u001b[0;34m)\u001b[0m\u001b[0;34m\u001b[0m\u001b[0;34m\u001b[0m\u001b[0m\n\u001b[0m",
      "\u001b[0;31mNameError\u001b[0m: name 'agent_controller' is not defined"
     ]
    }
   ],
   "source": [
    "await agent_controller.terminate()"
   ]
  },
  {
   "cell_type": "code",
   "execution_count": null,
   "id": "471dcf5f",
   "metadata": {},
   "outputs": [],
   "source": []
  }
 ],
 "metadata": {
  "kernelspec": {
   "display_name": "Python 3 (ipykernel)",
   "language": "python",
   "name": "python3"
  },
  "language_info": {
   "codemirror_mode": {
    "name": "ipython",
    "version": 3
   },
   "file_extension": ".py",
   "mimetype": "text/x-python",
   "name": "python",
   "nbconvert_exporter": "python",
   "pygments_lexer": "ipython3",
   "version": "3.9.5"
  }
 },
 "nbformat": 4,
 "nbformat_minor": 5
}
