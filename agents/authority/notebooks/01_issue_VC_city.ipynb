{
 "cells": [
  {
   "cell_type": "markdown",
   "id": "494e3f63",
   "metadata": {},
   "source": [
    "# Issue a VC to the City Agent"
   ]
  },
  {
   "cell_type": "code",
   "execution_count": 1,
   "id": "914f5db6",
   "metadata": {},
   "outputs": [
    {
     "data": {
      "application/javascript": [
       "document.title='Authority Agent'\n"
      ],
      "text/plain": [
       "<IPython.core.display.Javascript object>"
      ]
     },
     "metadata": {},
     "output_type": "display_data"
    }
   ],
   "source": [
    "%%javascript\n",
    "document.title='Authority Agent'"
   ]
  },
  {
   "cell_type": "markdown",
   "id": "666fe035",
   "metadata": {},
   "source": [
    "#### Imports"
   ]
  },
  {
   "cell_type": "code",
   "execution_count": 3,
   "id": "befd2eb2",
   "metadata": {},
   "outputs": [
    {
     "name": "stdout",
     "output_type": "stream",
     "text": [
      "IPython autoawait is `on`, and set to use `asyncio`\n"
     ]
    }
   ],
   "source": [
    "# autowait: allows futures and coroutines in the REPL to be awaited\n",
    "%autoawait \n",
    "from aries_cloudcontroller import AriesAgentController\n",
    "import os\n",
    "from pprintpp import pprint\n",
    "from termcolor import colored"
   ]
  },
  {
   "cell_type": "markdown",
   "id": "6bd385f8",
   "metadata": {},
   "source": [
    "#### Get schema and cred def identifiers defined in `00_init_authority_as_issuingAuthority.ipynb`"
   ]
  },
  {
   "cell_type": "code",
   "execution_count": 5,
   "id": "e20d0639",
   "metadata": {},
   "outputs": [
    {
     "name": "stdout",
     "output_type": "stream",
     "text": [
      "--- LOAD VARIABLES FROM JUPYTERLAB STORE ---\n",
      "schema_city_id: MTXSc4YD8wixyM9ekZbmMC:2:certify-city-agency:0.0.1\n",
      "cred_def_city_id: MTXSc4YD8wixyM9ekZbmMC:3:CL:246685:default\n",
      "schema_manufacturer_id: MTXSc4YD8wixyM9ekZbmMC:2:certify-manufacturer:0.0.1\n",
      "cred_def_manufacturer_id: MTXSc4YD8wixyM9ekZbmMC:3:CL:246687:default\n"
     ]
    }
   ],
   "source": [
    "# If the identifiers are not stored for some reason\n",
    "try:\n",
    "    # Load variables – assuming they have been written to the store in a previous notebook\n",
    "    print(\"--- LOAD VARIABLES FROM JUPYTERLAB STORE ---\")\n",
    "    \n",
    "    %store -r schema_city_id\n",
    "    %store -r cred_def_city_id\n",
    "    %store -r schema_manufacturer_id\n",
    "    %store -r cred_def_manufacturer_id\n",
    "    \n",
    "    print(f\"schema_city_id: {schema_city_id}\")\n",
    "    print(f\"cred_def_city_id: {cred_def_city_id}\")\n",
    "    print(f\"schema_manufacturer_id: {schema_manufacturer_id}\")\n",
    "    print(f\"cred_def_manufacturer_id: {cred_def_manufacturer_id}\")\n",
    "    \n",
    "except Exception as e:\n",
    "    \n",
    "    print(\"--- DEFINE VARIABLES FROM MANUALLY COPIED identifiers DICT ---\")\n",
    "    \n",
    "    # Copy an updated version if necessary\n",
    "    identifiers = {\n",
    "        'authority_did': 'MTXSc4YD8wixyM9ekZbmMC',\n",
    "        'city_schema_identifiers': {\n",
    "            'cred_def': 'MTXSc4YD8wixyM9ekZbmMC:3:CL:246685:default',\n",
    "            'schema_id': 'MTXSc4YD8wixyM9ekZbmMC:2:certify-city-agency:0.0.1',\n",
    "        },\n",
    "        'manufacturer_schema_identifiers': {\n",
    "            'cred_def': 'MTXSc4YD8wixyM9ekZbmMC:3:CL:246687:default',\n",
    "            'schema_id': 'MTXSc4YD8wixyM9ekZbmMC:2:certify-manufacturer:0.0.1',\n",
    "        },\n",
    "    }\n",
    "\n",
    "    # Get city schema identifiers\n",
    "    schema_city_id = identifiers[\"city_schema_identifiers\"][\"schema_id\"]\n",
    "    cred_def_city_id = identifiers[\"city_schema_identifiers\"][\"cred_def\"]\n",
    "\n",
    "    # Get manufacturer schema identifiers\n",
    "    schema_manufacturer_id = identifiers[\"manufacturer_schema_identifiers\"][\"schema_id\"]\n",
    "    cred_def_manufacturer_id = identifiers[\"manufacturer_schema_identifiers\"][\"cred_def\"]\n",
    "\n",
    "    # Load variables to Jupyter store\n",
    "    %store schema_city_id\n",
    "    %store cred_def_city_id\n",
    "    %store schema_manufacturer_id\n",
    "    %store cred_def_manufacturer_id"
   ]
  },
  {
   "cell_type": "markdown",
   "id": "1f6e7dca",
   "metadata": {},
   "source": [
    "#### Init agent controller of Authority"
   ]
  },
  {
   "cell_type": "code",
   "execution_count": 6,
   "id": "0655a559",
   "metadata": {},
   "outputs": [
    {
     "name": "stdout",
     "output_type": "stream",
     "text": [
      "Initialising a controller with admin api at http://authority-agent:3021 and an api key of adminApiKey\n"
     ]
    }
   ],
   "source": [
    "api_key = os.getenv(\"ACAPY_ADMIN_API_KEY\")\n",
    "admin_url = os.getenv(\"ADMIN_URL\")\n",
    "\n",
    "print(f\"Initialising a controller with admin api at {admin_url} and an api key of {api_key}\")\n",
    "agent_controller = AriesAgentController(admin_url,api_key)"
   ]
  },
  {
   "cell_type": "markdown",
   "id": "1c6718c2",
   "metadata": {},
   "source": [
    "## 1 – Init Webhook Server and register Event Listeners for it\n",
    "#### 1.1 – Start webhook server\n",
    "Start a webhook server to be able to communicate with other agents"
   ]
  },
  {
   "cell_type": "code",
   "execution_count": 7,
   "id": "ab906a2d",
   "metadata": {},
   "outputs": [
    {
     "name": "stdout",
     "output_type": "stream",
     "text": [
      "Listening for webhooks from agent at http://0.0.0.0:3010\n"
     ]
    }
   ],
   "source": [
    "# Setup\n",
    "webhook_port = int(os.getenv(\"WEBHOOK_PORT\"))\n",
    "webhook_host = \"0.0.0.0\"\n",
    "\n",
    "# Listen on webhook server\n",
    "await agent_controller.init_webhook_server(webhook_host, webhook_port)\n",
    "print(f\"Listening for webhooks from agent at http://{webhook_host}:{webhook_port}\")"
   ]
  },
  {
   "cell_type": "markdown",
   "id": "050e7682",
   "metadata": {},
   "source": [
    "#### 1.2 – Define listeners\n",
    "Define listeners that are triggered when something happens on the webhook server"
   ]
  },
  {
   "cell_type": "code",
   "execution_count": 8,
   "id": "8ed55657",
   "metadata": {},
   "outputs": [],
   "source": [
    "# Receive connection messages\n",
    "def connections_handler(payload):\n",
    "    state = payload['state']\n",
    "    connection_id = payload[\"connection_id\"]\n",
    "    their_role = payload[\"their_role\"]\n",
    "    routing_state = payload[\"routing_state\"]\n",
    "    \n",
    "    print(\"----------------------------------------------------------\")\n",
    "    print(\"Connection Webhook Event Received\")\n",
    "    print(\"Connection ID : \", connection_id)\n",
    "    print(\"State : \", state)\n",
    "    print(\"Routing State : \", routing_state)\n",
    "    print(\"Their Role : \", their_role)\n",
    "    print(\"----------------------------------------------------------\")\n",
    "\n",
    "    if state == \"invitation\":\n",
    "        # Your business logic\n",
    "        print(\"invitation\")\n",
    "    elif state == \"request\":\n",
    "        # Your business logic\n",
    "        print(\"request\")\n",
    "\n",
    "    elif state == \"response\":\n",
    "        # Your business logic\n",
    "        print(\"response\")\n",
    "    elif state == \"active\":\n",
    "        # Your business logic\n",
    "        print(colored(\"Connection ID: {0} is now active.\".format(connection_id), \"green\", attrs=[\"bold\"]))\n",
    "\n",
    "\n",
    "def issuer_handler(payload):\n",
    "    connection_id = payload['connection_id']\n",
    "    exchange_id = payload['credential_exchange_id']\n",
    "    state = payload['state']\n",
    "    role = payload['role']\n",
    "    print(\"\\n---------------------------------------------------\\n\")\n",
    "    print(\"Handle Issue Credential Webhook\")\n",
    "    print(f\"Connection ID : {connection_id}\")\n",
    "    print(f\"Credential exchange ID : {exchange_id}\")\n",
    "    print(\"Agent Protocol Role : \", role)\n",
    "    print(\"Protocol State : \", state )\n",
    "    print(\"\\n---------------------------------------------------\\n\")\n",
    "    \n",
    "    \n",
    "    if state == \"offer_sent\":\n",
    "        proposal = payload[\"credential_proposal_dict\"]\n",
    "        attributes = proposal['credential_proposal']['attributes']\n",
    "        print(f\"Offering : \\n {attributes}\")\n",
    "        ## YOUR LOGIC HERE\n",
    "    elif state == \"request_received\":\n",
    "        print(\"Request for credential received\")\n",
    "        ## YOUR LOGIC HERE\n",
    "    elif state == \"credential_sent\":\n",
    "        print(\"Credential Sent\")\n",
    "        ## YOUR LOGIC HERE\n",
    "        \n",
    "        \n",
    "def messages_handler(payload):\n",
    "    connection_id = payload[\"connection_id\"]\n",
    "    print(\"Handle message\", connection_id)\n",
    "    pprint(payload)"
   ]
  },
  {
   "cell_type": "code",
   "execution_count": 9,
   "id": "13b69ab0",
   "metadata": {},
   "outputs": [],
   "source": [
    "# Init listeners list\n",
    "listeners = []\n",
    "        \n",
    "# Add listeners defined in previous cell\n",
    "connection_listener = {\"handler\": connections_handler, \"topic\": \"connections\"}\n",
    "listeners.append(connection_listener)\n",
    "\n",
    "issuer_listener = {\"handler\": issuer_handler, \"topic\": \"issue_credential\"}\n",
    "listeners.append(issuer_listener)\n",
    "\n",
    "message_listener = {\"handler\": messages_handler, \"topic\": \"basicmessages\"}\n",
    "listeners.append(message_listener)"
   ]
  },
  {
   "cell_type": "markdown",
   "id": "e0994ab6",
   "metadata": {},
   "source": [
    "#### 1.3 – Register listeners with `agent_controller`"
   ]
  },
  {
   "cell_type": "code",
   "execution_count": 10,
   "id": "c1ed1b72",
   "metadata": {},
   "outputs": [],
   "source": [
    "agent_controller.register_listeners(listeners)"
   ]
  },
  {
   "cell_type": "markdown",
   "id": "49b45435",
   "metadata": {},
   "source": [
    "**BREAK POINT:** Please switch to agent `City`, open `01_get_city_VC.ipynb`, and start executing the notebook\n",
    "\n",
    "---\n",
    "\n",
    "## 2 – Establish connection with `Cit`y agent\n",
    "Establish connection with the`City` agent. In this scenario, the `City` sends an invitation to connect with the Authority. \n",
    "\n",
    "### 2.1 – Receive invitation from `City` agent\n",
    "Copy the invitation from Step 2.2 in the City's `01_get_city_VC.ipynb` notebook into the following cell. "
   ]
  },
  {
   "cell_type": "code",
   "execution_count": 11,
   "id": "1548b86a",
   "metadata": {},
   "outputs": [
    {
     "name": "stdout",
     "output_type": "stream",
     "text": [
      "----------------------------------------------------------\n",
      "Connection Webhook Event Received\n",
      "Connection ID :  10402419-a4b3-493e-b76c-84444cd4e885\n",
      "State :  invitation\n",
      "Routing State :  none\n",
      "Their Role :  inviter\n",
      "----------------------------------------------------------\n",
      "invitation\n"
     ]
    }
   ],
   "source": [
    "invitation = {\n",
    "    '@id': '1a4ef9a6-2dc4-4eae-b6b2-6003b1903aa2',\n",
    "    '@type': 'did:sov:BzCbsNYhMrjHiqZDTUASHg;spec/connections/1.0/invitation',\n",
    "    'label': 'City',\n",
    "    'recipientKeys': ['2HBfxB6MbCXv8tDAriinYY5BzT8gZUtUYKAQ1VXDNDmF'],\n",
    "    'serviceEndpoint': 'https://80a67f24c0cb.ngrok.io',\n",
    "}\n",
    "\n",
    "# Receive invitation and store the connection_id for further protocols (e.g., issuing VCs)\n",
    "invite_response = await agent_controller.connections.receive_invitation(invitation, alias=None, auto_accept=False)\n",
    "connection_id = invite_response[\"connection_id\"]"
   ]
  },
  {
   "cell_type": "markdown",
   "id": "702f134a",
   "metadata": {},
   "source": [
    "### 2.2 – Accept invitation"
   ]
  },
  {
   "cell_type": "code",
   "execution_count": 12,
   "id": "286c7838",
   "metadata": {},
   "outputs": [
    {
     "name": "stdout",
     "output_type": "stream",
     "text": [
      "----------------------------------------------------------\n",
      "Connection Webhook Event Received\n",
      "Connection ID :  10402419-a4b3-493e-b76c-84444cd4e885\n",
      "State :  request\n",
      "Routing State :  none\n",
      "Their Role :  inviter\n",
      "----------------------------------------------------------\n",
      "request\n",
      "----------------------------------------------------------\n",
      "Connection Webhook Event Received\n",
      "Connection ID :  10402419-a4b3-493e-b76c-84444cd4e885\n",
      "State :  response\n",
      "Routing State :  none\n",
      "Their Role :  inviter\n",
      "----------------------------------------------------------\n",
      "response\n",
      "----------------------------------------------------------\n",
      "Connection Webhook Event Received\n",
      "Connection ID :  10402419-a4b3-493e-b76c-84444cd4e885\n",
      "State :  active\n",
      "Routing State :  none\n",
      "Their Role :  inviter\n",
      "----------------------------------------------------------\n",
      "\u001b[1m\u001b[32mConnection ID: 10402419-a4b3-493e-b76c-84444cd4e885 is now active.\u001b[0m\n",
      "Handle message 10402419-a4b3-493e-b76c-84444cd4e885\n",
      "{\n",
      "    'connection_id': '10402419-a4b3-493e-b76c-84444cd4e885',\n",
      "    'content': 'Hello Authority agent',\n",
      "    'message_id': '0d4361b9-a715-4165-ae17-26c0150e029c',\n",
      "    'sent_time': '2021-08-09 14:19:17.122211Z',\n",
      "    'state': 'received',\n",
      "}\n"
     ]
    }
   ],
   "source": [
    "# Label for the connection\n",
    "my_label = \"City Agent <> Authority Agent\" # Label for connection\n",
    "my_endpoint = None # Endpoint you expect to recieve messages at\n",
    "\n",
    "# Accept response\n",
    "accept_response = await agent_controller.connections.accept_invitation(connection_id, my_label, my_endpoint)"
   ]
  },
  {
   "cell_type": "markdown",
   "id": "398fd0fd",
   "metadata": {},
   "source": [
    "**BREAK POINT:** Please proceed to step 2.3 in the `01_get_city_VC.ipynb` notebook of the `City` agent\n",
    "\n",
    "---"
   ]
  },
  {
   "cell_type": "markdown",
   "id": "d1fb2ccd",
   "metadata": {},
   "source": [
    "## 3 – Get info from `City` agent and issue a VC\n",
    "### 3.1 – Greet `City` to open connection in this cell\n",
    "The response with the relevant City information will be displayed in the following cell."
   ]
  },
  {
   "cell_type": "code",
   "execution_count": 13,
   "id": "3b074d72",
   "metadata": {},
   "outputs": [
    {
     "data": {
      "text/plain": [
       "{}"
      ]
     },
     "execution_count": 13,
     "metadata": {},
     "output_type": "execute_result"
    },
    {
     "name": "stdout",
     "output_type": "stream",
     "text": [
      "Handle message 10402419-a4b3-493e-b76c-84444cd4e885\n",
      "{\n",
      "    'connection_id': '10402419-a4b3-493e-b76c-84444cd4e885',\n",
      "    'content': 'I would like the get a VC proving that I am an official city agency in Berlin, DE.',\n",
      "    'message_id': '522f4401-8f1d-4d3f-9de7-c5b92fe2fdb3',\n",
      "    'sent_time': '2021-08-09 14:19:26.704713Z',\n",
      "    'state': 'received',\n",
      "}\n"
     ]
    }
   ],
   "source": [
    "basic_message = \"Hello City. Please provide me your city and country.\"\n",
    "await agent_controller.messaging.send_message(connection_id, basic_message)"
   ]
  },
  {
   "cell_type": "markdown",
   "id": "0b43d0eb",
   "metadata": {},
   "source": [
    "### 3.2 – Populate VC Attributes\n",
    "\n",
    "Define the values that will be issued in the VC. The attributes match the attributes defined in the city-agent-scheme."
   ]
  },
  {
   "cell_type": "code",
   "execution_count": 14,
   "id": "f8c6b033",
   "metadata": {},
   "outputs": [
    {
     "name": "stdin",
     "output_type": "stream",
     "text": [
      "Please enter the value for `city`:  Berlin\n",
      "Please enter the value for `country`:  DE\n",
      "Please enter the value for `isCityAgency` TRUE\n"
     ]
    },
    {
     "name": "stdout",
     "output_type": "stream",
     "text": [
      "[{'name': 'city', 'value': 'Berlin'}, {'name': 'country', 'value': 'DE'}, {'name': 'isCityAgency', 'value': 'TRUE'}]\n"
     ]
    }
   ],
   "source": [
    "attributes = [\"city\", \"country\", \"isCityAgency\"]\n",
    "\n",
    "city=input(\"Please enter the value for `city`: \")\n",
    "country=input(\"Please enter the value for `country`: \")\n",
    "isCityAgency=input(\"Please enter the value for `isCityAgency`\")\n",
    "credential_attributes = [\n",
    "    {\"name\": \"city\", \"value\": city},\n",
    "    {\"name\": \"country\", \"value\": country},\n",
    "    {\"name\": \"isCityAgency\", \"value\": isCityAgency}\n",
    "]\n",
    "print(credential_attributes)"
   ]
  },
  {
   "cell_type": "markdown",
   "id": "b5b5fd9c",
   "metadata": {},
   "source": [
    "### 3.3 – Offer VC to `City` agent"
   ]
  },
  {
   "cell_type": "code",
   "execution_count": 15,
   "id": "5807d416",
   "metadata": {},
   "outputs": [
    {
     "name": "stdout",
     "output_type": "stream",
     "text": [
      "\n",
      "---------------------------------------------------\n",
      "\n",
      "Handle Issue Credential Webhook\n",
      "Connection ID : 10402419-a4b3-493e-b76c-84444cd4e885\n",
      "Credential exchange ID : 98a97366-249c-447f-8e27-62cc8b2e73fc\n",
      "Agent Protocol Role :  issuer\n",
      "Protocol State :  offer_sent\n",
      "\n",
      "---------------------------------------------------\n",
      "\n",
      "Offering : \n",
      " [{'name': 'city', 'value': 'Berlin'}, {'name': 'country', 'value': 'DE'}, {'name': 'isCityAgency', 'value': 'TRUE'}]\n",
      "\n",
      "---------------------------------------------------\n",
      "\n",
      "Handle Issue Credential Webhook\n",
      "Connection ID : 10402419-a4b3-493e-b76c-84444cd4e885\n",
      "Credential exchange ID : 98a97366-249c-447f-8e27-62cc8b2e73fc\n",
      "Agent Protocol Role :  issuer\n",
      "Protocol State :  request_received\n",
      "\n",
      "---------------------------------------------------\n",
      "\n",
      "Request for credential received\n",
      "\n",
      "---------------------------------------------------\n",
      "\n",
      "Handle Issue Credential Webhook\n",
      "Connection ID : 10402419-a4b3-493e-b76c-84444cd4e885\n",
      "Credential exchange ID : 98a97366-249c-447f-8e27-62cc8b2e73fc\n",
      "Agent Protocol Role :  issuer\n",
      "Protocol State :  credential_issued\n",
      "\n",
      "---------------------------------------------------\n",
      "\n",
      "\n",
      "---------------------------------------------------\n",
      "\n",
      "Handle Issue Credential Webhook\n",
      "Connection ID : 10402419-a4b3-493e-b76c-84444cd4e885\n",
      "Credential exchange ID : 98a97366-249c-447f-8e27-62cc8b2e73fc\n",
      "Agent Protocol Role :  issuer\n",
      "Protocol State :  credential_acked\n",
      "\n",
      "---------------------------------------------------\n",
      "\n"
     ]
    }
   ],
   "source": [
    "# MAKE VC ZKP-able! SEE https://github.com/hyperledger/aries-cloudagent-python/blob/main/JsonLdCredentials.md\n",
    "trace = False # Don't trace ACA-PY instance\n",
    "comment = \"Issuing VC that City is an agency\"\n",
    "auto_remove = True # Remove credential record after issued?\n",
    "\n",
    "# Cred_def_id must identify a definition to which your agent has corresponding private issuing key.\n",
    "send_cred_response = await agent_controller.issuer.send_credential(connection_id, schema_city_id, cred_def_city_id, credential_attributes, comment, auto_remove, trace)"
   ]
  },
  {
   "cell_type": "markdown",
   "id": "7d67ba19",
   "metadata": {},
   "source": [
    "**BREAK POINT:** Proceed to `City` Agent, Step 3.2 \n",
    "\n",
    "---"
   ]
  },
  {
   "cell_type": "markdown",
   "id": "058cd6a9",
   "metadata": {},
   "source": [
    "## Terminate Controller\n",
    "\n",
    "Whenever you have finished with this notebook, be sure to terminate the controller. This is especially important if your business logic runs across multiple notebooks."
   ]
  },
  {
   "cell_type": "code",
   "execution_count": 16,
   "id": "5dc91df3",
   "metadata": {},
   "outputs": [],
   "source": [
    "await agent_controller.terminate()"
   ]
  },
  {
   "cell_type": "code",
   "execution_count": null,
   "id": "3546a042",
   "metadata": {},
   "outputs": [],
   "source": []
  }
 ],
 "metadata": {
  "kernelspec": {
   "display_name": "Python 3 (ipykernel)",
   "language": "python",
   "name": "python3"
  },
  "language_info": {
   "codemirror_mode": {
    "name": "ipython",
    "version": 3
   },
   "file_extension": ".py",
   "mimetype": "text/x-python",
   "name": "python",
   "nbconvert_exporter": "python",
   "pygments_lexer": "ipython3",
   "version": "3.9.5"
  }
 },
 "nbformat": 4,
 "nbformat_minor": 5
}
