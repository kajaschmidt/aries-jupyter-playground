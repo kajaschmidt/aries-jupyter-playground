{
 "cells": [
  {
   "cell_type": "markdown",
   "id": "ebae06bd",
   "metadata": {},
   "source": [
    "# PETs/TETs – Hyperledger Aries – Authority Agent (Issuing Authority) 🏛️\n"
   ]
  },
  {
   "cell_type": "code",
   "execution_count": null,
   "id": "dac157b1",
   "metadata": {},
   "outputs": [],
   "source": [
    "%%javascript\n",
    "document.title='🏛️ Authority Agent'"
   ]
  },
  {
   "cell_type": "markdown",
   "id": "dff6c417",
   "metadata": {},
   "source": [
    "## PART 2: Issue a VC to the city Agents\n",
    "\n",
    "**What:** Issue verifiable credentials (VCs) to all city\n",
    "\n",
    "**Why:** City will be able to store VCs, and prove to relying parties that the agent is a city agency, without revealing their identity.\n",
    "\n",
    "**How:** <br>\n",
    "1. [Initiate Authority's AgentCommunicationManager (ACM)](#1) <br>\n",
    "2. [Connect with City](#2)\n",
    "3. [Issue VC to City](#3)\n",
    "\n",
    "**Accompanying Agents and Notebooks:** \n",
    "* City 🏙️: `02_get_City_VC.ipynb`"
   ]
  },
  {
   "cell_type": "markdown",
   "id": "0078c70c",
   "metadata": {
    "pycharm": {
     "name": "#%% md\n"
    }
   },
   "source": [
    "---\n",
    "\n",
    "### 0 - Setup\n",
    "#### 0.1 - Imports"
   ]
  },
  {
   "cell_type": "code",
   "execution_count": null,
   "id": "c6dd395a",
   "metadata": {
    "pycharm": {
     "name": "#%%\n"
    }
   },
   "outputs": [],
   "source": [
    "from aries_cloudcontroller import AriesAgentController\n",
    "import libs.helpers as helpers\n",
    "from libs.agent_connection_manager import IssuingAuthority\n",
    "import os\n",
    "from termcolor import colored"
   ]
  },
  {
   "cell_type": "markdown",
   "id": "9d1f3cce",
   "metadata": {
    "pycharm": {
     "name": "#%% md\n"
    }
   },
   "source": [
    "#### 0.2 – Variables"
   ]
  },
  {
   "cell_type": "code",
   "execution_count": null,
   "id": "f5e6be68",
   "metadata": {
    "pycharm": {
     "name": "#%%\n"
    }
   },
   "outputs": [],
   "source": [
    "# Get identifier data defined in notebook 00_init_authority_as_issuingAuthority.ipynb\n",
    "identifiers = helpers.get_identifiers()\n",
    "schema_city_id = identifiers[\"city_schema_identifiers\"][\"schema_id\"]\n",
    "cred_def_city_id = identifiers[\"city_schema_identifiers\"][\"cred_def\"]\n",
    "\n",
    "# Get environment variables\n",
    "api_key = os.getenv(\"ACAPY_ADMIN_API_KEY\")\n",
    "admin_url = os.getenv(\"ADMIN_URL\")\n",
    "webhook_port = int(os.getenv(\"WEBHOOK_PORT\"))\n",
    "webhook_host = \"0.0.0.0\""
   ]
  },
  {
   "cell_type": "markdown",
   "id": "c4b3c0d9",
   "metadata": {
    "pycharm": {
     "name": "#%% md\n"
    }
   },
   "source": [
    "---\n",
    "\n",
    "<a id=1> </a>\n",
    "### 1 – Initiate Authority Agent\n",
    "\n",
    "#### 1.1 – Init ACA-PY agent controller"
   ]
  },
  {
   "cell_type": "code",
   "execution_count": null,
   "id": "4a53dd65",
   "metadata": {
    "pycharm": {
     "name": "#%%\n"
    }
   },
   "outputs": [],
   "source": [
    "# Setup\n",
    "agent_controller = AriesAgentController(admin_url,api_key)\n",
    "print(f\"Initialising a controller with admin api at {admin_url} and an api key of {api_key}\")"
   ]
  },
  {
   "cell_type": "markdown",
   "id": "46119e78",
   "metadata": {
    "pycharm": {
     "name": "#%% md\n"
    }
   },
   "source": [
    "#### 1.2 – Start Webhook Server to enable communication with other agents\n",
    "@todo: is communication with other agents, or with other docker containers?"
   ]
  },
  {
   "cell_type": "code",
   "execution_count": null,
   "id": "060ddd7b",
   "metadata": {
    "pycharm": {
     "name": "#%%\n"
    }
   },
   "outputs": [],
   "source": [
    "# Listen on webhook server\n",
    "await agent_controller.init_webhook_server(webhook_host, webhook_port)\n",
    "print(f\"Listening for webhooks from agent at http://{webhook_host}:{webhook_port}\")"
   ]
  },
  {
   "cell_type": "markdown",
   "id": "bb25ca9e",
   "metadata": {
    "pycharm": {
     "name": "#%% md\n"
    }
   },
   "source": [
    "#### 1.3 – Init ACM issuing authority"
   ]
  },
  {
   "cell_type": "code",
   "execution_count": null,
   "id": "405db0ad",
   "metadata": {},
   "outputs": [],
   "source": [
    "# The IssuingAuthority registers relevant webhook servers and event listeners\n",
    "authority_agent = IssuingAuthority(agent_controller)"
   ]
  },
  {
   "cell_type": "markdown",
   "id": "99d55f8c",
   "metadata": {},
   "source": [
    "---\n",
    "\n",
    "<a id=2> </a>\n",
    "\n",
    "### 2 – Establish a connection with the city\n",
    "A connection with the credential issuer (i.e., the authority agent) must be established before a VC can be received. In this scenario, the City requests a connection with the Authority to be certified as an official city agency. Thus, the City agent sends an invitation to the Authority. In real life, the invitation can be shared via video call, phone call, or E-Mail. In this PoC, this is represented by copy and pasting the invitation into the city' notebooks.\n",
    "\n",
    "### 2.1 – Receive invitation from `City` agent\n",
    "Copy the invitation from Step 2.1 in the City's `01_hold_VC.ipynb` notebook into the following cell.\n",
    "Several state changes of the connection between the city agent, the inviter (A), and the authority agent, the invitee (B),  are required before successfully establishing a connection:\n",
    "\n",
    "| Step | State | Agent | Description | Function/Prompt/Variable |\n",
    "| --- | --- | --- | --- | --- |\n",
    "| 1 | invitation-sent | A | A sent an invitation to B | `create_connection_invitation()`\n",
    "| 2 | invitation-received | B | B receives the invitation of A | Prompt: Paste invitation from A |\n",
    "| 3 | request-sent | B | B sends B connection request | Prompt: Accept invitation OR `auto_accept=True` |\n",
    "| 4 | request-received | A | A receives the connection request from B | Prompt: Accept invitation request response OR `auto_accept=True` |\n",
    "| 5 | response-sent | A | A sends B response to B | - |\n",
    "| 6 | response-received | B | B receives the response from A | - |\n",
    "| 7 | active (completed) | A | B pings A to finalize connection | Prompt: Trust ping OR `auto_ping=True` |\n"
   ]
  },
  {
   "cell_type": "code",
   "execution_count": null,
   "id": "c52a49ed",
   "metadata": {},
   "outputs": [],
   "source": [
    "# Setup for connection with Authority agent\n",
    "alias = None\n",
    "auto_accept = True # Accept response of Authority agent right away\n",
    "auto_ping = True\n",
    "public = False # Do not use public DID\n",
    "multi_use = False # Invitation is only for one invitee\n",
    "\n",
    "connection_id = authority_agent.create_connection_invitation(alias=alias, auto_accept=auto_accept, public=public, multi_use=multi_use, auto_ping=auto_ping)"
   ]
  },
  {
   "cell_type": "markdown",
   "id": "45cc4a30",
   "metadata": {},
   "source": [
    "<div style=\"font-size: 25px\"><center><b>Break Point 1</b></center></div>\n",
    "<div style=\"font-size: 50px\"><center>🏛 ➡️ 🏙️</center></div><br>\n",
    "<center><b>Please return to the City's notebook 🏙️. <br>Check the prompts in Step 2.1 (e.g., if auto_accept or auto_ping are set to False), and then proceed to Step 3.</b></center>\n",
    "\n",
    "---"
   ]
  },
  {
   "cell_type": "markdown",
   "id": "739a2b73",
   "metadata": {
    "pycharm": {
     "name": "#%% md\n"
    }
   },
   "source": [
    "<a id=3> </a>\n",
    "### 3 – Issue City a VC\n",
    "#### 3.1 – Send City a request to fill out required information"
   ]
  },
  {
   "cell_type": "code",
   "execution_count": null,
   "id": "71a4159e",
   "metadata": {
    "pycharm": {
     "name": "#%%\n"
    }
   },
   "outputs": [],
   "source": [
    "# Contact authority agent\n",
    "basic_message = \"Hello City. I would like to certify you as an official city agency. Please tell me your city and country.\"\n",
    "authority_agent.send_message(connection_id, basic_message)"
   ]
  },
  {
   "cell_type": "markdown",
   "id": "dbf0dd67",
   "metadata": {},
   "source": [
    "<div style=\"font-size: 25px\"><center><b>Break Point 3</b></center></div>\n",
    "<div style=\"font-size: 50px\"><center>🏛 ➡️ 🏙️</center></div><br>\n",
    "<center><b>Please return to the City's notebook 🏙️. <br>Continue with Step 3.1</b></center>\n",
    "\n",
    "#### 3.2 – See response of City agent"
   ]
  },
  {
   "cell_type": "code",
   "execution_count": null,
   "id": "2a8ff168",
   "metadata": {},
   "outputs": [],
   "source": [
    "# Verify inbox\n",
    "message_ids = authority_agent.verify_inbox()\n",
    "\n",
    "for m_id in message_ids:\n",
    "    authority_agent.get_message(m_id)"
   ]
  },
  {
   "cell_type": "markdown",
   "id": "d97fa40e",
   "metadata": {},
   "source": [
    "### 3.3 – Offer VC to `City` agent\n",
    "The next step is to offer a VC to the city agent. The city can then request the offer and store it in their wallet. The following table provides an overview of the individual states between I (Issuer, the Authority agent) and H (Holder, the city).\n",
    "\n",
    "| Step | State | Role | Description | Function/Prompt/Variable |\n",
    "| --- | --- | --- | --- | --- |\n",
    "| 1 | offer_sent | I | I sends I VC offer with personalized information to H| `offer_vc()` |\n",
    "| 2 | offer_received | H | H receives offer made by I | - |\n",
    "| 3 | request_sent | H | Request VC offer | `request_vc()` AND (Prompt: request VC OR `auto_request=True`) |\n",
    "| 4 | request_received | I | M1's request to get VC was received | - |\n",
    "| 5 | credential_issued | I | Automatic response to issue credential | - |\n",
    "| 6 | credential_received | H| H receives VC and is asked to store it | Prompt: Store VC OR `auto_store=True`\n",
    "| 7 | credential_acked | I / H | Credential was issued and stored | - |"
   ]
  },
  {
   "cell_type": "code",
   "execution_count": null,
   "id": "02a30a05",
   "metadata": {
    "pycharm": {
     "name": "#%%\n"
    }
   },
   "outputs": [],
   "source": [
    "# MAKE VC ZKP-able! SEE https://github.com/hyperledger/aries-cloudagent-python/blob/main/JsonLdCredentials.md\n",
    "comment = \"Issuing VC that City is a city agency\"\n",
    "auto_remove = True\n",
    "trace = False\n",
    "\n",
    "# Offer City a VC with city_schema\n",
    "authority_agent.offer_vc(\n",
    "    connection_id, \n",
    "    schema_city_id,\n",
    "    cred_def_city_id,\n",
    "    comment=comment, \n",
    "    # Comment out next line if you do not want to get the prompts to enter VC information\n",
    "    #credential_attributes=[{\"name\": \"manufacturerName\", \"value\": \"undisclosedCity\"}, {\"name\": \"manufacturerCity\", \"value\": \"Berlin\"}, {\"name\": \"manufacturerCountry\", \"value\": \"Germany\"}, {\"name\": \"isManufacturer\", \"value\": \"TRUE\"}]\n",
    ")"
   ]
  },
  {
   "cell_type": "markdown",
   "id": "f40619e3",
   "metadata": {
    "pycharm": {
     "name": "#%% md\n"
    }
   },
   "source": [
    "<div style=\"font-size: 25px\"><center><b>Break Point 5</b></center></div>\n",
    "<div style=\"font-size: 50px\"><center>🏛 ➡️ 🏙️</center></div><br>\n",
    "<center><b>Please return to the City's notebook 🏙️. <br>Continue with Step 3.3</b></center>\n",
    "\n",
    "---\n",
    "\n",
    "## 4 - Terminate Controller\n",
    "\n",
    "Whenever you have finished with this notebook, be sure to terminate the controller. This is especially important if your business logic runs across multiple notebooks."
   ]
  },
  {
   "cell_type": "code",
   "execution_count": null,
   "id": "387fa607",
   "metadata": {},
   "outputs": [],
   "source": [
    "await agent_controller.terminate()"
   ]
  },
  {
   "cell_type": "markdown",
   "id": "a45ddee2",
   "metadata": {},
   "source": [
    "--- \n",
    "\n",
    "### 🔥🔥🔥 You are done 🙌 and can close this notebook now 🔥🔥🔥\n"
   ]
  },
  {
   "cell_type": "code",
   "execution_count": null,
   "id": "9aeccbe2",
   "metadata": {
    "collapsed": false,
    "jupyter": {
     "outputs_hidden": false
    },
    "pycharm": {
     "name": "#%%"
    }
   },
   "outputs": [],
   "source": []
  }
 ],
 "metadata": {
  "kernelspec": {
   "display_name": "Python 3 (ipykernel)",
   "language": "python",
   "name": "python3"
  },
  "language_info": {
   "codemirror_mode": {
    "name": "ipython",
    "version": 3
   },
   "file_extension": ".py",
   "mimetype": "text/x-python",
   "name": "python",
   "nbconvert_exporter": "python",
   "pygments_lexer": "ipython3",
   "version": "3.9.5"
  }
 },
 "nbformat": 4,
 "nbformat_minor": 5
}
