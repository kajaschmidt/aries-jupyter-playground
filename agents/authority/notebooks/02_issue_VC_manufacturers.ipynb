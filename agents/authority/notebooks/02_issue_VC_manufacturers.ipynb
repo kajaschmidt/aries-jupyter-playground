{
 "cells": [
  {
   "cell_type": "markdown",
   "id": "6bb3fe9a",
   "metadata": {},
   "source": [
    "# PART 2: Issue a VC to the Manufacturer Agents"
   ]
  },
  {
   "cell_type": "code",
   "execution_count": 1,
   "id": "accb5786",
   "metadata": {},
   "outputs": [
    {
     "data": {
      "application/javascript": [
       "document.title='Authority Agent'\n"
      ],
      "text/plain": [
       "<IPython.core.display.Javascript object>"
      ]
     },
     "metadata": {},
     "output_type": "display_data"
    }
   ],
   "source": [
    "%%javascript\n",
    "document.title='Authority Agent'"
   ]
  },
  {
   "cell_type": "markdown",
   "id": "02ea88ed",
   "metadata": {},
   "source": [
    "#### Imports"
   ]
  },
  {
   "cell_type": "code",
   "execution_count": 2,
   "id": "eb801caa",
   "metadata": {},
   "outputs": [],
   "source": [
    "from aries_cloudcontroller import AriesAgentController\n",
    "from libs.connection_service import ConnectionService\n",
    "import libs.functions as fnc\n",
    "import os\n",
    "from pprintpp import pprint\n",
    "from termcolor import colored"
   ]
  },
  {
   "cell_type": "markdown",
   "id": "ca4f11a8",
   "metadata": {},
   "source": [
    "#### Get schema and cred def identifiers defined in `00_init_authority_as_issuingAuthority.ipynb`"
   ]
  },
  {
   "cell_type": "code",
   "execution_count": 3,
   "id": "6e62daf3",
   "metadata": {},
   "outputs": [],
   "source": [
    "# Copy an updated version if necessary\n",
    "identifiers = fnc.get_identifiers() \n",
    "\n",
    "# Get city schema identifiers\n",
    "schema_city_id = identifiers[\"city_schema_identifiers\"][\"schema_id\"]\n",
    "cred_def_city_id = identifiers[\"city_schema_identifiers\"][\"cred_def\"]\n",
    "\n",
    "# Get manufacturer schema identifiers\n",
    "schema_manufacturer_id = identifiers[\"manufacturer_schema_identifiers\"][\"schema_id\"]\n",
    "cred_def_manufacturer_id = identifiers[\"manufacturer_schema_identifiers\"][\"cred_def\"]"
   ]
  },
  {
   "cell_type": "markdown",
   "id": "91bd0f11",
   "metadata": {},
   "source": [
    "#### Get relevant variables"
   ]
  },
  {
   "cell_type": "code",
   "execution_count": 4,
   "id": "e9e8ab02",
   "metadata": {},
   "outputs": [],
   "source": [
    "api_key = os.getenv(\"ACAPY_ADMIN_API_KEY\")\n",
    "admin_url = os.getenv(\"ADMIN_URL\")\n",
    "webhook_port = int(os.getenv(\"WEBHOOK_PORT\"))\n",
    "webhook_host = \"0.0.0.0\""
   ]
  },
  {
   "cell_type": "markdown",
   "id": "2dd5ff51",
   "metadata": {},
   "source": [
    "## 1 – Init Aries Agent, Webhook Server and register Event Listeners for webhook server\n",
    "#### 1.1 – Init aries agent and Start webhook server\n",
    "Start a webhook server to be able to communicate with other agents"
   ]
  },
  {
   "cell_type": "code",
   "execution_count": 5,
   "id": "b30bf2ec",
   "metadata": {},
   "outputs": [
    {
     "name": "stdout",
     "output_type": "stream",
     "text": [
      "Initialising a controller with admin api at http://authority-agent:3021 and an api key of adminApiKey\n",
      "Listening for webhooks from agent at http://0.0.0.0:3010\n"
     ]
    }
   ],
   "source": [
    "# Setup\n",
    "print(f\"Initialising a controller with admin api at {admin_url} and an api key of {api_key}\")\n",
    "agent_controller = AriesAgentController(admin_url,api_key)\n",
    "\n",
    "# Listen on webhook server\n",
    "await agent_controller.init_webhook_server(webhook_host, webhook_port)\n",
    "print(f\"Listening for webhooks from agent at http://{webhook_host}:{webhook_port}\")"
   ]
  },
  {
   "cell_type": "markdown",
   "id": "770eb89f",
   "metadata": {},
   "source": [
    "#### 1.2 – Define listeners\n",
    "Define listeners that are triggered when something happens on the webhook server"
   ]
  },
  {
   "cell_type": "markdown",
   "id": "5aabb659",
   "metadata": {},
   "source": [
    "#### 1.3 – Register listeners with `agent_controller`"
   ]
  },
  {
   "cell_type": "code",
   "execution_count": 6,
   "id": "f6368501",
   "metadata": {},
   "outputs": [
    {
     "name": "stdout",
     "output_type": "stream",
     "text": [
      "\u001b[1mInitiate ConnectionService:\u001b[0m\n",
      "* Defines and registers agent listeners:  ['connections', 'prover_proof', 'verifier_proof', 'issue_credential', 'basicmessages']\n",
      "* Stores initiated connections\n",
      "* Allows to easily create and accept connection invitations\n",
      "* Facilitates process of issuing and verifying verifiable credentials\n"
     ]
    }
   ],
   "source": [
    "connections = ConnectionService(agent_controller)"
   ]
  },
  {
   "cell_type": "code",
   "execution_count": 21,
   "id": "8c37d484",
   "metadata": {},
   "outputs": [
    {
     "name": "stdin",
     "output_type": "stream",
     "text": [
      "\u001b[34mPlease enter invitation received by external agent: \u001b[0m {     '@id': '4747415c-1935-408c-a794-6a73bb6b309c',     '@type': 'did:sov:BzCbsNYhMrjHiqZDTUASHg;spec/connections/1.0/invitation',     'label': 'Manufacturer1',     'recipientKeys': ['FWj2XhxFNke6DFusyZfkirEv7rXYRSqMCdpMJNEMMNEv'],     'serviceEndpoint': 'http://bb082e6e29a4.ngrok.io', }\n"
     ]
    },
    {
     "name": "stdout",
     "output_type": "stream",
     "text": [
      "\n",
      "---------------------------------------------------------------------\n",
      "\u001b[1mConnection Webhook Event Received\u001b[0m\n",
      "Connection ID :  8d2736f5-476b-4a76-9626-6aa535054e12\n",
      "State :  \u001b[33minvitation (invitation-received)\u001b[0m\n",
      "Routing State : none\n",
      "Connection with :  Manufacturer1\n",
      "Their Role :  inviter\n",
      "---------------------------------------------------------------------\n",
      "\n",
      "---------------------------------------------------------------------\n",
      "\u001b[1mConnection Webhook Event Received\u001b[0m\n",
      "Connection ID :  8d2736f5-476b-4a76-9626-6aa535054e12\n",
      "State :  \u001b[33mrequest (request-sent)\u001b[0m\n",
      "Routing State : none\n",
      "Connection with :  Manufacturer1\n",
      "Their Role :  inviter\n",
      "---------------------------------------------------------------------\n"
     ]
    }
   ],
   "source": [
    "# Setup variables\n",
    "auto_accept = \"true\"\n",
    "alias = None\n",
    "label = \"City Agent <> Authority Agent\" \n",
    "\n",
    "connection_id = connections.wrapper_receive_connection_invitation(alias, auto_accept, label)"
   ]
  },
  {
   "cell_type": "markdown",
   "id": "43a88041",
   "metadata": {},
   "source": [
    "**BREAK POINT:** Please switch to agent `Manufacturer1`, open `01_hold_VC.ipynb`, and start executing the notebook\n",
    "\n",
    "---\n",
    "\n",
    "## 2 – Establish connection with `Manufacturer1` agent\n",
    "Establish connection with the`Manufacturer1` agent. In this scenario, the `Manufacturer1` sends an invitation to connect with the Authority. \n",
    "\n",
    "### 2.1 – Receive invitation from `Manufacturer1` agent\n",
    "Copy the invitation from Step 2.2 in the City's `01_hold_VC.ipynb` notebook into the following cell. "
   ]
  },
  {
   "cell_type": "markdown",
   "id": "9201eae5",
   "metadata": {},
   "source": [
    "### 2.2 – Accept invitation"
   ]
  },
  {
   "cell_type": "markdown",
   "id": "01e3c2f0",
   "metadata": {},
   "source": [
    "**BREAK POINT:** Please proceed to step 2.3 in the `01_hold_VC.ipynb` notebook of the `Manufacturer1` agent\n",
    "\n",
    "---"
   ]
  },
  {
   "cell_type": "markdown",
   "id": "ae8be404",
   "metadata": {},
   "source": [
    "## 3 – Get info from `Manufacturer1` agent and issue a VC\n",
    "### 3.1 – Greet `Manufacturer1` to open connection in this cell\n",
    "The response with the relevant City information will be displayed in the following cell."
   ]
  },
  {
   "cell_type": "code",
   "execution_count": null,
   "id": "08cc4123",
   "metadata": {},
   "outputs": [],
   "source": [
    "connections.send_message(connection_id, \"testing connection\")"
   ]
  },
  {
   "cell_type": "code",
   "execution_count": null,
   "id": "530ab169",
   "metadata": {},
   "outputs": [],
   "source": [
    "basic_message = \"Hello Manufacturer1. Plase provide me with the following information: manufacturerName, manufacturerCountry, ManufacturerCity.\"\n",
    "await agent_controller.messaging.send_message(connection_id, basic_message)"
   ]
  },
  {
   "cell_type": "markdown",
   "id": "037e59f2",
   "metadata": {},
   "source": [
    "### 3.2 – Populate VC Attributes\n",
    "\n",
    "Define the values that will be issued in the VC. The attributes match the attributes defined in the city-agent-scheme."
   ]
  },
  {
   "cell_type": "code",
   "execution_count": 16,
   "id": "404e685e",
   "metadata": {},
   "outputs": [
    {
     "name": "stdout",
     "output_type": "stream",
     "text": [
      "[{'name': 'manufacturerName', 'value': 'M1'}, {'name': 'manufacturerCity', 'value': 'Munich'}, {'name': 'manufacturerCountry', 'value': 'DE'}, {'name': 'isManufacturer', 'value': 'TRUE'}]\n"
     ]
    }
   ],
   "source": [
    "# @todo: see if you can automate the filling out of this (e.g., by accessing the scheme or similar)\n",
    "values_m1 = {\"manufacturerName\": \"M1\", \"manufacturerCountry\": \"DE\", \"manufacturerCity\": \"Munich\"}\n",
    "\n",
    "credential_attributes = [\n",
    "    {\"name\": \"manufacturerName\", \"value\": values_m1[\"manufacturerName\"]},\n",
    "    {\"name\": \"manufacturerCity\", \"value\": values_m1[\"manufacturerCity\"]},\n",
    "    {\"name\": \"manufacturerCountry\", \"value\": values_m1[\"manufacturerCountry\"]},\n",
    "    {\"name\": \"isManufacturer\", \"value\": \"TRUE\"}\n",
    "]\n",
    "print(credential_attributes)"
   ]
  },
  {
   "cell_type": "code",
   "execution_count": 14,
   "id": "5eb57409",
   "metadata": {},
   "outputs": [
    {
     "data": {
      "text/plain": [
       "{'schema': {'ver': '1.0',\n",
       "  'id': 'XnKQj3iXVNpBBtFcArtxw2:2:certify-manufacturer:0.0.1',\n",
       "  'name': 'certify-manufacturer',\n",
       "  'version': '0.0.1',\n",
       "  'attrNames': ['manufacturerCountry',\n",
       "   'manufacturerName',\n",
       "   'isManufacturer',\n",
       "   'manufacturerCity'],\n",
       "  'seqNo': 248534}}"
      ]
     },
     "execution_count": 14,
     "metadata": {},
     "output_type": "execute_result"
    }
   ],
   "source": [
    "await agent_controller.schema.get_by_id(schema_manufacturer_id)"
   ]
  },
  {
   "cell_type": "markdown",
   "id": "d521feed",
   "metadata": {},
   "source": [
    "### 3.3 – Offer VC to `Manufacturer1` agent"
   ]
  },
  {
   "cell_type": "code",
   "execution_count": 19,
   "id": "d73cb85a",
   "metadata": {},
   "outputs": [
    {
     "name": "stdout",
     "output_type": "stream",
     "text": [
      "\n",
      "---------------------------------------------------------------------\n",
      "\u001b[1mHandle Issue Credential Webhook\u001b[0m\n",
      "Connection ID : 8d2b36e8-3fbc-4044-b702-d4d852c0e1ac\n",
      "Credential exchange ID : f224e64c-73dd-4aaf-b545-472c43f64ead\n",
      "Agent Protocol Role :  issuer\n",
      "Protocol State :  \u001b[33moffer_sent\u001b[0m\n",
      "---------------------------------------------------------------------\n",
      "Offering : \n",
      " [{'name': 'manufacturerName', 'value': 'M1'}, {'name': 'manufacturerCity', 'value': 'Munich'}, {'name': 'manufacturerCountry', 'value': 'DE'}, {'name': 'isManufacturer', 'value': 'TRUE'}]\n"
     ]
    }
   ],
   "source": [
    "# MAKE VC ZKP-able! SEE https://github.com/hyperledger/aries-cloudagent-python/blob/main/JsonLdCredentials.md\n",
    "comment = \"Issuing VC that Manufacturer1 is a manufacturer\"\n",
    "auto_remove = True\n",
    "trace = False\n",
    "\n",
    "# Cred_def_id must identify a definition to which your agent has corresponding private issuing key.\n",
    "send_cred_response = await agent_controller.issuer.send_credential(connection_id, schema_manufacturer_id, cred_def_manufacturer_id, credential_attributes, comment, auto_remove, trace)"
   ]
  },
  {
   "cell_type": "markdown",
   "id": "e5b4588b",
   "metadata": {},
   "source": [
    "**BREAK POINT:** Proceed to `Manufacturer1` Agent, Step 3.2 \n",
    "\n",
    "---"
   ]
  },
  {
   "cell_type": "markdown",
   "id": "9a0e0169",
   "metadata": {},
   "source": [
    "## Terminate Controller\n",
    "\n",
    "Whenever you have finished with this notebook, be sure to terminate the controller. This is especially important if your business logic runs across multiple notebooks."
   ]
  },
  {
   "cell_type": "code",
   "execution_count": null,
   "id": "f25cc5f4",
   "metadata": {},
   "outputs": [],
   "source": [
    "await agent_controller.terminate()"
   ]
  },
  {
   "cell_type": "code",
   "execution_count": null,
   "id": "44fa4f7f",
   "metadata": {},
   "outputs": [],
   "source": []
  }
 ],
 "metadata": {
  "kernelspec": {
   "display_name": "Python 3 (ipykernel)",
   "language": "python",
   "name": "python3"
  },
  "language_info": {
   "codemirror_mode": {
    "name": "ipython",
    "version": 3
   },
   "file_extension": ".py",
   "mimetype": "text/x-python",
   "name": "python",
   "nbconvert_exporter": "python",
   "pygments_lexer": "ipython3",
   "version": "3.9.5"
  }
 },
 "nbformat": 4,
 "nbformat_minor": 5
}
