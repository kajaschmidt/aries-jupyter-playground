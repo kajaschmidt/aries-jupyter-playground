{
 "cells": [
  {
   "cell_type": "markdown",
   "id": "6c1807b1",
   "metadata": {},
   "source": [
    "# PART 2: Issue a VC to the Manufacturer Agents"
   ]
  },
  {
   "cell_type": "code",
   "execution_count": 1,
   "id": "f7c7d48c",
   "metadata": {},
   "outputs": [
    {
     "data": {
      "application/javascript": [
       "document.title='Authority Agent'\n"
      ],
      "text/plain": [
       "<IPython.core.display.Javascript object>"
      ]
     },
     "metadata": {},
     "output_type": "display_data"
    }
   ],
   "source": [
    "%%javascript\n",
    "document.title='Authority Agent'"
   ]
  },
  {
   "cell_type": "markdown",
   "id": "ca2fafe4",
   "metadata": {},
   "source": [
    "#### Imports"
   ]
  },
  {
   "cell_type": "code",
   "execution_count": 2,
   "id": "cd78364b",
   "metadata": {},
   "outputs": [],
   "source": [
    "from aries_cloudcontroller import AriesAgentController\n",
    "import os\n",
    "from pprintpp import pprint\n",
    "from termcolor import colored"
   ]
  },
  {
   "cell_type": "markdown",
   "id": "317bb572",
   "metadata": {},
   "source": [
    "#### Get schema and cred def identifiers defined in `00_init_authority_as_issuingAuthority.ipynb`"
   ]
  },
  {
   "cell_type": "code",
   "execution_count": 3,
   "id": "3fea1880",
   "metadata": {},
   "outputs": [
    {
     "name": "stdout",
     "output_type": "stream",
     "text": [
      "--- LOAD VARIABLES FROM JUPYTERLAB STORE ---\n",
      "schema_city_id: MTXSc4YD8wixyM9ekZbmMC:2:certify-city-agency:0.0.1\n",
      "cred_def_city_id: MTXSc4YD8wixyM9ekZbmMC:3:CL:246685:default\n",
      "schema_manufacturer_id: MTXSc4YD8wixyM9ekZbmMC:2:certify-manufacturer:0.0.1\n",
      "cred_def_manufacturer_id: MTXSc4YD8wixyM9ekZbmMC:3:CL:246687:default\n"
     ]
    }
   ],
   "source": [
    "# If the identifiers are not stored for some reason\n",
    "try:\n",
    "    # Load variables – assuming they have been written to the store in a previous notebook\n",
    "    print(\"--- LOAD VARIABLES FROM JUPYTERLAB STORE ---\")\n",
    "    \n",
    "    %store -r schema_city_id\n",
    "    %store -r cred_def_city_id\n",
    "    %store -r schema_manufacturer_id\n",
    "    %store -r cred_def_manufacturer_id\n",
    "    \n",
    "    print(f\"schema_city_id: {schema_city_id}\")\n",
    "    print(f\"cred_def_city_id: {cred_def_city_id}\")\n",
    "    print(f\"schema_manufacturer_id: {schema_manufacturer_id}\")\n",
    "    print(f\"cred_def_manufacturer_id: {cred_def_manufacturer_id}\")\n",
    "    \n",
    "except Exception as e:\n",
    "    \n",
    "    print(\"--- DEFINE VARIABLES FROM MANUALLY COPIED identifiers DICT ---\")\n",
    "    \n",
    "    # Copy an updated version if necessary\n",
    "    identifiers = {\n",
    "        'city_schema_identifiers': {\n",
    "            'cred_def': 'BQmsjXtsjzzmTtdwQg5Ftn:3:CL:239757:default',\n",
    "            'schema_id': 'BQmsjXtsjzzmTtdwQg5Ftn:2:certify-city-agency:0.0.1',\n",
    "        },\n",
    "        'manufacturer_schema_identifiers': {\n",
    "            'cred_def': 'BQmsjXtsjzzmTtdwQg5Ftn:3:CL:239761:default',\n",
    "            'schema_id': 'BQmsjXtsjzzmTtdwQg5Ftn:2:certify-manufacturer:0.0.1',\n",
    "        },\n",
    "    }\n",
    "\n",
    "    # Get city schema identifiers\n",
    "    schema_city_id = identifiers[\"city_schema_identifiers\"][\"schema_id\"]\n",
    "    cred_def_city_id = identifiers[\"city_schema_identifiers\"][\"cred_def\"]\n",
    "\n",
    "    # Get manufacturer schema identifiers\n",
    "    schema_manufacturer_id = identifiers[\"manufacturer_schema_identifiers\"][\"schema_id\"]\n",
    "    cred_def_manufacturer_id = identifiers[\"manufacturer_schema_identifiers\"][\"cred_def\"]\n",
    "\n",
    "    # Load variables to Jupyter store\n",
    "    %store schema_city_id\n",
    "    %store cred_def_city_id\n",
    "    %store schema_manufacturer_id\n",
    "    %store cred_def_manufacturer_id"
   ]
  },
  {
   "cell_type": "markdown",
   "id": "18f39b2c",
   "metadata": {},
   "source": [
    "#### Init agent controller of Authority"
   ]
  },
  {
   "cell_type": "code",
   "execution_count": 4,
   "id": "f2b7d5c2",
   "metadata": {},
   "outputs": [
    {
     "name": "stdout",
     "output_type": "stream",
     "text": [
      "Initialising a controller with admin api at http://authority-agent:3021 and an api key of adminApiKey\n"
     ]
    }
   ],
   "source": [
    "api_key = os.getenv(\"ACAPY_ADMIN_API_KEY\")\n",
    "admin_url = os.getenv(\"ADMIN_URL\")\n",
    "\n",
    "print(f\"Initialising a controller with admin api at {admin_url} and an api key of {api_key}\")\n",
    "agent_controller = AriesAgentController(admin_url,api_key)"
   ]
  },
  {
   "cell_type": "markdown",
   "id": "a7271535",
   "metadata": {},
   "source": [
    "## 1 – Init Webhook Server and register Event Listeners for it\n",
    "#### 1.1 – Start webhook server\n",
    "Start a webhook server to be able to communicate with other agents"
   ]
  },
  {
   "cell_type": "code",
   "execution_count": 5,
   "id": "3f16b9fd",
   "metadata": {},
   "outputs": [
    {
     "name": "stdout",
     "output_type": "stream",
     "text": [
      "Listening for webhooks from agent at http://0.0.0.0:3010\n"
     ]
    }
   ],
   "source": [
    "# Setup\n",
    "webhook_port = int(os.getenv(\"WEBHOOK_PORT\"))\n",
    "webhook_host = \"0.0.0.0\"\n",
    "\n",
    "# Listen on webhook server\n",
    "await agent_controller.init_webhook_server(webhook_host, webhook_port)\n",
    "print(f\"Listening for webhooks from agent at http://{webhook_host}:{webhook_port}\")"
   ]
  },
  {
   "cell_type": "markdown",
   "id": "8f34408d",
   "metadata": {},
   "source": [
    "#### 1.2 – Define listeners\n",
    "Define listeners that are triggered when something happens on the webhook server"
   ]
  },
  {
   "cell_type": "code",
   "execution_count": 6,
   "id": "a381b97d",
   "metadata": {},
   "outputs": [],
   "source": [
    "# Receive connection messages\n",
    "def connections_handler(payload):\n",
    "    state = payload['state']\n",
    "    connection_id = payload[\"connection_id\"]\n",
    "    their_role = payload[\"their_role\"]\n",
    "    routing_state = payload[\"routing_state\"]\n",
    "    \n",
    "    print(\"----------------------------------------------------------\")\n",
    "    print(\"Connection Webhook Event Received\")\n",
    "    print(\"Connection ID : \", connection_id)\n",
    "    print(\"State : \", state)\n",
    "    print(\"Routing State : \", routing_state)\n",
    "    print(\"Their Role : \", their_role)\n",
    "    print(\"----------------------------------------------------------\")\n",
    "\n",
    "    if state == \"invitation\":\n",
    "        # Your business logic\n",
    "        print(\"invitation\")\n",
    "    elif state == \"request\":\n",
    "        # Your business logic\n",
    "        print(\"request\")\n",
    "\n",
    "    elif state == \"response\":\n",
    "        # Your business logic\n",
    "        print(\"response\")\n",
    "    elif state == \"active\":\n",
    "        # Your business logic\n",
    "        print(colored(\"Connection ID: {0} is now active.\".format(connection_id), \"green\", attrs=[\"bold\"]))\n",
    "\n",
    "\n",
    "def issuer_handler(payload):\n",
    "    connection_id = payload['connection_id']\n",
    "    exchange_id = payload['credential_exchange_id']\n",
    "    state = payload['state']\n",
    "    role = payload['role']\n",
    "    print(\"\\n---------------------------------------------------\\n\")\n",
    "    print(\"Handle Issue Credential Webhook\")\n",
    "    print(f\"Connection ID : {connection_id}\")\n",
    "    print(f\"Credential exchange ID : {exchange_id}\")\n",
    "    print(\"Agent Protocol Role : \", role)\n",
    "    print(\"Protocol State : \", state )\n",
    "    print(\"\\n---------------------------------------------------\\n\")\n",
    "    \n",
    "    \n",
    "    if state == \"offer_sent\":\n",
    "        proposal = payload[\"credential_proposal_dict\"]\n",
    "        attributes = proposal['credential_proposal']['attributes']\n",
    "        print(f\"Offering : \\n {attributes}\")\n",
    "        ## YOUR LOGIC HERE\n",
    "    elif state == \"request_received\":\n",
    "        print(\"Request for credential received\")\n",
    "        ## YOUR LOGIC HERE\n",
    "    elif state == \"credential_sent\":\n",
    "        print(\"Credential Sent\")\n",
    "        ## YOUR LOGIC HERE\n",
    "        \n",
    "        \n",
    "def messages_handler(payload):\n",
    "    connection_id = payload[\"connection_id\"]\n",
    "    print(\"Handle message\", connection_id)\n",
    "    pprint(payload)"
   ]
  },
  {
   "cell_type": "code",
   "execution_count": 7,
   "id": "4d5710a5",
   "metadata": {},
   "outputs": [],
   "source": [
    "# Init listeners list\n",
    "listeners = []\n",
    "        \n",
    "# Add listeners defined in previous cell\n",
    "connection_listener = {\"handler\": connections_handler, \"topic\": \"connections\"}\n",
    "listeners.append(connection_listener)\n",
    "\n",
    "issuer_listener = {\"handler\": issuer_handler, \"topic\": \"issue_credential\"}\n",
    "listeners.append(issuer_listener)\n",
    "\n",
    "message_listener = {\"handler\": messages_handler, \"topic\": \"basicmessages\"}\n",
    "listeners.append(message_listener)"
   ]
  },
  {
   "cell_type": "markdown",
   "id": "3e83debb",
   "metadata": {},
   "source": [
    "#### 1.3 – Register listeners with `agent_controller`"
   ]
  },
  {
   "cell_type": "code",
   "execution_count": 8,
   "id": "f8cc4458",
   "metadata": {},
   "outputs": [],
   "source": [
    "agent_controller.register_listeners(listeners)"
   ]
  },
  {
   "cell_type": "markdown",
   "id": "e34281e9",
   "metadata": {},
   "source": [
    "**BREAK POINT:** Please switch to agent `Manufacturer1`, open `01_hold_VC.ipynb`, and start executing the notebook\n",
    "\n",
    "---\n",
    "\n",
    "## 2 – Establish connection with `Manufacturer1` agent\n",
    "Establish connection with the`Manufacturer1` agent. In this scenario, the `Manufacturer1` sends an invitation to connect with the Authority. \n",
    "\n",
    "### 2.1 – Receive invitation from `Manufacturer1` agent\n",
    "Copy the invitation from Step 2.2 in the City's `01_hold_VC.ipynb` notebook into the following cell. "
   ]
  },
  {
   "cell_type": "code",
   "execution_count": 9,
   "id": "5ed21d84",
   "metadata": {},
   "outputs": [],
   "source": [
    "invitation = {\n",
    "    '@id': '149a1be3-e17d-44d5-92f4-b40ddb629649',\n",
    "    '@type': 'did:sov:BzCbsNYhMrjHiqZDTUASHg;spec/connections/1.0/invitation',\n",
    "    'label': 'Manufacturer1',\n",
    "    'recipientKeys': ['8x5QM4KWByjUVdqbdTBdv2a1zABkH6uC4j9Ab9yhX2ng'],\n",
    "    'serviceEndpoint': 'https://c1b8e3f90d1a.ngrok.io',\n",
    "}"
   ]
  },
  {
   "cell_type": "code",
   "execution_count": 10,
   "id": "f8ed18ae",
   "metadata": {},
   "outputs": [
    {
     "name": "stdout",
     "output_type": "stream",
     "text": [
      "----------------------------------------------------------\n",
      "Connection Webhook Event Received\n",
      "Connection ID :  4b74f1fc-4c5c-42d1-921b-62fca323b54a\n",
      "State :  invitation\n",
      "Routing State :  none\n",
      "Their Role :  inviter\n",
      "----------------------------------------------------------\n",
      "invitation\n"
     ]
    }
   ],
   "source": [
    "# Receive invitation and store the connection_id for further protocols (e.g., issuing VCs)\n",
    "invite_response = await agent_controller.connections.receive_invitation(invitation, alias=None, auto_accept=False)\n",
    "connection_id = invite_response[\"connection_id\"]"
   ]
  },
  {
   "cell_type": "markdown",
   "id": "29509641",
   "metadata": {},
   "source": [
    "### 2.2 – Accept invitation"
   ]
  },
  {
   "cell_type": "code",
   "execution_count": 11,
   "id": "71ecb65a",
   "metadata": {},
   "outputs": [
    {
     "name": "stdout",
     "output_type": "stream",
     "text": [
      "----------------------------------------------------------\n",
      "Connection Webhook Event Received\n",
      "Connection ID :  4b74f1fc-4c5c-42d1-921b-62fca323b54a\n",
      "State :  request\n",
      "Routing State :  none\n",
      "Their Role :  inviter\n",
      "----------------------------------------------------------\n",
      "request\n",
      "----------------------------------------------------------\n",
      "Connection Webhook Event Received\n",
      "Connection ID :  4b74f1fc-4c5c-42d1-921b-62fca323b54a\n",
      "State :  response\n",
      "Routing State :  none\n",
      "Their Role :  inviter\n",
      "----------------------------------------------------------\n",
      "response\n",
      "----------------------------------------------------------\n",
      "Connection Webhook Event Received\n",
      "Connection ID :  4b74f1fc-4c5c-42d1-921b-62fca323b54a\n",
      "State :  active\n",
      "Routing State :  none\n",
      "Their Role :  inviter\n",
      "----------------------------------------------------------\n",
      "\u001b[1m\u001b[32mConnection ID: 4b74f1fc-4c5c-42d1-921b-62fca323b54a is now active.\u001b[0m\n",
      "Handle message 4b74f1fc-4c5c-42d1-921b-62fca323b54a\n",
      "{\n",
      "    'connection_id': '4b74f1fc-4c5c-42d1-921b-62fca323b54a',\n",
      "    'content': 'Hello Authority agent',\n",
      "    'message_id': '39c6aa89-447b-4336-9f37-c3444cf298fd',\n",
      "    'sent_time': '2021-08-09 14:21:49.573402Z',\n",
      "    'state': 'received',\n",
      "}\n"
     ]
    }
   ],
   "source": [
    "# Label for the connection\n",
    "my_label = \"City Agent <> Authority Agent\" # Label for connection\n",
    "my_endpoint = None # Endpoint you expect to recieve messages at\n",
    "\n",
    "# Accept response\n",
    "accept_response = await agent_controller.connections.accept_invitation(connection_id, my_label, my_endpoint)"
   ]
  },
  {
   "cell_type": "markdown",
   "id": "16296fb9",
   "metadata": {},
   "source": [
    "**BREAK POINT:** Please proceed to step 2.3 in the `01_hold_VC.ipynb` notebook of the `Manufacturer1` agent\n",
    "\n",
    "---"
   ]
  },
  {
   "cell_type": "markdown",
   "id": "afb3a1c4",
   "metadata": {},
   "source": [
    "## 3 – Get info from `Manufacturer1` agent and issue a VC\n",
    "### 3.1 – Greet `Manufacturer1` to open connection in this cell\n",
    "The response with the relevant City information will be displayed in the following cell."
   ]
  },
  {
   "cell_type": "code",
   "execution_count": 12,
   "id": "cb6a459a",
   "metadata": {},
   "outputs": [
    {
     "data": {
      "text/plain": [
       "{}"
      ]
     },
     "execution_count": 12,
     "metadata": {},
     "output_type": "execute_result"
    },
    {
     "name": "stdout",
     "output_type": "stream",
     "text": [
      "Handle message 4b74f1fc-4c5c-42d1-921b-62fca323b54a\n",
      "{\n",
      "    'connection_id': '4b74f1fc-4c5c-42d1-921b-62fca323b54a',\n",
      "    'content': 'Manufacturer1 received your message',\n",
      "    'message_id': 'cefc3072-c138-43d6-977f-7179822a96bf',\n",
      "    'sent_time': '2021-08-09 14:21:52.916371Z',\n",
      "    'state': 'received',\n",
      "}\n",
      "Handle message 4b74f1fc-4c5c-42d1-921b-62fca323b54a\n",
      "{\n",
      "    'connection_id': '4b74f1fc-4c5c-42d1-921b-62fca323b54a',\n",
      "    'content': '{\"manufacturerName\": \"M1\", \"manufacturerCountry\": \"DE\", \"manufacturerCity\": \"Munich\"}',\n",
      "    'message_id': '1b75b30d-6a5c-410e-abf1-370c7df5d975',\n",
      "    'sent_time': '2021-08-09 14:21:56.221789Z',\n",
      "    'state': 'received',\n",
      "}\n",
      "Handle message 4b74f1fc-4c5c-42d1-921b-62fca323b54a\n",
      "{\n",
      "    'connection_id': '4b74f1fc-4c5c-42d1-921b-62fca323b54a',\n",
      "    'content': '{\"manufacturerName\": \"undisclosedName1\", \"manufacturerCountry\": \"DE\", \"manufacturerCity\": \"Munich\"}',\n",
      "    'message_id': 'e059e713-013a-4fec-9c4c-f201ad5d0bd2',\n",
      "    'sent_time': '2021-08-09 14:22:21.189866Z',\n",
      "    'state': 'received',\n",
      "}\n"
     ]
    }
   ],
   "source": [
    "basic_message = \"Hello Manufacturer1. Plase provide me with the following information: manufacturerName, manufacturerCountry, ManufacturerCity.\"\n",
    "await agent_controller.messaging.send_message(connection_id, basic_message)"
   ]
  },
  {
   "cell_type": "markdown",
   "id": "6c6b906e",
   "metadata": {},
   "source": [
    "### 3.2 – Populate VC Attributes\n",
    "\n",
    "Define the values that will be issued in the VC. The attributes match the attributes defined in the city-agent-scheme."
   ]
  },
  {
   "cell_type": "code",
   "execution_count": null,
   "id": "6aa25524",
   "metadata": {},
   "outputs": [],
   "source": [
    "values_m1 = {\"manufacturerName\": \"M1\", \"manufacturerCountry\": \"DE\", \"manufacturerCity\": \"Munich\"}\n",
    "credential_attributes = [\n",
    "    {\"name\": \"manufacturerName\", \"value\": values_m1[\"manufacturerName\"]},\n",
    "    {\"name\": \"manufacturerCity\", \"value\": values_m1[\"manufacturerCity\"]},\n",
    "    {\"name\": \"manufacturerCountry\", \"value\": values_m1[\"manufacturerCountry\"]},\n",
    "    {\"name\": \"isManufacturer\", \"value\": \"TRUE\"}\n",
    "]\n",
    "print(credential_attributes)"
   ]
  },
  {
   "cell_type": "markdown",
   "id": "3d124186",
   "metadata": {},
   "source": [
    "### 3.3 – Offer VC to `Manufacturer1` agent"
   ]
  },
  {
   "cell_type": "code",
   "execution_count": null,
   "id": "f01f64d9",
   "metadata": {},
   "outputs": [],
   "source": [
    "# MAKE VC ZKP-able! SEE https://github.com/hyperledger/aries-cloudagent-python/blob/main/JsonLdCredentials.md\n",
    "trace = False # Don't trace ACA-PY instance\n",
    "comment = \"Issuing VC that Manufacturer1 is a manufacturer\"\n",
    "auto_remove = True # Remove credential record after issued?\n",
    "\n",
    "# Cred_def_id must identify a definition to which your agent has corresponding private issuing key.\n",
    "send_cred_response = await agent_controller.issuer.send_credential(connection_id, schema_manufacturer_id, cred_def_manufacturer_id, credential_attributes, comment, auto_remove, trace)"
   ]
  },
  {
   "cell_type": "markdown",
   "id": "d18d050a",
   "metadata": {},
   "source": [
    "**BREAK POINT:** Proceed to `Manufacturer1` Agent, Step 3.2 \n",
    "\n",
    "---"
   ]
  },
  {
   "cell_type": "markdown",
   "id": "70405fea",
   "metadata": {},
   "source": [
    "## Terminate Controller\n",
    "\n",
    "Whenever you have finished with this notebook, be sure to terminate the controller. This is especially important if your business logic runs across multiple notebooks."
   ]
  },
  {
   "cell_type": "code",
   "execution_count": null,
   "id": "6df37277",
   "metadata": {},
   "outputs": [],
   "source": [
    "await agent_controller.terminate()"
   ]
  },
  {
   "cell_type": "code",
   "execution_count": null,
   "id": "0286b000",
   "metadata": {},
   "outputs": [],
   "source": []
  }
 ],
 "metadata": {
  "kernelspec": {
   "display_name": "Python 3 (ipykernel)",
   "language": "python",
   "name": "python3"
  },
  "language_info": {
   "codemirror_mode": {
    "name": "ipython",
    "version": 3
   },
   "file_extension": ".py",
   "mimetype": "text/x-python",
   "name": "python",
   "nbconvert_exporter": "python",
   "pygments_lexer": "ipython3",
   "version": "3.9.5"
  }
 },
 "nbformat": 4,
 "nbformat_minor": 5
}
