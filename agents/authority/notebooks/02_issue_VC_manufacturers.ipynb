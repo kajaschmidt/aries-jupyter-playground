{
 "cells": [
  {
   "cell_type": "markdown",
   "id": "79676547",
   "metadata": {},
   "source": [
    "# PETs/TETs – Hyperledger Aries – Authority Agent (Issuing Authority) 🏛️\n"
   ]
  },
  {
   "cell_type": "code",
   "execution_count": 1,
   "id": "a22bc960",
   "metadata": {
    "collapsed": false,
    "jupyter": {
     "outputs_hidden": false
    },
    "pycharm": {
     "name": "#%%\n"
    }
   },
   "outputs": [
    {
     "data": {
      "application/javascript": [
       "document.title='🏛️ Authority'\n"
      ],
      "text/plain": [
       "<IPython.core.display.Javascript object>"
      ]
     },
     "metadata": {},
     "output_type": "display_data"
    }
   ],
   "source": [
    "%%javascript\n",
    "document.title='🏛️ Authority'"
   ]
  },
  {
   "cell_type": "markdown",
   "id": "e31bbda2",
   "metadata": {},
   "source": [
    "## PART 2: Issue a VC to the Manufacturer Agents\n",
    "\n",
    "**What:** Issue verifiable credentials (VCs) to all manufacturers\n",
    "\n",
    "**Why:** Manufacturers will be able to store VCs, and prove to the city (the data scientist) that they are manufacturers, without revealing their identity.\n",
    "\n",
    "**How:** <br>\n",
    "1. [Initiate Authority's AgentCommunicationManager (ACM)](#1) <br>\n",
    "2. [Connect with Manufacturer1](#2)\n",
    "3. [Issue VC to Manufacturer1](#3)\n",
    "4. [Repeat Steps 2-3 for Manufacturer2](#4)\n",
    "4. [Repeat Steps 2-3 for Manufacturer3](#5)\n",
    "\n",
    "**Accompanying Agents and Notebooks:** \n",
    "* Manufacturer1 🚗: `02_get_manufacturer1_VC.ipynb`\n",
    "* Manufacturer2 🚛: `02_get_manufacturer2_VC.ipynb`\n",
    "* Manufacturer3 🛵: `02_get_manufacturer3_VC.ipynb`"
   ]
  },
  {
   "cell_type": "markdown",
   "id": "42a779e3",
   "metadata": {
    "pycharm": {
     "name": "#%% md\n"
    }
   },
   "source": [
    "---\n",
    "\n",
    "### 0 - Setup\n",
    "#### 0.1 - Imports"
   ]
  },
  {
   "cell_type": "code",
   "execution_count": 2,
   "id": "b0d1e2cc",
   "metadata": {},
   "outputs": [],
   "source": [
    "import os\n",
    "\n",
    "from aries_cloudcontroller import AriesAgentController\n",
    "\n",
    "import libs.helpers as helpers\n",
    "from libs.agent_connection_manager import IssuingAuthority"
   ]
  },
  {
   "cell_type": "markdown",
   "id": "40c914c6",
   "metadata": {},
   "source": [
    "#### 0.2 – Variables"
   ]
  },
  {
   "cell_type": "code",
   "execution_count": 3,
   "id": "78ebc80a",
   "metadata": {
    "collapsed": false,
    "jupyter": {
     "outputs_hidden": false
    },
    "pycharm": {
     "name": "#%%\n"
    }
   },
   "outputs": [
    {
     "name": "stdout",
     "output_type": "stream",
     "text": [
      "\u001b[34mGet stored identifiers dictionary to access schema information 💾\u001b[0m\n"
     ]
    }
   ],
   "source": [
    "# Get identifier data defined in notebook 00_init_authority_as_issuingAuthority.ipynb\n",
    "identifiers = helpers.get_identifiers()\n",
    "schema_manufacturer_id = identifiers[\"manufacturer_schema_identifiers\"][\"schema_id\"]\n",
    "cred_def_manufacturer_id = identifiers[\"manufacturer_schema_identifiers\"][\"cred_def\"]\n",
    "\n",
    "# Get environment variables\n",
    "api_key = os.getenv(\"ACAPY_ADMIN_API_KEY\")\n",
    "admin_url = os.getenv(\"ADMIN_URL\")\n",
    "webhook_port = int(os.getenv(\"WEBHOOK_PORT\"))\n",
    "webhook_host = \"0.0.0.0\""
   ]
  },
  {
   "cell_type": "markdown",
   "id": "98405370",
   "metadata": {},
   "source": [
    "---\n",
    "\n",
    "<a id=1> </a>\n",
    "### 1 – Initiate Authority Agent\n",
    "\n",
    "#### 1.1 – Init ACA-PY agent controller"
   ]
  },
  {
   "cell_type": "code",
   "execution_count": 4,
   "id": "fb295048",
   "metadata": {},
   "outputs": [
    {
     "name": "stdout",
     "output_type": "stream",
     "text": [
      "Initialising a controller with admin api at http://authority-agent:3021 and an api key of adminApiKey\n"
     ]
    }
   ],
   "source": [
    "# Setup\n",
    "agent_controller = AriesAgentController(admin_url,api_key)\n",
    "print(f\"Initialising a controller with admin api at {admin_url} and an api key of {api_key}\")"
   ]
  },
  {
   "cell_type": "markdown",
   "id": "66b74bc3",
   "metadata": {
    "pycharm": {
     "name": "#%% md\n"
    }
   },
   "source": [
    "#### 1.2 – Start Webhook Server to enable communication with other agents\n",
    "@todo: is communication with other agents, or with other docker containers?"
   ]
  },
  {
   "cell_type": "code",
   "execution_count": 5,
   "id": "406da247",
   "metadata": {
    "collapsed": false,
    "jupyter": {
     "outputs_hidden": false
    },
    "pycharm": {
     "name": "#%%\n"
    }
   },
   "outputs": [
    {
     "name": "stdout",
     "output_type": "stream",
     "text": [
      "Listening for webhooks from agent at http://0.0.0.0:3010\n"
     ]
    }
   ],
   "source": [
    "# Listen on webhook server\n",
    "await agent_controller.init_webhook_server(webhook_host, webhook_port)\n",
    "print(f\"Listening for webhooks from agent at http://{webhook_host}:{webhook_port}\")"
   ]
  },
  {
   "cell_type": "markdown",
   "id": "2691bdf3",
   "metadata": {
    "pycharm": {
     "name": "#%% md\n"
    }
   },
   "source": [
    "#### 1.3 – Init ACM issuing authority"
   ]
  },
  {
   "cell_type": "code",
   "execution_count": 6,
   "id": "55ae738f",
   "metadata": {
    "collapsed": false,
    "jupyter": {
     "outputs_hidden": false
    },
    "pycharm": {
     "name": "#%%\n"
    }
   },
   "outputs": [
    {
     "name": "stdout",
     "output_type": "stream",
     "text": [
      "\u001b[1m\u001b[32mSuccessfully initiated AgentConnectionManager for a(n) Issuing Authority ACA-PY agent\u001b[0m\n"
     ]
    }
   ],
   "source": [
    "# The IssuingAuthority registers relevant webhook servers and event listeners\n",
    "authority_agent = IssuingAuthority(agent_controller)"
   ]
  },
  {
   "cell_type": "markdown",
   "id": "031c4544",
   "metadata": {},
   "source": [
    "---\n",
    "\n",
    "<a id=2> </a>\n",
    "\n",
    "### 2 – Establish a connection with Manufacturer1 🚗\n",
    "A connection with the credential issuer (i.e., the authority agent) must be established before a VC can be received. In this scenario, the manufacturer1 requests a connection with the Authority to be certified as an official city agency. Thus, the manufacturer1 agent sends an invitation to the Authority. In real life, the invitation can be shared via video call 💻, phone ☎️, E-Mail 📧, or fax 📠. In this PoC, this is represented by copy and pasting the invitation into the manufacturers' notebooks.\n",
    "\n",
    "### 2.1 – Receive invitation from `Manufacturer1` agent\n",
    "Copy the invitation from Step 2.1 in the City's `01_hold_VC.ipynb` notebook into the following cell.\n",
    "Several state changes of the connection between the Manufacturer agent, the inviter (A), and the authority agent, the invitee (B),  are required before successfully establishing a connection: \n",
    "\n",
    "| Step | State | Agent | Description | Function/Prompt/Variable |\n",
    "| --- | --- | --- | --- | --- |\n",
    "| 1 | invitation-sent | A | A sent an invitation to B | `create_connection_invitation()`\n",
    "| 2 | invitation-received | B | B receives the invitation of A | Prompt: Paste invitation from A |\n",
    "| 3 | request-sent | B | B sends B connection request | Prompt: Accept invitation OR `auto_accept=True` |\n",
    "| 4 | request-received | A | A receives the connection request from B | Prompt: Accept invitation request response OR `auto_accept=True` |\n",
    "| 5 | response-sent | A | A sends B response to B | - |\n",
    "| 6 | response-received | B | B receives the response from A | - |\n",
    "| 7 | active (completed) | A | B pings A to finalize connection | Prompt: Trust ping OR `auto_ping=True` |\n"
   ]
  },
  {
   "cell_type": "code",
   "execution_count": 7,
   "id": "3bb7b0ab",
   "metadata": {
    "collapsed": false,
    "jupyter": {
     "outputs_hidden": false
    },
    "pycharm": {
     "name": "#%%\n"
    }
   },
   "outputs": [
    {
     "name": "stdout",
     "output_type": "stream",
     "text": [
      "\u001b[1m\u001b[35mPlease enter invitation received by external agent:\u001b[0m\n"
     ]
    },
    {
     "name": "stdin",
     "output_type": "stream",
     "text": [
      "\u001b[35mInvitation: \u001b[0m {     '@id': 'd3680083-53c5-42da-8e18-0d31b805f470',     '@type': 'did:sov:BzCbsNYhMrjHiqZDTUASHg;spec/connections/1.0/invitation',     'label': 'AnonymousAgent1',     'recipientKeys': ['BiKxSudUHUcHCsxK4AcCvie7MnMSyNiKpnTQBaU1b9G9'],     'serviceEndpoint': 'https://ed79-80-134-219-30.ngrok.io', }\n"
     ]
    },
    {
     "name": "stdout",
     "output_type": "stream",
     "text": [
      "\n",
      "---------------------------------------------------------------------\n",
      "\u001b[1mConnection Webhook Event Received: Connections Handler\u001b[0m\n",
      "Connection ID :  4fb0f38f-f9a4-4ad6-a733-89c603bb4c65\n",
      "State :  \u001b[34minvitation (invitation-received)\u001b[0m\n",
      "Routing State : none\n",
      "Connection with :  AnonymousAgent1\n",
      "Their Role :  inviter\n",
      "---------------------------------------------------------------------\n",
      "\n",
      "---------------------------------------------------------------------\n",
      "\u001b[1mConnection Webhook Event Received: Connections Handler\u001b[0m\n",
      "Connection ID :  4fb0f38f-f9a4-4ad6-a733-89c603bb4c65\n",
      "State :  \u001b[34mrequest (request-sent)\u001b[0m\n",
      "Routing State : none\n",
      "Connection with :  AnonymousAgent1\n",
      "Their Role :  inviter\n",
      "---------------------------------------------------------------------\n",
      "\n",
      "---------------------------------------------------------------------\n",
      "\u001b[1mConnection Webhook Event Received: Connections Handler\u001b[0m\n",
      "Connection ID :  4fb0f38f-f9a4-4ad6-a733-89c603bb4c65\n",
      "State :  \u001b[34mresponse (response-received)\u001b[0m\n",
      "Routing State : none\n",
      "Connection with :  AnonymousAgent1\n",
      "Their Role :  inviter\n",
      "---------------------------------------------------------------------\n",
      "\n",
      "---------------------------------------------------------------------\n",
      "\u001b[1mConnection Webhook Event Received: Connections Handler\u001b[0m\n",
      "Connection ID :  4fb0f38f-f9a4-4ad6-a733-89c603bb4c65\n",
      "State :  \u001b[34mactive (completed)\u001b[0m\n",
      "Routing State : none\n",
      "Connection with :  AnonymousAgent1\n",
      "Their Role :  inviter\n",
      "---------------------------------------------------------------------\n",
      "\u001b[1m\u001b[32m\n",
      "Connection ID: 4fb0f38f-f9a4-4ad6-a733-89c603bb4c65 is now active\u001b[0m\n"
     ]
    }
   ],
   "source": [
    "# Variables\n",
    "alias = None\n",
    "auto_accept= True\n",
    "\n",
    "# Receive connection invitation\n",
    "connection_id_m1 = authority_agent.receive_connection_invitation(alias=alias, auto_accept=auto_accept)"
   ]
  },
  {
   "cell_type": "markdown",
   "id": "6fee2e8b",
   "metadata": {},
   "source": [
    "<div style=\"font-size: 25px\"><center><b>Break Point 2</b></center></div>\n",
    "<div style=\"font-size: 50px\"><center>🏛 ➡️ 🚗</center></div><br>\n",
    "<center><b>Please return to the Manufacturer1's notebook 🚗. <br>Check the prompts in Step 2.1 (e.g., if auto_accept or auto_ping are set to False), and then proceed to Step 3.</b></center>\n",
    "\n",
    "---"
   ]
  },
  {
   "cell_type": "markdown",
   "id": "d41b788d",
   "metadata": {},
   "source": [
    "<a id=3> </a>\n",
    "## 3 – Process VC request by Manufacturers\n",
    "### 3.1 – Check messages / requests by Manufacturers\n",
    "Check inbox and await messages sent by Manufacturer1 🚗"
   ]
  },
  {
   "cell_type": "code",
   "execution_count": 8,
   "id": "d954abf1",
   "metadata": {},
   "outputs": [
    {
     "name": "stdout",
     "output_type": "stream",
     "text": [
      "\n",
      "---------------------------------------------------------------------\n",
      "\u001b[1mMessage Inbox\u001b[0m\n",
      "> 2 Message(s) via Connection ID 4fb0f38f-f9a4-4ad6-a733-89c603bb4c65:\n",
      "\t * Message ID :  25a09b6b-f390-4658-befd-61c5eb71b833\n",
      "\t * Message ID :  84aff31c-ddfe-4e98-b488-d811e9d6184e\n",
      "---------------------------------------------------------------------\n"
     ]
    }
   ],
   "source": [
    "# Verify inbox\n",
    "message_ids = authority_agent.verify_inbox()"
   ]
  },
  {
   "cell_type": "code",
   "execution_count": 9,
   "id": "61a40ef7",
   "metadata": {},
   "outputs": [
    {
     "name": "stdout",
     "output_type": "stream",
     "text": [
      "\n",
      "---------------------------------------------------------------------\n",
      "\u001b[1mMessage received\u001b[0m\n",
      "Connection ID :  4fb0f38f-f9a4-4ad6-a733-89c603bb4c65\n",
      "Message ID :  25a09b6b-f390-4658-befd-61c5eb71b833\n",
      "State :  received\n",
      "Time :  2021-12-05 09:18:23.100689Z\n",
      "Text :  \u001b[34mHello Authority. I would like to be certified as a manufacturer.\u001b[0m\n",
      "---------------------------------------------------------------------\n",
      "\n",
      "---------------------------------------------------------------------\n",
      "\u001b[1mMessage received\u001b[0m\n",
      "Connection ID :  4fb0f38f-f9a4-4ad6-a733-89c603bb4c65\n",
      "Message ID :  84aff31c-ddfe-4e98-b488-d811e9d6184e\n",
      "State :  received\n",
      "Time :  2021-12-05 09:18:23.130144Z\n",
      "Text :  \u001b[34m{\"manufacturerName\": \"Manufacturer1\", \"manufacturerCountry\": \"DE\", \"manufacturerCity\": \"Berlin\"}\u001b[0m\n",
      "---------------------------------------------------------------------\n"
     ]
    }
   ],
   "source": [
    "for m_id in message_ids:\n",
    "    authority_agent.get_message(m_id)"
   ]
  },
  {
   "cell_type": "markdown",
   "id": "7cbd53e3",
   "metadata": {},
   "source": [
    "### 3.3 – Offer VC to `Manufacturer1` agent 🚗\n",
    "The next step is to offer a VC to the manufacturer agent. The manufacturer can then request the offer and store it in their wallet. The following table provides an overview of the individual states between I (Issuer, the Authority agent) and H (Holder, the Manufacturer).\n",
    "\n",
    "| Step | State | Role | Description | Function/Prompt/Variable |\n",
    "| --- | --- | --- | --- | --- |\n",
    "| 1 | offer_sent | I | I sends I VC offer with personalized information to H| `offer_vc()` |\n",
    "| 2 | offer_received | H | H receives offer made by I | - |\n",
    "| 3 | request_sent | H | Request VC offer | `request_vc()` AND (Prompt: request VC OR `auto_request=True`) |\n",
    "| 4 | request_received | I | M1's request to get VC was received | - |\n",
    "| 5 | credential_issued | I | Automatic response to issue credential | - |\n",
    "| 6 | credential_received | H| H receives VC and is asked to store it | Prompt: Store VC OR `auto_store=True`\n",
    "| 7 | credential_acked | I / H | Credential was issued and stored | - |\n",
    "\n",
    "If you enter the information that was sent by the Manufacturer1 Agent (see `Text` attribute in message) when prompted, the proposed credential should look something like this: \n",
    "```\n",
    "{\n",
    "    '@type': 'did:sov:BzCbsNYhMrjHiqZDTUASHg;spec/issue-credential/1.0/credential-preview',\n",
    "    'attributes': [\n",
    "        {'name': 'manufacturerCity', 'value': 'Berlin'},\n",
    "        {'name': 'manufacturerName', 'value': 'Manufacturer1'},\n",
    "        {'name': 'manufacturerCountry', 'value': 'Germany'},\n",
    "        {'name': 'isManufacturer', 'value': 'TRUE'},\n",
    "    ],\n",
    "}\n",
    "```"
   ]
  },
  {
   "cell_type": "code",
   "execution_count": 10,
   "id": "c4a14c51",
   "metadata": {},
   "outputs": [
    {
     "name": "stdout",
     "output_type": "stream",
     "text": [
      "\u001b[1m\u001b[35mPlease enter the following information for the certify-manufacturer scheme: \u001b[0m\n"
     ]
    },
    {
     "name": "stdin",
     "output_type": "stream",
     "text": [
      "\u001b[35mmanufacturerCountry: \u001b[0m DE\n",
      "\u001b[35misManufacturer: \u001b[0m TRUE\n",
      "\u001b[35mmanufacturerCity: \u001b[0m Berlin\n",
      "\u001b[35mmanufacturerName: \u001b[0m Manufacturer1\n",
      "\u001b[35mIs the information correct? [yes/no]\u001b[0m yes\n"
     ]
    },
    {
     "name": "stdout",
     "output_type": "stream",
     "text": [
      "\n",
      "---------------------------------------------------------------------\n",
      "\u001b[1mHandle Issue Credential Webhook: Issue Credential Handler\u001b[0m\n",
      "Connection ID : 4fb0f38f-f9a4-4ad6-a733-89c603bb4c65\n",
      "Credential exchange ID : 9c93033a-f70a-4c9c-8ae4-ad53817a7c2b\n",
      "Agent Protocol Role :  issuer\n",
      "Protocol State :  \u001b[34moffer_sent\u001b[0m\n",
      "---------------------------------------------------------------------\n",
      "\u001b[1m\n",
      "Proposed Credential : \u001b[0m\n",
      "{\n",
      "    '@type': 'did:sov:BzCbsNYhMrjHiqZDTUASHg;spec/issue-credential/1.0/credential-preview',\n",
      "    'attributes': [\n",
      "        {'name': 'manufacturerCountry', 'value': 'DE'},\n",
      "        {'name': 'isManufacturer', 'value': 'TRUE'},\n",
      "        {'name': 'manufacturerCity', 'value': 'Berlin'},\n",
      "        {'name': 'manufacturerName', 'value': 'Manufacturer1'},\n",
      "    ],\n",
      "}\n",
      "\n",
      "---------------------------------------------------------------------\n",
      "\u001b[1mHandle Issue Credential Webhook: Issue Credential Handler\u001b[0m\n",
      "Connection ID : 4fb0f38f-f9a4-4ad6-a733-89c603bb4c65\n",
      "Credential exchange ID : 9c93033a-f70a-4c9c-8ae4-ad53817a7c2b\n",
      "Agent Protocol Role :  issuer\n",
      "Protocol State :  \u001b[34mrequest_received\u001b[0m\n",
      "---------------------------------------------------------------------\n",
      "\n",
      "---------------------------------------------------------------------\n",
      "\u001b[1mHandle Issue Credential Webhook: Issue Credential Handler\u001b[0m\n",
      "Connection ID : 4fb0f38f-f9a4-4ad6-a733-89c603bb4c65\n",
      "Credential exchange ID : 9c93033a-f70a-4c9c-8ae4-ad53817a7c2b\n",
      "Agent Protocol Role :  issuer\n",
      "Protocol State :  \u001b[34mcredential_issued\u001b[0m\n",
      "---------------------------------------------------------------------\n",
      "\n",
      "---------------------------------------------------------------------\n",
      "\u001b[1mHandle Issue Credential Webhook: Issue Credential Handler\u001b[0m\n",
      "Connection ID : 4fb0f38f-f9a4-4ad6-a733-89c603bb4c65\n",
      "Credential exchange ID : 9c93033a-f70a-4c9c-8ae4-ad53817a7c2b\n",
      "Agent Protocol Role :  issuer\n",
      "Protocol State :  \u001b[34mcredential_acked\u001b[0m\n",
      "---------------------------------------------------------------------\n"
     ]
    }
   ],
   "source": [
    "# MAKE VC ZKP-able! SEE https://github.com/hyperledger/aries-cloudagent-python/blob/main/JsonLdCredentials.md\n",
    "comment = \"Issuing VC that Manufacturer1 is a manufacturer\"\n",
    "auto_remove = True\n",
    "trace = False\n",
    "\n",
    "# Offer Manufacturer1 a VC with manufacturer_schema\n",
    "authority_agent.offer_vc(\n",
    "    connection_id_m1, \n",
    "    schema_manufacturer_id, \n",
    "    cred_def_manufacturer_id, \n",
    "    comment=comment, \n",
    "    # Comment out next line if you do not want to get the prompts to enter VC information\n",
    "    #credential_attributes=[{\"name\": \"manufacturerName\", \"value\": \"undisclosedManufacturer1\"}, {\"name\": \"manufacturerCity\", \"value\": \"Berlin\"}, {\"name\": \"manufacturerCountry\", \"value\": \"Germany\"}, {\"name\": \"isManufacturer\", \"value\": \"TRUE\"}]\n",
    ")"
   ]
  },
  {
   "cell_type": "markdown",
   "id": "00890c7a",
   "metadata": {},
   "source": [
    "<div style=\"font-size: 25px\"><center><b>Break Point 4</b></center></div>\n",
    "<div style=\"font-size: 50px\"><center>🏛 ➡️ 🚗</center></div><br>\n",
    "<center><b>Please return to the Manufacturer1's notebook 🚗. <br>Continue with Step 3.2</b></center>\n",
    "\n",
    "---\n",
    "\n",
    "<a id=4> </a>\n",
    "### 4 – 🔁 Repeat Steps 2 and 3 with Manufacturer2 🚛\n",
    "🤦 Execute the following cells to certify Manufacturer2 🚛 that the agent is a manufacturer.\n",
    "#### 4.1 – Receive connection invitation by Manufacturer2"
   ]
  },
  {
   "cell_type": "code",
   "execution_count": 11,
   "id": "d1544bd8",
   "metadata": {},
   "outputs": [
    {
     "name": "stdout",
     "output_type": "stream",
     "text": [
      "\u001b[1m\u001b[35mPlease enter invitation received by external agent:\u001b[0m\n"
     ]
    },
    {
     "name": "stdin",
     "output_type": "stream",
     "text": [
      "\u001b[35mInvitation: \u001b[0m {     '@id': '4d907424-5645-41bd-9f43-f80be3beffbb',     '@type': 'did:sov:BzCbsNYhMrjHiqZDTUASHg;spec/connections/1.0/invitation',     'label': 'AnonymousAgent2',     'recipientKeys': ['C4wEYAxmpjLvK2nciz7hxpdYg8M5aenoMdKWGT2iFGfK'],     'serviceEndpoint': 'https://1241-91-182-140-7.ngrok.io', }\n"
     ]
    },
    {
     "name": "stdout",
     "output_type": "stream",
     "text": [
      "\n",
      "---------------------------------------------------------------------\n",
      "\u001b[1mConnection Webhook Event Received: Connections Handler\u001b[0m\n",
      "Connection ID :  b88de98e-10c1-4008-b69b-f2566911ea54\n",
      "State :  \u001b[34minvitation (invitation-received)\u001b[0m\n",
      "Routing State : none\n",
      "Connection with :  AnonymousAgent2\n",
      "Their Role :  inviter\n",
      "---------------------------------------------------------------------\n",
      "\n",
      "---------------------------------------------------------------------\n",
      "\u001b[1mConnection Webhook Event Received: Connections Handler\u001b[0m\n",
      "Connection ID :  b88de98e-10c1-4008-b69b-f2566911ea54\n",
      "State :  \u001b[34mrequest (request-sent)\u001b[0m\n",
      "Routing State : none\n",
      "Connection with :  AnonymousAgent2\n",
      "Their Role :  inviter\n",
      "---------------------------------------------------------------------\n",
      "\n",
      "---------------------------------------------------------------------\n",
      "\u001b[1mConnection Webhook Event Received: Connections Handler\u001b[0m\n",
      "Connection ID :  b88de98e-10c1-4008-b69b-f2566911ea54\n",
      "State :  \u001b[34mresponse (response-received)\u001b[0m\n",
      "Routing State : none\n",
      "Connection with :  AnonymousAgent2\n",
      "Their Role :  inviter\n",
      "---------------------------------------------------------------------\n",
      "\n",
      "---------------------------------------------------------------------\n",
      "\u001b[1mConnection Webhook Event Received: Connections Handler\u001b[0m\n",
      "Connection ID :  b88de98e-10c1-4008-b69b-f2566911ea54\n",
      "State :  \u001b[34mactive (completed)\u001b[0m\n",
      "Routing State : none\n",
      "Connection with :  AnonymousAgent2\n",
      "Their Role :  inviter\n",
      "---------------------------------------------------------------------\n",
      "\u001b[1m\u001b[32m\n",
      "Connection ID: b88de98e-10c1-4008-b69b-f2566911ea54 is now active\u001b[0m\n"
     ]
    }
   ],
   "source": [
    "# Variables\n",
    "alias = None\n",
    "auto_accept= True\n",
    "\n",
    "# Receive connection invitation\n",
    "connection_id_m2= authority_agent.receive_connection_invitation(alias=alias, auto_accept=auto_accept)"
   ]
  },
  {
   "cell_type": "markdown",
   "id": "39f5c266",
   "metadata": {},
   "source": [
    "#### 4.2 Offer VC to Manufacturer2"
   ]
  },
  {
   "cell_type": "code",
   "execution_count": 12,
   "id": "3afb7e51",
   "metadata": {},
   "outputs": [
    {
     "name": "stdout",
     "output_type": "stream",
     "text": [
      "\n",
      "---------------------------------------------------------------------\n",
      "\u001b[1mHandle Issue Credential Webhook: Issue Credential Handler\u001b[0m\n",
      "Connection ID : b88de98e-10c1-4008-b69b-f2566911ea54\n",
      "Credential exchange ID : 2f62e684-07f6-4c2f-88d8-eea3d9dbfc77\n",
      "Agent Protocol Role :  issuer\n",
      "Protocol State :  \u001b[34moffer_sent\u001b[0m\n",
      "---------------------------------------------------------------------\n",
      "\u001b[1m\n",
      "Proposed Credential : \u001b[0m\n",
      "{\n",
      "    '@type': 'did:sov:BzCbsNYhMrjHiqZDTUASHg;spec/issue-credential/1.0/credential-preview',\n",
      "    'attributes': [\n",
      "        {'name': 'manufacturerName', 'value': 'truckManufacturer'},\n",
      "        {'name': 'manufacturerCity', 'value': 'City2'},\n",
      "        {'name': 'manufacturerCountry', 'value': 'DE'},\n",
      "        {'name': 'isManufacturer', 'value': 'TRUE'},\n",
      "    ],\n",
      "}\n",
      "\n",
      "---------------------------------------------------------------------\n",
      "\u001b[1mHandle Issue Credential Webhook: Issue Credential Handler\u001b[0m\n",
      "Connection ID : b88de98e-10c1-4008-b69b-f2566911ea54\n",
      "Credential exchange ID : 2f62e684-07f6-4c2f-88d8-eea3d9dbfc77\n",
      "Agent Protocol Role :  issuer\n",
      "Protocol State :  \u001b[34mrequest_received\u001b[0m\n",
      "---------------------------------------------------------------------\n",
      "\n",
      "---------------------------------------------------------------------\n",
      "\u001b[1mHandle Issue Credential Webhook: Issue Credential Handler\u001b[0m\n",
      "Connection ID : b88de98e-10c1-4008-b69b-f2566911ea54\n",
      "Credential exchange ID : 2f62e684-07f6-4c2f-88d8-eea3d9dbfc77\n",
      "Agent Protocol Role :  issuer\n",
      "Protocol State :  \u001b[34mcredential_issued\u001b[0m\n",
      "---------------------------------------------------------------------\n",
      "\n",
      "---------------------------------------------------------------------\n",
      "\u001b[1mHandle Issue Credential Webhook: Issue Credential Handler\u001b[0m\n",
      "Connection ID : b88de98e-10c1-4008-b69b-f2566911ea54\n",
      "Credential exchange ID : 2f62e684-07f6-4c2f-88d8-eea3d9dbfc77\n",
      "Agent Protocol Role :  issuer\n",
      "Protocol State :  \u001b[34mcredential_acked\u001b[0m\n",
      "---------------------------------------------------------------------\n"
     ]
    }
   ],
   "source": [
    "# MAKE VC ZKP-able! SEE https://github.com/hyperledger/aries-cloudagent-python/blob/main/JsonLdCredentials.md\n",
    "comment = \"Issuing VC that Manufacturer2 is a manufacturer\"\n",
    "auto_remove = True\n",
    "trace = False\n",
    "\n",
    "# Offer Manufacturer1 a VC with manufacturer_schema\n",
    "authority_agent.offer_vc(\n",
    "    connection_id_m2, \n",
    "    schema_manufacturer_id, \n",
    "    cred_def_manufacturer_id, \n",
    "    comment=comment, \n",
    "    # Comment out next line if you do not want to get the prompts to enter VC information\n",
    "    credential_attributes=[{\"name\": \"manufacturerName\", \"value\": \"truckManufacturer\"}, {\"name\": \"manufacturerCity\", \"value\": \"City2\"}, {\"name\": \"manufacturerCountry\", \"value\": \"DE\"}, {\"name\": \"isManufacturer\", \"value\": \"TRUE\"}]\n",
    ")"
   ]
  },
  {
   "cell_type": "markdown",
   "id": "985684c1",
   "metadata": {},
   "source": [
    "<div style=\"font-size: 25px\"><center><b>Break Point 6</b></center></div>\n",
    "<div style=\"font-size: 50px\"><center>🏛 ➡️ 🚛</center></div><br>\n",
    "<center><b>Please return to the Manufacturer2's notebook 🚛. <br>Continue with Step 3.1</b></center>\n",
    "\n",
    "---\n",
    "\n",
    "<a id=5> </a>\n",
    "### 5 – 🔁 Repeat Steps 2 and 3 with Manufacturer3 🛵\n",
    "🙇 Execute the following cells to certify Manufacturer3 that the agent is a manufacturer.\n",
    "#### 5.1 – Establish a connection with Manufacturer3\n",
    "All variables are set to auto_accept to speed up the conneciton process."
   ]
  },
  {
   "cell_type": "code",
   "execution_count": 13,
   "id": "b3337fbd",
   "metadata": {},
   "outputs": [
    {
     "name": "stdout",
     "output_type": "stream",
     "text": [
      "\u001b[1m\u001b[35mPlease enter invitation received by external agent:\u001b[0m\n"
     ]
    },
    {
     "name": "stdin",
     "output_type": "stream",
     "text": [
      "\u001b[35mInvitation: \u001b[0m {     '@id': '4af312d5-8e6c-4aea-a417-a4bf3dbb441f',     '@type': 'did:sov:BzCbsNYhMrjHiqZDTUASHg;spec/connections/1.0/invitation',     'label': 'AnonymousAgent3',     'recipientKeys': ['H2Xsv8QJoBkqu8LKJK7DDHHEhkKiYQWEvbBn44P7k8Vo'],     'serviceEndpoint': 'https://f5e4-91-182-140-7.ngrok.io', }\n"
     ]
    },
    {
     "name": "stdout",
     "output_type": "stream",
     "text": [
      "\n",
      "---------------------------------------------------------------------\n",
      "\u001b[1mConnection Webhook Event Received: Connections Handler\u001b[0m\n",
      "Connection ID :  60e34117-663e-47a7-8589-2ed72b70abf1\n",
      "State :  \u001b[34minvitation (invitation-received)\u001b[0m\n",
      "Routing State : none\n",
      "Connection with :  AnonymousAgent3\n",
      "Their Role :  inviter\n",
      "---------------------------------------------------------------------\n",
      "\n",
      "---------------------------------------------------------------------\n",
      "\u001b[1mConnection Webhook Event Received: Connections Handler\u001b[0m\n",
      "Connection ID :  60e34117-663e-47a7-8589-2ed72b70abf1\n",
      "State :  \u001b[34mrequest (request-sent)\u001b[0m\n",
      "Routing State : none\n",
      "Connection with :  AnonymousAgent3\n",
      "Their Role :  inviter\n",
      "---------------------------------------------------------------------\n",
      "\n",
      "---------------------------------------------------------------------\n",
      "\u001b[1mConnection Webhook Event Received: Connections Handler\u001b[0m\n",
      "Connection ID :  60e34117-663e-47a7-8589-2ed72b70abf1\n",
      "State :  \u001b[34mresponse (response-received)\u001b[0m\n",
      "Routing State : none\n",
      "Connection with :  AnonymousAgent3\n",
      "Their Role :  inviter\n",
      "---------------------------------------------------------------------\n",
      "\n",
      "---------------------------------------------------------------------\n",
      "\u001b[1mConnection Webhook Event Received: Connections Handler\u001b[0m\n",
      "Connection ID :  60e34117-663e-47a7-8589-2ed72b70abf1\n",
      "State :  \u001b[34mactive (completed)\u001b[0m\n",
      "Routing State : none\n",
      "Connection with :  AnonymousAgent3\n",
      "Their Role :  inviter\n",
      "---------------------------------------------------------------------\n",
      "\u001b[1m\u001b[32m\n",
      "Connection ID: 60e34117-663e-47a7-8589-2ed72b70abf1 is now active\u001b[0m\n"
     ]
    }
   ],
   "source": [
    "# Variables\n",
    "alias = None\n",
    "auto_accept= True\n",
    "\n",
    "# Receive connection invitation\n",
    "connection_id_m3 = authority_agent.receive_connection_invitation(alias=alias, auto_accept=auto_accept)"
   ]
  },
  {
   "cell_type": "markdown",
   "id": "947996ae",
   "metadata": {},
   "source": [
    "#### 5.2 Offer VC to Manufacturer2"
   ]
  },
  {
   "cell_type": "code",
   "execution_count": 14,
   "id": "b8ac3f38",
   "metadata": {},
   "outputs": [
    {
     "name": "stdout",
     "output_type": "stream",
     "text": [
      "\n",
      "---------------------------------------------------------------------\n",
      "\u001b[1mHandle Issue Credential Webhook: Issue Credential Handler\u001b[0m\n",
      "Connection ID : 60e34117-663e-47a7-8589-2ed72b70abf1\n",
      "Credential exchange ID : b7f3ca95-7c64-4b03-8862-d688b221b9fe\n",
      "Agent Protocol Role :  issuer\n",
      "Protocol State :  \u001b[34moffer_sent\u001b[0m\n",
      "---------------------------------------------------------------------\n",
      "\u001b[1m\n",
      "Proposed Credential : \u001b[0m\n",
      "{\n",
      "    '@type': 'did:sov:BzCbsNYhMrjHiqZDTUASHg;spec/issue-credential/1.0/credential-preview',\n",
      "    'attributes': [\n",
      "        {'name': 'manufacturerName', 'value': 'scooterManufacturer'},\n",
      "        {'name': 'manufacturerCity', 'value': 'City3'},\n",
      "        {'name': 'manufacturerCountry', 'value': 'DE'},\n",
      "        {'name': 'isManufacturer', 'value': 'TRUE'},\n",
      "    ],\n",
      "}\n",
      "\n",
      "---------------------------------------------------------------------\n",
      "\u001b[1mHandle Issue Credential Webhook: Issue Credential Handler\u001b[0m\n",
      "Connection ID : 60e34117-663e-47a7-8589-2ed72b70abf1\n",
      "Credential exchange ID : b7f3ca95-7c64-4b03-8862-d688b221b9fe\n",
      "Agent Protocol Role :  issuer\n",
      "Protocol State :  \u001b[34mrequest_received\u001b[0m\n",
      "---------------------------------------------------------------------\n",
      "\n",
      "---------------------------------------------------------------------\n",
      "\u001b[1mHandle Issue Credential Webhook: Issue Credential Handler\u001b[0m\n",
      "Connection ID : 60e34117-663e-47a7-8589-2ed72b70abf1\n",
      "Credential exchange ID : b7f3ca95-7c64-4b03-8862-d688b221b9fe\n",
      "Agent Protocol Role :  issuer\n",
      "Protocol State :  \u001b[34mcredential_issued\u001b[0m\n",
      "---------------------------------------------------------------------\n",
      "\n",
      "---------------------------------------------------------------------\n",
      "\u001b[1mHandle Issue Credential Webhook: Issue Credential Handler\u001b[0m\n",
      "Connection ID : 60e34117-663e-47a7-8589-2ed72b70abf1\n",
      "Credential exchange ID : b7f3ca95-7c64-4b03-8862-d688b221b9fe\n",
      "Agent Protocol Role :  issuer\n",
      "Protocol State :  \u001b[34mcredential_acked\u001b[0m\n",
      "---------------------------------------------------------------------\n"
     ]
    }
   ],
   "source": [
    "# MAKE VC ZKP-able! SEE https://github.com/hyperledger/aries-cloudagent-python/blob/main/JsonLdCredentials.md\n",
    "comment = \"Issuing VC that Manufacturer3 is a manufacturer\"\n",
    "auto_remove = True\n",
    "trace = False\n",
    "\n",
    "# Offer Manufacturer1 a VC with manufacturer_schema\n",
    "authority_agent.offer_vc(\n",
    "    connection_id_m3, #\n",
    "    schema_manufacturer_id, \n",
    "    cred_def_manufacturer_id, \n",
    "    comment=comment, \n",
    "    # Comment out next line if you do not want to get the prompts to enter VC information\n",
    "    credential_attributes=[{\"name\": \"manufacturerName\", \"value\": \"scooterManufacturer\"}, {\"name\": \"manufacturerCity\", \"value\": \"City3\"}, {\"name\": \"manufacturerCountry\", \"value\": \"DE\"}, {\"name\": \"isManufacturer\", \"value\": \"TRUE\"}]\n",
    ")"
   ]
  },
  {
   "cell_type": "markdown",
   "id": "af78fa88",
   "metadata": {},
   "source": [
    "<div style=\"font-size: 25px\"><center><b>Break Point 9</b></center></div>\n",
    "<div style=\"font-size: 50px\"><center>🏛 ➡️ 🛵</center></div><br>\n",
    "<center><b>Please return to the Manufacturer3's notebook 🛵. <br>Continue with Step 3.1</b></center>\n",
    "\n",
    "---\n",
    "\n",
    "## 6 - Terminate Controller\n",
    "\n",
    "Whenever you have finished with this notebook, be sure to terminate the controller. This is especially important if your business logic runs across multiple notebooks."
   ]
  },
  {
   "cell_type": "code",
   "execution_count": 15,
   "id": "4628f01c",
   "metadata": {},
   "outputs": [],
   "source": [
    "await agent_controller.terminate()"
   ]
  },
  {
   "cell_type": "markdown",
   "id": "ba387c45",
   "metadata": {},
   "source": [
    "--- \n",
    "\n",
    "### 🔥🔥🔥 You are done 🙌 and can close this notebook now 🔥🔥🔥\n"
   ]
  },
  {
   "cell_type": "code",
   "execution_count": null,
   "id": "9f3b6bd5",
   "metadata": {},
   "outputs": [],
   "source": []
  }
 ],
 "metadata": {
  "kernelspec": {
   "display_name": "Python 3 (ipykernel)",
   "language": "python",
   "name": "python3"
  },
  "language_info": {
   "codemirror_mode": {
    "name": "ipython",
    "version": 3
   },
   "file_extension": ".py",
   "mimetype": "text/x-python",
   "name": "python",
   "nbconvert_exporter": "python",
   "pygments_lexer": "ipython3",
   "version": "3.9.5"
  }
 },
 "nbformat": 4,
 "nbformat_minor": 5
}
