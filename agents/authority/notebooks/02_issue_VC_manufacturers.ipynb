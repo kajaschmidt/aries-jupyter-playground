{
 "cells": [
  {
   "cell_type": "markdown",
   "id": "3845abbc",
   "metadata": {},
   "source": [
    "# PART 2: Issue a VC to the Manufacturer Agents"
   ]
  },
  {
   "cell_type": "code",
   "execution_count": 1,
   "id": "8e0afd77",
   "metadata": {},
   "outputs": [
    {
     "data": {
      "application/javascript": [
       "document.title='Authority Agent'\n"
      ],
      "text/plain": [
       "<IPython.core.display.Javascript object>"
      ]
     },
     "metadata": {},
     "output_type": "display_data"
    }
   ],
   "source": [
    "%%javascript\n",
    "document.title='Authority Agent'"
   ]
  },
  {
   "cell_type": "markdown",
   "id": "0aef6549",
   "metadata": {},
   "source": [
    "#### Imports"
   ]
  },
  {
   "cell_type": "code",
   "execution_count": 2,
   "id": "292fb64c",
   "metadata": {},
   "outputs": [],
   "source": [
    "from aries_cloudcontroller import AriesAgentController\n",
    "from libs.agent_connection_manager import AgentConnectionManager\n",
    "import libs.functions as fnc\n",
    "import os\n",
    "#from pprintpp import pprint\n",
    "#from termcolor import colored"
   ]
  },
  {
   "cell_type": "markdown",
   "id": "49edcc0f",
   "metadata": {},
   "source": [
    "#### Get schema and cred def identifiers defined in `00_init_authority_as_issuingAuthority.ipynb`"
   ]
  },
  {
   "cell_type": "code",
   "execution_count": 3,
   "id": "59ebd7c2",
   "metadata": {},
   "outputs": [],
   "source": [
    "# Copy an updated version if necessary\n",
    "identifiers = fnc.get_identifiers() \n",
    "\n",
    "# Get city schema identifiers\n",
    "schema_city_id = identifiers[\"city_schema_identifiers\"][\"schema_id\"]\n",
    "cred_def_city_id = identifiers[\"city_schema_identifiers\"][\"cred_def\"]\n",
    "\n",
    "# Get manufacturer schema identifiers\n",
    "schema_manufacturer_id = identifiers[\"manufacturer_schema_identifiers\"][\"schema_id\"]\n",
    "cred_def_manufacturer_id = identifiers[\"manufacturer_schema_identifiers\"][\"cred_def\"]"
   ]
  },
  {
   "cell_type": "markdown",
   "id": "dcfcce1c",
   "metadata": {},
   "source": [
    "#### Get relevant variables"
   ]
  },
  {
   "cell_type": "code",
   "execution_count": 4,
   "id": "d2cd498f",
   "metadata": {},
   "outputs": [],
   "source": [
    "api_key = os.getenv(\"ACAPY_ADMIN_API_KEY\")\n",
    "admin_url = os.getenv(\"ADMIN_URL\")\n",
    "webhook_port = int(os.getenv(\"WEBHOOK_PORT\"))\n",
    "webhook_host = \"0.0.0.0\""
   ]
  },
  {
   "cell_type": "markdown",
   "id": "8531ce7e",
   "metadata": {},
   "source": [
    "## 1 – Init Aries Agent, Webhook Server and register Event Listeners for webhook server\n",
    "#### 1.1 – Init aries agent and Start webhook server\n",
    "Start a webhook server to be able to communicate with other agents"
   ]
  },
  {
   "cell_type": "code",
   "execution_count": 5,
   "id": "9f676256",
   "metadata": {},
   "outputs": [
    {
     "name": "stdout",
     "output_type": "stream",
     "text": [
      "Initialising a controller with admin api at http://authority-agent:3021 and an api key of adminApiKey\n",
      "Listening for webhooks from agent at http://0.0.0.0:3010\n"
     ]
    }
   ],
   "source": [
    "# Setup\n",
    "print(f\"Initialising a controller with admin api at {admin_url} and an api key of {api_key}\")\n",
    "agent_controller = AriesAgentController(admin_url,api_key)\n",
    "\n",
    "# Listen on webhook server\n",
    "await agent_controller.init_webhook_server(webhook_host, webhook_port)\n",
    "print(f\"Listening for webhooks from agent at http://{webhook_host}:{webhook_port}\")"
   ]
  },
  {
   "cell_type": "markdown",
   "id": "b46cdde3",
   "metadata": {},
   "source": [
    "#### 1.2 – Define listeners\n",
    "Define listeners that are triggered when something happens on the webhook server"
   ]
  },
  {
   "cell_type": "markdown",
   "id": "7574d849",
   "metadata": {},
   "source": [
    "#### 1.3 – Register listeners with `agent_controller`"
   ]
  },
  {
   "cell_type": "code",
   "execution_count": 6,
   "id": "ff858e5d",
   "metadata": {},
   "outputs": [
    {
     "name": "stdout",
     "output_type": "stream",
     "text": [
      "\u001B[1mInit ConnectionService:\u001B[0m\n",
      "* Defines and registers agent listeners for issuer:  ['connections', 'basicmessages', 'issue_credential']\n",
      "* Stores initiated connections\n",
      "* Allows to easily create and accept connection invitations\n",
      "* Facilitates process of issuing, verifying, or proving verifiable credentials\n"
     ]
    }
   ],
   "source": [
    "acm = AgentConnectionManager(agent_controller, role=\"issuer\")"
   ]
  },
  {
   "cell_type": "code",
   "execution_count": 7,
   "id": "7da635ac",
   "metadata": {},
   "outputs": [
    {
     "name": "stdout",
     "output_type": "stream",
     "text": [
      "\u001B[1m\u001B[34mPlease enter invitation received by external agent.\u001B[0m\n"
     ]
    },
    {
     "name": "stdin",
     "output_type": "stream",
     "text": [
      "\u001B[34mInvitation: \u001B[0m {     '@id': '68c1a20a-bea6-4e7b-9e49-58b845200170',     '@type': 'did:sov:BzCbsNYhMrjHiqZDTUASHg;spec/connections/1.0/invitation',     'label': 'Manufacturer1',     'recipientKeys': ['7Zhz1XoAWj4nmZUTw6PyjhAcsN3Eqk6JRisaA6TkQqrY'],     'serviceEndpoint': 'https://e2120909fb85.ngrok.io', }\n"
     ]
    },
    {
     "name": "stdout",
     "output_type": "stream",
     "text": [
      "\n",
      "---------------------------------------------------------------------\n",
      "\u001B[1mConnection Webhook Event Received\u001B[0m\n",
      "Connection ID :  211d1ba8-8c66-442d-a6c2-3f13954a4d45\n",
      "State :  \u001B[33minvitation (invitation-received)\u001B[0m\n",
      "Routing State : none\n",
      "Connection with :  Manufacturer1\n",
      "Their Role :  inviter\n",
      "---------------------------------------------------------------------\n",
      "\n",
      "---------------------------------------------------------------------\n",
      "\u001B[1mConnection Webhook Event Received\u001B[0m\n",
      "Connection ID :  211d1ba8-8c66-442d-a6c2-3f13954a4d45\n",
      "State :  \u001B[33mrequest (request-sent)\u001B[0m\n",
      "Routing State : none\n",
      "Connection with :  Manufacturer1\n",
      "Their Role :  inviter\n",
      "---------------------------------------------------------------------\n",
      "\n",
      "---------------------------------------------------------------------\n",
      "\u001B[1mConnection Webhook Event Received\u001B[0m\n",
      "Connection ID :  211d1ba8-8c66-442d-a6c2-3f13954a4d45\n",
      "State :  \u001B[33mresponse (response-received)\u001B[0m\n",
      "Routing State : none\n",
      "Connection with :  Manufacturer1\n",
      "Their Role :  inviter\n",
      "---------------------------------------------------------------------\n",
      "\n",
      "---------------------------------------------------------------------\n",
      "\u001B[1mConnection Webhook Event Received\u001B[0m\n",
      "Connection ID :  211d1ba8-8c66-442d-a6c2-3f13954a4d45\n",
      "State :  \u001B[33mactive (completed)\u001B[0m\n",
      "Routing State : none\n",
      "Connection with :  Manufacturer1\n",
      "Their Role :  inviter\n",
      "---------------------------------------------------------------------\n",
      "\u001B[1m\u001B[32mConnection ID: 211d1ba8-8c66-442d-a6c2-3f13954a4d45 is now active.\u001B[0m\n"
     ]
    }
   ],
   "source": [
    "# Setup variables\n",
    "auto_accept = \"true\"\n",
    "alias = None\n",
    "label = \"City Agent <> Authority Agent\" \n",
    "\n",
    "connection_id = acm.wrapper_receive_connection_invitation(alias, auto_accept, label)"
   ]
  },
  {
   "cell_type": "markdown",
   "id": "0002403a",
   "metadata": {},
   "source": [
    "**BREAK POINT:** Please switch to agent `Manufacturer1`, open `01_hold_VC.ipynb`, and start executing the notebook\n",
    "\n",
    "---\n",
    "\n",
    "## 2 – Establish connection with `Manufacturer1` agent\n",
    "Establish connection with the`Manufacturer1` agent. In this scenario, the `Manufacturer1` sends an invitation to connect with the Authority. \n",
    "\n",
    "### 2.1 – Receive invitation from `Manufacturer1` agent\n",
    "Copy the invitation from Step 2.2 in the City's `01_hold_VC.ipynb` notebook into the following cell. "
   ]
  },
  {
   "cell_type": "markdown",
   "id": "d1ec8de2",
   "metadata": {},
   "source": [
    "### 2.2 – Accept invitation"
   ]
  },
  {
   "cell_type": "markdown",
   "id": "fe767163",
   "metadata": {},
   "source": [
    "**BREAK POINT:** Please proceed to step 2.3 in the `01_hold_VC.ipynb` notebook of the `Manufacturer1` agent\n",
    "\n",
    "---"
   ]
  },
  {
   "cell_type": "markdown",
   "id": "e8431fff",
   "metadata": {},
   "source": [
    "## 3 – Get info from `Manufacturer1` agent and issue a VC\n",
    "### 3.1 – Greet `Manufacturer1` to open connection in this cell\n",
    "The response with the relevant City information will be displayed in the following cell."
   ]
  },
  {
   "cell_type": "code",
   "execution_count": null,
   "id": "2ab591b9",
   "metadata": {},
   "outputs": [],
   "source": [
    "acm.send_message(connection_id, \"testing connection\")"
   ]
  },
  {
   "cell_type": "code",
   "execution_count": null,
   "id": "8ad656a4",
   "metadata": {},
   "outputs": [],
   "source": [
    "basic_message = \"Hello Manufacturer1. Plase provide me with the following information: manufacturerName, manufacturerCountry, ManufacturerCity.\"\n",
    "await agent_controller.messaging.send_message(connection_id, basic_message)"
   ]
  },
  {
   "cell_type": "markdown",
   "id": "641e7bd8",
   "metadata": {},
   "source": [
    "### 3.2 – Populate VC Attributes\n",
    "\n",
    "Define the values that will be issued in the VC. The attributes match the attributes defined in the city-agent-scheme."
   ]
  },
  {
   "cell_type": "code",
   "execution_count": null,
   "id": "1625d757",
   "metadata": {},
   "outputs": [],
   "source": [
    "credential_attributes = [\n",
    "    {\"name\": \"manufacturerName\", \"value\": \"undisclosedManufacturer1\"},\n",
    "    {\"name\": \"manufacturerCity\", \"value\": \"Berlin\"},\n",
    "    {\"name\": \"manufacturerCountry\", \"value\": \"Germany\"},\n",
    "    {\"name\": \"isManufacturer\", \"value\": \"TRUE\"}\n",
    "]\n",
    "print(credential_attributes)"
   ]
  },
  {
   "cell_type": "markdown",
   "id": "020ee0f4",
   "metadata": {},
   "source": [
    "### 3.3 – Offer VC to `Manufacturer1` agent"
   ]
  },
  {
   "cell_type": "code",
   "execution_count": 8,
   "id": "ecedd091",
   "metadata": {},
   "outputs": [
    {
     "name": "stdout",
     "output_type": "stream",
     "text": [
      "\u001B[1m\u001B[34mPlease enter the following information for the certify-manufacturer scheme (ID: PGtDVMGGbrfYNFjcN85Sxk:2:certify-manufacturer:0.0.1): \u001B[0m\n"
     ]
    },
    {
     "name": "stdin",
     "output_type": "stream",
     "text": [
      "\u001B[34misManufacturer: \u001B[0m TRUE\n",
      "\u001B[34mmanufacturerName: \u001B[0m undisclosedManufacturer1\n",
      "\u001B[34mmanufacturerCity: \u001B[0m Berlin\n",
      "\u001B[34mmanufacturerCountry: \u001B[0m Germany\n",
      "\u001B[34mIs the information correct? [yes/no]\u001B[0m y\n"
     ]
    },
    {
     "name": "stdout",
     "output_type": "stream",
     "text": [
      "\n",
      "---------------------------------------------------------------------\n",
      "\u001B[1mHandle Issue Credential Webhook\u001B[0m\n",
      "Connection ID : 211d1ba8-8c66-442d-a6c2-3f13954a4d45\n",
      "Credential exchange ID : 6ddd811c-91b2-4eda-baa5-8778e56b09f9\n",
      "Agent Protocol Role :  issuer\n",
      "Protocol State :  \u001B[33moffer_sent\u001B[0m\n",
      "---------------------------------------------------------------------\n",
      "Offering :\n",
      "[\n",
      "    {'name': 'isManufacturer', 'value': 'TRUE'},\n",
      "    {'name': 'manufacturerName', 'value': 'undisclosedManufacturer1'},\n",
      "    {'name': 'manufacturerCity', 'value': 'Berlin'},\n",
      "    {'name': 'manufacturerCountry', 'value': 'Germany'},\n",
      "]\n",
      "\n",
      "---------------------------------------------------------------------\n",
      "\u001B[1mHandle Issue Credential Webhook\u001B[0m\n",
      "Connection ID : 211d1ba8-8c66-442d-a6c2-3f13954a4d45\n",
      "Credential exchange ID : 6ddd811c-91b2-4eda-baa5-8778e56b09f9\n",
      "Agent Protocol Role :  issuer\n",
      "Protocol State :  \u001B[33mrequest_received\u001B[0m\n",
      "---------------------------------------------------------------------\n",
      "Request for credential received\n",
      "\n",
      "---------------------------------------------------------------------\n",
      "\u001B[1mHandle Issue Credential Webhook\u001B[0m\n",
      "Connection ID : 211d1ba8-8c66-442d-a6c2-3f13954a4d45\n",
      "Credential exchange ID : 6ddd811c-91b2-4eda-baa5-8778e56b09f9\n",
      "Agent Protocol Role :  issuer\n",
      "Protocol State :  \u001B[33mcredential_issued\u001B[0m\n",
      "---------------------------------------------------------------------\n",
      "\n",
      "---------------------------------------------------------------------\n",
      "\u001B[1mHandle Issue Credential Webhook\u001B[0m\n",
      "Connection ID : 211d1ba8-8c66-442d-a6c2-3f13954a4d45\n",
      "Credential exchange ID : 6ddd811c-91b2-4eda-baa5-8778e56b09f9\n",
      "Agent Protocol Role :  issuer\n",
      "Protocol State :  \u001B[33mcredential_acked\u001B[0m\n",
      "---------------------------------------------------------------------\n"
     ]
    }
   ],
   "source": [
    "# MAKE VC ZKP-able! SEE https://github.com/hyperledger/aries-cloudagent-python/blob/main/JsonLdCredentials.md\n",
    "comment = \"Issuing VC that Manufacturer1 is a manufacturer\"\n",
    "auto_remove = True\n",
    "trace = False\n",
    "\n",
    "acm.offer_vc(\n",
    "    connection_id, \n",
    "    schema_manufacturer_id, \n",
    "    cred_def_manufacturer_id, \n",
    "    comment=comment, \n",
    "    #credential_attributes=credential_attributes\n",
    ")\n",
    "\n",
    "# Cred_def_id must identify a definition to which your agent has corresponding private issuing key.\n",
    "#send_cred_response = await agent_controller.issuer.send_credential(connection_id, schema_manufacturer_id, cred_def_manufacturer_id, credential_attributes, comment, auto_remove, trace)"
   ]
  },
  {
   "cell_type": "markdown",
   "id": "da711dd0",
   "metadata": {},
   "source": [
    "**BREAK POINT:** Proceed to `Manufacturer1` Agent, Step 3.2 \n",
    "\n",
    "---"
   ]
  },
  {
   "cell_type": "markdown",
   "id": "b60ce166",
   "metadata": {},
   "source": [
    "## Terminate Controller\n",
    "\n",
    "Whenever you have finished with this notebook, be sure to terminate the controller. This is especially important if your business logic runs across multiple notebooks."
   ]
  },
  {
   "cell_type": "code",
   "execution_count": null,
   "id": "78d9e335",
   "metadata": {},
   "outputs": [],
   "source": [
    "await agent_controller.terminate()"
   ]
  },
  {
   "cell_type": "code",
   "execution_count": null,
   "id": "af4babdc",
   "metadata": {},
   "outputs": [],
   "source": []
  }
 ],
 "metadata": {
  "kernelspec": {
   "display_name": "Python 3 (ipykernel)",
   "language": "python",
   "name": "python3"
  },
  "language_info": {
   "codemirror_mode": {
    "name": "ipython",
    "version": 3
   },
   "file_extension": ".py",
   "mimetype": "text/x-python",
   "name": "python",
   "nbconvert_exporter": "python",
   "pygments_lexer": "ipython3",
   "version": "3.9.5"
  }
 },
 "nbformat": 4,
 "nbformat_minor": 5
}