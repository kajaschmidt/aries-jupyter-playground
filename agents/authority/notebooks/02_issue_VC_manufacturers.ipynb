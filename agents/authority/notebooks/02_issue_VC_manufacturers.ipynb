{
 "cells": [
  {
   "cell_type": "markdown",
   "id": "f8e98d2e",
   "metadata": {},
   "source": [
    "# PETs/TETs – Hyperledger Aries – Authority Agent (Issuing Authority) 🏛️\n"
   ]
  },
  {
   "cell_type": "code",
   "execution_count": 1,
   "id": "ed1c24b9",
   "metadata": {
    "collapsed": false,
    "jupyter": {
     "outputs_hidden": false
    },
    "pycharm": {
     "name": "#%%\n"
    }
   },
   "outputs": [
    {
     "data": {
      "application/javascript": [
       "document.title='🏛️ Authority Agent'\n"
      ],
      "text/plain": [
       "<IPython.core.display.Javascript object>"
      ]
     },
     "metadata": {},
     "output_type": "display_data"
    }
   ],
   "source": [
    "%%javascript\n",
    "document.title='🏛️ Authority Agent'"
   ]
  },
  {
   "cell_type": "markdown",
   "id": "395dd560",
   "metadata": {},
   "source": [
    "## PART 2: Issue a VC to the Manufacturer Agents\n",
    "\n",
    "**What:** Issue verifiable credentials (VCs) to all manufacturers\n",
    "\n",
    "**Why:** Manufacturers will be able to store VCs, and prove to the city (the data scientist) that they are manufacturers, without revealing their identity.\n",
    "\n",
    "**How:** <br>\n",
    "1. [Initiate Authority's AgentCommunicationManager (ACM)](#1) <br>\n",
    "2. [Connect with Manufacturer1](#2)\n",
    "3. [Issue VC to Manufacturer1](#3)\n",
    "4. [Repeat Steps 2-3 for Manufacturer2](#4)\n",
    "4. [Repeat Steps 2-3 for Manufacturer3](#5)\n",
    "\n",
    "**Accompanying Agents and Notebooks:** \n",
    "* Manufacturer1 💼: `02_get_manufacturer1_VC.ipynb`\n",
    "* Manufacturer2 💼: `02_get_manufacturer2_VC.ipynb`\n",
    "* Manufacturer3 💼: `02_get_manufacturer3_VC.ipynb`"
   ]
  },
  {
   "cell_type": "markdown",
   "id": "e006cccb",
   "metadata": {
    "pycharm": {
     "name": "#%% md\n"
    }
   },
   "source": [
    "---\n",
    "\n",
    "### 0 - Setup\n",
    "#### 0.1 - Imports"
   ]
  },
  {
   "cell_type": "code",
   "execution_count": 2,
   "id": "9aeb120b",
   "metadata": {},
   "outputs": [],
   "source": [
    "from aries_cloudcontroller import AriesAgentController\n",
    "import libs.helpers as helpers\n",
    "from libs.agent_connection_manager import IssuingAuthority\n",
    "import os\n",
    "from termcolor import colored"
   ]
  },
  {
   "cell_type": "markdown",
   "id": "a15e417e",
   "metadata": {},
   "source": [
    "#### 0.2 – Variables"
   ]
  },
  {
   "cell_type": "code",
   "execution_count": 3,
   "id": "b3c5e856",
   "metadata": {
    "collapsed": false,
    "jupyter": {
     "outputs_hidden": false
    },
    "pycharm": {
     "name": "#%%\n"
    }
   },
   "outputs": [],
   "source": [
    "# Get identifier data defined in notebook 00_init_authority_as_issuingAuthority.ipynb\n",
    "identifiers = helpers.get_identifiers()\n",
    "schema_manufacturer_id = identifiers[\"manufacturer_schema_identifiers\"][\"schema_id\"]\n",
    "cred_def_manufacturer_id = identifiers[\"manufacturer_schema_identifiers\"][\"cred_def\"]\n",
    "\n",
    "# Get environment variables\n",
    "api_key = os.getenv(\"ACAPY_ADMIN_API_KEY\")\n",
    "admin_url = os.getenv(\"ADMIN_URL\")\n",
    "webhook_port = int(os.getenv(\"WEBHOOK_PORT\"))\n",
    "webhook_host = \"0.0.0.0\""
   ]
  },
  {
   "cell_type": "markdown",
   "id": "d416e9b3",
   "metadata": {},
   "source": [
    "---\n",
    "\n",
    "<a id=1> </a>\n",
    "### 1 – Initiate Authority Agent\n",
    "\n",
    "#### 1.1 – Init ACA-PY agent controller"
   ]
  },
  {
   "cell_type": "code",
   "execution_count": 4,
   "id": "9a455e9e",
   "metadata": {},
   "outputs": [
    {
     "name": "stdout",
     "output_type": "stream",
     "text": [
      "Initialising a controller with admin api at http://authority-agent:3021 and an api key of adminApiKey\n"
     ]
    }
   ],
   "source": [
    "# Setup\n",
    "agent_controller = AriesAgentController(admin_url,api_key)\n",
    "print(f\"Initialising a controller with admin api at {admin_url} and an api key of {api_key}\")"
   ]
  },
  {
   "cell_type": "markdown",
   "id": "675e9c7a",
   "metadata": {
    "pycharm": {
     "name": "#%% md\n"
    }
   },
   "source": [
    "#### 1.2 – Start Webhook Server to enable communication with other agents\n",
    "@todo: is communication with other agents, or with other docker containers?"
   ]
  },
  {
   "cell_type": "code",
   "execution_count": 5,
   "id": "010ed497",
   "metadata": {
    "collapsed": false,
    "jupyter": {
     "outputs_hidden": false
    },
    "pycharm": {
     "name": "#%%\n"
    }
   },
   "outputs": [
    {
     "name": "stdout",
     "output_type": "stream",
     "text": [
      "Listening for webhooks from agent at http://0.0.0.0:3010\n"
     ]
    }
   ],
   "source": [
    "# Listen on webhook server\n",
    "await agent_controller.init_webhook_server(webhook_host, webhook_port)\n",
    "print(f\"Listening for webhooks from agent at http://{webhook_host}:{webhook_port}\")"
   ]
  },
  {
   "cell_type": "markdown",
   "id": "fe39b319",
   "metadata": {
    "pycharm": {
     "name": "#%% md\n"
    }
   },
   "source": [
    "#### 1.3 – Init ACM issuing authority"
   ]
  },
  {
   "cell_type": "code",
   "execution_count": 6,
   "id": "317216d1",
   "metadata": {
    "collapsed": false,
    "jupyter": {
     "outputs_hidden": false
    },
    "pycharm": {
     "name": "#%%\n"
    }
   },
   "outputs": [
    {
     "name": "stdout",
     "output_type": "stream",
     "text": [
      "\u001b[1m\u001b[32mSuccessfully initiated AgentConnectionManager for a(n) Issuing Authority ACA-PY agent\u001b[0m\n"
     ]
    }
   ],
   "source": [
    "# The IssuingAuthority registers relevant webhook servers and event listeners\n",
    "authority_agent = IssuingAuthority(agent_controller)"
   ]
  },
  {
   "cell_type": "markdown",
   "id": "cc4c4263",
   "metadata": {},
   "source": [
    "---\n",
    "\n",
    "<a id=2> </a>\n",
    "\n",
    "### 2 – Establish a connection with Manufacturer1\n",
    "A connection with the credential issuer (i.e., the authority agent) must be established before a VC can be received. In this scenario, the manufacturer1 requests a connection with the Authority to be certified as an official city agency. Thus, the manufacturer1 agent sends an invitation to the Authority. In real life, the invitation can be shared via video call, phone call, or E-Mail. In this PoC, this is represented by copy and pasting the invitation into the manufacturers' notebooks.\n",
    "\n",
    "### 2.1 – Receive invitation from `Manufacturer1` agent\n",
    "Copy the invitation from Step 2.1 in the City's `01_hold_VC.ipynb` notebook into the following cell.\n",
    "Several state changes of the connection between the Manufacturer agent, the inviter (A), and the authority agent, the invitee (B),  are required before successfully establishing a connection: \n",
    "\n",
    "| Step | State | Agent | Description | Function/Prompt/Variable |\n",
    "| --- | --- | --- | --- | --- |\n",
    "| 1 | invitation-sent | A | A sent an invitation to B | `create_connection_invitation()`\n",
    "| 2 | invitation-received | B | B receives the invitation of A | Prompt: Paste invitation from A |\n",
    "| 3 | request-sent | B | B sends B connection request | Prompt: Accept invitation OR `auto_accept=True` |\n",
    "| 4 | request-received | A | A receives the connection request from B | Prompt: Accept invitation request response OR `auto_accept=True` |\n",
    "| 5 | response-sent | A | A sends B response to B | - |\n",
    "| 6 | response-received | B | B receives the response from A | - |\n",
    "| 7 | active (completed) | A | B pings A to finalize connection | Prompt: Trust ping OR `auto_ping=True` |\n"
   ]
  },
  {
   "cell_type": "code",
   "execution_count": null,
   "id": "69b488e0",
   "metadata": {
    "collapsed": false,
    "jupyter": {
     "outputs_hidden": false
    },
    "pycharm": {
     "name": "#%%\n"
    }
   },
   "outputs": [],
   "source": [
    "# Variables\n",
    "alias = None\n",
    "auto_accept= True\n",
    "label = None\n",
    "\n",
    "# Receive connection invitation\n",
    "connection_id_m1 = authority_agent.receive_connection_invitation(alias=alias, auto_accept=auto_accept, label=label)"
   ]
  },
  {
   "cell_type": "markdown",
   "id": "f772050a",
   "metadata": {},
   "source": [
    "<div style=\"font-size: 25px\"><center><b>Break Point 2</b></center></div>\n",
    "<div style=\"font-size: 50px\"><center>🏛 ➡️ 💼</center></div><br>\n",
    "<center><b>Please return to the Manufacturer1's notebook 💼. <br>Check the prompts in Step 2.1 (e.g., if auto_accept or auto_ping are set to False), and then proceed to Step 3.</b></center>\n",
    "\n",
    "---"
   ]
  },
  {
   "cell_type": "markdown",
   "id": "ea631392",
   "metadata": {},
   "source": [
    "<a id=3> </a>\n",
    "## 3 – Process VC request by Manufacturers\n",
    "### 3.1 – Check messages / requests by Manufacturers\n",
    "Check inbox and await messages sent by Manufacturer1"
   ]
  },
  {
   "cell_type": "code",
   "execution_count": null,
   "id": "4e897e4f",
   "metadata": {},
   "outputs": [],
   "source": [
    "# Verify inbox\n",
    "message_ids = authority_agent.verify_inbox()"
   ]
  },
  {
   "cell_type": "code",
   "execution_count": null,
   "id": "dc466423",
   "metadata": {},
   "outputs": [],
   "source": [
    "for m_id in message_ids:\n",
    "    authority_agent.get_message(m_id)"
   ]
  },
  {
   "cell_type": "markdown",
   "id": "7a3de0df",
   "metadata": {},
   "source": [
    "### 3.3 – Offer VC to `Manufacturer1` agent\n",
    "The next step is to offer a VC to the manufacturer agent. The manufacturer can then request the offer and store it in their wallet. The following table provides an overview of the individual states between I (Issuer, the Authority agent) and H (Holder, the Manufacturer).\n",
    "\n",
    "| Step | State | Role | Description | Function/Prompt/Variable |\n",
    "| --- | --- | --- | --- | --- |\n",
    "| 1 | offer_sent | I | I sends I VC offer with personalized information to H| `offer_vc()` |\n",
    "| 2 | offer_received | H | H receives offer made by I | - |\n",
    "| 3 | request_sent | H | Request VC offer | `request_vc()` AND (Prompt: request VC OR `auto_request=True`) |\n",
    "| 4 | request_received | I | M1's request to get VC was received | - |\n",
    "| 5 | credential_issued | I | Automatic response to issue credential | - |\n",
    "| 6 | credential_received | H| H receives VC and is asked to store it | Prompt: Store VC OR `auto_store=True`\n",
    "| 7 | credential_acked | I / H | Credential was issued and stored | - |"
   ]
  },
  {
   "cell_type": "code",
   "execution_count": null,
   "id": "fe3e9aa2",
   "metadata": {},
   "outputs": [],
   "source": [
    "# MAKE VC ZKP-able! SEE https://github.com/hyperledger/aries-cloudagent-python/blob/main/JsonLdCredentials.md\n",
    "comment = \"Issuing VC that Manufacturer1 is a manufacturer\"\n",
    "auto_remove = True\n",
    "trace = False\n",
    "\n",
    "# Offer Manufacturer1 a VC with manufacturer_schema\n",
    "authority_agent.offer_vc(\n",
    "    connection_id_m1, \n",
    "    schema_manufacturer_id, \n",
    "    cred_def_manufacturer_id, \n",
    "    comment=comment, \n",
    "    # Comment out next line if you do not want to get the prompts to enter VC information\n",
    "    credential_attributes=[{\"name\": \"manufacturerName\", \"value\": \"undisclosedManufacturer1\"}, {\"name\": \"manufacturerCity\", \"value\": \"Berlin\"}, {\"name\": \"manufacturerCountry\", \"value\": \"Germany\"}, {\"name\": \"isManufacturer\", \"value\": \"TRUE\"}]\n",
    ")"
   ]
  },
  {
   "cell_type": "markdown",
   "id": "8d0b7305",
   "metadata": {},
   "source": [
    "<div style=\"font-size: 25px\"><center><b>Break Point 4</b></center></div>\n",
    "<div style=\"font-size: 50px\"><center>🏛 ➡️ 💼</center></div><br>\n",
    "<center><b>Please return to the Manufacturer1's notebook 💼. <br>Continue with Step 3.2</b></center>\n",
    "\n",
    "---\n",
    "\n",
    "<a id=4> </a>\n",
    "### 4 – Repeat Steps 2 and 3 with Manufacturer2 🙈\n",
    "Execute the following cells to certify Manufacturer2 that the agent is a manufacturer.\n",
    "#### 4.1 – Receive connection invitation by Manufacturer2"
   ]
  },
  {
   "cell_type": "code",
   "execution_count": 7,
   "id": "04e43b58",
   "metadata": {},
   "outputs": [
    {
     "name": "stdout",
     "output_type": "stream",
     "text": [
      "\u001b[1m\u001b[35mPlease enter invitation received by external agent.\u001b[0m\n"
     ]
    },
    {
     "name": "stdin",
     "output_type": "stream",
     "text": [
      "\u001b[35mInvitation: \u001b[0m {     '@id': '8fe23452-f164-4a81-a563-65f23567a7e4',     '@type': 'did:sov:BzCbsNYhMrjHiqZDTUASHg;spec/connections/1.0/invitation',     'label': 'manufacturer2',     'recipientKeys': ['8Q2qxFD5sA6np43fg5BCFbeqnghQFN8AHo4FAdU4RJRn'],     'serviceEndpoint': 'https://101ffbe41b26.ngrok.io', }\n"
     ]
    },
    {
     "name": "stdout",
     "output_type": "stream",
     "text": [
      "\n",
      "---------------------------------------------------------------------\n",
      "\u001b[1mConnection Webhook Event Received\u001b[0m\n",
      "Connection ID :  a8acc34b-c0d7-48a1-a387-e5a2e4bc7f9e\n",
      "State :  \u001b[34minvitation (invitation-received)\u001b[0m\n",
      "Routing State : none\n",
      "Connection with :  manufacturer2\n",
      "Their Role :  inviter\n",
      "---------------------------------------------------------------------\n",
      "\n",
      "---------------------------------------------------------------------\n",
      "\u001b[1mConnection Webhook Event Received\u001b[0m\n",
      "Connection ID :  a8acc34b-c0d7-48a1-a387-e5a2e4bc7f9e\n",
      "State :  \u001b[34mrequest (request-sent)\u001b[0m\n",
      "Routing State : none\n",
      "Connection with :  manufacturer2\n",
      "Their Role :  inviter\n",
      "---------------------------------------------------------------------\n"
     ]
    }
   ],
   "source": [
    "# Variables\n",
    "alias = None\n",
    "auto_accept= True\n",
    "label = None\n",
    "\n",
    "# Receive connection invitation\n",
    "connection_id_m2= authority_agent.receive_connection_invitation(alias=alias, auto_accept=auto_accept, label=label)"
   ]
  },
  {
   "cell_type": "markdown",
   "id": "7087c7ab",
   "metadata": {},
   "source": [
    "#### 4.2 Offer VC to Manufacturer2"
   ]
  },
  {
   "cell_type": "code",
   "execution_count": null,
   "id": "9ee868ec",
   "metadata": {},
   "outputs": [],
   "source": [
    "# MAKE VC ZKP-able! SEE https://github.com/hyperledger/aries-cloudagent-python/blob/main/JsonLdCredentials.md\n",
    "comment = \"Issuing VC that Manufacturer2 is a manufacturer\"\n",
    "auto_remove = True\n",
    "trace = False\n",
    "\n",
    "# Offer Manufacturer1 a VC with manufacturer_schema\n",
    "authority_agent.offer_vc(\n",
    "    connection_id_m2, \n",
    "    schema_manufacturer_id, \n",
    "    cred_def_manufacturer_id, \n",
    "    comment=comment, \n",
    "    # Comment out next line if you do not want to get the prompts to enter VC information\n",
    "    credential_attributes=[{\"name\": \"manufacturerName\", \"value\": \"undisclosedManufacturer2\"}, {\"name\": \"manufacturerCity\", \"value\": \"Braunschweig\"}, {\"name\": \"manufacturerCountry\", \"value\": \"Germany\"}, {\"name\": \"isManufacturer\", \"value\": \"TRUE\"}]\n",
    ")"
   ]
  },
  {
   "cell_type": "markdown",
   "id": "0ea7d3c9",
   "metadata": {},
   "source": [
    "<div style=\"font-size: 25px\"><center><b>Break Point xxx</b></center></div>\n",
    "<div style=\"font-size: 50px\"><center>🏛 ➡️ 💼</center></div><br>\n",
    "<center><b>Please return to the Manufacturer2's notebook 💼. <br>Continue with Step xxx</b></center>\n",
    "\n",
    "---\n",
    "\n",
    "<a id=5> </a>\n",
    "### 5 – Repeat Steps 2 and 3 with Manufacturer3\n",
    "Execute the following cells to certify Manufacturer3 that the agent is a manufacturer.\n",
    "#### 5.1 – Establish a connection with Manufacturer3"
   ]
  },
  {
   "cell_type": "code",
   "execution_count": 7,
   "id": "cf9f0d72",
   "metadata": {},
   "outputs": [
    {
     "name": "stdout",
     "output_type": "stream",
     "text": [
      "\u001b[1m\u001b[35mPlease enter invitation received by external agent.\u001b[0m\n"
     ]
    },
    {
     "name": "stdin",
     "output_type": "stream",
     "text": [
      "\u001b[35mInvitation: \u001b[0m {     '@id': '8fe23452-f164-4a81-a563-65f23567a7e4',     '@type': 'did:sov:BzCbsNYhMrjHiqZDTUASHg;spec/connections/1.0/invitation',     'label': 'manufacturer2',     'recipientKeys': ['8Q2qxFD5sA6np43fg5BCFbeqnghQFN8AHo4FAdU4RJRn'],     'serviceEndpoint': 'https://101ffbe41b26.ngrok.io', }\n"
     ]
    },
    {
     "name": "stdout",
     "output_type": "stream",
     "text": [
      "\n",
      "---------------------------------------------------------------------\n",
      "\u001b[1mConnection Webhook Event Received\u001b[0m\n",
      "Connection ID :  a8acc34b-c0d7-48a1-a387-e5a2e4bc7f9e\n",
      "State :  \u001b[34minvitation (invitation-received)\u001b[0m\n",
      "Routing State : none\n",
      "Connection with :  manufacturer2\n",
      "Their Role :  inviter\n",
      "---------------------------------------------------------------------\n",
      "\n",
      "---------------------------------------------------------------------\n",
      "\u001b[1mConnection Webhook Event Received\u001b[0m\n",
      "Connection ID :  a8acc34b-c0d7-48a1-a387-e5a2e4bc7f9e\n",
      "State :  \u001b[34mrequest (request-sent)\u001b[0m\n",
      "Routing State : none\n",
      "Connection with :  manufacturer2\n",
      "Their Role :  inviter\n",
      "---------------------------------------------------------------------\n"
     ]
    }
   ],
   "source": [
    "# Variables\n",
    "alias = None\n",
    "auto_accept= True\n",
    "label = None\n",
    "\n",
    "# Receive connection invitation\n",
    "connection_id_m3 = authority_agent.receive_connection_invitation(alias=alias, auto_accept=auto_accept, label=label)"
   ]
  },
  {
   "cell_type": "markdown",
   "id": "b032815c",
   "metadata": {},
   "source": [
    "#### 5.2 Offer VC to Manufacturer2"
   ]
  },
  {
   "cell_type": "code",
   "execution_count": null,
   "id": "5be73a65",
   "metadata": {},
   "outputs": [],
   "source": [
    "# MAKE VC ZKP-able! SEE https://github.com/hyperledger/aries-cloudagent-python/blob/main/JsonLdCredentials.md\n",
    "comment = \"Issuing VC that Manufacturer3 is a manufacturer\"\n",
    "auto_remove = True\n",
    "trace = False\n",
    "\n",
    "# Offer Manufacturer1 a VC with manufacturer_schema\n",
    "authority_agent.offer_vc(\n",
    "    connection_id_m3, \n",
    "    schema_manufacturer_id, \n",
    "    cred_def_manufacturer_id, \n",
    "    comment=comment, \n",
    "    # Comment out next line if you do not want to get the prompts to enter VC information\n",
    "    credential_attributes=[{\"name\": \"manufacturerName\", \"value\": \"undisclosedManufacturer3\"}, {\"name\": \"manufacturerCity\", \"value\": \"München\"}, {\"name\": \"manufacturerCountry\", \"value\": \"Germany\"}, {\"name\": \"isManufacturer\", \"value\": \"TRUE\"}]\n",
    ")"
   ]
  },
  {
   "cell_type": "markdown",
   "id": "0ff6a4df",
   "metadata": {},
   "source": [
    "<div style=\"font-size: 25px\"><center><b>Break Point xxx</b></center></div>\n",
    "<div style=\"font-size: 50px\"><center>🏛 ➡️ 💼</center></div><br>\n",
    "<center><b>Please return to the Manufacturer3's notebook 💼. <br>Continue with Step xxx</b></center>\n",
    "\n",
    "---\n",
    "\n",
    "## 6 - Terminate Controller\n",
    "\n",
    "Whenever you have finished with this notebook, be sure to terminate the controller. This is especially important if your business logic runs across multiple notebooks."
   ]
  },
  {
   "cell_type": "code",
   "execution_count": null,
   "id": "25984d87",
   "metadata": {},
   "outputs": [],
   "source": [
    "await agent_controller.terminate()"
   ]
  },
  {
   "cell_type": "markdown",
   "id": "87845784",
   "metadata": {},
   "source": [
    "--- \n",
    "\n",
    "### 🔥🔥🔥 You are done 🙌 and can close this notebook now 🔥🔥🔥\n"
   ]
  },
  {
   "cell_type": "code",
   "execution_count": null,
   "id": "6f1e2489",
   "metadata": {},
   "outputs": [],
   "source": []
  }
 ],
 "metadata": {
  "kernelspec": {
   "display_name": "Python 3 (ipykernel)",
   "language": "python",
   "name": "python3"
  },
  "language_info": {
   "codemirror_mode": {
    "name": "ipython",
    "version": 3
   },
   "file_extension": ".py",
   "mimetype": "text/x-python",
   "name": "python",
   "nbconvert_exporter": "python",
   "pygments_lexer": "ipython3",
   "version": "3.9.5"
  }
 },
 "nbformat": 4,
 "nbformat_minor": 5
}
