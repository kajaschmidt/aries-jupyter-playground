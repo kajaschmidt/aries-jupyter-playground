{
 "cells": [
  {
   "cell_type": "markdown",
   "id": "ae460318",
   "metadata": {},
   "source": [
    "# PETs/TETs – Hyperledger Aries – Authority Agent (Issuing Authority) 🏛️\n",
    "\n",
    "---\n",
    "⚠️ <span style='background : yellow'>**Warning:**</span> Run the notebook only once after running `./manage.sh start` in your terminal. Before running this notebook again, execute `./manage.sh down` to delete the postgres databases (i.e., the agents' digital wallets). Otherwise, the storage will persist in the postgres database (even when executing `./manage.sh stop`).\n",
    "\n",
    "---"
   ]
  },
  {
   "cell_type": "code",
   "execution_count": 1,
   "id": "981f7fd0",
   "metadata": {},
   "outputs": [
    {
     "data": {
      "application/javascript": [
       "document.title='🏛️ Authority'\n"
      ],
      "text/plain": [
       "<IPython.core.display.Javascript object>"
      ]
     },
     "metadata": {},
     "output_type": "display_data"
    }
   ],
   "source": [
    "%%javascript\n",
    "document.title='🏛️ Authority'"
   ]
  },
  {
   "cell_type": "markdown",
   "id": "f4aaee84",
   "metadata": {},
   "source": [
    "## **PART 1: Declare Authority Agent as an Issuing Authority**\n",
    "\n",
    "\n",
    "**What:** Initialize the authority agent as an issuing authority on the Sovrin StagingNet. \n",
    "\n",
    "**Why:** Enable the authority to certify that manufacturer1, manufacturer2, manufacturer3 are manufacturers.\n",
    "\n",
    "**How:**\n",
    "1. [Initialize authority agent and write DID to Sovrin StagingNet](#1) <br>\n",
    "\n",
    "2. [Author schemes:](#2) design and register schemes to <br>\n",
    "a. certify an agent is a city, and <br>\n",
    "b. certify an agent as a manufacturer\n",
    "3. [Store identifiers of schema and VC definition to access it in notebooks of other agents](#3)\n",
    "\n",
    "**Accompanying Notebooks:** -\n",
    "\n",
    "---"
   ]
  },
  {
   "cell_type": "markdown",
   "id": "061ffc00",
   "metadata": {
    "pycharm": {
     "name": "#%% md\n"
    }
   },
   "source": [
    "### 0 - Setup\n",
    "#### 0.1 - Imports"
   ]
  },
  {
   "cell_type": "code",
   "execution_count": 2,
   "id": "1cce3735",
   "metadata": {},
   "outputs": [],
   "source": [
    "import os\n",
    "\n",
    "from aries_cloudcontroller import AriesAgentController\n",
    "#from libs.aries_basic_controller import AriesAgentController\n",
    "from termcolor import colored\n",
    "\n",
    "import libs.helpers as helpers\n",
    "from libs.agent_connection_manager import IssuingAuthority"
   ]
  },
  {
   "cell_type": "markdown",
   "id": "6098e45b",
   "metadata": {},
   "source": [
    "#### 0.2 – Variables\n",
    "\n",
    "Set `issue_city_schema = True` and/or `issue_manufacturer_schema = True` to issue a new Schema 1 and/or Schema 2, or update Schema 1 and/or Schema 2 with a new verion number. This is necessary if you ran `./manage.sh start` for the first time (or after running `./manage.sh down`)."
   ]
  },
  {
   "cell_type": "code",
   "execution_count": 3,
   "id": "05e47905",
   "metadata": {
    "collapsed": false,
    "jupyter": {
     "outputs_hidden": false
    },
    "pycharm": {
     "name": "#%%\n"
    }
   },
   "outputs": [],
   "source": [
    "# Indicate which schemes should be defined\n",
    "issue_city_schema = True\n",
    "issue_manufacturer_schema = True\n",
    "\n",
    "# Get relevant details from .env file\n",
    "api_key = os.getenv(\"ACAPY_ADMIN_API_KEY\")\n",
    "admin_url = os.getenv(\"ADMIN_URL\")"
   ]
  },
  {
   "cell_type": "markdown",
   "id": "454b812d",
   "metadata": {},
   "source": [
    "<a id=1> </a> \n",
    "### 1 - Initialize Authority Agent as Issuing Authority\n",
    "This section initializes an ACA-PY agent and defines the agent as an IssuingAuthority (from the `AgentConnectionManager` (ACM) package) to manage the aries agent. To give the agent issuing power, we define a DID and write it to the Sovrin StagingNet. The Sovrin StagingNet is used as the underlying network to write and resolve cryptographic objects in this PoC.\n",
    "\n",
    "#### 1.1 – Init ACA-Py agent controller and ACM issuing authority"
   ]
  },
  {
   "cell_type": "code",
   "execution_count": 4,
   "id": "a1ac0f34",
   "metadata": {},
   "outputs": [
    {
     "name": "stdout",
     "output_type": "stream",
     "text": [
      "\u001b[1m\u001b[32mInitialising an aries agent controller with admin api at http://authority-agent:3021 and an api key of adminApiKey\u001b[0m\n",
      "\u001b[1m\u001b[32mSuccessfully initiated AgentConnectionManager for a(n) Issuing Authority ACA-PY agent\u001b[0m\n"
     ]
    }
   ],
   "source": [
    "agent_controller = AriesAgentController(admin_url,api_key)\n",
    "print(colored(\"Initialising an aries agent controller with admin api at {admin_url} and an api key of {api_key}\".format(admin_url=admin_url, api_key=api_key), \"green\", attrs=[\"bold\"]))\n",
    "\n",
    "authority_agent = IssuingAuthority(agent_controller)"
   ]
  },
  {
   "cell_type": "markdown",
   "id": "00be57fe",
   "metadata": {},
   "source": [
    "#### 1.2 – Get agent's DID and write it to the Sovrin StagingNet\n",
    "Get the DID of the authority agent (), and register it with the Sovrin StagingNet ledger."
   ]
  },
  {
   "cell_type": "code",
   "execution_count": 5,
   "id": "499b1306",
   "metadata": {},
   "outputs": [
    {
     "name": "stdout",
     "output_type": "stream",
     "text": [
      "\u001b[1m\u001b[32mSuccessfully created a new DID:\u001b[0m\n",
      "{\n",
      "    'result': {\n",
      "        'did': '2KxCWWNPe7ius8bDwFAxyh',\n",
      "        'key_type': 'ed25519',\n",
      "        'method': 'sov',\n",
      "        'posture': 'wallet_only',\n",
      "        'verkey': 'iwbW4BsehcbiWZEpGEYpvAEq2HVZwqNJDdD4RkA9Mr8',\n",
      "    },\n",
      "}\n"
     ]
    }
   ],
   "source": [
    "# Get DID of authority agent\n",
    "did_obj = authority_agent.get_did() # The method calls an existing DID, or creates a new DID if no existing DID was found\n",
    "authority_did = did_obj[\"did\"]"
   ]
  },
  {
   "cell_type": "code",
   "execution_count": 6,
   "id": "3aec4c6a",
   "metadata": {},
   "outputs": [
    {
     "name": "stdout",
     "output_type": "stream",
     "text": [
      "{'did': '2KxCWWNPe7ius8bDwFAxyh', 'seed': None, 'verkey': 'iwbW4BsehcbiWZEpGEYpvAEq2HVZwqNJDdD4RkA9Mr8'}\n"
     ]
    }
   ],
   "source": [
    "# Write DID to Sovrin StagingNet\n",
    "authority_agent.write_did_to_ledger(did_obj)"
   ]
  },
  {
   "cell_type": "markdown",
   "id": "c11fb7b4",
   "metadata": {},
   "source": [
    "#### 1.3 – Accept Transaction Author Agreement (TAA)\n",
    "\n",
    "Although the Sovrin StagingNet is permissionless, a Transaction Author Agreement (TAA) must be accepted before an issuing authority has the right to write to the ledger. The TAA is accepted by signing the TAA using the DID registered on the ledger."
   ]
  },
  {
   "cell_type": "code",
   "execution_count": 7,
   "id": "e1dde4a6",
   "metadata": {},
   "outputs": [],
   "source": [
    "#authority_agent.accept_taa_agreement()"
   ]
  },
  {
   "cell_type": "markdown",
   "id": "9c10c57b",
   "metadata": {},
   "source": [
    "#### 1.4 – Finalize initiating agent as issuing authority by making DID public"
   ]
  },
  {
   "cell_type": "code",
   "execution_count": 8,
   "id": "556ccd7c",
   "metadata": {},
   "outputs": [
    {
     "name": "stdout",
     "output_type": "stream",
     "text": [
      "\u001b[1m\u001b[32mSuccessfully initialized agent with Public DID: 2KxCWWNPe7ius8bDwFAxyh\u001b[0m\n"
     ]
    }
   ],
   "source": [
    "authority_agent.make_did_public(did_obj)"
   ]
  },
  {
   "cell_type": "markdown",
   "id": "ff6b92d5",
   "metadata": {},
   "source": [
    "<a id=2> </a> \n",
    "### 2 – Write VC schema to certify city-status (Schema 1) and manufacturer-status (Schema 2)\n"
   ]
  },
  {
   "cell_type": "markdown",
   "id": "cfb6f00b",
   "metadata": {},
   "source": [
    "#### 2.1 – Schema 1: VCs for Cities"
   ]
  },
  {
   "cell_type": "code",
   "execution_count": 9,
   "id": "99de1342",
   "metadata": {},
   "outputs": [
    {
     "name": "stdout",
     "output_type": "stream",
     "text": [
      "\u001b[1m\u001b[32mSuccessfully wrote certify-city-agency schema:\u001b[0m\n",
      "{\n",
      "    'schema': {\n",
      "        'attrNames': ['isCityAgency', 'city', 'country'],\n",
      "        'id': '2KxCWWNPe7ius8bDwFAxyh:2:certify-city-agency:0.0.1',\n",
      "        'name': 'certify-city-agency',\n",
      "        'seqNo': 107766,\n",
      "        'ver': '1.0',\n",
      "        'version': '0.0.1',\n",
      "    },\n",
      "    'schema_id': '2KxCWWNPe7ius8bDwFAxyh:2:certify-city-agency:0.0.1',\n",
      "}\n",
      "\u001b[1m\u001b[32mSuccessfully wrote credential definition id: 2KxCWWNPe7ius8bDwFAxyh:3:CL:107766:default\u001b[0m\n"
     ]
    }
   ],
   "source": [
    "if issue_city_schema is True:\n",
    "    # Define a unique schema name on the ledger, version the schema (to be able to update it), and define attributes in the schema\n",
    "    schema_name = \"certify-city-agency\"\n",
    "    schema_version = \"0.0.1\"\n",
    "    attributes = [\"city\", \"country\", \"isCityAgency\"]\n",
    "\n",
    "    # Define schema\n",
    "    schema_city_id = authority_agent.write_vc_schema(schema_name, schema_version, attributes)\n",
    "    \n",
    "    # Write schema credential definition transaction to the ledger to specify cryptographic material the agent uses to sign all VCs\n",
    "    cred_def_city_id = authority_agent.write_vc_cred_def(schema_city_id)\n",
    "          \n",
    "else:\n",
    "    # Get old identifiers \n",
    "    schema_city_id = fnc.get_identifiers()[\"city_schema_identifiers\"][\"schema_id\"]\n",
    "    cred_def_city_id = fnc.get_identifiers()[\"city_schema_identifiers\"][\"cred_def\"]\n",
    "\n",
    "# Store credentials in dictionary for storage later (to be able to access the identifiers from another jupyter notebook)\n",
    "city_identifiers = {\"schema_id\": schema_city_id, \"cred_def\": cred_def_city_id}"
   ]
  },
  {
   "cell_type": "markdown",
   "id": "1b0e95fe",
   "metadata": {},
   "source": [
    "#### 2.2 – Schema 2: VCs for Manufacturers"
   ]
  },
  {
   "cell_type": "code",
   "execution_count": 10,
   "id": "b06e726a",
   "metadata": {},
   "outputs": [
    {
     "name": "stdout",
     "output_type": "stream",
     "text": [
      "\u001b[1m\u001b[32mSuccessfully wrote certify-manufacturer schema:\u001b[0m\n",
      "{\n",
      "    'schema': {\n",
      "        'attrNames': [\n",
      "            'manufacturerName',\n",
      "            'manufacturerCity',\n",
      "            'manufacturerCountry',\n",
      "            'isManufacturer',\n",
      "        ],\n",
      "        'id': '2KxCWWNPe7ius8bDwFAxyh:2:certify-manufacturer:0.0.1',\n",
      "        'name': 'certify-manufacturer',\n",
      "        'seqNo': 107768,\n",
      "        'ver': '1.0',\n",
      "        'version': '0.0.1',\n",
      "    },\n",
      "    'schema_id': '2KxCWWNPe7ius8bDwFAxyh:2:certify-manufacturer:0.0.1',\n",
      "}\n",
      "\u001b[1m\u001b[32mSuccessfully wrote credential definition id: 2KxCWWNPe7ius8bDwFAxyh:3:CL:107768:default\u001b[0m\n"
     ]
    }
   ],
   "source": [
    "if issue_manufacturer_schema is True:\n",
    "    # Define a unique schema name on the ledger, version the schema (to be able to update it), and define attributes in the schema\n",
    "    schema_name = \"certify-manufacturer\"\n",
    "    schema_version = \"0.0.1\"\n",
    "    attributes = [\"manufacturerName\", \"manufacturerCountry\", \"manufacturerCity\", \"isManufacturer\"]\n",
    "\n",
    "    # Define schema\n",
    "    schema_manufacturer_id = authority_agent.write_vc_schema(schema_name, schema_version, attributes)\n",
    "    \n",
    "    # Write schema credential definition transaction to the ledger to specify cryptographic material the agent uses to sign all VCs\n",
    "    cred_def_manufacturer_id = authority_agent.write_vc_cred_def(schema_manufacturer_id)\n",
    "          \n",
    "else:\n",
    "    # Get old identifiers \n",
    "    schema_manufacturer_id = helpers.get_identifiers()[\"manufacturer_schema_identifiers\"][\"schema_id\"]\n",
    "    cred_def_manufacturer_id = helpers.get_identifiers()[\"manufacturer_schema_identifiers\"][\"cred_def\"]\n",
    "\n",
    "# Store credentials in dictionary for storage later (to be able to access the identifiers from another jupyter notebook)\n",
    "manufacturer_identifiers = {\"schema_id\": schema_manufacturer_id, \"cred_def\": cred_def_manufacturer_id}"
   ]
  },
  {
   "cell_type": "markdown",
   "id": "6c7c5a0b",
   "metadata": {},
   "source": [
    "<a id=3> </a> \n",
    "### 3 – Store identifiers for use throughout other agents' notebooks\n",
    "\n",
    "The IDs of the Schema 1nd VC definitions are required whenever the Authority agent issues credentials or constrains acceptable proof requests. For notebooks, it is easier to store the value pair as a string in a cell, and load them into the jupyter store. In real applications, the values should be stored in environment variables or a database.\n",
    "\n",
    "Thus, the identifiers are printed and copied across the main business logic notebooks and stored as variables. This process only needs to be repeated when you ran `./manage.sh start` for the first time, or executed `./manage.sh down` (instead of `./manage.sh stop`).  "
   ]
  },
  {
   "cell_type": "code",
   "execution_count": 11,
   "id": "a08e6d7e",
   "metadata": {},
   "outputs": [
    {
     "name": "stdout",
     "output_type": "stream",
     "text": [
      "\u001b[1m\u001b[32mSuccessfully stored identifiers dictionary in libs/identifiers.json 💾\u001b[0m (Will be needed in other notebooks and by other agents.)\n",
      "{\n",
      "    'authority_did': '2KxCWWNPe7ius8bDwFAxyh',\n",
      "    'city_schema_identifiers': {\n",
      "        'cred_def': '2KxCWWNPe7ius8bDwFAxyh:3:CL:107766:default',\n",
      "        'schema_id': '2KxCWWNPe7ius8bDwFAxyh:2:certify-city-agency:0.0.1',\n",
      "    },\n",
      "    'manufacturer_schema_identifiers': {\n",
      "        'cred_def': '2KxCWWNPe7ius8bDwFAxyh:3:CL:107768:default',\n",
      "        'schema_id': '2KxCWWNPe7ius8bDwFAxyh:2:certify-manufacturer:0.0.1',\n",
      "    },\n",
      "}\n"
     ]
    }
   ],
   "source": [
    "identifiers = {\"city_schema_identifiers\": city_identifiers, \"manufacturer_schema_identifiers\": manufacturer_identifiers, \"authority_did\": authority_did}\n",
    "helpers.store_identifiers(dict(identifiers))"
   ]
  },
  {
   "cell_type": "markdown",
   "id": "93cc64b0",
   "metadata": {},
   "source": [
    "### 4 – Terminate Controller"
   ]
  },
  {
   "cell_type": "code",
   "execution_count": 12,
   "id": "c3e4591b",
   "metadata": {},
   "outputs": [],
   "source": [
    "await agent_controller.terminate()"
   ]
  },
  {
   "cell_type": "code",
   "execution_count": null,
   "id": "eacba83c",
   "metadata": {},
   "outputs": [],
   "source": []
  }
 ],
 "metadata": {
  "kernelspec": {
   "display_name": "Python 3 (ipykernel)",
   "language": "python",
   "name": "python3"
  },
  "language_info": {
   "codemirror_mode": {
    "name": "ipython",
    "version": 3
   },
   "file_extension": ".py",
   "mimetype": "text/x-python",
   "name": "python",
   "nbconvert_exporter": "python",
   "pygments_lexer": "ipython3",
   "version": "3.9.5"
  }
 },
 "nbformat": 4,
 "nbformat_minor": 5
}
