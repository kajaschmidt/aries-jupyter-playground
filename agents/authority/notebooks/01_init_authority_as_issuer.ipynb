{
 "cells": [
  {
   "cell_type": "markdown",
   "id": "a0f57229",
   "metadata": {},
   "source": [
    "# PETs/TETs – Hyperledger Aries – Authority Agent (Issuing Authority) 🏛️\n",
    "\n",
    "---\n",
    "⚠️ <span style='background : yellow'>**Warning:**</span> Run the notebook only once after running `./manage.sh start` in your terminal. Before running this notebook again, execute `./manage.sh down` to delete the postgres databases (i.e., the agents' digital wallets). Otherwise, the storage will persist in the postgres database (even when executing `./manage.sh stop`).\n",
    "\n",
    "---"
   ]
  },
  {
   "cell_type": "code",
   "execution_count": 1,
   "id": "36abcf3e",
   "metadata": {},
   "outputs": [
    {
     "data": {
      "application/javascript": [
       "document.title='🏛️ Authority'\n"
      ],
      "text/plain": [
       "<IPython.core.display.Javascript object>"
      ]
     },
     "metadata": {},
     "output_type": "display_data"
    }
   ],
   "source": [
    "%%javascript\n",
    "document.title='🏛️ Authority'"
   ]
  },
  {
   "cell_type": "markdown",
   "id": "421c3348",
   "metadata": {},
   "source": [
    "## **PART 1: Declare Authority Agent as an Issuing Authority**\n",
    "\n",
    "\n",
    "**What:** Initialize the authority agent as an issuing authority on the Sovrin StagingNet. \n",
    "\n",
    "**Why:** Enable the authority to certify that manufacturer1, manufacturer2, manufacturer3 are manufacturers.\n",
    "\n",
    "**How:**\n",
    "1. [Initialize authority agent and write DID to Sovrin StagingNet](#1) <br>\n",
    "\n",
    "2. [Author schemes:](#2) design and register schemes to <br>\n",
    "a. certify an agent is a city, and <br>\n",
    "b. certify an agent as a manufacturer\n",
    "3. [Store identifiers of schema and VC definition to access it in notebooks of other agents](#3)\n",
    "\n",
    "**Accompanying Notebooks:** -\n",
    "\n",
    "---"
   ]
  },
  {
   "cell_type": "markdown",
   "id": "a838f908",
   "metadata": {
    "pycharm": {
     "name": "#%% md\n"
    }
   },
   "source": [
    "### 0 - Setup\n",
    "#### 0.1 - Imports"
   ]
  },
  {
   "cell_type": "code",
   "execution_count": 2,
   "id": "68b54f1a",
   "metadata": {},
   "outputs": [],
   "source": [
    "import os\n",
    "\n",
    "from aries_cloudcontroller import AriesAgentController\n",
    "from termcolor import colored\n",
    "\n",
    "import libs.helpers as helpers\n",
    "from libs.agent_connection_manager import IssuingAuthority"
   ]
  },
  {
   "cell_type": "markdown",
   "id": "58511837",
   "metadata": {},
   "source": [
    "#### 0.2 – Variables\n",
    "\n",
    "Set `issue_city_schema = True` and/or `issue_manufacturer_schema = True` to issue a new Schema 1 and/or Schema 2, or update Schema 1 and/or Schema 2 with a new verion number. This is necessary if you ran `./manage.sh start` for the first time (or after running `./manage.sh down`)."
   ]
  },
  {
   "cell_type": "code",
   "execution_count": 3,
   "id": "539f431b",
   "metadata": {
    "collapsed": false,
    "jupyter": {
     "outputs_hidden": false
    },
    "pycharm": {
     "name": "#%%\n"
    }
   },
   "outputs": [],
   "source": [
    "# Indicate which schemes should be defined\n",
    "issue_city_schema = True\n",
    "issue_manufacturer_schema = True\n",
    "\n",
    "# Get relevant details from .env file\n",
    "api_key = os.getenv(\"ACAPY_ADMIN_API_KEY\")\n",
    "admin_url = os.getenv(\"ADMIN_URL\")"
   ]
  },
  {
   "cell_type": "markdown",
   "id": "f0d8c8cf",
   "metadata": {},
   "source": [
    "<a id=1> </a> \n",
    "### 1 - Initialize Authority Agent as Issuing Authority\n",
    "This section initializes an ACA-PY agent and defines the agent as an IssuingAuthority (from the `AgentConnectionManager` (ACM) package) to manage the aries agent. To give the agent issuing power, we define a DID and write it to the Sovrin StagingNet. The Sovrin StagingNet is used as the underlying network to write and resolve cryptographic objects in this PoC.\n",
    "\n",
    "#### 1.1 – Init ACA-Py agent controller and ACM issuing authority"
   ]
  },
  {
   "cell_type": "code",
   "execution_count": 4,
   "id": "48192b8b",
   "metadata": {},
   "outputs": [
    {
     "name": "stdout",
     "output_type": "stream",
     "text": [
      "\u001b[1m\u001b[32mInitialising an aries agent controller with admin api at http://authority-agent:3021 and an api key of adminApiKey\u001b[0m\n",
      "\u001b[1m\u001b[32mSuccessfully initiated AgentConnectionManager for a(n) Issuing Authority ACA-PY agent\u001b[0m\n"
     ]
    }
   ],
   "source": [
    "agent_controller = AriesAgentController(admin_url,api_key)\n",
    "print(colored(\"Initialising an aries agent controller with admin api at {admin_url} and an api key of {api_key}\".format(admin_url=admin_url, api_key=api_key), \"green\", attrs=[\"bold\"]))\n",
    "\n",
    "authority_agent = IssuingAuthority(agent_controller)"
   ]
  },
  {
   "cell_type": "markdown",
   "id": "17876588",
   "metadata": {},
   "source": [
    "#### 1.2 – Get agent's DID and write it to the Sovrin StagingNet\n",
    "Get the DID of the authority agent (), and register it with the Sovrin StagingNet ledger."
   ]
  },
  {
   "cell_type": "code",
   "execution_count": 5,
   "id": "4a33c4f3",
   "metadata": {},
   "outputs": [
    {
     "name": "stdout",
     "output_type": "stream",
     "text": [
      "\u001b[1m\u001b[32mSuccessfully created a new DID:\u001b[0m\n",
      "{\n",
      "    'did': 'XvWddwCGryjykggMo3vHrv',\n",
      "    'key_type': 'ed25519',\n",
      "    'method': 'sov',\n",
      "    'posture': 'wallet_only',\n",
      "    'verkey': 'HrXR4wEukN7Hmfv4YmiiU5L8wZDSCBDLVWSvmAWvf4ac',\n",
      "}\n"
     ]
    }
   ],
   "source": [
    "# Get DID of authority agent\n",
    "did_obj = authority_agent.get_did() # The method calls an existing DID, or creates a new DID if no existing DID was found\n",
    "authority_did = did_obj[\"did\"]"
   ]
  },
  {
   "cell_type": "code",
   "execution_count": 6,
   "id": "3aa5468b",
   "metadata": {},
   "outputs": [
    {
     "name": "stdout",
     "output_type": "stream",
     "text": [
      "\u001b[1m\u001b[32mSuccessfully wrote NYM identified by XvWddwCGryjykggMo3vHrv to the ledger with role ENDORSER\u001b[0m\n"
     ]
    }
   ],
   "source": [
    "# Write DID to Sovrin StagingNet\n",
    "authority_agent.write_did_to_ledger(did_obj)"
   ]
  },
  {
   "cell_type": "markdown",
   "id": "afd7318b",
   "metadata": {},
   "source": [
    "#### 1.3 – Accept Transaction Author Agreement (TAA)\n",
    "\n",
    "Although the Sovrin StagingNet is permissionless, a Transaction Author Agreement (TAA) must be accepted before an issuing authority has the right to write to the ledger. The TAA is accepted by signing the TAA using the DID registered on the ledger."
   ]
  },
  {
   "cell_type": "code",
   "execution_count": 7,
   "id": "2d9c9f4a",
   "metadata": {},
   "outputs": [
    {
     "name": "stdout",
     "output_type": "stream",
     "text": [
      "-------------------------------------- TRANSACTION AUTHOR AGREEMENT (TAA) --------------------------------------\n",
      "\u001b[34m\n",
      "Source: https://sovrin.org/preparing-for-the-sovrin-transaction-author-agreement/ (accessed Aug 16, 2021)\u001b[0m\n",
      "\n",
      "\"As a global public ledger, the Sovrin Ledger and all its participants are subject to privacy and data\n",
      "protection regulations such as the EU General Data Protection Regulation (GDPR). These regulations require\n",
      "that the participants be explicit about responsibilities for Personal Data. ...\n",
      "\n",
      "To clarify these responsibilities and provide protection for all parties, the Sovrin Governance Framework\n",
      "Working Group developed an agreement between Transaction Authors and the Sovrin Foundation. The TAA can\n",
      "be found at Sovrin.org. It ensures that users are aware of and consent to the fact that all data written\n",
      "to the Sovrin Ledger cannot be removed, even if the original author of the transaction requests its removal.\n",
      "\n",
      "The TAA outlines the policies that users must follow when interacting with the Sovrin Ledger. When a user’s\n",
      "client software is preparing a transaction for submission to the network, it must include a demonstration that\n",
      "the user had the opportunity to review the current TAA and accept it. This is done by including some additional\n",
      "fields in the ledger write transaction:\n",
      "\t* A hash of the agreement\n",
      "\t* A date when the agreement was accepted, and\n",
      "\t* A string indicating the user interaction that was followed to obtain the acceptance.\n",
      "\n",
      "The Indy client API used by Sovrin has been extended to allow users to review current and past agreements and\n",
      "to indicate acceptance through an approved user interaction pattern.\"\n",
      "----------------------------------------------------------------------------------------------------------------\n"
     ]
    },
    {
     "name": "stdin",
     "output_type": "stream",
     "text": [
      "\u001b[35mDo you accept the TAA? [yes/no]\u001b[0m yes\n"
     ]
    },
    {
     "name": "stdout",
     "output_type": "stream",
     "text": [
      "\u001b[1m\u001b[32mSuccessfully signed TAA agreement\u001b[0m\n"
     ]
    }
   ],
   "source": [
    "authority_agent.accept_taa_agreement()"
   ]
  },
  {
   "cell_type": "markdown",
   "id": "0f96fd17",
   "metadata": {},
   "source": [
    "#### 1.4 – Finalize initiating agent as issuing authority by making DID public"
   ]
  },
  {
   "cell_type": "code",
   "execution_count": 8,
   "id": "58bf2a07",
   "metadata": {},
   "outputs": [
    {
     "name": "stdout",
     "output_type": "stream",
     "text": [
      "\u001b[1m\u001b[32mSuccessfully initialized agent with Public DID: XvWddwCGryjykggMo3vHrv\u001b[0m\n"
     ]
    }
   ],
   "source": [
    "authority_agent.make_did_public(did_obj)"
   ]
  },
  {
   "cell_type": "markdown",
   "id": "e7ad9f7b",
   "metadata": {},
   "source": [
    "<a id=2> </a> \n",
    "### 2 – Write VC schema to certify city-status (Schema 1) and manufacturer-status (Schema 2)\n"
   ]
  },
  {
   "cell_type": "markdown",
   "id": "385a4d92",
   "metadata": {},
   "source": [
    "#### 2.1 – Schema 1: VCs for Cities"
   ]
  },
  {
   "cell_type": "code",
   "execution_count": 9,
   "id": "9fe8e616",
   "metadata": {},
   "outputs": [
    {
     "name": "stdout",
     "output_type": "stream",
     "text": [
      "\u001b[1m\u001b[32mSuccessfully wrote certify-city-agency schema:\u001b[0m\n",
      "{\n",
      "    'schema': {\n",
      "        'attrNames': ['city', 'isCityAgency', 'country'],\n",
      "        'id': 'XvWddwCGryjykggMo3vHrv:2:certify-city-agency:0.0.1',\n",
      "        'name': 'certify-city-agency',\n",
      "        'seqNo': 251649,\n",
      "        'ver': '1.0',\n",
      "        'version': '0.0.1',\n",
      "    },\n",
      "    'schema_id': 'XvWddwCGryjykggMo3vHrv:2:certify-city-agency:0.0.1',\n",
      "}\n",
      "Successfully wrote credential definition id: XvWddwCGryjykggMo3vHrv:3:CL:251649:default\u001b[0m\n"
     ]
    }
   ],
   "source": [
    "if issue_city_schema is True:\n",
    "    # Define a unique schema name on the ledger, version the schema (to be able to update it), and define attributes in the schema\n",
    "    schema_name = \"certify-city-agency\"\n",
    "    schema_version = \"0.0.1\"\n",
    "    attributes = [\"city\", \"country\", \"isCityAgency\"]\n",
    "\n",
    "    # Define schema\n",
    "    schema_city_id = authority_agent.write_vc_schema(schema_name, schema_version, attributes)\n",
    "    \n",
    "    # Write schema credential definition transaction to the ledger to specify cryptographic material the agent uses to sign all VCs\n",
    "    cred_def_city_id = authority_agent.write_vc_cred_def(schema_city_id)\n",
    "          \n",
    "else:\n",
    "    # Get old identifiers \n",
    "    schema_city_id = fnc.get_identifiers()[\"city_schema_identifiers\"][\"schema_id\"]\n",
    "    cred_def_city_id = fnc.get_identifiers()[\"city_schema_identifiers\"][\"cred_def\"]\n",
    "\n",
    "# Store credentials in dictionary for storage later (to be able to access the identifiers from another jupyter notebook)\n",
    "city_identifiers = {\"schema_id\": schema_city_id, \"cred_def\": cred_def_city_id}"
   ]
  },
  {
   "cell_type": "markdown",
   "id": "2a0a093c",
   "metadata": {},
   "source": [
    "#### 2.2 – Schema 2: VCs for Manufacturers"
   ]
  },
  {
   "cell_type": "code",
   "execution_count": 10,
   "id": "af110838",
   "metadata": {},
   "outputs": [
    {
     "name": "stdout",
     "output_type": "stream",
     "text": [
      "\u001b[1m\u001b[32mSuccessfully wrote certify-manufacturer schema:\u001b[0m\n",
      "{\n",
      "    'schema': {\n",
      "        'attrNames': [\n",
      "            'isManufacturer',\n",
      "            'manufacturerName',\n",
      "            'manufacturerCountry',\n",
      "            'manufacturerCity',\n",
      "        ],\n",
      "        'id': 'XvWddwCGryjykggMo3vHrv:2:certify-manufacturer:0.0.1',\n",
      "        'name': 'certify-manufacturer',\n",
      "        'seqNo': 251651,\n",
      "        'ver': '1.0',\n",
      "        'version': '0.0.1',\n",
      "    },\n",
      "    'schema_id': 'XvWddwCGryjykggMo3vHrv:2:certify-manufacturer:0.0.1',\n",
      "}\n",
      "Successfully wrote credential definition id: XvWddwCGryjykggMo3vHrv:3:CL:251651:default\u001b[0m\n"
     ]
    }
   ],
   "source": [
    "if issue_manufacturer_schema is True:\n",
    "    # Define a unique schema name on the ledger, version the schema (to be able to update it), and define attributes in the schema\n",
    "    schema_name = \"certify-manufacturer\"\n",
    "    schema_version = \"0.0.1\"\n",
    "    attributes = [\"manufacturerName\", \"manufacturerCountry\", \"manufacturerCity\", \"isManufacturer\"]\n",
    "\n",
    "    # Define schema\n",
    "    schema_manufacturer_id = authority_agent.write_vc_schema(schema_name, schema_version, attributes)\n",
    "    \n",
    "    # Write schema credential definition transaction to the ledger to specify cryptographic material the agent uses to sign all VCs\n",
    "    cred_def_manufacturer_id = authority_agent.write_vc_cred_def(schema_manufacturer_id)\n",
    "          \n",
    "else:\n",
    "    # Get old identifiers \n",
    "    schema_manufacturer_id = helpers.get_identifiers()[\"manufacturer_schema_identifiers\"][\"schema_id\"]\n",
    "    cred_def_manufacturer_id = helpers.get_identifiers()[\"manufacturer_schema_identifiers\"][\"cred_def\"]\n",
    "\n",
    "# Store credentials in dictionary for storage later (to be able to access the identifiers from another jupyter notebook)\n",
    "manufacturer_identifiers = {\"schema_id\": schema_manufacturer_id, \"cred_def\": cred_def_manufacturer_id}"
   ]
  },
  {
   "cell_type": "markdown",
   "id": "22b137b6",
   "metadata": {},
   "source": [
    "<a id=3> </a> \n",
    "### 3 – Store identifiers for use throughout other agents' notebooks\n",
    "\n",
    "The IDs of the Schema 1nd VC definitions are required whenever the Authority agent issues credentials or constrains acceptable proof requests. For notebooks, it is easier to store the value pair as a string in a cell, and load them into the jupyter store. In real applications, the values should be stored in environment variables or a database.\n",
    "\n",
    "Thus, the identifiers are printed and copied across the main business logic notebooks and stored as variables. This process only needs to be repeated when you ran `./manage.sh start` for the first time, or executed `./manage.sh down` (instead of `./manage.sh stop`).  "
   ]
  },
  {
   "cell_type": "code",
   "execution_count": 11,
   "id": "d482e5e9",
   "metadata": {},
   "outputs": [
    {
     "name": "stdout",
     "output_type": "stream",
     "text": [
      "\u001b[1m\u001b[32mSuccessfully stored identifiers dictionary in libs/identifiers.json.\u001b[0m (Will be needed in other notebooks and by other agents.)\n",
      "{\n",
      "    'authority_did': 'XvWddwCGryjykggMo3vHrv',\n",
      "    'city_schema_identifiers': {\n",
      "        'cred_def': 'XvWddwCGryjykggMo3vHrv:3:CL:251649:default',\n",
      "        'schema_id': 'XvWddwCGryjykggMo3vHrv:2:certify-city-agency:0.0.1',\n",
      "    },\n",
      "    'manufacturer_schema_identifiers': {\n",
      "        'cred_def': 'XvWddwCGryjykggMo3vHrv:3:CL:251651:default',\n",
      "        'schema_id': 'XvWddwCGryjykggMo3vHrv:2:certify-manufacturer:0.0.1',\n",
      "    },\n",
      "}\n"
     ]
    }
   ],
   "source": [
    "identifiers = {\"city_schema_identifiers\": city_identifiers, \"manufacturer_schema_identifiers\": manufacturer_identifiers, \"authority_did\": authority_did}\n",
    "helpers.store_identifiers(dict(identifiers))"
   ]
  },
  {
   "cell_type": "markdown",
   "id": "65e87004",
   "metadata": {},
   "source": [
    "### 4 – Terminate Controller"
   ]
  },
  {
   "cell_type": "code",
   "execution_count": 12,
   "id": "bc485f58",
   "metadata": {},
   "outputs": [],
   "source": [
    "await agent_controller.terminate()"
   ]
  },
  {
   "cell_type": "code",
   "execution_count": null,
   "id": "fb1d2f33",
   "metadata": {},
   "outputs": [],
   "source": []
  }
 ],
 "metadata": {
  "kernelspec": {
   "display_name": "Python 3 (ipykernel)",
   "language": "python",
   "name": "python3"
  },
  "language_info": {
   "codemirror_mode": {
    "name": "ipython",
    "version": 3
   },
   "file_extension": ".py",
   "mimetype": "text/x-python",
   "name": "python",
   "nbconvert_exporter": "python",
   "pygments_lexer": "ipython3",
   "version": "3.9.5"
  }
 },
 "nbformat": 4,
 "nbformat_minor": 5
}
