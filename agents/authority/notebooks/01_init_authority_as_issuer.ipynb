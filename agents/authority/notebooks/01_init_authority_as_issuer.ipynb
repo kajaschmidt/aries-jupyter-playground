{
 "cells": [
  {
   "cell_type": "markdown",
   "id": "e3eeb420",
   "metadata": {},
   "source": [
    "# PETs/TETs – Hyperledger Aries – Authority Agent (Issuing Authority) 🏛️\n",
    "\n",
    "---\n",
    "⚠️ <span style='background : yellow'>**Warning:**</span> Run the notebook only once after running `./manage.sh start` in your terminal. Before running this notebook again, execute `./manage.sh down` to delete the postgres databases (i.e., the agents' digital wallets). Otherwise, the storage will persist in the postgres database (even when executing `./manage.sh stop`).\n",
    "\n",
    "---"
   ]
  },
  {
   "cell_type": "code",
   "execution_count": 1,
   "id": "f96983e5",
   "metadata": {},
   "outputs": [
    {
     "data": {
      "application/javascript": [
       "document.title='🏛️ Authority'\n"
      ],
      "text/plain": [
       "<IPython.core.display.Javascript object>"
      ]
     },
     "metadata": {},
     "output_type": "display_data"
    }
   ],
   "source": [
    "%%javascript\n",
    "document.title='🏛️ Authority'"
   ]
  },
  {
   "cell_type": "markdown",
   "id": "eb26728c",
   "metadata": {},
   "source": [
    "## **PART 1: Declare Authority Agent as an Issuing Authority**\n",
    "\n",
    "\n",
    "**What:** Initialize the authority agent as an issuing authority on the Sovrin StagingNet. \n",
    "\n",
    "**Why:** Enable the authority to certify that manufacturer1, manufacturer2, manufacturer3 are manufacturers.\n",
    "\n",
    "**How:**\n",
    "1. [Initialize authority agent and write DID to Sovrin StagingNet](#1) <br>\n",
    "\n",
    "2. [Author schemes:](#2) design and register schemes to <br>\n",
    "a. certify an agent is a city, and <br>\n",
    "b. certify an agent as a manufacturer\n",
    "3. [Store identifiers of schema and VC definition to access it in notebooks of other agents](#3)\n",
    "\n",
    "**Accompanying Notebooks:** -\n",
    "\n",
    "---"
   ]
  },
  {
   "cell_type": "markdown",
   "id": "aa858dca",
   "metadata": {
    "pycharm": {
     "name": "#%% md\n"
    }
   },
   "source": [
    "### 0 - Setup\n",
    "#### 0.1 - Imports"
   ]
  },
  {
   "cell_type": "code",
   "execution_count": 2,
   "id": "2caf2927",
   "metadata": {},
   "outputs": [],
   "source": [
    "import os\n",
    "\n",
    "from aries_cloudcontroller import AriesAgentController\n",
    "from termcolor import colored\n",
    "\n",
    "import libs.helpers as helpers\n",
    "from libs.agent_connection_manager import IssuingAuthority"
   ]
  },
  {
   "cell_type": "markdown",
   "id": "96caa27f",
   "metadata": {},
   "source": [
    "#### 0.2 – Variables\n",
    "\n",
    "Set `issue_city_schema = True` and/or `issue_manufacturer_schema = True` to issue a new Schema 1 and/or Schema 2, or update Schema 1 and/or Schema 2 with a new verion number. This is necessary if you ran `./manage.sh start` for the first time (or after running `./manage.sh down`)."
   ]
  },
  {
   "cell_type": "code",
   "execution_count": 3,
   "id": "6af9398d",
   "metadata": {
    "collapsed": false,
    "jupyter": {
     "outputs_hidden": false
    },
    "pycharm": {
     "name": "#%%\n"
    }
   },
   "outputs": [],
   "source": [
    "issue_manufacturer_schema = True\n",
    "\n",
    "# Get relevant details from .env file\n",
    "api_key = os.getenv(\"ACAPY_ADMIN_API_KEY\")\n",
    "admin_url = os.getenv(\"ADMIN_URL\")"
   ]
  },
  {
   "cell_type": "markdown",
   "id": "92a1639f",
   "metadata": {},
   "source": [
    "<a id=1> </a> \n",
    "### 1 - Initialize Authority Agent as Issuing Authority\n",
    "This section initializes an ACA-PY agent and defines the agent as an IssuingAuthority (from the `AgentConnectionManager` (ACM) package) to manage the aries agent. To give the agent issuing power, we define a DID and write it to the Sovrin StagingNet. The Sovrin StagingNet is used as the underlying network to write and resolve cryptographic objects in this PoC.\n",
    "\n",
    "#### 1.1 – Init ACA-Py agent controller and ACM issuing authority"
   ]
  },
  {
   "cell_type": "code",
   "execution_count": 4,
   "id": "b314e238",
   "metadata": {},
   "outputs": [
    {
     "name": "stdout",
     "output_type": "stream",
     "text": [
      "\u001b[1m\u001b[32mInitialising an aries agent controller with admin api at http://authority-agent:3021 and an api key of adminApiKey\u001b[0m\n",
      "\u001b[1m\u001b[32mSuccessfully initiated AgentConnectionManager for a(n) Issuing Authority ACA-PY agent\u001b[0m\n"
     ]
    }
   ],
   "source": [
    "agent_controller = AriesAgentController(admin_url,api_key)\n",
    "print(colored(\"Initialising an aries agent controller with admin api at {admin_url} and an api key of {api_key}\".format(admin_url=admin_url, api_key=api_key), \"green\", attrs=[\"bold\"]))\n",
    "\n",
    "authority_agent = IssuingAuthority(agent_controller)"
   ]
  },
  {
   "cell_type": "markdown",
   "id": "14eedc14",
   "metadata": {},
   "source": [
    "#### 1.2 – Get agent's DID and write it to the Sovrin StagingNet\n",
    "Get the DID of the authority agent (), and register it with the Sovrin StagingNet ledger."
   ]
  },
  {
   "cell_type": "code",
   "execution_count": 5,
   "id": "414c9609",
   "metadata": {},
   "outputs": [
    {
     "name": "stdout",
     "output_type": "stream",
     "text": [
      "\u001b[1m\u001b[32mSuccessfully created a new DID:\u001b[0m\n",
      "{\n",
      "    'result': {\n",
      "        'did': 'TYi8HEnJGmhSPXrURy5Yps',\n",
      "        'key_type': 'ed25519',\n",
      "        'method': 'sov',\n",
      "        'posture': 'wallet_only',\n",
      "        'verkey': 'FUCErDZSRsEg6zey7jXCLVj92ijtpzxNVcuKUmyfARYY',\n",
      "    },\n",
      "}\n"
     ]
    }
   ],
   "source": [
    "# Get DID of authority agent\n",
    "did_obj = authority_agent.get_did() # The method calls an existing DID, or creates a new DID if no existing DID was found\n",
    "authority_did = did_obj[\"did\"]"
   ]
  },
  {
   "cell_type": "code",
   "execution_count": 6,
   "id": "bbbb2675",
   "metadata": {},
   "outputs": [
    {
     "name": "stdout",
     "output_type": "stream",
     "text": [
      "{'did': 'TYi8HEnJGmhSPXrURy5Yps', 'seed': None, 'verkey': 'FUCErDZSRsEg6zey7jXCLVj92ijtpzxNVcuKUmyfARYY'}\n"
     ]
    }
   ],
   "source": [
    "# Write DID to Greenlight VON network\n",
    "authority_agent.write_did_to_ledger(did_obj)"
   ]
  },
  {
   "cell_type": "markdown",
   "id": "8cb6d65f",
   "metadata": {},
   "source": [
    "#### 1.3 – Accept Transaction Author Agreement (TAA)\n",
    "\n",
    "Although the Sovrin StagingNet is permissionless, a Transaction Author Agreement (TAA) must be accepted before an issuing authority has the right to write to the ledger. The TAA is accepted by signing the TAA using the DID registered on the ledger."
   ]
  },
  {
   "cell_type": "code",
   "execution_count": 7,
   "id": "8a889d68",
   "metadata": {},
   "outputs": [],
   "source": [
    "#authority_agent.accept_taa_agreement()"
   ]
  },
  {
   "cell_type": "markdown",
   "id": "0aa40ea8",
   "metadata": {},
   "source": [
    "#### 1.4 – Finalize initiating agent as issuing authority by making DID public"
   ]
  },
  {
   "cell_type": "code",
   "execution_count": 8,
   "id": "8635de76",
   "metadata": {},
   "outputs": [
    {
     "name": "stdout",
     "output_type": "stream",
     "text": [
      "\u001b[1m\u001b[32mSuccessfully initialized agent with Public DID: TYi8HEnJGmhSPXrURy5Yps\u001b[0m\n"
     ]
    }
   ],
   "source": [
    "authority_agent.make_did_public(did_obj)"
   ]
  },
  {
   "cell_type": "markdown",
   "id": "1340d514",
   "metadata": {},
   "source": [
    "<a id=2> </a> \n",
    "### 2 – Write VC schema to certify manufacturer-status\n"
   ]
  },
  {
   "cell_type": "code",
   "execution_count": 9,
   "id": "d746aa9c",
   "metadata": {},
   "outputs": [
    {
     "name": "stdout",
     "output_type": "stream",
     "text": [
      "\u001b[1m\u001b[32mSuccessfully wrote certify-manufacturer schema:\u001b[0m\n",
      "{\n",
      "    'schema': {\n",
      "        'attrNames': [\n",
      "            'manufacturerCountry',\n",
      "            'manufacturerName',\n",
      "            'manufacturerCity',\n",
      "            'isManufacturer',\n",
      "        ],\n",
      "        'id': 'TYi8HEnJGmhSPXrURy5Yps:2:certify-manufacturer:0.0.1',\n",
      "        'name': 'certify-manufacturer',\n",
      "        'seqNo': 108774,\n",
      "        'ver': '1.0',\n",
      "        'version': '0.0.1',\n",
      "    },\n",
      "    'schema_id': 'TYi8HEnJGmhSPXrURy5Yps:2:certify-manufacturer:0.0.1',\n",
      "}\n",
      "\u001b[1m\u001b[32mSuccessfully wrote credential definition id: TYi8HEnJGmhSPXrURy5Yps:3:CL:108774:default\u001b[0m\n"
     ]
    }
   ],
   "source": [
    "# Define a unique schema name on the ledger, version the schema (to be able to update it), and define attributes in the schema\n",
    "schema_name = \"certify-manufacturer\"\n",
    "schema_version = \"0.0.1\"\n",
    "attributes = [\"manufacturerName\", \"manufacturerCountry\", \"manufacturerCity\", \"isManufacturer\"]\n",
    "\n",
    "# Define schema\n",
    "schema_manufacturer_id = authority_agent.write_vc_schema(schema_name, schema_version, attributes)\n",
    "\n",
    "# Write schema credential definition transaction to the ledger to specify cryptographic material the agent uses to sign all VCs\n",
    "cred_def_manufacturer_id = authority_agent.write_vc_cred_def(schema_manufacturer_id)\n",
    "\n",
    "# Store credentials in dictionary for storage later (to be able to access the identifiers from another jupyter notebook)\n",
    "manufacturer_identifiers = {\"schema_id\": schema_manufacturer_id, \"cred_def\": cred_def_manufacturer_id}"
   ]
  },
  {
   "cell_type": "markdown",
   "id": "acadd1f3",
   "metadata": {},
   "source": [
    "<a id=3> </a> \n",
    "### 3 – Store identifiers for use throughout other agents' notebooks\n",
    "\n",
    "The IDs of the Schema 1nd VC definitions are required whenever the Authority agent issues credentials or constrains acceptable proof requests. For notebooks, it is easier to store the value pair as a string in a cell, and load them into the jupyter store. In real applications, the values should be stored in environment variables or a database.\n",
    "\n",
    "Thus, the identifiers are printed and copied across the main business logic notebooks and stored as variables. This process only needs to be repeated when you ran `./manage.sh start` for the first time, or executed `./manage.sh down` (instead of `./manage.sh stop`).  "
   ]
  },
  {
   "cell_type": "code",
   "execution_count": 10,
   "id": "525b7ab5",
   "metadata": {},
   "outputs": [
    {
     "name": "stdout",
     "output_type": "stream",
     "text": [
      "\u001b[1m\u001b[32mSuccessfully stored identifiers dictionary in libs/identifiers.json 💾\u001b[0m (Will be needed in other notebooks and by other agents.)\n",
      "{\n",
      "    'authority_did': 'TYi8HEnJGmhSPXrURy5Yps',\n",
      "    'manufacturer_schema_identifiers': {\n",
      "        'cred_def': 'TYi8HEnJGmhSPXrURy5Yps:3:CL:108774:default',\n",
      "        'schema_id': 'TYi8HEnJGmhSPXrURy5Yps:2:certify-manufacturer:0.0.1',\n",
      "    },\n",
      "}\n"
     ]
    }
   ],
   "source": [
    "identifiers = {\"manufacturer_schema_identifiers\": manufacturer_identifiers, \"authority_did\": authority_did}\n",
    "helpers.store_identifiers(dict(identifiers))"
   ]
  },
  {
   "cell_type": "markdown",
   "id": "beb1c4e4",
   "metadata": {},
   "source": [
    "### 4 – Terminate Controller"
   ]
  },
  {
   "cell_type": "code",
   "execution_count": 11,
   "id": "dc83e88e",
   "metadata": {},
   "outputs": [],
   "source": [
    "await agent_controller.terminate()"
   ]
  },
  {
   "cell_type": "code",
   "execution_count": null,
   "id": "e6fa1e59",
   "metadata": {},
   "outputs": [],
   "source": []
  }
 ],
 "metadata": {
  "kernelspec": {
   "display_name": "Python 3 (ipykernel)",
   "language": "python",
   "name": "python3"
  },
  "language_info": {
   "codemirror_mode": {
    "name": "ipython",
    "version": 3
   },
   "file_extension": ".py",
   "mimetype": "text/x-python",
   "name": "python",
   "nbconvert_exporter": "python",
   "pygments_lexer": "ipython3",
   "version": "3.9.5"
  }
 },
 "nbformat": 4,
 "nbformat_minor": 5
}
