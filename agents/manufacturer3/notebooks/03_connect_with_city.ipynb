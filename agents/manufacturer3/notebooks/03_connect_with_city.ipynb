{
 "cells": [
  {
   "cell_type": "markdown",
   "id": "5c5a9149",
   "metadata": {},
   "source": [
    "# PETs/TETs – Hyperledger Aries / PySyft – Manufacturer 3 (Holder) 🛵"
   ]
  },
  {
   "cell_type": "code",
   "execution_count": 1,
   "id": "0f4a394a",
   "metadata": {},
   "outputs": [
    {
     "data": {
      "application/javascript": [
       "document.title = '🛵 Manufacturer3'\n"
      ],
      "text/plain": [
       "<IPython.core.display.Javascript object>"
      ]
     },
     "metadata": {},
     "output_type": "display_data"
    }
   ],
   "source": [
    "%%javascript\n",
    "document.title = '🛵 Manufacturer3'"
   ]
  },
  {
   "cell_type": "markdown",
   "id": "9c71fb7d",
   "metadata": {},
   "source": [
    "## PART 3: Connect with City to Analyze Data\n",
    "\n",
    "**What:** Share encrypted data with City agent in a trust- and privacy-preserving manner\n",
    "\n",
    "**Why:** Share data with City agent (e.g., to obtain funds)\n",
    "\n",
    "**How:** <br>\n",
    "1. [Initiate Manufacturer's AgentCommunicationManager (ACM)](#1)\n",
    "2. [Connect anonymously with the City agent via a multi-use SSI invitation](#2)\n",
    "3. [Prove Manufacturer3 Agent is a certified manufacturer via VCs](#3)\n",
    "4. [Establish anonymous Duet Connection to share encrypted data](#4)\n",
    "\n",
    "**Accompanying Agents and Notebooks:**\n",
    "* City 🏙️️: `03_connect_with_Manufacturer.ipynb`\n",
    "* Optional – Manufacturer1 🚗: `03_connect_with_city.ipynb`\n",
    "* Optional – Manufacturer2 🚛: `03_connect_with_city.ipynb`"
   ]
  },
  {
   "cell_type": "markdown",
   "id": "c3a53363",
   "metadata": {
    "pycharm": {
     "name": "#%% md\n"
    }
   },
   "source": [
    "---\n",
    "\n",
    "### 0 - Setup\n",
    "#### 0.1 - Imports"
   ]
  },
  {
   "cell_type": "code",
   "execution_count": 2,
   "id": "4a78bd0a",
   "metadata": {
    "pycharm": {
     "name": "#%%\n"
    }
   },
   "outputs": [],
   "source": [
    "import os\n",
    "\n",
    "import numpy as np\n",
    "import pandas as pd\n",
    "import syft as sy\n",
    "import torch\n",
    "from aries_cloudcontroller import AriesAgentController\n",
    "\n",
    "from libs.agent_connection_manager import CredentialHolder"
   ]
  },
  {
   "cell_type": "markdown",
   "id": "2a2b9474",
   "metadata": {
    "pycharm": {
     "name": "#%% md\n"
    }
   },
   "source": [
    "#### 0.2 – Variables"
   ]
  },
  {
   "cell_type": "code",
   "execution_count": 3,
   "id": "5b538c3d",
   "metadata": {
    "pycharm": {
     "name": "#%%\n"
    }
   },
   "outputs": [],
   "source": [
    "# Get relevant details from .env file\n",
    "api_key = os.getenv(\"ACAPY_ADMIN_API_KEY\")\n",
    "admin_url = os.getenv(\"ADMIN_URL\")\n",
    "webhook_port = int(os.getenv(\"WEBHOOK_PORT\"))\n",
    "webhook_host = \"0.0.0.0\""
   ]
  },
  {
   "cell_type": "markdown",
   "id": "46d3dfd8",
   "metadata": {
    "pycharm": {
     "name": "#%% md\n"
    }
   },
   "source": [
    "---\n",
    "\n",
    "<a id=1></a>\n",
    "\n",
    "### 1 – Initiate Manufacturer3 Agent\n",
    "#### 1.1 – Init ACA-PY agent controller"
   ]
  },
  {
   "cell_type": "code",
   "execution_count": 4,
   "id": "dbd082c5",
   "metadata": {},
   "outputs": [
    {
     "name": "stdout",
     "output_type": "stream",
     "text": [
      "Initialising a controller with admin api at http://manufacturer3-agent:3021 and an api key of adminApiKey\n"
     ]
    }
   ],
   "source": [
    "# Setup\n",
    "agent_controller = AriesAgentController(admin_url,api_key)\n",
    "print(f\"Initialising a controller with admin api at {admin_url} and an api key of {api_key}\")"
   ]
  },
  {
   "cell_type": "markdown",
   "id": "5228eb90",
   "metadata": {},
   "source": [
    "#### 1.2 – Start Webhook Server to enable communication with other agents\n",
    "@todo: is communication with other agents, or with other docker containers?"
   ]
  },
  {
   "cell_type": "code",
   "execution_count": 5,
   "id": "0eee942e",
   "metadata": {},
   "outputs": [
    {
     "name": "stdout",
     "output_type": "stream",
     "text": [
      "Listening for webhooks from agent at http://0.0.0.0:3010\n"
     ]
    }
   ],
   "source": [
    "# Listen on webhook server\n",
    "await agent_controller.init_webhook_server(webhook_host, webhook_port)\n",
    "print(f\"Listening for webhooks from agent at http://{webhook_host}:{webhook_port}\")"
   ]
  },
  {
   "cell_type": "markdown",
   "id": "1fd20615",
   "metadata": {},
   "source": [
    "#### 1.3 – Init ACM Credential Holder"
   ]
  },
  {
   "cell_type": "code",
   "execution_count": 6,
   "id": "b0ffaffa",
   "metadata": {
    "collapsed": false,
    "jupyter": {
     "outputs_hidden": false
    },
    "pycharm": {
     "name": "#%%\n"
    }
   },
   "outputs": [
    {
     "name": "stdout",
     "output_type": "stream",
     "text": [
      "\u001b[1m\u001b[32mSuccessfully initiated AgentConnectionManager for a(n) Holder ACA-PY agent\u001b[0m\n"
     ]
    },
    {
     "data": {
      "text/plain": [
       "{'results': [{'referent': 'isManufacturer-VC-M3',\n",
       "   'attrs': {'manufacturerCountry': 'DE',\n",
       "    'isManufacturer': 'TRUE',\n",
       "    'manufacturerCity': 'City3',\n",
       "    'manufacturerName': 'scooterManufacturer'},\n",
       "   'schema_id': 'AkvQpXzutUhSeeiuZbVcbq:2:certify-manufacturer:0.0.1',\n",
       "   'cred_def_id': 'AkvQpXzutUhSeeiuZbVcbq:3:CL:107773:default',\n",
       "   'rev_reg_id': None,\n",
       "   'cred_rev_id': None}]}"
      ]
     },
     "execution_count": 6,
     "metadata": {},
     "output_type": "execute_result"
    }
   ],
   "source": [
    "# The CredentialHolder registers relevant webhook servers and event listeners\n",
    "manufacturer3_agent = CredentialHolder(agent_controller)\n",
    "\n",
    "# Verify if Manufacturer already has a VC\n",
    "# (if there are manufacturer credentials, there is no need to execute the notebook)\n",
    "manufacturer3_agent.get_credentials()"
   ]
  },
  {
   "cell_type": "markdown",
   "id": "0552f0af",
   "metadata": {},
   "source": [
    "---\n",
    "\n",
    "<a id=2></a>\n",
    "\n",
    "### 2 – Establish a connection with the City agent 🏙️\n",
    "A connection with the credential issuer (i.e., the authority agent) must be established before a VC can be received. In this scenario, the Manufacturer3 requests a connection with the Authority to be certified as an official city agency. Thus, the Manufacturer3 agent sends an invitation to the Authority. In real life, the invitation can be shared via video call, phone call, or E-Mail. In this PoC, this is represented by copy and pasting the invitation into the manufacturers' notebooks.\n",
    "\n",
    "#### 2.1 Join invitation of City agent 🏙️\n",
    "Copy and paste the multi-use invitation of the city agent, and establish a connection with them."
   ]
  },
  {
   "cell_type": "code",
   "execution_count": 7,
   "id": "ae405bf8",
   "metadata": {},
   "outputs": [
    {
     "name": "stdout",
     "output_type": "stream",
     "text": [
      "\u001b[1m\u001b[35mPlease enter invitation received by external agent:\u001b[0m\n"
     ]
    },
    {
     "name": "stdin",
     "output_type": "stream",
     "text": [
      "\u001b[35mInvitation: \u001b[0m {     '@id': '9982b7e5-9fbc-4e6e-9828-48ae0bae50bd',     '@type': 'did:sov:BzCbsNYhMrjHiqZDTUASHg;spec/connections/1.0/invitation',     'label': 'City-Agency',     'recipientKeys': ['62C56o5uHkivZXqNuxTFH2WMLDBZ19P7tPbhFhWaTThp'],     'serviceEndpoint': 'https://f0ee-91-182-140-7.ngrok.io', }\n"
     ]
    },
    {
     "name": "stdout",
     "output_type": "stream",
     "text": [
      "\n",
      "---------------------------------------------------------------------\n",
      "\u001b[1mConnection Webhook Event Received: Connections Handler\u001b[0m\n",
      "Connection ID :  20a5be15-40be-41c0-8379-00c5ac7bb66a\n",
      "State :  \u001b[34minvitation (invitation-received)\u001b[0m\n",
      "Routing State : none\n",
      "Connection with :  City-Agency\n",
      "Their Role :  inviter\n",
      "---------------------------------------------------------------------\n",
      "\n",
      "---------------------------------------------------------------------\n",
      "\u001b[1mConnection Webhook Event Received: Connections Handler\u001b[0m\n",
      "Connection ID :  20a5be15-40be-41c0-8379-00c5ac7bb66a\n",
      "State :  \u001b[34mrequest (request-sent)\u001b[0m\n",
      "Routing State : none\n",
      "Connection with :  City-Agency\n",
      "Their Role :  inviter\n",
      "---------------------------------------------------------------------\n",
      "\n",
      "---------------------------------------------------------------------\n",
      "\u001b[1mConnection Webhook Event Received: Connections Handler\u001b[0m\n",
      "Connection ID :  20a5be15-40be-41c0-8379-00c5ac7bb66a\n",
      "State :  \u001b[34mresponse (response-received)\u001b[0m\n",
      "Routing State : none\n",
      "Connection with :  City-Agency\n",
      "Their Role :  inviter\n",
      "---------------------------------------------------------------------\n",
      "\n",
      "---------------------------------------------------------------------\n",
      "\u001b[1mConnection Webhook Event Received: Connections Handler\u001b[0m\n",
      "Connection ID :  20a5be15-40be-41c0-8379-00c5ac7bb66a\n",
      "State :  \u001b[34mactive (completed)\u001b[0m\n",
      "Routing State : none\n",
      "Connection with :  City-Agency\n",
      "Their Role :  inviter\n",
      "---------------------------------------------------------------------\n",
      "\u001b[1m\u001b[32m\n",
      "Connection ID: 20a5be15-40be-41c0-8379-00c5ac7bb66a is now active\u001b[0m\n",
      "\n",
      "---------------------------------------------------------------------\n",
      "\u001b[1mConnection Webhook Event Received: Present-Proof Handler\u001b[0m\n",
      "Connection ID :  20a5be15-40be-41c0-8379-00c5ac7bb66a\n",
      "Presentation Exchange ID :  454ccdf5-9d2f-4188-bc01-a97a78a73e79\n",
      "Protocol State :  \u001b[34mrequest_received\u001b[0m\n",
      "Agent Role :  prover\n",
      "Initiator :  external\n",
      "---------------------------------------------------------------------\n",
      "\u001b[1mObtained Proof Request : \u001b[0m\n",
      "{\n",
      "    'name': 'isManufacturer Proof Request',\n",
      "    'non_revoked': {'to': 1638028268},\n",
      "    'nonce': '727274593835103118073735',\n",
      "    'requested_attributes': {\n",
      "        '0_isManufacturer_uuid': {\n",
      "            'name': 'isManufacturer',\n",
      "            'restrictions': [\n",
      "                {\n",
      "                    'schema_id': 'AkvQpXzutUhSeeiuZbVcbq:2:certify-manufacturer:0.0.1',\n",
      "                },\n",
      "            ],\n",
      "        },\n",
      "    },\n",
      "    'requested_predicates': {},\n",
      "    'version': '1.0',\n",
      "}\n"
     ]
    }
   ],
   "source": [
    "# Variables\n",
    "alias = \"undisclosedM3\"\n",
    "auto_accept = True\n",
    "\n",
    "# Receive connection invitation\n",
    "connection_id = manufacturer3_agent.receive_connection_invitation(alias=alias, auto_accept=auto_accept)"
   ]
  },
  {
   "cell_type": "markdown",
   "id": "e898365d",
   "metadata": {},
   "source": [
    "<div style=\"font-size: 25px\"><center><b>Break Point 2 / 3 / 4</b></center></div>\n",
    "<div style=\"font-size: 50px\"><center>🛵 ➡️ 🚗 / 🚛 / 🏙️ </center></div><br>\n",
    "<center><b>Please proceed to the remaining Manufacturers. <br> If you have established a connection between the City and all Manufacturers, proceed to the City Notebook's Step 2.2</b></center>\n",
    "\n",
    "---\n",
    "\n",
    "<a id=3></a>\n",
    "### 3 – Create Presentation to Send Proof Presentation\n",
    "\n",
    "#### 3.1 – Create presentation that satisfies requirements of proof request\n",
    "Before you can present a presentation, you must identify the presentation record which you wish to respond to with a presentation. To do so, the `prepare_presentation()` function runs through the following steps: \n",
    "1. Get all proof requests that were sent through `connection_id`\n",
    "2. Get the most recent `presentation_exchange_id` and the corresponding `proof_request` from (1)\n",
    "3. Get the restrictions the City agent defined in `proof_request` from (2)\n",
    "4. Compare all VCs the Manufacturer3 agent has stored, and find (if available) a VC that satisfies the restrictions from (3)\n",
    "5. Return a presentation dictionary from a VC from (4) that satisfies all requirements. Generally, a presentation consists of three classes of attributes: <br>\n",
    "a. `requested_attributes`: Attributes that were signed by an issuer and have been revealed in the presentation process <br>\n",
    "b. `self_attested_attributes`: Attributes that the prover has self attested to in the presentation object. <br>\n",
    "c. `requested_predicates` (predicate proofs): Attribute values that have been proven to meet some statement. (TODO: Show how you can parse this information)"
   ]
  },
  {
   "cell_type": "code",
   "execution_count": 8,
   "id": "e9cf49df",
   "metadata": {
    "pycharm": {
     "name": "#%%\n"
    }
   },
   "outputs": [
    {
     "name": "stdout",
     "output_type": "stream",
     "text": [
      "\u001b[34m> Found proof_request with presentation_exchange_id 454ccdf5-9d2f-4188-bc01-a97a78a73e79\u001b[0m\n",
      "\u001b[34m> Restrictions for a suitable proof: {'isManufacturer': {'requirements': {'schema_id': 'AkvQpXzutUhSeeiuZbVcbq:2:certify-manufacturer:0.0.1'}, 'request_attr_name': '0_isManufacturer_uuid'}}\u001b[0m\n",
      "\u001b[34m> Attribute request for 'isManufacturer' can be satisfied by Credential with VC 'isManufacturer-VC-M3'\u001b[0m\n",
      "\u001b[34m> Generate the proof presentation : \u001b[0m\n",
      "{\n",
      "    'requested_attributes': {\n",
      "        '0_isManufacturer_uuid': {\n",
      "            'cred_id': 'isManufacturer-VC-M3',\n",
      "            'revealed': True,\n",
      "        },\n",
      "    },\n",
      "    'requested_predicates': {},\n",
      "    'self_attested_attributes': {},\n",
      "}\n"
     ]
    }
   ],
   "source": [
    "presentation, presentation_exchange_id = manufacturer3_agent.prepare_presentation(connection_id)"
   ]
  },
  {
   "cell_type": "markdown",
   "id": "a0ced7e2",
   "metadata": {
    "pycharm": {
     "name": "#%% md\n"
    }
   },
   "source": [
    "#### 3.2 – Send Presentation\n",
    "\n",
    "Send the presentation to the recipient of `presentation_exchange_id`"
   ]
  },
  {
   "cell_type": "code",
   "execution_count": 9,
   "id": "8dbc8283",
   "metadata": {
    "pycharm": {
     "name": "#%%\n"
    }
   },
   "outputs": [
    {
     "name": "stdout",
     "output_type": "stream",
     "text": [
      "\n",
      "---------------------------------------------------------------------\n",
      "\u001b[1mConnection Webhook Event Received: Present-Proof Handler\u001b[0m\n",
      "Connection ID :  20a5be15-40be-41c0-8379-00c5ac7bb66a\n",
      "Presentation Exchange ID :  454ccdf5-9d2f-4188-bc01-a97a78a73e79\n",
      "Protocol State :  \u001b[34mpresentation_sent\u001b[0m\n",
      "Agent Role :  prover\n",
      "Initiator :  external\n",
      "---------------------------------------------------------------------\n",
      "\n",
      "---------------------------------------------------------------------\n",
      "\u001b[1mConnection Webhook Event Received: Present-Proof Handler\u001b[0m\n",
      "Connection ID :  20a5be15-40be-41c0-8379-00c5ac7bb66a\n",
      "Presentation Exchange ID :  454ccdf5-9d2f-4188-bc01-a97a78a73e79\n",
      "Protocol State :  \u001b[34mpresentation_acked\u001b[0m\n",
      "Agent Role :  prover\n",
      "Initiator :  external\n",
      "---------------------------------------------------------------------\n",
      "\u001b[1m\u001b[32m\n",
      "Presentation Exchange ID: 454ccdf5-9d2f-4188-bc01-a97a78a73e79 is acknowledged by Relying Party\u001b[0m\n"
     ]
    }
   ],
   "source": [
    "manufacturer3_agent.send_proof_presentation(presentation_exchange_id, presentation)"
   ]
  },
  {
   "cell_type": "markdown",
   "id": "8dcedaad",
   "metadata": {
    "pycharm": {
     "name": "#%% md\n"
    }
   },
   "source": [
    "<div style=\"font-size: 25px\"><center><b>Break Point 6 / 7 / 8</b></center></div>\n",
    "<div style=\"font-size: 50px\"><center>🛵 ➡️ 🚗 / 🚛 / 🏙️ </center></div><br>\n",
    "<center><b>Please proceed to the remaining Manufacturers and run all cells between Steps 3 and 4.1 <br> If you have sent proof presentations from all manufacturers, proceed to the City Notebook's Step 3.3 </b></center>\n",
    "\n",
    "---\n",
    "\n",
    "<a id=4></a>\n",
    "### 4 – Do Data Science\n",
    "Assuming that the City agent will acknowledge the proofs and deem them to be correct, proceed by inviting the City agent to a Duet Connection.\n",
    "\n",
    "\n",
    "#### 4.1 – Establish a Duet Connection with City Agent: Send Duet invitation\n",
    "Duet is a package that allows you to exchange encrypted data and run privacy-preserving arithmetic operations on them (e.g., through homomorphic encryption or secure multiparty computation)."
   ]
  },
  {
   "cell_type": "code",
   "execution_count": 10,
   "id": "afab5de8",
   "metadata": {
    "pycharm": {
     "name": "#%%\n"
    }
   },
   "outputs": [
    {
     "name": "stdout",
     "output_type": "stream",
     "text": [
      "🎤  🎸  ♪♪♪ Starting Duet ♫♫♫  🎻  🎹\n",
      "\n",
      "♫♫♫ >\u001b[93m DISCLAIMER\u001b[0m: \u001b[1mDuet is an experimental feature currently in beta.\n",
      "♫♫♫ > Use at your own risk.\n",
      "\u001b[0m\n",
      "\u001b[1m\n",
      "    > ❤️ \u001b[91mLove\u001b[0m \u001b[92mDuet\u001b[0m? \u001b[93mPlease\u001b[0m \u001b[94mconsider\u001b[0m \u001b[95msupporting\u001b[0m \u001b[91mour\u001b[0m \u001b[93mcommunity!\u001b[0m\n",
      "    > https://github.com/sponsors/OpenMined\u001b[1m\n",
      "\n",
      "♫♫♫ > Punching through firewall to OpenGrid Network Node at:\n",
      "♫♫♫ > http://ec2-18-218-7-180.us-east-2.compute.amazonaws.com:5000\n",
      "♫♫♫ >\n",
      "♫♫♫ > ...waiting for response from OpenGrid Network... \n",
      "♫♫♫ > \u001b[92mDONE!\u001b[0m\n",
      "\n",
      "♫♫♫ > \u001b[1mSTEP 1:\u001b[0m Sending Duet Token dff945582ab70d6a706a7ecd6a67d7f8\n",
      "♫♫♫ > to Duet Partner City-Agency\n",
      "♫♫♫ > via Connection ID 20a5be15-40be-41c0-8379-00c5ac7bb66a\n",
      "\u001b[1m\u001b[32m♫♫♫ > Done!\u001b[0m\n",
      "\n",
      "♫♫♫ > \u001b[1mSTEP 2:\u001b[0m Awaiting Duet Token from Duet Partner...\n",
      "\n",
      "♫♫♫ > \u001b[1m\u001b[32mDONE!\u001b[0m Partner's Duet Token: 5d019015000509faf31815e85ec1db50\n",
      "♫♫♫ > Connecting...\n",
      "\n",
      "♫♫♫ > \u001b[92mCONNECTED!\u001b[0m\n",
      "\n",
      "♫♫♫ > DUET LIVE STATUS  *  Objects: 0  Requests: 0   Messages: 1  Request Handlers: 0                                \r"
     ]
    },
    {
     "name": "stderr",
     "output_type": "stream",
     "text": [
      "[2021-11-27T15:56:06.083870+0000][CRITICAL][logger]][41] 'sympc'\n"
     ]
    },
    {
     "name": "stdout",
     "output_type": "stream",
     "text": [
      "♫♫♫ > DUET LIVE STATUS  *  Objects: 0  Requests: 0   Messages: 1  Request Handlers: 0                                \r"
     ]
    },
    {
     "name": "stderr",
     "output_type": "stream",
     "text": [
      "ERROR:asyncio:Exception in callback AsyncIOEventEmitter._emit_run.<locals>._callback(<Task finishe...rror('sympc')>) at /opt/conda/lib/python3.9/site-packages/pyee/_asyncio.py:57\n",
      "handle: <Handle AsyncIOEventEmitter._emit_run.<locals>._callback(<Task finishe...rror('sympc')>) at /opt/conda/lib/python3.9/site-packages/pyee/_asyncio.py:57>\n",
      "Traceback (most recent call last):\n",
      "  File \"/opt/conda/lib/python3.9/asyncio/events.py\", line 80, in _run\n",
      "    self._context.run(self._callback, *self._args)\n",
      "  File \"/opt/conda/lib/python3.9/site-packages/pyee/_asyncio.py\", line 64, in _callback\n",
      "    self.emit(\"error\", exc)\n",
      "  File \"/opt/conda/lib/python3.9/site-packages/pyee/_base.py\", line 118, in emit\n",
      "    self._emit_handle_potential_error(event, args[0] if args else None)\n",
      "  File \"/opt/conda/lib/python3.9/site-packages/pyee/_base.py\", line 88, in _emit_handle_potential_error\n",
      "    raise error\n",
      "  File \"/opt/conda/lib/python3.9/asyncio/tasks.py\", line 256, in __step\n",
      "    result = coro.send(None)\n",
      "  File \"/opt/conda/lib/python3.9/site-packages/syft/grid/connections/webrtc.py\", line 233, in on_message\n",
      "    await self.consumer(msg=message)\n",
      "  File \"/opt/conda/lib/python3.9/site-packages/syft/grid/connections/webrtc.py\", line 449, in consumer\n",
      "    traceback_and_raise(e)\n",
      "  File \"/opt/conda/lib/python3.9/site-packages/syft/logger.py\", line 61, in traceback_and_raise\n",
      "    raise e\n",
      "  File \"/opt/conda/lib/python3.9/site-packages/syft/grid/connections/webrtc.py\", line 417, in consumer\n",
      "    _msg = _deserialize(blob=msg, from_bytes=True)\n",
      "  File \"/opt/conda/lib/python3.9/site-packages/syft/core/common/serde/deserialize.py\", line 89, in _deserialize\n",
      "    res = _proto2object(proto=blob)\n",
      "  File \"/opt/conda/lib/python3.9/site-packages/syft/core/common/message.py\", line 183, in _proto2object\n",
      "    _deserialize(blob=proto.message, from_bytes=True), SyftMessage\n",
      "  File \"/opt/conda/lib/python3.9/site-packages/syft/core/common/serde/deserialize.py\", line 89, in _deserialize\n",
      "    res = _proto2object(proto=blob)\n",
      "  File \"/opt/conda/lib/python3.9/site-packages/syft/core/node/common/action/save_object_action.py\", line 59, in _proto2object\n",
      "    obj = _deserialize(blob=proto.obj)\n",
      "  File \"/opt/conda/lib/python3.9/site-packages/syft/core/common/serde/deserialize.py\", line 89, in _deserialize\n",
      "    res = _proto2object(proto=blob)\n",
      "  File \"/opt/conda/lib/python3.9/site-packages/syft/core/store/storeable_object.py\", line 173, in _proto2object\n",
      "    data_type = index_syft_by_module_name(fully_qualified_name=proto.data_type)\n",
      "  File \"/opt/conda/lib/python3.9/site-packages/syft/util.py\", line 123, in index_syft_by_module_name\n",
      "    return index_modules(a_dict=globals()[\"syft\"], keys=attr_list[1:])\n",
      "  File \"/opt/conda/lib/python3.9/site-packages/syft/util.py\", line 87, in index_modules\n",
      "    return index_modules(a_dict=a_dict.__dict__[keys[0]], keys=keys[1:])\n",
      "  File \"/opt/conda/lib/python3.9/site-packages/syft/util.py\", line 87, in index_modules\n",
      "    return index_modules(a_dict=a_dict.__dict__[keys[0]], keys=keys[1:])\n",
      "KeyError: 'sympc'\n",
      "[2021-11-27T15:56:06.252038+0000][CRITICAL][logger]][41] Path sympc.session.Session not present in the AST.\n",
      "[2021-11-27T15:56:06.271853+0000][CRITICAL][logger]][41] Path sympc.session.Session not present in the AST.\n"
     ]
    },
    {
     "name": "stdout",
     "output_type": "stream",
     "text": [
      "♫♫♫ > DUET LIVE STATUS  *  Objects: 2  Requests: 0   Messages: 3  Request Handlers: 0                                \r"
     ]
    },
    {
     "name": "stderr",
     "output_type": "stream",
     "text": [
      "ERROR:asyncio:Exception in callback AsyncIOEventEmitter._emit_run.<locals>._callback(<Task finishe...in the AST.')>) at /opt/conda/lib/python3.9/site-packages/pyee/_asyncio.py:57\n",
      "handle: <Handle AsyncIOEventEmitter._emit_run.<locals>._callback(<Task finishe...in the AST.')>) at /opt/conda/lib/python3.9/site-packages/pyee/_asyncio.py:57>\n",
      "Traceback (most recent call last):\n",
      "  File \"/opt/conda/lib/python3.9/asyncio/events.py\", line 80, in _run\n",
      "    self._context.run(self._callback, *self._args)\n",
      "  File \"/opt/conda/lib/python3.9/site-packages/pyee/_asyncio.py\", line 64, in _callback\n",
      "    self.emit(\"error\", exc)\n",
      "  File \"/opt/conda/lib/python3.9/site-packages/pyee/_base.py\", line 118, in emit\n",
      "    self._emit_handle_potential_error(event, args[0] if args else None)\n",
      "  File \"/opt/conda/lib/python3.9/site-packages/pyee/_base.py\", line 88, in _emit_handle_potential_error\n",
      "    raise error\n",
      "  File \"/opt/conda/lib/python3.9/asyncio/tasks.py\", line 256, in __step\n",
      "    result = coro.send(None)\n",
      "  File \"/opt/conda/lib/python3.9/site-packages/syft/grid/connections/webrtc.py\", line 233, in on_message\n",
      "    await self.consumer(msg=message)\n",
      "  File \"/opt/conda/lib/python3.9/site-packages/syft/grid/connections/webrtc.py\", line 449, in consumer\n",
      "    traceback_and_raise(e)\n",
      "  File \"/opt/conda/lib/python3.9/site-packages/syft/logger.py\", line 61, in traceback_and_raise\n",
      "    raise e\n",
      "  File \"/opt/conda/lib/python3.9/site-packages/syft/grid/connections/webrtc.py\", line 417, in consumer\n",
      "    _msg = _deserialize(blob=msg, from_bytes=True)\n",
      "  File \"/opt/conda/lib/python3.9/site-packages/syft/core/common/serde/deserialize.py\", line 89, in _deserialize\n",
      "    res = _proto2object(proto=blob)\n",
      "  File \"/opt/conda/lib/python3.9/site-packages/syft/core/common/message.py\", line 183, in _proto2object\n",
      "    _deserialize(blob=proto.message, from_bytes=True), SyftMessage\n",
      "  File \"/opt/conda/lib/python3.9/site-packages/syft/core/common/serde/deserialize.py\", line 89, in _deserialize\n",
      "    res = _proto2object(proto=blob)\n",
      "  File \"/opt/conda/lib/python3.9/site-packages/syft/core/node/common/action/run_class_method_action.py\", line 289, in _proto2object\n",
      "    _self=_deserialize(blob=proto._self),\n",
      "  File \"/opt/conda/lib/python3.9/site-packages/syft/core/common/serde/deserialize.py\", line 89, in _deserialize\n",
      "    res = _proto2object(proto=blob)\n",
      "  File \"/opt/conda/lib/python3.9/site-packages/syft/core/pointer/pointer.py\", line 335, in _proto2object\n",
      "    points_to_type = sy.lib_ast.query(proto.points_to_object_with_path)\n",
      "  File \"/opt/conda/lib/python3.9/site-packages/syft/ast/attribute.py\", line 161, in query\n",
      "    traceback_and_raise(\n",
      "  File \"/opt/conda/lib/python3.9/site-packages/syft/logger.py\", line 61, in traceback_and_raise\n",
      "    raise e\n",
      "ValueError: Path sympc.session.Session not present in the AST.\n",
      "[2021-11-27T15:56:06.315720+0000][CRITICAL][logger]][41] <class 'syft.core.store.store_memory.MemoryStore'> __delitem__ error <UID: 8ef3cce7ab9f4adcade84722f432d9f1>.\n"
     ]
    },
    {
     "name": "stdout",
     "output_type": "stream",
     "text": [
      "(194, 24)T LIVE STATUS  -  Objects: 0  Requests: 0   Messages: 7  Request Handlers: 0                                \n",
      "♫♫♫ > DUET LIVE STATUS  *  Objects: 1  Requests: 0   Messages: 24  Request Handlers: 1                                \r"
     ]
    }
   ],
   "source": [
    "# Set up connection_id to use for duet connection\n",
    "manufacturer3_agent._update_connection(connection_id=connection_id, is_duet_connection=True, reset_duet=True)\n",
    "\n",
    "# Create duet invitation for city agent\n",
    "duet = sy.launch_duet(credential_exchanger=manufacturer3_agent)"
   ]
  },
  {
   "cell_type": "markdown",
   "id": "4c351bb6",
   "metadata": {
    "pycharm": {
     "name": "#%% md\n"
    }
   },
   "source": [
    "#### 4.2 - Load data to duet store"
   ]
  },
  {
   "cell_type": "code",
   "execution_count": 11,
   "id": "10f47c65",
   "metadata": {},
   "outputs": [
    {
     "data": {
      "text/html": [
       "<div>\n",
       "<style scoped>\n",
       "    .dataframe tbody tr th:only-of-type {\n",
       "        vertical-align: middle;\n",
       "    }\n",
       "\n",
       "    .dataframe tbody tr th {\n",
       "        vertical-align: top;\n",
       "    }\n",
       "\n",
       "    .dataframe thead th {\n",
       "        text-align: right;\n",
       "    }\n",
       "</style>\n",
       "<table border=\"1\" class=\"dataframe\">\n",
       "  <thead>\n",
       "    <tr style=\"text-align: right;\">\n",
       "      <th></th>\n",
       "    </tr>\n",
       "  </thead>\n",
       "  <tbody>\n",
       "  </tbody>\n",
       "</table>\n",
       "</div>"
      ],
      "text/plain": [
       "Empty DataFrame\n",
       "Columns: []\n",
       "Index: []"
      ]
     },
     "execution_count": 11,
     "metadata": {},
     "output_type": "execute_result"
    }
   ],
   "source": [
    "# Verify data store of duet\n",
    "duet.store.pandas  # There should only be an MPC session statement by the City agent"
   ]
  },
  {
   "cell_type": "markdown",
   "id": "45f4c1c7",
   "metadata": {
    "pycharm": {
     "name": "#%% md\n"
    }
   },
   "source": [
    "Process data before loading it to the duet store. We take a synthetically created dataset of CO2 emission per trip across the City Agent's City (in this case Berlin, Germany)."
   ]
  },
  {
   "cell_type": "code",
   "execution_count": 12,
   "id": "1274bcfa",
   "metadata": {},
   "outputs": [
    {
     "data": {
      "text/html": [
       "<div>\n",
       "<style scoped>\n",
       "    .dataframe tbody tr th:only-of-type {\n",
       "        vertical-align: middle;\n",
       "    }\n",
       "\n",
       "    .dataframe tbody tr th {\n",
       "        vertical-align: top;\n",
       "    }\n",
       "\n",
       "    .dataframe thead th {\n",
       "        text-align: right;\n",
       "    }\n",
       "</style>\n",
       "<table border=\"1\" class=\"dataframe\">\n",
       "  <thead>\n",
       "    <tr style=\"text-align: right;\">\n",
       "      <th></th>\n",
       "      <th>zipcode</th>\n",
       "    </tr>\n",
       "  </thead>\n",
       "  <tbody>\n",
       "    <tr>\n",
       "      <th>0</th>\n",
       "      <td>10115</td>\n",
       "    </tr>\n",
       "    <tr>\n",
       "      <th>1</th>\n",
       "      <td>10117</td>\n",
       "    </tr>\n",
       "    <tr>\n",
       "      <th>2</th>\n",
       "      <td>10119</td>\n",
       "    </tr>\n",
       "    <tr>\n",
       "      <th>3</th>\n",
       "      <td>10178</td>\n",
       "    </tr>\n",
       "    <tr>\n",
       "      <th>4</th>\n",
       "      <td>10179</td>\n",
       "    </tr>\n",
       "  </tbody>\n",
       "</table>\n",
       "</div>"
      ],
      "text/plain": [
       "   zipcode\n",
       "0    10115\n",
       "1    10117\n",
       "2    10119\n",
       "3    10178\n",
       "4    10179"
      ]
     },
     "execution_count": 12,
     "metadata": {},
     "output_type": "execute_result"
    }
   ],
   "source": [
    "# Get zipcode data (zipcode data from https://daten.odis-berlin.de/de/dataset/plz/)\n",
    "df_zipcode = pd.read_csv(\"data/geo/berlin_zipcodes.csv\").rename(columns={\"plz\":\"zipcode\"})\n",
    "valid_zipcodes = list(df_zipcode.zipcode)\n",
    "df_zipcode.head()"
   ]
  },
  {
   "cell_type": "code",
   "execution_count": 13,
   "id": "4d546a07",
   "metadata": {},
   "outputs": [
    {
     "data": {
      "text/html": [
       "<div>\n",
       "<style scoped>\n",
       "    .dataframe tbody tr th:only-of-type {\n",
       "        vertical-align: middle;\n",
       "    }\n",
       "\n",
       "    .dataframe tbody tr th {\n",
       "        vertical-align: top;\n",
       "    }\n",
       "\n",
       "    .dataframe thead th {\n",
       "        text-align: right;\n",
       "    }\n",
       "</style>\n",
       "<table border=\"1\" class=\"dataframe\">\n",
       "  <thead>\n",
       "    <tr style=\"text-align: right;\">\n",
       "      <th></th>\n",
       "      <th>i</th>\n",
       "      <th>vehicle_id</th>\n",
       "      <th>manufacturer_id</th>\n",
       "      <th>zipcode</th>\n",
       "      <th>timestamp</th>\n",
       "      <th>latlon</th>\n",
       "      <th>dist</th>\n",
       "      <th>seconds</th>\n",
       "      <th>co2_grams</th>\n",
       "      <th>total_dist</th>\n",
       "      <th>total_seconds</th>\n",
       "      <th>total_co2_grams</th>\n",
       "      <th>timestamp_tripstart</th>\n",
       "      <th>avg_kmperhour</th>\n",
       "      <th>avg_co2perkm</th>\n",
       "      <th>trip_id</th>\n",
       "      <th>hour</th>\n",
       "    </tr>\n",
       "  </thead>\n",
       "  <tbody>\n",
       "    <tr>\n",
       "      <th>0</th>\n",
       "      <td>0</td>\n",
       "      <td>V25447006</td>\n",
       "      <td>V07918</td>\n",
       "      <td>12057</td>\n",
       "      <td>2021-08-19 19:31:30</td>\n",
       "      <td>(52.4646074, 13.4467276)</td>\n",
       "      <td>0.00</td>\n",
       "      <td>0.0</td>\n",
       "      <td>0.00</td>\n",
       "      <td>0.00</td>\n",
       "      <td>0.0</td>\n",
       "      <td>0.0</td>\n",
       "      <td>2021-08-19 19:31:30</td>\n",
       "      <td>0.000000</td>\n",
       "      <td>0.000000</td>\n",
       "      <td>5</td>\n",
       "      <td>19</td>\n",
       "    </tr>\n",
       "    <tr>\n",
       "      <th>1</th>\n",
       "      <td>1</td>\n",
       "      <td>V25447006</td>\n",
       "      <td>V07918</td>\n",
       "      <td>12057</td>\n",
       "      <td>2021-08-19 19:31:31</td>\n",
       "      <td>(52.464633, 13.446886)</td>\n",
       "      <td>0.01</td>\n",
       "      <td>1.0</td>\n",
       "      <td>1.20</td>\n",
       "      <td>0.01</td>\n",
       "      <td>1.0</td>\n",
       "      <td>1.0</td>\n",
       "      <td>2021-08-19 19:31:30</td>\n",
       "      <td>36.000000</td>\n",
       "      <td>100.000000</td>\n",
       "      <td>5</td>\n",
       "      <td>19</td>\n",
       "    </tr>\n",
       "    <tr>\n",
       "      <th>2</th>\n",
       "      <td>2</td>\n",
       "      <td>V25447006</td>\n",
       "      <td>V07918</td>\n",
       "      <td>12057</td>\n",
       "      <td>2021-08-19 19:31:36</td>\n",
       "      <td>(52.4647272, 13.4475244)</td>\n",
       "      <td>0.04</td>\n",
       "      <td>5.0</td>\n",
       "      <td>5.68</td>\n",
       "      <td>0.05</td>\n",
       "      <td>6.0</td>\n",
       "      <td>7.0</td>\n",
       "      <td>2021-08-19 19:31:30</td>\n",
       "      <td>30.000000</td>\n",
       "      <td>140.000000</td>\n",
       "      <td>5</td>\n",
       "      <td>19</td>\n",
       "    </tr>\n",
       "    <tr>\n",
       "      <th>3</th>\n",
       "      <td>3</td>\n",
       "      <td>V25447006</td>\n",
       "      <td>V07918</td>\n",
       "      <td>12057</td>\n",
       "      <td>2021-08-19 19:31:39</td>\n",
       "      <td>(52.4647421, 13.4477674)</td>\n",
       "      <td>0.02</td>\n",
       "      <td>3.0</td>\n",
       "      <td>2.66</td>\n",
       "      <td>0.07</td>\n",
       "      <td>9.0</td>\n",
       "      <td>10.0</td>\n",
       "      <td>2021-08-19 19:31:30</td>\n",
       "      <td>28.000000</td>\n",
       "      <td>142.857143</td>\n",
       "      <td>5</td>\n",
       "      <td>19</td>\n",
       "    </tr>\n",
       "    <tr>\n",
       "      <th>4</th>\n",
       "      <td>4</td>\n",
       "      <td>V25447006</td>\n",
       "      <td>V07918</td>\n",
       "      <td>12057</td>\n",
       "      <td>2021-08-19 19:31:41</td>\n",
       "      <td>(52.4647652, 13.4479088)</td>\n",
       "      <td>0.01</td>\n",
       "      <td>2.0</td>\n",
       "      <td>1.25</td>\n",
       "      <td>0.08</td>\n",
       "      <td>11.0</td>\n",
       "      <td>11.0</td>\n",
       "      <td>2021-08-19 19:31:30</td>\n",
       "      <td>26.181818</td>\n",
       "      <td>137.500000</td>\n",
       "      <td>5</td>\n",
       "      <td>19</td>\n",
       "    </tr>\n",
       "  </tbody>\n",
       "</table>\n",
       "</div>"
      ],
      "text/plain": [
       "   i vehicle_id manufacturer_id  zipcode            timestamp  \\\n",
       "0  0  V25447006          V07918    12057  2021-08-19 19:31:30   \n",
       "1  1  V25447006          V07918    12057  2021-08-19 19:31:31   \n",
       "2  2  V25447006          V07918    12057  2021-08-19 19:31:36   \n",
       "3  3  V25447006          V07918    12057  2021-08-19 19:31:39   \n",
       "4  4  V25447006          V07918    12057  2021-08-19 19:31:41   \n",
       "\n",
       "                     latlon  dist  seconds  co2_grams  total_dist  \\\n",
       "0  (52.4646074, 13.4467276)  0.00      0.0       0.00        0.00   \n",
       "1    (52.464633, 13.446886)  0.01      1.0       1.20        0.01   \n",
       "2  (52.4647272, 13.4475244)  0.04      5.0       5.68        0.05   \n",
       "3  (52.4647421, 13.4477674)  0.02      3.0       2.66        0.07   \n",
       "4  (52.4647652, 13.4479088)  0.01      2.0       1.25        0.08   \n",
       "\n",
       "   total_seconds  total_co2_grams  timestamp_tripstart  avg_kmperhour  \\\n",
       "0            0.0              0.0  2021-08-19 19:31:30       0.000000   \n",
       "1            1.0              1.0  2021-08-19 19:31:30      36.000000   \n",
       "2            6.0              7.0  2021-08-19 19:31:30      30.000000   \n",
       "3            9.0             10.0  2021-08-19 19:31:30      28.000000   \n",
       "4           11.0             11.0  2021-08-19 19:31:30      26.181818   \n",
       "\n",
       "   avg_co2perkm  trip_id  hour  \n",
       "0      0.000000        5    19  \n",
       "1    100.000000        5    19  \n",
       "2    140.000000        5    19  \n",
       "3    142.857143        5    19  \n",
       "4    137.500000        5    19  "
      ]
     },
     "execution_count": 13,
     "metadata": {},
     "output_type": "execute_result"
    }
   ],
   "source": [
    "# Get trip data\n",
    "df_co2 = pd.read_csv(\"data/trips/data.csv\", index_col=0)\n",
    "df_co2 = df_co2[df_co2.zipcode.isin(valid_zipcodes)]\n",
    "df_co2[\"hour\"] = df_co2.timestamp.apply(lambda x: int(x[11:13]))\n",
    "df_co2.head()"
   ]
  },
  {
   "cell_type": "markdown",
   "id": "f1376029",
   "metadata": {
    "pycharm": {
     "name": "#%% md\n"
    }
   },
   "source": [
    "The trip data is then grouped by zipcode to sum the CO2 emission per hour per zipcode.\n"
   ]
  },
  {
   "cell_type": "code",
   "execution_count": 14,
   "id": "2c658934",
   "metadata": {
    "collapsed": false,
    "jupyter": {
     "outputs_hidden": false
    },
    "pycharm": {
     "name": "#%%\n"
    }
   },
   "outputs": [
    {
     "data": {
      "text/html": [
       "<div>\n",
       "<style scoped>\n",
       "    .dataframe tbody tr th:only-of-type {\n",
       "        vertical-align: middle;\n",
       "    }\n",
       "\n",
       "    .dataframe tbody tr th {\n",
       "        vertical-align: top;\n",
       "    }\n",
       "\n",
       "    .dataframe thead th {\n",
       "        text-align: right;\n",
       "    }\n",
       "</style>\n",
       "<table border=\"1\" class=\"dataframe\">\n",
       "  <thead>\n",
       "    <tr style=\"text-align: right;\">\n",
       "      <th></th>\n",
       "      <th>0</th>\n",
       "      <th>1</th>\n",
       "      <th>2</th>\n",
       "      <th>3</th>\n",
       "      <th>4</th>\n",
       "      <th>5</th>\n",
       "      <th>6</th>\n",
       "      <th>7</th>\n",
       "      <th>8</th>\n",
       "      <th>9</th>\n",
       "      <th>...</th>\n",
       "      <th>14</th>\n",
       "      <th>15</th>\n",
       "      <th>16</th>\n",
       "      <th>17</th>\n",
       "      <th>18</th>\n",
       "      <th>19</th>\n",
       "      <th>20</th>\n",
       "      <th>21</th>\n",
       "      <th>22</th>\n",
       "      <th>23</th>\n",
       "    </tr>\n",
       "    <tr>\n",
       "      <th>zipcode</th>\n",
       "      <th></th>\n",
       "      <th></th>\n",
       "      <th></th>\n",
       "      <th></th>\n",
       "      <th></th>\n",
       "      <th></th>\n",
       "      <th></th>\n",
       "      <th></th>\n",
       "      <th></th>\n",
       "      <th></th>\n",
       "      <th></th>\n",
       "      <th></th>\n",
       "      <th></th>\n",
       "      <th></th>\n",
       "      <th></th>\n",
       "      <th></th>\n",
       "      <th></th>\n",
       "      <th></th>\n",
       "      <th></th>\n",
       "      <th></th>\n",
       "      <th></th>\n",
       "    </tr>\n",
       "  </thead>\n",
       "  <tbody>\n",
       "    <tr>\n",
       "      <th>10115</th>\n",
       "      <td>0.00</td>\n",
       "      <td>0.0</td>\n",
       "      <td>0.00</td>\n",
       "      <td>0.0</td>\n",
       "      <td>0.0</td>\n",
       "      <td>48.87</td>\n",
       "      <td>0.0</td>\n",
       "      <td>50.89</td>\n",
       "      <td>0.0</td>\n",
       "      <td>0.0</td>\n",
       "      <td>...</td>\n",
       "      <td>0.0</td>\n",
       "      <td>83.91</td>\n",
       "      <td>40.95</td>\n",
       "      <td>0.00</td>\n",
       "      <td>35.21</td>\n",
       "      <td>0.0</td>\n",
       "      <td>0.0</td>\n",
       "      <td>0.00</td>\n",
       "      <td>0.00</td>\n",
       "      <td>32.42</td>\n",
       "    </tr>\n",
       "    <tr>\n",
       "      <th>10117</th>\n",
       "      <td>0.00</td>\n",
       "      <td>0.0</td>\n",
       "      <td>9.63</td>\n",
       "      <td>0.0</td>\n",
       "      <td>0.0</td>\n",
       "      <td>0.00</td>\n",
       "      <td>29.9</td>\n",
       "      <td>289.36</td>\n",
       "      <td>0.0</td>\n",
       "      <td>0.0</td>\n",
       "      <td>...</td>\n",
       "      <td>0.0</td>\n",
       "      <td>102.42</td>\n",
       "      <td>76.00</td>\n",
       "      <td>1.98</td>\n",
       "      <td>0.00</td>\n",
       "      <td>0.0</td>\n",
       "      <td>0.0</td>\n",
       "      <td>0.00</td>\n",
       "      <td>46.94</td>\n",
       "      <td>0.00</td>\n",
       "    </tr>\n",
       "    <tr>\n",
       "      <th>10119</th>\n",
       "      <td>73.41</td>\n",
       "      <td>0.0</td>\n",
       "      <td>0.00</td>\n",
       "      <td>0.0</td>\n",
       "      <td>0.0</td>\n",
       "      <td>154.80</td>\n",
       "      <td>0.0</td>\n",
       "      <td>0.00</td>\n",
       "      <td>0.0</td>\n",
       "      <td>0.0</td>\n",
       "      <td>...</td>\n",
       "      <td>0.0</td>\n",
       "      <td>114.03</td>\n",
       "      <td>0.00</td>\n",
       "      <td>0.00</td>\n",
       "      <td>166.20</td>\n",
       "      <td>0.0</td>\n",
       "      <td>0.0</td>\n",
       "      <td>61.65</td>\n",
       "      <td>0.00</td>\n",
       "      <td>165.29</td>\n",
       "    </tr>\n",
       "    <tr>\n",
       "      <th>10178</th>\n",
       "      <td>2.43</td>\n",
       "      <td>0.0</td>\n",
       "      <td>0.00</td>\n",
       "      <td>0.0</td>\n",
       "      <td>0.0</td>\n",
       "      <td>29.28</td>\n",
       "      <td>0.0</td>\n",
       "      <td>0.00</td>\n",
       "      <td>0.0</td>\n",
       "      <td>0.0</td>\n",
       "      <td>...</td>\n",
       "      <td>0.0</td>\n",
       "      <td>0.00</td>\n",
       "      <td>0.00</td>\n",
       "      <td>0.00</td>\n",
       "      <td>91.39</td>\n",
       "      <td>0.0</td>\n",
       "      <td>0.0</td>\n",
       "      <td>0.00</td>\n",
       "      <td>0.00</td>\n",
       "      <td>119.50</td>\n",
       "    </tr>\n",
       "    <tr>\n",
       "      <th>10179</th>\n",
       "      <td>36.46</td>\n",
       "      <td>0.0</td>\n",
       "      <td>0.00</td>\n",
       "      <td>0.0</td>\n",
       "      <td>0.0</td>\n",
       "      <td>0.00</td>\n",
       "      <td>0.0</td>\n",
       "      <td>46.77</td>\n",
       "      <td>0.0</td>\n",
       "      <td>0.0</td>\n",
       "      <td>...</td>\n",
       "      <td>0.0</td>\n",
       "      <td>0.00</td>\n",
       "      <td>74.36</td>\n",
       "      <td>16.41</td>\n",
       "      <td>0.00</td>\n",
       "      <td>0.0</td>\n",
       "      <td>0.0</td>\n",
       "      <td>0.00</td>\n",
       "      <td>0.00</td>\n",
       "      <td>145.70</td>\n",
       "    </tr>\n",
       "  </tbody>\n",
       "</table>\n",
       "<p>5 rows × 24 columns</p>\n",
       "</div>"
      ],
      "text/plain": [
       "            0    1     2    3    4       5     6       7    8    9   ...   14  \\\n",
       "zipcode                                                              ...        \n",
       "10115     0.00  0.0  0.00  0.0  0.0   48.87   0.0   50.89  0.0  0.0  ...  0.0   \n",
       "10117     0.00  0.0  9.63  0.0  0.0    0.00  29.9  289.36  0.0  0.0  ...  0.0   \n",
       "10119    73.41  0.0  0.00  0.0  0.0  154.80   0.0    0.00  0.0  0.0  ...  0.0   \n",
       "10178     2.43  0.0  0.00  0.0  0.0   29.28   0.0    0.00  0.0  0.0  ...  0.0   \n",
       "10179    36.46  0.0  0.00  0.0  0.0    0.00   0.0   46.77  0.0  0.0  ...  0.0   \n",
       "\n",
       "             15     16     17      18   19   20     21     22      23  \n",
       "zipcode                                                                \n",
       "10115     83.91  40.95   0.00   35.21  0.0  0.0   0.00   0.00   32.42  \n",
       "10117    102.42  76.00   1.98    0.00  0.0  0.0   0.00  46.94    0.00  \n",
       "10119    114.03   0.00   0.00  166.20  0.0  0.0  61.65   0.00  165.29  \n",
       "10178      0.00   0.00   0.00   91.39  0.0  0.0   0.00   0.00  119.50  \n",
       "10179      0.00  74.36  16.41    0.00  0.0  0.0   0.00   0.00  145.70  \n",
       "\n",
       "[5 rows x 24 columns]"
      ]
     },
     "execution_count": 14,
     "metadata": {},
     "output_type": "execute_result"
    }
   ],
   "source": [
    "# Get hourly co2\n",
    "df_hourly_co2 = df_co2[[\"zipcode\", \"hour\",\"co2_grams\"]].groupby([\"zipcode\", \"hour\"]).sum().reset_index()\n",
    "df_hourly_co2 = df_hourly_co2.pivot(index=[\"zipcode\"], columns=[\"hour\"])[\"co2_grams\"].replace(np.nan, 0)\n",
    "\n",
    "# Get matrix that of shape (4085,25)\n",
    "df_hourly_zipcode = df_zipcode.set_index(\"zipcode\").reindex(columns=list(range(0,24))).replace(np.nan,0)#.reset_index()\n",
    "\n",
    "# Merge dataframes together\n",
    "df = df_hourly_zipcode.add(df_hourly_co2, fill_value=0)\n",
    "print(df.shape)\n",
    "df.head()"
   ]
  },
  {
   "cell_type": "markdown",
   "id": "5fa504d5",
   "metadata": {
    "pycharm": {
     "name": "#%% md\n"
    }
   },
   "source": [
    "Then, convert the dataset to a tensor, and upload the tensor with shape (194 x 24) to the duet data store"
   ]
  },
  {
   "cell_type": "code",
   "execution_count": 15,
   "id": "5ac319f1",
   "metadata": {},
   "outputs": [
    {
     "name": "stdout",
     "output_type": "stream",
     "text": [
      "♫♫♫ > DUET LIVE STATUS  *  Objects: 0  Requests: 0   Messages: 7  Request Handlers: 0                                \r"
     ]
    },
    {
     "data": {
      "text/html": [
       "<div>\n",
       "<style scoped>\n",
       "    .dataframe tbody tr th:only-of-type {\n",
       "        vertical-align: middle;\n",
       "    }\n",
       "\n",
       "    .dataframe tbody tr th {\n",
       "        vertical-align: top;\n",
       "    }\n",
       "\n",
       "    .dataframe thead th {\n",
       "        text-align: right;\n",
       "    }\n",
       "</style>\n",
       "<table border=\"1\" class=\"dataframe\">\n",
       "  <thead>\n",
       "    <tr style=\"text-align: right;\">\n",
       "      <th></th>\n",
       "      <th>ID</th>\n",
       "      <th>Tags</th>\n",
       "      <th>Description</th>\n",
       "      <th>object_type</th>\n",
       "    </tr>\n",
       "  </thead>\n",
       "  <tbody>\n",
       "    <tr>\n",
       "      <th>0</th>\n",
       "      <td>&lt;UID: f8a984c358ce42a29528d0ca335b0ba4&gt;</td>\n",
       "      <td>[hourly-co2-per-zip_2021-08-19]</td>\n",
       "      <td>Total CO2 per Zipcode per Hour on August 19, 2...</td>\n",
       "      <td>&lt;class 'torch.Tensor'&gt;</td>\n",
       "    </tr>\n",
       "  </tbody>\n",
       "</table>\n",
       "</div>"
      ],
      "text/plain": [
       "                                        ID                             Tags  \\\n",
       "0  <UID: f8a984c358ce42a29528d0ca335b0ba4>  [hourly-co2-per-zip_2021-08-19]   \n",
       "\n",
       "                                         Description             object_type  \n",
       "0  Total CO2 per Zipcode per Hour on August 19, 2...  <class 'torch.Tensor'>  "
      ]
     },
     "execution_count": 15,
     "metadata": {},
     "output_type": "execute_result"
    }
   ],
   "source": [
    "# Configure tensor\n",
    "hourly_co2_torch = torch.tensor(df.values)\n",
    "hourly_co2_torch = hourly_co2_torch.tag(\"hourly-co2-per-zip_2021-08-19\")\n",
    "hourly_co2_torch = hourly_co2_torch.describe(\"Total CO2 per Zipcode per Hour on August 19, 2021. Shape: zipcode (10115-14199) x hour (0-23) = 4085 x 24\")\n",
    "\n",
    "# Load tensor to datastore\n",
    "hourly_co2_torch_pointer = hourly_co2_torch.send(duet, pointable=True)\n",
    "\n",
    "# Verify datastore\n",
    "duet.store.pandas"
   ]
  },
  {
   "cell_type": "markdown",
   "id": "df46e013",
   "metadata": {},
   "source": [
    "#### 4.3 – Authorize City agent to `.reconstruct()` the data\n",
    "Authorize the city agent to reconstruct the data once it is shared and joined with other manufacutrers' data"
   ]
  },
  {
   "cell_type": "code",
   "execution_count": 16,
   "id": "2609c387",
   "metadata": {},
   "outputs": [
    {
     "name": "stderr",
     "output_type": "stream",
     "text": [
      "[2021-11-27T15:57:16.562123+0000][CRITICAL][logger]][41] Path sympc.session.Session not present in the AST.\n",
      "[2021-11-27T15:57:16.563487+0000][CRITICAL][logger]][41] Path sympc.session.Session not present in the AST.\n",
      "ERROR:asyncio:Exception in callback AsyncIOEventEmitter._emit_run.<locals>._callback(<Task finishe...in the AST.')>) at /opt/conda/lib/python3.9/site-packages/pyee/_asyncio.py:57\n",
      "handle: <Handle AsyncIOEventEmitter._emit_run.<locals>._callback(<Task finishe...in the AST.')>) at /opt/conda/lib/python3.9/site-packages/pyee/_asyncio.py:57>\n",
      "Traceback (most recent call last):\n",
      "  File \"/opt/conda/lib/python3.9/asyncio/events.py\", line 80, in _run\n",
      "    self._context.run(self._callback, *self._args)\n",
      "  File \"/opt/conda/lib/python3.9/site-packages/pyee/_asyncio.py\", line 64, in _callback\n",
      "    self.emit(\"error\", exc)\n",
      "  File \"/opt/conda/lib/python3.9/site-packages/pyee/_base.py\", line 118, in emit\n",
      "    self._emit_handle_potential_error(event, args[0] if args else None)\n",
      "  File \"/opt/conda/lib/python3.9/site-packages/pyee/_base.py\", line 88, in _emit_handle_potential_error\n",
      "    raise error\n",
      "  File \"/opt/conda/lib/python3.9/asyncio/tasks.py\", line 256, in __step\n",
      "    result = coro.send(None)\n",
      "  File \"/opt/conda/lib/python3.9/site-packages/syft/grid/connections/webrtc.py\", line 233, in on_message\n",
      "    await self.consumer(msg=message)\n",
      "  File \"/opt/conda/lib/python3.9/site-packages/syft/grid/connections/webrtc.py\", line 449, in consumer\n",
      "    traceback_and_raise(e)\n",
      "  File \"/opt/conda/lib/python3.9/site-packages/syft/logger.py\", line 61, in traceback_and_raise\n",
      "    raise e\n",
      "  File \"/opt/conda/lib/python3.9/site-packages/syft/grid/connections/webrtc.py\", line 417, in consumer\n",
      "    _msg = _deserialize(blob=msg, from_bytes=True)\n",
      "  File \"/opt/conda/lib/python3.9/site-packages/syft/core/common/serde/deserialize.py\", line 89, in _deserialize\n",
      "    res = _proto2object(proto=blob)\n",
      "  File \"/opt/conda/lib/python3.9/site-packages/syft/core/common/message.py\", line 183, in _proto2object\n",
      "    _deserialize(blob=proto.message, from_bytes=True), SyftMessage\n",
      "  File \"/opt/conda/lib/python3.9/site-packages/syft/core/common/serde/deserialize.py\", line 89, in _deserialize\n",
      "    res = _proto2object(proto=blob)\n",
      "  File \"/opt/conda/lib/python3.9/site-packages/syft/core/node/common/action/run_class_method_action.py\", line 289, in _proto2object\n",
      "    _self=_deserialize(blob=proto._self),\n",
      "  File \"/opt/conda/lib/python3.9/site-packages/syft/core/common/serde/deserialize.py\", line 89, in _deserialize\n",
      "    res = _proto2object(proto=blob)\n",
      "  File \"/opt/conda/lib/python3.9/site-packages/syft/core/pointer/pointer.py\", line 335, in _proto2object\n",
      "    points_to_type = sy.lib_ast.query(proto.points_to_object_with_path)\n",
      "  File \"/opt/conda/lib/python3.9/site-packages/syft/ast/attribute.py\", line 161, in query\n",
      "    traceback_and_raise(\n",
      "  File \"/opt/conda/lib/python3.9/site-packages/syft/logger.py\", line 61, in traceback_and_raise\n",
      "    raise e\n",
      "ValueError: Path sympc.session.Session not present in the AST.\n",
      "[2021-11-27T15:57:16.676827+0000][CRITICAL][logger]][41] Path sympc.session.Session not present in the AST.\n",
      "[2021-11-27T15:57:16.680739+0000][CRITICAL][logger]][41] Path sympc.session.Session not present in the AST.\n",
      "ERROR:asyncio:Exception in callback AsyncIOEventEmitter._emit_run.<locals>._callback(<Task finishe...in the AST.')>) at /opt/conda/lib/python3.9/site-packages/pyee/_asyncio.py:57\n",
      "handle: <Handle AsyncIOEventEmitter._emit_run.<locals>._callback(<Task finishe...in the AST.')>) at /opt/conda/lib/python3.9/site-packages/pyee/_asyncio.py:57>\n",
      "Traceback (most recent call last):\n",
      "  File \"/opt/conda/lib/python3.9/asyncio/events.py\", line 80, in _run\n",
      "    self._context.run(self._callback, *self._args)\n",
      "  File \"/opt/conda/lib/python3.9/site-packages/pyee/_asyncio.py\", line 64, in _callback\n",
      "    self.emit(\"error\", exc)\n",
      "  File \"/opt/conda/lib/python3.9/site-packages/pyee/_base.py\", line 118, in emit\n",
      "    self._emit_handle_potential_error(event, args[0] if args else None)\n",
      "  File \"/opt/conda/lib/python3.9/site-packages/pyee/_base.py\", line 88, in _emit_handle_potential_error\n",
      "    raise error\n",
      "  File \"/opt/conda/lib/python3.9/asyncio/tasks.py\", line 256, in __step\n",
      "    result = coro.send(None)\n",
      "  File \"/opt/conda/lib/python3.9/site-packages/syft/grid/connections/webrtc.py\", line 233, in on_message\n",
      "    await self.consumer(msg=message)\n",
      "  File \"/opt/conda/lib/python3.9/site-packages/syft/grid/connections/webrtc.py\", line 449, in consumer\n",
      "    traceback_and_raise(e)\n",
      "  File \"/opt/conda/lib/python3.9/site-packages/syft/logger.py\", line 61, in traceback_and_raise\n",
      "    raise e\n",
      "  File \"/opt/conda/lib/python3.9/site-packages/syft/grid/connections/webrtc.py\", line 417, in consumer\n",
      "    _msg = _deserialize(blob=msg, from_bytes=True)\n",
      "  File \"/opt/conda/lib/python3.9/site-packages/syft/core/common/serde/deserialize.py\", line 89, in _deserialize\n",
      "    res = _proto2object(proto=blob)\n",
      "  File \"/opt/conda/lib/python3.9/site-packages/syft/core/common/message.py\", line 183, in _proto2object\n",
      "    _deserialize(blob=proto.message, from_bytes=True), SyftMessage\n",
      "  File \"/opt/conda/lib/python3.9/site-packages/syft/core/common/serde/deserialize.py\", line 89, in _deserialize\n",
      "    res = _proto2object(proto=blob)\n",
      "  File \"/opt/conda/lib/python3.9/site-packages/syft/core/node/common/action/run_class_method_action.py\", line 289, in _proto2object\n",
      "    _self=_deserialize(blob=proto._self),\n",
      "  File \"/opt/conda/lib/python3.9/site-packages/syft/core/common/serde/deserialize.py\", line 89, in _deserialize\n",
      "    res = _proto2object(proto=blob)\n",
      "  File \"/opt/conda/lib/python3.9/site-packages/syft/core/pointer/pointer.py\", line 335, in _proto2object\n",
      "    points_to_type = sy.lib_ast.query(proto.points_to_object_with_path)\n",
      "  File \"/opt/conda/lib/python3.9/site-packages/syft/ast/attribute.py\", line 161, in query\n",
      "    traceback_and_raise(\n",
      "  File \"/opt/conda/lib/python3.9/site-packages/syft/logger.py\", line 61, in traceback_and_raise\n",
      "    raise e\n",
      "ValueError: Path sympc.session.Session not present in the AST.\n",
      "[2021-11-27T15:57:16.735966+0000][CRITICAL][logger]][41] Path sympc.session.Session not present in the AST.\n",
      "[2021-11-27T15:57:16.742053+0000][CRITICAL][logger]][41] Path sympc.session.Session not present in the AST.\n",
      "ERROR:asyncio:Exception in callback AsyncIOEventEmitter._emit_run.<locals>._callback(<Task finishe...in the AST.')>) at /opt/conda/lib/python3.9/site-packages/pyee/_asyncio.py:57\n",
      "handle: <Handle AsyncIOEventEmitter._emit_run.<locals>._callback(<Task finishe...in the AST.')>) at /opt/conda/lib/python3.9/site-packages/pyee/_asyncio.py:57>\n",
      "Traceback (most recent call last):\n",
      "  File \"/opt/conda/lib/python3.9/asyncio/events.py\", line 80, in _run\n",
      "    self._context.run(self._callback, *self._args)\n",
      "  File \"/opt/conda/lib/python3.9/site-packages/pyee/_asyncio.py\", line 64, in _callback\n",
      "    self.emit(\"error\", exc)\n",
      "  File \"/opt/conda/lib/python3.9/site-packages/pyee/_base.py\", line 118, in emit\n",
      "    self._emit_handle_potential_error(event, args[0] if args else None)\n",
      "  File \"/opt/conda/lib/python3.9/site-packages/pyee/_base.py\", line 88, in _emit_handle_potential_error\n",
      "    raise error\n",
      "  File \"/opt/conda/lib/python3.9/asyncio/tasks.py\", line 256, in __step\n",
      "    result = coro.send(None)\n",
      "  File \"/opt/conda/lib/python3.9/site-packages/syft/grid/connections/webrtc.py\", line 233, in on_message\n",
      "    await self.consumer(msg=message)\n",
      "  File \"/opt/conda/lib/python3.9/site-packages/syft/grid/connections/webrtc.py\", line 449, in consumer\n",
      "    traceback_and_raise(e)\n",
      "  File \"/opt/conda/lib/python3.9/site-packages/syft/logger.py\", line 61, in traceback_and_raise\n",
      "    raise e\n",
      "  File \"/opt/conda/lib/python3.9/site-packages/syft/grid/connections/webrtc.py\", line 417, in consumer\n",
      "    _msg = _deserialize(blob=msg, from_bytes=True)\n",
      "  File \"/opt/conda/lib/python3.9/site-packages/syft/core/common/serde/deserialize.py\", line 89, in _deserialize\n",
      "    res = _proto2object(proto=blob)\n",
      "  File \"/opt/conda/lib/python3.9/site-packages/syft/core/common/message.py\", line 183, in _proto2object\n",
      "    _deserialize(blob=proto.message, from_bytes=True), SyftMessage\n",
      "  File \"/opt/conda/lib/python3.9/site-packages/syft/core/common/serde/deserialize.py\", line 89, in _deserialize\n",
      "    res = _proto2object(proto=blob)\n",
      "  File \"/opt/conda/lib/python3.9/site-packages/syft/core/node/common/action/run_class_method_action.py\", line 289, in _proto2object\n",
      "    _self=_deserialize(blob=proto._self),\n",
      "  File \"/opt/conda/lib/python3.9/site-packages/syft/core/common/serde/deserialize.py\", line 89, in _deserialize\n",
      "    res = _proto2object(proto=blob)\n",
      "  File \"/opt/conda/lib/python3.9/site-packages/syft/core/pointer/pointer.py\", line 335, in _proto2object\n",
      "    points_to_type = sy.lib_ast.query(proto.points_to_object_with_path)\n",
      "  File \"/opt/conda/lib/python3.9/site-packages/syft/ast/attribute.py\", line 161, in query\n",
      "    traceback_and_raise(\n",
      "  File \"/opt/conda/lib/python3.9/site-packages/syft/logger.py\", line 61, in traceback_and_raise\n",
      "    raise e\n",
      "ValueError: Path sympc.session.Session not present in the AST.\n",
      "[2021-11-27T15:57:16.761378+0000][CRITICAL][logger]][41] Path ReplicatedSharedTensorShareTensorUnion not present in the AST.\n",
      "[2021-11-27T15:57:16.772314+0000][CRITICAL][logger]][41] Path ReplicatedSharedTensorShareTensorUnion not present in the AST.\n",
      "ERROR:asyncio:Exception in callback AsyncIOEventEmitter._emit_run.<locals>._callback(<Task finishe...in the AST.')>) at /opt/conda/lib/python3.9/site-packages/pyee/_asyncio.py:57\n",
      "handle: <Handle AsyncIOEventEmitter._emit_run.<locals>._callback(<Task finishe...in the AST.')>) at /opt/conda/lib/python3.9/site-packages/pyee/_asyncio.py:57>\n",
      "Traceback (most recent call last):\n",
      "  File \"/opt/conda/lib/python3.9/asyncio/events.py\", line 80, in _run\n",
      "    self._context.run(self._callback, *self._args)\n",
      "  File \"/opt/conda/lib/python3.9/site-packages/pyee/_asyncio.py\", line 64, in _callback\n",
      "    self.emit(\"error\", exc)\n",
      "  File \"/opt/conda/lib/python3.9/site-packages/pyee/_base.py\", line 118, in emit\n",
      "    self._emit_handle_potential_error(event, args[0] if args else None)\n",
      "  File \"/opt/conda/lib/python3.9/site-packages/pyee/_base.py\", line 88, in _emit_handle_potential_error\n",
      "    raise error\n",
      "  File \"/opt/conda/lib/python3.9/asyncio/tasks.py\", line 256, in __step\n",
      "    result = coro.send(None)\n",
      "  File \"/opt/conda/lib/python3.9/site-packages/syft/grid/connections/webrtc.py\", line 233, in on_message\n",
      "    await self.consumer(msg=message)\n",
      "  File \"/opt/conda/lib/python3.9/site-packages/syft/grid/connections/webrtc.py\", line 449, in consumer\n",
      "    traceback_and_raise(e)\n",
      "  File \"/opt/conda/lib/python3.9/site-packages/syft/logger.py\", line 61, in traceback_and_raise\n",
      "    raise e\n",
      "  File \"/opt/conda/lib/python3.9/site-packages/syft/grid/connections/webrtc.py\", line 417, in consumer\n",
      "    _msg = _deserialize(blob=msg, from_bytes=True)\n",
      "  File \"/opt/conda/lib/python3.9/site-packages/syft/core/common/serde/deserialize.py\", line 89, in _deserialize\n",
      "    res = _proto2object(proto=blob)\n",
      "  File \"/opt/conda/lib/python3.9/site-packages/syft/core/common/message.py\", line 183, in _proto2object\n",
      "    _deserialize(blob=proto.message, from_bytes=True), SyftMessage\n",
      "  File \"/opt/conda/lib/python3.9/site-packages/syft/core/common/serde/deserialize.py\", line 89, in _deserialize\n",
      "    res = _proto2object(proto=blob)\n",
      "  File \"/opt/conda/lib/python3.9/site-packages/syft/core/node/common/action/run_class_method_action.py\", line 289, in _proto2object\n",
      "    _self=_deserialize(blob=proto._self),\n",
      "  File \"/opt/conda/lib/python3.9/site-packages/syft/core/common/serde/deserialize.py\", line 89, in _deserialize\n",
      "    res = _proto2object(proto=blob)\n",
      "  File \"/opt/conda/lib/python3.9/site-packages/syft/core/pointer/pointer.py\", line 335, in _proto2object\n",
      "    points_to_type = sy.lib_ast.query(proto.points_to_object_with_path)\n",
      "  File \"/opt/conda/lib/python3.9/site-packages/syft/ast/attribute.py\", line 159, in query\n",
      "    return self.attrs[_path[0]].query(path=_path[1:])\n",
      "  File \"/opt/conda/lib/python3.9/site-packages/syft/ast/attribute.py\", line 159, in query\n",
      "    return self.attrs[_path[0]].query(path=_path[1:])\n",
      "  File \"/opt/conda/lib/python3.9/site-packages/syft/ast/attribute.py\", line 159, in query\n",
      "    return self.attrs[_path[0]].query(path=_path[1:])\n",
      "  [Previous line repeated 1 more time]\n",
      "  File \"/opt/conda/lib/python3.9/site-packages/syft/ast/attribute.py\", line 161, in query\n",
      "    traceback_and_raise(\n",
      "  File \"/opt/conda/lib/python3.9/site-packages/syft/logger.py\", line 61, in traceback_and_raise\n",
      "    raise e\n",
      "ValueError: Path ReplicatedSharedTensorShareTensorUnion not present in the AST.\n",
      "[2021-11-27T15:57:16.799533+0000][CRITICAL][logger]][41] <class 'syft.core.store.store_memory.MemoryStore'> __delitem__ error <UID: 032128ef28f146fb958001e0548243d0>.\n",
      "[2021-11-27T15:57:52.413089+0000][CRITICAL][logger]][41] Path ReplicatedSharedTensorShareTensorUnion not present in the AST.\n",
      "[2021-11-27T15:57:52.430285+0000][CRITICAL][logger]][41] Path ReplicatedSharedTensorShareTensorUnion not present in the AST.\n",
      "ERROR:asyncio:Exception in callback AsyncIOEventEmitter._emit_run.<locals>._callback(<Task finishe...in the AST.')>) at /opt/conda/lib/python3.9/site-packages/pyee/_asyncio.py:57\n",
      "handle: <Handle AsyncIOEventEmitter._emit_run.<locals>._callback(<Task finishe...in the AST.')>) at /opt/conda/lib/python3.9/site-packages/pyee/_asyncio.py:57>\n",
      "Traceback (most recent call last):\n",
      "  File \"/opt/conda/lib/python3.9/asyncio/events.py\", line 80, in _run\n",
      "    self._context.run(self._callback, *self._args)\n",
      "  File \"/opt/conda/lib/python3.9/site-packages/pyee/_asyncio.py\", line 64, in _callback\n",
      "    self.emit(\"error\", exc)\n",
      "  File \"/opt/conda/lib/python3.9/site-packages/pyee/_base.py\", line 118, in emit\n",
      "    self._emit_handle_potential_error(event, args[0] if args else None)\n",
      "  File \"/opt/conda/lib/python3.9/site-packages/pyee/_base.py\", line 88, in _emit_handle_potential_error\n",
      "    raise error\n",
      "  File \"/opt/conda/lib/python3.9/asyncio/tasks.py\", line 256, in __step\n",
      "    result = coro.send(None)\n",
      "  File \"/opt/conda/lib/python3.9/site-packages/syft/grid/connections/webrtc.py\", line 233, in on_message\n",
      "    await self.consumer(msg=message)\n",
      "  File \"/opt/conda/lib/python3.9/site-packages/syft/grid/connections/webrtc.py\", line 449, in consumer\n",
      "    traceback_and_raise(e)\n",
      "  File \"/opt/conda/lib/python3.9/site-packages/syft/logger.py\", line 61, in traceback_and_raise\n",
      "    raise e\n",
      "  File \"/opt/conda/lib/python3.9/site-packages/syft/grid/connections/webrtc.py\", line 417, in consumer\n",
      "    _msg = _deserialize(blob=msg, from_bytes=True)\n",
      "  File \"/opt/conda/lib/python3.9/site-packages/syft/core/common/serde/deserialize.py\", line 89, in _deserialize\n",
      "    res = _proto2object(proto=blob)\n",
      "  File \"/opt/conda/lib/python3.9/site-packages/syft/core/common/message.py\", line 183, in _proto2object\n",
      "    _deserialize(blob=proto.message, from_bytes=True), SyftMessage\n",
      "  File \"/opt/conda/lib/python3.9/site-packages/syft/core/common/serde/deserialize.py\", line 89, in _deserialize\n",
      "    res = _proto2object(proto=blob)\n",
      "  File \"/opt/conda/lib/python3.9/site-packages/syft/core/node/common/action/run_class_method_action.py\", line 289, in _proto2object\n",
      "    _self=_deserialize(blob=proto._self),\n",
      "  File \"/opt/conda/lib/python3.9/site-packages/syft/core/common/serde/deserialize.py\", line 89, in _deserialize\n",
      "    res = _proto2object(proto=blob)\n",
      "  File \"/opt/conda/lib/python3.9/site-packages/syft/core/pointer/pointer.py\", line 335, in _proto2object\n",
      "    points_to_type = sy.lib_ast.query(proto.points_to_object_with_path)\n",
      "  File \"/opt/conda/lib/python3.9/site-packages/syft/ast/attribute.py\", line 159, in query\n",
      "    return self.attrs[_path[0]].query(path=_path[1:])\n",
      "  File \"/opt/conda/lib/python3.9/site-packages/syft/ast/attribute.py\", line 159, in query\n",
      "    return self.attrs[_path[0]].query(path=_path[1:])\n",
      "  File \"/opt/conda/lib/python3.9/site-packages/syft/ast/attribute.py\", line 159, in query\n",
      "    return self.attrs[_path[0]].query(path=_path[1:])\n",
      "  [Previous line repeated 1 more time]\n",
      "  File \"/opt/conda/lib/python3.9/site-packages/syft/ast/attribute.py\", line 161, in query\n",
      "    traceback_and_raise(\n",
      "  File \"/opt/conda/lib/python3.9/site-packages/syft/logger.py\", line 61, in traceback_and_raise\n",
      "    raise e\n",
      "ValueError: Path ReplicatedSharedTensorShareTensorUnion not present in the AST.\n",
      "[2021-11-27T15:57:52.552329+0000][CRITICAL][logger]][41] execute_action on syft.lib.python.Any.__add__ failed due to missing object at: <UID: 193d6d650742432882598a124634cce5>\n",
      "[2021-11-27T15:57:52.560799+0000][CRITICAL][logger]][41] <class 'syft.core.store.store_memory.MemoryStore'> __delitem__ error <UID: 193d6d650742432882598a124634cce5>.\n",
      "[2021-11-27T15:57:52.592868+0000][CRITICAL][logger]][41] <class 'syft.core.store.store_memory.MemoryStore'> __getitem__ error <UID: 4f59c823e2bc441d8b3d7fcf6a1af10a> <UID: 4f59c823e2bc441d8b3d7fcf6a1af10a>\n",
      "[2021-11-27T15:57:52.595249+0000][CRITICAL][logger]][41] <UID: 4f59c823e2bc441d8b3d7fcf6a1af10a>\n",
      "[2021-11-27T15:57:52.598957+0000][CRITICAL][logger]][41] <UID: 4f59c823e2bc441d8b3d7fcf6a1af10a>\n",
      "[2021-11-27T15:57:52.606031+0000][CRITICAL][logger]][41] <UID: 4f59c823e2bc441d8b3d7fcf6a1af10a>\n",
      "ERROR:asyncio:Exception in callback AsyncIOEventEmitter._emit_run.<locals>._callback(<Task finishe...fcf6a1af10a>)>) at /opt/conda/lib/python3.9/site-packages/pyee/_asyncio.py:57\n",
      "handle: <Handle AsyncIOEventEmitter._emit_run.<locals>._callback(<Task finishe...fcf6a1af10a>)>) at /opt/conda/lib/python3.9/site-packages/pyee/_asyncio.py:57>\n",
      "Traceback (most recent call last):\n",
      "  File \"/opt/conda/lib/python3.9/asyncio/events.py\", line 80, in _run\n",
      "    self._context.run(self._callback, *self._args)\n",
      "  File \"/opt/conda/lib/python3.9/site-packages/pyee/_asyncio.py\", line 64, in _callback\n",
      "    self.emit(\"error\", exc)\n",
      "  File \"/opt/conda/lib/python3.9/site-packages/pyee/_base.py\", line 118, in emit\n",
      "    self._emit_handle_potential_error(event, args[0] if args else None)\n",
      "  File \"/opt/conda/lib/python3.9/site-packages/pyee/_base.py\", line 88, in _emit_handle_potential_error\n",
      "    raise error\n",
      "  File \"/opt/conda/lib/python3.9/asyncio/tasks.py\", line 256, in __step\n",
      "    result = coro.send(None)\n",
      "  File \"/opt/conda/lib/python3.9/site-packages/syft/grid/connections/webrtc.py\", line 233, in on_message\n",
      "    await self.consumer(msg=message)\n",
      "  File \"/opt/conda/lib/python3.9/site-packages/syft/grid/connections/webrtc.py\", line 449, in consumer\n",
      "    traceback_and_raise(e)\n",
      "  File \"/opt/conda/lib/python3.9/site-packages/syft/logger.py\", line 61, in traceback_and_raise\n",
      "    raise e\n",
      "  File \"/opt/conda/lib/python3.9/site-packages/syft/grid/connections/webrtc.py\", line 434, in consumer\n",
      "    self.recv_immediate_msg_without_reply(msg=_msg)\n",
      "  File \"/opt/conda/lib/python3.9/site-packages/syft/grid/connections/webrtc.py\", line 490, in recv_immediate_msg_without_reply\n",
      "    traceback_and_raise(e)\n",
      "  File \"/opt/conda/lib/python3.9/site-packages/syft/logger.py\", line 61, in traceback_and_raise\n",
      "    raise e\n",
      "  File \"/opt/conda/lib/python3.9/site-packages/syft/grid/connections/webrtc.py\", line 485, in recv_immediate_msg_without_reply\n",
      "    self.node.recv_immediate_msg_without_reply(msg=msg)\n",
      "  File \"/opt/conda/lib/python3.9/site-packages/syft/core/node/common/node.py\", line 399, in recv_immediate_msg_without_reply\n",
      "    self.process_message(msg=msg, router=self.immediate_msg_without_reply_router)\n",
      "  File \"/opt/conda/lib/python3.9/site-packages/syft/core/node/common/node.py\", line 481, in process_message\n",
      "    result = service.process(\n",
      "  File \"/opt/conda/lib/python3.9/site-packages/syft/core/node/domain/service/request_message.py\", line 222, in process\n",
      "    msg.object_tags.extend(node.store[msg.object_id]._tags)\n",
      "  File \"/opt/conda/lib/python3.9/site-packages/syft/core/store/store_memory.py\", line 66, in __getitem__\n",
      "    traceback_and_raise(e)\n",
      "  File \"/opt/conda/lib/python3.9/site-packages/syft/logger.py\", line 61, in traceback_and_raise\n",
      "    raise e\n",
      "  File \"/opt/conda/lib/python3.9/site-packages/syft/core/store/store_memory.py\", line 63, in __getitem__\n",
      "    return self._objects[key]\n",
      "KeyError: <UID: 4f59c823e2bc441d8b3d7fcf6a1af10a>\n",
      "[2021-11-27T15:57:52.687406+0000][CRITICAL][logger]][41] <class 'syft.core.store.store_memory.MemoryStore'> __getitem__ error <UID: 4f59c823e2bc441d8b3d7fcf6a1af10a> <UID: 4f59c823e2bc441d8b3d7fcf6a1af10a>\n",
      "[2021-11-27T15:57:52.694913+0000][CRITICAL][logger]][41] <UID: 4f59c823e2bc441d8b3d7fcf6a1af10a>\n",
      "[2021-11-27T15:57:52.712350+0000][CRITICAL][logger]][41] Unable to Get Object with ID <UID: 4f59c823e2bc441d8b3d7fcf6a1af10a> from store. Possible dangling Pointer. <UID: 4f59c823e2bc441d8b3d7fcf6a1af10a>\n",
      "[2021-11-27T15:57:52.714207+0000][CRITICAL][logger]][41] Unable to Get Object with ID <UID: 4f59c823e2bc441d8b3d7fcf6a1af10a> from store. Possible dangling Pointer. <UID: 4f59c823e2bc441d8b3d7fcf6a1af10a>\n",
      "ERROR:asyncio:Exception in callback Transaction.__retry()\n",
      "handle: <TimerHandle when=36367.826584855 Transaction.__retry()>\n",
      "Traceback (most recent call last):\n",
      "  File \"/opt/conda/lib/python3.9/asyncio/events.py\", line 80, in _run\n",
      "    self._context.run(self._callback, *self._args)\n",
      "  File \"/opt/conda/lib/python3.9/site-packages/aioice/stun.py\", line 306, in __retry\n",
      "    self.__future.set_exception(TransactionTimeout())\n",
      "  File \"/opt/conda/lib/python3.9/asyncio/futures.py\", line 270, in set_exception\n",
      "    raise exceptions.InvalidStateError(f'{self._state}: {self!r}')\n",
      "asyncio.exceptions.InvalidStateError: FINISHED: <Future finished result=(Message(messa...xd1\\xcb\"\\xf0'), ('172.25.0.5', 39807))>\n"
     ]
    }
   ],
   "source": [
    "duet.requests.add_handler(\n",
    "    #name=\"reconstruct\",\n",
    "    action=\"accept\"\n",
    ")"
   ]
  },
  {
   "cell_type": "markdown",
   "id": "af1b1e7b",
   "metadata": {
    "pycharm": {
     "name": "#%% md\n"
    }
   },
   "source": [
    "---\n",
    "\n",
    "### 5 – Terminate Controller\n",
    "\n",
    "Whenever you have finished with this notebook, be sure to terminate the controller. This is especially important if your business logic runs across multiple notebooks.\n",
    "(Note: the terminating the controller will not terminate the Duet session)."
   ]
  },
  {
   "cell_type": "code",
   "execution_count": null,
   "id": "4519a931",
   "metadata": {
    "collapsed": false,
    "jupyter": {
     "outputs_hidden": false
    },
    "pycharm": {
     "name": "#%%\n"
    }
   },
   "outputs": [],
   "source": [
    "await agent_controller.terminate()"
   ]
  },
  {
   "cell_type": "markdown",
   "id": "e60425b3",
   "metadata": {},
   "source": [
    "---\n",
    "\n",
    "<div style=\"font-size: 25px\"><center><b>Break Point 10 / 11 / 12</b></center></div>\n",
    "<div style=\"font-size: 50px\"><center>🛵 ➡️ 🚗 / 🚛 / 🏙️ </center></div><br>\n",
    "<center><b>Please proceed to the remaining Manufacturers and run all cells between Steps 4.2 and 4.3 <br> If you have uploaded all data to the manufacturers' datastored, proceed to the City agent Step 4.2</b></center>\n",
    "\n",
    "## 🔥🔥🔥 You can close this notebook now 🔥🔥🔥"
   ]
  },
  {
   "cell_type": "code",
   "execution_count": null,
   "id": "c3c34772",
   "metadata": {
    "collapsed": false,
    "jupyter": {
     "outputs_hidden": false
    },
    "pycharm": {
     "name": "#%%"
    }
   },
   "outputs": [],
   "source": []
  }
 ],
 "metadata": {
  "kernelspec": {
   "display_name": "Python 3 (ipykernel)",
   "language": "python",
   "name": "python3"
  },
  "language_info": {
   "codemirror_mode": {
    "name": "ipython",
    "version": 3
   },
   "file_extension": ".py",
   "mimetype": "text/x-python",
   "name": "python",
   "nbconvert_exporter": "python",
   "pygments_lexer": "ipython3",
   "version": "3.9.5"
  }
 },
 "nbformat": 4,
 "nbformat_minor": 5
}
