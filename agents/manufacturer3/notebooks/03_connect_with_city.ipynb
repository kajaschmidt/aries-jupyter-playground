{
 "cells": [
  {
   "cell_type": "markdown",
   "id": "ef611882",
   "metadata": {},
   "source": [
    "# PETs/TETs – Hyperledger Aries / PySyft – Manufacturer 3 (Holder) 🛵"
   ]
  },
  {
   "cell_type": "code",
   "execution_count": null,
   "id": "f179750a",
   "metadata": {},
   "outputs": [],
   "source": [
    "%%javascript\n",
    "document.title = '🛵 Manufacturer3'"
   ]
  },
  {
   "cell_type": "markdown",
   "id": "01390a6e",
   "metadata": {},
   "source": [
    "## PART 3: Connect with City to Analyze Data\n",
    "\n",
    "**What:** Share encrypted data with City agent in a trust- and privacy-preserving manner\n",
    "\n",
    "**Why:** Share data with City agent (e.g., to obtain funds)\n",
    "\n",
    "**How:** <br>\n",
    "1. [Initiate Manufacturer's AgentCommunicationManager (ACM)](#1)\n",
    "2. [Connect anonymously with the City agent via a multi-use SSI invitation](#2)\n",
    "3. [Prove Manufacturer3 Agent is a certified manufacturer via VCs](#3)\n",
    "4. [Establish anonymous Duet Connection to share encrypted data](#4)\n",
    "\n",
    "**Accompanying Agents and Notebooks:**\n",
    "* City 🏙️️: `03_connect_with_Manufacturer.ipynb`\n",
    "* Optional – Manufacturer1 🚗: `03_connect_with_city.ipynb`\n",
    "* Optional – Manufacturer2 🚛: `03_connect_with_city.ipynb`"
   ]
  },
  {
   "cell_type": "markdown",
   "id": "cbbdb86b",
   "metadata": {
    "pycharm": {
     "name": "#%% md\n"
    }
   },
   "source": [
    "---\n",
    "\n",
    "### 0 - Setup\n",
    "#### 0.1 - Imports"
   ]
  },
  {
   "cell_type": "code",
   "execution_count": null,
   "id": "e95630b6",
   "metadata": {
    "pycharm": {
     "name": "#%%\n"
    }
   },
   "outputs": [],
   "source": [
    "import os\n",
    "\n",
    "import numpy as np\n",
    "import pandas as pd\n",
    "import syft as sy\n",
    "import torch\n",
    "from aries_cloudcontroller import AriesAgentController\n",
    "\n",
    "from libs.agent_connection_manager import CredentialHolder"
   ]
  },
  {
   "cell_type": "markdown",
   "id": "e934fd92",
   "metadata": {
    "pycharm": {
     "name": "#%% md\n"
    }
   },
   "source": [
    "#### 0.2 – Variables"
   ]
  },
  {
   "cell_type": "code",
   "execution_count": null,
   "id": "d2d23715",
   "metadata": {
    "pycharm": {
     "name": "#%%\n"
    }
   },
   "outputs": [],
   "source": [
    "# Get relevant details from .env file\n",
    "api_key = os.getenv(\"ACAPY_ADMIN_API_KEY\")\n",
    "admin_url = os.getenv(\"ADMIN_URL\")\n",
    "webhook_port = int(os.getenv(\"WEBHOOK_PORT\"))\n",
    "webhook_host = \"0.0.0.0\""
   ]
  },
  {
   "cell_type": "markdown",
   "id": "63d9c419",
   "metadata": {
    "pycharm": {
     "name": "#%% md\n"
    }
   },
   "source": [
    "---\n",
    "\n",
    "<a id=1></a>\n",
    "\n",
    "### 1 – Initiate Manufacturer3 Agent\n",
    "#### 1.1 – Init ACA-PY agent controller"
   ]
  },
  {
   "cell_type": "code",
   "execution_count": null,
   "id": "71cbc924",
   "metadata": {},
   "outputs": [],
   "source": [
    "# Setup\n",
    "agent_controller = AriesAgentController(admin_url,api_key)\n",
    "print(f\"Initialising a controller with admin api at {admin_url} and an api key of {api_key}\")"
   ]
  },
  {
   "cell_type": "markdown",
   "id": "343c3583",
   "metadata": {},
   "source": [
    "#### 1.2 – Start Webhook Server to enable communication with other agents\n",
    "@todo: is communication with other agents, or with other docker containers?"
   ]
  },
  {
   "cell_type": "code",
   "execution_count": null,
   "id": "aa31bc98",
   "metadata": {},
   "outputs": [],
   "source": [
    "# Listen on webhook server\n",
    "await agent_controller.init_webhook_server(webhook_host, webhook_port)\n",
    "print(f\"Listening for webhooks from agent at http://{webhook_host}:{webhook_port}\")"
   ]
  },
  {
   "cell_type": "markdown",
   "id": "5f16542f",
   "metadata": {},
   "source": [
    "#### 1.3 – Init ACM Credential Holder"
   ]
  },
  {
   "cell_type": "code",
   "execution_count": null,
   "id": "0ab06545",
   "metadata": {
    "collapsed": false,
    "jupyter": {
     "outputs_hidden": false
    },
    "pycharm": {
     "name": "#%%\n"
    }
   },
   "outputs": [],
   "source": [
    "# The CredentialHolder registers relevant webhook servers and event listeners\n",
    "manufacturer3_agent = CredentialHolder(agent_controller)\n",
    "\n",
    "# Verify if Manufacturer already has a VC\n",
    "# (if there are manufacturer credentials, there is no need to execute the notebook)\n",
    "manufacturer3_agent.get_credentials()"
   ]
  },
  {
   "cell_type": "markdown",
   "id": "d2191bee",
   "metadata": {},
   "source": [
    "---\n",
    "\n",
    "<a id=2></a>\n",
    "\n",
    "### 2 – Establish a connection with the City agent 🏙️\n",
    "A connection with the credential issuer (i.e., the authority agent) must be established before a VC can be received. In this scenario, the Manufacturer3 requests a connection with the Authority to be certified as an official city agency. Thus, the Manufacturer3 agent sends an invitation to the Authority. In real life, the invitation can be shared via video call, phone call, or E-Mail. In this PoC, this is represented by copy and pasting the invitation into the manufacturers' notebooks.\n",
    "\n",
    "#### 2.1 Join invitation of City agent 🏙️\n",
    "Copy and paste the multi-use invitation of the city agent, and establish a connection with them."
   ]
  },
  {
   "cell_type": "code",
   "execution_count": null,
   "id": "da81da22",
   "metadata": {},
   "outputs": [],
   "source": [
    "# Variables\n",
    "alias = \"undisclosedM1\"\n",
    "auto_accept = True\n",
    "\n",
    "# Receive connection invitation\n",
    "connection_id = manufacturer3_agent.receive_connection_invitation(alias=alias, auto_accept=auto_accept)"
   ]
  },
  {
   "cell_type": "markdown",
   "id": "84e8f780",
   "metadata": {},
   "source": [
    "<div style=\"font-size: 25px\"><center><b>Break Point 2 / 3 / 4</b></center></div>\n",
    "<div style=\"font-size: 50px\"><center>🛵 ➡️ 🚗 / 🚛 / 🏙️ </center></div><br>\n",
    "<center><b>Please proceed to the remaining Manufacturers. <br> If you have established a connection between the City and all Manufacturers, proceed to the City Notebook's Step 2.2</b></center>\n",
    "\n",
    "---\n",
    "\n",
    "<a id=3></a>\n",
    "### 3 – Create Presentation to Send Proof Presentation\n",
    "\n",
    "#### 3.1 – Create presentation that satisfies requirements of proof request\n",
    "Before you can present a presentation, you must identify the presentation record which you wish to respond to with a presentation. To do so, the `prepare_presentation()` function runs through the following steps: \n",
    "1. Get all proof requests that were sent through `connection_id`\n",
    "2. Get the most recent `presentation_exchange_id` and the corresponding `proof_request` from (1)\n",
    "3. Get the restrictions the City agent defined in `proof_request` from (2)\n",
    "4. Compare all VCs the Manufacturer3 agent has stored, and find (if available) a VC that satisfies the restrictions from (3)\n",
    "5. Return a presentation dictionary from a VC from (4) that satisfies all requirements. Generally, a presentation consists of three classes of attributes: <br>\n",
    "a. `requested_attributes`: Attributes that were signed by an issuer and have been revealed in the presentation process <br>\n",
    "b. `self_attested_attributes`: Attributes that the prover has self attested to in the presentation object. <br>\n",
    "c. `requested_predicates` (predicate proofs): Attribute values that have been proven to meet some statement. (TODO: Show how you can parse this information)"
   ]
  },
  {
   "cell_type": "code",
   "id": "3ea72647",
   "metadata": {
    "pycharm": {
     "name": "#%%\n"
    }
   },
   "source": [
    "presentation, presentation_exchange_id = manufacturer3_agent.prepare_presentation(connection_id)"
   ],
   "execution_count": null,
   "outputs": []
  },
  {
   "cell_type": "markdown",
   "id": "972169e9",
   "metadata": {
    "pycharm": {
     "name": "#%% md\n"
    }
   },
   "source": [
    "#### 3.2 – Send Presentation\n",
    "\n",
    "Send the presentation to the recipient of `presentation_exchange_id`"
   ]
  },
  {
   "cell_type": "code",
   "id": "2ecc6ce9",
   "metadata": {
    "pycharm": {
     "name": "#%%\n"
    }
   },
   "source": [
    "manufacturer3_agent.send_proof_presentation(presentation_exchange_id, presentation)"
   ],
   "execution_count": null,
   "outputs": []
  },
  {
   "cell_type": "markdown",
   "id": "cde59766",
   "metadata": {
    "pycharm": {
     "name": "#%% md\n"
    }
   },
   "source": [
    "---\n",
    "<a id=4></a>\n",
    "### 4 – Do Data Science\n",
    "Assuming that the City agent will acknowledge the proofs and deem them to be correct, proceed by inviting the City agent to a Duet Connection.\n",
    "\n",
    "\n",
    "#### 4.1 – Establish a Duet Connection with City Agent: Send Duet invitation\n",
    "Duet is a package that allows you to exchange encrypted data and run privacy-preserving arithmetic operations on them (e.g., through homomorphic encryption or secure multiparty computation)."
   ]
  },
  {
   "cell_type": "code",
   "id": "147b4a61",
   "metadata": {
    "pycharm": {
     "name": "#%%\n"
    }
   },
   "source": [
    "# Set up connection_id to use for duet connection\n",
    "manufacturer3_agent._update_connection(connection_id=connection_id, is_duet_connection=True, reset_duet=True)\n",
    "\n",
    "# Create duet invitation for city agent\n",
    "duet = sy.launch_duet(credential_exchanger=manufacturer3_agent)"
   ],
   "execution_count": null,
   "outputs": []
  },
  {
   "cell_type": "markdown",
   "id": "5f5ca8fa",
   "metadata": {
    "pycharm": {
     "name": "#%% md\n"
    }
   },
   "source": [
    "<div style=\"font-size: 25px\"><center><b>Break Point 6 / 7 / 8</b></center></div>\n",
    "<div style=\"font-size: 50px\"><center>🛵 ➡️ 🚗 / 🚛 / 🏙️ </center></div><br>\n",
    "<center><b>Please proceed to the remaining Manufacturers and run all cells between Steps 3 and 4.1 <br> If you have sent proof presentations from all manufacturers, proceed to the City Notebook's Step 3.3 </b></center>\n",
    "\n",
    "#### 4.2 - Load data to duet store"
   ]
  },
  {
   "cell_type": "code",
   "execution_count": null,
   "id": "7ce84ae2",
   "metadata": {},
   "outputs": [],
   "source": [
    "# Verify data store of duet\n",
    "duet.store.pandas  # There should only be an MPC session statement by the City agent"
   ]
  },
  {
   "cell_type": "markdown",
   "id": "1e9bac89",
   "metadata": {
    "pycharm": {
     "name": "#%% md\n"
    }
   },
   "source": [
    "Process data before loading it to the duet store. We take a synthetically created dataset of CO2 emission per trip across the City Agent's City (in this case Berlin, Germany)."
   ]
  },
  {
   "cell_type": "code",
   "execution_count": null,
   "id": "776d611e",
   "metadata": {},
   "outputs": [],
   "source": [
    "# Get zipcode data (zipcode data from https://daten.odis-berlin.de/de/dataset/plz/)\n",
    "df_zipcode = pd.read_csv(\"data/geo/berlin_zipcodes.csv\").rename(columns={\"pls\":\"zipcode\"})\n",
    "df_zipcode.head()"
   ]
  },
  {
   "cell_type": "code",
   "execution_count": null,
   "id": "84382f35",
   "metadata": {},
   "outputs": [],
   "source": [
    "# Get trip data\n",
    "df_co2 = pd.read_csv(\"data/trips/data.csv\", index_col=0)\n",
    "df_co2[\"hour\"] = df_co2.timestamp.apply(lambda x: int(x[11:13]))\n",
    "df_co2.head()"
   ]
  },
  {
   "cell_type": "markdown",
   "id": "03b020ea",
   "metadata": {
    "pycharm": {
     "name": "#%% md\n"
    }
   },
   "source": [
    "The trip data is then grouped by zipcode to sum the CO2 emission per hour per zipcode.\n"
   ]
  },
  {
   "cell_type": "code",
   "execution_count": null,
   "id": "c098a17c",
   "metadata": {
    "collapsed": false,
    "jupyter": {
     "outputs_hidden": false
    },
    "pycharm": {
     "name": "#%%\n"
    }
   },
   "outputs": [],
   "source": [
    "# Get hourly co2\n",
    "df_hourly_co2 = df_co2[[\"zipcode\", \"hour\",\"co2_grams\"]].groupby([\"zipcode\", \"hour\"]).sum().reset_index()\n",
    "df_hourly_co2 = df_hourly_co2.pivot(index=[\"zipcode\"], columns=[\"hour\"])[\"co2_grams\"].replace(np.nan, 0)\n",
    "\n",
    "# Get matrix that of shape (4085,25)\n",
    "df_hourly_zipcode = df_zipcode.set_index(\"zipcode\").reindex(columns=list(range(0,24))).replace(np.nan,0)#.reset_index()\n",
    "\n",
    "# Merge dataframes together\n",
    "df = df_hourly_zipcode.add(df_hourly_co2, fill_value=0)\n",
    "print(df.shape)\n",
    "df.head()"
   ]
  },
  {
   "cell_type": "markdown",
   "id": "5d97b24f",
   "metadata": {
    "pycharm": {
     "name": "#%% md\n"
    }
   },
   "source": [
    "Then, convert the dataset to a tensor, and upload the tensor with shape (194 x 24) to the duet data store"
   ]
  },
  {
   "cell_type": "code",
   "execution_count": null,
   "id": "c8a58863",
   "metadata": {},
   "outputs": [],
   "source": [
    "# Configure tensor\n",
    "hourly_co2_torch = torch.tensor(df.values)\n",
    "hourly_co2_torch = hourly_co2_torch.tag(\"hourly-co2-per-zip_2021-08-19\")\n",
    "hourly_co2_torch = hourly_co2_torch.describe(\"Total CO2 per Zipcode per Hour on August 19, 2021. Shape: zipcode (10115-14199) x hour (0-23) = 4085 x 24\")\n",
    "\n",
    "# Load tensor to datastore\n",
    "hourly_co2_torch_pointer = hourly_co2_torch.send(duet, pointable=True)\n",
    "\n",
    "# Verify datastore\n",
    "duet.store.pandas"
   ]
  },
  {
   "cell_type": "markdown",
   "id": "8867a492",
   "metadata": {},
   "source": [
    "#### 4.3 – Authorize City agent to `.reconstruct()` the data\n",
    "Authorize the city agent to reconstruct the data once it is shared and joined with other manufacutrers' data"
   ]
  },
  {
   "cell_type": "code",
   "execution_count": null,
   "id": "cef1c622",
   "metadata": {},
   "outputs": [],
   "source": [
    "duet.requests.add_handler(\n",
    "    name=\"reconstruct\",\n",
    "    action=\"accept\"\n",
    ")"
   ]
  },
  {
   "cell_type": "markdown",
   "id": "c6a8eb61",
   "metadata": {
    "pycharm": {
     "name": "#%% md\n"
    }
   },
   "source": [
    "---\n",
    "\n",
    "### 5 – Terminate Controller\n",
    "\n",
    "Whenever you have finished with this notebook, be sure to terminate the controller. This is especially important if your business logic runs across multiple notebooks.\n",
    "(Note: the terminating the controller will not terminate the Duet session)."
   ]
  },
  {
   "cell_type": "code",
   "execution_count": null,
   "outputs": [],
   "source": [
    "await agent_controller.terminate()"
   ],
   "metadata": {
    "collapsed": false,
    "pycharm": {
     "name": "#%%\n"
    }
   }
  },
  {
   "cell_type": "markdown",
   "source": [
    "---\n",
    "\n",
    "<div style=\"font-size: 25px\"><center><b>Break Point 10 / 11 / 12</b></center></div>\n",
    "<div style=\"font-size: 50px\"><center>🛵 ➡️ 🚗 / 🚛 / 🏙️ </center></div><br>\n",
    "<center><b>Please proceed to the remaining Manufacturers and run all cells between Steps 4.2 and 4.3 <br> If you have uploaded all data to the manufacturers' datastored, proceed to the City agent Step 4.2</b></center>\n",
    "\n",
    "## 🔥🔥🔥 You can close this notebook now 🔥🔥🔥"
   ],
   "metadata": {
    "collapsed": false
   }
  },
  {
   "cell_type": "code",
   "execution_count": null,
   "outputs": [],
   "source": [],
   "metadata": {
    "collapsed": false,
    "pycharm": {
     "name": "#%%"
    }
   }
  }
 ],
 "metadata": {
  "kernelspec": {
   "display_name": "Python 3 (ipykernel)",
   "language": "python",
   "name": "python3"
  },
  "language_info": {
   "codemirror_mode": {
    "name": "ipython",
    "version": 3
   },
   "file_extension": ".py",
   "mimetype": "text/x-python",
   "name": "python",
   "nbconvert_exporter": "python",
   "pygments_lexer": "ipython3",
   "version": "3.9.5"
  }
 },
 "nbformat": 4,
 "nbformat_minor": 5
}