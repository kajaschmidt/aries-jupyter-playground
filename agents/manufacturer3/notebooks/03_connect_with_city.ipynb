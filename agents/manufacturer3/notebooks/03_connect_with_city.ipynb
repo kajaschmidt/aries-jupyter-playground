{
 "cells": [
  {
   "cell_type": "markdown",
   "id": "7e36d65d",
   "metadata": {},
   "source": [
    "# PETs/TETs – Hyperledger Aries / PySyft – Manufacturer 3 (Holder) 🛵"
   ]
  },
  {
   "cell_type": "code",
   "execution_count": 1,
   "id": "5d4e5398",
   "metadata": {},
   "outputs": [
    {
     "data": {
      "application/javascript": [
       "document.title = '🛵 Manufacturer3'\n"
      ],
      "text/plain": [
       "<IPython.core.display.Javascript object>"
      ]
     },
     "metadata": {},
     "output_type": "display_data"
    }
   ],
   "source": [
    "%%javascript\n",
    "document.title = '🛵 Manufacturer3'"
   ]
  },
  {
   "cell_type": "markdown",
   "id": "9bc5da1a",
   "metadata": {},
   "source": [
    "## PART 3: Connect with City to Analyze Data\n",
    "\n",
    "**What:** Share encrypted data with City agent in a trust- and privacy-preserving manner\n",
    "\n",
    "**Why:** Share data with City agent (e.g., to obtain funds)\n",
    "\n",
    "**How:** <br>\n",
    "1. [Initiate Manufacturer's AgentCommunicationManager (ACM)](#1)\n",
    "2. [Connect anonymously with the City agent via a multi-use SSI invitation](#2)\n",
    "3. [Prove Manufacturer3 Agent is a certified manufacturer via VCs](#3)\n",
    "4. [Establish anonymous Duet Connection to share encrypted data](#4)\n",
    "\n",
    "**Accompanying Agents and Notebooks:**\n",
    "* City 🏙️️: `03_connect_with_Manufacturer.ipynb`\n",
    "* Optional – Manufacturer1 🚗: `03_connect_with_city.ipynb`\n",
    "* Optional – Manufacturer2 🚛: `03_connect_with_city.ipynb`"
   ]
  },
  {
   "cell_type": "markdown",
   "id": "bb507ea3",
   "metadata": {
    "pycharm": {
     "name": "#%% md\n"
    }
   },
   "source": [
    "---\n",
    "\n",
    "### 0 - Setup\n",
    "#### 0.1 - Imports"
   ]
  },
  {
   "cell_type": "code",
   "execution_count": 2,
   "id": "e92d3a15",
   "metadata": {
    "pycharm": {
     "name": "#%%\n"
    }
   },
   "outputs": [],
   "source": [
    "import os\n",
    "\n",
    "import numpy as np\n",
    "import pandas as pd\n",
    "import syft as sy\n",
    "import torch\n",
    "from aries_cloudcontroller import AriesAgentController\n",
    "import sympc\n",
    "from sympc.session import Session\n",
    "from sympc.session import SessionManager\n",
    "from sympc.tensor import MPCTensor\n",
    "\n",
    "from libs.agent_connection_manager import CredentialHolder"
   ]
  },
  {
   "cell_type": "markdown",
   "id": "92826f29",
   "metadata": {
    "pycharm": {
     "name": "#%% md\n"
    }
   },
   "source": [
    "#### 0.2 – Variables"
   ]
  },
  {
   "cell_type": "code",
   "execution_count": 3,
   "id": "77e82d88",
   "metadata": {
    "pycharm": {
     "name": "#%%\n"
    }
   },
   "outputs": [],
   "source": [
    "# Get relevant details from .env file\n",
    "api_key = os.getenv(\"ACAPY_ADMIN_API_KEY\")\n",
    "admin_url = os.getenv(\"ADMIN_URL\")\n",
    "webhook_port = int(os.getenv(\"WEBHOOK_PORT\"))\n",
    "webhook_host = \"0.0.0.0\""
   ]
  },
  {
   "cell_type": "markdown",
   "id": "13fd665b",
   "metadata": {
    "pycharm": {
     "name": "#%% md\n"
    }
   },
   "source": [
    "---\n",
    "\n",
    "<a id=1></a>\n",
    "\n",
    "### 1 – Initiate Manufacturer3 Agent\n",
    "#### 1.1 – Init ACA-PY agent controller"
   ]
  },
  {
   "cell_type": "code",
   "execution_count": 4,
   "id": "240f05f2",
   "metadata": {},
   "outputs": [
    {
     "name": "stdout",
     "output_type": "stream",
     "text": [
      "Initialising a controller with admin api at http://manufacturer3-agent:3021 and an api key of adminApiKey\n"
     ]
    }
   ],
   "source": [
    "# Setup\n",
    "agent_controller = AriesAgentController(admin_url,api_key)\n",
    "print(f\"Initialising a controller with admin api at {admin_url} and an api key of {api_key}\")"
   ]
  },
  {
   "cell_type": "markdown",
   "id": "14d8f112",
   "metadata": {},
   "source": [
    "#### 1.2 – Start Webhook Server to enable communication with other agents\n",
    "@todo: is communication with other agents, or with other docker containers?"
   ]
  },
  {
   "cell_type": "code",
   "execution_count": 5,
   "id": "92810a83",
   "metadata": {},
   "outputs": [
    {
     "name": "stdout",
     "output_type": "stream",
     "text": [
      "Listening for webhooks from agent at http://0.0.0.0:3010\n"
     ]
    }
   ],
   "source": [
    "# Listen on webhook server\n",
    "await agent_controller.init_webhook_server(webhook_host, webhook_port)\n",
    "print(f\"Listening for webhooks from agent at http://{webhook_host}:{webhook_port}\")"
   ]
  },
  {
   "cell_type": "markdown",
   "id": "90d74cd3",
   "metadata": {},
   "source": [
    "#### 1.3 – Init ACM Credential Holder"
   ]
  },
  {
   "cell_type": "code",
   "execution_count": 6,
   "id": "3e7d3e9c",
   "metadata": {
    "collapsed": false,
    "jupyter": {
     "outputs_hidden": false
    },
    "pycharm": {
     "name": "#%%\n"
    }
   },
   "outputs": [
    {
     "name": "stdout",
     "output_type": "stream",
     "text": [
      "\u001b[1m\u001b[32mSuccessfully initiated AgentConnectionManager for a(n) Holder ACA-PY agent\u001b[0m\n"
     ]
    },
    {
     "data": {
      "text/plain": [
       "{'results': [{'referent': 'isManufacturer-VC',\n",
       "   'attrs': {'isManufacturer': 'TRUE',\n",
       "    'manufacturerName': 'scooterManufacturer',\n",
       "    'manufacturerCity': 'City3',\n",
       "    'manufacturerCountry': 'DE'},\n",
       "   'schema_id': 'h95exdvAfiE4zrFdJtK6X:2:certify-manufacturer:0.0.1',\n",
       "   'cred_def_id': 'h95exdvAfiE4zrFdJtK6X:3:CL:253012:default',\n",
       "   'rev_reg_id': None,\n",
       "   'cred_rev_id': None}]}"
      ]
     },
     "execution_count": 6,
     "metadata": {},
     "output_type": "execute_result"
    }
   ],
   "source": [
    "# The CredentialHolder registers relevant webhook servers and event listeners\n",
    "manufacturer3_agent = CredentialHolder(agent_controller)\n",
    "\n",
    "# Verify if Manufacturer already has a VC\n",
    "# (if there are manufacturer credentials, there is no need to execute the notebook)\n",
    "manufacturer3_agent.get_credentials()"
   ]
  },
  {
   "cell_type": "markdown",
   "id": "21d13efb",
   "metadata": {},
   "source": [
    "---\n",
    "\n",
    "<a id=2></a>\n",
    "\n",
    "### 2 – Establish a connection with the City agent 🏙️\n",
    "A connection with the credential issuer (i.e., the authority agent) must be established before a VC can be received. In this scenario, the Manufacturer3 requests a connection with the Authority to be certified as an official city agency. Thus, the Manufacturer3 agent sends an invitation to the Authority. In real life, the invitation can be shared via video call, phone call, or E-Mail. In this PoC, this is represented by copy and pasting the invitation into the manufacturers' notebooks.\n",
    "\n",
    "#### 2.1 Join invitation of City agent 🏙️\n",
    "Copy and paste the multi-use invitation of the city agent, and establish a connection with them."
   ]
  },
  {
   "cell_type": "code",
   "execution_count": 7,
   "id": "dadf2634",
   "metadata": {},
   "outputs": [
    {
     "name": "stdout",
     "output_type": "stream",
     "text": [
      "\u001b[1m\u001b[35mPlease enter invitation received by external agent:\u001b[0m\n"
     ]
    },
    {
     "name": "stdin",
     "output_type": "stream",
     "text": [
      "\u001b[35mInvitation: \u001b[0m {     '@id': '2bfcffe0-d0b2-495d-a929-33537137f191',     '@type': 'did:sov:BzCbsNYhMrjHiqZDTUASHg;spec/connections/1.0/invitation',     'label': 'City-Agency',     'recipientKeys': ['95qrgqn7cjUEPHnUQBPRjAFcEcmvsR2AqxfgcybUAoXj'],     'serviceEndpoint': 'https://ee65-80-134-223-153.ngrok.io', }\n"
     ]
    },
    {
     "name": "stdout",
     "output_type": "stream",
     "text": [
      "\n",
      "---------------------------------------------------------------------\n",
      "\u001b[1mConnection Webhook Event Received: Connections Handler\u001b[0m\n",
      "Connection ID :  9048943b-9300-4704-8ab0-3f167d2384c4\n",
      "State :  \u001b[34minvitation (invitation-received)\u001b[0m\n",
      "Routing State : none\n",
      "Connection with :  City-Agency\n",
      "Their Role :  inviter\n",
      "---------------------------------------------------------------------\n",
      "\n",
      "---------------------------------------------------------------------\n",
      "\u001b[1mConnection Webhook Event Received: Connections Handler\u001b[0m\n",
      "Connection ID :  9048943b-9300-4704-8ab0-3f167d2384c4\n",
      "State :  \u001b[34mrequest (request-sent)\u001b[0m\n",
      "Routing State : none\n",
      "Connection with :  City-Agency\n",
      "Their Role :  inviter\n",
      "---------------------------------------------------------------------\n",
      "\n",
      "---------------------------------------------------------------------\n",
      "\u001b[1mConnection Webhook Event Received: Connections Handler\u001b[0m\n",
      "Connection ID :  9048943b-9300-4704-8ab0-3f167d2384c4\n",
      "State :  \u001b[34mresponse (response-received)\u001b[0m\n",
      "Routing State : none\n",
      "Connection with :  City-Agency\n",
      "Their Role :  inviter\n",
      "---------------------------------------------------------------------\n",
      "\n",
      "---------------------------------------------------------------------\n",
      "\u001b[1mConnection Webhook Event Received: Connections Handler\u001b[0m\n",
      "Connection ID :  9048943b-9300-4704-8ab0-3f167d2384c4\n",
      "State :  \u001b[34mactive (completed)\u001b[0m\n",
      "Routing State : none\n",
      "Connection with :  City-Agency\n",
      "Their Role :  inviter\n",
      "---------------------------------------------------------------------\n",
      "\u001b[1m\u001b[32m\n",
      "Connection ID: 9048943b-9300-4704-8ab0-3f167d2384c4 is now active\u001b[0m\n",
      "\n",
      "---------------------------------------------------------------------\n",
      "\u001b[1mConnection Webhook Event Received: Present-Proof Handler\u001b[0m\n",
      "Connection ID :  9048943b-9300-4704-8ab0-3f167d2384c4\n",
      "Presentation Exchange ID :  2fa039e8-fca7-4206-8703-bad518a61114\n",
      "Protocol State :  \u001b[34mrequest_received\u001b[0m\n",
      "Agent Role :  prover\n",
      "Initiator :  external\n",
      "---------------------------------------------------------------------\n",
      "\u001b[1mObtained Proof Request : \u001b[0m\n",
      "{\n",
      "    'name': 'isManufacturer Proof Request',\n",
      "    'non_revoked': {'to': 1629806159},\n",
      "    'nonce': '1015063869974131880847637',\n",
      "    'requested_attributes': {\n",
      "        '0_isManufacturer_uuid': {\n",
      "            'name': 'isManufacturer',\n",
      "            'restrictions': [\n",
      "                {\n",
      "                    'schema_id': 'h95exdvAfiE4zrFdJtK6X:2:certify-manufacturer:0.0.1',\n",
      "                },\n",
      "            ],\n",
      "        },\n",
      "    },\n",
      "    'requested_predicates': {},\n",
      "    'version': '1.0',\n",
      "}\n"
     ]
    }
   ],
   "source": [
    "# Variables\n",
    "alias = \"City Connection\"\n",
    "auto_accept = True\n",
    "\n",
    "# Receive connection invitation\n",
    "connection_id = manufacturer3_agent.receive_connection_invitation(alias=alias, auto_accept=auto_accept)"
   ]
  },
  {
   "cell_type": "markdown",
   "id": "9b96de00",
   "metadata": {},
   "source": [
    "<div style=\"font-size: 25px\"><center><b>Break Point 2 / 3 / 4</b></center></div>\n",
    "<div style=\"font-size: 50px\"><center>🛵 ➡️ 🚗 / 🚛 / 🏙️ </center></div><br>\n",
    "<center><b>Please proceed to the remaining Manufacturers. <br> If you have established a connection between the City and all Manufacturers, proceed to the City Notebook's Step 2.2</b></center>\n",
    "\n",
    "---\n",
    "\n",
    "<a id=3></a>\n",
    "### 3 – Create Presentation to Send Proof Presentation\n",
    "\n",
    "#### 3.1 – Create presentation that satisfies requirements of proof request\n",
    "Before you can present a presentation, you must identify the presentation record which you wish to respond to with a presentation. To do so, the `prepare_presentation()` function runs through the following steps: \n",
    "1. Get all proof requests that were sent through `connection_id`\n",
    "2. Get the most recent `presentation_exchange_id` and the corresponding `proof_request` from (1)\n",
    "3. Get the restrictions the City agent defined in `proof_request` from (2)\n",
    "4. Compare all VCs the Manufacturer3 agent has stored, and find (if available) a VC that satisfies the restrictions from (3)\n",
    "5. Return a presentation dictionary from a VC from (4) that satisfies all requirements. Generally, a presentation consists of three classes of attributes: <br>\n",
    "a. `requested_attributes`: Attributes that were signed by an issuer and have been revealed in the presentation process <br>\n",
    "b. `self_attested_attributes`: Attributes that the prover has self attested to in the presentation object. <br>\n",
    "c. `requested_predicates` (predicate proofs): Attribute values that have been proven to meet some statement. (TODO: Show how you can parse this information)"
   ]
  },
  {
   "cell_type": "code",
   "execution_count": 8,
   "id": "80612f3f",
   "metadata": {
    "pycharm": {
     "name": "#%%\n"
    }
   },
   "outputs": [
    {
     "name": "stdout",
     "output_type": "stream",
     "text": [
      "\u001b[34m> Found proof_request with presentation_exchange_id 2fa039e8-fca7-4206-8703-bad518a61114\u001b[0m\n",
      "\u001b[34m> Restrictions for a suitable proof: {'isManufacturer': {'requirements': {'schema_id': 'h95exdvAfiE4zrFdJtK6X:2:certify-manufacturer:0.0.1'}, 'request_attr_name': '0_isManufacturer_uuid'}}\u001b[0m\n",
      "\u001b[34m> Attribute request for 'isManufacturer' can be satisfied by Credential with VC 'isManufacturer-VC'\u001b[0m\n",
      "\u001b[34m> Generate the proof presentation : \u001b[0m\n",
      "{\n",
      "    'requested_attributes': {\n",
      "        '0_isManufacturer_uuid': {\n",
      "            'cred_id': 'isManufacturer-VC',\n",
      "            'revealed': True,\n",
      "        },\n",
      "    },\n",
      "    'requested_predicates': {},\n",
      "    'self_attested_attributes': {},\n",
      "}\n"
     ]
    }
   ],
   "source": [
    "presentation, presentation_exchange_id = manufacturer3_agent.prepare_presentation(connection_id)"
   ]
  },
  {
   "cell_type": "markdown",
   "id": "b0562d2d",
   "metadata": {
    "pycharm": {
     "name": "#%% md\n"
    }
   },
   "source": [
    "#### 3.2 – Send Presentation\n",
    "\n",
    "Send the presentation to the recipient of `presentation_exchange_id`.\n",
    "\n",
    "Overall, the proof-presentation procedure has six steps. **R** represents the Relying Party (here the City agent), and **H** the Holder (i.e., the manufacturers).\n",
    "\n",
    "| Step | Status | Role | Description | Function |\n",
    "| --- | --- | --- | --- | --- |\n",
    "| 1 | `request_sent` |  R | R requests a proof defined in `manufacturer_proof_request` | `send_proof_request()` |\n",
    "| 2 | `request_received` | H | H receives a proof request from R | - |\n",
    "| 3 | `presentation-sent` | H | H sends a prepared presentation | `send_proof_presentation()` |\n",
    "| 4 | `presentation-received` | R | R receives presentation from Step 3 | - |\n",
    "| 5 | `verified` | R | R verified the proof from Step 4 | `verify_proof_presentation()` |\n",
    "| 6 | `presentation_acked` | H | Received when Step 5 returns successfully | - |"
   ]
  },
  {
   "cell_type": "code",
   "execution_count": 9,
   "id": "eac0fa1a",
   "metadata": {
    "pycharm": {
     "name": "#%%\n"
    }
   },
   "outputs": [
    {
     "name": "stdout",
     "output_type": "stream",
     "text": [
      "\n",
      "---------------------------------------------------------------------\n",
      "\u001b[1mConnection Webhook Event Received: Present-Proof Handler\u001b[0m\n",
      "Connection ID :  9048943b-9300-4704-8ab0-3f167d2384c4\n",
      "Presentation Exchange ID :  2fa039e8-fca7-4206-8703-bad518a61114\n",
      "Protocol State :  \u001b[34mpresentation_sent\u001b[0m\n",
      "Agent Role :  prover\n",
      "Initiator :  external\n",
      "---------------------------------------------------------------------\n",
      "\n",
      "---------------------------------------------------------------------\n",
      "\u001b[1mConnection Webhook Event Received: Present-Proof Handler\u001b[0m\n",
      "Connection ID :  9048943b-9300-4704-8ab0-3f167d2384c4\n",
      "Presentation Exchange ID :  2fa039e8-fca7-4206-8703-bad518a61114\n",
      "Protocol State :  \u001b[34mpresentation_acked\u001b[0m\n",
      "Agent Role :  prover\n",
      "Initiator :  external\n",
      "---------------------------------------------------------------------\n",
      "\u001b[1m\u001b[32m\n",
      "Presentation Exchange ID: 2fa039e8-fca7-4206-8703-bad518a61114 is acknowledged by Relying Party\u001b[0m\n"
     ]
    }
   ],
   "source": [
    "manufacturer3_agent.send_proof_presentation(presentation_exchange_id, presentation)"
   ]
  },
  {
   "cell_type": "markdown",
   "id": "2622e4af",
   "metadata": {
    "pycharm": {
     "name": "#%% md\n"
    }
   },
   "source": [
    "---\n",
    "<a id=4></a>\n",
    "### 4 – Do Data Science\n",
    "Assuming that the City agent will acknowledge the proofs and deem them to be correct, proceed by inviting the City agent to a Duet Connection.\n",
    "\n",
    "\n",
    "#### 4.1 – Establish a Duet Connection with City Agent: Send Duet invitation\n",
    "Duet is a package that allows you to exchange encrypted data and run privacy-preserving arithmetic operations on them (e.g., through homomorphic encryption or secure multiparty computation)."
   ]
  },
  {
   "cell_type": "code",
   "execution_count": 10,
   "id": "a0f0f95c",
   "metadata": {
    "pycharm": {
     "name": "#%%\n"
    }
   },
   "outputs": [
    {
     "name": "stdout",
     "output_type": "stream",
     "text": [
      "🎤  🎸  ♪♪♪ Starting Duet ♫♫♫  🎻  🎹\n",
      "\n",
      "♫♫♫ >\u001b[93m DISCLAIMER\u001b[0m: \u001b[1mDuet is an experimental feature currently in beta.\n",
      "♫♫♫ > Use at your own risk.\n",
      "\u001b[0m\n",
      "\u001b[1m\n",
      "    > ❤️ \u001b[91mLove\u001b[0m \u001b[92mDuet\u001b[0m? \u001b[93mPlease\u001b[0m \u001b[94mconsider\u001b[0m \u001b[95msupporting\u001b[0m \u001b[91mour\u001b[0m \u001b[93mcommunity!\u001b[0m\n",
      "    > https://github.com/sponsors/OpenMined\u001b[1m\n",
      "\n",
      "♫♫♫ > Punching through firewall to OpenGrid Network Node at:\n",
      "♫♫♫ > http://ec2-18-218-7-180.us-east-2.compute.amazonaws.com:5000\n",
      "♫♫♫ >\n",
      "♫♫♫ > ...waiting for response from OpenGrid Network... \n",
      "♫♫♫ > \u001b[92mDONE!\u001b[0m\n",
      "\n",
      "♫♫♫ > \u001b[1mSTEP 1:\u001b[0m Sending Duet Token bc8ac82f4d7d4ab9723047d7f537746b\n",
      "♫♫♫ > to Duet Partner City-Agency\n",
      "♫♫♫ > via Connection ID 9048943b-9300-4704-8ab0-3f167d2384c4\n",
      "\u001b[1m\u001b[32m♫♫♫ > Done!\u001b[0m\n",
      "\n",
      "♫♫♫ > \u001b[1mSTEP 2:\u001b[0m Awaiting Duet Token from Duet Partner...\n",
      "\n",
      "♫♫♫ > \u001b[1m\u001b[32mDONE!\u001b[0m Partner's Duet Token: d001217c2a3dfe8c27ea1960fce1665a\n",
      "♫♫♫ > Connecting...\n",
      "\n",
      "♫♫♫ > \u001b[92mCONNECTED!\u001b[0m\n",
      "\n",
      "(194, 24)T LIVE STATUS  -  Objects: 1  Requests: 0   Messages: 9  Request Handlers: 0                                \n",
      "♫♫♫ > DUET LIVE STATUS  -  Objects: 6  Requests: 0   Messages: 32  Request Handlers: 1                                \r"
     ]
    }
   ],
   "source": [
    "# Set up connection_id to use for duet connection\n",
    "manufacturer3_agent._update_connection(connection_id=connection_id, is_duet_connection=True, reset_duet=True)\n",
    "\n",
    "# Create duet invitation for city agent\n",
    "duet = sy.launch_duet(credential_exchanger=manufacturer3_agent)"
   ]
  },
  {
   "cell_type": "markdown",
   "id": "5076f16e",
   "metadata": {
    "pycharm": {
     "name": "#%% md\n"
    }
   },
   "source": [
    "<div style=\"font-size: 25px\"><center><b>Break Point 6 / 7 / 8</b></center></div>\n",
    "<div style=\"font-size: 50px\"><center>🛵 ➡️ 🚗 / 🚛 / 🏙️ </center></div><br>\n",
    "<center><b>Please proceed to the remaining Manufacturers and run all cells between Steps 3 and 4.1 <br> If you have sent proof presentations from all manufacturers, proceed to the City Notebook's Step 3.3 </b></center>\n",
    "\n",
    "#### 4.2 - Load encrypted data 🔒🛵 to duet store"
   ]
  },
  {
   "cell_type": "code",
   "execution_count": 11,
   "id": "da01b3e9",
   "metadata": {},
   "outputs": [
    {
     "data": {
      "text/html": [
       "<div>\n",
       "<style scoped>\n",
       "    .dataframe tbody tr th:only-of-type {\n",
       "        vertical-align: middle;\n",
       "    }\n",
       "\n",
       "    .dataframe tbody tr th {\n",
       "        vertical-align: top;\n",
       "    }\n",
       "\n",
       "    .dataframe thead th {\n",
       "        text-align: right;\n",
       "    }\n",
       "</style>\n",
       "<table border=\"1\" class=\"dataframe\">\n",
       "  <thead>\n",
       "    <tr style=\"text-align: right;\">\n",
       "      <th></th>\n",
       "      <th>ID</th>\n",
       "      <th>Tags</th>\n",
       "      <th>Description</th>\n",
       "      <th>object_type</th>\n",
       "    </tr>\n",
       "  </thead>\n",
       "  <tbody>\n",
       "    <tr>\n",
       "      <th>0</th>\n",
       "      <td>&lt;UID: 9a714893d5bd497d9f56c56373ee9df6&gt;</td>\n",
       "      <td>[]</td>\n",
       "      <td></td>\n",
       "      <td>&lt;class 'sympc.session.session.Session'&gt;</td>\n",
       "    </tr>\n",
       "  </tbody>\n",
       "</table>\n",
       "</div>"
      ],
      "text/plain": [
       "                                        ID Tags Description  \\\n",
       "0  <UID: 9a714893d5bd497d9f56c56373ee9df6>   []               \n",
       "\n",
       "                               object_type  \n",
       "0  <class 'sympc.session.session.Session'>  "
      ]
     },
     "execution_count": 11,
     "metadata": {},
     "output_type": "execute_result"
    }
   ],
   "source": [
    "# Verify data store of duet\n",
    "duet.store.pandas  # There should only be an MPC session statement by the City agent"
   ]
  },
  {
   "cell_type": "markdown",
   "id": "38e5366e",
   "metadata": {
    "pycharm": {
     "name": "#%% md\n"
    }
   },
   "source": [
    "Process data before loading it to the duet store. We take a synthetically created dataset of CO2 emission per trip across the City Agent's City (in this case Berlin, Germany)."
   ]
  },
  {
   "cell_type": "code",
   "execution_count": 12,
   "id": "3357813f",
   "metadata": {},
   "outputs": [
    {
     "data": {
      "text/html": [
       "<div>\n",
       "<style scoped>\n",
       "    .dataframe tbody tr th:only-of-type {\n",
       "        vertical-align: middle;\n",
       "    }\n",
       "\n",
       "    .dataframe tbody tr th {\n",
       "        vertical-align: top;\n",
       "    }\n",
       "\n",
       "    .dataframe thead th {\n",
       "        text-align: right;\n",
       "    }\n",
       "</style>\n",
       "<table border=\"1\" class=\"dataframe\">\n",
       "  <thead>\n",
       "    <tr style=\"text-align: right;\">\n",
       "      <th></th>\n",
       "      <th>zipcode</th>\n",
       "    </tr>\n",
       "  </thead>\n",
       "  <tbody>\n",
       "    <tr>\n",
       "      <th>0</th>\n",
       "      <td>10115</td>\n",
       "    </tr>\n",
       "    <tr>\n",
       "      <th>1</th>\n",
       "      <td>10117</td>\n",
       "    </tr>\n",
       "    <tr>\n",
       "      <th>2</th>\n",
       "      <td>10119</td>\n",
       "    </tr>\n",
       "    <tr>\n",
       "      <th>3</th>\n",
       "      <td>10178</td>\n",
       "    </tr>\n",
       "    <tr>\n",
       "      <th>4</th>\n",
       "      <td>10179</td>\n",
       "    </tr>\n",
       "  </tbody>\n",
       "</table>\n",
       "</div>"
      ],
      "text/plain": [
       "   zipcode\n",
       "0    10115\n",
       "1    10117\n",
       "2    10119\n",
       "3    10178\n",
       "4    10179"
      ]
     },
     "execution_count": 12,
     "metadata": {},
     "output_type": "execute_result"
    }
   ],
   "source": [
    "# Get zipcode data (zipcode data from https://daten.odis-berlin.de/de/dataset/plz/)\n",
    "df_zipcode = pd.read_csv(\"data/geo/berlin_zipcodes.csv\").rename(columns={\"plz\":\"zipcode\"})\n",
    "df_zipcode.head()"
   ]
  },
  {
   "cell_type": "code",
   "execution_count": 13,
   "id": "f635ee09",
   "metadata": {},
   "outputs": [
    {
     "data": {
      "text/html": [
       "<div>\n",
       "<style scoped>\n",
       "    .dataframe tbody tr th:only-of-type {\n",
       "        vertical-align: middle;\n",
       "    }\n",
       "\n",
       "    .dataframe tbody tr th {\n",
       "        vertical-align: top;\n",
       "    }\n",
       "\n",
       "    .dataframe thead th {\n",
       "        text-align: right;\n",
       "    }\n",
       "</style>\n",
       "<table border=\"1\" class=\"dataframe\">\n",
       "  <thead>\n",
       "    <tr style=\"text-align: right;\">\n",
       "      <th></th>\n",
       "      <th>i</th>\n",
       "      <th>vehicle_id</th>\n",
       "      <th>manufacturer_id</th>\n",
       "      <th>zipcode</th>\n",
       "      <th>timestamp</th>\n",
       "      <th>latlon</th>\n",
       "      <th>dist</th>\n",
       "      <th>seconds</th>\n",
       "      <th>co2_grams</th>\n",
       "      <th>total_dist</th>\n",
       "      <th>total_seconds</th>\n",
       "      <th>total_co2_grams</th>\n",
       "      <th>timestamp_tripstart</th>\n",
       "      <th>avg_kmperhour</th>\n",
       "      <th>avg_co2perkm</th>\n",
       "      <th>trip_id</th>\n",
       "      <th>hour</th>\n",
       "    </tr>\n",
       "  </thead>\n",
       "  <tbody>\n",
       "    <tr>\n",
       "      <th>0</th>\n",
       "      <td>0</td>\n",
       "      <td>V37335728</td>\n",
       "      <td>V11338</td>\n",
       "      <td>10965</td>\n",
       "      <td>2021-08-19 22:05:16</td>\n",
       "      <td>(52.4938402, 13.3858854)</td>\n",
       "      <td>0.00</td>\n",
       "      <td>0.0</td>\n",
       "      <td>0.00</td>\n",
       "      <td>0.00</td>\n",
       "      <td>0.0</td>\n",
       "      <td>0.0</td>\n",
       "      <td>2021-08-19 22:05:16</td>\n",
       "      <td>0.0</td>\n",
       "      <td>0.000000</td>\n",
       "      <td>4</td>\n",
       "      <td>22</td>\n",
       "    </tr>\n",
       "    <tr>\n",
       "      <th>1</th>\n",
       "      <td>1</td>\n",
       "      <td>V37335728</td>\n",
       "      <td>V11338</td>\n",
       "      <td>10965</td>\n",
       "      <td>2021-08-19 22:05:17</td>\n",
       "      <td>(52.4938098, 13.3857856)</td>\n",
       "      <td>0.01</td>\n",
       "      <td>1.0</td>\n",
       "      <td>1.35</td>\n",
       "      <td>0.01</td>\n",
       "      <td>1.0</td>\n",
       "      <td>1.0</td>\n",
       "      <td>2021-08-19 22:05:16</td>\n",
       "      <td>36.0</td>\n",
       "      <td>100.000000</td>\n",
       "      <td>4</td>\n",
       "      <td>22</td>\n",
       "    </tr>\n",
       "    <tr>\n",
       "      <th>2</th>\n",
       "      <td>2</td>\n",
       "      <td>V37335728</td>\n",
       "      <td>V11338</td>\n",
       "      <td>10965</td>\n",
       "      <td>2021-08-19 22:05:19</td>\n",
       "      <td>(52.4938978, 13.3855431)</td>\n",
       "      <td>0.02</td>\n",
       "      <td>2.0</td>\n",
       "      <td>2.84</td>\n",
       "      <td>0.03</td>\n",
       "      <td>3.0</td>\n",
       "      <td>4.0</td>\n",
       "      <td>2021-08-19 22:05:16</td>\n",
       "      <td>36.0</td>\n",
       "      <td>133.333333</td>\n",
       "      <td>4</td>\n",
       "      <td>22</td>\n",
       "    </tr>\n",
       "    <tr>\n",
       "      <th>3</th>\n",
       "      <td>3</td>\n",
       "      <td>V37335728</td>\n",
       "      <td>V11338</td>\n",
       "      <td>10965</td>\n",
       "      <td>2021-08-19 22:05:20</td>\n",
       "      <td>(52.4939364, 13.3854384)</td>\n",
       "      <td>0.01</td>\n",
       "      <td>1.0</td>\n",
       "      <td>1.28</td>\n",
       "      <td>0.04</td>\n",
       "      <td>4.0</td>\n",
       "      <td>5.0</td>\n",
       "      <td>2021-08-19 22:05:16</td>\n",
       "      <td>36.0</td>\n",
       "      <td>125.000000</td>\n",
       "      <td>4</td>\n",
       "      <td>22</td>\n",
       "    </tr>\n",
       "    <tr>\n",
       "      <th>4</th>\n",
       "      <td>4</td>\n",
       "      <td>V37335728</td>\n",
       "      <td>V11338</td>\n",
       "      <td>10965</td>\n",
       "      <td>2021-08-19 22:05:22</td>\n",
       "      <td>(52.4940118, 13.3852869)</td>\n",
       "      <td>0.01</td>\n",
       "      <td>2.0</td>\n",
       "      <td>1.52</td>\n",
       "      <td>0.05</td>\n",
       "      <td>6.0</td>\n",
       "      <td>7.0</td>\n",
       "      <td>2021-08-19 22:05:16</td>\n",
       "      <td>30.0</td>\n",
       "      <td>140.000000</td>\n",
       "      <td>4</td>\n",
       "      <td>22</td>\n",
       "    </tr>\n",
       "  </tbody>\n",
       "</table>\n",
       "</div>"
      ],
      "text/plain": [
       "   i vehicle_id manufacturer_id  zipcode            timestamp  \\\n",
       "0  0  V37335728          V11338    10965  2021-08-19 22:05:16   \n",
       "1  1  V37335728          V11338    10965  2021-08-19 22:05:17   \n",
       "2  2  V37335728          V11338    10965  2021-08-19 22:05:19   \n",
       "3  3  V37335728          V11338    10965  2021-08-19 22:05:20   \n",
       "4  4  V37335728          V11338    10965  2021-08-19 22:05:22   \n",
       "\n",
       "                     latlon  dist  seconds  co2_grams  total_dist  \\\n",
       "0  (52.4938402, 13.3858854)  0.00      0.0       0.00        0.00   \n",
       "1  (52.4938098, 13.3857856)  0.01      1.0       1.35        0.01   \n",
       "2  (52.4938978, 13.3855431)  0.02      2.0       2.84        0.03   \n",
       "3  (52.4939364, 13.3854384)  0.01      1.0       1.28        0.04   \n",
       "4  (52.4940118, 13.3852869)  0.01      2.0       1.52        0.05   \n",
       "\n",
       "   total_seconds  total_co2_grams  timestamp_tripstart  avg_kmperhour  \\\n",
       "0            0.0              0.0  2021-08-19 22:05:16            0.0   \n",
       "1            1.0              1.0  2021-08-19 22:05:16           36.0   \n",
       "2            3.0              4.0  2021-08-19 22:05:16           36.0   \n",
       "3            4.0              5.0  2021-08-19 22:05:16           36.0   \n",
       "4            6.0              7.0  2021-08-19 22:05:16           30.0   \n",
       "\n",
       "   avg_co2perkm  trip_id  hour  \n",
       "0      0.000000        4    22  \n",
       "1    100.000000        4    22  \n",
       "2    133.333333        4    22  \n",
       "3    125.000000        4    22  \n",
       "4    140.000000        4    22  "
      ]
     },
     "execution_count": 13,
     "metadata": {},
     "output_type": "execute_result"
    }
   ],
   "source": [
    "# Get trip data\n",
    "df_co2 = pd.read_csv(\"data/trips/data.csv\", index_col=0)\n",
    "df_co2[\"hour\"] = df_co2.timestamp.apply(lambda x: int(x[11:13]))\n",
    "df_co2.head()"
   ]
  },
  {
   "cell_type": "markdown",
   "id": "03fd52e4",
   "metadata": {
    "pycharm": {
     "name": "#%% md\n"
    }
   },
   "source": [
    "The trip data is then grouped by zipcode to sum the CO2 emission per hour per zipcode.\n"
   ]
  },
  {
   "cell_type": "code",
   "execution_count": 14,
   "id": "4087fd9d",
   "metadata": {
    "collapsed": false,
    "jupyter": {
     "outputs_hidden": false
    },
    "pycharm": {
     "name": "#%%\n"
    }
   },
   "outputs": [
    {
     "data": {
      "text/html": [
       "<div>\n",
       "<style scoped>\n",
       "    .dataframe tbody tr th:only-of-type {\n",
       "        vertical-align: middle;\n",
       "    }\n",
       "\n",
       "    .dataframe tbody tr th {\n",
       "        vertical-align: top;\n",
       "    }\n",
       "\n",
       "    .dataframe thead th {\n",
       "        text-align: right;\n",
       "    }\n",
       "</style>\n",
       "<table border=\"1\" class=\"dataframe\">\n",
       "  <thead>\n",
       "    <tr style=\"text-align: right;\">\n",
       "      <th></th>\n",
       "      <th>0</th>\n",
       "      <th>1</th>\n",
       "      <th>2</th>\n",
       "      <th>3</th>\n",
       "      <th>4</th>\n",
       "      <th>5</th>\n",
       "      <th>6</th>\n",
       "      <th>7</th>\n",
       "      <th>8</th>\n",
       "      <th>9</th>\n",
       "      <th>...</th>\n",
       "      <th>14</th>\n",
       "      <th>15</th>\n",
       "      <th>16</th>\n",
       "      <th>17</th>\n",
       "      <th>18</th>\n",
       "      <th>19</th>\n",
       "      <th>20</th>\n",
       "      <th>21</th>\n",
       "      <th>22</th>\n",
       "      <th>23</th>\n",
       "    </tr>\n",
       "    <tr>\n",
       "      <th>zipcode</th>\n",
       "      <th></th>\n",
       "      <th></th>\n",
       "      <th></th>\n",
       "      <th></th>\n",
       "      <th></th>\n",
       "      <th></th>\n",
       "      <th></th>\n",
       "      <th></th>\n",
       "      <th></th>\n",
       "      <th></th>\n",
       "      <th></th>\n",
       "      <th></th>\n",
       "      <th></th>\n",
       "      <th></th>\n",
       "      <th></th>\n",
       "      <th></th>\n",
       "      <th></th>\n",
       "      <th></th>\n",
       "      <th></th>\n",
       "      <th></th>\n",
       "      <th></th>\n",
       "    </tr>\n",
       "  </thead>\n",
       "  <tbody>\n",
       "    <tr>\n",
       "      <th>10115</th>\n",
       "      <td>0.0</td>\n",
       "      <td>0.0</td>\n",
       "      <td>0.0</td>\n",
       "      <td>0.0</td>\n",
       "      <td>0.0</td>\n",
       "      <td>0.0</td>\n",
       "      <td>0.0</td>\n",
       "      <td>0.0</td>\n",
       "      <td>0.0</td>\n",
       "      <td>0.0</td>\n",
       "      <td>...</td>\n",
       "      <td>0.0</td>\n",
       "      <td>0.0</td>\n",
       "      <td>0.0</td>\n",
       "      <td>0.0</td>\n",
       "      <td>0.0</td>\n",
       "      <td>0.0</td>\n",
       "      <td>0.0</td>\n",
       "      <td>0.0</td>\n",
       "      <td>0.0</td>\n",
       "      <td>0.0</td>\n",
       "    </tr>\n",
       "    <tr>\n",
       "      <th>10117</th>\n",
       "      <td>0.0</td>\n",
       "      <td>0.0</td>\n",
       "      <td>0.0</td>\n",
       "      <td>0.0</td>\n",
       "      <td>0.0</td>\n",
       "      <td>0.0</td>\n",
       "      <td>0.0</td>\n",
       "      <td>0.0</td>\n",
       "      <td>0.0</td>\n",
       "      <td>0.0</td>\n",
       "      <td>...</td>\n",
       "      <td>0.0</td>\n",
       "      <td>0.0</td>\n",
       "      <td>0.0</td>\n",
       "      <td>0.0</td>\n",
       "      <td>0.0</td>\n",
       "      <td>0.0</td>\n",
       "      <td>0.0</td>\n",
       "      <td>0.0</td>\n",
       "      <td>0.0</td>\n",
       "      <td>0.0</td>\n",
       "    </tr>\n",
       "    <tr>\n",
       "      <th>10119</th>\n",
       "      <td>0.0</td>\n",
       "      <td>0.0</td>\n",
       "      <td>0.0</td>\n",
       "      <td>0.0</td>\n",
       "      <td>0.0</td>\n",
       "      <td>0.0</td>\n",
       "      <td>0.0</td>\n",
       "      <td>0.0</td>\n",
       "      <td>0.0</td>\n",
       "      <td>0.0</td>\n",
       "      <td>...</td>\n",
       "      <td>0.0</td>\n",
       "      <td>0.0</td>\n",
       "      <td>0.0</td>\n",
       "      <td>0.0</td>\n",
       "      <td>0.0</td>\n",
       "      <td>0.0</td>\n",
       "      <td>0.0</td>\n",
       "      <td>0.0</td>\n",
       "      <td>0.0</td>\n",
       "      <td>0.0</td>\n",
       "    </tr>\n",
       "    <tr>\n",
       "      <th>10178</th>\n",
       "      <td>0.0</td>\n",
       "      <td>0.0</td>\n",
       "      <td>0.0</td>\n",
       "      <td>0.0</td>\n",
       "      <td>0.0</td>\n",
       "      <td>0.0</td>\n",
       "      <td>0.0</td>\n",
       "      <td>0.0</td>\n",
       "      <td>0.0</td>\n",
       "      <td>0.0</td>\n",
       "      <td>...</td>\n",
       "      <td>0.0</td>\n",
       "      <td>0.0</td>\n",
       "      <td>0.0</td>\n",
       "      <td>0.0</td>\n",
       "      <td>0.0</td>\n",
       "      <td>0.0</td>\n",
       "      <td>0.0</td>\n",
       "      <td>0.0</td>\n",
       "      <td>0.0</td>\n",
       "      <td>0.0</td>\n",
       "    </tr>\n",
       "    <tr>\n",
       "      <th>10179</th>\n",
       "      <td>0.0</td>\n",
       "      <td>0.0</td>\n",
       "      <td>0.0</td>\n",
       "      <td>0.0</td>\n",
       "      <td>0.0</td>\n",
       "      <td>0.0</td>\n",
       "      <td>0.0</td>\n",
       "      <td>0.0</td>\n",
       "      <td>0.0</td>\n",
       "      <td>0.0</td>\n",
       "      <td>...</td>\n",
       "      <td>0.0</td>\n",
       "      <td>0.0</td>\n",
       "      <td>0.0</td>\n",
       "      <td>0.0</td>\n",
       "      <td>0.0</td>\n",
       "      <td>0.0</td>\n",
       "      <td>0.0</td>\n",
       "      <td>0.0</td>\n",
       "      <td>0.0</td>\n",
       "      <td>0.0</td>\n",
       "    </tr>\n",
       "  </tbody>\n",
       "</table>\n",
       "<p>5 rows × 24 columns</p>\n",
       "</div>"
      ],
      "text/plain": [
       "          0    1    2    3    4    5    6    7    8    9   ...   14   15   16  \\\n",
       "zipcode                                                    ...                  \n",
       "10115    0.0  0.0  0.0  0.0  0.0  0.0  0.0  0.0  0.0  0.0  ...  0.0  0.0  0.0   \n",
       "10117    0.0  0.0  0.0  0.0  0.0  0.0  0.0  0.0  0.0  0.0  ...  0.0  0.0  0.0   \n",
       "10119    0.0  0.0  0.0  0.0  0.0  0.0  0.0  0.0  0.0  0.0  ...  0.0  0.0  0.0   \n",
       "10178    0.0  0.0  0.0  0.0  0.0  0.0  0.0  0.0  0.0  0.0  ...  0.0  0.0  0.0   \n",
       "10179    0.0  0.0  0.0  0.0  0.0  0.0  0.0  0.0  0.0  0.0  ...  0.0  0.0  0.0   \n",
       "\n",
       "          17   18   19   20   21   22   23  \n",
       "zipcode                                     \n",
       "10115    0.0  0.0  0.0  0.0  0.0  0.0  0.0  \n",
       "10117    0.0  0.0  0.0  0.0  0.0  0.0  0.0  \n",
       "10119    0.0  0.0  0.0  0.0  0.0  0.0  0.0  \n",
       "10178    0.0  0.0  0.0  0.0  0.0  0.0  0.0  \n",
       "10179    0.0  0.0  0.0  0.0  0.0  0.0  0.0  \n",
       "\n",
       "[5 rows x 24 columns]"
      ]
     },
     "execution_count": 14,
     "metadata": {},
     "output_type": "execute_result"
    }
   ],
   "source": [
    "# Get hourly co2\n",
    "df_hourly_co2 = df_co2[[\"zipcode\", \"hour\",\"co2_grams\"]].groupby([\"zipcode\", \"hour\"]).sum().reset_index()\n",
    "df_hourly_co2 = df_hourly_co2.pivot(index=[\"zipcode\"], columns=[\"hour\"])[\"co2_grams\"].replace(np.nan, 0)\n",
    "\n",
    "# Get matrix that of shape (4085,25)\n",
    "df_hourly_zipcode = df_zipcode.set_index(\"zipcode\").reindex(columns=list(range(0,24))).replace(np.nan,0)#.reset_index()\n",
    "\n",
    "# Merge dataframes together\n",
    "df = df_hourly_zipcode.add(df_hourly_co2, fill_value=0)\n",
    "print(df.shape)\n",
    "df.head()"
   ]
  },
  {
   "cell_type": "markdown",
   "id": "a761ce60",
   "metadata": {
    "pycharm": {
     "name": "#%% md\n"
    }
   },
   "source": [
    "Then, convert the dataset to a tensor, and upload the tensor with shape (194 x 24) to the duet data store"
   ]
  },
  {
   "cell_type": "code",
   "execution_count": 15,
   "id": "2d69949f",
   "metadata": {},
   "outputs": [
    {
     "data": {
      "text/html": [
       "<div>\n",
       "<style scoped>\n",
       "    .dataframe tbody tr th:only-of-type {\n",
       "        vertical-align: middle;\n",
       "    }\n",
       "\n",
       "    .dataframe tbody tr th {\n",
       "        vertical-align: top;\n",
       "    }\n",
       "\n",
       "    .dataframe thead th {\n",
       "        text-align: right;\n",
       "    }\n",
       "</style>\n",
       "<table border=\"1\" class=\"dataframe\">\n",
       "  <thead>\n",
       "    <tr style=\"text-align: right;\">\n",
       "      <th></th>\n",
       "      <th>ID</th>\n",
       "      <th>Tags</th>\n",
       "      <th>Description</th>\n",
       "      <th>object_type</th>\n",
       "    </tr>\n",
       "  </thead>\n",
       "  <tbody>\n",
       "    <tr>\n",
       "      <th>0</th>\n",
       "      <td>&lt;UID: 9a714893d5bd497d9f56c56373ee9df6&gt;</td>\n",
       "      <td>[]</td>\n",
       "      <td></td>\n",
       "      <td>&lt;class 'sympc.session.session.Session'&gt;</td>\n",
       "    </tr>\n",
       "    <tr>\n",
       "      <th>1</th>\n",
       "      <td>&lt;UID: 975984d1f7044e3ab949352856cdb741&gt;</td>\n",
       "      <td>[hourly-co2-per-zip_2021-08-19]</td>\n",
       "      <td>Total CO2 per Zipcode per Hour on August 19, 2...</td>\n",
       "      <td>&lt;class 'torch.Tensor'&gt;</td>\n",
       "    </tr>\n",
       "  </tbody>\n",
       "</table>\n",
       "</div>"
      ],
      "text/plain": [
       "                                        ID                             Tags  \\\n",
       "0  <UID: 9a714893d5bd497d9f56c56373ee9df6>                               []   \n",
       "1  <UID: 975984d1f7044e3ab949352856cdb741>  [hourly-co2-per-zip_2021-08-19]   \n",
       "\n",
       "                                         Description  \\\n",
       "0                                                      \n",
       "1  Total CO2 per Zipcode per Hour on August 19, 2...   \n",
       "\n",
       "                               object_type  \n",
       "0  <class 'sympc.session.session.Session'>  \n",
       "1                   <class 'torch.Tensor'>  "
      ]
     },
     "execution_count": 15,
     "metadata": {},
     "output_type": "execute_result"
    }
   ],
   "source": [
    "# Configure tensor\n",
    "hourly_co2_torch = torch.tensor(df.values)\n",
    "hourly_co2_torch = hourly_co2_torch.tag(\"hourly-co2-per-zip_2021-08-19\")\n",
    "hourly_co2_torch = hourly_co2_torch.describe(\"Total CO2 per Zipcode per Hour on August 19, 2021. Shape: (194, 24)\")\n",
    "\n",
    "# Load tensor to datastore\n",
    "hourly_co2_torch_pointer = hourly_co2_torch.send(duet, pointable=True)\n",
    "\n",
    "# Verify datastore\n",
    "duet.store.pandas"
   ]
  },
  {
   "cell_type": "markdown",
   "id": "10f986da",
   "metadata": {},
   "source": [
    "#### 4.3 – Authorize City agent to `.reconstruct()` the data\n",
    "Authorize the city agent to reconstruct the data once it is shared and joined with other manufacutrers' data"
   ]
  },
  {
   "cell_type": "code",
   "execution_count": 16,
   "id": "8edf764c",
   "metadata": {},
   "outputs": [],
   "source": [
    "duet.requests.add_handler(action=\"accept\")"
   ]
  },
  {
   "cell_type": "markdown",
   "id": "44cc96a6",
   "metadata": {
    "pycharm": {
     "name": "#%% md\n"
    }
   },
   "source": [
    "---\n",
    "\n",
    "### 5 – Terminate Controller\n",
    "\n",
    "Whenever you have finished with this notebook, be sure to terminate the controller. This is especially important if your business logic runs across multiple notebooks.\n",
    "(Note: the terminating the controller will not terminate the Duet session)."
   ]
  },
  {
   "cell_type": "code",
   "execution_count": 17,
   "id": "da60b3e6",
   "metadata": {
    "collapsed": false,
    "jupyter": {
     "outputs_hidden": false
    },
    "pycharm": {
     "name": "#%%\n"
    }
   },
   "outputs": [],
   "source": [
    "await agent_controller.terminate()"
   ]
  },
  {
   "cell_type": "markdown",
   "id": "3b3060f4",
   "metadata": {},
   "source": [
    "\n",
    "<div style=\"font-size: 25px\"><center><b>Break Point 10 / 11 / 12</b></center></div>\n",
    "<div style=\"font-size: 50px\"><center>🛵 ➡️ 🚗 / 🚛 / 🏙️ </center></div><br>\n",
    "<center><b>Please proceed to the remaining Manufacturers and run all cells between Steps 4.2 and 4.3 <br> If you have uploaded all data to the manufacturers' datastored, proceed to the City agent Step 4.2</b></center>\n",
    "\n",
    "---\n",
    "\n",
    "## 🔥🔥🔥 You can close this notebook now 🔥🔥🔥"
   ]
  },
  {
   "cell_type": "code",
   "execution_count": null,
   "id": "07161d0d",
   "metadata": {
    "collapsed": false,
    "jupyter": {
     "outputs_hidden": false
    },
    "pycharm": {
     "name": "#%%"
    }
   },
   "outputs": [],
   "source": []
  }
 ],
 "metadata": {
  "kernelspec": {
   "display_name": "Python 3 (ipykernel)",
   "language": "python",
   "name": "python3"
  },
  "language_info": {
   "codemirror_mode": {
    "name": "ipython",
    "version": 3
   },
   "file_extension": ".py",
   "mimetype": "text/x-python",
   "name": "python",
   "nbconvert_exporter": "python",
   "pygments_lexer": "ipython3",
   "version": "3.9.5"
  }
 },
 "nbformat": 4,
 "nbformat_minor": 5
}
