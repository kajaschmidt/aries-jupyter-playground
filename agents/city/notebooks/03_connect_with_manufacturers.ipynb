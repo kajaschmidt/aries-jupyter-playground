{
 "cells": [
  {
   "cell_type": "markdown",
   "id": "b0694929",
   "metadata": {},
   "source": [
    "# PART 3: Connect with Manufacturers for remote SMC"
   ]
  },
  {
   "cell_type": "code",
   "execution_count": 1,
   "id": "d6bbfa71",
   "metadata": {},
   "outputs": [
    {
     "data": {
      "application/javascript": [
       "document.title=\"City Agent\"\n"
      ],
      "text/plain": [
       "<IPython.core.display.Javascript object>"
      ]
     },
     "metadata": {},
     "output_type": "display_data"
    }
   ],
   "source": [
    "%%javascript\n",
    "document.title=\"City Agent\""
   ]
  },
  {
   "cell_type": "markdown",
   "id": "1b266edb",
   "metadata": {},
   "source": [
    "#### Imports"
   ]
  },
  {
   "cell_type": "code",
   "execution_count": 2,
   "id": "276f8718",
   "metadata": {},
   "outputs": [
    {
     "name": "stdout",
     "output_type": "stream",
     "text": [
      "IPython autoawait is `on`, and set to use `asyncio`\n"
     ]
    }
   ],
   "source": [
    "%autoawait \n",
    "from aries_cloudcontroller import AriesAgentController\n",
    "#import asyncio\n",
    "import os\n",
    "from pprintpp import pprint\n",
    "from termcolor import colored\n",
    "import time"
   ]
  },
  {
   "cell_type": "code",
   "execution_count": 3,
   "id": "3b2dda5c",
   "metadata": {},
   "outputs": [],
   "source": [
    "# Global connection ID to enable the use of an multi-use invite to M1, M2, M3\n",
    "# This way, CONNECTION_ID is updated depending on who connects with the City agent\n",
    "global CONNECTION_ID"
   ]
  },
  {
   "cell_type": "code",
   "execution_count": 4,
   "id": "a939396e",
   "metadata": {},
   "outputs": [
    {
     "name": "stdout",
     "output_type": "stream",
     "text": [
      "--- LOAD VARIABLES FROM JUPYTERLAB STORE ---\n",
      "schema_manufacturer_id: MTXSc4YD8wixyM9ekZbmMC:2:certify-manufacturer:0.0.1\n",
      "cred_def_manufacturer_id: MTXSc4YD8wixyM9ekZbmMC:3:CL:246687:default\n",
      "authority_did: MTXSc4YD8wixyM9ekZbmMC\n"
     ]
    }
   ],
   "source": [
    "# If the identifiers are not stored for some reason\n",
    "try:\n",
    "    # Load variables – assuming they have been written to the store in a previous notebook\n",
    "    print(\"--- LOAD VARIABLES FROM JUPYTERLAB STORE ---\")\n",
    "    \n",
    "    %store -r schema_manufacturer_id\n",
    "    %store -r cred_def_manufacturer_id\n",
    "    %store -r authority_did\n",
    "    \n",
    "    print(f\"schema_manufacturer_id: {schema_manufacturer_id}\")\n",
    "    print(f\"cred_def_manufacturer_id: {cred_def_manufacturer_id}\")\n",
    "    print(f\"authority_did: {authority_did}\")\n",
    "    \n",
    "except Exception as e:\n",
    "    \n",
    "    print(\"--- DEFINE VARIABLES FROM MANUALLY COPIED identifiers DICT ---\")\n",
    "    \n",
    "    # Copy an updated version if necessary\n",
    "    identifiers = {\n",
    "        'authority_did': 'MTXSc4YD8wixyM9ekZbmMC',\n",
    "        'city_schema_identifiers': {\n",
    "            'cred_def': 'MTXSc4YD8wixyM9ekZbmMC:3:CL:246685:default',\n",
    "            'schema_id': 'MTXSc4YD8wixyM9ekZbmMC:2:certify-city-agency:0.0.1',\n",
    "        },\n",
    "        'manufacturer_schema_identifiers': {\n",
    "            'cred_def': 'MTXSc4YD8wixyM9ekZbmMC:3:CL:246687:default',\n",
    "            'schema_id': 'MTXSc4YD8wixyM9ekZbmMC:2:certify-manufacturer:0.0.1',\n",
    "        },\n",
    "    }\n",
    "\n",
    "    # Get manufacturer schema identifiers\n",
    "    schema_manufacturer_id = identifiers[\"manufacturer_schema_identifiers\"][\"schema_id\"]\n",
    "    cred_def_manufacturer_id = identifiers[\"manufacturer_schema_identifiers\"][\"cred_def\"]\n",
    "    \n",
    "    # Get authority did\n",
    "    authority_did = identifiers['authority_did']\n",
    "\n",
    "    # Load variables to Jupyter store\n",
    "    %store schema_manufacturer_id\n",
    "    %store cred_def_manufacturer_id\n",
    "    %store authority_did"
   ]
  },
  {
   "cell_type": "markdown",
   "id": "cb684b8a",
   "metadata": {},
   "source": [
    "#### Initialize `City` Agent Controller"
   ]
  },
  {
   "cell_type": "code",
   "execution_count": 5,
   "id": "47131680",
   "metadata": {},
   "outputs": [
    {
     "name": "stdout",
     "output_type": "stream",
     "text": [
      "Initialising a controller with admin api at http://city-agent:3021 and an api key of adminApiKey\n"
     ]
    }
   ],
   "source": [
    "api_key = os.getenv(\"ACAPY_ADMIN_API_KEY\")\n",
    "admin_url = os.getenv(\"ADMIN_URL\")\n",
    "\n",
    "print(f\"Initialising a controller with admin api at {admin_url} and an api key of {api_key}\")\n",
    "agent_controller = AriesAgentController(admin_url,api_key)"
   ]
  },
  {
   "cell_type": "markdown",
   "id": "460aa7de",
   "metadata": {},
   "source": [
    "## 1 – Init Webhook Server and register Event Listeners for it\n",
    "#### 1.1 – Start webhook server\n",
    "Start a webhook server to be able to communicate with other agents"
   ]
  },
  {
   "cell_type": "code",
   "execution_count": 6,
   "id": "ff82c79e",
   "metadata": {},
   "outputs": [
    {
     "name": "stdout",
     "output_type": "stream",
     "text": [
      "Listening for webhooks from agent at http://0.0.0.0:3010\n"
     ]
    }
   ],
   "source": [
    "webhook_port = int(os.getenv(\"WEBHOOK_PORT\"))\n",
    "webhook_host = \"0.0.0.0\"\n",
    "\n",
    "await agent_controller.init_webhook_server(webhook_host, webhook_port)\n",
    "\n",
    "print(f\"Listening for webhooks from agent at http://{webhook_host}:{webhook_port}\")"
   ]
  },
  {
   "cell_type": "markdown",
   "id": "93bfa9aa",
   "metadata": {},
   "source": [
    "#### 1.2 – Define listeners\n",
    "Define listeners that are triggered when something happens on the webhook server"
   ]
  },
  {
   "cell_type": "code",
   "execution_count": 7,
   "id": "e266d1e7",
   "metadata": {},
   "outputs": [],
   "source": [
    "# Receive connection messages\n",
    "def connections_handler(payload):\n",
    "    global CONNECTION_ID\n",
    "    \n",
    "    state = payload['state']\n",
    "    connection_id = payload[\"connection_id\"]\n",
    "    their_role = payload[\"their_role\"]\n",
    "    routing_state = payload[\"routing_state\"]\n",
    "    rfc_state = payload[\"rfc23_state\"]\n",
    "    \n",
    "    CONNECTION_ID = connection_id\n",
    "    \n",
    "    print(\"----------------------------------------------------------\")\n",
    "    print(\"Connection Webhook Event Received\")\n",
    "    print(\"Connection ID : \", connection_id)\n",
    "    print(\"State : \", state)\n",
    "    print(\"Routing State : {routing} ({rfc})\".format(routing=routing_state, rfc=rfc_state))\n",
    "    if 'their_label' in payload: \n",
    "        print(f\"Connection with : \", payload['their_label'])\n",
    "    print(\"Their Role : \", their_role)\n",
    "    print(\"----------------------------------------------------------\")\n",
    "\n",
    "    if state == \"invitation\":\n",
    "        # Your business logic\n",
    "        print(\"invitation\")\n",
    "        \n",
    "    elif state == \"request\":\n",
    "        # Your business logic\n",
    "        print(\"request\")\n",
    "\n",
    "    elif state == \"response\":\n",
    "        # Your business logic\n",
    "        print(\"response\")\n",
    "        \n",
    "    elif state == \"active\":\n",
    "        # Your business logic\n",
    "        print(colored(\"Connection ID: {0} is now active.\".format(connection_id), \"green\", attrs=[\"bold\"]))\n",
    "\n",
    "        \n",
    "def verifier_proof_handler(payload):\n",
    "    role = payload[\"role\"]\n",
    "    connection_id = payload[\"connection_id\"]\n",
    "    pres_ex_id = payload[\"presentation_exchange_id\"]\n",
    "    state = payload[\"state\"]\n",
    "    print(\"\\n---------------------------------------------------------------------\\n\")\n",
    "    print(\"Handle present-proof\")\n",
    "    print(\"Connection ID : \", connection_id)\n",
    "    print(\"Presentation Exchange ID : \", pres_ex_id)\n",
    "    print(\"Protocol State : \", state)\n",
    "    print(\"Agent Role : \", role)\n",
    "    print(\"Initiator : \", payload[\"initiator\"])\n",
    "    print(\"\\n---------------------------------------------------------------------\\n\")\n",
    "    \n",
    "\n",
    "    if state == \"request_sent\":\n",
    "        print(\"Presentation Request\\n\")\n",
    "        print(payload[\"presentation_request\"])\n",
    "        print(\"\\nThe presentation request is encoded in base64 and packaged into a DIDComm Message\\n\")\n",
    "        print(payload[\"presentation_request_dict\"])\n",
    "        print(\"\\nNote the type defines the protocol present-proof and the message request-presentation\\n\")\n",
    "        print(payload[\"presentation_request_dict\"][\"@type\"])\n",
    "    elif state == \"presentation_received\":\n",
    "        print(\"Presentation Received\")\n",
    "        print(\"We will not go into detail on this payload as it is comparable to the presentation_sent we looked at in the earlier cell.\")\n",
    "        print(\"This is the full payload\\n\")\n",
    "        print(payload)\n",
    "    else:\n",
    "        print(\"Paload \\n\")\n",
    "        print(payload)"
   ]
  },
  {
   "cell_type": "code",
   "execution_count": 8,
   "id": "a699ba68",
   "metadata": {},
   "outputs": [],
   "source": [
    "# Init listener list\n",
    "listeners = []\n",
    "\n",
    "# Add listeners defined in previous cell\n",
    "connection_listener = {\"handler\": connections_handler, \"topic\": \"connections\"}\n",
    "listeners.append(connection_listener)\n",
    "\n",
    "verifier_listener = {\"topic\": \"present_proof\", \"handler\": verifier_proof_handler}\n",
    "listeners.append(verifier_listener)\n",
    "\n",
    "# Register listeners\n",
    "agent_controller.register_listeners(listeners)"
   ]
  },
  {
   "cell_type": "markdown",
   "id": "994806ed",
   "metadata": {},
   "source": [
    "## Define Presentation Request Object\n",
    "\n",
    "The below cell defines a generic presentation request object, that can be sent across specific connections requesting that they produce a presentation containing the identified attributes and meeting the restrictions.\n",
    "\n",
    "It is often useful to define your request objects first, then reuse these objects across many connections you wish to request a proof from. \n",
    "\n",
    "Duplicate and customise the below cell as many times as you need. It may be useful to save these request objects either to the jupyter store using %store or through\n",
    "\n",
    "TODO: Detail the full set of restrictions available to a verifier."
   ]
  },
  {
   "cell_type": "code",
   "execution_count": 9,
   "id": "19779933",
   "metadata": {},
   "outputs": [],
   "source": [
    "# We add a constraint that the attribute must originate from this schema\n",
    "\n",
    "# Define the list of attributes and restrictions under which each attribute was issued that a prover must satisfy with a presentation\n",
    "# NOTE: if identifying a schema or credential definition then the attribute name must be contained within the corresponding schema.\n",
    "req_attrs = [\n",
    "    {\"name\": \"isManufacturer\", \"restrictions\": [{\"schema_id\": schema_manufacturer_id}]},\n",
    "]\n",
    "\n",
    "# We could extend this to request the name attribute aswell if we wanted.\n",
    "\n",
    "\n",
    "manufacturer_proof_request = {\n",
    "    \"name\": \"isManufacturer Proof Request\",\n",
    "    \"version\": \"1.0\",\n",
    "    \"requested_attributes\": {\n",
    "        # They generally follow this uuid pattern. Unique identifier for attribute within context of this proof request\n",
    "        # Note that req_attr['name'] gets the attribute name of each object. E.g. domain and name in this case\n",
    "        f\"0_{req_attr['name']}_uuid\":\n",
    "        req_attr for req_attr in req_attrs\n",
    "    },\n",
    "    # Predicates allow us to specify range proofs or set membership on attributes. For example greater than 10.\n",
    "    # We will ignore these for now.\n",
    "    \"requested_predicates\": {\n",
    "#         f\"0_{req_pred['name']}_GE_uuid\":\n",
    "#         req_pred for req_pred in req_preds\n",
    "    },\n",
    "    # You can also request the entire proof request be non-revoked\n",
    "    \"non_revoked\":  {\"to\": int(time.time())}\n",
    "}"
   ]
  },
  {
   "cell_type": "code",
   "execution_count": 10,
   "id": "fa026a18",
   "metadata": {},
   "outputs": [
    {
     "data": {
      "text/plain": [
       "{'name': 'isManufacturer Proof Request',\n",
       " 'version': '1.0',\n",
       " 'requested_attributes': {'0_isManufacturer_uuid': {'name': 'isManufacturer',\n",
       "   'restrictions': [{'schema_id': 'MTXSc4YD8wixyM9ekZbmMC:2:certify-manufacturer:0.0.1'}]}},\n",
       " 'requested_predicates': {},\n",
       " 'non_revoked': {'to': 1628520443}}"
      ]
     },
     "execution_count": 10,
     "metadata": {},
     "output_type": "execute_result"
    }
   ],
   "source": [
    "manufacturer_proof_request"
   ]
  },
  {
   "cell_type": "markdown",
   "id": "1eabb7e4",
   "metadata": {},
   "source": [
    "## Create Invitation\n",
    "Note the current arguments specified are in their default configurations. "
   ]
  },
  {
   "cell_type": "code",
   "execution_count": 11,
   "id": "9a3ff0de",
   "metadata": {},
   "outputs": [
    {
     "name": "stdout",
     "output_type": "stream",
     "text": [
      "----------------------------------------------------------\n",
      "Connection Webhook Event Received\n",
      "Connection ID :  4ebc01fc-d06b-44b6-9aa2-f865c4df25ff\n",
      "State :  invitation\n",
      "Routing State : none (invitation-sent)\n",
      "Their Role :  invitee\n",
      "----------------------------------------------------------\n",
      "invitation\n"
     ]
    }
   ],
   "source": [
    "alias = None # Alias for invited connection\n",
    "auto_accept = \"true\" # Auto accept response\n",
    "public = \"false\" # Don't use a public DID\n",
    "multi_use = \"true\" # Use invitation for multiple invitees\n",
    "\n",
    "invite = await agent_controller.connections.create_invitation(alias, auto_accept, public, multi_use)"
   ]
  },
  {
   "cell_type": "markdown",
   "id": "4ffc2279",
   "metadata": {},
   "source": [
    "## Share Invitation Object with External Agent\n",
    "\n",
    "Typically in this jupyter notebook playground that involves copying it across to another agent's business logic notebook where they are the invitee. (see prover_template)"
   ]
  },
  {
   "cell_type": "code",
   "execution_count": 12,
   "id": "704e414a",
   "metadata": {},
   "outputs": [
    {
     "name": "stdout",
     "output_type": "stream",
     "text": [
      "{\n",
      "    '@id': '4b978b6d-8381-406e-bbe8-c7182ebe0dc8',\n",
      "    '@type': 'did:sov:BzCbsNYhMrjHiqZDTUASHg;spec/connections/1.0/invitation',\n",
      "    'label': 'City',\n",
      "    'recipientKeys': ['842s8grD4E1x59xDyS3dnF8YwMqRFMXML5zW2KvakbZb'],\n",
      "    'serviceEndpoint': 'https://80a67f24c0cb.ngrok.io',\n",
      "}\n",
      "----------------------------------------------------------\n",
      "Connection Webhook Event Received\n",
      "Connection ID :  f6824b3d-c994-4915-86eb-7e653a74ee1f\n",
      "State :  invitation\n",
      "Routing State : none (invitation-sent)\n",
      "Their Role :  invitee\n",
      "----------------------------------------------------------\n",
      "invitation\n",
      "----------------------------------------------------------\n",
      "Connection Webhook Event Received\n",
      "Connection ID :  f6824b3d-c994-4915-86eb-7e653a74ee1f\n",
      "State :  request\n",
      "Routing State : none (request-received)\n",
      "Connection with :  Manufacturer1\n",
      "Their Role :  invitee\n",
      "----------------------------------------------------------\n",
      "request\n",
      "----------------------------------------------------------\n",
      "Connection Webhook Event Received\n",
      "Connection ID :  f6824b3d-c994-4915-86eb-7e653a74ee1f\n",
      "State :  response\n",
      "Routing State : none (response-sent)\n",
      "Connection with :  Manufacturer1\n",
      "Their Role :  invitee\n",
      "----------------------------------------------------------\n",
      "response\n",
      "----------------------------------------------------------\n",
      "Connection Webhook Event Received\n",
      "Connection ID :  f6824b3d-c994-4915-86eb-7e653a74ee1f\n",
      "State :  active\n",
      "Routing State : none (completed)\n",
      "Connection with :  Manufacturer1\n",
      "Their Role :  invitee\n",
      "----------------------------------------------------------\n",
      "\u001b[1m\u001b[32mConnection ID: f6824b3d-c994-4915-86eb-7e653a74ee1f is now active.\u001b[0m\n"
     ]
    }
   ],
   "source": [
    "invitation = invite[\"invitation\"]\n",
    "pprint(invitation) "
   ]
  },
  {
   "cell_type": "markdown",
   "id": "82d7ea8f",
   "metadata": {},
   "source": [
    "## Optional: Recieve Proof Proposal\n",
    "\n",
    "A Verifier is not the only role that can initiate the present-proof protocol. A holder can also send a proposal for a presentation that they can provide."
   ]
  },
  {
   "cell_type": "code",
   "execution_count": null,
   "id": "8abcc6f0",
   "metadata": {},
   "outputs": [],
   "source": [
    "# TODO..."
   ]
  },
  {
   "cell_type": "markdown",
   "id": "7be79153",
   "metadata": {},
   "source": [
    "## Send Proof Request\n",
    "\n",
    "This identifies a connection and a proof request object (you will need to update the variable name enclosed with <>) "
   ]
  },
  {
   "cell_type": "code",
   "execution_count": 13,
   "id": "099f14cd",
   "metadata": {},
   "outputs": [
    {
     "name": "stdout",
     "output_type": "stream",
     "text": [
      "\n",
      "---------------------------------------------------------------------\n",
      "\n",
      "Handle present-proof\n",
      "Connection ID :  f6824b3d-c994-4915-86eb-7e653a74ee1f\n",
      "Presentation Exchange ID :  3b96d36b-5192-455e-8768-a387b5310608\n",
      "Protocol State :  request_sent\n",
      "Agent Role :  verifier\n",
      "Initiator :  self\n",
      "\n",
      "---------------------------------------------------------------------\n",
      "\n",
      "Presentation Request\n",
      "\n",
      "{'nonce': '544370537991510495111363', 'name': 'isManufacturer Proof Request', 'version': '1.0', 'requested_attributes': {'0_isManufacturer_uuid': {'restrictions': [{'schema_id': 'MTXSc4YD8wixyM9ekZbmMC:2:certify-manufacturer:0.0.1'}], 'name': 'isManufacturer'}}, 'requested_predicates': {}, 'non_revoked': {'to': 1628520443}}\n",
      "\n",
      "The presentation request is encoded in base64 and packaged into a DIDComm Message\n",
      "\n",
      "{'@type': 'did:sov:BzCbsNYhMrjHiqZDTUASHg;spec/present-proof/1.0/request-presentation', '@id': 'e28a0f01-0b8e-49bb-983d-157f00b485aa', '~trace': {'target': 'log', 'full_thread': True, 'trace_reports': []}, 'comment': 'Please prove that you are an agent who is a certified manufacturer', 'request_presentations~attach': [{'@id': 'libindy-request-presentation-0', 'mime-type': 'application/json', 'data': {'base64': 'eyJuYW1lIjogImlzTWFudWZhY3R1cmVyIFByb29mIFJlcXVlc3QiLCAidmVyc2lvbiI6ICIxLjAiLCAicmVxdWVzdGVkX2F0dHJpYnV0ZXMiOiB7IjBfaXNNYW51ZmFjdHVyZXJfdXVpZCI6IHsibmFtZSI6ICJpc01hbnVmYWN0dXJlciIsICJyZXN0cmljdGlvbnMiOiBbeyJzY2hlbWFfaWQiOiAiTVRYU2M0WUQ4d2l4eU05ZWtaYm1NQzoyOmNlcnRpZnktbWFudWZhY3R1cmVyOjAuMC4xIn1dfX0sICJyZXF1ZXN0ZWRfcHJlZGljYXRlcyI6IHt9LCAibm9uX3Jldm9rZWQiOiB7InRvIjogMTYyODUyMDQ0M30sICJub25jZSI6ICI1NDQzNzA1Mzc5OTE1MTA0OTUxMTEzNjMifQ=='}}]}\n",
      "\n",
      "Note the type defines the protocol present-proof and the message request-presentation\n",
      "\n",
      "did:sov:BzCbsNYhMrjHiqZDTUASHg;spec/present-proof/1.0/request-presentation\n",
      "\n",
      "---------------------------------------------------------------------\n",
      "\n",
      "Handle present-proof\n",
      "Connection ID :  f6824b3d-c994-4915-86eb-7e653a74ee1f\n",
      "Presentation Exchange ID :  3b96d36b-5192-455e-8768-a387b5310608\n",
      "Protocol State :  presentation_received\n",
      "Agent Role :  verifier\n",
      "Initiator :  self\n",
      "\n",
      "---------------------------------------------------------------------\n",
      "\n",
      "Presentation Received\n",
      "We will not go into detail on this payload as it is comparable to the presentation_sent we looked at in the earlier cell.\n",
      "This is the full payload\n",
      "\n",
      "{'connection_id': 'f6824b3d-c994-4915-86eb-7e653a74ee1f', 'presentation_exchange_id': '3b96d36b-5192-455e-8768-a387b5310608', 'thread_id': 'e28a0f01-0b8e-49bb-983d-157f00b485aa', 'auto_present': False, 'initiator': 'self', 'trace': True, 'presentation_request': {'nonce': '544370537991510495111363', 'name': 'isManufacturer Proof Request', 'version': '1.0', 'requested_attributes': {'0_isManufacturer_uuid': {'restrictions': [{'schema_id': 'MTXSc4YD8wixyM9ekZbmMC:2:certify-manufacturer:0.0.1'}], 'name': 'isManufacturer'}}, 'requested_predicates': {}, 'non_revoked': {'to': 1628520443}}, 'presentation': {'proof': {'proofs': [{'primary_proof': {'eq_proof': {'revealed_attrs': {'ismanufacturer': '101276561079705913907459647512048005855328137776566494081283796781441440993409'}, 'a_prime': '68538606484741577597416790060018185640495006653054521454444353732998479644253611931462894653790548698618132960073516558580459479631470958339407955801935526629754613363001222677308429477363359069194124913174996035460008518628022622614525813708441284476999459208147383020368991369903275468085040416752188971678270674773443081781810720551601811429689048466213553297812494366149703619179859874980909372302228837775104539658530253758140201272088352081101828698834509367182769234298738183545546603647556178244226975612749024672954844291558684098544519734937121554688416642763728731567185709280270410290998606068530751018222', 'e': '46093822673739427176600875301009736735588582767136928452664178413123602674143919235750014827675287541949262455737351813066978951477452952', 'v': '1173029913118198055946195338334240451521116014211967022197877348906006420687012161332161315821484771198868049888635059208113851034016891447081376324151563899778830123313683727461992589545240650906290448261756411159165254002433399425907714721857914930263720483860573427702442517354806425177944538284064562980442957757466334355984932551787718308791376700947723664021629027713684096112147749538352594602851224015895241747967185309702027259487488693109458506923375302002475466694350647275991401038665892053045950309226871812732224178100946408203070612698993834764257248310888771645688114674371078874686150885443209471480366515602647716163735372287922340231442828850980611053353277846628854509935765144866694898095031692005850764735169229305032402469330884656835174563513663721961619129845615006647914098660466334788740999089270573807493022751581255173160716626675294632672202554117617992051007392332488107949157529285793869425', 'm': {'manufacturername': '13565175587991455124212426211463751615357271417193920066047439939509294136472275942674900548618642206038144159161777493756283807747814750309743584275059535189453871749446595724102', 'manufacturercity': '3467981631293276366057386802355639367150398718908954523640736917076479921870446055689496872377560229257746534609109163723944518408889274492362606140585923651861758726639351287904', 'master_secret': '7629827786693705849665213956036647815611372844079964777316170801227735400272066757391930753540719922430975837448038248382464706929279310336091488731914813830085633234534926283324', 'manufacturercountry': '2045803323883315369037106666648826488552621888855509191693578632112932722243677026298386282923429215218517963510911779721229497349653924284768416629647038417853346079169833546360'}, 'm2': '9408156128167638512961938605228205331726786319421085168976875753650202312838964535516669710547795581187598765213103916963929890169735273217109609004465548299762980576962709983317'}, 'ge_proofs': []}}], 'aggregated_proof': {'c_hash': '32215623138092369478859969636460077092475359028824878912144397629717406757614', 'c_list': [[2, 30, 238, 43, 25, 81, 187, 44, 206, 205, 75, 146, 46, 70, 22, 191, 91, 121, 233, 251, 127, 230, 16, 219, 46, 200, 50, 38, 208, 119, 249, 205, 213, 100, 30, 219, 212, 95, 106, 122, 213, 63, 214, 120, 95, 184, 79, 20, 118, 87, 33, 194, 69, 196, 253, 1, 54, 250, 103, 35, 253, 154, 225, 234, 41, 94, 160, 175, 14, 213, 69, 212, 63, 0, 70, 207, 177, 86, 206, 91, 166, 163, 108, 5, 149, 215, 117, 248, 189, 63, 69, 233, 139, 135, 171, 150, 51, 250, 85, 65, 22, 59, 16, 87, 42, 96, 207, 255, 142, 64, 118, 64, 65, 70, 4, 157, 228, 157, 50, 137, 159, 107, 78, 225, 149, 63, 106, 149, 8, 49, 121, 198, 119, 145, 37, 14, 177, 236, 228, 72, 189, 174, 98, 83, 232, 76, 236, 204, 153, 208, 213, 94, 172, 120, 108, 82, 117, 162, 57, 251, 97, 143, 153, 134, 17, 7, 216, 102, 80, 116, 177, 46, 44, 198, 41, 161, 159, 188, 254, 90, 201, 14, 78, 48, 71, 65, 89, 200, 255, 59, 120, 200, 61, 250, 98, 61, 247, 245, 14, 67, 196, 132, 154, 109, 191, 154, 187, 133, 246, 252, 238, 121, 165, 84, 249, 218, 156, 146, 115, 87, 76, 182, 13, 109, 82, 19, 77, 176, 59, 205, 12, 121, 229, 70, 187, 52, 44, 218, 193, 63, 212, 83, 243, 86, 210, 41, 106, 93, 43, 170, 177, 174, 107, 104, 13, 20, 238]]}}, 'requested_proof': {'revealed_attrs': {'0_isManufacturer_uuid': {'raw': 'TRUE', 'sub_proof_index': 0, 'encoded': '101276561079705913907459647512048005855328137776566494081283796781441440993409'}}, 'self_attested_attrs': {}, 'unrevealed_attrs': {}, 'predicates': {}}, 'identifiers': [{'schema_id': 'MTXSc4YD8wixyM9ekZbmMC:2:certify-manufacturer:0.0.1', 'cred_def_id': 'MTXSc4YD8wixyM9ekZbmMC:3:CL:246687:default'}]}, 'state': 'presentation_received', 'updated_at': '2021-08-09 14:48:59.585737Z', 'role': 'verifier', 'created_at': '2021-08-09 14:48:05.638441Z', 'presentation_request_dict': {'@type': 'did:sov:BzCbsNYhMrjHiqZDTUASHg;spec/present-proof/1.0/request-presentation', '@id': 'e28a0f01-0b8e-49bb-983d-157f00b485aa', '~trace': {'target': 'log', 'full_thread': True, 'trace_reports': []}, 'comment': 'Please prove that you are an agent who is a certified manufacturer', 'request_presentations~attach': [{'@id': 'libindy-request-presentation-0', 'mime-type': 'application/json', 'data': {'base64': 'eyJuYW1lIjogImlzTWFudWZhY3R1cmVyIFByb29mIFJlcXVlc3QiLCAidmVyc2lvbiI6ICIxLjAiLCAicmVxdWVzdGVkX2F0dHJpYnV0ZXMiOiB7IjBfaXNNYW51ZmFjdHVyZXJfdXVpZCI6IHsibmFtZSI6ICJpc01hbnVmYWN0dXJlciIsICJyZXN0cmljdGlvbnMiOiBbeyJzY2hlbWFfaWQiOiAiTVRYU2M0WUQ4d2l4eU05ZWtaYm1NQzoyOmNlcnRpZnktbWFudWZhY3R1cmVyOjAuMC4xIn1dfX0sICJyZXF1ZXN0ZWRfcHJlZGljYXRlcyI6IHt9LCAibm9uX3Jldm9rZWQiOiB7InRvIjogMTYyODUyMDQ0M30sICJub25jZSI6ICI1NDQzNzA1Mzc5OTE1MTA0OTUxMTEzNjMifQ=='}}]}}\n"
     ]
    }
   ],
   "source": [
    "# Step 1\n",
    "\n",
    "proof_request = {\n",
    "    \"comment\": \"Please prove that you are an agent who is a certified manufacturer\",\n",
    "    \"connection_id\": CONNECTION_ID,\n",
    "    \"proof_request\": manufacturer_proof_request,\n",
    "    # Do you want your agent to trace this request (for debugging)\n",
    "    \"trace\": True\n",
    "}\n",
    "\n",
    "proof_request_response = await agent_controller.proofs.send_request(proof_request)"
   ]
  },
  {
   "cell_type": "markdown",
   "id": "b9ce6120",
   "metadata": {},
   "source": [
    "*I THINK* **Break point**: see step 2\n",
    "\n",
    "---\n",
    "\n",
    "## Get Presentation Exchange Record\n",
    "\n",
    "This record keeps track of the current state of the presentation protocol, which must be in the `presentation_received` state before the presentation can be verified.\n",
    "\n",
    "Note: This could also happen in the webhook logic."
   ]
  },
  {
   "cell_type": "code",
   "execution_count": null,
   "id": "33e448b5",
   "metadata": {},
   "outputs": [],
   "source": []
  },
  {
   "cell_type": "code",
   "execution_count": 14,
   "id": "61f29a75",
   "metadata": {},
   "outputs": [
    {
     "name": "stdout",
     "output_type": "stream",
     "text": [
      "{'connection_id': 'f6824b3d-c994-4915-86eb-7e653a74ee1f', 'presentation_exchange_id': '3b96d36b-5192-455e-8768-a387b5310608', 'thread_id': 'e28a0f01-0b8e-49bb-983d-157f00b485aa', 'auto_present': False, 'initiator': 'self', 'trace': True, 'presentation_request': {'nonce': '544370537991510495111363', 'name': 'isManufacturer Proof Request', 'version': '1.0', 'requested_attributes': {'0_isManufacturer_uuid': {'restrictions': [{'schema_id': 'MTXSc4YD8wixyM9ekZbmMC:2:certify-manufacturer:0.0.1'}], 'name': 'isManufacturer'}}, 'requested_predicates': {}, 'non_revoked': {'to': 1628520443}}, 'presentation': {'proof': {'proofs': [{'primary_proof': {'eq_proof': {'revealed_attrs': {'ismanufacturer': '101276561079705913907459647512048005855328137776566494081283796781441440993409'}, 'a_prime': '68538606484741577597416790060018185640495006653054521454444353732998479644253611931462894653790548698618132960073516558580459479631470958339407955801935526629754613363001222677308429477363359069194124913174996035460008518628022622614525813708441284476999459208147383020368991369903275468085040416752188971678270674773443081781810720551601811429689048466213553297812494366149703619179859874980909372302228837775104539658530253758140201272088352081101828698834509367182769234298738183545546603647556178244226975612749024672954844291558684098544519734937121554688416642763728731567185709280270410290998606068530751018222', 'e': '46093822673739427176600875301009736735588582767136928452664178413123602674143919235750014827675287541949262455737351813066978951477452952', 'v': '1173029913118198055946195338334240451521116014211967022197877348906006420687012161332161315821484771198868049888635059208113851034016891447081376324151563899778830123313683727461992589545240650906290448261756411159165254002433399425907714721857914930263720483860573427702442517354806425177944538284064562980442957757466334355984932551787718308791376700947723664021629027713684096112147749538352594602851224015895241747967185309702027259487488693109458506923375302002475466694350647275991401038665892053045950309226871812732224178100946408203070612698993834764257248310888771645688114674371078874686150885443209471480366515602647716163735372287922340231442828850980611053353277846628854509935765144866694898095031692005850764735169229305032402469330884656835174563513663721961619129845615006647914098660466334788740999089270573807493022751581255173160716626675294632672202554117617992051007392332488107949157529285793869425', 'm': {'manufacturername': '13565175587991455124212426211463751615357271417193920066047439939509294136472275942674900548618642206038144159161777493756283807747814750309743584275059535189453871749446595724102', 'manufacturercity': '3467981631293276366057386802355639367150398718908954523640736917076479921870446055689496872377560229257746534609109163723944518408889274492362606140585923651861758726639351287904', 'master_secret': '7629827786693705849665213956036647815611372844079964777316170801227735400272066757391930753540719922430975837448038248382464706929279310336091488731914813830085633234534926283324', 'manufacturercountry': '2045803323883315369037106666648826488552621888855509191693578632112932722243677026298386282923429215218517963510911779721229497349653924284768416629647038417853346079169833546360'}, 'm2': '9408156128167638512961938605228205331726786319421085168976875753650202312838964535516669710547795581187598765213103916963929890169735273217109609004465548299762980576962709983317'}, 'ge_proofs': []}}], 'aggregated_proof': {'c_hash': '32215623138092369478859969636460077092475359028824878912144397629717406757614', 'c_list': [[2, 30, 238, 43, 25, 81, 187, 44, 206, 205, 75, 146, 46, 70, 22, 191, 91, 121, 233, 251, 127, 230, 16, 219, 46, 200, 50, 38, 208, 119, 249, 205, 213, 100, 30, 219, 212, 95, 106, 122, 213, 63, 214, 120, 95, 184, 79, 20, 118, 87, 33, 194, 69, 196, 253, 1, 54, 250, 103, 35, 253, 154, 225, 234, 41, 94, 160, 175, 14, 213, 69, 212, 63, 0, 70, 207, 177, 86, 206, 91, 166, 163, 108, 5, 149, 215, 117, 248, 189, 63, 69, 233, 139, 135, 171, 150, 51, 250, 85, 65, 22, 59, 16, 87, 42, 96, 207, 255, 142, 64, 118, 64, 65, 70, 4, 157, 228, 157, 50, 137, 159, 107, 78, 225, 149, 63, 106, 149, 8, 49, 121, 198, 119, 145, 37, 14, 177, 236, 228, 72, 189, 174, 98, 83, 232, 76, 236, 204, 153, 208, 213, 94, 172, 120, 108, 82, 117, 162, 57, 251, 97, 143, 153, 134, 17, 7, 216, 102, 80, 116, 177, 46, 44, 198, 41, 161, 159, 188, 254, 90, 201, 14, 78, 48, 71, 65, 89, 200, 255, 59, 120, 200, 61, 250, 98, 61, 247, 245, 14, 67, 196, 132, 154, 109, 191, 154, 187, 133, 246, 252, 238, 121, 165, 84, 249, 218, 156, 146, 115, 87, 76, 182, 13, 109, 82, 19, 77, 176, 59, 205, 12, 121, 229, 70, 187, 52, 44, 218, 193, 63, 212, 83, 243, 86, 210, 41, 106, 93, 43, 170, 177, 174, 107, 104, 13, 20, 238]]}}, 'requested_proof': {'revealed_attrs': {'0_isManufacturer_uuid': {'raw': 'TRUE', 'sub_proof_index': 0, 'encoded': '101276561079705913907459647512048005855328137776566494081283796781441440993409'}}, 'self_attested_attrs': {}, 'unrevealed_attrs': {}, 'predicates': {}}, 'identifiers': [{'schema_id': 'MTXSc4YD8wixyM9ekZbmMC:2:certify-manufacturer:0.0.1', 'cred_def_id': 'MTXSc4YD8wixyM9ekZbmMC:3:CL:246687:default'}]}, 'state': 'presentation_received', 'updated_at': '2021-08-09 14:48:59.585737Z', 'role': 'verifier', 'created_at': '2021-08-09 14:48:05.638441Z', 'presentation_request_dict': {'@type': 'did:sov:BzCbsNYhMrjHiqZDTUASHg;spec/present-proof/1.0/request-presentation', '@id': 'e28a0f01-0b8e-49bb-983d-157f00b485aa', '~trace': {'target': 'log', 'full_thread': True, 'trace_reports': []}, 'comment': 'Please prove that you are an agent who is a certified manufacturer', 'request_presentations~attach': [{'@id': 'libindy-request-presentation-0', 'mime-type': 'application/json', 'data': {'base64': 'eyJuYW1lIjogImlzTWFudWZhY3R1cmVyIFByb29mIFJlcXVlc3QiLCAidmVyc2lvbiI6ICIxLjAiLCAicmVxdWVzdGVkX2F0dHJpYnV0ZXMiOiB7IjBfaXNNYW51ZmFjdHVyZXJfdXVpZCI6IHsibmFtZSI6ICJpc01hbnVmYWN0dXJlciIsICJyZXN0cmljdGlvbnMiOiBbeyJzY2hlbWFfaWQiOiAiTVRYU2M0WUQ4d2l4eU05ZWtaYm1NQzoyOmNlcnRpZnktbWFudWZhY3R1cmVyOjAuMC4xIn1dfX0sICJyZXF1ZXN0ZWRfcHJlZGljYXRlcyI6IHt9LCAibm9uX3Jldm9rZWQiOiB7InRvIjogMTYyODUyMDQ0M30sICJub25jZSI6ICI1NDQzNzA1Mzc5OTE1MTA0OTUxMTEzNjMifQ=='}}]}}\n"
     ]
    }
   ],
   "source": [
    "presentation_exchange_id = proof_request_response[\"presentation_exchange_id\"]\n",
    "pres_record = await agent_controller.proofs.get_record_by_id(presentation_exchange_id)\n",
    "print(pres_record)"
   ]
  },
  {
   "cell_type": "markdown",
   "id": "6d2184d9",
   "metadata": {},
   "source": [
    "## Verify Presentation\n",
    "\n",
    "Only if it is in the right state. \n",
    "\n",
    "Note: Verifying a presentation moves the state to `verified` regardless of whether the presentation request has been satisfied. To check this you must refer to the `verified` property on the response."
   ]
  },
  {
   "cell_type": "code",
   "execution_count": 15,
   "id": "887dda2a",
   "metadata": {},
   "outputs": [
    {
     "name": "stdout",
     "output_type": "stream",
     "text": [
      "\n",
      "---------------------------------------------------------------------\n",
      "\n",
      "Handle present-proof\n",
      "Connection ID :  f6824b3d-c994-4915-86eb-7e653a74ee1f\n",
      "Presentation Exchange ID :  3b96d36b-5192-455e-8768-a387b5310608\n",
      "Protocol State :  verified\n",
      "Agent Role :  verifier\n",
      "Initiator :  self\n",
      "\n",
      "---------------------------------------------------------------------\n",
      "\n",
      "Paload \n",
      "\n",
      "{'connection_id': 'f6824b3d-c994-4915-86eb-7e653a74ee1f', 'presentation_exchange_id': '3b96d36b-5192-455e-8768-a387b5310608', 'thread_id': 'e28a0f01-0b8e-49bb-983d-157f00b485aa', 'auto_present': False, 'initiator': 'self', 'trace': True, 'presentation_request': {'nonce': '544370537991510495111363', 'name': 'isManufacturer Proof Request', 'version': '1.0', 'requested_attributes': {'0_isManufacturer_uuid': {'restrictions': [{'schema_id': 'MTXSc4YD8wixyM9ekZbmMC:2:certify-manufacturer:0.0.1'}], 'name': 'isManufacturer'}}, 'requested_predicates': {}, 'non_revoked': {'to': 1628520443}}, 'presentation': {'proof': {'proofs': [{'primary_proof': {'eq_proof': {'revealed_attrs': {'ismanufacturer': '101276561079705913907459647512048005855328137776566494081283796781441440993409'}, 'a_prime': '68538606484741577597416790060018185640495006653054521454444353732998479644253611931462894653790548698618132960073516558580459479631470958339407955801935526629754613363001222677308429477363359069194124913174996035460008518628022622614525813708441284476999459208147383020368991369903275468085040416752188971678270674773443081781810720551601811429689048466213553297812494366149703619179859874980909372302228837775104539658530253758140201272088352081101828698834509367182769234298738183545546603647556178244226975612749024672954844291558684098544519734937121554688416642763728731567185709280270410290998606068530751018222', 'e': '46093822673739427176600875301009736735588582767136928452664178413123602674143919235750014827675287541949262455737351813066978951477452952', 'v': '1173029913118198055946195338334240451521116014211967022197877348906006420687012161332161315821484771198868049888635059208113851034016891447081376324151563899778830123313683727461992589545240650906290448261756411159165254002433399425907714721857914930263720483860573427702442517354806425177944538284064562980442957757466334355984932551787718308791376700947723664021629027713684096112147749538352594602851224015895241747967185309702027259487488693109458506923375302002475466694350647275991401038665892053045950309226871812732224178100946408203070612698993834764257248310888771645688114674371078874686150885443209471480366515602647716163735372287922340231442828850980611053353277846628854509935765144866694898095031692005850764735169229305032402469330884656835174563513663721961619129845615006647914098660466334788740999089270573807493022751581255173160716626675294632672202554117617992051007392332488107949157529285793869425', 'm': {'manufacturername': '13565175587991455124212426211463751615357271417193920066047439939509294136472275942674900548618642206038144159161777493756283807747814750309743584275059535189453871749446595724102', 'manufacturercity': '3467981631293276366057386802355639367150398718908954523640736917076479921870446055689496872377560229257746534609109163723944518408889274492362606140585923651861758726639351287904', 'master_secret': '7629827786693705849665213956036647815611372844079964777316170801227735400272066757391930753540719922430975837448038248382464706929279310336091488731914813830085633234534926283324', 'manufacturercountry': '2045803323883315369037106666648826488552621888855509191693578632112932722243677026298386282923429215218517963510911779721229497349653924284768416629647038417853346079169833546360'}, 'm2': '9408156128167638512961938605228205331726786319421085168976875753650202312838964535516669710547795581187598765213103916963929890169735273217109609004465548299762980576962709983317'}, 'ge_proofs': []}}], 'aggregated_proof': {'c_hash': '32215623138092369478859969636460077092475359028824878912144397629717406757614', 'c_list': [[2, 30, 238, 43, 25, 81, 187, 44, 206, 205, 75, 146, 46, 70, 22, 191, 91, 121, 233, 251, 127, 230, 16, 219, 46, 200, 50, 38, 208, 119, 249, 205, 213, 100, 30, 219, 212, 95, 106, 122, 213, 63, 214, 120, 95, 184, 79, 20, 118, 87, 33, 194, 69, 196, 253, 1, 54, 250, 103, 35, 253, 154, 225, 234, 41, 94, 160, 175, 14, 213, 69, 212, 63, 0, 70, 207, 177, 86, 206, 91, 166, 163, 108, 5, 149, 215, 117, 248, 189, 63, 69, 233, 139, 135, 171, 150, 51, 250, 85, 65, 22, 59, 16, 87, 42, 96, 207, 255, 142, 64, 118, 64, 65, 70, 4, 157, 228, 157, 50, 137, 159, 107, 78, 225, 149, 63, 106, 149, 8, 49, 121, 198, 119, 145, 37, 14, 177, 236, 228, 72, 189, 174, 98, 83, 232, 76, 236, 204, 153, 208, 213, 94, 172, 120, 108, 82, 117, 162, 57, 251, 97, 143, 153, 134, 17, 7, 216, 102, 80, 116, 177, 46, 44, 198, 41, 161, 159, 188, 254, 90, 201, 14, 78, 48, 71, 65, 89, 200, 255, 59, 120, 200, 61, 250, 98, 61, 247, 245, 14, 67, 196, 132, 154, 109, 191, 154, 187, 133, 246, 252, 238, 121, 165, 84, 249, 218, 156, 146, 115, 87, 76, 182, 13, 109, 82, 19, 77, 176, 59, 205, 12, 121, 229, 70, 187, 52, 44, 218, 193, 63, 212, 83, 243, 86, 210, 41, 106, 93, 43, 170, 177, 174, 107, 104, 13, 20, 238]]}}, 'requested_proof': {'revealed_attrs': {'0_isManufacturer_uuid': {'raw': 'TRUE', 'sub_proof_index': 0, 'encoded': '101276561079705913907459647512048005855328137776566494081283796781441440993409'}}, 'self_attested_attrs': {}, 'unrevealed_attrs': {}, 'predicates': {}}, 'identifiers': [{'schema_id': 'MTXSc4YD8wixyM9ekZbmMC:2:certify-manufacturer:0.0.1', 'cred_def_id': 'MTXSc4YD8wixyM9ekZbmMC:3:CL:246687:default'}]}, 'state': 'verified', 'updated_at': '2021-08-09 14:50:00.575397Z', 'verified': 'true', 'role': 'verifier', 'created_at': '2021-08-09 14:48:05.638441Z', 'presentation_request_dict': {'@type': 'did:sov:BzCbsNYhMrjHiqZDTUASHg;spec/present-proof/1.0/request-presentation', '@id': 'e28a0f01-0b8e-49bb-983d-157f00b485aa', '~trace': {'target': 'log', 'full_thread': True, 'trace_reports': []}, 'comment': 'Please prove that you are an agent who is a certified manufacturer', 'request_presentations~attach': [{'@id': 'libindy-request-presentation-0', 'mime-type': 'application/json', 'data': {'base64': 'eyJuYW1lIjogImlzTWFudWZhY3R1cmVyIFByb29mIFJlcXVlc3QiLCAidmVyc2lvbiI6ICIxLjAiLCAicmVxdWVzdGVkX2F0dHJpYnV0ZXMiOiB7IjBfaXNNYW51ZmFjdHVyZXJfdXVpZCI6IHsibmFtZSI6ICJpc01hbnVmYWN0dXJlciIsICJyZXN0cmljdGlvbnMiOiBbeyJzY2hlbWFfaWQiOiAiTVRYU2M0WUQ4d2l4eU05ZWtaYm1NQzoyOmNlcnRpZnktbWFudWZhY3R1cmVyOjAuMC4xIn1dfX0sICJyZXF1ZXN0ZWRfcHJlZGljYXRlcyI6IHt9LCAibm9uX3Jldm9rZWQiOiB7InRvIjogMTYyODUyMDQ0M30sICJub25jZSI6ICI1NDQzNzA1Mzc5OTE1MTA0OTUxMTEzNjMifQ=='}}]}}\n"
     ]
    }
   ],
   "source": [
    "verified_response = await agent_controller.proofs.verify_presentation(presentation_exchange_id)\n",
    "\n",
    "verified = verified_response[\"verified\"]"
   ]
  },
  {
   "cell_type": "markdown",
   "id": "fafc6f01",
   "metadata": {
    "tags": []
   },
   "source": [
    "## Parsing Disclosed Attribute Values from Presentation\n",
    "\n",
    "A presentation object contains three classes of attributes. \n",
    "* Revealed Attributes: Attributes that were signed by an issuer and have been revealed in the presentation process\n",
    "* Self Attested Attributes: Attributes that the prover has self attested to in the presentation object.\n",
    "* Predicate proofs: Attribute values that have been proven to meet some statement. (TODO: Show how you can parse this information)"
   ]
  },
  {
   "cell_type": "markdown",
   "id": "e73cefed",
   "metadata": {},
   "source": [
    "### Parse Revealed Attributes"
   ]
  },
  {
   "cell_type": "code",
   "execution_count": 16,
   "id": "64de8edd",
   "metadata": {},
   "outputs": [
    {
     "name": "stdout",
     "output_type": "stream",
     "text": [
      "\n",
      "Attribute :  {'raw': 'TRUE', 'sub_proof_index': 0, 'encoded': '101276561079705913907459647512048005855328137776566494081283796781441440993409'}\n",
      "Attribute Name :  Raw Value\n",
      "isManufacturer   :  TRUE\n"
     ]
    }
   ],
   "source": [
    "for (name, val) in verified_response['presentation']['requested_proof']['revealed_attrs'].items():\n",
    "    ## This is the actual data that you want. It's a little hidden\n",
    "    print(\"\\nAttribute : \", val)\n",
    "    \n",
    "    attr_name = verified_response[\"presentation_request\"][\"requested_attributes\"][name][\"name\"]\n",
    "    print(\"Attribute Name :  Raw Value\")\n",
    "    print(f\"{attr_name}   :  {val['raw']}\")"
   ]
  },
  {
   "cell_type": "markdown",
   "id": "5500197f",
   "metadata": {},
   "source": [
    "### Parse Self-Attested Attributes"
   ]
  },
  {
   "cell_type": "code",
   "execution_count": 18,
   "id": "7dc6242a",
   "metadata": {},
   "outputs": [],
   "source": [
    "for (name, val) in verified_response['presentation']['requested_proof']['self_attested_attrs'].items():\n",
    "    print(name)\n",
    "    ## Slightly different for self attested attrs\n",
    "    print(val)"
   ]
  },
  {
   "cell_type": "markdown",
   "id": "f29dd8e5",
   "metadata": {},
   "source": [
    "## Your Own Business Logic\n",
    "\n",
    "Now you should have an established, active connection you can write any custom logic you want to engage with protocols with the connection"
   ]
  },
  {
   "cell_type": "code",
   "execution_count": null,
   "id": "e2a8bb8a",
   "metadata": {},
   "outputs": [],
   "source": [
    "# Imports\n",
    "import torch\n",
    "import syft as sy\n",
    "\n",
    "from sympc.session import Session\n",
    "from sympc.session import SessionManager\n",
    "from sympc.tensor import MPCTensor"
   ]
  },
  {
   "cell_type": "code",
   "execution_count": 2,
   "id": "299636b5",
   "metadata": {},
   "outputs": [
    {
     "name": "stdout",
     "output_type": "stream",
     "text": [
      "🎤  🎸  ♪♪♪ Starting Duet ♫♫♫  🎻  🎹\n",
      "\n",
      "♫♫♫ >\u001b[93m DISCLAIMER\u001b[0m: \u001b[1mDuet is an experimental feature currently in beta.\n",
      "♫♫♫ > Use at your own risk.\n",
      "\u001b[0m\n",
      "\u001b[1m\n",
      "    > ❤️ \u001b[91mLove\u001b[0m \u001b[92mDuet\u001b[0m? \u001b[93mPlease\u001b[0m \u001b[94mconsider\u001b[0m \u001b[95msupporting\u001b[0m \u001b[91mour\u001b[0m \u001b[93mcommunity!\u001b[0m\n",
      "    > https://github.com/sponsors/OpenMined\u001b[1m\n",
      "\n",
      "♫♫♫ > Punching through firewall to OpenGrid Network Node at:\n",
      "♫♫♫ > http://ec2-18-218-7-180.us-east-2.compute.amazonaws.com:5000\n",
      "♫♫♫ >\n",
      "♫♫♫ > ...waiting for response from OpenGrid Network... \n",
      "♫♫♫ > \u001b[92mDONE!\u001b[0m\n",
      "♫♫♫ > Duet Server ID: \u001b[1mc119db5cdf423888d5a631b1f568b720\u001b[0m\n",
      "\n",
      "♫♫♫ > \u001b[95mSTEP 1:\u001b[0m Send the following code to your Duet Partner!\n",
      "\n",
      "import syft as sy\n",
      "duet = sy.duet(\"\u001b[1mc119db5cdf423888d5a631b1f568b720\u001b[0m\")\n",
      "\n",
      "♫♫♫ > \u001b[95mSTEP 2:\u001b[0m Ask your partner for their Client ID and enter it below!\n"
     ]
    },
    {
     "name": "stdin",
     "output_type": "stream",
     "text": [
      "♫♫♫ > Duet Partner's Client ID:  ff29b1c96f3d59db8d163ae3a61299ad\n"
     ]
    },
    {
     "name": "stdout",
     "output_type": "stream",
     "text": [
      "\n",
      "♫♫♫ > Connecting...\n",
      "\n",
      "♫♫♫ > \u001b[92mCONNECTED!\u001b[0m\n",
      "\n",
      "♫♫♫ > DUET LIVE STATUS  -  Objects: 3  Requests: 0   Messages: 21  Request Handlers: 0                                \r"
     ]
    }
   ],
   "source": [
    "# Step 1: Create duet\n",
    "duet_ds = sy.launch_duet()"
   ]
  },
  {
   "cell_type": "code",
   "execution_count": 3,
   "id": "aa552826",
   "metadata": {},
   "outputs": [
    {
     "name": "stdout",
     "output_type": "stream",
     "text": [
      "🎤  🎸  ♪♪♪ Joining Duet ♫♫♫  🎻  🎹\n",
      "\n",
      "♫♫♫ >\u001b[93m DISCLAIMER\u001b[0m: \u001b[1mDuet is an experimental feature currently in beta.\n",
      "♫♫♫ > Use at your own risk.\n",
      "\u001b[0m\n",
      "\u001b[1m\n",
      "    > ❤️ \u001b[91mLove\u001b[0m \u001b[92mDuet\u001b[0m? \u001b[93mPlease\u001b[0m \u001b[94mconsider\u001b[0m \u001b[95msupporting\u001b[0m \u001b[91mour\u001b[0m \u001b[93mcommunity!\u001b[0m\n",
      "    > https://github.com/sponsors/OpenMined\u001b[1m\n",
      "\n",
      "♫♫♫ > Punching through firewall to OpenGrid Network Node at:\n",
      "♫♫♫ > http://ec2-18-218-7-180.us-east-2.compute.amazonaws.com:5000\n",
      "♫♫♫ >\n",
      "♫♫♫ > ...waiting for response from OpenGrid Network... \n",
      "♫♫♫ > \u001b[92mDONE!\u001b[0m\n",
      "\n",
      "♫♫♫ > \u001b[95mSTEP 1:\u001b[0m Send the following Duet Client ID to your duet partner!\n",
      "♫♫♫ > Duet Client ID: \u001b[1m5f521eaa1db551edb939fda2fba098f2\u001b[0m\n",
      "\n",
      "♫♫♫ > ...waiting for partner to connect...\n",
      "\n",
      "♫♫♫ > \u001b[92mCONNECTED!\u001b[0m\n",
      "<sympc.session.session.Session object at 0x7fa9a7117f40>\n"
     ]
    }
   ],
   "source": [
    "# Step 4: Connect to duet of M1\n",
    "duet_m1 = sy.duet(\"bf2a7a2d63c30294c9bfa5c61ea9be9e\")"
   ]
  },
  {
   "cell_type": "markdown",
   "id": "d16fa4a2",
   "metadata": {},
   "source": [
    "## 2 - Secure Multi-Party Computation"
   ]
  },
  {
   "cell_type": "code",
   "execution_count": 9,
   "id": "9098a4ec",
   "metadata": {
    "collapsed": false,
    "jupyter": {
     "outputs_hidden": false
    },
    "pycharm": {
     "name": "#%%\n"
    }
   },
   "outputs": [
    {
     "name": "stdout",
     "output_type": "stream",
     "text": [
      "<sympc.session.session.Session object at 0x7fa9a4100640>\n"
     ]
    }
   ],
   "source": [
    "# Step 5: Setup session with all duets\n",
    "session = Session(parties=[duet_ds, duet_m1])\n",
    "print(session)"
   ]
  },
  {
   "cell_type": "code",
   "execution_count": 10,
   "id": "3d7588b8",
   "metadata": {
    "collapsed": false,
    "jupyter": {
     "outputs_hidden": false
    },
    "pycharm": {
     "name": "#%%\n"
    }
   },
   "outputs": [],
   "source": [
    "# Step 6: Setup MPC session\n",
    "SessionManager.setup_mpc(session)"
   ]
  },
  {
   "cell_type": "code",
   "execution_count": null,
   "id": "43644980",
   "metadata": {
    "collapsed": false,
    "jupyter": {
     "outputs_hidden": false
    },
    "pycharm": {
     "name": "#%%\n"
    }
   },
   "outputs": [],
   "source": [
    "# Step 7: NOW we're ready to set up private operaitions\n",
    "duet_m1.store.pandas"
   ]
  },
  {
   "cell_type": "code",
   "execution_count": 12,
   "id": "da3b4add",
   "metadata": {
    "collapsed": false,
    "jupyter": {
     "outputs_hidden": false
    },
    "pycharm": {
     "name": "#%%\n"
    }
   },
   "outputs": [
    {
     "ename": "KeyboardInterrupt",
     "evalue": "",
     "output_type": "error",
     "traceback": [
      "\u001b[0;31m---------------------------------------------------------------------------\u001b[0m",
      "\u001b[0;31mKeyboardInterrupt\u001b[0m                         Traceback (most recent call last)",
      "\u001b[0;32m/tmp/ipykernel_144/1770084420.py\u001b[0m in \u001b[0;36m<module>\u001b[0;34m\u001b[0m\n\u001b[1;32m      1\u001b[0m \u001b[0;31m# Step 12: basic operations\u001b[0m\u001b[0;34m\u001b[0m\u001b[0;34m\u001b[0m\u001b[0;34m\u001b[0m\u001b[0m\n\u001b[0;32m----> 2\u001b[0;31m \u001b[0mx_secret\u001b[0m \u001b[0;34m=\u001b[0m \u001b[0mduet_m1\u001b[0m\u001b[0;34m.\u001b[0m\u001b[0mstore\u001b[0m\u001b[0;34m[\u001b[0m\u001b[0;34m\"TEST_#1_from_m1_to_ds\"\u001b[0m\u001b[0;34m]\u001b[0m \u001b[0;31m# describe local data to test sum, substract, and multiply\u001b[0m\u001b[0;34m\u001b[0m\u001b[0;34m\u001b[0m\u001b[0m\n\u001b[0m",
      "\u001b[0;32m/opt/conda/lib/python3.9/site-packages/syft/core/node/common/client.py\u001b[0m in \u001b[0;36m__getitem__\u001b[0;34m(self, key)\u001b[0m\n\u001b[1;32m    406\u001b[0m             \u001b[0mmatch_obj\u001b[0m\u001b[0;34m:\u001b[0m \u001b[0mOptional\u001b[0m\u001b[0;34m[\u001b[0m\u001b[0mPointer\u001b[0m\u001b[0;34m]\u001b[0m \u001b[0;34m=\u001b[0m \u001b[0;32mNone\u001b[0m\u001b[0;34m\u001b[0m\u001b[0;34m\u001b[0m\u001b[0m\n\u001b[1;32m    407\u001b[0m \u001b[0;34m\u001b[0m\u001b[0m\n\u001b[0;32m--> 408\u001b[0;31m             \u001b[0;32mfor\u001b[0m \u001b[0mobj\u001b[0m \u001b[0;32min\u001b[0m \u001b[0mself\u001b[0m\u001b[0;34m.\u001b[0m\u001b[0mstore\u001b[0m\u001b[0;34m:\u001b[0m\u001b[0;34m\u001b[0m\u001b[0;34m\u001b[0m\u001b[0m\n\u001b[0m\u001b[1;32m    409\u001b[0m                 \u001b[0;32mif\u001b[0m \u001b[0mkey\u001b[0m \u001b[0;32min\u001b[0m \u001b[0mobj\u001b[0m\u001b[0;34m.\u001b[0m\u001b[0mtags\u001b[0m\u001b[0;34m:\u001b[0m\u001b[0;34m\u001b[0m\u001b[0;34m\u001b[0m\u001b[0m\n\u001b[1;32m    410\u001b[0m                     \u001b[0mmatches\u001b[0m \u001b[0;34m+=\u001b[0m \u001b[0;36m1\u001b[0m\u001b[0;34m\u001b[0m\u001b[0;34m\u001b[0m\u001b[0m\n",
      "\u001b[0;32m/opt/conda/lib/python3.9/site-packages/syft/core/node/common/client.py\u001b[0m in \u001b[0;36mstore\u001b[0;34m(self)\u001b[0m\n\u001b[1;32m    383\u001b[0m \u001b[0;34m\u001b[0m\u001b[0m\n\u001b[1;32m    384\u001b[0m         results = getattr(\n\u001b[0;32m--> 385\u001b[0;31m             \u001b[0mself\u001b[0m\u001b[0;34m.\u001b[0m\u001b[0mclient\u001b[0m\u001b[0;34m.\u001b[0m\u001b[0msend_immediate_msg_with_reply\u001b[0m\u001b[0;34m(\u001b[0m\u001b[0mmsg\u001b[0m\u001b[0;34m=\u001b[0m\u001b[0mmsg\u001b[0m\u001b[0;34m)\u001b[0m\u001b[0;34m,\u001b[0m \u001b[0;34m\"results\"\u001b[0m\u001b[0;34m,\u001b[0m \u001b[0;32mNone\u001b[0m\u001b[0;34m\u001b[0m\u001b[0;34m\u001b[0m\u001b[0m\n\u001b[0m\u001b[1;32m    386\u001b[0m         )\n\u001b[1;32m    387\u001b[0m         \u001b[0;32mif\u001b[0m \u001b[0mresults\u001b[0m \u001b[0;32mis\u001b[0m \u001b[0;32mNone\u001b[0m\u001b[0;34m:\u001b[0m\u001b[0;34m\u001b[0m\u001b[0;34m\u001b[0m\u001b[0m\n",
      "\u001b[0;32m/opt/conda/lib/python3.9/site-packages/syft/core/node/common/client.py\u001b[0m in \u001b[0;36msend_immediate_msg_with_reply\u001b[0;34m(self, msg, route_index)\u001b[0m\n\u001b[1;32m    226\u001b[0m             \u001b[0mmsg\u001b[0m \u001b[0;34m=\u001b[0m \u001b[0mmsg\u001b[0m\u001b[0;34m.\u001b[0m\u001b[0msign\u001b[0m\u001b[0;34m(\u001b[0m\u001b[0msigning_key\u001b[0m\u001b[0;34m=\u001b[0m\u001b[0mself\u001b[0m\u001b[0;34m.\u001b[0m\u001b[0msigning_key\u001b[0m\u001b[0;34m)\u001b[0m\u001b[0;34m\u001b[0m\u001b[0;34m\u001b[0m\u001b[0m\n\u001b[1;32m    227\u001b[0m \u001b[0;34m\u001b[0m\u001b[0m\n\u001b[0;32m--> 228\u001b[0;31m         \u001b[0mresponse\u001b[0m \u001b[0;34m=\u001b[0m \u001b[0mself\u001b[0m\u001b[0;34m.\u001b[0m\u001b[0mroutes\u001b[0m\u001b[0;34m[\u001b[0m\u001b[0mroute_index\u001b[0m\u001b[0;34m]\u001b[0m\u001b[0;34m.\u001b[0m\u001b[0msend_immediate_msg_with_reply\u001b[0m\u001b[0;34m(\u001b[0m\u001b[0mmsg\u001b[0m\u001b[0;34m=\u001b[0m\u001b[0mmsg\u001b[0m\u001b[0;34m)\u001b[0m\u001b[0;34m\u001b[0m\u001b[0;34m\u001b[0m\u001b[0m\n\u001b[0m\u001b[1;32m    229\u001b[0m         \u001b[0;32mif\u001b[0m \u001b[0mresponse\u001b[0m\u001b[0;34m.\u001b[0m\u001b[0mis_valid\u001b[0m\u001b[0;34m:\u001b[0m\u001b[0;34m\u001b[0m\u001b[0;34m\u001b[0m\u001b[0m\n\u001b[1;32m    230\u001b[0m             \u001b[0;31m# check if we have an ExceptionMessage to trigger a local exception\u001b[0m\u001b[0;34m\u001b[0m\u001b[0;34m\u001b[0m\u001b[0;34m\u001b[0m\u001b[0m\n",
      "\u001b[0;32m/opt/conda/lib/python3.9/site-packages/syft/core/io/route.py\u001b[0m in \u001b[0;36msend_immediate_msg_with_reply\u001b[0;34m(self, msg)\u001b[0m\n\u001b[1;32m    175\u001b[0m         \u001b[0mself\u001b[0m\u001b[0;34m,\u001b[0m \u001b[0mmsg\u001b[0m\u001b[0;34m:\u001b[0m \u001b[0mSignedImmediateSyftMessageWithReply\u001b[0m\u001b[0;34m\u001b[0m\u001b[0;34m\u001b[0m\u001b[0m\n\u001b[1;32m    176\u001b[0m     ) -> SignedImmediateSyftMessageWithoutReply:\n\u001b[0;32m--> 177\u001b[0;31m         \u001b[0;32mreturn\u001b[0m \u001b[0mself\u001b[0m\u001b[0;34m.\u001b[0m\u001b[0mconnection\u001b[0m\u001b[0;34m.\u001b[0m\u001b[0msend_immediate_msg_with_reply\u001b[0m\u001b[0;34m(\u001b[0m\u001b[0mmsg\u001b[0m\u001b[0;34m=\u001b[0m\u001b[0mmsg\u001b[0m\u001b[0;34m)\u001b[0m\u001b[0;34m\u001b[0m\u001b[0;34m\u001b[0m\u001b[0m\n\u001b[0m\u001b[1;32m    178\u001b[0m \u001b[0;34m\u001b[0m\u001b[0m\n\u001b[1;32m    179\u001b[0m     \u001b[0;32mdef\u001b[0m \u001b[0m_object2proto\u001b[0m\u001b[0;34m(\u001b[0m\u001b[0mself\u001b[0m\u001b[0;34m)\u001b[0m \u001b[0;34m->\u001b[0m \u001b[0mSoloRoute_PB\u001b[0m\u001b[0;34m:\u001b[0m\u001b[0;34m\u001b[0m\u001b[0;34m\u001b[0m\u001b[0m\n",
      "\u001b[0;32m/opt/conda/lib/python3.9/site-packages/syft/grid/connections/webrtc.py\u001b[0m in \u001b[0;36msend_immediate_msg_with_reply\u001b[0;34m(self, msg)\u001b[0m\n\u001b[1;32m    515\u001b[0m             \u001b[0;31m# properly fix this!\u001b[0m\u001b[0;34m\u001b[0m\u001b[0;34m\u001b[0m\u001b[0;34m\u001b[0m\u001b[0m\n\u001b[1;32m    516\u001b[0m             return validate_type(\n\u001b[0;32m--> 517\u001b[0;31m                 \u001b[0masyncio\u001b[0m\u001b[0;34m.\u001b[0m\u001b[0mrun\u001b[0m\u001b[0;34m(\u001b[0m\u001b[0mself\u001b[0m\u001b[0;34m.\u001b[0m\u001b[0msend_sync_message\u001b[0m\u001b[0;34m(\u001b[0m\u001b[0mmsg\u001b[0m\u001b[0;34m=\u001b[0m\u001b[0mmsg\u001b[0m\u001b[0;34m)\u001b[0m\u001b[0;34m)\u001b[0m\u001b[0;34m,\u001b[0m\u001b[0;34m\u001b[0m\u001b[0;34m\u001b[0m\u001b[0m\n\u001b[0m\u001b[1;32m    518\u001b[0m                 \u001b[0mobject\u001b[0m\u001b[0;34m,\u001b[0m\u001b[0;34m\u001b[0m\u001b[0;34m\u001b[0m\u001b[0m\n\u001b[1;32m    519\u001b[0m             )\n",
      "\u001b[0;32m/opt/conda/lib/python3.9/site-packages/nest_asyncio.py\u001b[0m in \u001b[0;36mrun\u001b[0;34m(future, debug)\u001b[0m\n\u001b[1;32m     30\u001b[0m         \u001b[0mloop\u001b[0m \u001b[0;34m=\u001b[0m \u001b[0masyncio\u001b[0m\u001b[0;34m.\u001b[0m\u001b[0mget_event_loop\u001b[0m\u001b[0;34m(\u001b[0m\u001b[0;34m)\u001b[0m\u001b[0;34m\u001b[0m\u001b[0;34m\u001b[0m\u001b[0m\n\u001b[1;32m     31\u001b[0m         \u001b[0mloop\u001b[0m\u001b[0;34m.\u001b[0m\u001b[0mset_debug\u001b[0m\u001b[0;34m(\u001b[0m\u001b[0mdebug\u001b[0m\u001b[0;34m)\u001b[0m\u001b[0;34m\u001b[0m\u001b[0;34m\u001b[0m\u001b[0m\n\u001b[0;32m---> 32\u001b[0;31m         \u001b[0;32mreturn\u001b[0m \u001b[0mloop\u001b[0m\u001b[0;34m.\u001b[0m\u001b[0mrun_until_complete\u001b[0m\u001b[0;34m(\u001b[0m\u001b[0mfuture\u001b[0m\u001b[0;34m)\u001b[0m\u001b[0;34m\u001b[0m\u001b[0;34m\u001b[0m\u001b[0m\n\u001b[0m\u001b[1;32m     33\u001b[0m \u001b[0;34m\u001b[0m\u001b[0m\n\u001b[1;32m     34\u001b[0m     \u001b[0;32mif\u001b[0m \u001b[0msys\u001b[0m\u001b[0;34m.\u001b[0m\u001b[0mversion_info\u001b[0m \u001b[0;34m>=\u001b[0m \u001b[0;34m(\u001b[0m\u001b[0;36m3\u001b[0m\u001b[0;34m,\u001b[0m \u001b[0;36m6\u001b[0m\u001b[0;34m,\u001b[0m \u001b[0;36m0\u001b[0m\u001b[0;34m)\u001b[0m\u001b[0;34m:\u001b[0m\u001b[0;34m\u001b[0m\u001b[0;34m\u001b[0m\u001b[0m\n",
      "\u001b[0;32m/opt/conda/lib/python3.9/site-packages/nest_asyncio.py\u001b[0m in \u001b[0;36mrun_until_complete\u001b[0;34m(self, future)\u001b[0m\n\u001b[1;32m     62\u001b[0m                 \u001b[0mf\u001b[0m\u001b[0;34m.\u001b[0m\u001b[0m_log_destroy_pending\u001b[0m \u001b[0;34m=\u001b[0m \u001b[0;32mFalse\u001b[0m\u001b[0;34m\u001b[0m\u001b[0;34m\u001b[0m\u001b[0m\n\u001b[1;32m     63\u001b[0m             \u001b[0;32mwhile\u001b[0m \u001b[0;32mnot\u001b[0m \u001b[0mf\u001b[0m\u001b[0;34m.\u001b[0m\u001b[0mdone\u001b[0m\u001b[0;34m(\u001b[0m\u001b[0;34m)\u001b[0m\u001b[0;34m:\u001b[0m\u001b[0;34m\u001b[0m\u001b[0;34m\u001b[0m\u001b[0m\n\u001b[0;32m---> 64\u001b[0;31m                 \u001b[0mself\u001b[0m\u001b[0;34m.\u001b[0m\u001b[0m_run_once\u001b[0m\u001b[0;34m(\u001b[0m\u001b[0;34m)\u001b[0m\u001b[0;34m\u001b[0m\u001b[0;34m\u001b[0m\u001b[0m\n\u001b[0m\u001b[1;32m     65\u001b[0m                 \u001b[0;32mif\u001b[0m \u001b[0mself\u001b[0m\u001b[0;34m.\u001b[0m\u001b[0m_stopping\u001b[0m\u001b[0;34m:\u001b[0m\u001b[0;34m\u001b[0m\u001b[0;34m\u001b[0m\u001b[0m\n\u001b[1;32m     66\u001b[0m                     \u001b[0;32mbreak\u001b[0m\u001b[0;34m\u001b[0m\u001b[0;34m\u001b[0m\u001b[0m\n",
      "\u001b[0;32m/opt/conda/lib/python3.9/site-packages/nest_asyncio.py\u001b[0m in \u001b[0;36m_run_once\u001b[0;34m(self)\u001b[0m\n\u001b[1;32m     85\u001b[0m             \u001b[0;32melse\u001b[0m \u001b[0mmin\u001b[0m\u001b[0;34m(\u001b[0m\u001b[0mmax\u001b[0m\u001b[0;34m(\u001b[0m\u001b[0mscheduled\u001b[0m\u001b[0;34m[\u001b[0m\u001b[0;36m0\u001b[0m\u001b[0;34m]\u001b[0m\u001b[0;34m.\u001b[0m\u001b[0m_when\u001b[0m \u001b[0;34m-\u001b[0m \u001b[0mnow\u001b[0m\u001b[0;34m,\u001b[0m \u001b[0;36m0\u001b[0m\u001b[0;34m)\u001b[0m\u001b[0;34m,\u001b[0m \u001b[0;36m86400\u001b[0m\u001b[0;34m)\u001b[0m \u001b[0;32mif\u001b[0m \u001b[0mscheduled\u001b[0m\u001b[0;34m\u001b[0m\u001b[0;34m\u001b[0m\u001b[0m\n\u001b[1;32m     86\u001b[0m             else None)\n\u001b[0;32m---> 87\u001b[0;31m         \u001b[0mevent_list\u001b[0m \u001b[0;34m=\u001b[0m \u001b[0mself\u001b[0m\u001b[0;34m.\u001b[0m\u001b[0m_selector\u001b[0m\u001b[0;34m.\u001b[0m\u001b[0mselect\u001b[0m\u001b[0;34m(\u001b[0m\u001b[0mtimeout\u001b[0m\u001b[0;34m)\u001b[0m\u001b[0;34m\u001b[0m\u001b[0;34m\u001b[0m\u001b[0m\n\u001b[0m\u001b[1;32m     88\u001b[0m         \u001b[0mself\u001b[0m\u001b[0;34m.\u001b[0m\u001b[0m_process_events\u001b[0m\u001b[0;34m(\u001b[0m\u001b[0mevent_list\u001b[0m\u001b[0;34m)\u001b[0m\u001b[0;34m\u001b[0m\u001b[0;34m\u001b[0m\u001b[0m\n\u001b[1;32m     89\u001b[0m \u001b[0;34m\u001b[0m\u001b[0m\n",
      "\u001b[0;32m/opt/conda/lib/python3.9/selectors.py\u001b[0m in \u001b[0;36mselect\u001b[0;34m(self, timeout)\u001b[0m\n\u001b[1;32m    467\u001b[0m             \u001b[0mready\u001b[0m \u001b[0;34m=\u001b[0m \u001b[0;34m[\u001b[0m\u001b[0;34m]\u001b[0m\u001b[0;34m\u001b[0m\u001b[0;34m\u001b[0m\u001b[0m\n\u001b[1;32m    468\u001b[0m             \u001b[0;32mtry\u001b[0m\u001b[0;34m:\u001b[0m\u001b[0;34m\u001b[0m\u001b[0;34m\u001b[0m\u001b[0m\n\u001b[0;32m--> 469\u001b[0;31m                 \u001b[0mfd_event_list\u001b[0m \u001b[0;34m=\u001b[0m \u001b[0mself\u001b[0m\u001b[0;34m.\u001b[0m\u001b[0m_selector\u001b[0m\u001b[0;34m.\u001b[0m\u001b[0mpoll\u001b[0m\u001b[0;34m(\u001b[0m\u001b[0mtimeout\u001b[0m\u001b[0;34m,\u001b[0m \u001b[0mmax_ev\u001b[0m\u001b[0;34m)\u001b[0m\u001b[0;34m\u001b[0m\u001b[0;34m\u001b[0m\u001b[0m\n\u001b[0m\u001b[1;32m    470\u001b[0m             \u001b[0;32mexcept\u001b[0m \u001b[0mInterruptedError\u001b[0m\u001b[0;34m:\u001b[0m\u001b[0;34m\u001b[0m\u001b[0;34m\u001b[0m\u001b[0m\n\u001b[1;32m    471\u001b[0m                 \u001b[0;32mreturn\u001b[0m \u001b[0mready\u001b[0m\u001b[0;34m\u001b[0m\u001b[0;34m\u001b[0m\u001b[0m\n",
      "\u001b[0;31mKeyboardInterrupt\u001b[0m: "
     ]
    }
   ],
   "source": [
    "# Step 12: basic operations\n",
    "x_secret = duet_m1.store[\"TEST_#1_from_m1_to_ds\"] # describe local data to test sum, substract, and multiply"
   ]
  },
  {
   "cell_type": "code",
   "execution_count": null,
   "id": "90075a48",
   "metadata": {
    "collapsed": false,
    "jupyter": {
     "outputs_hidden": false
    },
    "pycharm": {
     "name": "#%%\n"
    }
   },
   "outputs": [],
   "source": [
    "y = torch.Tensor([[-5,8,1,7,6,100]]) # Local data"
   ]
  },
  {
   "cell_type": "code",
   "execution_count": null,
   "id": "474aef60",
   "metadata": {
    "collapsed": false,
    "jupyter": {
     "outputs_hidden": false
    },
    "pycharm": {
     "name": "#%%\n"
    }
   },
   "outputs": [],
   "source": [
    "x = MPCTensor(secret=x_secret, shape=(1,), session=session)  # MPC Tensor from x_secret"
   ]
  },
  {
   "cell_type": "markdown",
   "id": "40dacfc1",
   "metadata": {},
   "source": [
    "The following lines of codes always receive an error message.\n",
    "[See Github issue](https://github.com/OpenMined/SyMPC/issues/282)."
   ]
  },
  {
   "cell_type": "code",
   "execution_count": null,
   "id": "139468b9",
   "metadata": {
    "collapsed": false,
    "jupyter": {
     "outputs_hidden": false
    },
    "pycharm": {
     "name": "#%%\n"
    }
   },
   "outputs": [],
   "source": [
    "print(\"X + Y = \",(x + y).reconstruct())"
   ]
  },
  {
   "cell_type": "code",
   "execution_count": null,
   "id": "387c6c5c",
   "metadata": {
    "collapsed": false,
    "jupyter": {
     "outputs_hidden": false
    },
    "pycharm": {
     "name": "#%%\n"
    }
   },
   "outputs": [],
   "source": [
    "print(\"X - Y = \", (x - y).reconstruct())"
   ]
  },
  {
   "cell_type": "code",
   "execution_count": null,
   "id": "132bc2e4",
   "metadata": {
    "collapsed": false,
    "jupyter": {
     "outputs_hidden": false
    },
    "pycharm": {
     "name": "#%%\n"
    }
   },
   "outputs": [],
   "source": [
    "print(\"X * Y = \", (x * y).reconstruct())"
   ]
  },
  {
   "cell_type": "code",
   "execution_count": null,
   "id": "9e19e292",
   "metadata": {},
   "outputs": [],
   "source": []
  },
  {
   "cell_type": "code",
   "execution_count": null,
   "id": "d3e14e99",
   "metadata": {},
   "outputs": [],
   "source": []
  },
  {
   "cell_type": "code",
   "execution_count": null,
   "id": "731c27d9",
   "metadata": {},
   "outputs": [],
   "source": []
  },
  {
   "cell_type": "code",
   "execution_count": null,
   "id": "8c4358e7",
   "metadata": {},
   "outputs": [],
   "source": []
  },
  {
   "cell_type": "markdown",
   "id": "db265a9f",
   "metadata": {},
   "source": [
    "## Terminate Controller\n",
    "\n",
    "Whenever you have finished with this notebook, be sure to terminate the controller. This is especially important if your business logic runs across multiple notebooks."
   ]
  },
  {
   "cell_type": "code",
   "execution_count": null,
   "id": "1b7dc7a2",
   "metadata": {},
   "outputs": [],
   "source": [
    "await agent_controller.terminate()"
   ]
  },
  {
   "cell_type": "code",
   "execution_count": null,
   "id": "4ca2a3a3",
   "metadata": {},
   "outputs": [],
   "source": []
  }
 ],
 "metadata": {
  "kernelspec": {
   "display_name": "Python 3 (ipykernel)",
   "language": "python",
   "name": "python3"
  },
  "language_info": {
   "codemirror_mode": {
    "name": "ipython",
    "version": 3
   },
   "file_extension": ".py",
   "mimetype": "text/x-python",
   "name": "python",
   "nbconvert_exporter": "python",
   "pygments_lexer": "ipython3",
   "version": "3.9.5"
  }
 },
 "nbformat": 4,
 "nbformat_minor": 5
}
