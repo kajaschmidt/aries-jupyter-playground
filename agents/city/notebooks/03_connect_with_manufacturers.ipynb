{
 "cells": [
  {
   "cell_type": "markdown",
   "id": "e3e1e464",
   "metadata": {},
   "source": [
    "# PART 3: Connect with Manufacturers for remote SMC"
   ]
  },
  {
   "cell_type": "code",
   "execution_count": 1,
   "id": "91a5cb7c",
   "metadata": {},
   "outputs": [
    {
     "data": {
      "application/javascript": [
       "document.title=\"City Agent\"\n"
      ],
      "text/plain": [
       "<IPython.core.display.Javascript object>"
      ]
     },
     "metadata": {},
     "output_type": "display_data"
    }
   ],
   "source": [
    "%%javascript\n",
    "document.title=\"City Agent\""
   ]
  },
  {
   "cell_type": "markdown",
   "id": "0d016751",
   "metadata": {},
   "source": [
    "#### Imports"
   ]
  },
  {
   "cell_type": "code",
   "execution_count": 2,
   "id": "932d9316",
   "metadata": {},
   "outputs": [
    {
     "name": "stdout",
     "output_type": "stream",
     "text": [
      "IPython autoawait is `on`, and set to use `asyncio`\n"
     ]
    }
   ],
   "source": [
    "%autoawait \n",
    "from aries_cloudcontroller import AriesAgentController\n",
    "#import asyncio\n",
    "import os\n",
    "from pprintpp import pprint\n",
    "from termcolor import colored\n",
    "import time"
   ]
  },
  {
   "cell_type": "code",
   "execution_count": 3,
   "id": "0b216269",
   "metadata": {},
   "outputs": [],
   "source": [
    "# Global connection ID to enable the use of an multi-use invite to M1, M2, M3\n",
    "# This way, CONNECTION_ID is updated depending on who connects with the City agent\n",
    "global CONNECTION_ID"
   ]
  },
  {
   "cell_type": "code",
   "execution_count": 4,
   "id": "49381d73",
   "metadata": {},
   "outputs": [
    {
     "name": "stdout",
     "output_type": "stream",
     "text": [
      "--- LOAD VARIABLES FROM JUPYTERLAB STORE ---\n",
      "no stored variable or alias schema_manufacturer_id\n",
      "no stored variable or alias cred_def_manufacturer_id\n",
      "no stored variable or alias authority_did\n",
      "--- DEFINE VARIABLES FROM MANUALLY COPIED identifiers DICT ---\n",
      "Stored 'schema_manufacturer_id' (str)\n",
      "Stored 'cred_def_manufacturer_id' (str)\n",
      "Stored 'authority_did' (str)\n"
     ]
    }
   ],
   "source": [
    "# If the identifiers are not stored for some reason\n",
    "try:\n",
    "    # Load variables – assuming they have been written to the store in a previous notebook\n",
    "    print(\"--- LOAD VARIABLES FROM JUPYTERLAB STORE ---\")\n",
    "    \n",
    "    %store -r schema_manufacturer_id\n",
    "    %store -r cred_def_manufacturer_id\n",
    "    %store -r authority_did\n",
    "    \n",
    "    print(f\"schema_manufacturer_id: {schema_manufacturer_id}\")\n",
    "    print(f\"cred_def_manufacturer_id: {cred_def_manufacturer_id}\")\n",
    "    print(f\"authority_did: {authority_did}\")\n",
    "    \n",
    "except Exception as e:\n",
    "    \n",
    "    print(\"--- DEFINE VARIABLES FROM MANUALLY COPIED identifiers DICT ---\")\n",
    "    \n",
    "    # Copy an updated version if necessary\n",
    "    identifiers = {\n",
    "        'authority_did': 'MTXSc4YD8wixyM9ekZbmMC',\n",
    "        'city_schema_identifiers': {\n",
    "            'cred_def': 'MTXSc4YD8wixyM9ekZbmMC:3:CL:246685:default',\n",
    "            'schema_id': 'MTXSc4YD8wixyM9ekZbmMC:2:certify-city-agency:0.0.1',\n",
    "        },\n",
    "        'manufacturer_schema_identifiers': {\n",
    "            'cred_def': 'MTXSc4YD8wixyM9ekZbmMC:3:CL:246687:default',\n",
    "            'schema_id': 'MTXSc4YD8wixyM9ekZbmMC:2:certify-manufacturer:0.0.1',\n",
    "        },\n",
    "    }\n",
    "\n",
    "    # Get manufacturer schema identifiers\n",
    "    schema_manufacturer_id = identifiers[\"manufacturer_schema_identifiers\"][\"schema_id\"]\n",
    "    cred_def_manufacturer_id = identifiers[\"manufacturer_schema_identifiers\"][\"cred_def\"]\n",
    "    \n",
    "    # Get authority did\n",
    "    authority_did = identifiers['authority_did']\n",
    "\n",
    "    # Load variables to Jupyter store\n",
    "    %store schema_manufacturer_id\n",
    "    %store cred_def_manufacturer_id\n",
    "    %store authority_did"
   ]
  },
  {
   "cell_type": "markdown",
   "id": "a0add7b3",
   "metadata": {},
   "source": [
    "#### Initialize `City` Agent Controller"
   ]
  },
  {
   "cell_type": "code",
   "execution_count": 5,
   "id": "e67ffde0",
   "metadata": {},
   "outputs": [
    {
     "name": "stdout",
     "output_type": "stream",
     "text": [
      "Initialising a controller with admin api at http://city-agent:3021 and an api key of adminApiKey\n"
     ]
    }
   ],
   "source": [
    "api_key = os.getenv(\"ACAPY_ADMIN_API_KEY\")\n",
    "admin_url = os.getenv(\"ADMIN_URL\")\n",
    "\n",
    "print(f\"Initialising a controller with admin api at {admin_url} and an api key of {api_key}\")\n",
    "agent_controller = AriesAgentController(admin_url,api_key)"
   ]
  },
  {
   "cell_type": "markdown",
   "id": "41ae0be2",
   "metadata": {},
   "source": [
    "## 1 – Init Webhook Server and register Event Listeners for it\n",
    "#### 1.1 – Start webhook server\n",
    "Start a webhook server to be able to communicate with other agents"
   ]
  },
  {
   "cell_type": "code",
   "execution_count": 6,
   "id": "b7c3ebdd",
   "metadata": {},
   "outputs": [
    {
     "name": "stdout",
     "output_type": "stream",
     "text": [
      "Listening for webhooks from agent at http://0.0.0.0:3010\n"
     ]
    }
   ],
   "source": [
    "webhook_port = int(os.getenv(\"WEBHOOK_PORT\"))\n",
    "webhook_host = \"0.0.0.0\"\n",
    "\n",
    "await agent_controller.init_webhook_server(webhook_host, webhook_port)\n",
    "\n",
    "print(f\"Listening for webhooks from agent at http://{webhook_host}:{webhook_port}\")"
   ]
  },
  {
   "cell_type": "markdown",
   "id": "9e06594f",
   "metadata": {},
   "source": [
    "#### 1.2 – Define listeners\n",
    "Define listeners that are triggered when something happens on the webhook server"
   ]
  },
  {
   "cell_type": "code",
   "execution_count": 7,
   "id": "741c7d67",
   "metadata": {},
   "outputs": [],
   "source": [
    "# Receive connection messages\n",
    "def connections_handler(payload):\n",
    "    global CONNECTION_ID\n",
    "    \n",
    "    state = payload['state']\n",
    "    connection_id = payload[\"connection_id\"]\n",
    "    their_role = payload[\"their_role\"]\n",
    "    routing_state = payload[\"routing_state\"]\n",
    "    rfc_state = payload[\"rfc23_state\"]\n",
    "    \n",
    "    CONNECTION_ID = connection_id\n",
    "    \n",
    "    print(\"----------------------------------------------------------\")\n",
    "    print(\"Connection Webhook Event Received\")\n",
    "    print(\"Connection ID : \", connection_id)\n",
    "    print(\"State : \", state)\n",
    "    print(\"Routing State : {routing} ({rfc})\".format(routing=routing_state, rfc=rfc_state))\n",
    "    if 'their_label' in payload: \n",
    "        print(f\"Connection with : \", payload['their_label'])\n",
    "    print(\"Their Role : \", their_role)\n",
    "    print(\"----------------------------------------------------------\")\n",
    "\n",
    "    if state == \"invitation\":\n",
    "        # Your business logic\n",
    "        print(\"invitation\")\n",
    "        \n",
    "    elif state == \"request\":\n",
    "        # Your business logic\n",
    "        print(\"request\")\n",
    "\n",
    "    elif state == \"response\":\n",
    "        # Your business logic\n",
    "        print(\"response\")\n",
    "        \n",
    "    elif state == \"active\":\n",
    "        # Your business logic\n",
    "        print(colored(\"Connection ID: {0} is now active.\".format(connection_id), \"green\", attrs=[\"bold\"]))\n",
    "\n",
    "        \n",
    "def verifier_proof_handler(payload):\n",
    "    role = payload[\"role\"]\n",
    "    connection_id = payload[\"connection_id\"]\n",
    "    pres_ex_id = payload[\"presentation_exchange_id\"]\n",
    "    state = payload[\"state\"]\n",
    "    print(\"\\n---------------------------------------------------------------------\\n\")\n",
    "    print(\"Handle present-proof\")\n",
    "    print(\"Connection ID : \", connection_id)\n",
    "    print(\"Presentation Exchange ID : \", pres_ex_id)\n",
    "    print(\"Protocol State : \", state)\n",
    "    print(\"Agent Role : \", role)\n",
    "    print(\"Initiator : \", payload[\"initiator\"])\n",
    "    print(\"\\n---------------------------------------------------------------------\\n\")\n",
    "    \n",
    "\n",
    "    if state == \"request_sent\":\n",
    "        print(\"Presentation Request\\n\")\n",
    "        print(payload[\"presentation_request\"])\n",
    "        print(\"\\nThe presentation request is encoded in base64 and packaged into a DIDComm Message\\n\")\n",
    "        print(payload[\"presentation_request_dict\"])\n",
    "        print(\"\\nNote the type defines the protocol present-proof and the message request-presentation\\n\")\n",
    "        print(payload[\"presentation_request_dict\"][\"@type\"])\n",
    "    elif state == \"presentation_received\":\n",
    "        print(\"Presentation Received\")\n",
    "        print(\"We will not go into detail on this payload as it is comparable to the presentation_sent we looked at in the earlier cell.\")\n",
    "        print(\"This is the full payload\\n\")\n",
    "        print(payload)\n",
    "    else:\n",
    "        print(\"Paload \\n\")\n",
    "        print(payload)"
   ]
  },
  {
   "cell_type": "code",
   "execution_count": 8,
   "id": "e4f074d3",
   "metadata": {},
   "outputs": [],
   "source": [
    "# Init listener list\n",
    "listeners = []\n",
    "\n",
    "# Add listeners defined in previous cell\n",
    "connection_listener = {\"handler\": connections_handler, \"topic\": \"connections\"}\n",
    "listeners.append(connection_listener)\n",
    "\n",
    "verifier_listener = {\"topic\": \"present_proof\", \"handler\": verifier_proof_handler}\n",
    "listeners.append(verifier_listener)\n",
    "\n",
    "# Register listeners\n",
    "agent_controller.register_listeners(listeners)"
   ]
  },
  {
   "cell_type": "markdown",
   "id": "862e7b6e",
   "metadata": {},
   "source": [
    "## Define Presentation Request Object\n",
    "\n",
    "The below cell defines a generic presentation request object, that can be sent across specific connections requesting that they produce a presentation containing the identified attributes and meeting the restrictions.\n",
    "\n",
    "It is often useful to define your request objects first, then reuse these objects across many connections you wish to request a proof from. \n",
    "\n",
    "Duplicate and customise the below cell as many times as you need. It may be useful to save these request objects either to the jupyter store using %store or through\n",
    "\n",
    "TODO: Detail the full set of restrictions available to a verifier."
   ]
  },
  {
   "cell_type": "code",
   "execution_count": 9,
   "id": "9edf7144",
   "metadata": {},
   "outputs": [],
   "source": [
    "# We add a constraint that the attribute must originate from this schema\n",
    "\n",
    "# Define the list of attributes and restrictions under which each attribute was issued that a prover must satisfy with a presentation\n",
    "# NOTE: if identifying a schema or credential definition then the attribute name must be contained within the corresponding schema.\n",
    "req_attrs = [\n",
    "    {\"name\": \"isManufacturer\", \"restrictions\": [{\"schema_id\": schema_manufacturer_id}]},\n",
    "]\n",
    "\n",
    "# We could extend this to request the name attribute aswell if we wanted.\n",
    "\n",
    "\n",
    "manufacturer_proof_request = {\n",
    "    \"name\": \"isManufacturer Proof Request\",\n",
    "    \"version\": \"1.0\",\n",
    "    \"requested_attributes\": {\n",
    "        # They generally follow this uuid pattern. Unique identifier for attribute within context of this proof request\n",
    "        # Note that req_attr['name'] gets the attribute name of each object. E.g. domain and name in this case\n",
    "        f\"0_{req_attr['name']}_uuid\":\n",
    "        req_attr for req_attr in req_attrs\n",
    "    },\n",
    "    # Predicates allow us to specify range proofs or set membership on attributes. For example greater than 10.\n",
    "    # We will ignore these for now.\n",
    "    \"requested_predicates\": {\n",
    "#         f\"0_{req_pred['name']}_GE_uuid\":\n",
    "#         req_pred for req_pred in req_preds\n",
    "    },\n",
    "    # You can also request the entire proof request be non-revoked\n",
    "    \"non_revoked\":  {\"to\": int(time.time())}\n",
    "}"
   ]
  },
  {
   "cell_type": "code",
   "execution_count": 10,
   "id": "d66b0fd7",
   "metadata": {},
   "outputs": [
    {
     "data": {
      "text/plain": [
       "{'name': 'isManufacturer Proof Request',\n",
       " 'version': '1.0',\n",
       " 'requested_attributes': {'0_isManufacturer_uuid': {'name': 'isManufacturer',\n",
       "   'restrictions': [{'schema_id': 'MTXSc4YD8wixyM9ekZbmMC:2:certify-manufacturer:0.0.1'}]}},\n",
       " 'requested_predicates': {},\n",
       " 'non_revoked': {'to': 1628589362}}"
      ]
     },
     "execution_count": 10,
     "metadata": {},
     "output_type": "execute_result"
    }
   ],
   "source": [
    "manufacturer_proof_request"
   ]
  },
  {
   "cell_type": "markdown",
   "id": "d8a98bd1",
   "metadata": {},
   "source": [
    "## Create Invitation\n",
    "Note the current arguments specified are in their default configurations. "
   ]
  },
  {
   "cell_type": "code",
   "execution_count": 11,
   "id": "2db391ee",
   "metadata": {},
   "outputs": [
    {
     "name": "stdout",
     "output_type": "stream",
     "text": [
      "----------------------------------------------------------\n",
      "Connection Webhook Event Received\n",
      "Connection ID :  5307ef26-a2c8-474c-8857-fdb2420efbfd\n",
      "State :  invitation\n",
      "Routing State : none (invitation-sent)\n",
      "Their Role :  invitee\n",
      "----------------------------------------------------------\n",
      "invitation\n"
     ]
    }
   ],
   "source": [
    "alias = None # Alias for invited connection\n",
    "auto_accept = \"true\" # Auto accept response\n",
    "public = \"false\" # Don't use a public DID\n",
    "multi_use = \"true\" # Use invitation for multiple invitees\n",
    "\n",
    "invite = await agent_controller.connections.create_invitation(alias, auto_accept, public, multi_use)"
   ]
  },
  {
   "cell_type": "markdown",
   "id": "cbca5ddf",
   "metadata": {},
   "source": [
    "## Share Invitation Object with External Agent\n",
    "\n",
    "Typically in this jupyter notebook playground that involves copying it across to another agent's business logic notebook where they are the invitee. (see prover_template)"
   ]
  },
  {
   "cell_type": "code",
   "execution_count": 12,
   "id": "c27920bd",
   "metadata": {},
   "outputs": [
    {
     "name": "stdout",
     "output_type": "stream",
     "text": [
      "{\n",
      "    '@id': 'ef311c96-d2c3-495a-8a42-1f88984f2a9c',\n",
      "    '@type': 'did:sov:BzCbsNYhMrjHiqZDTUASHg;spec/connections/1.0/invitation',\n",
      "    'label': 'City',\n",
      "    'recipientKeys': ['DGQxsLtJ3q7jWJP2mzQK5AWhTqr6yE5ddVkc1v5Nsctq'],\n",
      "    'serviceEndpoint': 'https://45c4ba2baaed.ngrok.io',\n",
      "}\n",
      "----------------------------------------------------------\n",
      "Connection Webhook Event Received\n",
      "Connection ID :  96c19956-f9de-42fd-ba59-7d6ae20fc581\n",
      "State :  invitation\n",
      "Routing State : none (invitation-sent)\n",
      "Their Role :  invitee\n",
      "----------------------------------------------------------\n",
      "invitation\n",
      "----------------------------------------------------------\n",
      "Connection Webhook Event Received\n",
      "Connection ID :  96c19956-f9de-42fd-ba59-7d6ae20fc581\n",
      "State :  request\n",
      "Routing State : none (request-received)\n",
      "Connection with :  Manufacturer1\n",
      "Their Role :  invitee\n",
      "----------------------------------------------------------\n",
      "request\n",
      "----------------------------------------------------------\n",
      "Connection Webhook Event Received\n",
      "Connection ID :  96c19956-f9de-42fd-ba59-7d6ae20fc581\n",
      "State :  response\n",
      "Routing State : none (response-sent)\n",
      "Connection with :  Manufacturer1\n",
      "Their Role :  invitee\n",
      "----------------------------------------------------------\n",
      "response\n",
      "----------------------------------------------------------\n",
      "Connection Webhook Event Received\n",
      "Connection ID :  96c19956-f9de-42fd-ba59-7d6ae20fc581\n",
      "State :  active\n",
      "Routing State : none (completed)\n",
      "Connection with :  Manufacturer1\n",
      "Their Role :  invitee\n",
      "----------------------------------------------------------\n",
      "\u001b[1m\u001b[32mConnection ID: 96c19956-f9de-42fd-ba59-7d6ae20fc581 is now active.\u001b[0m\n"
     ]
    }
   ],
   "source": [
    "invitation = invite[\"invitation\"]\n",
    "pprint(invitation) "
   ]
  },
  {
   "cell_type": "markdown",
   "id": "16b4cfd2",
   "metadata": {},
   "source": [
    "## Optional: Recieve Proof Proposal\n",
    "\n",
    "A Verifier is not the only role that can initiate the present-proof protocol. A holder can also send a proposal for a presentation that they can provide."
   ]
  },
  {
   "cell_type": "code",
   "execution_count": null,
   "id": "0a31c2a7",
   "metadata": {},
   "outputs": [],
   "source": [
    "# TODO..."
   ]
  },
  {
   "cell_type": "markdown",
   "id": "303a723b",
   "metadata": {},
   "source": [
    "## Send Proof Request\n",
    "\n",
    "This identifies a connection and a proof request object (you will need to update the variable name enclosed with <>) "
   ]
  },
  {
   "cell_type": "code",
   "execution_count": 13,
   "id": "86c7eeaa",
   "metadata": {},
   "outputs": [
    {
     "name": "stdout",
     "output_type": "stream",
     "text": [
      "\n",
      "---------------------------------------------------------------------\n",
      "\n",
      "Handle present-proof\n",
      "Connection ID :  96c19956-f9de-42fd-ba59-7d6ae20fc581\n",
      "Presentation Exchange ID :  ba5fdc34-d45d-44dd-acc9-353b7b351ca9\n",
      "Protocol State :  request_sent\n",
      "Agent Role :  verifier\n",
      "Initiator :  self\n",
      "\n",
      "---------------------------------------------------------------------\n",
      "\n",
      "Presentation Request\n",
      "\n",
      "{'nonce': '924037072991337116006702', 'name': 'isManufacturer Proof Request', 'version': '1.0', 'requested_attributes': {'0_isManufacturer_uuid': {'name': 'isManufacturer', 'restrictions': [{'schema_id': 'MTXSc4YD8wixyM9ekZbmMC:2:certify-manufacturer:0.0.1'}]}}, 'requested_predicates': {}, 'non_revoked': {'to': 1628586025}}\n",
      "\n",
      "The presentation request is encoded in base64 and packaged into a DIDComm Message\n",
      "\n",
      "{'@type': 'did:sov:BzCbsNYhMrjHiqZDTUASHg;spec/present-proof/1.0/request-presentation', '@id': '04cfd6a5-d920-4e22-a889-667eaafb75ed', '~trace': {'target': 'log', 'full_thread': True, 'trace_reports': []}, 'request_presentations~attach': [{'@id': 'libindy-request-presentation-0', 'mime-type': 'application/json', 'data': {'base64': 'eyJuYW1lIjogImlzTWFudWZhY3R1cmVyIFByb29mIFJlcXVlc3QiLCAidmVyc2lvbiI6ICIxLjAiLCAicmVxdWVzdGVkX2F0dHJpYnV0ZXMiOiB7IjBfaXNNYW51ZmFjdHVyZXJfdXVpZCI6IHsibmFtZSI6ICJpc01hbnVmYWN0dXJlciIsICJyZXN0cmljdGlvbnMiOiBbeyJzY2hlbWFfaWQiOiAiTVRYU2M0WUQ4d2l4eU05ZWtaYm1NQzoyOmNlcnRpZnktbWFudWZhY3R1cmVyOjAuMC4xIn1dfX0sICJyZXF1ZXN0ZWRfcHJlZGljYXRlcyI6IHt9LCAibm9uX3Jldm9rZWQiOiB7InRvIjogMTYyODU4NjAyNX0sICJub25jZSI6ICI5MjQwMzcwNzI5OTEzMzcxMTYwMDY3MDIifQ=='}}], 'comment': 'Please prove that you are an agent who is a certified manufacturer'}\n",
      "\n",
      "Note the type defines the protocol present-proof and the message request-presentation\n",
      "\n",
      "did:sov:BzCbsNYhMrjHiqZDTUASHg;spec/present-proof/1.0/request-presentation\n",
      "\n",
      "---------------------------------------------------------------------\n",
      "\n",
      "Handle present-proof\n",
      "Connection ID :  96c19956-f9de-42fd-ba59-7d6ae20fc581\n",
      "Presentation Exchange ID :  ba5fdc34-d45d-44dd-acc9-353b7b351ca9\n",
      "Protocol State :  presentation_received\n",
      "Agent Role :  verifier\n",
      "Initiator :  self\n",
      "\n",
      "---------------------------------------------------------------------\n",
      "\n",
      "Presentation Received\n",
      "We will not go into detail on this payload as it is comparable to the presentation_sent we looked at in the earlier cell.\n",
      "This is the full payload\n",
      "\n",
      "{'trace': True, 'presentation_request': {'nonce': '924037072991337116006702', 'name': 'isManufacturer Proof Request', 'version': '1.0', 'requested_attributes': {'0_isManufacturer_uuid': {'name': 'isManufacturer', 'restrictions': [{'schema_id': 'MTXSc4YD8wixyM9ekZbmMC:2:certify-manufacturer:0.0.1'}]}}, 'requested_predicates': {}, 'non_revoked': {'to': 1628586025}}, 'thread_id': '04cfd6a5-d920-4e22-a889-667eaafb75ed', 'presentation_request_dict': {'@type': 'did:sov:BzCbsNYhMrjHiqZDTUASHg;spec/present-proof/1.0/request-presentation', '@id': '04cfd6a5-d920-4e22-a889-667eaafb75ed', '~trace': {'target': 'log', 'full_thread': True, 'trace_reports': []}, 'request_presentations~attach': [{'@id': 'libindy-request-presentation-0', 'mime-type': 'application/json', 'data': {'base64': 'eyJuYW1lIjogImlzTWFudWZhY3R1cmVyIFByb29mIFJlcXVlc3QiLCAidmVyc2lvbiI6ICIxLjAiLCAicmVxdWVzdGVkX2F0dHJpYnV0ZXMiOiB7IjBfaXNNYW51ZmFjdHVyZXJfdXVpZCI6IHsibmFtZSI6ICJpc01hbnVmYWN0dXJlciIsICJyZXN0cmljdGlvbnMiOiBbeyJzY2hlbWFfaWQiOiAiTVRYU2M0WUQ4d2l4eU05ZWtaYm1NQzoyOmNlcnRpZnktbWFudWZhY3R1cmVyOjAuMC4xIn1dfX0sICJyZXF1ZXN0ZWRfcHJlZGljYXRlcyI6IHt9LCAibm9uX3Jldm9rZWQiOiB7InRvIjogMTYyODU4NjAyNX0sICJub25jZSI6ICI5MjQwMzcwNzI5OTEzMzcxMTYwMDY3MDIifQ=='}}], 'comment': 'Please prove that you are an agent who is a certified manufacturer'}, 'updated_at': '2021-08-10 09:01:37.157679Z', 'presentation': {'proof': {'proofs': [{'primary_proof': {'eq_proof': {'revealed_attrs': {'ismanufacturer': '101276561079705913907459647512048005855328137776566494081283796781441440993409'}, 'a_prime': '28947692710864104906767162068808038364531232855424836186186390251782603995753589240453902652888330707491018654227307429557047086493676322184578682861414962809247560827036353980434385703575621561224990199442136406973729480515407220624664006223551931506775068349596676026642129240552748500849198567849309321451974537048252240603431089232219425475902310343659264447514074871301872027565551979274681851398370472438804210847168187274009746447815577119205034954962349666623757848010052681398294555094330412899384948900960935998449748973559666368870928982899707584120284029953788188257326675849489633960536215338687840369857', 'e': '105619449930905570329735646840899426259936336199336246988112314115976827200928564063971184961823114296001793525592512218302665071674946929', 'v': '709167405241077630746213082102258314575622663169819783678604140676757291975418346964288701494798034674732109344192054675944370526356287722814272287292105465224054689928747660565767557091710077727208510826652813800415700871595115177911022810014263792616841498660492683318533992810415161277468225802491787993332283477637831941019377249085828263170251807052518428151285378071943014527874447216951230191119408590298594932109131748806599426964709368223412514398794467117439611716706416913886110450071051507718442478607007576529029899927493866925552649241413482825954153285461441003200752194001521199914050842078139037808180367283836563522846722683301491135698001858059840273586594050872870741747027937855727755629056021757646023458553500306351076841493353454653641523756234838122754841441417601274499807379620676853252841935175469600604796819874740967782255724387164094303254910076990166294503036338894804581122973612347710969', 'm': {'manufacturercity': '337523950830073185601169594489032205000198292891436502055406207996537415146408005603912479337493432358010069542615533799118756321428765652521525704002396765879051043250749003733', 'master_secret': '12276278614760389277256834374463551403866062786063749104845384123738285451600967441634262723298554478291549493413136374576566976945520731750551614881549009800248556001416033141514', 'manufacturercountry': '13037063641652156946931817563600553156713166919828570849772478896065433957932720820577507531393725504127294345831620098097318566945718855727029842610324318984962960818716790228515', 'manufacturername': '11813371026432202929111761746713122009095468426619020594791289056442265229581358560935257763066862884249444054484050397797598582559337155465695371375183639606826614771182804940544'}, 'm2': '4716741390000754000540149050942252681319089706379587277331037576004269932191162228906318741252212908941164198285072914740816038598664085383691183516786481414273029900004414976550'}, 'ge_proofs': []}}], 'aggregated_proof': {'c_hash': '42751693007096838295407249341577515946376235300370005598883503647657203114239', 'c_list': [[229, 79, 85, 105, 32, 3, 192, 153, 11, 82, 99, 161, 182, 227, 51, 23, 94, 237, 155, 251, 158, 17, 10, 79, 55, 75, 113, 215, 49, 249, 12, 75, 102, 135, 135, 222, 121, 9, 76, 149, 131, 184, 3, 238, 48, 194, 87, 193, 131, 200, 37, 162, 226, 86, 33, 106, 54, 35, 33, 231, 113, 142, 243, 155, 254, 180, 231, 98, 90, 12, 219, 220, 91, 92, 18, 211, 212, 187, 113, 163, 104, 80, 113, 114, 149, 30, 32, 57, 172, 154, 153, 100, 120, 96, 139, 221, 94, 140, 9, 150, 180, 8, 153, 120, 21, 219, 225, 205, 245, 56, 68, 163, 1, 226, 67, 136, 198, 88, 241, 105, 84, 5, 248, 209, 128, 131, 53, 1, 218, 50, 82, 188, 128, 142, 234, 197, 26, 4, 50, 199, 52, 177, 71, 141, 202, 142, 6, 179, 174, 66, 244, 112, 15, 37, 66, 142, 76, 166, 95, 151, 148, 131, 23, 49, 163, 169, 54, 105, 121, 144, 254, 228, 129, 109, 178, 27, 234, 14, 49, 55, 195, 169, 68, 178, 237, 70, 236, 74, 128, 88, 145, 209, 24, 58, 152, 217, 235, 137, 13, 31, 11, 169, 32, 77, 43, 53, 248, 215, 175, 91, 36, 194, 107, 221, 140, 145, 234, 160, 158, 211, 210, 249, 167, 167, 255, 179, 255, 133, 32, 126, 42, 178, 88, 196, 191, 81, 25, 225, 107, 142, 84, 166, 129, 190, 145, 251, 225, 124, 241, 226, 73, 149, 29, 127, 188, 193]]}}, 'requested_proof': {'revealed_attrs': {'0_isManufacturer_uuid': {'encoded': '101276561079705913907459647512048005855328137776566494081283796781441440993409', 'raw': 'TRUE', 'sub_proof_index': 0}}, 'self_attested_attrs': {}, 'unrevealed_attrs': {}, 'predicates': {}}, 'identifiers': [{'schema_id': 'MTXSc4YD8wixyM9ekZbmMC:2:certify-manufacturer:0.0.1', 'cred_def_id': 'MTXSc4YD8wixyM9ekZbmMC:3:CL:246687:default'}]}, 'initiator': 'self', 'auto_present': False, 'connection_id': '96c19956-f9de-42fd-ba59-7d6ae20fc581', 'created_at': '2021-08-10 09:01:01.728041Z', 'presentation_exchange_id': 'ba5fdc34-d45d-44dd-acc9-353b7b351ca9', 'state': 'presentation_received', 'role': 'verifier'}\n"
     ]
    }
   ],
   "source": [
    "# Step 1\n",
    "\n",
    "proof_request = {\n",
    "    \"comment\": \"Please prove that you are an agent who is a certified manufacturer\",\n",
    "    \"connection_id\": CONNECTION_ID,\n",
    "    \"proof_request\": manufacturer_proof_request,\n",
    "    # Do you want your agent to trace this request (for debugging)\n",
    "    \"trace\": True\n",
    "}\n",
    "\n",
    "proof_request_response = await agent_controller.proofs.send_request(proof_request)"
   ]
  },
  {
   "cell_type": "markdown",
   "id": "b1e3dff8",
   "metadata": {},
   "source": [
    "*I THINK* **Break point**: see step 2\n",
    "\n",
    "---\n",
    "\n",
    "## Get Presentation Exchange Record\n",
    "\n",
    "This record keeps track of the current state of the presentation protocol, which must be in the `presentation_received` state before the presentation can be verified.\n",
    "\n",
    "Note: This could also happen in the webhook logic."
   ]
  },
  {
   "cell_type": "code",
   "execution_count": null,
   "id": "8840a24c",
   "metadata": {},
   "outputs": [],
   "source": []
  },
  {
   "cell_type": "code",
   "execution_count": 14,
   "id": "6537bd20",
   "metadata": {},
   "outputs": [
    {
     "name": "stdout",
     "output_type": "stream",
     "text": [
      "{'trace': True, 'presentation_request': {'nonce': '924037072991337116006702', 'name': 'isManufacturer Proof Request', 'version': '1.0', 'requested_attributes': {'0_isManufacturer_uuid': {'name': 'isManufacturer', 'restrictions': [{'schema_id': 'MTXSc4YD8wixyM9ekZbmMC:2:certify-manufacturer:0.0.1'}]}}, 'requested_predicates': {}, 'non_revoked': {'to': 1628586025}}, 'thread_id': '04cfd6a5-d920-4e22-a889-667eaafb75ed', 'presentation_request_dict': {'@type': 'did:sov:BzCbsNYhMrjHiqZDTUASHg;spec/present-proof/1.0/request-presentation', '@id': '04cfd6a5-d920-4e22-a889-667eaafb75ed', '~trace': {'target': 'log', 'full_thread': True, 'trace_reports': []}, 'request_presentations~attach': [{'@id': 'libindy-request-presentation-0', 'mime-type': 'application/json', 'data': {'base64': 'eyJuYW1lIjogImlzTWFudWZhY3R1cmVyIFByb29mIFJlcXVlc3QiLCAidmVyc2lvbiI6ICIxLjAiLCAicmVxdWVzdGVkX2F0dHJpYnV0ZXMiOiB7IjBfaXNNYW51ZmFjdHVyZXJfdXVpZCI6IHsibmFtZSI6ICJpc01hbnVmYWN0dXJlciIsICJyZXN0cmljdGlvbnMiOiBbeyJzY2hlbWFfaWQiOiAiTVRYU2M0WUQ4d2l4eU05ZWtaYm1NQzoyOmNlcnRpZnktbWFudWZhY3R1cmVyOjAuMC4xIn1dfX0sICJyZXF1ZXN0ZWRfcHJlZGljYXRlcyI6IHt9LCAibm9uX3Jldm9rZWQiOiB7InRvIjogMTYyODU4NjAyNX0sICJub25jZSI6ICI5MjQwMzcwNzI5OTEzMzcxMTYwMDY3MDIifQ=='}}], 'comment': 'Please prove that you are an agent who is a certified manufacturer'}, 'updated_at': '2021-08-10 09:01:37.157679Z', 'presentation': {'proof': {'proofs': [{'primary_proof': {'eq_proof': {'revealed_attrs': {'ismanufacturer': '101276561079705913907459647512048005855328137776566494081283796781441440993409'}, 'a_prime': '28947692710864104906767162068808038364531232855424836186186390251782603995753589240453902652888330707491018654227307429557047086493676322184578682861414962809247560827036353980434385703575621561224990199442136406973729480515407220624664006223551931506775068349596676026642129240552748500849198567849309321451974537048252240603431089232219425475902310343659264447514074871301872027565551979274681851398370472438804210847168187274009746447815577119205034954962349666623757848010052681398294555094330412899384948900960935998449748973559666368870928982899707584120284029953788188257326675849489633960536215338687840369857', 'e': '105619449930905570329735646840899426259936336199336246988112314115976827200928564063971184961823114296001793525592512218302665071674946929', 'v': '709167405241077630746213082102258314575622663169819783678604140676757291975418346964288701494798034674732109344192054675944370526356287722814272287292105465224054689928747660565767557091710077727208510826652813800415700871595115177911022810014263792616841498660492683318533992810415161277468225802491787993332283477637831941019377249085828263170251807052518428151285378071943014527874447216951230191119408590298594932109131748806599426964709368223412514398794467117439611716706416913886110450071051507718442478607007576529029899927493866925552649241413482825954153285461441003200752194001521199914050842078139037808180367283836563522846722683301491135698001858059840273586594050872870741747027937855727755629056021757646023458553500306351076841493353454653641523756234838122754841441417601274499807379620676853252841935175469600604796819874740967782255724387164094303254910076990166294503036338894804581122973612347710969', 'm': {'manufacturercity': '337523950830073185601169594489032205000198292891436502055406207996537415146408005603912479337493432358010069542615533799118756321428765652521525704002396765879051043250749003733', 'master_secret': '12276278614760389277256834374463551403866062786063749104845384123738285451600967441634262723298554478291549493413136374576566976945520731750551614881549009800248556001416033141514', 'manufacturercountry': '13037063641652156946931817563600553156713166919828570849772478896065433957932720820577507531393725504127294345831620098097318566945718855727029842610324318984962960818716790228515', 'manufacturername': '11813371026432202929111761746713122009095468426619020594791289056442265229581358560935257763066862884249444054484050397797598582559337155465695371375183639606826614771182804940544'}, 'm2': '4716741390000754000540149050942252681319089706379587277331037576004269932191162228906318741252212908941164198285072914740816038598664085383691183516786481414273029900004414976550'}, 'ge_proofs': []}}], 'aggregated_proof': {'c_hash': '42751693007096838295407249341577515946376235300370005598883503647657203114239', 'c_list': [[229, 79, 85, 105, 32, 3, 192, 153, 11, 82, 99, 161, 182, 227, 51, 23, 94, 237, 155, 251, 158, 17, 10, 79, 55, 75, 113, 215, 49, 249, 12, 75, 102, 135, 135, 222, 121, 9, 76, 149, 131, 184, 3, 238, 48, 194, 87, 193, 131, 200, 37, 162, 226, 86, 33, 106, 54, 35, 33, 231, 113, 142, 243, 155, 254, 180, 231, 98, 90, 12, 219, 220, 91, 92, 18, 211, 212, 187, 113, 163, 104, 80, 113, 114, 149, 30, 32, 57, 172, 154, 153, 100, 120, 96, 139, 221, 94, 140, 9, 150, 180, 8, 153, 120, 21, 219, 225, 205, 245, 56, 68, 163, 1, 226, 67, 136, 198, 88, 241, 105, 84, 5, 248, 209, 128, 131, 53, 1, 218, 50, 82, 188, 128, 142, 234, 197, 26, 4, 50, 199, 52, 177, 71, 141, 202, 142, 6, 179, 174, 66, 244, 112, 15, 37, 66, 142, 76, 166, 95, 151, 148, 131, 23, 49, 163, 169, 54, 105, 121, 144, 254, 228, 129, 109, 178, 27, 234, 14, 49, 55, 195, 169, 68, 178, 237, 70, 236, 74, 128, 88, 145, 209, 24, 58, 152, 217, 235, 137, 13, 31, 11, 169, 32, 77, 43, 53, 248, 215, 175, 91, 36, 194, 107, 221, 140, 145, 234, 160, 158, 211, 210, 249, 167, 167, 255, 179, 255, 133, 32, 126, 42, 178, 88, 196, 191, 81, 25, 225, 107, 142, 84, 166, 129, 190, 145, 251, 225, 124, 241, 226, 73, 149, 29, 127, 188, 193]]}}, 'requested_proof': {'revealed_attrs': {'0_isManufacturer_uuid': {'encoded': '101276561079705913907459647512048005855328137776566494081283796781441440993409', 'raw': 'TRUE', 'sub_proof_index': 0}}, 'self_attested_attrs': {}, 'unrevealed_attrs': {}, 'predicates': {}}, 'identifiers': [{'schema_id': 'MTXSc4YD8wixyM9ekZbmMC:2:certify-manufacturer:0.0.1', 'cred_def_id': 'MTXSc4YD8wixyM9ekZbmMC:3:CL:246687:default'}]}, 'initiator': 'self', 'auto_present': False, 'connection_id': '96c19956-f9de-42fd-ba59-7d6ae20fc581', 'created_at': '2021-08-10 09:01:01.728041Z', 'presentation_exchange_id': 'ba5fdc34-d45d-44dd-acc9-353b7b351ca9', 'state': 'presentation_received', 'role': 'verifier'}\n"
     ]
    }
   ],
   "source": [
    "presentation_exchange_id = proof_request_response[\"presentation_exchange_id\"]\n",
    "pres_record = await agent_controller.proofs.get_record_by_id(presentation_exchange_id)\n",
    "print(pres_record)"
   ]
  },
  {
   "cell_type": "markdown",
   "id": "63c8074a",
   "metadata": {},
   "source": [
    "## Verify Presentation\n",
    "\n",
    "Only if it is in the right state. \n",
    "\n",
    "Note: Verifying a presentation moves the state to `verified` regardless of whether the presentation request has been satisfied. To check this you must refer to the `verified` property on the response."
   ]
  },
  {
   "cell_type": "code",
   "execution_count": 15,
   "id": "4fae77bb",
   "metadata": {},
   "outputs": [
    {
     "name": "stdout",
     "output_type": "stream",
     "text": [
      "\n",
      "---------------------------------------------------------------------\n",
      "\n",
      "Handle present-proof\n",
      "Connection ID :  96c19956-f9de-42fd-ba59-7d6ae20fc581\n",
      "Presentation Exchange ID :  ba5fdc34-d45d-44dd-acc9-353b7b351ca9\n",
      "Protocol State :  verified\n",
      "Agent Role :  verifier\n",
      "Initiator :  self\n",
      "\n",
      "---------------------------------------------------------------------\n",
      "\n",
      "Paload \n",
      "\n",
      "{'trace': True, 'verified': 'true', 'presentation_request': {'nonce': '924037072991337116006702', 'name': 'isManufacturer Proof Request', 'version': '1.0', 'requested_attributes': {'0_isManufacturer_uuid': {'name': 'isManufacturer', 'restrictions': [{'schema_id': 'MTXSc4YD8wixyM9ekZbmMC:2:certify-manufacturer:0.0.1'}]}}, 'requested_predicates': {}, 'non_revoked': {'to': 1628586025}}, 'thread_id': '04cfd6a5-d920-4e22-a889-667eaafb75ed', 'presentation_request_dict': {'@type': 'did:sov:BzCbsNYhMrjHiqZDTUASHg;spec/present-proof/1.0/request-presentation', '@id': '04cfd6a5-d920-4e22-a889-667eaafb75ed', '~trace': {'target': 'log', 'full_thread': True, 'trace_reports': []}, 'request_presentations~attach': [{'@id': 'libindy-request-presentation-0', 'mime-type': 'application/json', 'data': {'base64': 'eyJuYW1lIjogImlzTWFudWZhY3R1cmVyIFByb29mIFJlcXVlc3QiLCAidmVyc2lvbiI6ICIxLjAiLCAicmVxdWVzdGVkX2F0dHJpYnV0ZXMiOiB7IjBfaXNNYW51ZmFjdHVyZXJfdXVpZCI6IHsibmFtZSI6ICJpc01hbnVmYWN0dXJlciIsICJyZXN0cmljdGlvbnMiOiBbeyJzY2hlbWFfaWQiOiAiTVRYU2M0WUQ4d2l4eU05ZWtaYm1NQzoyOmNlcnRpZnktbWFudWZhY3R1cmVyOjAuMC4xIn1dfX0sICJyZXF1ZXN0ZWRfcHJlZGljYXRlcyI6IHt9LCAibm9uX3Jldm9rZWQiOiB7InRvIjogMTYyODU4NjAyNX0sICJub25jZSI6ICI5MjQwMzcwNzI5OTEzMzcxMTYwMDY3MDIifQ=='}}], 'comment': 'Please prove that you are an agent who is a certified manufacturer'}, 'updated_at': '2021-08-10 09:01:58.152002Z', 'presentation': {'proof': {'proofs': [{'primary_proof': {'eq_proof': {'revealed_attrs': {'ismanufacturer': '101276561079705913907459647512048005855328137776566494081283796781441440993409'}, 'a_prime': '28947692710864104906767162068808038364531232855424836186186390251782603995753589240453902652888330707491018654227307429557047086493676322184578682861414962809247560827036353980434385703575621561224990199442136406973729480515407220624664006223551931506775068349596676026642129240552748500849198567849309321451974537048252240603431089232219425475902310343659264447514074871301872027565551979274681851398370472438804210847168187274009746447815577119205034954962349666623757848010052681398294555094330412899384948900960935998449748973559666368870928982899707584120284029953788188257326675849489633960536215338687840369857', 'e': '105619449930905570329735646840899426259936336199336246988112314115976827200928564063971184961823114296001793525592512218302665071674946929', 'v': '709167405241077630746213082102258314575622663169819783678604140676757291975418346964288701494798034674732109344192054675944370526356287722814272287292105465224054689928747660565767557091710077727208510826652813800415700871595115177911022810014263792616841498660492683318533992810415161277468225802491787993332283477637831941019377249085828263170251807052518428151285378071943014527874447216951230191119408590298594932109131748806599426964709368223412514398794467117439611716706416913886110450071051507718442478607007576529029899927493866925552649241413482825954153285461441003200752194001521199914050842078139037808180367283836563522846722683301491135698001858059840273586594050872870741747027937855727755629056021757646023458553500306351076841493353454653641523756234838122754841441417601274499807379620676853252841935175469600604796819874740967782255724387164094303254910076990166294503036338894804581122973612347710969', 'm': {'manufacturercity': '337523950830073185601169594489032205000198292891436502055406207996537415146408005603912479337493432358010069542615533799118756321428765652521525704002396765879051043250749003733', 'master_secret': '12276278614760389277256834374463551403866062786063749104845384123738285451600967441634262723298554478291549493413136374576566976945520731750551614881549009800248556001416033141514', 'manufacturercountry': '13037063641652156946931817563600553156713166919828570849772478896065433957932720820577507531393725504127294345831620098097318566945718855727029842610324318984962960818716790228515', 'manufacturername': '11813371026432202929111761746713122009095468426619020594791289056442265229581358560935257763066862884249444054484050397797598582559337155465695371375183639606826614771182804940544'}, 'm2': '4716741390000754000540149050942252681319089706379587277331037576004269932191162228906318741252212908941164198285072914740816038598664085383691183516786481414273029900004414976550'}, 'ge_proofs': []}}], 'aggregated_proof': {'c_hash': '42751693007096838295407249341577515946376235300370005598883503647657203114239', 'c_list': [[229, 79, 85, 105, 32, 3, 192, 153, 11, 82, 99, 161, 182, 227, 51, 23, 94, 237, 155, 251, 158, 17, 10, 79, 55, 75, 113, 215, 49, 249, 12, 75, 102, 135, 135, 222, 121, 9, 76, 149, 131, 184, 3, 238, 48, 194, 87, 193, 131, 200, 37, 162, 226, 86, 33, 106, 54, 35, 33, 231, 113, 142, 243, 155, 254, 180, 231, 98, 90, 12, 219, 220, 91, 92, 18, 211, 212, 187, 113, 163, 104, 80, 113, 114, 149, 30, 32, 57, 172, 154, 153, 100, 120, 96, 139, 221, 94, 140, 9, 150, 180, 8, 153, 120, 21, 219, 225, 205, 245, 56, 68, 163, 1, 226, 67, 136, 198, 88, 241, 105, 84, 5, 248, 209, 128, 131, 53, 1, 218, 50, 82, 188, 128, 142, 234, 197, 26, 4, 50, 199, 52, 177, 71, 141, 202, 142, 6, 179, 174, 66, 244, 112, 15, 37, 66, 142, 76, 166, 95, 151, 148, 131, 23, 49, 163, 169, 54, 105, 121, 144, 254, 228, 129, 109, 178, 27, 234, 14, 49, 55, 195, 169, 68, 178, 237, 70, 236, 74, 128, 88, 145, 209, 24, 58, 152, 217, 235, 137, 13, 31, 11, 169, 32, 77, 43, 53, 248, 215, 175, 91, 36, 194, 107, 221, 140, 145, 234, 160, 158, 211, 210, 249, 167, 167, 255, 179, 255, 133, 32, 126, 42, 178, 88, 196, 191, 81, 25, 225, 107, 142, 84, 166, 129, 190, 145, 251, 225, 124, 241, 226, 73, 149, 29, 127, 188, 193]]}}, 'requested_proof': {'revealed_attrs': {'0_isManufacturer_uuid': {'encoded': '101276561079705913907459647512048005855328137776566494081283796781441440993409', 'raw': 'TRUE', 'sub_proof_index': 0}}, 'self_attested_attrs': {}, 'unrevealed_attrs': {}, 'predicates': {}}, 'identifiers': [{'schema_id': 'MTXSc4YD8wixyM9ekZbmMC:2:certify-manufacturer:0.0.1', 'cred_def_id': 'MTXSc4YD8wixyM9ekZbmMC:3:CL:246687:default'}]}, 'initiator': 'self', 'auto_present': False, 'connection_id': '96c19956-f9de-42fd-ba59-7d6ae20fc581', 'created_at': '2021-08-10 09:01:01.728041Z', 'presentation_exchange_id': 'ba5fdc34-d45d-44dd-acc9-353b7b351ca9', 'state': 'verified', 'role': 'verifier'}\n"
     ]
    }
   ],
   "source": [
    "verified_response = await agent_controller.proofs.verify_presentation(presentation_exchange_id)\n",
    "verified = verified_response[\"verified\"]"
   ]
  },
  {
   "cell_type": "markdown",
   "id": "aaac4d63",
   "metadata": {
    "tags": []
   },
   "source": [
    "## Parsing Disclosed Attribute Values from Presentation\n",
    "\n",
    "A presentation object contains three classes of attributes. \n",
    "* Revealed Attributes: Attributes that were signed by an issuer and have been revealed in the presentation process\n",
    "* Self Attested Attributes: Attributes that the prover has self attested to in the presentation object.\n",
    "* Predicate proofs: Attribute values that have been proven to meet some statement. (TODO: Show how you can parse this information)"
   ]
  },
  {
   "cell_type": "markdown",
   "id": "6b53d980",
   "metadata": {},
   "source": [
    "### Parse Revealed Attributes"
   ]
  },
  {
   "cell_type": "code",
   "execution_count": 16,
   "id": "b2114722",
   "metadata": {},
   "outputs": [
    {
     "name": "stdout",
     "output_type": "stream",
     "text": [
      "\n",
      "Attribute :  {'encoded': '101276561079705913907459647512048005855328137776566494081283796781441440993409', 'raw': 'TRUE', 'sub_proof_index': 0}\n",
      "Attribute Name :  Raw Value\n",
      "isManufacturer   :  TRUE\n"
     ]
    }
   ],
   "source": [
    "for (name, val) in verified_response['presentation']['requested_proof']['revealed_attrs'].items():\n",
    "    ## This is the actual data that you want. It's a little hidden\n",
    "    print(\"\\nAttribute : \", val)\n",
    "    \n",
    "    attr_name = verified_response[\"presentation_request\"][\"requested_attributes\"][name][\"name\"]\n",
    "    print(\"Attribute Name :  Raw Value\")\n",
    "    print(f\"{attr_name}   :  {val['raw']}\")"
   ]
  },
  {
   "cell_type": "markdown",
   "id": "6f8da79c",
   "metadata": {},
   "source": [
    "### Parse Self-Attested Attributes"
   ]
  },
  {
   "cell_type": "code",
   "execution_count": 17,
   "id": "6c08272b",
   "metadata": {},
   "outputs": [],
   "source": [
    "for (name, val) in verified_response['presentation']['requested_proof']['self_attested_attrs'].items():\n",
    "    print(name)\n",
    "    ## Slightly different for self attested attrs\n",
    "    print(val)"
   ]
  },
  {
   "cell_type": "markdown",
   "id": "66e47cb7",
   "metadata": {},
   "source": [
    "## Your Own Business Logic\n",
    "\n",
    "Now you should have an established, active connection you can write any custom logic you want to engage with protocols with the connection"
   ]
  },
  {
   "cell_type": "code",
   "execution_count": 2,
   "id": "ef6b1249",
   "metadata": {},
   "outputs": [],
   "source": [
    "# Imports\n",
    "import torch\n",
    "import syft as sy\n",
    "\n",
    "#from sympc.session import Session\n",
    "#from sympc.session import SessionManager\n",
    "#from sympc.tensor import MPCTensor"
   ]
  },
  {
   "cell_type": "code",
   "execution_count": 3,
   "id": "916842ff",
   "metadata": {},
   "outputs": [],
   "source": [
    "sy.VERBOSE = True"
   ]
  },
  {
   "cell_type": "code",
   "execution_count": 5,
   "id": "d9346df8",
   "metadata": {},
   "outputs": [],
   "source": [
    "# Step 1: Create duet\n",
    "#duet_city = sy.launch_duet()"
   ]
  },
  {
   "cell_type": "code",
   "execution_count": 4,
   "id": "6dc1448e",
   "metadata": {},
   "outputs": [
    {
     "name": "stdout",
     "output_type": "stream",
     "text": [
      "🎤  🎸  ♪♪♪ Joining Duet ♫♫♫  🎻  🎹\n",
      "\n",
      "♫♫♫ >\u001b[93m DISCLAIMER\u001b[0m: \u001b[1mDuet is an experimental feature currently in beta.\n",
      "♫♫♫ > Use at your own risk.\n",
      "\u001b[0m\n",
      "\u001b[1m\n",
      "    > ❤️ \u001b[91mLove\u001b[0m \u001b[92mDuet\u001b[0m? \u001b[93mPlease\u001b[0m \u001b[94mconsider\u001b[0m \u001b[95msupporting\u001b[0m \u001b[91mour\u001b[0m \u001b[93mcommunity!\u001b[0m\n",
      "    > https://github.com/sponsors/OpenMined\u001b[1m\n",
      "\n",
      "♫♫♫ > Punching through firewall to OpenGrid Network Node at:\n",
      "♫♫♫ > http://ec2-18-218-7-180.us-east-2.compute.amazonaws.com:5000\n",
      "♫♫♫ >\n",
      "♫♫♫ > ...waiting for response from OpenGrid Network... \n",
      "♫♫♫ > \u001b[92mDONE!\u001b[0m\n",
      "\n",
      "♫♫♫ > \u001b[92mCONNECTED!\u001b[0m\n"
     ]
    }
   ],
   "source": [
    "# Step 4: Connect to duet of M1\n",
    "#duet_m1 = sy.duet(\"bd49dc9c9b7d5ff6ea5cc2ca16023779\")\n",
    "duet_m1 = sy.join_duet(loopback=True)"
   ]
  },
  {
   "cell_type": "code",
   "execution_count": 4,
   "id": "00982be8",
   "metadata": {},
   "outputs": [],
   "source": [
    "#duet_city = sy.launch_duet()"
   ]
  },
  {
   "cell_type": "code",
   "execution_count": 16,
   "id": "ae4599b1",
   "metadata": {},
   "outputs": [
    {
     "data": {
      "text/plain": [
       "[]"
      ]
     },
     "execution_count": 16,
     "metadata": {},
     "output_type": "execute_result"
    }
   ],
   "source": [
    "duet_city.store"
   ]
  },
  {
   "cell_type": "code",
   "execution_count": 5,
   "id": "7ec424b7",
   "metadata": {},
   "outputs": [
    {
     "data": {
      "text/plain": [
       "<UID: 6f5cdacd03fd445196a6a42af21b4cab>"
      ]
     },
     "execution_count": 5,
     "metadata": {},
     "output_type": "execute_result"
    }
   ],
   "source": [
    "duet_m1.id"
   ]
  },
  {
   "cell_type": "code",
   "execution_count": 6,
   "id": "4ea174be",
   "metadata": {},
   "outputs": [
    {
     "data": {
      "text/plain": [
       "<SpecificLocation: 6f5cdacd03fd445196a6a42af21b4cab>"
      ]
     },
     "execution_count": 6,
     "metadata": {},
     "output_type": "execute_result"
    }
   ],
   "source": [
    "duet_m1.target_id"
   ]
  },
  {
   "cell_type": "code",
   "execution_count": 7,
   "id": "a761094d",
   "metadata": {},
   "outputs": [
    {
     "data": {
      "text/plain": [
       "Domain: Joiner: <UID: 1242fc066e4141a2bb84af1d3b80e396>"
      ]
     },
     "execution_count": 7,
     "metadata": {},
     "output_type": "execute_result"
    }
   ],
   "source": [
    "duet_m1.node"
   ]
  },
  {
   "cell_type": "code",
   "execution_count": 8,
   "id": "9a891011",
   "metadata": {},
   "outputs": [
    {
     "data": {
      "text/html": [
       "<div>\n",
       "<style scoped>\n",
       "    .dataframe tbody tr th:only-of-type {\n",
       "        vertical-align: middle;\n",
       "    }\n",
       "\n",
       "    .dataframe tbody tr th {\n",
       "        vertical-align: top;\n",
       "    }\n",
       "\n",
       "    .dataframe thead th {\n",
       "        text-align: right;\n",
       "    }\n",
       "</style>\n",
       "<table border=\"1\" class=\"dataframe\">\n",
       "  <thead>\n",
       "    <tr style=\"text-align: right;\">\n",
       "      <th></th>\n",
       "      <th>ID</th>\n",
       "      <th>Tags</th>\n",
       "      <th>Description</th>\n",
       "      <th>object_type</th>\n",
       "    </tr>\n",
       "  </thead>\n",
       "  <tbody>\n",
       "    <tr>\n",
       "      <th>0</th>\n",
       "      <td>&lt;UID: 5f0b7083bf31407da1896880b94d7abd&gt;</td>\n",
       "      <td>[test_data_age]</td>\n",
       "      <td>description for age_data</td>\n",
       "      <td>&lt;class 'torch.Tensor'&gt;</td>\n",
       "    </tr>\n",
       "  </tbody>\n",
       "</table>\n",
       "</div>"
      ],
      "text/plain": [
       "                                        ID             Tags  \\\n",
       "0  <UID: 5f0b7083bf31407da1896880b94d7abd>  [test_data_age]   \n",
       "\n",
       "                Description             object_type  \n",
       "0  description for age_data  <class 'torch.Tensor'>  "
      ]
     },
     "execution_count": 8,
     "metadata": {},
     "output_type": "execute_result"
    }
   ],
   "source": [
    "duet_m1.store.pandas"
   ]
  },
  {
   "cell_type": "code",
   "execution_count": 5,
   "id": "976c7c5b",
   "metadata": {},
   "outputs": [
    {
     "ename": "KeyboardInterrupt",
     "evalue": "",
     "output_type": "error",
     "traceback": [
      "\u001b[0;31m---------------------------------------------------------------------------\u001b[0m",
      "\u001b[0;31mKeyboardInterrupt\u001b[0m                         Traceback (most recent call last)",
      "\u001b[0;32m/tmp/ipykernel_16/682636785.py\u001b[0m in \u001b[0;36m<module>\u001b[0;34m\u001b[0m\n\u001b[1;32m      1\u001b[0m \u001b[0;32mfrom\u001b[0m \u001b[0mIPython\u001b[0m\u001b[0;34m.\u001b[0m\u001b[0mcore\u001b[0m\u001b[0;34m.\u001b[0m\u001b[0mdebugger\u001b[0m \u001b[0;32mimport\u001b[0m \u001b[0mset_trace\u001b[0m\u001b[0;34m\u001b[0m\u001b[0;34m\u001b[0m\u001b[0m\n\u001b[1;32m      2\u001b[0m \u001b[0;34m\u001b[0m\u001b[0m\n\u001b[0;32m----> 3\u001b[0;31m \u001b[0mduet_m1\u001b[0m\u001b[0;34m.\u001b[0m\u001b[0mstore\u001b[0m\u001b[0;34m.\u001b[0m\u001b[0mpandas\u001b[0m\u001b[0;34m\u001b[0m\u001b[0;34m\u001b[0m\u001b[0m\n\u001b[0m",
      "\u001b[0;32m/opt/conda/lib/python3.9/site-packages/syft/core/node/common/client.py\u001b[0m in \u001b[0;36mpandas\u001b[0;34m(self)\u001b[0m\n\u001b[1;32m    443\u001b[0m     \u001b[0;32mdef\u001b[0m \u001b[0mpandas\u001b[0m\u001b[0;34m(\u001b[0m\u001b[0mself\u001b[0m\u001b[0;34m)\u001b[0m \u001b[0;34m->\u001b[0m \u001b[0mpd\u001b[0m\u001b[0;34m.\u001b[0m\u001b[0mDataFrame\u001b[0m\u001b[0;34m:\u001b[0m\u001b[0;34m\u001b[0m\u001b[0;34m\u001b[0m\u001b[0m\n\u001b[1;32m    444\u001b[0m         \u001b[0mobj_lines\u001b[0m\u001b[0;34m:\u001b[0m \u001b[0mList\u001b[0m\u001b[0;34m[\u001b[0m\u001b[0mDict\u001b[0m\u001b[0;34m[\u001b[0m\u001b[0mstr\u001b[0m\u001b[0;34m,\u001b[0m \u001b[0mAny\u001b[0m\u001b[0;34m]\u001b[0m\u001b[0;34m]\u001b[0m \u001b[0;34m=\u001b[0m \u001b[0mlist\u001b[0m\u001b[0;34m(\u001b[0m\u001b[0;34m)\u001b[0m\u001b[0;34m\u001b[0m\u001b[0;34m\u001b[0m\u001b[0m\n\u001b[0;32m--> 445\u001b[0;31m         \u001b[0;32mfor\u001b[0m \u001b[0mobj\u001b[0m \u001b[0;32min\u001b[0m \u001b[0mself\u001b[0m\u001b[0;34m.\u001b[0m\u001b[0mstore\u001b[0m\u001b[0;34m:\u001b[0m\u001b[0;34m\u001b[0m\u001b[0;34m\u001b[0m\u001b[0m\n\u001b[0m\u001b[1;32m    446\u001b[0m             obj_lines.append(\n\u001b[1;32m    447\u001b[0m                 {\n",
      "\u001b[0;32m/opt/conda/lib/python3.9/site-packages/syft/core/node/common/client.py\u001b[0m in \u001b[0;36mstore\u001b[0;34m(self)\u001b[0m\n\u001b[1;32m    383\u001b[0m \u001b[0;34m\u001b[0m\u001b[0m\n\u001b[1;32m    384\u001b[0m         results = getattr(\n\u001b[0;32m--> 385\u001b[0;31m             \u001b[0mself\u001b[0m\u001b[0;34m.\u001b[0m\u001b[0mclient\u001b[0m\u001b[0;34m.\u001b[0m\u001b[0msend_immediate_msg_with_reply\u001b[0m\u001b[0;34m(\u001b[0m\u001b[0mmsg\u001b[0m\u001b[0;34m=\u001b[0m\u001b[0mmsg\u001b[0m\u001b[0;34m)\u001b[0m\u001b[0;34m,\u001b[0m \u001b[0;34m\"results\"\u001b[0m\u001b[0;34m,\u001b[0m \u001b[0;32mNone\u001b[0m\u001b[0;34m\u001b[0m\u001b[0;34m\u001b[0m\u001b[0m\n\u001b[0m\u001b[1;32m    386\u001b[0m         )\n\u001b[1;32m    387\u001b[0m         \u001b[0;32mif\u001b[0m \u001b[0mresults\u001b[0m \u001b[0;32mis\u001b[0m \u001b[0;32mNone\u001b[0m\u001b[0;34m:\u001b[0m\u001b[0;34m\u001b[0m\u001b[0;34m\u001b[0m\u001b[0m\n",
      "\u001b[0;32m/opt/conda/lib/python3.9/site-packages/syft/core/node/common/client.py\u001b[0m in \u001b[0;36msend_immediate_msg_with_reply\u001b[0;34m(self, msg, route_index)\u001b[0m\n\u001b[1;32m    226\u001b[0m             \u001b[0mmsg\u001b[0m \u001b[0;34m=\u001b[0m \u001b[0mmsg\u001b[0m\u001b[0;34m.\u001b[0m\u001b[0msign\u001b[0m\u001b[0;34m(\u001b[0m\u001b[0msigning_key\u001b[0m\u001b[0;34m=\u001b[0m\u001b[0mself\u001b[0m\u001b[0;34m.\u001b[0m\u001b[0msigning_key\u001b[0m\u001b[0;34m)\u001b[0m\u001b[0;34m\u001b[0m\u001b[0;34m\u001b[0m\u001b[0m\n\u001b[1;32m    227\u001b[0m \u001b[0;34m\u001b[0m\u001b[0m\n\u001b[0;32m--> 228\u001b[0;31m         \u001b[0mresponse\u001b[0m \u001b[0;34m=\u001b[0m \u001b[0mself\u001b[0m\u001b[0;34m.\u001b[0m\u001b[0mroutes\u001b[0m\u001b[0;34m[\u001b[0m\u001b[0mroute_index\u001b[0m\u001b[0;34m]\u001b[0m\u001b[0;34m.\u001b[0m\u001b[0msend_immediate_msg_with_reply\u001b[0m\u001b[0;34m(\u001b[0m\u001b[0mmsg\u001b[0m\u001b[0;34m=\u001b[0m\u001b[0mmsg\u001b[0m\u001b[0;34m)\u001b[0m\u001b[0;34m\u001b[0m\u001b[0;34m\u001b[0m\u001b[0m\n\u001b[0m\u001b[1;32m    229\u001b[0m         \u001b[0;32mif\u001b[0m \u001b[0mresponse\u001b[0m\u001b[0;34m.\u001b[0m\u001b[0mis_valid\u001b[0m\u001b[0;34m:\u001b[0m\u001b[0;34m\u001b[0m\u001b[0;34m\u001b[0m\u001b[0m\n\u001b[1;32m    230\u001b[0m             \u001b[0;31m# check if we have an ExceptionMessage to trigger a local exception\u001b[0m\u001b[0;34m\u001b[0m\u001b[0;34m\u001b[0m\u001b[0;34m\u001b[0m\u001b[0m\n",
      "\u001b[0;32m/opt/conda/lib/python3.9/site-packages/syft/core/io/route.py\u001b[0m in \u001b[0;36msend_immediate_msg_with_reply\u001b[0;34m(self, msg)\u001b[0m\n\u001b[1;32m    175\u001b[0m         \u001b[0mself\u001b[0m\u001b[0;34m,\u001b[0m \u001b[0mmsg\u001b[0m\u001b[0;34m:\u001b[0m \u001b[0mSignedImmediateSyftMessageWithReply\u001b[0m\u001b[0;34m\u001b[0m\u001b[0;34m\u001b[0m\u001b[0m\n\u001b[1;32m    176\u001b[0m     ) -> SignedImmediateSyftMessageWithoutReply:\n\u001b[0;32m--> 177\u001b[0;31m         \u001b[0;32mreturn\u001b[0m \u001b[0mself\u001b[0m\u001b[0;34m.\u001b[0m\u001b[0mconnection\u001b[0m\u001b[0;34m.\u001b[0m\u001b[0msend_immediate_msg_with_reply\u001b[0m\u001b[0;34m(\u001b[0m\u001b[0mmsg\u001b[0m\u001b[0;34m=\u001b[0m\u001b[0mmsg\u001b[0m\u001b[0;34m)\u001b[0m\u001b[0;34m\u001b[0m\u001b[0;34m\u001b[0m\u001b[0m\n\u001b[0m\u001b[1;32m    178\u001b[0m \u001b[0;34m\u001b[0m\u001b[0m\n\u001b[1;32m    179\u001b[0m     \u001b[0;32mdef\u001b[0m \u001b[0m_object2proto\u001b[0m\u001b[0;34m(\u001b[0m\u001b[0mself\u001b[0m\u001b[0;34m)\u001b[0m \u001b[0;34m->\u001b[0m \u001b[0mSoloRoute_PB\u001b[0m\u001b[0;34m:\u001b[0m\u001b[0;34m\u001b[0m\u001b[0;34m\u001b[0m\u001b[0m\n",
      "\u001b[0;32m/opt/conda/lib/python3.9/site-packages/syft/grid/connections/webrtc.py\u001b[0m in \u001b[0;36msend_immediate_msg_with_reply\u001b[0;34m(self, msg)\u001b[0m\n\u001b[1;32m    515\u001b[0m             \u001b[0;31m# properly fix this!\u001b[0m\u001b[0;34m\u001b[0m\u001b[0;34m\u001b[0m\u001b[0;34m\u001b[0m\u001b[0m\n\u001b[1;32m    516\u001b[0m             return validate_type(\n\u001b[0;32m--> 517\u001b[0;31m                 \u001b[0masyncio\u001b[0m\u001b[0;34m.\u001b[0m\u001b[0mrun\u001b[0m\u001b[0;34m(\u001b[0m\u001b[0mself\u001b[0m\u001b[0;34m.\u001b[0m\u001b[0msend_sync_message\u001b[0m\u001b[0;34m(\u001b[0m\u001b[0mmsg\u001b[0m\u001b[0;34m=\u001b[0m\u001b[0mmsg\u001b[0m\u001b[0;34m)\u001b[0m\u001b[0;34m)\u001b[0m\u001b[0;34m,\u001b[0m\u001b[0;34m\u001b[0m\u001b[0;34m\u001b[0m\u001b[0m\n\u001b[0m\u001b[1;32m    518\u001b[0m                 \u001b[0mobject\u001b[0m\u001b[0;34m,\u001b[0m\u001b[0;34m\u001b[0m\u001b[0;34m\u001b[0m\u001b[0m\n\u001b[1;32m    519\u001b[0m             )\n",
      "\u001b[0;32m/opt/conda/lib/python3.9/site-packages/nest_asyncio.py\u001b[0m in \u001b[0;36mrun\u001b[0;34m(future, debug)\u001b[0m\n\u001b[1;32m     30\u001b[0m         \u001b[0mloop\u001b[0m \u001b[0;34m=\u001b[0m \u001b[0masyncio\u001b[0m\u001b[0;34m.\u001b[0m\u001b[0mget_event_loop\u001b[0m\u001b[0;34m(\u001b[0m\u001b[0;34m)\u001b[0m\u001b[0;34m\u001b[0m\u001b[0;34m\u001b[0m\u001b[0m\n\u001b[1;32m     31\u001b[0m         \u001b[0mloop\u001b[0m\u001b[0;34m.\u001b[0m\u001b[0mset_debug\u001b[0m\u001b[0;34m(\u001b[0m\u001b[0mdebug\u001b[0m\u001b[0;34m)\u001b[0m\u001b[0;34m\u001b[0m\u001b[0;34m\u001b[0m\u001b[0m\n\u001b[0;32m---> 32\u001b[0;31m         \u001b[0;32mreturn\u001b[0m \u001b[0mloop\u001b[0m\u001b[0;34m.\u001b[0m\u001b[0mrun_until_complete\u001b[0m\u001b[0;34m(\u001b[0m\u001b[0mfuture\u001b[0m\u001b[0;34m)\u001b[0m\u001b[0;34m\u001b[0m\u001b[0;34m\u001b[0m\u001b[0m\n\u001b[0m\u001b[1;32m     33\u001b[0m \u001b[0;34m\u001b[0m\u001b[0m\n\u001b[1;32m     34\u001b[0m     \u001b[0;32mif\u001b[0m \u001b[0msys\u001b[0m\u001b[0;34m.\u001b[0m\u001b[0mversion_info\u001b[0m \u001b[0;34m>=\u001b[0m \u001b[0;34m(\u001b[0m\u001b[0;36m3\u001b[0m\u001b[0;34m,\u001b[0m \u001b[0;36m6\u001b[0m\u001b[0;34m,\u001b[0m \u001b[0;36m0\u001b[0m\u001b[0;34m)\u001b[0m\u001b[0;34m:\u001b[0m\u001b[0;34m\u001b[0m\u001b[0;34m\u001b[0m\u001b[0m\n",
      "\u001b[0;32m/opt/conda/lib/python3.9/site-packages/nest_asyncio.py\u001b[0m in \u001b[0;36mrun_until_complete\u001b[0;34m(self, future)\u001b[0m\n\u001b[1;32m     62\u001b[0m                 \u001b[0mf\u001b[0m\u001b[0;34m.\u001b[0m\u001b[0m_log_destroy_pending\u001b[0m \u001b[0;34m=\u001b[0m \u001b[0;32mFalse\u001b[0m\u001b[0;34m\u001b[0m\u001b[0;34m\u001b[0m\u001b[0m\n\u001b[1;32m     63\u001b[0m             \u001b[0;32mwhile\u001b[0m \u001b[0;32mnot\u001b[0m \u001b[0mf\u001b[0m\u001b[0;34m.\u001b[0m\u001b[0mdone\u001b[0m\u001b[0;34m(\u001b[0m\u001b[0;34m)\u001b[0m\u001b[0;34m:\u001b[0m\u001b[0;34m\u001b[0m\u001b[0;34m\u001b[0m\u001b[0m\n\u001b[0;32m---> 64\u001b[0;31m                 \u001b[0mself\u001b[0m\u001b[0;34m.\u001b[0m\u001b[0m_run_once\u001b[0m\u001b[0;34m(\u001b[0m\u001b[0;34m)\u001b[0m\u001b[0;34m\u001b[0m\u001b[0;34m\u001b[0m\u001b[0m\n\u001b[0m\u001b[1;32m     65\u001b[0m                 \u001b[0;32mif\u001b[0m \u001b[0mself\u001b[0m\u001b[0;34m.\u001b[0m\u001b[0m_stopping\u001b[0m\u001b[0;34m:\u001b[0m\u001b[0;34m\u001b[0m\u001b[0;34m\u001b[0m\u001b[0m\n\u001b[1;32m     66\u001b[0m                     \u001b[0;32mbreak\u001b[0m\u001b[0;34m\u001b[0m\u001b[0;34m\u001b[0m\u001b[0m\n",
      "\u001b[0;32m/opt/conda/lib/python3.9/site-packages/nest_asyncio.py\u001b[0m in \u001b[0;36m_run_once\u001b[0;34m(self)\u001b[0m\n\u001b[1;32m     85\u001b[0m             \u001b[0;32melse\u001b[0m \u001b[0mmin\u001b[0m\u001b[0;34m(\u001b[0m\u001b[0mmax\u001b[0m\u001b[0;34m(\u001b[0m\u001b[0mscheduled\u001b[0m\u001b[0;34m[\u001b[0m\u001b[0;36m0\u001b[0m\u001b[0;34m]\u001b[0m\u001b[0;34m.\u001b[0m\u001b[0m_when\u001b[0m \u001b[0;34m-\u001b[0m \u001b[0mnow\u001b[0m\u001b[0;34m,\u001b[0m \u001b[0;36m0\u001b[0m\u001b[0;34m)\u001b[0m\u001b[0;34m,\u001b[0m \u001b[0;36m86400\u001b[0m\u001b[0;34m)\u001b[0m \u001b[0;32mif\u001b[0m \u001b[0mscheduled\u001b[0m\u001b[0;34m\u001b[0m\u001b[0;34m\u001b[0m\u001b[0m\n\u001b[1;32m     86\u001b[0m             else None)\n\u001b[0;32m---> 87\u001b[0;31m         \u001b[0mevent_list\u001b[0m \u001b[0;34m=\u001b[0m \u001b[0mself\u001b[0m\u001b[0;34m.\u001b[0m\u001b[0m_selector\u001b[0m\u001b[0;34m.\u001b[0m\u001b[0mselect\u001b[0m\u001b[0;34m(\u001b[0m\u001b[0mtimeout\u001b[0m\u001b[0;34m)\u001b[0m\u001b[0;34m\u001b[0m\u001b[0;34m\u001b[0m\u001b[0m\n\u001b[0m\u001b[1;32m     88\u001b[0m         \u001b[0mself\u001b[0m\u001b[0;34m.\u001b[0m\u001b[0m_process_events\u001b[0m\u001b[0;34m(\u001b[0m\u001b[0mevent_list\u001b[0m\u001b[0;34m)\u001b[0m\u001b[0;34m\u001b[0m\u001b[0;34m\u001b[0m\u001b[0m\n\u001b[1;32m     89\u001b[0m \u001b[0;34m\u001b[0m\u001b[0m\n",
      "\u001b[0;32m/opt/conda/lib/python3.9/selectors.py\u001b[0m in \u001b[0;36mselect\u001b[0;34m(self, timeout)\u001b[0m\n\u001b[1;32m    467\u001b[0m             \u001b[0mready\u001b[0m \u001b[0;34m=\u001b[0m \u001b[0;34m[\u001b[0m\u001b[0;34m]\u001b[0m\u001b[0;34m\u001b[0m\u001b[0;34m\u001b[0m\u001b[0m\n\u001b[1;32m    468\u001b[0m             \u001b[0;32mtry\u001b[0m\u001b[0;34m:\u001b[0m\u001b[0;34m\u001b[0m\u001b[0;34m\u001b[0m\u001b[0m\n\u001b[0;32m--> 469\u001b[0;31m                 \u001b[0mfd_event_list\u001b[0m \u001b[0;34m=\u001b[0m \u001b[0mself\u001b[0m\u001b[0;34m.\u001b[0m\u001b[0m_selector\u001b[0m\u001b[0;34m.\u001b[0m\u001b[0mpoll\u001b[0m\u001b[0;34m(\u001b[0m\u001b[0mtimeout\u001b[0m\u001b[0;34m,\u001b[0m \u001b[0mmax_ev\u001b[0m\u001b[0;34m)\u001b[0m\u001b[0;34m\u001b[0m\u001b[0;34m\u001b[0m\u001b[0m\n\u001b[0m\u001b[1;32m    470\u001b[0m             \u001b[0;32mexcept\u001b[0m \u001b[0mInterruptedError\u001b[0m\u001b[0;34m:\u001b[0m\u001b[0;34m\u001b[0m\u001b[0;34m\u001b[0m\u001b[0m\n\u001b[1;32m    471\u001b[0m                 \u001b[0;32mreturn\u001b[0m \u001b[0mready\u001b[0m\u001b[0;34m\u001b[0m\u001b[0;34m\u001b[0m\u001b[0m\n",
      "\u001b[0;31mKeyboardInterrupt\u001b[0m: "
     ]
    }
   ],
   "source": [
    "from IPython.core.debugger import set_trace\n",
    "\n",
    "duet_m1.store.pandas"
   ]
  },
  {
   "cell_type": "markdown",
   "id": "26bfcf8c",
   "metadata": {},
   "source": [
    "## 2 - Secure Multi-Party Computation"
   ]
  },
  {
   "cell_type": "code",
   "execution_count": 5,
   "id": "03bfd628",
   "metadata": {
    "jupyter": {
     "outputs_hidden": false
    },
    "pycharm": {
     "name": "#%%\n"
    }
   },
   "outputs": [
    {
     "name": "stdout",
     "output_type": "stream",
     "text": [
      "<sympc.session.session.Session object at 0x7f25ca59fd00>\n"
     ]
    }
   ],
   "source": [
    "# Step 5: Setup session with all duets\n",
    "session = Session(parties=[duet_m1, duet_ds])\n",
    "print(session)"
   ]
  },
  {
   "cell_type": "code",
   "execution_count": 6,
   "id": "4bce4445",
   "metadata": {
    "jupyter": {
     "outputs_hidden": false
    },
    "pycharm": {
     "name": "#%%\n"
    }
   },
   "outputs": [
    {
     "name": "stdout",
     "output_type": "stream",
     "text": [
      "CryptoStore: Initialize store\n"
     ]
    }
   ],
   "source": [
    "# Step 6: Setup MPC session\n",
    "SessionManager.setup_mpc(session)"
   ]
  },
  {
   "cell_type": "code",
   "execution_count": 7,
   "id": "72288ccd",
   "metadata": {},
   "outputs": [
    {
     "data": {
      "text/html": [
       "<div>\n",
       "<style scoped>\n",
       "    .dataframe tbody tr th:only-of-type {\n",
       "        vertical-align: middle;\n",
       "    }\n",
       "\n",
       "    .dataframe tbody tr th {\n",
       "        vertical-align: top;\n",
       "    }\n",
       "\n",
       "    .dataframe thead th {\n",
       "        text-align: right;\n",
       "    }\n",
       "</style>\n",
       "<table border=\"1\" class=\"dataframe\">\n",
       "  <thead>\n",
       "    <tr style=\"text-align: right;\">\n",
       "      <th></th>\n",
       "      <th>ID</th>\n",
       "      <th>Tags</th>\n",
       "      <th>Description</th>\n",
       "      <th>object_type</th>\n",
       "    </tr>\n",
       "  </thead>\n",
       "  <tbody>\n",
       "    <tr>\n",
       "      <th>0</th>\n",
       "      <td>&lt;UID: 389efea099c545bbbe3e1b7df6130292&gt;</td>\n",
       "      <td>[]</td>\n",
       "      <td></td>\n",
       "      <td>&lt;class 'sympc.session.session.Session'&gt;</td>\n",
       "    </tr>\n",
       "  </tbody>\n",
       "</table>\n",
       "</div>"
      ],
      "text/plain": [
       "                                        ID Tags Description  \\\n",
       "0  <UID: 389efea099c545bbbe3e1b7df6130292>   []               \n",
       "\n",
       "                               object_type  \n",
       "0  <class 'sympc.session.session.Session'>  "
      ]
     },
     "execution_count": 7,
     "metadata": {},
     "output_type": "execute_result"
    }
   ],
   "source": [
    "duet_ds.store.pandas"
   ]
  },
  {
   "cell_type": "code",
   "execution_count": null,
   "id": "9658a2c9",
   "metadata": {
    "jupyter": {
     "outputs_hidden": false
    },
    "pycharm": {
     "name": "#%%\n"
    }
   },
   "outputs": [
    {
     "name": "stdout",
     "output_type": "stream",
     "text": [
      "Automatic pdb calling has been turned ON\n"
     ]
    }
   ],
   "source": [
    "from IPython.core.debugger import set_trace\n",
    "\n",
    "# Step 7: NOW we're ready to set up private operaitions\n",
    "%pdb\n",
    "duet_m1.store.pandas"
   ]
  },
  {
   "cell_type": "code",
   "execution_count": null,
   "id": "c5b1e7cc",
   "metadata": {
    "jupyter": {
     "outputs_hidden": false
    },
    "pycharm": {
     "name": "#%%\n"
    }
   },
   "outputs": [],
   "source": [
    "# Step 12: basic operations\n",
    "x_secret = duet_m1.store[\"TEST_#1_from_m1_to_ds\"] # describe local data to test sum, substract, and multiply"
   ]
  },
  {
   "cell_type": "code",
   "execution_count": null,
   "id": "810a62a4",
   "metadata": {
    "jupyter": {
     "outputs_hidden": false
    },
    "pycharm": {
     "name": "#%%\n"
    }
   },
   "outputs": [],
   "source": [
    "y = torch.Tensor([[-5,8,1,7,6,100]]) # Local data"
   ]
  },
  {
   "cell_type": "code",
   "execution_count": null,
   "id": "50fbd40d",
   "metadata": {
    "jupyter": {
     "outputs_hidden": false
    },
    "pycharm": {
     "name": "#%%\n"
    }
   },
   "outputs": [],
   "source": [
    "x = MPCTensor(secret=x_secret, shape=(1,), session=session)  # MPC Tensor from x_secret"
   ]
  },
  {
   "cell_type": "markdown",
   "id": "869818fe",
   "metadata": {},
   "source": [
    "The following lines of codes always receive an error message.\n",
    "[See Github issue](https://github.com/OpenMined/SyMPC/issues/282)."
   ]
  },
  {
   "cell_type": "code",
   "execution_count": null,
   "id": "a69222d1",
   "metadata": {
    "jupyter": {
     "outputs_hidden": false
    },
    "pycharm": {
     "name": "#%%\n"
    }
   },
   "outputs": [],
   "source": [
    "print(\"X + Y = \",(x + y).reconstruct())"
   ]
  },
  {
   "cell_type": "code",
   "execution_count": null,
   "id": "9af654fb",
   "metadata": {
    "jupyter": {
     "outputs_hidden": false
    },
    "pycharm": {
     "name": "#%%\n"
    }
   },
   "outputs": [],
   "source": [
    "print(\"X - Y = \", (x - y).reconstruct())"
   ]
  },
  {
   "cell_type": "code",
   "execution_count": null,
   "id": "3c375ede",
   "metadata": {
    "jupyter": {
     "outputs_hidden": false
    },
    "pycharm": {
     "name": "#%%\n"
    }
   },
   "outputs": [],
   "source": [
    "print(\"X * Y = \", (x * y).reconstruct())"
   ]
  },
  {
   "cell_type": "code",
   "execution_count": null,
   "id": "111c9176",
   "metadata": {},
   "outputs": [],
   "source": []
  },
  {
   "cell_type": "code",
   "execution_count": null,
   "id": "5ad5f34c",
   "metadata": {},
   "outputs": [],
   "source": []
  },
  {
   "cell_type": "code",
   "execution_count": null,
   "id": "67104ee7",
   "metadata": {},
   "outputs": [],
   "source": []
  },
  {
   "cell_type": "code",
   "execution_count": null,
   "id": "00dff4b2",
   "metadata": {},
   "outputs": [],
   "source": []
  },
  {
   "cell_type": "markdown",
   "id": "209c6f58",
   "metadata": {},
   "source": [
    "## Terminate Controller\n",
    "\n",
    "Whenever you have finished with this notebook, be sure to terminate the controller. This is especially important if your business logic runs across multiple notebooks."
   ]
  },
  {
   "cell_type": "code",
   "execution_count": null,
   "id": "97ff9552",
   "metadata": {},
   "outputs": [],
   "source": [
    "await agent_controller.terminate()"
   ]
  },
  {
   "cell_type": "code",
   "execution_count": null,
   "id": "104c870c",
   "metadata": {},
   "outputs": [],
   "source": []
  }
 ],
 "metadata": {
  "kernelspec": {
   "display_name": "Python 3",
   "language": "python",
   "name": "python3"
  },
  "language_info": {
   "codemirror_mode": {
    "name": "ipython",
    "version": 3
   },
   "file_extension": ".py",
   "mimetype": "text/x-python",
   "name": "python",
   "nbconvert_exporter": "python",
   "pygments_lexer": "ipython3",
   "version": "3.9.1"
  }
 },
 "nbformat": 4,
 "nbformat_minor": 5
}
