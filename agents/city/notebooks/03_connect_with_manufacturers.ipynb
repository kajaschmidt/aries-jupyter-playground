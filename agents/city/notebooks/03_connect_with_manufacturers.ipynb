{
 "cells": [
  {
   "cell_type": "markdown",
   "id": "e10d42d5",
   "metadata": {},
   "source": [
    "# PETs/TETs – Hyperledger Aries / PySyft – City (Relying Party) 🏙️"
   ]
  },
  {
   "cell_type": "code",
   "execution_count": 1,
   "id": "0ca20519",
   "metadata": {},
   "outputs": [
    {
     "data": {
      "application/javascript": [
       "document.title ='🏙️ City Agent'\n"
      ],
      "text/plain": [
       "<IPython.core.display.Javascript object>"
      ]
     },
     "metadata": {},
     "output_type": "display_data"
    }
   ],
   "source": [
    "%%javascript\n",
    "document.title ='🏙️ City Agent'"
   ]
  },
  {
   "cell_type": "markdown",
   "id": "b400be66",
   "metadata": {},
   "source": [
    "## PART 3: Connect with Manufacturers and Analyze Data\n",
    "\n",
    "**What:** -\n",
    "\n",
    "**Why:** -\n",
    "\n",
    "**How:** <br>\n",
    "\n",
    "\n",
    "**Accompanying Agents and Notebooks:**\n",
    "* Manufacturer1 💼: `03_connect_with_city.ipynb`\n",
    "* Manufacturer2 💼: `03_connect_with_city.ipynb`\n",
    "* Manufacturer3 💼: `03_connect_with_city.ipynb`"
   ]
  },
  {
   "cell_type": "markdown",
   "id": "6bf041c3",
   "metadata": {
    "pycharm": {
     "name": "#%% md\n"
    }
   },
   "source": [
    "---\n",
    "\n",
    "### 0 - Setup\n",
    "#### 0.1 - Imports"
   ]
  },
  {
   "cell_type": "code",
   "execution_count": 2,
   "id": "1c707bb2",
   "metadata": {},
   "outputs": [],
   "source": [
    "import libs.helpers as helpers\n",
    "import os\n",
    "import syft as sy\n",
    "import time\n",
    "import torch\n",
    "import sympc\n",
    "\n",
    "from aries_cloudcontroller import AriesAgentController\n",
    "from libs.agent_connection_manager import RelyingParty\n",
    "from pprintpp import pprint\n",
    "from termcolor import colored\n",
    "from sympc.session import Session\n",
    "from sympc.session import SessionManager\n",
    "from sympc.tensor import MPCTensor"
   ]
  },
  {
   "cell_type": "markdown",
   "id": "e1a09302",
   "metadata": {},
   "source": [
    "#### 0.2 – Variables"
   ]
  },
  {
   "cell_type": "code",
   "execution_count": 3,
   "id": "c5a301f6",
   "metadata": {},
   "outputs": [],
   "source": [
    "# Get relevant details from .env file\n",
    "api_key = os.getenv(\"ACAPY_ADMIN_API_KEY\")\n",
    "admin_url = os.getenv(\"ADMIN_URL\")\n",
    "webhook_port = int(os.getenv(\"WEBHOOK_PORT\"))\n",
    "webhook_host = \"0.0.0.0\""
   ]
  },
  {
   "cell_type": "markdown",
   "id": "7b5d53d3",
   "metadata": {},
   "source": [
    "---\n",
    "\n",
    "<a id=1></a>\n",
    "\n",
    "### 1 – Initiate City Agent\n",
    "#### 1.1 – Init ACA-PY agent controller"
   ]
  },
  {
   "cell_type": "code",
   "execution_count": 4,
   "id": "de3953dd",
   "metadata": {},
   "outputs": [
    {
     "name": "stdout",
     "output_type": "stream",
     "text": [
      "Initialising a controller with admin api at http://city-agent:3021 and an api key of adminApiKey\n"
     ]
    }
   ],
   "source": [
    "# Setup\n",
    "agent_controller = AriesAgentController(admin_url,api_key)\n",
    "print(f\"Initialising a controller with admin api at {admin_url} and an api key of {api_key}\")"
   ]
  },
  {
   "cell_type": "markdown",
   "id": "091ad1f0",
   "metadata": {},
   "source": [
    "#### 1.2 – Start Webhook Server to enable communication with other agents\n",
    "@todo: is communication with other agents, or with other docker containers?"
   ]
  },
  {
   "cell_type": "code",
   "execution_count": 5,
   "id": "98cf2302",
   "metadata": {},
   "outputs": [
    {
     "name": "stdout",
     "output_type": "stream",
     "text": [
      "Listening for webhooks from agent at http://0.0.0.0:3010\n"
     ]
    }
   ],
   "source": [
    "# Listen on webhook server\n",
    "await agent_controller.init_webhook_server(webhook_host, webhook_port)\n",
    "print(f\"Listening for webhooks from agent at http://{webhook_host}:{webhook_port}\")"
   ]
  },
  {
   "cell_type": "markdown",
   "id": "1c608cbd",
   "metadata": {},
   "source": [
    "#### 1.3 – Init ACM issuing authority"
   ]
  },
  {
   "cell_type": "code",
   "execution_count": 6,
   "id": "dbfaada5",
   "metadata": {
    "collapsed": false,
    "jupyter": {
     "outputs_hidden": false
    },
    "pycharm": {
     "name": "#%%\n"
    }
   },
   "outputs": [
    {
     "name": "stdout",
     "output_type": "stream",
     "text": [
      "\u001b[1m\u001b[32mSuccessfully initiated AgentConnectionManager for a(n) RelyingParty ACA-PY agent\u001b[0m\n"
     ]
    }
   ],
   "source": [
    "# The CredentialHolder registers relevant webhook servers and event listeners\n",
    "city_agent = RelyingParty(agent_controller)"
   ]
  },
  {
   "cell_type": "markdown",
   "id": "f27573ed",
   "metadata": {},
   "source": [
    "---\n",
    "\n",
    "<a id=2></a>\n",
    "\n",
    "### 2 – Establish a connection with the Authority agent\n",
    "\n",
    "#### 2.1  – Create multi-use invitation\n",
    "Send out a multi-use invitation to all manufacturer agents (i.e., copy & paste the same invitation to manufacturer1, manufacturer2, manufacturer3). This represents a scenario where the City agent invites any agent to connect with them, and authenticate as manufacturers. \n",
    "\n",
    "🕵️‍️ The advantage of a multi-use invitation is, that the City is unaware about who accessed the invitation link and is trying to get in contact with the City. The City agent only knows the names defined in `ACAPY_LABEL` (see respective `.env` files), and does not know which agent is which manufacturer.\n",
    "\n",
    "**Note:** Please establish a connection with all three manufacturer agents."
   ]
  },
  {
   "cell_type": "code",
   "execution_count": 7,
   "id": "780a702d",
   "metadata": {},
   "outputs": [
    {
     "name": "stdout",
     "output_type": "stream",
     "text": [
      "\n",
      "---------------------------------------------------------------------\n",
      "\u001b[1mConnection Webhook Event Received: Connections Handler\u001b[0m\n",
      "Connection ID :  899e5727-9797-47a1-997b-3749a90e73e0\n",
      "State :  \u001b[34minvitation (invitation-sent)\u001b[0m\n",
      "Routing State : none\n",
      "Their Role :  invitee\n",
      "---------------------------------------------------------------------\n",
      "\u001b[1m\u001b[35m\n",
      "Copy & paste invitation and share with external agent(s):\u001b[0m\n",
      "{\n",
      "    '@id': '83c7c09f-a422-4983-9348-b1e123f1fe7d',\n",
      "    '@type': 'did:sov:BzCbsNYhMrjHiqZDTUASHg;spec/connections/1.0/invitation',\n",
      "    'label': 'City-Agency',\n",
      "    'recipientKeys': ['GjWMfWa7fNjSL5MLjPYBaPmmpTAZ8cMqQwpxyPxBg5Rz'],\n",
      "    'serviceEndpoint': 'https://09fc-193-9-114-179.ngrok.io',\n",
      "}\n",
      "\n",
      "---------------------------------------------------------------------\n",
      "\u001b[1mConnection Webhook Event Received: Connections Handler\u001b[0m\n",
      "Connection ID :  902e1d3c-39c3-4317-ab9c-1d0ba16673ed\n",
      "State :  \u001b[34minvitation (invitation-sent)\u001b[0m\n",
      "Routing State : none\n",
      "Their Role :  invitee\n",
      "---------------------------------------------------------------------\n",
      "\n",
      "---------------------------------------------------------------------\n",
      "\u001b[1mConnection Webhook Event Received: Connections Handler\u001b[0m\n",
      "Connection ID :  902e1d3c-39c3-4317-ab9c-1d0ba16673ed\n",
      "State :  \u001b[34mrequest (request-received)\u001b[0m\n",
      "Routing State : none\n",
      "Connection with :  AnonymousAgent1\n",
      "Their Role :  invitee\n",
      "---------------------------------------------------------------------\n",
      "\n",
      "---------------------------------------------------------------------\n",
      "\u001b[1mConnection Webhook Event Received: Connections Handler\u001b[0m\n",
      "Connection ID :  902e1d3c-39c3-4317-ab9c-1d0ba16673ed\n",
      "State :  \u001b[34mresponse (response-sent)\u001b[0m\n",
      "Routing State : none\n",
      "Connection with :  AnonymousAgent1\n",
      "Their Role :  invitee\n",
      "---------------------------------------------------------------------\n",
      "\n",
      "---------------------------------------------------------------------\n",
      "\u001b[1mConnection Webhook Event Received: Connections Handler\u001b[0m\n",
      "Connection ID :  902e1d3c-39c3-4317-ab9c-1d0ba16673ed\n",
      "State :  \u001b[34mactive (completed)\u001b[0m\n",
      "Routing State : none\n",
      "Connection with :  AnonymousAgent1\n",
      "Their Role :  invitee\n",
      "---------------------------------------------------------------------\n",
      "\u001b[1m\u001b[32m\n",
      "Connection ID: 902e1d3c-39c3-4317-ab9c-1d0ba16673ed is now active\u001b[0m\n"
     ]
    }
   ],
   "source": [
    "# Setup for connection with Authority agent\n",
    "alias = \"Connection 1\"\n",
    "auto_accept = True # Accept response of Authority agent right away\n",
    "auto_ping = True\n",
    "public = False # Do not use public DID\n",
    "multi_use = True # Invitation is only for one invitee\n",
    "\n",
    "invitation = city_agent.create_connection_invitation(alias=alias, auto_accept=auto_accept, public=public, multi_use=multi_use, auto_ping=auto_ping)"
   ]
  },
  {
   "cell_type": "markdown",
   "id": "97fff30a",
   "metadata": {},
   "source": [
    "<div style=\"font-size: 25px\"><center><b>Break Point 1</b></center></div>\n",
    "<div style=\"font-size: 50px\"><center>🏙️ ➡️ 💼💼💼</center></div><br>\n",
    "<center><b>Please open all manufacturer agents 💼💼💼. <br> For each of the manufacturer agents, open the 03_connect_with_city.ipynb notebook and execute all steps until Break Point 2/3/4. <br> Use the same invitation from the City Agent 🏙️ in Step 2.1 for all Manufacturers.</b></center>\n"
   ]
  },
  {
   "cell_type": "markdown",
   "id": "0b7c4069",
   "metadata": {},
   "source": [
    "#### 2.2 – Display all active connections"
   ]
  },
  {
   "cell_type": "code",
   "execution_count": 8,
   "id": "19c3aeb6",
   "metadata": {},
   "outputs": [
    {
     "name": "stdout",
     "output_type": "stream",
     "text": [
      "\n",
      "---------------------------------------------------------------------\n",
      "\u001b[1mConnection with AnonymousAgent1\u001b[0m\n",
      "Connection ID :  902e1d3c-39c3-4317-ab9c-1d0ba16673ed\n",
      "Connection with :  AnonymousAgent1\n",
      "Is Active :  \u001b[32mTrue\u001b[0m\n",
      "Auto Ping :  True\n",
      "Auto Accept :  True\n",
      "Connection Alias :  None\n",
      "Presentation Exchange IDs :  []\n",
      "---------------------------------------------------------------------\n"
     ]
    }
   ],
   "source": [
    "# Display all active connections\n",
    "for conn in city_agent.get_active_connections():\n",
    "    conn.display()"
   ]
  },
  {
   "cell_type": "markdown",
   "id": "89c0f6fd",
   "metadata": {},
   "source": [
    "#### 2.3 – Fetch all connection_ids of the active connections with the respective manufacturer agents"
   ]
  },
  {
   "cell_type": "code",
   "execution_count": 10,
   "id": "7240d386",
   "metadata": {},
   "outputs": [],
   "source": [
    "# Get conneciton_id with Manufacturer1\n",
    "connection_id_a1 = city_agent.get_connection_id(\"AnonymousAgent1\")[-1] # We assume that there is only one connection with Manufacturer1\n",
    "\n",
    "# Get conneciton_id with Manufacturer2\n",
    "#connection_id_a2 = city_agent.get_connection_id(\"AnonymousAgent2\")[-1] # We assume that there is only one connection with Manufacturer2\n",
    "\n",
    "# Get conneciton_id with Manufacturer3\n",
    "#connection_id_a3 = city_agent.get_connection_id(\"AnonymousAgent3\")[-1] # We assume that there is only one connection with Manufacturer3"
   ]
  },
  {
   "cell_type": "markdown",
   "id": "14ee348d",
   "metadata": {},
   "source": [
    "### 3 – Send Proof Request\n",
    "\n",
    "#### 3.1 Define VC Presentation Request Object\n",
    "\n",
    "The below cell defines a generic presentation request object, that can be sent across specific connections requesting that they produce a presentation containing the identified attributes and meeting the restrictions.\n",
    "\n",
    "It is often useful to define your request objects first, then reuse these objects across many connections you wish to request a proof from. \n",
    "\n",
    "Duplicate and customise the below cell as many times as you need. It may be useful to save these request objects either to the jupyter store using %store or through\n",
    "\n",
    "TODO: Detail the full set of restrictions available to a verifier."
   ]
  },
  {
   "cell_type": "code",
   "execution_count": null,
   "id": "a8ba9ef7",
   "metadata": {},
   "outputs": [],
   "source": [
    "# Define which scheme we want a proof from\n",
    "identifiers = helpers.get_identifiers()\n",
    "schema_manufacturer_id = identifiers[\"manufacturer_schema_identifiers\"][\"schema_id\"]\n",
    "\n",
    "# Define the attributes we want from the scheme\n",
    "req_attrs = [{\"name\": \"isManufacturer\", \"restrictions\": [{\"schema_id\": schema_manufacturer_id}]}]\n",
    "\n",
    "# Define proof_request\n",
    "manufacturer_proof_request = {\n",
    "    \"name\": \"isManufacturer Proof Request\",\n",
    "    \"version\": \"1.0\",\n",
    "    \"requested_attributes\": {f\"0_{req_attr['name']}_uuid\": req_attr for req_attr in req_attrs },\n",
    "    # Ignore predicates (e.g., range proofs)\n",
    "    \"requested_predicates\": {}, #{f\"0_{req_pred['name']}_GE_uuid\": req_pred for req_pred in req_preds },\n",
    "    # You can also request the entire proof request be non-revoked\n",
    "    \"non_revoked\":  {\"to\": int(time.time())}\n",
    "}\n",
    "\n",
    "print(colored(\"Manufacturer Proof Request:\", attrs=[\"bold\"]))\n",
    "pprint(manufacturer_proof_request)"
   ]
  },
  {
   "cell_type": "markdown",
   "id": "84fae958",
   "metadata": {},
   "source": [
    "#### 3.2 – Send Proof Request\n",
    "The proof request asks the agent at the other end of `connection_id` to prove attributes defined within `manufacturer_proof_request` using the manufacturer schema.\n",
    "\n",
    "The resulting presentation request is encoded in base64 and packed into a DIDComm Message. The `@type` attribute in the presentation request defines the protocol present-proof and the message request-presentation.\n",
    "\n",
    "Overall, the proof-presentation proceedure has xx steps:\n",
    "1. request_sent\n",
    "2. request_received\n",
    "3. presentation_sent\n",
    "4. presentation_received\n",
    "5. presentation_acked \n",
    "6. verified"
   ]
  },
  {
   "cell_type": "code",
   "execution_count": null,
   "id": "f7ba0ef7",
   "metadata": {},
   "outputs": [],
   "source": [
    "# Send proof request to Manufacturer1 and get presentation_exchange_id for connection with manufacturer 1\n",
    "presentation_exchange_id_a1 = city_agent.send_proof_request(\n",
    "    connection_id=connection_id_a1, \n",
    "    proof_request=manufacturer_proof_request, \n",
    "    comment=\"Please prove that you are an agent who is a certified manufacturer\"\n",
    ")\n",
    "\n",
    "\n",
    "\"\"\"\n",
    "# Send proof request to Manufacturer2 and get presentation_exchange_id for connection with manufacturer 2\n",
    "presentation_exchange_id_a2 = city_agent.send_proof_request(\n",
    "    connection_id=connection_id_a2, \n",
    "    proof_request=manufacturer_proof_request, \n",
    "    comment=\"Please prove that you are an agent who is a certified manufacturer\"\n",
    ")\n",
    "\n",
    "# Send proof request to Manufacturer3 and get presentation_exchange_id for connection with manufacturer 3\n",
    "presentation_exchange_id_a3 = city_agent.send_proof_request(\n",
    "    connection_id=connection_id_a3, \n",
    "    proof_request=manufacturer_proof_request, \n",
    "    comment=\"Please prove that you are an agent who is a certified manufacturer\"\n",
    ")\"\"\""
   ]
  },
  {
   "cell_type": "markdown",
   "id": "b9d0493b",
   "metadata": {},
   "source": [
    "<div style=\"font-size: 25px\"><center><b>Break Point 5</b></center></div>\n",
    "<div style=\"font-size: 50px\"><center>🏙️ ➡️ 💼💼💼</center></div><br>\n",
    "<center><b>Please go to all manufacturer agents 💼💼💼. <br> For each of the manufacturer agents, continue with executing Step 3</b></center>\n",
    "\n",
    "#### 3.3 – Verify Proof Presentations\n",
    "\n",
    "When proof presentations are received by the manufacturers (see output under Step 3.2), you can verify whether the proof presentations are valid. \n",
    "A presentation object contains three classes of attributes. \n",
    "* Revealed Attributes: Attributes that were signed by an issuer and have been revealed in the presentation process\n",
    "* Self Attested Attributes: Attributes that the prover has self attested to in the presentation object.\n",
    "* Predicate proofs: Attribute values that have been proven to meet some statement. (TODO: Show how you can parse this information)\n",
    "\n",
    "Execute the following cell. The `verify_proof_presentation()` function verifies the proof presentation, and parses out relevant information. The returning value states whether the presentation proof is valid or not. In the use case at hand, because only one variable is verified, the boolean denotes if the agent is a manufacturer or not."
   ]
  },
  {
   "cell_type": "code",
   "execution_count": null,
   "id": "3349d5c6",
   "metadata": {},
   "outputs": [],
   "source": [
    "a1_is_manufacturer = city_agent.verify_proof_presentation(presentation_exchange_id_a1)\n",
    "a2_is_manufacturer = city_agent.verify_proof_presentation(presentation_exchange_id_a2)\n",
    "a3_is_manufacturer = city_agent.verify_proof_presentation(presentation_exchange_id_a3)"
   ]
  },
  {
   "cell_type": "markdown",
   "id": "6d00ab3a",
   "metadata": {},
   "source": [
    "--- \n",
    "\n",
    "### 4 – Do Data Science\n",
    "\n",
    "#### 4.1 – Establish a Duet connections\n",
    "Duet is a package that allows you to exchange encrypted data and run privacy-preserving arithmetic operations on them (e.g., through homomorphic encryption or secure multiparty computation). The ACM package is configured to allow the exchange of duet tokens. Only one duet connection can be established per aries connection.\n",
    "\n",
    "##### Duet Connection with AnonymousAgent1"
   ]
  },
  {
   "cell_type": "code",
   "execution_count": 11,
   "id": "4a5ca284",
   "metadata": {},
   "outputs": [
    {
     "name": "stdout",
     "output_type": "stream",
     "text": [
      "🎤  🎸  ♪♪♪ Joining Duet ♫♫♫  🎻  🎹\n",
      "\n",
      "♫♫♫ >\u001b[93m DISCLAIMER\u001b[0m: \u001b[1mDuet is an experimental feature currently in beta.\n",
      "♫♫♫ > Use at your own risk.\n",
      "\u001b[0m\n",
      "\u001b[1m\n",
      "    > ❤️ \u001b[91mLove\u001b[0m \u001b[92mDuet\u001b[0m? \u001b[93mPlease\u001b[0m \u001b[94mconsider\u001b[0m \u001b[95msupporting\u001b[0m \u001b[91mour\u001b[0m \u001b[93mcommunity!\u001b[0m\n",
      "    > https://github.com/sponsors/OpenMined\u001b[1m\n",
      "\n",
      "♫♫♫ > Punching through firewall to OpenGrid Network Node at:\n",
      "♫♫♫ > http://ec2-18-218-7-180.us-east-2.compute.amazonaws.com:5000\n",
      "♫♫♫ >\n",
      "♫♫♫ > ...waiting for response from OpenGrid Network... \n",
      "♫♫♫ > \u001b[92mDONE!\u001b[0m\n",
      "\n",
      "♫♫♫ > \u001b[1mSTEP 1:\u001b[0m Awaiting Duet Token from Duet Partner...\n",
      "\n",
      "♫♫♫ > \u001b[1m\u001b[32mDONE!\u001b[0m Partner's Duet Token: 3c19d7f967d8e2b5f9e66a8eee3c3c0c\n",
      "\n",
      "♫♫♫ > \u001b[1mSTEP 2:\u001b[0m Sending Duet Token 1736525906a45a956af050987815ecac\n",
      "♫♫♫ > to Duet Partner AnonymousAgent1\n",
      "♫♫♫ > via Connection ID 902e1d3c-39c3-4317-ab9c-1d0ba16673ed\n",
      "\u001b[1m\u001b[32m♫♫♫ > Done!\u001b[0m\n",
      "\n",
      "♫♫♫ > ...waiting for partner to connect...\n",
      "\n",
      "♫♫♫ > \u001b[92mCONNECTED!\u001b[0m\n"
     ]
    },
    {
     "data": {
      "text/html": [
       "<div>\n",
       "<style scoped>\n",
       "    .dataframe tbody tr th:only-of-type {\n",
       "        vertical-align: middle;\n",
       "    }\n",
       "\n",
       "    .dataframe tbody tr th {\n",
       "        vertical-align: top;\n",
       "    }\n",
       "\n",
       "    .dataframe thead th {\n",
       "        text-align: right;\n",
       "    }\n",
       "</style>\n",
       "<table border=\"1\" class=\"dataframe\">\n",
       "  <thead>\n",
       "    <tr style=\"text-align: right;\">\n",
       "      <th></th>\n",
       "    </tr>\n",
       "  </thead>\n",
       "  <tbody>\n",
       "  </tbody>\n",
       "</table>\n",
       "</div>"
      ],
      "text/plain": [
       "Empty DataFrame\n",
       "Columns: []\n",
       "Index: []"
      ]
     },
     "execution_count": 11,
     "metadata": {},
     "output_type": "execute_result"
    }
   ],
   "source": [
    "# Set up connection_id used for for duet token exchange\n",
    "city_agent._update_connection(connection_id=connection_id_a1, is_duet_connection=True, reset_duet=True)\n",
    "\n",
    "# Join duet established by external agent \n",
    "duet_a1 = sy.join_duet(credential_exchanger=city_agent)\n",
    "\n",
    "# Check that you can access the duet data store\n",
    "duet_a1.store.pandas"
   ]
  },
  {
   "cell_type": "markdown",
   "id": "598f45cd",
   "metadata": {},
   "source": [
    "##### Duet Connection with AnonymousAgent2"
   ]
  },
  {
   "cell_type": "code",
   "execution_count": null,
   "id": "3d654826",
   "metadata": {},
   "outputs": [],
   "source": [
    "# Set up connection_id used for for duet token exchange and join duet\n",
    "city_agent._update_connection(connection_id=connection_id_a2, is_duet_connection=True, reset_duet=True)\n",
    "duet_a2 = sy.join_duet(credential_exchanger=city_agent)\n",
    "\n",
    "# Check that you can access the duet data store\n",
    "duet_a2.store.pandas"
   ]
  },
  {
   "cell_type": "markdown",
   "id": "e3f77da3",
   "metadata": {},
   "source": [
    "##### Duet Connection with AnonymousAgent3"
   ]
  },
  {
   "cell_type": "code",
   "execution_count": null,
   "id": "23672cc1",
   "metadata": {},
   "outputs": [],
   "source": [
    "# Set up connection_id used for for duet token exchange and join duet\n",
    "city_agent._update_connection(connection_id=connection_id_a3, is_duet_connection=True, reset_duet=True)\n",
    "duet_a3 = sy.join_duet(credential_exchanger=city_agent)\n",
    "\n",
    "# Check that you can access the duet data store\n",
    "duet_a3.store.pandas"
   ]
  },
  {
   "cell_type": "markdown",
   "id": "cfe594bb",
   "metadata": {},
   "source": [
    "#### 4.2 – Setup Secure Multiparty Computation (SyMPC) Session with all duet connections\n",
    "Create a duet session that is able to access the data from all three established duet connections. Then, initiate the duet session to enable Secure Multiparty Computation.\n",
    "\n",
    "The `MPCTensor` is the tensor that holds reference to the shares owned by the different parties. Specifically, it is an orchestrator that can do computations on data that it does not see.\n",
    "\n",
    "The `Session` is a key object that stores many information about the current computation, including a reference to the parties involved!"
   ]
  },
  {
   "cell_type": "code",
   "execution_count": 12,
   "id": "93b67cb0",
   "metadata": {
    "collapsed": false,
    "jupyter": {
     "outputs_hidden": false
    },
    "pycharm": {
     "name": "#%%\n"
    }
   },
   "outputs": [],
   "source": [
    "session = Session(parties=[duet_a1])#, duet_a2, duet_a3])\n",
    "SessionManager.setup_mpc(session)"
   ]
  },
  {
   "cell_type": "markdown",
   "id": "65274240",
   "metadata": {
    "pycharm": {
     "name": "#%% md\n"
    }
   },
   "source": [
    "#### 4.3 – Access encrypted data from AnonymousAgent1, AnonymousAgent2, and AnonymousAgent3\n",
    "Access data from the encrypted duet stores by ID. Check which data the stores have to offer, and enter the names of the data entries to retrieve them"
   ]
  },
  {
   "cell_type": "code",
   "execution_count": 14,
   "id": "1e1bfccf",
   "metadata": {
    "collapsed": false,
    "jupyter": {
     "outputs_hidden": false
    },
    "pycharm": {
     "name": "#%%\n"
    }
   },
   "outputs": [
    {
     "data": {
      "text/html": [
       "<div>\n",
       "<style scoped>\n",
       "    .dataframe tbody tr th:only-of-type {\n",
       "        vertical-align: middle;\n",
       "    }\n",
       "\n",
       "    .dataframe tbody tr th {\n",
       "        vertical-align: top;\n",
       "    }\n",
       "\n",
       "    .dataframe thead th {\n",
       "        text-align: right;\n",
       "    }\n",
       "</style>\n",
       "<table border=\"1\" class=\"dataframe\">\n",
       "  <thead>\n",
       "    <tr style=\"text-align: right;\">\n",
       "      <th></th>\n",
       "      <th>ID</th>\n",
       "      <th>Tags</th>\n",
       "      <th>Description</th>\n",
       "      <th>object_type</th>\n",
       "    </tr>\n",
       "  </thead>\n",
       "  <tbody>\n",
       "    <tr>\n",
       "      <th>0</th>\n",
       "      <td>&lt;UID: fc8e7f182b53441397768ee006326736&gt;</td>\n",
       "      <td>[]</td>\n",
       "      <td></td>\n",
       "      <td>&lt;class 'sympc.session.session.Session'&gt;</td>\n",
       "    </tr>\n",
       "    <tr>\n",
       "      <th>1</th>\n",
       "      <td>&lt;UID: 12f6c5fa27794d99a1e9e935b1562b4e&gt;</td>\n",
       "      <td>[co2-per-zip_2021-08-19]</td>\n",
       "      <td>Total CO2 per Zipcode on August 19, 2021</td>\n",
       "      <td>&lt;class 'torch.Tensor'&gt;</td>\n",
       "    </tr>\n",
       "    <tr>\n",
       "      <th>2</th>\n",
       "      <td>&lt;UID: 3faf1f075cec4f35abee8c4688b19650&gt;</td>\n",
       "      <td>[hourly-co2-per-zip_2021-08-19]</td>\n",
       "      <td>Total CO2 per Zipcode per Hour on August 19, 2...</td>\n",
       "      <td>&lt;class 'torch.Tensor'&gt;</td>\n",
       "    </tr>\n",
       "  </tbody>\n",
       "</table>\n",
       "</div>"
      ],
      "text/plain": [
       "                                        ID                             Tags  \\\n",
       "0  <UID: fc8e7f182b53441397768ee006326736>                               []   \n",
       "1  <UID: 12f6c5fa27794d99a1e9e935b1562b4e>         [co2-per-zip_2021-08-19]   \n",
       "2  <UID: 3faf1f075cec4f35abee8c4688b19650>  [hourly-co2-per-zip_2021-08-19]   \n",
       "\n",
       "                                         Description  \\\n",
       "0                                                      \n",
       "1           Total CO2 per Zipcode on August 19, 2021   \n",
       "2  Total CO2 per Zipcode per Hour on August 19, 2...   \n",
       "\n",
       "                               object_type  \n",
       "0  <class 'sympc.session.session.Session'>  \n",
       "1                   <class 'torch.Tensor'>  \n",
       "2                   <class 'torch.Tensor'>  "
      ]
     },
     "execution_count": 14,
     "metadata": {},
     "output_type": "execute_result"
    }
   ],
   "source": [
    "duet_a1.store.pandas"
   ]
  },
  {
   "cell_type": "code",
   "execution_count": null,
   "id": "fde91b77",
   "metadata": {
    "collapsed": false,
    "jupyter": {
     "outputs_hidden": false
    },
    "pycharm": {
     "name": "#%%\n"
    }
   },
   "outputs": [],
   "source": [
    "duet_a2.store.pandas"
   ]
  },
  {
   "cell_type": "code",
   "execution_count": null,
   "id": "76b7c36b",
   "metadata": {
    "collapsed": false,
    "jupyter": {
     "outputs_hidden": false
    },
    "pycharm": {
     "name": "#%%\n"
    }
   },
   "outputs": [],
   "source": [
    "duet_a3.store.pandas"
   ]
  },
  {
   "cell_type": "code",
   "execution_count": 15,
   "id": "372fa982",
   "metadata": {
    "collapsed": false,
    "jupyter": {
     "outputs_hidden": false
    },
    "pycharm": {
     "name": "#%%\n"
    }
   },
   "outputs": [
    {
     "data": {
      "text/plain": [
       "<syft.proxy.torch.TensorPointer at 0x7fd95e369670>"
      ]
     },
     "execution_count": 15,
     "metadata": {},
     "output_type": "execute_result"
    }
   ],
   "source": [
    "# Retrieve encrypted data\n",
    "x_secret = duet_a1.store[\"hourly-co2-per-zip_2021-08-19\"] # describe local data to test sum, substract, and multiply\n",
    "x_secret\n",
    "#y_secret = duet_a2.store[\"test_data_age\"]\n",
    "#z_secret = duet_a3.store[\"test_data_age\"]"
   ]
  },
  {
   "cell_type": "code",
   "execution_count": null,
   "id": "d1904b44",
   "metadata": {},
   "outputs": [],
   "source": [
    "# Test the output of one of them\n",
    "#z_secret"
   ]
  },
  {
   "cell_type": "code",
   "execution_count": null,
   "id": "fe6f941f",
   "metadata": {
    "collapsed": false,
    "jupyter": {
     "outputs_hidden": false
    },
    "pycharm": {
     "name": "#%%\n"
    }
   },
   "outputs": [],
   "source": [
    "# Convert encrypted data into MPCTensors\n",
    "x = MPCTensor(secret=x_secret, shape=(1,), session=session)\n",
    "#y = MPCTensor(secret=y_secret, shape=(1,), session=session)\n",
    "#z = MPCTensor(secret=z_secret, shape=(1,), session=session)"
   ]
  },
  {
   "cell_type": "code",
   "execution_count": null,
   "id": "4660b9d9",
   "metadata": {},
   "outputs": [],
   "source": [
    "# Test the output of one of them\n",
    "z"
   ]
  },
  {
   "cell_type": "code",
   "execution_count": null,
   "id": "eff57153",
   "metadata": {
    "collapsed": false,
    "jupyter": {
     "outputs_hidden": false
    },
    "pycharm": {
     "name": "#%%\n"
    }
   },
   "outputs": [],
   "source": [
    "# Do basic arithmetic operations on the MPCTensors\n",
    "print(\"X + Y + Z = \",(x + y + z).reconstruct())"
   ]
  },
  {
   "cell_type": "markdown",
   "id": "4f2eba6f",
   "metadata": {},
   "source": [
    "The following lines of codes always receive an error message.\n",
    "[See Github issue](https://github.com/OpenMined/SyMPC/issues/282)."
   ]
  },
  {
   "cell_type": "code",
   "execution_count": null,
   "id": "8f153853",
   "metadata": {
    "collapsed": false,
    "jupyter": {
     "outputs_hidden": false
    },
    "pycharm": {
     "name": "#%%\n"
    }
   },
   "outputs": [],
   "source": [
    "print(\"X + Y = \",(x + y).reconstruct())"
   ]
  },
  {
   "cell_type": "code",
   "execution_count": null,
   "id": "2c05173b",
   "metadata": {
    "collapsed": false,
    "jupyter": {
     "outputs_hidden": false
    },
    "pycharm": {
     "name": "#%%\n"
    }
   },
   "outputs": [],
   "source": [
    "print(\"X - Y = \", (x - y).reconstruct())"
   ]
  },
  {
   "cell_type": "code",
   "execution_count": null,
   "id": "dd91fd4e",
   "metadata": {
    "collapsed": false,
    "jupyter": {
     "outputs_hidden": false
    },
    "pycharm": {
     "name": "#%%\n"
    }
   },
   "outputs": [],
   "source": [
    "print(\"X * Y = \", (x * y).reconstruct())"
   ]
  },
  {
   "cell_type": "code",
   "execution_count": null,
   "id": "ea87a69d",
   "metadata": {},
   "outputs": [],
   "source": []
  },
  {
   "cell_type": "code",
   "execution_count": null,
   "id": "93987da2",
   "metadata": {},
   "outputs": [],
   "source": []
  },
  {
   "cell_type": "code",
   "execution_count": null,
   "id": "dc5d1b55",
   "metadata": {},
   "outputs": [],
   "source": []
  },
  {
   "cell_type": "code",
   "execution_count": null,
   "id": "e4276b62",
   "metadata": {},
   "outputs": [],
   "source": []
  },
  {
   "cell_type": "markdown",
   "id": "f9acdc5b",
   "metadata": {},
   "source": [
    "## Terminate Controller\n",
    "\n",
    "Whenever you have finished with this notebook, be sure to terminate the controller. This is especially important if your business logic runs across multiple notebooks."
   ]
  },
  {
   "cell_type": "code",
   "execution_count": null,
   "id": "591f2154",
   "metadata": {},
   "outputs": [],
   "source": [
    "await agent_controller.terminate()"
   ]
  },
  {
   "cell_type": "code",
   "execution_count": null,
   "id": "0a8fcc37",
   "metadata": {},
   "outputs": [],
   "source": []
  }
 ],
 "metadata": {
  "kernelspec": {
   "display_name": "Python 3 (ipykernel)",
   "language": "python",
   "name": "python3"
  },
  "language_info": {
   "codemirror_mode": {
    "name": "ipython",
    "version": 3
   },
   "file_extension": ".py",
   "mimetype": "text/x-python",
   "name": "python",
   "nbconvert_exporter": "python",
   "pygments_lexer": "ipython3",
   "version": "3.9.5"
  }
 },
 "nbformat": 4,
 "nbformat_minor": 5
}
