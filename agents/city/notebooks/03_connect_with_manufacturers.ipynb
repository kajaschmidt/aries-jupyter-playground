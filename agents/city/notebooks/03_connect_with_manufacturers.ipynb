{
 "cells": [
  {
   "cell_type": "markdown",
   "id": "e2561d64",
   "metadata": {},
   "source": [
    "# PART 3: Connect with Manufacturers for remote SMC"
   ]
  },
  {
   "cell_type": "code",
   "execution_count": 3,
   "id": "77290610",
   "metadata": {},
   "outputs": [
    {
     "data": {
      "application/javascript": [
       "document.title=\"City Agent\"\n"
      ],
      "text/plain": [
       "<IPython.core.display.Javascript object>"
      ]
     },
     "metadata": {},
     "output_type": "display_data"
    }
   ],
   "source": [
    "%%javascript\n",
    "document.title=\"City Agent\""
   ]
  },
  {
   "cell_type": "markdown",
   "id": "44f7c108",
   "metadata": {},
   "source": [
    "#### Imports"
   ]
  },
  {
   "cell_type": "code",
   "execution_count": 2,
   "id": "441adfa6",
   "metadata": {},
   "outputs": [
    {
     "name": "stdout",
     "output_type": "stream",
     "text": [
      "IPython autoawait is `on`, and set to use `asyncio`\n"
     ]
    }
   ],
   "source": [
    "%autoawait \n",
    "from aries_cloudcontroller import AriesAgentController\n",
    "#import asyncio\n",
    "import os\n",
    "from pprintpp import pprint\n",
    "from termcolor import colored\n",
    "import time\n",
    "import json\n",
    "import libs.functions as fnc"
   ]
  },
  {
   "cell_type": "code",
   "execution_count": 3,
   "id": "3cabbc9a",
   "metadata": {},
   "outputs": [
    {
     "name": "stdout",
     "output_type": "stream",
     "text": [
      "--- LOAD VARIABLES FROM JUPYTERLAB STORE ---\n",
      "schema_manufacturer_id: MTXSc4YD8wixyM9ekZbmMC:2:certify-manufacturer:0.0.1\n",
      "cred_def_manufacturer_id: MTXSc4YD8wixyM9ekZbmMC:3:CL:246687:default\n",
      "authority_did: MTXSc4YD8wixyM9ekZbmMC\n"
     ]
    }
   ],
   "source": [
    "# If the identifiers are not stored for some reason\n",
    "try:\n",
    "    # Load variables – assuming they have been written to the store in a previous notebook\n",
    "    print(\"--- LOAD VARIABLES FROM JUPYTERLAB STORE ---\")\n",
    "    \n",
    "    %store -r schema_manufacturer_id\n",
    "    %store -r cred_def_manufacturer_id\n",
    "    %store -r authority_did\n",
    "    \n",
    "    print(f\"schema_manufacturer_id: {schema_manufacturer_id}\")\n",
    "    print(f\"cred_def_manufacturer_id: {cred_def_manufacturer_id}\")\n",
    "    print(f\"authority_did: {authority_did}\")\n",
    "    \n",
    "except Exception as e:\n",
    "    \n",
    "    print(\"--- DEFINE VARIABLES FROM COPIED identifiers DICT ---\")\n",
    "    \n",
    "    # Copy an updated version if necessary\n",
    "    identifiers = get_identifiers()\n",
    "\n",
    "    # Get manufacturer schema identifiers\n",
    "    schema_manufacturer_id = identifiers[\"manufacturer_schema_identifiers\"][\"schema_id\"]\n",
    "    cred_def_manufacturer_id = identifiers[\"manufacturer_schema_identifiers\"][\"cred_def\"]\n",
    "    \n",
    "    # Get authority did\n",
    "    authority_did = identifiers['authority_did']\n",
    "\n",
    "    # Load variables to Jupyter store\n",
    "    %store schema_manufacturer_id\n",
    "    %store cred_def_manufacturer_id\n",
    "    %store authority_did"
   ]
  },
  {
   "cell_type": "markdown",
   "id": "7714ea5e",
   "metadata": {},
   "source": [
    "#### Initialize `City` Agent Controller"
   ]
  },
  {
   "cell_type": "code",
   "execution_count": 4,
   "id": "dfc9becc",
   "metadata": {},
   "outputs": [],
   "source": [
    "# Get relevant attributes\n",
    "api_key = os.getenv(\"ACAPY_ADMIN_API_KEY\")\n",
    "admin_url = os.getenv(\"ADMIN_URL\")\n",
    "webhook_port = int(os.getenv(\"WEBHOOK_PORT\"))\n",
    "webhook_host = \"0.0.0.0\""
   ]
  },
  {
   "cell_type": "markdown",
   "id": "6241df0b",
   "metadata": {},
   "source": [
    "## 1 – Init Webhook Server and register Event Listeners for it\n",
    "#### 1.1 – Start webhook server\n",
    "Start a webhook server to be able to communicate with other agents"
   ]
  },
  {
   "cell_type": "code",
   "execution_count": 5,
   "id": "aab2f13f",
   "metadata": {},
   "outputs": [
    {
     "name": "stdout",
     "output_type": "stream",
     "text": [
      "Initialising a controller with admin api at http://city-agent:3021 and an api key of adminApiKey\n",
      "Listening for webhooks from agent at http://0.0.0.0:3010\n"
     ]
    }
   ],
   "source": [
    "agent_controller = AriesAgentController(admin_url,api_key)\n",
    "print(f\"Initialising a controller with admin api at {admin_url} and an api key of {api_key}\")\n",
    "\n",
    "await agent_controller.init_webhook_server(webhook_host, webhook_port)\n",
    "print(f\"Listening for webhooks from agent at http://{webhook_host}:{webhook_port}\")"
   ]
  },
  {
   "cell_type": "markdown",
   "id": "4a11bb12",
   "metadata": {},
   "source": [
    "#### 1.2 – Define listeners\n",
    "Define listeners that are triggered when something happens on the webhook server"
   ]
  },
  {
   "cell_type": "code",
   "execution_count": 6,
   "id": "9d4c9268",
   "metadata": {},
   "outputs": [],
   "source": [
    "# Init listener list\n",
    "listeners = []\n",
    "\n",
    "# Add listeners defined in previous cell\n",
    "connection_listener = {\"handler\": fnc.connections_handler, \"topic\": \"connections\"}\n",
    "listeners.append(connection_listener)\n",
    "\n",
    "verifier_listener = {\"topic\": \"present_proof\", \"handler\": fnc.verifier_proof_handler}\n",
    "listeners.append(verifier_listener)\n",
    "\n",
    "# Register listeners\n",
    "agent_controller.register_listeners(listeners)"
   ]
  },
  {
   "cell_type": "markdown",
   "id": "9a06c078",
   "metadata": {},
   "source": [
    "## Define Presentation Request Object\n",
    "\n",
    "The below cell defines a generic presentation request object, that can be sent across specific connections requesting that they produce a presentation containing the identified attributes and meeting the restrictions.\n",
    "\n",
    "It is often useful to define your request objects first, then reuse these objects across many connections you wish to request a proof from. \n",
    "\n",
    "Duplicate and customise the below cell as many times as you need. It may be useful to save these request objects either to the jupyter store using %store or through\n",
    "\n",
    "TODO: Detail the full set of restrictions available to a verifier."
   ]
  },
  {
   "cell_type": "code",
   "execution_count": 7,
   "id": "3f413aeb",
   "metadata": {},
   "outputs": [],
   "source": [
    "# List of required attribuets and restrictions\n",
    "req_attrs = [\n",
    "    {\"name\": \"isManufacturer\", \"restrictions\": [{\"schema_id\": schema_manufacturer_id}]},\n",
    "]\n",
    "\n",
    "# Define proof_requeset\n",
    "manufacturer_proof_request = {\n",
    "    \"name\": \"isManufacturer Proof Request\",\n",
    "    \"version\": \"1.0\",\n",
    "    \"requested_attributes\": {f\"0_{req_attr['name']}_uuid\": req_attr for req_attr in req_attrs },\n",
    "    # Ignore predicates (e.g., range proofs)\n",
    "    \"requested_predicates\": {}, #{f\"0_{req_pred['name']}_GE_uuid\": req_pred for req_pred in req_preds },\n",
    "    # You can also request the entire proof request be non-revoked\n",
    "    \"non_revoked\":  {\"to\": int(time.time())}\n",
    "}"
   ]
  },
  {
   "cell_type": "code",
   "execution_count": 8,
   "id": "44c7d19e",
   "metadata": {},
   "outputs": [
    {
     "data": {
      "text/plain": [
       "{'name': 'isManufacturer Proof Request',\n",
       " 'version': '1.0',\n",
       " 'requested_attributes': {'0_isManufacturer_uuid': {'name': 'isManufacturer',\n",
       "   'restrictions': [{'schema_id': 'MTXSc4YD8wixyM9ekZbmMC:2:certify-manufacturer:0.0.1'}]}},\n",
       " 'requested_predicates': {},\n",
       " 'non_revoked': {'to': 1628614923}}"
      ]
     },
     "execution_count": 8,
     "metadata": {},
     "output_type": "execute_result"
    }
   ],
   "source": [
    "manufacturer_proof_request"
   ]
  },
  {
   "cell_type": "markdown",
   "id": "7dbddc70",
   "metadata": {},
   "source": [
    "## Create Invitation\n",
    "Note the current arguments specified are in their default configurations. "
   ]
  },
  {
   "cell_type": "code",
   "execution_count": 9,
   "id": "78026ef2",
   "metadata": {},
   "outputs": [
    {
     "name": "stdout",
     "output_type": "stream",
     "text": [
      "\n",
      "----------------------------------------------------------\n",
      "Connection Webhook Event Received\n",
      "Connection ID :  92fe868e-2e8d-4241-aa8d-4a14857e4d7e\n",
      "\u001b[33mState : invitation\u001b[0m\n",
      "Routing State : none (invitation-sent)\n",
      "Their Role :  invitee\n",
      "----------------------------------------------------------\n",
      "\u001b[1m\u001b[34m\n",
      "Copy & paste invitation and share with external agent:\u001b[0m\n",
      "{\n",
      "    '@id': 'e279caf3-433a-4707-bc57-65a42c9cfd94',\n",
      "    '@type': 'did:sov:BzCbsNYhMrjHiqZDTUASHg;spec/connections/1.0/invitation',\n",
      "    'label': 'City',\n",
      "    'recipientKeys': ['5h9MaLbBUhs16dK3N4rR5bqNKCK4RXDLDsMeZ81RxDAU'],\n",
      "    'serviceEndpoint': 'https://45cdcbf290ad.ngrok.io',\n",
      "}\n",
      "\n",
      "\n"
     ]
    }
   ],
   "source": [
    "alias = None # Alias for invited connection\n",
    "auto_accept = \"true\" # Auto accept response\n",
    "public = \"false\" # Don't use a public DID\n",
    "multi_use = \"true\" # Use invitation for multiple invitees\n",
    "\n",
    "await fnc.create_invitation(agent_controller, alias, auto_accept, public, multi_use)"
   ]
  },
  {
   "cell_type": "markdown",
   "id": "31c3d4b5",
   "metadata": {},
   "source": [
    "## Share Invitation Object with External Agent\n",
    "\n",
    "Typically in this jupyter notebook playground that involves copying it across to another agent's business logic notebook where they are the invitee. (see prover_template)"
   ]
  },
  {
   "cell_type": "code",
   "execution_count": null,
   "id": "8ca15b9f",
   "metadata": {},
   "outputs": [],
   "source": [
    "#invitation = invite[\"invitation\"]\n",
    "#pprint(invitation) "
   ]
  },
  {
   "cell_type": "markdown",
   "id": "5786db79",
   "metadata": {},
   "source": [
    "## Optional: Recieve Proof Proposal\n",
    "\n",
    "A Verifier is not the only role that can initiate the present-proof protocol. A holder can also send a proposal for a presentation that they can provide."
   ]
  },
  {
   "cell_type": "code",
   "execution_count": null,
   "id": "88531c56",
   "metadata": {},
   "outputs": [],
   "source": [
    "# TODO..."
   ]
  },
  {
   "cell_type": "markdown",
   "id": "c35e86bc",
   "metadata": {},
   "source": [
    "## Send Proof Request\n",
    "\n",
    "This identifies a connection and a proof request object (you will need to update the variable name enclosed with <>) "
   ]
  },
  {
   "cell_type": "code",
   "execution_count": null,
   "id": "d73ece42",
   "metadata": {},
   "outputs": [],
   "source": [
    "# Step 1\n",
    "\n",
    "proof_request = {\n",
    "    \"comment\": \"Please prove that you are an agent who is a certified manufacturer\",\n",
    "    \"connection_id\": fnc.CONNECTION_ID,\n",
    "    \"proof_request\": manufacturer_proof_request,\n",
    "    \"trace\": False\n",
    "}\n",
    "\n",
    "proof_request_response = await agent_controller.proofs.send_request(proof_request)"
   ]
  },
  {
   "cell_type": "markdown",
   "id": "1ce8969c",
   "metadata": {},
   "source": [
    "*I THINK* **Break point**: see step 2\n",
    "\n",
    "---\n",
    "\n",
    "## Get Presentation Exchange Record\n",
    "\n",
    "This record keeps track of the current state of the presentation protocol, which must be in the `presentation_received` state before the presentation can be verified.\n",
    "\n",
    "Note: This could also happen in the webhook logic."
   ]
  },
  {
   "cell_type": "code",
   "execution_count": null,
   "id": "3a16bda9",
   "metadata": {},
   "outputs": [],
   "source": []
  },
  {
   "cell_type": "code",
   "execution_count": null,
   "id": "3f1598bd",
   "metadata": {},
   "outputs": [],
   "source": [
    "presentation_exchange_id = proof_request_response[\"presentation_exchange_id\"]\n",
    "pres_record = await agent_controller.proofs.get_record_by_id(presentation_exchange_id)\n",
    "print(pres_record)"
   ]
  },
  {
   "cell_type": "markdown",
   "id": "7e064894",
   "metadata": {},
   "source": [
    "## Verify Presentation\n",
    "\n",
    "Only if it is in the right state. \n",
    "\n",
    "Note: Verifying a presentation moves the state to `verified` regardless of whether the presentation request has been satisfied. To check this you must refer to the `verified` property on the response."
   ]
  },
  {
   "cell_type": "code",
   "execution_count": null,
   "id": "9d43ba09",
   "metadata": {},
   "outputs": [],
   "source": [
    "verified_response = await agent_controller.proofs.verify_presentation(presentation_exchange_id)\n",
    "verified = verified_response[\"verified\"]"
   ]
  },
  {
   "cell_type": "markdown",
   "id": "735e8c4d",
   "metadata": {
    "tags": []
   },
   "source": [
    "## Parsing Disclosed Attribute Values from Presentation\n",
    "\n",
    "A presentation object contains three classes of attributes. \n",
    "* Revealed Attributes: Attributes that were signed by an issuer and have been revealed in the presentation process\n",
    "* Self Attested Attributes: Attributes that the prover has self attested to in the presentation object.\n",
    "* Predicate proofs: Attribute values that have been proven to meet some statement. (TODO: Show how you can parse this information)"
   ]
  },
  {
   "cell_type": "markdown",
   "id": "0a26ede1",
   "metadata": {},
   "source": [
    "### Parse Revealed Attributes"
   ]
  },
  {
   "cell_type": "code",
   "execution_count": null,
   "id": "e96ea9b2",
   "metadata": {},
   "outputs": [],
   "source": [
    "for (name, val) in verified_response['presentation']['requested_proof']['revealed_attrs'].items():\n",
    "    ## This is the actual data that you want. It's a little hidden\n",
    "    print(\"\\nAttribute : \", val)\n",
    "    \n",
    "    attr_name = verified_response[\"presentation_request\"][\"requested_attributes\"][name][\"name\"]\n",
    "    print(\"Attribute Name :  Raw Value\")\n",
    "    print(f\"{attr_name}   :  {val['raw']}\")"
   ]
  },
  {
   "cell_type": "markdown",
   "id": "1bdbbf09",
   "metadata": {},
   "source": [
    "### Parse Self-Attested Attributes"
   ]
  },
  {
   "cell_type": "code",
   "execution_count": null,
   "id": "98badb7c",
   "metadata": {},
   "outputs": [],
   "source": [
    "for (name, val) in verified_response['presentation']['requested_proof']['self_attested_attrs'].items():\n",
    "    print(name)\n",
    "    ## Slightly different for self attested attrs\n",
    "    print(val)"
   ]
  },
  {
   "cell_type": "markdown",
   "id": "65a4324d",
   "metadata": {},
   "source": [
    "## Your Own Business Logic\n",
    "\n",
    "Now you should have an established, active connection you can write any custom logic you want to engage with protocols with the connection"
   ]
  },
  {
   "cell_type": "code",
   "execution_count": 6,
   "id": "da93cbce",
   "metadata": {},
   "outputs": [
    {
     "name": "stdout",
     "output_type": "stream",
     "text": [
      "__init___: register primitive generator\n",
      "__init___: register generator\n",
      "__init___: register primitive store add\n",
      "__init___: register add\n",
      "__init___: register primitive store get\n",
      "__init___: register get\n",
      "__init___: register primitive generator\n",
      "__init___: register generator\n",
      "__init___: register primitive store add\n",
      "__init___: register add\n",
      "__init___: register primitive store get\n",
      "__init___: register get\n",
      "__init___: register primitive generator\n",
      "__init___: register generator\n",
      "__init___: register primitive store add\n",
      "__init___: register add\n",
      "__init___: register primitive store get\n",
      "__init___: register get\n",
      "__init___: register primitive generator\n",
      "__init___: register generator\n",
      "__init___: register primitive store add\n",
      "__init___: register add\n",
      "__init___: register primitive store get\n",
      "__init___: register get\n",
      "__init___: register primitive generator\n",
      "__init___: register generator\n",
      "__init___: register primitive generator\n",
      "__init___: register generator\n",
      "__init___: register primitive generator\n",
      "__init___: register generator\n",
      "__init___: register primitive store add\n",
      "__init___: register add\n",
      "__init___: register primitive store add\n",
      "__init___: register add\n",
      "__init___: register primitive store get\n",
      "__init___: register get\n",
      "__init___: register primitive store get\n",
      "__init___: register get\n"
     ]
    }
   ],
   "source": [
    "# Imports\n",
    "import torch\n",
    "import syft as sy\n",
    "\n",
    "from sympc.session import Session\n",
    "from sympc.session import SessionManager\n",
    "from sympc.tensor import MPCTensor"
   ]
  },
  {
   "cell_type": "code",
   "execution_count": 9,
   "id": "4be06c8a",
   "metadata": {},
   "outputs": [
    {
     "name": "stdout",
     "output_type": "stream",
     "text": [
      "🎤  🎸  ♪♪♪ Joining Duet ♫♫♫  🎻  🎹\n",
      "\n",
      "♫♫♫ >\u001b[93m DISCLAIMER\u001b[0m: \u001b[1mDuet is an experimental feature currently in beta.\n",
      "♫♫♫ > Use at your own risk.\n",
      "\u001b[0m\n",
      "\u001b[1m\n",
      "    > ❤️ \u001b[91mLove\u001b[0m \u001b[92mDuet\u001b[0m? \u001b[93mPlease\u001b[0m \u001b[94mconsider\u001b[0m \u001b[95msupporting\u001b[0m \u001b[91mour\u001b[0m \u001b[93mcommunity!\u001b[0m\n",
      "    > https://github.com/sponsors/OpenMined\u001b[1m\n",
      "\n",
      "♫♫♫ > Punching through firewall to OpenGrid Network Node at:\n",
      "♫♫♫ > http://ec2-18-218-7-180.us-east-2.compute.amazonaws.com:5000\n",
      "♫♫♫ >\n",
      "♫♫♫ > ...waiting for response from OpenGrid Network... \n",
      "♫♫♫ > \u001b[92mDONE!\u001b[0m\n",
      "\n",
      "♫♫♫ > \u001b[95mSTEP 1:\u001b[0m Send the following Duet Client ID to your duet partner!\n",
      "♫♫♫ > Duet Client ID: \u001b[1m4a55d85bf23402d200453e73320cf022\u001b[0m\n",
      "\n",
      "♫♫♫ > ...waiting for partner to connect...\n",
      "\n",
      "♫♫♫ > \u001b[92mCONNECTED!\u001b[0m\n"
     ]
    }
   ],
   "source": [
    "# Step 4: Connect to duet of M1\n",
    "duet_m1 = sy.duet(\"86a6992e42ce977bbe6e9bf698d25a72\")"
   ]
  },
  {
   "cell_type": "code",
   "execution_count": null,
   "id": "74af0d97",
   "metadata": {},
   "outputs": [],
   "source": [
    "print(f\"duet id: {duet_m1.id}, duet target it: {duet_m1.target_id}, duet note: {duet_m1.node}\")"
   ]
  },
  {
   "cell_type": "code",
   "execution_count": 10,
   "id": "4eaa5fdc",
   "metadata": {},
   "outputs": [
    {
     "data": {
      "text/html": [
       "<div>\n",
       "<style scoped>\n",
       "    .dataframe tbody tr th:only-of-type {\n",
       "        vertical-align: middle;\n",
       "    }\n",
       "\n",
       "    .dataframe tbody tr th {\n",
       "        vertical-align: top;\n",
       "    }\n",
       "\n",
       "    .dataframe thead th {\n",
       "        text-align: right;\n",
       "    }\n",
       "</style>\n",
       "<table border=\"1\" class=\"dataframe\">\n",
       "  <thead>\n",
       "    <tr style=\"text-align: right;\">\n",
       "      <th></th>\n",
       "    </tr>\n",
       "  </thead>\n",
       "  <tbody>\n",
       "  </tbody>\n",
       "</table>\n",
       "</div>"
      ],
      "text/plain": [
       "Empty DataFrame\n",
       "Columns: []\n",
       "Index: []"
      ]
     },
     "execution_count": 10,
     "metadata": {},
     "output_type": "execute_result"
    }
   ],
   "source": [
    "duet_m1.store.pandas"
   ]
  },
  {
   "cell_type": "code",
   "execution_count": null,
   "id": "93d6cea3",
   "metadata": {},
   "outputs": [],
   "source": [
    "from IPython.core.debugger import set_trace\n",
    "\n",
    "duet_m1.store.pandas"
   ]
  },
  {
   "cell_type": "markdown",
   "id": "d7f93848",
   "metadata": {},
   "source": [
    "## 2 - Secure Multi-Party Computation"
   ]
  },
  {
   "cell_type": "code",
   "execution_count": 11,
   "id": "81f32929",
   "metadata": {
    "collapsed": false,
    "jupyter": {
     "outputs_hidden": false
    },
    "pycharm": {
     "name": "#%%\n"
    }
   },
   "outputs": [
    {
     "name": "stdout",
     "output_type": "stream",
     "text": [
      "<sympc.session.session.Session object at 0x7f08645a0280>\n"
     ]
    }
   ],
   "source": [
    "# Step 5: Setup session with all duets\n",
    "session = Session(parties=[duet_m1])\n",
    "print(session)"
   ]
  },
  {
   "cell_type": "code",
   "execution_count": 12,
   "id": "96fcd930",
   "metadata": {
    "collapsed": false,
    "jupyter": {
     "outputs_hidden": false
    },
    "pycharm": {
     "name": "#%%\n"
    }
   },
   "outputs": [],
   "source": [
    "# Step 6: Setup MPC session\n",
    "SessionManager.setup_mpc(session)"
   ]
  },
  {
   "cell_type": "code",
   "execution_count": 14,
   "id": "f2339b7e",
   "metadata": {},
   "outputs": [],
   "source": [
    "#duet_ds.store.pandas"
   ]
  },
  {
   "cell_type": "code",
   "execution_count": 16,
   "id": "7363942b",
   "metadata": {
    "collapsed": false,
    "jupyter": {
     "outputs_hidden": false
    },
    "pycharm": {
     "name": "#%%\n"
    }
   },
   "outputs": [
    {
     "data": {
      "text/html": [
       "<div>\n",
       "<style scoped>\n",
       "    .dataframe tbody tr th:only-of-type {\n",
       "        vertical-align: middle;\n",
       "    }\n",
       "\n",
       "    .dataframe tbody tr th {\n",
       "        vertical-align: top;\n",
       "    }\n",
       "\n",
       "    .dataframe thead th {\n",
       "        text-align: right;\n",
       "    }\n",
       "</style>\n",
       "<table border=\"1\" class=\"dataframe\">\n",
       "  <thead>\n",
       "    <tr style=\"text-align: right;\">\n",
       "      <th></th>\n",
       "      <th>ID</th>\n",
       "      <th>Tags</th>\n",
       "      <th>Description</th>\n",
       "      <th>object_type</th>\n",
       "    </tr>\n",
       "  </thead>\n",
       "  <tbody>\n",
       "    <tr>\n",
       "      <th>0</th>\n",
       "      <td>&lt;UID: df707aa82e434c1b8a3b6b203f0afa8c&gt;</td>\n",
       "      <td>[]</td>\n",
       "      <td></td>\n",
       "      <td>&lt;class 'sympc.session.session.Session'&gt;</td>\n",
       "    </tr>\n",
       "    <tr>\n",
       "      <th>1</th>\n",
       "      <td>&lt;UID: 850a970ea3cd408196d64225862d6103&gt;</td>\n",
       "      <td>[test_data_age]</td>\n",
       "      <td>description for age_data</td>\n",
       "      <td>&lt;class 'torch.Tensor'&gt;</td>\n",
       "    </tr>\n",
       "  </tbody>\n",
       "</table>\n",
       "</div>"
      ],
      "text/plain": [
       "                                        ID             Tags  \\\n",
       "0  <UID: df707aa82e434c1b8a3b6b203f0afa8c>               []   \n",
       "1  <UID: 850a970ea3cd408196d64225862d6103>  [test_data_age]   \n",
       "\n",
       "                Description                              object_type  \n",
       "0                            <class 'sympc.session.session.Session'>  \n",
       "1  description for age_data                   <class 'torch.Tensor'>  "
      ]
     },
     "execution_count": 16,
     "metadata": {},
     "output_type": "execute_result"
    }
   ],
   "source": [
    "#from IPython.core.debugger import set_trace\n",
    "\n",
    "# Step 7: NOW we're ready to set up private operaitions\n",
    "#%pdb\n",
    "duet_m1.store.pandas"
   ]
  },
  {
   "cell_type": "code",
   "execution_count": 17,
   "id": "1186aa5d",
   "metadata": {
    "collapsed": false,
    "jupyter": {
     "outputs_hidden": false
    },
    "pycharm": {
     "name": "#%%\n"
    }
   },
   "outputs": [],
   "source": [
    "# Step 12: basic operations\n",
    "x_secret = duet_m1.store[\"test_data_age\"] # describe local data to test sum, substract, and multiply"
   ]
  },
  {
   "cell_type": "code",
   "execution_count": 18,
   "id": "bb4a1a7c",
   "metadata": {
    "collapsed": false,
    "jupyter": {
     "outputs_hidden": false
    },
    "pycharm": {
     "name": "#%%\n"
    }
   },
   "outputs": [],
   "source": [
    "y = torch.Tensor([[-5,8,1,7,6,100]]) # Local data"
   ]
  },
  {
   "cell_type": "code",
   "execution_count": 19,
   "id": "fba1dcb9",
   "metadata": {
    "collapsed": false,
    "jupyter": {
     "outputs_hidden": false
    },
    "pycharm": {
     "name": "#%%\n"
    }
   },
   "outputs": [],
   "source": [
    "x = MPCTensor(secret=x_secret, shape=(1,), session=session)  # MPC Tensor from x_secret"
   ]
  },
  {
   "cell_type": "markdown",
   "id": "f3100706",
   "metadata": {},
   "source": [
    "The following lines of codes always receive an error message.\n",
    "[See Github issue](https://github.com/OpenMined/SyMPC/issues/282)."
   ]
  },
  {
   "cell_type": "code",
   "execution_count": null,
   "id": "05d6a842",
   "metadata": {
    "collapsed": false,
    "jupyter": {
     "outputs_hidden": false
    },
    "pycharm": {
     "name": "#%%\n"
    }
   },
   "outputs": [],
   "source": [
    "print(\"X + Y = \",(x + y).reconstruct())"
   ]
  },
  {
   "cell_type": "code",
   "execution_count": null,
   "id": "8c1d004f",
   "metadata": {
    "collapsed": false,
    "jupyter": {
     "outputs_hidden": false
    },
    "pycharm": {
     "name": "#%%\n"
    }
   },
   "outputs": [],
   "source": [
    "print(\"X - Y = \", (x - y).reconstruct())"
   ]
  },
  {
   "cell_type": "code",
   "execution_count": null,
   "id": "5e903ce2",
   "metadata": {
    "collapsed": false,
    "jupyter": {
     "outputs_hidden": false
    },
    "pycharm": {
     "name": "#%%\n"
    }
   },
   "outputs": [],
   "source": [
    "print(\"X * Y = \", (x * y).reconstruct())"
   ]
  },
  {
   "cell_type": "code",
   "execution_count": null,
   "id": "34d3d0d9",
   "metadata": {},
   "outputs": [],
   "source": []
  },
  {
   "cell_type": "code",
   "execution_count": null,
   "id": "9f324f6d",
   "metadata": {},
   "outputs": [],
   "source": []
  },
  {
   "cell_type": "code",
   "execution_count": null,
   "id": "bb4d3c70",
   "metadata": {},
   "outputs": [],
   "source": []
  },
  {
   "cell_type": "code",
   "execution_count": null,
   "id": "2ae5d29b",
   "metadata": {},
   "outputs": [],
   "source": []
  },
  {
   "cell_type": "markdown",
   "id": "a4e8a28a",
   "metadata": {},
   "source": [
    "## Terminate Controller\n",
    "\n",
    "Whenever you have finished with this notebook, be sure to terminate the controller. This is especially important if your business logic runs across multiple notebooks."
   ]
  },
  {
   "cell_type": "code",
   "execution_count": null,
   "id": "4ebeca9d",
   "metadata": {},
   "outputs": [],
   "source": [
    "await agent_controller.terminate()"
   ]
  },
  {
   "cell_type": "code",
   "execution_count": null,
   "id": "e11f4312",
   "metadata": {},
   "outputs": [],
   "source": []
  }
 ],
 "metadata": {
  "kernelspec": {
   "display_name": "Python 3 (ipykernel)",
   "language": "python",
   "name": "python3"
  },
  "language_info": {
   "codemirror_mode": {
    "name": "ipython",
    "version": 3
   },
   "file_extension": ".py",
   "mimetype": "text/x-python",
   "name": "python",
   "nbconvert_exporter": "python",
   "pygments_lexer": "ipython3",
   "version": "3.9.5"
  }
 },
 "nbformat": 4,
 "nbformat_minor": 5
}
