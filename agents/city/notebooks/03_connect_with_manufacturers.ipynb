{
 "cells": [
  {
   "cell_type": "markdown",
   "id": "e937e515",
   "metadata": {},
   "source": [
    "# PETs/TETs – Hyperledger Aries / PySyft – City (Relying Party) 🏙️"
   ]
  },
  {
   "cell_type": "code",
   "execution_count": 1,
   "id": "4b815bed",
   "metadata": {},
   "outputs": [
    {
     "data": {
      "application/javascript": [
       "document.title ='🏙️ City Agent'\n"
      ],
      "text/plain": [
       "<IPython.core.display.Javascript object>"
      ]
     },
     "metadata": {},
     "output_type": "display_data"
    }
   ],
   "source": [
    "%%javascript\n",
    "document.title ='🏙️ City Agent'"
   ]
  },
  {
   "cell_type": "markdown",
   "id": "a574e09c",
   "metadata": {},
   "source": [
    "## PART 3: Connect with Manufacturers and Analyze Data\n",
    "\n",
    "**What:** -\n",
    "\n",
    "**Why:** -\n",
    "\n",
    "**How:** <br>\n",
    "\n",
    "\n",
    "**Accompanying Agents and Notebooks:**\n",
    "* Manufacturer1 💼: `03_connect_with_city.ipynb`\n",
    "* Manufacturer2 💼: `03_connect_with_city.ipynb`\n",
    "* Manufacturer3 💼: `03_connect_with_city.ipynb`"
   ]
  },
  {
   "cell_type": "markdown",
   "id": "bec32370",
   "metadata": {
    "pycharm": {
     "name": "#%% md\n"
    }
   },
   "source": [
    "---\n",
    "\n",
    "### 0 - Setup\n",
    "#### 0.1 - Imports"
   ]
  },
  {
   "cell_type": "code",
   "execution_count": 2,
   "id": "b2572270",
   "metadata": {},
   "outputs": [],
   "source": [
    "import libs.helpers as helpers\n",
    "import os\n",
    "import syft as sy\n",
    "import time\n",
    "import torch\n",
    "\n",
    "from aries_cloudcontroller import AriesAgentController\n",
    "from libs.agent_connection_manager import RelyingParty\n",
    "from pprintpp import pprint\n",
    "from termcolor import colored\n",
    "#from sympc.session import Session\n",
    "#from sympc.session import SessionManager\n",
    "#from sympc.tensor import MPCTensor"
   ]
  },
  {
   "cell_type": "markdown",
   "id": "c2c44a8d",
   "metadata": {},
   "source": [
    "#### 0.2 – Variables"
   ]
  },
  {
   "cell_type": "code",
   "execution_count": 3,
   "id": "426106f3",
   "metadata": {},
   "outputs": [],
   "source": [
    "# Get relevant details from .env file\n",
    "api_key = os.getenv(\"ACAPY_ADMIN_API_KEY\")\n",
    "admin_url = os.getenv(\"ADMIN_URL\")\n",
    "webhook_port = int(os.getenv(\"WEBHOOK_PORT\"))\n",
    "webhook_host = \"0.0.0.0\""
   ]
  },
  {
   "cell_type": "markdown",
   "id": "8972825a",
   "metadata": {},
   "source": [
    "---\n",
    "\n",
    "<a id=1></a>\n",
    "\n",
    "### 1 – Initiate City Agent\n",
    "#### 1.1 – Init ACA-PY agent controller"
   ]
  },
  {
   "cell_type": "code",
   "execution_count": 4,
   "id": "928e636b",
   "metadata": {},
   "outputs": [
    {
     "name": "stdout",
     "output_type": "stream",
     "text": [
      "Initialising a controller with admin api at http://city-agent:3021 and an api key of adminApiKey\n"
     ]
    }
   ],
   "source": [
    "# Setup\n",
    "agent_controller = AriesAgentController(admin_url,api_key)\n",
    "print(f\"Initialising a controller with admin api at {admin_url} and an api key of {api_key}\")"
   ]
  },
  {
   "cell_type": "markdown",
   "id": "e272b6f1",
   "metadata": {},
   "source": [
    "#### 1.2 – Start Webhook Server to enable communication with other agents\n",
    "@todo: is communication with other agents, or with other docker containers?"
   ]
  },
  {
   "cell_type": "code",
   "execution_count": 5,
   "id": "18151d89",
   "metadata": {},
   "outputs": [
    {
     "name": "stdout",
     "output_type": "stream",
     "text": [
      "Listening for webhooks from agent at http://0.0.0.0:3010\n"
     ]
    }
   ],
   "source": [
    "# Listen on webhook server\n",
    "await agent_controller.init_webhook_server(webhook_host, webhook_port)\n",
    "print(f\"Listening for webhooks from agent at http://{webhook_host}:{webhook_port}\")"
   ]
  },
  {
   "cell_type": "markdown",
   "id": "745ed38b",
   "metadata": {},
   "source": [
    "#### 1.3 – Init ACM issuing authority"
   ]
  },
  {
   "cell_type": "code",
   "execution_count": 6,
   "id": "772d3e24",
   "metadata": {
    "collapsed": false,
    "jupyter": {
     "outputs_hidden": false
    },
    "pycharm": {
     "name": "#%%\n"
    }
   },
   "outputs": [
    {
     "name": "stdout",
     "output_type": "stream",
     "text": [
      "\u001B[1m\u001B[32mSuccessfully initiated AgentConnectionManager for a(n) RelyingParty ACA-PY agent\u001B[0m\n"
     ]
    }
   ],
   "source": [
    "# The CredentialHolder registers relevant webhook servers and event listeners\n",
    "city_agent = RelyingParty(agent_controller)"
   ]
  },
  {
   "cell_type": "markdown",
   "id": "442bbd2a",
   "metadata": {},
   "source": [
    "---\n",
    "\n",
    "<a id=2></a>\n",
    "\n",
    "### 2 – Establish a connection with the Authority agent\n",
    "\n",
    "#### 2.1  – Create multi-use invitation\n",
    "Send out a multi-use invitation to all manufacturer agents (i.e., copy & paste the same invitation to manufacturer1, manufacturer2, manufacturer3). This represents a scenario where the City agent invites any agent to connect with them, and authenticate as manufacturers. \n",
    "\n",
    "🕵️‍️ The advantage of a multi-use invitation is, that the City is unaware about who accessed the invitation link and is trying to get in contact with the City. The City agent only knows the names defined in `ACAPY_LABEL` (see respective `.env` files), and does not know which agent is which manufacturer.\n",
    "\n",
    "**Note:** Please establish a connection with all three manufacturer agents."
   ]
  },
  {
   "cell_type": "code",
   "execution_count": 7,
   "id": "402a773d",
   "metadata": {},
   "outputs": [
    {
     "name": "stdout",
     "output_type": "stream",
     "text": [
      "\u001B[1m\u001B[35m\n",
      "Copy & paste invitation and share with external agent(s):\u001B[0m\n",
      "{\n",
      "    '@id': '9af4fea0-bdad-4347-86b8-dded8d7e40b4',\n",
      "    '@type': 'did:sov:BzCbsNYhMrjHiqZDTUASHg;spec/connections/1.0/invitation',\n",
      "    'label': 'City-Agency',\n",
      "    'recipientKeys': ['7RfyewcANKFrDt9wcyAzB3P8ZqPJqtE5sDXNytoU37uQ'],\n",
      "    'serviceEndpoint': 'https://8ebfe0a36d9c.ngrok.io',\n",
      "}\n",
      "\n",
      "---------------------------------------------------------------------\n",
      "\u001B[1mConnection Webhook Event Received: Connections Handler\u001B[0m\n",
      "Connection ID :  04e24413-77c8-4a43-930f-a57d82c050e3\n",
      "State :  \u001B[34minvitation (invitation-sent)\u001B[0m\n",
      "Routing State : none\n",
      "Their Role :  invitee\n",
      "---------------------------------------------------------------------\n",
      "\n",
      "---------------------------------------------------------------------\n",
      "\u001B[1mConnection Webhook Event Received: Connections Handler\u001B[0m\n",
      "Connection ID :  09b0a3b4-a248-434b-9278-7105334215b6\n",
      "State :  \u001B[34minvitation (invitation-sent)\u001B[0m\n",
      "Routing State : none\n",
      "Their Role :  invitee\n",
      "---------------------------------------------------------------------\n",
      "\n",
      "---------------------------------------------------------------------\n",
      "\u001B[1mConnection Webhook Event Received: Connections Handler\u001B[0m\n",
      "Connection ID :  09b0a3b4-a248-434b-9278-7105334215b6\n",
      "State :  \u001B[34mrequest (request-received)\u001B[0m\n",
      "Routing State : none\n",
      "Connection with :  AnonymousAgent1\n",
      "Their Role :  invitee\n",
      "---------------------------------------------------------------------\n",
      "\n",
      "---------------------------------------------------------------------\n",
      "\u001B[1mConnection Webhook Event Received: Connections Handler\u001B[0m\n",
      "Connection ID :  09b0a3b4-a248-434b-9278-7105334215b6\n",
      "State :  \u001B[34mresponse (response-sent)\u001B[0m\n",
      "Routing State : none\n",
      "Connection with :  AnonymousAgent1\n",
      "Their Role :  invitee\n",
      "---------------------------------------------------------------------\n",
      "\n",
      "---------------------------------------------------------------------\n",
      "\u001B[1mConnection Webhook Event Received: Connections Handler\u001B[0m\n",
      "Connection ID :  09b0a3b4-a248-434b-9278-7105334215b6\n",
      "State :  \u001B[34mactive (completed)\u001B[0m\n",
      "Routing State : none\n",
      "Connection with :  AnonymousAgent1\n",
      "Their Role :  invitee\n",
      "---------------------------------------------------------------------\n",
      "\u001B[1m\u001B[32m\n",
      "Connection ID: 09b0a3b4-a248-434b-9278-7105334215b6 is now active\u001B[0m\n"
     ]
    }
   ],
   "source": [
    "# Setup for connection with Authority agent\n",
    "alias = None\n",
    "auto_accept = True # Accept response of Authority agent right away\n",
    "auto_ping = True\n",
    "public = False # Do not use public DID\n",
    "multi_use = True # Invitation is only for one invitee\n",
    "\n",
    "invitation = city_agent.create_connection_invitation(alias=alias, auto_accept=auto_accept, public=public, multi_use=multi_use, auto_ping=auto_ping)"
   ]
  },
  {
   "cell_type": "markdown",
   "id": "170d638f",
   "metadata": {},
   "source": [
    "<div style=\"font-size: 25px\"><center><b>Break Point 1</b></center></div>\n",
    "<div style=\"font-size: 50px\"><center>🏙️ ➡️ 💼💼💼</center></div><br>\n",
    "<center><b>Please open all manufacturer agents 💼💼💼. <br> For each of the manufacturer agents, open the 03_connect_with_city.ipynb notebook and execute all steps until Break Point 2/3/4. <br> Use the same invitation from the City Agent 🏙️ in Step 2.1 for all Manufacturers.</b></center>\n"
   ]
  },
  {
   "cell_type": "markdown",
   "id": "e69d43ea",
   "metadata": {},
   "source": [
    "#### 2.2 – Display all active connections"
   ]
  },
  {
   "cell_type": "code",
   "execution_count": 8,
   "id": "9571f8e6",
   "metadata": {},
   "outputs": [
    {
     "name": "stdout",
     "output_type": "stream",
     "text": [
      "\n",
      "---------------------------------------------------------------------\n",
      "\u001B[1mConnection with AnonymousAgent1\u001B[0m\n",
      "Connection ID :  09b0a3b4-a248-434b-9278-7105334215b6\n",
      "Connection with :  AnonymousAgent1\n",
      "Is Active :  \u001B[32mTrue\u001B[0m\n",
      "Connection Alias :  None\n",
      "Presentation Exchange IDs :  []\n",
      "---------------------------------------------------------------------\n"
     ]
    }
   ],
   "source": [
    "# Display all active connections\n",
    "for conn in city_agent.get_active_connections():\n",
    "    conn.display()"
   ]
  },
  {
   "cell_type": "markdown",
   "id": "ffcca7e7",
   "metadata": {},
   "source": [
    "#### 2.3 – Fetch all connection_ids of the active connections with the respective manufacturer agents"
   ]
  },
  {
   "cell_type": "code",
   "execution_count": 9,
   "id": "03d01127",
   "metadata": {},
   "outputs": [],
   "source": [
    "# Get conneciton_id with Manufacturer1\n",
    "connection_id_a1 = city_agent.get_connection_id(\"AnonymousAgent1\")[-1] # We assume that there is only one connection with Manufacturer1\n",
    "\n",
    "# Get conneciton_id with Manufacturer2\n",
    "#connection_id_a2 = city_agent.get_connection_id(\"AnonymousAgent2\")[-1] # We assume that there is only one connection with Manufacturer2\n",
    "\n",
    "# Get conneciton_id with Manufacturer3\n",
    "#connection_id_a3 = city_agent.get_connection_id(\"AnonymousAgent3\")[-1] # We assume that there is only one connection with Manufacturer3"
   ]
  },
  {
   "cell_type": "markdown",
   "id": "b5a6d7c3",
   "metadata": {},
   "source": [
    "### 3 – Send Proof Request\n",
    "\n",
    "#### 3.1 Define VC Presentation Request Object\n",
    "\n",
    "The below cell defines a generic presentation request object, that can be sent across specific connections requesting that they produce a presentation containing the identified attributes and meeting the restrictions.\n",
    "\n",
    "It is often useful to define your request objects first, then reuse these objects across many connections you wish to request a proof from. \n",
    "\n",
    "Duplicate and customise the below cell as many times as you need. It may be useful to save these request objects either to the jupyter store using %store or through\n",
    "\n",
    "TODO: Detail the full set of restrictions available to a verifier."
   ]
  },
  {
   "cell_type": "code",
   "execution_count": null,
   "id": "b2885491",
   "metadata": {},
   "outputs": [],
   "source": [
    "# Define which scheme we want a proof from\n",
    "identifiers = helpers.get_identifiers()\n",
    "schema_manufacturer_id = identifiers[\"manufacturer_schema_identifiers\"][\"schema_id\"]\n",
    "\n",
    "# Define the attributes we want from the scheme\n",
    "req_attrs = [{\"name\": \"isManufacturer\", \"restrictions\": [{\"schema_id\": schema_manufacturer_id}]}]\n",
    "\n",
    "# Define proof_request\n",
    "manufacturer_proof_request = {\n",
    "    \"name\": \"isManufacturer Proof Request\",\n",
    "    \"version\": \"1.0\",\n",
    "    \"requested_attributes\": {f\"0_{req_attr['name']}_uuid\": req_attr for req_attr in req_attrs },\n",
    "    # Ignore predicates (e.g., range proofs)\n",
    "    \"requested_predicates\": {}, #{f\"0_{req_pred['name']}_GE_uuid\": req_pred for req_pred in req_preds },\n",
    "    # You can also request the entire proof request be non-revoked\n",
    "    \"non_revoked\":  {\"to\": int(time.time())}\n",
    "}\n",
    "\n",
    "print(colored(\"Manufacturer Proof Request:\", attrs=[\"bold\"]))\n",
    "pprint(manufacturer_proof_request)"
   ]
  },
  {
   "cell_type": "markdown",
   "id": "a36cec2d",
   "metadata": {},
   "source": [
    "#### 3.2 – Send Proof Request\n",
    "The proof request asks the agent at the other end of `connection_id` to prove attributes defined within `manufacturer_proof_request` using the manufacturer schema.\n",
    "\n",
    "The resulting presentation request is encoded in base64 and packed into a DIDComm Message. The `@type` attribute in the presentation request defines the protocol present-proof and the message request-presentation.\n",
    "\n",
    "Overall, the proof-presentation proceedure has xx steps:\n",
    "1. request_sent\n",
    "2. request_received\n",
    "3. presentation_sent\n",
    "4. presentation_received\n",
    "5. presentation_acked \n",
    "6. verified"
   ]
  },
  {
   "cell_type": "code",
   "execution_count": null,
   "id": "c082794a",
   "metadata": {},
   "outputs": [],
   "source": [
    "# Send proof request to Manufacturer1 and get presentation_exchange_id for connection with manufacturer 1\n",
    "presentation_exchange_id_a1 = city_agent.send_proof_request(\n",
    "    connection_id=connection_id_a1, \n",
    "    proof_request=manufacturer_proof_request, \n",
    "    comment=\"Please prove that you are an agent who is a certified manufacturer\"\n",
    ")\n",
    "\n",
    "\n",
    "# Send proof request to Manufacturer2 and get presentation_exchange_id for connection with manufacturer 2\n",
    "presentation_exchange_id_a2 = city_agent.send_proof_request(\n",
    "    connection_id=connection_id_a2, \n",
    "    proof_request=manufacturer_proof_request, \n",
    "    comment=\"Please prove that you are an agent who is a certified manufacturer\"\n",
    ")\n",
    "\n",
    "# Send proof request to Manufacturer3 and get presentation_exchange_id for connection with manufacturer 3\n",
    "presentation_exchange_id_a3 = city_agent.send_proof_request(\n",
    "    connection_id=connection_id_a3, \n",
    "    proof_request=manufacturer_proof_request, \n",
    "    comment=\"Please prove that you are an agent who is a certified manufacturer\"\n",
    ")"
   ]
  },
  {
   "cell_type": "markdown",
   "id": "49e1cd0a",
   "metadata": {},
   "source": [
    "<div style=\"font-size: 25px\"><center><b>Break Point 5</b></center></div>\n",
    "<div style=\"font-size: 50px\"><center>🏙️ ➡️ 💼💼💼</center></div><br>\n",
    "<center><b>Please go to all manufacturer agents 💼💼💼. <br> For each of the manufacturer agents, continue with executing Step 3</b></center>\n",
    "\n",
    "#### 3.3 – Verify Proof Presentations\n",
    "\n",
    "When proof presentations are received by the manufacturers (see output under Step 3.2), you can verify whether the proof presentations are valid. \n",
    "A presentation object contains three classes of attributes. \n",
    "* Revealed Attributes: Attributes that were signed by an issuer and have been revealed in the presentation process\n",
    "* Self Attested Attributes: Attributes that the prover has self attested to in the presentation object.\n",
    "* Predicate proofs: Attribute values that have been proven to meet some statement. (TODO: Show how you can parse this information)\n",
    "\n",
    "Execute the following cell. The `verify_proof_presentation()` function verifies the proof presentation, and parses out relevant information. The returning value states whether the presentation proof is valid or not. In the use case at hand, because only one variable is verified, the boolean denotes if the agent is a manufacturer or not."
   ]
  },
  {
   "cell_type": "code",
   "execution_count": null,
   "id": "91955903",
   "metadata": {},
   "outputs": [],
   "source": [
    "a1_is_manufacturer = city_agent.verify_proof_presentation(presentation_exchange_id_a1)\n",
    "a2_is_manufacturer = city_agent.verify_proof_presentation(presentation_exchange_id_a2)\n",
    "a3_is_manufacturer = city_agent.verify_proof_presentation(presentation_exchange_id_a3)"
   ]
  },
  {
   "cell_type": "markdown",
   "id": "f7af889b",
   "metadata": {},
   "source": [
    "--- \n",
    "\n",
    "### 4 – Do Data Science\n",
    "\n",
    "#### 4.1 – Establish a Duet connections\n",
    "Duet is a package that allows you to exchange encrypted data and run privacy-preserving arithmetic operations on them (e.g., through homomorphic encryption or secure multiparty computation). The ACM package is configured to allow the exchange of duet tokens. Only one duet connection can be established per aries connection.\n",
    "\n",
    "##### Duet Connection with AnonymousAgent1"
   ]
  },
  {
   "cell_type": "code",
   "execution_count": 11,
   "id": "5e79ed44",
   "metadata": {},
   "outputs": [
    {
     "name": "stdout",
     "output_type": "stream",
     "text": [
      "🎤  🎸  ♪♪♪ Joining Duet ♫♫♫  🎻  🎹\n",
      "\n",
      "♫♫♫ >\u001B[93m DISCLAIMER\u001B[0m: \u001B[1mDuet is an experimental feature currently in beta.\n",
      "♫♫♫ > Use at your own risk.\n",
      "\u001B[0m\n",
      "\u001B[1m\n",
      "    > ❤️ \u001B[91mLove\u001B[0m \u001B[92mDuet\u001B[0m? \u001B[93mPlease\u001B[0m \u001B[94mconsider\u001B[0m \u001B[95msupporting\u001B[0m \u001B[91mour\u001B[0m \u001B[93mcommunity!\u001B[0m\n",
      "    > https://github.com/sponsors/OpenMined\u001B[1m\n",
      "\n",
      "♫♫♫ > Punching through firewall to OpenGrid Network Node at:\n",
      "♫♫♫ > http://ec2-18-218-7-180.us-east-2.compute.amazonaws.com:5000\n",
      "♫♫♫ >\n",
      "♫♫♫ > ...waiting for response from OpenGrid Network... \n",
      "♫♫♫ > \u001B[92mDONE!\u001B[0m\n",
      "\u001B[34mReset duet token config\u001B[0m\n",
      "\u001B[32mSet token config\u001B[0m\n",
      "\n",
      "♫♫♫ >  \u001B[1mSTEP 1:\u001B[0m Awaiting Duet Token from Duet Partner...\n",
      "RECEIVED A MESSAGE!\n",
      "Duet Token : 281d18d324eeb20c81398f886c96a67a\n",
      "\u001B[32mSet duet token partner as future\u001B[0m\n",
      "\n",
      "♫♫♫ >  \u001B[1m\u001B[32mDONE!\u001B[0m Partner's Duet Token: 281d18d324eeb20c81398f886c96a67a\n",
      "Returning duet_conn.duet_token_partner 281d18d324eeb20c81398f886c96a67a\n",
      "\n",
      "♫♫♫ > \u001B[1mSTEP 1:\u001B[0m Sending Duet Token d953c327141f7f65eeb99127e36f592c\n",
      "♫♫♫ > to Duet Partner AnonymousAgent1 via Connection ID 09b0a3b4-a248-434b-9278-7105334215b6\n",
      "\n",
      "♫♫♫ > ...waiting for partner to connect...\n",
      "\n",
      "♫♫♫ > \u001B[92mCONNECTED!\u001B[0m\n"
     ]
    }
   ],
   "source": [
    "# Set up connection_id used for for duet token exchange\n",
    "city_agent.set_duet_config(connection_id=connection_id_a1)\n",
    "\n",
    "# Join duet established by external agent \n",
    "duet_a1 = sy.join_duet(credential_exchanger=city_agent)\n",
    "\n",
    "# Check that you can access the duet data store\n",
    "duet_a1.store.pandas"
   ]
  },
  {
   "cell_type": "markdown",
   "id": "af7a40fd",
   "metadata": {},
   "source": [
    "##### Duet Connection with AnonymousAgent2"
   ]
  },
  {
   "cell_type": "code",
   "execution_count": null,
   "id": "0b3a5b2f",
   "metadata": {},
   "outputs": [],
   "source": [
    "# Set up connection_id used for for duet token exchange and join duet\n",
    "city_agent.set_duet_config(connection_id=connection_id_a2)\n",
    "duet_a2 = sy.join_duet(credential_exchanger=city_agent)\n",
    "\n",
    "# Check that you can access the duet data store\n",
    "duet_a2.store.pandas"
   ]
  },
  {
   "cell_type": "markdown",
   "id": "0b0e7741",
   "metadata": {},
   "source": [
    "##### Duet Connection with AnonymousAgent3"
   ]
  },
  {
   "cell_type": "code",
   "execution_count": null,
   "id": "7cd118fe",
   "metadata": {},
   "outputs": [],
   "source": [
    "# Set up connection_id used for for duet token exchange and join duet\n",
    "city_agent.set_duet_config(connection_id=connection_id_a3)\n",
    "duet_a3 = sy.join_duet(credential_exchanger=city_agent)\n",
    "\n",
    "# Check that you can access the duet data store\n",
    "duet_a3.store.pandas"
   ]
  },
  {
   "cell_type": "markdown",
   "id": "e78ce6ee",
   "metadata": {},
   "source": [
    "#### 4.2 – Setup Secure Multiparty Computation (SyMPC) Session with all duet connections\n",
    "Create a duet session that is able to access the data from all three established duet connections. Then, initiate the duet session to enable Secure Multiparty Computation."
   ]
  },
  {
   "cell_type": "code",
   "execution_count": null,
   "id": "63b16494",
   "metadata": {
    "collapsed": false,
    "jupyter": {
     "outputs_hidden": false
    },
    "pycharm": {
     "name": "#%%\n"
    }
   },
   "outputs": [],
   "source": [
    "session = Session(parties=[duet_a1, duet_a2, duet_a3])\n",
    "SessionManager.setup_mpc(session)"
   ]
  },
  {
   "cell_type": "markdown",
   "source": [
    "#### 4.3 – Access encrypted data from AnonymousAgent1, AnonymousAgent2, and AnonymousAgent3\n",
    "Access data from the encrypted duet stores by ID. Check which data the stores have to offer, and enter the names of the data entries to retrieve them"
   ],
   "metadata": {
    "collapsed": false,
    "pycharm": {
     "name": "#%% md\n"
    }
   }
  },
  {
   "cell_type": "code",
   "execution_count": null,
   "outputs": [],
   "source": [
    "duet_a1.store.pandas"
   ],
   "metadata": {
    "collapsed": false,
    "pycharm": {
     "name": "#%%\n"
    }
   }
  },
  {
   "cell_type": "code",
   "execution_count": null,
   "outputs": [],
   "source": [
    "duet_a2.store.pandas\n"
   ],
   "metadata": {
    "collapsed": false,
    "pycharm": {
     "name": "#%%\n"
    }
   }
  },
  {
   "cell_type": "code",
   "execution_count": null,
   "outputs": [],
   "source": [
    "duet_a3.store.pandas"
   ],
   "metadata": {
    "collapsed": false,
    "pycharm": {
     "name": "#%%\n"
    }
   }
  },
  {
   "cell_type": "code",
   "execution_count": null,
   "id": "ffcdf055",
   "metadata": {
    "collapsed": false,
    "jupyter": {
     "outputs_hidden": false
    },
    "pycharm": {
     "name": "#%%\n"
    }
   },
   "outputs": [],
   "source": [
    "# Retrieve encrypted data\n",
    "x_secret = duet_a1.store[\"test_data_age\"] # describe local data to test sum, substract, and multiply\n",
    "y_secret = duet_a2.store[\"test_data_age\"]\n",
    "z_secret = duet_a3.store[\"test_data_age\"]\n",
    "\n",
    "# Test the output of one of them\n",
    "z_secret"
   ]
  },
  {
   "cell_type": "code",
   "execution_count": null,
   "id": "0df84d3e",
   "metadata": {
    "collapsed": false,
    "jupyter": {
     "outputs_hidden": false
    },
    "pycharm": {
     "name": "#%%\n"
    }
   },
   "outputs": [],
   "source": [
    "# Convert encrypted data into MPCTensors\n",
    "x = MPCTensor(secret=x_secret, shape=(1,), session=session)\n",
    "y = MPCTensor(secret=y_secret, shape=(1,), session=session)\n",
    "z = MPCTensor(secret=z_secret, shape=(1,), session=session)\n",
    "\n",
    "# Test the output of one of them\n",
    "z"
   ]
  },
  {
   "cell_type": "code",
   "execution_count": null,
   "id": "83dfd05c",
   "metadata": {
    "collapsed": false,
    "jupyter": {
     "outputs_hidden": false
    },
    "pycharm": {
     "name": "#%%\n"
    }
   },
   "outputs": [],
   "source": [
    "# Do basic arithmetic operations on the MPCTensors\n",
    "print(\"X + Y + Z = \",(x + y + z).reconstruct())"
   ]
  },
  {
   "cell_type": "markdown",
   "id": "fb7eeace",
   "metadata": {},
   "source": [
    "The following lines of codes always receive an error message.\n",
    "[See Github issue](https://github.com/OpenMined/SyMPC/issues/282)."
   ]
  },
  {
   "cell_type": "code",
   "execution_count": null,
   "id": "8b98490e",
   "metadata": {
    "collapsed": false,
    "jupyter": {
     "outputs_hidden": false
    },
    "pycharm": {
     "name": "#%%\n"
    }
   },
   "outputs": [],
   "source": [
    "print(\"X + Y = \",(x + y).reconstruct())"
   ]
  },
  {
   "cell_type": "code",
   "execution_count": null,
   "id": "70ee10ca",
   "metadata": {
    "collapsed": false,
    "jupyter": {
     "outputs_hidden": false
    },
    "pycharm": {
     "name": "#%%\n"
    }
   },
   "outputs": [],
   "source": [
    "print(\"X - Y = \", (x - y).reconstruct())"
   ]
  },
  {
   "cell_type": "code",
   "execution_count": null,
   "id": "723a75a7",
   "metadata": {
    "collapsed": false,
    "jupyter": {
     "outputs_hidden": false
    },
    "pycharm": {
     "name": "#%%\n"
    }
   },
   "outputs": [],
   "source": [
    "print(\"X * Y = \", (x * y).reconstruct())"
   ]
  },
  {
   "cell_type": "code",
   "execution_count": null,
   "id": "7c4c6a6b",
   "metadata": {},
   "outputs": [],
   "source": []
  },
  {
   "cell_type": "code",
   "execution_count": null,
   "id": "90c9df0a",
   "metadata": {},
   "outputs": [],
   "source": []
  },
  {
   "cell_type": "code",
   "execution_count": null,
   "id": "30d74eca",
   "metadata": {},
   "outputs": [],
   "source": []
  },
  {
   "cell_type": "code",
   "execution_count": null,
   "id": "b282874d",
   "metadata": {},
   "outputs": [],
   "source": []
  },
  {
   "cell_type": "markdown",
   "id": "ea182796",
   "metadata": {},
   "source": [
    "## Terminate Controller\n",
    "\n",
    "Whenever you have finished with this notebook, be sure to terminate the controller. This is especially important if your business logic runs across multiple notebooks."
   ]
  },
  {
   "cell_type": "code",
   "execution_count": null,
   "id": "d90c6389",
   "metadata": {},
   "outputs": [],
   "source": [
    "await agent_controller.terminate()"
   ]
  },
  {
   "cell_type": "code",
   "execution_count": null,
   "id": "bf25a687",
   "metadata": {},
   "outputs": [],
   "source": []
  }
 ],
 "metadata": {
  "kernelspec": {
   "display_name": "Python 3 (ipykernel)",
   "language": "python",
   "name": "python3"
  },
  "language_info": {
   "codemirror_mode": {
    "name": "ipython",
    "version": 3
   },
   "file_extension": ".py",
   "mimetype": "text/x-python",
   "name": "python",
   "nbconvert_exporter": "python",
   "pygments_lexer": "ipython3",
   "version": "3.9.5"
  }
 },
 "nbformat": 4,
 "nbformat_minor": 5
}