{
 "cells": [
  {
   "cell_type": "markdown",
   "id": "8bf4f9ec",
   "metadata": {},
   "source": [
    "# PETs/TETs – Hyperledger Aries / PySyft – City (Relying Party) 🏙️\n",
    "\n",
    "---\n",
    "⚠️ <span style='background : yellow'>**Warning:**</span>\n",
    "\n",
    "The `SyMPC` package is still in beta-verion and therefore very buggy. At the time of the development of this project, the function `.reconstruct()` (see Step ???) does not function with remote agents (i.e., one container per agent).\n",
    "\n",
    "Thus, the notebooks under the directory `xx/` demonstrate the `.reconstruct()` function locally (within one docker container).\n",
    "\n",
    "---"
   ]
  },
  {
   "cell_type": "code",
   "execution_count": null,
   "id": "5972b3d8",
   "metadata": {},
   "outputs": [],
   "source": [
    "%%javascript\n",
    "document.title ='🏙️ City'"
   ]
  },
  {
   "cell_type": "markdown",
   "id": "48ca8ff8",
   "metadata": {},
   "source": [
    "## PART 3: Connect with Manufacturers and Analyze Data\n",
    "\n",
    "**What:** Obtain data from Manufacturers in a trust- and privacy-preserving manner\n",
    "\n",
    "**Why:** Get manufacturers to share data anonymously to help the City analyze data\n",
    "\n",
    "**How:** <br>\n",
    "1. [Initiate City's AgentCommunicationManager (ACM)](#1)\n",
    "2. [Connect with anonymous agents via a multi-use SSI invitation](#2)\n",
    "3. [Request VCs to verify agents are certified manufacturers](#3)\n",
    "4. [Join Duet Connections to obtain encrypted data](#4)\n",
    "\n",
    "**Accompanying Agents and Notebooks:**\n",
    "* Manufacturer1 🚗: `03_connect_with_city.ipynb`\n",
    "* Manufacturer2 🚛: `03_connect_with_city.ipynb`\n",
    "* Manufacturer3 🛵: `03_connect_with_city.ipynb`"
   ]
  },
  {
   "cell_type": "markdown",
   "id": "46c4eb46",
   "metadata": {
    "pycharm": {
     "name": "#%% md\n"
    }
   },
   "source": [
    "---\n",
    "\n",
    "### 0 - Setup\n",
    "#### 0.1 - Imports"
   ]
  },
  {
   "cell_type": "code",
   "execution_count": null,
   "id": "957c3c67",
   "metadata": {},
   "outputs": [],
   "source": [
    "import os\n",
    "import time\n",
    "\n",
    "import syft as sy\n",
    "from aries_cloudcontroller import AriesAgentController\n",
    "from pprintpp import pprint\n",
    "from sympc.session import Session\n",
    "from sympc.session import SessionManager\n",
    "from sympc.tensor import MPCTensor\n",
    "from termcolor import colored\n",
    "\n",
    "import libs.helpers as helpers\n",
    "from libs.agent_connection_manager import RelyingParty"
   ]
  },
  {
   "cell_type": "markdown",
   "id": "5d6ef7fd",
   "metadata": {},
   "source": [
    "#### 0.2 – Variables"
   ]
  },
  {
   "cell_type": "code",
   "execution_count": null,
   "id": "41ce7760",
   "metadata": {},
   "outputs": [],
   "source": [
    "# Get relevant details from .env file\n",
    "api_key = os.getenv(\"ACAPY_ADMIN_API_KEY\")\n",
    "admin_url = os.getenv(\"ADMIN_URL\")\n",
    "webhook_port = int(os.getenv(\"WEBHOOK_PORT\"))\n",
    "webhook_host = \"0.0.0.0\""
   ]
  },
  {
   "cell_type": "markdown",
   "id": "5e352789",
   "metadata": {},
   "source": [
    "---\n",
    "\n",
    "<a id=1></a>\n",
    "\n",
    "### 1 – Initiate City Agent\n",
    "#### 1.1 – Init ACA-PY agent controller"
   ]
  },
  {
   "cell_type": "code",
   "execution_count": null,
   "id": "bcee30c5",
   "metadata": {},
   "outputs": [],
   "source": [
    "# Setup\n",
    "agent_controller = AriesAgentController(admin_url,api_key)\n",
    "print(f\"Initialising a controller with admin api at {admin_url} and an api key of {api_key}\")"
   ]
  },
  {
   "cell_type": "markdown",
   "id": "5925efca",
   "metadata": {},
   "source": [
    "#### 1.2 – Start Webhook Server to enable communication with other agents\n",
    "@todo: is communication with other agents, or with other docker containers?"
   ]
  },
  {
   "cell_type": "code",
   "execution_count": null,
   "id": "5fa5f441",
   "metadata": {},
   "outputs": [],
   "source": [
    "# Listen on webhook server\n",
    "await agent_controller.init_webhook_server(webhook_host, webhook_port)\n",
    "print(f\"Listening for webhooks from agent at http://{webhook_host}:{webhook_port}\")"
   ]
  },
  {
   "cell_type": "markdown",
   "id": "ef339d75",
   "metadata": {},
   "source": [
    "#### 1.3 – Init ACM Relying Party"
   ]
  },
  {
   "cell_type": "code",
   "execution_count": null,
   "id": "7676f11d",
   "metadata": {
    "collapsed": false,
    "jupyter": {
     "outputs_hidden": false
    },
    "pycharm": {
     "name": "#%%\n"
    }
   },
   "outputs": [],
   "source": [
    "# The CredentialHolder registers relevant webhook servers and event listeners\n",
    "city_agent = RelyingParty(agent_controller)"
   ]
  },
  {
   "cell_type": "markdown",
   "id": "c8a1cc72",
   "metadata": {},
   "source": [
    "---\n",
    "\n",
    "<a id=2></a>\n",
    "\n",
    "### 2 – Establish a connection with the Manufacturer agents\n",
    "\n",
    "#### 2.1  – Create multi-use invitation\n",
    "Send out a multi-use invitation to all manufacturer agents (i.e., copy & paste the same invitation to manufacturer1, manufacturer2, manufacturer3). This represents a scenario where the City agent invites any agent to connect with them, and authenticate as manufacturers. \n",
    "\n",
    "🕵️‍️ The advantage of a multi-use invitation is, that the City is unaware about who accessed the invitation link and is trying to get in contact with the City. The City agent only knows the names defined in `ACAPY_LABEL` (see respective `.env` files), and does not know which agent is which manufacturer.\n",
    "\n",
    "**Note:** Please establish a connection with all three manufacturer agents."
   ]
  },
  {
   "cell_type": "code",
   "execution_count": null,
   "id": "c597227b",
   "metadata": {},
   "outputs": [],
   "source": [
    "# Setup for connection with Manufacturer agents\n",
    "alias = \"Connection 1\"\n",
    "auto_accept = True # Accept response of Manufacturers agent right away\n",
    "auto_ping = True\n",
    "public = False # Do not use public DID\n",
    "multi_use = True # Invitation can be used by multiple inviteees\n",
    "\n",
    "invitation = city_agent.create_connection_invitation(alias=alias, auto_accept=auto_accept, public=public, multi_use=multi_use, auto_ping=auto_ping)"
   ]
  },
  {
   "cell_type": "markdown",
   "id": "5de2b790",
   "metadata": {},
   "source": [
    "<div style=\"font-size: 25px\"><center><b>Break Point 1</b></center></div>\n",
    "<div style=\"font-size: 50px\"><center>🏙️ ➡️ 🚗 / 🚛 / 🛵</center></div><br>\n",
    "<center><b>Please open all manufacturer agents 🚗 / 🚛 / 🛵. <br> For each of the manufacturer agents, open the 03_connect_with_city.ipynb notebook and execute all steps until Break Point 2/3/4. <br> Use the same invitation from the City Agent 🏙️ in Step 2.1 for all Manufacturers.</b></center>\n"
   ]
  },
  {
   "cell_type": "markdown",
   "id": "98f4be15",
   "metadata": {},
   "source": [
    "#### 2.2 – Display all active connections"
   ]
  },
  {
   "cell_type": "code",
   "execution_count": null,
   "id": "62fe31ba",
   "metadata": {},
   "outputs": [],
   "source": [
    "# Display all active connections\n",
    "for conn in city_agent.get_active_connections():\n",
    "    conn.display()"
   ]
  },
  {
   "cell_type": "markdown",
   "id": "584752bb",
   "metadata": {},
   "source": [
    "#### 2.3 – Fetch all connection_ids of the active connections with the respective manufacturer agents\n",
    "Fetch the connection_ids with the name provided in the active connections (see print from previous cell).\n"
   ]
  },
  {
   "cell_type": "code",
   "execution_count": null,
   "id": "80ff9dae",
   "metadata": {},
   "outputs": [],
   "source": [
    "# Get connection_id with Manufacturer1\n",
    "connection_id_a1 = city_agent.get_connection_id(\"AnonymousAgent1\")[-1] # We assume that there is only one connection with Manufacturer1\n",
    "\n",
    "# Get connection_id with Manufacturer2\n",
    "connection_id_a2 = city_agent.get_connection_id(\"AnonymousAgent2\")[-1] # We assume that there is only one connection with Manufacturer2\n",
    "\n",
    "# Get connection_id with Manufacturer3\n",
    "connection_id_a3 = city_agent.get_connection_id(\"AnonymousAgent3\")[-1] # We assume that there is only one connection with Manufacturer3"
   ]
  },
  {
   "cell_type": "markdown",
   "id": "a2f4d1e1",
   "metadata": {},
   "source": [
    "<a id=3></a>\n",
    "### 3 – Send Proof Request\n",
    "\n",
    "#### 3.1 Define VC Presentation Request Object\n",
    "\n",
    "The below cell defines a generic presentation request object, that can be sent across specific connections.\n",
    "In this case, the City agent requests the Manufacturers to certify the requested attribute `isManufacturer` from the manufacturer schema.\n"
   ]
  },
  {
   "cell_type": "code",
   "execution_count": null,
   "id": "099e92d0",
   "metadata": {},
   "outputs": [],
   "source": [
    "# Define which scheme we want a proof from\n",
    "identifiers = helpers.get_identifiers()\n",
    "schema_manufacturer_id = identifiers[\"manufacturer_schema_identifiers\"][\"schema_id\"]\n",
    "\n",
    "# Define the attributes we want from the scheme\n",
    "req_attrs = [{\"name\": \"isManufacturer\", \"restrictions\": [{\"schema_id\": schema_manufacturer_id}]}]\n",
    "\n",
    "# Define proof_request\n",
    "# The proof_request irgnores predicates (e.g., range proofs) revokation\n",
    "manufacturer_proof_request = {\n",
    "    \"name\": \"isManufacturer Proof Request\",\n",
    "    \"version\": \"1.0\",\n",
    "    \"requested_attributes\": {f\"0_{req_attr['name']}_uuid\": req_attr for req_attr in req_attrs },\n",
    "    \"requested_predicates\": {}, #{f\"0_{req_pred['name']}_GE_uuid\": req_pred for req_pred in req_preds },\n",
    "    \"non_revoked\":  {\"to\": int(time.time())}\n",
    "}\n",
    "\n",
    "print(colored(\"Manufacturer Proof Request:\", attrs=[\"bold\"]))\n",
    "pprint(manufacturer_proof_request)"
   ]
  },
  {
   "cell_type": "markdown",
   "id": "9c37d89e",
   "metadata": {},
   "source": [
    "#### 3.2 – Send Proof Request\n",
    "The proof request asks the agent at the other end of `connection_id` to prove attributes defined within `manufacturer_proof_request` using the manufacturer schema.\n",
    "\n",
    "The resulting presentation request is encoded in base64 and packed into a DIDComm Message. The `@type` attribute in the presentation request defines the protocol present-proof and the message request-presentation.\n",
    "\n",
    "Overall, the proof-presentation procedure has six steps. **R** represents the Relying Party (here the City agent), and **H** the Holder (i.e., the manufacturers).\n",
    "\n",
    "| Step | Status | Agent | Description | Function |\n",
    "| --- | --- | --- | --- | --- |\n",
    "| 1 | `request_sent` |  R | R requests a proof defined in `manufacturer_proof_request` | `send_proof_request()` |\n",
    "| 2 | `request_received` | H | H receives a proof request from R | - |\n",
    "| 3 | `presentation-sent` | H | H sends proof presentation to R | `send_proof_presentation()` |\n",
    "| 4 | `presentation-received` | R  | R receives presentation from H | - |\n",
    "| 5 | `verified` | R | R verifies presentation received from H | `verify_proof_presentation()` |\n",
    "| 6 | `presentation_acked` | H | H knows, that R verified the presentation | - |\n"
   ]
  },
  {
   "cell_type": "code",
   "execution_count": null,
   "id": "8d4a4268",
   "metadata": {},
   "outputs": [],
   "source": [
    "# Send proof request to Manufacturer1 and get presentation_exchange_id for connection with manufacturer 1\n",
    "presentation_exchange_id_a1 = city_agent.send_proof_request(\n",
    "    connection_id=connection_id_a1, \n",
    "    proof_request=manufacturer_proof_request, \n",
    "    comment=\"Please prove that you are an agent who is a certified manufacturer\"\n",
    ")\n",
    "\n",
    "# Send proof request to Manufacturer2 and get presentation_exchange_id for connection with manufacturer 2\n",
    "presentation_exchange_id_a2 = city_agent.send_proof_request(\n",
    "    connection_id=connection_id_a2, \n",
    "    proof_request=manufacturer_proof_request, \n",
    "    comment=\"Please prove that you are an agent who is a certified manufacturer\"\n",
    ")\n",
    "\n",
    "# Send proof request to Manufacturer3 and get presentation_exchange_id for connection with manufacturer 3\n",
    "presentation_exchange_id_a3 = city_agent.send_proof_request(\n",
    "    connection_id=connection_id_a3, \n",
    "    proof_request=manufacturer_proof_request, \n",
    "    comment=\"Please prove that you are an agent who is a certified manufacturer\"\n",
    ")"
   ]
  },
  {
   "cell_type": "markdown",
   "id": "3b00a659",
   "metadata": {},
   "source": [
    "<div style=\"font-size: 25px\"><center><b>Break Point 5</b></center></div>\n",
    "<div style=\"font-size: 50px\"><center>🏙️ ➡️ 🚗 / 🚛 / 🛵</center></div><br>\n",
    "<center><b>Please go to all manufacturer agents 🚗 / 🚛 / 🛵. <br> For each of the manufacturer agents, continue with executing Step 3</b></center>\n",
    "\n",
    "#### 3.3 – Verify Proof Presentations\n",
    "\n",
    "When proof presentations are received by the manufacturers (see output under Step 3.2), you can verify whether the proof presentations are valid. \n",
    "A presentation object contains three classes of attributes. \n",
    "* Revealed Attributes: Attributes that were signed by an issuer and have been revealed in the presentation process\n",
    "* Self Attested Attributes: Attributes that the prover has self attested to in the presentation object.\n",
    "* Predicate proofs: Attribute values that have been proven to meet some statement. (TODO: Show how you can parse this information)\n",
    "\n",
    "Execute the following cell. The `verify_proof_presentation()` function verifies the proof presentation, and parses out relevant information. The returning value states whether the presentation proof is valid or not. In the use case at hand, because only one variable is verified, the boolean denotes if the agent is a manufacturer or not."
   ]
  },
  {
   "cell_type": "code",
   "execution_count": null,
   "id": "2340a3fa",
   "metadata": {},
   "outputs": [],
   "source": [
    "a1_is_manufacturer = city_agent.verify_proof_presentation(presentation_exchange_id_a1)\n",
    "a2_is_manufacturer = city_agent.verify_proof_presentation(presentation_exchange_id_a2)\n",
    "a3_is_manufacturer = city_agent.verify_proof_presentation(presentation_exchange_id_a3)\n",
    "\n",
    "print(\"AnonymousAgent1 is manufacturer:\", a1_is_manufacturer)\n",
    "print(\"AnonymousAgent2 is manufacturer:\", a2_is_manufacturer)\n",
    "print(\"AnonymousAgent3 is manufacturer:\", a3_is_manufacturer)"
   ]
  },
  {
   "cell_type": "markdown",
   "id": "bba31e3d",
   "metadata": {},
   "source": [
    "<a id=4></a>\n",
    "### 4 – Do Data Science\n",
    "Now that the City agent verified that all agents are indeed manufactureres, join the individual Duet Connections that the Manufacturers already sent to the City Agent.\n",
    "\n",
    "#### 4.1 – Establish a Duet connections\n",
    "Duet is a package that allows you to exchange encrypted data and run privacy-preserving arithmetic operations on them (e.g., through homomorphic encryption or secure multiparty computation). The ACM package is configured to allow the exchange of duet tokens. Only one duet connection can be established per aries connection.\n",
    "\n",
    "##### Duet Connection with AnonymousAgent1"
   ]
  },
  {
   "cell_type": "code",
   "execution_count": null,
   "id": "066f6088",
   "metadata": {},
   "outputs": [],
   "source": [
    "# Set up connection_id used for for duet token exchange\n",
    "city_agent._update_connection(connection_id=connection_id_a1, is_duet_connection=True, reset_duet=True)\n",
    "\n",
    "# Join duet established by external agent \n",
    "duet_a1 = sy.join_duet(credential_exchanger=city_agent)\n",
    "\n",
    "# Check that you can access the duet data store\n",
    "duet_a1.store.pandas"
   ]
  },
  {
   "cell_type": "markdown",
   "id": "38ff397a",
   "metadata": {},
   "source": [
    "##### Duet Connection with AnonymousAgent2"
   ]
  },
  {
   "cell_type": "code",
   "execution_count": null,
   "id": "1323f377",
   "metadata": {},
   "outputs": [],
   "source": [
    "# Set up connection_id used for for duet token exchange and join duet\n",
    "city_agent._update_connection(connection_id=connection_id_a2, is_duet_connection=True, reset_duet=True)\n",
    "duet_a2 = sy.join_duet(credential_exchanger=city_agent)\n",
    "\n",
    "# Check that you can access the duet data store\n",
    "duet_a2.store.pandas"
   ]
  },
  {
   "cell_type": "markdown",
   "id": "ed217353",
   "metadata": {},
   "source": [
    "##### Duet Connection with AnonymousAgent3"
   ]
  },
  {
   "cell_type": "code",
   "execution_count": null,
   "id": "2f8cf5b8",
   "metadata": {},
   "outputs": [],
   "source": [
    "# Set up connection_id used for for duet token exchange and join duet\n",
    "city_agent._update_connection(connection_id=connection_id_a3, is_duet_connection=True, reset_duet=True)\n",
    "duet_a3 = sy.join_duet(credential_exchanger=city_agent)\n",
    "\n",
    "# Check that you can access the duet data store\n",
    "duet_a3.store.pandas"
   ]
  },
  {
   "cell_type": "markdown",
   "id": "9a20b855",
   "metadata": {},
   "source": [
    "#### 4.2 – Setup Secure Multiparty Computation (SyMPC) Session with all duet connections\n",
    "Create a duet session that is able to access the data from all three established duet connections.\n",
    "\n",
    "Then, initiate the duet session to enable Secure Multiparty Computation. The `Session` is used to send some config information only once between the parties. This information can be:\n",
    "* the ring size in which we do the computation\n",
    "* Reference to the parties involved\n",
    "* the precision and base\n",
    "* ...\n",
    "\n",
    "The `MPCTensor` is the tensor that holds reference to the shares owned by the different parties. Specifically, it is an orchestrator that can do computations on data that it does not see."
   ]
  },
  {
   "cell_type": "code",
   "execution_count": null,
   "id": "84306cbe",
   "metadata": {
    "collapsed": false,
    "jupyter": {
     "outputs_hidden": false
    },
    "pycharm": {
     "name": "#%%\n"
    }
   },
   "outputs": [],
   "source": [
    "session = Session(parties=[duet_a1, duet_a2, duet_a3])\n",
    "SessionManager.setup_mpc(session)\n",
    "\n",
    "session.get_protocol()"
   ]
  },
  {
   "cell_type": "markdown",
   "id": "24331f83",
   "metadata": {
    "pycharm": {
     "name": "#%% md\n"
    }
   },
   "source": [
    "<div style=\"font-size: 25px\"><center><b>Break Point 9</b></center></div>\n",
    "<div style=\"font-size: 50px\"><center>🏙️ ➡️ 🚗 / 🚛 / 🛵</center></div><br>\n",
    "<center><b>Please go to all manufacturer agents 🚗 / 🚛 / 🛵. <br> For each of the manufacturer agents, continue with executing Step 4.2</b></center>\n",
    "\n",
    "#### 4.3 – Access encrypted data from AnonymousAgent1 🔒🚗, AnonymousAgent2 🔒🚛, and AnonymousAgent3 🔒🛵\n",
    "Access data from the encrypted duet stores by ID. Check which data the stores have to offer, and enter the names of the data entries to retrieve them"
   ]
  },
  {
   "cell_type": "code",
   "execution_count": null,
   "id": "f95f3402",
   "metadata": {
    "collapsed": false,
    "jupyter": {
     "outputs_hidden": false
    },
    "pycharm": {
     "name": "#%%\n"
    }
   },
   "outputs": [],
   "source": [
    "duet_a1.store.pandas"
   ]
  },
  {
   "cell_type": "code",
   "execution_count": null,
   "id": "4573223d",
   "metadata": {
    "collapsed": false,
    "jupyter": {
     "outputs_hidden": false
    },
    "pycharm": {
     "name": "#%%\n"
    }
   },
   "outputs": [],
   "source": [
    "duet_a2.store.pandas"
   ]
  },
  {
   "cell_type": "code",
   "execution_count": null,
   "id": "8767ef80",
   "metadata": {
    "collapsed": false,
    "jupyter": {
     "outputs_hidden": false
    },
    "pycharm": {
     "name": "#%%\n"
    }
   },
   "outputs": [],
   "source": [
    "duet_a3.store.pandas"
   ]
  },
  {
   "cell_type": "code",
   "execution_count": null,
   "id": "62e14537",
   "metadata": {
    "collapsed": false,
    "jupyter": {
     "outputs_hidden": false
    },
    "pycharm": {
     "name": "#%%\n"
    }
   },
   "outputs": [],
   "source": [
    "# Retrieve encrypted data\n",
    "x_secret = duet_a1.store[\"hourly-co2-per-zip_2021-08-19\"] # describe local data to test sum, substract, and multiply\n",
    "y_secret = duet_a2.store[\"hourly-co2-per-zip_2021-08-19\"]\n",
    "z_secret = duet_a3.store[\"hourly-co2-per-zip_2021-08-19\"]"
   ]
  },
  {
   "cell_type": "code",
   "execution_count": null,
   "id": "341d061e",
   "metadata": {},
   "outputs": [],
   "source": [
    "# Test the output of one of them\n",
    "print(x_secret)"
   ]
  },
  {
   "cell_type": "markdown",
   "id": "f5e9c13f",
   "metadata": {
    "pycharm": {
     "name": "#%% md\n"
    }
   },
   "source": [
    "#### 4.4 – Share secrets with Agents in session"
   ]
  },
  {
   "cell_type": "code",
   "execution_count": null,
   "id": "074a99e3",
   "metadata": {
    "collapsed": false,
    "jupyter": {
     "outputs_hidden": false
    },
    "pycharm": {
     "name": "#%%\n"
    }
   },
   "outputs": [],
   "source": [
    "# Convert encrypted data into MPCTensors and share the secrets\n",
    "x = MPCTensor(secret=x_secret, shape=(1,), session=session) # @todo: adjust shape!\n",
    "y = MPCTensor(secret=y_secret, shape=(1,), session=session)\n",
    "z = MPCTensor(secret=z_secret, shape=(1,), session=session)"
   ]
  },
  {
   "cell_type": "code",
   "execution_count": null,
   "id": "314aed33",
   "metadata": {},
   "outputs": [],
   "source": [
    "# Test the output of one of them\n",
    "print(z)"
   ]
  },
  {
   "cell_type": "markdown",
   "id": "77dacaf0",
   "metadata": {},
   "source": [
    "#### 4.5 – Reconstruct data shares 🔐(🚗 + 🚛 + 🛵)\n",
    "Let's first do some basic operations. Because these operations are performed via SMPC, the raw data is not leaving the data owners' servers!\n",
    "\n",
    "Unfortunately, the following lines of codes always receive an error message.\n",
    "[See Github issue](https://github.com/OpenMined/SyMPC/issues/282). If you want to see how the `.reconstruct()` function works, go to `xx/` and run the notebook."
   ]
  },
  {
   "cell_type": "code",
   "execution_count": null,
   "id": "b1a3310a",
   "metadata": {
    "collapsed": false,
    "jupyter": {
     "outputs_hidden": false
    },
    "pycharm": {
     "name": "#%%\n"
    }
   },
   "outputs": [],
   "source": [
    "# Do basic arithmetic operations on the MPCTensors\n",
    "print(\"X + Y + Z = \",(x + y + z).reconstruct())"
   ]
  },
  {
   "cell_type": "markdown",
   "id": "8047e763",
   "metadata": {},
   "source": [
    "---\n",
    "\n",
    "### 5 – Terminate Controller\n",
    "\n",
    "Whenever you have finished with this notebook, be sure to terminate the controller. This is especially important if your business logic runs across multiple notebooks."
   ]
  },
  {
   "cell_type": "code",
   "execution_count": null,
   "id": "0b5e4329",
   "metadata": {},
   "outputs": [],
   "source": [
    "await agent_controller.terminate()"
   ]
  },
  {
   "cell_type": "markdown",
   "id": "b14a349c",
   "metadata": {
    "pycharm": {
     "name": "#%% md\n"
    }
   },
   "source": [
    "---\n",
    "\n",
    "## 🔥🔥🔥 You can close this notebook now 🔥🔥🔥"
   ]
  },
  {
   "cell_type": "code",
   "execution_count": null,
   "id": "33f221f5",
   "metadata": {
    "collapsed": false,
    "jupyter": {
     "outputs_hidden": false
    },
    "pycharm": {
     "name": "#%%\n"
    }
   },
   "outputs": [],
   "source": []
  }
 ],
 "metadata": {
  "kernelspec": {
   "display_name": "Python 3 (ipykernel)",
   "language": "python",
   "name": "python3"
  },
  "language_info": {
   "codemirror_mode": {
    "name": "ipython",
    "version": 3
   },
   "file_extension": ".py",
   "mimetype": "text/x-python",
   "name": "python",
   "nbconvert_exporter": "python",
   "pygments_lexer": "ipython3",
   "version": "3.9.5"
  }
 },
 "nbformat": 4,
 "nbformat_minor": 5
}
