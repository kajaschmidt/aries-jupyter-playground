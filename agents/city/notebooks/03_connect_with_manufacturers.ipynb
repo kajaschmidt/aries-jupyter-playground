{
 "cells": [
  {
   "cell_type": "markdown",
   "id": "4ae6b7e8",
   "metadata": {},
   "source": [
    "# PETs/TETs – Hyperledger Aries / PySyft – City (Relying Party) 🏙️"
   ]
  },
  {
   "cell_type": "code",
   "execution_count": 1,
   "id": "9fd0ff6e",
   "metadata": {},
   "outputs": [
    {
     "data": {
      "application/javascript": [
       "document.title ='🏙️ City Agent'\n"
      ],
      "text/plain": [
       "<IPython.core.display.Javascript object>"
      ]
     },
     "metadata": {},
     "output_type": "display_data"
    }
   ],
   "source": [
    "%%javascript\n",
    "document.title ='🏙️ City Agent'"
   ]
  },
  {
   "cell_type": "markdown",
   "id": "bd76a394",
   "metadata": {},
   "source": [
    "## PART 3: Connect with Manufacturers and Analyze Data\n",
    "\n",
    "**What:** -\n",
    "\n",
    "**Why:** -\n",
    "\n",
    "**How:** <br>\n",
    "\n",
    "\n",
    "**Accompanying Agents and Notebooks:**\n",
    "* Manufacturer1 💼: `03_connect_with_city.ipynb`\n",
    "* Manufacturer2 💼: `03_connect_with_city.ipynb`\n",
    "* Manufacturer3 💼: `03_connect_with_city.ipynb`"
   ]
  },
  {
   "cell_type": "markdown",
   "id": "ef5f191c",
   "metadata": {
    "pycharm": {
     "name": "#%% md\n"
    }
   },
   "source": [
    "---\n",
    "\n",
    "### 0 - Setup\n",
    "#### 0.1 - Imports"
   ]
  },
  {
   "cell_type": "code",
   "execution_count": 2,
   "id": "c949e982",
   "metadata": {},
   "outputs": [],
   "source": [
    "import libs.helpers as helpers\n",
    "import os\n",
    "import syft as sy\n",
    "import time\n",
    "import torch\n",
    "\n",
    "from aries_cloudcontroller import AriesAgentController\n",
    "from libs.agent_connection_manager import RelyingParty\n",
    "from pprintpp import pprint\n",
    "from termcolor import colored\n",
    "from sympc.session import Session\n",
    "from sympc.session import SessionManager\n",
    "from sympc.tensor import MPCTensor"
   ]
  },
  {
   "cell_type": "markdown",
   "id": "a3f08396",
   "metadata": {},
   "source": [
    "#### 0.2 – Variables"
   ]
  },
  {
   "cell_type": "code",
   "execution_count": 3,
   "id": "bd306ad6",
   "metadata": {},
   "outputs": [],
   "source": [
    "# Get relevant details from .env file\n",
    "api_key = os.getenv(\"ACAPY_ADMIN_API_KEY\")\n",
    "admin_url = os.getenv(\"ADMIN_URL\")\n",
    "webhook_port = int(os.getenv(\"WEBHOOK_PORT\"))\n",
    "webhook_host = \"0.0.0.0\""
   ]
  },
  {
   "cell_type": "markdown",
   "id": "f081dc75",
   "metadata": {},
   "source": [
    "---\n",
    "\n",
    "<a id=1></a>\n",
    "\n",
    "### 1 – Initiate City Agent\n",
    "#### 1.1 – Init ACA-PY agent controller"
   ]
  },
  {
   "cell_type": "code",
   "execution_count": 4,
   "id": "56ec5ba4",
   "metadata": {},
   "outputs": [
    {
     "name": "stdout",
     "output_type": "stream",
     "text": [
      "Initialising a controller with admin api at http://city-agent:3021 and an api key of adminApiKey\n"
     ]
    }
   ],
   "source": [
    "# Setup\n",
    "agent_controller = AriesAgentController(admin_url,api_key)\n",
    "print(f\"Initialising a controller with admin api at {admin_url} and an api key of {api_key}\")"
   ]
  },
  {
   "cell_type": "markdown",
   "id": "422884f6",
   "metadata": {},
   "source": [
    "#### 1.2 – Start Webhook Server to enable communication with other agents\n",
    "@todo: is communication with other agents, or with other docker containers?"
   ]
  },
  {
   "cell_type": "code",
   "execution_count": 5,
   "id": "efbde1c1",
   "metadata": {},
   "outputs": [
    {
     "name": "stdout",
     "output_type": "stream",
     "text": [
      "Listening for webhooks from agent at http://0.0.0.0:3010\n"
     ]
    }
   ],
   "source": [
    "# Listen on webhook server\n",
    "await agent_controller.init_webhook_server(webhook_host, webhook_port)\n",
    "print(f\"Listening for webhooks from agent at http://{webhook_host}:{webhook_port}\")"
   ]
  },
  {
   "cell_type": "markdown",
   "id": "cd238e5b",
   "metadata": {},
   "source": [
    "#### 1.3 – Init ACM issuing authority"
   ]
  },
  {
   "cell_type": "code",
   "execution_count": 6,
   "id": "93e511ec",
   "metadata": {
    "collapsed": false,
    "jupyter": {
     "outputs_hidden": false
    },
    "pycharm": {
     "name": "#%%\n"
    }
   },
   "outputs": [
    {
     "name": "stdout",
     "output_type": "stream",
     "text": [
      "\u001b[1m\u001b[32mSuccessfully initiated AgentConnectionManager for a(n) RelyingParty ACA-PY agent\u001b[0m\n"
     ]
    }
   ],
   "source": [
    "# The CredentialHolder registers relevant webhook servers and event listeners\n",
    "city_agent = RelyingParty(agent_controller)"
   ]
  },
  {
   "cell_type": "markdown",
   "id": "ae90a920",
   "metadata": {},
   "source": [
    "---\n",
    "\n",
    "<a id=2></a>\n",
    "\n",
    "### 2 – Establish a connection with the Authority agent\n",
    "\n",
    "#### 2.1  – Create multi-use invitation\n",
    "Send out a multi-use invitation to all manufacturer agents (i.e., copy & paste the same invitation to manufacturer1, manufacturer2, manufacturer3). This represents a scenario where the City agent invites any agent to connect with them, and authenticate as manufacturers. \n",
    "\n",
    "🕵️‍♂️ The advantage of a multi-use invitation is, that the City is unaware about who accessed the invitation link and is trying to get in contact with the City. The City agent only knows the names defined in `ACAPY_LABEL` (see respective `.env` files), and does not know which agent is which manufacturer.\n",
    "\n",
    "**Note:** Please establish a connection with all three manufacturer agents."
   ]
  },
  {
   "cell_type": "code",
   "execution_count": 7,
   "id": "57366f08",
   "metadata": {},
   "outputs": [
    {
     "name": "stdout",
     "output_type": "stream",
     "text": [
      "\u001b[1m\u001b[35m\n",
      "Copy & paste invitation and share with external agent(s):\u001b[0m\n",
      "{\n",
      "    '@id': 'ac1eee2e-c63e-4415-a8a7-7ce5b434ea0f',\n",
      "    '@type': 'did:sov:BzCbsNYhMrjHiqZDTUASHg;spec/connections/1.0/invitation',\n",
      "    'label': 'City-Agency',\n",
      "    'recipientKeys': ['9wRd53Mahf746UnxEJgTDnyyRwYogTWEnxRFUSAj1LFA'],\n",
      "    'serviceEndpoint': 'https://0a6f916f7909.ngrok.io',\n",
      "}\n",
      "\n",
      "---------------------------------------------------------------------\n",
      "\u001b[1mConnection Webhook Event Received: Connections Handler\u001b[0m\n",
      "Connection ID :  29b4bcd4-317a-492f-b5e5-99d352755c1f\n",
      "State :  \u001b[34minvitation (invitation-sent)\u001b[0m\n",
      "Routing State : none\n",
      "Their Role :  invitee\n",
      "---------------------------------------------------------------------\n",
      "\n",
      "---------------------------------------------------------------------\n",
      "\u001b[1mConnection Webhook Event Received: Connections Handler\u001b[0m\n",
      "Connection ID :  9bffebd1-205b-44be-8f8f-99cc61c378f2\n",
      "State :  \u001b[34minvitation (invitation-sent)\u001b[0m\n",
      "Routing State : none\n",
      "Their Role :  invitee\n",
      "---------------------------------------------------------------------\n",
      "\n",
      "---------------------------------------------------------------------\n",
      "\u001b[1mConnection Webhook Event Received: Connections Handler\u001b[0m\n",
      "Connection ID :  9bffebd1-205b-44be-8f8f-99cc61c378f2\n",
      "State :  \u001b[34mrequest (request-received)\u001b[0m\n",
      "Routing State : none\n",
      "Connection with :  AnonymousAgent1\n",
      "Their Role :  invitee\n",
      "---------------------------------------------------------------------\n",
      "\n",
      "---------------------------------------------------------------------\n",
      "\u001b[1mConnection Webhook Event Received: Connections Handler\u001b[0m\n",
      "Connection ID :  9bffebd1-205b-44be-8f8f-99cc61c378f2\n",
      "State :  \u001b[34mresponse (response-sent)\u001b[0m\n",
      "Routing State : none\n",
      "Connection with :  AnonymousAgent1\n",
      "Their Role :  invitee\n",
      "---------------------------------------------------------------------\n",
      "\n",
      "---------------------------------------------------------------------\n",
      "\u001b[1mConnection Webhook Event Received: Connections Handler\u001b[0m\n",
      "Connection ID :  9bffebd1-205b-44be-8f8f-99cc61c378f2\n",
      "State :  \u001b[34mactive (completed)\u001b[0m\n",
      "Routing State : none\n",
      "Connection with :  AnonymousAgent1\n",
      "Their Role :  invitee\n",
      "---------------------------------------------------------------------\n",
      "\u001b[1m\u001b[32m\n",
      "Connection ID: 9bffebd1-205b-44be-8f8f-99cc61c378f2 is now active\u001b[0m\n",
      "\n",
      "---------------------------------------------------------------------\n",
      "\u001b[1mConnection Webhook Event Received: Connections Handler\u001b[0m\n",
      "Connection ID :  1186e299-c470-4c92-b164-5c582f3f3f47\n",
      "State :  \u001b[34minvitation (invitation-sent)\u001b[0m\n",
      "Routing State : none\n",
      "Their Role :  invitee\n",
      "---------------------------------------------------------------------\n",
      "\n",
      "---------------------------------------------------------------------\n",
      "\u001b[1mConnection Webhook Event Received: Connections Handler\u001b[0m\n",
      "Connection ID :  1186e299-c470-4c92-b164-5c582f3f3f47\n",
      "State :  \u001b[34mrequest (request-received)\u001b[0m\n",
      "Routing State : none\n",
      "Connection with :  AnonymousAgent2\n",
      "Their Role :  invitee\n",
      "---------------------------------------------------------------------\n",
      "\n",
      "---------------------------------------------------------------------\n",
      "\u001b[1mConnection Webhook Event Received: Connections Handler\u001b[0m\n",
      "Connection ID :  1186e299-c470-4c92-b164-5c582f3f3f47\n",
      "State :  \u001b[34mresponse (response-sent)\u001b[0m\n",
      "Routing State : none\n",
      "Connection with :  AnonymousAgent2\n",
      "Their Role :  invitee\n",
      "---------------------------------------------------------------------\n",
      "\n",
      "---------------------------------------------------------------------\n",
      "\u001b[1mConnection Webhook Event Received: Connections Handler\u001b[0m\n",
      "Connection ID :  1186e299-c470-4c92-b164-5c582f3f3f47\n",
      "State :  \u001b[34mactive (completed)\u001b[0m\n",
      "Routing State : none\n",
      "Connection with :  AnonymousAgent2\n",
      "Their Role :  invitee\n",
      "---------------------------------------------------------------------\n",
      "\u001b[1m\u001b[32m\n",
      "Connection ID: 1186e299-c470-4c92-b164-5c582f3f3f47 is now active\u001b[0m\n",
      "\n",
      "---------------------------------------------------------------------\n",
      "\u001b[1mConnection Webhook Event Received: Connections Handler\u001b[0m\n",
      "Connection ID :  55427664-4e76-4a4a-bcca-1693e9e2da38\n",
      "State :  \u001b[34minvitation (invitation-sent)\u001b[0m\n",
      "Routing State : none\n",
      "Their Role :  invitee\n",
      "---------------------------------------------------------------------\n",
      "\n",
      "---------------------------------------------------------------------\n",
      "\u001b[1mConnection Webhook Event Received: Connections Handler\u001b[0m\n",
      "Connection ID :  55427664-4e76-4a4a-bcca-1693e9e2da38\n",
      "State :  \u001b[34mrequest (request-received)\u001b[0m\n",
      "Routing State : none\n",
      "Connection with :  AnonymousAgent3\n",
      "Their Role :  invitee\n",
      "---------------------------------------------------------------------\n",
      "\n",
      "---------------------------------------------------------------------\n",
      "\u001b[1mConnection Webhook Event Received: Connections Handler\u001b[0m\n",
      "Connection ID :  55427664-4e76-4a4a-bcca-1693e9e2da38\n",
      "State :  \u001b[34mresponse (response-sent)\u001b[0m\n",
      "Routing State : none\n",
      "Connection with :  AnonymousAgent3\n",
      "Their Role :  invitee\n",
      "---------------------------------------------------------------------\n",
      "\n",
      "---------------------------------------------------------------------\n",
      "\u001b[1mConnection Webhook Event Received: Connections Handler\u001b[0m\n",
      "Connection ID :  55427664-4e76-4a4a-bcca-1693e9e2da38\n",
      "State :  \u001b[34mactive (completed)\u001b[0m\n",
      "Routing State : none\n",
      "Connection with :  AnonymousAgent3\n",
      "Their Role :  invitee\n",
      "---------------------------------------------------------------------\n",
      "\u001b[1m\u001b[32m\n",
      "Connection ID: 55427664-4e76-4a4a-bcca-1693e9e2da38 is now active\u001b[0m\n"
     ]
    }
   ],
   "source": [
    "# Setup for connection with Authority agent\n",
    "alias = None\n",
    "auto_accept = True # Accept response of Authority agent right away\n",
    "auto_ping = True\n",
    "public = False # Do not use public DID\n",
    "multi_use = True # Invitation is only for one invitee\n",
    "\n",
    "invitation = city_agent.create_connection_invitation(alias=alias, auto_accept=auto_accept, public=public, multi_use=multi_use, auto_ping=auto_ping)"
   ]
  },
  {
   "cell_type": "markdown",
   "id": "89a41f73",
   "metadata": {},
   "source": [
    "<div style=\"font-size: 25px\"><center><b>Break Point 1</b></center></div>\n",
    "<div style=\"font-size: 50px\"><center>🏙️ ➡️ 💼💼💼</center></div><br>\n",
    "<center><b>Please open all manufacturer agents 💼💼💼. <br> For each of the manufacturer agents, open the 03_connect_with_city.ipynb notebook and execute all steps until Break Point 2/3/4. <br> Use the same invitation from the City Agent 🏙️ in Step 2.1 for all Manufacturers.</b></center>\n"
   ]
  },
  {
   "cell_type": "markdown",
   "id": "3b6b645b",
   "metadata": {},
   "source": [
    "#### 2.2 – Display all active connections"
   ]
  },
  {
   "cell_type": "code",
   "execution_count": 8,
   "id": "21335ccd",
   "metadata": {},
   "outputs": [
    {
     "name": "stdout",
     "output_type": "stream",
     "text": [
      "\n",
      "---------------------------------------------------------------------\n",
      "\u001b[1mConnection with AnonymousAgent1\u001b[0m\n",
      "Connection ID :  9bffebd1-205b-44be-8f8f-99cc61c378f2\n",
      "Connection with :  AnonymousAgent1\n",
      "Is Active :  \u001b[32mTrue\u001b[0m\n",
      "Connection Alias :  None\n",
      "Presentation Exchange IDs :  []\n",
      "---------------------------------------------------------------------\n",
      "\n",
      "---------------------------------------------------------------------\n",
      "\u001b[1mConnection with AnonymousAgent2\u001b[0m\n",
      "Connection ID :  1186e299-c470-4c92-b164-5c582f3f3f47\n",
      "Connection with :  AnonymousAgent2\n",
      "Is Active :  \u001b[32mTrue\u001b[0m\n",
      "Connection Alias :  None\n",
      "Presentation Exchange IDs :  []\n",
      "---------------------------------------------------------------------\n",
      "\n",
      "---------------------------------------------------------------------\n",
      "\u001b[1mConnection with AnonymousAgent3\u001b[0m\n",
      "Connection ID :  55427664-4e76-4a4a-bcca-1693e9e2da38\n",
      "Connection with :  AnonymousAgent3\n",
      "Is Active :  \u001b[32mTrue\u001b[0m\n",
      "Connection Alias :  None\n",
      "Presentation Exchange IDs :  []\n",
      "---------------------------------------------------------------------\n"
     ]
    }
   ],
   "source": [
    "# Display all active connections\n",
    "for conn in city_agent.get_active_connections():\n",
    "    conn.display()"
   ]
  },
  {
   "cell_type": "markdown",
   "id": "590f7948",
   "metadata": {},
   "source": [
    "#### 2.3 – Fetch all connection_ids of the active connections with the respective manufacturer agents"
   ]
  },
  {
   "cell_type": "code",
   "execution_count": 9,
   "id": "2e4ebff2",
   "metadata": {},
   "outputs": [],
   "source": [
    "# Get conneciton_id with Manufacturer1\n",
    "connection_id_a1 = city_agent.get_connection_id(\"AnonymousAgent1\")[0] # We assume that there is only one connection with Manufacturer1\n",
    "\n",
    "# Get conneciton_id with Manufacturer2\n",
    "connection_id_a2 = city_agent.get_connection_id(\"AnonymousAgent2\")[0] # We assume that there is only one connection with Manufacturer2\n",
    "\n",
    "# Get conneciton_id with Manufacturer3\n",
    "connection_id_a3 = city_agent.get_connection_id(\"AnonymousAgent3\")[0] # We assume that there is only one connection with Manufacturer3"
   ]
  },
  {
   "cell_type": "markdown",
   "id": "2d4b8d2d",
   "metadata": {},
   "source": [
    "### 3 – Send Proof Request\n",
    "\n",
    "#### 3.1 Define VC Presentation Request Object\n",
    "\n",
    "The below cell defines a generic presentation request object, that can be sent across specific connections requesting that they produce a presentation containing the identified attributes and meeting the restrictions.\n",
    "\n",
    "It is often useful to define your request objects first, then reuse these objects across many connections you wish to request a proof from. \n",
    "\n",
    "Duplicate and customise the below cell as many times as you need. It may be useful to save these request objects either to the jupyter store using %store or through\n",
    "\n",
    "TODO: Detail the full set of restrictions available to a verifier."
   ]
  },
  {
   "cell_type": "code",
   "execution_count": 10,
   "id": "2365cfba",
   "metadata": {},
   "outputs": [
    {
     "name": "stdout",
     "output_type": "stream",
     "text": [
      "\u001b[34mGet stored identifiers dictionary to access schema information 💾\u001b[0m\n",
      "\u001b[1mManufacturer Proof Request:\u001b[0m\n",
      "{\n",
      "    'name': 'isManufacturer Proof Request',\n",
      "    'non_revoked': {'to': 1629369989},\n",
      "    'requested_attributes': {\n",
      "        '0_isManufacturer_uuid': {\n",
      "            'name': 'isManufacturer',\n",
      "            'restrictions': [\n",
      "                {\n",
      "                    'schema_id': 'XvWddwCGryjykggMo3vHrv:2:certify-manufacturer:0.0.1',\n",
      "                },\n",
      "            ],\n",
      "        },\n",
      "    },\n",
      "    'requested_predicates': {},\n",
      "    'version': '1.0',\n",
      "}\n"
     ]
    }
   ],
   "source": [
    "# Define which scheme we want a proof from\n",
    "identifiers = helpers.get_identifiers()\n",
    "schema_manufacturer_id = identifiers[\"manufacturer_schema_identifiers\"][\"schema_id\"]\n",
    "\n",
    "# Define the attributes we want from the scheme\n",
    "req_attrs = [{\"name\": \"isManufacturer\", \"restrictions\": [{\"schema_id\": schema_manufacturer_id}]}]\n",
    "\n",
    "# Define proof_request\n",
    "manufacturer_proof_request = {\n",
    "    \"name\": \"isManufacturer Proof Request\",\n",
    "    \"version\": \"1.0\",\n",
    "    \"requested_attributes\": {f\"0_{req_attr['name']}_uuid\": req_attr for req_attr in req_attrs },\n",
    "    # Ignore predicates (e.g., range proofs)\n",
    "    \"requested_predicates\": {}, #{f\"0_{req_pred['name']}_GE_uuid\": req_pred for req_pred in req_preds },\n",
    "    # You can also request the entire proof request be non-revoked\n",
    "    \"non_revoked\":  {\"to\": int(time.time())}\n",
    "}\n",
    "\n",
    "print(colored(\"Manufacturer Proof Request:\", attrs=[\"bold\"]))\n",
    "pprint(manufacturer_proof_request)"
   ]
  },
  {
   "cell_type": "markdown",
   "id": "8b369bc0",
   "metadata": {},
   "source": [
    "#### 3.2 – Send Proof Request\n",
    "The proof request asks the agent at the other end of `connection_id` to prove attributes defined within `manufacturer_proof_request` using the manufacturer schema.\n",
    "\n",
    "The resulting presentation request is encoded in base64 and packed into a DIDComm Message. The `@type` attribute in the presentation request defines the protocol present-proof and the message request-presentation.\n",
    "\n",
    "Overall, the proof-presentation proceedure has xx steps:\n",
    "1. request_sent\n",
    "2. request_received\n",
    "3. presentation_sent\n",
    "4. presentation_received\n",
    "5. presentation_acked \n",
    "6. verified"
   ]
  },
  {
   "cell_type": "code",
   "execution_count": 11,
   "id": "f011d094",
   "metadata": {},
   "outputs": [
    {
     "name": "stdout",
     "output_type": "stream",
     "text": [
      "\n",
      "---------------------------------------------------------------------\n",
      "\u001b[1mConnection Webhook Event Received: Present-Proof Handler\u001b[0m\n",
      "Connection ID :  9bffebd1-205b-44be-8f8f-99cc61c378f2\n",
      "Presentation Exchange ID :  472782a6-2f84-41a1-8e18-69e29e0ad65b\n",
      "Protocol State :  \u001b[34mrequest_sent\u001b[0m\n",
      "Agent Role :  verifier\n",
      "Initiator :  self\n",
      "---------------------------------------------------------------------\n",
      "\u001b[1m\n",
      "Presentation Request : \u001b[0m\n",
      "{\n",
      "    '@id': 'c30589b8-cf8f-4854-9d62-810559bb5f44',\n",
      "    '@type': 'did:sov:BzCbsNYhMrjHiqZDTUASHg;spec/present-proof/1.0/request-presentation',\n",
      "    'comment': 'Please prove that you are an agent who is a certified manufacturer',\n",
      "    'request_presentations~attach': [\n",
      "        {\n",
      "            '@id': 'libindy-request-presentation-0',\n",
      "            'data': {\n",
      "                'base64': 'eyJuYW1lIjogImlzTWFudWZhY3R1cmVyIFByb29mIFJlcXVlc3QiLCAidmVyc2lvbiI6ICIxLjAiLCAicmVxdWVzdGVkX2F0dHJpYnV0ZXMiOiB7IjBfaXNNYW51ZmFjdHVyZXJfdXVpZCI6IHsibmFtZSI6ICJpc01hbnVmYWN0dXJlciIsICJyZXN0cmljdGlvbnMiOiBbeyJzY2hlbWFfaWQiOiAiWHZXZGR3Q0dyeWp5a2dnTW8zdkhydjoyOmNlcnRpZnktbWFudWZhY3R1cmVyOjAuMC4xIn1dfX0sICJyZXF1ZXN0ZWRfcHJlZGljYXRlcyI6IHt9LCAibm9uX3Jldm9rZWQiOiB7InRvIjogMTYyOTM2OTk4OX0sICJub25jZSI6ICIxMDcxNTIwODEwMjI2MjcyNjc0Mzk3ODM5In0=',\n",
      "            },\n",
      "            'mime-type': 'application/json',\n",
      "        },\n",
      "    ],\n",
      "}\n",
      "\n",
      "---------------------------------------------------------------------\n",
      "\u001b[1mConnection Webhook Event Received: Present-Proof Handler\u001b[0m\n",
      "Connection ID :  1186e299-c470-4c92-b164-5c582f3f3f47\n",
      "Presentation Exchange ID :  5ee16d67-aa15-45ed-a89c-365bc1e61af3\n",
      "Protocol State :  \u001b[34mrequest_sent\u001b[0m\n",
      "Agent Role :  verifier\n",
      "Initiator :  self\n",
      "---------------------------------------------------------------------\n",
      "\u001b[1m\n",
      "Presentation Request : \u001b[0m\n",
      "{\n",
      "    '@id': '6608964e-fe51-4cfc-9f8a-0060980e4714',\n",
      "    '@type': 'did:sov:BzCbsNYhMrjHiqZDTUASHg;spec/present-proof/1.0/request-presentation',\n",
      "    'comment': 'Please prove that you are an agent who is a certified manufacturer',\n",
      "    'request_presentations~attach': [\n",
      "        {\n",
      "            '@id': 'libindy-request-presentation-0',\n",
      "            'data': {\n",
      "                'base64': 'eyJuYW1lIjogImlzTWFudWZhY3R1cmVyIFByb29mIFJlcXVlc3QiLCAidmVyc2lvbiI6ICIxLjAiLCAicmVxdWVzdGVkX2F0dHJpYnV0ZXMiOiB7IjBfaXNNYW51ZmFjdHVyZXJfdXVpZCI6IHsibmFtZSI6ICJpc01hbnVmYWN0dXJlciIsICJyZXN0cmljdGlvbnMiOiBbeyJzY2hlbWFfaWQiOiAiWHZXZGR3Q0dyeWp5a2dnTW8zdkhydjoyOmNlcnRpZnktbWFudWZhY3R1cmVyOjAuMC4xIn1dfX0sICJyZXF1ZXN0ZWRfcHJlZGljYXRlcyI6IHt9LCAibm9uX3Jldm9rZWQiOiB7InRvIjogMTYyOTM2OTk4OX0sICJub25jZSI6ICI3MjAzOTYzOTQ3MDI3MTc3MjA5NjYzODEifQ==',\n",
      "            },\n",
      "            'mime-type': 'application/json',\n",
      "        },\n",
      "    ],\n",
      "}\n",
      "\n",
      "---------------------------------------------------------------------\n",
      "\u001b[1mConnection Webhook Event Received: Present-Proof Handler\u001b[0m\n",
      "Connection ID :  55427664-4e76-4a4a-bcca-1693e9e2da38\n",
      "Presentation Exchange ID :  e29b5b58-642d-498a-b513-2fbfaacb31c6\n",
      "Protocol State :  \u001b[34mrequest_sent\u001b[0m\n",
      "Agent Role :  verifier\n",
      "Initiator :  self\n",
      "---------------------------------------------------------------------\n",
      "\u001b[1m\n",
      "Presentation Request : \u001b[0m\n",
      "{\n",
      "    '@id': '5edf4c01-6ae2-4037-b558-fe8d03a25f0f',\n",
      "    '@type': 'did:sov:BzCbsNYhMrjHiqZDTUASHg;spec/present-proof/1.0/request-presentation',\n",
      "    'comment': 'Please prove that you are an agent who is a certified manufacturer',\n",
      "    'request_presentations~attach': [\n",
      "        {\n",
      "            '@id': 'libindy-request-presentation-0',\n",
      "            'data': {\n",
      "                'base64': 'eyJuYW1lIjogImlzTWFudWZhY3R1cmVyIFByb29mIFJlcXVlc3QiLCAidmVyc2lvbiI6ICIxLjAiLCAicmVxdWVzdGVkX2F0dHJpYnV0ZXMiOiB7IjBfaXNNYW51ZmFjdHVyZXJfdXVpZCI6IHsibmFtZSI6ICJpc01hbnVmYWN0dXJlciIsICJyZXN0cmljdGlvbnMiOiBbeyJzY2hlbWFfaWQiOiAiWHZXZGR3Q0dyeWp5a2dnTW8zdkhydjoyOmNlcnRpZnktbWFudWZhY3R1cmVyOjAuMC4xIn1dfX0sICJyZXF1ZXN0ZWRfcHJlZGljYXRlcyI6IHt9LCAibm9uX3Jldm9rZWQiOiB7InRvIjogMTYyOTM2OTk4OX0sICJub25jZSI6ICI4ODAwNjk4Njk3NTc5OTgzNjMyOTM5NDUifQ==',\n",
      "            },\n",
      "            'mime-type': 'application/json',\n",
      "        },\n",
      "    ],\n",
      "}\n",
      "\n",
      "---------------------------------------------------------------------\n",
      "\u001b[1mConnection Webhook Event Received: Present-Proof Handler\u001b[0m\n",
      "Connection ID :  9bffebd1-205b-44be-8f8f-99cc61c378f2\n",
      "Presentation Exchange ID :  472782a6-2f84-41a1-8e18-69e29e0ad65b\n",
      "Protocol State :  \u001b[34mpresentation_received\u001b[0m\n",
      "Agent Role :  verifier\n",
      "Initiator :  self\n",
      "---------------------------------------------------------------------\n",
      "\n",
      "---------------------------------------------------------------------\n",
      "\u001b[1mConnection Webhook Event Received: Present-Proof Handler\u001b[0m\n",
      "Connection ID :  1186e299-c470-4c92-b164-5c582f3f3f47\n",
      "Presentation Exchange ID :  5ee16d67-aa15-45ed-a89c-365bc1e61af3\n",
      "Protocol State :  \u001b[34mpresentation_received\u001b[0m\n",
      "Agent Role :  verifier\n",
      "Initiator :  self\n",
      "---------------------------------------------------------------------\n",
      "\n",
      "---------------------------------------------------------------------\n",
      "\u001b[1mConnection Webhook Event Received: Present-Proof Handler\u001b[0m\n",
      "Connection ID :  55427664-4e76-4a4a-bcca-1693e9e2da38\n",
      "Presentation Exchange ID :  e29b5b58-642d-498a-b513-2fbfaacb31c6\n",
      "Protocol State :  \u001b[34mpresentation_received\u001b[0m\n",
      "Agent Role :  verifier\n",
      "Initiator :  self\n",
      "---------------------------------------------------------------------\n"
     ]
    }
   ],
   "source": [
    "# Send proof request to Manufacturer1 and get presentation_exchange_id for connection with manufacturer 1\n",
    "presentation_exchange_id_a1 = city_agent.send_proof_request(\n",
    "    connection_id=connection_id_a1, \n",
    "    proof_request=manufacturer_proof_request, \n",
    "    comment=\"Please prove that you are an agent who is a certified manufacturer\"\n",
    ")\n",
    "\n",
    "\n",
    "# Send proof request to Manufacturer2 and get presentation_exchange_id for connection with manufacturer 2\n",
    "presentation_exchange_id_a2 = city_agent.send_proof_request(\n",
    "    connection_id=connection_id_a2, \n",
    "    proof_request=manufacturer_proof_request, \n",
    "    comment=\"Please prove that you are an agent who is a certified manufacturer\"\n",
    ")\n",
    "\n",
    "# Send proof request to Manufacturer3 and get presentation_exchange_id for connection with manufacturer 3\n",
    "presentation_exchange_id_a3 = city_agent.send_proof_request(\n",
    "    connection_id=connection_id_a3, \n",
    "    proof_request=manufacturer_proof_request, \n",
    "    comment=\"Please prove that you are an agent who is a certified manufacturer\"\n",
    ")"
   ]
  },
  {
   "cell_type": "markdown",
   "id": "9f62b23b",
   "metadata": {},
   "source": [
    "<div style=\"font-size: 25px\"><center><b>Break Point 5</b></center></div>\n",
    "<div style=\"font-size: 50px\"><center>🏙️ ➡️ 💼💼💼</center></div><br>\n",
    "<center><b>Please go to all manufacturer agents 💼💼💼. <br> For each of the manufacturer agents, continue with executing Step 3</b></center>\n",
    "\n",
    "#### 3.3 – Verify Proof Presentations\n",
    "\n",
    "When proof presentations are received by the manufacturers (see output under Step 3.2), you can verify whether the proof presentations are valid. \n",
    "A presentation object contains three classes of attributes. \n",
    "* Revealed Attributes: Attributes that were signed by an issuer and have been revealed in the presentation process\n",
    "* Self Attested Attributes: Attributes that the prover has self attested to in the presentation object.\n",
    "* Predicate proofs: Attribute values that have been proven to meet some statement. (TODO: Show how you can parse this information)\n",
    "\n",
    "Execute the following cell. The `verify_proof_presentation()` function verifies the proof presentation, and parses out relevant information. The returning value states whether the presentation proof is valid or not. In the use case at hand, because only one variable is verified, the boolean denotes if the agent is a manufacturer or not."
   ]
  },
  {
   "cell_type": "code",
   "execution_count": 13,
   "id": "dd9dae5e",
   "metadata": {},
   "outputs": [
    {
     "name": "stdout",
     "output_type": "stream",
     "text": [
      "\n",
      "---------------------------------------------------------------------\n",
      "\u001b[1mPresentation Exchange ID 472782a6-2f84-41a1-8e18-69e29e0ad65b\u001b[0m\n",
      "Presentation valid :  \u001b[32mTrue\u001b[0m\n",
      "Revealed Attributes : \n",
      "\t* isManufacturer = TRUE\n",
      "Self-Attested Attributes : \n",
      "Predicate Attributes : \n",
      "---------------------------------------------------------------------\n",
      "\n",
      "---------------------------------------------------------------------\n",
      "\u001b[1mConnection Webhook Event Received: Present-Proof Handler\u001b[0m\n",
      "Connection ID :  9bffebd1-205b-44be-8f8f-99cc61c378f2\n",
      "Presentation Exchange ID :  472782a6-2f84-41a1-8e18-69e29e0ad65b\n",
      "Protocol State :  \u001b[34mverified\u001b[0m\n",
      "Agent Role :  verifier\n",
      "Initiator :  self\n",
      "---------------------------------------------------------------------\n",
      "\u001b[1m\u001b[32mPresentation Exchange ID: 472782a6-2f84-41a1-8e18-69e29e0ad65b is verified\u001b[0m\n",
      "\n",
      "---------------------------------------------------------------------\n",
      "\u001b[1mConnection Webhook Event Received: Present-Proof Handler\u001b[0m\n",
      "Connection ID :  1186e299-c470-4c92-b164-5c582f3f3f47\n",
      "Presentation Exchange ID :  5ee16d67-aa15-45ed-a89c-365bc1e61af3\n",
      "Protocol State :  \u001b[34mverified\u001b[0m\n",
      "Agent Role :  verifier\n",
      "Initiator :  self\n",
      "---------------------------------------------------------------------\n",
      "\u001b[1m\u001b[32mPresentation Exchange ID: 5ee16d67-aa15-45ed-a89c-365bc1e61af3 is verified\u001b[0m\n",
      "\n",
      "---------------------------------------------------------------------\n",
      "\u001b[1mPresentation Exchange ID 5ee16d67-aa15-45ed-a89c-365bc1e61af3\u001b[0m\n",
      "Presentation valid :  \u001b[32mTrue\u001b[0m\n",
      "Revealed Attributes : \n",
      "\t* isManufacturer = TRUE\n",
      "Self-Attested Attributes : \n",
      "Predicate Attributes : \n",
      "---------------------------------------------------------------------\n",
      "\n",
      "---------------------------------------------------------------------\n",
      "\u001b[1mConnection Webhook Event Received: Present-Proof Handler\u001b[0m\n",
      "Connection ID :  55427664-4e76-4a4a-bcca-1693e9e2da38\n",
      "Presentation Exchange ID :  e29b5b58-642d-498a-b513-2fbfaacb31c6\n",
      "Protocol State :  \u001b[34mverified\u001b[0m\n",
      "Agent Role :  verifier\n",
      "Initiator :  self\n",
      "---------------------------------------------------------------------\n",
      "\u001b[1m\u001b[32mPresentation Exchange ID: e29b5b58-642d-498a-b513-2fbfaacb31c6 is verified\u001b[0m\n",
      "\n",
      "---------------------------------------------------------------------\n",
      "\u001b[1mPresentation Exchange ID e29b5b58-642d-498a-b513-2fbfaacb31c6\u001b[0m\n",
      "Presentation valid :  \u001b[32mTrue\u001b[0m\n",
      "Revealed Attributes : \n",
      "\t* isManufacturer = TRUE\n",
      "Self-Attested Attributes : \n",
      "Predicate Attributes : \n",
      "---------------------------------------------------------------------\n"
     ]
    }
   ],
   "source": [
    "a1_is_manufacturer = city_agent.verify_proof_presentation(presentation_exchange_id_a1)\n",
    "a2_is_manufacturer = city_agent.verify_proof_presentation(presentation_exchange_id_a2)\n",
    "a3_is_manufacturer = city_agent.verify_proof_presentation(presentation_exchange_id_a3)"
   ]
  },
  {
   "cell_type": "markdown",
   "id": "3223ec44",
   "metadata": {},
   "source": [
    "--- \n",
    "\n",
    "### 4 – Do Data Science\n",
    "\n",
    "#### 4.1 – Establish a Duet connection\n",
    "Duet is a package that allows you to exchange encrypted data and run privacy-preserving arithmetic operations on them (e.g., through homomorphic encryption or secure multiparty computation)."
   ]
  },
  {
   "cell_type": "code",
   "execution_count": 14,
   "id": "6199adc3",
   "metadata": {},
   "outputs": [],
   "source": []
  },
  {
   "cell_type": "code",
   "execution_count": 13,
   "id": "cb856aa9",
   "metadata": {},
   "outputs": [
    {
     "name": "stdout",
     "output_type": "stream",
     "text": [
      "🎤  🎸  ♪♪♪ Joining Duet ♫♫♫  🎻  🎹\n",
      "\n",
      "♫♫♫ >\u001b[93m DISCLAIMER\u001b[0m: \u001b[1mDuet is an experimental feature currently in beta.\n",
      "♫♫♫ > Use at your own risk.\n",
      "\u001b[0m\n",
      "\u001b[1m\n",
      "    > ❤️ \u001b[91mLove\u001b[0m \u001b[92mDuet\u001b[0m? \u001b[93mPlease\u001b[0m \u001b[94mconsider\u001b[0m \u001b[95msupporting\u001b[0m \u001b[91mour\u001b[0m \u001b[93mcommunity!\u001b[0m\n",
      "    > https://github.com/sponsors/OpenMined\u001b[1m\n",
      "\n",
      "♫♫♫ > Punching through firewall to OpenGrid Network Node at:\n",
      "♫♫♫ > http://ec2-18-218-7-180.us-east-2.compute.amazonaws.com:5000\n",
      "♫♫♫ >\n",
      "♫♫♫ > ...waiting for response from OpenGrid Network... \n",
      "♫♫♫ > \u001b[92mDONE!\u001b[0m\n",
      "\n",
      "♫♫♫ > \u001b[95mSTEP 1:\u001b[0m Send the following Duet Client ID to your duet partner!\n",
      "♫♫♫ > Duet Client ID: \u001b[1me8e53fdde51e445cc96272ea8145f101\u001b[0m\n",
      "\n",
      "♫♫♫ > ...waiting for partner to connect...\n"
     ]
    },
    {
     "ename": "KeyboardInterrupt",
     "evalue": "",
     "output_type": "error",
     "traceback": [
      "\u001b[0;31m---------------------------------------------------------------------------\u001b[0m",
      "\u001b[0;31mKeyboardInterrupt\u001b[0m                         Traceback (most recent call last)",
      "\u001b[0;32m/tmp/ipykernel_42/3841725899.py\u001b[0m in \u001b[0;36m<module>\u001b[0;34m\u001b[0m\n\u001b[1;32m      1\u001b[0m \u001b[0;31m# Step 4: Connect to duet of M1\u001b[0m\u001b[0;34m\u001b[0m\u001b[0;34m\u001b[0m\u001b[0;34m\u001b[0m\u001b[0m\n\u001b[0;32m----> 2\u001b[0;31m \u001b[0mduet_m1\u001b[0m \u001b[0;34m=\u001b[0m \u001b[0msy\u001b[0m\u001b[0;34m.\u001b[0m\u001b[0mduet\u001b[0m\u001b[0;34m(\u001b[0m\u001b[0;34m\"86a6992e42ce977bbe6e9bf698d25a72\"\u001b[0m\u001b[0;34m)\u001b[0m\u001b[0;34m\u001b[0m\u001b[0;34m\u001b[0m\u001b[0m\n\u001b[0m",
      "\u001b[0;32m/opt/conda/lib/python3.9/site-packages/syft/grid/duet/__init__.py\u001b[0m in \u001b[0;36mduet\u001b[0;34m(target_id, logging, network_url, loopback, db_path)\u001b[0m\n\u001b[1;32m    161\u001b[0m ) -> Client:\n\u001b[1;32m    162\u001b[0m     \u001b[0;32mif\u001b[0m \u001b[0mtarget_id\u001b[0m \u001b[0;32mis\u001b[0m \u001b[0;32mnot\u001b[0m \u001b[0;32mNone\u001b[0m\u001b[0;34m:\u001b[0m\u001b[0;34m\u001b[0m\u001b[0;34m\u001b[0m\u001b[0m\n\u001b[0;32m--> 163\u001b[0;31m         return join_duet(\n\u001b[0m\u001b[1;32m    164\u001b[0m             \u001b[0mtarget_id\u001b[0m\u001b[0;34m=\u001b[0m\u001b[0mtarget_id\u001b[0m\u001b[0;34m,\u001b[0m \u001b[0mloopback\u001b[0m\u001b[0;34m=\u001b[0m\u001b[0mloopback\u001b[0m\u001b[0;34m,\u001b[0m \u001b[0mnetwork_url\u001b[0m\u001b[0;34m=\u001b[0m\u001b[0mnetwork_url\u001b[0m\u001b[0;34m\u001b[0m\u001b[0;34m\u001b[0m\u001b[0m\n\u001b[1;32m    165\u001b[0m         )\n",
      "\u001b[0;32m/opt/conda/lib/python3.9/site-packages/syft/grid/duet/__init__.py\u001b[0m in \u001b[0;36mjoin_duet\u001b[0;34m(target_id, network_url, loopback, credential_exchanger)\u001b[0m\n\u001b[1;32m    289\u001b[0m     )\n\u001b[1;32m    290\u001b[0m \u001b[0;34m\u001b[0m\u001b[0m\n\u001b[0;32m--> 291\u001b[0;31m     duet = WebRTCDuet(\n\u001b[0m\u001b[1;32m    292\u001b[0m         \u001b[0mnode\u001b[0m\u001b[0;34m=\u001b[0m\u001b[0mmy_domain\u001b[0m\u001b[0;34m,\u001b[0m\u001b[0;34m\u001b[0m\u001b[0;34m\u001b[0m\u001b[0m\n\u001b[1;32m    293\u001b[0m         \u001b[0mtarget_id\u001b[0m\u001b[0;34m=\u001b[0m\u001b[0mtarget_id\u001b[0m\u001b[0;34m,\u001b[0m\u001b[0;34m\u001b[0m\u001b[0;34m\u001b[0m\u001b[0m\n",
      "\u001b[0;32m/opt/conda/lib/python3.9/site-packages/syft/grid/duet/webrtc_duet.py\u001b[0m in \u001b[0;36m__init__\u001b[0;34m(self, node, target_id, signaling_client, offer)\u001b[0m\n\u001b[1;32m    125\u001b[0m         \u001b[0;31m# 2 - Unexpected Exception\u001b[0m\u001b[0;34m\u001b[0m\u001b[0;34m\u001b[0m\u001b[0;34m\u001b[0m\u001b[0m\n\u001b[1;32m    126\u001b[0m         \u001b[0;32mtry\u001b[0m\u001b[0;34m:\u001b[0m\u001b[0;34m\u001b[0m\u001b[0;34m\u001b[0m\u001b[0m\n\u001b[0;32m--> 127\u001b[0;31m             \u001b[0masyncio\u001b[0m\u001b[0;34m.\u001b[0m\u001b[0mrun\u001b[0m\u001b[0;34m(\u001b[0m\u001b[0mself\u001b[0m\u001b[0;34m.\u001b[0m\u001b[0mnotify\u001b[0m\u001b[0;34m(\u001b[0m\u001b[0;34m)\u001b[0m\u001b[0;34m)\u001b[0m\u001b[0;34m\u001b[0m\u001b[0;34m\u001b[0m\u001b[0m\n\u001b[0m\u001b[1;32m    128\u001b[0m \u001b[0;34m\u001b[0m\u001b[0m\n\u001b[1;32m    129\u001b[0m             \u001b[0;31m# If client_metadata != None, then the connection was created successfully.\u001b[0m\u001b[0;34m\u001b[0m\u001b[0;34m\u001b[0m\u001b[0;34m\u001b[0m\u001b[0m\n",
      "\u001b[0;32m/opt/conda/lib/python3.9/site-packages/nest_asyncio.py\u001b[0m in \u001b[0;36mrun\u001b[0;34m(future, debug)\u001b[0m\n\u001b[1;32m     30\u001b[0m         \u001b[0mloop\u001b[0m \u001b[0;34m=\u001b[0m \u001b[0masyncio\u001b[0m\u001b[0;34m.\u001b[0m\u001b[0mget_event_loop\u001b[0m\u001b[0;34m(\u001b[0m\u001b[0;34m)\u001b[0m\u001b[0;34m\u001b[0m\u001b[0;34m\u001b[0m\u001b[0m\n\u001b[1;32m     31\u001b[0m         \u001b[0mloop\u001b[0m\u001b[0;34m.\u001b[0m\u001b[0mset_debug\u001b[0m\u001b[0;34m(\u001b[0m\u001b[0mdebug\u001b[0m\u001b[0;34m)\u001b[0m\u001b[0;34m\u001b[0m\u001b[0;34m\u001b[0m\u001b[0m\n\u001b[0;32m---> 32\u001b[0;31m         \u001b[0;32mreturn\u001b[0m \u001b[0mloop\u001b[0m\u001b[0;34m.\u001b[0m\u001b[0mrun_until_complete\u001b[0m\u001b[0;34m(\u001b[0m\u001b[0mfuture\u001b[0m\u001b[0;34m)\u001b[0m\u001b[0;34m\u001b[0m\u001b[0;34m\u001b[0m\u001b[0m\n\u001b[0m\u001b[1;32m     33\u001b[0m \u001b[0;34m\u001b[0m\u001b[0m\n\u001b[1;32m     34\u001b[0m     \u001b[0;32mif\u001b[0m \u001b[0msys\u001b[0m\u001b[0;34m.\u001b[0m\u001b[0mversion_info\u001b[0m \u001b[0;34m>=\u001b[0m \u001b[0;34m(\u001b[0m\u001b[0;36m3\u001b[0m\u001b[0;34m,\u001b[0m \u001b[0;36m6\u001b[0m\u001b[0;34m,\u001b[0m \u001b[0;36m0\u001b[0m\u001b[0;34m)\u001b[0m\u001b[0;34m:\u001b[0m\u001b[0;34m\u001b[0m\u001b[0;34m\u001b[0m\u001b[0m\n",
      "\u001b[0;32m/opt/conda/lib/python3.9/site-packages/nest_asyncio.py\u001b[0m in \u001b[0;36mrun_until_complete\u001b[0;34m(self, future)\u001b[0m\n\u001b[1;32m     62\u001b[0m                 \u001b[0mf\u001b[0m\u001b[0;34m.\u001b[0m\u001b[0m_log_destroy_pending\u001b[0m \u001b[0;34m=\u001b[0m \u001b[0;32mFalse\u001b[0m\u001b[0;34m\u001b[0m\u001b[0;34m\u001b[0m\u001b[0m\n\u001b[1;32m     63\u001b[0m             \u001b[0;32mwhile\u001b[0m \u001b[0;32mnot\u001b[0m \u001b[0mf\u001b[0m\u001b[0;34m.\u001b[0m\u001b[0mdone\u001b[0m\u001b[0;34m(\u001b[0m\u001b[0;34m)\u001b[0m\u001b[0;34m:\u001b[0m\u001b[0;34m\u001b[0m\u001b[0;34m\u001b[0m\u001b[0m\n\u001b[0;32m---> 64\u001b[0;31m                 \u001b[0mself\u001b[0m\u001b[0;34m.\u001b[0m\u001b[0m_run_once\u001b[0m\u001b[0;34m(\u001b[0m\u001b[0;34m)\u001b[0m\u001b[0;34m\u001b[0m\u001b[0;34m\u001b[0m\u001b[0m\n\u001b[0m\u001b[1;32m     65\u001b[0m                 \u001b[0;32mif\u001b[0m \u001b[0mself\u001b[0m\u001b[0;34m.\u001b[0m\u001b[0m_stopping\u001b[0m\u001b[0;34m:\u001b[0m\u001b[0;34m\u001b[0m\u001b[0;34m\u001b[0m\u001b[0m\n\u001b[1;32m     66\u001b[0m                     \u001b[0;32mbreak\u001b[0m\u001b[0;34m\u001b[0m\u001b[0;34m\u001b[0m\u001b[0m\n",
      "\u001b[0;32m/opt/conda/lib/python3.9/site-packages/nest_asyncio.py\u001b[0m in \u001b[0;36m_run_once\u001b[0;34m(self)\u001b[0m\n\u001b[1;32m     98\u001b[0m             \u001b[0mhandle\u001b[0m \u001b[0;34m=\u001b[0m \u001b[0mready\u001b[0m\u001b[0;34m.\u001b[0m\u001b[0mpopleft\u001b[0m\u001b[0;34m(\u001b[0m\u001b[0;34m)\u001b[0m\u001b[0;34m\u001b[0m\u001b[0;34m\u001b[0m\u001b[0m\n\u001b[1;32m     99\u001b[0m             \u001b[0;32mif\u001b[0m \u001b[0;32mnot\u001b[0m \u001b[0mhandle\u001b[0m\u001b[0;34m.\u001b[0m\u001b[0m_cancelled\u001b[0m\u001b[0;34m:\u001b[0m\u001b[0;34m\u001b[0m\u001b[0;34m\u001b[0m\u001b[0m\n\u001b[0;32m--> 100\u001b[0;31m                 \u001b[0mhandle\u001b[0m\u001b[0;34m.\u001b[0m\u001b[0m_run\u001b[0m\u001b[0;34m(\u001b[0m\u001b[0;34m)\u001b[0m\u001b[0;34m\u001b[0m\u001b[0;34m\u001b[0m\u001b[0m\n\u001b[0m\u001b[1;32m    101\u001b[0m         \u001b[0mhandle\u001b[0m \u001b[0;34m=\u001b[0m \u001b[0;32mNone\u001b[0m\u001b[0;34m\u001b[0m\u001b[0;34m\u001b[0m\u001b[0m\n\u001b[1;32m    102\u001b[0m \u001b[0;34m\u001b[0m\u001b[0m\n",
      "\u001b[0;32m/opt/conda/lib/python3.9/asyncio/events.py\u001b[0m in \u001b[0;36m_run\u001b[0;34m(self)\u001b[0m\n\u001b[1;32m     78\u001b[0m     \u001b[0;32mdef\u001b[0m \u001b[0m_run\u001b[0m\u001b[0;34m(\u001b[0m\u001b[0mself\u001b[0m\u001b[0;34m)\u001b[0m\u001b[0;34m:\u001b[0m\u001b[0;34m\u001b[0m\u001b[0;34m\u001b[0m\u001b[0m\n\u001b[1;32m     79\u001b[0m         \u001b[0;32mtry\u001b[0m\u001b[0;34m:\u001b[0m\u001b[0;34m\u001b[0m\u001b[0;34m\u001b[0m\u001b[0m\n\u001b[0;32m---> 80\u001b[0;31m             \u001b[0mself\u001b[0m\u001b[0;34m.\u001b[0m\u001b[0m_context\u001b[0m\u001b[0;34m.\u001b[0m\u001b[0mrun\u001b[0m\u001b[0;34m(\u001b[0m\u001b[0mself\u001b[0m\u001b[0;34m.\u001b[0m\u001b[0m_callback\u001b[0m\u001b[0;34m,\u001b[0m \u001b[0;34m*\u001b[0m\u001b[0mself\u001b[0m\u001b[0;34m.\u001b[0m\u001b[0m_args\u001b[0m\u001b[0;34m)\u001b[0m\u001b[0;34m\u001b[0m\u001b[0;34m\u001b[0m\u001b[0m\n\u001b[0m\u001b[1;32m     81\u001b[0m         \u001b[0;32mexcept\u001b[0m \u001b[0;34m(\u001b[0m\u001b[0mSystemExit\u001b[0m\u001b[0;34m,\u001b[0m \u001b[0mKeyboardInterrupt\u001b[0m\u001b[0;34m)\u001b[0m\u001b[0;34m:\u001b[0m\u001b[0;34m\u001b[0m\u001b[0;34m\u001b[0m\u001b[0m\n\u001b[1;32m     82\u001b[0m             \u001b[0;32mraise\u001b[0m\u001b[0;34m\u001b[0m\u001b[0;34m\u001b[0m\u001b[0m\n",
      "\u001b[0;32m/opt/conda/lib/python3.9/asyncio/tasks.py\u001b[0m in \u001b[0;36m__wakeup\u001b[0;34m(self, future)\u001b[0m\n\u001b[1;32m    337\u001b[0m             \u001b[0;31m# instead of `__next__()`, which is slower for futures\u001b[0m\u001b[0;34m\u001b[0m\u001b[0;34m\u001b[0m\u001b[0;34m\u001b[0m\u001b[0m\n\u001b[1;32m    338\u001b[0m             \u001b[0;31m# that return non-generator iterators from their `__iter__`.\u001b[0m\u001b[0;34m\u001b[0m\u001b[0;34m\u001b[0m\u001b[0;34m\u001b[0m\u001b[0m\n\u001b[0;32m--> 339\u001b[0;31m             \u001b[0mself\u001b[0m\u001b[0;34m.\u001b[0m\u001b[0m__step\u001b[0m\u001b[0;34m(\u001b[0m\u001b[0;34m)\u001b[0m\u001b[0;34m\u001b[0m\u001b[0;34m\u001b[0m\u001b[0m\n\u001b[0m\u001b[1;32m    340\u001b[0m         \u001b[0mself\u001b[0m \u001b[0;34m=\u001b[0m \u001b[0;32mNone\u001b[0m  \u001b[0;31m# Needed to break cycles when an exception occurs.\u001b[0m\u001b[0;34m\u001b[0m\u001b[0;34m\u001b[0m\u001b[0m\n\u001b[1;32m    341\u001b[0m \u001b[0;34m\u001b[0m\u001b[0m\n",
      "\u001b[0;32m/opt/conda/lib/python3.9/site-packages/nest_asyncio.py\u001b[0m in \u001b[0;36mstep\u001b[0;34m(task, exc)\u001b[0m\n\u001b[1;32m    167\u001b[0m         \u001b[0mcurr_task\u001b[0m \u001b[0;34m=\u001b[0m \u001b[0mcurr_tasks\u001b[0m\u001b[0;34m.\u001b[0m\u001b[0mget\u001b[0m\u001b[0;34m(\u001b[0m\u001b[0mtask\u001b[0m\u001b[0;34m.\u001b[0m\u001b[0m_loop\u001b[0m\u001b[0;34m)\u001b[0m\u001b[0;34m\u001b[0m\u001b[0;34m\u001b[0m\u001b[0m\n\u001b[1;32m    168\u001b[0m         \u001b[0;32mtry\u001b[0m\u001b[0;34m:\u001b[0m\u001b[0;34m\u001b[0m\u001b[0;34m\u001b[0m\u001b[0m\n\u001b[0;32m--> 169\u001b[0;31m             \u001b[0mstep_orig\u001b[0m\u001b[0;34m(\u001b[0m\u001b[0mtask\u001b[0m\u001b[0;34m,\u001b[0m \u001b[0mexc\u001b[0m\u001b[0;34m)\u001b[0m\u001b[0;34m\u001b[0m\u001b[0;34m\u001b[0m\u001b[0m\n\u001b[0m\u001b[1;32m    170\u001b[0m         \u001b[0;32mfinally\u001b[0m\u001b[0;34m:\u001b[0m\u001b[0;34m\u001b[0m\u001b[0;34m\u001b[0m\u001b[0m\n\u001b[1;32m    171\u001b[0m             \u001b[0;32mif\u001b[0m \u001b[0mcurr_task\u001b[0m \u001b[0;32mis\u001b[0m \u001b[0;32mNone\u001b[0m\u001b[0;34m:\u001b[0m\u001b[0;34m\u001b[0m\u001b[0;34m\u001b[0m\u001b[0m\n",
      "\u001b[0;32m/opt/conda/lib/python3.9/asyncio/tasks.py\u001b[0m in \u001b[0;36m__step\u001b[0;34m(***failed resolving arguments***)\u001b[0m\n\u001b[1;32m    254\u001b[0m                 \u001b[0;31m# We use the `send` method directly, because coroutines\u001b[0m\u001b[0;34m\u001b[0m\u001b[0;34m\u001b[0m\u001b[0;34m\u001b[0m\u001b[0m\n\u001b[1;32m    255\u001b[0m                 \u001b[0;31m# don't have `__iter__` and `__next__` methods.\u001b[0m\u001b[0;34m\u001b[0m\u001b[0;34m\u001b[0m\u001b[0;34m\u001b[0m\u001b[0m\n\u001b[0;32m--> 256\u001b[0;31m                 \u001b[0mresult\u001b[0m \u001b[0;34m=\u001b[0m \u001b[0mcoro\u001b[0m\u001b[0;34m.\u001b[0m\u001b[0msend\u001b[0m\u001b[0;34m(\u001b[0m\u001b[0;32mNone\u001b[0m\u001b[0;34m)\u001b[0m\u001b[0;34m\u001b[0m\u001b[0;34m\u001b[0m\u001b[0m\n\u001b[0m\u001b[1;32m    257\u001b[0m             \u001b[0;32melse\u001b[0m\u001b[0;34m:\u001b[0m\u001b[0;34m\u001b[0m\u001b[0;34m\u001b[0m\u001b[0m\n\u001b[1;32m    258\u001b[0m                 \u001b[0mresult\u001b[0m \u001b[0;34m=\u001b[0m \u001b[0mcoro\u001b[0m\u001b[0;34m.\u001b[0m\u001b[0mthrow\u001b[0m\u001b[0;34m(\u001b[0m\u001b[0mexc\u001b[0m\u001b[0;34m)\u001b[0m\u001b[0;34m\u001b[0m\u001b[0;34m\u001b[0m\u001b[0m\n",
      "\u001b[0;32m/opt/conda/lib/python3.9/site-packages/syft/grid/duet/webrtc_duet.py\u001b[0m in \u001b[0;36mpull\u001b[0;34m(self)\u001b[0m\n\u001b[1;32m    212\u001b[0m                 \u001b[0;31m# If self.pull_msg_queue.get() returned a message (OfferPullRequestMessage,AnswerPullRequestMessage)\u001b[0m\u001b[0;34m\u001b[0m\u001b[0;34m\u001b[0m\u001b[0;34m\u001b[0m\u001b[0m\n\u001b[1;32m    213\u001b[0m                 \u001b[0;31m# send it to the signaling server.\u001b[0m\u001b[0;34m\u001b[0m\u001b[0;34m\u001b[0m\u001b[0;34m\u001b[0m\u001b[0m\n\u001b[0;32m--> 214\u001b[0;31m                 \u001b[0m_response\u001b[0m \u001b[0;34m=\u001b[0m \u001b[0mself\u001b[0m\u001b[0;34m.\u001b[0m\u001b[0msignaling_client\u001b[0m\u001b[0;34m.\u001b[0m\u001b[0msend_immediate_msg_with_reply\u001b[0m\u001b[0;34m(\u001b[0m\u001b[0mmsg\u001b[0m\u001b[0;34m=\u001b[0m\u001b[0mmsg\u001b[0m\u001b[0;34m)\u001b[0m\u001b[0;34m\u001b[0m\u001b[0;34m\u001b[0m\u001b[0m\n\u001b[0m\u001b[1;32m    215\u001b[0m \u001b[0;34m\u001b[0m\u001b[0m\n\u001b[1;32m    216\u001b[0m                 \u001b[0;31m# If Signaling Offer Message was found\u001b[0m\u001b[0;34m\u001b[0m\u001b[0;34m\u001b[0m\u001b[0;34m\u001b[0m\u001b[0m\n",
      "\u001b[0;32m/opt/conda/lib/python3.9/site-packages/syft/grid/duet/signaling_client.py\u001b[0m in \u001b[0;36msend_immediate_msg_with_reply\u001b[0;34m(self, msg)\u001b[0m\n\u001b[1;32m     69\u001b[0m         \u001b[0mmsg\u001b[0m\u001b[0;34m:\u001b[0m \u001b[0mUnion\u001b[0m\u001b[0;34m[\u001b[0m\u001b[0mSignedImmediateSyftMessageWithReply\u001b[0m\u001b[0;34m,\u001b[0m \u001b[0mImmediateSyftMessageWithReply\u001b[0m\u001b[0;34m]\u001b[0m\u001b[0;34m,\u001b[0m\u001b[0;34m\u001b[0m\u001b[0;34m\u001b[0m\u001b[0m\n\u001b[1;32m     70\u001b[0m     ) -> SyftMessage:\n\u001b[0;32m---> 71\u001b[0;31m         \u001b[0;32mreturn\u001b[0m \u001b[0mself\u001b[0m\u001b[0;34m.\u001b[0m\u001b[0m__client\u001b[0m\u001b[0;34m.\u001b[0m\u001b[0msend_immediate_msg_with_reply\u001b[0m\u001b[0;34m(\u001b[0m\u001b[0mmsg\u001b[0m\u001b[0;34m=\u001b[0m\u001b[0mmsg\u001b[0m\u001b[0;34m)\u001b[0m\u001b[0;34m\u001b[0m\u001b[0;34m\u001b[0m\u001b[0m\n\u001b[0m\u001b[1;32m     72\u001b[0m \u001b[0;34m\u001b[0m\u001b[0m\n\u001b[1;32m     73\u001b[0m     def send_immediate_msg_without_reply(\n",
      "\u001b[0;32m/opt/conda/lib/python3.9/site-packages/syft/core/node/common/client.py\u001b[0m in \u001b[0;36msend_immediate_msg_with_reply\u001b[0;34m(self, msg, route_index)\u001b[0m\n\u001b[1;32m    226\u001b[0m             \u001b[0mmsg\u001b[0m \u001b[0;34m=\u001b[0m \u001b[0mmsg\u001b[0m\u001b[0;34m.\u001b[0m\u001b[0msign\u001b[0m\u001b[0;34m(\u001b[0m\u001b[0msigning_key\u001b[0m\u001b[0;34m=\u001b[0m\u001b[0mself\u001b[0m\u001b[0;34m.\u001b[0m\u001b[0msigning_key\u001b[0m\u001b[0;34m)\u001b[0m\u001b[0;34m\u001b[0m\u001b[0;34m\u001b[0m\u001b[0m\n\u001b[1;32m    227\u001b[0m \u001b[0;34m\u001b[0m\u001b[0m\n\u001b[0;32m--> 228\u001b[0;31m         \u001b[0mresponse\u001b[0m \u001b[0;34m=\u001b[0m \u001b[0mself\u001b[0m\u001b[0;34m.\u001b[0m\u001b[0mroutes\u001b[0m\u001b[0;34m[\u001b[0m\u001b[0mroute_index\u001b[0m\u001b[0;34m]\u001b[0m\u001b[0;34m.\u001b[0m\u001b[0msend_immediate_msg_with_reply\u001b[0m\u001b[0;34m(\u001b[0m\u001b[0mmsg\u001b[0m\u001b[0;34m=\u001b[0m\u001b[0mmsg\u001b[0m\u001b[0;34m)\u001b[0m\u001b[0;34m\u001b[0m\u001b[0;34m\u001b[0m\u001b[0m\n\u001b[0m\u001b[1;32m    229\u001b[0m         \u001b[0;32mif\u001b[0m \u001b[0mresponse\u001b[0m\u001b[0;34m.\u001b[0m\u001b[0mis_valid\u001b[0m\u001b[0;34m:\u001b[0m\u001b[0;34m\u001b[0m\u001b[0;34m\u001b[0m\u001b[0m\n\u001b[1;32m    230\u001b[0m             \u001b[0;31m# check if we have an ExceptionMessage to trigger a local exception\u001b[0m\u001b[0;34m\u001b[0m\u001b[0;34m\u001b[0m\u001b[0;34m\u001b[0m\u001b[0m\n",
      "\u001b[0;32m/opt/conda/lib/python3.9/site-packages/syft/core/io/route.py\u001b[0m in \u001b[0;36msend_immediate_msg_with_reply\u001b[0;34m(self, msg)\u001b[0m\n\u001b[1;32m    175\u001b[0m         \u001b[0mself\u001b[0m\u001b[0;34m,\u001b[0m \u001b[0mmsg\u001b[0m\u001b[0;34m:\u001b[0m \u001b[0mSignedImmediateSyftMessageWithReply\u001b[0m\u001b[0;34m\u001b[0m\u001b[0;34m\u001b[0m\u001b[0m\n\u001b[1;32m    176\u001b[0m     ) -> SignedImmediateSyftMessageWithoutReply:\n\u001b[0;32m--> 177\u001b[0;31m         \u001b[0;32mreturn\u001b[0m \u001b[0mself\u001b[0m\u001b[0;34m.\u001b[0m\u001b[0mconnection\u001b[0m\u001b[0;34m.\u001b[0m\u001b[0msend_immediate_msg_with_reply\u001b[0m\u001b[0;34m(\u001b[0m\u001b[0mmsg\u001b[0m\u001b[0;34m=\u001b[0m\u001b[0mmsg\u001b[0m\u001b[0;34m)\u001b[0m\u001b[0;34m\u001b[0m\u001b[0;34m\u001b[0m\u001b[0m\n\u001b[0m\u001b[1;32m    178\u001b[0m \u001b[0;34m\u001b[0m\u001b[0m\n\u001b[1;32m    179\u001b[0m     \u001b[0;32mdef\u001b[0m \u001b[0m_object2proto\u001b[0m\u001b[0;34m(\u001b[0m\u001b[0mself\u001b[0m\u001b[0;34m)\u001b[0m \u001b[0;34m->\u001b[0m \u001b[0mSoloRoute_PB\u001b[0m\u001b[0;34m:\u001b[0m\u001b[0;34m\u001b[0m\u001b[0;34m\u001b[0m\u001b[0m\n",
      "\u001b[0;32m/opt/conda/lib/python3.9/site-packages/syft/grid/connections/http_connection.py\u001b[0m in \u001b[0;36msend_immediate_msg_with_reply\u001b[0;34m(self, msg)\u001b[0m\n\u001b[1;32m     37\u001b[0m         \u001b[0;31m# Serializes SignedImmediateSyftMessageWithReply\u001b[0m\u001b[0;34m\u001b[0m\u001b[0;34m\u001b[0m\u001b[0;34m\u001b[0m\u001b[0m\n\u001b[1;32m     38\u001b[0m         \u001b[0;31m# and send it using HTTP protocol\u001b[0m\u001b[0;34m\u001b[0m\u001b[0;34m\u001b[0m\u001b[0;34m\u001b[0m\u001b[0m\n\u001b[0;32m---> 39\u001b[0;31m         \u001b[0mresponse\u001b[0m \u001b[0;34m=\u001b[0m \u001b[0mself\u001b[0m\u001b[0;34m.\u001b[0m\u001b[0m_send_msg\u001b[0m\u001b[0;34m(\u001b[0m\u001b[0mmsg\u001b[0m\u001b[0;34m=\u001b[0m\u001b[0mmsg\u001b[0m\u001b[0;34m)\u001b[0m\u001b[0;34m\u001b[0m\u001b[0;34m\u001b[0m\u001b[0m\n\u001b[0m\u001b[1;32m     40\u001b[0m \u001b[0;34m\u001b[0m\u001b[0m\n\u001b[1;32m     41\u001b[0m         \u001b[0;31m# Deserialize node's response\u001b[0m\u001b[0;34m\u001b[0m\u001b[0;34m\u001b[0m\u001b[0;34m\u001b[0m\u001b[0m\n",
      "\u001b[0;32m/opt/conda/lib/python3.9/site-packages/syft/grid/connections/http_connection.py\u001b[0m in \u001b[0;36m_send_msg\u001b[0;34m(self, msg)\u001b[0m\n\u001b[1;32m     91\u001b[0m         \u001b[0;31m# Perform HTTP request using base_url as a root address\u001b[0m\u001b[0;34m\u001b[0m\u001b[0;34m\u001b[0m\u001b[0;34m\u001b[0m\u001b[0m\n\u001b[1;32m     92\u001b[0m         \u001b[0mdata_bytes\u001b[0m\u001b[0;34m:\u001b[0m \u001b[0mbytes\u001b[0m \u001b[0;34m=\u001b[0m \u001b[0m_serialize\u001b[0m\u001b[0;34m(\u001b[0m\u001b[0mmsg\u001b[0m\u001b[0;34m,\u001b[0m \u001b[0mto_bytes\u001b[0m\u001b[0;34m=\u001b[0m\u001b[0;32mTrue\u001b[0m\u001b[0;34m)\u001b[0m  \u001b[0;31m# type: ignore\u001b[0m\u001b[0;34m\u001b[0m\u001b[0;34m\u001b[0m\u001b[0m\n\u001b[0;32m---> 93\u001b[0;31m         r = requests.post(\n\u001b[0m\u001b[1;32m     94\u001b[0m             \u001b[0murl\u001b[0m\u001b[0;34m=\u001b[0m\u001b[0mself\u001b[0m\u001b[0;34m.\u001b[0m\u001b[0mbase_url\u001b[0m\u001b[0;34m,\u001b[0m\u001b[0;34m\u001b[0m\u001b[0;34m\u001b[0m\u001b[0m\n\u001b[1;32m     95\u001b[0m             \u001b[0mdata\u001b[0m\u001b[0;34m=\u001b[0m\u001b[0mdata_bytes\u001b[0m\u001b[0;34m,\u001b[0m\u001b[0;34m\u001b[0m\u001b[0;34m\u001b[0m\u001b[0m\n",
      "\u001b[0;32m/opt/conda/lib/python3.9/site-packages/requests/api.py\u001b[0m in \u001b[0;36mpost\u001b[0;34m(url, data, json, **kwargs)\u001b[0m\n\u001b[1;32m    117\u001b[0m     \"\"\"\n\u001b[1;32m    118\u001b[0m \u001b[0;34m\u001b[0m\u001b[0m\n\u001b[0;32m--> 119\u001b[0;31m     \u001b[0;32mreturn\u001b[0m \u001b[0mrequest\u001b[0m\u001b[0;34m(\u001b[0m\u001b[0;34m'post'\u001b[0m\u001b[0;34m,\u001b[0m \u001b[0murl\u001b[0m\u001b[0;34m,\u001b[0m \u001b[0mdata\u001b[0m\u001b[0;34m=\u001b[0m\u001b[0mdata\u001b[0m\u001b[0;34m,\u001b[0m \u001b[0mjson\u001b[0m\u001b[0;34m=\u001b[0m\u001b[0mjson\u001b[0m\u001b[0;34m,\u001b[0m \u001b[0;34m**\u001b[0m\u001b[0mkwargs\u001b[0m\u001b[0;34m)\u001b[0m\u001b[0;34m\u001b[0m\u001b[0;34m\u001b[0m\u001b[0m\n\u001b[0m\u001b[1;32m    120\u001b[0m \u001b[0;34m\u001b[0m\u001b[0m\n\u001b[1;32m    121\u001b[0m \u001b[0;34m\u001b[0m\u001b[0m\n",
      "\u001b[0;32m/opt/conda/lib/python3.9/site-packages/requests/api.py\u001b[0m in \u001b[0;36mrequest\u001b[0;34m(method, url, **kwargs)\u001b[0m\n\u001b[1;32m     59\u001b[0m     \u001b[0;31m# cases, and look like a memory leak in others.\u001b[0m\u001b[0;34m\u001b[0m\u001b[0;34m\u001b[0m\u001b[0;34m\u001b[0m\u001b[0m\n\u001b[1;32m     60\u001b[0m     \u001b[0;32mwith\u001b[0m \u001b[0msessions\u001b[0m\u001b[0;34m.\u001b[0m\u001b[0mSession\u001b[0m\u001b[0;34m(\u001b[0m\u001b[0;34m)\u001b[0m \u001b[0;32mas\u001b[0m \u001b[0msession\u001b[0m\u001b[0;34m:\u001b[0m\u001b[0;34m\u001b[0m\u001b[0;34m\u001b[0m\u001b[0m\n\u001b[0;32m---> 61\u001b[0;31m         \u001b[0;32mreturn\u001b[0m \u001b[0msession\u001b[0m\u001b[0;34m.\u001b[0m\u001b[0mrequest\u001b[0m\u001b[0;34m(\u001b[0m\u001b[0mmethod\u001b[0m\u001b[0;34m=\u001b[0m\u001b[0mmethod\u001b[0m\u001b[0;34m,\u001b[0m \u001b[0murl\u001b[0m\u001b[0;34m=\u001b[0m\u001b[0murl\u001b[0m\u001b[0;34m,\u001b[0m \u001b[0;34m**\u001b[0m\u001b[0mkwargs\u001b[0m\u001b[0;34m)\u001b[0m\u001b[0;34m\u001b[0m\u001b[0;34m\u001b[0m\u001b[0m\n\u001b[0m\u001b[1;32m     62\u001b[0m \u001b[0;34m\u001b[0m\u001b[0m\n\u001b[1;32m     63\u001b[0m \u001b[0;34m\u001b[0m\u001b[0m\n",
      "\u001b[0;32m/opt/conda/lib/python3.9/site-packages/requests/sessions.py\u001b[0m in \u001b[0;36mrequest\u001b[0;34m(self, method, url, params, data, headers, cookies, files, auth, timeout, allow_redirects, proxies, hooks, stream, verify, cert, json)\u001b[0m\n\u001b[1;32m    540\u001b[0m         }\n\u001b[1;32m    541\u001b[0m         \u001b[0msend_kwargs\u001b[0m\u001b[0;34m.\u001b[0m\u001b[0mupdate\u001b[0m\u001b[0;34m(\u001b[0m\u001b[0msettings\u001b[0m\u001b[0;34m)\u001b[0m\u001b[0;34m\u001b[0m\u001b[0;34m\u001b[0m\u001b[0m\n\u001b[0;32m--> 542\u001b[0;31m         \u001b[0mresp\u001b[0m \u001b[0;34m=\u001b[0m \u001b[0mself\u001b[0m\u001b[0;34m.\u001b[0m\u001b[0msend\u001b[0m\u001b[0;34m(\u001b[0m\u001b[0mprep\u001b[0m\u001b[0;34m,\u001b[0m \u001b[0;34m**\u001b[0m\u001b[0msend_kwargs\u001b[0m\u001b[0;34m)\u001b[0m\u001b[0;34m\u001b[0m\u001b[0;34m\u001b[0m\u001b[0m\n\u001b[0m\u001b[1;32m    543\u001b[0m \u001b[0;34m\u001b[0m\u001b[0m\n\u001b[1;32m    544\u001b[0m         \u001b[0;32mreturn\u001b[0m \u001b[0mresp\u001b[0m\u001b[0;34m\u001b[0m\u001b[0;34m\u001b[0m\u001b[0m\n",
      "\u001b[0;32m/opt/conda/lib/python3.9/site-packages/requests/sessions.py\u001b[0m in \u001b[0;36msend\u001b[0;34m(self, request, **kwargs)\u001b[0m\n\u001b[1;32m    695\u001b[0m \u001b[0;34m\u001b[0m\u001b[0m\n\u001b[1;32m    696\u001b[0m         \u001b[0;32mif\u001b[0m \u001b[0;32mnot\u001b[0m \u001b[0mstream\u001b[0m\u001b[0;34m:\u001b[0m\u001b[0;34m\u001b[0m\u001b[0;34m\u001b[0m\u001b[0m\n\u001b[0;32m--> 697\u001b[0;31m             \u001b[0mr\u001b[0m\u001b[0;34m.\u001b[0m\u001b[0mcontent\u001b[0m\u001b[0;34m\u001b[0m\u001b[0;34m\u001b[0m\u001b[0m\n\u001b[0m\u001b[1;32m    698\u001b[0m \u001b[0;34m\u001b[0m\u001b[0m\n\u001b[1;32m    699\u001b[0m         \u001b[0;32mreturn\u001b[0m \u001b[0mr\u001b[0m\u001b[0;34m\u001b[0m\u001b[0;34m\u001b[0m\u001b[0m\n",
      "\u001b[0;32m/opt/conda/lib/python3.9/site-packages/requests/models.py\u001b[0m in \u001b[0;36mcontent\u001b[0;34m(self)\u001b[0m\n\u001b[1;32m    829\u001b[0m                 \u001b[0mself\u001b[0m\u001b[0;34m.\u001b[0m\u001b[0m_content\u001b[0m \u001b[0;34m=\u001b[0m \u001b[0;32mNone\u001b[0m\u001b[0;34m\u001b[0m\u001b[0;34m\u001b[0m\u001b[0m\n\u001b[1;32m    830\u001b[0m             \u001b[0;32melse\u001b[0m\u001b[0;34m:\u001b[0m\u001b[0;34m\u001b[0m\u001b[0;34m\u001b[0m\u001b[0m\n\u001b[0;32m--> 831\u001b[0;31m                 \u001b[0mself\u001b[0m\u001b[0;34m.\u001b[0m\u001b[0m_content\u001b[0m \u001b[0;34m=\u001b[0m \u001b[0;34mb''\u001b[0m\u001b[0;34m.\u001b[0m\u001b[0mjoin\u001b[0m\u001b[0;34m(\u001b[0m\u001b[0mself\u001b[0m\u001b[0;34m.\u001b[0m\u001b[0miter_content\u001b[0m\u001b[0;34m(\u001b[0m\u001b[0mCONTENT_CHUNK_SIZE\u001b[0m\u001b[0;34m)\u001b[0m\u001b[0;34m)\u001b[0m \u001b[0;32mor\u001b[0m \u001b[0;34mb''\u001b[0m\u001b[0;34m\u001b[0m\u001b[0;34m\u001b[0m\u001b[0m\n\u001b[0m\u001b[1;32m    832\u001b[0m \u001b[0;34m\u001b[0m\u001b[0m\n\u001b[1;32m    833\u001b[0m         \u001b[0mself\u001b[0m\u001b[0;34m.\u001b[0m\u001b[0m_content_consumed\u001b[0m \u001b[0;34m=\u001b[0m \u001b[0;32mTrue\u001b[0m\u001b[0;34m\u001b[0m\u001b[0;34m\u001b[0m\u001b[0m\n",
      "\u001b[0;32m/opt/conda/lib/python3.9/site-packages/requests/models.py\u001b[0m in \u001b[0;36mgenerate\u001b[0;34m()\u001b[0m\n\u001b[1;32m    751\u001b[0m             \u001b[0;32mif\u001b[0m \u001b[0mhasattr\u001b[0m\u001b[0;34m(\u001b[0m\u001b[0mself\u001b[0m\u001b[0;34m.\u001b[0m\u001b[0mraw\u001b[0m\u001b[0;34m,\u001b[0m \u001b[0;34m'stream'\u001b[0m\u001b[0;34m)\u001b[0m\u001b[0;34m:\u001b[0m\u001b[0;34m\u001b[0m\u001b[0;34m\u001b[0m\u001b[0m\n\u001b[1;32m    752\u001b[0m                 \u001b[0;32mtry\u001b[0m\u001b[0;34m:\u001b[0m\u001b[0;34m\u001b[0m\u001b[0;34m\u001b[0m\u001b[0m\n\u001b[0;32m--> 753\u001b[0;31m                     \u001b[0;32mfor\u001b[0m \u001b[0mchunk\u001b[0m \u001b[0;32min\u001b[0m \u001b[0mself\u001b[0m\u001b[0;34m.\u001b[0m\u001b[0mraw\u001b[0m\u001b[0;34m.\u001b[0m\u001b[0mstream\u001b[0m\u001b[0;34m(\u001b[0m\u001b[0mchunk_size\u001b[0m\u001b[0;34m,\u001b[0m \u001b[0mdecode_content\u001b[0m\u001b[0;34m=\u001b[0m\u001b[0;32mTrue\u001b[0m\u001b[0;34m)\u001b[0m\u001b[0;34m:\u001b[0m\u001b[0;34m\u001b[0m\u001b[0;34m\u001b[0m\u001b[0m\n\u001b[0m\u001b[1;32m    754\u001b[0m                         \u001b[0;32myield\u001b[0m \u001b[0mchunk\u001b[0m\u001b[0;34m\u001b[0m\u001b[0;34m\u001b[0m\u001b[0m\n\u001b[1;32m    755\u001b[0m                 \u001b[0;32mexcept\u001b[0m \u001b[0mProtocolError\u001b[0m \u001b[0;32mas\u001b[0m \u001b[0me\u001b[0m\u001b[0;34m:\u001b[0m\u001b[0;34m\u001b[0m\u001b[0;34m\u001b[0m\u001b[0m\n",
      "\u001b[0;32m/opt/conda/lib/python3.9/site-packages/urllib3/response.py\u001b[0m in \u001b[0;36mstream\u001b[0;34m(self, amt, decode_content)\u001b[0m\n\u001b[1;32m    574\u001b[0m         \u001b[0;32melse\u001b[0m\u001b[0;34m:\u001b[0m\u001b[0;34m\u001b[0m\u001b[0;34m\u001b[0m\u001b[0m\n\u001b[1;32m    575\u001b[0m             \u001b[0;32mwhile\u001b[0m \u001b[0;32mnot\u001b[0m \u001b[0mis_fp_closed\u001b[0m\u001b[0;34m(\u001b[0m\u001b[0mself\u001b[0m\u001b[0;34m.\u001b[0m\u001b[0m_fp\u001b[0m\u001b[0;34m)\u001b[0m\u001b[0;34m:\u001b[0m\u001b[0;34m\u001b[0m\u001b[0;34m\u001b[0m\u001b[0m\n\u001b[0;32m--> 576\u001b[0;31m                 \u001b[0mdata\u001b[0m \u001b[0;34m=\u001b[0m \u001b[0mself\u001b[0m\u001b[0;34m.\u001b[0m\u001b[0mread\u001b[0m\u001b[0;34m(\u001b[0m\u001b[0mamt\u001b[0m\u001b[0;34m=\u001b[0m\u001b[0mamt\u001b[0m\u001b[0;34m,\u001b[0m \u001b[0mdecode_content\u001b[0m\u001b[0;34m=\u001b[0m\u001b[0mdecode_content\u001b[0m\u001b[0;34m)\u001b[0m\u001b[0;34m\u001b[0m\u001b[0;34m\u001b[0m\u001b[0m\n\u001b[0m\u001b[1;32m    577\u001b[0m \u001b[0;34m\u001b[0m\u001b[0m\n\u001b[1;32m    578\u001b[0m                 \u001b[0;32mif\u001b[0m \u001b[0mdata\u001b[0m\u001b[0;34m:\u001b[0m\u001b[0;34m\u001b[0m\u001b[0;34m\u001b[0m\u001b[0m\n",
      "\u001b[0;32m/opt/conda/lib/python3.9/site-packages/urllib3/response.py\u001b[0m in \u001b[0;36mread\u001b[0;34m(self, amt, decode_content, cache_content)\u001b[0m\n\u001b[1;32m    517\u001b[0m             \u001b[0;32melse\u001b[0m\u001b[0;34m:\u001b[0m\u001b[0;34m\u001b[0m\u001b[0;34m\u001b[0m\u001b[0m\n\u001b[1;32m    518\u001b[0m                 \u001b[0mcache_content\u001b[0m \u001b[0;34m=\u001b[0m \u001b[0;32mFalse\u001b[0m\u001b[0;34m\u001b[0m\u001b[0;34m\u001b[0m\u001b[0m\n\u001b[0;32m--> 519\u001b[0;31m                 \u001b[0mdata\u001b[0m \u001b[0;34m=\u001b[0m \u001b[0mself\u001b[0m\u001b[0;34m.\u001b[0m\u001b[0m_fp\u001b[0m\u001b[0;34m.\u001b[0m\u001b[0mread\u001b[0m\u001b[0;34m(\u001b[0m\u001b[0mamt\u001b[0m\u001b[0;34m)\u001b[0m \u001b[0;32mif\u001b[0m \u001b[0;32mnot\u001b[0m \u001b[0mfp_closed\u001b[0m \u001b[0;32melse\u001b[0m \u001b[0;34mb\"\"\u001b[0m\u001b[0;34m\u001b[0m\u001b[0;34m\u001b[0m\u001b[0m\n\u001b[0m\u001b[1;32m    520\u001b[0m                 if (\n\u001b[1;32m    521\u001b[0m                     \u001b[0mamt\u001b[0m \u001b[0;34m!=\u001b[0m \u001b[0;36m0\u001b[0m \u001b[0;32mand\u001b[0m \u001b[0;32mnot\u001b[0m \u001b[0mdata\u001b[0m\u001b[0;34m\u001b[0m\u001b[0;34m\u001b[0m\u001b[0m\n",
      "\u001b[0;32m/opt/conda/lib/python3.9/http/client.py\u001b[0m in \u001b[0;36mread\u001b[0;34m(self, amt)\u001b[0m\n\u001b[1;32m    453\u001b[0m             \u001b[0;31m# Amount is given, implement using readinto\u001b[0m\u001b[0;34m\u001b[0m\u001b[0;34m\u001b[0m\u001b[0;34m\u001b[0m\u001b[0m\n\u001b[1;32m    454\u001b[0m             \u001b[0mb\u001b[0m \u001b[0;34m=\u001b[0m \u001b[0mbytearray\u001b[0m\u001b[0;34m(\u001b[0m\u001b[0mamt\u001b[0m\u001b[0;34m)\u001b[0m\u001b[0;34m\u001b[0m\u001b[0;34m\u001b[0m\u001b[0m\n\u001b[0;32m--> 455\u001b[0;31m             \u001b[0mn\u001b[0m \u001b[0;34m=\u001b[0m \u001b[0mself\u001b[0m\u001b[0;34m.\u001b[0m\u001b[0mreadinto\u001b[0m\u001b[0;34m(\u001b[0m\u001b[0mb\u001b[0m\u001b[0;34m)\u001b[0m\u001b[0;34m\u001b[0m\u001b[0;34m\u001b[0m\u001b[0m\n\u001b[0m\u001b[1;32m    456\u001b[0m             \u001b[0;32mreturn\u001b[0m \u001b[0mmemoryview\u001b[0m\u001b[0;34m(\u001b[0m\u001b[0mb\u001b[0m\u001b[0;34m)\u001b[0m\u001b[0;34m[\u001b[0m\u001b[0;34m:\u001b[0m\u001b[0mn\u001b[0m\u001b[0;34m]\u001b[0m\u001b[0;34m.\u001b[0m\u001b[0mtobytes\u001b[0m\u001b[0;34m(\u001b[0m\u001b[0;34m)\u001b[0m\u001b[0;34m\u001b[0m\u001b[0;34m\u001b[0m\u001b[0m\n\u001b[1;32m    457\u001b[0m         \u001b[0;32melse\u001b[0m\u001b[0;34m:\u001b[0m\u001b[0;34m\u001b[0m\u001b[0;34m\u001b[0m\u001b[0m\n",
      "\u001b[0;32m/opt/conda/lib/python3.9/http/client.py\u001b[0m in \u001b[0;36mreadinto\u001b[0;34m(self, b)\u001b[0m\n\u001b[1;32m    497\u001b[0m         \u001b[0;31m# connection, and the user is reading more bytes than will be provided\u001b[0m\u001b[0;34m\u001b[0m\u001b[0;34m\u001b[0m\u001b[0;34m\u001b[0m\u001b[0m\n\u001b[1;32m    498\u001b[0m         \u001b[0;31m# (for example, reading in 1k chunks)\u001b[0m\u001b[0;34m\u001b[0m\u001b[0;34m\u001b[0m\u001b[0;34m\u001b[0m\u001b[0m\n\u001b[0;32m--> 499\u001b[0;31m         \u001b[0mn\u001b[0m \u001b[0;34m=\u001b[0m \u001b[0mself\u001b[0m\u001b[0;34m.\u001b[0m\u001b[0mfp\u001b[0m\u001b[0;34m.\u001b[0m\u001b[0mreadinto\u001b[0m\u001b[0;34m(\u001b[0m\u001b[0mb\u001b[0m\u001b[0;34m)\u001b[0m\u001b[0;34m\u001b[0m\u001b[0;34m\u001b[0m\u001b[0m\n\u001b[0m\u001b[1;32m    500\u001b[0m         \u001b[0;32mif\u001b[0m \u001b[0;32mnot\u001b[0m \u001b[0mn\u001b[0m \u001b[0;32mand\u001b[0m \u001b[0mb\u001b[0m\u001b[0;34m:\u001b[0m\u001b[0;34m\u001b[0m\u001b[0;34m\u001b[0m\u001b[0m\n\u001b[1;32m    501\u001b[0m             \u001b[0;31m# Ideally, we would raise IncompleteRead if the content-length\u001b[0m\u001b[0;34m\u001b[0m\u001b[0;34m\u001b[0m\u001b[0;34m\u001b[0m\u001b[0m\n",
      "\u001b[0;32m/opt/conda/lib/python3.9/socket.py\u001b[0m in \u001b[0;36mreadinto\u001b[0;34m(self, b)\u001b[0m\n\u001b[1;32m    702\u001b[0m         \u001b[0;32mwhile\u001b[0m \u001b[0;32mTrue\u001b[0m\u001b[0;34m:\u001b[0m\u001b[0;34m\u001b[0m\u001b[0;34m\u001b[0m\u001b[0m\n\u001b[1;32m    703\u001b[0m             \u001b[0;32mtry\u001b[0m\u001b[0;34m:\u001b[0m\u001b[0;34m\u001b[0m\u001b[0;34m\u001b[0m\u001b[0m\n\u001b[0;32m--> 704\u001b[0;31m                 \u001b[0;32mreturn\u001b[0m \u001b[0mself\u001b[0m\u001b[0;34m.\u001b[0m\u001b[0m_sock\u001b[0m\u001b[0;34m.\u001b[0m\u001b[0mrecv_into\u001b[0m\u001b[0;34m(\u001b[0m\u001b[0mb\u001b[0m\u001b[0;34m)\u001b[0m\u001b[0;34m\u001b[0m\u001b[0;34m\u001b[0m\u001b[0m\n\u001b[0m\u001b[1;32m    705\u001b[0m             \u001b[0;32mexcept\u001b[0m \u001b[0mtimeout\u001b[0m\u001b[0;34m:\u001b[0m\u001b[0;34m\u001b[0m\u001b[0;34m\u001b[0m\u001b[0m\n\u001b[1;32m    706\u001b[0m                 \u001b[0mself\u001b[0m\u001b[0;34m.\u001b[0m\u001b[0m_timeout_occurred\u001b[0m \u001b[0;34m=\u001b[0m \u001b[0;32mTrue\u001b[0m\u001b[0;34m\u001b[0m\u001b[0;34m\u001b[0m\u001b[0m\n",
      "\u001b[0;31mKeyboardInterrupt\u001b[0m: "
     ]
    }
   ],
   "source": [
    "# Step 4: Connect to duet of M1\n",
    "duet_m1 = sy.duet(\"86a6992e42ce977bbe6e9bf698d25a72\")"
   ]
  },
  {
   "cell_type": "code",
   "execution_count": null,
   "id": "43ae9626",
   "metadata": {},
   "outputs": [],
   "source": [
    "print(f\"duet id: {duet_m1.id}, duet target it: {duet_m1.target_id}, duet note: {duet_m1.node}\")"
   ]
  },
  {
   "cell_type": "code",
   "execution_count": null,
   "id": "43dda0c2",
   "metadata": {},
   "outputs": [],
   "source": [
    "duet_m1.store.pandas"
   ]
  },
  {
   "cell_type": "code",
   "execution_count": null,
   "id": "824f358b",
   "metadata": {},
   "outputs": [],
   "source": [
    "from IPython.core.debugger import set_trace\n",
    "\n",
    "duet_m1.store.pandas"
   ]
  },
  {
   "cell_type": "markdown",
   "id": "2ca50edc",
   "metadata": {},
   "source": [
    "## 2 - Secure Multi-Party Computation"
   ]
  },
  {
   "cell_type": "code",
   "execution_count": null,
   "id": "fe7a3091",
   "metadata": {
    "collapsed": false,
    "jupyter": {
     "outputs_hidden": false
    },
    "pycharm": {
     "name": "#%%\n"
    }
   },
   "outputs": [],
   "source": [
    "# Step 5: Setup session with all duets\n",
    "session = Session(parties=[duet_m1])\n",
    "print(session)"
   ]
  },
  {
   "cell_type": "code",
   "execution_count": null,
   "id": "cfbc21bf",
   "metadata": {
    "collapsed": false,
    "jupyter": {
     "outputs_hidden": false
    },
    "pycharm": {
     "name": "#%%\n"
    }
   },
   "outputs": [],
   "source": [
    "# Step 6: Setup MPC session\n",
    "SessionManager.setup_mpc(session)"
   ]
  },
  {
   "cell_type": "code",
   "execution_count": null,
   "id": "25ab7631",
   "metadata": {},
   "outputs": [],
   "source": [
    "#duet_ds.store.pandas"
   ]
  },
  {
   "cell_type": "code",
   "execution_count": null,
   "id": "4bb7e304",
   "metadata": {
    "collapsed": false,
    "jupyter": {
     "outputs_hidden": false
    },
    "pycharm": {
     "name": "#%%\n"
    }
   },
   "outputs": [],
   "source": [
    "#from IPython.core.debugger import set_trace\n",
    "\n",
    "# Step 7: NOW we're ready to set up private operaitions\n",
    "#%pdb\n",
    "duet_m1.store.pandas"
   ]
  },
  {
   "cell_type": "code",
   "execution_count": null,
   "id": "2c6b1b3d",
   "metadata": {
    "collapsed": false,
    "jupyter": {
     "outputs_hidden": false
    },
    "pycharm": {
     "name": "#%%\n"
    }
   },
   "outputs": [],
   "source": [
    "# Step 12: basic operations\n",
    "x_secret = duet_m1.store[\"test_data_age\"] # describe local data to test sum, substract, and multiply"
   ]
  },
  {
   "cell_type": "code",
   "execution_count": null,
   "id": "18c6dacc",
   "metadata": {
    "collapsed": false,
    "jupyter": {
     "outputs_hidden": false
    },
    "pycharm": {
     "name": "#%%\n"
    }
   },
   "outputs": [],
   "source": [
    "y = torch.Tensor([[-5,8,1,7,6,100]]) # Local data"
   ]
  },
  {
   "cell_type": "code",
   "execution_count": null,
   "id": "8c96c950",
   "metadata": {
    "collapsed": false,
    "jupyter": {
     "outputs_hidden": false
    },
    "pycharm": {
     "name": "#%%\n"
    }
   },
   "outputs": [],
   "source": [
    "x = MPCTensor(secret=x_secret, shape=(1,), session=session)  # MPC Tensor from x_secret"
   ]
  },
  {
   "cell_type": "markdown",
   "id": "eb36b89a",
   "metadata": {},
   "source": [
    "The following lines of codes always receive an error message.\n",
    "[See Github issue](https://github.com/OpenMined/SyMPC/issues/282)."
   ]
  },
  {
   "cell_type": "code",
   "execution_count": null,
   "id": "9dd7a0c1",
   "metadata": {
    "collapsed": false,
    "jupyter": {
     "outputs_hidden": false
    },
    "pycharm": {
     "name": "#%%\n"
    }
   },
   "outputs": [],
   "source": [
    "print(\"X + Y = \",(x + y).reconstruct())"
   ]
  },
  {
   "cell_type": "code",
   "execution_count": null,
   "id": "73c32c98",
   "metadata": {
    "collapsed": false,
    "jupyter": {
     "outputs_hidden": false
    },
    "pycharm": {
     "name": "#%%\n"
    }
   },
   "outputs": [],
   "source": [
    "print(\"X - Y = \", (x - y).reconstruct())"
   ]
  },
  {
   "cell_type": "code",
   "execution_count": null,
   "id": "f2fabcac",
   "metadata": {
    "collapsed": false,
    "jupyter": {
     "outputs_hidden": false
    },
    "pycharm": {
     "name": "#%%\n"
    }
   },
   "outputs": [],
   "source": [
    "print(\"X * Y = \", (x * y).reconstruct())"
   ]
  },
  {
   "cell_type": "code",
   "execution_count": null,
   "id": "4284aac9",
   "metadata": {},
   "outputs": [],
   "source": []
  },
  {
   "cell_type": "code",
   "execution_count": null,
   "id": "ab5d3be4",
   "metadata": {},
   "outputs": [],
   "source": []
  },
  {
   "cell_type": "code",
   "execution_count": null,
   "id": "57008ded",
   "metadata": {},
   "outputs": [],
   "source": []
  },
  {
   "cell_type": "code",
   "execution_count": null,
   "id": "693e574c",
   "metadata": {},
   "outputs": [],
   "source": []
  },
  {
   "cell_type": "markdown",
   "id": "ec367feb",
   "metadata": {},
   "source": [
    "## Terminate Controller\n",
    "\n",
    "Whenever you have finished with this notebook, be sure to terminate the controller. This is especially important if your business logic runs across multiple notebooks."
   ]
  },
  {
   "cell_type": "code",
   "execution_count": null,
   "id": "35af7c5e",
   "metadata": {},
   "outputs": [],
   "source": [
    "await agent_controller.terminate()"
   ]
  },
  {
   "cell_type": "code",
   "execution_count": null,
   "id": "29abe8fe",
   "metadata": {},
   "outputs": [],
   "source": []
  }
 ],
 "metadata": {
  "kernelspec": {
   "display_name": "Python 3 (ipykernel)",
   "language": "python",
   "name": "python3"
  },
  "language_info": {
   "codemirror_mode": {
    "name": "ipython",
    "version": 3
   },
   "file_extension": ".py",
   "mimetype": "text/x-python",
   "name": "python",
   "nbconvert_exporter": "python",
   "pygments_lexer": "ipython3",
   "version": "3.9.5"
  }
 },
 "nbformat": 4,
 "nbformat_minor": 5
}
