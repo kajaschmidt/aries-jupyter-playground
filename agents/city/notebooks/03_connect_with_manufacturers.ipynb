{
 "cells": [
  {
   "cell_type": "markdown",
   "id": "547c5b72",
   "metadata": {},
   "source": [
    "# PETs/TETs – Hyperledger Aries – City (Holder) 🏙️"
   ]
  },
  {
   "cell_type": "code",
   "execution_count": 1,
   "id": "7d4f3382",
   "metadata": {},
   "outputs": [
    {
     "data": {
      "application/javascript": [
       "document.title ='🏙️ City Agent'\n"
      ],
      "text/plain": [
       "<IPython.core.display.Javascript object>"
      ]
     },
     "metadata": {},
     "output_type": "display_data"
    }
   ],
   "source": [
    "%%javascript\n",
    "document.title ='🏙️ City Agent'"
   ]
  },
  {
   "cell_type": "markdown",
   "id": "8bc0c341",
   "metadata": {},
   "source": [
    "## PART 3: Connect with Manufacturers and Analyze Data\n",
    "\n",
    "**What:** -\n",
    "\n",
    "**Why:** -\n",
    "\n",
    "**How:** <br>\n",
    "\n",
    "\n",
    "**Accompanying Agents and Notebooks:**\n",
    "* Manufacturer1 💼: `03_connect_with_cit.ipynb`"
   ]
  },
  {
   "cell_type": "markdown",
   "id": "7325e0bc",
   "metadata": {
    "pycharm": {
     "name": "#%% md\n"
    }
   },
   "source": [
    "---\n",
    "\n",
    "### 0 - Setup\n",
    "#### 0.1 - Imports"
   ]
  },
  {
   "cell_type": "code",
   "execution_count": 2,
   "id": "a4e4de6e",
   "metadata": {},
   "outputs": [],
   "source": [
    "from aries_cloudcontroller import AriesAgentController\n",
    "import libs.helpers as helpers\n",
    "from libs.agent_connection_manager import RelyingParty\n",
    "import os\n",
    "import time\n",
    "from termcolor import colored\n",
    "from pprintpp import pprint"
   ]
  },
  {
   "cell_type": "markdown",
   "id": "135a87fc",
   "metadata": {},
   "source": [
    "#### 0.2 – Variables"
   ]
  },
  {
   "cell_type": "code",
   "execution_count": 3,
   "id": "20f1dcbc",
   "metadata": {},
   "outputs": [],
   "source": [
    "# Get relevant details from .env file\n",
    "api_key = os.getenv(\"ACAPY_ADMIN_API_KEY\")\n",
    "admin_url = os.getenv(\"ADMIN_URL\")\n",
    "webhook_port = int(os.getenv(\"WEBHOOK_PORT\"))\n",
    "webhook_host = \"0.0.0.0\""
   ]
  },
  {
   "cell_type": "markdown",
   "id": "928e7596",
   "metadata": {},
   "source": [
    "---\n",
    "\n",
    "<a id=1></a>\n",
    "\n",
    "### 1 – Initiate City Agent\n",
    "#### 1.1 – Init ACA-PY agent controller"
   ]
  },
  {
   "cell_type": "code",
   "execution_count": 4,
   "id": "d37feff6",
   "metadata": {},
   "outputs": [
    {
     "name": "stdout",
     "output_type": "stream",
     "text": [
      "Initialising a controller with admin api at http://city-agent:3021 and an api key of adminApiKey\n"
     ]
    }
   ],
   "source": [
    "# Setup\n",
    "agent_controller = AriesAgentController(admin_url,api_key)\n",
    "print(f\"Initialising a controller with admin api at {admin_url} and an api key of {api_key}\")"
   ]
  },
  {
   "cell_type": "markdown",
   "id": "d14951ed",
   "metadata": {},
   "source": [
    "#### 1.2 – Start Webhook Server to enable communication with other agents\n",
    "@todo: is communication with other agents, or with other docker containers?"
   ]
  },
  {
   "cell_type": "code",
   "execution_count": 5,
   "id": "190e042f",
   "metadata": {},
   "outputs": [
    {
     "name": "stdout",
     "output_type": "stream",
     "text": [
      "Listening for webhooks from agent at http://0.0.0.0:3010\n"
     ]
    }
   ],
   "source": [
    "# Listen on webhook server\n",
    "await agent_controller.init_webhook_server(webhook_host, webhook_port)\n",
    "print(f\"Listening for webhooks from agent at http://{webhook_host}:{webhook_port}\")"
   ]
  },
  {
   "cell_type": "markdown",
   "id": "9c7d9741",
   "metadata": {},
   "source": [
    "#### 1.3 – Init ACM issuing authority"
   ]
  },
  {
   "cell_type": "code",
   "execution_count": 6,
   "id": "aeddde93",
   "metadata": {
    "collapsed": false,
    "jupyter": {
     "outputs_hidden": false
    },
    "pycharm": {
     "name": "#%%\n"
    }
   },
   "outputs": [
    {
     "name": "stdout",
     "output_type": "stream",
     "text": [
      "\u001b[1m\u001b[32mSuccessfully initiated AgentConnectionManager for a(n) RelyingParty ACA-PY agent\u001b[0m\n"
     ]
    }
   ],
   "source": [
    "# The CredentialHolder registers relevant webhook servers and event listeners\n",
    "city_agent = RelyingParty(agent_controller)"
   ]
  },
  {
   "cell_type": "markdown",
   "id": "8c4cad06",
   "metadata": {},
   "source": [
    "---\n",
    "\n",
    "<a id=2></a>\n",
    "\n",
    "### 2 – Establish a connection with the Authority agent\n",
    "#### 2.1 Define VC Presentation Request Object\n",
    "\n",
    "The below cell defines a generic presentation request object, that can be sent across specific connections requesting that they produce a presentation containing the identified attributes and meeting the restrictions.\n",
    "\n",
    "It is often useful to define your request objects first, then reuse these objects across many connections you wish to request a proof from. \n",
    "\n",
    "Duplicate and customise the below cell as many times as you need. It may be useful to save these request objects either to the jupyter store using %store or through\n",
    "\n",
    "TODO: Detail the full set of restrictions available to a verifier."
   ]
  },
  {
   "cell_type": "code",
   "execution_count": 7,
   "id": "489ca0f2",
   "metadata": {},
   "outputs": [
    {
     "name": "stdout",
     "output_type": "stream",
     "text": [
      "\u001b[1mManufacturer Proof Request:\u001b[0m\n",
      "{\n",
      "    'name': 'isManufacturer Proof Request',\n",
      "    'non_revoked': {'to': 1629291522},\n",
      "    'requested_attributes': {\n",
      "        '0_isManufacturer_uuid': {\n",
      "            'name': 'isManufacturer',\n",
      "            'restrictions': [\n",
      "                {\n",
      "                    'schema_id': 'au8Y1rjsZyz9jbpr3Lk54:2:certify-manufacturer:0.0.1',\n",
      "                },\n",
      "            ],\n",
      "        },\n",
      "    },\n",
      "    'requested_predicates': {},\n",
      "    'version': '1.0',\n",
      "}\n"
     ]
    }
   ],
   "source": [
    "# List of required attribuets and restrictions\n",
    "identifiers = helpers.get_identifiers()\n",
    "schema_manufacturer_id = identifiers[\"manufacturer_schema_identifiers\"][\"schema_id\"]\n",
    "req_attrs = [\n",
    "    {\"name\": \"isManufacturer\", \"restrictions\": [{\"schema_id\": schema_manufacturer_id}]},\n",
    "]\n",
    "\n",
    "# Define proof_requeset\n",
    "manufacturer_proof_request = {\n",
    "    \"name\": \"isManufacturer Proof Request\",\n",
    "    \"version\": \"1.0\",\n",
    "    \"requested_attributes\": {f\"0_{req_attr['name']}_uuid\": req_attr for req_attr in req_attrs },\n",
    "    # Ignore predicates (e.g., range proofs)\n",
    "    \"requested_predicates\": {}, #{f\"0_{req_pred['name']}_GE_uuid\": req_pred for req_pred in req_preds },\n",
    "    # You can also request the entire proof request be non-revoked\n",
    "    \"non_revoked\":  {\"to\": int(time.time())}\n",
    "}\n",
    "\n",
    "print(colored(\"Manufacturer Proof Request:\", attrs=[\"bold\"]))\n",
    "pprint(manufacturer_proof_request)"
   ]
  },
  {
   "cell_type": "markdown",
   "id": "601727ad",
   "metadata": {},
   "source": [
    "#### 2.2 Create multi-use invitation\n",
    "Send out a multi-use invitation to all manufacturer agents (i.e., copy & paste the same invitation to manufacturer1, manufacturer2, manufacturer3). This represents a scenario where the City agent invites any agent to connect with them, and authenticate as manufacturers. The advantage of a multi-use invitation is, that the City is unaware about who accessed the invitation link and is trying to get in contact with the City.\n",
    "\n",
    "**Note:** Please establish a connection with all three manufacturer agents."
   ]
  },
  {
   "cell_type": "code",
   "execution_count": 15,
   "id": "3a7e741d",
   "metadata": {},
   "outputs": [
    {
     "name": "stdout",
     "output_type": "stream",
     "text": [
      "\n",
      "---------------------------------------------------------------------\n",
      "\u001b[1mConnection Webhook Event Received\u001b[0m\n",
      "Connection ID :  80fd6fa7-aa9f-41cb-a838-25a1546903d0\n",
      "State :  \u001b[34minvitation (invitation-sent)\u001b[0m\n",
      "Routing State : none\n",
      "Their Role :  invitee\n",
      "---------------------------------------------------------------------\n",
      "\u001b[1m\u001b[35m\n",
      "Copy & paste invitation and share with external agent:\u001b[0m\n",
      "{\n",
      "    '@id': '71dff343-d2ca-46e4-82bf-c04774941664',\n",
      "    '@type': 'did:sov:BzCbsNYhMrjHiqZDTUASHg;spec/connections/1.0/invitation',\n",
      "    'label': 'City',\n",
      "    'recipientKeys': ['CBUT7cYooo3F39f7P3LgdqZABppWcjHKCdP25z5wJNmN'],\n",
      "    'serviceEndpoint': 'https://898696e3e9e9.ngrok.io',\n",
      "}\n",
      "\n",
      "---------------------------------------------------------------------\n",
      "\u001b[1mConnection Webhook Event Received\u001b[0m\n",
      "Connection ID :  55a2b2b3-0259-442b-8b62-1c54dfa77212\n",
      "State :  \u001b[34minvitation (invitation-sent)\u001b[0m\n",
      "Routing State : none\n",
      "Their Role :  invitee\n",
      "---------------------------------------------------------------------\n",
      "\n",
      "---------------------------------------------------------------------\n",
      "\u001b[1mConnection Webhook Event Received\u001b[0m\n",
      "Connection ID :  55a2b2b3-0259-442b-8b62-1c54dfa77212\n",
      "State :  \u001b[34mrequest (request-received)\u001b[0m\n",
      "Routing State : none\n",
      "Connection with :  Manufacturer1\n",
      "Their Role :  invitee\n",
      "---------------------------------------------------------------------\n",
      "Request-received. Auto.accept:  True\n",
      "\n",
      "---------------------------------------------------------------------\n",
      "\u001b[1mConnection Webhook Event Received\u001b[0m\n",
      "Connection ID :  55a2b2b3-0259-442b-8b62-1c54dfa77212\n",
      "State :  \u001b[34mresponse (response-sent)\u001b[0m\n",
      "Routing State : none\n",
      "Connection with :  Manufacturer1\n",
      "Their Role :  invitee\n",
      "---------------------------------------------------------------------\n",
      "\n",
      "---------------------------------------------------------------------\n",
      "\u001b[1mConnection Webhook Event Received\u001b[0m\n",
      "Connection ID :  55a2b2b3-0259-442b-8b62-1c54dfa77212\n",
      "State :  \u001b[34mactive (completed)\u001b[0m\n",
      "Routing State : none\n",
      "Connection with :  Manufacturer1\n",
      "Their Role :  invitee\n",
      "---------------------------------------------------------------------\n",
      "\u001b[1m\u001b[32m\n",
      "Connection ID: 55a2b2b3-0259-442b-8b62-1c54dfa77212 is now active.\u001b[0m\n"
     ]
    }
   ],
   "source": [
    "# Setup for connection with Authority agent\n",
    "alias = None\n",
    "auto_accept = True # Accept response of Authority agent right away\n",
    "auto_ping = True\n",
    "public = False # Do not use public DID\n",
    "multi_use = True # Invitation is only for one invitee\n",
    "\n",
    "invitation = city_agent.create_connection_invitation(alias=alias, auto_accept=auto_accept, public=public, multi_use=multi_use, auto_ping=auto_ping)"
   ]
  },
  {
   "cell_type": "markdown",
   "id": "ac867c12",
   "metadata": {},
   "source": [
    "<div style=\"font-size: 25px\"><center><b>Break Point 1</b></center></div>\n",
    "<div style=\"font-size: 50px\"><center>🏙️ ➡️ 💼💼💼</center></div><br>\n",
    "<center><b>Please open all manufacturer agents 💼💼💼. <br> For each of the manufacturer agents, open the 03_connect_with_city.ipynb notebook and execute all steps until Break Point 2/3/4. <br> Use the same invitation from the City Agent 🏙️ in Step 2.1 for all Manufacturers.</b></center>\n"
   ]
  },
  {
   "cell_type": "markdown",
   "id": "8242b0df",
   "metadata": {},
   "source": [
    "#### 2.3 Display all active connections"
   ]
  },
  {
   "cell_type": "code",
   "execution_count": 12,
   "id": "3c8084d9",
   "metadata": {},
   "outputs": [
    {
     "name": "stdout",
     "output_type": "stream",
     "text": [
      "\n",
      "---------------------------------------------------------------------\n",
      "\u001b[1mConnection with Manufacturer1\u001b[0m\n",
      "Connection ID :  3410b239-a3ad-4e06-b7bd-3c18b24154d4\n",
      "Connection with :  Manufacturer1\n",
      "Is Active :  \u001b[32mTrue\u001b[0m\n",
      "Auto Ping :  False\n",
      "Auto Accept :  True\n",
      "---------------------------------------------------------------------\n"
     ]
    }
   ],
   "source": [
    "# Display all active connections\n",
    "for conn in city_agent.get_active_connections():\n",
    "    conn.display()"
   ]
  },
  {
   "cell_type": "markdown",
   "id": "cf0216d9",
   "metadata": {},
   "source": [
    "#### 2.4 Fetch all connection_ids of the active connections with the respective manufacturer agents"
   ]
  },
  {
   "cell_type": "code",
   "execution_count": 14,
   "id": "8383c321",
   "metadata": {},
   "outputs": [
    {
     "data": {
      "text/plain": [
       "'3410b239-a3ad-4e06-b7bd-3c18b24154d4'"
      ]
     },
     "execution_count": 14,
     "metadata": {},
     "output_type": "execute_result"
    }
   ],
   "source": [
    "# Get conneciton_id with Manufacturer1\n",
    "connection_id_m1 = city_agent.get_connection_id(\"Manufacturer1\")[0] # We assume that there is only one connection with Manufacturer1\n",
    "\n",
    "# Get conneciton_id with Manufacturer2\n",
    "#connection_id_m1 = city_agent.get_connection_id(\"Manufacturer2\")[0] # We assume that there is only one connection with Manufacturer2\n",
    "\n",
    "# Get conneciton_id with Manufacturer3\n",
    "#connection_id_m1 = city_agent.get_connection_id(\"Manufacturer3\")[0] # We assume that there is only one connection with Manufacturer3"
   ]
  },
  {
   "cell_type": "markdown",
   "id": "ff7d1bd3",
   "metadata": {},
   "source": [
    "### 3 – Send Proof Request\n",
    "\n",
    "This identifies a connection and a proof request object (you will need to update the variable name enclosed with <>) "
   ]
  },
  {
   "cell_type": "code",
   "execution_count": null,
   "id": "b97a2c89",
   "metadata": {},
   "outputs": [],
   "source": [
    "# Step 1\n",
    "\n",
    "proof_request = {\n",
    "    \"comment\": \"Please prove that you are an agent who is a certified manufacturer\",\n",
    "    \"connection_id\": connection_id_m1,\n",
    "    \"proof_request\": manufacturer_proof_request,\n",
    "    \"trace\": False\n",
    "}\n",
    "\n",
    "proof_request_response = await agent_controller.proofs.send_request(proof_request)"
   ]
  },
  {
   "cell_type": "markdown",
   "id": "f8c01a06",
   "metadata": {},
   "source": [
    "*I THINK* **Break point**: see step 2\n",
    "\n",
    "---\n",
    "\n",
    "## Get Presentation Exchange Record\n",
    "\n",
    "This record keeps track of the current state of the presentation protocol, which must be in the `presentation_received` state before the presentation can be verified.\n",
    "\n",
    "Note: This could also happen in the webhook logic."
   ]
  },
  {
   "cell_type": "code",
   "execution_count": null,
   "id": "02d5099e",
   "metadata": {},
   "outputs": [],
   "source": []
  },
  {
   "cell_type": "code",
   "execution_count": null,
   "id": "9c4c8f10",
   "metadata": {},
   "outputs": [],
   "source": [
    "presentation_exchange_id = proof_request_response[\"presentation_exchange_id\"]\n",
    "pres_record = await agent_controller.proofs.get_record_by_id(presentation_exchange_id)\n",
    "print(pres_record)"
   ]
  },
  {
   "cell_type": "markdown",
   "id": "7211d822",
   "metadata": {},
   "source": [
    "## Verify Presentation\n",
    "\n",
    "Only if it is in the right state. \n",
    "\n",
    "Note: Verifying a presentation moves the state to `verified` regardless of whether the presentation request has been satisfied. To check this you must refer to the `verified` property on the response."
   ]
  },
  {
   "cell_type": "code",
   "execution_count": null,
   "id": "2fa8459d",
   "metadata": {},
   "outputs": [],
   "source": [
    "verified_response = await agent_controller.proofs.verify_presentation(presentation_exchange_id)\n",
    "verified = verified_response[\"verified\"]"
   ]
  },
  {
   "cell_type": "markdown",
   "id": "e9ba0c81",
   "metadata": {
    "tags": []
   },
   "source": [
    "## Parsing Disclosed Attribute Values from Presentation\n",
    "\n",
    "A presentation object contains three classes of attributes. \n",
    "* Revealed Attributes: Attributes that were signed by an issuer and have been revealed in the presentation process\n",
    "* Self Attested Attributes: Attributes that the prover has self attested to in the presentation object.\n",
    "* Predicate proofs: Attribute values that have been proven to meet some statement. (TODO: Show how you can parse this information)"
   ]
  },
  {
   "cell_type": "markdown",
   "id": "3efd54aa",
   "metadata": {},
   "source": [
    "### Parse Revealed Attributes"
   ]
  },
  {
   "cell_type": "code",
   "execution_count": null,
   "id": "d108ee5f",
   "metadata": {},
   "outputs": [],
   "source": [
    "for (name, val) in verified_response['presentation']['requested_proof']['revealed_attrs'].items():\n",
    "    ## This is the actual data that you want. It's a little hidden\n",
    "    print(\"\\nAttribute : \", val)\n",
    "    \n",
    "    attr_name = verified_response[\"presentation_request\"][\"requested_attributes\"][name][\"name\"]\n",
    "    print(\"Attribute Name :  Raw Value\")\n",
    "    print(f\"{attr_name}   :  {val['raw']}\")"
   ]
  },
  {
   "cell_type": "markdown",
   "id": "2f6baa67",
   "metadata": {},
   "source": [
    "### Parse Self-Attested Attributes"
   ]
  },
  {
   "cell_type": "code",
   "execution_count": null,
   "id": "ba1eaaea",
   "metadata": {},
   "outputs": [],
   "source": [
    "for (name, val) in verified_response['presentation']['requested_proof']['self_attested_attrs'].items():\n",
    "    print(name)\n",
    "    ## Slightly different for self attested attrs\n",
    "    print(val)"
   ]
  },
  {
   "cell_type": "markdown",
   "id": "33ac61d3",
   "metadata": {},
   "source": [
    "## Your Own Business Logic\n",
    "\n",
    "Now you should have an established, active connection you can write any custom logic you want to engage with protocols with the connection"
   ]
  },
  {
   "cell_type": "code",
   "execution_count": 6,
   "id": "d01c55b7",
   "metadata": {},
   "outputs": [
    {
     "name": "stdout",
     "output_type": "stream",
     "text": [
      "__init___: register primitive generator\n",
      "__init___: register generator\n",
      "__init___: register primitive store add\n",
      "__init___: register add\n",
      "__init___: register primitive store get\n",
      "__init___: register get\n",
      "__init___: register primitive generator\n",
      "__init___: register generator\n",
      "__init___: register primitive store add\n",
      "__init___: register add\n",
      "__init___: register primitive store get\n",
      "__init___: register get\n",
      "__init___: register primitive generator\n",
      "__init___: register generator\n",
      "__init___: register primitive store add\n",
      "__init___: register add\n",
      "__init___: register primitive store get\n",
      "__init___: register get\n",
      "__init___: register primitive generator\n",
      "__init___: register generator\n",
      "__init___: register primitive store add\n",
      "__init___: register add\n",
      "__init___: register primitive store get\n",
      "__init___: register get\n",
      "__init___: register primitive generator\n",
      "__init___: register generator\n",
      "__init___: register primitive generator\n",
      "__init___: register generator\n",
      "__init___: register primitive generator\n",
      "__init___: register generator\n",
      "__init___: register primitive store add\n",
      "__init___: register add\n",
      "__init___: register primitive store add\n",
      "__init___: register add\n",
      "__init___: register primitive store get\n",
      "__init___: register get\n",
      "__init___: register primitive store get\n",
      "__init___: register get\n"
     ]
    }
   ],
   "source": [
    "# Imports\n",
    "import torch\n",
    "import syft as sy\n",
    "\n",
    "from sympc.session import Session\n",
    "from sympc.session import SessionManager\n",
    "from sympc.tensor import MPCTensor"
   ]
  },
  {
   "cell_type": "code",
   "execution_count": 9,
   "id": "31e23bd2",
   "metadata": {},
   "outputs": [
    {
     "name": "stdout",
     "output_type": "stream",
     "text": [
      "🎤  🎸  ♪♪♪ Joining Duet ♫♫♫  🎻  🎹\n",
      "\n",
      "♫♫♫ >\u001b[93m DISCLAIMER\u001b[0m: \u001b[1mDuet is an experimental feature currently in beta.\n",
      "♫♫♫ > Use at your own risk.\n",
      "\u001b[0m\n",
      "\u001b[1m\n",
      "    > ❤️ \u001b[91mLove\u001b[0m \u001b[92mDuet\u001b[0m? \u001b[93mPlease\u001b[0m \u001b[94mconsider\u001b[0m \u001b[95msupporting\u001b[0m \u001b[91mour\u001b[0m \u001b[93mcommunity!\u001b[0m\n",
      "    > https://github.com/sponsors/OpenMined\u001b[1m\n",
      "\n",
      "♫♫♫ > Punching through firewall to OpenGrid Network Node at:\n",
      "♫♫♫ > http://ec2-18-218-7-180.us-east-2.compute.amazonaws.com:5000\n",
      "♫♫♫ >\n",
      "♫♫♫ > ...waiting for response from OpenGrid Network... \n",
      "♫♫♫ > \u001b[92mDONE!\u001b[0m\n",
      "\n",
      "♫♫♫ > \u001b[95mSTEP 1:\u001b[0m Send the following Duet Client ID to your duet partner!\n",
      "♫♫♫ > Duet Client ID: \u001b[1m4a55d85bf23402d200453e73320cf022\u001b[0m\n",
      "\n",
      "♫♫♫ > ...waiting for partner to connect...\n",
      "\n",
      "♫♫♫ > \u001b[92mCONNECTED!\u001b[0m\n"
     ]
    }
   ],
   "source": [
    "# Step 4: Connect to duet of M1\n",
    "duet_m1 = sy.duet(\"86a6992e42ce977bbe6e9bf698d25a72\")"
   ]
  },
  {
   "cell_type": "code",
   "execution_count": null,
   "id": "4fba494a",
   "metadata": {},
   "outputs": [],
   "source": [
    "print(f\"duet id: {duet_m1.id}, duet target it: {duet_m1.target_id}, duet note: {duet_m1.node}\")"
   ]
  },
  {
   "cell_type": "code",
   "execution_count": 10,
   "id": "350cab18",
   "metadata": {},
   "outputs": [
    {
     "data": {
      "text/html": [
       "<div>\n",
       "<style scoped>\n",
       "    .dataframe tbody tr th:only-of-type {\n",
       "        vertical-align: middle;\n",
       "    }\n",
       "\n",
       "    .dataframe tbody tr th {\n",
       "        vertical-align: top;\n",
       "    }\n",
       "\n",
       "    .dataframe thead th {\n",
       "        text-align: right;\n",
       "    }\n",
       "</style>\n",
       "<table border=\"1\" class=\"dataframe\">\n",
       "  <thead>\n",
       "    <tr style=\"text-align: right;\">\n",
       "      <th></th>\n",
       "    </tr>\n",
       "  </thead>\n",
       "  <tbody>\n",
       "  </tbody>\n",
       "</table>\n",
       "</div>"
      ],
      "text/plain": [
       "Empty DataFrame\n",
       "Columns: []\n",
       "Index: []"
      ]
     },
     "execution_count": 10,
     "metadata": {},
     "output_type": "execute_result"
    }
   ],
   "source": [
    "duet_m1.store.pandas"
   ]
  },
  {
   "cell_type": "code",
   "execution_count": null,
   "id": "aaa1932c",
   "metadata": {},
   "outputs": [],
   "source": [
    "from IPython.core.debugger import set_trace\n",
    "\n",
    "duet_m1.store.pandas"
   ]
  },
  {
   "cell_type": "markdown",
   "id": "110f1d01",
   "metadata": {},
   "source": [
    "## 2 - Secure Multi-Party Computation"
   ]
  },
  {
   "cell_type": "code",
   "execution_count": 11,
   "id": "384d9b31",
   "metadata": {
    "collapsed": false,
    "jupyter": {
     "outputs_hidden": false
    },
    "pycharm": {
     "name": "#%%\n"
    }
   },
   "outputs": [
    {
     "name": "stdout",
     "output_type": "stream",
     "text": [
      "<sympc.session.session.Session object at 0x7f08645a0280>\n"
     ]
    }
   ],
   "source": [
    "# Step 5: Setup session with all duets\n",
    "session = Session(parties=[duet_m1])\n",
    "print(session)"
   ]
  },
  {
   "cell_type": "code",
   "execution_count": 12,
   "id": "9f2211d7",
   "metadata": {
    "collapsed": false,
    "jupyter": {
     "outputs_hidden": false
    },
    "pycharm": {
     "name": "#%%\n"
    }
   },
   "outputs": [],
   "source": [
    "# Step 6: Setup MPC session\n",
    "SessionManager.setup_mpc(session)"
   ]
  },
  {
   "cell_type": "code",
   "execution_count": 14,
   "id": "edcff878",
   "metadata": {},
   "outputs": [],
   "source": [
    "#duet_ds.store.pandas"
   ]
  },
  {
   "cell_type": "code",
   "execution_count": 16,
   "id": "cfd81f8d",
   "metadata": {
    "collapsed": false,
    "jupyter": {
     "outputs_hidden": false
    },
    "pycharm": {
     "name": "#%%\n"
    }
   },
   "outputs": [
    {
     "data": {
      "text/html": [
       "<div>\n",
       "<style scoped>\n",
       "    .dataframe tbody tr th:only-of-type {\n",
       "        vertical-align: middle;\n",
       "    }\n",
       "\n",
       "    .dataframe tbody tr th {\n",
       "        vertical-align: top;\n",
       "    }\n",
       "\n",
       "    .dataframe thead th {\n",
       "        text-align: right;\n",
       "    }\n",
       "</style>\n",
       "<table border=\"1\" class=\"dataframe\">\n",
       "  <thead>\n",
       "    <tr style=\"text-align: right;\">\n",
       "      <th></th>\n",
       "      <th>ID</th>\n",
       "      <th>Tags</th>\n",
       "      <th>Description</th>\n",
       "      <th>object_type</th>\n",
       "    </tr>\n",
       "  </thead>\n",
       "  <tbody>\n",
       "    <tr>\n",
       "      <th>0</th>\n",
       "      <td>&lt;UID: df707aa82e434c1b8a3b6b203f0afa8c&gt;</td>\n",
       "      <td>[]</td>\n",
       "      <td></td>\n",
       "      <td>&lt;class 'sympc.session.session.Session'&gt;</td>\n",
       "    </tr>\n",
       "    <tr>\n",
       "      <th>1</th>\n",
       "      <td>&lt;UID: 850a970ea3cd408196d64225862d6103&gt;</td>\n",
       "      <td>[test_data_age]</td>\n",
       "      <td>description for age_data</td>\n",
       "      <td>&lt;class 'torch.Tensor'&gt;</td>\n",
       "    </tr>\n",
       "  </tbody>\n",
       "</table>\n",
       "</div>"
      ],
      "text/plain": [
       "                                        ID             Tags  \\\n",
       "0  <UID: df707aa82e434c1b8a3b6b203f0afa8c>               []   \n",
       "1  <UID: 850a970ea3cd408196d64225862d6103>  [test_data_age]   \n",
       "\n",
       "                Description                              object_type  \n",
       "0                            <class 'sympc.session.session.Session'>  \n",
       "1  description for age_data                   <class 'torch.Tensor'>  "
      ]
     },
     "execution_count": 16,
     "metadata": {},
     "output_type": "execute_result"
    }
   ],
   "source": [
    "#from IPython.core.debugger import set_trace\n",
    "\n",
    "# Step 7: NOW we're ready to set up private operaitions\n",
    "#%pdb\n",
    "duet_m1.store.pandas"
   ]
  },
  {
   "cell_type": "code",
   "execution_count": 17,
   "id": "247145c5",
   "metadata": {
    "collapsed": false,
    "jupyter": {
     "outputs_hidden": false
    },
    "pycharm": {
     "name": "#%%\n"
    }
   },
   "outputs": [],
   "source": [
    "# Step 12: basic operations\n",
    "x_secret = duet_m1.store[\"test_data_age\"] # describe local data to test sum, substract, and multiply"
   ]
  },
  {
   "cell_type": "code",
   "execution_count": 18,
   "id": "a7fdee34",
   "metadata": {
    "collapsed": false,
    "jupyter": {
     "outputs_hidden": false
    },
    "pycharm": {
     "name": "#%%\n"
    }
   },
   "outputs": [],
   "source": [
    "y = torch.Tensor([[-5,8,1,7,6,100]]) # Local data"
   ]
  },
  {
   "cell_type": "code",
   "execution_count": 19,
   "id": "9f37b5ce",
   "metadata": {
    "collapsed": false,
    "jupyter": {
     "outputs_hidden": false
    },
    "pycharm": {
     "name": "#%%\n"
    }
   },
   "outputs": [],
   "source": [
    "x = MPCTensor(secret=x_secret, shape=(1,), session=session)  # MPC Tensor from x_secret"
   ]
  },
  {
   "cell_type": "markdown",
   "id": "5608113c",
   "metadata": {},
   "source": [
    "The following lines of codes always receive an error message.\n",
    "[See Github issue](https://github.com/OpenMined/SyMPC/issues/282)."
   ]
  },
  {
   "cell_type": "code",
   "execution_count": null,
   "id": "922a93d7",
   "metadata": {
    "collapsed": false,
    "jupyter": {
     "outputs_hidden": false
    },
    "pycharm": {
     "name": "#%%\n"
    }
   },
   "outputs": [],
   "source": [
    "print(\"X + Y = \",(x + y).reconstruct())"
   ]
  },
  {
   "cell_type": "code",
   "execution_count": null,
   "id": "1bc4ee1a",
   "metadata": {
    "collapsed": false,
    "jupyter": {
     "outputs_hidden": false
    },
    "pycharm": {
     "name": "#%%\n"
    }
   },
   "outputs": [],
   "source": [
    "print(\"X - Y = \", (x - y).reconstruct())"
   ]
  },
  {
   "cell_type": "code",
   "execution_count": null,
   "id": "cfa855dd",
   "metadata": {
    "collapsed": false,
    "jupyter": {
     "outputs_hidden": false
    },
    "pycharm": {
     "name": "#%%\n"
    }
   },
   "outputs": [],
   "source": [
    "print(\"X * Y = \", (x * y).reconstruct())"
   ]
  },
  {
   "cell_type": "code",
   "execution_count": null,
   "id": "73e4aa51",
   "metadata": {},
   "outputs": [],
   "source": []
  },
  {
   "cell_type": "code",
   "execution_count": null,
   "id": "f56805db",
   "metadata": {},
   "outputs": [],
   "source": []
  },
  {
   "cell_type": "code",
   "execution_count": null,
   "id": "f8b6a7f3",
   "metadata": {},
   "outputs": [],
   "source": []
  },
  {
   "cell_type": "code",
   "execution_count": null,
   "id": "04ef3d04",
   "metadata": {},
   "outputs": [],
   "source": []
  },
  {
   "cell_type": "markdown",
   "id": "aea0bda2",
   "metadata": {},
   "source": [
    "## Terminate Controller\n",
    "\n",
    "Whenever you have finished with this notebook, be sure to terminate the controller. This is especially important if your business logic runs across multiple notebooks."
   ]
  },
  {
   "cell_type": "code",
   "execution_count": null,
   "id": "0746a4f9",
   "metadata": {},
   "outputs": [],
   "source": [
    "await agent_controller.terminate()"
   ]
  },
  {
   "cell_type": "code",
   "execution_count": null,
   "id": "7b50c55a",
   "metadata": {},
   "outputs": [],
   "source": []
  }
 ],
 "metadata": {
  "kernelspec": {
   "display_name": "Python 3 (ipykernel)",
   "language": "python",
   "name": "python3"
  },
  "language_info": {
   "codemirror_mode": {
    "name": "ipython",
    "version": 3
   },
   "file_extension": ".py",
   "mimetype": "text/x-python",
   "name": "python",
   "nbconvert_exporter": "python",
   "pygments_lexer": "ipython3",
   "version": "3.9.5"
  }
 },
 "nbformat": 4,
 "nbformat_minor": 5
}
