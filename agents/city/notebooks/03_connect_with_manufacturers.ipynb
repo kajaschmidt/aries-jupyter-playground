{
 "cells": [
  {
   "cell_type": "markdown",
   "id": "f3c4b727",
   "metadata": {},
   "source": [
    "# PETs/TETs – Hyperledger Aries / PySyft – City (Relying Party) 🏙️\n",
    "\n",
    "---\n",
    "⚠️ <span style='background : yellow'>**Warning:**</span>\n",
    "\n",
    "The `SyMPC` package is still in beta-verion and therefore very buggy. At the time of the development of this project, the function `.reconstruct()` (see Step ???) does not function with remote agents (i.e., one container per agent).\n",
    "\n",
    "Thus, the notebooks under the directory `xx/` demonstrate the `.reconstruct()` function locally (within one docker container).\n",
    "\n",
    "---"
   ]
  },
  {
   "cell_type": "code",
   "execution_count": 1,
   "id": "cc41dd1a",
   "metadata": {},
   "outputs": [
    {
     "data": {
      "application/javascript": [
       "document.title ='🏙️ City'\n"
      ],
      "text/plain": [
       "<IPython.core.display.Javascript object>"
      ]
     },
     "metadata": {},
     "output_type": "display_data"
    }
   ],
   "source": [
    "%%javascript\n",
    "document.title ='🏙️ City'"
   ]
  },
  {
   "cell_type": "markdown",
   "id": "6120c861",
   "metadata": {},
   "source": [
    "## PART 3: Connect with Manufacturers and Analyze Data\n",
    "\n",
    "**What:** Obtain data from Manufacturers in a trust- and privacy-preserving manner\n",
    "\n",
    "**Why:** Get manufacturers to share data anonymously to help the City analyze data\n",
    "\n",
    "**How:** <br>\n",
    "1. [Initiate City's AgentCommunicationManager (ACM)](#1)\n",
    "2. [Connect with anonymous agents via a multi-use SSI invitation](#2)\n",
    "3. [Request VCs to verify agents are certified manufacturers](#3)\n",
    "4. [Join Duet Connections to obtain encrypted data](#4)\n",
    "\n",
    "**Accompanying Agents and Notebooks:**\n",
    "* Manufacturer1 🚗: `03_connect_with_city.ipynb`\n",
    "* Manufacturer2 🚛: `03_connect_with_city.ipynb`\n",
    "* Manufacturer3 🛵: `03_connect_with_city.ipynb`"
   ]
  },
  {
   "cell_type": "markdown",
   "id": "49bd6815",
   "metadata": {
    "pycharm": {
     "name": "#%% md\n"
    }
   },
   "source": [
    "---\n",
    "\n",
    "### 0 - Setup\n",
    "#### 0.1 - Imports"
   ]
  },
  {
   "cell_type": "code",
   "execution_count": 2,
   "id": "f5daf10d",
   "metadata": {},
   "outputs": [],
   "source": [
    "import os\n",
    "import time\n",
    "\n",
    "import syft as sy\n",
    "from aries_cloudcontroller import AriesAgentController\n",
    "from pprintpp import pprint\n",
    "from sympc.session import Session\n",
    "from sympc.session import SessionManager\n",
    "from sympc.tensor import MPCTensor\n",
    "from termcolor import colored\n",
    "\n",
    "import libs.helpers as helpers\n",
    "from libs.agent_connection_manager import RelyingParty"
   ]
  },
  {
   "cell_type": "markdown",
   "id": "19d14395",
   "metadata": {},
   "source": [
    "#### 0.2 – Variables"
   ]
  },
  {
   "cell_type": "code",
   "execution_count": 3,
   "id": "db623285",
   "metadata": {},
   "outputs": [],
   "source": [
    "# Get relevant details from .env file\n",
    "api_key = os.getenv(\"ACAPY_ADMIN_API_KEY\")\n",
    "admin_url = os.getenv(\"ADMIN_URL\")\n",
    "webhook_port = int(os.getenv(\"WEBHOOK_PORT\"))\n",
    "webhook_host = \"0.0.0.0\""
   ]
  },
  {
   "cell_type": "markdown",
   "id": "18863824",
   "metadata": {},
   "source": [
    "---\n",
    "\n",
    "<a id=1></a>\n",
    "\n",
    "### 1 – Initiate City Agent\n",
    "#### 1.1 – Init ACA-PY agent controller"
   ]
  },
  {
   "cell_type": "code",
   "execution_count": 4,
   "id": "f4b18c20",
   "metadata": {},
   "outputs": [
    {
     "name": "stdout",
     "output_type": "stream",
     "text": [
      "Initialising a controller with admin api at http://city-agent:3021 and an api key of adminApiKey\n"
     ]
    }
   ],
   "source": [
    "# Setup\n",
    "agent_controller = AriesAgentController(admin_url,api_key)\n",
    "print(f\"Initialising a controller with admin api at {admin_url} and an api key of {api_key}\")"
   ]
  },
  {
   "cell_type": "markdown",
   "id": "af731c9f",
   "metadata": {},
   "source": [
    "#### 1.2 – Start Webhook Server to enable communication with other agents\n",
    "@todo: is communication with other agents, or with other docker containers?"
   ]
  },
  {
   "cell_type": "code",
   "execution_count": 5,
   "id": "188f5388",
   "metadata": {},
   "outputs": [
    {
     "name": "stdout",
     "output_type": "stream",
     "text": [
      "Listening for webhooks from agent at http://0.0.0.0:3010\n"
     ]
    }
   ],
   "source": [
    "# Listen on webhook server\n",
    "await agent_controller.init_webhook_server(webhook_host, webhook_port)\n",
    "print(f\"Listening for webhooks from agent at http://{webhook_host}:{webhook_port}\")"
   ]
  },
  {
   "cell_type": "markdown",
   "id": "20889481",
   "metadata": {},
   "source": [
    "#### 1.3 – Init ACM Relying Party"
   ]
  },
  {
   "cell_type": "code",
   "execution_count": 6,
   "id": "abb91c84",
   "metadata": {
    "collapsed": false,
    "jupyter": {
     "outputs_hidden": false
    },
    "pycharm": {
     "name": "#%%\n"
    }
   },
   "outputs": [
    {
     "name": "stdout",
     "output_type": "stream",
     "text": [
      "\u001b[1m\u001b[32mSuccessfully initiated AgentConnectionManager for a(n) RelyingParty ACA-PY agent\u001b[0m\n"
     ]
    }
   ],
   "source": [
    "# The CredentialHolder registers relevant webhook servers and event listeners\n",
    "city_agent = RelyingParty(agent_controller)"
   ]
  },
  {
   "cell_type": "markdown",
   "id": "6a27689f",
   "metadata": {},
   "source": [
    "---\n",
    "\n",
    "<a id=2></a>\n",
    "\n",
    "### 2 – Establish a connection with the Manufacturer agents\n",
    "\n",
    "#### 2.1  – Create multi-use invitation\n",
    "Send out a multi-use invitation to all manufacturer agents (i.e., copy & paste the same invitation to manufacturer1, manufacturer2, manufacturer3). This represents a scenario where the City agent invites any agent to connect with them, and authenticate as manufacturers. \n",
    "\n",
    "🕵️‍️ The advantage of a multi-use invitation is, that the City is unaware about who accessed the invitation link and is trying to get in contact with the City. The City agent only knows the names defined in `ACAPY_LABEL` (see respective `.env` files), and does not know which agent is which manufacturer.\n",
    "\n",
    "**Note:** Please establish a connection with all three manufacturer agents."
   ]
  },
  {
   "cell_type": "code",
   "execution_count": 7,
   "id": "8b2caf9b",
   "metadata": {},
   "outputs": [
    {
     "name": "stdout",
     "output_type": "stream",
     "text": [
      "\u001b[1m\u001b[35m\n",
      "Copy & paste invitation and share with external agent(s):\u001b[0m\n",
      "{\n",
      "    '@id': '9982b7e5-9fbc-4e6e-9828-48ae0bae50bd',\n",
      "    '@type': 'did:sov:BzCbsNYhMrjHiqZDTUASHg;spec/connections/1.0/invitation',\n",
      "    'label': 'City-Agency',\n",
      "    'recipientKeys': ['62C56o5uHkivZXqNuxTFH2WMLDBZ19P7tPbhFhWaTThp'],\n",
      "    'serviceEndpoint': 'https://f0ee-91-182-140-7.ngrok.io',\n",
      "}\n",
      "\n",
      "---------------------------------------------------------------------\n",
      "\u001b[1mConnection Webhook Event Received: Connections Handler\u001b[0m\n",
      "Connection ID :  72f29e0e-ba1f-4d4b-97b2-01084ddd005e\n",
      "State :  \u001b[34minvitation (invitation-sent)\u001b[0m\n",
      "Routing State : none\n",
      "Their Role :  invitee\n",
      "---------------------------------------------------------------------\n",
      "\n",
      "---------------------------------------------------------------------\n",
      "\u001b[1mConnection Webhook Event Received: Connections Handler\u001b[0m\n",
      "Connection ID :  b36e1385-f192-4626-9bcc-a95148fd2b38\n",
      "State :  \u001b[34minvitation (invitation-sent)\u001b[0m\n",
      "Routing State : none\n",
      "Their Role :  invitee\n",
      "---------------------------------------------------------------------\n",
      "\n",
      "---------------------------------------------------------------------\n",
      "\u001b[1mConnection Webhook Event Received: Connections Handler\u001b[0m\n",
      "Connection ID :  b36e1385-f192-4626-9bcc-a95148fd2b38\n",
      "State :  \u001b[34mrequest (request-received)\u001b[0m\n",
      "Routing State : none\n",
      "Connection with :  AnonymousAgent1\n",
      "Their Role :  invitee\n",
      "---------------------------------------------------------------------\n",
      "\n",
      "---------------------------------------------------------------------\n",
      "\u001b[1mConnection Webhook Event Received: Connections Handler\u001b[0m\n",
      "Connection ID :  b36e1385-f192-4626-9bcc-a95148fd2b38\n",
      "State :  \u001b[34mresponse (response-sent)\u001b[0m\n",
      "Routing State : none\n",
      "Connection with :  AnonymousAgent1\n",
      "Their Role :  invitee\n",
      "---------------------------------------------------------------------\n",
      "\n",
      "---------------------------------------------------------------------\n",
      "\u001b[1mConnection Webhook Event Received: Connections Handler\u001b[0m\n",
      "Connection ID :  b36e1385-f192-4626-9bcc-a95148fd2b38\n",
      "State :  \u001b[34mactive (completed)\u001b[0m\n",
      "Routing State : none\n",
      "Connection with :  AnonymousAgent1\n",
      "Their Role :  invitee\n",
      "---------------------------------------------------------------------\n",
      "\u001b[1m\u001b[32m\n",
      "Connection ID: b36e1385-f192-4626-9bcc-a95148fd2b38 is now active\u001b[0m\n",
      "\n",
      "---------------------------------------------------------------------\n",
      "\u001b[1mConnection Webhook Event Received: Connections Handler\u001b[0m\n",
      "Connection ID :  fc9c35fb-562a-4bc5-97cc-2555fab1abb9\n",
      "State :  \u001b[34minvitation (invitation-sent)\u001b[0m\n",
      "Routing State : none\n",
      "Their Role :  invitee\n",
      "---------------------------------------------------------------------\n",
      "\n",
      "---------------------------------------------------------------------\n",
      "\u001b[1mConnection Webhook Event Received: Connections Handler\u001b[0m\n",
      "Connection ID :  fc9c35fb-562a-4bc5-97cc-2555fab1abb9\n",
      "State :  \u001b[34mrequest (request-received)\u001b[0m\n",
      "Routing State : none\n",
      "Connection with :  AnonymousAgent2\n",
      "Their Role :  invitee\n",
      "---------------------------------------------------------------------\n",
      "\n",
      "---------------------------------------------------------------------\n",
      "\u001b[1mConnection Webhook Event Received: Connections Handler\u001b[0m\n",
      "Connection ID :  fc9c35fb-562a-4bc5-97cc-2555fab1abb9\n",
      "State :  \u001b[34mresponse (response-sent)\u001b[0m\n",
      "Routing State : none\n",
      "Connection with :  AnonymousAgent2\n",
      "Their Role :  invitee\n",
      "---------------------------------------------------------------------\n",
      "\n",
      "---------------------------------------------------------------------\n",
      "\u001b[1mConnection Webhook Event Received: Connections Handler\u001b[0m\n",
      "Connection ID :  fc9c35fb-562a-4bc5-97cc-2555fab1abb9\n",
      "State :  \u001b[34mactive (completed)\u001b[0m\n",
      "Routing State : none\n",
      "Connection with :  AnonymousAgent2\n",
      "Their Role :  invitee\n",
      "---------------------------------------------------------------------\n",
      "\u001b[1m\u001b[32m\n",
      "Connection ID: fc9c35fb-562a-4bc5-97cc-2555fab1abb9 is now active\u001b[0m\n",
      "\n",
      "---------------------------------------------------------------------\n",
      "\u001b[1mConnection Webhook Event Received: Connections Handler\u001b[0m\n",
      "Connection ID :  a5832996-6d37-4892-aff2-dec376305212\n",
      "State :  \u001b[34minvitation (invitation-sent)\u001b[0m\n",
      "Routing State : none\n",
      "Their Role :  invitee\n",
      "---------------------------------------------------------------------\n",
      "\n",
      "---------------------------------------------------------------------\n",
      "\u001b[1mConnection Webhook Event Received: Connections Handler\u001b[0m\n",
      "Connection ID :  a5832996-6d37-4892-aff2-dec376305212\n",
      "State :  \u001b[34mrequest (request-received)\u001b[0m\n",
      "Routing State : none\n",
      "Connection with :  AnonymousAgent3\n",
      "Their Role :  invitee\n",
      "---------------------------------------------------------------------\n",
      "\n",
      "---------------------------------------------------------------------\n",
      "\u001b[1mConnection Webhook Event Received: Connections Handler\u001b[0m\n",
      "Connection ID :  a5832996-6d37-4892-aff2-dec376305212\n",
      "State :  \u001b[34mresponse (response-sent)\u001b[0m\n",
      "Routing State : none\n",
      "Connection with :  AnonymousAgent3\n",
      "Their Role :  invitee\n",
      "---------------------------------------------------------------------\n",
      "\n",
      "---------------------------------------------------------------------\n",
      "\u001b[1mConnection Webhook Event Received: Connections Handler\u001b[0m\n",
      "Connection ID :  a5832996-6d37-4892-aff2-dec376305212\n",
      "State :  \u001b[34mactive (completed)\u001b[0m\n",
      "Routing State : none\n",
      "Connection with :  AnonymousAgent3\n",
      "Their Role :  invitee\n",
      "---------------------------------------------------------------------\n",
      "\u001b[1m\u001b[32m\n",
      "Connection ID: a5832996-6d37-4892-aff2-dec376305212 is now active\u001b[0m\n"
     ]
    }
   ],
   "source": [
    "# Setup for connection with Manufacturer agents\n",
    "alias = \"Connection 1\"\n",
    "auto_accept = True # Accept response of Manufacturers agent right away\n",
    "auto_ping = True\n",
    "public = False # Do not use public DID\n",
    "multi_use = True # Invitation can be used by multiple inviteees\n",
    "\n",
    "invitation = city_agent.create_connection_invitation(alias=alias, auto_accept=auto_accept, public=public, multi_use=multi_use, auto_ping=auto_ping)"
   ]
  },
  {
   "cell_type": "markdown",
   "id": "30185d7a",
   "metadata": {},
   "source": [
    "<div style=\"font-size: 25px\"><center><b>Break Point 1</b></center></div>\n",
    "<div style=\"font-size: 50px\"><center>🏙️ ➡️ 🚗 / 🚛 / 🛵</center></div><br>\n",
    "<center><b>Please open all manufacturer agents 🚗 / 🚛 / 🛵. <br> For each of the manufacturer agents, open the 03_connect_with_city.ipynb notebook and execute all steps until Break Point 2/3/4. <br> Use the same invitation from the City Agent 🏙️ in Step 2.1 for all Manufacturers.</b></center>\n"
   ]
  },
  {
   "cell_type": "markdown",
   "id": "0093ff81",
   "metadata": {},
   "source": [
    "#### 2.2 – Display all active connections"
   ]
  },
  {
   "cell_type": "code",
   "execution_count": 8,
   "id": "898235c0",
   "metadata": {},
   "outputs": [
    {
     "name": "stdout",
     "output_type": "stream",
     "text": [
      "\n",
      "---------------------------------------------------------------------\n",
      "\u001b[1mConnection with AnonymousAgent1\u001b[0m\n",
      "Connection ID :  b36e1385-f192-4626-9bcc-a95148fd2b38\n",
      "Connection with :  AnonymousAgent1\n",
      "Is Active :  \u001b[32mTrue\u001b[0m\n",
      "Auto Ping :  True\n",
      "Auto Accept :  True\n",
      "Connection Alias :  None\n",
      "Presentation Exchange IDs :  []\n",
      "---------------------------------------------------------------------\n",
      "\n",
      "---------------------------------------------------------------------\n",
      "\u001b[1mConnection with AnonymousAgent2\u001b[0m\n",
      "Connection ID :  fc9c35fb-562a-4bc5-97cc-2555fab1abb9\n",
      "Connection with :  AnonymousAgent2\n",
      "Is Active :  \u001b[32mTrue\u001b[0m\n",
      "Auto Ping :  True\n",
      "Auto Accept :  True\n",
      "Connection Alias :  None\n",
      "Presentation Exchange IDs :  []\n",
      "---------------------------------------------------------------------\n",
      "\n",
      "---------------------------------------------------------------------\n",
      "\u001b[1mConnection with AnonymousAgent3\u001b[0m\n",
      "Connection ID :  a5832996-6d37-4892-aff2-dec376305212\n",
      "Connection with :  AnonymousAgent3\n",
      "Is Active :  \u001b[32mTrue\u001b[0m\n",
      "Auto Ping :  True\n",
      "Auto Accept :  True\n",
      "Connection Alias :  None\n",
      "Presentation Exchange IDs :  []\n",
      "---------------------------------------------------------------------\n"
     ]
    }
   ],
   "source": [
    "# Display all active connections\n",
    "for conn in city_agent.get_active_connections():\n",
    "    conn.display()"
   ]
  },
  {
   "cell_type": "markdown",
   "id": "b0d07e22",
   "metadata": {},
   "source": [
    "#### 2.3 – Fetch all connection_ids of the active connections with the respective manufacturer agents\n",
    "Fetch the connection_ids with the name provided in the active connections (see print from previous cell).\n"
   ]
  },
  {
   "cell_type": "code",
   "execution_count": 9,
   "id": "d9900997",
   "metadata": {},
   "outputs": [],
   "source": [
    "# Get connection_id with Manufacturer1\n",
    "connection_id_a1 = city_agent.get_connection_id(\"AnonymousAgent1\")[-1] # We assume that there is only one connection with Manufacturer1\n",
    "\n",
    "# Get connection_id with Manufacturer2\n",
    "connection_id_a2 = city_agent.get_connection_id(\"AnonymousAgent2\")[-1] # We assume that there is only one connection with Manufacturer2\n",
    "\n",
    "# Get connection_id with Manufacturer3\n",
    "connection_id_a3 = city_agent.get_connection_id(\"AnonymousAgent3\")[-1] # We assume that there is only one connection with Manufacturer3"
   ]
  },
  {
   "cell_type": "markdown",
   "id": "201c8366",
   "metadata": {},
   "source": [
    "<a id=3></a>\n",
    "### 3 – Send Proof Request\n",
    "\n",
    "#### 3.1 Define VC Presentation Request Object\n",
    "\n",
    "The below cell defines a generic presentation request object, that can be sent across specific connections.\n",
    "In this case, the City agent requests the Manufacturers to certify the requested attribute `isManufacturer` from the manufacturer schema.\n"
   ]
  },
  {
   "cell_type": "code",
   "execution_count": 10,
   "id": "9ab3b742",
   "metadata": {},
   "outputs": [
    {
     "name": "stdout",
     "output_type": "stream",
     "text": [
      "\u001b[34mGet stored identifiers dictionary to access schema information 💾\u001b[0m\n",
      "\u001b[1mManufacturer Proof Request:\u001b[0m\n",
      "{\n",
      "    'name': 'isManufacturer Proof Request',\n",
      "    'non_revoked': {'to': 1638028268},\n",
      "    'requested_attributes': {\n",
      "        '0_isManufacturer_uuid': {\n",
      "            'name': 'isManufacturer',\n",
      "            'restrictions': [\n",
      "                {\n",
      "                    'schema_id': 'AkvQpXzutUhSeeiuZbVcbq:2:certify-manufacturer:0.0.1',\n",
      "                },\n",
      "            ],\n",
      "        },\n",
      "    },\n",
      "    'requested_predicates': {},\n",
      "    'version': '1.0',\n",
      "}\n"
     ]
    }
   ],
   "source": [
    "# Define which scheme we want a proof from\n",
    "identifiers = helpers.get_identifiers()\n",
    "schema_manufacturer_id = identifiers[\"manufacturer_schema_identifiers\"][\"schema_id\"]\n",
    "\n",
    "# Define the attributes we want from the scheme\n",
    "req_attrs = [{\"name\": \"isManufacturer\", \"restrictions\": [{\"schema_id\": schema_manufacturer_id}]}]\n",
    "\n",
    "# Define proof_request\n",
    "# The proof_request irgnores predicates (e.g., range proofs) revokation\n",
    "manufacturer_proof_request = {\n",
    "    \"name\": \"isManufacturer Proof Request\",\n",
    "    \"version\": \"1.0\",\n",
    "    \"requested_attributes\": {f\"0_{req_attr['name']}_uuid\": req_attr for req_attr in req_attrs },\n",
    "    \"requested_predicates\": {}, #{f\"0_{req_pred['name']}_GE_uuid\": req_pred for req_pred in req_preds },\n",
    "    \"non_revoked\":  {\"to\": int(time.time())}\n",
    "}\n",
    "\n",
    "print(colored(\"Manufacturer Proof Request:\", attrs=[\"bold\"]))\n",
    "pprint(manufacturer_proof_request)"
   ]
  },
  {
   "cell_type": "markdown",
   "id": "203aa6d7",
   "metadata": {},
   "source": [
    "#### 3.2 – Send Proof Request\n",
    "The proof request asks the agent at the other end of `connection_id` to prove attributes defined within `manufacturer_proof_request` using the manufacturer schema.\n",
    "\n",
    "The resulting presentation request is encoded in base64 and packed into a DIDComm Message. The `@type` attribute in the presentation request defines the protocol present-proof and the message request-presentation.\n",
    "\n",
    "Overall, the proof-presentation procedure has six steps. **R** represents the Relying Party (here the City agent), and **H** the Holder (i.e., the manufacturers).\n",
    "\n",
    "| Step | Status | Agent | Description | Function |\n",
    "| --- | --- | --- | --- | --- |\n",
    "| 1 | `request_sent` |  R | R requests a proof defined in `manufacturer_proof_request` | `send_proof_request()` |\n",
    "| 2 | `request_received` | H | H receives a proof request from R | - |\n",
    "| 3 | `presentation-sent` | H | H sends proof presentation to R | `send_proof_presentation()` |\n",
    "| 4 | `presentation-received` | R  | R receives presentation from H | - |\n",
    "| 5 | `verified` | R | R verifies presentation received from H | `verify_proof_presentation()` |\n",
    "| 6 | `presentation_acked` | H | H knows, that R verified the presentation | - |\n"
   ]
  },
  {
   "cell_type": "code",
   "execution_count": 11,
   "id": "424765c7",
   "metadata": {},
   "outputs": [
    {
     "name": "stdout",
     "output_type": "stream",
     "text": [
      "\n",
      "---------------------------------------------------------------------\n",
      "\u001b[1mConnection Webhook Event Received: Present-Proof Handler\u001b[0m\n",
      "Connection ID :  b36e1385-f192-4626-9bcc-a95148fd2b38\n",
      "Presentation Exchange ID :  991db650-3be0-4b9e-8f99-06e693896286\n",
      "Protocol State :  \u001b[34mrequest_sent\u001b[0m\n",
      "Agent Role :  verifier\n",
      "Initiator :  self\n",
      "---------------------------------------------------------------------\n",
      "\u001b[1m\n",
      "Presentation Request : \u001b[0m\n",
      "{\n",
      "    '@id': '8503f483-de0d-4e60-891a-f14f80cbfe35',\n",
      "    '@type': 'did:sov:BzCbsNYhMrjHiqZDTUASHg;spec/present-proof/1.0/request-presentation',\n",
      "    'comment': 'Please prove that you are an agent who is a certified manufacturer',\n",
      "    'request_presentations~attach': [\n",
      "        {\n",
      "            '@id': 'libindy-request-presentation-0',\n",
      "            'data': {\n",
      "                'base64': 'eyJuYW1lIjogImlzTWFudWZhY3R1cmVyIFByb29mIFJlcXVlc3QiLCAidmVyc2lvbiI6ICIxLjAiLCAicmVxdWVzdGVkX2F0dHJpYnV0ZXMiOiB7IjBfaXNNYW51ZmFjdHVyZXJfdXVpZCI6IHsibmFtZSI6ICJpc01hbnVmYWN0dXJlciIsICJyZXN0cmljdGlvbnMiOiBbeyJzY2hlbWFfaWQiOiAiQWt2UXBYenV0VWhTZWVpdVpiVmNicToyOmNlcnRpZnktbWFudWZhY3R1cmVyOjAuMC4xIn1dfX0sICJyZXF1ZXN0ZWRfcHJlZGljYXRlcyI6IHt9LCAibm9uX3Jldm9rZWQiOiB7InRvIjogMTYzODAyODI2OH0sICJub25jZSI6ICI4MjI5NTcyMTMzNjczNzM1NDQ3NzUwNTIifQ==',\n",
      "            },\n",
      "            'mime-type': 'application/json',\n",
      "        },\n",
      "    ],\n",
      "}\n",
      "\n",
      "---------------------------------------------------------------------\n",
      "\u001b[1mConnection Webhook Event Received: Present-Proof Handler\u001b[0m\n",
      "Connection ID :  fc9c35fb-562a-4bc5-97cc-2555fab1abb9\n",
      "Presentation Exchange ID :  ea7310b6-2a42-43a9-822b-2db9269f9e4b\n",
      "Protocol State :  \u001b[34mrequest_sent\u001b[0m\n",
      "Agent Role :  verifier\n",
      "Initiator :  self\n",
      "---------------------------------------------------------------------\n",
      "\u001b[1m\n",
      "Presentation Request : \u001b[0m\n",
      "{\n",
      "    '@id': '31b46636-0fc7-4f07-9085-866cf3ee0ee7',\n",
      "    '@type': 'did:sov:BzCbsNYhMrjHiqZDTUASHg;spec/present-proof/1.0/request-presentation',\n",
      "    'comment': 'Please prove that you are an agent who is a certified manufacturer',\n",
      "    'request_presentations~attach': [\n",
      "        {\n",
      "            '@id': 'libindy-request-presentation-0',\n",
      "            'data': {\n",
      "                'base64': 'eyJuYW1lIjogImlzTWFudWZhY3R1cmVyIFByb29mIFJlcXVlc3QiLCAidmVyc2lvbiI6ICIxLjAiLCAicmVxdWVzdGVkX2F0dHJpYnV0ZXMiOiB7IjBfaXNNYW51ZmFjdHVyZXJfdXVpZCI6IHsibmFtZSI6ICJpc01hbnVmYWN0dXJlciIsICJyZXN0cmljdGlvbnMiOiBbeyJzY2hlbWFfaWQiOiAiQWt2UXBYenV0VWhTZWVpdVpiVmNicToyOmNlcnRpZnktbWFudWZhY3R1cmVyOjAuMC4xIn1dfX0sICJyZXF1ZXN0ZWRfcHJlZGljYXRlcyI6IHt9LCAibm9uX3Jldm9rZWQiOiB7InRvIjogMTYzODAyODI2OH0sICJub25jZSI6ICI0NzE2MDk3MDczNzUzNDI5MTE4NTkxNTUifQ==',\n",
      "            },\n",
      "            'mime-type': 'application/json',\n",
      "        },\n",
      "    ],\n",
      "}\n",
      "\n",
      "---------------------------------------------------------------------\n",
      "\u001b[1mConnection Webhook Event Received: Present-Proof Handler\u001b[0m\n",
      "Connection ID :  a5832996-6d37-4892-aff2-dec376305212\n",
      "Presentation Exchange ID :  ff9d9d5b-c110-4646-a55a-973ac6b012d2\n",
      "Protocol State :  \u001b[34mrequest_sent\u001b[0m\n",
      "Agent Role :  verifier\n",
      "Initiator :  self\n",
      "---------------------------------------------------------------------\n",
      "\u001b[1m\n",
      "Presentation Request : \u001b[0m\n",
      "{\n",
      "    '@id': '6f642d2e-8fa7-4fd4-acc6-6603c66fad53',\n",
      "    '@type': 'did:sov:BzCbsNYhMrjHiqZDTUASHg;spec/present-proof/1.0/request-presentation',\n",
      "    'comment': 'Please prove that you are an agent who is a certified manufacturer',\n",
      "    'request_presentations~attach': [\n",
      "        {\n",
      "            '@id': 'libindy-request-presentation-0',\n",
      "            'data': {\n",
      "                'base64': 'eyJuYW1lIjogImlzTWFudWZhY3R1cmVyIFByb29mIFJlcXVlc3QiLCAidmVyc2lvbiI6ICIxLjAiLCAicmVxdWVzdGVkX2F0dHJpYnV0ZXMiOiB7IjBfaXNNYW51ZmFjdHVyZXJfdXVpZCI6IHsibmFtZSI6ICJpc01hbnVmYWN0dXJlciIsICJyZXN0cmljdGlvbnMiOiBbeyJzY2hlbWFfaWQiOiAiQWt2UXBYenV0VWhTZWVpdVpiVmNicToyOmNlcnRpZnktbWFudWZhY3R1cmVyOjAuMC4xIn1dfX0sICJyZXF1ZXN0ZWRfcHJlZGljYXRlcyI6IHt9LCAibm9uX3Jldm9rZWQiOiB7InRvIjogMTYzODAyODI2OH0sICJub25jZSI6ICI3MjcyNzQ1OTM4MzUxMDMxMTgwNzM3MzUifQ==',\n",
      "            },\n",
      "            'mime-type': 'application/json',\n",
      "        },\n",
      "    ],\n",
      "}\n",
      "\n",
      "---------------------------------------------------------------------\n",
      "\u001b[1mConnection Webhook Event Received: Present-Proof Handler\u001b[0m\n",
      "Connection ID :  b36e1385-f192-4626-9bcc-a95148fd2b38\n",
      "Presentation Exchange ID :  991db650-3be0-4b9e-8f99-06e693896286\n",
      "Protocol State :  \u001b[34mpresentation_received\u001b[0m\n",
      "Agent Role :  verifier\n",
      "Initiator :  self\n",
      "---------------------------------------------------------------------\n",
      "\n",
      "---------------------------------------------------------------------\n",
      "\u001b[1mConnection Webhook Event Received: Present-Proof Handler\u001b[0m\n",
      "Connection ID :  fc9c35fb-562a-4bc5-97cc-2555fab1abb9\n",
      "Presentation Exchange ID :  ea7310b6-2a42-43a9-822b-2db9269f9e4b\n",
      "Protocol State :  \u001b[34mpresentation_received\u001b[0m\n",
      "Agent Role :  verifier\n",
      "Initiator :  self\n",
      "---------------------------------------------------------------------\n",
      "\n",
      "---------------------------------------------------------------------\n",
      "\u001b[1mConnection Webhook Event Received: Present-Proof Handler\u001b[0m\n",
      "Connection ID :  a5832996-6d37-4892-aff2-dec376305212\n",
      "Presentation Exchange ID :  ff9d9d5b-c110-4646-a55a-973ac6b012d2\n",
      "Protocol State :  \u001b[34mpresentation_received\u001b[0m\n",
      "Agent Role :  verifier\n",
      "Initiator :  self\n",
      "---------------------------------------------------------------------\n"
     ]
    }
   ],
   "source": [
    "# Send proof request to Manufacturer1 and get presentation_exchange_id for connection with manufacturer 1\n",
    "presentation_exchange_id_a1 = city_agent.send_proof_request(\n",
    "    connection_id=connection_id_a1, \n",
    "    proof_request=manufacturer_proof_request, \n",
    "    comment=\"Please prove that you are an agent who is a certified manufacturer\"\n",
    ")\n",
    "\n",
    "# Send proof request to Manufacturer2 and get presentation_exchange_id for connection with manufacturer 2\n",
    "presentation_exchange_id_a2 = city_agent.send_proof_request(\n",
    "    connection_id=connection_id_a2, \n",
    "    proof_request=manufacturer_proof_request, \n",
    "    comment=\"Please prove that you are an agent who is a certified manufacturer\"\n",
    ")\n",
    "\n",
    "# Send proof request to Manufacturer3 and get presentation_exchange_id for connection with manufacturer 3\n",
    "presentation_exchange_id_a3 = city_agent.send_proof_request(\n",
    "    connection_id=connection_id_a3, \n",
    "    proof_request=manufacturer_proof_request, \n",
    "    comment=\"Please prove that you are an agent who is a certified manufacturer\"\n",
    ")"
   ]
  },
  {
   "cell_type": "markdown",
   "id": "be739f31",
   "metadata": {},
   "source": [
    "<div style=\"font-size: 25px\"><center><b>Break Point 5</b></center></div>\n",
    "<div style=\"font-size: 50px\"><center>🏙️ ➡️ 🚗 / 🚛 / 🛵</center></div><br>\n",
    "<center><b>Please go to all manufacturer agents 🚗 / 🚛 / 🛵. <br> For each of the manufacturer agents, continue with executing Step 3</b></center>\n",
    "\n",
    "#### 3.3 – Verify Proof Presentations\n",
    "\n",
    "When proof presentations are received by the manufacturers (see output under Step 3.2), you can verify whether the proof presentations are valid. \n",
    "A presentation object contains three classes of attributes. \n",
    "* Revealed Attributes: Attributes that were signed by an issuer and have been revealed in the presentation process\n",
    "* Self Attested Attributes: Attributes that the prover has self attested to in the presentation object.\n",
    "* Predicate proofs: Attribute values that have been proven to meet some statement. (TODO: Show how you can parse this information)\n",
    "\n",
    "Execute the following cell. The `verify_proof_presentation()` function verifies the proof presentation, and parses out relevant information. The returning value states whether the presentation proof is valid or not. In the use case at hand, because only one variable is verified, the boolean denotes if the agent is a manufacturer or not."
   ]
  },
  {
   "cell_type": "code",
   "execution_count": 12,
   "id": "58edbba4",
   "metadata": {},
   "outputs": [
    {
     "name": "stdout",
     "output_type": "stream",
     "text": [
      "\n",
      "---------------------------------------------------------------------\n",
      "\u001b[1mConnection Webhook Event Received: Present-Proof Handler\u001b[0m\n",
      "Connection ID :  b36e1385-f192-4626-9bcc-a95148fd2b38\n",
      "Presentation Exchange ID :  991db650-3be0-4b9e-8f99-06e693896286\n",
      "Protocol State :  \u001b[34mverified\u001b[0m\n",
      "Agent Role :  verifier\n",
      "Initiator :  self\n",
      "---------------------------------------------------------------------\n",
      "\u001b[1m\u001b[32m\n",
      "Presentation Exchange ID: 991db650-3be0-4b9e-8f99-06e693896286 is verified\u001b[0m\n",
      "\n",
      "---------------------------------------------------------------------\n",
      "\u001b[1mPresentation Exchange ID 991db650-3be0-4b9e-8f99-06e693896286\u001b[0m\n",
      "Presentation valid :  \u001b[32mTrue\u001b[0m\n",
      "Revealed Attributes : \n",
      "\t* isManufacturer = TRUE\n",
      "Self-Attested Attributes : \n",
      "Predicate Attributes : \n",
      "---------------------------------------------------------------------\n",
      "\n",
      "---------------------------------------------------------------------\n",
      "\u001b[1mConnection Webhook Event Received: Present-Proof Handler\u001b[0m\n",
      "Connection ID :  fc9c35fb-562a-4bc5-97cc-2555fab1abb9\n",
      "Presentation Exchange ID :  ea7310b6-2a42-43a9-822b-2db9269f9e4b\n",
      "Protocol State :  \u001b[34mverified\u001b[0m\n",
      "Agent Role :  verifier\n",
      "Initiator :  self\n",
      "---------------------------------------------------------------------\n",
      "\u001b[1m\u001b[32m\n",
      "Presentation Exchange ID: ea7310b6-2a42-43a9-822b-2db9269f9e4b is verified\u001b[0m\n",
      "\n",
      "---------------------------------------------------------------------\n",
      "\u001b[1mPresentation Exchange ID ea7310b6-2a42-43a9-822b-2db9269f9e4b\u001b[0m\n",
      "Presentation valid :  \u001b[32mTrue\u001b[0m\n",
      "Revealed Attributes : \n",
      "\t* isManufacturer = TRUE\n",
      "Self-Attested Attributes : \n",
      "Predicate Attributes : \n",
      "---------------------------------------------------------------------\n",
      "\n",
      "---------------------------------------------------------------------\n",
      "\u001b[1mConnection Webhook Event Received: Present-Proof Handler\u001b[0m\n",
      "Connection ID :  a5832996-6d37-4892-aff2-dec376305212\n",
      "Presentation Exchange ID :  ff9d9d5b-c110-4646-a55a-973ac6b012d2\n",
      "Protocol State :  \u001b[34mverified\u001b[0m\n",
      "Agent Role :  verifier\n",
      "Initiator :  self\n",
      "---------------------------------------------------------------------\n",
      "\u001b[1m\u001b[32m\n",
      "Presentation Exchange ID: ff9d9d5b-c110-4646-a55a-973ac6b012d2 is verified\u001b[0m\n",
      "\n",
      "---------------------------------------------------------------------\n",
      "\u001b[1mPresentation Exchange ID ff9d9d5b-c110-4646-a55a-973ac6b012d2\u001b[0m\n",
      "Presentation valid :  \u001b[32mTrue\u001b[0m\n",
      "Revealed Attributes : \n",
      "\t* isManufacturer = TRUE\n",
      "Self-Attested Attributes : \n",
      "Predicate Attributes : \n",
      "---------------------------------------------------------------------\n",
      "AnonymousAgent1 is manufacturer: True\n",
      "AnonymousAgent2 is manufacturer: True\n",
      "AnonymousAgent3 is manufacturer: True\n"
     ]
    }
   ],
   "source": [
    "a1_is_manufacturer = city_agent.verify_proof_presentation(presentation_exchange_id_a1)\n",
    "a2_is_manufacturer = city_agent.verify_proof_presentation(presentation_exchange_id_a2)\n",
    "a3_is_manufacturer = city_agent.verify_proof_presentation(presentation_exchange_id_a3)\n",
    "\n",
    "print(\"AnonymousAgent1 is manufacturer:\", a1_is_manufacturer)\n",
    "print(\"AnonymousAgent2 is manufacturer:\", a2_is_manufacturer)\n",
    "print(\"AnonymousAgent3 is manufacturer:\", a3_is_manufacturer)"
   ]
  },
  {
   "cell_type": "markdown",
   "id": "f352e47f",
   "metadata": {},
   "source": [
    "<a id=4></a>\n",
    "### 4 – Do Data Science\n",
    "Now that the City agent verified that all agents are indeed manufactureres, join the individual Duet Connections that the Manufacturers already sent to the City Agent.\n",
    "\n",
    "#### 4.1 – Establish a Duet connections\n",
    "Duet is a package that allows you to exchange encrypted data and run privacy-preserving arithmetic operations on them (e.g., through homomorphic encryption or secure multiparty computation). The ACM package is configured to allow the exchange of duet tokens. Only one duet connection can be established per aries connection.\n",
    "\n",
    "##### Duet Connection with AnonymousAgent1"
   ]
  },
  {
   "cell_type": "code",
   "execution_count": 13,
   "id": "0484ced8",
   "metadata": {},
   "outputs": [
    {
     "name": "stdout",
     "output_type": "stream",
     "text": [
      "🎤  🎸  ♪♪♪ Joining Duet ♫♫♫  🎻  🎹\n",
      "\n",
      "♫♫♫ >\u001b[93m DISCLAIMER\u001b[0m: \u001b[1mDuet is an experimental feature currently in beta.\n",
      "♫♫♫ > Use at your own risk.\n",
      "\u001b[0m\n",
      "\u001b[1m\n",
      "    > ❤️ \u001b[91mLove\u001b[0m \u001b[92mDuet\u001b[0m? \u001b[93mPlease\u001b[0m \u001b[94mconsider\u001b[0m \u001b[95msupporting\u001b[0m \u001b[91mour\u001b[0m \u001b[93mcommunity!\u001b[0m\n",
      "    > https://github.com/sponsors/OpenMined\u001b[1m\n",
      "\n",
      "♫♫♫ > Punching through firewall to OpenGrid Network Node at:\n",
      "♫♫♫ > http://ec2-18-218-7-180.us-east-2.compute.amazonaws.com:5000\n",
      "♫♫♫ >\n",
      "♫♫♫ > ...waiting for response from OpenGrid Network... \n",
      "♫♫♫ > \u001b[92mDONE!\u001b[0m\n",
      "\n",
      "♫♫♫ > \u001b[1mSTEP 1:\u001b[0m Awaiting Duet Token from Duet Partner...\n",
      "\n",
      "♫♫♫ > \u001b[1m\u001b[32mDONE!\u001b[0m Partner's Duet Token: 72913fd12c47f2a260843fd10ec4605e\n",
      "\n",
      "♫♫♫ > \u001b[1mSTEP 2:\u001b[0m Sending Duet Token d2d262a9be0f4fb8e856ae19a561ecba\n",
      "♫♫♫ > to Duet Partner AnonymousAgent1\n",
      "♫♫♫ > via Connection ID b36e1385-f192-4626-9bcc-a95148fd2b38\n",
      "\u001b[1m\u001b[32m♫♫♫ > Done!\u001b[0m\n",
      "\n",
      "♫♫♫ > ...waiting for partner to connect...\n",
      "\n",
      "♫♫♫ > \u001b[92mCONNECTED!\u001b[0m\n"
     ]
    },
    {
     "data": {
      "text/html": [
       "<div>\n",
       "<style scoped>\n",
       "    .dataframe tbody tr th:only-of-type {\n",
       "        vertical-align: middle;\n",
       "    }\n",
       "\n",
       "    .dataframe tbody tr th {\n",
       "        vertical-align: top;\n",
       "    }\n",
       "\n",
       "    .dataframe thead th {\n",
       "        text-align: right;\n",
       "    }\n",
       "</style>\n",
       "<table border=\"1\" class=\"dataframe\">\n",
       "  <thead>\n",
       "    <tr style=\"text-align: right;\">\n",
       "      <th></th>\n",
       "    </tr>\n",
       "  </thead>\n",
       "  <tbody>\n",
       "  </tbody>\n",
       "</table>\n",
       "</div>"
      ],
      "text/plain": [
       "Empty DataFrame\n",
       "Columns: []\n",
       "Index: []"
      ]
     },
     "execution_count": 13,
     "metadata": {},
     "output_type": "execute_result"
    }
   ],
   "source": [
    "# Set up connection_id used for for duet token exchange\n",
    "city_agent._update_connection(connection_id=connection_id_a1, is_duet_connection=True, reset_duet=True)\n",
    "\n",
    "# Join duet established by external agent \n",
    "duet_a1 = sy.join_duet(credential_exchanger=city_agent)\n",
    "\n",
    "# Check that you can access the duet data store\n",
    "duet_a1.store.pandas"
   ]
  },
  {
   "cell_type": "markdown",
   "id": "0ccd7063",
   "metadata": {},
   "source": [
    "##### Duet Connection with AnonymousAgent2"
   ]
  },
  {
   "cell_type": "code",
   "execution_count": 14,
   "id": "415928f8",
   "metadata": {},
   "outputs": [
    {
     "name": "stdout",
     "output_type": "stream",
     "text": [
      "🎤  🎸  ♪♪♪ Joining Duet ♫♫♫  🎻  🎹\n",
      "\n",
      "♫♫♫ >\u001b[93m DISCLAIMER\u001b[0m: \u001b[1mDuet is an experimental feature currently in beta.\n",
      "♫♫♫ > Use at your own risk.\n",
      "\u001b[0m\n",
      "\u001b[1m\n",
      "    > ❤️ \u001b[91mLove\u001b[0m \u001b[92mDuet\u001b[0m? \u001b[93mPlease\u001b[0m \u001b[94mconsider\u001b[0m \u001b[95msupporting\u001b[0m \u001b[91mour\u001b[0m \u001b[93mcommunity!\u001b[0m\n",
      "    > https://github.com/sponsors/OpenMined\u001b[1m\n",
      "\n",
      "♫♫♫ > Punching through firewall to OpenGrid Network Node at:\n",
      "♫♫♫ > http://ec2-18-218-7-180.us-east-2.compute.amazonaws.com:5000\n",
      "♫♫♫ >\n",
      "♫♫♫ > ...waiting for response from OpenGrid Network... \n",
      "♫♫♫ > \u001b[92mDONE!\u001b[0m\n",
      "\n",
      "♫♫♫ > \u001b[1mSTEP 1:\u001b[0m Awaiting Duet Token from Duet Partner...\n",
      "\n",
      "♫♫♫ > \u001b[1m\u001b[32mDONE!\u001b[0m Partner's Duet Token: 4d07c4905d3548cf581e7faf06dee356\n",
      "\n",
      "♫♫♫ > \u001b[1mSTEP 2:\u001b[0m Sending Duet Token 27e39dabc65cdaf7f2f2d6cca2801889\n",
      "♫♫♫ > to Duet Partner AnonymousAgent2\n",
      "♫♫♫ > via Connection ID fc9c35fb-562a-4bc5-97cc-2555fab1abb9\n",
      "\u001b[1m\u001b[32m♫♫♫ > Done!\u001b[0m\n",
      "\n",
      "♫♫♫ > ...waiting for partner to connect...\n",
      "\n",
      "♫♫♫ > \u001b[92mCONNECTED!\u001b[0m\n"
     ]
    },
    {
     "data": {
      "text/html": [
       "<div>\n",
       "<style scoped>\n",
       "    .dataframe tbody tr th:only-of-type {\n",
       "        vertical-align: middle;\n",
       "    }\n",
       "\n",
       "    .dataframe tbody tr th {\n",
       "        vertical-align: top;\n",
       "    }\n",
       "\n",
       "    .dataframe thead th {\n",
       "        text-align: right;\n",
       "    }\n",
       "</style>\n",
       "<table border=\"1\" class=\"dataframe\">\n",
       "  <thead>\n",
       "    <tr style=\"text-align: right;\">\n",
       "      <th></th>\n",
       "    </tr>\n",
       "  </thead>\n",
       "  <tbody>\n",
       "  </tbody>\n",
       "</table>\n",
       "</div>"
      ],
      "text/plain": [
       "Empty DataFrame\n",
       "Columns: []\n",
       "Index: []"
      ]
     },
     "execution_count": 14,
     "metadata": {},
     "output_type": "execute_result"
    }
   ],
   "source": [
    "# Set up connection_id used for for duet token exchange and join duet\n",
    "city_agent._update_connection(connection_id=connection_id_a2, is_duet_connection=True, reset_duet=True)\n",
    "duet_a2 = sy.join_duet(credential_exchanger=city_agent)\n",
    "\n",
    "# Check that you can access the duet data store\n",
    "duet_a2.store.pandas"
   ]
  },
  {
   "cell_type": "markdown",
   "id": "7e8b1716",
   "metadata": {},
   "source": [
    "##### Duet Connection with AnonymousAgent3"
   ]
  },
  {
   "cell_type": "code",
   "execution_count": 15,
   "id": "d381b196",
   "metadata": {},
   "outputs": [
    {
     "name": "stdout",
     "output_type": "stream",
     "text": [
      "🎤  🎸  ♪♪♪ Joining Duet ♫♫♫  🎻  🎹\n",
      "\n",
      "♫♫♫ >\u001b[93m DISCLAIMER\u001b[0m: \u001b[1mDuet is an experimental feature currently in beta.\n",
      "♫♫♫ > Use at your own risk.\n",
      "\u001b[0m\n",
      "\u001b[1m\n",
      "    > ❤️ \u001b[91mLove\u001b[0m \u001b[92mDuet\u001b[0m? \u001b[93mPlease\u001b[0m \u001b[94mconsider\u001b[0m \u001b[95msupporting\u001b[0m \u001b[91mour\u001b[0m \u001b[93mcommunity!\u001b[0m\n",
      "    > https://github.com/sponsors/OpenMined\u001b[1m\n",
      "\n",
      "♫♫♫ > Punching through firewall to OpenGrid Network Node at:\n",
      "♫♫♫ > http://ec2-18-218-7-180.us-east-2.compute.amazonaws.com:5000\n",
      "♫♫♫ >\n",
      "♫♫♫ > ...waiting for response from OpenGrid Network... \n",
      "♫♫♫ > \u001b[92mDONE!\u001b[0m\n",
      "\n",
      "♫♫♫ > \u001b[1mSTEP 1:\u001b[0m Awaiting Duet Token from Duet Partner...\n",
      "\n",
      "♫♫♫ > \u001b[1m\u001b[32mDONE!\u001b[0m Partner's Duet Token: dff945582ab70d6a706a7ecd6a67d7f8\n",
      "\n",
      "♫♫♫ > \u001b[1mSTEP 2:\u001b[0m Sending Duet Token 5d019015000509faf31815e85ec1db50\n",
      "♫♫♫ > to Duet Partner AnonymousAgent3\n",
      "♫♫♫ > via Connection ID a5832996-6d37-4892-aff2-dec376305212\n",
      "\u001b[1m\u001b[32m♫♫♫ > Done!\u001b[0m\n",
      "\n",
      "♫♫♫ > ...waiting for partner to connect...\n",
      "\n",
      "♫♫♫ > \u001b[92mCONNECTED!\u001b[0m\n"
     ]
    },
    {
     "data": {
      "text/html": [
       "<div>\n",
       "<style scoped>\n",
       "    .dataframe tbody tr th:only-of-type {\n",
       "        vertical-align: middle;\n",
       "    }\n",
       "\n",
       "    .dataframe tbody tr th {\n",
       "        vertical-align: top;\n",
       "    }\n",
       "\n",
       "    .dataframe thead th {\n",
       "        text-align: right;\n",
       "    }\n",
       "</style>\n",
       "<table border=\"1\" class=\"dataframe\">\n",
       "  <thead>\n",
       "    <tr style=\"text-align: right;\">\n",
       "      <th></th>\n",
       "    </tr>\n",
       "  </thead>\n",
       "  <tbody>\n",
       "  </tbody>\n",
       "</table>\n",
       "</div>"
      ],
      "text/plain": [
       "Empty DataFrame\n",
       "Columns: []\n",
       "Index: []"
      ]
     },
     "execution_count": 15,
     "metadata": {},
     "output_type": "execute_result"
    }
   ],
   "source": [
    "# Set up connection_id used for for duet token exchange and join duet\n",
    "city_agent._update_connection(connection_id=connection_id_a3, is_duet_connection=True, reset_duet=True)\n",
    "duet_a3 = sy.join_duet(credential_exchanger=city_agent)\n",
    "\n",
    "# Check that you can access the duet data store\n",
    "duet_a3.store.pandas"
   ]
  },
  {
   "cell_type": "markdown",
   "id": "e8f33464",
   "metadata": {},
   "source": [
    "#### 4.2 – Setup Secure Multiparty Computation (SyMPC) Session with all duet connections\n",
    "Create a duet session that is able to access the data from all three established duet connections.\n",
    "\n",
    "Then, initiate the duet session to enable Secure Multiparty Computation. The `Session` is used to send some config information only once between the parties. This information can be:\n",
    "* the ring size in which we do the computation\n",
    "* Reference to the parties involved\n",
    "* the precision and base\n",
    "* ...\n",
    "\n",
    "The `MPCTensor` is the tensor that holds reference to the shares owned by the different parties. Specifically, it is an orchestrator that can do computations on data that it does not see."
   ]
  },
  {
   "cell_type": "code",
   "execution_count": 16,
   "id": "417f1d25",
   "metadata": {
    "collapsed": false,
    "jupyter": {
     "outputs_hidden": false
    },
    "pycharm": {
     "name": "#%%\n"
    }
   },
   "outputs": [
    {
     "data": {
      "text/plain": [
       "<sympc.protocol.fss.fss.FSS at 0x7fe5fe6578e0>"
      ]
     },
     "execution_count": 16,
     "metadata": {},
     "output_type": "execute_result"
    }
   ],
   "source": [
    "session = Session(parties=[duet_a1, duet_a2, duet_a3])\n",
    "SessionManager.setup_mpc(session)\n",
    "\n",
    "session.get_protocol()"
   ]
  },
  {
   "cell_type": "markdown",
   "id": "135e684a",
   "metadata": {
    "pycharm": {
     "name": "#%% md\n"
    }
   },
   "source": [
    "<div style=\"font-size: 25px\"><center><b>Break Point 9</b></center></div>\n",
    "<div style=\"font-size: 50px\"><center>🏙️ ➡️ 🚗 / 🚛 / 🛵</center></div><br>\n",
    "<center><b>Please go to all manufacturer agents 🚗 / 🚛 / 🛵. <br> For each of the manufacturer agents, continue with executing Step 4.2</b></center>\n",
    "\n",
    "#### 4.3 – Access encrypted data from AnonymousAgent1 🔒🚗, AnonymousAgent2 🔒🚛, and AnonymousAgent3 🔒🛵\n",
    "Access data from the encrypted duet stores by ID. Check which data the stores have to offer, and enter the names of the data entries to retrieve them"
   ]
  },
  {
   "cell_type": "code",
   "execution_count": 17,
   "id": "1349360b",
   "metadata": {
    "collapsed": false,
    "jupyter": {
     "outputs_hidden": false
    },
    "pycharm": {
     "name": "#%%\n"
    }
   },
   "outputs": [
    {
     "data": {
      "text/html": [
       "<div>\n",
       "<style scoped>\n",
       "    .dataframe tbody tr th:only-of-type {\n",
       "        vertical-align: middle;\n",
       "    }\n",
       "\n",
       "    .dataframe tbody tr th {\n",
       "        vertical-align: top;\n",
       "    }\n",
       "\n",
       "    .dataframe thead th {\n",
       "        text-align: right;\n",
       "    }\n",
       "</style>\n",
       "<table border=\"1\" class=\"dataframe\">\n",
       "  <thead>\n",
       "    <tr style=\"text-align: right;\">\n",
       "      <th></th>\n",
       "      <th>ID</th>\n",
       "      <th>Tags</th>\n",
       "      <th>Description</th>\n",
       "      <th>object_type</th>\n",
       "    </tr>\n",
       "  </thead>\n",
       "  <tbody>\n",
       "    <tr>\n",
       "      <th>0</th>\n",
       "      <td>&lt;UID: 31c39ec7e0dd48bb94fe71b30ebb4aa9&gt;</td>\n",
       "      <td>[hourly-co2-per-zip_2021-08-19]</td>\n",
       "      <td>Total CO2 per Zipcode per Hour on August 19, 2...</td>\n",
       "      <td>&lt;class 'torch.Tensor'&gt;</td>\n",
       "    </tr>\n",
       "  </tbody>\n",
       "</table>\n",
       "</div>"
      ],
      "text/plain": [
       "                                        ID                             Tags  \\\n",
       "0  <UID: 31c39ec7e0dd48bb94fe71b30ebb4aa9>  [hourly-co2-per-zip_2021-08-19]   \n",
       "\n",
       "                                         Description             object_type  \n",
       "0  Total CO2 per Zipcode per Hour on August 19, 2...  <class 'torch.Tensor'>  "
      ]
     },
     "execution_count": 17,
     "metadata": {},
     "output_type": "execute_result"
    }
   ],
   "source": [
    "duet_a1.store.pandas"
   ]
  },
  {
   "cell_type": "code",
   "execution_count": 18,
   "id": "ff397d57",
   "metadata": {
    "collapsed": false,
    "jupyter": {
     "outputs_hidden": false
    },
    "pycharm": {
     "name": "#%%\n"
    }
   },
   "outputs": [
    {
     "data": {
      "text/html": [
       "<div>\n",
       "<style scoped>\n",
       "    .dataframe tbody tr th:only-of-type {\n",
       "        vertical-align: middle;\n",
       "    }\n",
       "\n",
       "    .dataframe tbody tr th {\n",
       "        vertical-align: top;\n",
       "    }\n",
       "\n",
       "    .dataframe thead th {\n",
       "        text-align: right;\n",
       "    }\n",
       "</style>\n",
       "<table border=\"1\" class=\"dataframe\">\n",
       "  <thead>\n",
       "    <tr style=\"text-align: right;\">\n",
       "      <th></th>\n",
       "      <th>ID</th>\n",
       "      <th>Tags</th>\n",
       "      <th>Description</th>\n",
       "      <th>object_type</th>\n",
       "    </tr>\n",
       "  </thead>\n",
       "  <tbody>\n",
       "    <tr>\n",
       "      <th>0</th>\n",
       "      <td>&lt;UID: 887efe79592f4ddabc32bd07dcc2c836&gt;</td>\n",
       "      <td>[hourly-co2-per-zip_2021-08-19]</td>\n",
       "      <td>Total CO2 per Zipcode per Hour on August 19, 2...</td>\n",
       "      <td>&lt;class 'torch.Tensor'&gt;</td>\n",
       "    </tr>\n",
       "  </tbody>\n",
       "</table>\n",
       "</div>"
      ],
      "text/plain": [
       "                                        ID                             Tags  \\\n",
       "0  <UID: 887efe79592f4ddabc32bd07dcc2c836>  [hourly-co2-per-zip_2021-08-19]   \n",
       "\n",
       "                                         Description             object_type  \n",
       "0  Total CO2 per Zipcode per Hour on August 19, 2...  <class 'torch.Tensor'>  "
      ]
     },
     "execution_count": 18,
     "metadata": {},
     "output_type": "execute_result"
    }
   ],
   "source": [
    "duet_a2.store.pandas"
   ]
  },
  {
   "cell_type": "code",
   "execution_count": 19,
   "id": "b26b1665",
   "metadata": {
    "collapsed": false,
    "jupyter": {
     "outputs_hidden": false
    },
    "pycharm": {
     "name": "#%%\n"
    }
   },
   "outputs": [
    {
     "data": {
      "text/html": [
       "<div>\n",
       "<style scoped>\n",
       "    .dataframe tbody tr th:only-of-type {\n",
       "        vertical-align: middle;\n",
       "    }\n",
       "\n",
       "    .dataframe tbody tr th {\n",
       "        vertical-align: top;\n",
       "    }\n",
       "\n",
       "    .dataframe thead th {\n",
       "        text-align: right;\n",
       "    }\n",
       "</style>\n",
       "<table border=\"1\" class=\"dataframe\">\n",
       "  <thead>\n",
       "    <tr style=\"text-align: right;\">\n",
       "      <th></th>\n",
       "      <th>ID</th>\n",
       "      <th>Tags</th>\n",
       "      <th>Description</th>\n",
       "      <th>object_type</th>\n",
       "    </tr>\n",
       "  </thead>\n",
       "  <tbody>\n",
       "    <tr>\n",
       "      <th>0</th>\n",
       "      <td>&lt;UID: f8a984c358ce42a29528d0ca335b0ba4&gt;</td>\n",
       "      <td>[hourly-co2-per-zip_2021-08-19]</td>\n",
       "      <td>Total CO2 per Zipcode per Hour on August 19, 2...</td>\n",
       "      <td>&lt;class 'torch.Tensor'&gt;</td>\n",
       "    </tr>\n",
       "  </tbody>\n",
       "</table>\n",
       "</div>"
      ],
      "text/plain": [
       "                                        ID                             Tags  \\\n",
       "0  <UID: f8a984c358ce42a29528d0ca335b0ba4>  [hourly-co2-per-zip_2021-08-19]   \n",
       "\n",
       "                                         Description             object_type  \n",
       "0  Total CO2 per Zipcode per Hour on August 19, 2...  <class 'torch.Tensor'>  "
      ]
     },
     "execution_count": 19,
     "metadata": {},
     "output_type": "execute_result"
    }
   ],
   "source": [
    "duet_a3.store.pandas"
   ]
  },
  {
   "cell_type": "code",
   "execution_count": 20,
   "id": "e0883904",
   "metadata": {
    "collapsed": false,
    "jupyter": {
     "outputs_hidden": false
    },
    "pycharm": {
     "name": "#%%\n"
    }
   },
   "outputs": [],
   "source": [
    "# Retrieve encrypted data\n",
    "x_secret = duet_a1.store[\"hourly-co2-per-zip_2021-08-19\"] # describe local data to test sum, substract, and multiply\n",
    "y_secret = duet_a2.store[\"hourly-co2-per-zip_2021-08-19\"]\n",
    "z_secret = duet_a3.store[\"hourly-co2-per-zip_2021-08-19\"]"
   ]
  },
  {
   "cell_type": "code",
   "execution_count": 21,
   "id": "a0084b82",
   "metadata": {},
   "outputs": [
    {
     "name": "stdout",
     "output_type": "stream",
     "text": [
      "<syft.proxy.torch.TensorPointer object at 0x7fe5f775c790>\n"
     ]
    }
   ],
   "source": [
    "# Test the output of one of them\n",
    "print(x_secret)"
   ]
  },
  {
   "cell_type": "markdown",
   "id": "4e0d812a",
   "metadata": {
    "pycharm": {
     "name": "#%% md\n"
    }
   },
   "source": [
    "#### 4.4 – Share secrets with Agents in session"
   ]
  },
  {
   "cell_type": "code",
   "execution_count": 22,
   "id": "5b4127bc",
   "metadata": {
    "collapsed": false,
    "jupyter": {
     "outputs_hidden": false
    },
    "pycharm": {
     "name": "#%%\n"
    }
   },
   "outputs": [],
   "source": [
    "# Convert encrypted data into MPCTensors and share the secrets\n",
    "x = MPCTensor(secret=x_secret, shape=(1,), session=session) # @todo: adjust shape!\n",
    "y = MPCTensor(secret=y_secret, shape=(1,), session=session)\n",
    "z = MPCTensor(secret=z_secret, shape=(1,), session=session)"
   ]
  },
  {
   "cell_type": "code",
   "execution_count": 23,
   "id": "f5664b30",
   "metadata": {},
   "outputs": [
    {
     "name": "stdout",
     "output_type": "stream",
     "text": [
      "[MPCTensor]\n",
      "Shape: (1,)\n",
      "Requires Grad: False\n",
      "\t| <Duet: <UID: 1f91a30e1d4c45e19c07d96670e9147b>> -> ReplicatedSharedTensorShareTensorUnionPointer\n",
      "\t| <Duet: <UID: 42d86501980544708bda35e7c4703522>> -> ReplicatedSharedTensorShareTensorUnionPointer\n",
      "\t| <Duet: <UID: c35b751d6acf40e09ce49a0d9ba37e12>> -> AnyPointer\n"
     ]
    }
   ],
   "source": [
    "# Test the output of one of them\n",
    "print(z)"
   ]
  },
  {
   "cell_type": "markdown",
   "id": "ce58eb98",
   "metadata": {},
   "source": [
    "#### 4.5 – Reconstruct data shares 🔐(🚗 + 🚛 + 🛵)\n",
    "Let's first do some basic operations. Because these operations are performed via SMPC, the raw data is not leaving the data owners' servers!\n",
    "\n",
    "Unfortunately, the following lines of codes always receive an error message.\n",
    "[See Github issue](https://github.com/OpenMined/SyMPC/issues/282). If you want to see how the `.reconstruct()` function works, go to `xx/` and run the notebook."
   ]
  },
  {
   "cell_type": "code",
   "execution_count": 24,
   "id": "890e3fdc",
   "metadata": {
    "collapsed": false,
    "jupyter": {
     "outputs_hidden": false
    },
    "pycharm": {
     "name": "#%%\n"
    }
   },
   "outputs": [
    {
     "name": "stderr",
     "output_type": "stream",
     "text": [
      "ERROR:asyncio:Exception in callback BaseSelectorEventLoop._read_from_self()\n",
      "handle: <Handle BaseSelectorEventLoop._read_from_self()>\n",
      "Traceback (most recent call last):\n",
      "  File \"/opt/conda/lib/python3.9/asyncio/events.py\", line 80, in _run\n",
      "    self._context.run(self._callback, *self._args)\n",
      "RuntimeError: cannot enter context: <Context object at 0x7fe6a6b86480> is already entered\n",
      "[2021-11-27T15:57:52.687074+0000][CRITICAL][logger]][13] UnknownPrivateException has been triggered.\n",
      "[2021-11-27T15:57:52.730697+0000][CRITICAL][logger]][13] UnknownPrivateException has been triggered.\n",
      "[2021-11-27T15:57:52.793230+0000][CRITICAL][logger]][13] UnknownPrivateException has been triggered.\n"
     ]
    },
    {
     "ename": "UnknownPrivateException",
     "evalue": "UnknownPrivateException has been triggered.",
     "output_type": "error",
     "traceback": [
      "\u001b[0;31m---------------------------------------------------------------------------\u001b[0m",
      "\u001b[0;31mUnknownPrivateException\u001b[0m                   Traceback (most recent call last)",
      "\u001b[0;32m/tmp/ipykernel_13/257681627.py\u001b[0m in \u001b[0;36m<module>\u001b[0;34m\u001b[0m\n\u001b[1;32m      1\u001b[0m \u001b[0;31m# Do basic arithmetic operations on the MPCTensors\u001b[0m\u001b[0;34m\u001b[0m\u001b[0;34m\u001b[0m\u001b[0;34m\u001b[0m\u001b[0m\n\u001b[0;32m----> 2\u001b[0;31m \u001b[0mprint\u001b[0m\u001b[0;34m(\u001b[0m\u001b[0;34m\"X + Y + Z = \"\u001b[0m\u001b[0;34m,\u001b[0m\u001b[0;34m(\u001b[0m\u001b[0mx\u001b[0m \u001b[0;34m+\u001b[0m \u001b[0my\u001b[0m \u001b[0;34m+\u001b[0m \u001b[0mz\u001b[0m\u001b[0;34m)\u001b[0m\u001b[0;34m.\u001b[0m\u001b[0mreconstruct\u001b[0m\u001b[0;34m(\u001b[0m\u001b[0;34m)\u001b[0m\u001b[0;34m)\u001b[0m\u001b[0;34m\u001b[0m\u001b[0;34m\u001b[0m\u001b[0m\n\u001b[0m",
      "\u001b[0;32m/SyMPC/src/sympc/tensor/mpc_tensor.py\u001b[0m in \u001b[0;36mreconstruct\u001b[0;34m(self, decode, get_shares)\u001b[0m\n\u001b[1;32m    373\u001b[0m             \u001b[0mtorch\u001b[0m\u001b[0;34m.\u001b[0m\u001b[0mTensor\u001b[0m\u001b[0;34m.\u001b[0m \u001b[0mThe\u001b[0m \u001b[0msecret\u001b[0m \u001b[0mreconstructed\u001b[0m\u001b[0;34m.\u001b[0m\u001b[0;34m\u001b[0m\u001b[0;34m\u001b[0m\u001b[0m\n\u001b[1;32m    374\u001b[0m         \"\"\"\n\u001b[0;32m--> 375\u001b[0;31m         result = self.session.protocol.share_class.reconstruct(\n\u001b[0m\u001b[1;32m    376\u001b[0m             \u001b[0mself\u001b[0m\u001b[0;34m.\u001b[0m\u001b[0mshare_ptrs\u001b[0m\u001b[0;34m,\u001b[0m\u001b[0;34m\u001b[0m\u001b[0;34m\u001b[0m\u001b[0m\n\u001b[1;32m    377\u001b[0m             \u001b[0mget_shares\u001b[0m\u001b[0;34m=\u001b[0m\u001b[0mget_shares\u001b[0m\u001b[0;34m,\u001b[0m\u001b[0;34m\u001b[0m\u001b[0;34m\u001b[0m\u001b[0m\n",
      "\u001b[0;32m/SyMPC/src/sympc/tensor/share_tensor.py\u001b[0m in \u001b[0;36mreconstruct\u001b[0;34m(share_ptrs, get_shares, security_type)\u001b[0m\n\u001b[1;32m    529\u001b[0m \u001b[0;34m\u001b[0m\u001b[0m\n\u001b[1;32m    530\u001b[0m         \u001b[0margs\u001b[0m \u001b[0;34m=\u001b[0m \u001b[0;34m[\u001b[0m\u001b[0;34m[\u001b[0m\u001b[0mshare\u001b[0m\u001b[0;34m]\u001b[0m \u001b[0;32mfor\u001b[0m \u001b[0mshare\u001b[0m \u001b[0;32min\u001b[0m \u001b[0mshare_ptrs\u001b[0m\u001b[0;34m]\u001b[0m\u001b[0;34m\u001b[0m\u001b[0;34m\u001b[0m\u001b[0m\n\u001b[0;32m--> 531\u001b[0;31m         \u001b[0mlocal_shares\u001b[0m \u001b[0;34m=\u001b[0m \u001b[0mrequest_wrap\u001b[0m\u001b[0;34m(\u001b[0m\u001b[0margs\u001b[0m\u001b[0;34m)\u001b[0m\u001b[0;34m\u001b[0m\u001b[0;34m\u001b[0m\u001b[0m\n\u001b[0m\u001b[1;32m    532\u001b[0m \u001b[0;34m\u001b[0m\u001b[0m\n\u001b[1;32m    533\u001b[0m         \u001b[0mshares\u001b[0m \u001b[0;34m=\u001b[0m \u001b[0;34m[\u001b[0m\u001b[0mshare\u001b[0m\u001b[0;34m.\u001b[0m\u001b[0mtensor\u001b[0m \u001b[0;32mfor\u001b[0m \u001b[0mshare\u001b[0m \u001b[0;32min\u001b[0m \u001b[0mlocal_shares\u001b[0m\u001b[0;34m]\u001b[0m\u001b[0;34m\u001b[0m\u001b[0;34m\u001b[0m\u001b[0m\n",
      "\u001b[0;32m/SyMPC/src/sympc/utils/utils.py\u001b[0m in \u001b[0;36mwrapper\u001b[0;34m(args, kwargs)\u001b[0m\n\u001b[1;32m    122\u001b[0m                 \u001b[0mfutures\u001b[0m\u001b[0;34m.\u001b[0m\u001b[0mappend\u001b[0m\u001b[0;34m(\u001b[0m\u001b[0mexecutor\u001b[0m\u001b[0;34m.\u001b[0m\u001b[0msubmit\u001b[0m\u001b[0;34m(\u001b[0m\u001b[0mfuncs\u001b[0m\u001b[0;34m[\u001b[0m\u001b[0mi\u001b[0m\u001b[0;34m]\u001b[0m\u001b[0;34m,\u001b[0m \u001b[0;34m*\u001b[0m\u001b[0m_args\u001b[0m\u001b[0;34m,\u001b[0m \u001b[0;34m**\u001b[0m\u001b[0m_kwargs\u001b[0m\u001b[0;34m)\u001b[0m\u001b[0;34m)\u001b[0m\u001b[0;34m\u001b[0m\u001b[0;34m\u001b[0m\u001b[0m\n\u001b[1;32m    123\u001b[0m \u001b[0;34m\u001b[0m\u001b[0m\n\u001b[0;32m--> 124\u001b[0;31m         \u001b[0mlocal_shares\u001b[0m \u001b[0;34m=\u001b[0m \u001b[0;34m[\u001b[0m\u001b[0mf\u001b[0m\u001b[0;34m.\u001b[0m\u001b[0mresult\u001b[0m\u001b[0;34m(\u001b[0m\u001b[0;34m)\u001b[0m \u001b[0;32mfor\u001b[0m \u001b[0mf\u001b[0m \u001b[0;32min\u001b[0m \u001b[0mfutures\u001b[0m\u001b[0;34m]\u001b[0m\u001b[0;34m\u001b[0m\u001b[0;34m\u001b[0m\u001b[0m\n\u001b[0m\u001b[1;32m    125\u001b[0m \u001b[0;34m\u001b[0m\u001b[0m\n\u001b[1;32m    126\u001b[0m         \u001b[0;32mreturn\u001b[0m \u001b[0mlocal_shares\u001b[0m\u001b[0;34m\u001b[0m\u001b[0;34m\u001b[0m\u001b[0m\n",
      "\u001b[0;32m/SyMPC/src/sympc/utils/utils.py\u001b[0m in \u001b[0;36m<listcomp>\u001b[0;34m(.0)\u001b[0m\n\u001b[1;32m    122\u001b[0m                 \u001b[0mfutures\u001b[0m\u001b[0;34m.\u001b[0m\u001b[0mappend\u001b[0m\u001b[0;34m(\u001b[0m\u001b[0mexecutor\u001b[0m\u001b[0;34m.\u001b[0m\u001b[0msubmit\u001b[0m\u001b[0;34m(\u001b[0m\u001b[0mfuncs\u001b[0m\u001b[0;34m[\u001b[0m\u001b[0mi\u001b[0m\u001b[0;34m]\u001b[0m\u001b[0;34m,\u001b[0m \u001b[0;34m*\u001b[0m\u001b[0m_args\u001b[0m\u001b[0;34m,\u001b[0m \u001b[0;34m**\u001b[0m\u001b[0m_kwargs\u001b[0m\u001b[0;34m)\u001b[0m\u001b[0;34m)\u001b[0m\u001b[0;34m\u001b[0m\u001b[0;34m\u001b[0m\u001b[0m\n\u001b[1;32m    123\u001b[0m \u001b[0;34m\u001b[0m\u001b[0m\n\u001b[0;32m--> 124\u001b[0;31m         \u001b[0mlocal_shares\u001b[0m \u001b[0;34m=\u001b[0m \u001b[0;34m[\u001b[0m\u001b[0mf\u001b[0m\u001b[0;34m.\u001b[0m\u001b[0mresult\u001b[0m\u001b[0;34m(\u001b[0m\u001b[0;34m)\u001b[0m \u001b[0;32mfor\u001b[0m \u001b[0mf\u001b[0m \u001b[0;32min\u001b[0m \u001b[0mfutures\u001b[0m\u001b[0;34m]\u001b[0m\u001b[0;34m\u001b[0m\u001b[0;34m\u001b[0m\u001b[0m\n\u001b[0m\u001b[1;32m    125\u001b[0m \u001b[0;34m\u001b[0m\u001b[0m\n\u001b[1;32m    126\u001b[0m         \u001b[0;32mreturn\u001b[0m \u001b[0mlocal_shares\u001b[0m\u001b[0;34m\u001b[0m\u001b[0;34m\u001b[0m\u001b[0m\n",
      "\u001b[0;32m/opt/conda/lib/python3.9/concurrent/futures/_base.py\u001b[0m in \u001b[0;36mresult\u001b[0;34m(self, timeout)\u001b[0m\n\u001b[1;32m    436\u001b[0m                     \u001b[0;32mraise\u001b[0m \u001b[0mCancelledError\u001b[0m\u001b[0;34m(\u001b[0m\u001b[0;34m)\u001b[0m\u001b[0;34m\u001b[0m\u001b[0;34m\u001b[0m\u001b[0m\n\u001b[1;32m    437\u001b[0m                 \u001b[0;32melif\u001b[0m \u001b[0mself\u001b[0m\u001b[0;34m.\u001b[0m\u001b[0m_state\u001b[0m \u001b[0;34m==\u001b[0m \u001b[0mFINISHED\u001b[0m\u001b[0;34m:\u001b[0m\u001b[0;34m\u001b[0m\u001b[0;34m\u001b[0m\u001b[0m\n\u001b[0;32m--> 438\u001b[0;31m                     \u001b[0;32mreturn\u001b[0m \u001b[0mself\u001b[0m\u001b[0;34m.\u001b[0m\u001b[0m__get_result\u001b[0m\u001b[0;34m(\u001b[0m\u001b[0;34m)\u001b[0m\u001b[0;34m\u001b[0m\u001b[0;34m\u001b[0m\u001b[0m\n\u001b[0m\u001b[1;32m    439\u001b[0m \u001b[0;34m\u001b[0m\u001b[0m\n\u001b[1;32m    440\u001b[0m                 \u001b[0mself\u001b[0m\u001b[0;34m.\u001b[0m\u001b[0m_condition\u001b[0m\u001b[0;34m.\u001b[0m\u001b[0mwait\u001b[0m\u001b[0;34m(\u001b[0m\u001b[0mtimeout\u001b[0m\u001b[0;34m)\u001b[0m\u001b[0;34m\u001b[0m\u001b[0;34m\u001b[0m\u001b[0m\n",
      "\u001b[0;32m/opt/conda/lib/python3.9/concurrent/futures/_base.py\u001b[0m in \u001b[0;36m__get_result\u001b[0;34m(self)\u001b[0m\n\u001b[1;32m    388\u001b[0m         \u001b[0;32mif\u001b[0m \u001b[0mself\u001b[0m\u001b[0;34m.\u001b[0m\u001b[0m_exception\u001b[0m\u001b[0;34m:\u001b[0m\u001b[0;34m\u001b[0m\u001b[0;34m\u001b[0m\u001b[0m\n\u001b[1;32m    389\u001b[0m             \u001b[0;32mtry\u001b[0m\u001b[0;34m:\u001b[0m\u001b[0;34m\u001b[0m\u001b[0;34m\u001b[0m\u001b[0m\n\u001b[0;32m--> 390\u001b[0;31m                 \u001b[0;32mraise\u001b[0m \u001b[0mself\u001b[0m\u001b[0;34m.\u001b[0m\u001b[0m_exception\u001b[0m\u001b[0;34m\u001b[0m\u001b[0;34m\u001b[0m\u001b[0m\n\u001b[0m\u001b[1;32m    391\u001b[0m             \u001b[0;32mfinally\u001b[0m\u001b[0;34m:\u001b[0m\u001b[0;34m\u001b[0m\u001b[0;34m\u001b[0m\u001b[0m\n\u001b[1;32m    392\u001b[0m                 \u001b[0;31m# Break a reference cycle with the exception in self._exception\u001b[0m\u001b[0;34m\u001b[0m\u001b[0;34m\u001b[0m\u001b[0;34m\u001b[0m\u001b[0m\n",
      "\u001b[0;32m/opt/conda/lib/python3.9/concurrent/futures/thread.py\u001b[0m in \u001b[0;36mrun\u001b[0;34m(self)\u001b[0m\n\u001b[1;32m     50\u001b[0m \u001b[0;34m\u001b[0m\u001b[0m\n\u001b[1;32m     51\u001b[0m         \u001b[0;32mtry\u001b[0m\u001b[0;34m:\u001b[0m\u001b[0;34m\u001b[0m\u001b[0;34m\u001b[0m\u001b[0m\n\u001b[0;32m---> 52\u001b[0;31m             \u001b[0mresult\u001b[0m \u001b[0;34m=\u001b[0m \u001b[0mself\u001b[0m\u001b[0;34m.\u001b[0m\u001b[0mfn\u001b[0m\u001b[0;34m(\u001b[0m\u001b[0;34m*\u001b[0m\u001b[0mself\u001b[0m\u001b[0;34m.\u001b[0m\u001b[0margs\u001b[0m\u001b[0;34m,\u001b[0m \u001b[0;34m**\u001b[0m\u001b[0mself\u001b[0m\u001b[0;34m.\u001b[0m\u001b[0mkwargs\u001b[0m\u001b[0;34m)\u001b[0m\u001b[0;34m\u001b[0m\u001b[0;34m\u001b[0m\u001b[0m\n\u001b[0m\u001b[1;32m     53\u001b[0m         \u001b[0;32mexcept\u001b[0m \u001b[0mBaseException\u001b[0m \u001b[0;32mas\u001b[0m \u001b[0mexc\u001b[0m\u001b[0;34m:\u001b[0m\u001b[0;34m\u001b[0m\u001b[0;34m\u001b[0m\u001b[0m\n\u001b[1;32m     54\u001b[0m             \u001b[0mself\u001b[0m\u001b[0;34m.\u001b[0m\u001b[0mfuture\u001b[0m\u001b[0;34m.\u001b[0m\u001b[0mset_exception\u001b[0m\u001b[0;34m(\u001b[0m\u001b[0mexc\u001b[0m\u001b[0;34m)\u001b[0m\u001b[0;34m\u001b[0m\u001b[0;34m\u001b[0m\u001b[0m\n",
      "\u001b[0;32m/SyMPC/src/sympc/tensor/share_tensor.py\u001b[0m in \u001b[0;36m_request_and_get\u001b[0;34m(share_ptr)\u001b[0m\n\u001b[1;32m    522\u001b[0m                 \u001b[0mshare_ptr\u001b[0m\u001b[0;34m.\u001b[0m\u001b[0mrequest\u001b[0m\u001b[0;34m(\u001b[0m\u001b[0mblock\u001b[0m\u001b[0;34m=\u001b[0m\u001b[0;32mTrue\u001b[0m\u001b[0;34m)\u001b[0m\u001b[0;34m\u001b[0m\u001b[0;34m\u001b[0m\u001b[0m\n\u001b[1;32m    523\u001b[0m \u001b[0;34m\u001b[0m\u001b[0m\n\u001b[0;32m--> 524\u001b[0;31m             \u001b[0mres\u001b[0m \u001b[0;34m=\u001b[0m \u001b[0mshare_ptr\u001b[0m\u001b[0;34m.\u001b[0m\u001b[0mget_copy\u001b[0m\u001b[0;34m(\u001b[0m\u001b[0;34m)\u001b[0m\u001b[0;34m\u001b[0m\u001b[0;34m\u001b[0m\u001b[0m\n\u001b[0m\u001b[1;32m    525\u001b[0m             \u001b[0;32mreturn\u001b[0m \u001b[0mres\u001b[0m\u001b[0;34m\u001b[0m\u001b[0;34m\u001b[0m\u001b[0m\n\u001b[1;32m    526\u001b[0m \u001b[0;34m\u001b[0m\u001b[0m\n",
      "\u001b[0;32m/opt/conda/lib/python3.9/site-packages/syft/core/pointer/pointer.py\u001b[0m in \u001b[0;36mget_copy\u001b[0;34m(self, request_block, timeout_secs, reason, verbose)\u001b[0m\n\u001b[1;32m    197\u001b[0m         \u001b[0;34m:\u001b[0m\u001b[0mrtype\u001b[0m\u001b[0;34m:\u001b[0m \u001b[0mOptional\u001b[0m\u001b[0;34m[\u001b[0m\u001b[0mStorableObject\u001b[0m\u001b[0;34m]\u001b[0m\u001b[0;34m\u001b[0m\u001b[0;34m\u001b[0m\u001b[0m\n\u001b[1;32m    198\u001b[0m         \"\"\"\n\u001b[0;32m--> 199\u001b[0;31m         return self.get(\n\u001b[0m\u001b[1;32m    200\u001b[0m             \u001b[0mrequest_block\u001b[0m\u001b[0;34m=\u001b[0m\u001b[0mrequest_block\u001b[0m\u001b[0;34m,\u001b[0m\u001b[0;34m\u001b[0m\u001b[0;34m\u001b[0m\u001b[0m\n\u001b[1;32m    201\u001b[0m             \u001b[0mtimeout_secs\u001b[0m\u001b[0;34m=\u001b[0m\u001b[0mtimeout_secs\u001b[0m\u001b[0;34m,\u001b[0m\u001b[0;34m\u001b[0m\u001b[0;34m\u001b[0m\u001b[0m\n",
      "\u001b[0;32m/opt/conda/lib/python3.9/site-packages/syft/core/pointer/pointer.py\u001b[0m in \u001b[0;36mget\u001b[0;34m(self, request_block, timeout_secs, reason, delete_obj, verbose)\u001b[0m\n\u001b[1;32m    267\u001b[0m \u001b[0;34m\u001b[0m\u001b[0m\n\u001b[1;32m    268\u001b[0m         \u001b[0;32mif\u001b[0m \u001b[0;32mnot\u001b[0m \u001b[0mrequest_block\u001b[0m\u001b[0;34m:\u001b[0m\u001b[0;34m\u001b[0m\u001b[0;34m\u001b[0m\u001b[0m\n\u001b[0;32m--> 269\u001b[0;31m             \u001b[0mresult\u001b[0m \u001b[0;34m=\u001b[0m \u001b[0mself\u001b[0m\u001b[0;34m.\u001b[0m\u001b[0m_get\u001b[0m\u001b[0;34m(\u001b[0m\u001b[0mdelete_obj\u001b[0m\u001b[0;34m=\u001b[0m\u001b[0mdelete_obj\u001b[0m\u001b[0;34m,\u001b[0m \u001b[0mverbose\u001b[0m\u001b[0;34m=\u001b[0m\u001b[0mverbose\u001b[0m\u001b[0;34m)\u001b[0m\u001b[0;34m\u001b[0m\u001b[0;34m\u001b[0m\u001b[0m\n\u001b[0m\u001b[1;32m    270\u001b[0m         \u001b[0;32melse\u001b[0m\u001b[0;34m:\u001b[0m\u001b[0;34m\u001b[0m\u001b[0;34m\u001b[0m\u001b[0m\n\u001b[1;32m    271\u001b[0m             response_status = self.request(\n",
      "\u001b[0;32m/opt/conda/lib/python3.9/site-packages/syft/core/pointer/pointer.py\u001b[0m in \u001b[0;36m_get\u001b[0;34m(self, delete_obj, verbose)\u001b[0m\n\u001b[1;32m    177\u001b[0m         )\n\u001b[1;32m    178\u001b[0m \u001b[0;34m\u001b[0m\u001b[0m\n\u001b[0;32m--> 179\u001b[0;31m         \u001b[0mobj\u001b[0m \u001b[0;34m=\u001b[0m \u001b[0mself\u001b[0m\u001b[0;34m.\u001b[0m\u001b[0mclient\u001b[0m\u001b[0;34m.\u001b[0m\u001b[0msend_immediate_msg_with_reply\u001b[0m\u001b[0;34m(\u001b[0m\u001b[0mmsg\u001b[0m\u001b[0;34m=\u001b[0m\u001b[0mobj_msg\u001b[0m\u001b[0;34m)\u001b[0m\u001b[0;34m.\u001b[0m\u001b[0mdata\u001b[0m\u001b[0;34m\u001b[0m\u001b[0;34m\u001b[0m\u001b[0m\n\u001b[0m\u001b[1;32m    180\u001b[0m         \u001b[0;32mif\u001b[0m \u001b[0mself\u001b[0m\u001b[0;34m.\u001b[0m\u001b[0mis_enum\u001b[0m\u001b[0;34m:\u001b[0m\u001b[0;34m\u001b[0m\u001b[0;34m\u001b[0m\u001b[0m\n\u001b[1;32m    181\u001b[0m             \u001b[0menum_class\u001b[0m \u001b[0;34m=\u001b[0m \u001b[0mself\u001b[0m\u001b[0;34m.\u001b[0m\u001b[0mclient\u001b[0m\u001b[0;34m.\u001b[0m\u001b[0mlib_ast\u001b[0m\u001b[0;34m.\u001b[0m\u001b[0mquery\u001b[0m\u001b[0;34m(\u001b[0m\u001b[0mself\u001b[0m\u001b[0;34m.\u001b[0m\u001b[0mpath_and_name\u001b[0m\u001b[0;34m)\u001b[0m\u001b[0;34m.\u001b[0m\u001b[0mobject_ref\u001b[0m\u001b[0;34m\u001b[0m\u001b[0;34m\u001b[0m\u001b[0m\n",
      "\u001b[0;32m/opt/conda/lib/python3.9/site-packages/syft/core/node/common/client.py\u001b[0m in \u001b[0;36msend_immediate_msg_with_reply\u001b[0;34m(self, msg, route_index)\u001b[0m\n\u001b[1;32m    234\u001b[0m                 \u001b[0mexception\u001b[0m \u001b[0;34m=\u001b[0m \u001b[0mexception_msg\u001b[0m\u001b[0;34m.\u001b[0m\u001b[0mexception_type\u001b[0m\u001b[0;34m(\u001b[0m\u001b[0mexception_msg\u001b[0m\u001b[0;34m.\u001b[0m\u001b[0mexception_msg\u001b[0m\u001b[0;34m)\u001b[0m\u001b[0;34m\u001b[0m\u001b[0;34m\u001b[0m\u001b[0m\n\u001b[1;32m    235\u001b[0m                 \u001b[0merror\u001b[0m\u001b[0;34m(\u001b[0m\u001b[0mstr\u001b[0m\u001b[0;34m(\u001b[0m\u001b[0mexception\u001b[0m\u001b[0;34m)\u001b[0m\u001b[0;34m)\u001b[0m\u001b[0;34m\u001b[0m\u001b[0;34m\u001b[0m\u001b[0m\n\u001b[0;32m--> 236\u001b[0;31m                 \u001b[0mtraceback_and_raise\u001b[0m\u001b[0;34m(\u001b[0m\u001b[0mexception\u001b[0m\u001b[0;34m)\u001b[0m\u001b[0;34m\u001b[0m\u001b[0;34m\u001b[0m\u001b[0m\n\u001b[0m\u001b[1;32m    237\u001b[0m             \u001b[0;32melse\u001b[0m\u001b[0;34m:\u001b[0m\u001b[0;34m\u001b[0m\u001b[0;34m\u001b[0m\u001b[0m\n\u001b[1;32m    238\u001b[0m                 \u001b[0;32mreturn\u001b[0m \u001b[0mresponse\u001b[0m\u001b[0;34m.\u001b[0m\u001b[0mmessage\u001b[0m\u001b[0;34m\u001b[0m\u001b[0;34m\u001b[0m\u001b[0m\n",
      "\u001b[0;32m/opt/conda/lib/python3.9/site-packages/syft/logger.py\u001b[0m in \u001b[0;36mtraceback_and_raise\u001b[0;34m(e, verbose)\u001b[0m\n\u001b[1;32m     59\u001b[0m     \u001b[0;32mif\u001b[0m \u001b[0;32mnot\u001b[0m \u001b[0missubclass\u001b[0m\u001b[0;34m(\u001b[0m\u001b[0mtype\u001b[0m\u001b[0;34m(\u001b[0m\u001b[0me\u001b[0m\u001b[0;34m)\u001b[0m\u001b[0;34m,\u001b[0m \u001b[0mException\u001b[0m\u001b[0;34m)\u001b[0m\u001b[0;34m:\u001b[0m\u001b[0;34m\u001b[0m\u001b[0;34m\u001b[0m\u001b[0m\n\u001b[1;32m     60\u001b[0m         \u001b[0me\u001b[0m \u001b[0;34m=\u001b[0m \u001b[0mException\u001b[0m\u001b[0;34m(\u001b[0m\u001b[0me\u001b[0m\u001b[0;34m)\u001b[0m\u001b[0;34m\u001b[0m\u001b[0;34m\u001b[0m\u001b[0m\n\u001b[0;32m---> 61\u001b[0;31m     \u001b[0;32mraise\u001b[0m \u001b[0me\u001b[0m\u001b[0;34m\u001b[0m\u001b[0;34m\u001b[0m\u001b[0m\n\u001b[0m\u001b[1;32m     62\u001b[0m \u001b[0;34m\u001b[0m\u001b[0m\n\u001b[1;32m     63\u001b[0m \u001b[0;34m\u001b[0m\u001b[0m\n",
      "\u001b[0;31mUnknownPrivateException\u001b[0m: UnknownPrivateException has been triggered."
     ]
    },
    {
     "name": "stderr",
     "output_type": "stream",
     "text": [
      "ERROR:asyncio:Exception in callback <TaskWakeupMethWrapper object at 0x7fe5f75e1640>(<Future finis...670>, ...],))>)\n",
      "handle: <Handle <TaskWakeupMethWrapper object at 0x7fe5f75e1640>(<Future finis...670>, ...],))>)>\n",
      "Traceback (most recent call last):\n",
      "  File \"/opt/conda/lib/python3.9/asyncio/events.py\", line 80, in _run\n",
      "    self._context.run(self._callback, *self._args)\n",
      "RuntimeError: Leaving task <Task pending name='Task-1' coro=<Kernel.dispatch_queue() running at /opt/conda/lib/python3.9/site-packages/ipykernel/kernelbase.py:457> wait_for=<Future pending cb=[<TaskWakeupMethWrapper object at 0x7fe5f7d09c70>()]> cb=[IOLoop.add_future.<locals>.<lambda>() at /opt/conda/lib/python3.9/site-packages/tornado/ioloop.py:688]> does not match the current task <Task pending name='Task-118' coro=<RTCDtlsTransport.__run() running at /opt/conda/lib/python3.9/site-packages/aiortc/rtcdtlstransport.py:531> wait_for=<Future pending cb=[Task.__wakeup()]>>.\n",
      "ERROR:asyncio:Exception in callback Transaction.__retry()\n",
      "handle: <TimerHandle when=34239.981900306 Transaction.__retry()>\n",
      "Traceback (most recent call last):\n",
      "  File \"/opt/conda/lib/python3.9/asyncio/events.py\", line 80, in _run\n",
      "    self._context.run(self._callback, *self._args)\n",
      "  File \"/opt/conda/lib/python3.9/site-packages/aioice/stun.py\", line 306, in __retry\n",
      "    self.__future.set_exception(TransactionTimeout())\n",
      "  File \"/opt/conda/lib/python3.9/asyncio/futures.py\", line 270, in set_exception\n",
      "    raise exceptions.InvalidStateError(f'{self._state}: {self!r}')\n",
      "asyncio.exceptions.InvalidStateError: FINISHED: <Future finished result=(Message(messa...\\x06\\xe8\\xe5'), ('172.25.0.2', 34217))>\n",
      "ERROR:asyncio:Exception in callback Transaction.__retry()\n",
      "handle: <TimerHandle when=34240.863308032 Transaction.__retry()>\n",
      "Traceback (most recent call last):\n",
      "  File \"/opt/conda/lib/python3.9/asyncio/events.py\", line 80, in _run\n",
      "    self._context.run(self._callback, *self._args)\n",
      "  File \"/opt/conda/lib/python3.9/site-packages/aioice/stun.py\", line 306, in __retry\n",
      "    self.__future.set_exception(TransactionTimeout())\n",
      "  File \"/opt/conda/lib/python3.9/asyncio/futures.py\", line 270, in set_exception\n",
      "    raise exceptions.InvalidStateError(f'{self._state}: {self!r}')\n",
      "asyncio.exceptions.InvalidStateError: FINISHED: <Future finished result=(Message(messa...6`a\\x1f\\xb3'\"), ('172.25.0.4', 47923))>\n",
      "ERROR:asyncio:Exception in callback Transaction.__retry()\n",
      "handle: <TimerHandle when=41665.808126357 Transaction.__retry()>\n",
      "Traceback (most recent call last):\n",
      "  File \"/opt/conda/lib/python3.9/asyncio/events.py\", line 80, in _run\n",
      "    self._context.run(self._callback, *self._args)\n",
      "  File \"/opt/conda/lib/python3.9/site-packages/aioice/stun.py\", line 306, in __retry\n",
      "    self.__future.set_exception(TransactionTimeout())\n",
      "  File \"/opt/conda/lib/python3.9/asyncio/futures.py\", line 270, in set_exception\n",
      "    raise exceptions.InvalidStateError(f'{self._state}: {self!r}')\n",
      "asyncio.exceptions.InvalidStateError: FINISHED: <Future finished result=(Message(messa...b7:<\\xd0\\xbe'), ('172.25.0.4', 47923))>\n",
      "ERROR:asyncio:Exception in callback Transaction.__retry()\n",
      "handle: <TimerHandle when=98681.528018057 Transaction.__retry()>\n",
      "Traceback (most recent call last):\n",
      "  File \"/opt/conda/lib/python3.9/asyncio/events.py\", line 80, in _run\n",
      "    self._context.run(self._callback, *self._args)\n",
      "  File \"/opt/conda/lib/python3.9/site-packages/aioice/stun.py\", line 306, in __retry\n",
      "    self.__future.set_exception(TransactionTimeout())\n",
      "  File \"/opt/conda/lib/python3.9/asyncio/futures.py\", line 270, in set_exception\n",
      "    raise exceptions.InvalidStateError(f'{self._state}: {self!r}')\n",
      "asyncio.exceptions.InvalidStateError: FINISHED: <Future finished result=(Message(messa...xa1\\xbbP\\xcc'), ('172.25.0.3', 51119))>\n",
      "ERROR:asyncio:Exception in callback Transaction.__retry()\n",
      "handle: <TimerHandle when=99051.222080757 Transaction.__retry()>\n",
      "Traceback (most recent call last):\n",
      "  File \"/opt/conda/lib/python3.9/asyncio/events.py\", line 80, in _run\n",
      "    self._context.run(self._callback, *self._args)\n",
      "  File \"/opt/conda/lib/python3.9/site-packages/aioice/stun.py\", line 306, in __retry\n",
      "    self.__future.set_exception(TransactionTimeout())\n",
      "  File \"/opt/conda/lib/python3.9/asyncio/futures.py\", line 270, in set_exception\n",
      "    raise exceptions.InvalidStateError(f'{self._state}: {self!r}')\n",
      "asyncio.exceptions.InvalidStateError: FINISHED: <Future finished result=(Message(messa...a\\x01@\\x83@C'), ('172.25.0.4', 47923))>\n",
      "ERROR:asyncio:Exception in callback Transaction.__retry()\n",
      "handle: <TimerHandle when=99112.455214957 Transaction.__retry()>\n",
      "Traceback (most recent call last):\n",
      "  File \"/opt/conda/lib/python3.9/asyncio/events.py\", line 80, in _run\n",
      "    self._context.run(self._callback, *self._args)\n",
      "  File \"/opt/conda/lib/python3.9/site-packages/aioice/stun.py\", line 306, in __retry\n",
      "    self.__future.set_exception(TransactionTimeout())\n",
      "  File \"/opt/conda/lib/python3.9/asyncio/futures.py\", line 270, in set_exception\n",
      "    raise exceptions.InvalidStateError(f'{self._state}: {self!r}')\n",
      "asyncio.exceptions.InvalidStateError: FINISHED: <Future finished result=(Message(messa...\\xd1\\xcb\\x91'), ('172.25.0.4', 47923))>\n"
     ]
    }
   ],
   "source": [
    "# Do basic arithmetic operations on the MPCTensors\n",
    "print(\"X + Y + Z = \",(x + y + z).reconstruct())"
   ]
  },
  {
   "cell_type": "markdown",
   "id": "e38b7254",
   "metadata": {},
   "source": [
    "---\n",
    "\n",
    "### 5 – Terminate Controller\n",
    "\n",
    "Whenever you have finished with this notebook, be sure to terminate the controller. This is especially important if your business logic runs across multiple notebooks."
   ]
  },
  {
   "cell_type": "code",
   "execution_count": null,
   "id": "f49c5448",
   "metadata": {},
   "outputs": [],
   "source": [
    "await agent_controller.terminate()"
   ]
  },
  {
   "cell_type": "markdown",
   "id": "ee9d9bd6",
   "metadata": {
    "pycharm": {
     "name": "#%% md\n"
    }
   },
   "source": [
    "---\n",
    "\n",
    "## 🔥🔥🔥 You can close this notebook now 🔥🔥🔥"
   ]
  },
  {
   "cell_type": "code",
   "execution_count": null,
   "id": "0d9f81be",
   "metadata": {
    "collapsed": false,
    "jupyter": {
     "outputs_hidden": false
    },
    "pycharm": {
     "name": "#%%\n"
    }
   },
   "outputs": [],
   "source": []
  }
 ],
 "metadata": {
  "kernelspec": {
   "display_name": "Python 3 (ipykernel)",
   "language": "python",
   "name": "python3"
  },
  "language_info": {
   "codemirror_mode": {
    "name": "ipython",
    "version": 3
   },
   "file_extension": ".py",
   "mimetype": "text/x-python",
   "name": "python",
   "nbconvert_exporter": "python",
   "pygments_lexer": "ipython3",
   "version": "3.9.5"
  }
 },
 "nbformat": 4,
 "nbformat_minor": 5
}
