{
 "cells": [
  {
   "cell_type": "markdown",
   "id": "c259c37a",
   "metadata": {},
   "source": [
    "# PETs/TETs – Hyperledger Aries – Manufacturer 1 (Holder)"
   ]
  },
  {
   "cell_type": "code",
   "id": "8f23a3ac",
   "metadata": {
    "pycharm": {
     "name": "#%%\n"
    }
   },
   "source": [
    "%%javascript\n",
    "document.title ='🏙️ City Agent'"
   ],
   "execution_count": null,
   "outputs": []
  },
  {
   "cell_type": "markdown",
   "id": "836551b4",
   "metadata": {
    "pycharm": {
     "name": "#%% md\n"
    }
   },
   "source": [
    "## PART 2: Issue a VC to the Manufacturer Agents\n",
    "\n",
    "**What:** -\n",
    "\n",
    "**Why:** -\n",
    "\n",
    "**How:** <br>\n",
    "\n",
    "\n",
    "**Accompanying Notebooks:** `02_issue_VC_manufacturers.ipynb`"
   ]
  },
  {
   "cell_type": "markdown",
   "id": "83e5f145",
   "metadata": {
    "pycharm": {
     "name": "#%% md\n"
    }
   },
   "source": [
    "### 0 - Setup\n",
    "#### 0.1 - Imports"
   ]
  },
  {
   "cell_type": "code",
   "id": "2792a6da",
   "metadata": {
    "pycharm": {
     "name": "#%%\n"
    }
   },
   "source": [
    "from aries_cloudcontroller import AriesAgentController\n",
    "import libs.helpers as helpers\n",
    "from libs.agent_connection_manager import CredentialHolder\n",
    "import os\n",
    "from termcolor import colored"
   ],
   "execution_count": null,
   "outputs": []
  },
  {
   "cell_type": "markdown",
   "id": "e1091a8e",
   "metadata": {
    "pycharm": {
     "name": "#%% md\n"
    }
   },
   "source": [
    "#### 0.2 – Variables"
   ]
  },
  {
   "cell_type": "code",
   "id": "dc3826ae",
   "metadata": {
    "pycharm": {
     "name": "#%%\n"
    }
   },
   "source": [
    "# Get relevant details from .env file\n",
    "api_key = os.getenv(\"ACAPY_ADMIN_API_KEY\")\n",
    "admin_url = os.getenv(\"ADMIN_URL\")\n",
    "webhook_port = int(os.getenv(\"WEBHOOK_PORT\"))\n",
    "webhook_host = \"0.0.0.0\""
   ],
   "execution_count": null,
   "outputs": []
  },
  {
   "cell_type": "code",
   "execution_count": 6,
   "id": "bb427343",
   "metadata": {},
   "outputs": [
    {
     "name": "stdout",
     "output_type": "stream",
     "text": [
      "Listening for webhooks from agent at http://0.0.0.0:3010\n"
     ]
    }
   ],
   "source": [
    "# Setup\n",
    "agent_controller = AriesAgentController(admin_url,api_key)\n",
    "print(f\"Initialising a controller with admin api at {admin_url} and an api key of {api_key}\")"
   ]
  },
  {
   "cell_type": "markdown",
   "id": "4555f559",
   "metadata": {},
   "source": [
    "#### 1.2 – Start Webhook Server to enable communication with other agents\n",
    "@todo: is communication with other agents, or with other docker containers?"
   ]
  },
  {
   "cell_type": "code",
   "execution_count": 7,
   "id": "81b78615",
   "metadata": {},
   "outputs": [],
   "source": [
    "# Listen on webhook server\n",
    "await agent_controller.init_webhook_server(webhook_host, webhook_port)\n",
    "print(f\"Listening for webhooks from agent at http://{webhook_host}:{webhook_port}\")"
   ]
  },
  {
   "cell_type": "markdown",
   "id": "95a9e081",
   "metadata": {
    "pycharm": {
     "name": "#%% md\n"
    }
   },
   "source": [
    "#### 1.3 – Init ACM issuing authority"
   ]
  },
  {
   "cell_type": "code",
   "id": "7faea1c2",
   "metadata": {
    "pycharm": {
     "name": "#%%\n"
    }
   },
   "source": [
    "# The CredentialHolder registers relevant webhook servers and event listeners\n",
    "city_agent = CredentialHolder(agent_controller)\n",
    "\n",
    "# Verify if Manufacturer already has a VC (if no, there is no need to execute the notebook)\n",
    "city_agent.get_credentials()\n"
   ],
   "execution_count": null,
   "outputs": []
  },
  {
   "cell_type": "markdown",
   "id": "4a04953a",
   "metadata": {
    "pycharm": {
     "name": "#%% md\n"
    }
   },
   "source": [
    "## 2 – Establish a connection with the Authority agent\n",
    "A connection with the credential issuer (i.e., the authority agent) must be established before a VC can be received. In this scenario, the City requests a connection with the Authority to be certified as an official city agency. Thus, the city agent sends an invitation to the Authority. In real life, the invitation can be shared via video call, phone call, or E-Mail. In this PoC, this is represented by copy and pasting the invitation into the city's notebook.\n",
    "\n",
    "### 2.1 Create invitation to Authority agent"
   ]
  },
  {
   "cell_type": "code",
   "id": "b6cb854b",
   "metadata": {
    "pycharm": {
     "name": "#%%\n"
    }
   },
   "source": [
    "# Setup for connection with Authority agent\n",
    "alias = None\n",
    "auto_accept = True # Accept response of Authority agent right away\n",
    "public = False # Do not use public DID\n",
    "multi_use = False # Invitation is only for one invitee\n",
    "label = label\n",
    "\n",
    "connection_id = city_agent.create_connection_invitation(alias=alias, auto_accept=auto_accept, public=public, multi_use=multi_use, label=label)"
   ],
   "execution_count": null,
   "outputs": []
  },
  {
   "cell_type": "markdown",
   "id": "f20f0714",
   "metadata": {
    "pycharm": {
     "name": "#%% md\n"
    }
   },
   "source": [
    "<div style=\"font-size: 25px\"><center><b>Break Point 2</b></center></div>\n",
    "<div style=\"font-size: 50px\"><center>🏙️ ➡️ 🏛</center></div><br>\n",
    "<center>Please switch to the Authority agent 🏛: Execute Step 2.1, and enter the invitation when prompted.</center>\n",
    "\n",
    "---"
   ]
  },
  {
   "cell_type": "markdown",
   "id": "56baa1bb",
   "metadata": {},
   "source": [
    "## 3 – Request VC from `Authority` agent\n",
    "### 3.1 – Message `Authority` to request a VC"
   ]
  },
  {
   "cell_type": "code",
   "execution_count": 11,
   "id": "1215f267",
   "metadata": {},
   "outputs": [
    {
     "name": "stdout",
     "output_type": "stream",
     "text": [
      "Copy the following dict and past it into the Authority agency\n",
      "{\n",
      "    '@id': '1a4ef9a6-2dc4-4eae-b6b2-6003b1903aa2',\n",
      "    '@type': 'did:sov:BzCbsNYhMrjHiqZDTUASHg;spec/connections/1.0/invitation',\n",
      "    'label': 'City',\n",
      "    'recipientKeys': ['2HBfxB6MbCXv8tDAriinYY5BzT8gZUtUYKAQ1VXDNDmF'],\n",
      "    'serviceEndpoint': 'https://80a67f24c0cb.ngrok.io',\n",
      "}\n",
      "----------------------------------------------------------\n",
      "Connection Webhook Event Received\n",
      "Connection ID :  7a04ff63-a269-44a5-94af-decb75ba51f7\n",
      "State :  request\n",
      "Routing State :  none\n",
      "Their Role :  invitee\n",
      "----------------------------------------------------------\n",
      "request\n"
     ]
    }
   ],
   "source": [
    "city_agent.send_message(connection_id, \"testing connection\")"
   ]
  },
  {
   "cell_type": "code",
   "id": "da655e50",
   "metadata": {
    "pycharm": {
     "name": "#%%\n"
    }
   },
   "source": [
    "basic_message = \"Hello Authority agent\"\n",
    "await agent_controller.messaging.send_message(connection_id, basic_message)"
   ],
   "execution_count": null,
   "outputs": []
  },
  {
   "cell_type": "markdown",
   "id": "9001aa37",
   "metadata": {
    "pycharm": {
     "name": "#%% md\n"
    }
   },
   "source": [
    "**BREAK POINT:** Go to Step 3 in the `01_issue_VC_city.ipynb` notebook of the `Authority` agent.\n",
    "\n",
    "---"
   ]
  },
  {
   "cell_type": "markdown",
   "id": "39b3cf10",
   "metadata": {},
   "source": [
    "### 3.1 – Provide `Authority` with the relevant information to issue a VC"
   ]
  },
  {
   "cell_type": "code",
   "execution_count": 13,
   "id": "612c198f",
   "metadata": {},
   "outputs": [
    {
     "data": {
      "text/plain": [
       "{'thread_id': '7079dec1-8d30-4ec1-9431-edfc11f8f6e9'}"
      ]
     },
     "execution_count": 13,
     "metadata": {},
     "output_type": "execute_result"
    },
    {
     "name": "stdout",
     "output_type": "stream",
     "text": [
      "----------------------------------------------------------\n",
      "Connection Webhook Event Received\n",
      "Connection ID :  7a04ff63-a269-44a5-94af-decb75ba51f7\n",
      "State :  active\n",
      "Routing State :  none\n",
      "Their Role :  invitee\n",
      "----------------------------------------------------------\n",
      "\u001B[1m\u001B[32mConnection ID: 7a04ff63-a269-44a5-94af-decb75ba51f7 is now active.\u001B[0m\n"
     ]
    }
   ],
   "source": [
    "basic_message = '{\"manufacturerName\": \"undisclosedName1\", \"manufacturerCountry\": \"DE\", \"manufacturerCity\": \"Munich\"}'\n",
    "await agent_controller.messaging.send_message(connection_id, basic_message)"
   ]
  },
  {
   "cell_type": "markdown",
   "id": "4c29b5ec",
   "metadata": {},
   "source": [
    "**BREAK POINT:** Return to step \n",
    "\n",
    "---\n",
    "\n",
    "\n",
    "### 3.2 – Request VC from `Authority`'s Offer\n",
    "\n",
    "Note: Your agent will automatically respond if ACAPY_AUTO_RESPOND_CREDENTIAL_OFFER=true flag is set in .env file of agent. Default is false.\n",
    "\n",
    "To respond to an offer you must identify the offer using the credential_exchange_id generated for it. This is available from within the issue-credential holder handler. You could add custom logic in this loop `elif state == \"request\":` to handle this.\n",
    "\n",
    "However, we will fetch the credential exchange records and **assume** this agent only has one record. Customise accordingly."
   ]
  },
  {
   "cell_type": "code",
   "execution_count": 14,
   "id": "900b9c35",
   "metadata": {},
   "outputs": [
    {
     "data": {
      "text/plain": [
       "{}"
      ]
     },
     "execution_count": 14,
     "metadata": {},
     "output_type": "execute_result"
    },
    {
     "name": "stderr",
     "output_type": "stream",
     "text": [
      "/tmp/ipykernel_21/3503404827.py:75: RuntimeWarning: coroutine 'MessagingController.send_message' was never awaited\n",
      "  agent_controller.messaging.send_message(connection_id, \"This is a response from Bob\")\n",
      "RuntimeWarning: Enable tracemalloc to get the object allocation traceback\n"
     ]
    },
    {
     "name": "stdout",
     "output_type": "stream",
     "text": [
      "Handle message 7a04ff63-a269-44a5-94af-decb75ba51f7\n",
      "{\n",
      "    'connection_id': '7a04ff63-a269-44a5-94af-decb75ba51f7',\n",
      "    'content': 'Hello City. Please provide me your city and country.',\n",
      "    'message_id': '948fb0ff-e570-4eba-a9e4-ae007749db41',\n",
      "    'sent_time': '2021-08-09 14:19:22.306175Z',\n",
      "    'state': 'received',\n",
      "}\n"
     ]
    }
   ],
   "source": [
    "identifiers = fnc.get_identifiers()\n",
    "schema_id = identifiers[\"manufacturer_schema_identifiers\"][\"schema_id\"]\n",
    "schema_id"
   ]
  },
  {
   "cell_type": "code",
   "id": "738ed39e",
   "metadata": {
    "pycharm": {
     "name": "#%%\n"
    }
   },
   "source": [
    "city_agent.request_vc(connection_id, schema_id)"
   ],
   "execution_count": null,
   "outputs": []
  },
  {
   "cell_type": "markdown",
   "id": "67bd4f2b",
   "metadata": {},
   "source": [
    "### 3.3 – Store received VC in wallet\n",
    "\n",
    "This will be done automatically if the ACAPY_AUTO_STORE_CREDENTIAL=true flag is set in the .env file for this agent. Default is false.\n",
    "\n",
    "Again you could handle this in your holder handler function in the `elif state == \"credential_received\":` loop."
   ]
  },
  {
   "cell_type": "code",
   "execution_count": 15,
   "id": "73d16309",
   "metadata": {},
   "outputs": [
    {
     "data": {
      "text/plain": [
       "{}"
      ]
     },
     "execution_count": 15,
     "metadata": {},
     "output_type": "execute_result"
    },
    {
     "name": "stdout",
     "output_type": "stream",
     "text": [
      "\n",
      "---------------------------------------------------\n",
      "\n",
      "Handle Issue Credential Webhook\n",
      "Connection ID : 7a04ff63-a269-44a5-94af-decb75ba51f7\n",
      "Credential exchange ID : cbc6367d-3e65-4705-8c7a-e24c5af0d96a\n",
      "Agent Protocol Role :  holder\n",
      "Protocol State :  offer_received\n",
      "\n",
      "---------------------------------------------------\n",
      "\n",
      "Handle Credential Webhook Payload\n",
      "Credential Offer Recieved\n",
      "The proposal dictionary is likely how you would understand and display a credential offer in your application\n",
      "\n",
      " {'@type': 'did:sov:BzCbsNYhMrjHiqZDTUASHg;spec/issue-credential/1.0/propose-credential', '@id': '6341c9c8-6c12-4bdf-858e-59169269f2e9', 'credential_proposal': {'@type': 'did:sov:BzCbsNYhMrjHiqZDTUASHg;spec/issue-credential/1.0/credential-preview', 'attributes': [{'name': 'city', 'value': 'Berlin'}, {'name': 'country', 'value': 'DE'}, {'name': 'isCityAgency', 'value': 'TRUE'}]}, 'schema_id': 'MTXSc4YD8wixyM9ekZbmMC:2:certify-city-agency:0.0.1', 'comment': 'Issuing VC that City is an agency', 'cred_def_id': 'MTXSc4YD8wixyM9ekZbmMC:3:CL:246685:default'}\n",
      "\n",
      " This includes the set of attributes you are being offered\n",
      "[{'name': 'city', 'value': 'Berlin'}, {'name': 'country', 'value': 'DE'}, {'name': 'isCityAgency', 'value': 'TRUE'}]\n"
     ]
    }
   ],
   "source": [
    "city_agent.get_credentials()"
   ]
  },
  {
   "cell_type": "markdown",
   "id": "97b99417",
   "metadata": {},
   "source": [
    "## Terminate Controller\n",
    "\n",
    "Whenever you have finished with this notebook, be sure to terminate the controller. This is especially important if your business logic runs across multiple notebooks."
   ]
  },
  {
   "cell_type": "code",
   "execution_count": 19,
   "id": "6921e764",
   "metadata": {},
   "outputs": [],
   "source": [
    "await agent_controller.terminate()"
   ]
  },
  {
   "cell_type": "code",
   "execution_count": null,
   "id": "2c106fd6",
   "metadata": {},
   "outputs": [],
   "source": []
  }
 ],
 "metadata": {
  "kernelspec": {
   "display_name": "Python 3 (ipykernel)",
   "language": "python",
   "name": "python3"
  },
  "language_info": {
   "codemirror_mode": {
    "name": "ipython",
    "version": 3
   },
   "file_extension": ".py",
   "mimetype": "text/x-python",
   "name": "python",
   "nbconvert_exporter": "python",
   "pygments_lexer": "ipython3",
   "version": "3.9.5"
  }
 },
 "nbformat": 4,
 "nbformat_minor": 5
}