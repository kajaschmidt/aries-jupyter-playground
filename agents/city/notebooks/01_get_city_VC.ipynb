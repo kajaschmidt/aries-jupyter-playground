{
 "cells": [
  {
   "cell_type": "markdown",
   "id": "402fdf09",
   "metadata": {},
   "source": [
    "# Request VC from Authority\n",
    "\n",
    "This notebook is used in combination with notebook `01_issue_VC_city.ipynb` (see Authority agent). Break points indicate when to switch notebooks."
   ]
  },
  {
   "cell_type": "markdown",
   "id": "f50dceb4",
   "metadata": {},
   "source": [
    "#### Imports"
   ]
  },
  {
   "cell_type": "code",
   "execution_count": 3,
   "id": "c8257361",
   "metadata": {},
   "outputs": [
    {
     "data": {
      "application/javascript": [
       "document.title='City Agent'\n"
      ],
      "text/plain": [
       "<IPython.core.display.Javascript object>"
      ]
     },
     "metadata": {},
     "output_type": "display_data"
    }
   ],
   "source": [
    "%%javascript\n",
    "document.title='City Agent'"
   ]
  },
  {
   "cell_type": "code",
   "execution_count": 4,
   "id": "1afaeaed",
   "metadata": {},
   "outputs": [
    {
     "name": "stdout",
     "output_type": "stream",
     "text": [
      "IPython autoawait is `on`, and set to use `asyncio`\n"
     ]
    }
   ],
   "source": [
    "%autoawait \n",
    "from aries_cloudcontroller import AriesAgentController\n",
    "#import asyncio\n",
    "import os\n",
    "from pprintpp import pprint\n",
    "from termcolor import colored"
   ]
  },
  {
   "cell_type": "markdown",
   "id": "903ad7ac",
   "metadata": {},
   "source": [
    "#### Initialize agent controller of City"
   ]
  },
  {
   "cell_type": "code",
   "execution_count": 5,
   "id": "724232de",
   "metadata": {},
   "outputs": [
    {
     "name": "stdout",
     "output_type": "stream",
     "text": [
      "Initialising a controller with admin api at http://city-agent:3021 and an api key of adminApiKey\n"
     ]
    }
   ],
   "source": [
    "api_key = os.getenv(\"ACAPY_ADMIN_API_KEY\")\n",
    "admin_url = os.getenv(\"ADMIN_URL\")\n",
    "\n",
    "print(f\"Initialising a controller with admin api at {admin_url} and an api key of {api_key}\")\n",
    "agent_controller = AriesAgentController(admin_url,api_key)"
   ]
  },
  {
   "cell_type": "markdown",
   "id": "5b217bfc",
   "metadata": {},
   "source": [
    "## 1 – Init Webhook Server and register Event Listeners for it\n",
    "#### 1.1 – Start webhook server\n",
    "Start a webhook server to be able to communicate with other agents"
   ]
  },
  {
   "cell_type": "code",
   "execution_count": 6,
   "id": "10860133",
   "metadata": {},
   "outputs": [
    {
     "name": "stdout",
     "output_type": "stream",
     "text": [
      "Listening for webhooks from agent at http://0.0.0.0:3010\n"
     ]
    }
   ],
   "source": [
    "# Setup\n",
    "webhook_port = int(os.getenv(\"WEBHOOK_PORT\"))\n",
    "webhook_host = \"0.0.0.0\"\n",
    "\n",
    "# Listen on webhook server\n",
    "await agent_controller.init_webhook_server(webhook_host, webhook_port)\n",
    "print(f\"Listening for webhooks from agent at http://{webhook_host}:{webhook_port}\")"
   ]
  },
  {
   "cell_type": "markdown",
   "id": "8de4607d",
   "metadata": {},
   "source": [
    "#### 1.2 – Define listeners\n",
    "Define listeners that are triggered when something happens on the webhook server"
   ]
  },
  {
   "cell_type": "code",
   "execution_count": 7,
   "id": "187903f5",
   "metadata": {},
   "outputs": [],
   "source": [
    "# Receive connection messages\n",
    "def connections_handler(payload):\n",
    "    state = payload['state']\n",
    "    connection_id = payload[\"connection_id\"]\n",
    "    their_role = payload[\"their_role\"]\n",
    "    routing_state = payload[\"routing_state\"]\n",
    "    rfc_state = payload[\"rfc23_state\"]\n",
    "    \n",
    "    print(\"----------------------------------------------------------\")\n",
    "    print(\"Connection Webhook Event Received\")\n",
    "    print(\"Connection ID : \", connection_id)\n",
    "    print(\"State : \", state)\n",
    "    print(\"Routing State : {routing} ({rfc})\".format(routing=routing_state, rfc=rfc_state))\n",
    "    if 'their_label' in payload: \n",
    "        print(f\"Connection with : \", payload['their_label'])\n",
    "    print(\"Their Role : \", their_role)\n",
    "    print(\"----------------------------------------------------------\")\n",
    "\n",
    "    if state == \"invitation\":\n",
    "        # Your business logic\n",
    "        print(\"invitation\")\n",
    "    elif state == \"request\":\n",
    "        # Your business logic\n",
    "        print(\"request\")\n",
    "\n",
    "    elif state == \"response\":\n",
    "        # Your business logic\n",
    "        print(\"response\")\n",
    "    elif state == \"active\":\n",
    "        # Your business logic\n",
    "        print(colored(\"Connection ID: {0} is now active.\".format(connection_id), \"green\", attrs=[\"bold\"]))\n",
    "\n",
    "        \n",
    "## YOUR LISTENERS HERE\n",
    "def holder_handler(payload):\n",
    "    connection_id = payload['connection_id']\n",
    "    exchange_id = payload['credential_exchange_id']\n",
    "    state = payload['state']\n",
    "    role = payload['role']\n",
    "    print(\"\\n---------------------------------------------------\\n\")\n",
    "    print(\"Handle Issue Credential Webhook\")\n",
    "    print(f\"Connection ID : {connection_id}\")\n",
    "    print(f\"Credential exchange ID : {exchange_id}\")\n",
    "    print(\"Agent Protocol Role : \", role)\n",
    "    print(\"Protocol State : \", state )\n",
    "    print(\"\\n---------------------------------------------------\\n\")\n",
    "    print(\"Handle Credential Webhook Payload\")\n",
    "    \n",
    "    if state == \"offer_received\":\n",
    "        print(\"Credential Offer Recieved\")\n",
    "        proposal = payload[\"credential_proposal_dict\"]\n",
    "        print(\"The proposal dictionary is likely how you would understand and display a credential offer in your application\")\n",
    "        print(\"\\n\", proposal)\n",
    "        print(\"\\n This includes the set of attributes you are being offered\")\n",
    "        attributes = proposal['credential_proposal']['attributes']\n",
    "        print(attributes)\n",
    "        ## YOUR LOGIC HERE\n",
    "    elif state == \"request_sent\":\n",
    "        print(\"\\nA credential request object contains the commitment to the agents master secret using the nonce from the offer\")\n",
    "        ## YOUR LOGIC HERE\n",
    "    elif state == \"credential_received\":\n",
    "        print(\"Received Credential\")\n",
    "        ## YOUR LOGIC HERE\n",
    "    elif state == \"credential_acked\":\n",
    "        ## YOUR LOGIC HERE\n",
    "        credential = payload[\"credential\"]\n",
    "        print(\"Credential Stored\\n\")\n",
    "        print(credential)\n",
    "        \n",
    "        print(\"\\nThe referent acts as the identifier for retrieving the raw credential from the wallet\")\n",
    "        # Note: You would probably save this in your application database\n",
    "        credential_referent = credential[\"referent\"]\n",
    "        print(\"Referent\", credential_referent)\n",
    "        \n",
    "        \n",
    "def messages_handler(payload):\n",
    "    connection_id = payload[\"connection_id\"]\n",
    "    agent_controller.messaging.send_message(connection_id, \"This is a response from Bob\")\n",
    "    print(\"Handle message\", connection_id)\n",
    "    pprint(payload)"
   ]
  },
  {
   "cell_type": "code",
   "execution_count": 8,
   "id": "bc324cfb",
   "metadata": {},
   "outputs": [],
   "source": [
    "# Init listener list \n",
    "listeners = []\n",
    "\n",
    "# Add listeners defined in previous cell\n",
    "connection_listener = {\"handler\": connections_handler, \"topic\": \"connections\"}\n",
    "listeners.append(connection_listener)\n",
    "\n",
    "holder_listener = {\"topic\": \"issue_credential\", \"handler\": holder_handler}\n",
    "listeners.append(holder_listener)\n",
    "\n",
    "message_listener = {\"handler\": messages_handler, \"topic\": \"basicmessages\"}\n",
    "listeners.append(message_listener)"
   ]
  },
  {
   "cell_type": "markdown",
   "id": "7c88f98f",
   "metadata": {},
   "source": [
    "#### 1.3 – Register listeners with `agent_controller`"
   ]
  },
  {
   "cell_type": "code",
   "execution_count": 9,
   "id": "59911e8b",
   "metadata": {},
   "outputs": [],
   "source": [
    "agent_controller.register_listeners(listeners)"
   ]
  },
  {
   "cell_type": "markdown",
   "id": "38a83a1c",
   "metadata": {},
   "source": [
    "## 2 – Establish a connection with Authority agent\n",
    "A connection with the credential issuer (i.e., the authority agent) must be establieshed before a VC can be received. In this scenario, the agent requests a connection with the Authority to be certified as an official city agency. Thus, the city agent sends an invitation to the Authority.\n",
    "\n",
    "### 2.1 Create invitation to Authority agent"
   ]
  },
  {
   "cell_type": "code",
   "execution_count": 10,
   "id": "10df007b",
   "metadata": {},
   "outputs": [
    {
     "name": "stdout",
     "output_type": "stream",
     "text": [
      "----------------------------------------------------------\n",
      "Connection Webhook Event Received\n",
      "Connection ID :  7a04ff63-a269-44a5-94af-decb75ba51f7\n",
      "State :  invitation\n",
      "Routing State :  none\n",
      "Their Role :  invitee\n",
      "----------------------------------------------------------\n",
      "invitation\n"
     ]
    }
   ],
   "source": [
    "# Setup for connection with Authority agent\n",
    "alias = None\n",
    "auto_accept = False\n",
    "public = \"false\" # Do not use public DID\n",
    "multi_use = \"false\" # Invitation is only for one invitee\n",
    "\n",
    "# Await response\n",
    "invitation_response = await agent_controller.connections.create_invitation(alias, auto_accept, public, multi_use)\n",
    "\n",
    "# Keep connection_id to use it in other protocols (e.g., messaging)\n",
    "connection_id = invitation_response[\"connection_id\"]"
   ]
  },
  {
   "cell_type": "markdown",
   "id": "85edab88",
   "metadata": {},
   "source": [
    "### 2.2 – Send invitation with Authority\n",
    "Sharing the invitation can be done via e.g., phone, zoom, E-Mail or QR-code. In this scenario, please copy and paste the invitation into `01_issue_VC_city.ipynb` of the Authority agent (see Step 2.1)"
   ]
  },
  {
   "cell_type": "code",
   "execution_count": 11,
   "id": "ce83ea4b",
   "metadata": {},
   "outputs": [
    {
     "name": "stdout",
     "output_type": "stream",
     "text": [
      "Copy the following dict and past it into the Authority agency\n",
      "{\n",
      "    '@id': '1a4ef9a6-2dc4-4eae-b6b2-6003b1903aa2',\n",
      "    '@type': 'did:sov:BzCbsNYhMrjHiqZDTUASHg;spec/connections/1.0/invitation',\n",
      "    'label': 'City',\n",
      "    'recipientKeys': ['2HBfxB6MbCXv8tDAriinYY5BzT8gZUtUYKAQ1VXDNDmF'],\n",
      "    'serviceEndpoint': 'https://80a67f24c0cb.ngrok.io',\n",
      "}\n",
      "----------------------------------------------------------\n",
      "Connection Webhook Event Received\n",
      "Connection ID :  7a04ff63-a269-44a5-94af-decb75ba51f7\n",
      "State :  request\n",
      "Routing State :  none\n",
      "Their Role :  invitee\n",
      "----------------------------------------------------------\n",
      "request\n"
     ]
    }
   ],
   "source": [
    "# Get and print invitation\n",
    "invitation = invitation_response[\"invitation\"]\n",
    "print(\"Copy the following dict and past it into the Authority agency\")\n",
    "pprint(invitation)"
   ]
  },
  {
   "cell_type": "markdown",
   "id": "1f00548a",
   "metadata": {},
   "source": [
    "**BREAK POINT:** Please switch to agent `Authority`, open `01_issue_VC_city.ipynb`, and continue with Step 2\n",
    "\n",
    "---\n",
    "\n",
    "### 2.3 – Accept request response by Authority agent"
   ]
  },
  {
   "cell_type": "code",
   "execution_count": 12,
   "id": "fc61b992",
   "metadata": {},
   "outputs": [
    {
     "name": "stdout",
     "output_type": "stream",
     "text": [
      "----------------------------------------------------------\n",
      "Connection Webhook Event Received\n",
      "Connection ID :  7a04ff63-a269-44a5-94af-decb75ba51f7\n",
      "State :  response\n",
      "Routing State :  none\n",
      "Their Role :  invitee\n",
      "----------------------------------------------------------\n",
      "response\n"
     ]
    }
   ],
   "source": [
    "# Accept request response of Authority\n",
    "accept_request_response = await agent_controller.connections.accept_request(connection_id)"
   ]
  },
  {
   "cell_type": "markdown",
   "id": "2aed8bcf",
   "metadata": {},
   "source": [
    "### 2.4 – Sent trust ping to establish and activate connection"
   ]
  },
  {
   "cell_type": "code",
   "execution_count": 13,
   "id": "c458d53e",
   "metadata": {},
   "outputs": [
    {
     "data": {
      "text/plain": [
       "{'thread_id': '7079dec1-8d30-4ec1-9431-edfc11f8f6e9'}"
      ]
     },
     "execution_count": 13,
     "metadata": {},
     "output_type": "execute_result"
    },
    {
     "name": "stdout",
     "output_type": "stream",
     "text": [
      "----------------------------------------------------------\n",
      "Connection Webhook Event Received\n",
      "Connection ID :  7a04ff63-a269-44a5-94af-decb75ba51f7\n",
      "State :  active\n",
      "Routing State :  none\n",
      "Their Role :  invitee\n",
      "----------------------------------------------------------\n",
      "\u001b[1m\u001b[32mConnection ID: 7a04ff63-a269-44a5-94af-decb75ba51f7 is now active.\u001b[0m\n"
     ]
    }
   ],
   "source": [
    "await agent_controller.messaging.trust_ping(connection_id, \"send trust ping\")"
   ]
  },
  {
   "cell_type": "markdown",
   "id": "59c43f64",
   "metadata": {},
   "source": [
    "## 3 – Request VC from `Authority` agent\n",
    "### 3.1 – Message `Authority` to request a VC"
   ]
  },
  {
   "cell_type": "code",
   "execution_count": 14,
   "id": "03cfae6d",
   "metadata": {},
   "outputs": [
    {
     "data": {
      "text/plain": [
       "{}"
      ]
     },
     "execution_count": 14,
     "metadata": {},
     "output_type": "execute_result"
    },
    {
     "name": "stderr",
     "output_type": "stream",
     "text": [
      "/tmp/ipykernel_21/3503404827.py:75: RuntimeWarning: coroutine 'MessagingController.send_message' was never awaited\n",
      "  agent_controller.messaging.send_message(connection_id, \"This is a response from Bob\")\n",
      "RuntimeWarning: Enable tracemalloc to get the object allocation traceback\n"
     ]
    },
    {
     "name": "stdout",
     "output_type": "stream",
     "text": [
      "Handle message 7a04ff63-a269-44a5-94af-decb75ba51f7\n",
      "{\n",
      "    'connection_id': '7a04ff63-a269-44a5-94af-decb75ba51f7',\n",
      "    'content': 'Hello City. Please provide me your city and country.',\n",
      "    'message_id': '948fb0ff-e570-4eba-a9e4-ae007749db41',\n",
      "    'sent_time': '2021-08-09 14:19:22.306175Z',\n",
      "    'state': 'received',\n",
      "}\n"
     ]
    }
   ],
   "source": [
    "basic_message = \"Hello Authority agent\"\n",
    "await agent_controller.messaging.send_message(connection_id, basic_message)"
   ]
  },
  {
   "cell_type": "markdown",
   "id": "f86c3cef",
   "metadata": {},
   "source": [
    "**BREAK POINT:** Go to Step 3 in the `01_issue_VC_city.ipynb` notebook of the `Authority` agent.\n",
    "\n",
    "---"
   ]
  },
  {
   "cell_type": "markdown",
   "id": "b50bc5f2",
   "metadata": {},
   "source": [
    "### 3.1 – Provide `Authority` with the relevant information to issue a VC"
   ]
  },
  {
   "cell_type": "code",
   "execution_count": 15,
   "id": "68903028",
   "metadata": {},
   "outputs": [
    {
     "data": {
      "text/plain": [
       "{}"
      ]
     },
     "execution_count": 15,
     "metadata": {},
     "output_type": "execute_result"
    },
    {
     "name": "stdout",
     "output_type": "stream",
     "text": [
      "\n",
      "---------------------------------------------------\n",
      "\n",
      "Handle Issue Credential Webhook\n",
      "Connection ID : 7a04ff63-a269-44a5-94af-decb75ba51f7\n",
      "Credential exchange ID : cbc6367d-3e65-4705-8c7a-e24c5af0d96a\n",
      "Agent Protocol Role :  holder\n",
      "Protocol State :  offer_received\n",
      "\n",
      "---------------------------------------------------\n",
      "\n",
      "Handle Credential Webhook Payload\n",
      "Credential Offer Recieved\n",
      "The proposal dictionary is likely how you would understand and display a credential offer in your application\n",
      "\n",
      " {'@type': 'did:sov:BzCbsNYhMrjHiqZDTUASHg;spec/issue-credential/1.0/propose-credential', '@id': '6341c9c8-6c12-4bdf-858e-59169269f2e9', 'credential_proposal': {'@type': 'did:sov:BzCbsNYhMrjHiqZDTUASHg;spec/issue-credential/1.0/credential-preview', 'attributes': [{'name': 'city', 'value': 'Berlin'}, {'name': 'country', 'value': 'DE'}, {'name': 'isCityAgency', 'value': 'TRUE'}]}, 'schema_id': 'MTXSc4YD8wixyM9ekZbmMC:2:certify-city-agency:0.0.1', 'comment': 'Issuing VC that City is an agency', 'cred_def_id': 'MTXSc4YD8wixyM9ekZbmMC:3:CL:246685:default'}\n",
      "\n",
      " This includes the set of attributes you are being offered\n",
      "[{'name': 'city', 'value': 'Berlin'}, {'name': 'country', 'value': 'DE'}, {'name': 'isCityAgency', 'value': 'TRUE'}]\n"
     ]
    }
   ],
   "source": [
    "basic_message = \"I would like the get a VC proving that I am an official city agency in Berlin, DE.\"\n",
    "await agent_controller.messaging.send_message(connection_id, basic_message)"
   ]
  },
  {
   "cell_type": "markdown",
   "id": "2591bf1d",
   "metadata": {},
   "source": [
    "**BREAK POINT:** Return to step \n",
    "\n",
    "---\n",
    "\n",
    "\n",
    "### 3.2 – Request VC from `Authority`'s Offer\n",
    "\n",
    "Note: Your agent will automatically respond if ACAPY_AUTO_RESPOND_CREDENTIAL_OFFER=true flag is set in .env file of agent. Default is false.\n",
    "\n",
    "To respond to an offer you must identify the offer using the credential_exchange_id generated for it. This is available from within the issue-credential holder handler. You could add custom logic in this loop `elif state == \"request\":` to handle this.\n",
    "\n",
    "However, we will fetch the credential exchange records and **assume** this agent only has one record. Customise accordingly."
   ]
  },
  {
   "cell_type": "code",
   "execution_count": 16,
   "id": "5edeb214",
   "metadata": {},
   "outputs": [],
   "source": [
    "# Setup arguments for response\n",
    "thread_id=None\n",
    "state = \"offer_received\"\n",
    "role = \"prover\"\n",
    "\n",
    "records_response = await agent_controller.issuer.get_records(connection_id=connection_id,state=state)\n",
    "record = records_response[\"results\"][0]\n",
    "record_id = record[\"credential_exchange_id\"]"
   ]
  },
  {
   "cell_type": "code",
   "execution_count": 17,
   "id": "ba9fdf9c",
   "metadata": {},
   "outputs": [
    {
     "name": "stdout",
     "output_type": "stream",
     "text": [
      "\n",
      "---------------------------------------------------\n",
      "\n",
      "Handle Issue Credential Webhook\n",
      "Connection ID : 7a04ff63-a269-44a5-94af-decb75ba51f7\n",
      "Credential exchange ID : cbc6367d-3e65-4705-8c7a-e24c5af0d96a\n",
      "Agent Protocol Role :  holder\n",
      "Protocol State :  request_sent\n",
      "\n",
      "---------------------------------------------------\n",
      "\n",
      "Handle Credential Webhook Payload\n",
      "\n",
      "A credential request object contains the commitment to the agents master secret using the nonce from the offer\n"
     ]
    },
    {
     "data": {
      "text/plain": [
       "{'trace': False,\n",
       " 'auto_issue': False,\n",
       " 'state': 'request_sent',\n",
       " 'credential_definition_id': 'MTXSc4YD8wixyM9ekZbmMC:3:CL:246685:default',\n",
       " 'auto_offer': False,\n",
       " 'credential_exchange_id': 'cbc6367d-3e65-4705-8c7a-e24c5af0d96a',\n",
       " 'credential_request_metadata': {'master_secret_blinding_data': {'v_prime': '12015492923889721612939121956573559186323965159083211993433006626736462735856072838719299728646968818765086255347183925408187791646665368160937934116797408585592528768792470532612427975420156745961199960469405746846029581686675188546124205443328786885409453320087332573752081886979802768479557966175861181475703915809741477337115363216501003897738362593393866475033240798805279061208312638584835928546729376425757556819132451735962896121539373024968515426089614167457673043182240273005455130994680230174593433020527148814331762604777518024985674933572722255856490374127744180313915246204660298018799879429849694961123785910154059481007385806',\n",
       "   'vr_prime': None},\n",
       "  'nonce': '391089072316579573637321',\n",
       "  'master_secret_name': 'city_Name'},\n",
       " 'credential_offer': {'schema_id': 'MTXSc4YD8wixyM9ekZbmMC:2:certify-city-agency:0.0.1',\n",
       "  'cred_def_id': 'MTXSc4YD8wixyM9ekZbmMC:3:CL:246685:default',\n",
       "  'nonce': '1018576913270442922594568',\n",
       "  'key_correctness_proof': {'c': '58439204679071577811367031331501616598064806151747849724655350756283702998228',\n",
       "   'xz_cap': '221929198797003335283049331787762737723971230692647937708271060215525497897608114859976466025883901266024047432940060333302735030911131989033026144891386738031524294460130403933593499341854381169965181214229565868033601853760740289851736218965198436369286171466194029086840016954690230115961440545462056293357125358539295021128793552582172827656800820288740460837546037094500317394524425217319962844781787025966113424463414276283055579772770841853598680359985326629644072151903325989182738742647084543051967617728206235227497795452564261167257368040400837923712576163791413477932994311009355897175490998248518239950582796328644811568049147508886122973165195047430111260104355581197248326951893',\n",
       "   'xr_cap': [['master_secret',\n",
       "     '205543166407310583833459310255020035902574500305275574147851159327711526097286919665647986288103143774915398365068766495818859727112559506879059634142057530479030107296866620846558019889014179072226480588464718561630756020911258681745829377001991341667419832689953816419260678550032967538811104413798237767363115263740547975711690113168166134976189699526880441745444738864711436909194042308581272755740824783347137018058182498475901165942864628660090658336528631560665796530234195171334044552701896902264558392533464883977217106399428842331857274710978422175797912240000654752047017908682464386164071564015231973084617705438652454056517502571794080610886294875851630915207957123216183179337682'],\n",
       "    ['iscityagency',\n",
       "     '949553555866612301940893984893169923478595570295951600542302142602205559877019206491187252392886915611136406320822037020070160397561594267438653198555844909161184246509723644738041370057594662758348164703710848986784170077770334275449727760505537410830490349283299447614243095782106907551754164296410689926003333265193481734196192212832625715544767213803270398670107423770273360358577942523613859979648681242270236612461513545365350499641819778056264126860186409887935112889453338385551669246900803467728369461534407879869132912694155977568198593831019622612403907828261582895239623377240572813817985758775137671745218330978927843494191200570421104645072191110410761902261475265857536807735937'],\n",
       "    ['city',\n",
       "     '107800101316583110481487224598220411703730970740607778845793191225546543552494625039715261448248115259807963210860435664327964292682044924408417510719227848365507116632702316661171745644031933899340164311957958828695491199601056935696953184408444367902904977852517736052965332740360459403602587677498229398441632924336239152137193657594044986004486325597071016273925556820028414161099000605465180541244316447837580922344483624415441366711114194413641558081852615408134981806786146340054409361751848038185589744615668608588868786903577614744646309905438321772469511760587882084158733827754846625992970925277444042090182678051862794539635832577970403433750482975566880107973228213582021904226569'],\n",
       "    ['country',\n",
       "     '771505950956069202070252464652475044232623134896337618927115653436854689095477933037817250970226061745031233984342773218273465702617279582882252721228724818174684047375372365618254410050157140551163436852732681193527667164095030919419463772009716224046093300148165551634010964725503595947199483627150669139941787565880510093075055426014353548243930341343473826539564453617097328714713221269237684660822899275989514944865855233143640296616496629043896094142874702577435942892523276102942738503775755124978028887457925494688853022623923294824597188729506483526134502946458757414553131056305133709700812589568670900499223984960348012450639536726428494103884066536381573092915389096584408403908150']]}},\n",
       " 'schema_id': 'MTXSc4YD8wixyM9ekZbmMC:2:certify-city-agency:0.0.1',\n",
       " 'connection_id': '7a04ff63-a269-44a5-94af-decb75ba51f7',\n",
       " 'role': 'holder',\n",
       " 'created_at': '2021-08-09 14:19:59.818613Z',\n",
       " 'credential_proposal_dict': {'@type': 'did:sov:BzCbsNYhMrjHiqZDTUASHg;spec/issue-credential/1.0/propose-credential',\n",
       "  '@id': '6341c9c8-6c12-4bdf-858e-59169269f2e9',\n",
       "  'credential_proposal': {'@type': 'did:sov:BzCbsNYhMrjHiqZDTUASHg;spec/issue-credential/1.0/credential-preview',\n",
       "   'attributes': [{'name': 'city', 'value': 'Berlin'},\n",
       "    {'name': 'country', 'value': 'DE'},\n",
       "    {'name': 'isCityAgency', 'value': 'TRUE'}]},\n",
       "  'schema_id': 'MTXSc4YD8wixyM9ekZbmMC:2:certify-city-agency:0.0.1',\n",
       "  'comment': 'Issuing VC that City is an agency',\n",
       "  'cred_def_id': 'MTXSc4YD8wixyM9ekZbmMC:3:CL:246685:default'},\n",
       " 'credential_request': {'prover_did': 'Fkkgg7DLg29t6Zxhh5TirR',\n",
       "  'cred_def_id': 'MTXSc4YD8wixyM9ekZbmMC:3:CL:246685:default',\n",
       "  'blinded_ms': {'u': '16992561077749354243295750963877815865724958221662690018172862310652303498325374869660239552461928798988952793822970319310577083263806299208497720220083266645294689360362465543280886682459520220959207439335649488680070722673932865463475925697604126291516627036427690875062772514380198860967808694239255145763122730290662258942893135480976896656671925343777131627193464754003773909584566823742897386689532700362221463343907394780775294357982699828099609419819650240779324027507239450427757224380115682824692586078685208006682579540514638389616751894144547346086251536398715429772037651815410689421191610078570263976389',\n",
       "   'ur': None,\n",
       "   'hidden_attributes': ['master_secret'],\n",
       "   'committed_attributes': {}},\n",
       "  'blinded_ms_correctness_proof': {'c': '74585649941640508625860369996844412108597420957420014334226484893124027138943',\n",
       "   'v_dash_cap': '896183349097497359172334851247849964304980956659448702207838249765047078853387209255895318583644480441513586370545571908238566021003357527974989132528136768772117289908475603423875152321113079558600373294960254548423101335350175414367971981999688761703901953630972787067842714887530492171282588036512076092397193951602360209013634105024269727628561718733713045916943788404283995590758763233343138912881740957339493177220993764919668911139875969907780634864546912501895246158073299075439518196632386053960158483105780925865526202551261657349686225116715200848993918194206134342576938968221335777436787885612389954135043234636485635703868067613888043159461376263729359185516627608663696853576936048664376456843361798900',\n",
       "   'm_caps': {'master_secret': '20860167265738763676852255229186928813603429319364718055152312390000770396635300992156029721495882505536127019347785432708658845128661211201494934624450306933920697365779875319876'},\n",
       "   'r_caps': {}},\n",
       "  'nonce': '391089072316579573637321'},\n",
       " 'auto_remove': False,\n",
       " 'thread_id': 'c58bd29c-0d9e-42d9-9b4f-f552cc39410a',\n",
       " 'initiator': 'external',\n",
       " 'updated_at': '2021-08-09 14:20:06.629524Z'}"
      ]
     },
     "execution_count": 17,
     "metadata": {},
     "output_type": "execute_result"
    },
    {
     "name": "stdout",
     "output_type": "stream",
     "text": [
      "\n",
      "---------------------------------------------------\n",
      "\n",
      "Handle Issue Credential Webhook\n",
      "Connection ID : 7a04ff63-a269-44a5-94af-decb75ba51f7\n",
      "Credential exchange ID : cbc6367d-3e65-4705-8c7a-e24c5af0d96a\n",
      "Agent Protocol Role :  holder\n",
      "Protocol State :  credential_received\n",
      "\n",
      "---------------------------------------------------\n",
      "\n",
      "Handle Credential Webhook Payload\n",
      "Received Credential\n"
     ]
    }
   ],
   "source": [
    "# Send request for VC\n",
    "await agent_controller.issuer.send_request_for_record(record_id)"
   ]
  },
  {
   "cell_type": "markdown",
   "id": "05b17880",
   "metadata": {},
   "source": [
    "### 3.3 – Store received VC in wallet\n",
    "\n",
    "This will be done automatically if the ACAPY_AUTO_STORE_CREDENTIAL=true flag is set in the .env file for this agent. Default is false.\n",
    "\n",
    "Again you could handle this in your holder handler function in the `elif state == \"credential_received\":` loop."
   ]
  },
  {
   "cell_type": "code",
   "execution_count": 18,
   "id": "7ec6a465",
   "metadata": {},
   "outputs": [
    {
     "name": "stdout",
     "output_type": "stream",
     "text": [
      "\n",
      "---------------------------------------------------\n",
      "\n",
      "Handle Issue Credential Webhook\n",
      "Connection ID : 7a04ff63-a269-44a5-94af-decb75ba51f7\n",
      "Credential exchange ID : cbc6367d-3e65-4705-8c7a-e24c5af0d96a\n",
      "Agent Protocol Role :  holder\n",
      "Protocol State :  credential_acked\n",
      "\n",
      "---------------------------------------------------\n",
      "\n",
      "Handle Credential Webhook Payload\n",
      "Credential Stored\n",
      "\n",
      "{'referent': 'isCityAgency-VC', 'attrs': {'city': 'Berlin', 'country': 'DE', 'isCityAgency': 'TRUE'}, 'schema_id': 'MTXSc4YD8wixyM9ekZbmMC:2:certify-city-agency:0.0.1', 'cred_def_id': 'MTXSc4YD8wixyM9ekZbmMC:3:CL:246685:default'}\n",
      "\n",
      "The referent acts as the identifier for retrieving the raw credential from the wallet\n",
      "Referent isCityAgency-VC\n"
     ]
    }
   ],
   "source": [
    "credential_id = \"isCityAgency-VC\"\n",
    "store_cred_response = await agent_controller.issuer.store_credential(record_id, credential_id)"
   ]
  },
  {
   "cell_type": "markdown",
   "id": "785d535b",
   "metadata": {},
   "source": [
    "## Terminate Controller\n",
    "\n",
    "Whenever you have finished with this notebook, be sure to terminate the controller. This is especially important if your business logic runs across multiple notebooks."
   ]
  },
  {
   "cell_type": "code",
   "execution_count": 19,
   "id": "b94c12ed",
   "metadata": {},
   "outputs": [],
   "source": [
    "await agent_controller.terminate()"
   ]
  },
  {
   "cell_type": "code",
   "execution_count": null,
   "id": "5d7b6513",
   "metadata": {},
   "outputs": [],
   "source": []
  }
 ],
 "metadata": {
  "kernelspec": {
   "display_name": "Python 3 (ipykernel)",
   "language": "python",
   "name": "python3"
  },
  "language_info": {
   "codemirror_mode": {
    "name": "ipython",
    "version": 3
   },
   "file_extension": ".py",
   "mimetype": "text/x-python",
   "name": "python",
   "nbconvert_exporter": "python",
   "pygments_lexer": "ipython3",
   "version": "3.9.5"
  }
 },
 "nbformat": 4,
 "nbformat_minor": 5
}
