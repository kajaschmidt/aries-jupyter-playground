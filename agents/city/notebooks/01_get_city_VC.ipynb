{
 "cells": [
  {
   "cell_type": "markdown",
   "id": "42e9b97a",
   "metadata": {},
   "source": [
    "# Request VC from Authority\n",
    "\n",
    "This notebook is used in combination with notebook `01_issue_VC_city.ipynb` (see Authority agent). Break points indicate when to switch notebooks."
   ]
  },
  {
   "cell_type": "markdown",
   "id": "1cf032e6",
   "metadata": {},
   "source": [
    "#### Imports"
   ]
  },
  {
   "cell_type": "code",
   "execution_count": 1,
   "id": "7c752dc6",
   "metadata": {},
   "outputs": [
    {
     "name": "stdout",
     "output_type": "stream",
     "text": [
      "IPython autoawait is `on`, and set to use `asyncio`\n"
     ]
    }
   ],
   "source": [
    "%%javascript\n",
    "document.title='City Agent'\n",
    "%autoawait \n",
    "from aries_cloudcontroller import AriesAgentController\n",
    "import asyncio\n",
    "import os\n",
    "from pprintpp import pprint\n",
    "from termcolor import colored"
   ]
  },
  {
   "cell_type": "markdown",
   "id": "d4285e36",
   "metadata": {},
   "source": [
    "#### Initialize agent controller of City"
   ]
  },
  {
   "cell_type": "code",
   "execution_count": 2,
   "id": "28e5675f",
   "metadata": {},
   "outputs": [
    {
     "name": "stdout",
     "output_type": "stream",
     "text": [
      "Initialising a controller with admin api at http://city-agent:3021 and an api key of adminApiKey\n"
     ]
    }
   ],
   "source": [
    "api_key = os.getenv(\"ACAPY_ADMIN_API_KEY\")\n",
    "admin_url = os.getenv(\"ADMIN_URL\")\n",
    "\n",
    "print(f\"Initialising a controller with admin api at {admin_url} and an api key of {api_key}\")\n",
    "agent_controller = AriesAgentController(admin_url,api_key)"
   ]
  },
  {
   "cell_type": "markdown",
   "id": "1cbb2b89",
   "metadata": {},
   "source": [
    "## 1 – Init Webhook Server and register Event Listeners for it\n",
    "#### 1.1 – Start webhook server\n",
    "Start a webhook server to be able to communicate with other agents"
   ]
  },
  {
   "cell_type": "code",
   "execution_count": 3,
   "id": "f57f98fd",
   "metadata": {},
   "outputs": [
    {
     "name": "stdout",
     "output_type": "stream",
     "text": [
      "Listening for webhooks from agent at http://0.0.0.0:3010\n"
     ]
    }
   ],
   "source": [
    "# Setup\n",
    "webhook_port = int(os.getenv(\"WEBHOOK_PORT\"))\n",
    "webhook_host = \"0.0.0.0\"\n",
    "\n",
    "# Listen on webhook server\n",
    "await agent_controller.init_webhook_server(webhook_host, webhook_port)\n",
    "print(f\"Listening for webhooks from agent at http://{webhook_host}:{webhook_port}\")"
   ]
  },
  {
   "cell_type": "markdown",
   "id": "40f8e859",
   "metadata": {},
   "source": [
    "#### 1.2 – Define listeners\n",
    "Define listeners that are triggered when something happens on the webhook server"
   ]
  },
  {
   "cell_type": "code",
   "execution_count": 4,
   "id": "16a198a6",
   "metadata": {},
   "outputs": [],
   "source": [
    "# Receive connection messages\n",
    "def connections_handler(payload):\n",
    "    state = payload['state']\n",
    "    connection_id = payload[\"connection_id\"]\n",
    "    their_role = payload[\"their_role\"]\n",
    "    routing_state = payload[\"routing_state\"]\n",
    "    \n",
    "    print(\"----------------------------------------------------------\")\n",
    "    print(\"Connection Webhook Event Received\")\n",
    "    print(\"Connection ID : \", connection_id)\n",
    "    print(\"State : \", state)\n",
    "    print(\"Routing State : \", routing_state)\n",
    "    print(\"Their Role : \", their_role)\n",
    "    print(\"----------------------------------------------------------\")\n",
    "\n",
    "    if state == \"invitation\":\n",
    "        # Your business logic\n",
    "        print(\"invitation\")\n",
    "    elif state == \"request\":\n",
    "        # Your business logic\n",
    "        print(\"request\")\n",
    "\n",
    "    elif state == \"response\":\n",
    "        # Your business logic\n",
    "        print(\"response\")\n",
    "    elif state == \"active\":\n",
    "        # Your business logic\n",
    "        print(colored(\"Connection ID: {0} is now active.\".format(connection_id), \"green\", attrs=[\"bold\"]))\n",
    "\n",
    "        \n",
    "## YOUR LISTENERS HERE\n",
    "def holder_handler(payload):\n",
    "    connection_id = payload['connection_id']\n",
    "    exchange_id = payload['credential_exchange_id']\n",
    "    state = payload['state']\n",
    "    role = payload['role']\n",
    "    print(\"\\n---------------------------------------------------\\n\")\n",
    "    print(\"Handle Issue Credential Webhook\")\n",
    "    print(f\"Connection ID : {connection_id}\")\n",
    "    print(f\"Credential exchange ID : {exchange_id}\")\n",
    "    print(\"Agent Protocol Role : \", role)\n",
    "    print(\"Protocol State : \", state )\n",
    "    print(\"\\n---------------------------------------------------\\n\")\n",
    "    print(\"Handle Credential Webhook Payload\")\n",
    "    \n",
    "    if state == \"offer_received\":\n",
    "        print(\"Credential Offer Recieved\")\n",
    "        proposal = payload[\"credential_proposal_dict\"]\n",
    "        print(\"The proposal dictionary is likely how you would understand and display a credential offer in your application\")\n",
    "        print(\"\\n\", proposal)\n",
    "        print(\"\\n This includes the set of attributes you are being offered\")\n",
    "        attributes = proposal['credential_proposal']['attributes']\n",
    "        print(attributes)\n",
    "        ## YOUR LOGIC HERE\n",
    "    elif state == \"request_sent\":\n",
    "        print(\"\\nA credential request object contains the commitment to the agents master secret using the nonce from the offer\")\n",
    "        ## YOUR LOGIC HERE\n",
    "    elif state == \"credential_received\":\n",
    "        print(\"Received Credential\")\n",
    "        ## YOUR LOGIC HERE\n",
    "    elif state == \"credential_acked\":\n",
    "        ## YOUR LOGIC HERE\n",
    "        credential = payload[\"credential\"]\n",
    "        print(\"Credential Stored\\n\")\n",
    "        print(credential)\n",
    "        \n",
    "        print(\"\\nThe referent acts as the identifier for retrieving the raw credential from the wallet\")\n",
    "        # Note: You would probably save this in your application database\n",
    "        credential_referent = credential[\"referent\"]\n",
    "        print(\"Referent\", credential_referent)\n",
    "        \n",
    "        \n",
    "def messages_handler(payload):\n",
    "    connection_id = payload[\"connection_id\"]\n",
    "    agent_controller.messaging.send_message(connection_id, \"This is a response from Bob\")\n",
    "    print(\"Handle message\", connection_id)\n",
    "    pprint(payload)"
   ]
  },
  {
   "cell_type": "code",
   "execution_count": 5,
   "id": "e0778180",
   "metadata": {},
   "outputs": [],
   "source": [
    "# Init listener list \n",
    "listeners = []\n",
    "\n",
    "# Add listeners defined in previous cell\n",
    "connection_listener = {\"handler\": connections_handler, \"topic\": \"connections\"}\n",
    "listeners.append(connection_listener)\n",
    "\n",
    "holder_listener = {\"topic\": \"issue_credential\", \"handler\": holder_handler}\n",
    "listeners.append(holder_listener)\n",
    "\n",
    "message_listener = {\"handler\": messages_handler, \"topic\": \"basicmessages\"}\n",
    "listeners.append(message_listener)"
   ]
  },
  {
   "cell_type": "markdown",
   "id": "e5a95478",
   "metadata": {},
   "source": [
    "#### 1.3 – Register listeners with `agent_controller`"
   ]
  },
  {
   "cell_type": "code",
   "execution_count": 6,
   "id": "6038d120",
   "metadata": {},
   "outputs": [],
   "source": [
    "#loop = asyncio.get_event_loop()\n",
    "#loop.create_task(agent_controller.listen_webhooks())\n",
    "\n",
    "agent_controller.register_listeners(listeners)"
   ]
  },
  {
   "cell_type": "markdown",
   "id": "0427aa4f",
   "metadata": {},
   "source": [
    "## 2 – Establish a connection with Authority agent\n",
    "A connection with the credential issuer (i.e., the authority agent) must be establieshed before a VC can be received. In this scenario, the agent requests a connection with the Authority to be certified as an official city agency. Thus, the city agent sends an invitation to the Authority.\n",
    "\n",
    "### 2.1 Create invitation to Authority agent"
   ]
  },
  {
   "cell_type": "code",
   "execution_count": 7,
   "id": "d58a7e29",
   "metadata": {},
   "outputs": [
    {
     "name": "stdout",
     "output_type": "stream",
     "text": [
      "----------------------------------------------------------\n",
      "Connection Webhook Event Received\n",
      "Connection ID :  aba3a43b-ef9a-4dde-9b78-962e515bd5f3\n",
      "State :  invitation\n",
      "Routing State :  none\n",
      "Their Role :  invitee\n",
      "----------------------------------------------------------\n",
      "invitation\n"
     ]
    }
   ],
   "source": [
    "# Setup for connection with Authority agent\n",
    "alias = None\n",
    "auto_accept = False\n",
    "public = \"false\" # Do not use public DID\n",
    "multi_use = \"false\" # Invitation is only for one invitee\n",
    "\n",
    "# Await response\n",
    "invitation_response = await agent_controller.connections.create_invitation(alias, auto_accept, public, multi_use)\n",
    "\n",
    "# Keep connection_id to use it in other protocols (e.g., messaging)\n",
    "connection_id = invitation_response[\"connection_id\"]"
   ]
  },
  {
   "cell_type": "markdown",
   "id": "eb5301f1",
   "metadata": {},
   "source": [
    "### 2.2 – Send invitation with Authority\n",
    "Sharing the invitation can be done via e.g., phone, zoom, E-Mail or QR-code. In this scenario, please copy and paste the invitation into `01_issue_VC_city.ipynb` of the Authority agent (see Step 2.1)"
   ]
  },
  {
   "cell_type": "code",
   "execution_count": 8,
   "id": "4a4c2cdb",
   "metadata": {},
   "outputs": [
    {
     "name": "stdout",
     "output_type": "stream",
     "text": [
      "Copy the following dict and past it into the Authority agency\n",
      "{\n",
      "    '@id': '21e83a12-1aee-4a14-968c-1841f80e259b',\n",
      "    '@type': 'did:sov:BzCbsNYhMrjHiqZDTUASHg;spec/connections/1.0/invitation',\n",
      "    'label': 'City',\n",
      "    'recipientKeys': ['DbfJq8DBWcMWwgWM59Sph49wrxBooUyQoH5GK4AtwAN7'],\n",
      "    'serviceEndpoint': 'https://727e9e2dfced.ngrok.io',\n",
      "}\n",
      "----------------------------------------------------------\n",
      "Connection Webhook Event Received\n",
      "Connection ID :  aba3a43b-ef9a-4dde-9b78-962e515bd5f3\n",
      "State :  request\n",
      "Routing State :  none\n",
      "Their Role :  invitee\n",
      "----------------------------------------------------------\n",
      "request\n"
     ]
    }
   ],
   "source": [
    "# Get and print invitation\n",
    "invitation = invitation_response[\"invitation\"]\n",
    "print(\"Copy the following dict and past it into the Authority agency\")\n",
    "pprint(invitation)"
   ]
  },
  {
   "cell_type": "markdown",
   "id": "0097f3be",
   "metadata": {},
   "source": [
    "**BREAK POINT:** Please switch to agent `Authority`, open `01_issue_VC_city.ipynb`, and continue with Step 2\n",
    "\n",
    "---\n",
    "\n",
    "### 2.3 – Accept request response by Authority agent"
   ]
  },
  {
   "cell_type": "code",
   "execution_count": 9,
   "id": "1ccb69ac",
   "metadata": {},
   "outputs": [
    {
     "name": "stdout",
     "output_type": "stream",
     "text": [
      "----------------------------------------------------------\n",
      "Connection Webhook Event Received\n",
      "Connection ID :  aba3a43b-ef9a-4dde-9b78-962e515bd5f3\n",
      "State :  response\n",
      "Routing State :  none\n",
      "Their Role :  invitee\n",
      "----------------------------------------------------------\n",
      "response\n"
     ]
    }
   ],
   "source": [
    "# Accept request response of Authority\n",
    "accept_request_response = await agent_controller.connections.accept_request(connection_id)"
   ]
  },
  {
   "cell_type": "markdown",
   "id": "8afe3d41",
   "metadata": {},
   "source": [
    "### 2.4 – Sent trust ping to establish and activate connection"
   ]
  },
  {
   "cell_type": "code",
   "execution_count": 10,
   "id": "96389dee",
   "metadata": {},
   "outputs": [
    {
     "data": {
      "text/plain": [
       "{'thread_id': '49f362b7-9f28-4e5c-b69f-a3a3deee537c'}"
      ]
     },
     "execution_count": 10,
     "metadata": {},
     "output_type": "execute_result"
    },
    {
     "name": "stdout",
     "output_type": "stream",
     "text": [
      "----------------------------------------------------------\n",
      "Connection Webhook Event Received\n",
      "Connection ID :  aba3a43b-ef9a-4dde-9b78-962e515bd5f3\n",
      "State :  active\n",
      "Routing State :  none\n",
      "Their Role :  invitee\n",
      "----------------------------------------------------------\n",
      "\u001B[1m\u001B[32mConnection ID: aba3a43b-ef9a-4dde-9b78-962e515bd5f3 is now active.\u001B[0m\n"
     ]
    }
   ],
   "source": [
    "await agent_controller.messaging.trust_ping(connection_id, \"send trust ping\")"
   ]
  },
  {
   "cell_type": "markdown",
   "id": "918854ed",
   "metadata": {},
   "source": [
    "## 3 – Request VC from `Authority` agent\n",
    "### 3.1 – Message `Authority` to request a VC"
   ]
  },
  {
   "cell_type": "code",
   "execution_count": 11,
   "id": "95820b4b",
   "metadata": {},
   "outputs": [
    {
     "data": {
      "text/plain": [
       "{}"
      ]
     },
     "execution_count": 11,
     "metadata": {},
     "output_type": "execute_result"
    },
    {
     "name": "stderr",
     "output_type": "stream",
     "text": [
      "/tmp/ipykernel_44/3503404827.py:75: RuntimeWarning: coroutine 'MessagingController.send_message' was never awaited\n",
      "  agent_controller.messaging.send_message(connection_id, \"This is a response from Bob\")\n",
      "RuntimeWarning: Enable tracemalloc to get the object allocation traceback\n"
     ]
    },
    {
     "name": "stdout",
     "output_type": "stream",
     "text": [
      "Handle message aba3a43b-ef9a-4dde-9b78-962e515bd5f3\n",
      "{\n",
      "    'connection_id': 'aba3a43b-ef9a-4dde-9b78-962e515bd5f3',\n",
      "    'content': 'Hello City of Berlin',\n",
      "    'message_id': '660942b2-b2c6-4634-80b0-c152bbe7891e',\n",
      "    'sent_time': '2021-08-04 10:03:38.819141Z',\n",
      "    'state': 'received',\n",
      "}\n"
     ]
    }
   ],
   "source": [
    "basic_message = \"Hello Authority agent\"\n",
    "await agent_controller.messaging.send_message(connection_id, basic_message)"
   ]
  },
  {
   "cell_type": "markdown",
   "id": "5706bcab",
   "metadata": {},
   "source": [
    "**BREAK POINT:** Go to Step 3 in the `01_issue_VC_city.ipynb` notebook of the `Authority` agent.\n",
    "\n",
    "---"
   ]
  },
  {
   "cell_type": "markdown",
   "id": "861a8266",
   "metadata": {},
   "source": [
    "### 3.1 – Provide `Authority` with the relevant information to issue a VC"
   ]
  },
  {
   "cell_type": "code",
   "execution_count": 12,
   "id": "abb978a3",
   "metadata": {},
   "outputs": [
    {
     "data": {
      "text/plain": [
       "{}"
      ]
     },
     "execution_count": 12,
     "metadata": {},
     "output_type": "execute_result"
    },
    {
     "name": "stdout",
     "output_type": "stream",
     "text": [
      "\n",
      "---------------------------------------------------\n",
      "\n",
      "Handle Issue Credential Webhook\n",
      "Connection ID : aba3a43b-ef9a-4dde-9b78-962e515bd5f3\n",
      "Credential exchange ID : 3a20267f-d384-4d18-9570-814b066770ce\n",
      "Agent Protocol Role :  holder\n",
      "Protocol State :  offer_received\n",
      "\n",
      "---------------------------------------------------\n",
      "\n",
      "Handle Credential Webhook Payload\n",
      "Credential Offer Recieved\n",
      "The proposal dictionary is likely how you would understand and display a credential offer in your application\n",
      "\n",
      " {'@type': 'did:sov:BzCbsNYhMrjHiqZDTUASHg;spec/issue-credential/1.0/propose-credential', '@id': '952edec3-a398-4cb3-8000-e1bffd966204', 'schema_id': 'KxYXF6vfTXMoBNg2uGt79g:2:certify-city-agency:0.0.1', 'comment': 'Issuing VC that City is an agency', 'cred_def_id': 'KxYXF6vfTXMoBNg2uGt79g:3:CL:240881:default', 'credential_proposal': {'@type': 'did:sov:BzCbsNYhMrjHiqZDTUASHg;spec/issue-credential/1.0/credential-preview', 'attributes': [{'name': 'city', 'value': 'Berlin'}, {'name': 'country', 'value': 'DE'}, {'name': 'isCityAgency', 'value': 'TRUE'}]}}\n",
      "\n",
      " This includes the set of attributes you are being offered\n",
      "[{'name': 'city', 'value': 'Berlin'}, {'name': 'country', 'value': 'DE'}, {'name': 'isCityAgency', 'value': 'TRUE'}]\n"
     ]
    }
   ],
   "source": [
    "basic_message = \"I would like the get a VC proving that I am an official city agency in Berlin, DE.\"\n",
    "await agent_controller.messaging.send_message(connection_id, basic_message)"
   ]
  },
  {
   "cell_type": "markdown",
   "id": "7735bc18",
   "metadata": {},
   "source": [
    "**BREAK POINT:** Return to step \n",
    "\n",
    "---\n",
    "\n",
    "\n",
    "### 3.2 – Request VC from `Authority`'s Offer\n",
    "\n",
    "Note: Your agent will automatically respond if ACAPY_AUTO_RESPOND_CREDENTIAL_OFFER=true flag is set in .env file of agent. Default is false.\n",
    "\n",
    "To respond to an offer you must identify the offer using the credential_exchange_id generated for it. This is available from within the issue-credential holder handler. You could add custom logic in this loop `elif state == \"request\":` to handle this.\n",
    "\n",
    "However, we will fetch the credential exchange records and **assume** this agent only has one record. Customise accordingly."
   ]
  },
  {
   "cell_type": "code",
   "execution_count": 13,
   "id": "d0a0707a",
   "metadata": {},
   "outputs": [],
   "source": [
    "# Setup arguments for response\n",
    "thread_id=None\n",
    "state = \"offer_received\"\n",
    "role = \"prover\"\n",
    "\n",
    "records_response = await agent_controller.issuer.get_records(connection_id=connection_id,state=state)\n",
    "record = records_response[\"results\"][0]\n",
    "record_id = record[\"credential_exchange_id\"]"
   ]
  },
  {
   "cell_type": "code",
   "execution_count": 14,
   "id": "fd90d05a",
   "metadata": {},
   "outputs": [
    {
     "data": {
      "text/plain": [
       "{'thread_id': '0a493f65-6a25-441e-8bad-7c6bff696f02',\n",
       " 'credential_offer': {'schema_id': 'KxYXF6vfTXMoBNg2uGt79g:2:certify-city-agency:0.0.1',\n",
       "  'cred_def_id': 'KxYXF6vfTXMoBNg2uGt79g:3:CL:240881:default',\n",
       "  'nonce': '465312571879895659738785',\n",
       "  'key_correctness_proof': {'c': '77472694754129461971211245038695208553245659185091466704334720464424435716100',\n",
       "   'xz_cap': '1432467164618583001849648392238605991549224957293422448634972325215066406866699586693262097943681481404807565727959550189800205948780585355825493895792963409342698260619378185406007323910244207646209368697907979030274624629010635014991047260281779401316761157222587034016570727751912561228771074413858728552835172760288206396658067640832697597719422526340904897519431632983872612726238531631352384592897425245939292678034920061616793694883837945254298695263318020230291317705148954253732764020521746113871430164538260548820174652640363016508740509942173834844497977456262624716900685756838615153201098126027958138125762674036160448713464947384376731940857125332254904134479184348125149006144169',\n",
       "   'xr_cap': [['city',\n",
       "     '468932313583921508458842684948176579015906533549516592296214783345980605284518193069140929121751523238301288094261439997854171188431820394934690179993317323903158324568318471736680680699397768422874309392966522349440337111651762126598692123507037058660750599211139941285124981289024354907831394418564951026488887437229631754973244256713237527343849322291754207754711169666747261248201486798165489519651257876234676797340367648265683879374076353163768364555667226719872610111312269745460812078635912383925141329087240950047921063201755617761055623263378920048929354543265171093843345570325123676258602590346989018410233057551080113294375425037736755308751929687927043702584390605807101585385469'],\n",
       "    ['master_secret',\n",
       "     '1288842929598135330107812248642229039502444779894407713979869861486254183007355602850912624511535509187182634938007589228392621601032223305741261987715167493798357429799773709638160672469188705406564889802132928868736128483259471800872459372849413433322309587250475704457755694906083533782902892309362016720592493442979283818676475252875946820584854342771822086704984433428690625855996341850188260506807437538205882290077196496428725066333594966260451293985596737563684938729556908124631403109348584396668164609558568090589120985679305557312832372131429318780133393450847611132431415350454714690299822226031390158677604514418330659667839752777054102801259785521468243031993322542679621024407606'],\n",
       "    ['country',\n",
       "     '256554099467510438141693222102122300950821434573957832540197881656355927540048586007000557343162274160796510938462279097940287389118658743087991104715673682669521659861185610842964231844387946068768950210074906735021001665354610292876576228532277284564144792463161131728323913331117428716381987163288728052512450442047961614766327344760822950665513131543757094378268981492953518974720838520988890858234390160758870951254057034242668582468075457615564313558585668249694911694535537279628221001882204756056499544746661466941250202661340450445788539456639511933957370372740151156828746067323127360555266270418071884173220222738562765840855491532866962795459233093820055396791152901756094440676840'],\n",
       "    ['iscityagency',\n",
       "     '1561739674403002271621874196062191034961184215100224233908204529075088228327765382549339650874555143877707581706298841760103386708762617765922293189262067694831531951146019345982456731889960989908724009041722477760195927952179442236722479870497033251923933391651020403939707919013611278323474833398388605332384525728781459595624220156358157662466694268455619594111632963851240191353177269317003973136650319983674820190449078840333394324271561298556076861595030134487932734092280133871746636321373694546867770743227386286921160318684862305887355625317457691342809433356088507261814896717507485773800217070358135004160327747678532145511190678130268177960197907703098617170892381413440660129500681']]}},\n",
       " 'updated_at': '2021-08-04 10:14:34.509096Z',\n",
       " 'schema_id': 'KxYXF6vfTXMoBNg2uGt79g:2:certify-city-agency:0.0.1',\n",
       " 'state': 'request_sent',\n",
       " 'trace': False,\n",
       " 'credential_exchange_id': '3a20267f-d384-4d18-9570-814b066770ce',\n",
       " 'initiator': 'external',\n",
       " 'auto_offer': False,\n",
       " 'auto_remove': False,\n",
       " 'credential_request': {'prover_did': '6nokz3ovSHT6jfPHb8pvJU',\n",
       "  'cred_def_id': 'KxYXF6vfTXMoBNg2uGt79g:3:CL:240881:default',\n",
       "  'blinded_ms': {'u': '85044241147560419997068889303470662444223096892745697654410350366215442239376667099330872709383954505143134888322290120116884981837345634774852122064207798592628421807065793571834748613772117201652497451208233203378361223196520927579888536628250074477888613543728762977096562471757410606284052620418642522652553555112977555590077201179134815550852255319846037216620678263343055076861840878640623385157917112209010339511778516227832441773658297201369619875058647851577994667230459021354424780694533120316438706080042207080345984231979208005989222959625806135687716915907581898579828112325493768388193647505009192880605',\n",
       "   'ur': None,\n",
       "   'hidden_attributes': ['master_secret'],\n",
       "   'committed_attributes': {}},\n",
       "  'blinded_ms_correctness_proof': {'c': '107421789715076213572915403678814597198661210480038946683181322934744343476473',\n",
       "   'v_dash_cap': '915006598938298574860594731549724424417004322220257619887036254272565113270569812067012083508474693829627974534655221692737711150186890484691014671105860540925125812681510245157035856352697096228810906548099189244109043047206255941777949388699893098231931534937084338944300574094867136827584009525860739006057967845164974175526324838957618269555456660078961287526643940306976986440878186566208418321130102409661540721974362216780405558275622339104073797138864718059774587226011697702946458305400017487967828289085793756514487838217822460594460372786661437433404374492676286884197645338776161585363441406060831986558083397931075940056326877557565191050927809351166099393037582494221811365714478942139788604299373996782',\n",
       "   'm_caps': {'master_secret': '30702497274253165622641771679160851730570867515345710081829691002696899045522892245142977779167930526873120533380027086279292452359858289665758836368449912682767111493789001393525'},\n",
       "   'r_caps': {}},\n",
       "  'nonce': '60842040033678353323151'},\n",
       " 'auto_issue': False,\n",
       " 'created_at': '2021-08-04 10:05:31.752305Z',\n",
       " 'role': 'holder',\n",
       " 'credential_definition_id': 'KxYXF6vfTXMoBNg2uGt79g:3:CL:240881:default',\n",
       " 'credential_proposal_dict': {'@type': 'did:sov:BzCbsNYhMrjHiqZDTUASHg;spec/issue-credential/1.0/propose-credential',\n",
       "  '@id': '952edec3-a398-4cb3-8000-e1bffd966204',\n",
       "  'schema_id': 'KxYXF6vfTXMoBNg2uGt79g:2:certify-city-agency:0.0.1',\n",
       "  'comment': 'Issuing VC that City is an agency',\n",
       "  'cred_def_id': 'KxYXF6vfTXMoBNg2uGt79g:3:CL:240881:default',\n",
       "  'credential_proposal': {'@type': 'did:sov:BzCbsNYhMrjHiqZDTUASHg;spec/issue-credential/1.0/credential-preview',\n",
       "   'attributes': [{'name': 'city', 'value': 'Berlin'},\n",
       "    {'name': 'country', 'value': 'DE'},\n",
       "    {'name': 'isCityAgency', 'value': 'TRUE'}]}},\n",
       " 'credential_request_metadata': {'master_secret_blinding_data': {'v_prime': '8517886374498572524609764281711978096706191922004354052407488060092022234774329703470140611193903651743911933218876524715803650219233750124560272742762052778677237185054438852008628461221388902393437796763954074543319861229264282905898148853288127656529132615553458964200597548221030276516235524929165919476493890334545861335248559984335173965944043340808944534748335438973833729716250379251918096703873020996710848063850255501227194298298269306936548342252336550702559749816558930896021970462827407733287189392028551350757159255833200605038402125019927401166231942057998277864784029064549329120493106336369247112279795625331711664296141908',\n",
       "   'vr_prime': None},\n",
       "  'nonce': '60842040033678353323151',\n",
       "  'master_secret_name': 'city_Name'},\n",
       " 'connection_id': 'aba3a43b-ef9a-4dde-9b78-962e515bd5f3'}"
      ]
     },
     "execution_count": 14,
     "metadata": {},
     "output_type": "execute_result"
    },
    {
     "name": "stdout",
     "output_type": "stream",
     "text": [
      "\n",
      "---------------------------------------------------\n",
      "\n",
      "Handle Issue Credential Webhook\n",
      "Connection ID : aba3a43b-ef9a-4dde-9b78-962e515bd5f3\n",
      "Credential exchange ID : 3a20267f-d384-4d18-9570-814b066770ce\n",
      "Agent Protocol Role :  holder\n",
      "Protocol State :  request_sent\n",
      "\n",
      "---------------------------------------------------\n",
      "\n",
      "Handle Credential Webhook Payload\n",
      "\n",
      "A credential request object contains the commitment to the agents master secret using the nonce from the offer\n",
      "\n",
      "---------------------------------------------------\n",
      "\n",
      "Handle Issue Credential Webhook\n",
      "Connection ID : aba3a43b-ef9a-4dde-9b78-962e515bd5f3\n",
      "Credential exchange ID : 3a20267f-d384-4d18-9570-814b066770ce\n",
      "Agent Protocol Role :  holder\n",
      "Protocol State :  credential_received\n",
      "\n",
      "---------------------------------------------------\n",
      "\n",
      "Handle Credential Webhook Payload\n",
      "Received Credential\n"
     ]
    }
   ],
   "source": [
    "# Send request for VC\n",
    "await agent_controller.issuer.send_request_for_record(record_id)"
   ]
  },
  {
   "cell_type": "markdown",
   "id": "135fafca",
   "metadata": {},
   "source": [
    "### 3.3 – Store received VC in wallet\n",
    "\n",
    "This will be done automatically if the ACAPY_AUTO_STORE_CREDENTIAL=true flag is set in the .env file for this agent. Default is false.\n",
    "\n",
    "Again you could handle this in your holder handler function in the `elif state == \"credential_received\":` loop."
   ]
  },
  {
   "cell_type": "code",
   "execution_count": 15,
   "id": "c067dd93",
   "metadata": {},
   "outputs": [
    {
     "name": "stderr",
     "output_type": "stream",
     "text": [
      "ERROR:__name__:Error during POST /issue-credential/records/3a20267f-d384-4d18-9570-814b066770ce/store: 400, message='Error when storing credential in wallet: Error: Wallet item already exists. Caused by: Wallet item already exists with type: Indy::Credential, id: isCityAgency-VC. WalletItemAlreadyExists.', url=URL('http://city-agent:3021/issue-credential/records/3a20267f-d384-4d18-9570-814b066770ce/store')\n"
     ]
    },
    {
     "ename": "ClientResponseError",
     "evalue": "400, message='Error when storing credential in wallet: Error: Wallet item already exists. Caused by: Wallet item already exists with type: Indy::Credential, id: isCityAgency-VC. WalletItemAlreadyExists.', url=URL('http://city-agent:3021/issue-credential/records/3a20267f-d384-4d18-9570-814b066770ce/store')",
     "output_type": "error",
     "traceback": [
      "\u001B[0;31m---------------------------------------------------------------------------\u001B[0m",
      "\u001B[0;31mClientResponseError\u001B[0m                       Traceback (most recent call last)",
      "\u001B[0;32m/tmp/ipykernel_44/3732274887.py\u001B[0m in \u001B[0;36m<module>\u001B[0;34m\u001B[0m\n\u001B[1;32m      1\u001B[0m \u001B[0mcredential_id\u001B[0m \u001B[0;34m=\u001B[0m \u001B[0;34m\"isCityAgency-VC\"\u001B[0m\u001B[0;34m\u001B[0m\u001B[0;34m\u001B[0m\u001B[0m\n\u001B[0;32m----> 2\u001B[0;31m \u001B[0mstore_cred_response\u001B[0m \u001B[0;34m=\u001B[0m \u001B[0;32mawait\u001B[0m \u001B[0magent_controller\u001B[0m\u001B[0;34m.\u001B[0m\u001B[0missuer\u001B[0m\u001B[0;34m.\u001B[0m\u001B[0mstore_credential\u001B[0m\u001B[0;34m(\u001B[0m\u001B[0mrecord_id\u001B[0m\u001B[0;34m,\u001B[0m \u001B[0mcredential_id\u001B[0m\u001B[0;34m)\u001B[0m\u001B[0;34m\u001B[0m\u001B[0;34m\u001B[0m\u001B[0m\n\u001B[0m",
      "\u001B[0;32m/opt/conda/lib/python3.9/site-packages/aries_cloudcontroller/controllers/issuer.py\u001B[0m in \u001B[0;36mstore_credential\u001B[0;34m(self, cred_ex_id, credential_id)\u001B[0m\n\u001B[1;32m    161\u001B[0m         \u001B[0;32mif\u001B[0m \u001B[0mcredential_id\u001B[0m\u001B[0;34m:\u001B[0m\u001B[0;34m\u001B[0m\u001B[0;34m\u001B[0m\u001B[0m\n\u001B[1;32m    162\u001B[0m             \u001B[0mbody\u001B[0m\u001B[0;34m[\u001B[0m\u001B[0;34m\"credential_id\"\u001B[0m\u001B[0;34m]\u001B[0m \u001B[0;34m=\u001B[0m \u001B[0mcredential_id\u001B[0m\u001B[0;34m\u001B[0m\u001B[0;34m\u001B[0m\u001B[0m\n\u001B[0;32m--> 163\u001B[0;31m         return await self.admin_POST(\n\u001B[0m\u001B[1;32m    164\u001B[0m             \u001B[0;34mf\"{self.base_url}/records/{cred_ex_id}/store\"\u001B[0m\u001B[0;34m,\u001B[0m \u001B[0mjson_data\u001B[0m\u001B[0;34m=\u001B[0m\u001B[0mbody\u001B[0m\u001B[0;34m\u001B[0m\u001B[0;34m\u001B[0m\u001B[0m\n\u001B[1;32m    165\u001B[0m         )\n",
      "\u001B[0;32m/opt/conda/lib/python3.9/site-packages/aries_cloudcontroller/controllers/base.py\u001B[0m in \u001B[0;36madmin_POST\u001B[0;34m(self, path, json_data, text, params, data)\u001B[0m\n\u001B[1;32m     75\u001B[0m                 \u001B[0;34m(\u001B[0m\u001B[0;34m\" with data: \\n{}\"\u001B[0m\u001B[0;34m.\u001B[0m\u001B[0mformat\u001B[0m\u001B[0;34m(\u001B[0m\u001B[0mrepr_json\u001B[0m\u001B[0;34m(\u001B[0m\u001B[0mjson_data\u001B[0m\u001B[0;34m)\u001B[0m\u001B[0;34m)\u001B[0m \u001B[0;32mif\u001B[0m \u001B[0mjson_data\u001B[0m \u001B[0;32melse\u001B[0m \u001B[0;34m\"\"\u001B[0m\u001B[0;34m)\u001B[0m\u001B[0;34m,\u001B[0m\u001B[0;34m\u001B[0m\u001B[0;34m\u001B[0m\u001B[0m\n\u001B[1;32m     76\u001B[0m             )\n\u001B[0;32m---> 77\u001B[0;31m             response = await self.admin_request(\n\u001B[0m\u001B[1;32m     78\u001B[0m                 \u001B[0;34m\"POST\"\u001B[0m\u001B[0;34m,\u001B[0m \u001B[0mpath\u001B[0m\u001B[0;34m,\u001B[0m \u001B[0mjson_data\u001B[0m\u001B[0;34m,\u001B[0m \u001B[0mtext\u001B[0m\u001B[0;34m,\u001B[0m \u001B[0mparams\u001B[0m\u001B[0;34m,\u001B[0m \u001B[0mdata\u001B[0m\u001B[0;34m\u001B[0m\u001B[0;34m\u001B[0m\u001B[0m\n\u001B[1;32m     79\u001B[0m             )\n",
      "\u001B[0;32m/opt/conda/lib/python3.9/site-packages/aries_cloudcontroller/controllers/base.py\u001B[0m in \u001B[0;36madmin_request\u001B[0;34m(self, method, path, json_data, text, params, data)\u001B[0m\n\u001B[1;32m     41\u001B[0m             \u001B[0mmethod\u001B[0m\u001B[0;34m,\u001B[0m \u001B[0mself\u001B[0m\u001B[0;34m.\u001B[0m\u001B[0madmin_url\u001B[0m \u001B[0;34m+\u001B[0m \u001B[0mpath\u001B[0m\u001B[0;34m,\u001B[0m \u001B[0mjson\u001B[0m\u001B[0;34m=\u001B[0m\u001B[0mjson_data\u001B[0m\u001B[0;34m,\u001B[0m \u001B[0mparams\u001B[0m\u001B[0;34m=\u001B[0m\u001B[0mparams\u001B[0m\u001B[0;34m,\u001B[0m \u001B[0mdata\u001B[0m\u001B[0;34m=\u001B[0m\u001B[0mdata\u001B[0m\u001B[0;34m\u001B[0m\u001B[0;34m\u001B[0m\u001B[0m\n\u001B[1;32m     42\u001B[0m         ) as resp:\n\u001B[0;32m---> 43\u001B[0;31m             \u001B[0mresp\u001B[0m\u001B[0;34m.\u001B[0m\u001B[0mraise_for_status\u001B[0m\u001B[0;34m(\u001B[0m\u001B[0;34m)\u001B[0m\u001B[0;34m\u001B[0m\u001B[0;34m\u001B[0m\u001B[0m\n\u001B[0m\u001B[1;32m     44\u001B[0m             \u001B[0mresp_text\u001B[0m \u001B[0;34m=\u001B[0m \u001B[0;32mawait\u001B[0m \u001B[0mresp\u001B[0m\u001B[0;34m.\u001B[0m\u001B[0mtext\u001B[0m\u001B[0;34m(\u001B[0m\u001B[0;34m)\u001B[0m\u001B[0;34m\u001B[0m\u001B[0;34m\u001B[0m\u001B[0m\n\u001B[1;32m     45\u001B[0m             \u001B[0;32mif\u001B[0m \u001B[0;32mnot\u001B[0m \u001B[0mresp_text\u001B[0m \u001B[0;32mand\u001B[0m \u001B[0;32mnot\u001B[0m \u001B[0mtext\u001B[0m\u001B[0;34m:\u001B[0m\u001B[0;34m\u001B[0m\u001B[0;34m\u001B[0m\u001B[0m\n",
      "\u001B[0;32m/opt/conda/lib/python3.9/site-packages/aiohttp/client_reqrep.py\u001B[0m in \u001B[0;36mraise_for_status\u001B[0;34m(self)\u001B[0m\n\u001B[1;32m    998\u001B[0m             \u001B[0;32massert\u001B[0m \u001B[0mself\u001B[0m\u001B[0;34m.\u001B[0m\u001B[0mreason\u001B[0m \u001B[0;32mis\u001B[0m \u001B[0;32mnot\u001B[0m \u001B[0;32mNone\u001B[0m\u001B[0;34m\u001B[0m\u001B[0;34m\u001B[0m\u001B[0m\n\u001B[1;32m    999\u001B[0m             \u001B[0mself\u001B[0m\u001B[0;34m.\u001B[0m\u001B[0mrelease\u001B[0m\u001B[0;34m(\u001B[0m\u001B[0;34m)\u001B[0m\u001B[0;34m\u001B[0m\u001B[0;34m\u001B[0m\u001B[0m\n\u001B[0;32m-> 1000\u001B[0;31m             raise ClientResponseError(\n\u001B[0m\u001B[1;32m   1001\u001B[0m                 \u001B[0mself\u001B[0m\u001B[0;34m.\u001B[0m\u001B[0mrequest_info\u001B[0m\u001B[0;34m,\u001B[0m\u001B[0;34m\u001B[0m\u001B[0;34m\u001B[0m\u001B[0m\n\u001B[1;32m   1002\u001B[0m                 \u001B[0mself\u001B[0m\u001B[0;34m.\u001B[0m\u001B[0mhistory\u001B[0m\u001B[0;34m,\u001B[0m\u001B[0;34m\u001B[0m\u001B[0;34m\u001B[0m\u001B[0m\n",
      "\u001B[0;31mClientResponseError\u001B[0m: 400, message='Error when storing credential in wallet: Error: Wallet item already exists. Caused by: Wallet item already exists with type: Indy::Credential, id: isCityAgency-VC. WalletItemAlreadyExists.', url=URL('http://city-agent:3021/issue-credential/records/3a20267f-d384-4d18-9570-814b066770ce/store')"
     ]
    },
    {
     "name": "stderr",
     "output_type": "stream",
     "text": [
      "WARNING:aries_cloudcontroller.aries_webhook_server:Handling webhooks failed! KeyError('state') occurred when trying to handle this topic: issue_credential\n",
      "WARNING:aries_cloudcontroller.aries_webhook_server:Receiving webhooks failed! KeyError('state') occurred.\n",
      "ERROR:aiohttp.server:Error handling request\n",
      "Traceback (most recent call last):\n",
      "  File \"/opt/conda/lib/python3.9/site-packages/aiohttp/web_protocol.py\", line 422, in _handle_request\n",
      "    resp = await self._request_handler(request)\n",
      "  File \"/opt/conda/lib/python3.9/site-packages/aiohttp/web_app.py\", line 499, in _handle\n",
      "    resp = await handler(request)\n",
      "  File \"/opt/conda/lib/python3.9/site-packages/aries_cloudcontroller/aries_webhook_server.py\", line 85, in _receive_webhook\n",
      "    await self._handle_webhook(wallet_id, topic, payload)\n",
      "  File \"/opt/conda/lib/python3.9/site-packages/aries_cloudcontroller/aries_webhook_server.py\", line 108, in _handle_webhook\n",
      "    pub.sendMessage(pub_topic_path, payload=payload)\n",
      "  File \"/opt/conda/lib/python3.9/site-packages/pubsub/core/publisher.py\", line 216, in sendMessage\n",
      "    topicObj.publish(**msgData)\n",
      "  File \"/opt/conda/lib/python3.9/site-packages/pubsub/core/topicobj.py\", line 452, in publish\n",
      "    self.__sendMessage(msgData, topicObj, msgDataSubset)\n",
      "  File \"/opt/conda/lib/python3.9/site-packages/pubsub/core/topicobj.py\", line 482, in __sendMessage\n",
      "    listener(data, self, allData)\n",
      "  File \"/opt/conda/lib/python3.9/site-packages/pubsub/core/listener.py\", line 237, in __call__\n",
      "    cb(**kwargs)\n",
      "  File \"/tmp/ipykernel_44/3503404827.py\", line 35, in holder_handler\n",
      "    state = payload['state']\n",
      "KeyError: 'state'\n",
      "WARNING:aries_cloudcontroller.aries_webhook_server:Handling webhooks failed! KeyError('state') occurred when trying to handle this topic: issue_credential\n",
      "WARNING:aries_cloudcontroller.aries_webhook_server:Receiving webhooks failed! KeyError('state') occurred.\n",
      "ERROR:aiohttp.server:Error handling request\n",
      "Traceback (most recent call last):\n",
      "  File \"/opt/conda/lib/python3.9/site-packages/aiohttp/web_protocol.py\", line 422, in _handle_request\n",
      "    resp = await self._request_handler(request)\n",
      "  File \"/opt/conda/lib/python3.9/site-packages/aiohttp/web_app.py\", line 499, in _handle\n",
      "    resp = await handler(request)\n",
      "  File \"/opt/conda/lib/python3.9/site-packages/aries_cloudcontroller/aries_webhook_server.py\", line 85, in _receive_webhook\n",
      "    await self._handle_webhook(wallet_id, topic, payload)\n",
      "  File \"/opt/conda/lib/python3.9/site-packages/aries_cloudcontroller/aries_webhook_server.py\", line 108, in _handle_webhook\n",
      "    pub.sendMessage(pub_topic_path, payload=payload)\n",
      "  File \"/opt/conda/lib/python3.9/site-packages/pubsub/core/publisher.py\", line 216, in sendMessage\n",
      "    topicObj.publish(**msgData)\n",
      "  File \"/opt/conda/lib/python3.9/site-packages/pubsub/core/topicobj.py\", line 452, in publish\n",
      "    self.__sendMessage(msgData, topicObj, msgDataSubset)\n",
      "  File \"/opt/conda/lib/python3.9/site-packages/pubsub/core/topicobj.py\", line 482, in __sendMessage\n",
      "    listener(data, self, allData)\n",
      "  File \"/opt/conda/lib/python3.9/site-packages/pubsub/core/listener.py\", line 237, in __call__\n",
      "    cb(**kwargs)\n",
      "  File \"/tmp/ipykernel_44/3503404827.py\", line 35, in holder_handler\n",
      "    state = payload['state']\n",
      "KeyError: 'state'\n",
      "WARNING:aries_cloudcontroller.aries_webhook_server:Handling webhooks failed! KeyError('state') occurred when trying to handle this topic: issue_credential\n",
      "WARNING:aries_cloudcontroller.aries_webhook_server:Receiving webhooks failed! KeyError('state') occurred.\n",
      "ERROR:aiohttp.server:Error handling request\n",
      "Traceback (most recent call last):\n",
      "  File \"/opt/conda/lib/python3.9/site-packages/aiohttp/web_protocol.py\", line 422, in _handle_request\n",
      "    resp = await self._request_handler(request)\n",
      "  File \"/opt/conda/lib/python3.9/site-packages/aiohttp/web_app.py\", line 499, in _handle\n",
      "    resp = await handler(request)\n",
      "  File \"/opt/conda/lib/python3.9/site-packages/aries_cloudcontroller/aries_webhook_server.py\", line 85, in _receive_webhook\n",
      "    await self._handle_webhook(wallet_id, topic, payload)\n",
      "  File \"/opt/conda/lib/python3.9/site-packages/aries_cloudcontroller/aries_webhook_server.py\", line 108, in _handle_webhook\n",
      "    pub.sendMessage(pub_topic_path, payload=payload)\n",
      "  File \"/opt/conda/lib/python3.9/site-packages/pubsub/core/publisher.py\", line 216, in sendMessage\n",
      "    topicObj.publish(**msgData)\n",
      "  File \"/opt/conda/lib/python3.9/site-packages/pubsub/core/topicobj.py\", line 452, in publish\n",
      "    self.__sendMessage(msgData, topicObj, msgDataSubset)\n",
      "  File \"/opt/conda/lib/python3.9/site-packages/pubsub/core/topicobj.py\", line 482, in __sendMessage\n",
      "    listener(data, self, allData)\n",
      "  File \"/opt/conda/lib/python3.9/site-packages/pubsub/core/listener.py\", line 237, in __call__\n",
      "    cb(**kwargs)\n",
      "  File \"/tmp/ipykernel_44/3503404827.py\", line 35, in holder_handler\n",
      "    state = payload['state']\n",
      "KeyError: 'state'\n",
      "WARNING:aries_cloudcontroller.aries_webhook_server:Handling webhooks failed! KeyError('state') occurred when trying to handle this topic: issue_credential\n",
      "WARNING:aries_cloudcontroller.aries_webhook_server:Receiving webhooks failed! KeyError('state') occurred.\n",
      "ERROR:aiohttp.server:Error handling request\n",
      "Traceback (most recent call last):\n",
      "  File \"/opt/conda/lib/python3.9/site-packages/aiohttp/web_protocol.py\", line 422, in _handle_request\n",
      "    resp = await self._request_handler(request)\n",
      "  File \"/opt/conda/lib/python3.9/site-packages/aiohttp/web_app.py\", line 499, in _handle\n",
      "    resp = await handler(request)\n",
      "  File \"/opt/conda/lib/python3.9/site-packages/aries_cloudcontroller/aries_webhook_server.py\", line 85, in _receive_webhook\n",
      "    await self._handle_webhook(wallet_id, topic, payload)\n",
      "  File \"/opt/conda/lib/python3.9/site-packages/aries_cloudcontroller/aries_webhook_server.py\", line 108, in _handle_webhook\n",
      "    pub.sendMessage(pub_topic_path, payload=payload)\n",
      "  File \"/opt/conda/lib/python3.9/site-packages/pubsub/core/publisher.py\", line 216, in sendMessage\n",
      "    topicObj.publish(**msgData)\n",
      "  File \"/opt/conda/lib/python3.9/site-packages/pubsub/core/topicobj.py\", line 452, in publish\n",
      "    self.__sendMessage(msgData, topicObj, msgDataSubset)\n",
      "  File \"/opt/conda/lib/python3.9/site-packages/pubsub/core/topicobj.py\", line 482, in __sendMessage\n",
      "    listener(data, self, allData)\n",
      "  File \"/opt/conda/lib/python3.9/site-packages/pubsub/core/listener.py\", line 237, in __call__\n",
      "    cb(**kwargs)\n",
      "  File \"/tmp/ipykernel_44/3503404827.py\", line 35, in holder_handler\n",
      "    state = payload['state']\n",
      "KeyError: 'state'\n",
      "WARNING:aries_cloudcontroller.aries_webhook_server:Handling webhooks failed! KeyError('state') occurred when trying to handle this topic: issue_credential\n",
      "WARNING:aries_cloudcontroller.aries_webhook_server:Receiving webhooks failed! KeyError('state') occurred.\n",
      "ERROR:aiohttp.server:Error handling request\n",
      "Traceback (most recent call last):\n",
      "  File \"/opt/conda/lib/python3.9/site-packages/aiohttp/web_protocol.py\", line 422, in _handle_request\n",
      "    resp = await self._request_handler(request)\n",
      "  File \"/opt/conda/lib/python3.9/site-packages/aiohttp/web_app.py\", line 499, in _handle\n",
      "    resp = await handler(request)\n",
      "  File \"/opt/conda/lib/python3.9/site-packages/aries_cloudcontroller/aries_webhook_server.py\", line 85, in _receive_webhook\n",
      "    await self._handle_webhook(wallet_id, topic, payload)\n",
      "  File \"/opt/conda/lib/python3.9/site-packages/aries_cloudcontroller/aries_webhook_server.py\", line 108, in _handle_webhook\n",
      "    pub.sendMessage(pub_topic_path, payload=payload)\n",
      "  File \"/opt/conda/lib/python3.9/site-packages/pubsub/core/publisher.py\", line 216, in sendMessage\n",
      "    topicObj.publish(**msgData)\n",
      "  File \"/opt/conda/lib/python3.9/site-packages/pubsub/core/topicobj.py\", line 452, in publish\n",
      "    self.__sendMessage(msgData, topicObj, msgDataSubset)\n",
      "  File \"/opt/conda/lib/python3.9/site-packages/pubsub/core/topicobj.py\", line 482, in __sendMessage\n",
      "    listener(data, self, allData)\n",
      "  File \"/opt/conda/lib/python3.9/site-packages/pubsub/core/listener.py\", line 237, in __call__\n",
      "    cb(**kwargs)\n",
      "  File \"/tmp/ipykernel_44/3503404827.py\", line 35, in holder_handler\n",
      "    state = payload['state']\n",
      "KeyError: 'state'\n"
     ]
    }
   ],
   "source": [
    "credential_id = \"isCityAgency-VC\"\n",
    "store_cred_response = await agent_controller.issuer.store_credential(record_id, credential_id)"
   ]
  },
  {
   "cell_type": "markdown",
   "id": "246a3654",
   "metadata": {},
   "source": [
    "## Terminate Controller\n",
    "\n",
    "Whenever you have finished with this notebook, be sure to terminate the controller. This is especially important if your business logic runs across multiple notebooks."
   ]
  },
  {
   "cell_type": "code",
   "execution_count": 27,
   "id": "2e6d6af6",
   "metadata": {},
   "outputs": [],
   "source": [
    "await agent_controller.terminate()"
   ]
  },
  {
   "cell_type": "code",
   "execution_count": null,
   "id": "bd05d4d7",
   "metadata": {},
   "outputs": [],
   "source": []
  }
 ],
 "metadata": {
  "kernelspec": {
   "display_name": "Python 3 (ipykernel)",
   "language": "python",
   "name": "python3"
  },
  "language_info": {
   "codemirror_mode": {
    "name": "ipython",
    "version": 3
   },
   "file_extension": ".py",
   "mimetype": "text/x-python",
   "name": "python",
   "nbconvert_exporter": "python",
   "pygments_lexer": "ipython3",
   "version": "3.9.5"
  }
 },
 "nbformat": 4,
 "nbformat_minor": 5
}