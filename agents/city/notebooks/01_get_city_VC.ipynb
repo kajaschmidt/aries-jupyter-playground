{
 "cells": [
  {
   "cell_type": "markdown",
   "id": "76086ad8",
   "metadata": {},
   "source": [
    "# PETs/TETs – Hyperledger Aries – City (Holder) 🏙️"
   ]
  },
  {
   "cell_type": "code",
   "execution_count": 1,
   "id": "831baef7",
   "metadata": {
    "pycharm": {
     "name": "#%%\n"
    }
   },
   "outputs": [
    {
     "data": {
      "application/javascript": [
       "document.title ='🏙️ City Agent'\n"
      ],
      "text/plain": [
       "<IPython.core.display.Javascript object>"
      ]
     },
     "metadata": {},
     "output_type": "display_data"
    }
   ],
   "source": [
    "%%javascript\n",
    "document.title ='🏙️ City'"
   ]
  },
  {
   "cell_type": "markdown",
   "id": "0a8351f2",
   "metadata": {
    "pycharm": {
     "name": "#%% md\n"
    }
   },
   "source": [
    "## PART 2: Issue a VC to the City Agent\n",
    "\n",
    "**What:** Receive and store verifiable credential (VC) from the authority agent (i.e., the issuing authority)\n",
    "\n",
    "**Why:** To prove that the agent is a City to relying parties (e.g., the city agent)\n",
    "\n",
    "**How:** <br>\n",
    "1. [Initiate City's AgentCommunicationManager (ACM)](#1)\n",
    "2. [Connect with the Authority agent](#2)\n",
    "3. [Get VC from Authority](#3)\n",
    "\n",
    "\n",
    "**Accompanying Agents and Notebooks:** \n",
    "* Authority 🏛️: `02_issue_VC_city.ipynb`"
   ]
  },
  {
   "cell_type": "markdown",
   "id": "6f7b52be",
   "metadata": {
    "pycharm": {
     "name": "#%% md\n"
    }
   },
   "source": [
    "---\n",
    "\n",
    "### 0 - Setup\n",
    "#### 0.1 - Imports"
   ]
  },
  {
   "cell_type": "code",
   "execution_count": null,
   "id": "81d91ab3",
   "metadata": {
    "pycharm": {
     "name": "#%%\n"
    }
   },
   "outputs": [],
   "source": [
    "import os\n",
    "\n",
    "from aries_cloudcontroller import AriesAgentController\n",
    "\n",
    "import libs.helpers as helpers\n",
    "from libs.agent_connection_manager import CredentialHolder"
   ]
  },
  {
   "cell_type": "markdown",
   "id": "4c46aed4",
   "metadata": {
    "pycharm": {
     "name": "#%% md\n"
    }
   },
   "source": [
    "#### 0.2 – Variables"
   ]
  },
  {
   "cell_type": "code",
   "execution_count": null,
   "id": "32a660cd",
   "metadata": {
    "pycharm": {
     "name": "#%%\n"
    }
   },
   "outputs": [],
   "source": [
    "# Get relevant details from .env file\n",
    "api_key = os.getenv(\"ACAPY_ADMIN_API_KEY\")\n",
    "admin_url = os.getenv(\"ADMIN_URL\")\n",
    "webhook_port = int(os.getenv(\"WEBHOOK_PORT\"))\n",
    "webhook_host = \"0.0.0.0\""
   ]
  },
  {
   "cell_type": "markdown",
   "id": "bb6ba0c7",
   "metadata": {
    "pycharm": {
     "name": "#%% md\n"
    }
   },
   "source": [
    "--- \n",
    "\n",
    "<a id=1></a>\n",
    "\n",
    "### 1 – Initiate City Agent\n",
    "#### 1.1 – Init ACA-PY agent controller"
   ]
  },
  {
   "cell_type": "code",
   "execution_count": null,
   "id": "6977ed34",
   "metadata": {
    "pycharm": {
     "name": "#%%\n"
    }
   },
   "outputs": [],
   "source": [
    "# Setup\n",
    "agent_controller = AriesAgentController(admin_url,api_key)\n",
    "print(f\"Initialising a controller with admin api at {admin_url} and an api key of {api_key}\")"
   ]
  },
  {
   "cell_type": "markdown",
   "id": "d30b7084",
   "metadata": {
    "pycharm": {
     "name": "#%% md\n"
    }
   },
   "source": [
    "#### 1.2 – Start Webhook Server to enable communication with other agents\n",
    "@todo: is communication with other agents, or with other docker containers?"
   ]
  },
  {
   "cell_type": "code",
   "execution_count": null,
   "id": "526fdc97",
   "metadata": {
    "pycharm": {
     "name": "#%%\n"
    }
   },
   "outputs": [],
   "source": [
    "# Listen on webhook server\n",
    "await agent_controller.init_webhook_server(webhook_host, webhook_port)\n",
    "print(f\"Listening for webhooks from agent at http://{webhook_host}:{webhook_port}\")"
   ]
  },
  {
   "cell_type": "markdown",
   "id": "1d348eef",
   "metadata": {
    "pycharm": {
     "name": "#%% md\n"
    }
   },
   "source": [
    "#### 1.3 – Init ACM issuing authority"
   ]
  },
  {
   "cell_type": "code",
   "execution_count": null,
   "id": "57463525",
   "metadata": {
    "pycharm": {
     "name": "#%%\n"
    }
   },
   "outputs": [],
   "source": [
    "# The CredentialHolder registers relevant webhook servers and event listeners\n",
    "city_agent = CredentialHolder(agent_controller)"
   ]
  },
  {
   "cell_type": "markdown",
   "id": "0803566d",
   "metadata": {
    "pycharm": {
     "name": "#%% md\n"
    }
   },
   "source": [
    "---\n",
    "\n",
    "<a id=2></a>\n",
    "\n",
    "### 2 – Establish a connection with the Authority agent\n",
    "A connection with the credential issuer (i.e., the authority agent) must be established before a VC can be received. In this scenario, the City requests a connection with the Authority to be certified as an official city agency. Thus, the City agent sends an invitation to the Authority. In real life, the invitation can be shared via video call, phone call, or E-Mail. In this PoC, this is represented by copy and pasting the invitation into the city' notebooks.\n",
    "\n",
    "#### 2.1 Create invitation to Authority agent\n",
    "\n",
    "\n",
    "Several state changes of the connection between the City agent, the inviter (A), and the authority agent, the invitee (B),  are required before successfully establishing a connection: \n",
    "\n",
    "| Step | State | Agent | Description | Function/Prompt/Variable |\n",
    "| --- | --- | --- | --- | --- |\n",
    "| 1 | invitation-sent | A | A sent an invitation to B | `create_connection_invitation()`\n",
    "| 2 | invitation-received | B | B receives the invitation of A | Prompt: Paste invitation from A |\n",
    "| 3 | request-sent | B | B sends B connection request | Prompt: Accept invitation OR `auto_accept=True` |\n",
    "| 4 | request-received | A | A receives the connection request from B | Prompt: Accept invitation request response OR `auto_accept=True` |\n",
    "| 5 | response-sent | A | A sends B response to B | - |\n",
    "| 6 | response-received | B | B receives the response from A | - |\n",
    "| 7 | active (completed) | A | B pings A to finalize connection | Prompt: Trust ping OR `auto_ping=True` |"
   ]
  },
  {
   "cell_type": "code",
   "execution_count": null,
   "id": "e7787ec7",
   "metadata": {
    "pycharm": {
     "name": "#%%\n"
    }
   },
   "outputs": [],
   "source": [
    "# Variables\n",
    "alias = None\n",
    "auto_accept= True\n",
    "label = None\n",
    "\n",
    "# Receive connection invitation\n",
    "connection_id = city_agent.receive_connection_invitation(alias=alias, auto_accept=auto_accept, label=label)\n"
   ]
  },
  {
   "cell_type": "markdown",
   "id": "277f56a1",
   "metadata": {},
   "source": [
    "<div style=\"font-size: 25px\"><center><b>Break Point 2</b></center></div>\n",
    "<div style=\"font-size: 50px\"><center>🏙️ ➡️ 🏛</center></div><br>\n",
    "<center>Please switch to the Authority agent 🏛: open 02_issue_VC_city.ipynb, and run all cells until Break Point 2. Please paste the invitation in Step 2.1 when prompted. If auto_accept is set to False, enter \"yes\" when prompted before proceeding.</center>\n",
    "\n",
    "---\n",
    "\n",
    "<a id=3></a>\n",
    "### 3 – Request VC from `Authority` agent\n",
    "#### 3.1 – Message `Authority` with request"
   ]
  },
  {
   "cell_type": "code",
   "execution_count": null,
   "id": "5dc1b581",
   "metadata": {},
   "outputs": [],
   "source": [
    "# Verify inbox\n",
    "message_ids = city_agent.verify_inbox()\n",
    "\n",
    "for m_id in message_ids:\n",
    "    city_agent.get_message(m_id)"
   ]
  },
  {
   "cell_type": "markdown",
   "id": "0a0a19f2",
   "metadata": {
    "pycharm": {
     "name": "#%% md\n"
    }
   },
   "source": [
    "#### 3.2 – Send response to authority agent"
   ]
  },
  {
   "cell_type": "code",
   "execution_count": null,
   "id": "52e60af6",
   "metadata": {
    "collapsed": false,
    "jupyter": {
     "outputs_hidden": false
    },
    "pycharm": {
     "name": "#%%\n"
    }
   },
   "outputs": [],
   "source": [
    "# Contact authority agent\n",
    "basic_message = '{\"city\": \"Berlin\", \"country\": \"DE\"}'\n",
    "city_agent.send_message(connection_id, basic_message)"
   ]
  },
  {
   "cell_type": "markdown",
   "id": "ebd1c99b",
   "metadata": {
    "pycharm": {
     "name": "#%% md\n"
    }
   },
   "source": [
    "<div style=\"font-size: 25px\"><center><b>Break Point 4</b></center></div>\n",
    "<div style=\"font-size: 50px\"><center>🏙️ ➡️ 🏛</center></div><br>\n",
    "<center>Please switch to the Authority agent 🏛: Proceed with Step 3.2.</center>\n",
    "\n",
    "---\n",
    "\n",
    "#### 3.3 – Respond to Authority's VC offer\n",
    "\n",
    "The following `request_vc()` function wraps multiple functionalities. First, the offer of the Authority agent must be identified using a credential_exchange_id generated for it. Then, City can respond to the offer. The detailed steps and state changes are presented in the table below, whereby I is the Issuer (i.e., the Authority agent) and H is the Holder (i.e., the City agent)\n",
    "\n",
    "| Step | State | Role | Description | Function/Prompt/Variable |\n",
    "| --- | --- | --- | --- | --- |\n",
    "| 1 | offer_sent | I | I sends I VC offer with personalized information to H| `offer_vc()` |\n",
    "| 2 | offer_received | H | H receives offer made by I | - |\n",
    "| 3 | request_sent | H | Request VC offer | `request_vc()` AND (Prompt: request VC OR `auto_request=True`) |\n",
    "| 4 | request_received | I | M1's request to get VC was received | - |\n",
    "| 5 | credential_issued | I | Automatic response to issue credential | - |\n",
    "| 6 | credential_received | H| H receives VC and is asked to store it | Prompt: Store VC OR `auto_store=True`\n",
    "| 7 | credential_acked | I / H | Credential was issued and stored | - |"
   ]
  },
  {
   "cell_type": "code",
   "execution_count": null,
   "id": "e431829d",
   "metadata": {
    "pycharm": {
     "name": "#%%\n"
    }
   },
   "outputs": [],
   "source": [
    "# Get schema_id of city_schema to find the correct credential_exchange_id\n",
    "identifiers = helpers.get_identifiers()\n",
    "schema_id = identifiers[\"city_schema_identifiers\"][\"schema_id\"]\n",
    "\n",
    "# Variables\n",
    "auto_request = False # Authomatically requests VC when offer is found\n",
    "auto_store = False # Automatically stores VC if issued by Authority\n",
    "\n",
    "# Request VC\n",
    "city_agent.request_vc(connection_id, schema_id, auto_request, auto_store)"
   ]
  },
  {
   "cell_type": "markdown",
   "id": "55210540",
   "metadata": {},
   "source": [
    "#### 3.4 – Verify that VC was stored in wallet"
   ]
  },
  {
   "cell_type": "code",
   "execution_count": null,
   "id": "4a145953",
   "metadata": {},
   "outputs": [],
   "source": [
    "city_agent.get_credentials()"
   ]
  },
  {
   "cell_type": "markdown",
   "id": "6acad770",
   "metadata": {},
   "source": [
    "--- \n",
    "\n",
    "### 4 – Terminate Controller\n",
    "\n",
    "Whenever you have finished with this notebook, be sure to terminate the controller. This is especially important if your business logic runs across multiple notebooks."
   ]
  },
  {
   "cell_type": "code",
   "execution_count": null,
   "id": "7b6043d9",
   "metadata": {},
   "outputs": [],
   "source": [
    "await agent_controller.terminate()"
   ]
  },
  {
   "cell_type": "markdown",
   "id": "f8b4321c",
   "metadata": {
    "pycharm": {
     "name": "#%% md\n"
    }
   },
   "source": [
    "<div style=\"font-size: 25px\"><center><b>Break Point 4</b></center></div>\n",
    "<div style=\"font-size: 50px\"><center>🏙️ ➡️ 🏛</center></div><br>\n",
    "<center><b>Please switch to the Authority agent 🏛: Proceed with Step 4</b></center>\n",
    "\n",
    "---\n",
    "\n",
    "## 🔥🔥🔥 You can close this notebook now 🔥🔥🔥"
   ]
  },
  {
   "cell_type": "code",
   "execution_count": null,
   "id": "d9aefba8",
   "metadata": {},
   "outputs": [],
   "source": []
  }
 ],
 "metadata": {
  "kernelspec": {
   "display_name": "Python 3 (ipykernel)",
   "language": "python",
   "name": "python3"
  },
  "language_info": {
   "codemirror_mode": {
    "name": "ipython",
    "version": 3
   },
   "file_extension": ".py",
   "mimetype": "text/x-python",
   "name": "python",
   "nbconvert_exporter": "python",
   "pygments_lexer": "ipython3",
   "version": "3.9.5"
  }
 },
 "nbformat": 4,
 "nbformat_minor": 5
}
