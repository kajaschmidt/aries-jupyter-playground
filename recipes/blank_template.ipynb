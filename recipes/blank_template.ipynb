{
 "cells": [
  {
   "cell_type": "markdown",
   "id": "39f0dfd4",
   "metadata": {},
   "source": [
    "# ACA-Py & ACC-Py Basic Template\n",
    "\n",
    "## Copy this template into the root folder of your notebook workspace to get started"
   ]
  },
  {
   "cell_type": "markdown",
   "id": "75a19c0e",
   "metadata": {},
   "source": [
    "### Imports"
   ]
  },
  {
   "cell_type": "code",
   "execution_count": null,
   "id": "62d3eea4",
   "metadata": {},
   "outputs": [],
   "source": [
    "from aries_cloudcontroller import AriesAgentController\n",
    "import os\n",
    "from termcolor import colored"
   ]
  },
  {
   "cell_type": "markdown",
   "id": "686dd340",
   "metadata": {},
   "source": [
    "### Initialise the Agent Controller"
   ]
  },
  {
   "cell_type": "code",
   "execution_count": null,
   "id": "ac0e7918",
   "metadata": {},
   "outputs": [],
   "source": [
    "api_key = os.getenv(\"ACAPY_ADMIN_API_KEY\")\n",
    "admin_url = os.getenv(\"ADMIN_URL\")\n",
    "\n",
    "print(f\"Initialising a controller with admin api at {admin_url} and an api key of {api_key}\")\n",
    "agent_controller = AriesAgentController(admin_url,api_key)"
   ]
  },
  {
   "cell_type": "markdown",
   "id": "5195fb80",
   "metadata": {},
   "source": [
    "### Start a Webhook Server"
   ]
  },
  {
   "cell_type": "code",
   "execution_count": null,
   "id": "1e938e8d",
   "metadata": {},
   "outputs": [],
   "source": [
    "webhook_port = int(os.getenv(\"WEBHOOK_PORT\"))\n",
    "webhook_host = \"0.0.0.0\"\n",
    "\n",
    "await agent_controller.init_webhook_server(webhook_host, webhook_port)\n",
    "\n",
    "print(f\"Listening for webhooks from agent at http://{webhook_host}:{webhook_port}\")"
   ]
  },
  {
   "cell_type": "markdown",
   "id": "87628e17",
   "metadata": {},
   "source": [
    "## Register Agent Event Listeners\n",
    "\n",
    "You can see some examples within the webhook_listeners recipe. Copy any relevant cells across and customise as needed.\n",
    "\n",
    "Note you do not need to regsiter listeners but it is recommended."
   ]
  },
  {
   "cell_type": "code",
   "execution_count": null,
   "id": "9c1ffb14",
   "metadata": {},
   "outputs": [],
   "source": [
    "listeners = []"
   ]
  },
  {
   "cell_type": "code",
   "execution_count": null,
   "id": "0139063e",
   "metadata": {},
   "outputs": [],
   "source": [
    "## YOUR LISTENERS HERE"
   ]
  },
  {
   "cell_type": "code",
   "execution_count": null,
   "id": "a2996e44",
   "metadata": {},
   "outputs": [],
   "source": [
    "agent_controller.register_listeners(listeners)"
   ]
  },
  {
   "cell_type": "markdown",
   "id": "4538b581",
   "metadata": {},
   "source": [
    "## Write Your Business Logic\n",
    "\n",
    "Develop your business logic however you like. Be sure to check the other recipes for easy examples to get you started. These include:\n",
    "\n",
    "### Credential Issuance (see issuer_template)\n",
    "\n",
    "* Issuer Setup\n",
    "* Request Credential\n",
    "* Issue Credential\n",
    "* Receive Credential\n",
    "\n",
    "### Credential Presentation (see verifier_template)\n",
    "\n",
    "* Request Presentation\n",
    "* Offer Presentation\n",
    "* Send Presentation\n",
    "* Verify Presentation"
   ]
  },
  {
   "cell_type": "code",
   "execution_count": null,
   "id": "64ba966a",
   "metadata": {},
   "outputs": [],
   "source": [
    "## Write your logic"
   ]
  },
  {
   "cell_type": "code",
   "execution_count": null,
   "id": "f3d8f5c8",
   "metadata": {},
   "outputs": [],
   "source": []
  },
  {
   "cell_type": "code",
   "execution_count": null,
   "id": "f6124c59",
   "metadata": {},
   "outputs": [],
   "source": []
  },
  {
   "cell_type": "code",
   "execution_count": null,
   "id": "f3e84cbd",
   "metadata": {},
   "outputs": [],
   "source": []
  },
  {
   "cell_type": "markdown",
   "id": "5e82ffda",
   "metadata": {},
   "source": [
    "## Terminate Controller\n",
    "\n",
    "Whenever you have finished with this notebook, be sure to terminate the controller. This is especially important if your business logic runs across multiple notebooks."
   ]
  },
  {
   "cell_type": "code",
   "execution_count": null,
   "id": "cbfed8b6",
   "metadata": {},
   "outputs": [],
   "source": [
    "await agent_controller.terminate()"
   ]
  },
  {
   "cell_type": "code",
   "execution_count": null,
   "id": "8e55d8d1",
   "metadata": {},
   "outputs": [],
   "source": []
  }
 ],
 "metadata": {
  "kernelspec": {
   "display_name": "Python 3 (ipykernel)",
   "language": "python",
   "name": "python3"
  },
  "language_info": {
   "codemirror_mode": {
    "name": "ipython",
    "version": 3
   },
   "file_extension": ".py",
   "mimetype": "text/x-python",
   "name": "python",
   "nbconvert_exporter": "python",
   "pygments_lexer": "ipython3",
   "version": "3.9.5"
  }
 },
 "nbformat": 4,
 "nbformat_minor": 5
}
