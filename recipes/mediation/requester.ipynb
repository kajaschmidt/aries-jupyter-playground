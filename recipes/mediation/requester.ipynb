{
 "cells": [
  {
   "cell_type": "code",
   "execution_count": null,
   "id": "6caa5c7a",
   "metadata": {},
   "outputs": [],
   "source": [
    "from aries_cloudcontroller import AriesAgentController\n",
    "import os\n",
    "from termcolor import colored\n",
    "import asyncio"
   ]
  },
  {
   "cell_type": "code",
   "execution_count": null,
   "id": "fc91eeb5",
   "metadata": {},
   "outputs": [],
   "source": [
    "api_key = os.getenv(\"ACAPY_ADMIN_API_KEY\")\n",
    "admin_url = os.getenv(\"ADMIN_URL\")\n",
    "\n",
    "print(f\"Initialising a controller with admin api at {admin_url} and an api key of {api_key}\")\n",
    "agent_controller = AriesAgentController(admin_url,api_key)"
   ]
  },
  {
   "cell_type": "code",
   "execution_count": null,
   "id": "4b2416b4",
   "metadata": {},
   "outputs": [],
   "source": [
    "webhook_port = int(os.getenv(\"WEBHOOK_PORT\"))\n",
    "webhook_host = \"0.0.0.0\"\n",
    "\n",
    "await agent_controller.init_webhook_server(webhook_host, webhook_port)\n",
    "\n",
    "print(f\"Listening for webhooks from agent at http://{webhook_host}:{webhook_port}\")"
   ]
  },
  {
   "cell_type": "code",
   "execution_count": null,
   "id": "6d39b955",
   "metadata": {},
   "outputs": [],
   "source": [
    "listeners = []\n",
    "\n",
    "# Receive connection messages\n",
    "def connections_handler(payload):\n",
    "    state = payload['state']\n",
    "    connection_id = payload[\"connection_id\"]\n",
    "    \n",
    "    print(\"----------------------------------------------------------\")\n",
    "    print(\"Connection Webhook Event Received\")\n",
    "    print(\"Connection ID : \", connection_id)\n",
    "    print(\"State : \", state)\n",
    "    print(\"----------------------------------------------------------\")\n",
    "\n",
    "    if state == \"invitation\":\n",
    "        # Your business logic\n",
    "        print(\"invitation\")\n",
    "    elif state == \"request\":\n",
    "        # Your business logic\n",
    "        print(\"request\")\n",
    "    elif state == \"response\":\n",
    "        # Your business logic\n",
    "        print(\"response\")\n",
    "    elif state == \"active\":\n",
    "        # Your business logic\n",
    "        print(colored(\"Connection ID: {0} is now active.\".format(connection_id), \"green\", attrs=[\"bold\"]))\n",
    "\n",
    "\n",
    "\n",
    "connection_listener = {\n",
    "    \"handler\": connections_handler,\n",
    "    \"topic\": \"connections\"\n",
    "}\n",
    "\n",
    "listeners.append(connection_listener)\n",
    "\n",
    "agent_controller.register_listeners(listeners,defaults=True)"
   ]
  },
  {
   "cell_type": "markdown",
   "id": "1874c64a",
   "metadata": {},
   "source": [
    "## Create Invite Before Requesting Mediation\n",
    "\n"
   ]
  },
  {
   "cell_type": "code",
   "execution_count": null,
   "id": "d31c6195",
   "metadata": {},
   "outputs": [],
   "source": [
    "unmediated_invitation = await agent_controller.connections.create_invitation()"
   ]
  },
  {
   "cell_type": "markdown",
   "id": "3bd0f196",
   "metadata": {},
   "source": [
    "## Make Connection with Mediator"
   ]
  },
  {
   "cell_type": "code",
   "execution_count": null,
   "id": "9e5de7ec",
   "metadata": {},
   "outputs": [],
   "source": [
    "mediator_invitation = {'@type': 'did:sov:BzCbsNYhMrjHiqZDTUASHg;spec/connections/1.0/invitation', '@id': 'f5c8f827-7726-4174-ae78-e9d04bf919d1', 'serviceEndpoint': 'http://f3a685129c04.ngrok.io', 'label': 'MediatorAgent', 'recipientKeys': ['5tsFUUjGWCeLcaQQiZJYtr9uBpCWwzT6RFVs3jTXHjW7']}"
   ]
  },
  {
   "cell_type": "code",
   "execution_count": null,
   "id": "721bd511",
   "metadata": {},
   "outputs": [],
   "source": [
    "response = await agent_controller.connections.receive_invitation(mediator_invitation)"
   ]
  },
  {
   "cell_type": "code",
   "execution_count": null,
   "id": "8ea7c455",
   "metadata": {},
   "outputs": [],
   "source": [
    "connection_id = response[\"connection_id\"]\n",
    "print(connection_id)"
   ]
  },
  {
   "cell_type": "markdown",
   "id": "4a24fae8",
   "metadata": {},
   "source": [
    "### Request mediation"
   ]
  },
  {
   "cell_type": "code",
   "execution_count": null,
   "id": "4b4b2cc0",
   "metadata": {},
   "outputs": [],
   "source": [
    "### check state of connection\n",
    "connection = await agent_controller.connections.get_connection(connection_id)\n",
    "\n",
    "# Let's check for the state\n",
    "if connection['state'] != 'active':\n",
    "    print(\"No active connection. \\n Please go back and ensure you have established an active connection between the mediator agent and authority's subwallet agent\")    \n",
    "else:\n",
    "    ## request mediation\n",
    "    mediation_req = await agent_controller.mediation.request_mediation(connection_id)\n",
    "    print(mediation_req)\n",
    "    \n"
   ]
  },
  {
   "cell_type": "markdown",
   "id": "9014015d",
   "metadata": {},
   "source": [
    "## Check Mediation Records\n",
    "\n",
    "State should be \"granted\" if mediator agent has accepted the mediation request"
   ]
  },
  {
   "cell_type": "code",
   "execution_count": null,
   "id": "1831b1f2",
   "metadata": {},
   "outputs": [],
   "source": [
    "### To have a look at the mediation records and we should see our mediation in there\n",
    "response = await agent_controller.mediation.get_mediation_records()\n",
    "print(response)\n",
    "print(f\"State : {response['state']}\")"
   ]
  },
  {
   "cell_type": "markdown",
   "id": "8a5cf3d2",
   "metadata": {},
   "source": [
    "## Set Default Mediator\n",
    "\n",
    "Your agent will automatically use this mediator when creating connections"
   ]
  },
  {
   "cell_type": "code",
   "execution_count": null,
   "id": "2b3d2d31",
   "metadata": {},
   "outputs": [],
   "source": [
    "default_mediation_res = await agent_controller.mediation.set_default_mediator(response[0]['mediation_id'])\n",
    "print(default_mediation_res)"
   ]
  },
  {
   "cell_type": "markdown",
   "id": "72434545",
   "metadata": {},
   "source": [
    "## Create Mediated Connection Invitation"
   ]
  },
  {
   "cell_type": "code",
   "execution_count": null,
   "id": "b3437e5d",
   "metadata": {},
   "outputs": [],
   "source": [
    "mediated_conn_invitation = await agent_controller.connections.create_invitation()\n"
   ]
  },
  {
   "cell_type": "markdown",
   "id": "00eed56f",
   "metadata": {},
   "source": [
    "## See the Difference Between Invitations\n",
    "\n",
    "The mediated connection invitation uses the routing keys and service endpoint provided by the mediator."
   ]
  },
  {
   "cell_type": "code",
   "execution_count": null,
   "id": "777442b9",
   "metadata": {},
   "outputs": [],
   "source": [
    "mediated_routing_keys = mediated_conn_invitation[\"invitation\"][\"routingKeys\"]\n",
    "mediated_endpoint = mediated_conn_invitation[\"invitation\"][\"serviceEndpoint\"]\n",
    "unmediated_routing_key = unmediated_invitation[\"invitation\"][\"routingKeys\"]\n",
    "unmediated_endpoint = unmediated_invitation[\"invitation\"][\"serviceEndpoint\"]\n",
    "\n",
    "print(\"Before Mediation\")\n",
    "print(f\"Endpoint : {unmediated_endpoint}, Routing Keys : {unmediated_routing_key}\")\n",
    "print(\"After Mediation\")\n",
    "print(f\"Endpoint : {mediated_endpoint}, Routing Keys : {mediated_routing_keys}\")"
   ]
  },
  {
   "cell_type": "code",
   "execution_count": null,
   "id": "6639064b",
   "metadata": {},
   "outputs": [],
   "source": []
  }
 ],
 "metadata": {
  "kernelspec": {
   "display_name": "Python 3",
   "language": "python",
   "name": "python3"
  },
  "language_info": {
   "codemirror_mode": {
    "name": "ipython",
    "version": 3
   },
   "file_extension": ".py",
   "mimetype": "text/x-python",
   "name": "python",
   "nbconvert_exporter": "python",
   "pygments_lexer": "ipython3",
   "version": "3.7.6"
  }
 },
 "nbformat": 4,
 "nbformat_minor": 5
}
